{
 "cells": [
  {
   "cell_type": "markdown",
   "metadata": {},
   "source": [
    "# Test Run 13 More Interactive LF Writing\n",
    "In this notebook, we load in ~2K top-tier CS papers and organize this notebook as a material for the LF writing workshop within MegaCognition Lab. "
   ]
  },
  {
   "cell_type": "code",
   "execution_count": 1,
   "metadata": {},
   "outputs": [
    {
     "data": {
      "text/html": [
       "<style>.container { width:85% !important; }</style>"
      ],
      "text/plain": [
       "<IPython.core.display.HTML object>"
      ]
     },
     "metadata": {},
     "output_type": "display_data"
    }
   ],
   "source": [
    "from IPython.core.display import display, HTML\n",
    "display(HTML(\"<style>.container { width:85% !important; }</style>\"))\n",
    "debug_mode=1 # if not in debug mode, please set debug_mode=0, find more info about debug mode in test run 9 maybe?\n",
    "%load_ext autoreload\n",
    "%autoreload 2\n",
    "%matplotlib inline"
   ]
  },
  {
   "cell_type": "markdown",
   "metadata": {},
   "source": [
    "### First, we will connect the Snorkel session to the already created postgres database abstractnetwordworkshop\n",
    "\n",
    "When connection succeed, we will read from the corpus and load documents into the database."
   ]
  },
  {
   "cell_type": "code",
   "execution_count": 2,
   "metadata": {},
   "outputs": [
    {
     "name": "stdout",
     "output_type": "stream",
     "text": [
      "postgresql:///abstractnetwordworkshop\n",
      "snorkel_conn_string postgresql:///abstractnetwordworkshop\n",
      "if snorkel_postgres? True\n"
     ]
    },
    {
     "name": "stderr",
     "output_type": "stream",
     "text": [
      "/anaconda3/lib/python3.6/site-packages/psycopg2/__init__.py:144: UserWarning: The psycopg2 wheel package will be renamed from release 2.8; in order to keep installing from binary please use \"pip install psycopg2-binary\" instead. For details see: <http://initd.org/psycopg/docs/install.html#binary-install-from-pypi>.\n",
      "  \"\"\")\n"
     ]
    },
    {
     "name": "stdout",
     "output_type": "stream",
     "text": [
      "Documents: 2218\n"
     ]
    }
   ],
   "source": [
    "import os\n",
    "os.environ['SNORKELDB'] = \"postgresql:///abstractnetwordworkshop\"\n",
    "print(os.environ['SNORKELDB'])\n",
    "\n",
    "from snorkel import SnorkelSession\n",
    "from snorkel.parser import TSVDocPreprocessor\n",
    "session = SnorkelSession()\n",
    "\n",
    "# # Here, we just set how many documents we'll process for automatic testing- you can safely ignore this!\n",
    "n_docs = 3000 # this is the upper limit of number of docs\n",
    "doc_preprocessor = TSVDocPreprocessor('data/slim-top-tier-citation', encoding=\"utf-8\",max_docs=n_docs)\n",
    "\n",
    "from snorkel.parser.spacy_parser import Spacy\n",
    "from snorkel.parser import CorpusParser\n",
    "\n",
    "# corpus_parser = CorpusParser(parser=Spacy())\n",
    "# %time corpus_parser.apply(doc_preprocessor, count=n_docs)# ,parallelism=5)\n",
    "\n",
    "from snorkel.models import Document, Sentence  # defined in context.py file\n",
    "\n",
    "print(\"Documents:\", session.query(Document).count())"
   ]
  },
  {
   "cell_type": "code",
   "execution_count": 3,
   "metadata": {},
   "outputs": [
    {
     "name": "stdout",
     "output_type": "stream",
     "text": [
      "Documents: 2218\n",
      "Sentences: 18261\n",
      "key 0 count 908\n",
      "key 1 count 918\n",
      "key 2 count 907\n",
      "key 3 count 918\n",
      "key 4 count 928\n",
      "key 5 count 900\n",
      "key 6 count 918\n",
      "key 7 count 920\n",
      "key 8 count 917\n",
      "key 9 count 890\n",
      "key 10 count 929\n",
      "key 11 count 887\n",
      "key 12 count 899\n",
      "key 13 count 919\n",
      "key 14 count 917\n",
      "key 15 count 907\n",
      "key 16 count 891\n",
      "key 17 count 926\n",
      "key 18 count 942\n",
      "key 19 count 920\n"
     ]
    }
   ],
   "source": [
    "from snorkel import SnorkelSession\n",
    "from snorkel.parser.spacy_parser import Spacy\n",
    "from snorkel.parser import CorpusParser\n",
    "from snorkel.models import Document, Sentence\n",
    "from collections import defaultdict\n",
    "import numpy as np\n",
    "\n",
    "session = SnorkelSession()\n",
    "print(\"Documents:\", session.query(Document).count())\n",
    "print(\"Sentences:\", session.query(Sentence).count())\n",
    "\n",
    "docs = session.query(Document).all()\n",
    "sents = session.query(Sentence).all()  # get all sentences from snorkel.db\n",
    "\n",
    "docs_per_bucket=np.ceil(1.0*len(docs)/20)\n",
    "sents_split=defaultdict(lambda:[])\n",
    "for ind, doc in enumerate(docs):\n",
    "    bucket=int(ind/docs_per_bucket)\n",
    "    for s in doc.sentences:\n",
    "        sents_split[bucket]+=[s]\n",
    "        \n",
    "for bucket in sents_split:\n",
    "    print(\"key\",bucket,\"count\",len(sents_split[bucket]))\n"
   ]
  },
  {
   "cell_type": "code",
   "execution_count": 4,
   "metadata": {},
   "outputs": [],
   "source": [
    "# print(sents_split[0][:20])"
   ]
  },
  {
   "cell_type": "code",
   "execution_count": 5,
   "metadata": {
    "scrolled": true
   },
   "outputs": [
    {
     "name": "stdout",
     "output_type": "stream",
     "text": [
      "len(train_segments) 24650\n"
     ]
    }
   ],
   "source": [
    "from snorkel.models import candidate_subclass\n",
    "from snorkel.candidates import Ngrams, CandidateExtractor\n",
    "from snorkel.matchers import *\n",
    "import datetime\n",
    "\n",
    "from IPython.display import Markdown, display\n",
    "def printmd(string):\n",
    "    display(Markdown(string))\n",
    "\n",
    "Unigram = candidate_subclass('Unigram', ['unigram_cue'],values=['PP','MN','NULL'])\n",
    "ngrams = Ngrams(n_max=1) \n",
    "ngram_matcher=NgramMatcher()\n",
    "unigram_segment_extractor=CandidateExtractor(Unigram,[ngrams],[ngram_matcher])\n",
    "\n",
    "train_bucket=0\n",
    "# %time unigram_segment_extractor.apply(sents_split[train_bucket], split=train_bucket)\n",
    "unigram_segments=session.query(Unigram).filter(Unigram.split == train_bucket).all()\n",
    "print(\"len(train_segments)\",len(unigram_segments))"
   ]
  },
  {
   "cell_type": "markdown",
   "metadata": {},
   "source": [
    "### Lets visualize some word-level segments (aka, candidates), specificall, the first 100 words"
   ]
  },
  {
   "cell_type": "code",
   "execution_count": 6,
   "metadata": {},
   "outputs": [
    {
     "data": {
      "application/javascript": [
       "require.undef('viewer');\n",
       "\n",
       "// NOTE: all elements should be selected using this.$el.find to avoid collisions with other Viewers\n",
       "\n",
       "define('viewer', [\"@jupyter-widgets/base\"], function(widgets) {\n",
       "    var ViewerView = widgets.DOMWidgetView.extend({\n",
       "        render: function() {\n",
       "            this.cids   = this.model.get('cids');\n",
       "            this.nPages = this.cids.length;\n",
       "            this.pid  = 0;\n",
       "            this.cxid = 0;\n",
       "            this.cid  = 0;\n",
       "\n",
       "            // Insert the html payload\n",
       "            this.$el.append(this.model.get('html'));\n",
       "\n",
       "            // Initialize all labels from previous sessions\n",
       "            this.labels = this.deserializeDict(this.model.get('_labels_serialized'));\n",
       "            for (var i=0; i < this.nPages; i++) {\n",
       "                this.pid = i;\n",
       "                for (var j=0; j < this.cids[i].length; j++) {\n",
       "                    this.cxid = j;\n",
       "                    for (var k=0; k < this.cids[i][j].length; k++) {\n",
       "                        this.cid = k;\n",
       "                        if (this.cids[i][j][k] in this.labels) {\n",
       "                            this.markCurrentCandidate(false);\n",
       "                        }\n",
       "                    }\n",
       "                }\n",
       "            }\n",
       "            this.pid  = 0;\n",
       "            this.cxid = 0;\n",
       "            this.cid  = 0;\n",
       "\n",
       "            // Enable button functionality for navigation\n",
       "            var that = this;\n",
       "            this.$el.find(\"#next-cand\").click(function() {\n",
       "                that.switchCandidate(1);\n",
       "            });\n",
       "            this.$el.find(\"#prev-cand\").click(function() {\n",
       "                that.switchCandidate(-1);\n",
       "            });\n",
       "            this.$el.find(\"#next-context\").click(function() {\n",
       "                that.switchContext(1);\n",
       "            });\n",
       "            this.$el.find(\"#prev-context\").click(function() {\n",
       "                that.switchContext(-1);\n",
       "            });\n",
       "            this.$el.find(\"#next-page\").click(function() {\n",
       "                that.switchPage(1);\n",
       "            });\n",
       "            this.$el.find(\"#prev-page\").click(function() {\n",
       "                that.switchPage(-1);\n",
       "            });\n",
       "            this.$el.find(\"#label-true\").click(function() {\n",
       "                that.labelCandidate(true, true);\n",
       "            });\n",
       "            this.$el.find(\"#label-false\").click(function() {\n",
       "                that.labelCandidate(false, true);\n",
       "            });\n",
       "\n",
       "            // Arrow key functionality\n",
       "            this.$el.keydown(function(e) {\n",
       "                switch(e.which) {\n",
       "                    case 74: // j\n",
       "                    that.switchCandidate(-1);\n",
       "                    break;\n",
       "\n",
       "                    case 73: // i\n",
       "                    that.switchPage(-1);\n",
       "                    break;\n",
       "\n",
       "                    case 76: // l\n",
       "                    that.switchCandidate(1);\n",
       "                    break;\n",
       "\n",
       "                    case 75: // k\n",
       "                    that.switchPage(1);\n",
       "                    break;\n",
       "\n",
       "                    case 84: // t\n",
       "                    that.labelCandidate(true, true);\n",
       "                    break;\n",
       "\n",
       "                    case 70: // f\n",
       "                    that.labelCandidate(false, true);\n",
       "                    break;\n",
       "                }\n",
       "            });\n",
       "\n",
       "            // Show the first page and highlight the first candidate\n",
       "            this.$el.find(\"#viewer-page-0\").show();\n",
       "            this.switchCandidate(0);\n",
       "        },\n",
       "\n",
       "        // Get candidate selector for currently selected candidate, escaping id properly\n",
       "        getCandidate: function() {\n",
       "            return this.$el.find(\".\"+this.cids[this.pid][this.cxid][this.cid]);\n",
       "        },  \n",
       "\n",
       "        // Color the candidate correctly according to registered label, as well as set highlighting\n",
       "        markCurrentCandidate: function(highlight) {\n",
       "            var cid  = this.cids[this.pid][this.cxid][this.cid];\n",
       "            var tags = this.$el.find(\".\"+cid);\n",
       "\n",
       "            // Clear color classes\n",
       "            tags.removeClass(\"candidate-h\");\n",
       "            tags.removeClass(\"true-candidate\");\n",
       "            tags.removeClass(\"true-candidate-h\");\n",
       "            tags.removeClass(\"false-candidate\");\n",
       "            tags.removeClass(\"false-candidate-h\");\n",
       "            tags.removeClass(\"highlighted\");\n",
       "\n",
       "            if (highlight) {\n",
       "                if (cid in this.labels) {\n",
       "                    tags.addClass(String(this.labels[cid]) + \"-candidate-h\");\n",
       "                } else {\n",
       "                    tags.addClass(\"candidate-h\");\n",
       "                }\n",
       "            \n",
       "            // If un-highlighting, leave with first non-null coloring\n",
       "            } else {\n",
       "                var that = this;\n",
       "                tags.each(function() {\n",
       "                    var cids = $(this).attr('class').split(/\\s+/).map(function(item) {\n",
       "                        return parseInt(item);\n",
       "                    });\n",
       "                    cids.sort();\n",
       "                    for (var i in cids) {\n",
       "                        if (cids[i] in that.labels) {\n",
       "                            var label = that.labels[cids[i]];\n",
       "                            $(this).addClass(String(label) + \"-candidate\");\n",
       "                            $(this).removeClass(String(!label) + \"-candidate\");\n",
       "                            break;\n",
       "                        }\n",
       "                    }\n",
       "                });\n",
       "            }\n",
       "\n",
       "            // Extra highlighting css\n",
       "            if (highlight) {\n",
       "                tags.addClass(\"highlighted\");\n",
       "            }\n",
       "\n",
       "            // Classes for showing direction of relation\n",
       "            if (highlight) {\n",
       "                this.$el.find(\".\"+cid+\"-0\").addClass(\"left-candidate\");\n",
       "                this.$el.find(\".\"+cid+\"-1\").addClass(\"right-candidate\");\n",
       "            } else {\n",
       "                this.$el.find(\".\"+cid+\"-0\").removeClass(\"left-candidate\");\n",
       "                this.$el.find(\".\"+cid+\"-1\").removeClass(\"right-candidate\");\n",
       "            }\n",
       "        },\n",
       "\n",
       "        // Cycle through candidates and highlight, by increment inc\n",
       "        switchCandidate: function(inc) {\n",
       "            var N = this.cids[this.pid].length\n",
       "            var M = this.cids[this.pid][this.cxid].length;\n",
       "            if (N == 0 || M == 0) { return false; }\n",
       "\n",
       "            // Clear highlighting from previous candidate\n",
       "            if (inc != 0) {\n",
       "                this.markCurrentCandidate(false);\n",
       "\n",
       "                // Increment the cid counter\n",
       "\n",
       "                // Move to next context\n",
       "                if (this.cid + inc >= M) {\n",
       "                    while (this.cid + inc >= M) {\n",
       "                        \n",
       "                        // At last context on page, halt\n",
       "                        if (this.cxid == N - 1) {\n",
       "                            this.cid = M - 1;\n",
       "                            inc = 0;\n",
       "                            break;\n",
       "                        \n",
       "                        // Increment to next context\n",
       "                        } else {\n",
       "                            inc -= M - this.cid;\n",
       "                            this.cxid += 1;\n",
       "                            M = this.cids[this.pid][this.cxid].length;\n",
       "                            this.cid = 0;\n",
       "                        }\n",
       "                    }\n",
       "\n",
       "                // Move to previous context\n",
       "                } else if (this.cid + inc < 0) {\n",
       "                    while (this.cid + inc < 0) {\n",
       "                        \n",
       "                        // At first context on page, halt\n",
       "                        if (this.cxid == 0) {\n",
       "                            this.cid = 0;\n",
       "                            inc = 0;\n",
       "                            break;\n",
       "                        \n",
       "                        // Increment to previous context\n",
       "                        } else {\n",
       "                            inc += this.cid + 1;\n",
       "                            this.cxid -= 1;\n",
       "                            M = this.cids[this.pid][this.cxid].length;\n",
       "                            this.cid = M - 1;\n",
       "                        }\n",
       "                    }\n",
       "                }\n",
       "\n",
       "                // Move within current context\n",
       "                this.cid += inc;\n",
       "            }\n",
       "            this.markCurrentCandidate(true);\n",
       "\n",
       "            // Push this new cid to the model\n",
       "            this.model.set('_selected_cid', this.cids[this.pid][this.cxid][this.cid]);\n",
       "            this.touch();\n",
       "        },\n",
       "\n",
       "        // Switch through contexts\n",
       "        switchContext: function(inc) {\n",
       "            this.markCurrentCandidate(false);\n",
       "\n",
       "            // Iterate context on this page\n",
       "            var M = this.cids[this.pid].length;\n",
       "            if (this.cxid + inc < 0) {\n",
       "                this.cxid = 0;\n",
       "            } else if (this.cxid + inc >= M) {\n",
       "                this.cxid = M - 1;\n",
       "            } else {\n",
       "                this.cxid += inc;\n",
       "            }\n",
       "\n",
       "            // Reset cid and set to first candidate\n",
       "            this.cid = 0;\n",
       "            this.switchCandidate(0);\n",
       "        },\n",
       "\n",
       "        // Switch through pages\n",
       "        switchPage: function(inc) {\n",
       "            this.markCurrentCandidate(false);\n",
       "            this.$el.find(\".viewer-page\").hide();\n",
       "            if (this.pid + inc < 0) {\n",
       "                this.pid = 0;\n",
       "            } else if (this.pid + inc > this.nPages - 1) {\n",
       "                this.pid = this.nPages - 1;\n",
       "            } else {\n",
       "                this.pid += inc;\n",
       "            }\n",
       "            this.$el.find(\"#viewer-page-\"+this.pid).show();\n",
       "\n",
       "            // Show pagination\n",
       "            this.$el.find(\"#page\").html(this.pid);\n",
       "\n",
       "            // Reset cid and set to first candidate\n",
       "            this.cid = 0;\n",
       "            this.cxid = 0;\n",
       "            this.switchCandidate(0);\n",
       "        },\n",
       "\n",
       "        // Label currently-selected candidate\n",
       "        labelCandidate: function(label, highlighted) {\n",
       "            var c    = this.getCandidate();\n",
       "            var cid  = this.cids[this.pid][this.cxid][this.cid];\n",
       "            var cl   = String(label) + \"-candidate\";\n",
       "            var clh  = String(label) + \"-candidate-h\";\n",
       "            var cln  = String(!label) + \"-candidate\";\n",
       "            var clnh = String(!label) + \"-candidate-h\";\n",
       "\n",
       "            // Toggle label highlighting\n",
       "            if (c.hasClass(cl) || c.hasClass(clh)) {\n",
       "                c.removeClass(cl);\n",
       "                c.removeClass(clh);\n",
       "                if (highlighted) {\n",
       "                    c.addClass(\"candidate-h\");\n",
       "                }\n",
       "                this.labels[cid] = null;\n",
       "                this.send({event: 'delete_label', cid: cid});\n",
       "            } else {\n",
       "                c.removeClass(cln);\n",
       "                c.removeClass(clnh);\n",
       "                if (highlighted) {\n",
       "                    c.addClass(clh);\n",
       "                } else {\n",
       "                    c.addClass(cl);\n",
       "                }\n",
       "                this.labels[cid] = label;\n",
       "                this.send({event: 'set_label', cid: cid, value: label});\n",
       "            }\n",
       "\n",
       "            // Set the label and pass back to the model\n",
       "            this.model.set('_labels_serialized', this.serializeDict(this.labels));\n",
       "            this.touch();\n",
       "        },\n",
       "\n",
       "        // Serialization of hash maps, because traitlets Dict doesn't seem to work...\n",
       "        serializeDict: function(d) {\n",
       "            var s = [];\n",
       "            for (var key in d) {\n",
       "                s.push(key+\"~~\"+d[key]);\n",
       "            }\n",
       "            return s.join();\n",
       "        },\n",
       "\n",
       "        // Deserialization of hash maps\n",
       "        deserializeDict: function(s) {\n",
       "            var d = {};\n",
       "            var entries = s.split(/,/);\n",
       "            var kv;\n",
       "            for (var i in entries) {\n",
       "                kv = entries[i].split(/~~/);\n",
       "                if (kv[1] == \"true\") {\n",
       "                    d[kv[0]] = true;\n",
       "                } else if (kv[1] == \"false\") {\n",
       "                    d[kv[0]] = false;\n",
       "                }\n",
       "            }\n",
       "            return d;\n",
       "        },\n",
       "    });\n",
       "\n",
       "    return {\n",
       "        ViewerView: ViewerView\n",
       "    };\n",
       "});\n"
      ],
      "text/plain": [
       "<IPython.core.display.Javascript object>"
      ]
     },
     "metadata": {},
     "output_type": "display_data"
    },
    {
     "data": {
      "application/vnd.jupyter.widget-view+json": {
       "model_id": "500a6e80df1d4d8ebce35a4a51aad668",
       "version_major": 2,
       "version_minor": 0
      },
      "text/plain": [
       "SentenceNgramViewer(cids=[[[0, 5, 11, 16, 22, 24, 33, 37, 47, 52, 62, 65, 70], [1, 8, 17, 25, 29, 38, 40, 42, …"
      ]
     },
     "metadata": {},
     "output_type": "display_data"
    }
   ],
   "source": [
    "from snorkel.viewer import SentenceNgramViewer\n",
    "\n",
    "\n",
    "unigram_segments=session.query(Unigram).filter(Unigram.split == train_bucket).all()\n",
    "\n",
    "\n",
    "SentenceNgramViewer(unigram_segments[0:100], session, n_per_page=10)"
   ]
  },
  {
   "cell_type": "code",
   "execution_count": 11,
   "metadata": {},
   "outputs": [
    {
     "name": "stdout",
     "output_type": "stream",
     "text": [
      "total LF count 137 unique  137 purpose_LFs 55 mechanism_LFs 32\n",
      "['LF_mechanism_propose3_True', 'LF_mechanism_proposeneg2_True', 'LF_mechanism_develop3_True', 'LF_mechanism_developneg2_True', 'LF_mechanism_provide3_True', 'LF_mechanism_provideneg2_True', 'LF_mechanism_presents_3_True', 'LF_mechanism_presents_neg2_True', 'LF_mechanism_present_3_True', 'LF_mechanism_present_neg2_True', 'LF_mechanism_we_use_3_True', 'LF_mechanism_we_use_neg2_True', 'LF_mechanism_uses_3_True', 'LF_mechanism_uses_neg2_True', 'LF_mechanism_using_a_3_True', 'LF_mechanism_using_a_neg2_True', 'LF_mechanism_using_the_3_True', 'LF_mechanism_using_the_neg2_True', 'LF_mechanism_by_using3_True', 'LF_mechanism_by_usingneg2_True', 'LF_mechanism_by_3_True', 'LF_mechanism_by_neg2_True', 'LF_mechanism_method_3_True', 'LF_mechanism_method_neg2_True', 'LF_mechanism_approach_3_True', 'LF_mechanism_approach_neg2_True', 'LF_mechanism_we_also_developed3_True', 'LF_mechanism_we_also_developedneg2_True', 'LF_mechanism_via_3_True', 'LF_mechanism_via_neg2_True', 'mechanism_by_adv_doing', 'mechanism_an_algorithm']\n"
     ]
    }
   ],
   "source": [
    "from snorkel.lf_helpers import *\n",
    "from snorkel.annotations import LabelAnnotator\n",
    "\n",
    "purpose_LFs,mechanism_LFs,null_LFs=0,0,0\n",
    "from LF.util_common_default_categorical import purpose_LFs,mechanism_LFs,null_LFs\n",
    "print(\"total LF count\", len(purpose_LFs+mechanism_LFs+null_LFs),\"unique \",len(set(purpose_LFs+mechanism_LFs+null_LFs)),\"purpose_LFs\",len(purpose_LFs),\"mechanism_LFs\",len(mechanism_LFs))\n",
    "print([lf.__name__ for lf in mechanism_LFs])"
   ]
  },
  {
   "cell_type": "code",
   "execution_count": 12,
   "metadata": {},
   "outputs": [],
   "source": [
    "from snorkel.learning import GenerativeModel\n",
    "from util import get_candidate_text\n",
    "import matplotlib.pyplot as plt\n",
    "import datetime\n",
    "\n",
    "# maybe write a cids_query session.query(Candidate.id).filter(Candidate.split == split) from def apply(self, split=0, key_group=0, replace_key_set=True, cids_query=None,\n",
    "#         **kwargs):\n",
    "def get_L_train(LFs,parallelism=1,split=0):\n",
    "    L_train=None\n",
    "    labeler=None\n",
    "    np.random.seed(1701)\n",
    "    labeler = LabelAnnotator(lfs=LFs)\n",
    "    print(datetime.datetime.now())\n",
    "    L_train = labeler.apply(split=split,parallelism=parallelism)# ,cids_query=session.query(Candidate.id).filter(Candidate.get_parent().id %10==1))\n",
    "    print(datetime.datetime.now())\n",
    "    print(type(L_train))\n",
    "    print(L_train.shape)\n",
    "    printmd(\"**Total non_overlapping_coverage on L_train (percentage of labelled over all)**  \"+str(L_train.non_overlapping_coverage()))\n",
    "    return L_train\n",
    "\n",
    "def get_train_marginals(L_train,step_size_nominator=0.1,epochs=100,lf_propensity=True,threads=1,class_prior=False,decay=1.0,reg_param=1e-6):\n",
    "    try:\n",
    "        gen_model=None\n",
    "        print(datetime.datetime.now())\n",
    "        gen_model = GenerativeModel(lf_propensity=lf_propensity,class_prior=class_prior)\n",
    "#         gen_model.train(L_train, cardinality=3, epochs=100, decay=0.95, step_size=step_size_nominator/L_train.shape[0], reg_param=0.0,verbose=False,threads=threads) # try step_size = 1/ next time? \n",
    "        gen_model.train(L_train, cardinality=3, epochs=epochs, decay=decay,step_size=step_size_nominator/1e2,reg_param=reg_param,verbose=False,threads=threads)\n",
    "        print(\"training finished \")\n",
    "        print(datetime.datetime.now())\n",
    "        print(\"Finished training generative model, now checking performance against development set labels...\")\n",
    "        print(\"Calculating marginals!\")\n",
    "        train_marginals = gen_model.marginals(L_train)  # the marginal probability of each candidate being True\n",
    "#         assert np.all(train_marginals.sum(axis=1) - np.ones(train_marginals.shape[0]) < 1e-10)\n",
    "        print(\"no exception\")\n",
    "        print(datetime.datetime.now())\n",
    "        return gen_model,train_marginals\n",
    "    except:\n",
    "        print(\"exception! \")\n",
    "        return gen_model,train_marginals\n"
   ]
  },
  {
   "cell_type": "code",
   "execution_count": 13,
   "metadata": {
    "scrolled": true
   },
   "outputs": [
    {
     "name": "stdout",
     "output_type": "stream",
     "text": [
      "snorkel_conn_string postgresql:///abstractnetwordworkshop\n",
      "if snorkel_postgres? True\n",
      "2018-10-15 16:53:52.765468\n",
      "snorkel_conn_string postgresql:///abstractnetwordworkshop\n",
      "if snorkel_postgres? True\n",
      "cids_count 24650\n",
      "key_group 0\n",
      "Clearing existing...\n",
      "snorkel_conn_string postgresql:///abstractnetwordworkshop\n",
      "if snorkel_postgres? True\n",
      "clearning..\n",
      "Running UDF...\n",
      "snorkel_conn_string postgresql:///abstractnetwordworkshop\n",
      "if snorkel_postgres? True\n",
      "[========================================] 100%\n",
      "\n",
      "2018-10-15 16:57:38.648701\n",
      "<class 'snorkel.annotations.csr_LabelMatrix'>\n",
      "(24650, 131)\n"
     ]
    },
    {
     "data": {
      "text/markdown": [
       "**Total non_overlapping_coverage on L_train (percentage of labelled over all)**  0.635050709939148"
      ],
      "text/plain": [
       "<IPython.core.display.Markdown object>"
      ]
     },
     "metadata": {},
     "output_type": "display_data"
    }
   ],
   "source": [
    "L_train=get_L_train(purpose_LFs+mechanism_LFs+null_LFs)"
   ]
  },
  {
   "cell_type": "code",
   "execution_count": 14,
   "metadata": {},
   "outputs": [
    {
     "name": "stdout",
     "output_type": "stream",
     "text": [
      "137\n",
      "(24650, 131)\n"
     ]
    }
   ],
   "source": [
    "print(len(purpose_LFs+mechanism_LFs+null_LFs))\n",
    "print(L_train.shape)"
   ]
  },
  {
   "cell_type": "code",
   "execution_count": null,
   "metadata": {},
   "outputs": [],
   "source": []
  },
  {
   "cell_type": "code",
   "execution_count": 15,
   "metadata": {},
   "outputs": [
    {
     "data": {
      "text/html": [
       "<div>\n",
       "<style scoped>\n",
       "    .dataframe tbody tr th:only-of-type {\n",
       "        vertical-align: middle;\n",
       "    }\n",
       "\n",
       "    .dataframe tbody tr th {\n",
       "        vertical-align: top;\n",
       "    }\n",
       "\n",
       "    .dataframe thead th {\n",
       "        text-align: right;\n",
       "    }\n",
       "</style>\n",
       "<table border=\"1\" class=\"dataframe\">\n",
       "  <thead>\n",
       "    <tr style=\"text-align: right;\">\n",
       "      <th></th>\n",
       "      <th>j</th>\n",
       "      <th>Coverage</th>\n",
       "      <th>Overlaps</th>\n",
       "      <th>Conflicts</th>\n",
       "    </tr>\n",
       "  </thead>\n",
       "  <tbody>\n",
       "    <tr>\n",
       "      <th>LF_purpose_TO_VB_neg2_True</th>\n",
       "      <td>0</td>\n",
       "      <td>0.131927</td>\n",
       "      <td>0.102434</td>\n",
       "      <td>0.072576</td>\n",
       "    </tr>\n",
       "    <tr>\n",
       "      <th>LF_purpose_goal3_True</th>\n",
       "      <td>1</td>\n",
       "      <td>0.000487</td>\n",
       "      <td>0.000406</td>\n",
       "      <td>0.000122</td>\n",
       "    </tr>\n",
       "    <tr>\n",
       "      <th>LF_purpose_goalneg2_True</th>\n",
       "      <td>2</td>\n",
       "      <td>0.003732</td>\n",
       "      <td>0.003489</td>\n",
       "      <td>0.000933</td>\n",
       "    </tr>\n",
       "    <tr>\n",
       "      <th>LF_purpose_the_problem_of3_True</th>\n",
       "      <td>3</td>\n",
       "      <td>0.000203</td>\n",
       "      <td>0.000203</td>\n",
       "      <td>0.000081</td>\n",
       "    </tr>\n",
       "    <tr>\n",
       "      <th>LF_purpose_the_problem_ofneg2_True</th>\n",
       "      <td>4</td>\n",
       "      <td>0.004260</td>\n",
       "      <td>0.003448</td>\n",
       "      <td>0.001055</td>\n",
       "    </tr>\n",
       "    <tr>\n",
       "      <th>LF_purpose_the_task_of3_True</th>\n",
       "      <td>5</td>\n",
       "      <td>0.000162</td>\n",
       "      <td>0.000162</td>\n",
       "      <td>0.000081</td>\n",
       "    </tr>\n",
       "    <tr>\n",
       "      <th>LF_purpose_the_task_ofneg2_True</th>\n",
       "      <td>6</td>\n",
       "      <td>0.002759</td>\n",
       "      <td>0.002759</td>\n",
       "      <td>0.002353</td>\n",
       "    </tr>\n",
       "    <tr>\n",
       "      <th>LF_purpose_challenging3_True</th>\n",
       "      <td>7</td>\n",
       "      <td>0.000609</td>\n",
       "      <td>0.000609</td>\n",
       "      <td>0.000365</td>\n",
       "    </tr>\n",
       "    <tr>\n",
       "      <th>LF_purpose_challengingneg2_True</th>\n",
       "      <td>8</td>\n",
       "      <td>0.003124</td>\n",
       "      <td>0.003124</td>\n",
       "      <td>0.002718</td>\n",
       "    </tr>\n",
       "    <tr>\n",
       "      <th>LF_purpose_challenge3_True</th>\n",
       "      <td>9</td>\n",
       "      <td>0.001582</td>\n",
       "      <td>0.001582</td>\n",
       "      <td>0.000527</td>\n",
       "    </tr>\n",
       "    <tr>\n",
       "      <th>LF_purpose_challengeneg2_True</th>\n",
       "      <td>10</td>\n",
       "      <td>0.007911</td>\n",
       "      <td>0.005071</td>\n",
       "      <td>0.002718</td>\n",
       "    </tr>\n",
       "    <tr>\n",
       "      <th>LF_purpose_fundamental3_True</th>\n",
       "      <td>11</td>\n",
       "      <td>0.000487</td>\n",
       "      <td>0.000487</td>\n",
       "      <td>0.000000</td>\n",
       "    </tr>\n",
       "    <tr>\n",
       "      <th>LF_purpose_fundamentalneg2_True</th>\n",
       "      <td>12</td>\n",
       "      <td>0.003327</td>\n",
       "      <td>0.002880</td>\n",
       "      <td>0.001785</td>\n",
       "    </tr>\n",
       "    <tr>\n",
       "      <th>LF_purpose_issue3_True</th>\n",
       "      <td>13</td>\n",
       "      <td>0.000974</td>\n",
       "      <td>0.000974</td>\n",
       "      <td>0.000122</td>\n",
       "    </tr>\n",
       "    <tr>\n",
       "      <th>LF_purpose_issueneg2_True</th>\n",
       "      <td>14</td>\n",
       "      <td>0.007181</td>\n",
       "      <td>0.005030</td>\n",
       "      <td>0.003043</td>\n",
       "    </tr>\n",
       "    <tr>\n",
       "      <th>LF_purpose_allow_3_True</th>\n",
       "      <td>15</td>\n",
       "      <td>0.000406</td>\n",
       "      <td>0.000365</td>\n",
       "      <td>0.000243</td>\n",
       "    </tr>\n",
       "    <tr>\n",
       "      <th>LF_purpose_allow_neg2_True</th>\n",
       "      <td>16</td>\n",
       "      <td>0.002799</td>\n",
       "      <td>0.002677</td>\n",
       "      <td>0.002110</td>\n",
       "    </tr>\n",
       "    <tr>\n",
       "      <th>LF_purpose_allows_3_True</th>\n",
       "      <td>17</td>\n",
       "      <td>0.000730</td>\n",
       "      <td>0.000446</td>\n",
       "      <td>0.000162</td>\n",
       "    </tr>\n",
       "    <tr>\n",
       "      <th>LF_purpose_allows_neg2_True</th>\n",
       "      <td>18</td>\n",
       "      <td>0.005801</td>\n",
       "      <td>0.004544</td>\n",
       "      <td>0.001623</td>\n",
       "    </tr>\n",
       "    <tr>\n",
       "      <th>LF_purpose_useful_to3_True</th>\n",
       "      <td>19</td>\n",
       "      <td>0.000325</td>\n",
       "      <td>0.000203</td>\n",
       "      <td>0.000081</td>\n",
       "    </tr>\n",
       "    <tr>\n",
       "      <th>LF_purpose_useful_toneg2_True</th>\n",
       "      <td>20</td>\n",
       "      <td>0.002069</td>\n",
       "      <td>0.001744</td>\n",
       "      <td>0.000811</td>\n",
       "    </tr>\n",
       "    <tr>\n",
       "      <th>LF_purpose_task3_True</th>\n",
       "      <td>21</td>\n",
       "      <td>0.003164</td>\n",
       "      <td>0.003164</td>\n",
       "      <td>0.001460</td>\n",
       "    </tr>\n",
       "    <tr>\n",
       "      <th>LF_purpose_taskneg2_True</th>\n",
       "      <td>22</td>\n",
       "      <td>0.015416</td>\n",
       "      <td>0.012333</td>\n",
       "      <td>0.009574</td>\n",
       "    </tr>\n",
       "    <tr>\n",
       "      <th>LF_purpose_investigate3_True</th>\n",
       "      <td>23</td>\n",
       "      <td>0.000974</td>\n",
       "      <td>0.000771</td>\n",
       "      <td>0.000122</td>\n",
       "    </tr>\n",
       "    <tr>\n",
       "      <th>LF_purpose_investigateneg2_True</th>\n",
       "      <td>24</td>\n",
       "      <td>0.007343</td>\n",
       "      <td>0.002840</td>\n",
       "      <td>0.000852</td>\n",
       "    </tr>\n",
       "    <tr>\n",
       "      <th>LF_purpose_we_study3_True</th>\n",
       "      <td>25</td>\n",
       "      <td>0.000892</td>\n",
       "      <td>0.000771</td>\n",
       "      <td>0.000081</td>\n",
       "    </tr>\n",
       "    <tr>\n",
       "      <th>LF_purpose_we_studyneg2_True</th>\n",
       "      <td>26</td>\n",
       "      <td>0.012738</td>\n",
       "      <td>0.008114</td>\n",
       "      <td>0.002921</td>\n",
       "    </tr>\n",
       "    <tr>\n",
       "      <th>LF_purpose_although3_True</th>\n",
       "      <td>27</td>\n",
       "      <td>0.000568</td>\n",
       "      <td>0.000568</td>\n",
       "      <td>0.000122</td>\n",
       "    </tr>\n",
       "    <tr>\n",
       "      <th>LF_purpose_althoughneg2_True</th>\n",
       "      <td>28</td>\n",
       "      <td>0.009736</td>\n",
       "      <td>0.007830</td>\n",
       "      <td>0.006207</td>\n",
       "    </tr>\n",
       "    <tr>\n",
       "      <th>LF_purpose_however3_True</th>\n",
       "      <td>29</td>\n",
       "      <td>0.002231</td>\n",
       "      <td>0.002069</td>\n",
       "      <td>0.000041</td>\n",
       "    </tr>\n",
       "    <tr>\n",
       "      <th>LF_purpose_howeverneg2_True</th>\n",
       "      <td>30</td>\n",
       "      <td>0.026045</td>\n",
       "      <td>0.015781</td>\n",
       "      <td>0.005801</td>\n",
       "    </tr>\n",
       "    <tr>\n",
       "      <th>LF_purpose_yet_3_True</th>\n",
       "      <td>31</td>\n",
       "      <td>0.000406</td>\n",
       "      <td>0.000284</td>\n",
       "      <td>0.000081</td>\n",
       "    </tr>\n",
       "    <tr>\n",
       "      <th>LF_purpose_yet_neg2_True</th>\n",
       "      <td>32</td>\n",
       "      <td>0.004260</td>\n",
       "      <td>0.003651</td>\n",
       "      <td>0.002312</td>\n",
       "    </tr>\n",
       "    <tr>\n",
       "      <th>LF_purpose_but_3_True</th>\n",
       "      <td>33</td>\n",
       "      <td>0.002191</td>\n",
       "      <td>0.001785</td>\n",
       "      <td>0.000811</td>\n",
       "    </tr>\n",
       "    <tr>\n",
       "      <th>LF_purpose_but_neg2_True</th>\n",
       "      <td>34</td>\n",
       "      <td>0.022475</td>\n",
       "      <td>0.017890</td>\n",
       "      <td>0.011400</td>\n",
       "    </tr>\n",
       "    <tr>\n",
       "      <th>LF_purpose_existing_3_True</th>\n",
       "      <td>35</td>\n",
       "      <td>0.001623</td>\n",
       "      <td>0.001339</td>\n",
       "      <td>0.000730</td>\n",
       "    </tr>\n",
       "    <tr>\n",
       "      <th>LF_purpose_existing_neg2_True</th>\n",
       "      <td>36</td>\n",
       "      <td>0.013631</td>\n",
       "      <td>0.009452</td>\n",
       "      <td>0.005517</td>\n",
       "    </tr>\n",
       "    <tr>\n",
       "      <th>LF_purpose_gaps_3_True</th>\n",
       "      <td>37</td>\n",
       "      <td>0.000162</td>\n",
       "      <td>0.000162</td>\n",
       "      <td>0.000162</td>\n",
       "    </tr>\n",
       "    <tr>\n",
       "      <th>LF_purpose_gaps_neg2_True</th>\n",
       "      <td>38</td>\n",
       "      <td>0.000771</td>\n",
       "      <td>0.000771</td>\n",
       "      <td>0.000771</td>\n",
       "    </tr>\n",
       "    <tr>\n",
       "      <th>LF_purpose_bottleneck3_True</th>\n",
       "      <td>39</td>\n",
       "      <td>0.000122</td>\n",
       "      <td>0.000081</td>\n",
       "      <td>0.000000</td>\n",
       "    </tr>\n",
       "    <tr>\n",
       "      <th>LF_purpose_bottleneckneg1_True</th>\n",
       "      <td>40</td>\n",
       "      <td>0.000933</td>\n",
       "      <td>0.000081</td>\n",
       "      <td>0.000000</td>\n",
       "    </tr>\n",
       "    <tr>\n",
       "      <th>LF_purpose_problem3_True</th>\n",
       "      <td>41</td>\n",
       "      <td>0.008884</td>\n",
       "      <td>0.007870</td>\n",
       "      <td>0.003083</td>\n",
       "    </tr>\n",
       "    <tr>\n",
       "      <th>LF_purpose_problemneg1_True</th>\n",
       "      <td>42</td>\n",
       "      <td>0.039067</td>\n",
       "      <td>0.024462</td>\n",
       "      <td>0.015943</td>\n",
       "    </tr>\n",
       "    <tr>\n",
       "      <th>LF_purpose_challengingneg1_True</th>\n",
       "      <td>43</td>\n",
       "      <td>0.004016</td>\n",
       "      <td>0.004016</td>\n",
       "      <td>0.000690</td>\n",
       "    </tr>\n",
       "    <tr>\n",
       "      <th>LF_purpose_fundamentalneg1_True</th>\n",
       "      <td>44</td>\n",
       "      <td>0.000933</td>\n",
       "      <td>0.000568</td>\n",
       "      <td>0.000000</td>\n",
       "    </tr>\n",
       "    <tr>\n",
       "      <th>LF_purpose_issueneg1_True</th>\n",
       "      <td>45</td>\n",
       "      <td>0.004787</td>\n",
       "      <td>0.003327</td>\n",
       "      <td>0.000730</td>\n",
       "    </tr>\n",
       "    <tr>\n",
       "      <th>LF_purpose_taskneg1_True</th>\n",
       "      <td>46</td>\n",
       "      <td>0.021014</td>\n",
       "      <td>0.014077</td>\n",
       "      <td>0.009777</td>\n",
       "    </tr>\n",
       "    <tr>\n",
       "      <th>LF_purpose_challengeneg1_True</th>\n",
       "      <td>47</td>\n",
       "      <td>0.004909</td>\n",
       "      <td>0.002637</td>\n",
       "      <td>0.001785</td>\n",
       "    </tr>\n",
       "    <tr>\n",
       "      <th>purpose_for_doing</th>\n",
       "      <td>48</td>\n",
       "      <td>0.058824</td>\n",
       "      <td>0.043692</td>\n",
       "      <td>0.033428</td>\n",
       "    </tr>\n",
       "    <tr>\n",
       "      <th>purpose_to_verb</th>\n",
       "      <td>49</td>\n",
       "      <td>0.063732</td>\n",
       "      <td>0.051846</td>\n",
       "      <td>0.030872</td>\n",
       "    </tr>\n",
       "    <tr>\n",
       "      <th>LF_mechanism_propose3_True</th>\n",
       "      <td>50</td>\n",
       "      <td>0.008276</td>\n",
       "      <td>0.006775</td>\n",
       "      <td>0.003408</td>\n",
       "    </tr>\n",
       "    <tr>\n",
       "      <th>LF_mechanism_proposeneg2_True</th>\n",
       "      <td>51</td>\n",
       "      <td>0.060203</td>\n",
       "      <td>0.047911</td>\n",
       "      <td>0.035619</td>\n",
       "    </tr>\n",
       "    <tr>\n",
       "      <th>LF_mechanism_develop3_True</th>\n",
       "      <td>52</td>\n",
       "      <td>0.005720</td>\n",
       "      <td>0.004746</td>\n",
       "      <td>0.002191</td>\n",
       "    </tr>\n",
       "    <tr>\n",
       "      <th>LF_mechanism_developneg2_True</th>\n",
       "      <td>53</td>\n",
       "      <td>0.034564</td>\n",
       "      <td>0.025801</td>\n",
       "      <td>0.021501</td>\n",
       "    </tr>\n",
       "    <tr>\n",
       "      <th>LF_mechanism_provide3_True</th>\n",
       "      <td>54</td>\n",
       "      <td>0.004016</td>\n",
       "      <td>0.003205</td>\n",
       "      <td>0.001379</td>\n",
       "    </tr>\n",
       "    <tr>\n",
       "      <th>LF_mechanism_provideneg2_True</th>\n",
       "      <td>55</td>\n",
       "      <td>0.023651</td>\n",
       "      <td>0.018174</td>\n",
       "      <td>0.012211</td>\n",
       "    </tr>\n",
       "    <tr>\n",
       "      <th>LF_mechanism_presents_3_True</th>\n",
       "      <td>56</td>\n",
       "      <td>0.000649</td>\n",
       "      <td>0.000406</td>\n",
       "      <td>0.000243</td>\n",
       "    </tr>\n",
       "    <tr>\n",
       "      <th>LF_mechanism_presents_neg2_True</th>\n",
       "      <td>57</td>\n",
       "      <td>0.005598</td>\n",
       "      <td>0.003935</td>\n",
       "      <td>0.003773</td>\n",
       "    </tr>\n",
       "    <tr>\n",
       "      <th>LF_mechanism_present_3_True</th>\n",
       "      <td>58</td>\n",
       "      <td>0.003408</td>\n",
       "      <td>0.002434</td>\n",
       "      <td>0.001460</td>\n",
       "    </tr>\n",
       "    <tr>\n",
       "      <th>LF_mechanism_present_neg2_True</th>\n",
       "      <td>59</td>\n",
       "      <td>0.036795</td>\n",
       "      <td>0.026166</td>\n",
       "      <td>0.020365</td>\n",
       "    </tr>\n",
       "    <tr>\n",
       "      <th>LF_mechanism_we_use_3_True</th>\n",
       "      <td>60</td>\n",
       "      <td>0.000122</td>\n",
       "      <td>0.000081</td>\n",
       "      <td>0.000081</td>\n",
       "    </tr>\n",
       "    <tr>\n",
       "      <th>LF_mechanism_we_use_neg2_True</th>\n",
       "      <td>61</td>\n",
       "      <td>0.002028</td>\n",
       "      <td>0.001501</td>\n",
       "      <td>0.001136</td>\n",
       "    </tr>\n",
       "    <tr>\n",
       "      <th>LF_mechanism_uses_3_True</th>\n",
       "      <td>62</td>\n",
       "      <td>0.000811</td>\n",
       "      <td>0.000730</td>\n",
       "      <td>0.000487</td>\n",
       "    </tr>\n",
       "    <tr>\n",
       "      <th>LF_mechanism_uses_neg2_True</th>\n",
       "      <td>63</td>\n",
       "      <td>0.005963</td>\n",
       "      <td>0.005761</td>\n",
       "      <td>0.003327</td>\n",
       "    </tr>\n",
       "    <tr>\n",
       "      <th>LF_mechanism_using_a_3_True</th>\n",
       "      <td>64</td>\n",
       "      <td>0.000487</td>\n",
       "      <td>0.000243</td>\n",
       "      <td>0.000203</td>\n",
       "    </tr>\n",
       "    <tr>\n",
       "      <th>LF_mechanism_using_a_neg2_True</th>\n",
       "      <td>65</td>\n",
       "      <td>0.009696</td>\n",
       "      <td>0.005720</td>\n",
       "      <td>0.005233</td>\n",
       "    </tr>\n",
       "    <tr>\n",
       "      <th>LF_mechanism_using_the_3_True</th>\n",
       "      <td>66</td>\n",
       "      <td>0.000325</td>\n",
       "      <td>0.000203</td>\n",
       "      <td>0.000162</td>\n",
       "    </tr>\n",
       "    <tr>\n",
       "      <th>LF_mechanism_using_the_neg2_True</th>\n",
       "      <td>67</td>\n",
       "      <td>0.005761</td>\n",
       "      <td>0.003570</td>\n",
       "      <td>0.001907</td>\n",
       "    </tr>\n",
       "    <tr>\n",
       "      <th>LF_mechanism_by_using3_True</th>\n",
       "      <td>68</td>\n",
       "      <td>0.000811</td>\n",
       "      <td>0.000811</td>\n",
       "      <td>0.000649</td>\n",
       "    </tr>\n",
       "    <tr>\n",
       "      <th>LF_mechanism_by_usingneg2_True</th>\n",
       "      <td>69</td>\n",
       "      <td>0.004138</td>\n",
       "      <td>0.004138</td>\n",
       "      <td>0.003124</td>\n",
       "    </tr>\n",
       "    <tr>\n",
       "      <th>LF_mechanism_by_3_True</th>\n",
       "      <td>70</td>\n",
       "      <td>0.010467</td>\n",
       "      <td>0.008925</td>\n",
       "      <td>0.004787</td>\n",
       "    </tr>\n",
       "    <tr>\n",
       "      <th>LF_mechanism_by_neg2_True</th>\n",
       "      <td>71</td>\n",
       "      <td>0.073753</td>\n",
       "      <td>0.056714</td>\n",
       "      <td>0.040892</td>\n",
       "    </tr>\n",
       "    <tr>\n",
       "      <th>LF_mechanism_method_3_True</th>\n",
       "      <td>72</td>\n",
       "      <td>0.003002</td>\n",
       "      <td>0.002759</td>\n",
       "      <td>0.001623</td>\n",
       "    </tr>\n",
       "    <tr>\n",
       "      <th>LF_mechanism_method_neg2_True</th>\n",
       "      <td>73</td>\n",
       "      <td>0.031278</td>\n",
       "      <td>0.029939</td>\n",
       "      <td>0.022394</td>\n",
       "    </tr>\n",
       "    <tr>\n",
       "      <th>LF_mechanism_approach_3_True</th>\n",
       "      <td>74</td>\n",
       "      <td>0.002677</td>\n",
       "      <td>0.002394</td>\n",
       "      <td>0.001704</td>\n",
       "    </tr>\n",
       "    <tr>\n",
       "      <th>LF_mechanism_approach_neg2_True</th>\n",
       "      <td>75</td>\n",
       "      <td>0.022637</td>\n",
       "      <td>0.020892</td>\n",
       "      <td>0.016998</td>\n",
       "    </tr>\n",
       "    <tr>\n",
       "      <th>LF_mechanism_we_also_developed3_True</th>\n",
       "      <td>76</td>\n",
       "      <td>0.000000</td>\n",
       "      <td>0.000000</td>\n",
       "      <td>0.000000</td>\n",
       "    </tr>\n",
       "    <tr>\n",
       "      <th>LF_mechanism_we_also_developedneg2_True</th>\n",
       "      <td>77</td>\n",
       "      <td>0.000000</td>\n",
       "      <td>0.000000</td>\n",
       "      <td>0.000000</td>\n",
       "    </tr>\n",
       "    <tr>\n",
       "      <th>LF_mechanism_via_3_True</th>\n",
       "      <td>78</td>\n",
       "      <td>0.000730</td>\n",
       "      <td>0.000568</td>\n",
       "      <td>0.000406</td>\n",
       "    </tr>\n",
       "    <tr>\n",
       "      <th>LF_mechanism_via_neg2_True</th>\n",
       "      <td>79</td>\n",
       "      <td>0.007424</td>\n",
       "      <td>0.006207</td>\n",
       "      <td>0.005314</td>\n",
       "    </tr>\n",
       "    <tr>\n",
       "      <th>mechanism_by_adv_doing</th>\n",
       "      <td>80</td>\n",
       "      <td>0.027059</td>\n",
       "      <td>0.027059</td>\n",
       "      <td>0.018824</td>\n",
       "    </tr>\n",
       "    <tr>\n",
       "      <th>mechanism_an_algorithm</th>\n",
       "      <td>81</td>\n",
       "      <td>0.005193</td>\n",
       "      <td>0.004138</td>\n",
       "      <td>0.003083</td>\n",
       "    </tr>\n",
       "    <tr>\n",
       "      <th>LF_null_test3_True</th>\n",
       "      <td>82</td>\n",
       "      <td>0.001826</td>\n",
       "      <td>0.001582</td>\n",
       "      <td>0.000852</td>\n",
       "    </tr>\n",
       "    <tr>\n",
       "      <th>LF_null_testneg2_True</th>\n",
       "      <td>83</td>\n",
       "      <td>0.009168</td>\n",
       "      <td>0.007424</td>\n",
       "      <td>0.005882</td>\n",
       "    </tr>\n",
       "    <tr>\n",
       "      <th>LF_null_dataset3_True</th>\n",
       "      <td>84</td>\n",
       "      <td>0.002191</td>\n",
       "      <td>0.002069</td>\n",
       "      <td>0.001136</td>\n",
       "    </tr>\n",
       "    <tr>\n",
       "      <th>LF_null_datasetneg2_True</th>\n",
       "      <td>85</td>\n",
       "      <td>0.010101</td>\n",
       "      <td>0.009655</td>\n",
       "      <td>0.007383</td>\n",
       "    </tr>\n",
       "    <tr>\n",
       "      <th>LF_null_experiment3_True</th>\n",
       "      <td>86</td>\n",
       "      <td>0.004097</td>\n",
       "      <td>0.003448</td>\n",
       "      <td>0.001258</td>\n",
       "    </tr>\n",
       "    <tr>\n",
       "      <th>LF_null_experimentneg2_True</th>\n",
       "      <td>87</td>\n",
       "      <td>0.032495</td>\n",
       "      <td>0.029371</td>\n",
       "      <td>0.016957</td>\n",
       "    </tr>\n",
       "    <tr>\n",
       "      <th>LF_null_results3_True</th>\n",
       "      <td>88</td>\n",
       "      <td>0.008844</td>\n",
       "      <td>0.007586</td>\n",
       "      <td>0.002840</td>\n",
       "    </tr>\n",
       "    <tr>\n",
       "      <th>LF_null_resultsneg2_True</th>\n",
       "      <td>89</td>\n",
       "      <td>0.059067</td>\n",
       "      <td>0.051318</td>\n",
       "      <td>0.028154</td>\n",
       "    </tr>\n",
       "    <tr>\n",
       "      <th>LF_null_show3_True</th>\n",
       "      <td>90</td>\n",
       "      <td>0.009128</td>\n",
       "      <td>0.007708</td>\n",
       "      <td>0.001947</td>\n",
       "    </tr>\n",
       "    <tr>\n",
       "      <th>LF_null_showneg2_True</th>\n",
       "      <td>91</td>\n",
       "      <td>0.074970</td>\n",
       "      <td>0.055984</td>\n",
       "      <td>0.038174</td>\n",
       "    </tr>\n",
       "    <tr>\n",
       "      <th>LF_null_observe3_True</th>\n",
       "      <td>92</td>\n",
       "      <td>0.000609</td>\n",
       "      <td>0.000527</td>\n",
       "      <td>0.000243</td>\n",
       "    </tr>\n",
       "    <tr>\n",
       "      <th>LF_null_observeneg2_True</th>\n",
       "      <td>93</td>\n",
       "      <td>0.002759</td>\n",
       "      <td>0.001907</td>\n",
       "      <td>0.000609</td>\n",
       "    </tr>\n",
       "    <tr>\n",
       "      <th>LF_null_we_prove3_True</th>\n",
       "      <td>94</td>\n",
       "      <td>0.000649</td>\n",
       "      <td>0.000446</td>\n",
       "      <td>0.000081</td>\n",
       "    </tr>\n",
       "    <tr>\n",
       "      <th>LF_null_we_proveneg2_True</th>\n",
       "      <td>95</td>\n",
       "      <td>0.006734</td>\n",
       "      <td>0.003448</td>\n",
       "      <td>0.002353</td>\n",
       "    </tr>\n",
       "    <tr>\n",
       "      <th>LF_null_evaluates_3_True</th>\n",
       "      <td>96</td>\n",
       "      <td>0.000000</td>\n",
       "      <td>0.000000</td>\n",
       "      <td>0.000000</td>\n",
       "    </tr>\n",
       "    <tr>\n",
       "      <th>LF_null_evaluates_neg2_True</th>\n",
       "      <td>97</td>\n",
       "      <td>0.000000</td>\n",
       "      <td>0.000000</td>\n",
       "      <td>0.000000</td>\n",
       "    </tr>\n",
       "    <tr>\n",
       "      <th>LF_null_evaluated_3_True</th>\n",
       "      <td>98</td>\n",
       "      <td>0.000892</td>\n",
       "      <td>0.000609</td>\n",
       "      <td>0.000243</td>\n",
       "    </tr>\n",
       "    <tr>\n",
       "      <th>LF_null_evaluated_neg2_True</th>\n",
       "      <td>99</td>\n",
       "      <td>0.008276</td>\n",
       "      <td>0.005314</td>\n",
       "      <td>0.004787</td>\n",
       "    </tr>\n",
       "    <tr>\n",
       "      <th>LF_null_evaluate_3_True</th>\n",
       "      <td>100</td>\n",
       "      <td>0.001136</td>\n",
       "      <td>0.000811</td>\n",
       "      <td>0.000527</td>\n",
       "    </tr>\n",
       "    <tr>\n",
       "      <th>LF_null_evaluate_neg2_True</th>\n",
       "      <td>101</td>\n",
       "      <td>0.010345</td>\n",
       "      <td>0.008844</td>\n",
       "      <td>0.008114</td>\n",
       "    </tr>\n",
       "    <tr>\n",
       "      <th>LF_null_demonstrate3_True</th>\n",
       "      <td>102</td>\n",
       "      <td>0.003164</td>\n",
       "      <td>0.002799</td>\n",
       "      <td>0.000933</td>\n",
       "    </tr>\n",
       "    <tr>\n",
       "      <th>LF_null_demonstrateneg2_True</th>\n",
       "      <td>103</td>\n",
       "      <td>0.024868</td>\n",
       "      <td>0.021379</td>\n",
       "      <td>0.014888</td>\n",
       "    </tr>\n",
       "    <tr>\n",
       "      <th>LF_null_indicate_that3_True</th>\n",
       "      <td>104</td>\n",
       "      <td>0.000325</td>\n",
       "      <td>0.000284</td>\n",
       "      <td>0.000000</td>\n",
       "    </tr>\n",
       "    <tr>\n",
       "      <th>LF_null_indicate_thatneg2_True</th>\n",
       "      <td>105</td>\n",
       "      <td>0.003448</td>\n",
       "      <td>0.003448</td>\n",
       "      <td>0.002515</td>\n",
       "    </tr>\n",
       "    <tr>\n",
       "      <th>LF_null_indicates_that3_True</th>\n",
       "      <td>106</td>\n",
       "      <td>0.000000</td>\n",
       "      <td>0.000000</td>\n",
       "      <td>0.000000</td>\n",
       "    </tr>\n",
       "    <tr>\n",
       "      <th>LF_null_indicates_thatneg2_True</th>\n",
       "      <td>107</td>\n",
       "      <td>0.000000</td>\n",
       "      <td>0.000000</td>\n",
       "      <td>0.000000</td>\n",
       "    </tr>\n",
       "    <tr>\n",
       "      <th>LF_null_are_performed3_True</th>\n",
       "      <td>108</td>\n",
       "      <td>0.000081</td>\n",
       "      <td>0.000041</td>\n",
       "      <td>0.000000</td>\n",
       "    </tr>\n",
       "    <tr>\n",
       "      <th>LF_null_are_performedneg2_True</th>\n",
       "      <td>109</td>\n",
       "      <td>0.000081</td>\n",
       "      <td>0.000041</td>\n",
       "      <td>0.000000</td>\n",
       "    </tr>\n",
       "    <tr>\n",
       "      <th>LF_null_were_performed3_True</th>\n",
       "      <td>110</td>\n",
       "      <td>0.000000</td>\n",
       "      <td>0.000000</td>\n",
       "      <td>0.000000</td>\n",
       "    </tr>\n",
       "    <tr>\n",
       "      <th>LF_null_were_performedneg2_True</th>\n",
       "      <td>111</td>\n",
       "      <td>0.000000</td>\n",
       "      <td>0.000000</td>\n",
       "      <td>0.000000</td>\n",
       "    </tr>\n",
       "    <tr>\n",
       "      <th>LF_null_have_been3_True</th>\n",
       "      <td>112</td>\n",
       "      <td>0.001136</td>\n",
       "      <td>0.000771</td>\n",
       "      <td>0.000365</td>\n",
       "    </tr>\n",
       "    <tr>\n",
       "      <th>LF_null_have_beenneg2_True</th>\n",
       "      <td>113</td>\n",
       "      <td>0.007911</td>\n",
       "      <td>0.005396</td>\n",
       "      <td>0.004422</td>\n",
       "    </tr>\n",
       "    <tr>\n",
       "      <th>LF_null_has_been3_True</th>\n",
       "      <td>114</td>\n",
       "      <td>0.000811</td>\n",
       "      <td>0.000609</td>\n",
       "      <td>0.000325</td>\n",
       "    </tr>\n",
       "    <tr>\n",
       "      <th>LF_null_has_beenneg2_True</th>\n",
       "      <td>115</td>\n",
       "      <td>0.006815</td>\n",
       "      <td>0.005963</td>\n",
       "      <td>0.004828</td>\n",
       "    </tr>\n",
       "    <tr>\n",
       "      <th>LF_null_popular_3_True</th>\n",
       "      <td>116</td>\n",
       "      <td>0.000487</td>\n",
       "      <td>0.000446</td>\n",
       "      <td>0.000406</td>\n",
       "    </tr>\n",
       "    <tr>\n",
       "      <th>LF_null_popular_neg2_True</th>\n",
       "      <td>117</td>\n",
       "      <td>0.003164</td>\n",
       "      <td>0.003083</td>\n",
       "      <td>0.003043</td>\n",
       "    </tr>\n",
       "    <tr>\n",
       "      <th>LF_null_popularity_3_True</th>\n",
       "      <td>118</td>\n",
       "      <td>0.000081</td>\n",
       "      <td>0.000041</td>\n",
       "      <td>0.000000</td>\n",
       "    </tr>\n",
       "    <tr>\n",
       "      <th>LF_null_popularity_neg2_True</th>\n",
       "      <td>119</td>\n",
       "      <td>0.000609</td>\n",
       "      <td>0.000446</td>\n",
       "      <td>0.000000</td>\n",
       "    </tr>\n",
       "    <tr>\n",
       "      <th>LF_null_increasing3_True</th>\n",
       "      <td>120</td>\n",
       "      <td>0.001947</td>\n",
       "      <td>0.001785</td>\n",
       "      <td>0.000974</td>\n",
       "    </tr>\n",
       "    <tr>\n",
       "      <th>LF_null_increasingneg2_True</th>\n",
       "      <td>121</td>\n",
       "      <td>0.011278</td>\n",
       "      <td>0.009817</td>\n",
       "      <td>0.008316</td>\n",
       "    </tr>\n",
       "    <tr>\n",
       "      <th>LF_null_general3_True</th>\n",
       "      <td>122</td>\n",
       "      <td>0.003164</td>\n",
       "      <td>0.003164</td>\n",
       "      <td>0.001501</td>\n",
       "    </tr>\n",
       "    <tr>\n",
       "      <th>LF_null_generalneg2_True</th>\n",
       "      <td>123</td>\n",
       "      <td>0.019594</td>\n",
       "      <td>0.016024</td>\n",
       "      <td>0.012535</td>\n",
       "    </tr>\n",
       "    <tr>\n",
       "      <th>LF_null_compared_to3_True</th>\n",
       "      <td>124</td>\n",
       "      <td>0.000243</td>\n",
       "      <td>0.000203</td>\n",
       "      <td>0.000162</td>\n",
       "    </tr>\n",
       "    <tr>\n",
       "      <th>LF_null_compared_toneg2_True</th>\n",
       "      <td>125</td>\n",
       "      <td>0.000933</td>\n",
       "      <td>0.000771</td>\n",
       "      <td>0.000730</td>\n",
       "    </tr>\n",
       "    <tr>\n",
       "      <th>LF_null_compare_3_True</th>\n",
       "      <td>126</td>\n",
       "      <td>0.000487</td>\n",
       "      <td>0.000365</td>\n",
       "      <td>0.000243</td>\n",
       "    </tr>\n",
       "    <tr>\n",
       "      <th>LF_null_compare_neg2_True</th>\n",
       "      <td>127</td>\n",
       "      <td>0.009249</td>\n",
       "      <td>0.007992</td>\n",
       "      <td>0.007870</td>\n",
       "    </tr>\n",
       "    <tr>\n",
       "      <th>LF_null_settings3_True</th>\n",
       "      <td>128</td>\n",
       "      <td>0.000609</td>\n",
       "      <td>0.000568</td>\n",
       "      <td>0.000487</td>\n",
       "    </tr>\n",
       "    <tr>\n",
       "      <th>LF_null_settingsneg1_True</th>\n",
       "      <td>129</td>\n",
       "      <td>0.003083</td>\n",
       "      <td>0.002312</td>\n",
       "      <td>0.001542</td>\n",
       "    </tr>\n",
       "    <tr>\n",
       "      <th>LF_null_generalneg1_True</th>\n",
       "      <td>130</td>\n",
       "      <td>0.013753</td>\n",
       "      <td>0.008398</td>\n",
       "      <td>0.005274</td>\n",
       "    </tr>\n",
       "  </tbody>\n",
       "</table>\n",
       "</div>"
      ],
      "text/plain": [
       "                                           j  Coverage  Overlaps  Conflicts\n",
       "LF_purpose_TO_VB_neg2_True                 0  0.131927  0.102434   0.072576\n",
       "LF_purpose_goal3_True                      1  0.000487  0.000406   0.000122\n",
       "LF_purpose_goalneg2_True                   2  0.003732  0.003489   0.000933\n",
       "LF_purpose_the_problem_of3_True            3  0.000203  0.000203   0.000081\n",
       "LF_purpose_the_problem_ofneg2_True         4  0.004260  0.003448   0.001055\n",
       "LF_purpose_the_task_of3_True               5  0.000162  0.000162   0.000081\n",
       "LF_purpose_the_task_ofneg2_True            6  0.002759  0.002759   0.002353\n",
       "LF_purpose_challenging3_True               7  0.000609  0.000609   0.000365\n",
       "LF_purpose_challengingneg2_True            8  0.003124  0.003124   0.002718\n",
       "LF_purpose_challenge3_True                 9  0.001582  0.001582   0.000527\n",
       "LF_purpose_challengeneg2_True             10  0.007911  0.005071   0.002718\n",
       "LF_purpose_fundamental3_True              11  0.000487  0.000487   0.000000\n",
       "LF_purpose_fundamentalneg2_True           12  0.003327  0.002880   0.001785\n",
       "LF_purpose_issue3_True                    13  0.000974  0.000974   0.000122\n",
       "LF_purpose_issueneg2_True                 14  0.007181  0.005030   0.003043\n",
       "LF_purpose_allow_3_True                   15  0.000406  0.000365   0.000243\n",
       "LF_purpose_allow_neg2_True                16  0.002799  0.002677   0.002110\n",
       "LF_purpose_allows_3_True                  17  0.000730  0.000446   0.000162\n",
       "LF_purpose_allows_neg2_True               18  0.005801  0.004544   0.001623\n",
       "LF_purpose_useful_to3_True                19  0.000325  0.000203   0.000081\n",
       "LF_purpose_useful_toneg2_True             20  0.002069  0.001744   0.000811\n",
       "LF_purpose_task3_True                     21  0.003164  0.003164   0.001460\n",
       "LF_purpose_taskneg2_True                  22  0.015416  0.012333   0.009574\n",
       "LF_purpose_investigate3_True              23  0.000974  0.000771   0.000122\n",
       "LF_purpose_investigateneg2_True           24  0.007343  0.002840   0.000852\n",
       "LF_purpose_we_study3_True                 25  0.000892  0.000771   0.000081\n",
       "LF_purpose_we_studyneg2_True              26  0.012738  0.008114   0.002921\n",
       "LF_purpose_although3_True                 27  0.000568  0.000568   0.000122\n",
       "LF_purpose_althoughneg2_True              28  0.009736  0.007830   0.006207\n",
       "LF_purpose_however3_True                  29  0.002231  0.002069   0.000041\n",
       "LF_purpose_howeverneg2_True               30  0.026045  0.015781   0.005801\n",
       "LF_purpose_yet_3_True                     31  0.000406  0.000284   0.000081\n",
       "LF_purpose_yet_neg2_True                  32  0.004260  0.003651   0.002312\n",
       "LF_purpose_but_3_True                     33  0.002191  0.001785   0.000811\n",
       "LF_purpose_but_neg2_True                  34  0.022475  0.017890   0.011400\n",
       "LF_purpose_existing_3_True                35  0.001623  0.001339   0.000730\n",
       "LF_purpose_existing_neg2_True             36  0.013631  0.009452   0.005517\n",
       "LF_purpose_gaps_3_True                    37  0.000162  0.000162   0.000162\n",
       "LF_purpose_gaps_neg2_True                 38  0.000771  0.000771   0.000771\n",
       "LF_purpose_bottleneck3_True               39  0.000122  0.000081   0.000000\n",
       "LF_purpose_bottleneckneg1_True            40  0.000933  0.000081   0.000000\n",
       "LF_purpose_problem3_True                  41  0.008884  0.007870   0.003083\n",
       "LF_purpose_problemneg1_True               42  0.039067  0.024462   0.015943\n",
       "LF_purpose_challengingneg1_True           43  0.004016  0.004016   0.000690\n",
       "LF_purpose_fundamentalneg1_True           44  0.000933  0.000568   0.000000\n",
       "LF_purpose_issueneg1_True                 45  0.004787  0.003327   0.000730\n",
       "LF_purpose_taskneg1_True                  46  0.021014  0.014077   0.009777\n",
       "LF_purpose_challengeneg1_True             47  0.004909  0.002637   0.001785\n",
       "purpose_for_doing                         48  0.058824  0.043692   0.033428\n",
       "purpose_to_verb                           49  0.063732  0.051846   0.030872\n",
       "LF_mechanism_propose3_True                50  0.008276  0.006775   0.003408\n",
       "LF_mechanism_proposeneg2_True             51  0.060203  0.047911   0.035619\n",
       "LF_mechanism_develop3_True                52  0.005720  0.004746   0.002191\n",
       "LF_mechanism_developneg2_True             53  0.034564  0.025801   0.021501\n",
       "LF_mechanism_provide3_True                54  0.004016  0.003205   0.001379\n",
       "LF_mechanism_provideneg2_True             55  0.023651  0.018174   0.012211\n",
       "LF_mechanism_presents_3_True              56  0.000649  0.000406   0.000243\n",
       "LF_mechanism_presents_neg2_True           57  0.005598  0.003935   0.003773\n",
       "LF_mechanism_present_3_True               58  0.003408  0.002434   0.001460\n",
       "LF_mechanism_present_neg2_True            59  0.036795  0.026166   0.020365\n",
       "LF_mechanism_we_use_3_True                60  0.000122  0.000081   0.000081\n",
       "LF_mechanism_we_use_neg2_True             61  0.002028  0.001501   0.001136\n",
       "LF_mechanism_uses_3_True                  62  0.000811  0.000730   0.000487\n",
       "LF_mechanism_uses_neg2_True               63  0.005963  0.005761   0.003327\n",
       "LF_mechanism_using_a_3_True               64  0.000487  0.000243   0.000203\n",
       "LF_mechanism_using_a_neg2_True            65  0.009696  0.005720   0.005233\n",
       "LF_mechanism_using_the_3_True             66  0.000325  0.000203   0.000162\n",
       "LF_mechanism_using_the_neg2_True          67  0.005761  0.003570   0.001907\n",
       "LF_mechanism_by_using3_True               68  0.000811  0.000811   0.000649\n",
       "LF_mechanism_by_usingneg2_True            69  0.004138  0.004138   0.003124\n",
       "LF_mechanism_by_3_True                    70  0.010467  0.008925   0.004787\n",
       "LF_mechanism_by_neg2_True                 71  0.073753  0.056714   0.040892\n",
       "LF_mechanism_method_3_True                72  0.003002  0.002759   0.001623\n",
       "LF_mechanism_method_neg2_True             73  0.031278  0.029939   0.022394\n",
       "LF_mechanism_approach_3_True              74  0.002677  0.002394   0.001704\n",
       "LF_mechanism_approach_neg2_True           75  0.022637  0.020892   0.016998\n",
       "LF_mechanism_we_also_developed3_True      76  0.000000  0.000000   0.000000\n",
       "LF_mechanism_we_also_developedneg2_True   77  0.000000  0.000000   0.000000\n",
       "LF_mechanism_via_3_True                   78  0.000730  0.000568   0.000406\n",
       "LF_mechanism_via_neg2_True                79  0.007424  0.006207   0.005314\n",
       "mechanism_by_adv_doing                    80  0.027059  0.027059   0.018824\n",
       "mechanism_an_algorithm                    81  0.005193  0.004138   0.003083\n",
       "LF_null_test3_True                        82  0.001826  0.001582   0.000852\n",
       "LF_null_testneg2_True                     83  0.009168  0.007424   0.005882\n",
       "LF_null_dataset3_True                     84  0.002191  0.002069   0.001136\n",
       "LF_null_datasetneg2_True                  85  0.010101  0.009655   0.007383\n",
       "LF_null_experiment3_True                  86  0.004097  0.003448   0.001258\n",
       "LF_null_experimentneg2_True               87  0.032495  0.029371   0.016957\n",
       "LF_null_results3_True                     88  0.008844  0.007586   0.002840\n",
       "LF_null_resultsneg2_True                  89  0.059067  0.051318   0.028154\n",
       "LF_null_show3_True                        90  0.009128  0.007708   0.001947\n",
       "LF_null_showneg2_True                     91  0.074970  0.055984   0.038174\n",
       "LF_null_observe3_True                     92  0.000609  0.000527   0.000243\n",
       "LF_null_observeneg2_True                  93  0.002759  0.001907   0.000609\n",
       "LF_null_we_prove3_True                    94  0.000649  0.000446   0.000081\n",
       "LF_null_we_proveneg2_True                 95  0.006734  0.003448   0.002353\n",
       "LF_null_evaluates_3_True                  96  0.000000  0.000000   0.000000\n",
       "LF_null_evaluates_neg2_True               97  0.000000  0.000000   0.000000\n",
       "LF_null_evaluated_3_True                  98  0.000892  0.000609   0.000243\n",
       "LF_null_evaluated_neg2_True               99  0.008276  0.005314   0.004787\n",
       "LF_null_evaluate_3_True                  100  0.001136  0.000811   0.000527\n",
       "LF_null_evaluate_neg2_True               101  0.010345  0.008844   0.008114\n",
       "LF_null_demonstrate3_True                102  0.003164  0.002799   0.000933\n",
       "LF_null_demonstrateneg2_True             103  0.024868  0.021379   0.014888\n",
       "LF_null_indicate_that3_True              104  0.000325  0.000284   0.000000\n",
       "LF_null_indicate_thatneg2_True           105  0.003448  0.003448   0.002515\n",
       "LF_null_indicates_that3_True             106  0.000000  0.000000   0.000000\n",
       "LF_null_indicates_thatneg2_True          107  0.000000  0.000000   0.000000\n",
       "LF_null_are_performed3_True              108  0.000081  0.000041   0.000000\n",
       "LF_null_are_performedneg2_True           109  0.000081  0.000041   0.000000\n",
       "LF_null_were_performed3_True             110  0.000000  0.000000   0.000000\n",
       "LF_null_were_performedneg2_True          111  0.000000  0.000000   0.000000\n",
       "LF_null_have_been3_True                  112  0.001136  0.000771   0.000365\n",
       "LF_null_have_beenneg2_True               113  0.007911  0.005396   0.004422\n",
       "LF_null_has_been3_True                   114  0.000811  0.000609   0.000325\n",
       "LF_null_has_beenneg2_True                115  0.006815  0.005963   0.004828\n",
       "LF_null_popular_3_True                   116  0.000487  0.000446   0.000406\n",
       "LF_null_popular_neg2_True                117  0.003164  0.003083   0.003043\n",
       "LF_null_popularity_3_True                118  0.000081  0.000041   0.000000\n",
       "LF_null_popularity_neg2_True             119  0.000609  0.000446   0.000000\n",
       "LF_null_increasing3_True                 120  0.001947  0.001785   0.000974\n",
       "LF_null_increasingneg2_True              121  0.011278  0.009817   0.008316\n",
       "LF_null_general3_True                    122  0.003164  0.003164   0.001501\n",
       "LF_null_generalneg2_True                 123  0.019594  0.016024   0.012535\n",
       "LF_null_compared_to3_True                124  0.000243  0.000203   0.000162\n",
       "LF_null_compared_toneg2_True             125  0.000933  0.000771   0.000730\n",
       "LF_null_compare_3_True                   126  0.000487  0.000365   0.000243\n",
       "LF_null_compare_neg2_True                127  0.009249  0.007992   0.007870\n",
       "LF_null_settings3_True                   128  0.000609  0.000568   0.000487\n",
       "LF_null_settingsneg1_True                129  0.003083  0.002312   0.001542\n",
       "LF_null_generalneg1_True                 130  0.013753  0.008398   0.005274"
      ]
     },
     "execution_count": 15,
     "metadata": {},
     "output_type": "execute_result"
    }
   ],
   "source": [
    "import pandas as pd \n",
    "pd.set_option('display.max_rows', 500)\n",
    "\n",
    "L_train.lf_stats(session)"
   ]
  },
  {
   "cell_type": "code",
   "execution_count": 77,
   "metadata": {
    "scrolled": true
   },
   "outputs": [
    {
     "name": "stdout",
     "output_type": "stream",
     "text": [
      "grid search with L_train step_size_nominator 0.01 epochs 2 decay 0.95 reg_param 0.001 lf_propensity False\n",
      "2018-10-15 15:53:24.207530\n",
      "Compiles variable matrix\n",
      "_compile finished!\n",
      "Compiles variable matrix\n",
      "_compile finished!\n",
      "training finished \n",
      "2018-10-15 15:55:13.575656\n",
      "Finished training generative model, now checking performance against development set labels...\n",
      "Calculating marginals!\n",
      "no exception\n",
      "2018-10-15 15:55:20.857860\n",
      "PP 18029\n",
      "MN 3967\n",
      "NULL 2654\n",
      "amend PP 13438\n",
      "amend MN 3967\n",
      "amend NULL 7245\n",
      "grid search with L_train step_size_nominator 0.01 epochs 3 decay 0.95 reg_param 0.001 lf_propensity False\n",
      "2018-10-15 15:55:20.885569\n",
      "Compiles variable matrix\n",
      "exception! \n"
     ]
    },
    {
     "ename": "UnboundLocalError",
     "evalue": "local variable 'train_marginals' referenced before assignment",
     "output_type": "error",
     "traceback": [
      "\u001b[0;31m---------------------------------------------------------------------------\u001b[0m",
      "\u001b[0;31mKeyboardInterrupt\u001b[0m                         Traceback (most recent call last)",
      "\u001b[0;32m<ipython-input-73-63a91c8e6f2b>\u001b[0m in \u001b[0;36mget_train_marginals\u001b[0;34m(L_train, step_size_nominator, epochs, lf_propensity, threads, class_prior, decay, reg_param)\u001b[0m\n\u001b[1;32m     26\u001b[0m \u001b[0;31m#         gen_model.train(L_train, cardinality=3, epochs=100, decay=0.95, step_size=step_size_nominator/L_train.shape[0], reg_param=0.0,verbose=False,threads=threads) # try step_size = 1/ next time?\u001b[0m\u001b[0;34m\u001b[0m\u001b[0;34m\u001b[0m\u001b[0m\n\u001b[0;32m---> 27\u001b[0;31m         \u001b[0mgen_model\u001b[0m\u001b[0;34m.\u001b[0m\u001b[0mtrain\u001b[0m\u001b[0;34m(\u001b[0m\u001b[0mL_train\u001b[0m\u001b[0;34m,\u001b[0m \u001b[0mcardinality\u001b[0m\u001b[0;34m=\u001b[0m\u001b[0;36m3\u001b[0m\u001b[0;34m,\u001b[0m \u001b[0mepochs\u001b[0m\u001b[0;34m=\u001b[0m\u001b[0mepochs\u001b[0m\u001b[0;34m,\u001b[0m \u001b[0mdecay\u001b[0m\u001b[0;34m=\u001b[0m\u001b[0mdecay\u001b[0m\u001b[0;34m,\u001b[0m\u001b[0mstep_size\u001b[0m\u001b[0;34m=\u001b[0m\u001b[0mstep_size_nominator\u001b[0m\u001b[0;34m/\u001b[0m\u001b[0;36m1e2\u001b[0m\u001b[0;34m,\u001b[0m\u001b[0mreg_param\u001b[0m\u001b[0;34m=\u001b[0m\u001b[0mreg_param\u001b[0m\u001b[0;34m,\u001b[0m\u001b[0mverbose\u001b[0m\u001b[0;34m=\u001b[0m\u001b[0;32mFalse\u001b[0m\u001b[0;34m,\u001b[0m\u001b[0mthreads\u001b[0m\u001b[0;34m=\u001b[0m\u001b[0mthreads\u001b[0m\u001b[0;34m)\u001b[0m\u001b[0;34m\u001b[0m\u001b[0m\n\u001b[0m\u001b[1;32m     28\u001b[0m         \u001b[0mprint\u001b[0m\u001b[0;34m(\u001b[0m\u001b[0;34m\"training finished \"\u001b[0m\u001b[0;34m)\u001b[0m\u001b[0;34m\u001b[0m\u001b[0m\n",
      "\u001b[0;32m~/Desktop/snorkel/snorkel/learning/gen_learning.py\u001b[0m in \u001b[0;36mtrain\u001b[0;34m(self, L, deps, LF_acc_prior_weights, LF_acc_prior_weight_default, labels, label_prior_weight, init_deps, init_class_prior, epochs, step_size, decay, reg_param, reg_type, verbose, truncation, burn_in, cardinality, timer, candidate_ranges, threads)\u001b[0m\n\u001b[1;32m    215\u001b[0m         weight, variable, factor, ftv, domain_mask, n_edges = self._compile(\n\u001b[0;32m--> 216\u001b[0;31m             L, init_deps, init_class_prior, LF_acc_prior_weights, is_fixed, self.cardinalities)\n\u001b[0m\u001b[1;32m    217\u001b[0m         fg = NumbSkull(\n",
      "\u001b[0;32m~/Desktop/snorkel/snorkel/learning/gen_learning.py\u001b[0m in \u001b[0;36m_compile\u001b[0;34m(self, L, init_deps, init_class_prior, LF_acc_prior_weights, is_fixed, cardinalities)\u001b[0m\n\u001b[1;32m    671\u001b[0m         f_off, ftv_off, w_off = self._compile_output_factors(L, factor, f_off, ftv, ftv_off, w_off, \"DP_GEN_LF_ACCURACY\",\n\u001b[0;32m--> 672\u001b[0;31m                                                              (lambda m, n, i, j: i, lambda m, n, i, j: m + n * i + j), nfactors_for_lf)\n\u001b[0m\u001b[1;32m    673\u001b[0m \u001b[0;34m\u001b[0m\u001b[0m\n",
      "\u001b[0;32m~/Desktop/snorkel/snorkel/learning/gen_learning.py\u001b[0m in \u001b[0;36m_compile_output_factors\u001b[0;34m(self, L, factors, factors_offset, ftv, ftv_offset, weight_offset, factor_name, vid_funcs, nfactors_for_lf)\u001b[0m\n\u001b[1;32m    776\u001b[0m                         \u001b[0mfactors\u001b[0m\u001b[0;34m[\u001b[0m\u001b[0mfactors_index\u001b[0m\u001b[0;34m]\u001b[0m\u001b[0;34m[\u001b[0m\u001b[0;34m\"arity\"\u001b[0m\u001b[0;34m]\u001b[0m \u001b[0;34m=\u001b[0m \u001b[0mlen\u001b[0m\u001b[0;34m(\u001b[0m\u001b[0mvid_funcs\u001b[0m\u001b[0;34m)\u001b[0m\u001b[0;34m\u001b[0m\u001b[0m\n\u001b[0;32m--> 777\u001b[0;31m                         \u001b[0mfactors\u001b[0m\u001b[0;34m[\u001b[0m\u001b[0mfactors_index\u001b[0m\u001b[0;34m]\u001b[0m\u001b[0;34m[\u001b[0m\u001b[0;34m\"ftv_offset\"\u001b[0m\u001b[0;34m]\u001b[0m \u001b[0;34m=\u001b[0m \u001b[0mftv_index\u001b[0m\u001b[0;34m\u001b[0m\u001b[0m\n\u001b[0m\u001b[1;32m    778\u001b[0m \u001b[0;34m\u001b[0m\u001b[0m\n",
      "\u001b[0;31mKeyboardInterrupt\u001b[0m: ",
      "\nDuring handling of the above exception, another exception occurred:\n",
      "\u001b[0;31mUnboundLocalError\u001b[0m                         Traceback (most recent call last)",
      "\u001b[0;32m<ipython-input-77-6a4f1aa14eec>\u001b[0m in \u001b[0;36m<module>\u001b[0;34m()\u001b[0m\n\u001b[1;32m      6\u001b[0m \u001b[0;34m\u001b[0m\u001b[0m\n\u001b[1;32m      7\u001b[0m                     \u001b[0mprint\u001b[0m\u001b[0;34m(\u001b[0m\u001b[0;34m\"grid search with L_train\"\u001b[0m\u001b[0;34m,\u001b[0m\u001b[0;34m\"step_size_nominator\"\u001b[0m\u001b[0;34m,\u001b[0m\u001b[0mstep_size_nominator\u001b[0m\u001b[0;34m,\u001b[0m\u001b[0;34m\"epochs\"\u001b[0m\u001b[0;34m,\u001b[0m\u001b[0mepochs\u001b[0m\u001b[0;34m,\u001b[0m\u001b[0;34m\"decay\"\u001b[0m\u001b[0;34m,\u001b[0m\u001b[0mdecay\u001b[0m\u001b[0;34m,\u001b[0m\u001b[0;34m\"reg_param\"\u001b[0m\u001b[0;34m,\u001b[0m\u001b[0mreg_param\u001b[0m\u001b[0;34m,\u001b[0m\u001b[0;34m\"lf_propensity\"\u001b[0m\u001b[0;34m,\u001b[0m\u001b[0mlf_propensity\u001b[0m\u001b[0;34m)\u001b[0m\u001b[0;34m\u001b[0m\u001b[0m\n\u001b[0;32m----> 8\u001b[0;31m                     \u001b[0mgen_model\u001b[0m\u001b[0;34m,\u001b[0m\u001b[0mtrain_marginals\u001b[0m\u001b[0;34m=\u001b[0m\u001b[0mget_train_marginals\u001b[0m\u001b[0;34m(\u001b[0m\u001b[0mL_train\u001b[0m\u001b[0;34m,\u001b[0m\u001b[0mthreads\u001b[0m\u001b[0;34m=\u001b[0m\u001b[0;36m18\u001b[0m\u001b[0;34m,\u001b[0m\u001b[0mlf_propensity\u001b[0m\u001b[0;34m=\u001b[0m\u001b[0mlf_propensity\u001b[0m\u001b[0;34m,\u001b[0m\u001b[0mstep_size_nominator\u001b[0m\u001b[0;34m=\u001b[0m\u001b[0mstep_size_nominator\u001b[0m\u001b[0;34m,\u001b[0m\u001b[0mepochs\u001b[0m\u001b[0;34m=\u001b[0m\u001b[0mepochs\u001b[0m\u001b[0;34m,\u001b[0m\u001b[0mdecay\u001b[0m\u001b[0;34m=\u001b[0m\u001b[0mdecay\u001b[0m\u001b[0;34m,\u001b[0m\u001b[0mreg_param\u001b[0m\u001b[0;34m=\u001b[0m\u001b[0mreg_param\u001b[0m\u001b[0;34m)\u001b[0m\u001b[0;34m\u001b[0m\u001b[0m\n\u001b[0m\u001b[1;32m      9\u001b[0m                     \u001b[0;32massert\u001b[0m \u001b[0mnp\u001b[0m\u001b[0;34m.\u001b[0m\u001b[0mall\u001b[0m\u001b[0;34m(\u001b[0m\u001b[0mtrain_marginals\u001b[0m\u001b[0;34m.\u001b[0m\u001b[0msum\u001b[0m\u001b[0;34m(\u001b[0m\u001b[0maxis\u001b[0m\u001b[0;34m=\u001b[0m\u001b[0;36m1\u001b[0m\u001b[0;34m)\u001b[0m \u001b[0;34m-\u001b[0m \u001b[0mnp\u001b[0m\u001b[0;34m.\u001b[0m\u001b[0mones\u001b[0m\u001b[0;34m(\u001b[0m\u001b[0mtrain_marginals\u001b[0m\u001b[0;34m.\u001b[0m\u001b[0mshape\u001b[0m\u001b[0;34m[\u001b[0m\u001b[0;36m0\u001b[0m\u001b[0;34m]\u001b[0m\u001b[0;34m)\u001b[0m \u001b[0;34m<\u001b[0m \u001b[0;36m1e-10\u001b[0m\u001b[0;34m)\u001b[0m\u001b[0;34m\u001b[0m\u001b[0m\n\u001b[1;32m     10\u001b[0m \u001b[0;34m\u001b[0m\u001b[0m\n",
      "\u001b[0;32m<ipython-input-73-63a91c8e6f2b>\u001b[0m in \u001b[0;36mget_train_marginals\u001b[0;34m(L_train, step_size_nominator, epochs, lf_propensity, threads, class_prior, decay, reg_param)\u001b[0m\n\u001b[1;32m     37\u001b[0m     \u001b[0;32mexcept\u001b[0m\u001b[0;34m:\u001b[0m\u001b[0;34m\u001b[0m\u001b[0m\n\u001b[1;32m     38\u001b[0m         \u001b[0mprint\u001b[0m\u001b[0;34m(\u001b[0m\u001b[0;34m\"exception! \"\u001b[0m\u001b[0;34m)\u001b[0m\u001b[0;34m\u001b[0m\u001b[0m\n\u001b[0;32m---> 39\u001b[0;31m         \u001b[0;32mreturn\u001b[0m \u001b[0mgen_model\u001b[0m\u001b[0;34m,\u001b[0m\u001b[0mtrain_marginals\u001b[0m\u001b[0;34m\u001b[0m\u001b[0m\n\u001b[0m",
      "\u001b[0;31mUnboundLocalError\u001b[0m: local variable 'train_marginals' referenced before assignment"
     ]
    }
   ],
   "source": [
    "for reg_param in [1e-3]:#,1e-6]: #[1e-3, 1e-6]:\n",
    "    for decay in [0.95]: #[1.0,0.95]:\n",
    "        for step_size_nominator in [0.01,0.001]: # [0.01, 0.1, 1]:\n",
    "            for epochs in [2,3,4,5,7,10]:#,30,50,100,200,500]:\n",
    "                for lf_propensity in [False]:\n",
    "                    \n",
    "                    print(\"grid search with L_train\",\"step_size_nominator\",step_size_nominator,\"epochs\",epochs,\"decay\",decay,\"reg_param\",reg_param,\"lf_propensity\",lf_propensity)\n",
    "                    gen_model,train_marginals=get_train_marginals(L_train,threads=18,lf_propensity=lf_propensity,step_size_nominator=step_size_nominator,epochs=epochs,decay=decay,reg_param=reg_param)\n",
    "                    assert np.all(train_marginals.sum(axis=1) - np.ones(train_marginals.shape[0]) < 1e-10)\n",
    "\n",
    "                    winHighlight=train_marginals.argmax(axis=1)\n",
    "                    print(\"PP\",(winHighlight==0).sum())\n",
    "                    print(\"MN\",(winHighlight==1).sum())\n",
    "                    print(\"NULL\",(winHighlight==2).sum())\n",
    "\n",
    "                    # Amendment!!! winning highligh with default as NULL (the last occurence of largest value)\n",
    "                    train_marginals_reverse = train_marginals[:,::-1]\n",
    "                    winHighlight = train_marginals.shape[1] - np.argmax(train_marginals_reverse,axis=1) - 1\n",
    "                    print(\"amend PP\",(winHighlight==0).sum())\n",
    "                    print(\"amend MN\",(winHighlight==1).sum())\n",
    "                    print(\"amend NULL\",(winHighlight==2).sum())\n"
   ]
  },
  {
   "cell_type": "code",
   "execution_count": 20,
   "metadata": {},
   "outputs": [
    {
     "name": "stdout",
     "output_type": "stream",
     "text": [
      "2018-10-15 21:24:00.856530\n",
      "Compiles variable matrix\n",
      "_compile finished!\n",
      "Compiles variable matrix\n",
      "_compile finished!\n",
      "training finished \n",
      "2018-10-15 21:25:48.450570\n",
      "Finished training generative model, now checking performance against development set labels...\n",
      "Calculating marginals!\n",
      "no exception\n",
      "2018-10-15 21:25:53.116946\n",
      "PP 16235\n",
      "MN 4376\n",
      "NULL 4039\n",
      "amend PP 7239\n",
      "amend MN 4376\n",
      "amend NULL 13035\n"
     ]
    }
   ],
   "source": [
    "reg_param=1e-3\n",
    "decay=0.95\n",
    "step_size_nominator=0.01\n",
    "epochs=5\n",
    "lf_propensity=False\n",
    "                        \n",
    "gen_model,train_marginals=get_train_marginals(L_train,threads=18,step_size_nominator=step_size_nominator,lf_propensity=lf_propensity,epochs=epochs,decay=decay,reg_param=reg_param)\n",
    "assert np.all(train_marginals.sum(axis=1) - np.ones(train_marginals.shape[0]) < 1e-10)\n",
    "\n",
    "winHighlight=train_marginals.argmax(axis=1)\n",
    "print(\"PP\",(winHighlight==0).sum())\n",
    "print(\"MN\",(winHighlight==1).sum())\n",
    "print(\"NULL\",(winHighlight==2).sum())\n",
    "\n",
    "# Amendment!!! winning highligh with default as NULL (the last occurence of largest value)\n",
    "train_marginals_reverse = train_marginals[:,::-1]\n",
    "winHighlight = train_marginals.shape[1] - np.argmax(train_marginals_reverse,axis=1) - 1\n",
    "print(\"amend PP\",(winHighlight==0).sum())\n",
    "print(\"amend MN\",(winHighlight==1).sum())\n",
    "print(\"amend NULL\",(winHighlight==2).sum())"
   ]
  },
  {
   "cell_type": "markdown",
   "metadata": {},
   "source": [
    "Let's check if the generative labels makes any sense. (heatmap visualization)"
   ]
  },
  {
   "cell_type": "code",
   "execution_count": 19,
   "metadata": {},
   "outputs": [
    {
     "name": "stdout",
     "output_type": "stream",
     "text": [
      "0\n",
      "10000\n",
      "20000\n",
      "dispatch finished!! \n",
      "visualizing docid semanticDBLP_205794e3b86e1344d211b4034202a885f51c6ff4\n",
      "visualizing docid semanticDBLP_7033e89cfa3af1c926b76abf8a58661d25b1f123\n",
      "visualizing docid semanticDBLP_79c561f9aa5ff7c3ad9e955efa8a0c1302a120d7\n",
      "visualizing docid semanticDBLP_11eab6fa1be6773bf998a39c0356eebd2a3b2cd2\n",
      "visualizing docid semanticDBLP_38ed7f4c4f0cd7eb6c6ffed6910b52be017766b0\n",
      "visualizing docid semanticDBLP_d552c10707b11379c6aa2c760c616cee30e962cf\n",
      "visualizing docid semanticDBLP_858e372fd0c105f1b0b07673e559dcc98264f067\n",
      "visualizing docid semanticDBLP_5d2c8fd97ebd722fbe3f8efe067f71c920e92afd\n",
      "visualizing docid semanticDBLP_6361ec3fef8b2acec79c05603ee60d64e11bdd4e\n",
      "visualizing docid semanticDBLP_02b18edd01d54a85fac91b734aff22ce08c49f55\n",
      "visualizing docid semanticDBLP_4018e54f58063267ca4d435917f7467eaedbed0a\n",
      "visualizing docid semanticDBLP_149cea64b3cad4a2bfd2b94839c56bc507678992\n",
      "visualizing docid semanticDBLP_d8b9ba8d23f43b50a8972b767691b6030985360e\n",
      "visualizing docid semanticDBLP_082628dd62ad44660cb9b39c6f03cdd4de214b80\n",
      "visualizing docid semanticDBLP_5ebb6ba40ba8a5dea2e948420ccc46f6323bebc9\n",
      "visualizing docid semanticDBLP_a0a1c3364b2d189a6d0cc968a28d81487ccd8329\n",
      "visualizing docid semanticDBLP_48d0e52881e04d8f4893b91ef02d2c30d65411b5\n",
      "visualizing docid semanticDBLP_4bf34865824b17cd48b280935fc6b9418daa9c87\n",
      "visualizing docid semanticDBLP_b38d10638c8d8f1ce97df707b5fa19d7b8ad41fd\n",
      "visualizing docid semanticDBLP_180a6b1d248d7a9cb1632a7e5d978aa6d5f86d53\n"
     ]
    },
    {
     "name": "stderr",
     "output_type": "stream",
     "text": [
      "/anaconda3/lib/python3.6/site-packages/matplotlib/pyplot.py:537: RuntimeWarning: More than 20 figures have been opened. Figures created through the pyplot interface (`matplotlib.pyplot.figure`) are retained until explicitly closed and may consume too much memory. (To control this warning, see the rcParam `figure.max_open_warning`).\n",
      "  max_open_warning, RuntimeWarning)\n"
     ]
    },
    {
     "name": "stdout",
     "output_type": "stream",
     "text": [
      "visualizing docid semanticDBLP_7b9ecbf766ef7abd523497996421d583200244b4\n",
      "visualizing docid semanticDBLP_117499c29435fd9804e742d08976ecb420774003\n",
      "visualizing docid semanticDBLP_a8b9e0eb768def701b9034ba988b2320e6a237ad\n",
      "visualizing docid semanticDBLP_49800883dd0dbc9462ba5a4d25b12c6bbf26475e\n",
      "visualizing docid semanticDBLP_c7610908d02ed5d35bcb4accb9c20e6fc940d157\n",
      "visualizing docid semanticDBLP_c8188951d7fcdb989b412c9055702996912ae695\n",
      "visualizing docid semanticDBLP_244e7f7b85323083bb432e28a3a1dd475c331efd\n",
      "visualizing docid semanticDBLP_8606c40d7bb8e2c103412015288f765c74507b5c\n",
      "visualizing docid semanticDBLP_45fb353d66a13d9adcee53e0d08ead2561855501\n",
      "visualizing docid semanticDBLP_b9084c6c0248a72c6d91bc21228d9a359ff91b1a\n",
      "visualizing docid semanticDBLP_0a3395a1fbac92f330ea994c29ef1571db660b13\n",
      "visualizing docid semanticDBLP_1968fe78e89c8a695c1a62c472f0f38d3b60aca3\n",
      "visualizing docid semanticDBLP_2b4c6070717ccb50202d6925d1fecb01d6ba5896\n",
      "visualizing docid semanticDBLP_b7a3cd23c49b0973dcec2b7145003c605c06e199\n",
      "visualizing docid semanticDBLP_1491084572f77d15cb1367395a4ab8bb8b3cbe1a\n",
      "visualizing docid semanticDBLP_031cd5c3aee0b486f86ed2b290868ea4a377b0ed\n",
      "visualizing docid semanticDBLP_1c3fd3831a0cc3f8b3a64aa0e579cc6d9bc35d48\n",
      "visualizing docid semanticDBLP_6fc8f268815bd58a4f2f4d28ec844b1f032e4f4e\n",
      "visualizing docid semanticDBLP_47fb0e9d2ecc65f503d81be2ff956ff801d10c34\n",
      "visualizing docid semanticDBLP_671bf205d441ce0afc7273461df8cc323bc09316\n",
      "visualizing docid semanticDBLP_28b9bc6bcf8f2bdce6d5458565d327a28c841ebd\n",
      "visualizing docid semanticDBLP_aa37015a3545eb12932667c26b448c2307b7289a\n",
      "visualizing docid semanticDBLP_606ef062f3b5c4016216367a44aedd10db9585c7\n",
      "visualizing docid semanticDBLP_e9f083dd6ffc3a69da5cd3794efd17a88702a034\n",
      "visualizing docid semanticDBLP_99bad5661ea8e8a688fbd63593572056c255ce77\n",
      "visualizing docid semanticDBLP_b947dbbc8793a2ed34475314f814f769757ccc8d\n",
      "visualizing docid semanticDBLP_5b25edaf99383629ddda15e5fb5975ab3489205b\n",
      "visualizing docid semanticDBLP_5dcf59226ae2624ffe05fb0402183f8b66c22253\n",
      "visualizing docid semanticDBLP_323534b1c0a532906d3015483eb59f70e62257a3\n",
      "visualizing docid semanticDBLP_146f5b0743e17a5a31baea6475bdc8fedd81e641\n",
      "visualizing docid semanticDBLP_238d55bb4b66c0543cad332ad77797a680a3b9d6\n",
      "visualizing docid semanticDBLP_4678a033b1eef634b65528a18dc4e36a0047b073\n",
      "visualizing docid semanticDBLP_861e093c9c6da05c474658f65852781e388d1493\n",
      "visualizing docid semanticDBLP_78fa03d2ca02f9c0b1821155fae17a9c68d2c918\n",
      "visualizing docid semanticDBLP_09f68a5d479bf47ee634c6cad17e715bd6b8f44a\n",
      "visualizing docid semanticDBLP_5183ae84611726b4d2e032857afbd03c6cec06e0\n",
      "visualizing docid semanticDBLP_38f4afbc55d3e68d450392a7fce5ef6b3ecc4829\n",
      "visualizing docid semanticDBLP_c1c7b3ef3fd256da092a85dbb31a33abc680c918\n",
      "visualizing docid semanticDBLP_3bca25207755a9de7d4f7690fc7bd72a2cb9cc1b\n",
      "visualizing docid semanticDBLP_3c85de5e8b139fac07ebc1aac58698f67ec39f5a\n",
      "visualizing docid semanticDBLP_c2bcb9f9ccbdc86601a2645db813523970b21171\n",
      "visualizing docid semanticDBLP_3c2a26354dd3fe02b086f71e6e429bb1acdf970d\n",
      "visualizing docid semanticDBLP_26ed19606a57d837b4b9dcc984ff61763cdd0d36\n",
      "visualizing docid semanticDBLP_1057dfcc4e92bf28766d7ad19d7263a8215b0337\n",
      "visualizing docid semanticDBLP_7c9c35c63b088c29ca26c792d6c07e4df38de608\n",
      "visualizing docid semanticDBLP_59d268c46bf5321c7c3d811cd2528dfadf3ce76a\n",
      "visualizing docid semanticDBLP_063209ce088e4ed4be8dd2ecc765f0d6b59e6856\n",
      "visualizing docid semanticDBLP_4996e64c24cef33d0f7e5a2b1c3baf00e51493e6\n",
      "visualizing docid semanticDBLP_f1e80b3744b16b3c240a31fa881b34e9c9c905d2\n",
      "visualizing docid semanticDBLP_052f5d5c6ecae4bded1fa94df939de6dbff2e91e\n",
      "visualizing docid semanticDBLP_6a1bc3768471926d65afe3c228e400bf96b61b6f\n",
      "visualizing docid semanticDBLP_bf24cc9d77a1e08d2b36a6c37f573fca3b1c8b41\n",
      "visualizing docid semanticDBLP_b986a506bd9abce75b8313a243e123f06438349f\n",
      "visualizing docid semanticDBLP_1dde770f6fc8438810a7c3aff58f1f0ad5987d3c\n",
      "visualizing docid semanticDBLP_5b052dfecbd8bcd253f92e63cbe3457cf826995a\n",
      "visualizing docid semanticDBLP_5ecd4e3bc3ad84c698ada20ee1df1d7c5366ac37\n",
      "visualizing docid semanticDBLP_03c86f411eaa96757fce6bcf3fc3d12cec2b9a8b\n",
      "visualizing docid semanticDBLP_35ab37a5305b3db6a25b134667cb5829d51dbbec\n",
      "visualizing docid semanticDBLP_713698f449fe8da58e91102c6f66da73bdf353e0\n",
      "visualizing docid semanticDBLP_a146d4cb962daf6d206d10b48a97813c6bfe7eff\n",
      "visualizing docid semanticDBLP_7193c6350aadd9b876dff4febe95ebb33b7f23d1\n",
      "visualizing docid semanticDBLP_0ff6a3c13f5ee3e2f965e8b50aa4873450d73eb3\n",
      "visualizing docid semanticDBLP_1ba74ad9e90a6f7c74d1a606a457715ab12b80ae\n",
      "visualizing docid semanticDBLP_9a207beb12cf30ac0aca6bb1db5b0e15fc168989\n",
      "visualizing docid semanticDBLP_0bd8587f9b2d6479cca033f00b596df27c107060\n",
      "visualizing docid semanticDBLP_4efa861ac966c85b03b99b6e7b13ea7c2cef325f\n",
      "visualizing docid semanticDBLP_9ad0aa540e28a6f5005aac938a9b3e49f5a94937\n",
      "visualizing docid semanticDBLP_12fc9910985d06acbcb20ca7c177a1ff757091c5\n",
      "visualizing docid semanticDBLP_2f3a6728b87283ccf0f8822f7a60bca8280f0957\n",
      "visualizing docid semanticDBLP_85757eb30ec1fa45ef40012d791f926ff6c6b774\n",
      "visualizing docid semanticDBLP_3616bf8de5afb8028a9f3650647adfc61099cace\n",
      "visualizing docid semanticDBLP_d9fa9863a2ed994c2cc18097c4b5fd78910f6d6a\n",
      "visualizing docid semanticDBLP_57e9f817c0fe4c55f99c59250ed3bdad6e917bdb\n",
      "visualizing docid semanticDBLP_8d3b104890de1d4fcce19488091ccf739389a162\n",
      "visualizing docid semanticDBLP_121590032afc0e9d27e725abfdccc0cebc11fb95\n",
      "visualizing docid semanticDBLP_af2aed975d677b7b511af2886bfcb6707014c930\n",
      "visualizing docid semanticDBLP_28e0c6b210dcb04a9403be77cf9b7d54cd5d43ba\n",
      "visualizing docid semanticDBLP_1959b18e5a59bedc2ba79200d5d70734dbd8126f\n",
      "visualizing docid semanticDBLP_dd6b6beba7202deb1ceeb241438fdfd48e88b394\n",
      "visualizing docid semanticDBLP_217ccdcdda0a02eff7be262c9150b3a342ca2d35\n",
      "visualizing docid semanticDBLP_4a2fb95ec92b9979f26b8f8df81773182751ed9e\n",
      "visualizing docid semanticDBLP_383378b940ac2c7cdcd29c653033857e99ff02c5\n",
      "visualizing docid semanticDBLP_2f95a3d17638fe756fec46659b9f612f2655c710\n",
      "visualizing docid semanticDBLP_0410659b6a311b281d10e0e44abce9b1c06be462\n",
      "visualizing docid semanticDBLP_2723f2f51526d9a144b92398b5f2ea668649ba0e\n",
      "visualizing docid semanticDBLP_da102cfa5805dfef99967101a19a8e8a475d35aa\n",
      "visualizing docid semanticDBLP_47fb1844540564131e3205b0ebc569ea657c5fe5\n",
      "visualizing docid semanticDBLP_189a77a72588fb93e97006fb65b5f1b78c8f81d6\n",
      "visualizing docid semanticDBLP_20e03b330c9b3f7ddb7e57eee943936b25a578c4\n",
      "visualizing docid semanticDBLP_ce272a33c50c38090221c81ed78382423b12c965\n",
      "visualizing docid semanticDBLP_b24514bc79e30b1d8c494499796b8dd1004d6aa2\n",
      "0\n",
      "10000\n",
      "20000\n",
      "dispatch finished!! \n",
      "visualizing docid semanticDBLP_205794e3b86e1344d211b4034202a885f51c6ff4\n",
      "visualizing docid semanticDBLP_7033e89cfa3af1c926b76abf8a58661d25b1f123\n",
      "visualizing docid semanticDBLP_79c561f9aa5ff7c3ad9e955efa8a0c1302a120d7\n",
      "visualizing docid semanticDBLP_11eab6fa1be6773bf998a39c0356eebd2a3b2cd2\n",
      "visualizing docid semanticDBLP_38ed7f4c4f0cd7eb6c6ffed6910b52be017766b0\n",
      "visualizing docid semanticDBLP_d552c10707b11379c6aa2c760c616cee30e962cf\n",
      "visualizing docid semanticDBLP_858e372fd0c105f1b0b07673e559dcc98264f067\n",
      "visualizing docid semanticDBLP_5d2c8fd97ebd722fbe3f8efe067f71c920e92afd\n",
      "visualizing docid semanticDBLP_6361ec3fef8b2acec79c05603ee60d64e11bdd4e\n",
      "visualizing docid semanticDBLP_02b18edd01d54a85fac91b734aff22ce08c49f55\n",
      "visualizing docid semanticDBLP_4018e54f58063267ca4d435917f7467eaedbed0a\n",
      "visualizing docid semanticDBLP_149cea64b3cad4a2bfd2b94839c56bc507678992\n",
      "visualizing docid semanticDBLP_d8b9ba8d23f43b50a8972b767691b6030985360e\n",
      "visualizing docid semanticDBLP_082628dd62ad44660cb9b39c6f03cdd4de214b80\n",
      "visualizing docid semanticDBLP_5ebb6ba40ba8a5dea2e948420ccc46f6323bebc9\n",
      "visualizing docid semanticDBLP_a0a1c3364b2d189a6d0cc968a28d81487ccd8329\n",
      "visualizing docid semanticDBLP_48d0e52881e04d8f4893b91ef02d2c30d65411b5\n",
      "visualizing docid semanticDBLP_4bf34865824b17cd48b280935fc6b9418daa9c87\n",
      "visualizing docid semanticDBLP_b38d10638c8d8f1ce97df707b5fa19d7b8ad41fd\n",
      "visualizing docid semanticDBLP_180a6b1d248d7a9cb1632a7e5d978aa6d5f86d53\n",
      "visualizing docid semanticDBLP_7b9ecbf766ef7abd523497996421d583200244b4\n",
      "visualizing docid semanticDBLP_117499c29435fd9804e742d08976ecb420774003\n",
      "visualizing docid semanticDBLP_a8b9e0eb768def701b9034ba988b2320e6a237ad\n"
     ]
    },
    {
     "name": "stdout",
     "output_type": "stream",
     "text": [
      "visualizing docid semanticDBLP_49800883dd0dbc9462ba5a4d25b12c6bbf26475e\n",
      "visualizing docid semanticDBLP_c7610908d02ed5d35bcb4accb9c20e6fc940d157\n",
      "visualizing docid semanticDBLP_c8188951d7fcdb989b412c9055702996912ae695\n",
      "visualizing docid semanticDBLP_244e7f7b85323083bb432e28a3a1dd475c331efd\n",
      "visualizing docid semanticDBLP_8606c40d7bb8e2c103412015288f765c74507b5c\n",
      "visualizing docid semanticDBLP_45fb353d66a13d9adcee53e0d08ead2561855501\n",
      "visualizing docid semanticDBLP_b9084c6c0248a72c6d91bc21228d9a359ff91b1a\n",
      "visualizing docid semanticDBLP_0a3395a1fbac92f330ea994c29ef1571db660b13\n",
      "visualizing docid semanticDBLP_1968fe78e89c8a695c1a62c472f0f38d3b60aca3\n",
      "visualizing docid semanticDBLP_2b4c6070717ccb50202d6925d1fecb01d6ba5896\n",
      "visualizing docid semanticDBLP_b7a3cd23c49b0973dcec2b7145003c605c06e199\n",
      "visualizing docid semanticDBLP_1491084572f77d15cb1367395a4ab8bb8b3cbe1a\n",
      "visualizing docid semanticDBLP_031cd5c3aee0b486f86ed2b290868ea4a377b0ed\n",
      "visualizing docid semanticDBLP_1c3fd3831a0cc3f8b3a64aa0e579cc6d9bc35d48\n",
      "visualizing docid semanticDBLP_6fc8f268815bd58a4f2f4d28ec844b1f032e4f4e\n",
      "visualizing docid semanticDBLP_47fb0e9d2ecc65f503d81be2ff956ff801d10c34\n",
      "visualizing docid semanticDBLP_671bf205d441ce0afc7273461df8cc323bc09316\n",
      "visualizing docid semanticDBLP_28b9bc6bcf8f2bdce6d5458565d327a28c841ebd\n",
      "visualizing docid semanticDBLP_aa37015a3545eb12932667c26b448c2307b7289a\n",
      "visualizing docid semanticDBLP_606ef062f3b5c4016216367a44aedd10db9585c7\n",
      "visualizing docid semanticDBLP_e9f083dd6ffc3a69da5cd3794efd17a88702a034\n",
      "visualizing docid semanticDBLP_99bad5661ea8e8a688fbd63593572056c255ce77\n",
      "visualizing docid semanticDBLP_b947dbbc8793a2ed34475314f814f769757ccc8d\n",
      "visualizing docid semanticDBLP_5b25edaf99383629ddda15e5fb5975ab3489205b\n",
      "visualizing docid semanticDBLP_5dcf59226ae2624ffe05fb0402183f8b66c22253\n",
      "visualizing docid semanticDBLP_323534b1c0a532906d3015483eb59f70e62257a3\n",
      "visualizing docid semanticDBLP_146f5b0743e17a5a31baea6475bdc8fedd81e641\n",
      "visualizing docid semanticDBLP_238d55bb4b66c0543cad332ad77797a680a3b9d6\n",
      "visualizing docid semanticDBLP_4678a033b1eef634b65528a18dc4e36a0047b073\n",
      "visualizing docid semanticDBLP_861e093c9c6da05c474658f65852781e388d1493\n",
      "visualizing docid semanticDBLP_78fa03d2ca02f9c0b1821155fae17a9c68d2c918\n",
      "visualizing docid semanticDBLP_09f68a5d479bf47ee634c6cad17e715bd6b8f44a\n",
      "visualizing docid semanticDBLP_5183ae84611726b4d2e032857afbd03c6cec06e0\n",
      "visualizing docid semanticDBLP_38f4afbc55d3e68d450392a7fce5ef6b3ecc4829\n",
      "visualizing docid semanticDBLP_c1c7b3ef3fd256da092a85dbb31a33abc680c918\n",
      "visualizing docid semanticDBLP_3bca25207755a9de7d4f7690fc7bd72a2cb9cc1b\n",
      "visualizing docid semanticDBLP_3c85de5e8b139fac07ebc1aac58698f67ec39f5a\n",
      "visualizing docid semanticDBLP_c2bcb9f9ccbdc86601a2645db813523970b21171\n",
      "visualizing docid semanticDBLP_3c2a26354dd3fe02b086f71e6e429bb1acdf970d\n",
      "visualizing docid semanticDBLP_26ed19606a57d837b4b9dcc984ff61763cdd0d36\n",
      "visualizing docid semanticDBLP_1057dfcc4e92bf28766d7ad19d7263a8215b0337\n",
      "visualizing docid semanticDBLP_7c9c35c63b088c29ca26c792d6c07e4df38de608\n",
      "visualizing docid semanticDBLP_59d268c46bf5321c7c3d811cd2528dfadf3ce76a\n",
      "visualizing docid semanticDBLP_063209ce088e4ed4be8dd2ecc765f0d6b59e6856\n",
      "visualizing docid semanticDBLP_4996e64c24cef33d0f7e5a2b1c3baf00e51493e6\n",
      "visualizing docid semanticDBLP_f1e80b3744b16b3c240a31fa881b34e9c9c905d2\n",
      "visualizing docid semanticDBLP_052f5d5c6ecae4bded1fa94df939de6dbff2e91e\n",
      "visualizing docid semanticDBLP_6a1bc3768471926d65afe3c228e400bf96b61b6f\n",
      "visualizing docid semanticDBLP_bf24cc9d77a1e08d2b36a6c37f573fca3b1c8b41\n",
      "visualizing docid semanticDBLP_b986a506bd9abce75b8313a243e123f06438349f\n",
      "visualizing docid semanticDBLP_1dde770f6fc8438810a7c3aff58f1f0ad5987d3c\n",
      "visualizing docid semanticDBLP_5b052dfecbd8bcd253f92e63cbe3457cf826995a\n",
      "visualizing docid semanticDBLP_5ecd4e3bc3ad84c698ada20ee1df1d7c5366ac37\n",
      "visualizing docid semanticDBLP_03c86f411eaa96757fce6bcf3fc3d12cec2b9a8b\n",
      "visualizing docid semanticDBLP_35ab37a5305b3db6a25b134667cb5829d51dbbec\n",
      "visualizing docid semanticDBLP_713698f449fe8da58e91102c6f66da73bdf353e0\n",
      "visualizing docid semanticDBLP_a146d4cb962daf6d206d10b48a97813c6bfe7eff\n",
      "visualizing docid semanticDBLP_7193c6350aadd9b876dff4febe95ebb33b7f23d1\n",
      "visualizing docid semanticDBLP_0ff6a3c13f5ee3e2f965e8b50aa4873450d73eb3\n",
      "visualizing docid semanticDBLP_1ba74ad9e90a6f7c74d1a606a457715ab12b80ae\n",
      "visualizing docid semanticDBLP_9a207beb12cf30ac0aca6bb1db5b0e15fc168989\n",
      "visualizing docid semanticDBLP_0bd8587f9b2d6479cca033f00b596df27c107060\n",
      "visualizing docid semanticDBLP_4efa861ac966c85b03b99b6e7b13ea7c2cef325f\n",
      "visualizing docid semanticDBLP_9ad0aa540e28a6f5005aac938a9b3e49f5a94937\n",
      "visualizing docid semanticDBLP_12fc9910985d06acbcb20ca7c177a1ff757091c5\n",
      "visualizing docid semanticDBLP_2f3a6728b87283ccf0f8822f7a60bca8280f0957\n",
      "visualizing docid semanticDBLP_85757eb30ec1fa45ef40012d791f926ff6c6b774\n",
      "visualizing docid semanticDBLP_3616bf8de5afb8028a9f3650647adfc61099cace\n",
      "visualizing docid semanticDBLP_d9fa9863a2ed994c2cc18097c4b5fd78910f6d6a\n",
      "visualizing docid semanticDBLP_57e9f817c0fe4c55f99c59250ed3bdad6e917bdb\n",
      "visualizing docid semanticDBLP_8d3b104890de1d4fcce19488091ccf739389a162\n",
      "visualizing docid semanticDBLP_121590032afc0e9d27e725abfdccc0cebc11fb95\n",
      "visualizing docid semanticDBLP_af2aed975d677b7b511af2886bfcb6707014c930\n",
      "visualizing docid semanticDBLP_28e0c6b210dcb04a9403be77cf9b7d54cd5d43ba\n",
      "visualizing docid semanticDBLP_1959b18e5a59bedc2ba79200d5d70734dbd8126f\n",
      "visualizing docid semanticDBLP_dd6b6beba7202deb1ceeb241438fdfd48e88b394\n",
      "visualizing docid semanticDBLP_217ccdcdda0a02eff7be262c9150b3a342ca2d35\n",
      "visualizing docid semanticDBLP_4a2fb95ec92b9979f26b8f8df81773182751ed9e\n",
      "visualizing docid semanticDBLP_383378b940ac2c7cdcd29c653033857e99ff02c5\n",
      "visualizing docid semanticDBLP_2f95a3d17638fe756fec46659b9f612f2655c710\n",
      "visualizing docid semanticDBLP_0410659b6a311b281d10e0e44abce9b1c06be462\n",
      "visualizing docid semanticDBLP_2723f2f51526d9a144b92398b5f2ea668649ba0e\n",
      "visualizing docid semanticDBLP_da102cfa5805dfef99967101a19a8e8a475d35aa\n",
      "visualizing docid semanticDBLP_47fb1844540564131e3205b0ebc569ea657c5fe5\n",
      "visualizing docid semanticDBLP_189a77a72588fb93e97006fb65b5f1b78c8f81d6\n",
      "visualizing docid semanticDBLP_20e03b330c9b3f7ddb7e57eee943936b25a578c4\n",
      "visualizing docid semanticDBLP_ce272a33c50c38090221c81ed78382423b12c965\n",
      "visualizing docid semanticDBLP_b24514bc79e30b1d8c494499796b8dd1004d6aa2\n"
     ]
    },
    {
     "data": {
      "text/plain": [
       "<Figure size 432x288 with 0 Axes>"
      ]
     },
     "metadata": {},
     "output_type": "display_data"
    },
    {
     "data": {
      "text/plain": [
       "<Figure size 2880x504 with 0 Axes>"
      ]
     },
     "metadata": {},
     "output_type": "display_data"
    },
    {
     "data": {
      "text/plain": [
       "<Figure size 2880x504 with 0 Axes>"
      ]
     },
     "metadata": {},
     "output_type": "display_data"
    },
    {
     "data": {
      "text/plain": [
       "<Figure size 2880x504 with 0 Axes>"
      ]
     },
     "metadata": {},
     "output_type": "display_data"
    },
    {
     "data": {
      "text/plain": [
       "<Figure size 2880x504 with 0 Axes>"
      ]
     },
     "metadata": {},
     "output_type": "display_data"
    },
    {
     "data": {
      "text/plain": [
       "<Figure size 2880x504 with 0 Axes>"
      ]
     },
     "metadata": {},
     "output_type": "display_data"
    },
    {
     "data": {
      "text/plain": [
       "<Figure size 2880x504 with 0 Axes>"
      ]
     },
     "metadata": {},
     "output_type": "display_data"
    },
    {
     "data": {
      "text/plain": [
       "<Figure size 2880x504 with 0 Axes>"
      ]
     },
     "metadata": {},
     "output_type": "display_data"
    },
    {
     "data": {
      "text/plain": [
       "<Figure size 2880x504 with 0 Axes>"
      ]
     },
     "metadata": {},
     "output_type": "display_data"
    },
    {
     "data": {
      "text/plain": [
       "<Figure size 2880x504 with 0 Axes>"
      ]
     },
     "metadata": {},
     "output_type": "display_data"
    },
    {
     "data": {
      "text/plain": [
       "<Figure size 2880x504 with 0 Axes>"
      ]
     },
     "metadata": {},
     "output_type": "display_data"
    },
    {
     "data": {
      "text/plain": [
       "<Figure size 2880x504 with 0 Axes>"
      ]
     },
     "metadata": {},
     "output_type": "display_data"
    },
    {
     "data": {
      "text/plain": [
       "<Figure size 2880x504 with 0 Axes>"
      ]
     },
     "metadata": {},
     "output_type": "display_data"
    },
    {
     "data": {
      "text/plain": [
       "<Figure size 2880x504 with 0 Axes>"
      ]
     },
     "metadata": {},
     "output_type": "display_data"
    },
    {
     "data": {
      "text/plain": [
       "<Figure size 2880x504 with 0 Axes>"
      ]
     },
     "metadata": {},
     "output_type": "display_data"
    },
    {
     "data": {
      "text/plain": [
       "<Figure size 2880x504 with 0 Axes>"
      ]
     },
     "metadata": {},
     "output_type": "display_data"
    },
    {
     "data": {
      "text/plain": [
       "<Figure size 2880x504 with 0 Axes>"
      ]
     },
     "metadata": {},
     "output_type": "display_data"
    },
    {
     "data": {
      "text/plain": [
       "<Figure size 2880x504 with 0 Axes>"
      ]
     },
     "metadata": {},
     "output_type": "display_data"
    },
    {
     "data": {
      "text/plain": [
       "<Figure size 2880x504 with 0 Axes>"
      ]
     },
     "metadata": {},
     "output_type": "display_data"
    },
    {
     "data": {
      "text/plain": [
       "<Figure size 2880x504 with 0 Axes>"
      ]
     },
     "metadata": {},
     "output_type": "display_data"
    },
    {
     "data": {
      "text/plain": [
       "<Figure size 2880x504 with 0 Axes>"
      ]
     },
     "metadata": {},
     "output_type": "display_data"
    },
    {
     "data": {
      "text/plain": [
       "<Figure size 2880x504 with 0 Axes>"
      ]
     },
     "metadata": {},
     "output_type": "display_data"
    },
    {
     "data": {
      "text/plain": [
       "<Figure size 2880x504 with 0 Axes>"
      ]
     },
     "metadata": {},
     "output_type": "display_data"
    },
    {
     "data": {
      "text/plain": [
       "<Figure size 2880x504 with 0 Axes>"
      ]
     },
     "metadata": {},
     "output_type": "display_data"
    },
    {
     "data": {
      "text/plain": [
       "<Figure size 2880x504 with 0 Axes>"
      ]
     },
     "metadata": {},
     "output_type": "display_data"
    },
    {
     "data": {
      "text/plain": [
       "<Figure size 2880x504 with 0 Axes>"
      ]
     },
     "metadata": {},
     "output_type": "display_data"
    },
    {
     "data": {
      "text/plain": [
       "<Figure size 2880x504 with 0 Axes>"
      ]
     },
     "metadata": {},
     "output_type": "display_data"
    },
    {
     "data": {
      "text/plain": [
       "<Figure size 2880x504 with 0 Axes>"
      ]
     },
     "metadata": {},
     "output_type": "display_data"
    },
    {
     "data": {
      "text/plain": [
       "<Figure size 2880x504 with 0 Axes>"
      ]
     },
     "metadata": {},
     "output_type": "display_data"
    },
    {
     "data": {
      "text/plain": [
       "<Figure size 2880x504 with 0 Axes>"
      ]
     },
     "metadata": {},
     "output_type": "display_data"
    },
    {
     "data": {
      "text/plain": [
       "<Figure size 2880x504 with 0 Axes>"
      ]
     },
     "metadata": {},
     "output_type": "display_data"
    },
    {
     "data": {
      "text/plain": [
       "<Figure size 2880x504 with 0 Axes>"
      ]
     },
     "metadata": {},
     "output_type": "display_data"
    },
    {
     "data": {
      "text/plain": [
       "<Figure size 2880x504 with 0 Axes>"
      ]
     },
     "metadata": {},
     "output_type": "display_data"
    },
    {
     "data": {
      "text/plain": [
       "<Figure size 2880x504 with 0 Axes>"
      ]
     },
     "metadata": {},
     "output_type": "display_data"
    },
    {
     "data": {
      "text/plain": [
       "<Figure size 2880x504 with 0 Axes>"
      ]
     },
     "metadata": {},
     "output_type": "display_data"
    },
    {
     "data": {
      "text/plain": [
       "<Figure size 2880x504 with 0 Axes>"
      ]
     },
     "metadata": {},
     "output_type": "display_data"
    },
    {
     "data": {
      "text/plain": [
       "<Figure size 2880x504 with 0 Axes>"
      ]
     },
     "metadata": {},
     "output_type": "display_data"
    },
    {
     "data": {
      "text/plain": [
       "<Figure size 2880x504 with 0 Axes>"
      ]
     },
     "metadata": {},
     "output_type": "display_data"
    },
    {
     "data": {
      "text/plain": [
       "<Figure size 2880x504 with 0 Axes>"
      ]
     },
     "metadata": {},
     "output_type": "display_data"
    },
    {
     "data": {
      "text/plain": [
       "<Figure size 2880x504 with 0 Axes>"
      ]
     },
     "metadata": {},
     "output_type": "display_data"
    },
    {
     "data": {
      "text/plain": [
       "<Figure size 2880x504 with 0 Axes>"
      ]
     },
     "metadata": {},
     "output_type": "display_data"
    },
    {
     "data": {
      "text/plain": [
       "<Figure size 2880x504 with 0 Axes>"
      ]
     },
     "metadata": {},
     "output_type": "display_data"
    },
    {
     "data": {
      "text/plain": [
       "<Figure size 2880x504 with 0 Axes>"
      ]
     },
     "metadata": {},
     "output_type": "display_data"
    },
    {
     "data": {
      "text/plain": [
       "<Figure size 2880x504 with 0 Axes>"
      ]
     },
     "metadata": {},
     "output_type": "display_data"
    },
    {
     "data": {
      "text/plain": [
       "<Figure size 2880x504 with 0 Axes>"
      ]
     },
     "metadata": {},
     "output_type": "display_data"
    },
    {
     "data": {
      "text/plain": [
       "<Figure size 2880x504 with 0 Axes>"
      ]
     },
     "metadata": {},
     "output_type": "display_data"
    },
    {
     "data": {
      "text/plain": [
       "<Figure size 2880x504 with 0 Axes>"
      ]
     },
     "metadata": {},
     "output_type": "display_data"
    },
    {
     "data": {
      "text/plain": [
       "<Figure size 2880x504 with 0 Axes>"
      ]
     },
     "metadata": {},
     "output_type": "display_data"
    },
    {
     "data": {
      "text/plain": [
       "<Figure size 2880x504 with 0 Axes>"
      ]
     },
     "metadata": {},
     "output_type": "display_data"
    },
    {
     "data": {
      "text/plain": [
       "<Figure size 2880x504 with 0 Axes>"
      ]
     },
     "metadata": {},
     "output_type": "display_data"
    },
    {
     "data": {
      "text/plain": [
       "<Figure size 2880x504 with 0 Axes>"
      ]
     },
     "metadata": {},
     "output_type": "display_data"
    },
    {
     "data": {
      "text/plain": [
       "<Figure size 2880x504 with 0 Axes>"
      ]
     },
     "metadata": {},
     "output_type": "display_data"
    },
    {
     "data": {
      "text/plain": [
       "<Figure size 2880x504 with 0 Axes>"
      ]
     },
     "metadata": {},
     "output_type": "display_data"
    },
    {
     "data": {
      "text/plain": [
       "<Figure size 2880x504 with 0 Axes>"
      ]
     },
     "metadata": {},
     "output_type": "display_data"
    },
    {
     "data": {
      "text/plain": [
       "<Figure size 2880x504 with 0 Axes>"
      ]
     },
     "metadata": {},
     "output_type": "display_data"
    },
    {
     "data": {
      "text/plain": [
       "<Figure size 2880x504 with 0 Axes>"
      ]
     },
     "metadata": {},
     "output_type": "display_data"
    },
    {
     "data": {
      "text/plain": [
       "<Figure size 2880x504 with 0 Axes>"
      ]
     },
     "metadata": {},
     "output_type": "display_data"
    },
    {
     "data": {
      "text/plain": [
       "<Figure size 2880x504 with 0 Axes>"
      ]
     },
     "metadata": {},
     "output_type": "display_data"
    },
    {
     "data": {
      "text/plain": [
       "<Figure size 2880x504 with 0 Axes>"
      ]
     },
     "metadata": {},
     "output_type": "display_data"
    },
    {
     "data": {
      "text/plain": [
       "<Figure size 2880x504 with 0 Axes>"
      ]
     },
     "metadata": {},
     "output_type": "display_data"
    },
    {
     "data": {
      "text/plain": [
       "<Figure size 2880x504 with 0 Axes>"
      ]
     },
     "metadata": {},
     "output_type": "display_data"
    },
    {
     "data": {
      "text/plain": [
       "<Figure size 2880x504 with 0 Axes>"
      ]
     },
     "metadata": {},
     "output_type": "display_data"
    },
    {
     "data": {
      "text/plain": [
       "<Figure size 2880x504 with 0 Axes>"
      ]
     },
     "metadata": {},
     "output_type": "display_data"
    },
    {
     "data": {
      "text/plain": [
       "<Figure size 2880x504 with 0 Axes>"
      ]
     },
     "metadata": {},
     "output_type": "display_data"
    },
    {
     "data": {
      "text/plain": [
       "<Figure size 2880x504 with 0 Axes>"
      ]
     },
     "metadata": {},
     "output_type": "display_data"
    },
    {
     "data": {
      "text/plain": [
       "<Figure size 2880x504 with 0 Axes>"
      ]
     },
     "metadata": {},
     "output_type": "display_data"
    },
    {
     "data": {
      "text/plain": [
       "<Figure size 2880x504 with 0 Axes>"
      ]
     },
     "metadata": {},
     "output_type": "display_data"
    },
    {
     "data": {
      "text/plain": [
       "<Figure size 2880x504 with 0 Axes>"
      ]
     },
     "metadata": {},
     "output_type": "display_data"
    },
    {
     "data": {
      "text/plain": [
       "<Figure size 2880x504 with 0 Axes>"
      ]
     },
     "metadata": {},
     "output_type": "display_data"
    },
    {
     "data": {
      "text/plain": [
       "<Figure size 2880x504 with 0 Axes>"
      ]
     },
     "metadata": {},
     "output_type": "display_data"
    },
    {
     "data": {
      "text/plain": [
       "<Figure size 2880x504 with 0 Axes>"
      ]
     },
     "metadata": {},
     "output_type": "display_data"
    },
    {
     "data": {
      "text/plain": [
       "<Figure size 2880x504 with 0 Axes>"
      ]
     },
     "metadata": {},
     "output_type": "display_data"
    },
    {
     "data": {
      "text/plain": [
       "<Figure size 2880x504 with 0 Axes>"
      ]
     },
     "metadata": {},
     "output_type": "display_data"
    },
    {
     "data": {
      "text/plain": [
       "<Figure size 2880x504 with 0 Axes>"
      ]
     },
     "metadata": {},
     "output_type": "display_data"
    },
    {
     "data": {
      "text/plain": [
       "<Figure size 2880x504 with 0 Axes>"
      ]
     },
     "metadata": {},
     "output_type": "display_data"
    },
    {
     "data": {
      "text/plain": [
       "<Figure size 2880x504 with 0 Axes>"
      ]
     },
     "metadata": {},
     "output_type": "display_data"
    },
    {
     "data": {
      "text/plain": [
       "<Figure size 2880x504 with 0 Axes>"
      ]
     },
     "metadata": {},
     "output_type": "display_data"
    },
    {
     "data": {
      "text/plain": [
       "<Figure size 2880x504 with 0 Axes>"
      ]
     },
     "metadata": {},
     "output_type": "display_data"
    },
    {
     "data": {
      "text/plain": [
       "<Figure size 2880x504 with 0 Axes>"
      ]
     },
     "metadata": {},
     "output_type": "display_data"
    },
    {
     "data": {
      "text/plain": [
       "<Figure size 2880x504 with 0 Axes>"
      ]
     },
     "metadata": {},
     "output_type": "display_data"
    },
    {
     "data": {
      "text/plain": [
       "<Figure size 2880x504 with 0 Axes>"
      ]
     },
     "metadata": {},
     "output_type": "display_data"
    },
    {
     "data": {
      "text/plain": [
       "<Figure size 2880x504 with 0 Axes>"
      ]
     },
     "metadata": {},
     "output_type": "display_data"
    },
    {
     "data": {
      "text/plain": [
       "<Figure size 2880x504 with 0 Axes>"
      ]
     },
     "metadata": {},
     "output_type": "display_data"
    },
    {
     "data": {
      "text/plain": [
       "<Figure size 2880x504 with 0 Axes>"
      ]
     },
     "metadata": {},
     "output_type": "display_data"
    },
    {
     "data": {
      "text/plain": [
       "<Figure size 2880x504 with 0 Axes>"
      ]
     },
     "metadata": {},
     "output_type": "display_data"
    },
    {
     "data": {
      "text/plain": [
       "<Figure size 2880x504 with 0 Axes>"
      ]
     },
     "metadata": {},
     "output_type": "display_data"
    },
    {
     "data": {
      "text/plain": [
       "<Figure size 2880x504 with 0 Axes>"
      ]
     },
     "metadata": {},
     "output_type": "display_data"
    },
    {
     "data": {
      "text/plain": [
       "<Figure size 2880x504 with 0 Axes>"
      ]
     },
     "metadata": {},
     "output_type": "display_data"
    },
    {
     "data": {
      "text/plain": [
       "<Figure size 2880x504 with 0 Axes>"
      ]
     },
     "metadata": {},
     "output_type": "display_data"
    },
    {
     "data": {
      "text/plain": [
       "<Figure size 2880x504 with 0 Axes>"
      ]
     },
     "metadata": {},
     "output_type": "display_data"
    },
    {
     "data": {
      "text/plain": [
       "<Figure size 2880x504 with 0 Axes>"
      ]
     },
     "metadata": {},
     "output_type": "display_data"
    },
    {
     "data": {
      "text/plain": [
       "<Figure size 2880x504 with 0 Axes>"
      ]
     },
     "metadata": {},
     "output_type": "display_data"
    },
    {
     "data": {
      "text/plain": [
       "<Figure size 2880x504 with 0 Axes>"
      ]
     },
     "metadata": {},
     "output_type": "display_data"
    },
    {
     "data": {
      "text/plain": [
       "<Figure size 2880x504 with 0 Axes>"
      ]
     },
     "metadata": {},
     "output_type": "display_data"
    },
    {
     "data": {
      "text/plain": [
       "<Figure size 2880x504 with 0 Axes>"
      ]
     },
     "metadata": {},
     "output_type": "display_data"
    },
    {
     "data": {
      "text/plain": [
       "<Figure size 2880x504 with 0 Axes>"
      ]
     },
     "metadata": {},
     "output_type": "display_data"
    },
    {
     "data": {
      "text/plain": [
       "<Figure size 2880x504 with 0 Axes>"
      ]
     },
     "metadata": {},
     "output_type": "display_data"
    },
    {
     "data": {
      "text/plain": [
       "<Figure size 2880x504 with 0 Axes>"
      ]
     },
     "metadata": {},
     "output_type": "display_data"
    },
    {
     "data": {
      "text/plain": [
       "<Figure size 2880x504 with 0 Axes>"
      ]
     },
     "metadata": {},
     "output_type": "display_data"
    },
    {
     "data": {
      "text/plain": [
       "<Figure size 2880x504 with 0 Axes>"
      ]
     },
     "metadata": {},
     "output_type": "display_data"
    },
    {
     "data": {
      "text/plain": [
       "<Figure size 2880x504 with 0 Axes>"
      ]
     },
     "metadata": {},
     "output_type": "display_data"
    },
    {
     "data": {
      "text/plain": [
       "<Figure size 2880x504 with 0 Axes>"
      ]
     },
     "metadata": {},
     "output_type": "display_data"
    },
    {
     "data": {
      "text/plain": [
       "<Figure size 2880x504 with 0 Axes>"
      ]
     },
     "metadata": {},
     "output_type": "display_data"
    },
    {
     "data": {
      "text/plain": [
       "<Figure size 2880x504 with 0 Axes>"
      ]
     },
     "metadata": {},
     "output_type": "display_data"
    },
    {
     "data": {
      "text/plain": [
       "<Figure size 2880x504 with 0 Axes>"
      ]
     },
     "metadata": {},
     "output_type": "display_data"
    },
    {
     "data": {
      "text/plain": [
       "<Figure size 2880x504 with 0 Axes>"
      ]
     },
     "metadata": {},
     "output_type": "display_data"
    },
    {
     "data": {
      "text/plain": [
       "<Figure size 2880x504 with 0 Axes>"
      ]
     },
     "metadata": {},
     "output_type": "display_data"
    },
    {
     "data": {
      "text/plain": [
       "<Figure size 2880x504 with 0 Axes>"
      ]
     },
     "metadata": {},
     "output_type": "display_data"
    },
    {
     "data": {
      "text/plain": [
       "<Figure size 2880x504 with 0 Axes>"
      ]
     },
     "metadata": {},
     "output_type": "display_data"
    },
    {
     "data": {
      "text/plain": [
       "<Figure size 2880x504 with 0 Axes>"
      ]
     },
     "metadata": {},
     "output_type": "display_data"
    },
    {
     "data": {
      "text/plain": [
       "<Figure size 2880x504 with 0 Axes>"
      ]
     },
     "metadata": {},
     "output_type": "display_data"
    },
    {
     "data": {
      "text/plain": [
       "<Figure size 2880x504 with 0 Axes>"
      ]
     },
     "metadata": {},
     "output_type": "display_data"
    },
    {
     "data": {
      "text/plain": [
       "<Figure size 2880x504 with 0 Axes>"
      ]
     },
     "metadata": {},
     "output_type": "display_data"
    },
    {
     "data": {
      "text/plain": [
       "<Figure size 2880x504 with 0 Axes>"
      ]
     },
     "metadata": {},
     "output_type": "display_data"
    },
    {
     "data": {
      "text/plain": [
       "<Figure size 2880x504 with 0 Axes>"
      ]
     },
     "metadata": {},
     "output_type": "display_data"
    },
    {
     "data": {
      "text/plain": [
       "<Figure size 2880x504 with 0 Axes>"
      ]
     },
     "metadata": {},
     "output_type": "display_data"
    },
    {
     "data": {
      "text/plain": [
       "<Figure size 2880x504 with 0 Axes>"
      ]
     },
     "metadata": {},
     "output_type": "display_data"
    },
    {
     "data": {
      "text/plain": [
       "<Figure size 2880x504 with 0 Axes>"
      ]
     },
     "metadata": {},
     "output_type": "display_data"
    },
    {
     "data": {
      "text/plain": [
       "<Figure size 2880x504 with 0 Axes>"
      ]
     },
     "metadata": {},
     "output_type": "display_data"
    },
    {
     "data": {
      "text/plain": [
       "<Figure size 2880x504 with 0 Axes>"
      ]
     },
     "metadata": {},
     "output_type": "display_data"
    },
    {
     "data": {
      "text/plain": [
       "<Figure size 2880x504 with 0 Axes>"
      ]
     },
     "metadata": {},
     "output_type": "display_data"
    },
    {
     "data": {
      "text/plain": [
       "<Figure size 2880x504 with 0 Axes>"
      ]
     },
     "metadata": {},
     "output_type": "display_data"
    },
    {
     "data": {
      "text/plain": [
       "<Figure size 2880x504 with 0 Axes>"
      ]
     },
     "metadata": {},
     "output_type": "display_data"
    },
    {
     "data": {
      "text/plain": [
       "<Figure size 2880x504 with 0 Axes>"
      ]
     },
     "metadata": {},
     "output_type": "display_data"
    },
    {
     "data": {
      "text/plain": [
       "<Figure size 2880x504 with 0 Axes>"
      ]
     },
     "metadata": {},
     "output_type": "display_data"
    },
    {
     "data": {
      "text/plain": [
       "<Figure size 2880x504 with 0 Axes>"
      ]
     },
     "metadata": {},
     "output_type": "display_data"
    },
    {
     "data": {
      "text/plain": [
       "<Figure size 2880x504 with 0 Axes>"
      ]
     },
     "metadata": {},
     "output_type": "display_data"
    },
    {
     "data": {
      "text/plain": [
       "<Figure size 2880x504 with 0 Axes>"
      ]
     },
     "metadata": {},
     "output_type": "display_data"
    },
    {
     "data": {
      "text/plain": [
       "<Figure size 2880x504 with 0 Axes>"
      ]
     },
     "metadata": {},
     "output_type": "display_data"
    },
    {
     "data": {
      "text/plain": [
       "<Figure size 2880x504 with 0 Axes>"
      ]
     },
     "metadata": {},
     "output_type": "display_data"
    },
    {
     "data": {
      "text/plain": [
       "<Figure size 2880x504 with 0 Axes>"
      ]
     },
     "metadata": {},
     "output_type": "display_data"
    },
    {
     "data": {
      "text/plain": [
       "<Figure size 2880x504 with 0 Axes>"
      ]
     },
     "metadata": {},
     "output_type": "display_data"
    },
    {
     "data": {
      "text/plain": [
       "<Figure size 2880x504 with 0 Axes>"
      ]
     },
     "metadata": {},
     "output_type": "display_data"
    },
    {
     "data": {
      "text/plain": [
       "<Figure size 2880x504 with 0 Axes>"
      ]
     },
     "metadata": {},
     "output_type": "display_data"
    },
    {
     "data": {
      "text/plain": [
       "<Figure size 2880x504 with 0 Axes>"
      ]
     },
     "metadata": {},
     "output_type": "display_data"
    },
    {
     "data": {
      "text/plain": [
       "<Figure size 2880x504 with 0 Axes>"
      ]
     },
     "metadata": {},
     "output_type": "display_data"
    },
    {
     "data": {
      "text/plain": [
       "<Figure size 2880x504 with 0 Axes>"
      ]
     },
     "metadata": {},
     "output_type": "display_data"
    },
    {
     "data": {
      "text/plain": [
       "<Figure size 2880x504 with 0 Axes>"
      ]
     },
     "metadata": {},
     "output_type": "display_data"
    },
    {
     "data": {
      "text/plain": [
       "<Figure size 2880x504 with 0 Axes>"
      ]
     },
     "metadata": {},
     "output_type": "display_data"
    },
    {
     "data": {
      "text/plain": [
       "<Figure size 2880x504 with 0 Axes>"
      ]
     },
     "metadata": {},
     "output_type": "display_data"
    },
    {
     "data": {
      "text/plain": [
       "<Figure size 2880x504 with 0 Axes>"
      ]
     },
     "metadata": {},
     "output_type": "display_data"
    },
    {
     "data": {
      "text/plain": [
       "<Figure size 2880x504 with 0 Axes>"
      ]
     },
     "metadata": {},
     "output_type": "display_data"
    },
    {
     "data": {
      "text/plain": [
       "<Figure size 2880x504 with 0 Axes>"
      ]
     },
     "metadata": {},
     "output_type": "display_data"
    },
    {
     "data": {
      "text/plain": [
       "<Figure size 2880x504 with 0 Axes>"
      ]
     },
     "metadata": {},
     "output_type": "display_data"
    },
    {
     "data": {
      "text/plain": [
       "<Figure size 2880x504 with 0 Axes>"
      ]
     },
     "metadata": {},
     "output_type": "display_data"
    },
    {
     "data": {
      "text/plain": [
       "<Figure size 2880x504 with 0 Axes>"
      ]
     },
     "metadata": {},
     "output_type": "display_data"
    },
    {
     "data": {
      "text/plain": [
       "<Figure size 2880x504 with 0 Axes>"
      ]
     },
     "metadata": {},
     "output_type": "display_data"
    },
    {
     "data": {
      "text/plain": [
       "<Figure size 2880x504 with 0 Axes>"
      ]
     },
     "metadata": {},
     "output_type": "display_data"
    },
    {
     "data": {
      "text/plain": [
       "<Figure size 2880x504 with 0 Axes>"
      ]
     },
     "metadata": {},
     "output_type": "display_data"
    },
    {
     "data": {
      "text/plain": [
       "<Figure size 2880x504 with 0 Axes>"
      ]
     },
     "metadata": {},
     "output_type": "display_data"
    },
    {
     "data": {
      "text/plain": [
       "<Figure size 2880x504 with 0 Axes>"
      ]
     },
     "metadata": {},
     "output_type": "display_data"
    },
    {
     "data": {
      "text/plain": [
       "<Figure size 2880x504 with 0 Axes>"
      ]
     },
     "metadata": {},
     "output_type": "display_data"
    },
    {
     "data": {
      "text/plain": [
       "<Figure size 2880x504 with 0 Axes>"
      ]
     },
     "metadata": {},
     "output_type": "display_data"
    },
    {
     "data": {
      "text/plain": [
       "<Figure size 2880x504 with 0 Axes>"
      ]
     },
     "metadata": {},
     "output_type": "display_data"
    },
    {
     "data": {
      "text/plain": [
       "<Figure size 2880x504 with 0 Axes>"
      ]
     },
     "metadata": {},
     "output_type": "display_data"
    },
    {
     "data": {
      "text/plain": [
       "<Figure size 2880x504 with 0 Axes>"
      ]
     },
     "metadata": {},
     "output_type": "display_data"
    },
    {
     "data": {
      "text/plain": [
       "<Figure size 2880x504 with 0 Axes>"
      ]
     },
     "metadata": {},
     "output_type": "display_data"
    },
    {
     "data": {
      "text/plain": [
       "<Figure size 2880x504 with 0 Axes>"
      ]
     },
     "metadata": {},
     "output_type": "display_data"
    },
    {
     "data": {
      "text/plain": [
       "<Figure size 2880x504 with 0 Axes>"
      ]
     },
     "metadata": {},
     "output_type": "display_data"
    },
    {
     "data": {
      "text/plain": [
       "<Figure size 2880x504 with 0 Axes>"
      ]
     },
     "metadata": {},
     "output_type": "display_data"
    },
    {
     "data": {
      "text/plain": [
       "<Figure size 2880x504 with 0 Axes>"
      ]
     },
     "metadata": {},
     "output_type": "display_data"
    },
    {
     "data": {
      "text/plain": [
       "<Figure size 2880x504 with 0 Axes>"
      ]
     },
     "metadata": {},
     "output_type": "display_data"
    },
    {
     "data": {
      "text/plain": [
       "<Figure size 2880x504 with 0 Axes>"
      ]
     },
     "metadata": {},
     "output_type": "display_data"
    },
    {
     "data": {
      "text/plain": [
       "<Figure size 2880x504 with 0 Axes>"
      ]
     },
     "metadata": {},
     "output_type": "display_data"
    },
    {
     "data": {
      "text/plain": [
       "<Figure size 2880x504 with 0 Axes>"
      ]
     },
     "metadata": {},
     "output_type": "display_data"
    },
    {
     "data": {
      "text/plain": [
       "<Figure size 2880x504 with 0 Axes>"
      ]
     },
     "metadata": {},
     "output_type": "display_data"
    },
    {
     "data": {
      "text/plain": [
       "<Figure size 2880x504 with 0 Axes>"
      ]
     },
     "metadata": {},
     "output_type": "display_data"
    },
    {
     "data": {
      "text/plain": [
       "<Figure size 2880x504 with 0 Axes>"
      ]
     },
     "metadata": {},
     "output_type": "display_data"
    },
    {
     "data": {
      "text/plain": [
       "<Figure size 2880x504 with 0 Axes>"
      ]
     },
     "metadata": {},
     "output_type": "display_data"
    },
    {
     "data": {
      "text/plain": [
       "<Figure size 2880x504 with 0 Axes>"
      ]
     },
     "metadata": {},
     "output_type": "display_data"
    },
    {
     "data": {
      "text/plain": [
       "<Figure size 2880x504 with 0 Axes>"
      ]
     },
     "metadata": {},
     "output_type": "display_data"
    },
    {
     "data": {
      "text/plain": [
       "<Figure size 2880x504 with 0 Axes>"
      ]
     },
     "metadata": {},
     "output_type": "display_data"
    },
    {
     "data": {
      "text/plain": [
       "<Figure size 2880x504 with 0 Axes>"
      ]
     },
     "metadata": {},
     "output_type": "display_data"
    },
    {
     "data": {
      "text/plain": [
       "<Figure size 2880x504 with 0 Axes>"
      ]
     },
     "metadata": {},
     "output_type": "display_data"
    },
    {
     "data": {
      "text/plain": [
       "<Figure size 2880x504 with 0 Axes>"
      ]
     },
     "metadata": {},
     "output_type": "display_data"
    },
    {
     "data": {
      "text/plain": [
       "<Figure size 2880x504 with 0 Axes>"
      ]
     },
     "metadata": {},
     "output_type": "display_data"
    },
    {
     "data": {
      "text/plain": [
       "<Figure size 2880x504 with 0 Axes>"
      ]
     },
     "metadata": {},
     "output_type": "display_data"
    },
    {
     "data": {
      "text/plain": [
       "<Figure size 2880x504 with 0 Axes>"
      ]
     },
     "metadata": {},
     "output_type": "display_data"
    },
    {
     "data": {
      "text/plain": [
       "<Figure size 2880x504 with 0 Axes>"
      ]
     },
     "metadata": {},
     "output_type": "display_data"
    },
    {
     "data": {
      "text/plain": [
       "<Figure size 2880x504 with 0 Axes>"
      ]
     },
     "metadata": {},
     "output_type": "display_data"
    },
    {
     "data": {
      "text/plain": [
       "<Figure size 2880x504 with 0 Axes>"
      ]
     },
     "metadata": {},
     "output_type": "display_data"
    },
    {
     "data": {
      "text/plain": [
       "<Figure size 2880x504 with 0 Axes>"
      ]
     },
     "metadata": {},
     "output_type": "display_data"
    },
    {
     "data": {
      "text/plain": [
       "<Figure size 2880x504 with 0 Axes>"
      ]
     },
     "metadata": {},
     "output_type": "display_data"
    },
    {
     "data": {
      "text/plain": [
       "<Figure size 2880x504 with 0 Axes>"
      ]
     },
     "metadata": {},
     "output_type": "display_data"
    },
    {
     "data": {
      "text/plain": [
       "<Figure size 2880x504 with 0 Axes>"
      ]
     },
     "metadata": {},
     "output_type": "display_data"
    },
    {
     "data": {
      "text/plain": [
       "<Figure size 2880x504 with 0 Axes>"
      ]
     },
     "metadata": {},
     "output_type": "display_data"
    },
    {
     "data": {
      "text/plain": [
       "<Figure size 2880x504 with 0 Axes>"
      ]
     },
     "metadata": {},
     "output_type": "display_data"
    },
    {
     "data": {
      "text/plain": [
       "<Figure size 2880x504 with 0 Axes>"
      ]
     },
     "metadata": {},
     "output_type": "display_data"
    },
    {
     "data": {
      "text/plain": [
       "<Figure size 2880x504 with 0 Axes>"
      ]
     },
     "metadata": {},
     "output_type": "display_data"
    },
    {
     "data": {
      "text/plain": [
       "<Figure size 2880x504 with 0 Axes>"
      ]
     },
     "metadata": {},
     "output_type": "display_data"
    },
    {
     "data": {
      "text/plain": [
       "<Figure size 2880x504 with 0 Axes>"
      ]
     },
     "metadata": {},
     "output_type": "display_data"
    },
    {
     "data": {
      "text/plain": [
       "<Figure size 2880x504 with 0 Axes>"
      ]
     },
     "metadata": {},
     "output_type": "display_data"
    },
    {
     "data": {
      "text/plain": [
       "<Figure size 2880x504 with 0 Axes>"
      ]
     },
     "metadata": {},
     "output_type": "display_data"
    },
    {
     "data": {
      "text/plain": [
       "<Figure size 2880x504 with 0 Axes>"
      ]
     },
     "metadata": {},
     "output_type": "display_data"
    },
    {
     "data": {
      "text/plain": [
       "<Figure size 2880x504 with 0 Axes>"
      ]
     },
     "metadata": {},
     "output_type": "display_data"
    },
    {
     "data": {
      "text/plain": [
       "<Figure size 2880x504 with 0 Axes>"
      ]
     },
     "metadata": {},
     "output_type": "display_data"
    },
    {
     "data": {
      "text/plain": [
       "<Figure size 2880x504 with 0 Axes>"
      ]
     },
     "metadata": {},
     "output_type": "display_data"
    },
    {
     "data": {
      "text/plain": [
       "<Figure size 2880x504 with 0 Axes>"
      ]
     },
     "metadata": {},
     "output_type": "display_data"
    },
    {
     "data": {
      "text/plain": [
       "<Figure size 2880x504 with 0 Axes>"
      ]
     },
     "metadata": {},
     "output_type": "display_data"
    },
    {
     "data": {
      "text/plain": [
       "<Figure size 2880x504 with 0 Axes>"
      ]
     },
     "metadata": {},
     "output_type": "display_data"
    },
    {
     "data": {
      "text/plain": [
       "<Figure size 2880x504 with 0 Axes>"
      ]
     },
     "metadata": {},
     "output_type": "display_data"
    },
    {
     "data": {
      "text/plain": [
       "<Figure size 2880x504 with 0 Axes>"
      ]
     },
     "metadata": {},
     "output_type": "display_data"
    },
    {
     "data": {
      "text/plain": [
       "<Figure size 2880x504 with 0 Axes>"
      ]
     },
     "metadata": {},
     "output_type": "display_data"
    },
    {
     "data": {
      "text/plain": [
       "<Figure size 2880x504 with 0 Axes>"
      ]
     },
     "metadata": {},
     "output_type": "display_data"
    },
    {
     "data": {
      "text/plain": [
       "<Figure size 2880x504 with 0 Axes>"
      ]
     },
     "metadata": {},
     "output_type": "display_data"
    },
    {
     "data": {
      "text/plain": [
       "<Figure size 2880x504 with 0 Axes>"
      ]
     },
     "metadata": {},
     "output_type": "display_data"
    },
    {
     "data": {
      "text/plain": [
       "<Figure size 2880x504 with 0 Axes>"
      ]
     },
     "metadata": {},
     "output_type": "display_data"
    },
    {
     "data": {
      "text/plain": [
       "<Figure size 2880x504 with 0 Axes>"
      ]
     },
     "metadata": {},
     "output_type": "display_data"
    },
    {
     "data": {
      "text/plain": [
       "<Figure size 2880x504 with 0 Axes>"
      ]
     },
     "metadata": {},
     "output_type": "display_data"
    },
    {
     "data": {
      "text/plain": [
       "<Figure size 2880x504 with 0 Axes>"
      ]
     },
     "metadata": {},
     "output_type": "display_data"
    },
    {
     "data": {
      "text/plain": [
       "<Figure size 2880x504 with 0 Axes>"
      ]
     },
     "metadata": {},
     "output_type": "display_data"
    },
    {
     "data": {
      "text/plain": [
       "<Figure size 2880x504 with 0 Axes>"
      ]
     },
     "metadata": {},
     "output_type": "display_data"
    },
    {
     "data": {
      "text/plain": [
       "<Figure size 2880x504 with 0 Axes>"
      ]
     },
     "metadata": {},
     "output_type": "display_data"
    },
    {
     "data": {
      "text/plain": [
       "<Figure size 2880x504 with 0 Axes>"
      ]
     },
     "metadata": {},
     "output_type": "display_data"
    },
    {
     "data": {
      "text/plain": [
       "<Figure size 2880x504 with 0 Axes>"
      ]
     },
     "metadata": {},
     "output_type": "display_data"
    },
    {
     "data": {
      "text/plain": [
       "<Figure size 2880x504 with 0 Axes>"
      ]
     },
     "metadata": {},
     "output_type": "display_data"
    },
    {
     "data": {
      "text/plain": [
       "<Figure size 2880x504 with 0 Axes>"
      ]
     },
     "metadata": {},
     "output_type": "display_data"
    },
    {
     "data": {
      "text/plain": [
       "<Figure size 2880x504 with 0 Axes>"
      ]
     },
     "metadata": {},
     "output_type": "display_data"
    },
    {
     "data": {
      "text/plain": [
       "<Figure size 2880x504 with 0 Axes>"
      ]
     },
     "metadata": {},
     "output_type": "display_data"
    },
    {
     "data": {
      "text/plain": [
       "<Figure size 2880x504 with 0 Axes>"
      ]
     },
     "metadata": {},
     "output_type": "display_data"
    },
    {
     "data": {
      "text/plain": [
       "<Figure size 2880x504 with 0 Axes>"
      ]
     },
     "metadata": {},
     "output_type": "display_data"
    },
    {
     "data": {
      "text/plain": [
       "<Figure size 2880x504 with 0 Axes>"
      ]
     },
     "metadata": {},
     "output_type": "display_data"
    },
    {
     "data": {
      "image/png": "[encoded data removed]",
      "text/plain": [
       "<Figure size 2880x504 with 2 Axes>"
      ]
     },
     "metadata": {},
     "output_type": "display_data"
    }
   ],
   "source": [
    "from collections import defaultdict\n",
    "import matplotlib.pyplot as plt\n",
    "import seaborn as sns\n",
    "import os \n",
    "\n",
    "def pad_reshape(A,width,isFloat=False):\n",
    "    B=np.empty([1,int(A.shape[1]/width+1)*width],dtype=object)\n",
    "    if isFloat:\n",
    "        B=np.zeros([1,int(A.shape[1]/width+1)*width])\n",
    "        B[:,:A.shape[1]]=A\n",
    "    else:\n",
    "        B[:,:A.shape[1]]=A\n",
    "        B[:,A.shape[1]:]=\"\"\n",
    "    return B.reshape(-1,width)\n",
    " \n",
    "\n",
    "def create_new_score_array(smooth_window,score_array,word_array):\n",
    "    new_score_array=np.zeros(score_array.shape)\n",
    "    half_window=int(smooth_window/2)\n",
    "    punctuation=[\",\",\".\"]\n",
    "    for i in range(score_array.shape[1]):\n",
    "        sub_score_array=score_array[0,max(0,i-half_window):i+half_window+1]\n",
    "        sub_word_array=word_array[0,max(0,i-half_window):i+half_window+1]\n",
    "\n",
    "        mid_pos=half_window\n",
    "\n",
    "        left_pos=mid_pos\n",
    "        right_pos=mid_pos\n",
    "#         print(sub_word_array[left_pos],type(sub_word_array[left_pos]))\n",
    "        while left_pos>0 and str(sub_word_array[left_pos-1][0]) not in punctuation:\n",
    "            left_pos-=1\n",
    "        while right_pos<len(sub_word_array):\n",
    "            right_pos+=1\n",
    "            if str(sub_word_array[right_pos-1][0]) in punctuation:\n",
    "                break\n",
    "\n",
    "\n",
    "#         print(i,sub_score_array,sub_word_array,max(0,i-half_window),i+half_window+1)\n",
    "#         print(sub_score_array[left_pos:right_pos],sub_word_array[left_pos:right_pos])\n",
    "#         print(np.mean(sub_score_array[left_pos:right_pos]))\n",
    "        new_score_array[0,i]=np.mean(sub_score_array[left_pos:right_pos])\n",
    "    return new_score_array\n",
    "\n",
    "\n",
    "    \n",
    "def visualize_word_level(tag,unigram_segments,score_list,directory=\"data/word_level_tag_visualization\",smooth_window=0,cmap=\"Greens\"):\n",
    "    doc_dict=defaultdict(lambda:[])\n",
    "\n",
    "    pair_list=list(zip(unigram_segments,score_list))\n",
    "\n",
    "    for ind,pair in enumerate(pair_list):\n",
    "        if ind%10000==0:\n",
    "            print(ind)\n",
    "        docid=pair[0].get_parent().get_parent().name\n",
    "        doc_dict[docid]+=[pair]\n",
    "\n",
    "#     print(doc_dict.keys())\n",
    "    print(\"dispatch finished!! \")\n",
    "\n",
    "    for docid in doc_dict:\n",
    "        print(\"visualizing docid\",docid)\n",
    "        plt.clf()\n",
    "        doc_dict[docid]=sorted(doc_dict[docid], key=lambda pair: (pair[0].get_parent().position, pair[0].get_contexts()[0].get_word_start()))\n",
    "        ordered_word_score_list=[(pair[0].get_parent().text[pair[0].unigram_cue.char_start:pair[0].unigram_cue.char_end+1], pair[1]) for pair in doc_dict[docid]]\n",
    "        df=pd.DataFrame.from_records(ordered_word_score_list,columns=['word','score'])\n",
    "        fig, ax = plt.subplots(figsize=(40,7))  \n",
    "        width=15\n",
    "        score_array=np.asarray(df[['score']]).reshape(1,-1)\n",
    "        word_array=np.asarray(df[['word']]).reshape(1,-1)\n",
    "        \n",
    "        if smooth_window!=0:\n",
    "            score_array=create_new_score_array(smooth_window,score_array,word_array)\n",
    "#             print(new_score_array.shape)\n",
    "        sns.heatmap(pad_reshape(score_array,width,isFloat=True), cmap=cmap, annot=pad_reshape(word_array,width),fmt='',yticklabels=False,xticklabels=False,ax=ax,annot_kws={\"size\": 15})\n",
    "        plt.savefig(os.path.join(directory,\"run\",docid+\"_\"+tag))\n",
    "  \n",
    "sample_size=train_marginals.shape[0]\n",
    "# visualize_word_level(\"PP\",unigram_segments[:sample_size],list(train_marginals[:sample_size,0].reshape(-1))) \n",
    "# visualize_word_level(\"MN\",unigram_segments[:sample_size],list(train_marginals[:sample_size,1].reshape(-1)))\n",
    "\n",
    "\n",
    "smooth_window=3\n",
    "visualize_word_level(\"PP\"+\"_\"+str(smooth_window),unigram_segments[:sample_size],list(train_marginals[:sample_size,0].reshape(-1)),smooth_window=smooth_window,cmap=\"Reds\") \n",
    "visualize_word_level(\"MN\"+\"_\"+str(smooth_window),unigram_segments[:sample_size],list(train_marginals[:sample_size,1].reshape(-1)),smooth_window=smooth_window,cmap=\"Blues\") \n"
   ]
  },
  {
   "cell_type": "markdown",
   "metadata": {},
   "source": [
    "### Section 3: validate LFs performance on a blind set "
   ]
  },
  {
   "cell_type": "code",
   "execution_count": 23,
   "metadata": {},
   "outputs": [
    {
     "name": "stdout",
     "output_type": "stream",
     "text": [
      "len(blind_segments) 24912\n",
      "applying L_train_tmp\n",
      "snorkel_conn_string postgresql:///abstractnetwordworkshop\n",
      "if snorkel_postgres? True\n",
      "2018-10-15 21:59:55.703897\n",
      "snorkel_conn_string postgresql:///abstractnetwordworkshop\n",
      "if snorkel_postgres? True\n",
      "cids_count 24912\n",
      "key_group 0\n",
      "Clearing existing...\n",
      "snorkel_conn_string postgresql:///abstractnetwordworkshop\n",
      "if snorkel_postgres? True\n",
      "clearning..\n",
      "Running UDF...\n",
      "snorkel_conn_string postgresql:///abstractnetwordworkshop\n",
      "if snorkel_postgres? True\n",
      "[========================================] 100%\n",
      "\n",
      "2018-10-15 22:04:03.458812\n",
      "<class 'snorkel.annotations.csr_LabelMatrix'>\n",
      "(24912, 131)\n"
     ]
    },
    {
     "data": {
      "text/markdown": [
       "**Total non_overlapping_coverage on L_train (percentage of labelled over all)**  0.6513326910725755"
      ],
      "text/plain": [
       "<IPython.core.display.Markdown object>"
      ]
     },
     "metadata": {},
     "output_type": "display_data"
    },
    {
     "name": "stdout",
     "output_type": "stream",
     "text": [
      "creating blind_marginals\n",
      "0\n",
      "10000\n",
      "20000\n",
      "dispatch finished!! \n",
      "visualizing docid semanticDBLP_228a17e53ad1d179b3ee5c61012e93ae918f06a1\n",
      "visualizing docid semanticDBLP_9625c624fd58bb1482e94c1ea2c44f5444cb8705\n",
      "visualizing docid semanticDBLP_d6f7059f0bab8b37dd562a950a8e94f32291c1d5\n",
      "visualizing docid semanticDBLP_813308251c76640f0f9f98c54339ae73752793aa\n",
      "visualizing docid semanticDBLP_15cf561bb792c91891c93e63ece9c3563a349203\n",
      "visualizing docid semanticDBLP_0a6a50a9c7a8ce01ac17f280e5d71981129fd422\n",
      "visualizing docid semanticDBLP_3064a7c4e48afc4468e64ab704e7e7cd67a92f99\n",
      "visualizing docid semanticDBLP_f195958433ca86ac6853cfdf210fa985efdc37ee\n",
      "visualizing docid semanticDBLP_0595263d7d7cb7b1c10a0ff8efdce3b5b2c9117b\n",
      "visualizing docid semanticDBLP_3525db650910df1e1749cd5c4de9208d45f6ca6c\n",
      "visualizing docid semanticDBLP_372058d076a1240e4b681295198eb206c397187d\n",
      "visualizing docid semanticDBLP_00cbb42367566a70e3c541d93b5873565b9b1288\n",
      "visualizing docid semanticDBLP_045df65fbc57c340b3b1341155bbfe274c0c2503\n",
      "visualizing docid semanticDBLP_9fe9ad1ece8e71aa8163420c2bf2423a37d947bc\n",
      "visualizing docid semanticDBLP_fb3c0d4a8f8deae19500c8e0a537b4b50c1707b3\n",
      "visualizing docid semanticDBLP_b92087f07d9b184cb09d7877e6565705e38c42e5\n",
      "visualizing docid semanticDBLP_a6845b02026d3f910dff50b308d4b3116918466a\n",
      "visualizing docid semanticDBLP_07c0d2dfcc0a3a1860bd1d56f5dfdd04775ed9b8\n",
      "visualizing docid semanticDBLP_07a5e6b883bab049326cf97e14e0e2431e42d562\n",
      "visualizing docid semanticDBLP_8b0be8ffd696fe1a8f93d2fb878723bbeb715554\n"
     ]
    },
    {
     "name": "stderr",
     "output_type": "stream",
     "text": [
      "/anaconda3/lib/python3.6/site-packages/matplotlib/pyplot.py:537: RuntimeWarning: More than 20 figures have been opened. Figures created through the pyplot interface (`matplotlib.pyplot.figure`) are retained until explicitly closed and may consume too much memory. (To control this warning, see the rcParam `figure.max_open_warning`).\n",
      "  max_open_warning, RuntimeWarning)\n"
     ]
    },
    {
     "name": "stdout",
     "output_type": "stream",
     "text": [
      "visualizing docid semanticDBLP_59880b98a7b27e2e3991523fb59bf407b119d937\n",
      "visualizing docid semanticDBLP_8585e3fa069ab65e706de705360d87b0fa1458c0\n",
      "visualizing docid semanticDBLP_a7f54e286ac15283ae70b9358722d1f33578735d\n",
      "visualizing docid semanticDBLP_ba227bb94ea9414bad8846673c904a10d813e443\n",
      "visualizing docid semanticDBLP_d5765d223191081a82d4e24b1a7719a51d1b049c\n",
      "visualizing docid semanticDBLP_4b76c735bfc7ee9fd02c9aafd0d32d1bf1a344e3\n",
      "visualizing docid semanticDBLP_0a65959b5d94e2fb8223a6f4c065a040222e30dd\n",
      "visualizing docid semanticDBLP_2dc9a902445f6a022d31eba227e25d670b06d661\n",
      "visualizing docid semanticDBLP_09661a6bb7578979e42c75d6ce382baba64d4981\n",
      "visualizing docid semanticDBLP_0ffa890767b5a0fb91d8a4c5276b2745e6f374b9\n",
      "visualizing docid semanticDBLP_256ee281f07d92381d985b7dd56cb4feafa8c0b0\n",
      "visualizing docid semanticDBLP_877f589e4f0f6ac19b5bb22dc1819cda52555fb2\n",
      "visualizing docid semanticDBLP_e9604a8b323e40073c2d690d08c18cd57d2c928c\n",
      "visualizing docid semanticDBLP_1bc7ac71f8bff28f519d8c5a4452159e5834a848\n",
      "visualizing docid semanticDBLP_1eda03469d860ac725122bd27faaae6b2cb47d0d\n",
      "visualizing docid semanticDBLP_e1dc6330f7e54e2119a61f4908af18ef7dec5119\n",
      "visualizing docid semanticDBLP_3d8650c28ae2b0f8d8707265eafe53804f83f416\n",
      "visualizing docid semanticDBLP_2072a5f9ee3bed05607bd1b0f41688514feb2a9f\n",
      "visualizing docid semanticDBLP_c7383c4814bc9b10d6530e3c866e1c15a3a95a59\n",
      "visualizing docid semanticDBLP_7e0087c28022222f9a419daada557d2432c385b5\n",
      "visualizing docid semanticDBLP_69977728ba0d82df3d8e94d8d48ea8cd757801bd\n",
      "visualizing docid semanticDBLP_132a9c3cb3ec037aa51e0e4f7fefdd4d90609240\n",
      "visualizing docid semanticDBLP_ff114430e0c9c3f9568e87364114577278b4afb2\n",
      "visualizing docid semanticDBLP_27ebe7ee551da36bdb19240e0fe211b745e17207\n",
      "visualizing docid semanticDBLP_269bd70aed01e7682535fcf97f3ae7917db57519\n",
      "visualizing docid semanticDBLP_454412677f8c308e2b9850078ca9c54c13bf9839\n",
      "visualizing docid semanticDBLP_27f7e9ff722cad915ba228dce80aa51d883c8e9f\n",
      "visualizing docid semanticDBLP_37f6eabba377b0bb78971d7867df66cf776347c7\n",
      "visualizing docid semanticDBLP_8b15d471ec0f90930ee09f61b9ac45ca8c766298\n",
      "visualizing docid semanticDBLP_4b078c29e028a1b4b5bc42ae0b0a65b27d7c3ef7\n",
      "visualizing docid semanticDBLP_6584cdd5ac482759a7d5f75f45b690e92fbe6185\n",
      "visualizing docid semanticDBLP_0d28f2b9c12d47506e567392c6d0e624c0617e12\n",
      "visualizing docid semanticDBLP_54dae5187de3898d8034719bcaa3e0100ae72d76\n",
      "visualizing docid semanticDBLP_795e7e18d38e6161ed304c10160b07fd32c2cb7a\n",
      "visualizing docid semanticDBLP_f8a318bf17d8458fec1b524b9181b21ed81e58a7\n",
      "visualizing docid semanticDBLP_e948c1ca7a49db2879c76145795421eb5b51719a\n",
      "visualizing docid semanticDBLP_05c91e8a29483ced50c5f2d869617b80f7dacdd9\n",
      "visualizing docid semanticDBLP_c6b3dc3ae8f440b8d4787ac6c8be86677c33dda7\n",
      "visualizing docid semanticDBLP_de837239e81382447b28e495dcebe869e771c7ff\n",
      "visualizing docid semanticDBLP_081531984770a74e87dbd68907061b4b0f3631bf\n",
      "visualizing docid semanticDBLP_420380c7ea19cc614c3f73d7fe11172c01f1f03e\n",
      "visualizing docid semanticDBLP_b43352bfc14eea585c983c19f9045070e4074ad1\n",
      "visualizing docid semanticDBLP_58eae2da885eab83d144eed1e70a1d5def22a797\n",
      "visualizing docid semanticDBLP_0d39b1057bae59d569c8888e651d9c14ca416bbf\n",
      "visualizing docid semanticDBLP_35882a0f52cb1a5d59f34b4b412d3fc1a71c4464\n",
      "visualizing docid semanticDBLP_c6f457fb338eb8048cf212a1036c67dcd8eeb8f8\n",
      "visualizing docid semanticDBLP_a232d506f6c37fa5cc57161dc0fd49c6106125f0\n",
      "visualizing docid semanticDBLP_316c8e0c7819672efc1d6f5efd6ab803e45063ea\n",
      "visualizing docid semanticDBLP_6a1c3c48e7e7a39fa75428f9fdd4f07e99fa3259\n",
      "visualizing docid semanticDBLP_27c14e113a30557f5c3c54432e5ab0e119439225\n",
      "visualizing docid semanticDBLP_50fb639b74e822303025d1583793cfda11b0ae7a\n",
      "visualizing docid semanticDBLP_24124e1f326445a8344f248f21f991eddc6caeeb\n",
      "visualizing docid semanticDBLP_053ea0898dd3c35bc1c648f4137235b358a9b17b\n",
      "visualizing docid semanticDBLP_11763b205aecb307a2176e72f46c47591252d82a\n",
      "visualizing docid semanticDBLP_3e5ded128e3c4c2004a3816a9ccb4a46ef8969c1\n",
      "visualizing docid semanticDBLP_f2b6591cb510832f65d37716b5acb4f693130906\n",
      "visualizing docid semanticDBLP_7ff0eebe809065b239627fb660492cdf15963cf0\n",
      "visualizing docid semanticDBLP_145b2d9f1ce3152b58cef3c413b3b9c08d916fdb\n",
      "visualizing docid semanticDBLP_34a928edecf4391deace2ee2b3ee512615092867\n",
      "visualizing docid semanticDBLP_0dfc3797b46fc2c7e5847f7eb85927271dcdd1ed\n",
      "visualizing docid semanticDBLP_2826898f31cb437b8abc01aeeb86041a242d2aba\n",
      "visualizing docid semanticDBLP_9bb06aedc983caefd7f65f3d135d6d85061745db\n",
      "visualizing docid semanticDBLP_0ef98882d8a7356c7cf7ac715bef84656a0632d4\n",
      "visualizing docid semanticDBLP_318b3672240b76ee22a435a653e5afdc12014fe3\n",
      "visualizing docid semanticDBLP_a87f9c10c6cefd9aa8b1c6809d2518483e69c0e3\n",
      "visualizing docid semanticDBLP_220661f416b7c2214fb010dc3a18589a7497059f\n",
      "visualizing docid semanticDBLP_6f83eda141202f32b6249f4f6e7dd5fbb99633ce\n",
      "visualizing docid semanticDBLP_1404c8e16c95f5c494a659c80289c6a4c7b21483\n",
      "visualizing docid semanticDBLP_6c980f7c58e9d5c4a18fdd311275e199c9a48a83\n",
      "visualizing docid semanticDBLP_2681a570122403f6c0cf257a29f29f96d44619d4\n",
      "visualizing docid semanticDBLP_5e0402c4d7a9c9d8635dddafaad3227fa5b8ab50\n",
      "visualizing docid semanticDBLP_0ab3cfce325ad8751251e8d3f9ae876d59e1e0b0\n",
      "visualizing docid semanticDBLP_4b85560ce4467806cd0a838f5eb478ece0e05eef\n",
      "visualizing docid semanticDBLP_61cc4464f6617a5b2b197319ffe39ed105f7c23a\n",
      "visualizing docid semanticDBLP_58048ff8a79e1bdd2e353b3393d139f244bc2835\n",
      "visualizing docid semanticDBLP_2b2aa80786752225c32f035cd36999e3698caf1a\n",
      "visualizing docid semanticDBLP_9be07ed54959d486ea899166f5d9ccbd6d2dc4d4\n",
      "visualizing docid semanticDBLP_47fa489a41e745184994667092c93c0e289a52bf\n",
      "visualizing docid semanticDBLP_01b5bb13ba975bfa12ae5f272fa93bcc0b64c3c1\n",
      "visualizing docid semanticDBLP_0133daa564851c0542e846e7201a257fdf0384ba\n",
      "visualizing docid semanticDBLP_a8f47d57d202cd8383ddb56c2db25482f5564563\n",
      "visualizing docid semanticDBLP_ae2c0f260645bbe19ad4a42803ba016df6f050d8\n",
      "visualizing docid semanticDBLP_23d2d3a6ffebfecaa8930307fdcf451c147757c8\n",
      "visualizing docid semanticDBLP_001cecf6d3dfb29c56e71c417455c705a4bf290c\n",
      "visualizing docid semanticDBLP_4bc77ca8370576a706d677f01d6018908e8b83a7\n",
      "visualizing docid semanticDBLP_5b931b6875002a6e30fd81ec5bdb789f0c84ee42\n",
      "visualizing docid semanticDBLP_45790ddf3309753f47689da6ad2d874e2362c7f3\n",
      "visualizing docid semanticDBLP_2b55083b981e2a30d289a3f9d66fc528031e7412\n",
      "visualizing docid semanticDBLP_25c6a00407908a956e147daea6685bd222994dbb\n",
      "visualizing docid semanticDBLP_25ffe13db045bd8e5f7f7db8492050c03dd0d37a\n",
      "visualizing docid semanticDBLP_6fb2fc8c515a05a6e4b964331c3e5ebe38bb1bf0\n",
      "0\n",
      "10000\n",
      "20000\n",
      "dispatch finished!! \n",
      "visualizing docid semanticDBLP_228a17e53ad1d179b3ee5c61012e93ae918f06a1\n",
      "visualizing docid semanticDBLP_9625c624fd58bb1482e94c1ea2c44f5444cb8705\n",
      "visualizing docid semanticDBLP_d6f7059f0bab8b37dd562a950a8e94f32291c1d5\n",
      "visualizing docid semanticDBLP_813308251c76640f0f9f98c54339ae73752793aa\n",
      "visualizing docid semanticDBLP_15cf561bb792c91891c93e63ece9c3563a349203\n",
      "visualizing docid semanticDBLP_0a6a50a9c7a8ce01ac17f280e5d71981129fd422\n",
      "visualizing docid semanticDBLP_3064a7c4e48afc4468e64ab704e7e7cd67a92f99\n",
      "visualizing docid semanticDBLP_f195958433ca86ac6853cfdf210fa985efdc37ee\n",
      "visualizing docid semanticDBLP_0595263d7d7cb7b1c10a0ff8efdce3b5b2c9117b\n",
      "visualizing docid semanticDBLP_3525db650910df1e1749cd5c4de9208d45f6ca6c\n",
      "visualizing docid semanticDBLP_372058d076a1240e4b681295198eb206c397187d\n",
      "visualizing docid semanticDBLP_00cbb42367566a70e3c541d93b5873565b9b1288\n",
      "visualizing docid semanticDBLP_045df65fbc57c340b3b1341155bbfe274c0c2503\n",
      "visualizing docid semanticDBLP_9fe9ad1ece8e71aa8163420c2bf2423a37d947bc\n",
      "visualizing docid semanticDBLP_fb3c0d4a8f8deae19500c8e0a537b4b50c1707b3\n",
      "visualizing docid semanticDBLP_b92087f07d9b184cb09d7877e6565705e38c42e5\n",
      "visualizing docid semanticDBLP_a6845b02026d3f910dff50b308d4b3116918466a\n",
      "visualizing docid semanticDBLP_07c0d2dfcc0a3a1860bd1d56f5dfdd04775ed9b8\n",
      "visualizing docid semanticDBLP_07a5e6b883bab049326cf97e14e0e2431e42d562\n",
      "visualizing docid semanticDBLP_8b0be8ffd696fe1a8f93d2fb878723bbeb715554\n",
      "visualizing docid semanticDBLP_59880b98a7b27e2e3991523fb59bf407b119d937\n",
      "visualizing docid semanticDBLP_8585e3fa069ab65e706de705360d87b0fa1458c0\n",
      "visualizing docid semanticDBLP_a7f54e286ac15283ae70b9358722d1f33578735d\n"
     ]
    },
    {
     "name": "stdout",
     "output_type": "stream",
     "text": [
      "visualizing docid semanticDBLP_ba227bb94ea9414bad8846673c904a10d813e443\n",
      "visualizing docid semanticDBLP_d5765d223191081a82d4e24b1a7719a51d1b049c\n",
      "visualizing docid semanticDBLP_4b76c735bfc7ee9fd02c9aafd0d32d1bf1a344e3\n",
      "visualizing docid semanticDBLP_0a65959b5d94e2fb8223a6f4c065a040222e30dd\n",
      "visualizing docid semanticDBLP_2dc9a902445f6a022d31eba227e25d670b06d661\n",
      "visualizing docid semanticDBLP_09661a6bb7578979e42c75d6ce382baba64d4981\n",
      "visualizing docid semanticDBLP_0ffa890767b5a0fb91d8a4c5276b2745e6f374b9\n",
      "visualizing docid semanticDBLP_256ee281f07d92381d985b7dd56cb4feafa8c0b0\n",
      "visualizing docid semanticDBLP_877f589e4f0f6ac19b5bb22dc1819cda52555fb2\n",
      "visualizing docid semanticDBLP_e9604a8b323e40073c2d690d08c18cd57d2c928c\n",
      "visualizing docid semanticDBLP_1bc7ac71f8bff28f519d8c5a4452159e5834a848\n",
      "visualizing docid semanticDBLP_1eda03469d860ac725122bd27faaae6b2cb47d0d\n",
      "visualizing docid semanticDBLP_e1dc6330f7e54e2119a61f4908af18ef7dec5119\n",
      "visualizing docid semanticDBLP_3d8650c28ae2b0f8d8707265eafe53804f83f416\n",
      "visualizing docid semanticDBLP_2072a5f9ee3bed05607bd1b0f41688514feb2a9f\n",
      "visualizing docid semanticDBLP_c7383c4814bc9b10d6530e3c866e1c15a3a95a59\n",
      "visualizing docid semanticDBLP_7e0087c28022222f9a419daada557d2432c385b5\n",
      "visualizing docid semanticDBLP_69977728ba0d82df3d8e94d8d48ea8cd757801bd\n",
      "visualizing docid semanticDBLP_132a9c3cb3ec037aa51e0e4f7fefdd4d90609240\n",
      "visualizing docid semanticDBLP_ff114430e0c9c3f9568e87364114577278b4afb2\n",
      "visualizing docid semanticDBLP_27ebe7ee551da36bdb19240e0fe211b745e17207\n",
      "visualizing docid semanticDBLP_269bd70aed01e7682535fcf97f3ae7917db57519\n",
      "visualizing docid semanticDBLP_454412677f8c308e2b9850078ca9c54c13bf9839\n",
      "visualizing docid semanticDBLP_27f7e9ff722cad915ba228dce80aa51d883c8e9f\n",
      "visualizing docid semanticDBLP_37f6eabba377b0bb78971d7867df66cf776347c7\n",
      "visualizing docid semanticDBLP_8b15d471ec0f90930ee09f61b9ac45ca8c766298\n",
      "visualizing docid semanticDBLP_4b078c29e028a1b4b5bc42ae0b0a65b27d7c3ef7\n",
      "visualizing docid semanticDBLP_6584cdd5ac482759a7d5f75f45b690e92fbe6185\n",
      "visualizing docid semanticDBLP_0d28f2b9c12d47506e567392c6d0e624c0617e12\n",
      "visualizing docid semanticDBLP_54dae5187de3898d8034719bcaa3e0100ae72d76\n",
      "visualizing docid semanticDBLP_795e7e18d38e6161ed304c10160b07fd32c2cb7a\n",
      "visualizing docid semanticDBLP_f8a318bf17d8458fec1b524b9181b21ed81e58a7\n",
      "visualizing docid semanticDBLP_e948c1ca7a49db2879c76145795421eb5b51719a\n",
      "visualizing docid semanticDBLP_05c91e8a29483ced50c5f2d869617b80f7dacdd9\n",
      "visualizing docid semanticDBLP_c6b3dc3ae8f440b8d4787ac6c8be86677c33dda7\n",
      "visualizing docid semanticDBLP_de837239e81382447b28e495dcebe869e771c7ff\n",
      "visualizing docid semanticDBLP_081531984770a74e87dbd68907061b4b0f3631bf\n",
      "visualizing docid semanticDBLP_420380c7ea19cc614c3f73d7fe11172c01f1f03e\n",
      "visualizing docid semanticDBLP_b43352bfc14eea585c983c19f9045070e4074ad1\n",
      "visualizing docid semanticDBLP_58eae2da885eab83d144eed1e70a1d5def22a797\n",
      "visualizing docid semanticDBLP_0d39b1057bae59d569c8888e651d9c14ca416bbf\n",
      "visualizing docid semanticDBLP_35882a0f52cb1a5d59f34b4b412d3fc1a71c4464\n",
      "visualizing docid semanticDBLP_c6f457fb338eb8048cf212a1036c67dcd8eeb8f8\n",
      "visualizing docid semanticDBLP_a232d506f6c37fa5cc57161dc0fd49c6106125f0\n",
      "visualizing docid semanticDBLP_316c8e0c7819672efc1d6f5efd6ab803e45063ea\n",
      "visualizing docid semanticDBLP_6a1c3c48e7e7a39fa75428f9fdd4f07e99fa3259\n",
      "visualizing docid semanticDBLP_27c14e113a30557f5c3c54432e5ab0e119439225\n",
      "visualizing docid semanticDBLP_50fb639b74e822303025d1583793cfda11b0ae7a\n",
      "visualizing docid semanticDBLP_24124e1f326445a8344f248f21f991eddc6caeeb\n",
      "visualizing docid semanticDBLP_053ea0898dd3c35bc1c648f4137235b358a9b17b\n",
      "visualizing docid semanticDBLP_11763b205aecb307a2176e72f46c47591252d82a\n",
      "visualizing docid semanticDBLP_3e5ded128e3c4c2004a3816a9ccb4a46ef8969c1\n",
      "visualizing docid semanticDBLP_f2b6591cb510832f65d37716b5acb4f693130906\n",
      "visualizing docid semanticDBLP_7ff0eebe809065b239627fb660492cdf15963cf0\n",
      "visualizing docid semanticDBLP_145b2d9f1ce3152b58cef3c413b3b9c08d916fdb\n",
      "visualizing docid semanticDBLP_34a928edecf4391deace2ee2b3ee512615092867\n",
      "visualizing docid semanticDBLP_0dfc3797b46fc2c7e5847f7eb85927271dcdd1ed\n",
      "visualizing docid semanticDBLP_2826898f31cb437b8abc01aeeb86041a242d2aba\n",
      "visualizing docid semanticDBLP_9bb06aedc983caefd7f65f3d135d6d85061745db\n",
      "visualizing docid semanticDBLP_0ef98882d8a7356c7cf7ac715bef84656a0632d4\n",
      "visualizing docid semanticDBLP_318b3672240b76ee22a435a653e5afdc12014fe3\n",
      "visualizing docid semanticDBLP_a87f9c10c6cefd9aa8b1c6809d2518483e69c0e3\n",
      "visualizing docid semanticDBLP_220661f416b7c2214fb010dc3a18589a7497059f\n",
      "visualizing docid semanticDBLP_6f83eda141202f32b6249f4f6e7dd5fbb99633ce\n",
      "visualizing docid semanticDBLP_1404c8e16c95f5c494a659c80289c6a4c7b21483\n",
      "visualizing docid semanticDBLP_6c980f7c58e9d5c4a18fdd311275e199c9a48a83\n",
      "visualizing docid semanticDBLP_2681a570122403f6c0cf257a29f29f96d44619d4\n",
      "visualizing docid semanticDBLP_5e0402c4d7a9c9d8635dddafaad3227fa5b8ab50\n",
      "visualizing docid semanticDBLP_0ab3cfce325ad8751251e8d3f9ae876d59e1e0b0\n",
      "visualizing docid semanticDBLP_4b85560ce4467806cd0a838f5eb478ece0e05eef\n",
      "visualizing docid semanticDBLP_61cc4464f6617a5b2b197319ffe39ed105f7c23a\n",
      "visualizing docid semanticDBLP_58048ff8a79e1bdd2e353b3393d139f244bc2835\n",
      "visualizing docid semanticDBLP_2b2aa80786752225c32f035cd36999e3698caf1a\n",
      "visualizing docid semanticDBLP_9be07ed54959d486ea899166f5d9ccbd6d2dc4d4\n",
      "visualizing docid semanticDBLP_47fa489a41e745184994667092c93c0e289a52bf\n",
      "visualizing docid semanticDBLP_01b5bb13ba975bfa12ae5f272fa93bcc0b64c3c1\n",
      "visualizing docid semanticDBLP_0133daa564851c0542e846e7201a257fdf0384ba\n",
      "visualizing docid semanticDBLP_a8f47d57d202cd8383ddb56c2db25482f5564563\n",
      "visualizing docid semanticDBLP_ae2c0f260645bbe19ad4a42803ba016df6f050d8\n",
      "visualizing docid semanticDBLP_23d2d3a6ffebfecaa8930307fdcf451c147757c8\n",
      "visualizing docid semanticDBLP_001cecf6d3dfb29c56e71c417455c705a4bf290c\n",
      "visualizing docid semanticDBLP_4bc77ca8370576a706d677f01d6018908e8b83a7\n",
      "visualizing docid semanticDBLP_5b931b6875002a6e30fd81ec5bdb789f0c84ee42\n",
      "visualizing docid semanticDBLP_45790ddf3309753f47689da6ad2d874e2362c7f3\n",
      "visualizing docid semanticDBLP_2b55083b981e2a30d289a3f9d66fc528031e7412\n",
      "visualizing docid semanticDBLP_25c6a00407908a956e147daea6685bd222994dbb\n",
      "visualizing docid semanticDBLP_25ffe13db045bd8e5f7f7db8492050c03dd0d37a\n",
      "visualizing docid semanticDBLP_6fb2fc8c515a05a6e4b964331c3e5ebe38bb1bf0\n"
     ]
    },
    {
     "data": {
      "text/plain": [
       "<Figure size 432x288 with 0 Axes>"
      ]
     },
     "metadata": {},
     "output_type": "display_data"
    },
    {
     "data": {
      "text/plain": [
       "<Figure size 2880x504 with 0 Axes>"
      ]
     },
     "metadata": {},
     "output_type": "display_data"
    },
    {
     "data": {
      "text/plain": [
       "<Figure size 2880x504 with 0 Axes>"
      ]
     },
     "metadata": {},
     "output_type": "display_data"
    },
    {
     "data": {
      "text/plain": [
       "<Figure size 2880x504 with 0 Axes>"
      ]
     },
     "metadata": {},
     "output_type": "display_data"
    },
    {
     "data": {
      "text/plain": [
       "<Figure size 2880x504 with 0 Axes>"
      ]
     },
     "metadata": {},
     "output_type": "display_data"
    },
    {
     "data": {
      "text/plain": [
       "<Figure size 2880x504 with 0 Axes>"
      ]
     },
     "metadata": {},
     "output_type": "display_data"
    },
    {
     "data": {
      "text/plain": [
       "<Figure size 2880x504 with 0 Axes>"
      ]
     },
     "metadata": {},
     "output_type": "display_data"
    },
    {
     "data": {
      "text/plain": [
       "<Figure size 2880x504 with 0 Axes>"
      ]
     },
     "metadata": {},
     "output_type": "display_data"
    },
    {
     "data": {
      "text/plain": [
       "<Figure size 2880x504 with 0 Axes>"
      ]
     },
     "metadata": {},
     "output_type": "display_data"
    },
    {
     "data": {
      "text/plain": [
       "<Figure size 2880x504 with 0 Axes>"
      ]
     },
     "metadata": {},
     "output_type": "display_data"
    },
    {
     "data": {
      "text/plain": [
       "<Figure size 2880x504 with 0 Axes>"
      ]
     },
     "metadata": {},
     "output_type": "display_data"
    },
    {
     "data": {
      "text/plain": [
       "<Figure size 2880x504 with 0 Axes>"
      ]
     },
     "metadata": {},
     "output_type": "display_data"
    },
    {
     "data": {
      "text/plain": [
       "<Figure size 2880x504 with 0 Axes>"
      ]
     },
     "metadata": {},
     "output_type": "display_data"
    },
    {
     "data": {
      "text/plain": [
       "<Figure size 2880x504 with 0 Axes>"
      ]
     },
     "metadata": {},
     "output_type": "display_data"
    },
    {
     "data": {
      "text/plain": [
       "<Figure size 2880x504 with 0 Axes>"
      ]
     },
     "metadata": {},
     "output_type": "display_data"
    },
    {
     "data": {
      "text/plain": [
       "<Figure size 2880x504 with 0 Axes>"
      ]
     },
     "metadata": {},
     "output_type": "display_data"
    },
    {
     "data": {
      "text/plain": [
       "<Figure size 2880x504 with 0 Axes>"
      ]
     },
     "metadata": {},
     "output_type": "display_data"
    },
    {
     "data": {
      "text/plain": [
       "<Figure size 2880x504 with 0 Axes>"
      ]
     },
     "metadata": {},
     "output_type": "display_data"
    },
    {
     "data": {
      "text/plain": [
       "<Figure size 2880x504 with 0 Axes>"
      ]
     },
     "metadata": {},
     "output_type": "display_data"
    },
    {
     "data": {
      "text/plain": [
       "<Figure size 2880x504 with 0 Axes>"
      ]
     },
     "metadata": {},
     "output_type": "display_data"
    },
    {
     "data": {
      "text/plain": [
       "<Figure size 2880x504 with 0 Axes>"
      ]
     },
     "metadata": {},
     "output_type": "display_data"
    },
    {
     "data": {
      "text/plain": [
       "<Figure size 2880x504 with 0 Axes>"
      ]
     },
     "metadata": {},
     "output_type": "display_data"
    },
    {
     "data": {
      "text/plain": [
       "<Figure size 2880x504 with 0 Axes>"
      ]
     },
     "metadata": {},
     "output_type": "display_data"
    },
    {
     "data": {
      "text/plain": [
       "<Figure size 2880x504 with 0 Axes>"
      ]
     },
     "metadata": {},
     "output_type": "display_data"
    },
    {
     "data": {
      "text/plain": [
       "<Figure size 2880x504 with 0 Axes>"
      ]
     },
     "metadata": {},
     "output_type": "display_data"
    },
    {
     "data": {
      "text/plain": [
       "<Figure size 2880x504 with 0 Axes>"
      ]
     },
     "metadata": {},
     "output_type": "display_data"
    },
    {
     "data": {
      "text/plain": [
       "<Figure size 2880x504 with 0 Axes>"
      ]
     },
     "metadata": {},
     "output_type": "display_data"
    },
    {
     "data": {
      "text/plain": [
       "<Figure size 2880x504 with 0 Axes>"
      ]
     },
     "metadata": {},
     "output_type": "display_data"
    },
    {
     "data": {
      "text/plain": [
       "<Figure size 2880x504 with 0 Axes>"
      ]
     },
     "metadata": {},
     "output_type": "display_data"
    },
    {
     "data": {
      "text/plain": [
       "<Figure size 2880x504 with 0 Axes>"
      ]
     },
     "metadata": {},
     "output_type": "display_data"
    },
    {
     "data": {
      "text/plain": [
       "<Figure size 2880x504 with 0 Axes>"
      ]
     },
     "metadata": {},
     "output_type": "display_data"
    },
    {
     "data": {
      "text/plain": [
       "<Figure size 2880x504 with 0 Axes>"
      ]
     },
     "metadata": {},
     "output_type": "display_data"
    },
    {
     "data": {
      "text/plain": [
       "<Figure size 2880x504 with 0 Axes>"
      ]
     },
     "metadata": {},
     "output_type": "display_data"
    },
    {
     "data": {
      "text/plain": [
       "<Figure size 2880x504 with 0 Axes>"
      ]
     },
     "metadata": {},
     "output_type": "display_data"
    },
    {
     "data": {
      "text/plain": [
       "<Figure size 2880x504 with 0 Axes>"
      ]
     },
     "metadata": {},
     "output_type": "display_data"
    },
    {
     "data": {
      "text/plain": [
       "<Figure size 2880x504 with 0 Axes>"
      ]
     },
     "metadata": {},
     "output_type": "display_data"
    },
    {
     "data": {
      "text/plain": [
       "<Figure size 2880x504 with 0 Axes>"
      ]
     },
     "metadata": {},
     "output_type": "display_data"
    },
    {
     "data": {
      "text/plain": [
       "<Figure size 2880x504 with 0 Axes>"
      ]
     },
     "metadata": {},
     "output_type": "display_data"
    },
    {
     "data": {
      "text/plain": [
       "<Figure size 2880x504 with 0 Axes>"
      ]
     },
     "metadata": {},
     "output_type": "display_data"
    },
    {
     "data": {
      "text/plain": [
       "<Figure size 2880x504 with 0 Axes>"
      ]
     },
     "metadata": {},
     "output_type": "display_data"
    },
    {
     "data": {
      "text/plain": [
       "<Figure size 2880x504 with 0 Axes>"
      ]
     },
     "metadata": {},
     "output_type": "display_data"
    },
    {
     "data": {
      "text/plain": [
       "<Figure size 2880x504 with 0 Axes>"
      ]
     },
     "metadata": {},
     "output_type": "display_data"
    },
    {
     "data": {
      "text/plain": [
       "<Figure size 2880x504 with 0 Axes>"
      ]
     },
     "metadata": {},
     "output_type": "display_data"
    },
    {
     "data": {
      "text/plain": [
       "<Figure size 2880x504 with 0 Axes>"
      ]
     },
     "metadata": {},
     "output_type": "display_data"
    },
    {
     "data": {
      "text/plain": [
       "<Figure size 2880x504 with 0 Axes>"
      ]
     },
     "metadata": {},
     "output_type": "display_data"
    },
    {
     "data": {
      "text/plain": [
       "<Figure size 2880x504 with 0 Axes>"
      ]
     },
     "metadata": {},
     "output_type": "display_data"
    },
    {
     "data": {
      "text/plain": [
       "<Figure size 2880x504 with 0 Axes>"
      ]
     },
     "metadata": {},
     "output_type": "display_data"
    },
    {
     "data": {
      "text/plain": [
       "<Figure size 2880x504 with 0 Axes>"
      ]
     },
     "metadata": {},
     "output_type": "display_data"
    },
    {
     "data": {
      "text/plain": [
       "<Figure size 2880x504 with 0 Axes>"
      ]
     },
     "metadata": {},
     "output_type": "display_data"
    },
    {
     "data": {
      "text/plain": [
       "<Figure size 2880x504 with 0 Axes>"
      ]
     },
     "metadata": {},
     "output_type": "display_data"
    },
    {
     "data": {
      "text/plain": [
       "<Figure size 2880x504 with 0 Axes>"
      ]
     },
     "metadata": {},
     "output_type": "display_data"
    },
    {
     "data": {
      "text/plain": [
       "<Figure size 2880x504 with 0 Axes>"
      ]
     },
     "metadata": {},
     "output_type": "display_data"
    },
    {
     "data": {
      "text/plain": [
       "<Figure size 2880x504 with 0 Axes>"
      ]
     },
     "metadata": {},
     "output_type": "display_data"
    },
    {
     "data": {
      "text/plain": [
       "<Figure size 2880x504 with 0 Axes>"
      ]
     },
     "metadata": {},
     "output_type": "display_data"
    },
    {
     "data": {
      "text/plain": [
       "<Figure size 2880x504 with 0 Axes>"
      ]
     },
     "metadata": {},
     "output_type": "display_data"
    },
    {
     "data": {
      "text/plain": [
       "<Figure size 2880x504 with 0 Axes>"
      ]
     },
     "metadata": {},
     "output_type": "display_data"
    },
    {
     "data": {
      "text/plain": [
       "<Figure size 2880x504 with 0 Axes>"
      ]
     },
     "metadata": {},
     "output_type": "display_data"
    },
    {
     "data": {
      "text/plain": [
       "<Figure size 2880x504 with 0 Axes>"
      ]
     },
     "metadata": {},
     "output_type": "display_data"
    },
    {
     "data": {
      "text/plain": [
       "<Figure size 2880x504 with 0 Axes>"
      ]
     },
     "metadata": {},
     "output_type": "display_data"
    },
    {
     "data": {
      "text/plain": [
       "<Figure size 2880x504 with 0 Axes>"
      ]
     },
     "metadata": {},
     "output_type": "display_data"
    },
    {
     "data": {
      "text/plain": [
       "<Figure size 2880x504 with 0 Axes>"
      ]
     },
     "metadata": {},
     "output_type": "display_data"
    },
    {
     "data": {
      "text/plain": [
       "<Figure size 2880x504 with 0 Axes>"
      ]
     },
     "metadata": {},
     "output_type": "display_data"
    },
    {
     "data": {
      "text/plain": [
       "<Figure size 2880x504 with 0 Axes>"
      ]
     },
     "metadata": {},
     "output_type": "display_data"
    },
    {
     "data": {
      "text/plain": [
       "<Figure size 2880x504 with 0 Axes>"
      ]
     },
     "metadata": {},
     "output_type": "display_data"
    },
    {
     "data": {
      "text/plain": [
       "<Figure size 2880x504 with 0 Axes>"
      ]
     },
     "metadata": {},
     "output_type": "display_data"
    },
    {
     "data": {
      "text/plain": [
       "<Figure size 2880x504 with 0 Axes>"
      ]
     },
     "metadata": {},
     "output_type": "display_data"
    },
    {
     "data": {
      "text/plain": [
       "<Figure size 2880x504 with 0 Axes>"
      ]
     },
     "metadata": {},
     "output_type": "display_data"
    },
    {
     "data": {
      "text/plain": [
       "<Figure size 2880x504 with 0 Axes>"
      ]
     },
     "metadata": {},
     "output_type": "display_data"
    },
    {
     "data": {
      "text/plain": [
       "<Figure size 2880x504 with 0 Axes>"
      ]
     },
     "metadata": {},
     "output_type": "display_data"
    },
    {
     "data": {
      "text/plain": [
       "<Figure size 2880x504 with 0 Axes>"
      ]
     },
     "metadata": {},
     "output_type": "display_data"
    },
    {
     "data": {
      "text/plain": [
       "<Figure size 2880x504 with 0 Axes>"
      ]
     },
     "metadata": {},
     "output_type": "display_data"
    },
    {
     "data": {
      "text/plain": [
       "<Figure size 2880x504 with 0 Axes>"
      ]
     },
     "metadata": {},
     "output_type": "display_data"
    },
    {
     "data": {
      "text/plain": [
       "<Figure size 2880x504 with 0 Axes>"
      ]
     },
     "metadata": {},
     "output_type": "display_data"
    },
    {
     "data": {
      "text/plain": [
       "<Figure size 2880x504 with 0 Axes>"
      ]
     },
     "metadata": {},
     "output_type": "display_data"
    },
    {
     "data": {
      "text/plain": [
       "<Figure size 2880x504 with 0 Axes>"
      ]
     },
     "metadata": {},
     "output_type": "display_data"
    },
    {
     "data": {
      "text/plain": [
       "<Figure size 2880x504 with 0 Axes>"
      ]
     },
     "metadata": {},
     "output_type": "display_data"
    },
    {
     "data": {
      "text/plain": [
       "<Figure size 2880x504 with 0 Axes>"
      ]
     },
     "metadata": {},
     "output_type": "display_data"
    },
    {
     "data": {
      "text/plain": [
       "<Figure size 2880x504 with 0 Axes>"
      ]
     },
     "metadata": {},
     "output_type": "display_data"
    },
    {
     "data": {
      "text/plain": [
       "<Figure size 2880x504 with 0 Axes>"
      ]
     },
     "metadata": {},
     "output_type": "display_data"
    },
    {
     "data": {
      "text/plain": [
       "<Figure size 2880x504 with 0 Axes>"
      ]
     },
     "metadata": {},
     "output_type": "display_data"
    },
    {
     "data": {
      "text/plain": [
       "<Figure size 2880x504 with 0 Axes>"
      ]
     },
     "metadata": {},
     "output_type": "display_data"
    },
    {
     "data": {
      "text/plain": [
       "<Figure size 2880x504 with 0 Axes>"
      ]
     },
     "metadata": {},
     "output_type": "display_data"
    },
    {
     "data": {
      "text/plain": [
       "<Figure size 2880x504 with 0 Axes>"
      ]
     },
     "metadata": {},
     "output_type": "display_data"
    },
    {
     "data": {
      "text/plain": [
       "<Figure size 2880x504 with 0 Axes>"
      ]
     },
     "metadata": {},
     "output_type": "display_data"
    },
    {
     "data": {
      "text/plain": [
       "<Figure size 2880x504 with 0 Axes>"
      ]
     },
     "metadata": {},
     "output_type": "display_data"
    },
    {
     "data": {
      "text/plain": [
       "<Figure size 2880x504 with 0 Axes>"
      ]
     },
     "metadata": {},
     "output_type": "display_data"
    },
    {
     "data": {
      "text/plain": [
       "<Figure size 2880x504 with 0 Axes>"
      ]
     },
     "metadata": {},
     "output_type": "display_data"
    },
    {
     "data": {
      "text/plain": [
       "<Figure size 2880x504 with 0 Axes>"
      ]
     },
     "metadata": {},
     "output_type": "display_data"
    },
    {
     "data": {
      "text/plain": [
       "<Figure size 2880x504 with 0 Axes>"
      ]
     },
     "metadata": {},
     "output_type": "display_data"
    },
    {
     "data": {
      "text/plain": [
       "<Figure size 2880x504 with 0 Axes>"
      ]
     },
     "metadata": {},
     "output_type": "display_data"
    },
    {
     "data": {
      "text/plain": [
       "<Figure size 2880x504 with 0 Axes>"
      ]
     },
     "metadata": {},
     "output_type": "display_data"
    },
    {
     "data": {
      "text/plain": [
       "<Figure size 2880x504 with 0 Axes>"
      ]
     },
     "metadata": {},
     "output_type": "display_data"
    },
    {
     "data": {
      "text/plain": [
       "<Figure size 2880x504 with 0 Axes>"
      ]
     },
     "metadata": {},
     "output_type": "display_data"
    },
    {
     "data": {
      "text/plain": [
       "<Figure size 2880x504 with 0 Axes>"
      ]
     },
     "metadata": {},
     "output_type": "display_data"
    },
    {
     "data": {
      "text/plain": [
       "<Figure size 2880x504 with 0 Axes>"
      ]
     },
     "metadata": {},
     "output_type": "display_data"
    },
    {
     "data": {
      "text/plain": [
       "<Figure size 2880x504 with 0 Axes>"
      ]
     },
     "metadata": {},
     "output_type": "display_data"
    },
    {
     "data": {
      "text/plain": [
       "<Figure size 2880x504 with 0 Axes>"
      ]
     },
     "metadata": {},
     "output_type": "display_data"
    },
    {
     "data": {
      "text/plain": [
       "<Figure size 2880x504 with 0 Axes>"
      ]
     },
     "metadata": {},
     "output_type": "display_data"
    },
    {
     "data": {
      "text/plain": [
       "<Figure size 2880x504 with 0 Axes>"
      ]
     },
     "metadata": {},
     "output_type": "display_data"
    },
    {
     "data": {
      "text/plain": [
       "<Figure size 2880x504 with 0 Axes>"
      ]
     },
     "metadata": {},
     "output_type": "display_data"
    },
    {
     "data": {
      "text/plain": [
       "<Figure size 2880x504 with 0 Axes>"
      ]
     },
     "metadata": {},
     "output_type": "display_data"
    },
    {
     "data": {
      "text/plain": [
       "<Figure size 2880x504 with 0 Axes>"
      ]
     },
     "metadata": {},
     "output_type": "display_data"
    },
    {
     "data": {
      "text/plain": [
       "<Figure size 2880x504 with 0 Axes>"
      ]
     },
     "metadata": {},
     "output_type": "display_data"
    },
    {
     "data": {
      "text/plain": [
       "<Figure size 2880x504 with 0 Axes>"
      ]
     },
     "metadata": {},
     "output_type": "display_data"
    },
    {
     "data": {
      "text/plain": [
       "<Figure size 2880x504 with 0 Axes>"
      ]
     },
     "metadata": {},
     "output_type": "display_data"
    },
    {
     "data": {
      "text/plain": [
       "<Figure size 2880x504 with 0 Axes>"
      ]
     },
     "metadata": {},
     "output_type": "display_data"
    },
    {
     "data": {
      "text/plain": [
       "<Figure size 2880x504 with 0 Axes>"
      ]
     },
     "metadata": {},
     "output_type": "display_data"
    },
    {
     "data": {
      "text/plain": [
       "<Figure size 2880x504 with 0 Axes>"
      ]
     },
     "metadata": {},
     "output_type": "display_data"
    },
    {
     "data": {
      "text/plain": [
       "<Figure size 2880x504 with 0 Axes>"
      ]
     },
     "metadata": {},
     "output_type": "display_data"
    },
    {
     "data": {
      "text/plain": [
       "<Figure size 2880x504 with 0 Axes>"
      ]
     },
     "metadata": {},
     "output_type": "display_data"
    },
    {
     "data": {
      "text/plain": [
       "<Figure size 2880x504 with 0 Axes>"
      ]
     },
     "metadata": {},
     "output_type": "display_data"
    },
    {
     "data": {
      "text/plain": [
       "<Figure size 2880x504 with 0 Axes>"
      ]
     },
     "metadata": {},
     "output_type": "display_data"
    },
    {
     "data": {
      "text/plain": [
       "<Figure size 2880x504 with 0 Axes>"
      ]
     },
     "metadata": {},
     "output_type": "display_data"
    },
    {
     "data": {
      "text/plain": [
       "<Figure size 2880x504 with 0 Axes>"
      ]
     },
     "metadata": {},
     "output_type": "display_data"
    },
    {
     "data": {
      "text/plain": [
       "<Figure size 2880x504 with 0 Axes>"
      ]
     },
     "metadata": {},
     "output_type": "display_data"
    },
    {
     "data": {
      "text/plain": [
       "<Figure size 2880x504 with 0 Axes>"
      ]
     },
     "metadata": {},
     "output_type": "display_data"
    },
    {
     "data": {
      "text/plain": [
       "<Figure size 2880x504 with 0 Axes>"
      ]
     },
     "metadata": {},
     "output_type": "display_data"
    },
    {
     "data": {
      "text/plain": [
       "<Figure size 2880x504 with 0 Axes>"
      ]
     },
     "metadata": {},
     "output_type": "display_data"
    },
    {
     "data": {
      "text/plain": [
       "<Figure size 2880x504 with 0 Axes>"
      ]
     },
     "metadata": {},
     "output_type": "display_data"
    },
    {
     "data": {
      "text/plain": [
       "<Figure size 2880x504 with 0 Axes>"
      ]
     },
     "metadata": {},
     "output_type": "display_data"
    },
    {
     "data": {
      "text/plain": [
       "<Figure size 2880x504 with 0 Axes>"
      ]
     },
     "metadata": {},
     "output_type": "display_data"
    },
    {
     "data": {
      "text/plain": [
       "<Figure size 2880x504 with 0 Axes>"
      ]
     },
     "metadata": {},
     "output_type": "display_data"
    },
    {
     "data": {
      "text/plain": [
       "<Figure size 2880x504 with 0 Axes>"
      ]
     },
     "metadata": {},
     "output_type": "display_data"
    },
    {
     "data": {
      "text/plain": [
       "<Figure size 2880x504 with 0 Axes>"
      ]
     },
     "metadata": {},
     "output_type": "display_data"
    },
    {
     "data": {
      "text/plain": [
       "<Figure size 2880x504 with 0 Axes>"
      ]
     },
     "metadata": {},
     "output_type": "display_data"
    },
    {
     "data": {
      "text/plain": [
       "<Figure size 2880x504 with 0 Axes>"
      ]
     },
     "metadata": {},
     "output_type": "display_data"
    },
    {
     "data": {
      "text/plain": [
       "<Figure size 2880x504 with 0 Axes>"
      ]
     },
     "metadata": {},
     "output_type": "display_data"
    },
    {
     "data": {
      "text/plain": [
       "<Figure size 2880x504 with 0 Axes>"
      ]
     },
     "metadata": {},
     "output_type": "display_data"
    },
    {
     "data": {
      "text/plain": [
       "<Figure size 2880x504 with 0 Axes>"
      ]
     },
     "metadata": {},
     "output_type": "display_data"
    },
    {
     "data": {
      "text/plain": [
       "<Figure size 2880x504 with 0 Axes>"
      ]
     },
     "metadata": {},
     "output_type": "display_data"
    },
    {
     "data": {
      "text/plain": [
       "<Figure size 2880x504 with 0 Axes>"
      ]
     },
     "metadata": {},
     "output_type": "display_data"
    },
    {
     "data": {
      "text/plain": [
       "<Figure size 2880x504 with 0 Axes>"
      ]
     },
     "metadata": {},
     "output_type": "display_data"
    },
    {
     "data": {
      "text/plain": [
       "<Figure size 2880x504 with 0 Axes>"
      ]
     },
     "metadata": {},
     "output_type": "display_data"
    },
    {
     "data": {
      "text/plain": [
       "<Figure size 2880x504 with 0 Axes>"
      ]
     },
     "metadata": {},
     "output_type": "display_data"
    },
    {
     "data": {
      "text/plain": [
       "<Figure size 2880x504 with 0 Axes>"
      ]
     },
     "metadata": {},
     "output_type": "display_data"
    },
    {
     "data": {
      "text/plain": [
       "<Figure size 2880x504 with 0 Axes>"
      ]
     },
     "metadata": {},
     "output_type": "display_data"
    },
    {
     "data": {
      "text/plain": [
       "<Figure size 2880x504 with 0 Axes>"
      ]
     },
     "metadata": {},
     "output_type": "display_data"
    },
    {
     "data": {
      "text/plain": [
       "<Figure size 2880x504 with 0 Axes>"
      ]
     },
     "metadata": {},
     "output_type": "display_data"
    },
    {
     "data": {
      "text/plain": [
       "<Figure size 2880x504 with 0 Axes>"
      ]
     },
     "metadata": {},
     "output_type": "display_data"
    },
    {
     "data": {
      "text/plain": [
       "<Figure size 2880x504 with 0 Axes>"
      ]
     },
     "metadata": {},
     "output_type": "display_data"
    },
    {
     "data": {
      "text/plain": [
       "<Figure size 2880x504 with 0 Axes>"
      ]
     },
     "metadata": {},
     "output_type": "display_data"
    },
    {
     "data": {
      "text/plain": [
       "<Figure size 2880x504 with 0 Axes>"
      ]
     },
     "metadata": {},
     "output_type": "display_data"
    },
    {
     "data": {
      "text/plain": [
       "<Figure size 2880x504 with 0 Axes>"
      ]
     },
     "metadata": {},
     "output_type": "display_data"
    },
    {
     "data": {
      "text/plain": [
       "<Figure size 2880x504 with 0 Axes>"
      ]
     },
     "metadata": {},
     "output_type": "display_data"
    },
    {
     "data": {
      "text/plain": [
       "<Figure size 2880x504 with 0 Axes>"
      ]
     },
     "metadata": {},
     "output_type": "display_data"
    },
    {
     "data": {
      "text/plain": [
       "<Figure size 2880x504 with 0 Axes>"
      ]
     },
     "metadata": {},
     "output_type": "display_data"
    },
    {
     "data": {
      "text/plain": [
       "<Figure size 2880x504 with 0 Axes>"
      ]
     },
     "metadata": {},
     "output_type": "display_data"
    },
    {
     "data": {
      "text/plain": [
       "<Figure size 2880x504 with 0 Axes>"
      ]
     },
     "metadata": {},
     "output_type": "display_data"
    },
    {
     "data": {
      "text/plain": [
       "<Figure size 2880x504 with 0 Axes>"
      ]
     },
     "metadata": {},
     "output_type": "display_data"
    },
    {
     "data": {
      "text/plain": [
       "<Figure size 2880x504 with 0 Axes>"
      ]
     },
     "metadata": {},
     "output_type": "display_data"
    },
    {
     "data": {
      "text/plain": [
       "<Figure size 2880x504 with 0 Axes>"
      ]
     },
     "metadata": {},
     "output_type": "display_data"
    },
    {
     "data": {
      "text/plain": [
       "<Figure size 2880x504 with 0 Axes>"
      ]
     },
     "metadata": {},
     "output_type": "display_data"
    },
    {
     "data": {
      "text/plain": [
       "<Figure size 2880x504 with 0 Axes>"
      ]
     },
     "metadata": {},
     "output_type": "display_data"
    },
    {
     "data": {
      "text/plain": [
       "<Figure size 2880x504 with 0 Axes>"
      ]
     },
     "metadata": {},
     "output_type": "display_data"
    },
    {
     "data": {
      "text/plain": [
       "<Figure size 2880x504 with 0 Axes>"
      ]
     },
     "metadata": {},
     "output_type": "display_data"
    },
    {
     "data": {
      "text/plain": [
       "<Figure size 2880x504 with 0 Axes>"
      ]
     },
     "metadata": {},
     "output_type": "display_data"
    },
    {
     "data": {
      "text/plain": [
       "<Figure size 2880x504 with 0 Axes>"
      ]
     },
     "metadata": {},
     "output_type": "display_data"
    },
    {
     "data": {
      "text/plain": [
       "<Figure size 2880x504 with 0 Axes>"
      ]
     },
     "metadata": {},
     "output_type": "display_data"
    },
    {
     "data": {
      "text/plain": [
       "<Figure size 2880x504 with 0 Axes>"
      ]
     },
     "metadata": {},
     "output_type": "display_data"
    },
    {
     "data": {
      "text/plain": [
       "<Figure size 2880x504 with 0 Axes>"
      ]
     },
     "metadata": {},
     "output_type": "display_data"
    },
    {
     "data": {
      "text/plain": [
       "<Figure size 2880x504 with 0 Axes>"
      ]
     },
     "metadata": {},
     "output_type": "display_data"
    },
    {
     "data": {
      "text/plain": [
       "<Figure size 2880x504 with 0 Axes>"
      ]
     },
     "metadata": {},
     "output_type": "display_data"
    },
    {
     "data": {
      "text/plain": [
       "<Figure size 2880x504 with 0 Axes>"
      ]
     },
     "metadata": {},
     "output_type": "display_data"
    },
    {
     "data": {
      "text/plain": [
       "<Figure size 2880x504 with 0 Axes>"
      ]
     },
     "metadata": {},
     "output_type": "display_data"
    },
    {
     "data": {
      "text/plain": [
       "<Figure size 2880x504 with 0 Axes>"
      ]
     },
     "metadata": {},
     "output_type": "display_data"
    },
    {
     "data": {
      "text/plain": [
       "<Figure size 2880x504 with 0 Axes>"
      ]
     },
     "metadata": {},
     "output_type": "display_data"
    },
    {
     "data": {
      "text/plain": [
       "<Figure size 2880x504 with 0 Axes>"
      ]
     },
     "metadata": {},
     "output_type": "display_data"
    },
    {
     "data": {
      "text/plain": [
       "<Figure size 2880x504 with 0 Axes>"
      ]
     },
     "metadata": {},
     "output_type": "display_data"
    },
    {
     "data": {
      "text/plain": [
       "<Figure size 2880x504 with 0 Axes>"
      ]
     },
     "metadata": {},
     "output_type": "display_data"
    },
    {
     "data": {
      "text/plain": [
       "<Figure size 2880x504 with 0 Axes>"
      ]
     },
     "metadata": {},
     "output_type": "display_data"
    },
    {
     "data": {
      "text/plain": [
       "<Figure size 2880x504 with 0 Axes>"
      ]
     },
     "metadata": {},
     "output_type": "display_data"
    },
    {
     "data": {
      "text/plain": [
       "<Figure size 2880x504 with 0 Axes>"
      ]
     },
     "metadata": {},
     "output_type": "display_data"
    },
    {
     "data": {
      "text/plain": [
       "<Figure size 2880x504 with 0 Axes>"
      ]
     },
     "metadata": {},
     "output_type": "display_data"
    },
    {
     "data": {
      "text/plain": [
       "<Figure size 2880x504 with 0 Axes>"
      ]
     },
     "metadata": {},
     "output_type": "display_data"
    },
    {
     "data": {
      "text/plain": [
       "<Figure size 2880x504 with 0 Axes>"
      ]
     },
     "metadata": {},
     "output_type": "display_data"
    },
    {
     "data": {
      "text/plain": [
       "<Figure size 2880x504 with 0 Axes>"
      ]
     },
     "metadata": {},
     "output_type": "display_data"
    },
    {
     "data": {
      "text/plain": [
       "<Figure size 2880x504 with 0 Axes>"
      ]
     },
     "metadata": {},
     "output_type": "display_data"
    },
    {
     "data": {
      "text/plain": [
       "<Figure size 2880x504 with 0 Axes>"
      ]
     },
     "metadata": {},
     "output_type": "display_data"
    },
    {
     "data": {
      "text/plain": [
       "<Figure size 2880x504 with 0 Axes>"
      ]
     },
     "metadata": {},
     "output_type": "display_data"
    },
    {
     "data": {
      "text/plain": [
       "<Figure size 2880x504 with 0 Axes>"
      ]
     },
     "metadata": {},
     "output_type": "display_data"
    },
    {
     "data": {
      "text/plain": [
       "<Figure size 2880x504 with 0 Axes>"
      ]
     },
     "metadata": {},
     "output_type": "display_data"
    },
    {
     "data": {
      "text/plain": [
       "<Figure size 2880x504 with 0 Axes>"
      ]
     },
     "metadata": {},
     "output_type": "display_data"
    },
    {
     "data": {
      "text/plain": [
       "<Figure size 2880x504 with 0 Axes>"
      ]
     },
     "metadata": {},
     "output_type": "display_data"
    },
    {
     "data": {
      "text/plain": [
       "<Figure size 2880x504 with 0 Axes>"
      ]
     },
     "metadata": {},
     "output_type": "display_data"
    },
    {
     "data": {
      "text/plain": [
       "<Figure size 2880x504 with 0 Axes>"
      ]
     },
     "metadata": {},
     "output_type": "display_data"
    },
    {
     "data": {
      "text/plain": [
       "<Figure size 2880x504 with 0 Axes>"
      ]
     },
     "metadata": {},
     "output_type": "display_data"
    },
    {
     "data": {
      "text/plain": [
       "<Figure size 2880x504 with 0 Axes>"
      ]
     },
     "metadata": {},
     "output_type": "display_data"
    },
    {
     "data": {
      "text/plain": [
       "<Figure size 2880x504 with 0 Axes>"
      ]
     },
     "metadata": {},
     "output_type": "display_data"
    },
    {
     "data": {
      "text/plain": [
       "<Figure size 2880x504 with 0 Axes>"
      ]
     },
     "metadata": {},
     "output_type": "display_data"
    },
    {
     "data": {
      "text/plain": [
       "<Figure size 2880x504 with 0 Axes>"
      ]
     },
     "metadata": {},
     "output_type": "display_data"
    },
    {
     "data": {
      "text/plain": [
       "<Figure size 2880x504 with 0 Axes>"
      ]
     },
     "metadata": {},
     "output_type": "display_data"
    },
    {
     "data": {
      "text/plain": [
       "<Figure size 2880x504 with 0 Axes>"
      ]
     },
     "metadata": {},
     "output_type": "display_data"
    },
    {
     "data": {
      "text/plain": [
       "<Figure size 2880x504 with 0 Axes>"
      ]
     },
     "metadata": {},
     "output_type": "display_data"
    },
    {
     "data": {
      "text/plain": [
       "<Figure size 2880x504 with 0 Axes>"
      ]
     },
     "metadata": {},
     "output_type": "display_data"
    },
    {
     "data": {
      "text/plain": [
       "<Figure size 2880x504 with 0 Axes>"
      ]
     },
     "metadata": {},
     "output_type": "display_data"
    },
    {
     "data": {
      "text/plain": [
       "<Figure size 2880x504 with 0 Axes>"
      ]
     },
     "metadata": {},
     "output_type": "display_data"
    },
    {
     "data": {
      "text/plain": [
       "<Figure size 2880x504 with 0 Axes>"
      ]
     },
     "metadata": {},
     "output_type": "display_data"
    },
    {
     "data": {
      "text/plain": [
       "<Figure size 2880x504 with 0 Axes>"
      ]
     },
     "metadata": {},
     "output_type": "display_data"
    },
    {
     "data": {
      "text/plain": [
       "<Figure size 2880x504 with 0 Axes>"
      ]
     },
     "metadata": {},
     "output_type": "display_data"
    },
    {
     "data": {
      "text/plain": [
       "<Figure size 2880x504 with 0 Axes>"
      ]
     },
     "metadata": {},
     "output_type": "display_data"
    },
    {
     "data": {
      "text/plain": [
       "<Figure size 2880x504 with 0 Axes>"
      ]
     },
     "metadata": {},
     "output_type": "display_data"
    },
    {
     "data": {
      "text/plain": [
       "<Figure size 2880x504 with 0 Axes>"
      ]
     },
     "metadata": {},
     "output_type": "display_data"
    },
    {
     "data": {
      "text/plain": [
       "<Figure size 2880x504 with 0 Axes>"
      ]
     },
     "metadata": {},
     "output_type": "display_data"
    },
    {
     "data": {
      "text/plain": [
       "<Figure size 2880x504 with 0 Axes>"
      ]
     },
     "metadata": {},
     "output_type": "display_data"
    },
    {
     "data": {
      "text/plain": [
       "<Figure size 2880x504 with 0 Axes>"
      ]
     },
     "metadata": {},
     "output_type": "display_data"
    },
    {
     "data": {
      "text/plain": [
       "<Figure size 2880x504 with 0 Axes>"
      ]
     },
     "metadata": {},
     "output_type": "display_data"
    },
    {
     "data": {
      "text/plain": [
       "<Figure size 2880x504 with 0 Axes>"
      ]
     },
     "metadata": {},
     "output_type": "display_data"
    },
    {
     "data": {
      "text/plain": [
       "<Figure size 2880x504 with 0 Axes>"
      ]
     },
     "metadata": {},
     "output_type": "display_data"
    },
    {
     "data": {
      "text/plain": [
       "<Figure size 2880x504 with 0 Axes>"
      ]
     },
     "metadata": {},
     "output_type": "display_data"
    },
    {
     "data": {
      "text/plain": [
       "<Figure size 2880x504 with 0 Axes>"
      ]
     },
     "metadata": {},
     "output_type": "display_data"
    },
    {
     "data": {
      "text/plain": [
       "<Figure size 2880x504 with 0 Axes>"
      ]
     },
     "metadata": {},
     "output_type": "display_data"
    },
    {
     "data": {
      "text/plain": [
       "<Figure size 2880x504 with 0 Axes>"
      ]
     },
     "metadata": {},
     "output_type": "display_data"
    },
    {
     "data": {
      "text/plain": [
       "<Figure size 2880x504 with 0 Axes>"
      ]
     },
     "metadata": {},
     "output_type": "display_data"
    },
    {
     "data": {
      "text/plain": [
       "<Figure size 2880x504 with 0 Axes>"
      ]
     },
     "metadata": {},
     "output_type": "display_data"
    },
    {
     "data": {
      "text/plain": [
       "<Figure size 2880x504 with 0 Axes>"
      ]
     },
     "metadata": {},
     "output_type": "display_data"
    },
    {
     "data": {
      "text/plain": [
       "<Figure size 2880x504 with 0 Axes>"
      ]
     },
     "metadata": {},
     "output_type": "display_data"
    },
    {
     "data": {
      "text/plain": [
       "<Figure size 2880x504 with 0 Axes>"
      ]
     },
     "metadata": {},
     "output_type": "display_data"
    },
    {
     "data": {
      "text/plain": [
       "<Figure size 2880x504 with 0 Axes>"
      ]
     },
     "metadata": {},
     "output_type": "display_data"
    },
    {
     "data": {
      "text/plain": [
       "<Figure size 2880x504 with 0 Axes>"
      ]
     },
     "metadata": {},
     "output_type": "display_data"
    },
    {
     "data": {
      "text/plain": [
       "<Figure size 2880x504 with 0 Axes>"
      ]
     },
     "metadata": {},
     "output_type": "display_data"
    },
    {
     "data": {
      "text/plain": [
       "<Figure size 2880x504 with 0 Axes>"
      ]
     },
     "metadata": {},
     "output_type": "display_data"
    },
    {
     "data": {
      "text/plain": [
       "<Figure size 2880x504 with 0 Axes>"
      ]
     },
     "metadata": {},
     "output_type": "display_data"
    },
    {
     "data": {
      "image/png": "[encoded data removed]",
      "text/plain": [
       "<Figure size 2880x504 with 2 Axes>"
      ]
     },
     "metadata": {},
     "output_type": "display_data"
    }
   ],
   "source": [
    "blind_bucket=1\n",
    "# %time unigram_segment_extractor.apply(sents_split[blind_bucket], split=blind_bucket)\n",
    "unigram_segments_tmp=session.query(Unigram).filter(Unigram.split == blind_bucket).all()\n",
    "\n",
    "print(\"len(blind_segments)\",len(unigram_segments_tmp))\n",
    "print(\"applying L_train_tmp\")\n",
    "\n",
    "L_train_tmp=get_L_train(purpose_LFs+mechanism_LFs+null_LFs,split=blind_bucket)\n",
    "\n",
    "print(\"creating blind_marginals\")\n",
    "\n",
    "train_marginals_tmp = gen_model.marginals(L_train_tmp)\n",
    "\n",
    "# writing visualization \n",
    "\n",
    "sample_size=train_marginals_tmp.shape[0]\n",
    "smooth_window=3\n",
    "visualize_word_level(\"PP\"+\"_\"+str(smooth_window),unigram_segments_tmp[:sample_size],list(train_marginals_tmp[:sample_size,0].reshape(-1)),smooth_window=smooth_window,cmap=\"Reds\",directory=\"data/word_level_tag_visualization/blind\") \n",
    "visualize_word_level(\"MN\"+\"_\"+str(smooth_window),unigram_segments_tmp[:sample_size],list(train_marginals_tmp[:sample_size,1].reshape(-1)),smooth_window=smooth_window,cmap=\"Blues\",directory=\"data/word_level_tag_visualization/blind\") \n",
    "\n",
    "\n",
    "\n",
    "\n",
    "# write_csv_gen_label(unigram_segments_tmp,train_marginals_tmp,\"data/annotations_slim_s2/split\"+str(train_bucket)+\".csv\")"
   ]
  },
  {
   "cell_type": "code",
   "execution_count": null,
   "metadata": {},
   "outputs": [],
   "source": [
    "### Insert a directory link here!"
   ]
  },
  {
   "cell_type": "markdown",
   "metadata": {},
   "source": [
    "### Section 3: writing soft generative noisy labels"
   ]
  },
  {
   "cell_type": "code",
   "execution_count": 34,
   "metadata": {},
   "outputs": [],
   "source": [
    "from collections import defaultdict\n",
    "import pandas as pd\n",
    "\n",
    "# initialize some variables\n",
    "# df = pd.DataFrame([], columns=['winningHighlight', 'paperID', 'globalPsn','content'])    \n",
    "\n",
    "# aspects_list=[\"Purpose\",\"Mechanism\",\"Others\"]\n",
    "\n",
    "def get_candidate_text(segment):\n",
    "    return segment.get_parent().text[segment.unigram_cue.char_start:segment.unigram_cue.char_end+1]\n",
    "\n",
    "\n",
    "def write_csv_gen_label(unigram_segments,train_marginals,csv_path):\n",
    "    aggregated_doc=defaultdict(lambda:[])\n",
    "    aggregated_sent=defaultdict(lambda:[])\n",
    "    for idx,train_segment in enumerate(unigram_segments):\n",
    "        sent_id=train_segment.get_parent().id    \n",
    "        winningHighlight=list(train_marginals[idx])\n",
    "        cue=train_segment.get_contexts()[0]\n",
    "        aggregated_sent[sent_id]+=[(cue.char_start,cue.char_end,get_candidate_text(train_segment),winningHighlight)]\n",
    "\n",
    "        doc_id=train_segment.get_parent().get_parent().name\n",
    "        if doc_id not in aggregated_doc:\n",
    "            aggregated_doc[doc_id]=train_segment.get_parent().get_parent().sentences\n",
    "\n",
    "\n",
    "    df_list=[]      \n",
    "    for doc_id in aggregated_doc:\n",
    "        globalPsn=1\n",
    "        for sent in aggregated_doc[doc_id]:\n",
    "            sent_id=sent.id\n",
    "            if sent_id not in aggregated_sent:\n",
    "                raise ValueError('we have no info about this sent'+str(sent))\n",
    "            aggregated_sent[sent_id]=sorted(aggregated_sent[sent_id], key=lambda x: x[0])\n",
    "            for idx,pair in enumerate(aggregated_sent[sent_id]):\n",
    "                text=pair[2]\n",
    "                df_list+=[[pair[3],doc_id,globalPsn,text]]\n",
    "                globalPsn+=1\n",
    "\n",
    "\n",
    "    df=pd.DataFrame(df_list,columns=['winningHighlight', 'paperID', 'globalPsn','content'])\n",
    "    df.to_csv(open(csv_path,\"w\"))   # in the spreadsheet, punctuations are splitted\n",
    "\n",
    "write_csv_gen_label(unigram_segments,train_marginals,\"data/annotations_slim_s2/split\"+str(0)+\".csv\")"
   ]
  },
  {
   "cell_type": "code",
   "execution_count": null,
   "metadata": {},
   "outputs": [],
   "source": []
  },
  {
   "cell_type": "code",
   "execution_count": null,
   "metadata": {},
   "outputs": [],
   "source": []
  },
  {
   "cell_type": "code",
   "execution_count": 36,
   "metadata": {},
   "outputs": [
    {
     "name": "stdout",
     "output_type": "stream",
     "text": [
      "Clearing existing...\n",
      "snorkel_conn_string postgresql:///abstractnetwordfilter\n",
      "if snorkel_postgres? True\n",
      "clearning..\n",
      "Running UDF...\n",
      "snorkel_conn_string postgresql:///abstractnetwordfilter\n",
      "if snorkel_postgres? True\n",
      "[========================================] 100%\n",
      "\n",
      "CPU times: user 30.6 s, sys: 1.89 s, total: 32.5 s\n",
      "Wall time: 4min 43s\n",
      "len(train_segments) 47525\n",
      "applying L_train_tmp\n",
      "snorkel_conn_string postgresql:///abstractnetwordfilter\n",
      "if snorkel_postgres? True\n",
      "2018-10-10 23:54:43.216483\n",
      "snorkel_conn_string postgresql:///abstractnetwordfilter\n",
      "if snorkel_postgres? True\n",
      "cids_count 47525\n",
      "key_group 0\n",
      "Clearing existing...\n",
      "snorkel_conn_string postgresql:///abstractnetwordfilter\n",
      "if snorkel_postgres? True\n",
      "clearning..\n",
      "Running UDF...\n",
      "snorkel_conn_string postgresql:///abstractnetwordfilter\n",
      "if snorkel_postgres? True\n",
      "[========================================] 100%\n",
      "\n",
      "2018-10-11 00:00:46.659270\n",
      "<class 'snorkel.annotations.csr_LabelMatrix'>\n",
      "(47525, 77)\n"
     ]
    },
    {
     "data": {
      "text/markdown": [
       "**Total non_overlapping_coverage on L_train (percentage of labelled over all)**  0.6954024197790637"
      ],
      "text/plain": [
       "<IPython.core.display.Markdown object>"
      ]
     },
     "metadata": {},
     "output_type": "display_data"
    },
    {
     "name": "stdout",
     "output_type": "stream",
     "text": [
      "creating train_marginals\n",
      "Clearing existing...\n",
      "snorkel_conn_string postgresql:///abstractnetwordfilter\n",
      "if snorkel_postgres? True\n",
      "clearning..\n",
      "Running UDF...\n",
      "snorkel_conn_string postgresql:///abstractnetwordfilter\n",
      "if snorkel_postgres? True\n",
      "[========================================] 100%\n",
      "\n",
      "CPU times: user 30.8 s, sys: 2.2 s, total: 33 s\n",
      "Wall time: 4min 52s\n",
      "len(train_segments) 48006\n",
      "applying L_train_tmp\n",
      "snorkel_conn_string postgresql:///abstractnetwordfilter\n",
      "if snorkel_postgres? True\n",
      "2018-10-11 00:06:58.717420\n",
      "snorkel_conn_string postgresql:///abstractnetwordfilter\n",
      "if snorkel_postgres? True\n",
      "cids_count 48006\n",
      "key_group 0\n",
      "Clearing existing...\n",
      "snorkel_conn_string postgresql:///abstractnetwordfilter\n",
      "if snorkel_postgres? True\n",
      "clearning..\n",
      "Running UDF...\n",
      "snorkel_conn_string postgresql:///abstractnetwordfilter\n",
      "if snorkel_postgres? True\n",
      "[========================================] 100%\n",
      "\n",
      "2018-10-11 00:12:56.589932\n",
      "<class 'snorkel.annotations.csr_LabelMatrix'>\n",
      "(48006, 77)\n"
     ]
    },
    {
     "data": {
      "text/markdown": [
       "**Total non_overlapping_coverage on L_train (percentage of labelled over all)**  0.6798525184351956"
      ],
      "text/plain": [
       "<IPython.core.display.Markdown object>"
      ]
     },
     "metadata": {},
     "output_type": "display_data"
    },
    {
     "name": "stdout",
     "output_type": "stream",
     "text": [
      "creating train_marginals\n",
      "Clearing existing...\n",
      "snorkel_conn_string postgresql:///abstractnetwordfilter\n",
      "if snorkel_postgres? True\n",
      "clearning..\n",
      "Running UDF...\n",
      "snorkel_conn_string postgresql:///abstractnetwordfilter\n",
      "if snorkel_postgres? True\n",
      "[========================================] 100%\n",
      "\n",
      "CPU times: user 1min 12s, sys: 4.3 s, total: 1min 17s\n",
      "Wall time: 2min 34s\n",
      "len(train_segments) 48687\n",
      "applying L_train_tmp\n",
      "snorkel_conn_string postgresql:///abstractnetwordfilter\n",
      "if snorkel_postgres? True\n",
      "2018-10-11 00:16:47.958032\n",
      "snorkel_conn_string postgresql:///abstractnetwordfilter\n",
      "if snorkel_postgres? True\n",
      "cids_count 48687\n",
      "key_group 0\n",
      "Clearing existing...\n",
      "snorkel_conn_string postgresql:///abstractnetwordfilter\n",
      "if snorkel_postgres? True\n",
      "clearning..\n",
      "Running UDF...\n",
      "snorkel_conn_string postgresql:///abstractnetwordfilter\n",
      "if snorkel_postgres? True\n",
      "[========================================] 100%\n",
      "\n",
      "2018-10-11 00:22:51.558985\n",
      "<class 'snorkel.annotations.csr_LabelMatrix'>\n",
      "(48687, 77)\n"
     ]
    },
    {
     "data": {
      "text/markdown": [
       "**Total non_overlapping_coverage on L_train (percentage of labelled over all)**  0.68322139380122"
      ],
      "text/plain": [
       "<IPython.core.display.Markdown object>"
      ]
     },
     "metadata": {},
     "output_type": "display_data"
    },
    {
     "name": "stdout",
     "output_type": "stream",
     "text": [
      "creating train_marginals\n",
      "Clearing existing...\n",
      "snorkel_conn_string postgresql:///abstractnetwordfilter\n",
      "if snorkel_postgres? True\n",
      "clearning..\n",
      "Running UDF...\n",
      "snorkel_conn_string postgresql:///abstractnetwordfilter\n",
      "if snorkel_postgres? True\n",
      "[========================================] 100%\n",
      "\n",
      "CPU times: user 1min 14s, sys: 4.61 s, total: 1min 18s\n",
      "Wall time: 2min 43s\n",
      "len(train_segments) 49113\n",
      "applying L_train_tmp\n",
      "snorkel_conn_string postgresql:///abstractnetwordfilter\n",
      "if snorkel_postgres? True\n",
      "2018-10-11 00:26:50.812635\n",
      "snorkel_conn_string postgresql:///abstractnetwordfilter\n",
      "if snorkel_postgres? True\n",
      "cids_count 49113\n",
      "key_group 0\n",
      "Clearing existing...\n",
      "snorkel_conn_string postgresql:///abstractnetwordfilter\n",
      "if snorkel_postgres? True\n",
      "clearning..\n",
      "Running UDF...\n",
      "snorkel_conn_string postgresql:///abstractnetwordfilter\n",
      "if snorkel_postgres? True\n",
      "[========================================] 100%\n",
      "\n",
      "2018-10-11 00:32:56.410856\n",
      "<class 'snorkel.annotations.csr_LabelMatrix'>\n",
      "(49113, 77)\n"
     ]
    },
    {
     "data": {
      "text/markdown": [
       "**Total non_overlapping_coverage on L_train (percentage of labelled over all)**  0.6754219860322115"
      ],
      "text/plain": [
       "<IPython.core.display.Markdown object>"
      ]
     },
     "metadata": {},
     "output_type": "display_data"
    },
    {
     "name": "stdout",
     "output_type": "stream",
     "text": [
      "creating train_marginals\n",
      "Clearing existing...\n",
      "snorkel_conn_string postgresql:///abstractnetwordfilter\n",
      "if snorkel_postgres? True\n",
      "clearning..\n",
      "Running UDF...\n",
      "snorkel_conn_string postgresql:///abstractnetwordfilter\n",
      "if snorkel_postgres? True\n",
      "[========================================] 100%\n",
      "\n",
      "CPU times: user 1min 14s, sys: 4.32 s, total: 1min 18s\n",
      "Wall time: 2min 41s\n",
      "len(train_segments) 48989\n",
      "applying L_train_tmp\n",
      "snorkel_conn_string postgresql:///abstractnetwordfilter\n",
      "if snorkel_postgres? True\n",
      "2018-10-11 00:36:53.256088\n",
      "snorkel_conn_string postgresql:///abstractnetwordfilter\n",
      "if snorkel_postgres? True\n",
      "cids_count 48989\n",
      "key_group 0\n",
      "Clearing existing...\n",
      "snorkel_conn_string postgresql:///abstractnetwordfilter\n",
      "if snorkel_postgres? True\n",
      "clearning..\n",
      "Running UDF...\n",
      "snorkel_conn_string postgresql:///abstractnetwordfilter\n",
      "if snorkel_postgres? True\n",
      "[========================================] 100%\n",
      "\n",
      "2018-10-11 00:42:56.171901\n",
      "<class 'snorkel.annotations.csr_LabelMatrix'>\n",
      "(48989, 77)\n"
     ]
    },
    {
     "data": {
      "text/markdown": [
       "**Total non_overlapping_coverage on L_train (percentage of labelled over all)**  0.6727020351507481"
      ],
      "text/plain": [
       "<IPython.core.display.Markdown object>"
      ]
     },
     "metadata": {},
     "output_type": "display_data"
    },
    {
     "name": "stdout",
     "output_type": "stream",
     "text": [
      "creating train_marginals\n",
      "Clearing existing...\n",
      "snorkel_conn_string postgresql:///abstractnetwordfilter\n",
      "if snorkel_postgres? True\n",
      "clearning..\n",
      "Running UDF...\n",
      "snorkel_conn_string postgresql:///abstractnetwordfilter\n",
      "if snorkel_postgres? True\n",
      "[========================================] 100%\n",
      "\n",
      "CPU times: user 1min 18s, sys: 5.12 s, total: 1min 23s\n",
      "Wall time: 2min 53s\n",
      "len(train_segments) 48266\n",
      "applying L_train_tmp\n",
      "snorkel_conn_string postgresql:///abstractnetwordfilter\n",
      "if snorkel_postgres? True\n",
      "2018-10-11 00:47:07.063965\n",
      "snorkel_conn_string postgresql:///abstractnetwordfilter\n",
      "if snorkel_postgres? True\n",
      "cids_count 48266\n",
      "key_group 0\n",
      "Clearing existing...\n",
      "snorkel_conn_string postgresql:///abstractnetwordfilter\n",
      "if snorkel_postgres? True\n",
      "clearning..\n",
      "Running UDF...\n",
      "snorkel_conn_string postgresql:///abstractnetwordfilter\n",
      "if snorkel_postgres? True\n",
      "[========================================] 100%\n",
      "\n",
      "2018-10-11 00:53:14.083477\n",
      "<class 'snorkel.annotations.csr_LabelMatrix'>\n",
      "(48266, 77)\n"
     ]
    },
    {
     "data": {
      "text/markdown": [
       "**Total non_overlapping_coverage on L_train (percentage of labelled over all)**  0.6694153234160692"
      ],
      "text/plain": [
       "<IPython.core.display.Markdown object>"
      ]
     },
     "metadata": {},
     "output_type": "display_data"
    },
    {
     "name": "stdout",
     "output_type": "stream",
     "text": [
      "creating train_marginals\n",
      "Clearing existing...\n",
      "snorkel_conn_string postgresql:///abstractnetwordfilter\n",
      "if snorkel_postgres? True\n",
      "clearning..\n",
      "Running UDF...\n",
      "snorkel_conn_string postgresql:///abstractnetwordfilter\n",
      "if snorkel_postgres? True\n",
      "[========================================] 100%\n",
      "\n",
      "CPU times: user 1min 11s, sys: 4.13 s, total: 1min 15s\n",
      "Wall time: 2min 29s\n",
      "len(train_segments) 47885\n",
      "applying L_train_tmp\n",
      "snorkel_conn_string postgresql:///abstractnetwordfilter\n",
      "if snorkel_postgres? True\n",
      "2018-10-11 00:57:06.197083\n",
      "snorkel_conn_string postgresql:///abstractnetwordfilter\n",
      "if snorkel_postgres? True\n",
      "cids_count 47885\n",
      "key_group 0\n",
      "Clearing existing...\n",
      "snorkel_conn_string postgresql:///abstractnetwordfilter\n",
      "if snorkel_postgres? True\n",
      "clearning..\n",
      "Running UDF...\n",
      "snorkel_conn_string postgresql:///abstractnetwordfilter\n",
      "if snorkel_postgres? True\n",
      "[========================================] 100%\n",
      "\n",
      "2018-10-11 01:03:08.440841\n",
      "<class 'snorkel.annotations.csr_LabelMatrix'>\n",
      "(47885, 77)\n"
     ]
    },
    {
     "data": {
      "text/markdown": [
       "**Total non_overlapping_coverage on L_train (percentage of labelled over all)**  0.6674950402004803"
      ],
      "text/plain": [
       "<IPython.core.display.Markdown object>"
      ]
     },
     "metadata": {},
     "output_type": "display_data"
    },
    {
     "name": "stdout",
     "output_type": "stream",
     "text": [
      "creating train_marginals\n",
      "Clearing existing...\n",
      "snorkel_conn_string postgresql:///abstractnetwordfilter\n",
      "if snorkel_postgres? True\n",
      "clearning..\n",
      "Running UDF...\n",
      "snorkel_conn_string postgresql:///abstractnetwordfilter\n",
      "if snorkel_postgres? True\n",
      "[========================================] 100%\n",
      "\n",
      "CPU times: user 1min 12s, sys: 4.47 s, total: 1min 17s\n",
      "Wall time: 2min 32s\n",
      "len(train_segments) 47471\n",
      "applying L_train_tmp\n",
      "snorkel_conn_string postgresql:///abstractnetwordfilter\n",
      "if snorkel_postgres? True\n",
      "2018-10-11 01:07:02.051478\n",
      "snorkel_conn_string postgresql:///abstractnetwordfilter\n",
      "if snorkel_postgres? True\n",
      "cids_count 47471\n",
      "key_group 0\n",
      "Clearing existing...\n",
      "snorkel_conn_string postgresql:///abstractnetwordfilter\n",
      "if snorkel_postgres? True\n",
      "clearning..\n",
      "Running UDF...\n",
      "snorkel_conn_string postgresql:///abstractnetwordfilter\n",
      "if snorkel_postgres? True\n",
      "[========================================] 100%\n",
      "\n",
      "2018-10-11 01:12:58.710151\n",
      "<class 'snorkel.annotations.csr_LabelMatrix'>\n",
      "(47471, 77)\n"
     ]
    },
    {
     "data": {
      "text/markdown": [
       "**Total non_overlapping_coverage on L_train (percentage of labelled over all)**  0.6743906806260664"
      ],
      "text/plain": [
       "<IPython.core.display.Markdown object>"
      ]
     },
     "metadata": {},
     "output_type": "display_data"
    },
    {
     "name": "stdout",
     "output_type": "stream",
     "text": [
      "creating train_marginals\n",
      "Clearing existing...\n",
      "snorkel_conn_string postgresql:///abstractnetwordfilter\n",
      "if snorkel_postgres? True\n",
      "clearning..\n",
      "Running UDF...\n",
      "snorkel_conn_string postgresql:///abstractnetwordfilter\n",
      "if snorkel_postgres? True\n",
      "[========================================] 100%\n",
      "\n",
      "CPU times: user 1min 9s, sys: 4.2 s, total: 1min 13s\n",
      "Wall time: 2min 30s\n",
      "len(train_segments) 46886\n",
      "applying L_train_tmp\n",
      "snorkel_conn_string postgresql:///abstractnetwordfilter\n",
      "if snorkel_postgres? True\n",
      "2018-10-11 01:16:50.595829\n",
      "snorkel_conn_string postgresql:///abstractnetwordfilter\n",
      "if snorkel_postgres? True\n",
      "cids_count 46886\n",
      "key_group 0\n",
      "Clearing existing...\n",
      "snorkel_conn_string postgresql:///abstractnetwordfilter\n",
      "if snorkel_postgres? True\n",
      "clearning..\n",
      "Running UDF...\n",
      "snorkel_conn_string postgresql:///abstractnetwordfilter\n",
      "if snorkel_postgres? True\n",
      "[========================================] 100%\n",
      "\n",
      "2018-10-11 01:22:42.614989\n",
      "<class 'snorkel.annotations.csr_LabelMatrix'>\n",
      "(46886, 77)\n"
     ]
    },
    {
     "data": {
      "text/markdown": [
       "**Total non_overlapping_coverage on L_train (percentage of labelled over all)**  0.6980761847886363"
      ],
      "text/plain": [
       "<IPython.core.display.Markdown object>"
      ]
     },
     "metadata": {},
     "output_type": "display_data"
    },
    {
     "name": "stdout",
     "output_type": "stream",
     "text": [
      "creating train_marginals\n",
      "Clearing existing...\n",
      "snorkel_conn_string postgresql:///abstractnetwordfilter\n",
      "if snorkel_postgres? True\n",
      "clearning..\n",
      "Running UDF...\n",
      "snorkel_conn_string postgresql:///abstractnetwordfilter\n",
      "if snorkel_postgres? True\n",
      "[========================================] 100%\n",
      "\n",
      "CPU times: user 1min 10s, sys: 4.37 s, total: 1min 15s\n",
      "Wall time: 2min 36s\n",
      "len(train_segments) 47351\n",
      "applying L_train_tmp\n",
      "snorkel_conn_string postgresql:///abstractnetwordfilter\n",
      "if snorkel_postgres? True\n",
      "2018-10-11 01:26:33.035898\n",
      "snorkel_conn_string postgresql:///abstractnetwordfilter\n",
      "if snorkel_postgres? True\n",
      "cids_count 47351\n",
      "key_group 0\n",
      "Clearing existing...\n",
      "snorkel_conn_string postgresql:///abstractnetwordfilter\n",
      "if snorkel_postgres? True\n",
      "clearning..\n",
      "Running UDF...\n",
      "snorkel_conn_string postgresql:///abstractnetwordfilter\n",
      "if snorkel_postgres? True\n",
      "[========================================] 100%\n",
      "\n",
      "2018-10-11 01:32:27.815342\n",
      "<class 'snorkel.annotations.csr_LabelMatrix'>\n",
      "(47351, 77)\n"
     ]
    },
    {
     "data": {
      "text/markdown": [
       "**Total non_overlapping_coverage on L_train (percentage of labelled over all)**  0.6879052184747946"
      ],
      "text/plain": [
       "<IPython.core.display.Markdown object>"
      ]
     },
     "metadata": {},
     "output_type": "display_data"
    },
    {
     "name": "stdout",
     "output_type": "stream",
     "text": [
      "creating train_marginals\n",
      "Clearing existing...\n",
      "snorkel_conn_string postgresql:///abstractnetwordfilter\n",
      "if snorkel_postgres? True\n",
      "clearning..\n",
      "Running UDF...\n",
      "snorkel_conn_string postgresql:///abstractnetwordfilter\n",
      "if snorkel_postgres? True\n",
      "[========================================] 100%\n",
      "\n",
      "CPU times: user 1min 8s, sys: 4.07 s, total: 1min 12s\n",
      "Wall time: 2min 29s\n",
      "len(train_segments) 48575\n",
      "applying L_train_tmp\n",
      "snorkel_conn_string postgresql:///abstractnetwordfilter\n",
      "if snorkel_postgres? True\n",
      "2018-10-11 01:36:11.491903\n",
      "snorkel_conn_string postgresql:///abstractnetwordfilter\n",
      "if snorkel_postgres? True\n",
      "cids_count 48575\n",
      "key_group 0\n",
      "Clearing existing...\n",
      "snorkel_conn_string postgresql:///abstractnetwordfilter\n",
      "if snorkel_postgres? True\n",
      "clearning..\n",
      "Running UDF...\n",
      "snorkel_conn_string postgresql:///abstractnetwordfilter\n",
      "if snorkel_postgres? True\n",
      "[========================================] 100%\n",
      "\n",
      "2018-10-11 01:42:11.439841\n",
      "<class 'snorkel.annotations.csr_LabelMatrix'>\n",
      "(48575, 77)\n"
     ]
    },
    {
     "data": {
      "text/markdown": [
       "**Total non_overlapping_coverage on L_train (percentage of labelled over all)**  0.6778795676788472"
      ],
      "text/plain": [
       "<IPython.core.display.Markdown object>"
      ]
     },
     "metadata": {},
     "output_type": "display_data"
    },
    {
     "name": "stdout",
     "output_type": "stream",
     "text": [
      "creating train_marginals\n",
      "Clearing existing...\n",
      "snorkel_conn_string postgresql:///abstractnetwordfilter\n",
      "if snorkel_postgres? True\n",
      "clearning..\n",
      "Running UDF...\n",
      "snorkel_conn_string postgresql:///abstractnetwordfilter\n",
      "if snorkel_postgres? True\n",
      "[========================================] 100%\n",
      "\n",
      "CPU times: user 1min 16s, sys: 4.53 s, total: 1min 21s\n",
      "Wall time: 2min 47s\n",
      "len(train_segments) 49832\n",
      "applying L_train_tmp\n",
      "snorkel_conn_string postgresql:///abstractnetwordfilter\n",
      "if snorkel_postgres? True\n",
      "2018-10-11 01:46:13.401092\n",
      "snorkel_conn_string postgresql:///abstractnetwordfilter\n",
      "if snorkel_postgres? True\n",
      "cids_count 49832\n",
      "key_group 0\n",
      "Clearing existing...\n",
      "snorkel_conn_string postgresql:///abstractnetwordfilter\n",
      "if snorkel_postgres? True\n",
      "clearning..\n",
      "Running UDF...\n",
      "snorkel_conn_string postgresql:///abstractnetwordfilter\n",
      "if snorkel_postgres? True\n",
      "[========================================] 100%\n",
      "\n",
      "2018-10-11 01:52:27.552720\n",
      "<class 'snorkel.annotations.csr_LabelMatrix'>\n",
      "(49832, 77)\n"
     ]
    },
    {
     "data": {
      "text/markdown": [
       "**Total non_overlapping_coverage on L_train (percentage of labelled over all)**  0.6753692406485792"
      ],
      "text/plain": [
       "<IPython.core.display.Markdown object>"
      ]
     },
     "metadata": {},
     "output_type": "display_data"
    },
    {
     "name": "stdout",
     "output_type": "stream",
     "text": [
      "creating train_marginals\n",
      "Clearing existing...\n",
      "snorkel_conn_string postgresql:///abstractnetwordfilter\n",
      "if snorkel_postgres? True\n",
      "clearning..\n",
      "Running UDF...\n",
      "snorkel_conn_string postgresql:///abstractnetwordfilter\n",
      "if snorkel_postgres? True\n",
      "[========================================] 100%\n",
      "\n",
      "CPU times: user 1min 11s, sys: 4.27 s, total: 1min 15s\n",
      "Wall time: 2min 34s\n",
      "len(train_segments) 48155\n",
      "applying L_train_tmp\n",
      "snorkel_conn_string postgresql:///abstractnetwordfilter\n",
      "if snorkel_postgres? True\n",
      "2018-10-11 01:56:20.474917\n",
      "snorkel_conn_string postgresql:///abstractnetwordfilter\n",
      "if snorkel_postgres? True\n",
      "cids_count 48155\n",
      "key_group 0\n",
      "Clearing existing...\n",
      "snorkel_conn_string postgresql:///abstractnetwordfilter\n",
      "if snorkel_postgres? True\n",
      "clearning..\n",
      "Running UDF...\n",
      "snorkel_conn_string postgresql:///abstractnetwordfilter\n",
      "if snorkel_postgres? True\n",
      "[========================================] 100%\n",
      "\n",
      "2018-10-11 02:02:22.203504\n",
      "<class 'snorkel.annotations.csr_LabelMatrix'>\n",
      "(48155, 77)\n"
     ]
    },
    {
     "data": {
      "text/markdown": [
       "**Total non_overlapping_coverage on L_train (percentage of labelled over all)**  0.6928252517910912"
      ],
      "text/plain": [
       "<IPython.core.display.Markdown object>"
      ]
     },
     "metadata": {},
     "output_type": "display_data"
    },
    {
     "name": "stdout",
     "output_type": "stream",
     "text": [
      "creating train_marginals\n",
      "Clearing existing...\n",
      "snorkel_conn_string postgresql:///abstractnetwordfilter\n",
      "if snorkel_postgres? True\n",
      "clearning..\n",
      "Running UDF...\n",
      "snorkel_conn_string postgresql:///abstractnetwordfilter\n",
      "if snorkel_postgres? True\n",
      "[========================================] 100%\n",
      "\n",
      "CPU times: user 1min 13s, sys: 4.34 s, total: 1min 17s\n",
      "Wall time: 2min 41s\n",
      "len(train_segments) 48725\n",
      "applying L_train_tmp\n",
      "snorkel_conn_string postgresql:///abstractnetwordfilter\n",
      "if snorkel_postgres? True\n",
      "2018-10-11 02:06:20.952129\n",
      "snorkel_conn_string postgresql:///abstractnetwordfilter\n",
      "if snorkel_postgres? True\n",
      "cids_count 48725\n",
      "key_group 0\n",
      "Clearing existing...\n",
      "snorkel_conn_string postgresql:///abstractnetwordfilter\n",
      "if snorkel_postgres? True\n",
      "clearning..\n",
      "Running UDF...\n",
      "snorkel_conn_string postgresql:///abstractnetwordfilter\n",
      "if snorkel_postgres? True\n",
      "[========================================] 100%\n",
      "\n",
      "2018-10-11 02:12:19.939272\n",
      "<class 'snorkel.annotations.csr_LabelMatrix'>\n",
      "(48725, 77)\n"
     ]
    },
    {
     "data": {
      "text/markdown": [
       "**Total non_overlapping_coverage on L_train (percentage of labelled over all)**  0.6639096972806567"
      ],
      "text/plain": [
       "<IPython.core.display.Markdown object>"
      ]
     },
     "metadata": {},
     "output_type": "display_data"
    },
    {
     "name": "stdout",
     "output_type": "stream",
     "text": [
      "creating train_marginals\n",
      "Clearing existing...\n",
      "snorkel_conn_string postgresql:///abstractnetwordfilter\n",
      "if snorkel_postgres? True\n",
      "clearning..\n",
      "Running UDF...\n",
      "snorkel_conn_string postgresql:///abstractnetwordfilter\n",
      "if snorkel_postgres? True\n",
      "[========================================] 100%\n",
      "\n",
      "CPU times: user 1min 11s, sys: 4.15 s, total: 1min 15s\n",
      "Wall time: 2min 31s\n",
      "len(train_segments) 47765\n",
      "applying L_train_tmp\n",
      "snorkel_conn_string postgresql:///abstractnetwordfilter\n",
      "if snorkel_postgres? True\n",
      "2018-10-11 02:16:07.648212\n",
      "snorkel_conn_string postgresql:///abstractnetwordfilter\n",
      "if snorkel_postgres? True\n",
      "cids_count 47765\n",
      "key_group 0\n",
      "Clearing existing...\n",
      "snorkel_conn_string postgresql:///abstractnetwordfilter\n",
      "if snorkel_postgres? True\n",
      "clearning..\n",
      "Running UDF...\n",
      "snorkel_conn_string postgresql:///abstractnetwordfilter\n",
      "if snorkel_postgres? True\n",
      "[========================================] 100%\n",
      "\n",
      "2018-10-11 02:22:07.578903\n",
      "<class 'snorkel.annotations.csr_LabelMatrix'>\n",
      "(47765, 77)\n"
     ]
    },
    {
     "data": {
      "text/markdown": [
       "**Total non_overlapping_coverage on L_train (percentage of labelled over all)**  0.6916361352454726"
      ],
      "text/plain": [
       "<IPython.core.display.Markdown object>"
      ]
     },
     "metadata": {},
     "output_type": "display_data"
    },
    {
     "name": "stdout",
     "output_type": "stream",
     "text": [
      "creating train_marginals\n",
      "Clearing existing...\n",
      "snorkel_conn_string postgresql:///abstractnetwordfilter\n",
      "if snorkel_postgres? True\n",
      "clearning..\n",
      "Running UDF...\n",
      "snorkel_conn_string postgresql:///abstractnetwordfilter\n",
      "if snorkel_postgres? True\n",
      "[========================================] 100%\n",
      "\n",
      "CPU times: user 1min 12s, sys: 4.38 s, total: 1min 17s\n",
      "Wall time: 2min 40s\n",
      "len(train_segments) 48260\n",
      "applying L_train_tmp\n",
      "snorkel_conn_string postgresql:///abstractnetwordfilter\n",
      "if snorkel_postgres? True\n",
      "2018-10-11 02:26:03.147046\n",
      "snorkel_conn_string postgresql:///abstractnetwordfilter\n",
      "if snorkel_postgres? True\n",
      "cids_count 48260\n",
      "key_group 0\n",
      "Clearing existing...\n",
      "snorkel_conn_string postgresql:///abstractnetwordfilter\n",
      "if snorkel_postgres? True\n",
      "clearning..\n",
      "Running UDF...\n",
      "snorkel_conn_string postgresql:///abstractnetwordfilter\n",
      "if snorkel_postgres? True\n",
      "[========================================] 100%\n",
      "\n",
      "2018-10-11 02:32:02.040038\n",
      "<class 'snorkel.annotations.csr_LabelMatrix'>\n",
      "(48260, 77)\n"
     ]
    },
    {
     "data": {
      "text/markdown": [
       "**Total non_overlapping_coverage on L_train (percentage of labelled over all)**  0.6762950683796104"
      ],
      "text/plain": [
       "<IPython.core.display.Markdown object>"
      ]
     },
     "metadata": {},
     "output_type": "display_data"
    },
    {
     "name": "stdout",
     "output_type": "stream",
     "text": [
      "creating train_marginals\n",
      "Clearing existing...\n",
      "snorkel_conn_string postgresql:///abstractnetwordfilter\n",
      "if snorkel_postgres? True\n",
      "clearning..\n",
      "Running UDF...\n",
      "snorkel_conn_string postgresql:///abstractnetwordfilter\n",
      "if snorkel_postgres? True\n",
      "[========================================] 100%\n",
      "\n",
      "CPU times: user 1min 15s, sys: 4.65 s, total: 1min 20s\n",
      "Wall time: 2min 45s\n",
      "len(train_segments) 48789\n",
      "applying L_train_tmp\n",
      "snorkel_conn_string postgresql:///abstractnetwordfilter\n",
      "if snorkel_postgres? True\n",
      "2018-10-11 02:36:03.004164\n",
      "snorkel_conn_string postgresql:///abstractnetwordfilter\n",
      "if snorkel_postgres? True\n",
      "cids_count 48789\n",
      "key_group 0\n",
      "Clearing existing...\n",
      "snorkel_conn_string postgresql:///abstractnetwordfilter\n",
      "if snorkel_postgres? True\n",
      "clearning..\n",
      "Running UDF...\n",
      "snorkel_conn_string postgresql:///abstractnetwordfilter\n",
      "if snorkel_postgres? True\n",
      "[========================================] 100%\n",
      "\n",
      "2018-10-11 02:42:08.985702\n",
      "<class 'snorkel.annotations.csr_LabelMatrix'>\n",
      "(48789, 77)\n"
     ]
    },
    {
     "data": {
      "text/markdown": [
       "**Total non_overlapping_coverage on L_train (percentage of labelled over all)**  0.6848879870462604"
      ],
      "text/plain": [
       "<IPython.core.display.Markdown object>"
      ]
     },
     "metadata": {},
     "output_type": "display_data"
    },
    {
     "name": "stdout",
     "output_type": "stream",
     "text": [
      "creating train_marginals\n",
      "Clearing existing...\n",
      "snorkel_conn_string postgresql:///abstractnetwordfilter\n",
      "if snorkel_postgres? True\n",
      "clearning..\n",
      "Running UDF...\n",
      "snorkel_conn_string postgresql:///abstractnetwordfilter\n",
      "if snorkel_postgres? True\n",
      "[========================================] 100%\n",
      "\n",
      "CPU times: user 1min 13s, sys: 4.38 s, total: 1min 17s\n",
      "Wall time: 2min 42s\n",
      "len(train_segments) 48264\n",
      "applying L_train_tmp\n",
      "snorkel_conn_string postgresql:///abstractnetwordfilter\n",
      "if snorkel_postgres? True\n",
      "2018-10-11 02:46:07.918806\n",
      "snorkel_conn_string postgresql:///abstractnetwordfilter\n",
      "if snorkel_postgres? True\n",
      "cids_count 48264\n",
      "key_group 0\n",
      "Clearing existing...\n",
      "snorkel_conn_string postgresql:///abstractnetwordfilter\n",
      "if snorkel_postgres? True\n",
      "clearning..\n",
      "Running UDF...\n",
      "snorkel_conn_string postgresql:///abstractnetwordfilter\n",
      "if snorkel_postgres? True\n",
      "[========================================] 100%\n",
      "\n",
      "2018-10-11 02:52:07.027147\n",
      "<class 'snorkel.annotations.csr_LabelMatrix'>\n",
      "(48264, 77)\n"
     ]
    },
    {
     "data": {
      "text/markdown": [
       "**Total non_overlapping_coverage on L_train (percentage of labelled over all)**  0.6727996021879662"
      ],
      "text/plain": [
       "<IPython.core.display.Markdown object>"
      ]
     },
     "metadata": {},
     "output_type": "display_data"
    },
    {
     "name": "stdout",
     "output_type": "stream",
     "text": [
      "creating train_marginals\n",
      "Clearing existing...\n",
      "snorkel_conn_string postgresql:///abstractnetwordfilter\n",
      "if snorkel_postgres? True\n",
      "clearning..\n",
      "Running UDF...\n",
      "snorkel_conn_string postgresql:///abstractnetwordfilter\n",
      "if snorkel_postgres? True\n",
      "[========================================] 100%\n",
      "\n",
      "CPU times: user 1min 15s, sys: 4.66 s, total: 1min 20s\n",
      "Wall time: 2min 46s\n",
      "len(train_segments) 48860\n",
      "applying L_train_tmp\n",
      "snorkel_conn_string postgresql:///abstractnetwordfilter\n",
      "if snorkel_postgres? True\n",
      "2018-10-11 02:56:09.144675\n",
      "snorkel_conn_string postgresql:///abstractnetwordfilter\n",
      "if snorkel_postgres? True\n",
      "cids_count 48860\n",
      "key_group 0\n",
      "Clearing existing...\n",
      "snorkel_conn_string postgresql:///abstractnetwordfilter\n",
      "if snorkel_postgres? True\n",
      "clearning..\n",
      "Running UDF...\n",
      "snorkel_conn_string postgresql:///abstractnetwordfilter\n",
      "if snorkel_postgres? True\n",
      "[========================================] 100%\n",
      "\n",
      "2018-10-11 03:02:14.332253\n",
      "<class 'snorkel.annotations.csr_LabelMatrix'>\n",
      "(48860, 77)\n"
     ]
    },
    {
     "data": {
      "text/markdown": [
       "**Total non_overlapping_coverage on L_train (percentage of labelled over all)**  0.6822144903806795"
      ],
      "text/plain": [
       "<IPython.core.display.Markdown object>"
      ]
     },
     "metadata": {},
     "output_type": "display_data"
    },
    {
     "name": "stdout",
     "output_type": "stream",
     "text": [
      "creating train_marginals\n",
      "Clearing existing...\n",
      "snorkel_conn_string postgresql:///abstractnetwordfilter\n",
      "if snorkel_postgres? True\n",
      "clearning..\n",
      "Running UDF...\n",
      "snorkel_conn_string postgresql:///abstractnetwordfilter\n",
      "if snorkel_postgres? True\n",
      "[========================================] 100%\n",
      "\n",
      "CPU times: user 1min 14s, sys: 4.57 s, total: 1min 18s\n",
      "Wall time: 2min 40s\n",
      "len(train_segments) 48571\n",
      "applying L_train_tmp\n",
      "snorkel_conn_string postgresql:///abstractnetwordfilter\n",
      "if snorkel_postgres? True\n",
      "2018-10-11 03:06:11.734915\n",
      "snorkel_conn_string postgresql:///abstractnetwordfilter\n",
      "if snorkel_postgres? True\n",
      "cids_count 48571\n",
      "key_group 0\n",
      "Clearing existing...\n",
      "snorkel_conn_string postgresql:///abstractnetwordfilter\n",
      "if snorkel_postgres? True\n",
      "clearning..\n",
      "Running UDF...\n",
      "snorkel_conn_string postgresql:///abstractnetwordfilter\n",
      "if snorkel_postgres? True\n",
      "[========================================] 100%\n",
      "\n",
      "2018-10-11 03:12:16.572712\n",
      "<class 'snorkel.annotations.csr_LabelMatrix'>\n",
      "(48571, 77)\n"
     ]
    },
    {
     "data": {
      "text/markdown": [
       "**Total non_overlapping_coverage on L_train (percentage of labelled over all)**  0.686232525581108"
      ],
      "text/plain": [
       "<IPython.core.display.Markdown object>"
      ]
     },
     "metadata": {},
     "output_type": "display_data"
    },
    {
     "name": "stdout",
     "output_type": "stream",
     "text": [
      "creating train_marginals\n",
      "Clearing existing...\n",
      "snorkel_conn_string postgresql:///abstractnetwordfilter\n",
      "if snorkel_postgres? True\n",
      "clearning..\n",
      "Running UDF...\n",
      "snorkel_conn_string postgresql:///abstractnetwordfilter\n",
      "if snorkel_postgres? True\n",
      "[========================================] 100%\n",
      "\n",
      "CPU times: user 1min 12s, sys: 4.32 s, total: 1min 16s\n",
      "Wall time: 2min 27s\n",
      "len(train_segments) 48583\n",
      "applying L_train_tmp\n",
      "snorkel_conn_string postgresql:///abstractnetwordfilter\n",
      "if snorkel_postgres? True\n",
      "2018-10-11 03:16:02.259607\n",
      "snorkel_conn_string postgresql:///abstractnetwordfilter\n",
      "if snorkel_postgres? True\n",
      "cids_count 48583\n",
      "key_group 0\n",
      "Clearing existing...\n",
      "snorkel_conn_string postgresql:///abstractnetwordfilter\n",
      "if snorkel_postgres? True\n",
      "clearning..\n",
      "Running UDF...\n",
      "snorkel_conn_string postgresql:///abstractnetwordfilter\n",
      "if snorkel_postgres? True\n",
      "[========================================] 100%\n",
      "\n",
      "2018-10-11 03:22:01.483916\n",
      "<class 'snorkel.annotations.csr_LabelMatrix'>\n",
      "(48583, 77)\n"
     ]
    },
    {
     "data": {
      "text/markdown": [
       "**Total non_overlapping_coverage on L_train (percentage of labelled over all)**  0.6640388613300949"
      ],
      "text/plain": [
       "<IPython.core.display.Markdown object>"
      ]
     },
     "metadata": {},
     "output_type": "display_data"
    },
    {
     "name": "stdout",
     "output_type": "stream",
     "text": [
      "creating train_marginals\n",
      "Clearing existing...\n",
      "snorkel_conn_string postgresql:///abstractnetwordfilter\n",
      "if snorkel_postgres? True\n",
      "clearning..\n",
      "Running UDF...\n",
      "snorkel_conn_string postgresql:///abstractnetwordfilter\n",
      "if snorkel_postgres? True\n",
      "[========================================] 100%\n",
      "\n",
      "CPU times: user 1min 13s, sys: 4.27 s, total: 1min 17s\n",
      "Wall time: 2min 40s\n",
      "len(train_segments) 49193\n",
      "applying L_train_tmp\n",
      "snorkel_conn_string postgresql:///abstractnetwordfilter\n",
      "if snorkel_postgres? True\n",
      "2018-10-11 03:25:58.325876\n",
      "snorkel_conn_string postgresql:///abstractnetwordfilter\n",
      "if snorkel_postgres? True\n",
      "cids_count 49193\n",
      "key_group 0\n",
      "Clearing existing...\n",
      "snorkel_conn_string postgresql:///abstractnetwordfilter\n",
      "if snorkel_postgres? True\n",
      "clearning..\n",
      "Running UDF...\n",
      "snorkel_conn_string postgresql:///abstractnetwordfilter\n",
      "if snorkel_postgres? True\n",
      "[========================================] 100%\n",
      "\n",
      "2018-10-11 03:32:03.532442\n",
      "<class 'snorkel.annotations.csr_LabelMatrix'>\n",
      "(49193, 77)\n"
     ]
    },
    {
     "data": {
      "text/markdown": [
       "**Total non_overlapping_coverage on L_train (percentage of labelled over all)**  0.6682861382717054"
      ],
      "text/plain": [
       "<IPython.core.display.Markdown object>"
      ]
     },
     "metadata": {},
     "output_type": "display_data"
    },
    {
     "name": "stdout",
     "output_type": "stream",
     "text": [
      "creating train_marginals\n",
      "Clearing existing...\n",
      "snorkel_conn_string postgresql:///abstractnetwordfilter\n",
      "if snorkel_postgres? True\n",
      "clearning..\n",
      "Running UDF...\n",
      "snorkel_conn_string postgresql:///abstractnetwordfilter\n",
      "if snorkel_postgres? True\n",
      "[========================================] 100%\n",
      "\n",
      "CPU times: user 1min 11s, sys: 4.41 s, total: 1min 15s\n",
      "Wall time: 2min 36s\n",
      "len(train_segments) 47554\n",
      "applying L_train_tmp\n",
      "snorkel_conn_string postgresql:///abstractnetwordfilter\n",
      "if snorkel_postgres? True\n",
      "2018-10-11 03:35:57.864823\n",
      "snorkel_conn_string postgresql:///abstractnetwordfilter\n",
      "if snorkel_postgres? True\n",
      "cids_count 47554\n",
      "key_group 0\n",
      "Clearing existing...\n",
      "snorkel_conn_string postgresql:///abstractnetwordfilter\n",
      "if snorkel_postgres? True\n",
      "clearning..\n",
      "Running UDF...\n",
      "snorkel_conn_string postgresql:///abstractnetwordfilter\n",
      "if snorkel_postgres? True\n",
      "[========================================] 100%\n",
      "\n",
      "2018-10-11 03:41:51.733322\n",
      "<class 'snorkel.annotations.csr_LabelMatrix'>\n",
      "(47554, 77)\n"
     ]
    },
    {
     "data": {
      "text/markdown": [
       "**Total non_overlapping_coverage on L_train (percentage of labelled over all)**  0.674412247129579"
      ],
      "text/plain": [
       "<IPython.core.display.Markdown object>"
      ]
     },
     "metadata": {},
     "output_type": "display_data"
    },
    {
     "name": "stdout",
     "output_type": "stream",
     "text": [
      "creating train_marginals\n",
      "Clearing existing...\n",
      "snorkel_conn_string postgresql:///abstractnetwordfilter\n",
      "if snorkel_postgres? True\n",
      "clearning..\n",
      "Running UDF...\n",
      "snorkel_conn_string postgresql:///abstractnetwordfilter\n",
      "if snorkel_postgres? True\n",
      "[========================================] 100%\n",
      "\n",
      "CPU times: user 1min 15s, sys: 4.54 s, total: 1min 19s\n",
      "Wall time: 2min 44s\n",
      "len(train_segments) 48551\n",
      "applying L_train_tmp\n",
      "snorkel_conn_string postgresql:///abstractnetwordfilter\n",
      "if snorkel_postgres? True\n",
      "2018-10-11 03:45:50.201378\n",
      "snorkel_conn_string postgresql:///abstractnetwordfilter\n",
      "if snorkel_postgres? True\n",
      "cids_count 48551\n",
      "key_group 0\n",
      "Clearing existing...\n",
      "snorkel_conn_string postgresql:///abstractnetwordfilter\n",
      "if snorkel_postgres? True\n",
      "clearning..\n",
      "Running UDF...\n",
      "snorkel_conn_string postgresql:///abstractnetwordfilter\n",
      "if snorkel_postgres? True\n",
      "[========================================] 100%\n",
      "\n",
      "2018-10-11 03:51:51.396553\n",
      "<class 'snorkel.annotations.csr_LabelMatrix'>\n",
      "(48551, 77)\n"
     ]
    },
    {
     "data": {
      "text/markdown": [
       "**Total non_overlapping_coverage on L_train (percentage of labelled over all)**  0.6749191571749295"
      ],
      "text/plain": [
       "<IPython.core.display.Markdown object>"
      ]
     },
     "metadata": {},
     "output_type": "display_data"
    },
    {
     "name": "stdout",
     "output_type": "stream",
     "text": [
      "creating train_marginals\n",
      "Clearing existing...\n",
      "snorkel_conn_string postgresql:///abstractnetwordfilter\n",
      "if snorkel_postgres? True\n",
      "clearning..\n",
      "Running UDF...\n",
      "snorkel_conn_string postgresql:///abstractnetwordfilter\n",
      "if snorkel_postgres? True\n",
      "[========================================] 100%\n",
      "\n",
      "CPU times: user 1min 15s, sys: 4.64 s, total: 1min 20s\n",
      "Wall time: 2min 46s\n",
      "len(train_segments) 50082\n",
      "applying L_train_tmp\n",
      "snorkel_conn_string postgresql:///abstractnetwordfilter\n",
      "if snorkel_postgres? True\n",
      "2018-10-11 03:55:54.561336\n",
      "snorkel_conn_string postgresql:///abstractnetwordfilter\n",
      "if snorkel_postgres? True\n",
      "cids_count 50082\n",
      "key_group 0\n",
      "Clearing existing...\n",
      "snorkel_conn_string postgresql:///abstractnetwordfilter\n",
      "if snorkel_postgres? True\n",
      "clearning..\n",
      "Running UDF...\n",
      "snorkel_conn_string postgresql:///abstractnetwordfilter\n",
      "if snorkel_postgres? True\n",
      "[========================================] 100%\n",
      "\n",
      "2018-10-11 04:02:09.973746\n",
      "<class 'snorkel.annotations.csr_LabelMatrix'>\n",
      "(50082, 77)\n"
     ]
    },
    {
     "data": {
      "text/markdown": [
       "**Total non_overlapping_coverage on L_train (percentage of labelled over all)**  0.6817419432131304"
      ],
      "text/plain": [
       "<IPython.core.display.Markdown object>"
      ]
     },
     "metadata": {},
     "output_type": "display_data"
    },
    {
     "name": "stdout",
     "output_type": "stream",
     "text": [
      "creating train_marginals\n",
      "Clearing existing...\n",
      "snorkel_conn_string postgresql:///abstractnetwordfilter\n",
      "if snorkel_postgres? True\n",
      "clearning..\n",
      "Running UDF...\n",
      "snorkel_conn_string postgresql:///abstractnetwordfilter\n",
      "if snorkel_postgres? True\n",
      "[========================================] 100%\n",
      "\n",
      "CPU times: user 1min 11s, sys: 4.25 s, total: 1min 16s\n",
      "Wall time: 2min 38s\n",
      "len(train_segments) 47396\n",
      "applying L_train_tmp\n",
      "snorkel_conn_string postgresql:///abstractnetwordfilter\n",
      "if snorkel_postgres? True\n",
      "2018-10-11 04:06:07.148535\n",
      "snorkel_conn_string postgresql:///abstractnetwordfilter\n",
      "if snorkel_postgres? True\n",
      "cids_count 47396\n",
      "key_group 0\n",
      "Clearing existing...\n",
      "snorkel_conn_string postgresql:///abstractnetwordfilter\n",
      "if snorkel_postgres? True\n",
      "clearning..\n",
      "Running UDF...\n",
      "snorkel_conn_string postgresql:///abstractnetwordfilter\n",
      "if snorkel_postgres? True\n",
      "[========================================] 100%\n",
      "\n",
      "2018-10-11 04:11:59.995023\n",
      "<class 'snorkel.annotations.csr_LabelMatrix'>\n",
      "(47396, 77)\n"
     ]
    },
    {
     "data": {
      "text/markdown": [
       "**Total non_overlapping_coverage on L_train (percentage of labelled over all)**  0.6800784876360875"
      ],
      "text/plain": [
       "<IPython.core.display.Markdown object>"
      ]
     },
     "metadata": {},
     "output_type": "display_data"
    },
    {
     "name": "stdout",
     "output_type": "stream",
     "text": [
      "creating train_marginals\n",
      "Clearing existing...\n",
      "snorkel_conn_string postgresql:///abstractnetwordfilter\n",
      "if snorkel_postgres? True\n",
      "clearning..\n",
      "Running UDF...\n",
      "snorkel_conn_string postgresql:///abstractnetwordfilter\n",
      "if snorkel_postgres? True\n",
      "[========================================] 100%\n",
      "\n",
      "CPU times: user 1min 14s, sys: 4.67 s, total: 1min 18s\n",
      "Wall time: 2min 43s\n",
      "len(train_segments) 48453\n",
      "applying L_train_tmp\n",
      "snorkel_conn_string postgresql:///abstractnetwordfilter\n",
      "if snorkel_postgres? True\n",
      "2018-10-11 04:15:57.942951\n",
      "snorkel_conn_string postgresql:///abstractnetwordfilter\n",
      "if snorkel_postgres? True\n",
      "cids_count 48453\n",
      "key_group 0\n",
      "Clearing existing...\n",
      "snorkel_conn_string postgresql:///abstractnetwordfilter\n",
      "if snorkel_postgres? True\n",
      "clearning..\n",
      "Running UDF...\n",
      "snorkel_conn_string postgresql:///abstractnetwordfilter\n",
      "if snorkel_postgres? True\n",
      "[========================================] 100%\n",
      "\n",
      "2018-10-11 04:21:58.886378\n",
      "<class 'snorkel.annotations.csr_LabelMatrix'>\n",
      "(48453, 77)\n"
     ]
    },
    {
     "data": {
      "text/markdown": [
       "**Total non_overlapping_coverage on L_train (percentage of labelled over all)**  0.686355849998968"
      ],
      "text/plain": [
       "<IPython.core.display.Markdown object>"
      ]
     },
     "metadata": {},
     "output_type": "display_data"
    },
    {
     "name": "stdout",
     "output_type": "stream",
     "text": [
      "creating train_marginals\n",
      "Clearing existing...\n",
      "snorkel_conn_string postgresql:///abstractnetwordfilter\n",
      "if snorkel_postgres? True\n",
      "clearning..\n",
      "Running UDF...\n",
      "snorkel_conn_string postgresql:///abstractnetwordfilter\n",
      "if snorkel_postgres? True\n",
      "[========================================] 100%\n",
      "\n",
      "CPU times: user 1min 14s, sys: 4.53 s, total: 1min 19s\n",
      "Wall time: 2min 44s\n",
      "len(train_segments) 48407\n",
      "applying L_train_tmp\n",
      "snorkel_conn_string postgresql:///abstractnetwordfilter\n",
      "if snorkel_postgres? True\n",
      "2018-10-11 04:25:58.101495\n",
      "snorkel_conn_string postgresql:///abstractnetwordfilter\n",
      "if snorkel_postgres? True\n",
      "cids_count 48407\n",
      "key_group 0\n",
      "Clearing existing...\n",
      "snorkel_conn_string postgresql:///abstractnetwordfilter\n",
      "if snorkel_postgres? True\n",
      "clearning..\n",
      "Running UDF...\n",
      "snorkel_conn_string postgresql:///abstractnetwordfilter\n",
      "if snorkel_postgres? True\n",
      "[========================================] 100%\n",
      "\n",
      "2018-10-11 04:31:59.990351\n",
      "<class 'snorkel.annotations.csr_LabelMatrix'>\n",
      "(48407, 77)\n"
     ]
    },
    {
     "data": {
      "text/markdown": [
       "**Total non_overlapping_coverage on L_train (percentage of labelled over all)**  0.676017931290929"
      ],
      "text/plain": [
       "<IPython.core.display.Markdown object>"
      ]
     },
     "metadata": {},
     "output_type": "display_data"
    },
    {
     "name": "stdout",
     "output_type": "stream",
     "text": [
      "creating train_marginals\n",
      "Clearing existing...\n",
      "snorkel_conn_string postgresql:///abstractnetwordfilter\n",
      "if snorkel_postgres? True\n",
      "clearning..\n",
      "Running UDF...\n",
      "snorkel_conn_string postgresql:///abstractnetwordfilter\n",
      "if snorkel_postgres? True\n",
      "[========================================] 100%\n",
      "\n",
      "CPU times: user 1min 11s, sys: 4.3 s, total: 1min 16s\n",
      "Wall time: 2min 38s\n",
      "len(train_segments) 48496\n",
      "applying L_train_tmp\n",
      "snorkel_conn_string postgresql:///abstractnetwordfilter\n",
      "if snorkel_postgres? True\n",
      "2018-10-11 04:35:55.061968\n",
      "snorkel_conn_string postgresql:///abstractnetwordfilter\n",
      "if snorkel_postgres? True\n",
      "cids_count 48496\n",
      "key_group 0\n",
      "Clearing existing...\n",
      "snorkel_conn_string postgresql:///abstractnetwordfilter\n",
      "if snorkel_postgres? True\n",
      "clearning..\n",
      "Running UDF...\n",
      "snorkel_conn_string postgresql:///abstractnetwordfilter\n",
      "if snorkel_postgres? True\n",
      "[========================================] 100%\n",
      "\n",
      "2018-10-11 04:41:56.598102\n",
      "<class 'snorkel.annotations.csr_LabelMatrix'>\n",
      "(48496, 77)\n"
     ]
    },
    {
     "data": {
      "text/markdown": [
       "**Total non_overlapping_coverage on L_train (percentage of labelled over all)**  0.6724059716265259"
      ],
      "text/plain": [
       "<IPython.core.display.Markdown object>"
      ]
     },
     "metadata": {},
     "output_type": "display_data"
    },
    {
     "name": "stdout",
     "output_type": "stream",
     "text": [
      "creating train_marginals\n",
      "Clearing existing...\n",
      "snorkel_conn_string postgresql:///abstractnetwordfilter\n",
      "if snorkel_postgres? True\n",
      "clearning..\n",
      "Running UDF...\n",
      "snorkel_conn_string postgresql:///abstractnetwordfilter\n",
      "if snorkel_postgres? True\n",
      "[========================================] 100%\n",
      "\n",
      "CPU times: user 1min 13s, sys: 4.57 s, total: 1min 17s\n",
      "Wall time: 2min 41s\n",
      "len(train_segments) 48563\n",
      "applying L_train_tmp\n",
      "snorkel_conn_string postgresql:///abstractnetwordfilter\n",
      "if snorkel_postgres? True\n",
      "2018-10-11 04:45:56.120179\n",
      "snorkel_conn_string postgresql:///abstractnetwordfilter\n",
      "if snorkel_postgres? True\n",
      "cids_count 48563\n",
      "key_group 0\n",
      "Clearing existing...\n",
      "snorkel_conn_string postgresql:///abstractnetwordfilter\n",
      "if snorkel_postgres? True\n",
      "clearning..\n",
      "Running UDF...\n",
      "snorkel_conn_string postgresql:///abstractnetwordfilter\n",
      "if snorkel_postgres? True\n",
      "[========================================] 100%\n",
      "\n",
      "2018-10-11 04:51:59.268475\n",
      "<class 'snorkel.annotations.csr_LabelMatrix'>\n",
      "(48563, 77)\n"
     ]
    },
    {
     "data": {
      "text/markdown": [
       "**Total non_overlapping_coverage on L_train (percentage of labelled over all)**  0.6999155735848279"
      ],
      "text/plain": [
       "<IPython.core.display.Markdown object>"
      ]
     },
     "metadata": {},
     "output_type": "display_data"
    },
    {
     "name": "stdout",
     "output_type": "stream",
     "text": [
      "creating train_marginals\n",
      "Clearing existing...\n",
      "snorkel_conn_string postgresql:///abstractnetwordfilter\n",
      "if snorkel_postgres? True\n",
      "clearning..\n",
      "Running UDF...\n",
      "snorkel_conn_string postgresql:///abstractnetwordfilter\n",
      "if snorkel_postgres? True\n",
      "[========================================] 100%\n",
      "\n",
      "CPU times: user 1min 15s, sys: 4.4 s, total: 1min 19s\n",
      "Wall time: 2min 42s\n",
      "len(train_segments) 47936\n",
      "applying L_train_tmp\n",
      "snorkel_conn_string postgresql:///abstractnetwordfilter\n",
      "if snorkel_postgres? True\n",
      "2018-10-11 04:55:57.428089\n",
      "snorkel_conn_string postgresql:///abstractnetwordfilter\n",
      "if snorkel_postgres? True\n",
      "cids_count 47936\n",
      "key_group 0\n",
      "Clearing existing...\n",
      "snorkel_conn_string postgresql:///abstractnetwordfilter\n",
      "if snorkel_postgres? True\n",
      "clearning..\n",
      "Running UDF...\n",
      "snorkel_conn_string postgresql:///abstractnetwordfilter\n",
      "if snorkel_postgres? True\n",
      "[========================================] 100%\n",
      "\n",
      "2018-10-11 05:01:55.259001\n",
      "<class 'snorkel.annotations.csr_LabelMatrix'>\n",
      "(47936, 77)\n"
     ]
    },
    {
     "data": {
      "text/markdown": [
       "**Total non_overlapping_coverage on L_train (percentage of labelled over all)**  0.6709362483311081"
      ],
      "text/plain": [
       "<IPython.core.display.Markdown object>"
      ]
     },
     "metadata": {},
     "output_type": "display_data"
    },
    {
     "name": "stdout",
     "output_type": "stream",
     "text": [
      "creating train_marginals\n",
      "Clearing existing...\n",
      "snorkel_conn_string postgresql:///abstractnetwordfilter\n",
      "if snorkel_postgres? True\n",
      "clearning..\n",
      "Running UDF...\n",
      "snorkel_conn_string postgresql:///abstractnetwordfilter\n",
      "if snorkel_postgres? True\n",
      "[========================================] 100%\n",
      "\n",
      "CPU times: user 1min 13s, sys: 4.48 s, total: 1min 18s\n",
      "Wall time: 2min 41s\n",
      "len(train_segments) 49240\n",
      "applying L_train_tmp\n",
      "snorkel_conn_string postgresql:///abstractnetwordfilter\n",
      "if snorkel_postgres? True\n",
      "2018-10-11 05:05:51.908838\n",
      "snorkel_conn_string postgresql:///abstractnetwordfilter\n",
      "if snorkel_postgres? True\n",
      "cids_count 49240\n",
      "key_group 0\n",
      "Clearing existing...\n",
      "snorkel_conn_string postgresql:///abstractnetwordfilter\n",
      "if snorkel_postgres? True\n",
      "clearning..\n",
      "Running UDF...\n",
      "snorkel_conn_string postgresql:///abstractnetwordfilter\n",
      "if snorkel_postgres? True\n",
      "[========================================] 100%\n",
      "\n",
      "2018-10-11 05:12:01.515707\n",
      "<class 'snorkel.annotations.csr_LabelMatrix'>\n",
      "(49240, 77)\n"
     ]
    },
    {
     "data": {
      "text/markdown": [
       "**Total non_overlapping_coverage on L_train (percentage of labelled over all)**  0.6884646628757108"
      ],
      "text/plain": [
       "<IPython.core.display.Markdown object>"
      ]
     },
     "metadata": {},
     "output_type": "display_data"
    },
    {
     "name": "stdout",
     "output_type": "stream",
     "text": [
      "creating train_marginals\n",
      "Clearing existing...\n",
      "snorkel_conn_string postgresql:///abstractnetwordfilter\n",
      "if snorkel_postgres? True\n",
      "clearning..\n",
      "Running UDF...\n",
      "snorkel_conn_string postgresql:///abstractnetwordfilter\n",
      "if snorkel_postgres? True\n",
      "[========================================] 100%\n",
      "\n",
      "CPU times: user 1min 11s, sys: 4.33 s, total: 1min 15s\n",
      "Wall time: 2min 32s\n",
      "len(train_segments) 48480\n",
      "applying L_train_tmp\n",
      "snorkel_conn_string postgresql:///abstractnetwordfilter\n",
      "if snorkel_postgres? True\n",
      "2018-10-11 05:15:51.018256\n",
      "snorkel_conn_string postgresql:///abstractnetwordfilter\n",
      "if snorkel_postgres? True\n",
      "cids_count 48480\n",
      "key_group 0\n",
      "Clearing existing...\n",
      "snorkel_conn_string postgresql:///abstractnetwordfilter\n",
      "if snorkel_postgres? True\n",
      "clearning..\n",
      "Running UDF...\n",
      "snorkel_conn_string postgresql:///abstractnetwordfilter\n",
      "if snorkel_postgres? True\n",
      "[========================================] 100%\n",
      "\n",
      "2018-10-11 05:21:49.690891\n",
      "<class 'snorkel.annotations.csr_LabelMatrix'>\n",
      "(48480, 77)\n"
     ]
    },
    {
     "data": {
      "text/markdown": [
       "**Total non_overlapping_coverage on L_train (percentage of labelled over all)**  0.6783415841584158"
      ],
      "text/plain": [
       "<IPython.core.display.Markdown object>"
      ]
     },
     "metadata": {},
     "output_type": "display_data"
    },
    {
     "name": "stdout",
     "output_type": "stream",
     "text": [
      "creating train_marginals\n",
      "Clearing existing...\n",
      "snorkel_conn_string postgresql:///abstractnetwordfilter\n",
      "if snorkel_postgres? True\n",
      "clearning..\n",
      "Running UDF...\n",
      "snorkel_conn_string postgresql:///abstractnetwordfilter\n",
      "if snorkel_postgres? True\n",
      "[========================================] 100%\n",
      "\n",
      "CPU times: user 1min 8s, sys: 4.08 s, total: 1min 12s\n",
      "Wall time: 2min 27s\n",
      "len(train_segments) 47677\n",
      "applying L_train_tmp\n",
      "snorkel_conn_string postgresql:///abstractnetwordfilter\n",
      "if snorkel_postgres? True\n",
      "2018-10-11 05:25:32.734654\n",
      "snorkel_conn_string postgresql:///abstractnetwordfilter\n",
      "if snorkel_postgres? True\n",
      "cids_count 47677\n",
      "key_group 0\n",
      "Clearing existing...\n",
      "snorkel_conn_string postgresql:///abstractnetwordfilter\n",
      "if snorkel_postgres? True\n",
      "clearning..\n",
      "Running UDF...\n",
      "snorkel_conn_string postgresql:///abstractnetwordfilter\n",
      "if snorkel_postgres? True\n",
      "[========================================] 100%\n",
      "\n",
      "2018-10-11 05:31:23.884284\n",
      "<class 'snorkel.annotations.csr_LabelMatrix'>\n",
      "(47677, 77)\n"
     ]
    },
    {
     "data": {
      "text/markdown": [
       "**Total non_overlapping_coverage on L_train (percentage of labelled over all)**  0.6693374163642847"
      ],
      "text/plain": [
       "<IPython.core.display.Markdown object>"
      ]
     },
     "metadata": {},
     "output_type": "display_data"
    },
    {
     "name": "stdout",
     "output_type": "stream",
     "text": [
      "creating train_marginals\n",
      "Clearing existing...\n",
      "snorkel_conn_string postgresql:///abstractnetwordfilter\n",
      "if snorkel_postgres? True\n",
      "clearning..\n",
      "Running UDF...\n",
      "snorkel_conn_string postgresql:///abstractnetwordfilter\n",
      "if snorkel_postgres? True\n",
      "[========================================] 100%\n",
      "\n",
      "CPU times: user 1min 12s, sys: 4.29 s, total: 1min 16s\n",
      "Wall time: 2min 34s\n",
      "len(train_segments) 48447\n",
      "applying L_train_tmp\n",
      "snorkel_conn_string postgresql:///abstractnetwordfilter\n",
      "if snorkel_postgres? True\n",
      "2018-10-11 05:35:13.452104\n",
      "snorkel_conn_string postgresql:///abstractnetwordfilter\n",
      "if snorkel_postgres? True\n",
      "cids_count 48447\n",
      "key_group 0\n",
      "Clearing existing...\n",
      "snorkel_conn_string postgresql:///abstractnetwordfilter\n",
      "if snorkel_postgres? True\n",
      "clearning..\n",
      "Running UDF...\n",
      "snorkel_conn_string postgresql:///abstractnetwordfilter\n",
      "if snorkel_postgres? True\n",
      "[========================================] 100%\n",
      "\n",
      "2018-10-11 05:41:10.760685\n",
      "<class 'snorkel.annotations.csr_LabelMatrix'>\n",
      "(48447, 77)\n"
     ]
    },
    {
     "data": {
      "text/markdown": [
       "**Total non_overlapping_coverage on L_train (percentage of labelled over all)**  0.6943876813837803"
      ],
      "text/plain": [
       "<IPython.core.display.Markdown object>"
      ]
     },
     "metadata": {},
     "output_type": "display_data"
    },
    {
     "name": "stdout",
     "output_type": "stream",
     "text": [
      "creating train_marginals\n",
      "Clearing existing...\n",
      "snorkel_conn_string postgresql:///abstractnetwordfilter\n",
      "if snorkel_postgres? True\n",
      "clearning..\n",
      "Running UDF...\n",
      "snorkel_conn_string postgresql:///abstractnetwordfilter\n",
      "if snorkel_postgres? True\n",
      "[========================================] 100%\n",
      "\n",
      "CPU times: user 1min 11s, sys: 4.42 s, total: 1min 16s\n",
      "Wall time: 2min 32s\n",
      "len(train_segments) 48065\n",
      "applying L_train_tmp\n",
      "snorkel_conn_string postgresql:///abstractnetwordfilter\n",
      "if snorkel_postgres? True\n",
      "2018-10-11 05:44:59.274773\n",
      "snorkel_conn_string postgresql:///abstractnetwordfilter\n",
      "if snorkel_postgres? True\n",
      "cids_count 48065\n",
      "key_group 0\n",
      "Clearing existing...\n",
      "snorkel_conn_string postgresql:///abstractnetwordfilter\n",
      "if snorkel_postgres? True\n",
      "clearning..\n",
      "Running UDF...\n",
      "snorkel_conn_string postgresql:///abstractnetwordfilter\n",
      "if snorkel_postgres? True\n",
      "[========================================] 100%\n",
      "\n",
      "2018-10-11 05:50:55.584875\n",
      "<class 'snorkel.annotations.csr_LabelMatrix'>\n",
      "(48065, 77)\n"
     ]
    },
    {
     "data": {
      "text/markdown": [
       "**Total non_overlapping_coverage on L_train (percentage of labelled over all)**  0.6771039217725996"
      ],
      "text/plain": [
       "<IPython.core.display.Markdown object>"
      ]
     },
     "metadata": {},
     "output_type": "display_data"
    },
    {
     "name": "stdout",
     "output_type": "stream",
     "text": [
      "creating train_marginals\n",
      "Clearing existing...\n",
      "snorkel_conn_string postgresql:///abstractnetwordfilter\n",
      "if snorkel_postgres? True\n",
      "clearning..\n",
      "Running UDF...\n",
      "snorkel_conn_string postgresql:///abstractnetwordfilter\n",
      "if snorkel_postgres? True\n",
      "[========================================] 100%\n",
      "\n",
      "CPU times: user 1min 11s, sys: 4.42 s, total: 1min 16s\n",
      "Wall time: 2min 34s\n",
      "len(train_segments) 48290\n",
      "applying L_train_tmp\n",
      "snorkel_conn_string postgresql:///abstractnetwordfilter\n",
      "if snorkel_postgres? True\n",
      "2018-10-11 05:54:46.734279\n",
      "snorkel_conn_string postgresql:///abstractnetwordfilter\n",
      "if snorkel_postgres? True\n",
      "cids_count 48290\n",
      "key_group 0\n",
      "Clearing existing...\n",
      "snorkel_conn_string postgresql:///abstractnetwordfilter\n",
      "if snorkel_postgres? True\n",
      "clearning..\n",
      "Running UDF...\n",
      "snorkel_conn_string postgresql:///abstractnetwordfilter\n",
      "if snorkel_postgres? True\n",
      "[========================================] 100%\n",
      "\n",
      "2018-10-11 06:00:43.760899\n",
      "<class 'snorkel.annotations.csr_LabelMatrix'>\n",
      "(48290, 77)\n"
     ]
    },
    {
     "data": {
      "text/markdown": [
       "**Total non_overlapping_coverage on L_train (percentage of labelled over all)**  0.6834541312901222"
      ],
      "text/plain": [
       "<IPython.core.display.Markdown object>"
      ]
     },
     "metadata": {},
     "output_type": "display_data"
    },
    {
     "name": "stdout",
     "output_type": "stream",
     "text": [
      "creating train_marginals\n",
      "Clearing existing...\n",
      "snorkel_conn_string postgresql:///abstractnetwordfilter\n",
      "if snorkel_postgres? True\n",
      "clearning..\n",
      "Running UDF...\n",
      "snorkel_conn_string postgresql:///abstractnetwordfilter\n",
      "if snorkel_postgres? True\n",
      "[========================================] 100%\n",
      "\n",
      "CPU times: user 1min 13s, sys: 4.4 s, total: 1min 17s\n",
      "Wall time: 2min 43s\n",
      "len(train_segments) 48028\n",
      "applying L_train_tmp\n",
      "snorkel_conn_string postgresql:///abstractnetwordfilter\n",
      "if snorkel_postgres? True\n",
      "2018-10-11 06:04:42.803650\n",
      "snorkel_conn_string postgresql:///abstractnetwordfilter\n",
      "if snorkel_postgres? True\n",
      "cids_count 48028\n",
      "key_group 0\n",
      "Clearing existing...\n",
      "snorkel_conn_string postgresql:///abstractnetwordfilter\n",
      "if snorkel_postgres? True\n",
      "clearning..\n",
      "Running UDF...\n",
      "snorkel_conn_string postgresql:///abstractnetwordfilter\n",
      "if snorkel_postgres? True\n",
      "[========================================] 100%\n",
      "\n",
      "2018-10-11 06:10:37.573089\n",
      "<class 'snorkel.annotations.csr_LabelMatrix'>\n",
      "(48028, 77)\n"
     ]
    },
    {
     "data": {
      "text/markdown": [
       "**Total non_overlapping_coverage on L_train (percentage of labelled over all)**  0.6702132089614392"
      ],
      "text/plain": [
       "<IPython.core.display.Markdown object>"
      ]
     },
     "metadata": {},
     "output_type": "display_data"
    },
    {
     "name": "stdout",
     "output_type": "stream",
     "text": [
      "creating train_marginals\n",
      "Clearing existing...\n",
      "snorkel_conn_string postgresql:///abstractnetwordfilter\n",
      "if snorkel_postgres? True\n",
      "clearning..\n",
      "Running UDF...\n",
      "snorkel_conn_string postgresql:///abstractnetwordfilter\n",
      "if snorkel_postgres? True\n",
      "[========================================] 100%\n",
      "\n",
      "CPU times: user 1min 11s, sys: 4.25 s, total: 1min 15s\n",
      "Wall time: 2min 35s\n",
      "len(train_segments) 47643\n",
      "applying L_train_tmp\n",
      "snorkel_conn_string postgresql:///abstractnetwordfilter\n",
      "if snorkel_postgres? True\n",
      "2018-10-11 06:14:30.509269\n",
      "snorkel_conn_string postgresql:///abstractnetwordfilter\n",
      "if snorkel_postgres? True\n",
      "cids_count 47643\n",
      "key_group 0\n",
      "Clearing existing...\n",
      "snorkel_conn_string postgresql:///abstractnetwordfilter\n",
      "if snorkel_postgres? True\n",
      "clearning..\n",
      "Running UDF...\n",
      "snorkel_conn_string postgresql:///abstractnetwordfilter\n",
      "if snorkel_postgres? True\n",
      "[========================================] 100%\n",
      "\n",
      "2018-10-11 06:20:25.496747\n",
      "<class 'snorkel.annotations.csr_LabelMatrix'>\n",
      "(47643, 77)\n"
     ]
    },
    {
     "data": {
      "text/markdown": [
       "**Total non_overlapping_coverage on L_train (percentage of labelled over all)**  0.6872363201309741"
      ],
      "text/plain": [
       "<IPython.core.display.Markdown object>"
      ]
     },
     "metadata": {},
     "output_type": "display_data"
    },
    {
     "name": "stdout",
     "output_type": "stream",
     "text": [
      "creating train_marginals\n",
      "Clearing existing...\n",
      "snorkel_conn_string postgresql:///abstractnetwordfilter\n",
      "if snorkel_postgres? True\n",
      "clearning..\n",
      "Running UDF...\n",
      "snorkel_conn_string postgresql:///abstractnetwordfilter\n",
      "if snorkel_postgres? True\n",
      "[========================================] 100%\n",
      "\n",
      "CPU times: user 1min 13s, sys: 4.6 s, total: 1min 17s\n",
      "Wall time: 2min 42s\n",
      "len(train_segments) 48444\n",
      "applying L_train_tmp\n",
      "snorkel_conn_string postgresql:///abstractnetwordfilter\n",
      "if snorkel_postgres? True\n",
      "2018-10-11 06:24:23.030475\n",
      "snorkel_conn_string postgresql:///abstractnetwordfilter\n",
      "if snorkel_postgres? True\n",
      "cids_count 48444\n",
      "key_group 0\n",
      "Clearing existing...\n",
      "snorkel_conn_string postgresql:///abstractnetwordfilter\n",
      "if snorkel_postgres? True\n",
      "clearning..\n",
      "Running UDF...\n",
      "snorkel_conn_string postgresql:///abstractnetwordfilter\n",
      "if snorkel_postgres? True\n",
      "[========================================] 100%\n",
      "\n",
      "2018-10-11 06:30:26.147106\n",
      "<class 'snorkel.annotations.csr_LabelMatrix'>\n",
      "(48444, 77)\n"
     ]
    },
    {
     "data": {
      "text/markdown": [
       "**Total non_overlapping_coverage on L_train (percentage of labelled over all)**  0.6884237470068533"
      ],
      "text/plain": [
       "<IPython.core.display.Markdown object>"
      ]
     },
     "metadata": {},
     "output_type": "display_data"
    },
    {
     "name": "stdout",
     "output_type": "stream",
     "text": [
      "creating train_marginals\n",
      "Clearing existing...\n",
      "snorkel_conn_string postgresql:///abstractnetwordfilter\n",
      "if snorkel_postgres? True\n",
      "clearning..\n",
      "Running UDF...\n",
      "snorkel_conn_string postgresql:///abstractnetwordfilter\n",
      "if snorkel_postgres? True\n",
      "[========================================] 100%\n",
      "\n",
      "CPU times: user 1min 13s, sys: 4.45 s, total: 1min 17s\n",
      "Wall time: 2min 42s\n",
      "len(train_segments) 48371\n",
      "applying L_train_tmp\n",
      "snorkel_conn_string postgresql:///abstractnetwordfilter\n",
      "if snorkel_postgres? True\n",
      "2018-10-11 06:34:26.072405\n",
      "snorkel_conn_string postgresql:///abstractnetwordfilter\n",
      "if snorkel_postgres? True\n",
      "cids_count 48371\n",
      "key_group 0\n",
      "Clearing existing...\n",
      "snorkel_conn_string postgresql:///abstractnetwordfilter\n",
      "if snorkel_postgres? True\n",
      "clearning..\n",
      "Running UDF...\n",
      "snorkel_conn_string postgresql:///abstractnetwordfilter\n",
      "if snorkel_postgres? True\n",
      "[========================================] 100%\n",
      "\n",
      "2018-10-11 06:40:26.614800\n",
      "<class 'snorkel.annotations.csr_LabelMatrix'>\n",
      "(48371, 77)\n"
     ]
    },
    {
     "data": {
      "text/markdown": [
       "**Total non_overlapping_coverage on L_train (percentage of labelled over all)**  0.6917781315250874"
      ],
      "text/plain": [
       "<IPython.core.display.Markdown object>"
      ]
     },
     "metadata": {},
     "output_type": "display_data"
    },
    {
     "name": "stdout",
     "output_type": "stream",
     "text": [
      "creating train_marginals\n",
      "Clearing existing...\n",
      "snorkel_conn_string postgresql:///abstractnetwordfilter\n",
      "if snorkel_postgres? True\n",
      "clearning..\n",
      "Running UDF...\n",
      "snorkel_conn_string postgresql:///abstractnetwordfilter\n",
      "if snorkel_postgres? True\n",
      "[========================================] 100%\n",
      "\n",
      "CPU times: user 1min 13s, sys: 4.33 s, total: 1min 18s\n",
      "Wall time: 2min 42s\n",
      "len(train_segments) 48086\n",
      "applying L_train_tmp\n",
      "snorkel_conn_string postgresql:///abstractnetwordfilter\n",
      "if snorkel_postgres? True\n",
      "2018-10-11 06:44:23.303413\n",
      "snorkel_conn_string postgresql:///abstractnetwordfilter\n",
      "if snorkel_postgres? True\n",
      "cids_count 48086\n",
      "key_group 0\n",
      "Clearing existing...\n",
      "snorkel_conn_string postgresql:///abstractnetwordfilter\n",
      "if snorkel_postgres? True\n",
      "clearning..\n",
      "Running UDF...\n",
      "snorkel_conn_string postgresql:///abstractnetwordfilter\n",
      "if snorkel_postgres? True\n",
      "[========================================] 100%\n",
      "\n",
      "2018-10-11 06:50:24.731041\n",
      "<class 'snorkel.annotations.csr_LabelMatrix'>\n",
      "(48086, 77)\n"
     ]
    },
    {
     "data": {
      "text/markdown": [
       "**Total non_overlapping_coverage on L_train (percentage of labelled over all)**  0.6897433764505262"
      ],
      "text/plain": [
       "<IPython.core.display.Markdown object>"
      ]
     },
     "metadata": {},
     "output_type": "display_data"
    },
    {
     "name": "stdout",
     "output_type": "stream",
     "text": [
      "creating train_marginals\n",
      "Clearing existing...\n",
      "snorkel_conn_string postgresql:///abstractnetwordfilter\n",
      "if snorkel_postgres? True\n",
      "clearning..\n",
      "Running UDF...\n",
      "snorkel_conn_string postgresql:///abstractnetwordfilter\n",
      "if snorkel_postgres? True\n",
      "[========================================] 100%\n",
      "\n",
      "CPU times: user 1min 12s, sys: 4.47 s, total: 1min 17s\n",
      "Wall time: 2min 41s\n",
      "len(train_segments) 48184\n",
      "applying L_train_tmp\n",
      "snorkel_conn_string postgresql:///abstractnetwordfilter\n",
      "if snorkel_postgres? True\n",
      "2018-10-11 06:54:21.430690\n",
      "snorkel_conn_string postgresql:///abstractnetwordfilter\n",
      "if snorkel_postgres? True\n",
      "cids_count 48184\n",
      "key_group 0\n",
      "Clearing existing...\n",
      "snorkel_conn_string postgresql:///abstractnetwordfilter\n",
      "if snorkel_postgres? True\n",
      "clearning..\n",
      "Running UDF...\n",
      "snorkel_conn_string postgresql:///abstractnetwordfilter\n",
      "if snorkel_postgres? True\n",
      "[========================================] 100%\n",
      "\n",
      "2018-10-11 07:00:19.084200\n",
      "<class 'snorkel.annotations.csr_LabelMatrix'>\n",
      "(48184, 77)\n"
     ]
    },
    {
     "data": {
      "text/markdown": [
       "**Total non_overlapping_coverage on L_train (percentage of labelled over all)**  0.671965797775195"
      ],
      "text/plain": [
       "<IPython.core.display.Markdown object>"
      ]
     },
     "metadata": {},
     "output_type": "display_data"
    },
    {
     "name": "stdout",
     "output_type": "stream",
     "text": [
      "creating train_marginals\n",
      "Clearing existing...\n",
      "snorkel_conn_string postgresql:///abstractnetwordfilter\n",
      "if snorkel_postgres? True\n",
      "clearning..\n",
      "Running UDF...\n",
      "snorkel_conn_string postgresql:///abstractnetwordfilter\n",
      "if snorkel_postgres? True\n",
      "[========================================] 100%\n",
      "\n",
      "CPU times: user 1min 13s, sys: 4.38 s, total: 1min 17s\n",
      "Wall time: 2min 42s\n",
      "len(train_segments) 48734\n",
      "applying L_train_tmp\n",
      "snorkel_conn_string postgresql:///abstractnetwordfilter\n",
      "if snorkel_postgres? True\n",
      "2018-10-11 07:04:18.187508\n",
      "snorkel_conn_string postgresql:///abstractnetwordfilter\n",
      "if snorkel_postgres? True\n",
      "cids_count 48734\n",
      "key_group 0\n",
      "Clearing existing...\n",
      "snorkel_conn_string postgresql:///abstractnetwordfilter\n",
      "if snorkel_postgres? True\n",
      "clearning..\n",
      "Running UDF...\n",
      "snorkel_conn_string postgresql:///abstractnetwordfilter\n",
      "if snorkel_postgres? True\n",
      "[========================================] 100%\n",
      "\n",
      "2018-10-11 07:10:20.373108\n",
      "<class 'snorkel.annotations.csr_LabelMatrix'>\n",
      "(48734, 77)\n"
     ]
    },
    {
     "data": {
      "text/markdown": [
       "**Total non_overlapping_coverage on L_train (percentage of labelled over all)**  0.6669265810317232"
      ],
      "text/plain": [
       "<IPython.core.display.Markdown object>"
      ]
     },
     "metadata": {},
     "output_type": "display_data"
    },
    {
     "name": "stdout",
     "output_type": "stream",
     "text": [
      "creating train_marginals\n",
      "Clearing existing...\n",
      "snorkel_conn_string postgresql:///abstractnetwordfilter\n",
      "if snorkel_postgres? True\n",
      "clearning..\n",
      "Running UDF...\n",
      "snorkel_conn_string postgresql:///abstractnetwordfilter\n",
      "if snorkel_postgres? True\n",
      "[========================================] 100%\n",
      "\n",
      "CPU times: user 1min 14s, sys: 4.62 s, total: 1min 19s\n",
      "Wall time: 2min 42s\n",
      "len(train_segments) 48653\n",
      "applying L_train_tmp\n",
      "snorkel_conn_string postgresql:///abstractnetwordfilter\n",
      "if snorkel_postgres? True\n",
      "2018-10-11 07:14:19.049152\n",
      "snorkel_conn_string postgresql:///abstractnetwordfilter\n",
      "if snorkel_postgres? True\n",
      "cids_count 48653\n",
      "key_group 0\n",
      "Clearing existing...\n",
      "snorkel_conn_string postgresql:///abstractnetwordfilter\n",
      "if snorkel_postgres? True\n",
      "clearning..\n",
      "Running UDF...\n",
      "snorkel_conn_string postgresql:///abstractnetwordfilter\n",
      "if snorkel_postgres? True\n",
      "[========================================] 100%\n",
      "\n",
      "2018-10-11 07:20:22.356436\n",
      "<class 'snorkel.annotations.csr_LabelMatrix'>\n",
      "(48653, 77)\n"
     ]
    },
    {
     "data": {
      "text/markdown": [
       "**Total non_overlapping_coverage on L_train (percentage of labelled over all)**  0.6875423920416007"
      ],
      "text/plain": [
       "<IPython.core.display.Markdown object>"
      ]
     },
     "metadata": {},
     "output_type": "display_data"
    },
    {
     "name": "stdout",
     "output_type": "stream",
     "text": [
      "creating train_marginals\n",
      "Clearing existing...\n",
      "snorkel_conn_string postgresql:///abstractnetwordfilter\n",
      "if snorkel_postgres? True\n",
      "clearning..\n",
      "Running UDF...\n",
      "snorkel_conn_string postgresql:///abstractnetwordfilter\n",
      "if snorkel_postgres? True\n",
      "[========================================] 100%\n",
      "\n",
      "CPU times: user 1min 13s, sys: 4.44 s, total: 1min 17s\n",
      "Wall time: 2min 42s\n",
      "len(train_segments) 48783\n",
      "applying L_train_tmp\n",
      "snorkel_conn_string postgresql:///abstractnetwordfilter\n",
      "if snorkel_postgres? True\n",
      "2018-10-11 07:24:23.283617\n",
      "snorkel_conn_string postgresql:///abstractnetwordfilter\n",
      "if snorkel_postgres? True\n",
      "cids_count 48783\n",
      "key_group 0\n",
      "Clearing existing...\n",
      "snorkel_conn_string postgresql:///abstractnetwordfilter\n",
      "if snorkel_postgres? True\n",
      "clearning..\n",
      "Running UDF...\n",
      "snorkel_conn_string postgresql:///abstractnetwordfilter\n",
      "if snorkel_postgres? True\n",
      "[========================================] 100%\n",
      "\n",
      "2018-10-11 07:30:24.421711\n",
      "<class 'snorkel.annotations.csr_LabelMatrix'>\n",
      "(48783, 77)\n"
     ]
    },
    {
     "data": {
      "text/markdown": [
       "**Total non_overlapping_coverage on L_train (percentage of labelled over all)**  0.680769940348072"
      ],
      "text/plain": [
       "<IPython.core.display.Markdown object>"
      ]
     },
     "metadata": {},
     "output_type": "display_data"
    },
    {
     "name": "stdout",
     "output_type": "stream",
     "text": [
      "creating train_marginals\n",
      "Clearing existing...\n",
      "snorkel_conn_string postgresql:///abstractnetwordfilter\n",
      "if snorkel_postgres? True\n",
      "clearning..\n",
      "Running UDF...\n",
      "snorkel_conn_string postgresql:///abstractnetwordfilter\n",
      "if snorkel_postgres? True\n",
      "[========================================] 100%\n",
      "\n",
      "CPU times: user 1min 15s, sys: 4.64 s, total: 1min 20s\n",
      "Wall time: 2min 44s\n",
      "len(train_segments) 48820\n",
      "applying L_train_tmp\n",
      "snorkel_conn_string postgresql:///abstractnetwordfilter\n",
      "if snorkel_postgres? True\n",
      "2018-10-11 07:34:23.293054\n",
      "snorkel_conn_string postgresql:///abstractnetwordfilter\n",
      "if snorkel_postgres? True\n",
      "cids_count 48820\n",
      "key_group 0\n",
      "Clearing existing...\n",
      "snorkel_conn_string postgresql:///abstractnetwordfilter\n",
      "if snorkel_postgres? True\n",
      "clearning..\n",
      "Running UDF...\n",
      "snorkel_conn_string postgresql:///abstractnetwordfilter\n",
      "if snorkel_postgres? True\n",
      "[========================================] 100%\n",
      "\n",
      "2018-10-11 07:40:23.591881\n",
      "<class 'snorkel.annotations.csr_LabelMatrix'>\n",
      "(48820, 77)\n"
     ]
    },
    {
     "data": {
      "text/markdown": [
       "**Total non_overlapping_coverage on L_train (percentage of labelled over all)**  0.672204014748054"
      ],
      "text/plain": [
       "<IPython.core.display.Markdown object>"
      ]
     },
     "metadata": {},
     "output_type": "display_data"
    },
    {
     "name": "stdout",
     "output_type": "stream",
     "text": [
      "creating train_marginals\n",
      "Clearing existing...\n",
      "snorkel_conn_string postgresql:///abstractnetwordfilter\n",
      "if snorkel_postgres? True\n",
      "clearning..\n",
      "Running UDF...\n",
      "snorkel_conn_string postgresql:///abstractnetwordfilter\n",
      "if snorkel_postgres? True\n",
      "[========================================] 100%\n",
      "\n",
      "CPU times: user 1min 13s, sys: 4.42 s, total: 1min 17s\n",
      "Wall time: 2min 40s\n",
      "len(train_segments) 48674\n",
      "applying L_train_tmp\n",
      "snorkel_conn_string postgresql:///abstractnetwordfilter\n",
      "if snorkel_postgres? True\n",
      "2018-10-11 07:44:20.964653\n",
      "snorkel_conn_string postgresql:///abstractnetwordfilter\n",
      "if snorkel_postgres? True\n",
      "cids_count 48674\n",
      "key_group 0\n",
      "Clearing existing...\n",
      "snorkel_conn_string postgresql:///abstractnetwordfilter\n",
      "if snorkel_postgres? True\n",
      "clearning..\n",
      "Running UDF...\n",
      "snorkel_conn_string postgresql:///abstractnetwordfilter\n",
      "if snorkel_postgres? True\n",
      "[========================================] 100%\n",
      "\n",
      "2018-10-11 07:50:24.789224\n",
      "<class 'snorkel.annotations.csr_LabelMatrix'>\n",
      "(48674, 77)\n"
     ]
    },
    {
     "data": {
      "text/markdown": [
       "**Total non_overlapping_coverage on L_train (percentage of labelled over all)**  0.6804865020339401"
      ],
      "text/plain": [
       "<IPython.core.display.Markdown object>"
      ]
     },
     "metadata": {},
     "output_type": "display_data"
    },
    {
     "name": "stdout",
     "output_type": "stream",
     "text": [
      "creating train_marginals\n",
      "Clearing existing...\n",
      "snorkel_conn_string postgresql:///abstractnetwordfilter\n",
      "if snorkel_postgres? True\n",
      "clearning..\n",
      "Running UDF...\n",
      "snorkel_conn_string postgresql:///abstractnetwordfilter\n",
      "if snorkel_postgres? True\n",
      "[========================================] 100%\n",
      "\n",
      "CPU times: user 1min 15s, sys: 4.52 s, total: 1min 19s\n",
      "Wall time: 2min 35s\n",
      "len(train_segments) 49057\n",
      "applying L_train_tmp\n",
      "snorkel_conn_string postgresql:///abstractnetwordfilter\n",
      "if snorkel_postgres? True\n",
      "2018-10-11 07:54:15.206806\n",
      "snorkel_conn_string postgresql:///abstractnetwordfilter\n",
      "if snorkel_postgres? True\n",
      "cids_count 49057\n",
      "key_group 0\n",
      "Clearing existing...\n",
      "snorkel_conn_string postgresql:///abstractnetwordfilter\n",
      "if snorkel_postgres? True\n",
      "clearning..\n",
      "Running UDF...\n",
      "snorkel_conn_string postgresql:///abstractnetwordfilter\n",
      "if snorkel_postgres? True\n",
      "[========================================] 100%\n",
      "\n",
      "2018-10-11 08:00:20.845986\n",
      "<class 'snorkel.annotations.csr_LabelMatrix'>\n",
      "(49057, 77)\n"
     ]
    },
    {
     "data": {
      "text/markdown": [
       "**Total non_overlapping_coverage on L_train (percentage of labelled over all)**  0.675051470738121"
      ],
      "text/plain": [
       "<IPython.core.display.Markdown object>"
      ]
     },
     "metadata": {},
     "output_type": "display_data"
    },
    {
     "name": "stdout",
     "output_type": "stream",
     "text": [
      "creating train_marginals\n"
     ]
    }
   ],
   "source": [
    "# This code loop through all splits, create unigram_segments, L_train and train_marginals (named as \"_tmp\")\n",
    "for train_bucket in range(1,len(sents_split)):\n",
    "    %time unigram_segment_extractor.apply(sents_split[train_bucket], split=train_bucket)\n",
    "    unigram_segments_tmp=session.query(Unigram).filter(Unigram.split == train_bucket).all()\n",
    "    print(\"len(train_segments)\",len(unigram_segments_tmp))\n",
    "    print(\"applying L_train_tmp\")\n",
    "    L_train_tmp=get_L_train(purpose_LFs+mechanism_LFs+null_LFs,split=train_bucket)\n",
    "    print(\"creating train_marginals\")\n",
    "    train_marginals_tmp = gen_model.marginals(L_train_tmp)\n",
    "    write_csv_gen_label(unigram_segments_tmp,train_marginals_tmp,\"data/annotations_slim_s2/split\"+str(train_bucket)+\".csv\")\n"
   ]
  },
  {
   "cell_type": "code",
   "execution_count": 64,
   "metadata": {},
   "outputs": [],
   "source": [
    "# You're trying to build one large dataframe out of the rows of many dataframes who all have the same column names. axis should be 0 (the default), not 1. Also you don't need to specify a type of join. This will have no effect since the column names are the same for each dataframe.\n",
    "\n",
    "# df = pd.concat([df1, df2, df3])\n",
    "\n",
    "sub_dfs=[]\n",
    "for train_bucket in range(len(sents_split)):\n",
    "    sub_dfs+=[pd.read_csv(open(\"data/annotations_slim_s2/split\"+str(train_bucket)+\".csv\",\"r\"))]\n",
    "df = pd.concat(sub_dfs)\n",
    "df=df.drop(columns=['Unnamed: 0'])\n",
    "# df.to_csv(open(\"data/annotations_slim_s2/joint_split.csv\",\"w\"))"
   ]
  },
  {
   "cell_type": "code",
   "execution_count": 56,
   "metadata": {},
   "outputs": [
    {
     "name": "stdout",
     "output_type": "stream",
     "text": [
      "50\n",
      "10556\n",
      "Index(['winningHighlight', 'paperID', 'globalPsn', 'content'], dtype='object')\n"
     ]
    },
    {
     "data": {
      "text/html": [
       "<div>\n",
       "<style scoped>\n",
       "    .dataframe tbody tr th:only-of-type {\n",
       "        vertical-align: middle;\n",
       "    }\n",
       "\n",
       "    .dataframe tbody tr th {\n",
       "        vertical-align: top;\n",
       "    }\n",
       "\n",
       "    .dataframe thead th {\n",
       "        text-align: right;\n",
       "    }\n",
       "</style>\n",
       "<table border=\"1\" class=\"dataframe\">\n",
       "  <thead>\n",
       "    <tr style=\"text-align: right;\">\n",
       "      <th></th>\n",
       "      <th>winningHighlight</th>\n",
       "      <th>paperID</th>\n",
       "      <th>globalPsn</th>\n",
       "      <th>content</th>\n",
       "    </tr>\n",
       "  </thead>\n",
       "  <tbody>\n",
       "    <tr>\n",
       "      <th>22856</th>\n",
       "      <td>[0.9000218378642625, 0.04998908106786876, 0.04...</td>\n",
       "      <td>semanticDBLP_6accd6b8bdef57b1455d5bb6cdcc8c436...</td>\n",
       "      <td>1</td>\n",
       "      <td>Design</td>\n",
       "    </tr>\n",
       "    <tr>\n",
       "      <th>22857</th>\n",
       "      <td>[0.3333333333333333, 0.3333333333333333, 0.333...</td>\n",
       "      <td>semanticDBLP_6accd6b8bdef57b1455d5bb6cdcc8c436...</td>\n",
       "      <td>2</td>\n",
       "      <td>Science</td>\n",
       "    </tr>\n",
       "    <tr>\n",
       "      <th>22858</th>\n",
       "      <td>[0.3333333333333333, 0.3333333333333333, 0.333...</td>\n",
       "      <td>semanticDBLP_6accd6b8bdef57b1455d5bb6cdcc8c436...</td>\n",
       "      <td>3</td>\n",
       "      <td>Research</td>\n",
       "    </tr>\n",
       "    <tr>\n",
       "      <th>22859</th>\n",
       "      <td>[0.5565563714814038, 0.36139655035929674, 0.08...</td>\n",
       "      <td>semanticDBLP_6accd6b8bdef57b1455d5bb6cdcc8c436...</td>\n",
       "      <td>4</td>\n",
       "      <td>(</td>\n",
       "    </tr>\n",
       "    <tr>\n",
       "      <th>22860</th>\n",
       "      <td>[0.9000218378642625, 0.04998908106786876, 0.04...</td>\n",
       "      <td>semanticDBLP_6accd6b8bdef57b1455d5bb6cdcc8c436...</td>\n",
       "      <td>5</td>\n",
       "      <td>DSR</td>\n",
       "    </tr>\n",
       "    <tr>\n",
       "      <th>22861</th>\n",
       "      <td>[0.3333333333333333, 0.3333333333333333, 0.333...</td>\n",
       "      <td>semanticDBLP_6accd6b8bdef57b1455d5bb6cdcc8c436...</td>\n",
       "      <td>6</td>\n",
       "      <td>)</td>\n",
       "    </tr>\n",
       "    <tr>\n",
       "      <th>22862</th>\n",
       "      <td>[0.7747526735488279, 0.11262366322558603, 0.11...</td>\n",
       "      <td>semanticDBLP_6accd6b8bdef57b1455d5bb6cdcc8c436...</td>\n",
       "      <td>7</td>\n",
       "      <td>has</td>\n",
       "    </tr>\n",
       "    <tr>\n",
       "      <th>22863</th>\n",
       "      <td>[0.566841311319671, 0.21657934434016446, 0.216...</td>\n",
       "      <td>semanticDBLP_6accd6b8bdef57b1455d5bb6cdcc8c436...</td>\n",
       "      <td>8</td>\n",
       "      <td>sparked</td>\n",
       "    </tr>\n",
       "    <tr>\n",
       "      <th>22864</th>\n",
       "      <td>[0.566841311319671, 0.21657934434016446, 0.216...</td>\n",
       "      <td>semanticDBLP_6accd6b8bdef57b1455d5bb6cdcc8c436...</td>\n",
       "      <td>9</td>\n",
       "      <td>a</td>\n",
       "    </tr>\n",
       "    <tr>\n",
       "      <th>22865</th>\n",
       "      <td>[0.3333333333333333, 0.3333333333333333, 0.333...</td>\n",
       "      <td>semanticDBLP_6accd6b8bdef57b1455d5bb6cdcc8c436...</td>\n",
       "      <td>10</td>\n",
       "      <td>renaissance</td>\n",
       "    </tr>\n",
       "    <tr>\n",
       "      <th>22866</th>\n",
       "      <td>[0.9000218378642625, 0.04998908106786876, 0.04...</td>\n",
       "      <td>semanticDBLP_6accd6b8bdef57b1455d5bb6cdcc8c436...</td>\n",
       "      <td>11</td>\n",
       "      <td>of</td>\n",
       "    </tr>\n",
       "    <tr>\n",
       "      <th>22867</th>\n",
       "      <td>[0.9000218378642625, 0.04998908106786876, 0.04...</td>\n",
       "      <td>semanticDBLP_6accd6b8bdef57b1455d5bb6cdcc8c436...</td>\n",
       "      <td>12</td>\n",
       "      <td>contributions</td>\n",
       "    </tr>\n",
       "    <tr>\n",
       "      <th>22868</th>\n",
       "      <td>[0.6865975157774757, 0.09980879063539361, 0.21...</td>\n",
       "      <td>semanticDBLP_6accd6b8bdef57b1455d5bb6cdcc8c436...</td>\n",
       "      <td>13</td>\n",
       "      <td>to</td>\n",
       "    </tr>\n",
       "    <tr>\n",
       "      <th>22869</th>\n",
       "      <td>[0.3333333333333333, 0.3333333333333333, 0.333...</td>\n",
       "      <td>semanticDBLP_6accd6b8bdef57b1455d5bb6cdcc8c436...</td>\n",
       "      <td>14</td>\n",
       "      <td>IS</td>\n",
       "    </tr>\n",
       "    <tr>\n",
       "      <th>22870</th>\n",
       "      <td>[0.6865975157774757, 0.09980879063539361, 0.21...</td>\n",
       "      <td>semanticDBLP_6accd6b8bdef57b1455d5bb6cdcc8c436...</td>\n",
       "      <td>15</td>\n",
       "      <td>,</td>\n",
       "    </tr>\n",
       "    <tr>\n",
       "      <th>22871</th>\n",
       "      <td>[0.3333333333333333, 0.3333333333333333, 0.333...</td>\n",
       "      <td>semanticDBLP_6accd6b8bdef57b1455d5bb6cdcc8c436...</td>\n",
       "      <td>16</td>\n",
       "      <td>but</td>\n",
       "    </tr>\n",
       "    <tr>\n",
       "      <th>22872</th>\n",
       "      <td>[0.044245243824894614, 0.9115095123502108, 0.0...</td>\n",
       "      <td>semanticDBLP_6accd6b8bdef57b1455d5bb6cdcc8c436...</td>\n",
       "      <td>17</td>\n",
       "      <td>its</td>\n",
       "    </tr>\n",
       "    <tr>\n",
       "      <th>22873</th>\n",
       "      <td>[0.14976632363962003, 0.7004673527207599, 0.14...</td>\n",
       "      <td>semanticDBLP_6accd6b8bdef57b1455d5bb6cdcc8c436...</td>\n",
       "      <td>18</td>\n",
       "      <td>rigor</td>\n",
       "    </tr>\n",
       "    <tr>\n",
       "      <th>22874</th>\n",
       "      <td>[0.3333333333333333, 0.3333333333333333, 0.333...</td>\n",
       "      <td>semanticDBLP_6accd6b8bdef57b1455d5bb6cdcc8c436...</td>\n",
       "      <td>19</td>\n",
       "      <td>and</td>\n",
       "    </tr>\n",
       "    <tr>\n",
       "      <th>22875</th>\n",
       "      <td>[0.9000218378642625, 0.04998908106786876, 0.04...</td>\n",
       "      <td>semanticDBLP_6accd6b8bdef57b1455d5bb6cdcc8c436...</td>\n",
       "      <td>20</td>\n",
       "      <td>value</td>\n",
       "    </tr>\n",
       "    <tr>\n",
       "      <th>22876</th>\n",
       "      <td>[0.566841311319671, 0.21657934434016446, 0.216...</td>\n",
       "      <td>semanticDBLP_6accd6b8bdef57b1455d5bb6cdcc8c436...</td>\n",
       "      <td>21</td>\n",
       "      <td>of</td>\n",
       "    </tr>\n",
       "    <tr>\n",
       "      <th>22877</th>\n",
       "      <td>[0.9550901220771066, 0.02245493896144668, 0.02...</td>\n",
       "      <td>semanticDBLP_6accd6b8bdef57b1455d5bb6cdcc8c436...</td>\n",
       "      <td>22</td>\n",
       "      <td>DSR</td>\n",
       "    </tr>\n",
       "    <tr>\n",
       "      <th>22878</th>\n",
       "      <td>[0.7555907713663789, 0.12220461431681057, 0.12...</td>\n",
       "      <td>semanticDBLP_6accd6b8bdef57b1455d5bb6cdcc8c436...</td>\n",
       "      <td>23</td>\n",
       "      <td>could</td>\n",
       "    </tr>\n",
       "    <tr>\n",
       "      <th>22879</th>\n",
       "      <td>[0.3333333333333333, 0.3333333333333333, 0.333...</td>\n",
       "      <td>semanticDBLP_6accd6b8bdef57b1455d5bb6cdcc8c436...</td>\n",
       "      <td>24</td>\n",
       "      <td>be</td>\n",
       "    </tr>\n",
       "    <tr>\n",
       "      <th>22880</th>\n",
       "      <td>[0.9000218378642625, 0.04998908106786876, 0.04...</td>\n",
       "      <td>semanticDBLP_6accd6b8bdef57b1455d5bb6cdcc8c436...</td>\n",
       "      <td>25</td>\n",
       "      <td>increased</td>\n",
       "    </tr>\n",
       "    <tr>\n",
       "      <th>22881</th>\n",
       "      <td>[0.3333333333333333, 0.3333333333333333, 0.333...</td>\n",
       "      <td>semanticDBLP_6accd6b8bdef57b1455d5bb6cdcc8c436...</td>\n",
       "      <td>26</td>\n",
       "      <td>by</td>\n",
       "    </tr>\n",
       "    <tr>\n",
       "      <th>22882</th>\n",
       "      <td>[0.3333333333333333, 0.3333333333333333, 0.333...</td>\n",
       "      <td>semanticDBLP_6accd6b8bdef57b1455d5bb6cdcc8c436...</td>\n",
       "      <td>27</td>\n",
       "      <td>expanding</td>\n",
       "    </tr>\n",
       "    <tr>\n",
       "      <th>22883</th>\n",
       "      <td>[0.3333333333333333, 0.3333333333333333, 0.333...</td>\n",
       "      <td>semanticDBLP_6accd6b8bdef57b1455d5bb6cdcc8c436...</td>\n",
       "      <td>28</td>\n",
       "      <td>its</td>\n",
       "    </tr>\n",
       "    <tr>\n",
       "      <th>22884</th>\n",
       "      <td>[0.324114978744728, 0.5508310400967501, 0.1250...</td>\n",
       "      <td>semanticDBLP_6accd6b8bdef57b1455d5bb6cdcc8c436...</td>\n",
       "      <td>29</td>\n",
       "      <td>scope</td>\n",
       "    </tr>\n",
       "    <tr>\n",
       "      <th>22885</th>\n",
       "      <td>[0.8930433842707538, 0.08716722820391926, 0.01...</td>\n",
       "      <td>semanticDBLP_6accd6b8bdef57b1455d5bb6cdcc8c436...</td>\n",
       "      <td>30</td>\n",
       "      <td>beyond</td>\n",
       "    </tr>\n",
       "    <tr>\n",
       "      <th>22886</th>\n",
       "      <td>[0.566841311319671, 0.21657934434016446, 0.216...</td>\n",
       "      <td>semanticDBLP_6accd6b8bdef57b1455d5bb6cdcc8c436...</td>\n",
       "      <td>31</td>\n",
       "      <td>its</td>\n",
       "    </tr>\n",
       "    <tr>\n",
       "      <th>22887</th>\n",
       "      <td>[0.9000218378642625, 0.04998908106786876, 0.04...</td>\n",
       "      <td>semanticDBLP_6accd6b8bdef57b1455d5bb6cdcc8c436...</td>\n",
       "      <td>32</td>\n",
       "      <td>engineering</td>\n",
       "    </tr>\n",
       "    <tr>\n",
       "      <th>22888</th>\n",
       "      <td>[0.9000218378642625, 0.04998908106786876, 0.04...</td>\n",
       "      <td>semanticDBLP_6accd6b8bdef57b1455d5bb6cdcc8c436...</td>\n",
       "      <td>33</td>\n",
       "      <td>roots</td>\n",
       "    </tr>\n",
       "    <tr>\n",
       "      <th>22889</th>\n",
       "      <td>[0.566841311319671, 0.21657934434016446, 0.216...</td>\n",
       "      <td>semanticDBLP_6accd6b8bdef57b1455d5bb6cdcc8c436...</td>\n",
       "      <td>34</td>\n",
       "      <td>to</td>\n",
       "    </tr>\n",
       "    <tr>\n",
       "      <th>22890</th>\n",
       "      <td>[0.9000218378642625, 0.04998908106786876, 0.04...</td>\n",
       "      <td>semanticDBLP_6accd6b8bdef57b1455d5bb6cdcc8c436...</td>\n",
       "      <td>35</td>\n",
       "      <td>bring</td>\n",
       "    </tr>\n",
       "    <tr>\n",
       "      <th>22891</th>\n",
       "      <td>[0.566841311319671, 0.21657934434016446, 0.216...</td>\n",
       "      <td>semanticDBLP_6accd6b8bdef57b1455d5bb6cdcc8c436...</td>\n",
       "      <td>36</td>\n",
       "      <td>all</td>\n",
       "    </tr>\n",
       "    <tr>\n",
       "      <th>22892</th>\n",
       "      <td>[0.3333333333333333, 0.3333333333333333, 0.333...</td>\n",
       "      <td>semanticDBLP_6accd6b8bdef57b1455d5bb6cdcc8c436...</td>\n",
       "      <td>37</td>\n",
       "      <td>modes</td>\n",
       "    </tr>\n",
       "    <tr>\n",
       "      <th>22893</th>\n",
       "      <td>[0.3333333333333333, 0.3333333333333333, 0.333...</td>\n",
       "      <td>semanticDBLP_6accd6b8bdef57b1455d5bb6cdcc8c436...</td>\n",
       "      <td>38</td>\n",
       "      <td>of</td>\n",
       "    </tr>\n",
       "    <tr>\n",
       "      <th>22894</th>\n",
       "      <td>[0.6865975157774757, 0.09980879063539361, 0.21...</td>\n",
       "      <td>semanticDBLP_6accd6b8bdef57b1455d5bb6cdcc8c436...</td>\n",
       "      <td>39</td>\n",
       "      <td>scientific</td>\n",
       "    </tr>\n",
       "    <tr>\n",
       "      <th>22895</th>\n",
       "      <td>[0.3333333333333333, 0.3333333333333333, 0.333...</td>\n",
       "      <td>semanticDBLP_6accd6b8bdef57b1455d5bb6cdcc8c436...</td>\n",
       "      <td>40</td>\n",
       "      <td>inquiry</td>\n",
       "    </tr>\n",
       "    <tr>\n",
       "      <th>22896</th>\n",
       "      <td>[0.566841311319671, 0.21657934434016446, 0.216...</td>\n",
       "      <td>semanticDBLP_6accd6b8bdef57b1455d5bb6cdcc8c436...</td>\n",
       "      <td>41</td>\n",
       "      <td>to</td>\n",
       "    </tr>\n",
       "    <tr>\n",
       "      <th>22897</th>\n",
       "      <td>[0.9000218378642625, 0.04998908106786876, 0.04...</td>\n",
       "      <td>semanticDBLP_6accd6b8bdef57b1455d5bb6cdcc8c436...</td>\n",
       "      <td>42</td>\n",
       "      <td>bear</td>\n",
       "    </tr>\n",
       "    <tr>\n",
       "      <th>22898</th>\n",
       "      <td>[0.9000218378642625, 0.04998908106786876, 0.04...</td>\n",
       "      <td>semanticDBLP_6accd6b8bdef57b1455d5bb6cdcc8c436...</td>\n",
       "      <td>43</td>\n",
       "      <td>–</td>\n",
       "    </tr>\n",
       "    <tr>\n",
       "      <th>22899</th>\n",
       "      <td>[0.9000218378642625, 0.04998908106786876, 0.04...</td>\n",
       "      <td>semanticDBLP_6accd6b8bdef57b1455d5bb6cdcc8c436...</td>\n",
       "      <td>44</td>\n",
       "      <td>exploratory</td>\n",
       "    </tr>\n",
       "    <tr>\n",
       "      <th>22900</th>\n",
       "      <td>[0.9000218378642625, 0.04998908106786876, 0.04...</td>\n",
       "      <td>semanticDBLP_6accd6b8bdef57b1455d5bb6cdcc8c436...</td>\n",
       "      <td>45</td>\n",
       "      <td>,</td>\n",
       "    </tr>\n",
       "    <tr>\n",
       "      <th>22901</th>\n",
       "      <td>[0.9000218378642625, 0.04998908106786876, 0.04...</td>\n",
       "      <td>semanticDBLP_6accd6b8bdef57b1455d5bb6cdcc8c436...</td>\n",
       "      <td>46</td>\n",
       "      <td>theoretical</td>\n",
       "    </tr>\n",
       "    <tr>\n",
       "      <th>22902</th>\n",
       "      <td>[0.6865975157774757, 0.09980879063539361, 0.21...</td>\n",
       "      <td>semanticDBLP_6accd6b8bdef57b1455d5bb6cdcc8c436...</td>\n",
       "      <td>47</td>\n",
       "      <td>,</td>\n",
       "    </tr>\n",
       "    <tr>\n",
       "      <th>22903</th>\n",
       "      <td>[0.3333333333333333, 0.3333333333333333, 0.333...</td>\n",
       "      <td>semanticDBLP_6accd6b8bdef57b1455d5bb6cdcc8c436...</td>\n",
       "      <td>48</td>\n",
       "      <td>experimental</td>\n",
       "    </tr>\n",
       "    <tr>\n",
       "      <th>22904</th>\n",
       "      <td>[0.3333333333333333, 0.3333333333333333, 0.333...</td>\n",
       "      <td>semanticDBLP_6accd6b8bdef57b1455d5bb6cdcc8c436...</td>\n",
       "      <td>49</td>\n",
       "      <td>,</td>\n",
       "    </tr>\n",
       "    <tr>\n",
       "      <th>22905</th>\n",
       "      <td>[0.5565563714814038, 0.36139655035929674, 0.08...</td>\n",
       "      <td>semanticDBLP_6accd6b8bdef57b1455d5bb6cdcc8c436...</td>\n",
       "      <td>50</td>\n",
       "      <td>and</td>\n",
       "    </tr>\n",
       "    <tr>\n",
       "      <th>22906</th>\n",
       "      <td>[0.1561342134440276, 0.6877315731119448, 0.156...</td>\n",
       "      <td>semanticDBLP_6accd6b8bdef57b1455d5bb6cdcc8c436...</td>\n",
       "      <td>51</td>\n",
       "      <td>applied</td>\n",
       "    </tr>\n",
       "    <tr>\n",
       "      <th>22907</th>\n",
       "      <td>[0.9000218378642625, 0.04998908106786876, 0.04...</td>\n",
       "      <td>semanticDBLP_6accd6b8bdef57b1455d5bb6cdcc8c436...</td>\n",
       "      <td>52</td>\n",
       "      <td>science</td>\n",
       "    </tr>\n",
       "    <tr>\n",
       "      <th>22908</th>\n",
       "      <td>[0.9000218378642625, 0.04998908106786876, 0.04...</td>\n",
       "      <td>semanticDBLP_6accd6b8bdef57b1455d5bb6cdcc8c436...</td>\n",
       "      <td>53</td>\n",
       "      <td>/</td>\n",
       "    </tr>\n",
       "    <tr>\n",
       "      <th>22909</th>\n",
       "      <td>[0.9550901220771066, 0.02245493896144668, 0.02...</td>\n",
       "      <td>semanticDBLP_6accd6b8bdef57b1455d5bb6cdcc8c436...</td>\n",
       "      <td>54</td>\n",
       "      <td>engineering</td>\n",
       "    </tr>\n",
       "    <tr>\n",
       "      <th>22910</th>\n",
       "      <td>[0.566841311319671, 0.21657934434016446, 0.216...</td>\n",
       "      <td>semanticDBLP_6accd6b8bdef57b1455d5bb6cdcc8c436...</td>\n",
       "      <td>55</td>\n",
       "      <td>(</td>\n",
       "    </tr>\n",
       "    <tr>\n",
       "      <th>22911</th>\n",
       "      <td>[0.9000218378642625, 0.04998908106786876, 0.04...</td>\n",
       "      <td>semanticDBLP_6accd6b8bdef57b1455d5bb6cdcc8c436...</td>\n",
       "      <td>56</td>\n",
       "      <td>AS</td>\n",
       "    </tr>\n",
       "    <tr>\n",
       "      <th>22912</th>\n",
       "      <td>[0.9000218378642625, 0.04998908106786876, 0.04...</td>\n",
       "      <td>semanticDBLP_6accd6b8bdef57b1455d5bb6cdcc8c436...</td>\n",
       "      <td>57</td>\n",
       "      <td>/</td>\n",
       "    </tr>\n",
       "    <tr>\n",
       "      <th>22913</th>\n",
       "      <td>[0.566841311319671, 0.21657934434016446, 0.216...</td>\n",
       "      <td>semanticDBLP_6accd6b8bdef57b1455d5bb6cdcc8c436...</td>\n",
       "      <td>58</td>\n",
       "      <td>E</td>\n",
       "    </tr>\n",
       "    <tr>\n",
       "      <th>22914</th>\n",
       "      <td>[0.9000218378642625, 0.04998908106786876, 0.04...</td>\n",
       "      <td>semanticDBLP_6accd6b8bdef57b1455d5bb6cdcc8c436...</td>\n",
       "      <td>59</td>\n",
       "      <td>)</td>\n",
       "    </tr>\n",
       "    <tr>\n",
       "      <th>22915</th>\n",
       "      <td>[0.566841311319671, 0.21657934434016446, 0.216...</td>\n",
       "      <td>semanticDBLP_6accd6b8bdef57b1455d5bb6cdcc8c436...</td>\n",
       "      <td>60</td>\n",
       "      <td>.</td>\n",
       "    </tr>\n",
       "    <tr>\n",
       "      <th>22916</th>\n",
       "      <td>[0.7794615283091949, 0.17973387768999366, 0.04...</td>\n",
       "      <td>semanticDBLP_6accd6b8bdef57b1455d5bb6cdcc8c436...</td>\n",
       "      <td>61</td>\n",
       "      <td>All</td>\n",
       "    </tr>\n",
       "    <tr>\n",
       "      <th>22917</th>\n",
       "      <td>[0.5565563714814038, 0.36139655035929674, 0.08...</td>\n",
       "      <td>semanticDBLP_6accd6b8bdef57b1455d5bb6cdcc8c436...</td>\n",
       "      <td>62</td>\n",
       "      <td>DSR</td>\n",
       "    </tr>\n",
       "    <tr>\n",
       "      <th>22918</th>\n",
       "      <td>[0.1561342134440276, 0.6877315731119448, 0.156...</td>\n",
       "      <td>semanticDBLP_6accd6b8bdef57b1455d5bb6cdcc8c436...</td>\n",
       "      <td>63</td>\n",
       "      <td>Cycle</td>\n",
       "    </tr>\n",
       "    <tr>\n",
       "      <th>22919</th>\n",
       "      <td>[0.3333333333333333, 0.3333333333333333, 0.333...</td>\n",
       "      <td>semanticDBLP_6accd6b8bdef57b1455d5bb6cdcc8c436...</td>\n",
       "      <td>64</td>\n",
       "      <td>activities</td>\n",
       "    </tr>\n",
       "    <tr>\n",
       "      <th>22920</th>\n",
       "      <td>[0.3333333333333333, 0.3333333333333333, 0.333...</td>\n",
       "      <td>semanticDBLP_6accd6b8bdef57b1455d5bb6cdcc8c436...</td>\n",
       "      <td>65</td>\n",
       "      <td>can</td>\n",
       "    </tr>\n",
       "    <tr>\n",
       "      <th>22921</th>\n",
       "      <td>[0.7794615283091949, 0.17973387768999366, 0.04...</td>\n",
       "      <td>semanticDBLP_6accd6b8bdef57b1455d5bb6cdcc8c436...</td>\n",
       "      <td>66</td>\n",
       "      <td>be</td>\n",
       "    </tr>\n",
       "    <tr>\n",
       "      <th>22922</th>\n",
       "      <td>[0.1561342134440276, 0.6877315731119448, 0.156...</td>\n",
       "      <td>semanticDBLP_6accd6b8bdef57b1455d5bb6cdcc8c436...</td>\n",
       "      <td>67</td>\n",
       "      <td>realized</td>\n",
       "    </tr>\n",
       "    <tr>\n",
       "      <th>22923</th>\n",
       "      <td>[0.5565563714814038, 0.36139655035929674, 0.08...</td>\n",
       "      <td>semanticDBLP_6accd6b8bdef57b1455d5bb6cdcc8c436...</td>\n",
       "      <td>68</td>\n",
       "      <td>as</td>\n",
       "    </tr>\n",
       "    <tr>\n",
       "      <th>22924</th>\n",
       "      <td>[0.5565563714814038, 0.36139655035929674, 0.08...</td>\n",
       "      <td>semanticDBLP_6accd6b8bdef57b1455d5bb6cdcc8c436...</td>\n",
       "      <td>69</td>\n",
       "      <td>instances</td>\n",
       "    </tr>\n",
       "    <tr>\n",
       "      <th>22925</th>\n",
       "      <td>[0.5565563714814038, 0.36139655035929674, 0.08...</td>\n",
       "      <td>semanticDBLP_6accd6b8bdef57b1455d5bb6cdcc8c436...</td>\n",
       "      <td>70</td>\n",
       "      <td>of</td>\n",
       "    </tr>\n",
       "    <tr>\n",
       "      <th>22926</th>\n",
       "      <td>[0.5565563714814038, 0.36139655035929674, 0.08...</td>\n",
       "      <td>semanticDBLP_6accd6b8bdef57b1455d5bb6cdcc8c436...</td>\n",
       "      <td>71</td>\n",
       "      <td>one</td>\n",
       "    </tr>\n",
       "    <tr>\n",
       "      <th>22927</th>\n",
       "      <td>[0.3333333333333333, 0.3333333333333333, 0.333...</td>\n",
       "      <td>semanticDBLP_6accd6b8bdef57b1455d5bb6cdcc8c436...</td>\n",
       "      <td>72</td>\n",
       "      <td>or</td>\n",
       "    </tr>\n",
       "    <tr>\n",
       "      <th>22928</th>\n",
       "      <td>[0.1561342134440276, 0.6877315731119448, 0.156...</td>\n",
       "      <td>semanticDBLP_6accd6b8bdef57b1455d5bb6cdcc8c436...</td>\n",
       "      <td>73</td>\n",
       "      <td>more</td>\n",
       "    </tr>\n",
       "    <tr>\n",
       "      <th>22929</th>\n",
       "      <td>[0.1561342134440276, 0.6877315731119448, 0.156...</td>\n",
       "      <td>semanticDBLP_6accd6b8bdef57b1455d5bb6cdcc8c436...</td>\n",
       "      <td>74</td>\n",
       "      <td>of</td>\n",
       "    </tr>\n",
       "    <tr>\n",
       "      <th>22930</th>\n",
       "      <td>[0.1561342134440276, 0.6877315731119448, 0.156...</td>\n",
       "      <td>semanticDBLP_6accd6b8bdef57b1455d5bb6cdcc8c436...</td>\n",
       "      <td>75</td>\n",
       "      <td>the</td>\n",
       "    </tr>\n",
       "    <tr>\n",
       "      <th>22931</th>\n",
       "      <td>[0.1561342134440276, 0.6877315731119448, 0.156...</td>\n",
       "      <td>semanticDBLP_6accd6b8bdef57b1455d5bb6cdcc8c436...</td>\n",
       "      <td>76</td>\n",
       "      <td>four</td>\n",
       "    </tr>\n",
       "    <tr>\n",
       "      <th>22932</th>\n",
       "      <td>[0.8930433842707538, 0.08716722820391926, 0.01...</td>\n",
       "      <td>semanticDBLP_6accd6b8bdef57b1455d5bb6cdcc8c436...</td>\n",
       "      <td>77</td>\n",
       "      <td>modes</td>\n",
       "    </tr>\n",
       "    <tr>\n",
       "      <th>22933</th>\n",
       "      <td>[0.8930433842707538, 0.08716722820391926, 0.01...</td>\n",
       "      <td>semanticDBLP_6accd6b8bdef57b1455d5bb6cdcc8c436...</td>\n",
       "      <td>78</td>\n",
       "      <td>.</td>\n",
       "    </tr>\n",
       "    <tr>\n",
       "      <th>22934</th>\n",
       "      <td>[0.3333333333333333, 0.3333333333333333, 0.333...</td>\n",
       "      <td>semanticDBLP_6accd6b8bdef57b1455d5bb6cdcc8c436...</td>\n",
       "      <td>79</td>\n",
       "      <td>The</td>\n",
       "    </tr>\n",
       "    <tr>\n",
       "      <th>22935</th>\n",
       "      <td>[0.3333333333333333, 0.3333333333333333, 0.333...</td>\n",
       "      <td>semanticDBLP_6accd6b8bdef57b1455d5bb6cdcc8c436...</td>\n",
       "      <td>80</td>\n",
       "      <td>rigor</td>\n",
       "    </tr>\n",
       "    <tr>\n",
       "      <th>22936</th>\n",
       "      <td>[0.3333333333333333, 0.3333333333333333, 0.333...</td>\n",
       "      <td>semanticDBLP_6accd6b8bdef57b1455d5bb6cdcc8c436...</td>\n",
       "      <td>81</td>\n",
       "      <td>of</td>\n",
       "    </tr>\n",
       "    <tr>\n",
       "      <th>22937</th>\n",
       "      <td>[0.3333333333333333, 0.3333333333333333, 0.333...</td>\n",
       "      <td>semanticDBLP_6accd6b8bdef57b1455d5bb6cdcc8c436...</td>\n",
       "      <td>82</td>\n",
       "      <td>DSR</td>\n",
       "    </tr>\n",
       "    <tr>\n",
       "      <th>22938</th>\n",
       "      <td>[0.1561342134440276, 0.6877315731119448, 0.156...</td>\n",
       "      <td>semanticDBLP_6accd6b8bdef57b1455d5bb6cdcc8c436...</td>\n",
       "      <td>83</td>\n",
       "      <td>can</td>\n",
       "    </tr>\n",
       "    <tr>\n",
       "      <th>22939</th>\n",
       "      <td>[0.1561342134440276, 0.6877315731119448, 0.156...</td>\n",
       "      <td>semanticDBLP_6accd6b8bdef57b1455d5bb6cdcc8c436...</td>\n",
       "      <td>84</td>\n",
       "      <td>therefore</td>\n",
       "    </tr>\n",
       "    <tr>\n",
       "      <th>22940</th>\n",
       "      <td>[0.8930433842707538, 0.08716722820391926, 0.01...</td>\n",
       "      <td>semanticDBLP_6accd6b8bdef57b1455d5bb6cdcc8c436...</td>\n",
       "      <td>85</td>\n",
       "      <td>be</td>\n",
       "    </tr>\n",
       "    <tr>\n",
       "      <th>22941</th>\n",
       "      <td>[0.5565563714814038, 0.36139655035929674, 0.08...</td>\n",
       "      <td>semanticDBLP_6accd6b8bdef57b1455d5bb6cdcc8c436...</td>\n",
       "      <td>86</td>\n",
       "      <td>defended</td>\n",
       "    </tr>\n",
       "    <tr>\n",
       "      <th>22942</th>\n",
       "      <td>[0.1561342134440276, 0.6877315731119448, 0.156...</td>\n",
       "      <td>semanticDBLP_6accd6b8bdef57b1455d5bb6cdcc8c436...</td>\n",
       "      <td>87</td>\n",
       "      <td>in</td>\n",
       "    </tr>\n",
       "    <tr>\n",
       "      <th>22943</th>\n",
       "      <td>[0.8930433842707538, 0.08716722820391926, 0.01...</td>\n",
       "      <td>semanticDBLP_6accd6b8bdef57b1455d5bb6cdcc8c436...</td>\n",
       "      <td>88</td>\n",
       "      <td>terms</td>\n",
       "    </tr>\n",
       "    <tr>\n",
       "      <th>22944</th>\n",
       "      <td>[0.3333333333333333, 0.3333333333333333, 0.333...</td>\n",
       "      <td>semanticDBLP_6accd6b8bdef57b1455d5bb6cdcc8c436...</td>\n",
       "      <td>89</td>\n",
       "      <td>of</td>\n",
       "    </tr>\n",
       "    <tr>\n",
       "      <th>22945</th>\n",
       "      <td>[0.3333333333333333, 0.3333333333333333, 0.333...</td>\n",
       "      <td>semanticDBLP_6accd6b8bdef57b1455d5bb6cdcc8c436...</td>\n",
       "      <td>90</td>\n",
       "      <td>the</td>\n",
       "    </tr>\n",
       "    <tr>\n",
       "      <th>22946</th>\n",
       "      <td>[0.3333333333333333, 0.3333333333333333, 0.333...</td>\n",
       "      <td>semanticDBLP_6accd6b8bdef57b1455d5bb6cdcc8c436...</td>\n",
       "      <td>91</td>\n",
       "      <td>goals</td>\n",
       "    </tr>\n",
       "    <tr>\n",
       "      <th>22947</th>\n",
       "      <td>[0.3333333333333333, 0.3333333333333333, 0.333...</td>\n",
       "      <td>semanticDBLP_6accd6b8bdef57b1455d5bb6cdcc8c436...</td>\n",
       "      <td>92</td>\n",
       "      <td>,</td>\n",
       "    </tr>\n",
       "    <tr>\n",
       "      <th>22948</th>\n",
       "      <td>[0.3333333333333333, 0.3333333333333333, 0.333...</td>\n",
       "      <td>semanticDBLP_6accd6b8bdef57b1455d5bb6cdcc8c436...</td>\n",
       "      <td>93</td>\n",
       "      <td>research</td>\n",
       "    </tr>\n",
       "    <tr>\n",
       "      <th>22949</th>\n",
       "      <td>[0.3333333333333333, 0.3333333333333333, 0.333...</td>\n",
       "      <td>semanticDBLP_6accd6b8bdef57b1455d5bb6cdcc8c436...</td>\n",
       "      <td>94</td>\n",
       "      <td>products</td>\n",
       "    </tr>\n",
       "    <tr>\n",
       "      <th>22950</th>\n",
       "      <td>[0.5565563714814038, 0.36139655035929674, 0.08...</td>\n",
       "      <td>semanticDBLP_6accd6b8bdef57b1455d5bb6cdcc8c436...</td>\n",
       "      <td>95</td>\n",
       "      <td>,</td>\n",
       "    </tr>\n",
       "    <tr>\n",
       "      <th>22951</th>\n",
       "      <td>[0.7477934608465375, 0.20554263804084835, 0.04...</td>\n",
       "      <td>semanticDBLP_6accd6b8bdef57b1455d5bb6cdcc8c436...</td>\n",
       "      <td>96</td>\n",
       "      <td>and</td>\n",
       "    </tr>\n",
       "    <tr>\n",
       "      <th>22952</th>\n",
       "      <td>[0.5565563714814038, 0.36139655035929674, 0.08...</td>\n",
       "      <td>semanticDBLP_6accd6b8bdef57b1455d5bb6cdcc8c436...</td>\n",
       "      <td>97</td>\n",
       "      <td>standards</td>\n",
       "    </tr>\n",
       "    <tr>\n",
       "      <th>22953</th>\n",
       "      <td>[0.5565563714814038, 0.36139655035929674, 0.08...</td>\n",
       "      <td>semanticDBLP_6accd6b8bdef57b1455d5bb6cdcc8c436...</td>\n",
       "      <td>98</td>\n",
       "      <td>of</td>\n",
       "    </tr>\n",
       "    <tr>\n",
       "      <th>22954</th>\n",
       "      <td>[0.1561342134440276, 0.6877315731119448, 0.156...</td>\n",
       "      <td>semanticDBLP_6accd6b8bdef57b1455d5bb6cdcc8c436...</td>\n",
       "      <td>99</td>\n",
       "      <td>rigor</td>\n",
       "    </tr>\n",
       "    <tr>\n",
       "      <th>22955</th>\n",
       "      <td>[0.324114978744728, 0.5508310400967501, 0.1250...</td>\n",
       "      <td>semanticDBLP_6accd6b8bdef57b1455d5bb6cdcc8c436...</td>\n",
       "      <td>100</td>\n",
       "      <td>already</td>\n",
       "    </tr>\n",
       "    <tr>\n",
       "      <th>22956</th>\n",
       "      <td>[0.3333333333333333, 0.3333333333333333, 0.333...</td>\n",
       "      <td>semanticDBLP_6accd6b8bdef57b1455d5bb6cdcc8c436...</td>\n",
       "      <td>101</td>\n",
       "      <td>established</td>\n",
       "    </tr>\n",
       "    <tr>\n",
       "      <th>22957</th>\n",
       "      <td>[0.3333333333333333, 0.3333333333333333, 0.333...</td>\n",
       "      <td>semanticDBLP_6accd6b8bdef57b1455d5bb6cdcc8c436...</td>\n",
       "      <td>102</td>\n",
       "      <td>for</td>\n",
       "    </tr>\n",
       "    <tr>\n",
       "      <th>22958</th>\n",
       "      <td>[0.3333333333333333, 0.3333333333333333, 0.333...</td>\n",
       "      <td>semanticDBLP_6accd6b8bdef57b1455d5bb6cdcc8c436...</td>\n",
       "      <td>103</td>\n",
       "      <td>each</td>\n",
       "    </tr>\n",
       "    <tr>\n",
       "      <th>22959</th>\n",
       "      <td>[0.3333333333333333, 0.3333333333333333, 0.333...</td>\n",
       "      <td>semanticDBLP_6accd6b8bdef57b1455d5bb6cdcc8c436...</td>\n",
       "      <td>104</td>\n",
       "      <td>mode</td>\n",
       "    </tr>\n",
       "    <tr>\n",
       "      <th>22960</th>\n",
       "      <td>[0.3333333333333333, 0.3333333333333333, 0.333...</td>\n",
       "      <td>semanticDBLP_6accd6b8bdef57b1455d5bb6cdcc8c436...</td>\n",
       "      <td>105</td>\n",
       "      <td>.</td>\n",
       "    </tr>\n",
       "    <tr>\n",
       "      <th>22961</th>\n",
       "      <td>[0.3333333333333333, 0.3333333333333333, 0.333...</td>\n",
       "      <td>semanticDBLP_6accd6b8bdef57b1455d5bb6cdcc8c436...</td>\n",
       "      <td>106</td>\n",
       "      <td>There</td>\n",
       "    </tr>\n",
       "    <tr>\n",
       "      <th>22962</th>\n",
       "      <td>[0.3333333333333333, 0.3333333333333333, 0.333...</td>\n",
       "      <td>semanticDBLP_6accd6b8bdef57b1455d5bb6cdcc8c436...</td>\n",
       "      <td>107</td>\n",
       "      <td>is</td>\n",
       "    </tr>\n",
       "    <tr>\n",
       "      <th>22963</th>\n",
       "      <td>[0.3333333333333333, 0.3333333333333333, 0.333...</td>\n",
       "      <td>semanticDBLP_6accd6b8bdef57b1455d5bb6cdcc8c436...</td>\n",
       "      <td>108</td>\n",
       "      <td>,</td>\n",
       "    </tr>\n",
       "    <tr>\n",
       "      <th>22964</th>\n",
       "      <td>[0.3333333333333333, 0.3333333333333333, 0.333...</td>\n",
       "      <td>semanticDBLP_6accd6b8bdef57b1455d5bb6cdcc8c436...</td>\n",
       "      <td>109</td>\n",
       "      <td>moreover</td>\n",
       "    </tr>\n",
       "    <tr>\n",
       "      <th>22965</th>\n",
       "      <td>[0.3333333333333333, 0.3333333333333333, 0.333...</td>\n",
       "      <td>semanticDBLP_6accd6b8bdef57b1455d5bb6cdcc8c436...</td>\n",
       "      <td>110</td>\n",
       "      <td>,</td>\n",
       "    </tr>\n",
       "    <tr>\n",
       "      <th>22966</th>\n",
       "      <td>[0.3333333333333333, 0.3333333333333333, 0.333...</td>\n",
       "      <td>semanticDBLP_6accd6b8bdef57b1455d5bb6cdcc8c436...</td>\n",
       "      <td>111</td>\n",
       "      <td>a</td>\n",
       "    </tr>\n",
       "    <tr>\n",
       "      <th>22967</th>\n",
       "      <td>[0.3333333333333333, 0.3333333333333333, 0.333...</td>\n",
       "      <td>semanticDBLP_6accd6b8bdef57b1455d5bb6cdcc8c436...</td>\n",
       "      <td>112</td>\n",
       "      <td>synergy</td>\n",
       "    </tr>\n",
       "    <tr>\n",
       "      <th>22968</th>\n",
       "      <td>[0.3333333333333333, 0.3333333333333333, 0.333...</td>\n",
       "      <td>semanticDBLP_6accd6b8bdef57b1455d5bb6cdcc8c436...</td>\n",
       "      <td>113</td>\n",
       "      <td>among</td>\n",
       "    </tr>\n",
       "    <tr>\n",
       "      <th>22969</th>\n",
       "      <td>[0.3333333333333333, 0.3333333333333333, 0.333...</td>\n",
       "      <td>semanticDBLP_6accd6b8bdef57b1455d5bb6cdcc8c436...</td>\n",
       "      <td>114</td>\n",
       "      <td>the</td>\n",
       "    </tr>\n",
       "    <tr>\n",
       "      <th>22970</th>\n",
       "      <td>[0.3333333333333333, 0.3333333333333333, 0.333...</td>\n",
       "      <td>semanticDBLP_6accd6b8bdef57b1455d5bb6cdcc8c436...</td>\n",
       "      <td>115</td>\n",
       "      <td>modes</td>\n",
       "    </tr>\n",
       "    <tr>\n",
       "      <th>22971</th>\n",
       "      <td>[0.3333333333333333, 0.3333333333333333, 0.333...</td>\n",
       "      <td>semanticDBLP_6accd6b8bdef57b1455d5bb6cdcc8c436...</td>\n",
       "      <td>116</td>\n",
       "      <td>that</td>\n",
       "    </tr>\n",
       "    <tr>\n",
       "      <th>22972</th>\n",
       "      <td>[0.3333333333333333, 0.3333333333333333, 0.333...</td>\n",
       "      <td>semanticDBLP_6accd6b8bdef57b1455d5bb6cdcc8c436...</td>\n",
       "      <td>117</td>\n",
       "      <td>can</td>\n",
       "    </tr>\n",
       "    <tr>\n",
       "      <th>22973</th>\n",
       "      <td>[0.3333333333333333, 0.3333333333333333, 0.333...</td>\n",
       "      <td>semanticDBLP_6accd6b8bdef57b1455d5bb6cdcc8c436...</td>\n",
       "      <td>118</td>\n",
       "      <td>only</td>\n",
       "    </tr>\n",
       "    <tr>\n",
       "      <th>22974</th>\n",
       "      <td>[0.3333333333333333, 0.3333333333333333, 0.333...</td>\n",
       "      <td>semanticDBLP_6accd6b8bdef57b1455d5bb6cdcc8c436...</td>\n",
       "      <td>119</td>\n",
       "      <td>be</td>\n",
       "    </tr>\n",
       "    <tr>\n",
       "      <th>22975</th>\n",
       "      <td>[0.3333333333333333, 0.3333333333333333, 0.333...</td>\n",
       "      <td>semanticDBLP_6accd6b8bdef57b1455d5bb6cdcc8c436...</td>\n",
       "      <td>120</td>\n",
       "      <td>realized</td>\n",
       "    </tr>\n",
       "    <tr>\n",
       "      <th>22976</th>\n",
       "      <td>[0.3333333333333333, 0.3333333333333333, 0.333...</td>\n",
       "      <td>semanticDBLP_6accd6b8bdef57b1455d5bb6cdcc8c436...</td>\n",
       "      <td>121</td>\n",
       "      <td>when</td>\n",
       "    </tr>\n",
       "    <tr>\n",
       "      <th>22977</th>\n",
       "      <td>[0.3333333333333333, 0.3333333333333333, 0.333...</td>\n",
       "      <td>semanticDBLP_6accd6b8bdef57b1455d5bb6cdcc8c436...</td>\n",
       "      <td>122</td>\n",
       "      <td>all</td>\n",
       "    </tr>\n",
       "    <tr>\n",
       "      <th>22978</th>\n",
       "      <td>[0.3333333333333333, 0.3333333333333333, 0.333...</td>\n",
       "      <td>semanticDBLP_6accd6b8bdef57b1455d5bb6cdcc8c436...</td>\n",
       "      <td>123</td>\n",
       "      <td>four</td>\n",
       "    </tr>\n",
       "    <tr>\n",
       "      <th>22979</th>\n",
       "      <td>[0.3333333333333333, 0.3333333333333333, 0.333...</td>\n",
       "      <td>semanticDBLP_6accd6b8bdef57b1455d5bb6cdcc8c436...</td>\n",
       "      <td>124</td>\n",
       "      <td>are</td>\n",
       "    </tr>\n",
       "    <tr>\n",
       "      <th>22980</th>\n",
       "      <td>[0.3333333333333333, 0.3333333333333333, 0.333...</td>\n",
       "      <td>semanticDBLP_6accd6b8bdef57b1455d5bb6cdcc8c436...</td>\n",
       "      <td>125</td>\n",
       "      <td>brought</td>\n",
       "    </tr>\n",
       "    <tr>\n",
       "      <th>22981</th>\n",
       "      <td>[0.3333333333333333, 0.3333333333333333, 0.333...</td>\n",
       "      <td>semanticDBLP_6accd6b8bdef57b1455d5bb6cdcc8c436...</td>\n",
       "      <td>126</td>\n",
       "      <td>to</td>\n",
       "    </tr>\n",
       "    <tr>\n",
       "      <th>22982</th>\n",
       "      <td>[0.3333333333333333, 0.3333333333333333, 0.333...</td>\n",
       "      <td>semanticDBLP_6accd6b8bdef57b1455d5bb6cdcc8c436...</td>\n",
       "      <td>127</td>\n",
       "      <td>bear</td>\n",
       "    </tr>\n",
       "    <tr>\n",
       "      <th>22983</th>\n",
       "      <td>[0.3333333333333333, 0.3333333333333333, 0.333...</td>\n",
       "      <td>semanticDBLP_6accd6b8bdef57b1455d5bb6cdcc8c436...</td>\n",
       "      <td>128</td>\n",
       "      <td>,</td>\n",
       "    </tr>\n",
       "    <tr>\n",
       "      <th>22984</th>\n",
       "      <td>[0.3333333333333333, 0.3333333333333333, 0.333...</td>\n",
       "      <td>semanticDBLP_6accd6b8bdef57b1455d5bb6cdcc8c436...</td>\n",
       "      <td>129</td>\n",
       "      <td>because</td>\n",
       "    </tr>\n",
       "    <tr>\n",
       "      <th>22985</th>\n",
       "      <td>[0.3333333333333333, 0.3333333333333333, 0.333...</td>\n",
       "      <td>semanticDBLP_6accd6b8bdef57b1455d5bb6cdcc8c436...</td>\n",
       "      <td>130</td>\n",
       "      <td>each</td>\n",
       "    </tr>\n",
       "    <tr>\n",
       "      <th>22986</th>\n",
       "      <td>[0.3333333333333333, 0.3333333333333333, 0.333...</td>\n",
       "      <td>semanticDBLP_6accd6b8bdef57b1455d5bb6cdcc8c436...</td>\n",
       "      <td>131</td>\n",
       "      <td>informs</td>\n",
       "    </tr>\n",
       "    <tr>\n",
       "      <th>22987</th>\n",
       "      <td>[0.3333333333333333, 0.3333333333333333, 0.333...</td>\n",
       "      <td>semanticDBLP_6accd6b8bdef57b1455d5bb6cdcc8c436...</td>\n",
       "      <td>132</td>\n",
       "      <td>the</td>\n",
       "    </tr>\n",
       "    <tr>\n",
       "      <th>22988</th>\n",
       "      <td>[0.3333333333333333, 0.3333333333333333, 0.333...</td>\n",
       "      <td>semanticDBLP_6accd6b8bdef57b1455d5bb6cdcc8c436...</td>\n",
       "      <td>133</td>\n",
       "      <td>other</td>\n",
       "    </tr>\n",
       "    <tr>\n",
       "      <th>22989</th>\n",
       "      <td>[0.3333333333333333, 0.3333333333333333, 0.333...</td>\n",
       "      <td>semanticDBLP_6accd6b8bdef57b1455d5bb6cdcc8c436...</td>\n",
       "      <td>134</td>\n",
       "      <td>three</td>\n",
       "    </tr>\n",
       "    <tr>\n",
       "      <th>22990</th>\n",
       "      <td>[0.3333333333333333, 0.3333333333333333, 0.333...</td>\n",
       "      <td>semanticDBLP_6accd6b8bdef57b1455d5bb6cdcc8c436...</td>\n",
       "      <td>135</td>\n",
       "      <td>.</td>\n",
       "    </tr>\n",
       "    <tr>\n",
       "      <th>22991</th>\n",
       "      <td>[0.3333333333333333, 0.3333333333333333, 0.333...</td>\n",
       "      <td>semanticDBLP_6accd6b8bdef57b1455d5bb6cdcc8c436...</td>\n",
       "      <td>136</td>\n",
       "      <td>To</td>\n",
       "    </tr>\n",
       "    <tr>\n",
       "      <th>22992</th>\n",
       "      <td>[0.3333333333333333, 0.3333333333333333, 0.333...</td>\n",
       "      <td>semanticDBLP_6accd6b8bdef57b1455d5bb6cdcc8c436...</td>\n",
       "      <td>137</td>\n",
       "      <td>exclude</td>\n",
       "    </tr>\n",
       "    <tr>\n",
       "      <th>22993</th>\n",
       "      <td>[0.3333333333333333, 0.3333333333333333, 0.333...</td>\n",
       "      <td>semanticDBLP_6accd6b8bdef57b1455d5bb6cdcc8c436...</td>\n",
       "      <td>138</td>\n",
       "      <td>any</td>\n",
       "    </tr>\n",
       "    <tr>\n",
       "      <th>22994</th>\n",
       "      <td>[0.3333333333333333, 0.3333333333333333, 0.333...</td>\n",
       "      <td>semanticDBLP_6accd6b8bdef57b1455d5bb6cdcc8c436...</td>\n",
       "      <td>139</td>\n",
       "      <td>mode</td>\n",
       "    </tr>\n",
       "    <tr>\n",
       "      <th>22995</th>\n",
       "      <td>[0.3333333333333333, 0.3333333333333333, 0.333...</td>\n",
       "      <td>semanticDBLP_6accd6b8bdef57b1455d5bb6cdcc8c436...</td>\n",
       "      <td>140</td>\n",
       "      <td>of</td>\n",
       "    </tr>\n",
       "    <tr>\n",
       "      <th>22996</th>\n",
       "      <td>[0.3333333333333333, 0.3333333333333333, 0.333...</td>\n",
       "      <td>semanticDBLP_6accd6b8bdef57b1455d5bb6cdcc8c436...</td>\n",
       "      <td>141</td>\n",
       "      <td>inquiry</td>\n",
       "    </tr>\n",
       "    <tr>\n",
       "      <th>22997</th>\n",
       "      <td>[0.3333333333333333, 0.3333333333333333, 0.333...</td>\n",
       "      <td>semanticDBLP_6accd6b8bdef57b1455d5bb6cdcc8c436...</td>\n",
       "      <td>142</td>\n",
       "      <td>from</td>\n",
       "    </tr>\n",
       "    <tr>\n",
       "      <th>22998</th>\n",
       "      <td>[0.3333333333333333, 0.3333333333333333, 0.333...</td>\n",
       "      <td>semanticDBLP_6accd6b8bdef57b1455d5bb6cdcc8c436...</td>\n",
       "      <td>143</td>\n",
       "      <td>DSR</td>\n",
       "    </tr>\n",
       "    <tr>\n",
       "      <th>22999</th>\n",
       "      <td>[0.3333333333333333, 0.3333333333333333, 0.333...</td>\n",
       "      <td>semanticDBLP_6accd6b8bdef57b1455d5bb6cdcc8c436...</td>\n",
       "      <td>144</td>\n",
       "      <td>,</td>\n",
       "    </tr>\n",
       "    <tr>\n",
       "      <th>23000</th>\n",
       "      <td>[0.3333333333333333, 0.3333333333333333, 0.333...</td>\n",
       "      <td>semanticDBLP_6accd6b8bdef57b1455d5bb6cdcc8c436...</td>\n",
       "      <td>145</td>\n",
       "      <td>therefore</td>\n",
       "    </tr>\n",
       "    <tr>\n",
       "      <th>23001</th>\n",
       "      <td>[0.3333333333333333, 0.3333333333333333, 0.333...</td>\n",
       "      <td>semanticDBLP_6accd6b8bdef57b1455d5bb6cdcc8c436...</td>\n",
       "      <td>146</td>\n",
       "      <td>,</td>\n",
       "    </tr>\n",
       "    <tr>\n",
       "      <th>23002</th>\n",
       "      <td>[0.3333333333333333, 0.3333333333333333, 0.333...</td>\n",
       "      <td>semanticDBLP_6accd6b8bdef57b1455d5bb6cdcc8c436...</td>\n",
       "      <td>147</td>\n",
       "      <td>is</td>\n",
       "    </tr>\n",
       "    <tr>\n",
       "      <th>23003</th>\n",
       "      <td>[0.3333333333333333, 0.3333333333333333, 0.333...</td>\n",
       "      <td>semanticDBLP_6accd6b8bdef57b1455d5bb6cdcc8c436...</td>\n",
       "      <td>148</td>\n",
       "      <td>to</td>\n",
       "    </tr>\n",
       "    <tr>\n",
       "      <th>23004</th>\n",
       "      <td>[0.3333333333333333, 0.3333333333333333, 0.333...</td>\n",
       "      <td>semanticDBLP_6accd6b8bdef57b1455d5bb6cdcc8c436...</td>\n",
       "      <td>149</td>\n",
       "      <td>impoverish</td>\n",
       "    </tr>\n",
       "    <tr>\n",
       "      <th>23005</th>\n",
       "      <td>[0.3333333333333333, 0.3333333333333333, 0.333...</td>\n",
       "      <td>semanticDBLP_6accd6b8bdef57b1455d5bb6cdcc8c436...</td>\n",
       "      <td>150</td>\n",
       "      <td>knowledge</td>\n",
       "    </tr>\n",
       "    <tr>\n",
       "      <th>23006</th>\n",
       "      <td>[0.3333333333333333, 0.3333333333333333, 0.333...</td>\n",
       "      <td>semanticDBLP_6accd6b8bdef57b1455d5bb6cdcc8c436...</td>\n",
       "      <td>151</td>\n",
       "      <td>about</td>\n",
       "    </tr>\n",
       "    <tr>\n",
       "      <th>23007</th>\n",
       "      <td>[0.3333333333333333, 0.3333333333333333, 0.333...</td>\n",
       "      <td>semanticDBLP_6accd6b8bdef57b1455d5bb6cdcc8c436...</td>\n",
       "      <td>152</td>\n",
       "      <td>its</td>\n",
       "    </tr>\n",
       "    <tr>\n",
       "      <th>23008</th>\n",
       "      <td>[0.3333333333333333, 0.3333333333333333, 0.333...</td>\n",
       "      <td>semanticDBLP_6accd6b8bdef57b1455d5bb6cdcc8c436...</td>\n",
       "      <td>153</td>\n",
       "      <td>objects</td>\n",
       "    </tr>\n",
       "    <tr>\n",
       "      <th>23009</th>\n",
       "      <td>[0.3333333333333333, 0.3333333333333333, 0.333...</td>\n",
       "      <td>semanticDBLP_6accd6b8bdef57b1455d5bb6cdcc8c436...</td>\n",
       "      <td>154</td>\n",
       "      <td>of</td>\n",
       "    </tr>\n",
       "    <tr>\n",
       "      <th>23010</th>\n",
       "      <td>[0.3333333333333333, 0.3333333333333333, 0.333...</td>\n",
       "      <td>semanticDBLP_6accd6b8bdef57b1455d5bb6cdcc8c436...</td>\n",
       "      <td>155</td>\n",
       "      <td>inquiry</td>\n",
       "    </tr>\n",
       "    <tr>\n",
       "      <th>23011</th>\n",
       "      <td>[0.3333333333333333, 0.3333333333333333, 0.333...</td>\n",
       "      <td>semanticDBLP_6accd6b8bdef57b1455d5bb6cdcc8c436...</td>\n",
       "      <td>156</td>\n",
       "      <td>.</td>\n",
       "    </tr>\n",
       "    <tr>\n",
       "      <th>23012</th>\n",
       "      <td>[0.3333333333333333, 0.3333333333333333, 0.333...</td>\n",
       "      <td>semanticDBLP_6accd6b8bdef57b1455d5bb6cdcc8c436...</td>\n",
       "      <td>157</td>\n",
       "      <td>Based</td>\n",
       "    </tr>\n",
       "    <tr>\n",
       "      <th>23013</th>\n",
       "      <td>[0.3333333333333333, 0.3333333333333333, 0.333...</td>\n",
       "      <td>semanticDBLP_6accd6b8bdef57b1455d5bb6cdcc8c436...</td>\n",
       "      <td>158</td>\n",
       "      <td>on</td>\n",
       "    </tr>\n",
       "    <tr>\n",
       "      <th>23014</th>\n",
       "      <td>[0.3333333333333333, 0.3333333333333333, 0.333...</td>\n",
       "      <td>semanticDBLP_6accd6b8bdef57b1455d5bb6cdcc8c436...</td>\n",
       "      <td>159</td>\n",
       "      <td>these</td>\n",
       "    </tr>\n",
       "    <tr>\n",
       "      <th>23015</th>\n",
       "      <td>[0.3333333333333333, 0.3333333333333333, 0.333...</td>\n",
       "      <td>semanticDBLP_6accd6b8bdef57b1455d5bb6cdcc8c436...</td>\n",
       "      <td>160</td>\n",
       "      <td>insights</td>\n",
       "    </tr>\n",
       "    <tr>\n",
       "      <th>23016</th>\n",
       "      <td>[0.8904187439434624, 0.054790628028268756, 0.0...</td>\n",
       "      <td>semanticDBLP_6accd6b8bdef57b1455d5bb6cdcc8c436...</td>\n",
       "      <td>161</td>\n",
       "      <td>,</td>\n",
       "    </tr>\n",
       "    <tr>\n",
       "      <th>23017</th>\n",
       "      <td>[0.8904187439434624, 0.054790628028268756, 0.0...</td>\n",
       "      <td>semanticDBLP_6accd6b8bdef57b1455d5bb6cdcc8c436...</td>\n",
       "      <td>162</td>\n",
       "      <td>we</td>\n",
       "    </tr>\n",
       "    <tr>\n",
       "      <th>23018</th>\n",
       "      <td>[0.5415374243419658, 0.22923128782901706, 0.22...</td>\n",
       "      <td>semanticDBLP_6accd6b8bdef57b1455d5bb6cdcc8c436...</td>\n",
       "      <td>163</td>\n",
       "      <td>propose</td>\n",
       "    </tr>\n",
       "    <tr>\n",
       "      <th>23019</th>\n",
       "      <td>[0.3333333333333333, 0.3333333333333333, 0.333...</td>\n",
       "      <td>semanticDBLP_6accd6b8bdef57b1455d5bb6cdcc8c436...</td>\n",
       "      <td>164</td>\n",
       "      <td>a</td>\n",
       "    </tr>\n",
       "    <tr>\n",
       "      <th>23020</th>\n",
       "      <td>[0.3333333333333333, 0.3333333333333333, 0.333...</td>\n",
       "      <td>semanticDBLP_6accd6b8bdef57b1455d5bb6cdcc8c436...</td>\n",
       "      <td>165</td>\n",
       "      <td>modified</td>\n",
       "    </tr>\n",
       "    <tr>\n",
       "      <th>23021</th>\n",
       "      <td>[0.3333333333333333, 0.3333333333333333, 0.333...</td>\n",
       "      <td>semanticDBLP_6accd6b8bdef57b1455d5bb6cdcc8c436...</td>\n",
       "      <td>166</td>\n",
       "      <td>Cycles</td>\n",
       "    </tr>\n",
       "    <tr>\n",
       "      <th>23022</th>\n",
       "      <td>[0.3333333333333333, 0.3333333333333333, 0.333...</td>\n",
       "      <td>semanticDBLP_6accd6b8bdef57b1455d5bb6cdcc8c436...</td>\n",
       "      <td>167</td>\n",
       "      <td>Model</td>\n",
       "    </tr>\n",
       "    <tr>\n",
       "      <th>23023</th>\n",
       "      <td>[0.3333333333333333, 0.3333333333333333, 0.333...</td>\n",
       "      <td>semanticDBLP_6accd6b8bdef57b1455d5bb6cdcc8c436...</td>\n",
       "      <td>168</td>\n",
       "      <td>for</td>\n",
       "    </tr>\n",
       "    <tr>\n",
       "      <th>23024</th>\n",
       "      <td>[0.3333333333333333, 0.3333333333333333, 0.333...</td>\n",
       "      <td>semanticDBLP_6accd6b8bdef57b1455d5bb6cdcc8c436...</td>\n",
       "      <td>169</td>\n",
       "      <td>DSR</td>\n",
       "    </tr>\n",
       "    <tr>\n",
       "      <th>23025</th>\n",
       "      <td>[0.3333333333333333, 0.3333333333333333, 0.333...</td>\n",
       "      <td>semanticDBLP_6accd6b8bdef57b1455d5bb6cdcc8c436...</td>\n",
       "      <td>170</td>\n",
       "      <td>realized</td>\n",
       "    </tr>\n",
       "    <tr>\n",
       "      <th>23026</th>\n",
       "      <td>[0.7747526735488279, 0.11262366322558603, 0.11...</td>\n",
       "      <td>semanticDBLP_6accd6b8bdef57b1455d5bb6cdcc8c436...</td>\n",
       "      <td>171</td>\n",
       "      <td>under</td>\n",
       "    </tr>\n",
       "    <tr>\n",
       "      <th>23027</th>\n",
       "      <td>[0.3333333333333333, 0.3333333333333333, 0.333...</td>\n",
       "      <td>semanticDBLP_6accd6b8bdef57b1455d5bb6cdcc8c436...</td>\n",
       "      <td>172</td>\n",
       "      <td>the</td>\n",
       "    </tr>\n",
       "    <tr>\n",
       "      <th>23028</th>\n",
       "      <td>[0.3333333333333333, 0.3333333333333333, 0.333...</td>\n",
       "      <td>semanticDBLP_6accd6b8bdef57b1455d5bb6cdcc8c436...</td>\n",
       "      <td>173</td>\n",
       "      <td>disciplines</td>\n",
       "    </tr>\n",
       "    <tr>\n",
       "      <th>23029</th>\n",
       "      <td>[0.3333333333333333, 0.3333333333333333, 0.333...</td>\n",
       "      <td>semanticDBLP_6accd6b8bdef57b1455d5bb6cdcc8c436...</td>\n",
       "      <td>174</td>\n",
       "      <td>of</td>\n",
       "    </tr>\n",
       "    <tr>\n",
       "      <th>23030</th>\n",
       "      <td>[0.3333333333333333, 0.3333333333333333, 0.333...</td>\n",
       "      <td>semanticDBLP_6accd6b8bdef57b1455d5bb6cdcc8c436...</td>\n",
       "      <td>175</td>\n",
       "      <td>the</td>\n",
       "    </tr>\n",
       "    <tr>\n",
       "      <th>23031</th>\n",
       "      <td>[0.3333333333333333, 0.3333333333333333, 0.333...</td>\n",
       "      <td>semanticDBLP_6accd6b8bdef57b1455d5bb6cdcc8c436...</td>\n",
       "      <td>176</td>\n",
       "      <td>four</td>\n",
       "    </tr>\n",
       "    <tr>\n",
       "      <th>23032</th>\n",
       "      <td>[0.3333333333333333, 0.3333333333333333, 0.333...</td>\n",
       "      <td>semanticDBLP_6accd6b8bdef57b1455d5bb6cdcc8c436...</td>\n",
       "      <td>177</td>\n",
       "      <td>modes</td>\n",
       "    </tr>\n",
       "    <tr>\n",
       "      <th>23033</th>\n",
       "      <td>[0.3333333333333333, 0.3333333333333333, 0.333...</td>\n",
       "      <td>semanticDBLP_6accd6b8bdef57b1455d5bb6cdcc8c436...</td>\n",
       "      <td>178</td>\n",
       "      <td>of</td>\n",
       "    </tr>\n",
       "    <tr>\n",
       "      <th>23034</th>\n",
       "      <td>[0.3333333333333333, 0.3333333333333333, 0.333...</td>\n",
       "      <td>semanticDBLP_6accd6b8bdef57b1455d5bb6cdcc8c436...</td>\n",
       "      <td>179</td>\n",
       "      <td>scientific</td>\n",
       "    </tr>\n",
       "    <tr>\n",
       "      <th>23035</th>\n",
       "      <td>[0.3333333333333333, 0.3333333333333333, 0.333...</td>\n",
       "      <td>semanticDBLP_6accd6b8bdef57b1455d5bb6cdcc8c436...</td>\n",
       "      <td>180</td>\n",
       "      <td>inquiry</td>\n",
       "    </tr>\n",
       "    <tr>\n",
       "      <th>23036</th>\n",
       "      <td>[0.7747526735488279, 0.11262366322558603, 0.11...</td>\n",
       "      <td>semanticDBLP_6accd6b8bdef57b1455d5bb6cdcc8c436...</td>\n",
       "      <td>181</td>\n",
       "      <td>.</td>\n",
       "    </tr>\n",
       "    <tr>\n",
       "      <th>23037</th>\n",
       "      <td>[0.3333333333333333, 0.3333333333333333, 0.333...</td>\n",
       "      <td>semanticDBLP_6accd6b8bdef57b1455d5bb6cdcc8c436...</td>\n",
       "      <td>182</td>\n",
       "      <td>\\n</td>\n",
       "    </tr>\n",
       "  </tbody>\n",
       "</table>\n",
       "</div>"
      ],
      "text/plain": [
       "                                        winningHighlight  \\\n",
       "22856  [0.9000218378642625, 0.04998908106786876, 0.04...   \n",
       "22857  [0.3333333333333333, 0.3333333333333333, 0.333...   \n",
       "22858  [0.3333333333333333, 0.3333333333333333, 0.333...   \n",
       "22859  [0.5565563714814038, 0.36139655035929674, 0.08...   \n",
       "22860  [0.9000218378642625, 0.04998908106786876, 0.04...   \n",
       "22861  [0.3333333333333333, 0.3333333333333333, 0.333...   \n",
       "22862  [0.7747526735488279, 0.11262366322558603, 0.11...   \n",
       "22863  [0.566841311319671, 0.21657934434016446, 0.216...   \n",
       "22864  [0.566841311319671, 0.21657934434016446, 0.216...   \n",
       "22865  [0.3333333333333333, 0.3333333333333333, 0.333...   \n",
       "22866  [0.9000218378642625, 0.04998908106786876, 0.04...   \n",
       "22867  [0.9000218378642625, 0.04998908106786876, 0.04...   \n",
       "22868  [0.6865975157774757, 0.09980879063539361, 0.21...   \n",
       "22869  [0.3333333333333333, 0.3333333333333333, 0.333...   \n",
       "22870  [0.6865975157774757, 0.09980879063539361, 0.21...   \n",
       "22871  [0.3333333333333333, 0.3333333333333333, 0.333...   \n",
       "22872  [0.044245243824894614, 0.9115095123502108, 0.0...   \n",
       "22873  [0.14976632363962003, 0.7004673527207599, 0.14...   \n",
       "22874  [0.3333333333333333, 0.3333333333333333, 0.333...   \n",
       "22875  [0.9000218378642625, 0.04998908106786876, 0.04...   \n",
       "22876  [0.566841311319671, 0.21657934434016446, 0.216...   \n",
       "22877  [0.9550901220771066, 0.02245493896144668, 0.02...   \n",
       "22878  [0.7555907713663789, 0.12220461431681057, 0.12...   \n",
       "22879  [0.3333333333333333, 0.3333333333333333, 0.333...   \n",
       "22880  [0.9000218378642625, 0.04998908106786876, 0.04...   \n",
       "22881  [0.3333333333333333, 0.3333333333333333, 0.333...   \n",
       "22882  [0.3333333333333333, 0.3333333333333333, 0.333...   \n",
       "22883  [0.3333333333333333, 0.3333333333333333, 0.333...   \n",
       "22884  [0.324114978744728, 0.5508310400967501, 0.1250...   \n",
       "22885  [0.8930433842707538, 0.08716722820391926, 0.01...   \n",
       "22886  [0.566841311319671, 0.21657934434016446, 0.216...   \n",
       "22887  [0.9000218378642625, 0.04998908106786876, 0.04...   \n",
       "22888  [0.9000218378642625, 0.04998908106786876, 0.04...   \n",
       "22889  [0.566841311319671, 0.21657934434016446, 0.216...   \n",
       "22890  [0.9000218378642625, 0.04998908106786876, 0.04...   \n",
       "22891  [0.566841311319671, 0.21657934434016446, 0.216...   \n",
       "22892  [0.3333333333333333, 0.3333333333333333, 0.333...   \n",
       "22893  [0.3333333333333333, 0.3333333333333333, 0.333...   \n",
       "22894  [0.6865975157774757, 0.09980879063539361, 0.21...   \n",
       "22895  [0.3333333333333333, 0.3333333333333333, 0.333...   \n",
       "22896  [0.566841311319671, 0.21657934434016446, 0.216...   \n",
       "22897  [0.9000218378642625, 0.04998908106786876, 0.04...   \n",
       "22898  [0.9000218378642625, 0.04998908106786876, 0.04...   \n",
       "22899  [0.9000218378642625, 0.04998908106786876, 0.04...   \n",
       "22900  [0.9000218378642625, 0.04998908106786876, 0.04...   \n",
       "22901  [0.9000218378642625, 0.04998908106786876, 0.04...   \n",
       "22902  [0.6865975157774757, 0.09980879063539361, 0.21...   \n",
       "22903  [0.3333333333333333, 0.3333333333333333, 0.333...   \n",
       "22904  [0.3333333333333333, 0.3333333333333333, 0.333...   \n",
       "22905  [0.5565563714814038, 0.36139655035929674, 0.08...   \n",
       "22906  [0.1561342134440276, 0.6877315731119448, 0.156...   \n",
       "22907  [0.9000218378642625, 0.04998908106786876, 0.04...   \n",
       "22908  [0.9000218378642625, 0.04998908106786876, 0.04...   \n",
       "22909  [0.9550901220771066, 0.02245493896144668, 0.02...   \n",
       "22910  [0.566841311319671, 0.21657934434016446, 0.216...   \n",
       "22911  [0.9000218378642625, 0.04998908106786876, 0.04...   \n",
       "22912  [0.9000218378642625, 0.04998908106786876, 0.04...   \n",
       "22913  [0.566841311319671, 0.21657934434016446, 0.216...   \n",
       "22914  [0.9000218378642625, 0.04998908106786876, 0.04...   \n",
       "22915  [0.566841311319671, 0.21657934434016446, 0.216...   \n",
       "22916  [0.7794615283091949, 0.17973387768999366, 0.04...   \n",
       "22917  [0.5565563714814038, 0.36139655035929674, 0.08...   \n",
       "22918  [0.1561342134440276, 0.6877315731119448, 0.156...   \n",
       "22919  [0.3333333333333333, 0.3333333333333333, 0.333...   \n",
       "22920  [0.3333333333333333, 0.3333333333333333, 0.333...   \n",
       "22921  [0.7794615283091949, 0.17973387768999366, 0.04...   \n",
       "22922  [0.1561342134440276, 0.6877315731119448, 0.156...   \n",
       "22923  [0.5565563714814038, 0.36139655035929674, 0.08...   \n",
       "22924  [0.5565563714814038, 0.36139655035929674, 0.08...   \n",
       "22925  [0.5565563714814038, 0.36139655035929674, 0.08...   \n",
       "22926  [0.5565563714814038, 0.36139655035929674, 0.08...   \n",
       "22927  [0.3333333333333333, 0.3333333333333333, 0.333...   \n",
       "22928  [0.1561342134440276, 0.6877315731119448, 0.156...   \n",
       "22929  [0.1561342134440276, 0.6877315731119448, 0.156...   \n",
       "22930  [0.1561342134440276, 0.6877315731119448, 0.156...   \n",
       "22931  [0.1561342134440276, 0.6877315731119448, 0.156...   \n",
       "22932  [0.8930433842707538, 0.08716722820391926, 0.01...   \n",
       "22933  [0.8930433842707538, 0.08716722820391926, 0.01...   \n",
       "22934  [0.3333333333333333, 0.3333333333333333, 0.333...   \n",
       "22935  [0.3333333333333333, 0.3333333333333333, 0.333...   \n",
       "22936  [0.3333333333333333, 0.3333333333333333, 0.333...   \n",
       "22937  [0.3333333333333333, 0.3333333333333333, 0.333...   \n",
       "22938  [0.1561342134440276, 0.6877315731119448, 0.156...   \n",
       "22939  [0.1561342134440276, 0.6877315731119448, 0.156...   \n",
       "22940  [0.8930433842707538, 0.08716722820391926, 0.01...   \n",
       "22941  [0.5565563714814038, 0.36139655035929674, 0.08...   \n",
       "22942  [0.1561342134440276, 0.6877315731119448, 0.156...   \n",
       "22943  [0.8930433842707538, 0.08716722820391926, 0.01...   \n",
       "22944  [0.3333333333333333, 0.3333333333333333, 0.333...   \n",
       "22945  [0.3333333333333333, 0.3333333333333333, 0.333...   \n",
       "22946  [0.3333333333333333, 0.3333333333333333, 0.333...   \n",
       "22947  [0.3333333333333333, 0.3333333333333333, 0.333...   \n",
       "22948  [0.3333333333333333, 0.3333333333333333, 0.333...   \n",
       "22949  [0.3333333333333333, 0.3333333333333333, 0.333...   \n",
       "22950  [0.5565563714814038, 0.36139655035929674, 0.08...   \n",
       "22951  [0.7477934608465375, 0.20554263804084835, 0.04...   \n",
       "22952  [0.5565563714814038, 0.36139655035929674, 0.08...   \n",
       "22953  [0.5565563714814038, 0.36139655035929674, 0.08...   \n",
       "22954  [0.1561342134440276, 0.6877315731119448, 0.156...   \n",
       "22955  [0.324114978744728, 0.5508310400967501, 0.1250...   \n",
       "22956  [0.3333333333333333, 0.3333333333333333, 0.333...   \n",
       "22957  [0.3333333333333333, 0.3333333333333333, 0.333...   \n",
       "22958  [0.3333333333333333, 0.3333333333333333, 0.333...   \n",
       "22959  [0.3333333333333333, 0.3333333333333333, 0.333...   \n",
       "22960  [0.3333333333333333, 0.3333333333333333, 0.333...   \n",
       "22961  [0.3333333333333333, 0.3333333333333333, 0.333...   \n",
       "22962  [0.3333333333333333, 0.3333333333333333, 0.333...   \n",
       "22963  [0.3333333333333333, 0.3333333333333333, 0.333...   \n",
       "22964  [0.3333333333333333, 0.3333333333333333, 0.333...   \n",
       "22965  [0.3333333333333333, 0.3333333333333333, 0.333...   \n",
       "22966  [0.3333333333333333, 0.3333333333333333, 0.333...   \n",
       "22967  [0.3333333333333333, 0.3333333333333333, 0.333...   \n",
       "22968  [0.3333333333333333, 0.3333333333333333, 0.333...   \n",
       "22969  [0.3333333333333333, 0.3333333333333333, 0.333...   \n",
       "22970  [0.3333333333333333, 0.3333333333333333, 0.333...   \n",
       "22971  [0.3333333333333333, 0.3333333333333333, 0.333...   \n",
       "22972  [0.3333333333333333, 0.3333333333333333, 0.333...   \n",
       "22973  [0.3333333333333333, 0.3333333333333333, 0.333...   \n",
       "22974  [0.3333333333333333, 0.3333333333333333, 0.333...   \n",
       "22975  [0.3333333333333333, 0.3333333333333333, 0.333...   \n",
       "22976  [0.3333333333333333, 0.3333333333333333, 0.333...   \n",
       "22977  [0.3333333333333333, 0.3333333333333333, 0.333...   \n",
       "22978  [0.3333333333333333, 0.3333333333333333, 0.333...   \n",
       "22979  [0.3333333333333333, 0.3333333333333333, 0.333...   \n",
       "22980  [0.3333333333333333, 0.3333333333333333, 0.333...   \n",
       "22981  [0.3333333333333333, 0.3333333333333333, 0.333...   \n",
       "22982  [0.3333333333333333, 0.3333333333333333, 0.333...   \n",
       "22983  [0.3333333333333333, 0.3333333333333333, 0.333...   \n",
       "22984  [0.3333333333333333, 0.3333333333333333, 0.333...   \n",
       "22985  [0.3333333333333333, 0.3333333333333333, 0.333...   \n",
       "22986  [0.3333333333333333, 0.3333333333333333, 0.333...   \n",
       "22987  [0.3333333333333333, 0.3333333333333333, 0.333...   \n",
       "22988  [0.3333333333333333, 0.3333333333333333, 0.333...   \n",
       "22989  [0.3333333333333333, 0.3333333333333333, 0.333...   \n",
       "22990  [0.3333333333333333, 0.3333333333333333, 0.333...   \n",
       "22991  [0.3333333333333333, 0.3333333333333333, 0.333...   \n",
       "22992  [0.3333333333333333, 0.3333333333333333, 0.333...   \n",
       "22993  [0.3333333333333333, 0.3333333333333333, 0.333...   \n",
       "22994  [0.3333333333333333, 0.3333333333333333, 0.333...   \n",
       "22995  [0.3333333333333333, 0.3333333333333333, 0.333...   \n",
       "22996  [0.3333333333333333, 0.3333333333333333, 0.333...   \n",
       "22997  [0.3333333333333333, 0.3333333333333333, 0.333...   \n",
       "22998  [0.3333333333333333, 0.3333333333333333, 0.333...   \n",
       "22999  [0.3333333333333333, 0.3333333333333333, 0.333...   \n",
       "23000  [0.3333333333333333, 0.3333333333333333, 0.333...   \n",
       "23001  [0.3333333333333333, 0.3333333333333333, 0.333...   \n",
       "23002  [0.3333333333333333, 0.3333333333333333, 0.333...   \n",
       "23003  [0.3333333333333333, 0.3333333333333333, 0.333...   \n",
       "23004  [0.3333333333333333, 0.3333333333333333, 0.333...   \n",
       "23005  [0.3333333333333333, 0.3333333333333333, 0.333...   \n",
       "23006  [0.3333333333333333, 0.3333333333333333, 0.333...   \n",
       "23007  [0.3333333333333333, 0.3333333333333333, 0.333...   \n",
       "23008  [0.3333333333333333, 0.3333333333333333, 0.333...   \n",
       "23009  [0.3333333333333333, 0.3333333333333333, 0.333...   \n",
       "23010  [0.3333333333333333, 0.3333333333333333, 0.333...   \n",
       "23011  [0.3333333333333333, 0.3333333333333333, 0.333...   \n",
       "23012  [0.3333333333333333, 0.3333333333333333, 0.333...   \n",
       "23013  [0.3333333333333333, 0.3333333333333333, 0.333...   \n",
       "23014  [0.3333333333333333, 0.3333333333333333, 0.333...   \n",
       "23015  [0.3333333333333333, 0.3333333333333333, 0.333...   \n",
       "23016  [0.8904187439434624, 0.054790628028268756, 0.0...   \n",
       "23017  [0.8904187439434624, 0.054790628028268756, 0.0...   \n",
       "23018  [0.5415374243419658, 0.22923128782901706, 0.22...   \n",
       "23019  [0.3333333333333333, 0.3333333333333333, 0.333...   \n",
       "23020  [0.3333333333333333, 0.3333333333333333, 0.333...   \n",
       "23021  [0.3333333333333333, 0.3333333333333333, 0.333...   \n",
       "23022  [0.3333333333333333, 0.3333333333333333, 0.333...   \n",
       "23023  [0.3333333333333333, 0.3333333333333333, 0.333...   \n",
       "23024  [0.3333333333333333, 0.3333333333333333, 0.333...   \n",
       "23025  [0.3333333333333333, 0.3333333333333333, 0.333...   \n",
       "23026  [0.7747526735488279, 0.11262366322558603, 0.11...   \n",
       "23027  [0.3333333333333333, 0.3333333333333333, 0.333...   \n",
       "23028  [0.3333333333333333, 0.3333333333333333, 0.333...   \n",
       "23029  [0.3333333333333333, 0.3333333333333333, 0.333...   \n",
       "23030  [0.3333333333333333, 0.3333333333333333, 0.333...   \n",
       "23031  [0.3333333333333333, 0.3333333333333333, 0.333...   \n",
       "23032  [0.3333333333333333, 0.3333333333333333, 0.333...   \n",
       "23033  [0.3333333333333333, 0.3333333333333333, 0.333...   \n",
       "23034  [0.3333333333333333, 0.3333333333333333, 0.333...   \n",
       "23035  [0.3333333333333333, 0.3333333333333333, 0.333...   \n",
       "23036  [0.7747526735488279, 0.11262366322558603, 0.11...   \n",
       "23037  [0.3333333333333333, 0.3333333333333333, 0.333...   \n",
       "\n",
       "                                                 paperID  globalPsn  \\\n",
       "22856  semanticDBLP_6accd6b8bdef57b1455d5bb6cdcc8c436...          1   \n",
       "22857  semanticDBLP_6accd6b8bdef57b1455d5bb6cdcc8c436...          2   \n",
       "22858  semanticDBLP_6accd6b8bdef57b1455d5bb6cdcc8c436...          3   \n",
       "22859  semanticDBLP_6accd6b8bdef57b1455d5bb6cdcc8c436...          4   \n",
       "22860  semanticDBLP_6accd6b8bdef57b1455d5bb6cdcc8c436...          5   \n",
       "22861  semanticDBLP_6accd6b8bdef57b1455d5bb6cdcc8c436...          6   \n",
       "22862  semanticDBLP_6accd6b8bdef57b1455d5bb6cdcc8c436...          7   \n",
       "22863  semanticDBLP_6accd6b8bdef57b1455d5bb6cdcc8c436...          8   \n",
       "22864  semanticDBLP_6accd6b8bdef57b1455d5bb6cdcc8c436...          9   \n",
       "22865  semanticDBLP_6accd6b8bdef57b1455d5bb6cdcc8c436...         10   \n",
       "22866  semanticDBLP_6accd6b8bdef57b1455d5bb6cdcc8c436...         11   \n",
       "22867  semanticDBLP_6accd6b8bdef57b1455d5bb6cdcc8c436...         12   \n",
       "22868  semanticDBLP_6accd6b8bdef57b1455d5bb6cdcc8c436...         13   \n",
       "22869  semanticDBLP_6accd6b8bdef57b1455d5bb6cdcc8c436...         14   \n",
       "22870  semanticDBLP_6accd6b8bdef57b1455d5bb6cdcc8c436...         15   \n",
       "22871  semanticDBLP_6accd6b8bdef57b1455d5bb6cdcc8c436...         16   \n",
       "22872  semanticDBLP_6accd6b8bdef57b1455d5bb6cdcc8c436...         17   \n",
       "22873  semanticDBLP_6accd6b8bdef57b1455d5bb6cdcc8c436...         18   \n",
       "22874  semanticDBLP_6accd6b8bdef57b1455d5bb6cdcc8c436...         19   \n",
       "22875  semanticDBLP_6accd6b8bdef57b1455d5bb6cdcc8c436...         20   \n",
       "22876  semanticDBLP_6accd6b8bdef57b1455d5bb6cdcc8c436...         21   \n",
       "22877  semanticDBLP_6accd6b8bdef57b1455d5bb6cdcc8c436...         22   \n",
       "22878  semanticDBLP_6accd6b8bdef57b1455d5bb6cdcc8c436...         23   \n",
       "22879  semanticDBLP_6accd6b8bdef57b1455d5bb6cdcc8c436...         24   \n",
       "22880  semanticDBLP_6accd6b8bdef57b1455d5bb6cdcc8c436...         25   \n",
       "22881  semanticDBLP_6accd6b8bdef57b1455d5bb6cdcc8c436...         26   \n",
       "22882  semanticDBLP_6accd6b8bdef57b1455d5bb6cdcc8c436...         27   \n",
       "22883  semanticDBLP_6accd6b8bdef57b1455d5bb6cdcc8c436...         28   \n",
       "22884  semanticDBLP_6accd6b8bdef57b1455d5bb6cdcc8c436...         29   \n",
       "22885  semanticDBLP_6accd6b8bdef57b1455d5bb6cdcc8c436...         30   \n",
       "22886  semanticDBLP_6accd6b8bdef57b1455d5bb6cdcc8c436...         31   \n",
       "22887  semanticDBLP_6accd6b8bdef57b1455d5bb6cdcc8c436...         32   \n",
       "22888  semanticDBLP_6accd6b8bdef57b1455d5bb6cdcc8c436...         33   \n",
       "22889  semanticDBLP_6accd6b8bdef57b1455d5bb6cdcc8c436...         34   \n",
       "22890  semanticDBLP_6accd6b8bdef57b1455d5bb6cdcc8c436...         35   \n",
       "22891  semanticDBLP_6accd6b8bdef57b1455d5bb6cdcc8c436...         36   \n",
       "22892  semanticDBLP_6accd6b8bdef57b1455d5bb6cdcc8c436...         37   \n",
       "22893  semanticDBLP_6accd6b8bdef57b1455d5bb6cdcc8c436...         38   \n",
       "22894  semanticDBLP_6accd6b8bdef57b1455d5bb6cdcc8c436...         39   \n",
       "22895  semanticDBLP_6accd6b8bdef57b1455d5bb6cdcc8c436...         40   \n",
       "22896  semanticDBLP_6accd6b8bdef57b1455d5bb6cdcc8c436...         41   \n",
       "22897  semanticDBLP_6accd6b8bdef57b1455d5bb6cdcc8c436...         42   \n",
       "22898  semanticDBLP_6accd6b8bdef57b1455d5bb6cdcc8c436...         43   \n",
       "22899  semanticDBLP_6accd6b8bdef57b1455d5bb6cdcc8c436...         44   \n",
       "22900  semanticDBLP_6accd6b8bdef57b1455d5bb6cdcc8c436...         45   \n",
       "22901  semanticDBLP_6accd6b8bdef57b1455d5bb6cdcc8c436...         46   \n",
       "22902  semanticDBLP_6accd6b8bdef57b1455d5bb6cdcc8c436...         47   \n",
       "22903  semanticDBLP_6accd6b8bdef57b1455d5bb6cdcc8c436...         48   \n",
       "22904  semanticDBLP_6accd6b8bdef57b1455d5bb6cdcc8c436...         49   \n",
       "22905  semanticDBLP_6accd6b8bdef57b1455d5bb6cdcc8c436...         50   \n",
       "22906  semanticDBLP_6accd6b8bdef57b1455d5bb6cdcc8c436...         51   \n",
       "22907  semanticDBLP_6accd6b8bdef57b1455d5bb6cdcc8c436...         52   \n",
       "22908  semanticDBLP_6accd6b8bdef57b1455d5bb6cdcc8c436...         53   \n",
       "22909  semanticDBLP_6accd6b8bdef57b1455d5bb6cdcc8c436...         54   \n",
       "22910  semanticDBLP_6accd6b8bdef57b1455d5bb6cdcc8c436...         55   \n",
       "22911  semanticDBLP_6accd6b8bdef57b1455d5bb6cdcc8c436...         56   \n",
       "22912  semanticDBLP_6accd6b8bdef57b1455d5bb6cdcc8c436...         57   \n",
       "22913  semanticDBLP_6accd6b8bdef57b1455d5bb6cdcc8c436...         58   \n",
       "22914  semanticDBLP_6accd6b8bdef57b1455d5bb6cdcc8c436...         59   \n",
       "22915  semanticDBLP_6accd6b8bdef57b1455d5bb6cdcc8c436...         60   \n",
       "22916  semanticDBLP_6accd6b8bdef57b1455d5bb6cdcc8c436...         61   \n",
       "22917  semanticDBLP_6accd6b8bdef57b1455d5bb6cdcc8c436...         62   \n",
       "22918  semanticDBLP_6accd6b8bdef57b1455d5bb6cdcc8c436...         63   \n",
       "22919  semanticDBLP_6accd6b8bdef57b1455d5bb6cdcc8c436...         64   \n",
       "22920  semanticDBLP_6accd6b8bdef57b1455d5bb6cdcc8c436...         65   \n",
       "22921  semanticDBLP_6accd6b8bdef57b1455d5bb6cdcc8c436...         66   \n",
       "22922  semanticDBLP_6accd6b8bdef57b1455d5bb6cdcc8c436...         67   \n",
       "22923  semanticDBLP_6accd6b8bdef57b1455d5bb6cdcc8c436...         68   \n",
       "22924  semanticDBLP_6accd6b8bdef57b1455d5bb6cdcc8c436...         69   \n",
       "22925  semanticDBLP_6accd6b8bdef57b1455d5bb6cdcc8c436...         70   \n",
       "22926  semanticDBLP_6accd6b8bdef57b1455d5bb6cdcc8c436...         71   \n",
       "22927  semanticDBLP_6accd6b8bdef57b1455d5bb6cdcc8c436...         72   \n",
       "22928  semanticDBLP_6accd6b8bdef57b1455d5bb6cdcc8c436...         73   \n",
       "22929  semanticDBLP_6accd6b8bdef57b1455d5bb6cdcc8c436...         74   \n",
       "22930  semanticDBLP_6accd6b8bdef57b1455d5bb6cdcc8c436...         75   \n",
       "22931  semanticDBLP_6accd6b8bdef57b1455d5bb6cdcc8c436...         76   \n",
       "22932  semanticDBLP_6accd6b8bdef57b1455d5bb6cdcc8c436...         77   \n",
       "22933  semanticDBLP_6accd6b8bdef57b1455d5bb6cdcc8c436...         78   \n",
       "22934  semanticDBLP_6accd6b8bdef57b1455d5bb6cdcc8c436...         79   \n",
       "22935  semanticDBLP_6accd6b8bdef57b1455d5bb6cdcc8c436...         80   \n",
       "22936  semanticDBLP_6accd6b8bdef57b1455d5bb6cdcc8c436...         81   \n",
       "22937  semanticDBLP_6accd6b8bdef57b1455d5bb6cdcc8c436...         82   \n",
       "22938  semanticDBLP_6accd6b8bdef57b1455d5bb6cdcc8c436...         83   \n",
       "22939  semanticDBLP_6accd6b8bdef57b1455d5bb6cdcc8c436...         84   \n",
       "22940  semanticDBLP_6accd6b8bdef57b1455d5bb6cdcc8c436...         85   \n",
       "22941  semanticDBLP_6accd6b8bdef57b1455d5bb6cdcc8c436...         86   \n",
       "22942  semanticDBLP_6accd6b8bdef57b1455d5bb6cdcc8c436...         87   \n",
       "22943  semanticDBLP_6accd6b8bdef57b1455d5bb6cdcc8c436...         88   \n",
       "22944  semanticDBLP_6accd6b8bdef57b1455d5bb6cdcc8c436...         89   \n",
       "22945  semanticDBLP_6accd6b8bdef57b1455d5bb6cdcc8c436...         90   \n",
       "22946  semanticDBLP_6accd6b8bdef57b1455d5bb6cdcc8c436...         91   \n",
       "22947  semanticDBLP_6accd6b8bdef57b1455d5bb6cdcc8c436...         92   \n",
       "22948  semanticDBLP_6accd6b8bdef57b1455d5bb6cdcc8c436...         93   \n",
       "22949  semanticDBLP_6accd6b8bdef57b1455d5bb6cdcc8c436...         94   \n",
       "22950  semanticDBLP_6accd6b8bdef57b1455d5bb6cdcc8c436...         95   \n",
       "22951  semanticDBLP_6accd6b8bdef57b1455d5bb6cdcc8c436...         96   \n",
       "22952  semanticDBLP_6accd6b8bdef57b1455d5bb6cdcc8c436...         97   \n",
       "22953  semanticDBLP_6accd6b8bdef57b1455d5bb6cdcc8c436...         98   \n",
       "22954  semanticDBLP_6accd6b8bdef57b1455d5bb6cdcc8c436...         99   \n",
       "22955  semanticDBLP_6accd6b8bdef57b1455d5bb6cdcc8c436...        100   \n",
       "22956  semanticDBLP_6accd6b8bdef57b1455d5bb6cdcc8c436...        101   \n",
       "22957  semanticDBLP_6accd6b8bdef57b1455d5bb6cdcc8c436...        102   \n",
       "22958  semanticDBLP_6accd6b8bdef57b1455d5bb6cdcc8c436...        103   \n",
       "22959  semanticDBLP_6accd6b8bdef57b1455d5bb6cdcc8c436...        104   \n",
       "22960  semanticDBLP_6accd6b8bdef57b1455d5bb6cdcc8c436...        105   \n",
       "22961  semanticDBLP_6accd6b8bdef57b1455d5bb6cdcc8c436...        106   \n",
       "22962  semanticDBLP_6accd6b8bdef57b1455d5bb6cdcc8c436...        107   \n",
       "22963  semanticDBLP_6accd6b8bdef57b1455d5bb6cdcc8c436...        108   \n",
       "22964  semanticDBLP_6accd6b8bdef57b1455d5bb6cdcc8c436...        109   \n",
       "22965  semanticDBLP_6accd6b8bdef57b1455d5bb6cdcc8c436...        110   \n",
       "22966  semanticDBLP_6accd6b8bdef57b1455d5bb6cdcc8c436...        111   \n",
       "22967  semanticDBLP_6accd6b8bdef57b1455d5bb6cdcc8c436...        112   \n",
       "22968  semanticDBLP_6accd6b8bdef57b1455d5bb6cdcc8c436...        113   \n",
       "22969  semanticDBLP_6accd6b8bdef57b1455d5bb6cdcc8c436...        114   \n",
       "22970  semanticDBLP_6accd6b8bdef57b1455d5bb6cdcc8c436...        115   \n",
       "22971  semanticDBLP_6accd6b8bdef57b1455d5bb6cdcc8c436...        116   \n",
       "22972  semanticDBLP_6accd6b8bdef57b1455d5bb6cdcc8c436...        117   \n",
       "22973  semanticDBLP_6accd6b8bdef57b1455d5bb6cdcc8c436...        118   \n",
       "22974  semanticDBLP_6accd6b8bdef57b1455d5bb6cdcc8c436...        119   \n",
       "22975  semanticDBLP_6accd6b8bdef57b1455d5bb6cdcc8c436...        120   \n",
       "22976  semanticDBLP_6accd6b8bdef57b1455d5bb6cdcc8c436...        121   \n",
       "22977  semanticDBLP_6accd6b8bdef57b1455d5bb6cdcc8c436...        122   \n",
       "22978  semanticDBLP_6accd6b8bdef57b1455d5bb6cdcc8c436...        123   \n",
       "22979  semanticDBLP_6accd6b8bdef57b1455d5bb6cdcc8c436...        124   \n",
       "22980  semanticDBLP_6accd6b8bdef57b1455d5bb6cdcc8c436...        125   \n",
       "22981  semanticDBLP_6accd6b8bdef57b1455d5bb6cdcc8c436...        126   \n",
       "22982  semanticDBLP_6accd6b8bdef57b1455d5bb6cdcc8c436...        127   \n",
       "22983  semanticDBLP_6accd6b8bdef57b1455d5bb6cdcc8c436...        128   \n",
       "22984  semanticDBLP_6accd6b8bdef57b1455d5bb6cdcc8c436...        129   \n",
       "22985  semanticDBLP_6accd6b8bdef57b1455d5bb6cdcc8c436...        130   \n",
       "22986  semanticDBLP_6accd6b8bdef57b1455d5bb6cdcc8c436...        131   \n",
       "22987  semanticDBLP_6accd6b8bdef57b1455d5bb6cdcc8c436...        132   \n",
       "22988  semanticDBLP_6accd6b8bdef57b1455d5bb6cdcc8c436...        133   \n",
       "22989  semanticDBLP_6accd6b8bdef57b1455d5bb6cdcc8c436...        134   \n",
       "22990  semanticDBLP_6accd6b8bdef57b1455d5bb6cdcc8c436...        135   \n",
       "22991  semanticDBLP_6accd6b8bdef57b1455d5bb6cdcc8c436...        136   \n",
       "22992  semanticDBLP_6accd6b8bdef57b1455d5bb6cdcc8c436...        137   \n",
       "22993  semanticDBLP_6accd6b8bdef57b1455d5bb6cdcc8c436...        138   \n",
       "22994  semanticDBLP_6accd6b8bdef57b1455d5bb6cdcc8c436...        139   \n",
       "22995  semanticDBLP_6accd6b8bdef57b1455d5bb6cdcc8c436...        140   \n",
       "22996  semanticDBLP_6accd6b8bdef57b1455d5bb6cdcc8c436...        141   \n",
       "22997  semanticDBLP_6accd6b8bdef57b1455d5bb6cdcc8c436...        142   \n",
       "22998  semanticDBLP_6accd6b8bdef57b1455d5bb6cdcc8c436...        143   \n",
       "22999  semanticDBLP_6accd6b8bdef57b1455d5bb6cdcc8c436...        144   \n",
       "23000  semanticDBLP_6accd6b8bdef57b1455d5bb6cdcc8c436...        145   \n",
       "23001  semanticDBLP_6accd6b8bdef57b1455d5bb6cdcc8c436...        146   \n",
       "23002  semanticDBLP_6accd6b8bdef57b1455d5bb6cdcc8c436...        147   \n",
       "23003  semanticDBLP_6accd6b8bdef57b1455d5bb6cdcc8c436...        148   \n",
       "23004  semanticDBLP_6accd6b8bdef57b1455d5bb6cdcc8c436...        149   \n",
       "23005  semanticDBLP_6accd6b8bdef57b1455d5bb6cdcc8c436...        150   \n",
       "23006  semanticDBLP_6accd6b8bdef57b1455d5bb6cdcc8c436...        151   \n",
       "23007  semanticDBLP_6accd6b8bdef57b1455d5bb6cdcc8c436...        152   \n",
       "23008  semanticDBLP_6accd6b8bdef57b1455d5bb6cdcc8c436...        153   \n",
       "23009  semanticDBLP_6accd6b8bdef57b1455d5bb6cdcc8c436...        154   \n",
       "23010  semanticDBLP_6accd6b8bdef57b1455d5bb6cdcc8c436...        155   \n",
       "23011  semanticDBLP_6accd6b8bdef57b1455d5bb6cdcc8c436...        156   \n",
       "23012  semanticDBLP_6accd6b8bdef57b1455d5bb6cdcc8c436...        157   \n",
       "23013  semanticDBLP_6accd6b8bdef57b1455d5bb6cdcc8c436...        158   \n",
       "23014  semanticDBLP_6accd6b8bdef57b1455d5bb6cdcc8c436...        159   \n",
       "23015  semanticDBLP_6accd6b8bdef57b1455d5bb6cdcc8c436...        160   \n",
       "23016  semanticDBLP_6accd6b8bdef57b1455d5bb6cdcc8c436...        161   \n",
       "23017  semanticDBLP_6accd6b8bdef57b1455d5bb6cdcc8c436...        162   \n",
       "23018  semanticDBLP_6accd6b8bdef57b1455d5bb6cdcc8c436...        163   \n",
       "23019  semanticDBLP_6accd6b8bdef57b1455d5bb6cdcc8c436...        164   \n",
       "23020  semanticDBLP_6accd6b8bdef57b1455d5bb6cdcc8c436...        165   \n",
       "23021  semanticDBLP_6accd6b8bdef57b1455d5bb6cdcc8c436...        166   \n",
       "23022  semanticDBLP_6accd6b8bdef57b1455d5bb6cdcc8c436...        167   \n",
       "23023  semanticDBLP_6accd6b8bdef57b1455d5bb6cdcc8c436...        168   \n",
       "23024  semanticDBLP_6accd6b8bdef57b1455d5bb6cdcc8c436...        169   \n",
       "23025  semanticDBLP_6accd6b8bdef57b1455d5bb6cdcc8c436...        170   \n",
       "23026  semanticDBLP_6accd6b8bdef57b1455d5bb6cdcc8c436...        171   \n",
       "23027  semanticDBLP_6accd6b8bdef57b1455d5bb6cdcc8c436...        172   \n",
       "23028  semanticDBLP_6accd6b8bdef57b1455d5bb6cdcc8c436...        173   \n",
       "23029  semanticDBLP_6accd6b8bdef57b1455d5bb6cdcc8c436...        174   \n",
       "23030  semanticDBLP_6accd6b8bdef57b1455d5bb6cdcc8c436...        175   \n",
       "23031  semanticDBLP_6accd6b8bdef57b1455d5bb6cdcc8c436...        176   \n",
       "23032  semanticDBLP_6accd6b8bdef57b1455d5bb6cdcc8c436...        177   \n",
       "23033  semanticDBLP_6accd6b8bdef57b1455d5bb6cdcc8c436...        178   \n",
       "23034  semanticDBLP_6accd6b8bdef57b1455d5bb6cdcc8c436...        179   \n",
       "23035  semanticDBLP_6accd6b8bdef57b1455d5bb6cdcc8c436...        180   \n",
       "23036  semanticDBLP_6accd6b8bdef57b1455d5bb6cdcc8c436...        181   \n",
       "23037  semanticDBLP_6accd6b8bdef57b1455d5bb6cdcc8c436...        182   \n",
       "\n",
       "             content  \n",
       "22856         Design  \n",
       "22857        Science  \n",
       "22858       Research  \n",
       "22859              (  \n",
       "22860            DSR  \n",
       "22861              )  \n",
       "22862            has  \n",
       "22863        sparked  \n",
       "22864              a  \n",
       "22865    renaissance  \n",
       "22866             of  \n",
       "22867  contributions  \n",
       "22868             to  \n",
       "22869             IS  \n",
       "22870              ,  \n",
       "22871            but  \n",
       "22872            its  \n",
       "22873          rigor  \n",
       "22874            and  \n",
       "22875          value  \n",
       "22876             of  \n",
       "22877            DSR  \n",
       "22878          could  \n",
       "22879             be  \n",
       "22880      increased  \n",
       "22881             by  \n",
       "22882      expanding  \n",
       "22883            its  \n",
       "22884          scope  \n",
       "22885         beyond  \n",
       "22886            its  \n",
       "22887    engineering  \n",
       "22888          roots  \n",
       "22889             to  \n",
       "22890          bring  \n",
       "22891            all  \n",
       "22892          modes  \n",
       "22893             of  \n",
       "22894     scientific  \n",
       "22895        inquiry  \n",
       "22896             to  \n",
       "22897           bear  \n",
       "22898              –  \n",
       "22899    exploratory  \n",
       "22900              ,  \n",
       "22901    theoretical  \n",
       "22902              ,  \n",
       "22903   experimental  \n",
       "22904              ,  \n",
       "22905            and  \n",
       "22906        applied  \n",
       "22907        science  \n",
       "22908              /  \n",
       "22909    engineering  \n",
       "22910              (  \n",
       "22911             AS  \n",
       "22912              /  \n",
       "22913              E  \n",
       "22914              )  \n",
       "22915              .  \n",
       "22916            All  \n",
       "22917            DSR  \n",
       "22918          Cycle  \n",
       "22919     activities  \n",
       "22920            can  \n",
       "22921             be  \n",
       "22922       realized  \n",
       "22923             as  \n",
       "22924      instances  \n",
       "22925             of  \n",
       "22926            one  \n",
       "22927             or  \n",
       "22928           more  \n",
       "22929             of  \n",
       "22930            the  \n",
       "22931           four  \n",
       "22932          modes  \n",
       "22933              .  \n",
       "22934            The  \n",
       "22935          rigor  \n",
       "22936             of  \n",
       "22937            DSR  \n",
       "22938            can  \n",
       "22939      therefore  \n",
       "22940             be  \n",
       "22941       defended  \n",
       "22942             in  \n",
       "22943          terms  \n",
       "22944             of  \n",
       "22945            the  \n",
       "22946          goals  \n",
       "22947              ,  \n",
       "22948       research  \n",
       "22949       products  \n",
       "22950              ,  \n",
       "22951            and  \n",
       "22952      standards  \n",
       "22953             of  \n",
       "22954          rigor  \n",
       "22955        already  \n",
       "22956    established  \n",
       "22957            for  \n",
       "22958           each  \n",
       "22959           mode  \n",
       "22960              .  \n",
       "22961          There  \n",
       "22962             is  \n",
       "22963              ,  \n",
       "22964       moreover  \n",
       "22965              ,  \n",
       "22966              a  \n",
       "22967        synergy  \n",
       "22968          among  \n",
       "22969            the  \n",
       "22970          modes  \n",
       "22971           that  \n",
       "22972            can  \n",
       "22973           only  \n",
       "22974             be  \n",
       "22975       realized  \n",
       "22976           when  \n",
       "22977            all  \n",
       "22978           four  \n",
       "22979            are  \n",
       "22980        brought  \n",
       "22981             to  \n",
       "22982           bear  \n",
       "22983              ,  \n",
       "22984        because  \n",
       "22985           each  \n",
       "22986        informs  \n",
       "22987            the  \n",
       "22988          other  \n",
       "22989          three  \n",
       "22990              .  \n",
       "22991             To  \n",
       "22992        exclude  \n",
       "22993            any  \n",
       "22994           mode  \n",
       "22995             of  \n",
       "22996        inquiry  \n",
       "22997           from  \n",
       "22998            DSR  \n",
       "22999              ,  \n",
       "23000      therefore  \n",
       "23001              ,  \n",
       "23002             is  \n",
       "23003             to  \n",
       "23004     impoverish  \n",
       "23005      knowledge  \n",
       "23006          about  \n",
       "23007            its  \n",
       "23008        objects  \n",
       "23009             of  \n",
       "23010        inquiry  \n",
       "23011              .  \n",
       "23012          Based  \n",
       "23013             on  \n",
       "23014          these  \n",
       "23015       insights  \n",
       "23016              ,  \n",
       "23017             we  \n",
       "23018        propose  \n",
       "23019              a  \n",
       "23020       modified  \n",
       "23021         Cycles  \n",
       "23022          Model  \n",
       "23023            for  \n",
       "23024            DSR  \n",
       "23025       realized  \n",
       "23026          under  \n",
       "23027            the  \n",
       "23028    disciplines  \n",
       "23029             of  \n",
       "23030            the  \n",
       "23031           four  \n",
       "23032          modes  \n",
       "23033             of  \n",
       "23034     scientific  \n",
       "23035        inquiry  \n",
       "23036              .  \n",
       "23037             \\n  "
      ]
     },
     "execution_count": 56,
     "metadata": {},
     "output_type": "execute_result"
    }
   ],
   "source": [
    "# revise joint_split.csv to have literally hard label in soft format e.g. [0.4, 0.3, 0.3 ] -> [1.0, 0.0, 0.0]\n",
    "print(len(sub_dfs))\n",
    "\n",
    "print(len(set((df['paperID'].tolist()))))\n",
    "print(df.columns)\n",
    "\n",
    "df[df['paperID']==\"semanticDBLP_6accd6b8bdef57b1455d5bb6cdcc8c436b0691e6\"]"
   ]
  },
  {
   "cell_type": "code",
   "execution_count": 68,
   "metadata": {},
   "outputs": [],
   "source": [
    "df2=df.copy()\n",
    "import ast\n",
    "import numpy as np\n",
    "\n",
    "def transform_gm_label(x):\n",
    "    x=ast.literal_eval(x)\n",
    "    if abs(x[0]-x[1])<1e-4 and abs(x[1]-x[2])<1e-4:\n",
    "        return [0,0,1]\n",
    "    elif np.argmax(x)==0:\n",
    "        return [1,0,0]\n",
    "    return [0,1,0]\n",
    "\n",
    "df2['winningHighlight'] = df2['winningHighlight'].apply(lambda x: transform_gm_label(x))\n",
    "# df2"
   ]
  },
  {
   "cell_type": "code",
   "execution_count": 72,
   "metadata": {},
   "outputs": [],
   "source": [
    "df2.to_csv(open(\"data/annotations_slim_s2/joint_split_hard_as_soft.csv\",\"w\"))"
   ]
  },
  {
   "cell_type": "markdown",
   "metadata": {},
   "source": [
    "#### Section 4: peripheral codes"
   ]
  },
  {
   "cell_type": "code",
   "execution_count": 16,
   "metadata": {},
   "outputs": [
    {
     "name": "stdout",
     "output_type": "stream",
     "text": [
      "top purpose words \n",
      "\n",
      "\n",
      "0\tWord\tto\n",
      "Sentence\tIn our register allocation method, we construct an extended conflict graph (ECG) whose vertices are variables and the weight of each edge shows the cost of assigning two endpoint variables of the edge to a register.\t0.9999999999999898\n",
      "\n",
      "1\tWord\tof\n",
      "Sentence\tThis paper attempts to lay a firmer foundtion for a theory of these problems.\t0.9999999999999851\n",
      "\n",
      "2\tWord\tat\n",
      "Sentence\tTaking the midpoint of the untransformed confidence interval as our point estimator of the expected simulation response at the selected factor-level combination and approximating the variance of this point estimator via the delta method, we formulate an approximate two-sample Student <i>t</i>-test for validating our metamodel-based estimator versus the results of making independent runs of the simulation at the selected factor-level combination.\t0.9999999999999769\n",
      "\n",
      "3\tWord\tin\n",
      "Sentence\tBased on this scenario, this paper proposes an approach with the purpose of supporting the unique or combined selection of MBT techniques for a given software project considering two aspects: the adequacy level between MBT techniques and the software project characteristics and impact of more than one MBT technique in some testing process variables.\t0.9999999999999769\n",
      "\n",
      "4\tWord\tsimulation\n",
      "Sentence\tTaking the midpoint of the untransformed confidence interval as our point estimator of the expected simulation response at the selected factor-level combination and approximating the variance of this point estimator via the delta method, we formulate an approximate two-sample Student <i>t</i>-test for validating our metamodel-based estimator versus the results of making independent runs of the simulation at the selected factor-level combination.\t0.9999999999999721\n",
      "\n",
      "5\tWord\tof\n",
      "Sentence\tAfterwards, a decision tree, based on the Food and Agriculture Organization (FAO) soil texture classification scheme, was developed to determine the soil texture for each pixel of the hyperspectral airborne data.\t0.9999999999999704\n",
      "\n",
      "6\tWord\tof\n",
      "Sentence\t” Many are requests to identify the city for a publisher of a journal or book.\t0.9999999999999704\n",
      "\n",
      "7\tWord\tpublisher\n",
      "Sentence\t” Many are requests to identify the city for a publisher of a journal or book.\t0.9999999999999643\n",
      "\n",
      "8\tWord\ta\n",
      "Sentence\tIn our register allocation method, we construct an extended conflict graph (ECG) whose vertices are variables and the weight of each edge shows the cost of assigning two endpoint variables of the edge to a register.\t0.9999999999988786\n",
      "\n",
      "9\tWord\tregister\n",
      "Sentence\tIn our register allocation method, we construct an extended conflict graph (ECG) whose vertices are variables and the weight of each edge shows the cost of assigning two endpoint variables of the edge to a register.\t0.9999999999988786\n",
      "\n",
      "\n",
      "\n",
      "top mechanism words \n",
      "\n",
      "\n",
      "0\tWord\tThis\n",
      "Sentence\tThis paper deals with the autonomous navigation of a ducted fan vertical take off and landing (VTOL) unmanned aerial vehicle (UAV) in constrained environment.\t0.3333333333333333\n",
      "\n",
      "1\tWord\tmodel\n",
      "Sentence\t1. Proposed testability model\t0.3333333333333333\n",
      "\n",
      "2\tWord\t1\n",
      "Sentence\t1. Proposed testability model\t0.3333333333333333\n",
      "\n",
      "3\tWord\ttestability\n",
      "Sentence\t1. Proposed testability model\t0.3333333333333333\n",
      "\n",
      "4\tWord\t.\n",
      "Sentence\t1. Proposed testability model\t0.3333333333333333\n",
      "\n",
      "5\tWord\tProposed\n",
      "Sentence\t1. Proposed testability model\t0.3333333333333333\n",
      "\n",
      "6\tWord\tpaper\n",
      "Sentence\tA new digital audio watermarking for copyright protection is described in this paper.\t0.3333333333333333\n",
      "\n",
      "7\tWord\tin\n",
      "Sentence\tA new digital audio watermarking for copyright protection is described in this paper.\t0.3333333333333333\n",
      "\n",
      "8\tWord\tthis\n",
      "Sentence\tA new digital audio watermarking for copyright protection is described in this paper.\t0.3333333333333333\n",
      "\n",
      "9\tWord\t.\n",
      "Sentence\tA new digital audio watermarking for copyright protection is described in this paper.\t0.3333333333333333\n"
     ]
    }
   ],
   "source": [
    "pair_list=list(zip(unigram_segments,list(train_marginals[:,0].reshape(-1))))\n",
    "\n",
    "pair_list.sort(key = lambda t: t[1],reverse=True)\n",
    "\n",
    "def get_candidate_text(candidate):\n",
    "    cue=candidate.get_contexts()[0]\n",
    "    return cue.sentence.text[cue.char_start:cue.char_end+1]\n",
    "\n",
    "top_cutoff=10\n",
    "print(\"top purpose words \\n\\n\")\n",
    "print(\"\\n\\n\".join([str(ind)+\"\\tWord\\t\"+get_candidate_text(pair[0])+\"\\n\"+\"Sentence\\t\"+str(pair[0].get_parent().text)+\"\\t\"+str(pair[1]) for ind,pair in enumerate(pair_list[:top_cutoff])]))\n",
    "\n",
    "\n",
    "pair_list=list(zip(unigram_segments,list(train_marginals[:,1].reshape(-1))))\n",
    "pair_list.sort(key = lambda t: t[1],reverse=True)\n",
    "\n",
    "print(\"\\n\\n\\ntop mechanism words \\n\\n\")\n",
    "print(\"\\n\\n\".join([str(ind)+\"\\tWord\\t\"+get_candidate_text(pair[0])+\"\\n\"+\"Sentence\\t\"+str(pair[0].get_parent().text)+\"\\t\"+str(pair[1]) for ind,pair in enumerate(pair_list[:top_cutoff])]))"
   ]
  },
  {
   "cell_type": "code",
   "execution_count": 48,
   "metadata": {},
   "outputs": [
    {
     "name": "stdout",
     "output_type": "stream",
     "text": [
      "Unigram(Span(\"b'tend'\", sentence=2248, chars=[39,42], words=[9,9]))\n",
      "Specifically, we showed that (a) users tend to like stories submitted by friends and (b) users tend to like stories their friends read and liked.\n",
      "0\n",
      "\n",
      "Unigram(Span(\"b'like'\", sentence=2248, chars=[103,106], words=[23,23]))\n",
      "Specifically, we showed that (a) users tend to like stories submitted by friends and (b) users tend to like stories their friends read and liked.\n",
      "0\n",
      "\n",
      "Unigram(Span(\"b'to'\", sentence=2248, chars=[44,45], words=[10,10]))\n",
      "Specifically, we showed that (a) users tend to like stories submitted by friends and (b) users tend to like stories their friends read and liked.\n",
      "0\n",
      "\n",
      "Unigram(Span(\"b'stories'\", sentence=2248, chars=[108,114], words=[24,24]))\n",
      "Specifically, we showed that (a) users tend to like stories submitted by friends and (b) users tend to like stories their friends read and liked.\n",
      "0\n",
      "\n",
      "Unigram(Span(\"b'like'\", sentence=2248, chars=[47,50], words=[11,11]))\n",
      "Specifically, we showed that (a) users tend to like stories submitted by friends and (b) users tend to like stories their friends read and liked.\n",
      "0\n",
      "\n",
      "Unigram(Span(\"b'their'\", sentence=2248, chars=[116,120], words=[25,25]))\n",
      "Specifically, we showed that (a) users tend to like stories submitted by friends and (b) users tend to like stories their friends read and liked.\n",
      "0\n",
      "\n",
      "Unigram(Span(\"b'stories'\", sentence=2248, chars=[52,58], words=[12,12]))\n",
      "Specifically, we showed that (a) users tend to like stories submitted by friends and (b) users tend to like stories their friends read and liked.\n",
      "0\n",
      "\n",
      "Unigram(Span(\"b'friends'\", sentence=2248, chars=[122,128], words=[26,26]))\n",
      "Specifically, we showed that (a) users tend to like stories submitted by friends and (b) users tend to like stories their friends read and liked.\n",
      "0\n",
      "\n",
      "Unigram(Span(\"b'submitted'\", sentence=2248, chars=[60,68], words=[13,13]))\n",
      "Specifically, we showed that (a) users tend to like stories submitted by friends and (b) users tend to like stories their friends read and liked.\n",
      "0\n",
      "\n",
      "Unigram(Span(\"b'read'\", sentence=2248, chars=[130,133], words=[27,27]))\n",
      "Specifically, we showed that (a) users tend to like stories submitted by friends and (b) users tend to like stories their friends read and liked.\n",
      "0\n",
      "\n",
      "Unigram(Span(\"b'Specifically'\", sentence=2248, chars=[0,11], words=[0,0]))\n",
      "Specifically, we showed that (a) users tend to like stories submitted by friends and (b) users tend to like stories their friends read and liked.\n",
      "0\n",
      "\n",
      "Unigram(Span(\"b'by'\", sentence=2248, chars=[70,71], words=[14,14]))\n",
      "Specifically, we showed that (a) users tend to like stories submitted by friends and (b) users tend to like stories their friends read and liked.\n",
      "0\n",
      "\n",
      "Unigram(Span(\"b'and'\", sentence=2248, chars=[135,137], words=[28,28]))\n",
      "Specifically, we showed that (a) users tend to like stories submitted by friends and (b) users tend to like stories their friends read and liked.\n",
      "0\n",
      "\n",
      "Unigram(Span(\"b','\", sentence=2248, chars=[12,12], words=[1,1]))\n",
      "Specifically, we showed that (a) users tend to like stories submitted by friends and (b) users tend to like stories their friends read and liked.\n",
      "0\n",
      "\n",
      "Unigram(Span(\"b'friends'\", sentence=2248, chars=[73,79], words=[15,15]))\n",
      "Specifically, we showed that (a) users tend to like stories submitted by friends and (b) users tend to like stories their friends read and liked.\n",
      "0\n",
      "\n",
      "Unigram(Span(\"b'liked'\", sentence=2248, chars=[139,143], words=[29,29]))\n",
      "Specifically, we showed that (a) users tend to like stories submitted by friends and (b) users tend to like stories their friends read and liked.\n",
      "0\n",
      "\n",
      "Unigram(Span(\"b'we'\", sentence=2248, chars=[14,15], words=[2,2]))\n",
      "Specifically, we showed that (a) users tend to like stories submitted by friends and (b) users tend to like stories their friends read and liked.\n",
      "0\n",
      "\n",
      "Unigram(Span(\"b'.'\", sentence=2248, chars=[144,144], words=[30,30]))\n",
      "Specifically, we showed that (a) users tend to like stories submitted by friends and (b) users tend to like stories their friends read and liked.\n",
      "0\n",
      "\n",
      "Unigram(Span(\"b'and'\", sentence=2248, chars=[81,83], words=[16,16]))\n",
      "Specifically, we showed that (a) users tend to like stories submitted by friends and (b) users tend to like stories their friends read and liked.\n",
      "0\n",
      "\n",
      "Unigram(Span(\"b'showed'\", sentence=2248, chars=[17,22], words=[3,3]))\n",
      "Specifically, we showed that (a) users tend to like stories submitted by friends and (b) users tend to like stories their friends read and liked.\n",
      "0\n",
      "\n",
      "Unigram(Span(\"b'('\", sentence=2248, chars=[85,85], words=[17,17]))\n",
      "Specifically, we showed that (a) users tend to like stories submitted by friends and (b) users tend to like stories their friends read and liked.\n",
      "0\n",
      "\n",
      "Unigram(Span(\"b'b'\", sentence=2248, chars=[86,86], words=[18,18]))\n",
      "Specifically, we showed that (a) users tend to like stories submitted by friends and (b) users tend to like stories their friends read and liked.\n",
      "0\n",
      "\n",
      "Unigram(Span(\"b')'\", sentence=2248, chars=[87,87], words=[19,19]))\n",
      "Specifically, we showed that (a) users tend to like stories submitted by friends and (b) users tend to like stories their friends read and liked.\n",
      "0\n",
      "\n",
      "Unigram(Span(\"b'that'\", sentence=2248, chars=[24,27], words=[4,4]))\n",
      "Specifically, we showed that (a) users tend to like stories submitted by friends and (b) users tend to like stories their friends read and liked.\n",
      "0\n",
      "\n",
      "Unigram(Span(\"b'users'\", sentence=2248, chars=[89,93], words=[20,20]))\n",
      "Specifically, we showed that (a) users tend to like stories submitted by friends and (b) users tend to like stories their friends read and liked.\n",
      "0\n",
      "\n",
      "Unigram(Span(\"b'('\", sentence=2248, chars=[29,29], words=[5,5]))\n",
      "Specifically, we showed that (a) users tend to like stories submitted by friends and (b) users tend to like stories their friends read and liked.\n",
      "0\n",
      "\n",
      "Unigram(Span(\"b'a'\", sentence=2248, chars=[30,30], words=[6,6]))\n",
      "Specifically, we showed that (a) users tend to like stories submitted by friends and (b) users tend to like stories their friends read and liked.\n",
      "0\n",
      "\n",
      "Unigram(Span(\"b')'\", sentence=2248, chars=[31,31], words=[7,7]))\n",
      "Specifically, we showed that (a) users tend to like stories submitted by friends and (b) users tend to like stories their friends read and liked.\n",
      "0\n",
      "\n",
      "Unigram(Span(\"b'tend'\", sentence=2248, chars=[95,98], words=[21,21]))\n",
      "Specifically, we showed that (a) users tend to like stories submitted by friends and (b) users tend to like stories their friends read and liked.\n",
      "0\n",
      "\n",
      "Unigram(Span(\"b'users'\", sentence=2248, chars=[33,37], words=[8,8]))\n",
      "Specifically, we showed that (a) users tend to like stories submitted by friends and (b) users tend to like stories their friends read and liked.\n",
      "0\n",
      "\n",
      "Unigram(Span(\"b'coefficients'\", sentence=2227, chars=[92,103], words=[12,12]))\n",
      "sent __dict__ {'_sa_instance_state': <sqlalchemy.orm.state.InstanceState object at 0x15a5ab080>, 'dep_labels': ['nsubj', 'aux', 'ROOT', 'amod', 'dobj', 'prep', 'amod', 'pobj', 'prep', 'det', 'amod', 'compound', 'pobj', 'punct'], 'ner_tags': ['O', 'O', 'O', 'O', 'O', 'O', 'O', 'O', 'O', 'O', 'O', 'O', 'O', 'O'], 'type': 'sentence', 'char_offsets': [0, 3, 8, 18, 25, 36, 40, 50, 65, 68, 72, 80, 92, 104], 'text': 'We have developed simple algorithms for efficient implementation of the ordinal correlation coefficients.', 'lemmas': ['-PRON-', 'have', 'develop', 'simple', 'algorithms', 'for', 'efficient', 'implementation', 'of', 'the', 'ordinal', 'correlation', 'coefficient', '.'], 'position': 8, 'id': 2227, 'entity_cids': ['O', 'O', 'O', 'O', 'O', 'O', 'O', 'O', 'O', 'O', 'O', 'O', 'O', 'O'], 'dep_parents': [3, 3, 0, 5, 3, 5, 8, 6, 8, 13, 13, 13, 9, 3], 'stable_id': 'semanticDBLP_205794e3b86e1344d211b4034202a885f51c6ff4::sentence:1053:1158', 'abs_char_offsets': [1053, 1056, 1061, 1071, 1078, 1089, 1093, 1103, 1118, 1121, 1125, 1133, 1145, 1157], 'words': ['We', 'have', 'developed', 'simple', 'algorithms', 'for', 'efficient', 'implementation', 'of', 'the', 'ordinal', 'correlation', 'coefficients', '.'], 'pos_tags': ['PRP', 'VBP', 'VBN', 'JJ', 'NN', 'IN', 'JJ', 'NN', 'IN', 'DT', 'JJ', 'NN', 'NNS', '.'], 'document_id': 1, 'entity_types': ['O', 'O', 'O', 'O', 'O', 'O', 'O', 'O', 'O', 'O', 'O', 'O', 'O', 'O'], 'document': Document semanticDBLP_205794e3b86e1344d211b4034202a885f51c6ff4}\n",
      "sent pos in doc?? 8\n",
      "semanticDBLP_205794e3b86e1344d211b4034202a885f51c6ff4\n",
      "coefficients\n",
      "unigram position??  12\n",
      "its_pos_tag NNS \n",
      "\n"
     ]
    }
   ],
   "source": [
    "# TODO get_surrounding_words maybe group segments back to doc level from  Sentence has words in its __dict__ \n",
    "\n",
    "# visualize purpose probability\n",
    "\n",
    "\n",
    "# pair_list=list(zip(unigram_segments,list(train_marginals[:,0].reshape(-1))))\n",
    "\n",
    "\n",
    "# Find a test case span!!!\n",
    "# count=0\n",
    "# for idx,segment in enumerate(unigram_segments):\n",
    "#     if \"Specifically\" in segment.get_parent().__dict__['words']:\n",
    "#         print(idx,segment.get_parent().__dict__['text'])\n",
    "#         if count>30:\n",
    "#             break\n",
    "#         count+=1\n",
    "    \n",
    "# input()\n",
    "purpose_LFs=[]\n",
    "from LF.util_common_default_categorical import purpose_LFs,mechanism_LFs\n",
    "\n",
    "for i in range(695,725):\n",
    "    print(unigram_segments[i])\n",
    "    print(unigram_segments[i].get_parent().__dict__['text'])\n",
    "    print(purpose_LFs[-1](unigram_segments[i]))\n",
    "#     print(purpose_LFs[-1].__name__)\n",
    "    print()\n",
    "    \n",
    "    \n",
    "# print(unigram_segments[165],)\n",
    "\n",
    "segment=unigram_segments[165]\n",
    "# print((segment.get_contexts()[0].__dict__))\n",
    "docid=segment.get_parent().get_parent().name\n",
    "print(segment)\n",
    "print(\"sent __dict__\",segment.get_parent().__dict__)\n",
    "print(\"sent pos in doc??\", segment.get_parent().position)\n",
    "# print(\"sent pos in doc??\", segment.get_parent().get_parent().sentences.index(segment.get_parent()))\n",
    "\n",
    "print(docid)\n",
    "\n",
    "# print(segment.get_parent().get_parent().__dict__)\n",
    "print(segment.get_parent().text[segment.unigram_cue.char_start:segment.unigram_cue.char_end+1])\n",
    "\n",
    "unigram_psn=segment.unigram_cue.get_word_start()\n",
    "print(\"unigram position?? \",unigram_psn)#.__dict__['words'])\n",
    "\n",
    "its_pos_tag=segment.get_parent().__dict__['pos_tags'][unigram_psn]\n",
    "print(\"its_pos_tag\",its_pos_tag,\"\\n\")\n",
    "\n",
    "# its_surrounding_pos_tag=get_sourrounding_pos_tag(segment,3)\n",
    "# print(\"unigram pos tag\",get_sourrounding_pos_tag(segment,1))\n",
    "# print(\"trigram pos tag\",get_sourrounding_pos_tag(segment,3))\n",
    "# print(\"5gram pos tag\",get_sourrounding_pos_tag(segment,5))\n"
   ]
  },
  {
   "cell_type": "code",
   "execution_count": null,
   "metadata": {},
   "outputs": [],
   "source": []
  }
 ],
 "metadata": {
  "kernelspec": {
   "display_name": "Python 3",
   "language": "python",
   "name": "python3"
  },
  "language_info": {
   "codemirror_mode": {
    "name": "ipython",
    "version": 3
   },
   "file_extension": ".py",
   "mimetype": "text/x-python",
   "name": "python",
   "nbconvert_exporter": "python",
   "pygments_lexer": "ipython3",
   "version": "3.6.5"
  }
 },
 "nbformat": 4,
 "nbformat_minor": 2
}
