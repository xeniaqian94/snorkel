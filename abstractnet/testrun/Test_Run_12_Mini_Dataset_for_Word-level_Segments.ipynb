{
 "cells": [
  {
   "cell_type": "markdown",
   "metadata": {},
   "source": [
    "# Test Run 12 Mini Dataset Exploration w/ Word-level Segments\n",
    "In this notebook, we implement our switched-decision of using *word* as the segmentation unit. See weekly progress report of 18Fall, week 6 for our argument of using *clause* as the segmentation unit causes many conflict!!! "
   ]
  },
  {
   "cell_type": "code",
   "execution_count": 1,
   "metadata": {},
   "outputs": [
    {
     "data": {
      "text/html": [
       "<style>.container { width:85% !important; }</style>"
      ],
      "text/plain": [
       "<IPython.core.display.HTML object>"
      ]
     },
     "metadata": {},
     "output_type": "display_data"
    }
   ],
   "source": [
    "from IPython.core.display import display, HTML\n",
    "display(HTML(\"<style>.container { width:85% !important; }</style>\"))\n",
    "debug_mode=1 # if not in debug mode, please set debug_mode=0, find more info about debug mode in test run 9 maybe?\n",
    "%load_ext autoreload\n",
    "%autoreload 2\n",
    "%matplotlib inline"
   ]
  },
  {
   "cell_type": "code",
   "execution_count": 3,
   "metadata": {},
   "outputs": [
    {
     "name": "stdout",
     "output_type": "stream",
     "text": [
      "postgresql:///abstractnetword\n",
      "Clearing existing...\n",
      "snorkel_conn_string postgresql:///abstractnetword\n",
      "if snorkel_postgres? True\n",
      "clearning..\n",
      "clear finished!\n",
      "Running UDF...\n",
      "snorkel_conn_string postgresql:///abstractnetword\n",
      "if snorkel_postgres? True\n",
      "[========================================] 100%\n",
      "\n",
      "CPU times: user 2.56 s, sys: 126 ms, total: 2.69 s\n",
      "Wall time: 3.56 s\n",
      "Documents: 100\n"
     ]
    }
   ],
   "source": [
    "import os\n",
    "os.environ['SNORKELDB'] = \"postgresql:///abstractnetword\"\n",
    "print(os.environ['SNORKELDB'])\n",
    "\n",
    "from snorkel import SnorkelSession\n",
    "from snorkel.parser import TSVDocPreprocessor\n",
    "session = SnorkelSession()\n",
    "\n",
    "# # Here, we just set how many documents we'll process for automatic testing- you can safely ignore this!\n",
    "n_docs = 100 # this is the upper limit of number of docs\n",
    "doc_preprocessor = TSVDocPreprocessor('data/slim-s2-corpus-00-1000', encoding=\"utf-8\",max_docs=n_docs)\n",
    "\n",
    "from snorkel.parser.spacy_parser import Spacy\n",
    "from snorkel.parser import CorpusParser\n",
    "\n",
    "corpus_parser = CorpusParser(parser=Spacy())\n",
    "%time corpus_parser.apply(doc_preprocessor, count=n_docs)# ,parallelism=5)\n",
    "\n",
    "from snorkel.models import Document, Sentence  # defined in context.py file\n",
    "\n",
    "print(\"Documents:\", session.query(Document).count())"
   ]
  },
  {
   "cell_type": "code",
   "execution_count": 1,
   "metadata": {},
   "outputs": [
    {
     "name": "stdout",
     "output_type": "stream",
     "text": [
      "postgresql:///abstractnetwordfilter\n",
      "snorkel_conn_string postgresql:///abstractnetwordfilter\n",
      "if snorkel_postgres? True\n"
     ]
    },
    {
     "name": "stderr",
     "output_type": "stream",
     "text": [
      "/anaconda3/lib/python3.6/site-packages/psycopg2/__init__.py:144: UserWarning: The psycopg2 wheel package will be renamed from release 2.8; in order to keep installing from binary please use \"pip install psycopg2-binary\" instead. For details see: <http://initd.org/psycopg/docs/install.html#binary-install-from-pypi>.\n",
      "  \"\"\")\n"
     ]
    },
    {
     "name": "stdout",
     "output_type": "stream",
     "text": [
      "Clearing existing...\n",
      "snorkel_conn_string postgresql:///abstractnetwordfilter\n",
      "if snorkel_postgres? True\n",
      "clearning..\n",
      "clear finished!\n",
      "Running UDF...\n",
      "snorkel_conn_string postgresql:///abstractnetwordfilter\n",
      "if snorkel_postgres? True\n",
      "[========================================] 100%\n",
      "\n",
      "CPU times: user 4min 27s, sys: 7.14 s, total: 4min 34s\n",
      "Wall time: 6min 22s\n",
      "Documents: 10556\n"
     ]
    }
   ],
   "source": [
    "import os\n",
    "os.environ['SNORKELDB'] = \"postgresql:///abstractnetwordfilter\"\n",
    "print(os.environ['SNORKELDB'])\n",
    "\n",
    "from snorkel import SnorkelSession\n",
    "from snorkel.parser import TSVDocPreprocessor\n",
    "session = SnorkelSession()\n",
    "\n",
    "# # Here, we just set how many documents we'll process for automatic testing- you can safely ignore this!\n",
    "n_docs = 12000 # this is the upper limit of number of docs\n",
    "doc_preprocessor = TSVDocPreprocessor('data/slim-positive-citation-s2-corpus-00', encoding=\"utf-8\",max_docs=n_docs)\n",
    "\n",
    "from snorkel.parser.spacy_parser import Spacy\n",
    "from snorkel.parser import CorpusParser\n",
    "\n",
    "corpus_parser = CorpusParser(parser=Spacy())\n",
    "%time corpus_parser.apply(doc_preprocessor, count=n_docs)# ,parallelism=5)\n",
    "\n",
    "from snorkel.models import Document, Sentence  # defined in context.py file\n",
    "\n",
    "print(\"Documents:\", session.query(Document).count())"
   ]
  },
  {
   "cell_type": "code",
   "execution_count": 18,
   "metadata": {},
   "outputs": [
    {
     "name": "stdout",
     "output_type": "stream",
     "text": [
      "Documents: 10556\n",
      "Sentences: 90872\n"
     ]
    }
   ],
   "source": [
    "from snorkel import SnorkelSession\n",
    "from snorkel.parser.spacy_parser import Spacy\n",
    "from snorkel.parser import CorpusParser\n",
    "from snorkel.models import Document, Sentence\n",
    "from collections import defaultdict\n",
    "\n",
    "session = SnorkelSession()\n",
    "print(\"Documents:\", session.query(Document).count())\n",
    "print(\"Sentences:\", session.query(Sentence).count())\n",
    "\n",
    "docs = session.query(Document).all()\n",
    "sents = session.query(Sentence).all()  # get all sentences from snorkel.db\n",
    "\n",
    "total_bucket=50\n",
    "sents_split=defaultdict(lambda:[])\n",
    "for ind, doc in enumerate(docs):\n",
    "    bucket=ind%total_bucket\n",
    "#     print(bucket)\n",
    "    for s in doc.sentences:\n",
    "        sents_split[bucket]+=[s]\n",
    "        \n",
    "    "
   ]
  },
  {
   "cell_type": "code",
   "execution_count": 20,
   "metadata": {
    "scrolled": true
   },
   "outputs": [
    {
     "name": "stdout",
     "output_type": "stream",
     "text": [
      "Clearing existing...\n",
      "snorkel_conn_string postgresql:///abstractnetwordfilter\n",
      "if snorkel_postgres? True\n",
      "clearning..\n",
      "Running UDF...\n",
      "snorkel_conn_string postgresql:///abstractnetwordfilter\n",
      "if snorkel_postgres? True\n",
      "[========================================] 100%\n",
      "\n",
      "CPU times: user 1min 16s, sys: 5.48 s, total: 1min 22s\n",
      "Wall time: 2min 46s\n",
      "len(train_segments) 49423\n"
     ]
    }
   ],
   "source": [
    "from snorkel.models import candidate_subclass\n",
    "from snorkel.candidates import Ngrams, CandidateExtractor\n",
    "from snorkel.matchers import *\n",
    "import datetime\n",
    "\n",
    "from IPython.display import Markdown, display\n",
    "def printmd(string):\n",
    "    display(Markdown(string))\n",
    "\n",
    "Unigram = candidate_subclass('Unigram', ['unigram_cue'],values=['PP','MN','NULL'])\n",
    "ngrams = Ngrams(n_max=1) \n",
    "ngram_matcher=NgramMatcher()\n",
    "unigram_segment_extractor=CandidateExtractor(Unigram,[ngrams],[ngram_matcher])\n",
    "\n",
    "\n",
    "train_bucket=0\n",
    "# %time unigram_segment_extractor.apply(train_sents, split=train_bucket)\n",
    "%time unigram_segment_extractor.apply(sents_split[train_bucket], split=train_bucket)\n",
    "unigram_segments=session.query(Unigram).filter(Unigram.split == train_bucket).all()\n",
    "print(\"len(train_segments)\",len(unigram_segments))"
   ]
  },
  {
   "cell_type": "code",
   "execution_count": 21,
   "metadata": {},
   "outputs": [
    {
     "name": "stdout",
     "output_type": "stream",
     "text": [
      "total LF count 80 unique  80 purpose_LFs 31 mechanism_LFs 35\n",
      "['LF_mechanism_PRP_VBP3_True', 'LF_mechanism_PRP_VBPneg2_True', 'LF_mechanism_PRP_RB_VBP3_True', 'LF_mechanism_PRP_RB_VBPneg2_True', 'LF_mechanism_we_propose3_True', 'LF_mechanism_we_proposeneg2_True', 'LF_mechanism_we_develop3_True', 'LF_mechanism_we_developneg2_True', 'LF_mechanism_we_provide3_True', 'LF_mechanism_we_provideneg2_True', 'LF_mechanism_we_have_developed3_True', 'LF_mechanism_we_have_developedneg2_True', 'LF_mechanism_we_also_propose3_True', 'LF_mechanism_we_also_proposeneg2_True', 'LF_mechanism_presents_3_True', 'LF_mechanism_presents_neg2_True', 'LF_mechanism_present_3_True', 'LF_mechanism_present_neg2_True', 'LF_mechanism_we_use_3_True', 'LF_mechanism_we_use_neg2_True', 'LF_mechanism_uses_3_True', 'LF_mechanism_uses_neg2_True', 'LF_mechanism_using_a_3_True', 'LF_mechanism_using_a_neg2_True', 'LF_mechanism_by_using3_True', 'LF_mechanism_by_usingneg2_True', 'LF_mechanism_method3_True', 'LF_mechanism_methodneg2_True', 'LF_mechanism_approach3_True', 'LF_mechanism_approachneg2_True', 'LF_mechanism_algorithm3_True', 'LF_mechanism_algorithmneg2_True', 'LF_mechanism_we_also_developed3_True', 'LF_mechanism_we_also_developedneg2_True', 'mechanism_by_adv_doing']\n"
     ]
    }
   ],
   "source": [
    "from snorkel.lf_helpers import *\n",
    "from snorkel.annotations import LabelAnnotator\n",
    "from LF.util_common_default_categorical import purpose_LFs,mechanism_LFs,null_LFs\n",
    "print(\"total LF count\", len(purpose_LFs+mechanism_LFs+null_LFs),\"unique \",len(set(purpose_LFs+mechanism_LFs+null_LFs)),\"purpose_LFs\",len(purpose_LFs),\"mechanism_LFs\",len(mechanism_LFs))\n",
    "print([lf.__name__ for lf in mechanism_LFs])"
   ]
  },
  {
   "cell_type": "code",
   "execution_count": 22,
   "metadata": {},
   "outputs": [],
   "source": [
    "from snorkel.learning import GenerativeModel\n",
    "from util import get_candidate_text\n",
    "import matplotlib.pyplot as plt\n",
    "import datetime\n",
    "\n",
    "# maybe write a cids_query session.query(Candidate.id).filter(Candidate.split == split) from def apply(self, split=0, key_group=0, replace_key_set=True, cids_query=None,\n",
    "#         **kwargs):\n",
    "def get_L_train(LFs,parallelism=1,split=0):\n",
    "    L_train=None\n",
    "    labeler=None\n",
    "    np.random.seed(1701)\n",
    "    labeler = LabelAnnotator(lfs=LFs)\n",
    "    print(datetime.datetime.now())\n",
    "    L_train = labeler.apply(split=split,parallelism=parallelism)# ,cids_query=session.query(Candidate.id).filter(Candidate.get_parent().id %10==1))\n",
    "    print(datetime.datetime.now())\n",
    "    print(type(L_train))\n",
    "    print(L_train.shape)\n",
    "    printmd(\"**Total non_overlapping_coverage on L_train (percentage of labelled over all)**  \"+str(L_train.non_overlapping_coverage()))\n",
    "    return L_train\n",
    "\n",
    "def get_train_marginals(L_train,step_size_nominator=0.1,epochs=100,threads=1,class_prior=False,decay=1.0,reg_param=1e-6):\n",
    "    try:\n",
    "        gen_model=None\n",
    "        print(datetime.datetime.now())\n",
    "        gen_model = GenerativeModel(lf_propensity=True,class_prior=class_prior)\n",
    "#         gen_model.train(L_train, cardinality=3, epochs=100, decay=0.95, step_size=step_size_nominator/L_train.shape[0], reg_param=0.0,verbose=False,threads=threads) # try step_size = 1/ next time? \n",
    "        gen_model.train(L_train, cardinality=3, epochs=epochs, decay=decay,step_size=step_size_nominator/1e2,reg_param=reg_param,verbose=False,threads=threads)\n",
    "        print(\"training finished \")\n",
    "        print(datetime.datetime.now())\n",
    "        print(\"Finished training generative model, now checking performance against development set labels...\")\n",
    "        print(\"Calculating marginals!\")\n",
    "        train_marginals = gen_model.marginals(L_train)  # the marginal probability of each candidate being True\n",
    "#         assert np.all(train_marginals.sum(axis=1) - np.ones(train_marginals.shape[0]) < 1e-10)\n",
    "        print(\"no exception\")\n",
    "        print(datetime.datetime.now())\n",
    "        return gen_model,train_marginals\n",
    "    except:\n",
    "        print(\"exception! \")\n",
    "        return gen_model,train_marginals\n"
   ]
  },
  {
   "cell_type": "code",
   "execution_count": 23,
   "metadata": {
    "scrolled": true
   },
   "outputs": [
    {
     "name": "stdout",
     "output_type": "stream",
     "text": [
      "snorkel_conn_string postgresql:///abstractnetwordfilter\n",
      "if snorkel_postgres? True\n",
      "2018-10-10 22:35:49.762663\n",
      "snorkel_conn_string postgresql:///abstractnetwordfilter\n",
      "if snorkel_postgres? True\n",
      "cids_count 49423\n",
      "key_group 0\n",
      "Clearing existing...\n",
      "snorkel_conn_string postgresql:///abstractnetwordfilter\n",
      "if snorkel_postgres? True\n",
      "clearning..\n",
      "Running UDF...\n",
      "snorkel_conn_string postgresql:///abstractnetwordfilter\n",
      "if snorkel_postgres? True\n",
      "[========================================] 100%\n",
      "\n",
      "2018-10-10 22:41:32.477841\n",
      "<class 'snorkel.annotations.csr_LabelMatrix'>\n",
      "(49423, 77)\n"
     ]
    },
    {
     "data": {
      "text/markdown": [
       "**Total non_overlapping_coverage on L_train (percentage of labelled over all)**  0.6867652712299941"
      ],
      "text/plain": [
       "<IPython.core.display.Markdown object>"
      ]
     },
     "metadata": {},
     "output_type": "display_data"
    }
   ],
   "source": [
    "L_train=get_L_train(purpose_LFs+mechanism_LFs+null_LFs)"
   ]
  },
  {
   "cell_type": "code",
   "execution_count": 24,
   "metadata": {},
   "outputs": [
    {
     "name": "stdout",
     "output_type": "stream",
     "text": [
      "80\n",
      "(49423, 77)\n"
     ]
    }
   ],
   "source": [
    "print(len(purpose_LFs+mechanism_LFs+null_LFs))\n",
    "print(L_train.shape)"
   ]
  },
  {
   "cell_type": "code",
   "execution_count": 25,
   "metadata": {},
   "outputs": [
    {
     "data": {
      "text/html": [
       "<div>\n",
       "<style scoped>\n",
       "    .dataframe tbody tr th:only-of-type {\n",
       "        vertical-align: middle;\n",
       "    }\n",
       "\n",
       "    .dataframe tbody tr th {\n",
       "        vertical-align: top;\n",
       "    }\n",
       "\n",
       "    .dataframe thead th {\n",
       "        text-align: right;\n",
       "    }\n",
       "</style>\n",
       "<table border=\"1\" class=\"dataframe\">\n",
       "  <thead>\n",
       "    <tr style=\"text-align: right;\">\n",
       "      <th></th>\n",
       "      <th>j</th>\n",
       "      <th>Coverage</th>\n",
       "      <th>Overlaps</th>\n",
       "      <th>Conflicts</th>\n",
       "    </tr>\n",
       "  </thead>\n",
       "  <tbody>\n",
       "    <tr>\n",
       "      <th>LF_purpose_TO_VB_neg2_True</th>\n",
       "      <td>0</td>\n",
       "      <td>0.162677</td>\n",
       "      <td>0.136030</td>\n",
       "      <td>0.081157</td>\n",
       "    </tr>\n",
       "    <tr>\n",
       "      <th>LF_purpose_that_can3_True</th>\n",
       "      <td>1</td>\n",
       "      <td>0.000688</td>\n",
       "      <td>0.000627</td>\n",
       "      <td>0.000364</td>\n",
       "    </tr>\n",
       "    <tr>\n",
       "      <th>LF_purpose_that_canneg2_True</th>\n",
       "      <td>2</td>\n",
       "      <td>0.005038</td>\n",
       "      <td>0.004856</td>\n",
       "      <td>0.002489</td>\n",
       "    </tr>\n",
       "    <tr>\n",
       "      <th>LF_purpose_for_the3_True</th>\n",
       "      <td>3</td>\n",
       "      <td>0.004168</td>\n",
       "      <td>0.004168</td>\n",
       "      <td>0.002266</td>\n",
       "    </tr>\n",
       "    <tr>\n",
       "      <th>LF_purpose_for_theneg2_True</th>\n",
       "      <td>4</td>\n",
       "      <td>0.030957</td>\n",
       "      <td>0.030957</td>\n",
       "      <td>0.018230</td>\n",
       "    </tr>\n",
       "    <tr>\n",
       "      <th>LF_purpose_for3_True</th>\n",
       "      <td>5</td>\n",
       "      <td>0.059082</td>\n",
       "      <td>0.053052</td>\n",
       "      <td>0.027518</td>\n",
       "    </tr>\n",
       "    <tr>\n",
       "      <th>LF_purpose_forneg2_True</th>\n",
       "      <td>6</td>\n",
       "      <td>0.262752</td>\n",
       "      <td>0.214859</td>\n",
       "      <td>0.135564</td>\n",
       "    </tr>\n",
       "    <tr>\n",
       "      <th>LF_purpose_goal3_True</th>\n",
       "      <td>7</td>\n",
       "      <td>0.000911</td>\n",
       "      <td>0.000789</td>\n",
       "      <td>0.000425</td>\n",
       "    </tr>\n",
       "    <tr>\n",
       "      <th>LF_purpose_goalneg2_True</th>\n",
       "      <td>8</td>\n",
       "      <td>0.004492</td>\n",
       "      <td>0.004026</td>\n",
       "      <td>0.001963</td>\n",
       "    </tr>\n",
       "    <tr>\n",
       "      <th>LF_purpose_problem3_True</th>\n",
       "      <td>9</td>\n",
       "      <td>0.007223</td>\n",
       "      <td>0.007223</td>\n",
       "      <td>0.003662</td>\n",
       "    </tr>\n",
       "    <tr>\n",
       "      <th>LF_purpose_problemneg2_True</th>\n",
       "      <td>10</td>\n",
       "      <td>0.036238</td>\n",
       "      <td>0.030876</td>\n",
       "      <td>0.020274</td>\n",
       "    </tr>\n",
       "    <tr>\n",
       "      <th>LF_purpose_challenging3_True</th>\n",
       "      <td>11</td>\n",
       "      <td>0.000486</td>\n",
       "      <td>0.000486</td>\n",
       "      <td>0.000182</td>\n",
       "    </tr>\n",
       "    <tr>\n",
       "      <th>LF_purpose_challengingneg2_True</th>\n",
       "      <td>12</td>\n",
       "      <td>0.002084</td>\n",
       "      <td>0.002003</td>\n",
       "      <td>0.000870</td>\n",
       "    </tr>\n",
       "    <tr>\n",
       "      <th>LF_purpose_fundamental3_True</th>\n",
       "      <td>13</td>\n",
       "      <td>0.000850</td>\n",
       "      <td>0.000809</td>\n",
       "      <td>0.000526</td>\n",
       "    </tr>\n",
       "    <tr>\n",
       "      <th>LF_purpose_fundamentalneg2_True</th>\n",
       "      <td>14</td>\n",
       "      <td>0.004856</td>\n",
       "      <td>0.004613</td>\n",
       "      <td>0.003379</td>\n",
       "    </tr>\n",
       "    <tr>\n",
       "      <th>LF_purpose_issue3_True</th>\n",
       "      <td>15</td>\n",
       "      <td>0.001821</td>\n",
       "      <td>0.001518</td>\n",
       "      <td>0.000243</td>\n",
       "    </tr>\n",
       "    <tr>\n",
       "      <th>LF_purpose_issueneg2_True</th>\n",
       "      <td>16</td>\n",
       "      <td>0.007567</td>\n",
       "      <td>0.005544</td>\n",
       "      <td>0.001740</td>\n",
       "    </tr>\n",
       "    <tr>\n",
       "      <th>LF_purpose_task3_True</th>\n",
       "      <td>17</td>\n",
       "      <td>0.002671</td>\n",
       "      <td>0.002671</td>\n",
       "      <td>0.001052</td>\n",
       "    </tr>\n",
       "    <tr>\n",
       "      <th>LF_purpose_taskneg2_True</th>\n",
       "      <td>18</td>\n",
       "      <td>0.011776</td>\n",
       "      <td>0.010501</td>\n",
       "      <td>0.005847</td>\n",
       "    </tr>\n",
       "    <tr>\n",
       "      <th>LF_purpose_investigate3_True</th>\n",
       "      <td>19</td>\n",
       "      <td>0.001153</td>\n",
       "      <td>0.001032</td>\n",
       "      <td>0.000688</td>\n",
       "    </tr>\n",
       "    <tr>\n",
       "      <th>LF_purpose_investigateneg2_True</th>\n",
       "      <td>20</td>\n",
       "      <td>0.008053</td>\n",
       "      <td>0.006556</td>\n",
       "      <td>0.004977</td>\n",
       "    </tr>\n",
       "    <tr>\n",
       "      <th>LF_purpose_bottleneck3_True</th>\n",
       "      <td>21</td>\n",
       "      <td>0.000061</td>\n",
       "      <td>0.000061</td>\n",
       "      <td>0.000000</td>\n",
       "    </tr>\n",
       "    <tr>\n",
       "      <th>LF_purpose_bottleneckneg1_True</th>\n",
       "      <td>22</td>\n",
       "      <td>0.000142</td>\n",
       "      <td>0.000101</td>\n",
       "      <td>0.000000</td>\n",
       "    </tr>\n",
       "    <tr>\n",
       "      <th>LF_purpose_problemneg1_True</th>\n",
       "      <td>23</td>\n",
       "      <td>0.033446</td>\n",
       "      <td>0.022257</td>\n",
       "      <td>0.017320</td>\n",
       "    </tr>\n",
       "    <tr>\n",
       "      <th>LF_purpose_challengingneg1_True</th>\n",
       "      <td>24</td>\n",
       "      <td>0.002347</td>\n",
       "      <td>0.001942</td>\n",
       "      <td>0.000344</td>\n",
       "    </tr>\n",
       "    <tr>\n",
       "      <th>LF_purpose_taskneg1_True</th>\n",
       "      <td>25</td>\n",
       "      <td>0.016672</td>\n",
       "      <td>0.012383</td>\n",
       "      <td>0.006576</td>\n",
       "    </tr>\n",
       "    <tr>\n",
       "      <th>purpose_for_doing</th>\n",
       "      <td>26</td>\n",
       "      <td>0.057463</td>\n",
       "      <td>0.057463</td>\n",
       "      <td>0.030836</td>\n",
       "    </tr>\n",
       "    <tr>\n",
       "      <th>purpose_to_verb</th>\n",
       "      <td>27</td>\n",
       "      <td>0.142808</td>\n",
       "      <td>0.125893</td>\n",
       "      <td>0.073630</td>\n",
       "    </tr>\n",
       "    <tr>\n",
       "      <th>LF_mechanism_PRP_VBP3_True</th>\n",
       "      <td>28</td>\n",
       "      <td>0.015580</td>\n",
       "      <td>0.011391</td>\n",
       "      <td>0.005281</td>\n",
       "    </tr>\n",
       "    <tr>\n",
       "      <th>LF_mechanism_PRP_VBPneg2_True</th>\n",
       "      <td>29</td>\n",
       "      <td>0.177428</td>\n",
       "      <td>0.143051</td>\n",
       "      <td>0.113996</td>\n",
       "    </tr>\n",
       "    <tr>\n",
       "      <th>LF_mechanism_PRP_RB_VBP3_True</th>\n",
       "      <td>30</td>\n",
       "      <td>0.000830</td>\n",
       "      <td>0.000263</td>\n",
       "      <td>0.000223</td>\n",
       "    </tr>\n",
       "    <tr>\n",
       "      <th>LF_mechanism_PRP_RB_VBPneg2_True</th>\n",
       "      <td>31</td>\n",
       "      <td>0.018332</td>\n",
       "      <td>0.013395</td>\n",
       "      <td>0.012727</td>\n",
       "    </tr>\n",
       "    <tr>\n",
       "      <th>LF_mechanism_we_propose3_True</th>\n",
       "      <td>32</td>\n",
       "      <td>0.001781</td>\n",
       "      <td>0.001781</td>\n",
       "      <td>0.000567</td>\n",
       "    </tr>\n",
       "    <tr>\n",
       "      <th>LF_mechanism_we_proposeneg2_True</th>\n",
       "      <td>33</td>\n",
       "      <td>0.020577</td>\n",
       "      <td>0.020577</td>\n",
       "      <td>0.013354</td>\n",
       "    </tr>\n",
       "    <tr>\n",
       "      <th>LF_mechanism_we_develop3_True</th>\n",
       "      <td>34</td>\n",
       "      <td>0.000324</td>\n",
       "      <td>0.000263</td>\n",
       "      <td>0.000000</td>\n",
       "    </tr>\n",
       "    <tr>\n",
       "      <th>LF_mechanism_we_developneg2_True</th>\n",
       "      <td>35</td>\n",
       "      <td>0.003318</td>\n",
       "      <td>0.002570</td>\n",
       "      <td>0.001437</td>\n",
       "    </tr>\n",
       "    <tr>\n",
       "      <th>LF_mechanism_we_provide3_True</th>\n",
       "      <td>36</td>\n",
       "      <td>0.000202</td>\n",
       "      <td>0.000202</td>\n",
       "      <td>0.000000</td>\n",
       "    </tr>\n",
       "    <tr>\n",
       "      <th>LF_mechanism_we_provideneg2_True</th>\n",
       "      <td>37</td>\n",
       "      <td>0.002023</td>\n",
       "      <td>0.002023</td>\n",
       "      <td>0.001457</td>\n",
       "    </tr>\n",
       "    <tr>\n",
       "      <th>LF_mechanism_we_have_developed3_True</th>\n",
       "      <td>38</td>\n",
       "      <td>0.000061</td>\n",
       "      <td>0.000061</td>\n",
       "      <td>0.000000</td>\n",
       "    </tr>\n",
       "    <tr>\n",
       "      <th>LF_mechanism_we_have_developedneg2_True</th>\n",
       "      <td>39</td>\n",
       "      <td>0.001032</td>\n",
       "      <td>0.001032</td>\n",
       "      <td>0.000121</td>\n",
       "    </tr>\n",
       "    <tr>\n",
       "      <th>LF_mechanism_we_also_propose3_True</th>\n",
       "      <td>40</td>\n",
       "      <td>0.000020</td>\n",
       "      <td>0.000020</td>\n",
       "      <td>0.000000</td>\n",
       "    </tr>\n",
       "    <tr>\n",
       "      <th>LF_mechanism_we_also_proposeneg2_True</th>\n",
       "      <td>41</td>\n",
       "      <td>0.000304</td>\n",
       "      <td>0.000304</td>\n",
       "      <td>0.000202</td>\n",
       "    </tr>\n",
       "    <tr>\n",
       "      <th>LF_mechanism_presents_3_True</th>\n",
       "      <td>42</td>\n",
       "      <td>0.001012</td>\n",
       "      <td>0.000647</td>\n",
       "      <td>0.000283</td>\n",
       "    </tr>\n",
       "    <tr>\n",
       "      <th>LF_mechanism_presents_neg2_True</th>\n",
       "      <td>43</td>\n",
       "      <td>0.011391</td>\n",
       "      <td>0.009105</td>\n",
       "      <td>0.008275</td>\n",
       "    </tr>\n",
       "    <tr>\n",
       "      <th>LF_mechanism_present_3_True</th>\n",
       "      <td>44</td>\n",
       "      <td>0.002104</td>\n",
       "      <td>0.001801</td>\n",
       "      <td>0.000668</td>\n",
       "    </tr>\n",
       "    <tr>\n",
       "      <th>LF_mechanism_present_neg2_True</th>\n",
       "      <td>45</td>\n",
       "      <td>0.021893</td>\n",
       "      <td>0.020679</td>\n",
       "      <td>0.014244</td>\n",
       "    </tr>\n",
       "    <tr>\n",
       "      <th>LF_mechanism_we_use_3_True</th>\n",
       "      <td>46</td>\n",
       "      <td>0.000202</td>\n",
       "      <td>0.000202</td>\n",
       "      <td>0.000040</td>\n",
       "    </tr>\n",
       "    <tr>\n",
       "      <th>LF_mechanism_we_use_neg2_True</th>\n",
       "      <td>47</td>\n",
       "      <td>0.003581</td>\n",
       "      <td>0.003581</td>\n",
       "      <td>0.002286</td>\n",
       "    </tr>\n",
       "    <tr>\n",
       "      <th>LF_mechanism_uses_3_True</th>\n",
       "      <td>48</td>\n",
       "      <td>0.001821</td>\n",
       "      <td>0.001376</td>\n",
       "      <td>0.000526</td>\n",
       "    </tr>\n",
       "    <tr>\n",
       "      <th>LF_mechanism_uses_neg2_True</th>\n",
       "      <td>49</td>\n",
       "      <td>0.015155</td>\n",
       "      <td>0.011189</td>\n",
       "      <td>0.008660</td>\n",
       "    </tr>\n",
       "    <tr>\n",
       "      <th>LF_mechanism_using_a_3_True</th>\n",
       "      <td>50</td>\n",
       "      <td>0.000324</td>\n",
       "      <td>0.000263</td>\n",
       "      <td>0.000243</td>\n",
       "    </tr>\n",
       "    <tr>\n",
       "      <th>LF_mechanism_using_a_neg2_True</th>\n",
       "      <td>51</td>\n",
       "      <td>0.006374</td>\n",
       "      <td>0.005665</td>\n",
       "      <td>0.005180</td>\n",
       "    </tr>\n",
       "    <tr>\n",
       "      <th>LF_mechanism_by_using3_True</th>\n",
       "      <td>52</td>\n",
       "      <td>0.000607</td>\n",
       "      <td>0.000587</td>\n",
       "      <td>0.000202</td>\n",
       "    </tr>\n",
       "    <tr>\n",
       "      <th>LF_mechanism_by_usingneg2_True</th>\n",
       "      <td>53</td>\n",
       "      <td>0.005079</td>\n",
       "      <td>0.004613</td>\n",
       "      <td>0.002327</td>\n",
       "    </tr>\n",
       "    <tr>\n",
       "      <th>LF_mechanism_method3_True</th>\n",
       "      <td>54</td>\n",
       "      <td>0.011270</td>\n",
       "      <td>0.009975</td>\n",
       "      <td>0.005746</td>\n",
       "    </tr>\n",
       "    <tr>\n",
       "      <th>LF_mechanism_methodneg2_True</th>\n",
       "      <td>55</td>\n",
       "      <td>0.057321</td>\n",
       "      <td>0.048479</td>\n",
       "      <td>0.040892</td>\n",
       "    </tr>\n",
       "    <tr>\n",
       "      <th>LF_mechanism_approach3_True</th>\n",
       "      <td>56</td>\n",
       "      <td>0.008235</td>\n",
       "      <td>0.007102</td>\n",
       "      <td>0.003682</td>\n",
       "    </tr>\n",
       "    <tr>\n",
       "      <th>LF_mechanism_approachneg2_True</th>\n",
       "      <td>57</td>\n",
       "      <td>0.052061</td>\n",
       "      <td>0.043016</td>\n",
       "      <td>0.036016</td>\n",
       "    </tr>\n",
       "    <tr>\n",
       "      <th>LF_mechanism_algorithm3_True</th>\n",
       "      <td>58</td>\n",
       "      <td>0.008923</td>\n",
       "      <td>0.008033</td>\n",
       "      <td>0.005382</td>\n",
       "    </tr>\n",
       "    <tr>\n",
       "      <th>LF_mechanism_algorithmneg2_True</th>\n",
       "      <td>59</td>\n",
       "      <td>0.046699</td>\n",
       "      <td>0.041883</td>\n",
       "      <td>0.036016</td>\n",
       "    </tr>\n",
       "    <tr>\n",
       "      <th>LF_mechanism_we_also_developed3_True</th>\n",
       "      <td>60</td>\n",
       "      <td>0.000000</td>\n",
       "      <td>0.000000</td>\n",
       "      <td>0.000000</td>\n",
       "    </tr>\n",
       "    <tr>\n",
       "      <th>LF_mechanism_we_also_developedneg2_True</th>\n",
       "      <td>61</td>\n",
       "      <td>0.000000</td>\n",
       "      <td>0.000000</td>\n",
       "      <td>0.000000</td>\n",
       "    </tr>\n",
       "    <tr>\n",
       "      <th>mechanism_by_adv_doing</th>\n",
       "      <td>62</td>\n",
       "      <td>0.026971</td>\n",
       "      <td>0.021974</td>\n",
       "      <td>0.018109</td>\n",
       "    </tr>\n",
       "    <tr>\n",
       "      <th>LF_null_test3_True</th>\n",
       "      <td>63</td>\n",
       "      <td>0.004047</td>\n",
       "      <td>0.003682</td>\n",
       "      <td>0.002752</td>\n",
       "    </tr>\n",
       "    <tr>\n",
       "      <th>LF_null_testneg2_True</th>\n",
       "      <td>64</td>\n",
       "      <td>0.018230</td>\n",
       "      <td>0.014791</td>\n",
       "      <td>0.013637</td>\n",
       "    </tr>\n",
       "    <tr>\n",
       "      <th>LF_null_dataset3_True</th>\n",
       "      <td>65</td>\n",
       "      <td>0.001153</td>\n",
       "      <td>0.001093</td>\n",
       "      <td>0.000789</td>\n",
       "    </tr>\n",
       "    <tr>\n",
       "      <th>LF_null_datasetneg2_True</th>\n",
       "      <td>66</td>\n",
       "      <td>0.004714</td>\n",
       "      <td>0.004067</td>\n",
       "      <td>0.003177</td>\n",
       "    </tr>\n",
       "    <tr>\n",
       "      <th>LF_null_experiment3_True</th>\n",
       "      <td>67</td>\n",
       "      <td>0.004836</td>\n",
       "      <td>0.004067</td>\n",
       "      <td>0.002104</td>\n",
       "    </tr>\n",
       "    <tr>\n",
       "      <th>LF_null_experimentneg2_True</th>\n",
       "      <td>68</td>\n",
       "      <td>0.036926</td>\n",
       "      <td>0.033203</td>\n",
       "      <td>0.024725</td>\n",
       "    </tr>\n",
       "    <tr>\n",
       "      <th>LF_null_results3_True</th>\n",
       "      <td>69</td>\n",
       "      <td>0.007446</td>\n",
       "      <td>0.006475</td>\n",
       "      <td>0.003035</td>\n",
       "    </tr>\n",
       "    <tr>\n",
       "      <th>LF_null_resultsneg2_True</th>\n",
       "      <td>70</td>\n",
       "      <td>0.054165</td>\n",
       "      <td>0.049127</td>\n",
       "      <td>0.035834</td>\n",
       "    </tr>\n",
       "    <tr>\n",
       "      <th>LF_null_show3_True</th>\n",
       "      <td>71</td>\n",
       "      <td>0.008680</td>\n",
       "      <td>0.008296</td>\n",
       "      <td>0.005079</td>\n",
       "    </tr>\n",
       "    <tr>\n",
       "      <th>LF_null_showneg2_True</th>\n",
       "      <td>72</td>\n",
       "      <td>0.066123</td>\n",
       "      <td>0.061631</td>\n",
       "      <td>0.049451</td>\n",
       "    </tr>\n",
       "    <tr>\n",
       "      <th>LF_null_indicate_that3_True</th>\n",
       "      <td>73</td>\n",
       "      <td>0.000162</td>\n",
       "      <td>0.000162</td>\n",
       "      <td>0.000040</td>\n",
       "    </tr>\n",
       "    <tr>\n",
       "      <th>LF_null_indicate_thatneg2_True</th>\n",
       "      <td>74</td>\n",
       "      <td>0.001214</td>\n",
       "      <td>0.001214</td>\n",
       "      <td>0.000567</td>\n",
       "    </tr>\n",
       "    <tr>\n",
       "      <th>LF_null_indicates_that3_True</th>\n",
       "      <td>75</td>\n",
       "      <td>0.000000</td>\n",
       "      <td>0.000000</td>\n",
       "      <td>0.000000</td>\n",
       "    </tr>\n",
       "    <tr>\n",
       "      <th>LF_null_indicates_thatneg2_True</th>\n",
       "      <td>76</td>\n",
       "      <td>0.000000</td>\n",
       "      <td>0.000000</td>\n",
       "      <td>0.000000</td>\n",
       "    </tr>\n",
       "  </tbody>\n",
       "</table>\n",
       "</div>"
      ],
      "text/plain": [
       "                                          j  Coverage  Overlaps  Conflicts\n",
       "LF_purpose_TO_VB_neg2_True                0  0.162677  0.136030   0.081157\n",
       "LF_purpose_that_can3_True                 1  0.000688  0.000627   0.000364\n",
       "LF_purpose_that_canneg2_True              2  0.005038  0.004856   0.002489\n",
       "LF_purpose_for_the3_True                  3  0.004168  0.004168   0.002266\n",
       "LF_purpose_for_theneg2_True               4  0.030957  0.030957   0.018230\n",
       "LF_purpose_for3_True                      5  0.059082  0.053052   0.027518\n",
       "LF_purpose_forneg2_True                   6  0.262752  0.214859   0.135564\n",
       "LF_purpose_goal3_True                     7  0.000911  0.000789   0.000425\n",
       "LF_purpose_goalneg2_True                  8  0.004492  0.004026   0.001963\n",
       "LF_purpose_problem3_True                  9  0.007223  0.007223   0.003662\n",
       "LF_purpose_problemneg2_True              10  0.036238  0.030876   0.020274\n",
       "LF_purpose_challenging3_True             11  0.000486  0.000486   0.000182\n",
       "LF_purpose_challengingneg2_True          12  0.002084  0.002003   0.000870\n",
       "LF_purpose_fundamental3_True             13  0.000850  0.000809   0.000526\n",
       "LF_purpose_fundamentalneg2_True          14  0.004856  0.004613   0.003379\n",
       "LF_purpose_issue3_True                   15  0.001821  0.001518   0.000243\n",
       "LF_purpose_issueneg2_True                16  0.007567  0.005544   0.001740\n",
       "LF_purpose_task3_True                    17  0.002671  0.002671   0.001052\n",
       "LF_purpose_taskneg2_True                 18  0.011776  0.010501   0.005847\n",
       "LF_purpose_investigate3_True             19  0.001153  0.001032   0.000688\n",
       "LF_purpose_investigateneg2_True          20  0.008053  0.006556   0.004977\n",
       "LF_purpose_bottleneck3_True              21  0.000061  0.000061   0.000000\n",
       "LF_purpose_bottleneckneg1_True           22  0.000142  0.000101   0.000000\n",
       "LF_purpose_problemneg1_True              23  0.033446  0.022257   0.017320\n",
       "LF_purpose_challengingneg1_True          24  0.002347  0.001942   0.000344\n",
       "LF_purpose_taskneg1_True                 25  0.016672  0.012383   0.006576\n",
       "purpose_for_doing                        26  0.057463  0.057463   0.030836\n",
       "purpose_to_verb                          27  0.142808  0.125893   0.073630\n",
       "LF_mechanism_PRP_VBP3_True               28  0.015580  0.011391   0.005281\n",
       "LF_mechanism_PRP_VBPneg2_True            29  0.177428  0.143051   0.113996\n",
       "LF_mechanism_PRP_RB_VBP3_True            30  0.000830  0.000263   0.000223\n",
       "LF_mechanism_PRP_RB_VBPneg2_True         31  0.018332  0.013395   0.012727\n",
       "LF_mechanism_we_propose3_True            32  0.001781  0.001781   0.000567\n",
       "LF_mechanism_we_proposeneg2_True         33  0.020577  0.020577   0.013354\n",
       "LF_mechanism_we_develop3_True            34  0.000324  0.000263   0.000000\n",
       "LF_mechanism_we_developneg2_True         35  0.003318  0.002570   0.001437\n",
       "LF_mechanism_we_provide3_True            36  0.000202  0.000202   0.000000\n",
       "LF_mechanism_we_provideneg2_True         37  0.002023  0.002023   0.001457\n",
       "LF_mechanism_we_have_developed3_True     38  0.000061  0.000061   0.000000\n",
       "LF_mechanism_we_have_developedneg2_True  39  0.001032  0.001032   0.000121\n",
       "LF_mechanism_we_also_propose3_True       40  0.000020  0.000020   0.000000\n",
       "LF_mechanism_we_also_proposeneg2_True    41  0.000304  0.000304   0.000202\n",
       "LF_mechanism_presents_3_True             42  0.001012  0.000647   0.000283\n",
       "LF_mechanism_presents_neg2_True          43  0.011391  0.009105   0.008275\n",
       "LF_mechanism_present_3_True              44  0.002104  0.001801   0.000668\n",
       "LF_mechanism_present_neg2_True           45  0.021893  0.020679   0.014244\n",
       "LF_mechanism_we_use_3_True               46  0.000202  0.000202   0.000040\n",
       "LF_mechanism_we_use_neg2_True            47  0.003581  0.003581   0.002286\n",
       "LF_mechanism_uses_3_True                 48  0.001821  0.001376   0.000526\n",
       "LF_mechanism_uses_neg2_True              49  0.015155  0.011189   0.008660\n",
       "LF_mechanism_using_a_3_True              50  0.000324  0.000263   0.000243\n",
       "LF_mechanism_using_a_neg2_True           51  0.006374  0.005665   0.005180\n",
       "LF_mechanism_by_using3_True              52  0.000607  0.000587   0.000202\n",
       "LF_mechanism_by_usingneg2_True           53  0.005079  0.004613   0.002327\n",
       "LF_mechanism_method3_True                54  0.011270  0.009975   0.005746\n",
       "LF_mechanism_methodneg2_True             55  0.057321  0.048479   0.040892\n",
       "LF_mechanism_approach3_True              56  0.008235  0.007102   0.003682\n",
       "LF_mechanism_approachneg2_True           57  0.052061  0.043016   0.036016\n",
       "LF_mechanism_algorithm3_True             58  0.008923  0.008033   0.005382\n",
       "LF_mechanism_algorithmneg2_True          59  0.046699  0.041883   0.036016\n",
       "LF_mechanism_we_also_developed3_True     60  0.000000  0.000000   0.000000\n",
       "LF_mechanism_we_also_developedneg2_True  61  0.000000  0.000000   0.000000\n",
       "mechanism_by_adv_doing                   62  0.026971  0.021974   0.018109\n",
       "LF_null_test3_True                       63  0.004047  0.003682   0.002752\n",
       "LF_null_testneg2_True                    64  0.018230  0.014791   0.013637\n",
       "LF_null_dataset3_True                    65  0.001153  0.001093   0.000789\n",
       "LF_null_datasetneg2_True                 66  0.004714  0.004067   0.003177\n",
       "LF_null_experiment3_True                 67  0.004836  0.004067   0.002104\n",
       "LF_null_experimentneg2_True              68  0.036926  0.033203   0.024725\n",
       "LF_null_results3_True                    69  0.007446  0.006475   0.003035\n",
       "LF_null_resultsneg2_True                 70  0.054165  0.049127   0.035834\n",
       "LF_null_show3_True                       71  0.008680  0.008296   0.005079\n",
       "LF_null_showneg2_True                    72  0.066123  0.061631   0.049451\n",
       "LF_null_indicate_that3_True              73  0.000162  0.000162   0.000040\n",
       "LF_null_indicate_thatneg2_True           74  0.001214  0.001214   0.000567\n",
       "LF_null_indicates_that3_True             75  0.000000  0.000000   0.000000\n",
       "LF_null_indicates_thatneg2_True          76  0.000000  0.000000   0.000000"
      ]
     },
     "execution_count": 25,
     "metadata": {},
     "output_type": "execute_result"
    }
   ],
   "source": [
    "import pandas as pd \n",
    "pd.set_option('display.max_rows', 500)\n",
    "\n",
    "L_train.lf_stats(session)"
   ]
  },
  {
   "cell_type": "code",
   "execution_count": 26,
   "metadata": {
    "scrolled": true
   },
   "outputs": [
    {
     "name": "stdout",
     "output_type": "stream",
     "text": [
      "2018-10-10 22:43:17.941988\n",
      "Compiles variable matrix\n",
      "_compile finished!\n",
      "Compiles variable matrix\n",
      "_compile finished!\n",
      "training finished \n",
      "2018-10-10 22:45:55.905724\n",
      "Finished training generative model, now checking performance against development set labels...\n",
      "Calculating marginals!\n",
      "no exception\n",
      "2018-10-10 22:46:06.602893\n",
      "PP 37143\n",
      "MN 8483\n",
      "NULL 3797\n",
      "amend PP 21662\n",
      "amend MN 8483\n",
      "amend NULL 19278\n"
     ]
    }
   ],
   "source": [
    "# for reg_param in [1e-3]: #[1e-3, 1e-6]:\n",
    "#     for decay in [0.95]: #[1.0,0.95]:\n",
    "#         for step_size_nominator in [0.001]: # [0.01, 0.1, 1]:\n",
    "#             for epochs in [5]: #,10]:#,30,50,100,200,500]:\n",
    "#                 print(\"grid search with L_train\",\"step_size_nominator\",step_size_nominator,\"epochs\",epochs,\"decay\",decay,\"reg_param\",reg_param)\n",
    "\n",
    "                \n",
    "reg_param=1e-3\n",
    "decay=0.95\n",
    "step_size_nominator=0.001\n",
    "epochs=5\n",
    "                        \n",
    "gen_model,train_marginals=get_train_marginals(L_train,threads=18,step_size_nominator=step_size_nominator,epochs=epochs,decay=decay,reg_param=reg_param)\n",
    "assert np.all(train_marginals.sum(axis=1) - np.ones(train_marginals.shape[0]) < 1e-10)\n",
    "\n",
    "winHighlight=train_marginals.argmax(axis=1)\n",
    "print(\"PP\",(winHighlight==0).sum())\n",
    "print(\"MN\",(winHighlight==1).sum())\n",
    "print(\"NULL\",(winHighlight==2).sum())\n",
    "\n",
    "# Amendment!!! winning highligh with default as NULL (the last occurence of largest value)\n",
    "train_marginals_reverse = train_marginals[:,::-1]\n",
    "winHighlight = train_marginals.shape[1] - np.argmax(train_marginals_reverse,axis=1) - 1\n",
    "print(\"amend PP\",(winHighlight==0).sum())\n",
    "print(\"amend MN\",(winHighlight==1).sum())\n",
    "print(\"amend NULL\",(winHighlight==2).sum())\n"
   ]
  },
  {
   "cell_type": "markdown",
   "metadata": {},
   "source": [
    "Let's check if the generative labels makes any sense. -> Seems okay. "
   ]
  },
  {
   "cell_type": "code",
   "execution_count": 28,
   "metadata": {},
   "outputs": [
    {
     "name": "stdout",
     "output_type": "stream",
     "text": [
      "0\n",
      "10000\n",
      "20000\n",
      "30000\n",
      "40000\n",
      "dispatch finished!! \n"
     ]
    },
    {
     "name": "stderr",
     "output_type": "stream",
     "text": [
      "/anaconda3/lib/python3.6/site-packages/matplotlib/pyplot.py:537: RuntimeWarning: More than 20 figures have been opened. Figures created through the pyplot interface (`matplotlib.pyplot.figure`) are retained until explicitly closed and may consume too much memory. (To control this warning, see the rcParam `figure.max_open_warning`).\n",
      "  max_open_warning, RuntimeWarning)\n"
     ]
    },
    {
     "name": "stdout",
     "output_type": "stream",
     "text": [
      "0\n",
      "10000\n",
      "20000\n",
      "30000\n",
      "40000\n",
      "dispatch finished!! \n"
     ]
    },
    {
     "data": {
      "text/plain": [
       "<Figure size 432x288 with 0 Axes>"
      ]
     },
     "metadata": {},
     "output_type": "display_data"
    },
    {
     "data": {
      "text/plain": [
       "<Figure size 2880x504 with 0 Axes>"
      ]
     },
     "metadata": {},
     "output_type": "display_data"
    },
    {
     "data": {
      "text/plain": [
       "<Figure size 2880x504 with 0 Axes>"
      ]
     },
     "metadata": {},
     "output_type": "display_data"
    },
    {
     "data": {
      "text/plain": [
       "<Figure size 2880x504 with 0 Axes>"
      ]
     },
     "metadata": {},
     "output_type": "display_data"
    },
    {
     "data": {
      "text/plain": [
       "<Figure size 2880x504 with 0 Axes>"
      ]
     },
     "metadata": {},
     "output_type": "display_data"
    },
    {
     "data": {
      "text/plain": [
       "<Figure size 2880x504 with 0 Axes>"
      ]
     },
     "metadata": {},
     "output_type": "display_data"
    },
    {
     "data": {
      "text/plain": [
       "<Figure size 2880x504 with 0 Axes>"
      ]
     },
     "metadata": {},
     "output_type": "display_data"
    },
    {
     "data": {
      "text/plain": [
       "<Figure size 2880x504 with 0 Axes>"
      ]
     },
     "metadata": {},
     "output_type": "display_data"
    },
    {
     "data": {
      "text/plain": [
       "<Figure size 2880x504 with 0 Axes>"
      ]
     },
     "metadata": {},
     "output_type": "display_data"
    },
    {
     "data": {
      "text/plain": [
       "<Figure size 2880x504 with 0 Axes>"
      ]
     },
     "metadata": {},
     "output_type": "display_data"
    },
    {
     "data": {
      "text/plain": [
       "<Figure size 2880x504 with 0 Axes>"
      ]
     },
     "metadata": {},
     "output_type": "display_data"
    },
    {
     "data": {
      "text/plain": [
       "<Figure size 2880x504 with 0 Axes>"
      ]
     },
     "metadata": {},
     "output_type": "display_data"
    },
    {
     "data": {
      "text/plain": [
       "<Figure size 2880x504 with 0 Axes>"
      ]
     },
     "metadata": {},
     "output_type": "display_data"
    },
    {
     "data": {
      "text/plain": [
       "<Figure size 2880x504 with 0 Axes>"
      ]
     },
     "metadata": {},
     "output_type": "display_data"
    },
    {
     "data": {
      "text/plain": [
       "<Figure size 2880x504 with 0 Axes>"
      ]
     },
     "metadata": {},
     "output_type": "display_data"
    },
    {
     "data": {
      "text/plain": [
       "<Figure size 2880x504 with 0 Axes>"
      ]
     },
     "metadata": {},
     "output_type": "display_data"
    },
    {
     "data": {
      "text/plain": [
       "<Figure size 2880x504 with 0 Axes>"
      ]
     },
     "metadata": {},
     "output_type": "display_data"
    },
    {
     "data": {
      "text/plain": [
       "<Figure size 2880x504 with 0 Axes>"
      ]
     },
     "metadata": {},
     "output_type": "display_data"
    },
    {
     "data": {
      "text/plain": [
       "<Figure size 2880x504 with 0 Axes>"
      ]
     },
     "metadata": {},
     "output_type": "display_data"
    },
    {
     "data": {
      "text/plain": [
       "<Figure size 2880x504 with 0 Axes>"
      ]
     },
     "metadata": {},
     "output_type": "display_data"
    },
    {
     "data": {
      "text/plain": [
       "<Figure size 2880x504 with 0 Axes>"
      ]
     },
     "metadata": {},
     "output_type": "display_data"
    },
    {
     "data": {
      "text/plain": [
       "<Figure size 2880x504 with 0 Axes>"
      ]
     },
     "metadata": {},
     "output_type": "display_data"
    },
    {
     "data": {
      "text/plain": [
       "<Figure size 2880x504 with 0 Axes>"
      ]
     },
     "metadata": {},
     "output_type": "display_data"
    },
    {
     "data": {
      "text/plain": [
       "<Figure size 2880x504 with 0 Axes>"
      ]
     },
     "metadata": {},
     "output_type": "display_data"
    },
    {
     "data": {
      "text/plain": [
       "<Figure size 2880x504 with 0 Axes>"
      ]
     },
     "metadata": {},
     "output_type": "display_data"
    },
    {
     "data": {
      "text/plain": [
       "<Figure size 2880x504 with 0 Axes>"
      ]
     },
     "metadata": {},
     "output_type": "display_data"
    },
    {
     "data": {
      "text/plain": [
       "<Figure size 2880x504 with 0 Axes>"
      ]
     },
     "metadata": {},
     "output_type": "display_data"
    },
    {
     "data": {
      "text/plain": [
       "<Figure size 2880x504 with 0 Axes>"
      ]
     },
     "metadata": {},
     "output_type": "display_data"
    },
    {
     "data": {
      "text/plain": [
       "<Figure size 2880x504 with 0 Axes>"
      ]
     },
     "metadata": {},
     "output_type": "display_data"
    },
    {
     "data": {
      "text/plain": [
       "<Figure size 2880x504 with 0 Axes>"
      ]
     },
     "metadata": {},
     "output_type": "display_data"
    },
    {
     "data": {
      "text/plain": [
       "<Figure size 2880x504 with 0 Axes>"
      ]
     },
     "metadata": {},
     "output_type": "display_data"
    },
    {
     "data": {
      "text/plain": [
       "<Figure size 2880x504 with 0 Axes>"
      ]
     },
     "metadata": {},
     "output_type": "display_data"
    },
    {
     "data": {
      "text/plain": [
       "<Figure size 2880x504 with 0 Axes>"
      ]
     },
     "metadata": {},
     "output_type": "display_data"
    },
    {
     "data": {
      "text/plain": [
       "<Figure size 2880x504 with 0 Axes>"
      ]
     },
     "metadata": {},
     "output_type": "display_data"
    },
    {
     "data": {
      "text/plain": [
       "<Figure size 2880x504 with 0 Axes>"
      ]
     },
     "metadata": {},
     "output_type": "display_data"
    },
    {
     "data": {
      "text/plain": [
       "<Figure size 2880x504 with 0 Axes>"
      ]
     },
     "metadata": {},
     "output_type": "display_data"
    },
    {
     "data": {
      "text/plain": [
       "<Figure size 2880x504 with 0 Axes>"
      ]
     },
     "metadata": {},
     "output_type": "display_data"
    },
    {
     "data": {
      "text/plain": [
       "<Figure size 2880x504 with 0 Axes>"
      ]
     },
     "metadata": {},
     "output_type": "display_data"
    },
    {
     "data": {
      "text/plain": [
       "<Figure size 2880x504 with 0 Axes>"
      ]
     },
     "metadata": {},
     "output_type": "display_data"
    },
    {
     "data": {
      "text/plain": [
       "<Figure size 2880x504 with 0 Axes>"
      ]
     },
     "metadata": {},
     "output_type": "display_data"
    },
    {
     "data": {
      "text/plain": [
       "<Figure size 2880x504 with 0 Axes>"
      ]
     },
     "metadata": {},
     "output_type": "display_data"
    },
    {
     "data": {
      "text/plain": [
       "<Figure size 2880x504 with 0 Axes>"
      ]
     },
     "metadata": {},
     "output_type": "display_data"
    },
    {
     "data": {
      "text/plain": [
       "<Figure size 2880x504 with 0 Axes>"
      ]
     },
     "metadata": {},
     "output_type": "display_data"
    },
    {
     "data": {
      "text/plain": [
       "<Figure size 2880x504 with 0 Axes>"
      ]
     },
     "metadata": {},
     "output_type": "display_data"
    },
    {
     "data": {
      "text/plain": [
       "<Figure size 2880x504 with 0 Axes>"
      ]
     },
     "metadata": {},
     "output_type": "display_data"
    },
    {
     "data": {
      "text/plain": [
       "<Figure size 2880x504 with 0 Axes>"
      ]
     },
     "metadata": {},
     "output_type": "display_data"
    },
    {
     "data": {
      "text/plain": [
       "<Figure size 2880x504 with 0 Axes>"
      ]
     },
     "metadata": {},
     "output_type": "display_data"
    },
    {
     "data": {
      "text/plain": [
       "<Figure size 2880x504 with 0 Axes>"
      ]
     },
     "metadata": {},
     "output_type": "display_data"
    },
    {
     "data": {
      "text/plain": [
       "<Figure size 2880x504 with 0 Axes>"
      ]
     },
     "metadata": {},
     "output_type": "display_data"
    },
    {
     "data": {
      "text/plain": [
       "<Figure size 2880x504 with 0 Axes>"
      ]
     },
     "metadata": {},
     "output_type": "display_data"
    },
    {
     "data": {
      "text/plain": [
       "<Figure size 2880x504 with 0 Axes>"
      ]
     },
     "metadata": {},
     "output_type": "display_data"
    },
    {
     "data": {
      "text/plain": [
       "<Figure size 2880x504 with 0 Axes>"
      ]
     },
     "metadata": {},
     "output_type": "display_data"
    },
    {
     "data": {
      "text/plain": [
       "<Figure size 2880x504 with 0 Axes>"
      ]
     },
     "metadata": {},
     "output_type": "display_data"
    },
    {
     "data": {
      "text/plain": [
       "<Figure size 2880x504 with 0 Axes>"
      ]
     },
     "metadata": {},
     "output_type": "display_data"
    },
    {
     "data": {
      "text/plain": [
       "<Figure size 2880x504 with 0 Axes>"
      ]
     },
     "metadata": {},
     "output_type": "display_data"
    },
    {
     "data": {
      "text/plain": [
       "<Figure size 2880x504 with 0 Axes>"
      ]
     },
     "metadata": {},
     "output_type": "display_data"
    },
    {
     "data": {
      "text/plain": [
       "<Figure size 2880x504 with 0 Axes>"
      ]
     },
     "metadata": {},
     "output_type": "display_data"
    },
    {
     "data": {
      "text/plain": [
       "<Figure size 2880x504 with 0 Axes>"
      ]
     },
     "metadata": {},
     "output_type": "display_data"
    },
    {
     "data": {
      "text/plain": [
       "<Figure size 2880x504 with 0 Axes>"
      ]
     },
     "metadata": {},
     "output_type": "display_data"
    },
    {
     "data": {
      "text/plain": [
       "<Figure size 2880x504 with 0 Axes>"
      ]
     },
     "metadata": {},
     "output_type": "display_data"
    },
    {
     "data": {
      "text/plain": [
       "<Figure size 2880x504 with 0 Axes>"
      ]
     },
     "metadata": {},
     "output_type": "display_data"
    },
    {
     "data": {
      "text/plain": [
       "<Figure size 2880x504 with 0 Axes>"
      ]
     },
     "metadata": {},
     "output_type": "display_data"
    },
    {
     "data": {
      "text/plain": [
       "<Figure size 2880x504 with 0 Axes>"
      ]
     },
     "metadata": {},
     "output_type": "display_data"
    },
    {
     "data": {
      "text/plain": [
       "<Figure size 2880x504 with 0 Axes>"
      ]
     },
     "metadata": {},
     "output_type": "display_data"
    },
    {
     "data": {
      "text/plain": [
       "<Figure size 2880x504 with 0 Axes>"
      ]
     },
     "metadata": {},
     "output_type": "display_data"
    },
    {
     "data": {
      "text/plain": [
       "<Figure size 2880x504 with 0 Axes>"
      ]
     },
     "metadata": {},
     "output_type": "display_data"
    },
    {
     "data": {
      "text/plain": [
       "<Figure size 2880x504 with 0 Axes>"
      ]
     },
     "metadata": {},
     "output_type": "display_data"
    },
    {
     "data": {
      "text/plain": [
       "<Figure size 2880x504 with 0 Axes>"
      ]
     },
     "metadata": {},
     "output_type": "display_data"
    },
    {
     "data": {
      "text/plain": [
       "<Figure size 2880x504 with 0 Axes>"
      ]
     },
     "metadata": {},
     "output_type": "display_data"
    },
    {
     "data": {
      "text/plain": [
       "<Figure size 2880x504 with 0 Axes>"
      ]
     },
     "metadata": {},
     "output_type": "display_data"
    },
    {
     "data": {
      "text/plain": [
       "<Figure size 2880x504 with 0 Axes>"
      ]
     },
     "metadata": {},
     "output_type": "display_data"
    },
    {
     "data": {
      "text/plain": [
       "<Figure size 2880x504 with 0 Axes>"
      ]
     },
     "metadata": {},
     "output_type": "display_data"
    },
    {
     "data": {
      "text/plain": [
       "<Figure size 2880x504 with 0 Axes>"
      ]
     },
     "metadata": {},
     "output_type": "display_data"
    },
    {
     "data": {
      "text/plain": [
       "<Figure size 2880x504 with 0 Axes>"
      ]
     },
     "metadata": {},
     "output_type": "display_data"
    },
    {
     "data": {
      "text/plain": [
       "<Figure size 2880x504 with 0 Axes>"
      ]
     },
     "metadata": {},
     "output_type": "display_data"
    },
    {
     "data": {
      "text/plain": [
       "<Figure size 2880x504 with 0 Axes>"
      ]
     },
     "metadata": {},
     "output_type": "display_data"
    },
    {
     "data": {
      "text/plain": [
       "<Figure size 2880x504 with 0 Axes>"
      ]
     },
     "metadata": {},
     "output_type": "display_data"
    },
    {
     "data": {
      "text/plain": [
       "<Figure size 2880x504 with 0 Axes>"
      ]
     },
     "metadata": {},
     "output_type": "display_data"
    },
    {
     "data": {
      "text/plain": [
       "<Figure size 2880x504 with 0 Axes>"
      ]
     },
     "metadata": {},
     "output_type": "display_data"
    },
    {
     "data": {
      "text/plain": [
       "<Figure size 2880x504 with 0 Axes>"
      ]
     },
     "metadata": {},
     "output_type": "display_data"
    },
    {
     "data": {
      "text/plain": [
       "<Figure size 2880x504 with 0 Axes>"
      ]
     },
     "metadata": {},
     "output_type": "display_data"
    },
    {
     "data": {
      "text/plain": [
       "<Figure size 2880x504 with 0 Axes>"
      ]
     },
     "metadata": {},
     "output_type": "display_data"
    },
    {
     "data": {
      "text/plain": [
       "<Figure size 2880x504 with 0 Axes>"
      ]
     },
     "metadata": {},
     "output_type": "display_data"
    },
    {
     "data": {
      "text/plain": [
       "<Figure size 2880x504 with 0 Axes>"
      ]
     },
     "metadata": {},
     "output_type": "display_data"
    },
    {
     "data": {
      "text/plain": [
       "<Figure size 2880x504 with 0 Axes>"
      ]
     },
     "metadata": {},
     "output_type": "display_data"
    },
    {
     "data": {
      "text/plain": [
       "<Figure size 2880x504 with 0 Axes>"
      ]
     },
     "metadata": {},
     "output_type": "display_data"
    },
    {
     "data": {
      "text/plain": [
       "<Figure size 2880x504 with 0 Axes>"
      ]
     },
     "metadata": {},
     "output_type": "display_data"
    },
    {
     "data": {
      "text/plain": [
       "<Figure size 2880x504 with 0 Axes>"
      ]
     },
     "metadata": {},
     "output_type": "display_data"
    },
    {
     "data": {
      "text/plain": [
       "<Figure size 2880x504 with 0 Axes>"
      ]
     },
     "metadata": {},
     "output_type": "display_data"
    },
    {
     "data": {
      "text/plain": [
       "<Figure size 2880x504 with 0 Axes>"
      ]
     },
     "metadata": {},
     "output_type": "display_data"
    },
    {
     "data": {
      "text/plain": [
       "<Figure size 2880x504 with 0 Axes>"
      ]
     },
     "metadata": {},
     "output_type": "display_data"
    },
    {
     "data": {
      "text/plain": [
       "<Figure size 2880x504 with 0 Axes>"
      ]
     },
     "metadata": {},
     "output_type": "display_data"
    },
    {
     "data": {
      "text/plain": [
       "<Figure size 2880x504 with 0 Axes>"
      ]
     },
     "metadata": {},
     "output_type": "display_data"
    },
    {
     "data": {
      "text/plain": [
       "<Figure size 2880x504 with 0 Axes>"
      ]
     },
     "metadata": {},
     "output_type": "display_data"
    },
    {
     "data": {
      "text/plain": [
       "<Figure size 2880x504 with 0 Axes>"
      ]
     },
     "metadata": {},
     "output_type": "display_data"
    },
    {
     "data": {
      "text/plain": [
       "<Figure size 2880x504 with 0 Axes>"
      ]
     },
     "metadata": {},
     "output_type": "display_data"
    },
    {
     "data": {
      "text/plain": [
       "<Figure size 2880x504 with 0 Axes>"
      ]
     },
     "metadata": {},
     "output_type": "display_data"
    },
    {
     "data": {
      "text/plain": [
       "<Figure size 2880x504 with 0 Axes>"
      ]
     },
     "metadata": {},
     "output_type": "display_data"
    },
    {
     "data": {
      "text/plain": [
       "<Figure size 2880x504 with 0 Axes>"
      ]
     },
     "metadata": {},
     "output_type": "display_data"
    },
    {
     "data": {
      "text/plain": [
       "<Figure size 2880x504 with 0 Axes>"
      ]
     },
     "metadata": {},
     "output_type": "display_data"
    },
    {
     "data": {
      "text/plain": [
       "<Figure size 2880x504 with 0 Axes>"
      ]
     },
     "metadata": {},
     "output_type": "display_data"
    },
    {
     "data": {
      "text/plain": [
       "<Figure size 2880x504 with 0 Axes>"
      ]
     },
     "metadata": {},
     "output_type": "display_data"
    },
    {
     "data": {
      "text/plain": [
       "<Figure size 2880x504 with 0 Axes>"
      ]
     },
     "metadata": {},
     "output_type": "display_data"
    },
    {
     "data": {
      "text/plain": [
       "<Figure size 2880x504 with 0 Axes>"
      ]
     },
     "metadata": {},
     "output_type": "display_data"
    },
    {
     "data": {
      "text/plain": [
       "<Figure size 2880x504 with 0 Axes>"
      ]
     },
     "metadata": {},
     "output_type": "display_data"
    },
    {
     "data": {
      "text/plain": [
       "<Figure size 2880x504 with 0 Axes>"
      ]
     },
     "metadata": {},
     "output_type": "display_data"
    },
    {
     "data": {
      "text/plain": [
       "<Figure size 2880x504 with 0 Axes>"
      ]
     },
     "metadata": {},
     "output_type": "display_data"
    },
    {
     "data": {
      "text/plain": [
       "<Figure size 2880x504 with 0 Axes>"
      ]
     },
     "metadata": {},
     "output_type": "display_data"
    },
    {
     "data": {
      "text/plain": [
       "<Figure size 2880x504 with 0 Axes>"
      ]
     },
     "metadata": {},
     "output_type": "display_data"
    },
    {
     "data": {
      "text/plain": [
       "<Figure size 2880x504 with 0 Axes>"
      ]
     },
     "metadata": {},
     "output_type": "display_data"
    },
    {
     "data": {
      "text/plain": [
       "<Figure size 2880x504 with 0 Axes>"
      ]
     },
     "metadata": {},
     "output_type": "display_data"
    },
    {
     "data": {
      "text/plain": [
       "<Figure size 2880x504 with 0 Axes>"
      ]
     },
     "metadata": {},
     "output_type": "display_data"
    },
    {
     "data": {
      "text/plain": [
       "<Figure size 2880x504 with 0 Axes>"
      ]
     },
     "metadata": {},
     "output_type": "display_data"
    },
    {
     "data": {
      "text/plain": [
       "<Figure size 2880x504 with 0 Axes>"
      ]
     },
     "metadata": {},
     "output_type": "display_data"
    },
    {
     "data": {
      "text/plain": [
       "<Figure size 2880x504 with 0 Axes>"
      ]
     },
     "metadata": {},
     "output_type": "display_data"
    },
    {
     "data": {
      "text/plain": [
       "<Figure size 2880x504 with 0 Axes>"
      ]
     },
     "metadata": {},
     "output_type": "display_data"
    },
    {
     "data": {
      "text/plain": [
       "<Figure size 2880x504 with 0 Axes>"
      ]
     },
     "metadata": {},
     "output_type": "display_data"
    },
    {
     "data": {
      "text/plain": [
       "<Figure size 2880x504 with 0 Axes>"
      ]
     },
     "metadata": {},
     "output_type": "display_data"
    },
    {
     "data": {
      "text/plain": [
       "<Figure size 2880x504 with 0 Axes>"
      ]
     },
     "metadata": {},
     "output_type": "display_data"
    },
    {
     "data": {
      "text/plain": [
       "<Figure size 2880x504 with 0 Axes>"
      ]
     },
     "metadata": {},
     "output_type": "display_data"
    },
    {
     "data": {
      "text/plain": [
       "<Figure size 2880x504 with 0 Axes>"
      ]
     },
     "metadata": {},
     "output_type": "display_data"
    },
    {
     "data": {
      "text/plain": [
       "<Figure size 2880x504 with 0 Axes>"
      ]
     },
     "metadata": {},
     "output_type": "display_data"
    },
    {
     "data": {
      "text/plain": [
       "<Figure size 2880x504 with 0 Axes>"
      ]
     },
     "metadata": {},
     "output_type": "display_data"
    },
    {
     "data": {
      "text/plain": [
       "<Figure size 2880x504 with 0 Axes>"
      ]
     },
     "metadata": {},
     "output_type": "display_data"
    },
    {
     "data": {
      "text/plain": [
       "<Figure size 2880x504 with 0 Axes>"
      ]
     },
     "metadata": {},
     "output_type": "display_data"
    },
    {
     "data": {
      "text/plain": [
       "<Figure size 2880x504 with 0 Axes>"
      ]
     },
     "metadata": {},
     "output_type": "display_data"
    },
    {
     "data": {
      "text/plain": [
       "<Figure size 2880x504 with 0 Axes>"
      ]
     },
     "metadata": {},
     "output_type": "display_data"
    },
    {
     "data": {
      "text/plain": [
       "<Figure size 2880x504 with 0 Axes>"
      ]
     },
     "metadata": {},
     "output_type": "display_data"
    },
    {
     "data": {
      "text/plain": [
       "<Figure size 2880x504 with 0 Axes>"
      ]
     },
     "metadata": {},
     "output_type": "display_data"
    },
    {
     "data": {
      "text/plain": [
       "<Figure size 2880x504 with 0 Axes>"
      ]
     },
     "metadata": {},
     "output_type": "display_data"
    },
    {
     "data": {
      "text/plain": [
       "<Figure size 2880x504 with 0 Axes>"
      ]
     },
     "metadata": {},
     "output_type": "display_data"
    },
    {
     "data": {
      "text/plain": [
       "<Figure size 2880x504 with 0 Axes>"
      ]
     },
     "metadata": {},
     "output_type": "display_data"
    },
    {
     "data": {
      "text/plain": [
       "<Figure size 2880x504 with 0 Axes>"
      ]
     },
     "metadata": {},
     "output_type": "display_data"
    },
    {
     "data": {
      "text/plain": [
       "<Figure size 2880x504 with 0 Axes>"
      ]
     },
     "metadata": {},
     "output_type": "display_data"
    },
    {
     "data": {
      "text/plain": [
       "<Figure size 2880x504 with 0 Axes>"
      ]
     },
     "metadata": {},
     "output_type": "display_data"
    },
    {
     "data": {
      "text/plain": [
       "<Figure size 2880x504 with 0 Axes>"
      ]
     },
     "metadata": {},
     "output_type": "display_data"
    },
    {
     "data": {
      "text/plain": [
       "<Figure size 2880x504 with 0 Axes>"
      ]
     },
     "metadata": {},
     "output_type": "display_data"
    },
    {
     "data": {
      "text/plain": [
       "<Figure size 2880x504 with 0 Axes>"
      ]
     },
     "metadata": {},
     "output_type": "display_data"
    },
    {
     "data": {
      "text/plain": [
       "<Figure size 2880x504 with 0 Axes>"
      ]
     },
     "metadata": {},
     "output_type": "display_data"
    },
    {
     "data": {
      "text/plain": [
       "<Figure size 2880x504 with 0 Axes>"
      ]
     },
     "metadata": {},
     "output_type": "display_data"
    },
    {
     "data": {
      "text/plain": [
       "<Figure size 2880x504 with 0 Axes>"
      ]
     },
     "metadata": {},
     "output_type": "display_data"
    },
    {
     "data": {
      "text/plain": [
       "<Figure size 2880x504 with 0 Axes>"
      ]
     },
     "metadata": {},
     "output_type": "display_data"
    },
    {
     "data": {
      "text/plain": [
       "<Figure size 2880x504 with 0 Axes>"
      ]
     },
     "metadata": {},
     "output_type": "display_data"
    },
    {
     "data": {
      "text/plain": [
       "<Figure size 2880x504 with 0 Axes>"
      ]
     },
     "metadata": {},
     "output_type": "display_data"
    },
    {
     "data": {
      "text/plain": [
       "<Figure size 2880x504 with 0 Axes>"
      ]
     },
     "metadata": {},
     "output_type": "display_data"
    },
    {
     "data": {
      "text/plain": [
       "<Figure size 2880x504 with 0 Axes>"
      ]
     },
     "metadata": {},
     "output_type": "display_data"
    },
    {
     "data": {
      "text/plain": [
       "<Figure size 2880x504 with 0 Axes>"
      ]
     },
     "metadata": {},
     "output_type": "display_data"
    },
    {
     "data": {
      "text/plain": [
       "<Figure size 2880x504 with 0 Axes>"
      ]
     },
     "metadata": {},
     "output_type": "display_data"
    },
    {
     "data": {
      "text/plain": [
       "<Figure size 2880x504 with 0 Axes>"
      ]
     },
     "metadata": {},
     "output_type": "display_data"
    },
    {
     "data": {
      "text/plain": [
       "<Figure size 2880x504 with 0 Axes>"
      ]
     },
     "metadata": {},
     "output_type": "display_data"
    },
    {
     "data": {
      "text/plain": [
       "<Figure size 2880x504 with 0 Axes>"
      ]
     },
     "metadata": {},
     "output_type": "display_data"
    },
    {
     "data": {
      "text/plain": [
       "<Figure size 2880x504 with 0 Axes>"
      ]
     },
     "metadata": {},
     "output_type": "display_data"
    },
    {
     "data": {
      "text/plain": [
       "<Figure size 2880x504 with 0 Axes>"
      ]
     },
     "metadata": {},
     "output_type": "display_data"
    },
    {
     "data": {
      "text/plain": [
       "<Figure size 2880x504 with 0 Axes>"
      ]
     },
     "metadata": {},
     "output_type": "display_data"
    },
    {
     "data": {
      "text/plain": [
       "<Figure size 2880x504 with 0 Axes>"
      ]
     },
     "metadata": {},
     "output_type": "display_data"
    },
    {
     "data": {
      "text/plain": [
       "<Figure size 2880x504 with 0 Axes>"
      ]
     },
     "metadata": {},
     "output_type": "display_data"
    },
    {
     "data": {
      "text/plain": [
       "<Figure size 2880x504 with 0 Axes>"
      ]
     },
     "metadata": {},
     "output_type": "display_data"
    },
    {
     "data": {
      "text/plain": [
       "<Figure size 2880x504 with 0 Axes>"
      ]
     },
     "metadata": {},
     "output_type": "display_data"
    },
    {
     "data": {
      "text/plain": [
       "<Figure size 2880x504 with 0 Axes>"
      ]
     },
     "metadata": {},
     "output_type": "display_data"
    },
    {
     "data": {
      "text/plain": [
       "<Figure size 2880x504 with 0 Axes>"
      ]
     },
     "metadata": {},
     "output_type": "display_data"
    },
    {
     "data": {
      "text/plain": [
       "<Figure size 2880x504 with 0 Axes>"
      ]
     },
     "metadata": {},
     "output_type": "display_data"
    },
    {
     "data": {
      "text/plain": [
       "<Figure size 2880x504 with 0 Axes>"
      ]
     },
     "metadata": {},
     "output_type": "display_data"
    },
    {
     "data": {
      "text/plain": [
       "<Figure size 2880x504 with 0 Axes>"
      ]
     },
     "metadata": {},
     "output_type": "display_data"
    },
    {
     "data": {
      "text/plain": [
       "<Figure size 2880x504 with 0 Axes>"
      ]
     },
     "metadata": {},
     "output_type": "display_data"
    },
    {
     "data": {
      "text/plain": [
       "<Figure size 2880x504 with 0 Axes>"
      ]
     },
     "metadata": {},
     "output_type": "display_data"
    },
    {
     "data": {
      "text/plain": [
       "<Figure size 2880x504 with 0 Axes>"
      ]
     },
     "metadata": {},
     "output_type": "display_data"
    },
    {
     "data": {
      "text/plain": [
       "<Figure size 2880x504 with 0 Axes>"
      ]
     },
     "metadata": {},
     "output_type": "display_data"
    },
    {
     "data": {
      "text/plain": [
       "<Figure size 2880x504 with 0 Axes>"
      ]
     },
     "metadata": {},
     "output_type": "display_data"
    },
    {
     "data": {
      "text/plain": [
       "<Figure size 2880x504 with 0 Axes>"
      ]
     },
     "metadata": {},
     "output_type": "display_data"
    },
    {
     "data": {
      "text/plain": [
       "<Figure size 2880x504 with 0 Axes>"
      ]
     },
     "metadata": {},
     "output_type": "display_data"
    },
    {
     "data": {
      "text/plain": [
       "<Figure size 2880x504 with 0 Axes>"
      ]
     },
     "metadata": {},
     "output_type": "display_data"
    },
    {
     "data": {
      "text/plain": [
       "<Figure size 2880x504 with 0 Axes>"
      ]
     },
     "metadata": {},
     "output_type": "display_data"
    },
    {
     "data": {
      "text/plain": [
       "<Figure size 2880x504 with 0 Axes>"
      ]
     },
     "metadata": {},
     "output_type": "display_data"
    },
    {
     "data": {
      "text/plain": [
       "<Figure size 2880x504 with 0 Axes>"
      ]
     },
     "metadata": {},
     "output_type": "display_data"
    },
    {
     "data": {
      "text/plain": [
       "<Figure size 2880x504 with 0 Axes>"
      ]
     },
     "metadata": {},
     "output_type": "display_data"
    },
    {
     "data": {
      "text/plain": [
       "<Figure size 2880x504 with 0 Axes>"
      ]
     },
     "metadata": {},
     "output_type": "display_data"
    },
    {
     "data": {
      "text/plain": [
       "<Figure size 2880x504 with 0 Axes>"
      ]
     },
     "metadata": {},
     "output_type": "display_data"
    },
    {
     "data": {
      "text/plain": [
       "<Figure size 2880x504 with 0 Axes>"
      ]
     },
     "metadata": {},
     "output_type": "display_data"
    },
    {
     "data": {
      "text/plain": [
       "<Figure size 2880x504 with 0 Axes>"
      ]
     },
     "metadata": {},
     "output_type": "display_data"
    },
    {
     "data": {
      "text/plain": [
       "<Figure size 2880x504 with 0 Axes>"
      ]
     },
     "metadata": {},
     "output_type": "display_data"
    },
    {
     "data": {
      "text/plain": [
       "<Figure size 2880x504 with 0 Axes>"
      ]
     },
     "metadata": {},
     "output_type": "display_data"
    },
    {
     "data": {
      "text/plain": [
       "<Figure size 2880x504 with 0 Axes>"
      ]
     },
     "metadata": {},
     "output_type": "display_data"
    },
    {
     "data": {
      "text/plain": [
       "<Figure size 2880x504 with 0 Axes>"
      ]
     },
     "metadata": {},
     "output_type": "display_data"
    },
    {
     "data": {
      "text/plain": [
       "<Figure size 2880x504 with 0 Axes>"
      ]
     },
     "metadata": {},
     "output_type": "display_data"
    },
    {
     "data": {
      "text/plain": [
       "<Figure size 2880x504 with 0 Axes>"
      ]
     },
     "metadata": {},
     "output_type": "display_data"
    },
    {
     "data": {
      "text/plain": [
       "<Figure size 2880x504 with 0 Axes>"
      ]
     },
     "metadata": {},
     "output_type": "display_data"
    },
    {
     "data": {
      "text/plain": [
       "<Figure size 2880x504 with 0 Axes>"
      ]
     },
     "metadata": {},
     "output_type": "display_data"
    },
    {
     "data": {
      "text/plain": [
       "<Figure size 2880x504 with 0 Axes>"
      ]
     },
     "metadata": {},
     "output_type": "display_data"
    },
    {
     "data": {
      "text/plain": [
       "<Figure size 2880x504 with 0 Axes>"
      ]
     },
     "metadata": {},
     "output_type": "display_data"
    },
    {
     "data": {
      "text/plain": [
       "<Figure size 2880x504 with 0 Axes>"
      ]
     },
     "metadata": {},
     "output_type": "display_data"
    },
    {
     "data": {
      "text/plain": [
       "<Figure size 2880x504 with 0 Axes>"
      ]
     },
     "metadata": {},
     "output_type": "display_data"
    },
    {
     "data": {
      "text/plain": [
       "<Figure size 2880x504 with 0 Axes>"
      ]
     },
     "metadata": {},
     "output_type": "display_data"
    },
    {
     "data": {
      "text/plain": [
       "<Figure size 2880x504 with 0 Axes>"
      ]
     },
     "metadata": {},
     "output_type": "display_data"
    },
    {
     "data": {
      "text/plain": [
       "<Figure size 2880x504 with 0 Axes>"
      ]
     },
     "metadata": {},
     "output_type": "display_data"
    },
    {
     "data": {
      "text/plain": [
       "<Figure size 2880x504 with 0 Axes>"
      ]
     },
     "metadata": {},
     "output_type": "display_data"
    },
    {
     "data": {
      "text/plain": [
       "<Figure size 2880x504 with 0 Axes>"
      ]
     },
     "metadata": {},
     "output_type": "display_data"
    },
    {
     "data": {
      "text/plain": [
       "<Figure size 2880x504 with 0 Axes>"
      ]
     },
     "metadata": {},
     "output_type": "display_data"
    },
    {
     "data": {
      "text/plain": [
       "<Figure size 2880x504 with 0 Axes>"
      ]
     },
     "metadata": {},
     "output_type": "display_data"
    },
    {
     "data": {
      "text/plain": [
       "<Figure size 2880x504 with 0 Axes>"
      ]
     },
     "metadata": {},
     "output_type": "display_data"
    },
    {
     "data": {
      "text/plain": [
       "<Figure size 2880x504 with 0 Axes>"
      ]
     },
     "metadata": {},
     "output_type": "display_data"
    },
    {
     "data": {
      "text/plain": [
       "<Figure size 2880x504 with 0 Axes>"
      ]
     },
     "metadata": {},
     "output_type": "display_data"
    },
    {
     "data": {
      "text/plain": [
       "<Figure size 2880x504 with 0 Axes>"
      ]
     },
     "metadata": {},
     "output_type": "display_data"
    },
    {
     "data": {
      "text/plain": [
       "<Figure size 2880x504 with 0 Axes>"
      ]
     },
     "metadata": {},
     "output_type": "display_data"
    },
    {
     "data": {
      "text/plain": [
       "<Figure size 2880x504 with 0 Axes>"
      ]
     },
     "metadata": {},
     "output_type": "display_data"
    },
    {
     "data": {
      "text/plain": [
       "<Figure size 2880x504 with 0 Axes>"
      ]
     },
     "metadata": {},
     "output_type": "display_data"
    },
    {
     "data": {
      "text/plain": [
       "<Figure size 2880x504 with 0 Axes>"
      ]
     },
     "metadata": {},
     "output_type": "display_data"
    },
    {
     "data": {
      "text/plain": [
       "<Figure size 2880x504 with 0 Axes>"
      ]
     },
     "metadata": {},
     "output_type": "display_data"
    },
    {
     "data": {
      "text/plain": [
       "<Figure size 2880x504 with 0 Axes>"
      ]
     },
     "metadata": {},
     "output_type": "display_data"
    },
    {
     "data": {
      "text/plain": [
       "<Figure size 2880x504 with 0 Axes>"
      ]
     },
     "metadata": {},
     "output_type": "display_data"
    },
    {
     "data": {
      "text/plain": [
       "<Figure size 2880x504 with 0 Axes>"
      ]
     },
     "metadata": {},
     "output_type": "display_data"
    },
    {
     "data": {
      "text/plain": [
       "<Figure size 2880x504 with 0 Axes>"
      ]
     },
     "metadata": {},
     "output_type": "display_data"
    },
    {
     "data": {
      "text/plain": [
       "<Figure size 2880x504 with 0 Axes>"
      ]
     },
     "metadata": {},
     "output_type": "display_data"
    },
    {
     "data": {
      "text/plain": [
       "<Figure size 2880x504 with 0 Axes>"
      ]
     },
     "metadata": {},
     "output_type": "display_data"
    },
    {
     "data": {
      "text/plain": [
       "<Figure size 2880x504 with 0 Axes>"
      ]
     },
     "metadata": {},
     "output_type": "display_data"
    },
    {
     "data": {
      "text/plain": [
       "<Figure size 2880x504 with 0 Axes>"
      ]
     },
     "metadata": {},
     "output_type": "display_data"
    },
    {
     "data": {
      "text/plain": [
       "<Figure size 2880x504 with 0 Axes>"
      ]
     },
     "metadata": {},
     "output_type": "display_data"
    },
    {
     "data": {
      "text/plain": [
       "<Figure size 2880x504 with 0 Axes>"
      ]
     },
     "metadata": {},
     "output_type": "display_data"
    },
    {
     "data": {
      "text/plain": [
       "<Figure size 2880x504 with 0 Axes>"
      ]
     },
     "metadata": {},
     "output_type": "display_data"
    },
    {
     "data": {
      "text/plain": [
       "<Figure size 2880x504 with 0 Axes>"
      ]
     },
     "metadata": {},
     "output_type": "display_data"
    },
    {
     "data": {
      "text/plain": [
       "<Figure size 2880x504 with 0 Axes>"
      ]
     },
     "metadata": {},
     "output_type": "display_data"
    },
    {
     "data": {
      "text/plain": [
       "<Figure size 2880x504 with 0 Axes>"
      ]
     },
     "metadata": {},
     "output_type": "display_data"
    },
    {
     "data": {
      "text/plain": [
       "<Figure size 2880x504 with 0 Axes>"
      ]
     },
     "metadata": {},
     "output_type": "display_data"
    },
    {
     "data": {
      "text/plain": [
       "<Figure size 2880x504 with 0 Axes>"
      ]
     },
     "metadata": {},
     "output_type": "display_data"
    },
    {
     "data": {
      "text/plain": [
       "<Figure size 2880x504 with 0 Axes>"
      ]
     },
     "metadata": {},
     "output_type": "display_data"
    },
    {
     "data": {
      "text/plain": [
       "<Figure size 2880x504 with 0 Axes>"
      ]
     },
     "metadata": {},
     "output_type": "display_data"
    },
    {
     "data": {
      "text/plain": [
       "<Figure size 2880x504 with 0 Axes>"
      ]
     },
     "metadata": {},
     "output_type": "display_data"
    },
    {
     "data": {
      "text/plain": [
       "<Figure size 2880x504 with 0 Axes>"
      ]
     },
     "metadata": {},
     "output_type": "display_data"
    },
    {
     "data": {
      "text/plain": [
       "<Figure size 2880x504 with 0 Axes>"
      ]
     },
     "metadata": {},
     "output_type": "display_data"
    },
    {
     "data": {
      "text/plain": [
       "<Figure size 2880x504 with 0 Axes>"
      ]
     },
     "metadata": {},
     "output_type": "display_data"
    },
    {
     "data": {
      "text/plain": [
       "<Figure size 2880x504 with 0 Axes>"
      ]
     },
     "metadata": {},
     "output_type": "display_data"
    },
    {
     "data": {
      "text/plain": [
       "<Figure size 2880x504 with 0 Axes>"
      ]
     },
     "metadata": {},
     "output_type": "display_data"
    },
    {
     "data": {
      "text/plain": [
       "<Figure size 2880x504 with 0 Axes>"
      ]
     },
     "metadata": {},
     "output_type": "display_data"
    },
    {
     "data": {
      "text/plain": [
       "<Figure size 2880x504 with 0 Axes>"
      ]
     },
     "metadata": {},
     "output_type": "display_data"
    },
    {
     "data": {
      "text/plain": [
       "<Figure size 2880x504 with 0 Axes>"
      ]
     },
     "metadata": {},
     "output_type": "display_data"
    },
    {
     "data": {
      "text/plain": [
       "<Figure size 2880x504 with 0 Axes>"
      ]
     },
     "metadata": {},
     "output_type": "display_data"
    },
    {
     "data": {
      "text/plain": [
       "<Figure size 2880x504 with 0 Axes>"
      ]
     },
     "metadata": {},
     "output_type": "display_data"
    },
    {
     "data": {
      "text/plain": [
       "<Figure size 2880x504 with 0 Axes>"
      ]
     },
     "metadata": {},
     "output_type": "display_data"
    },
    {
     "data": {
      "text/plain": [
       "<Figure size 2880x504 with 0 Axes>"
      ]
     },
     "metadata": {},
     "output_type": "display_data"
    },
    {
     "data": {
      "text/plain": [
       "<Figure size 2880x504 with 0 Axes>"
      ]
     },
     "metadata": {},
     "output_type": "display_data"
    },
    {
     "data": {
      "text/plain": [
       "<Figure size 2880x504 with 0 Axes>"
      ]
     },
     "metadata": {},
     "output_type": "display_data"
    },
    {
     "data": {
      "text/plain": [
       "<Figure size 2880x504 with 0 Axes>"
      ]
     },
     "metadata": {},
     "output_type": "display_data"
    },
    {
     "data": {
      "text/plain": [
       "<Figure size 2880x504 with 0 Axes>"
      ]
     },
     "metadata": {},
     "output_type": "display_data"
    },
    {
     "data": {
      "text/plain": [
       "<Figure size 2880x504 with 0 Axes>"
      ]
     },
     "metadata": {},
     "output_type": "display_data"
    },
    {
     "data": {
      "text/plain": [
       "<Figure size 2880x504 with 0 Axes>"
      ]
     },
     "metadata": {},
     "output_type": "display_data"
    },
    {
     "data": {
      "text/plain": [
       "<Figure size 2880x504 with 0 Axes>"
      ]
     },
     "metadata": {},
     "output_type": "display_data"
    },
    {
     "data": {
      "text/plain": [
       "<Figure size 2880x504 with 0 Axes>"
      ]
     },
     "metadata": {},
     "output_type": "display_data"
    },
    {
     "data": {
      "text/plain": [
       "<Figure size 2880x504 with 0 Axes>"
      ]
     },
     "metadata": {},
     "output_type": "display_data"
    },
    {
     "data": {
      "text/plain": [
       "<Figure size 2880x504 with 0 Axes>"
      ]
     },
     "metadata": {},
     "output_type": "display_data"
    },
    {
     "data": {
      "text/plain": [
       "<Figure size 2880x504 with 0 Axes>"
      ]
     },
     "metadata": {},
     "output_type": "display_data"
    },
    {
     "data": {
      "text/plain": [
       "<Figure size 2880x504 with 0 Axes>"
      ]
     },
     "metadata": {},
     "output_type": "display_data"
    },
    {
     "data": {
      "text/plain": [
       "<Figure size 2880x504 with 0 Axes>"
      ]
     },
     "metadata": {},
     "output_type": "display_data"
    },
    {
     "data": {
      "text/plain": [
       "<Figure size 2880x504 with 0 Axes>"
      ]
     },
     "metadata": {},
     "output_type": "display_data"
    },
    {
     "data": {
      "text/plain": [
       "<Figure size 2880x504 with 0 Axes>"
      ]
     },
     "metadata": {},
     "output_type": "display_data"
    },
    {
     "data": {
      "text/plain": [
       "<Figure size 2880x504 with 0 Axes>"
      ]
     },
     "metadata": {},
     "output_type": "display_data"
    },
    {
     "data": {
      "text/plain": [
       "<Figure size 2880x504 with 0 Axes>"
      ]
     },
     "metadata": {},
     "output_type": "display_data"
    },
    {
     "data": {
      "text/plain": [
       "<Figure size 2880x504 with 0 Axes>"
      ]
     },
     "metadata": {},
     "output_type": "display_data"
    },
    {
     "data": {
      "text/plain": [
       "<Figure size 2880x504 with 0 Axes>"
      ]
     },
     "metadata": {},
     "output_type": "display_data"
    },
    {
     "data": {
      "text/plain": [
       "<Figure size 2880x504 with 0 Axes>"
      ]
     },
     "metadata": {},
     "output_type": "display_data"
    },
    {
     "data": {
      "text/plain": [
       "<Figure size 2880x504 with 0 Axes>"
      ]
     },
     "metadata": {},
     "output_type": "display_data"
    },
    {
     "data": {
      "text/plain": [
       "<Figure size 2880x504 with 0 Axes>"
      ]
     },
     "metadata": {},
     "output_type": "display_data"
    },
    {
     "data": {
      "text/plain": [
       "<Figure size 2880x504 with 0 Axes>"
      ]
     },
     "metadata": {},
     "output_type": "display_data"
    },
    {
     "data": {
      "text/plain": [
       "<Figure size 2880x504 with 0 Axes>"
      ]
     },
     "metadata": {},
     "output_type": "display_data"
    },
    {
     "data": {
      "text/plain": [
       "<Figure size 2880x504 with 0 Axes>"
      ]
     },
     "metadata": {},
     "output_type": "display_data"
    },
    {
     "data": {
      "text/plain": [
       "<Figure size 2880x504 with 0 Axes>"
      ]
     },
     "metadata": {},
     "output_type": "display_data"
    },
    {
     "data": {
      "text/plain": [
       "<Figure size 2880x504 with 0 Axes>"
      ]
     },
     "metadata": {},
     "output_type": "display_data"
    },
    {
     "data": {
      "text/plain": [
       "<Figure size 2880x504 with 0 Axes>"
      ]
     },
     "metadata": {},
     "output_type": "display_data"
    },
    {
     "data": {
      "text/plain": [
       "<Figure size 2880x504 with 0 Axes>"
      ]
     },
     "metadata": {},
     "output_type": "display_data"
    },
    {
     "data": {
      "text/plain": [
       "<Figure size 2880x504 with 0 Axes>"
      ]
     },
     "metadata": {},
     "output_type": "display_data"
    },
    {
     "data": {
      "text/plain": [
       "<Figure size 2880x504 with 0 Axes>"
      ]
     },
     "metadata": {},
     "output_type": "display_data"
    },
    {
     "data": {
      "text/plain": [
       "<Figure size 2880x504 with 0 Axes>"
      ]
     },
     "metadata": {},
     "output_type": "display_data"
    },
    {
     "data": {
      "text/plain": [
       "<Figure size 2880x504 with 0 Axes>"
      ]
     },
     "metadata": {},
     "output_type": "display_data"
    },
    {
     "data": {
      "text/plain": [
       "<Figure size 2880x504 with 0 Axes>"
      ]
     },
     "metadata": {},
     "output_type": "display_data"
    },
    {
     "data": {
      "text/plain": [
       "<Figure size 2880x504 with 0 Axes>"
      ]
     },
     "metadata": {},
     "output_type": "display_data"
    },
    {
     "data": {
      "text/plain": [
       "<Figure size 2880x504 with 0 Axes>"
      ]
     },
     "metadata": {},
     "output_type": "display_data"
    },
    {
     "data": {
      "text/plain": [
       "<Figure size 2880x504 with 0 Axes>"
      ]
     },
     "metadata": {},
     "output_type": "display_data"
    },
    {
     "data": {
      "text/plain": [
       "<Figure size 2880x504 with 0 Axes>"
      ]
     },
     "metadata": {},
     "output_type": "display_data"
    },
    {
     "data": {
      "text/plain": [
       "<Figure size 2880x504 with 0 Axes>"
      ]
     },
     "metadata": {},
     "output_type": "display_data"
    },
    {
     "data": {
      "text/plain": [
       "<Figure size 2880x504 with 0 Axes>"
      ]
     },
     "metadata": {},
     "output_type": "display_data"
    },
    {
     "data": {
      "text/plain": [
       "<Figure size 2880x504 with 0 Axes>"
      ]
     },
     "metadata": {},
     "output_type": "display_data"
    },
    {
     "data": {
      "text/plain": [
       "<Figure size 2880x504 with 0 Axes>"
      ]
     },
     "metadata": {},
     "output_type": "display_data"
    },
    {
     "data": {
      "text/plain": [
       "<Figure size 2880x504 with 0 Axes>"
      ]
     },
     "metadata": {},
     "output_type": "display_data"
    },
    {
     "data": {
      "text/plain": [
       "<Figure size 2880x504 with 0 Axes>"
      ]
     },
     "metadata": {},
     "output_type": "display_data"
    },
    {
     "data": {
      "text/plain": [
       "<Figure size 2880x504 with 0 Axes>"
      ]
     },
     "metadata": {},
     "output_type": "display_data"
    },
    {
     "data": {
      "text/plain": [
       "<Figure size 2880x504 with 0 Axes>"
      ]
     },
     "metadata": {},
     "output_type": "display_data"
    },
    {
     "data": {
      "text/plain": [
       "<Figure size 2880x504 with 0 Axes>"
      ]
     },
     "metadata": {},
     "output_type": "display_data"
    },
    {
     "data": {
      "text/plain": [
       "<Figure size 2880x504 with 0 Axes>"
      ]
     },
     "metadata": {},
     "output_type": "display_data"
    },
    {
     "data": {
      "text/plain": [
       "<Figure size 2880x504 with 0 Axes>"
      ]
     },
     "metadata": {},
     "output_type": "display_data"
    },
    {
     "data": {
      "text/plain": [
       "<Figure size 2880x504 with 0 Axes>"
      ]
     },
     "metadata": {},
     "output_type": "display_data"
    },
    {
     "data": {
      "text/plain": [
       "<Figure size 2880x504 with 0 Axes>"
      ]
     },
     "metadata": {},
     "output_type": "display_data"
    },
    {
     "data": {
      "text/plain": [
       "<Figure size 2880x504 with 0 Axes>"
      ]
     },
     "metadata": {},
     "output_type": "display_data"
    },
    {
     "data": {
      "text/plain": [
       "<Figure size 2880x504 with 0 Axes>"
      ]
     },
     "metadata": {},
     "output_type": "display_data"
    },
    {
     "data": {
      "text/plain": [
       "<Figure size 2880x504 with 0 Axes>"
      ]
     },
     "metadata": {},
     "output_type": "display_data"
    },
    {
     "data": {
      "text/plain": [
       "<Figure size 2880x504 with 0 Axes>"
      ]
     },
     "metadata": {},
     "output_type": "display_data"
    },
    {
     "data": {
      "text/plain": [
       "<Figure size 2880x504 with 0 Axes>"
      ]
     },
     "metadata": {},
     "output_type": "display_data"
    },
    {
     "data": {
      "text/plain": [
       "<Figure size 2880x504 with 0 Axes>"
      ]
     },
     "metadata": {},
     "output_type": "display_data"
    },
    {
     "data": {
      "text/plain": [
       "<Figure size 2880x504 with 0 Axes>"
      ]
     },
     "metadata": {},
     "output_type": "display_data"
    },
    {
     "data": {
      "text/plain": [
       "<Figure size 2880x504 with 0 Axes>"
      ]
     },
     "metadata": {},
     "output_type": "display_data"
    },
    {
     "data": {
      "text/plain": [
       "<Figure size 2880x504 with 0 Axes>"
      ]
     },
     "metadata": {},
     "output_type": "display_data"
    },
    {
     "data": {
      "text/plain": [
       "<Figure size 2880x504 with 0 Axes>"
      ]
     },
     "metadata": {},
     "output_type": "display_data"
    },
    {
     "data": {
      "text/plain": [
       "<Figure size 2880x504 with 0 Axes>"
      ]
     },
     "metadata": {},
     "output_type": "display_data"
    },
    {
     "data": {
      "text/plain": [
       "<Figure size 2880x504 with 0 Axes>"
      ]
     },
     "metadata": {},
     "output_type": "display_data"
    },
    {
     "data": {
      "text/plain": [
       "<Figure size 2880x504 with 0 Axes>"
      ]
     },
     "metadata": {},
     "output_type": "display_data"
    },
    {
     "data": {
      "text/plain": [
       "<Figure size 2880x504 with 0 Axes>"
      ]
     },
     "metadata": {},
     "output_type": "display_data"
    },
    {
     "data": {
      "text/plain": [
       "<Figure size 2880x504 with 0 Axes>"
      ]
     },
     "metadata": {},
     "output_type": "display_data"
    },
    {
     "data": {
      "text/plain": [
       "<Figure size 2880x504 with 0 Axes>"
      ]
     },
     "metadata": {},
     "output_type": "display_data"
    },
    {
     "data": {
      "text/plain": [
       "<Figure size 2880x504 with 0 Axes>"
      ]
     },
     "metadata": {},
     "output_type": "display_data"
    },
    {
     "data": {
      "text/plain": [
       "<Figure size 2880x504 with 0 Axes>"
      ]
     },
     "metadata": {},
     "output_type": "display_data"
    },
    {
     "data": {
      "text/plain": [
       "<Figure size 2880x504 with 0 Axes>"
      ]
     },
     "metadata": {},
     "output_type": "display_data"
    },
    {
     "data": {
      "text/plain": [
       "<Figure size 2880x504 with 0 Axes>"
      ]
     },
     "metadata": {},
     "output_type": "display_data"
    },
    {
     "data": {
      "text/plain": [
       "<Figure size 2880x504 with 0 Axes>"
      ]
     },
     "metadata": {},
     "output_type": "display_data"
    },
    {
     "data": {
      "text/plain": [
       "<Figure size 2880x504 with 0 Axes>"
      ]
     },
     "metadata": {},
     "output_type": "display_data"
    },
    {
     "data": {
      "text/plain": [
       "<Figure size 2880x504 with 0 Axes>"
      ]
     },
     "metadata": {},
     "output_type": "display_data"
    },
    {
     "data": {
      "text/plain": [
       "<Figure size 2880x504 with 0 Axes>"
      ]
     },
     "metadata": {},
     "output_type": "display_data"
    },
    {
     "data": {
      "text/plain": [
       "<Figure size 2880x504 with 0 Axes>"
      ]
     },
     "metadata": {},
     "output_type": "display_data"
    },
    {
     "data": {
      "text/plain": [
       "<Figure size 2880x504 with 0 Axes>"
      ]
     },
     "metadata": {},
     "output_type": "display_data"
    },
    {
     "data": {
      "text/plain": [
       "<Figure size 2880x504 with 0 Axes>"
      ]
     },
     "metadata": {},
     "output_type": "display_data"
    },
    {
     "data": {
      "text/plain": [
       "<Figure size 2880x504 with 0 Axes>"
      ]
     },
     "metadata": {},
     "output_type": "display_data"
    },
    {
     "data": {
      "text/plain": [
       "<Figure size 2880x504 with 0 Axes>"
      ]
     },
     "metadata": {},
     "output_type": "display_data"
    },
    {
     "data": {
      "text/plain": [
       "<Figure size 2880x504 with 0 Axes>"
      ]
     },
     "metadata": {},
     "output_type": "display_data"
    },
    {
     "data": {
      "text/plain": [
       "<Figure size 2880x504 with 0 Axes>"
      ]
     },
     "metadata": {},
     "output_type": "display_data"
    },
    {
     "data": {
      "text/plain": [
       "<Figure size 2880x504 with 0 Axes>"
      ]
     },
     "metadata": {},
     "output_type": "display_data"
    },
    {
     "data": {
      "text/plain": [
       "<Figure size 2880x504 with 0 Axes>"
      ]
     },
     "metadata": {},
     "output_type": "display_data"
    },
    {
     "data": {
      "text/plain": [
       "<Figure size 2880x504 with 0 Axes>"
      ]
     },
     "metadata": {},
     "output_type": "display_data"
    },
    {
     "data": {
      "text/plain": [
       "<Figure size 2880x504 with 0 Axes>"
      ]
     },
     "metadata": {},
     "output_type": "display_data"
    },
    {
     "data": {
      "text/plain": [
       "<Figure size 2880x504 with 0 Axes>"
      ]
     },
     "metadata": {},
     "output_type": "display_data"
    },
    {
     "data": {
      "text/plain": [
       "<Figure size 2880x504 with 0 Axes>"
      ]
     },
     "metadata": {},
     "output_type": "display_data"
    },
    {
     "data": {
      "text/plain": [
       "<Figure size 2880x504 with 0 Axes>"
      ]
     },
     "metadata": {},
     "output_type": "display_data"
    },
    {
     "data": {
      "text/plain": [
       "<Figure size 2880x504 with 0 Axes>"
      ]
     },
     "metadata": {},
     "output_type": "display_data"
    },
    {
     "data": {
      "text/plain": [
       "<Figure size 2880x504 with 0 Axes>"
      ]
     },
     "metadata": {},
     "output_type": "display_data"
    },
    {
     "data": {
      "text/plain": [
       "<Figure size 2880x504 with 0 Axes>"
      ]
     },
     "metadata": {},
     "output_type": "display_data"
    },
    {
     "data": {
      "text/plain": [
       "<Figure size 2880x504 with 0 Axes>"
      ]
     },
     "metadata": {},
     "output_type": "display_data"
    },
    {
     "data": {
      "text/plain": [
       "<Figure size 2880x504 with 0 Axes>"
      ]
     },
     "metadata": {},
     "output_type": "display_data"
    },
    {
     "data": {
      "text/plain": [
       "<Figure size 2880x504 with 0 Axes>"
      ]
     },
     "metadata": {},
     "output_type": "display_data"
    },
    {
     "data": {
      "text/plain": [
       "<Figure size 2880x504 with 0 Axes>"
      ]
     },
     "metadata": {},
     "output_type": "display_data"
    },
    {
     "data": {
      "text/plain": [
       "<Figure size 2880x504 with 0 Axes>"
      ]
     },
     "metadata": {},
     "output_type": "display_data"
    },
    {
     "data": {
      "text/plain": [
       "<Figure size 2880x504 with 0 Axes>"
      ]
     },
     "metadata": {},
     "output_type": "display_data"
    },
    {
     "data": {
      "text/plain": [
       "<Figure size 2880x504 with 0 Axes>"
      ]
     },
     "metadata": {},
     "output_type": "display_data"
    },
    {
     "data": {
      "text/plain": [
       "<Figure size 2880x504 with 0 Axes>"
      ]
     },
     "metadata": {},
     "output_type": "display_data"
    },
    {
     "data": {
      "text/plain": [
       "<Figure size 2880x504 with 0 Axes>"
      ]
     },
     "metadata": {},
     "output_type": "display_data"
    },
    {
     "data": {
      "text/plain": [
       "<Figure size 2880x504 with 0 Axes>"
      ]
     },
     "metadata": {},
     "output_type": "display_data"
    },
    {
     "data": {
      "text/plain": [
       "<Figure size 2880x504 with 0 Axes>"
      ]
     },
     "metadata": {},
     "output_type": "display_data"
    },
    {
     "data": {
      "text/plain": [
       "<Figure size 2880x504 with 0 Axes>"
      ]
     },
     "metadata": {},
     "output_type": "display_data"
    },
    {
     "data": {
      "text/plain": [
       "<Figure size 2880x504 with 0 Axes>"
      ]
     },
     "metadata": {},
     "output_type": "display_data"
    },
    {
     "data": {
      "text/plain": [
       "<Figure size 2880x504 with 0 Axes>"
      ]
     },
     "metadata": {},
     "output_type": "display_data"
    },
    {
     "data": {
      "text/plain": [
       "<Figure size 2880x504 with 0 Axes>"
      ]
     },
     "metadata": {},
     "output_type": "display_data"
    },
    {
     "data": {
      "text/plain": [
       "<Figure size 2880x504 with 0 Axes>"
      ]
     },
     "metadata": {},
     "output_type": "display_data"
    },
    {
     "data": {
      "text/plain": [
       "<Figure size 2880x504 with 0 Axes>"
      ]
     },
     "metadata": {},
     "output_type": "display_data"
    },
    {
     "data": {
      "text/plain": [
       "<Figure size 2880x504 with 0 Axes>"
      ]
     },
     "metadata": {},
     "output_type": "display_data"
    },
    {
     "data": {
      "text/plain": [
       "<Figure size 2880x504 with 0 Axes>"
      ]
     },
     "metadata": {},
     "output_type": "display_data"
    },
    {
     "data": {
      "text/plain": [
       "<Figure size 2880x504 with 0 Axes>"
      ]
     },
     "metadata": {},
     "output_type": "display_data"
    },
    {
     "data": {
      "text/plain": [
       "<Figure size 2880x504 with 0 Axes>"
      ]
     },
     "metadata": {},
     "output_type": "display_data"
    },
    {
     "data": {
      "text/plain": [
       "<Figure size 2880x504 with 0 Axes>"
      ]
     },
     "metadata": {},
     "output_type": "display_data"
    },
    {
     "data": {
      "text/plain": [
       "<Figure size 2880x504 with 0 Axes>"
      ]
     },
     "metadata": {},
     "output_type": "display_data"
    },
    {
     "data": {
      "text/plain": [
       "<Figure size 2880x504 with 0 Axes>"
      ]
     },
     "metadata": {},
     "output_type": "display_data"
    },
    {
     "data": {
      "text/plain": [
       "<Figure size 2880x504 with 0 Axes>"
      ]
     },
     "metadata": {},
     "output_type": "display_data"
    },
    {
     "data": {
      "text/plain": [
       "<Figure size 2880x504 with 0 Axes>"
      ]
     },
     "metadata": {},
     "output_type": "display_data"
    },
    {
     "data": {
      "text/plain": [
       "<Figure size 2880x504 with 0 Axes>"
      ]
     },
     "metadata": {},
     "output_type": "display_data"
    },
    {
     "data": {
      "text/plain": [
       "<Figure size 2880x504 with 0 Axes>"
      ]
     },
     "metadata": {},
     "output_type": "display_data"
    },
    {
     "data": {
      "text/plain": [
       "<Figure size 2880x504 with 0 Axes>"
      ]
     },
     "metadata": {},
     "output_type": "display_data"
    },
    {
     "data": {
      "text/plain": [
       "<Figure size 2880x504 with 0 Axes>"
      ]
     },
     "metadata": {},
     "output_type": "display_data"
    },
    {
     "data": {
      "text/plain": [
       "<Figure size 2880x504 with 0 Axes>"
      ]
     },
     "metadata": {},
     "output_type": "display_data"
    },
    {
     "data": {
      "text/plain": [
       "<Figure size 2880x504 with 0 Axes>"
      ]
     },
     "metadata": {},
     "output_type": "display_data"
    },
    {
     "data": {
      "text/plain": [
       "<Figure size 2880x504 with 0 Axes>"
      ]
     },
     "metadata": {},
     "output_type": "display_data"
    },
    {
     "data": {
      "text/plain": [
       "<Figure size 2880x504 with 0 Axes>"
      ]
     },
     "metadata": {},
     "output_type": "display_data"
    },
    {
     "data": {
      "text/plain": [
       "<Figure size 2880x504 with 0 Axes>"
      ]
     },
     "metadata": {},
     "output_type": "display_data"
    },
    {
     "data": {
      "text/plain": [
       "<Figure size 2880x504 with 0 Axes>"
      ]
     },
     "metadata": {},
     "output_type": "display_data"
    },
    {
     "data": {
      "text/plain": [
       "<Figure size 2880x504 with 0 Axes>"
      ]
     },
     "metadata": {},
     "output_type": "display_data"
    },
    {
     "data": {
      "text/plain": [
       "<Figure size 2880x504 with 0 Axes>"
      ]
     },
     "metadata": {},
     "output_type": "display_data"
    },
    {
     "data": {
      "text/plain": [
       "<Figure size 2880x504 with 0 Axes>"
      ]
     },
     "metadata": {},
     "output_type": "display_data"
    },
    {
     "data": {
      "text/plain": [
       "<Figure size 2880x504 with 0 Axes>"
      ]
     },
     "metadata": {},
     "output_type": "display_data"
    },
    {
     "data": {
      "text/plain": [
       "<Figure size 2880x504 with 0 Axes>"
      ]
     },
     "metadata": {},
     "output_type": "display_data"
    },
    {
     "data": {
      "text/plain": [
       "<Figure size 2880x504 with 0 Axes>"
      ]
     },
     "metadata": {},
     "output_type": "display_data"
    },
    {
     "data": {
      "text/plain": [
       "<Figure size 2880x504 with 0 Axes>"
      ]
     },
     "metadata": {},
     "output_type": "display_data"
    },
    {
     "data": {
      "text/plain": [
       "<Figure size 2880x504 with 0 Axes>"
      ]
     },
     "metadata": {},
     "output_type": "display_data"
    },
    {
     "data": {
      "text/plain": [
       "<Figure size 2880x504 with 0 Axes>"
      ]
     },
     "metadata": {},
     "output_type": "display_data"
    },
    {
     "data": {
      "text/plain": [
       "<Figure size 2880x504 with 0 Axes>"
      ]
     },
     "metadata": {},
     "output_type": "display_data"
    },
    {
     "data": {
      "text/plain": [
       "<Figure size 2880x504 with 0 Axes>"
      ]
     },
     "metadata": {},
     "output_type": "display_data"
    },
    {
     "data": {
      "text/plain": [
       "<Figure size 2880x504 with 0 Axes>"
      ]
     },
     "metadata": {},
     "output_type": "display_data"
    },
    {
     "data": {
      "text/plain": [
       "<Figure size 2880x504 with 0 Axes>"
      ]
     },
     "metadata": {},
     "output_type": "display_data"
    },
    {
     "data": {
      "text/plain": [
       "<Figure size 2880x504 with 0 Axes>"
      ]
     },
     "metadata": {},
     "output_type": "display_data"
    },
    {
     "data": {
      "text/plain": [
       "<Figure size 2880x504 with 0 Axes>"
      ]
     },
     "metadata": {},
     "output_type": "display_data"
    },
    {
     "data": {
      "text/plain": [
       "<Figure size 2880x504 with 0 Axes>"
      ]
     },
     "metadata": {},
     "output_type": "display_data"
    },
    {
     "data": {
      "text/plain": [
       "<Figure size 2880x504 with 0 Axes>"
      ]
     },
     "metadata": {},
     "output_type": "display_data"
    },
    {
     "data": {
      "text/plain": [
       "<Figure size 2880x504 with 0 Axes>"
      ]
     },
     "metadata": {},
     "output_type": "display_data"
    },
    {
     "data": {
      "text/plain": [
       "<Figure size 2880x504 with 0 Axes>"
      ]
     },
     "metadata": {},
     "output_type": "display_data"
    },
    {
     "data": {
      "text/plain": [
       "<Figure size 2880x504 with 0 Axes>"
      ]
     },
     "metadata": {},
     "output_type": "display_data"
    },
    {
     "data": {
      "text/plain": [
       "<Figure size 2880x504 with 0 Axes>"
      ]
     },
     "metadata": {},
     "output_type": "display_data"
    },
    {
     "data": {
      "text/plain": [
       "<Figure size 2880x504 with 0 Axes>"
      ]
     },
     "metadata": {},
     "output_type": "display_data"
    },
    {
     "data": {
      "text/plain": [
       "<Figure size 2880x504 with 0 Axes>"
      ]
     },
     "metadata": {},
     "output_type": "display_data"
    },
    {
     "data": {
      "text/plain": [
       "<Figure size 2880x504 with 0 Axes>"
      ]
     },
     "metadata": {},
     "output_type": "display_data"
    },
    {
     "data": {
      "text/plain": [
       "<Figure size 2880x504 with 0 Axes>"
      ]
     },
     "metadata": {},
     "output_type": "display_data"
    },
    {
     "data": {
      "text/plain": [
       "<Figure size 2880x504 with 0 Axes>"
      ]
     },
     "metadata": {},
     "output_type": "display_data"
    },
    {
     "data": {
      "text/plain": [
       "<Figure size 2880x504 with 0 Axes>"
      ]
     },
     "metadata": {},
     "output_type": "display_data"
    },
    {
     "data": {
      "text/plain": [
       "<Figure size 2880x504 with 0 Axes>"
      ]
     },
     "metadata": {},
     "output_type": "display_data"
    },
    {
     "data": {
      "text/plain": [
       "<Figure size 2880x504 with 0 Axes>"
      ]
     },
     "metadata": {},
     "output_type": "display_data"
    },
    {
     "data": {
      "text/plain": [
       "<Figure size 2880x504 with 0 Axes>"
      ]
     },
     "metadata": {},
     "output_type": "display_data"
    },
    {
     "data": {
      "text/plain": [
       "<Figure size 2880x504 with 0 Axes>"
      ]
     },
     "metadata": {},
     "output_type": "display_data"
    },
    {
     "data": {
      "text/plain": [
       "<Figure size 2880x504 with 0 Axes>"
      ]
     },
     "metadata": {},
     "output_type": "display_data"
    },
    {
     "data": {
      "text/plain": [
       "<Figure size 2880x504 with 0 Axes>"
      ]
     },
     "metadata": {},
     "output_type": "display_data"
    },
    {
     "data": {
      "text/plain": [
       "<Figure size 2880x504 with 0 Axes>"
      ]
     },
     "metadata": {},
     "output_type": "display_data"
    },
    {
     "data": {
      "text/plain": [
       "<Figure size 2880x504 with 0 Axes>"
      ]
     },
     "metadata": {},
     "output_type": "display_data"
    },
    {
     "data": {
      "text/plain": [
       "<Figure size 2880x504 with 0 Axes>"
      ]
     },
     "metadata": {},
     "output_type": "display_data"
    },
    {
     "data": {
      "text/plain": [
       "<Figure size 2880x504 with 0 Axes>"
      ]
     },
     "metadata": {},
     "output_type": "display_data"
    },
    {
     "data": {
      "text/plain": [
       "<Figure size 2880x504 with 0 Axes>"
      ]
     },
     "metadata": {},
     "output_type": "display_data"
    },
    {
     "data": {
      "text/plain": [
       "<Figure size 2880x504 with 0 Axes>"
      ]
     },
     "metadata": {},
     "output_type": "display_data"
    },
    {
     "data": {
      "text/plain": [
       "<Figure size 2880x504 with 0 Axes>"
      ]
     },
     "metadata": {},
     "output_type": "display_data"
    },
    {
     "data": {
      "text/plain": [
       "<Figure size 2880x504 with 0 Axes>"
      ]
     },
     "metadata": {},
     "output_type": "display_data"
    },
    {
     "data": {
      "text/plain": [
       "<Figure size 2880x504 with 0 Axes>"
      ]
     },
     "metadata": {},
     "output_type": "display_data"
    },
    {
     "data": {
      "text/plain": [
       "<Figure size 2880x504 with 0 Axes>"
      ]
     },
     "metadata": {},
     "output_type": "display_data"
    },
    {
     "data": {
      "text/plain": [
       "<Figure size 2880x504 with 0 Axes>"
      ]
     },
     "metadata": {},
     "output_type": "display_data"
    },
    {
     "data": {
      "text/plain": [
       "<Figure size 2880x504 with 0 Axes>"
      ]
     },
     "metadata": {},
     "output_type": "display_data"
    },
    {
     "data": {
      "text/plain": [
       "<Figure size 2880x504 with 0 Axes>"
      ]
     },
     "metadata": {},
     "output_type": "display_data"
    },
    {
     "data": {
      "text/plain": [
       "<Figure size 2880x504 with 0 Axes>"
      ]
     },
     "metadata": {},
     "output_type": "display_data"
    },
    {
     "data": {
      "text/plain": [
       "<Figure size 2880x504 with 0 Axes>"
      ]
     },
     "metadata": {},
     "output_type": "display_data"
    },
    {
     "data": {
      "text/plain": [
       "<Figure size 2880x504 with 0 Axes>"
      ]
     },
     "metadata": {},
     "output_type": "display_data"
    },
    {
     "data": {
      "text/plain": [
       "<Figure size 2880x504 with 0 Axes>"
      ]
     },
     "metadata": {},
     "output_type": "display_data"
    },
    {
     "data": {
      "text/plain": [
       "<Figure size 2880x504 with 0 Axes>"
      ]
     },
     "metadata": {},
     "output_type": "display_data"
    },
    {
     "data": {
      "text/plain": [
       "<Figure size 2880x504 with 0 Axes>"
      ]
     },
     "metadata": {},
     "output_type": "display_data"
    },
    {
     "data": {
      "text/plain": [
       "<Figure size 2880x504 with 0 Axes>"
      ]
     },
     "metadata": {},
     "output_type": "display_data"
    },
    {
     "data": {
      "text/plain": [
       "<Figure size 2880x504 with 0 Axes>"
      ]
     },
     "metadata": {},
     "output_type": "display_data"
    },
    {
     "data": {
      "text/plain": [
       "<Figure size 2880x504 with 0 Axes>"
      ]
     },
     "metadata": {},
     "output_type": "display_data"
    },
    {
     "data": {
      "text/plain": [
       "<Figure size 2880x504 with 0 Axes>"
      ]
     },
     "metadata": {},
     "output_type": "display_data"
    },
    {
     "data": {
      "text/plain": [
       "<Figure size 2880x504 with 0 Axes>"
      ]
     },
     "metadata": {},
     "output_type": "display_data"
    },
    {
     "data": {
      "text/plain": [
       "<Figure size 2880x504 with 0 Axes>"
      ]
     },
     "metadata": {},
     "output_type": "display_data"
    },
    {
     "data": {
      "image/png": "[encoded data removed]",
      "text/plain": [
       "<Figure size 2880x504 with 2 Axes>"
      ]
     },
     "metadata": {},
     "output_type": "display_data"
    }
   ],
   "source": [
    "from collections import defaultdict\n",
    "import matplotlib.pyplot as plt\n",
    "import seaborn as sns\n",
    "import os \n",
    "\n",
    "def pad_reshape(A,width,isFloat=False):\n",
    "    B=np.empty([1,int(A.shape[1]/width+1)*width],dtype=object)\n",
    "    if isFloat:\n",
    "        B=np.zeros([1,int(A.shape[1]/width+1)*width])\n",
    "        B[:,:A.shape[1]]=A\n",
    "    else:\n",
    "        B[:,:A.shape[1]]=A\n",
    "        B[:,A.shape[1]:]=\"\"\n",
    "    return B.reshape(-1,width)\n",
    "    \n",
    "def visualize_word_level(tag,unigram_segments,score_list,directory=\"data/word_level_tag_visualization\"):\n",
    "    doc_dict=defaultdict(lambda:[])\n",
    "\n",
    "    pair_list=list(zip(unigram_segments,score_list))\n",
    "\n",
    "    for ind,pair in enumerate(pair_list):\n",
    "        if ind%10000==0:\n",
    "            print(ind)\n",
    "        docid=pair[0].get_parent().get_parent().name\n",
    "        doc_dict[docid]+=[pair]\n",
    "\n",
    "    print(\"dispatch finished!! \")\n",
    "\n",
    "    for docid in doc_dict:\n",
    "        plt.clf()\n",
    "        doc_dict[docid]=sorted(doc_dict[docid], key=lambda pair: (pair[0].get_parent().position, pair[0].get_contexts()[0].get_word_start()))\n",
    "        ordered_word_score_list=[(pair[0].get_parent().text[pair[0].unigram_cue.char_start:pair[0].unigram_cue.char_end+1], pair[1]) for pair in doc_dict[docid]]\n",
    "        df=pd.DataFrame.from_records(ordered_word_score_list,columns=['word','score'])\n",
    "        fig, ax = plt.subplots(figsize=(40,7))  \n",
    "        width=15\n",
    "        sns.heatmap(pad_reshape(np.asarray(df[['score']]).reshape(1,-1),width,isFloat=True), annot=pad_reshape(np.asarray(df[['word']]).reshape(1,-1),width),fmt='',yticklabels=False,xticklabels=False,ax=ax,annot_kws={\"size\": 15})\n",
    "        plt.savefig(os.path.join(directory,\"run\",docid+\"_\"+tag))\n",
    "  \n",
    "sample_size=50\n",
    "visualize_word_level(\"PP\",unigram_segments[:sample_size],list(train_marginals[:sample_size,0].reshape(-1))) \n",
    "visualize_word_level(\"MN\",unigram_segments[:sample_size],list(train_marginals[:sample_size,1].reshape(-1)))\n",
    "    "
   ]
  },
  {
   "cell_type": "markdown",
   "metadata": {},
   "source": [
    "### Section 3: writing soft generative noisy labels"
   ]
  },
  {
   "cell_type": "code",
   "execution_count": 34,
   "metadata": {},
   "outputs": [],
   "source": [
    "from collections import defaultdict\n",
    "import pandas as pd\n",
    "\n",
    "# initialize some variables\n",
    "# df = pd.DataFrame([], columns=['winningHighlight', 'paperID', 'globalPsn','content'])    \n",
    "\n",
    "# aspects_list=[\"Purpose\",\"Mechanism\",\"Others\"]\n",
    "\n",
    "def get_candidate_text(segment):\n",
    "    return segment.get_parent().text[segment.unigram_cue.char_start:segment.unigram_cue.char_end+1]\n",
    "\n",
    "\n",
    "def write_csv_gen_label(unigram_segments,train_marginals,csv_path):\n",
    "    aggregated_doc=defaultdict(lambda:[])\n",
    "    aggregated_sent=defaultdict(lambda:[])\n",
    "    for idx,train_segment in enumerate(unigram_segments):\n",
    "        sent_id=train_segment.get_parent().id    \n",
    "        winningHighlight=list(train_marginals[idx])\n",
    "        cue=train_segment.get_contexts()[0]\n",
    "        aggregated_sent[sent_id]+=[(cue.char_start,cue.char_end,get_candidate_text(train_segment),winningHighlight)]\n",
    "\n",
    "        doc_id=train_segment.get_parent().get_parent().name\n",
    "        if doc_id not in aggregated_doc:\n",
    "            aggregated_doc[doc_id]=train_segment.get_parent().get_parent().sentences\n",
    "\n",
    "\n",
    "    df_list=[]      \n",
    "    for doc_id in aggregated_doc:\n",
    "        globalPsn=1\n",
    "        for sent in aggregated_doc[doc_id]:\n",
    "            sent_id=sent.id\n",
    "            if sent_id not in aggregated_sent:\n",
    "                raise ValueError('we have no info about this sent'+str(sent))\n",
    "            aggregated_sent[sent_id]=sorted(aggregated_sent[sent_id], key=lambda x: x[0])\n",
    "            for idx,pair in enumerate(aggregated_sent[sent_id]):\n",
    "                text=pair[2]\n",
    "                df_list+=[[pair[3],doc_id,globalPsn,text]]\n",
    "                globalPsn+=1\n",
    "\n",
    "\n",
    "    df=pd.DataFrame(df_list,columns=['winningHighlight', 'paperID', 'globalPsn','content'])\n",
    "    df.to_csv(open(csv_path,\"w\"))   # in the spreadsheet, punctuations are splitted\n",
    "\n",
    "write_csv_gen_label(unigram_segments,train_marginals,\"data/annotations_slim_s2/split\"+str(0)+\".csv\")"
   ]
  },
  {
   "cell_type": "code",
   "execution_count": 36,
   "metadata": {},
   "outputs": [
    {
     "name": "stdout",
     "output_type": "stream",
     "text": [
      "Clearing existing...\n",
      "snorkel_conn_string postgresql:///abstractnetwordfilter\n",
      "if snorkel_postgres? True\n",
      "clearning..\n",
      "Running UDF...\n",
      "snorkel_conn_string postgresql:///abstractnetwordfilter\n",
      "if snorkel_postgres? True\n",
      "[========================================] 100%\n",
      "\n",
      "CPU times: user 30.6 s, sys: 1.89 s, total: 32.5 s\n",
      "Wall time: 4min 43s\n",
      "len(train_segments) 47525\n",
      "applying L_train_tmp\n",
      "snorkel_conn_string postgresql:///abstractnetwordfilter\n",
      "if snorkel_postgres? True\n",
      "2018-10-10 23:54:43.216483\n",
      "snorkel_conn_string postgresql:///abstractnetwordfilter\n",
      "if snorkel_postgres? True\n",
      "cids_count 47525\n",
      "key_group 0\n",
      "Clearing existing...\n",
      "snorkel_conn_string postgresql:///abstractnetwordfilter\n",
      "if snorkel_postgres? True\n",
      "clearning..\n",
      "Running UDF...\n",
      "snorkel_conn_string postgresql:///abstractnetwordfilter\n",
      "if snorkel_postgres? True\n",
      "[========================================] 100%\n",
      "\n",
      "2018-10-11 00:00:46.659270\n",
      "<class 'snorkel.annotations.csr_LabelMatrix'>\n",
      "(47525, 77)\n"
     ]
    },
    {
     "data": {
      "text/markdown": [
       "**Total non_overlapping_coverage on L_train (percentage of labelled over all)**  0.6954024197790637"
      ],
      "text/plain": [
       "<IPython.core.display.Markdown object>"
      ]
     },
     "metadata": {},
     "output_type": "display_data"
    },
    {
     "name": "stdout",
     "output_type": "stream",
     "text": [
      "creating train_marginals\n",
      "Clearing existing...\n",
      "snorkel_conn_string postgresql:///abstractnetwordfilter\n",
      "if snorkel_postgres? True\n",
      "clearning..\n",
      "Running UDF...\n",
      "snorkel_conn_string postgresql:///abstractnetwordfilter\n",
      "if snorkel_postgres? True\n",
      "[========================================] 100%\n",
      "\n",
      "CPU times: user 30.8 s, sys: 2.2 s, total: 33 s\n",
      "Wall time: 4min 52s\n",
      "len(train_segments) 48006\n",
      "applying L_train_tmp\n",
      "snorkel_conn_string postgresql:///abstractnetwordfilter\n",
      "if snorkel_postgres? True\n",
      "2018-10-11 00:06:58.717420\n",
      "snorkel_conn_string postgresql:///abstractnetwordfilter\n",
      "if snorkel_postgres? True\n",
      "cids_count 48006\n",
      "key_group 0\n",
      "Clearing existing...\n",
      "snorkel_conn_string postgresql:///abstractnetwordfilter\n",
      "if snorkel_postgres? True\n",
      "clearning..\n",
      "Running UDF...\n",
      "snorkel_conn_string postgresql:///abstractnetwordfilter\n",
      "if snorkel_postgres? True\n",
      "[========================================] 100%\n",
      "\n",
      "2018-10-11 00:12:56.589932\n",
      "<class 'snorkel.annotations.csr_LabelMatrix'>\n",
      "(48006, 77)\n"
     ]
    },
    {
     "data": {
      "text/markdown": [
       "**Total non_overlapping_coverage on L_train (percentage of labelled over all)**  0.6798525184351956"
      ],
      "text/plain": [
       "<IPython.core.display.Markdown object>"
      ]
     },
     "metadata": {},
     "output_type": "display_data"
    },
    {
     "name": "stdout",
     "output_type": "stream",
     "text": [
      "creating train_marginals\n",
      "Clearing existing...\n",
      "snorkel_conn_string postgresql:///abstractnetwordfilter\n",
      "if snorkel_postgres? True\n",
      "clearning..\n",
      "Running UDF...\n",
      "snorkel_conn_string postgresql:///abstractnetwordfilter\n",
      "if snorkel_postgres? True\n",
      "[========================================] 100%\n",
      "\n",
      "CPU times: user 1min 12s, sys: 4.3 s, total: 1min 17s\n",
      "Wall time: 2min 34s\n",
      "len(train_segments) 48687\n",
      "applying L_train_tmp\n",
      "snorkel_conn_string postgresql:///abstractnetwordfilter\n",
      "if snorkel_postgres? True\n",
      "2018-10-11 00:16:47.958032\n",
      "snorkel_conn_string postgresql:///abstractnetwordfilter\n",
      "if snorkel_postgres? True\n",
      "cids_count 48687\n",
      "key_group 0\n",
      "Clearing existing...\n",
      "snorkel_conn_string postgresql:///abstractnetwordfilter\n",
      "if snorkel_postgres? True\n",
      "clearning..\n",
      "Running UDF...\n",
      "snorkel_conn_string postgresql:///abstractnetwordfilter\n",
      "if snorkel_postgres? True\n",
      "[========================================] 100%\n",
      "\n",
      "2018-10-11 00:22:51.558985\n",
      "<class 'snorkel.annotations.csr_LabelMatrix'>\n",
      "(48687, 77)\n"
     ]
    },
    {
     "data": {
      "text/markdown": [
       "**Total non_overlapping_coverage on L_train (percentage of labelled over all)**  0.68322139380122"
      ],
      "text/plain": [
       "<IPython.core.display.Markdown object>"
      ]
     },
     "metadata": {},
     "output_type": "display_data"
    },
    {
     "name": "stdout",
     "output_type": "stream",
     "text": [
      "creating train_marginals\n",
      "Clearing existing...\n",
      "snorkel_conn_string postgresql:///abstractnetwordfilter\n",
      "if snorkel_postgres? True\n",
      "clearning..\n",
      "Running UDF...\n",
      "snorkel_conn_string postgresql:///abstractnetwordfilter\n",
      "if snorkel_postgres? True\n",
      "[========================================] 100%\n",
      "\n",
      "CPU times: user 1min 14s, sys: 4.61 s, total: 1min 18s\n",
      "Wall time: 2min 43s\n",
      "len(train_segments) 49113\n",
      "applying L_train_tmp\n",
      "snorkel_conn_string postgresql:///abstractnetwordfilter\n",
      "if snorkel_postgres? True\n",
      "2018-10-11 00:26:50.812635\n",
      "snorkel_conn_string postgresql:///abstractnetwordfilter\n",
      "if snorkel_postgres? True\n",
      "cids_count 49113\n",
      "key_group 0\n",
      "Clearing existing...\n",
      "snorkel_conn_string postgresql:///abstractnetwordfilter\n",
      "if snorkel_postgres? True\n",
      "clearning..\n",
      "Running UDF...\n",
      "snorkel_conn_string postgresql:///abstractnetwordfilter\n",
      "if snorkel_postgres? True\n",
      "[========================================] 100%\n",
      "\n",
      "2018-10-11 00:32:56.410856\n",
      "<class 'snorkel.annotations.csr_LabelMatrix'>\n",
      "(49113, 77)\n"
     ]
    },
    {
     "data": {
      "text/markdown": [
       "**Total non_overlapping_coverage on L_train (percentage of labelled over all)**  0.6754219860322115"
      ],
      "text/plain": [
       "<IPython.core.display.Markdown object>"
      ]
     },
     "metadata": {},
     "output_type": "display_data"
    },
    {
     "name": "stdout",
     "output_type": "stream",
     "text": [
      "creating train_marginals\n",
      "Clearing existing...\n",
      "snorkel_conn_string postgresql:///abstractnetwordfilter\n",
      "if snorkel_postgres? True\n",
      "clearning..\n",
      "Running UDF...\n",
      "snorkel_conn_string postgresql:///abstractnetwordfilter\n",
      "if snorkel_postgres? True\n",
      "[========================================] 100%\n",
      "\n",
      "CPU times: user 1min 14s, sys: 4.32 s, total: 1min 18s\n",
      "Wall time: 2min 41s\n",
      "len(train_segments) 48989\n",
      "applying L_train_tmp\n",
      "snorkel_conn_string postgresql:///abstractnetwordfilter\n",
      "if snorkel_postgres? True\n",
      "2018-10-11 00:36:53.256088\n",
      "snorkel_conn_string postgresql:///abstractnetwordfilter\n",
      "if snorkel_postgres? True\n",
      "cids_count 48989\n",
      "key_group 0\n",
      "Clearing existing...\n",
      "snorkel_conn_string postgresql:///abstractnetwordfilter\n",
      "if snorkel_postgres? True\n",
      "clearning..\n",
      "Running UDF...\n",
      "snorkel_conn_string postgresql:///abstractnetwordfilter\n",
      "if snorkel_postgres? True\n",
      "[========================================] 100%\n",
      "\n",
      "2018-10-11 00:42:56.171901\n",
      "<class 'snorkel.annotations.csr_LabelMatrix'>\n",
      "(48989, 77)\n"
     ]
    },
    {
     "data": {
      "text/markdown": [
       "**Total non_overlapping_coverage on L_train (percentage of labelled over all)**  0.6727020351507481"
      ],
      "text/plain": [
       "<IPython.core.display.Markdown object>"
      ]
     },
     "metadata": {},
     "output_type": "display_data"
    },
    {
     "name": "stdout",
     "output_type": "stream",
     "text": [
      "creating train_marginals\n",
      "Clearing existing...\n",
      "snorkel_conn_string postgresql:///abstractnetwordfilter\n",
      "if snorkel_postgres? True\n",
      "clearning..\n",
      "Running UDF...\n",
      "snorkel_conn_string postgresql:///abstractnetwordfilter\n",
      "if snorkel_postgres? True\n",
      "[========================================] 100%\n",
      "\n",
      "CPU times: user 1min 18s, sys: 5.12 s, total: 1min 23s\n",
      "Wall time: 2min 53s\n",
      "len(train_segments) 48266\n",
      "applying L_train_tmp\n",
      "snorkel_conn_string postgresql:///abstractnetwordfilter\n",
      "if snorkel_postgres? True\n",
      "2018-10-11 00:47:07.063965\n",
      "snorkel_conn_string postgresql:///abstractnetwordfilter\n",
      "if snorkel_postgres? True\n",
      "cids_count 48266\n",
      "key_group 0\n",
      "Clearing existing...\n",
      "snorkel_conn_string postgresql:///abstractnetwordfilter\n",
      "if snorkel_postgres? True\n",
      "clearning..\n",
      "Running UDF...\n",
      "snorkel_conn_string postgresql:///abstractnetwordfilter\n",
      "if snorkel_postgres? True\n",
      "[========================================] 100%\n",
      "\n",
      "2018-10-11 00:53:14.083477\n",
      "<class 'snorkel.annotations.csr_LabelMatrix'>\n",
      "(48266, 77)\n"
     ]
    },
    {
     "data": {
      "text/markdown": [
       "**Total non_overlapping_coverage on L_train (percentage of labelled over all)**  0.6694153234160692"
      ],
      "text/plain": [
       "<IPython.core.display.Markdown object>"
      ]
     },
     "metadata": {},
     "output_type": "display_data"
    },
    {
     "name": "stdout",
     "output_type": "stream",
     "text": [
      "creating train_marginals\n",
      "Clearing existing...\n",
      "snorkel_conn_string postgresql:///abstractnetwordfilter\n",
      "if snorkel_postgres? True\n",
      "clearning..\n",
      "Running UDF...\n",
      "snorkel_conn_string postgresql:///abstractnetwordfilter\n",
      "if snorkel_postgres? True\n",
      "[========================================] 100%\n",
      "\n",
      "CPU times: user 1min 11s, sys: 4.13 s, total: 1min 15s\n",
      "Wall time: 2min 29s\n",
      "len(train_segments) 47885\n",
      "applying L_train_tmp\n",
      "snorkel_conn_string postgresql:///abstractnetwordfilter\n",
      "if snorkel_postgres? True\n",
      "2018-10-11 00:57:06.197083\n",
      "snorkel_conn_string postgresql:///abstractnetwordfilter\n",
      "if snorkel_postgres? True\n",
      "cids_count 47885\n",
      "key_group 0\n",
      "Clearing existing...\n",
      "snorkel_conn_string postgresql:///abstractnetwordfilter\n",
      "if snorkel_postgres? True\n",
      "clearning..\n",
      "Running UDF...\n",
      "snorkel_conn_string postgresql:///abstractnetwordfilter\n",
      "if snorkel_postgres? True\n",
      "[========================================] 100%\n",
      "\n",
      "2018-10-11 01:03:08.440841\n",
      "<class 'snorkel.annotations.csr_LabelMatrix'>\n",
      "(47885, 77)\n"
     ]
    },
    {
     "data": {
      "text/markdown": [
       "**Total non_overlapping_coverage on L_train (percentage of labelled over all)**  0.6674950402004803"
      ],
      "text/plain": [
       "<IPython.core.display.Markdown object>"
      ]
     },
     "metadata": {},
     "output_type": "display_data"
    },
    {
     "name": "stdout",
     "output_type": "stream",
     "text": [
      "creating train_marginals\n",
      "Clearing existing...\n",
      "snorkel_conn_string postgresql:///abstractnetwordfilter\n",
      "if snorkel_postgres? True\n",
      "clearning..\n",
      "Running UDF...\n",
      "snorkel_conn_string postgresql:///abstractnetwordfilter\n",
      "if snorkel_postgres? True\n",
      "[========================================] 100%\n",
      "\n",
      "CPU times: user 1min 12s, sys: 4.47 s, total: 1min 17s\n",
      "Wall time: 2min 32s\n",
      "len(train_segments) 47471\n",
      "applying L_train_tmp\n",
      "snorkel_conn_string postgresql:///abstractnetwordfilter\n",
      "if snorkel_postgres? True\n",
      "2018-10-11 01:07:02.051478\n",
      "snorkel_conn_string postgresql:///abstractnetwordfilter\n",
      "if snorkel_postgres? True\n",
      "cids_count 47471\n",
      "key_group 0\n",
      "Clearing existing...\n",
      "snorkel_conn_string postgresql:///abstractnetwordfilter\n",
      "if snorkel_postgres? True\n",
      "clearning..\n",
      "Running UDF...\n",
      "snorkel_conn_string postgresql:///abstractnetwordfilter\n",
      "if snorkel_postgres? True\n",
      "[========================================] 100%\n",
      "\n",
      "2018-10-11 01:12:58.710151\n",
      "<class 'snorkel.annotations.csr_LabelMatrix'>\n",
      "(47471, 77)\n"
     ]
    },
    {
     "data": {
      "text/markdown": [
       "**Total non_overlapping_coverage on L_train (percentage of labelled over all)**  0.6743906806260664"
      ],
      "text/plain": [
       "<IPython.core.display.Markdown object>"
      ]
     },
     "metadata": {},
     "output_type": "display_data"
    },
    {
     "name": "stdout",
     "output_type": "stream",
     "text": [
      "creating train_marginals\n",
      "Clearing existing...\n",
      "snorkel_conn_string postgresql:///abstractnetwordfilter\n",
      "if snorkel_postgres? True\n",
      "clearning..\n",
      "Running UDF...\n",
      "snorkel_conn_string postgresql:///abstractnetwordfilter\n",
      "if snorkel_postgres? True\n",
      "[========================================] 100%\n",
      "\n",
      "CPU times: user 1min 9s, sys: 4.2 s, total: 1min 13s\n",
      "Wall time: 2min 30s\n",
      "len(train_segments) 46886\n",
      "applying L_train_tmp\n",
      "snorkel_conn_string postgresql:///abstractnetwordfilter\n",
      "if snorkel_postgres? True\n",
      "2018-10-11 01:16:50.595829\n",
      "snorkel_conn_string postgresql:///abstractnetwordfilter\n",
      "if snorkel_postgres? True\n",
      "cids_count 46886\n",
      "key_group 0\n",
      "Clearing existing...\n",
      "snorkel_conn_string postgresql:///abstractnetwordfilter\n",
      "if snorkel_postgres? True\n",
      "clearning..\n",
      "Running UDF...\n",
      "snorkel_conn_string postgresql:///abstractnetwordfilter\n",
      "if snorkel_postgres? True\n",
      "[========================================] 100%\n",
      "\n",
      "2018-10-11 01:22:42.614989\n",
      "<class 'snorkel.annotations.csr_LabelMatrix'>\n",
      "(46886, 77)\n"
     ]
    },
    {
     "data": {
      "text/markdown": [
       "**Total non_overlapping_coverage on L_train (percentage of labelled over all)**  0.6980761847886363"
      ],
      "text/plain": [
       "<IPython.core.display.Markdown object>"
      ]
     },
     "metadata": {},
     "output_type": "display_data"
    },
    {
     "name": "stdout",
     "output_type": "stream",
     "text": [
      "creating train_marginals\n",
      "Clearing existing...\n",
      "snorkel_conn_string postgresql:///abstractnetwordfilter\n",
      "if snorkel_postgres? True\n",
      "clearning..\n",
      "Running UDF...\n",
      "snorkel_conn_string postgresql:///abstractnetwordfilter\n",
      "if snorkel_postgres? True\n",
      "[========================================] 100%\n",
      "\n",
      "CPU times: user 1min 10s, sys: 4.37 s, total: 1min 15s\n",
      "Wall time: 2min 36s\n",
      "len(train_segments) 47351\n",
      "applying L_train_tmp\n",
      "snorkel_conn_string postgresql:///abstractnetwordfilter\n",
      "if snorkel_postgres? True\n",
      "2018-10-11 01:26:33.035898\n",
      "snorkel_conn_string postgresql:///abstractnetwordfilter\n",
      "if snorkel_postgres? True\n",
      "cids_count 47351\n",
      "key_group 0\n",
      "Clearing existing...\n",
      "snorkel_conn_string postgresql:///abstractnetwordfilter\n",
      "if snorkel_postgres? True\n",
      "clearning..\n",
      "Running UDF...\n",
      "snorkel_conn_string postgresql:///abstractnetwordfilter\n",
      "if snorkel_postgres? True\n",
      "[========================================] 100%\n",
      "\n",
      "2018-10-11 01:32:27.815342\n",
      "<class 'snorkel.annotations.csr_LabelMatrix'>\n",
      "(47351, 77)\n"
     ]
    },
    {
     "data": {
      "text/markdown": [
       "**Total non_overlapping_coverage on L_train (percentage of labelled over all)**  0.6879052184747946"
      ],
      "text/plain": [
       "<IPython.core.display.Markdown object>"
      ]
     },
     "metadata": {},
     "output_type": "display_data"
    },
    {
     "name": "stdout",
     "output_type": "stream",
     "text": [
      "creating train_marginals\n",
      "Clearing existing...\n",
      "snorkel_conn_string postgresql:///abstractnetwordfilter\n",
      "if snorkel_postgres? True\n",
      "clearning..\n",
      "Running UDF...\n",
      "snorkel_conn_string postgresql:///abstractnetwordfilter\n",
      "if snorkel_postgres? True\n",
      "[========================================] 100%\n",
      "\n",
      "CPU times: user 1min 8s, sys: 4.07 s, total: 1min 12s\n",
      "Wall time: 2min 29s\n",
      "len(train_segments) 48575\n",
      "applying L_train_tmp\n",
      "snorkel_conn_string postgresql:///abstractnetwordfilter\n",
      "if snorkel_postgres? True\n",
      "2018-10-11 01:36:11.491903\n",
      "snorkel_conn_string postgresql:///abstractnetwordfilter\n",
      "if snorkel_postgres? True\n",
      "cids_count 48575\n",
      "key_group 0\n",
      "Clearing existing...\n",
      "snorkel_conn_string postgresql:///abstractnetwordfilter\n",
      "if snorkel_postgres? True\n",
      "clearning..\n",
      "Running UDF...\n",
      "snorkel_conn_string postgresql:///abstractnetwordfilter\n",
      "if snorkel_postgres? True\n",
      "[========================================] 100%\n",
      "\n",
      "2018-10-11 01:42:11.439841\n",
      "<class 'snorkel.annotations.csr_LabelMatrix'>\n",
      "(48575, 77)\n"
     ]
    },
    {
     "data": {
      "text/markdown": [
       "**Total non_overlapping_coverage on L_train (percentage of labelled over all)**  0.6778795676788472"
      ],
      "text/plain": [
       "<IPython.core.display.Markdown object>"
      ]
     },
     "metadata": {},
     "output_type": "display_data"
    },
    {
     "name": "stdout",
     "output_type": "stream",
     "text": [
      "creating train_marginals\n",
      "Clearing existing...\n",
      "snorkel_conn_string postgresql:///abstractnetwordfilter\n",
      "if snorkel_postgres? True\n",
      "clearning..\n",
      "Running UDF...\n",
      "snorkel_conn_string postgresql:///abstractnetwordfilter\n",
      "if snorkel_postgres? True\n",
      "[========================================] 100%\n",
      "\n",
      "CPU times: user 1min 16s, sys: 4.53 s, total: 1min 21s\n",
      "Wall time: 2min 47s\n",
      "len(train_segments) 49832\n",
      "applying L_train_tmp\n",
      "snorkel_conn_string postgresql:///abstractnetwordfilter\n",
      "if snorkel_postgres? True\n",
      "2018-10-11 01:46:13.401092\n",
      "snorkel_conn_string postgresql:///abstractnetwordfilter\n",
      "if snorkel_postgres? True\n",
      "cids_count 49832\n",
      "key_group 0\n",
      "Clearing existing...\n",
      "snorkel_conn_string postgresql:///abstractnetwordfilter\n",
      "if snorkel_postgres? True\n",
      "clearning..\n",
      "Running UDF...\n",
      "snorkel_conn_string postgresql:///abstractnetwordfilter\n",
      "if snorkel_postgres? True\n",
      "[========================================] 100%\n",
      "\n",
      "2018-10-11 01:52:27.552720\n",
      "<class 'snorkel.annotations.csr_LabelMatrix'>\n",
      "(49832, 77)\n"
     ]
    },
    {
     "data": {
      "text/markdown": [
       "**Total non_overlapping_coverage on L_train (percentage of labelled over all)**  0.6753692406485792"
      ],
      "text/plain": [
       "<IPython.core.display.Markdown object>"
      ]
     },
     "metadata": {},
     "output_type": "display_data"
    },
    {
     "name": "stdout",
     "output_type": "stream",
     "text": [
      "creating train_marginals\n",
      "Clearing existing...\n",
      "snorkel_conn_string postgresql:///abstractnetwordfilter\n",
      "if snorkel_postgres? True\n",
      "clearning..\n",
      "Running UDF...\n",
      "snorkel_conn_string postgresql:///abstractnetwordfilter\n",
      "if snorkel_postgres? True\n",
      "[========================================] 100%\n",
      "\n",
      "CPU times: user 1min 11s, sys: 4.27 s, total: 1min 15s\n",
      "Wall time: 2min 34s\n",
      "len(train_segments) 48155\n",
      "applying L_train_tmp\n",
      "snorkel_conn_string postgresql:///abstractnetwordfilter\n",
      "if snorkel_postgres? True\n",
      "2018-10-11 01:56:20.474917\n",
      "snorkel_conn_string postgresql:///abstractnetwordfilter\n",
      "if snorkel_postgres? True\n",
      "cids_count 48155\n",
      "key_group 0\n",
      "Clearing existing...\n",
      "snorkel_conn_string postgresql:///abstractnetwordfilter\n",
      "if snorkel_postgres? True\n",
      "clearning..\n",
      "Running UDF...\n",
      "snorkel_conn_string postgresql:///abstractnetwordfilter\n",
      "if snorkel_postgres? True\n",
      "[========================================] 100%\n",
      "\n",
      "2018-10-11 02:02:22.203504\n",
      "<class 'snorkel.annotations.csr_LabelMatrix'>\n",
      "(48155, 77)\n"
     ]
    },
    {
     "data": {
      "text/markdown": [
       "**Total non_overlapping_coverage on L_train (percentage of labelled over all)**  0.6928252517910912"
      ],
      "text/plain": [
       "<IPython.core.display.Markdown object>"
      ]
     },
     "metadata": {},
     "output_type": "display_data"
    },
    {
     "name": "stdout",
     "output_type": "stream",
     "text": [
      "creating train_marginals\n",
      "Clearing existing...\n",
      "snorkel_conn_string postgresql:///abstractnetwordfilter\n",
      "if snorkel_postgres? True\n",
      "clearning..\n",
      "Running UDF...\n",
      "snorkel_conn_string postgresql:///abstractnetwordfilter\n",
      "if snorkel_postgres? True\n",
      "[========================================] 100%\n",
      "\n",
      "CPU times: user 1min 13s, sys: 4.34 s, total: 1min 17s\n",
      "Wall time: 2min 41s\n",
      "len(train_segments) 48725\n",
      "applying L_train_tmp\n",
      "snorkel_conn_string postgresql:///abstractnetwordfilter\n",
      "if snorkel_postgres? True\n",
      "2018-10-11 02:06:20.952129\n",
      "snorkel_conn_string postgresql:///abstractnetwordfilter\n",
      "if snorkel_postgres? True\n",
      "cids_count 48725\n",
      "key_group 0\n",
      "Clearing existing...\n",
      "snorkel_conn_string postgresql:///abstractnetwordfilter\n",
      "if snorkel_postgres? True\n",
      "clearning..\n",
      "Running UDF...\n",
      "snorkel_conn_string postgresql:///abstractnetwordfilter\n",
      "if snorkel_postgres? True\n",
      "[========================================] 100%\n",
      "\n",
      "2018-10-11 02:12:19.939272\n",
      "<class 'snorkel.annotations.csr_LabelMatrix'>\n",
      "(48725, 77)\n"
     ]
    },
    {
     "data": {
      "text/markdown": [
       "**Total non_overlapping_coverage on L_train (percentage of labelled over all)**  0.6639096972806567"
      ],
      "text/plain": [
       "<IPython.core.display.Markdown object>"
      ]
     },
     "metadata": {},
     "output_type": "display_data"
    },
    {
     "name": "stdout",
     "output_type": "stream",
     "text": [
      "creating train_marginals\n",
      "Clearing existing...\n",
      "snorkel_conn_string postgresql:///abstractnetwordfilter\n",
      "if snorkel_postgres? True\n",
      "clearning..\n",
      "Running UDF...\n",
      "snorkel_conn_string postgresql:///abstractnetwordfilter\n",
      "if snorkel_postgres? True\n",
      "[========================================] 100%\n",
      "\n",
      "CPU times: user 1min 11s, sys: 4.15 s, total: 1min 15s\n",
      "Wall time: 2min 31s\n",
      "len(train_segments) 47765\n",
      "applying L_train_tmp\n",
      "snorkel_conn_string postgresql:///abstractnetwordfilter\n",
      "if snorkel_postgres? True\n",
      "2018-10-11 02:16:07.648212\n",
      "snorkel_conn_string postgresql:///abstractnetwordfilter\n",
      "if snorkel_postgres? True\n",
      "cids_count 47765\n",
      "key_group 0\n",
      "Clearing existing...\n",
      "snorkel_conn_string postgresql:///abstractnetwordfilter\n",
      "if snorkel_postgres? True\n",
      "clearning..\n",
      "Running UDF...\n",
      "snorkel_conn_string postgresql:///abstractnetwordfilter\n",
      "if snorkel_postgres? True\n",
      "[========================================] 100%\n",
      "\n",
      "2018-10-11 02:22:07.578903\n",
      "<class 'snorkel.annotations.csr_LabelMatrix'>\n",
      "(47765, 77)\n"
     ]
    },
    {
     "data": {
      "text/markdown": [
       "**Total non_overlapping_coverage on L_train (percentage of labelled over all)**  0.6916361352454726"
      ],
      "text/plain": [
       "<IPython.core.display.Markdown object>"
      ]
     },
     "metadata": {},
     "output_type": "display_data"
    },
    {
     "name": "stdout",
     "output_type": "stream",
     "text": [
      "creating train_marginals\n",
      "Clearing existing...\n",
      "snorkel_conn_string postgresql:///abstractnetwordfilter\n",
      "if snorkel_postgres? True\n",
      "clearning..\n",
      "Running UDF...\n",
      "snorkel_conn_string postgresql:///abstractnetwordfilter\n",
      "if snorkel_postgres? True\n",
      "[========================================] 100%\n",
      "\n",
      "CPU times: user 1min 12s, sys: 4.38 s, total: 1min 17s\n",
      "Wall time: 2min 40s\n",
      "len(train_segments) 48260\n",
      "applying L_train_tmp\n",
      "snorkel_conn_string postgresql:///abstractnetwordfilter\n",
      "if snorkel_postgres? True\n",
      "2018-10-11 02:26:03.147046\n",
      "snorkel_conn_string postgresql:///abstractnetwordfilter\n",
      "if snorkel_postgres? True\n",
      "cids_count 48260\n",
      "key_group 0\n",
      "Clearing existing...\n",
      "snorkel_conn_string postgresql:///abstractnetwordfilter\n",
      "if snorkel_postgres? True\n",
      "clearning..\n",
      "Running UDF...\n",
      "snorkel_conn_string postgresql:///abstractnetwordfilter\n",
      "if snorkel_postgres? True\n",
      "[========================================] 100%\n",
      "\n",
      "2018-10-11 02:32:02.040038\n",
      "<class 'snorkel.annotations.csr_LabelMatrix'>\n",
      "(48260, 77)\n"
     ]
    },
    {
     "data": {
      "text/markdown": [
       "**Total non_overlapping_coverage on L_train (percentage of labelled over all)**  0.6762950683796104"
      ],
      "text/plain": [
       "<IPython.core.display.Markdown object>"
      ]
     },
     "metadata": {},
     "output_type": "display_data"
    },
    {
     "name": "stdout",
     "output_type": "stream",
     "text": [
      "creating train_marginals\n",
      "Clearing existing...\n",
      "snorkel_conn_string postgresql:///abstractnetwordfilter\n",
      "if snorkel_postgres? True\n",
      "clearning..\n",
      "Running UDF...\n",
      "snorkel_conn_string postgresql:///abstractnetwordfilter\n",
      "if snorkel_postgres? True\n",
      "[========================================] 100%\n",
      "\n",
      "CPU times: user 1min 15s, sys: 4.65 s, total: 1min 20s\n",
      "Wall time: 2min 45s\n",
      "len(train_segments) 48789\n",
      "applying L_train_tmp\n",
      "snorkel_conn_string postgresql:///abstractnetwordfilter\n",
      "if snorkel_postgres? True\n",
      "2018-10-11 02:36:03.004164\n",
      "snorkel_conn_string postgresql:///abstractnetwordfilter\n",
      "if snorkel_postgres? True\n",
      "cids_count 48789\n",
      "key_group 0\n",
      "Clearing existing...\n",
      "snorkel_conn_string postgresql:///abstractnetwordfilter\n",
      "if snorkel_postgres? True\n",
      "clearning..\n",
      "Running UDF...\n",
      "snorkel_conn_string postgresql:///abstractnetwordfilter\n",
      "if snorkel_postgres? True\n",
      "[========================================] 100%\n",
      "\n",
      "2018-10-11 02:42:08.985702\n",
      "<class 'snorkel.annotations.csr_LabelMatrix'>\n",
      "(48789, 77)\n"
     ]
    },
    {
     "data": {
      "text/markdown": [
       "**Total non_overlapping_coverage on L_train (percentage of labelled over all)**  0.6848879870462604"
      ],
      "text/plain": [
       "<IPython.core.display.Markdown object>"
      ]
     },
     "metadata": {},
     "output_type": "display_data"
    },
    {
     "name": "stdout",
     "output_type": "stream",
     "text": [
      "creating train_marginals\n",
      "Clearing existing...\n",
      "snorkel_conn_string postgresql:///abstractnetwordfilter\n",
      "if snorkel_postgres? True\n",
      "clearning..\n",
      "Running UDF...\n",
      "snorkel_conn_string postgresql:///abstractnetwordfilter\n",
      "if snorkel_postgres? True\n",
      "[========================================] 100%\n",
      "\n",
      "CPU times: user 1min 13s, sys: 4.38 s, total: 1min 17s\n",
      "Wall time: 2min 42s\n",
      "len(train_segments) 48264\n",
      "applying L_train_tmp\n",
      "snorkel_conn_string postgresql:///abstractnetwordfilter\n",
      "if snorkel_postgres? True\n",
      "2018-10-11 02:46:07.918806\n",
      "snorkel_conn_string postgresql:///abstractnetwordfilter\n",
      "if snorkel_postgres? True\n",
      "cids_count 48264\n",
      "key_group 0\n",
      "Clearing existing...\n",
      "snorkel_conn_string postgresql:///abstractnetwordfilter\n",
      "if snorkel_postgres? True\n",
      "clearning..\n",
      "Running UDF...\n",
      "snorkel_conn_string postgresql:///abstractnetwordfilter\n",
      "if snorkel_postgres? True\n",
      "[========================================] 100%\n",
      "\n",
      "2018-10-11 02:52:07.027147\n",
      "<class 'snorkel.annotations.csr_LabelMatrix'>\n",
      "(48264, 77)\n"
     ]
    },
    {
     "data": {
      "text/markdown": [
       "**Total non_overlapping_coverage on L_train (percentage of labelled over all)**  0.6727996021879662"
      ],
      "text/plain": [
       "<IPython.core.display.Markdown object>"
      ]
     },
     "metadata": {},
     "output_type": "display_data"
    },
    {
     "name": "stdout",
     "output_type": "stream",
     "text": [
      "creating train_marginals\n",
      "Clearing existing...\n",
      "snorkel_conn_string postgresql:///abstractnetwordfilter\n",
      "if snorkel_postgres? True\n",
      "clearning..\n",
      "Running UDF...\n",
      "snorkel_conn_string postgresql:///abstractnetwordfilter\n",
      "if snorkel_postgres? True\n",
      "[========================================] 100%\n",
      "\n",
      "CPU times: user 1min 15s, sys: 4.66 s, total: 1min 20s\n",
      "Wall time: 2min 46s\n",
      "len(train_segments) 48860\n",
      "applying L_train_tmp\n",
      "snorkel_conn_string postgresql:///abstractnetwordfilter\n",
      "if snorkel_postgres? True\n",
      "2018-10-11 02:56:09.144675\n",
      "snorkel_conn_string postgresql:///abstractnetwordfilter\n",
      "if snorkel_postgres? True\n",
      "cids_count 48860\n",
      "key_group 0\n",
      "Clearing existing...\n",
      "snorkel_conn_string postgresql:///abstractnetwordfilter\n",
      "if snorkel_postgres? True\n",
      "clearning..\n",
      "Running UDF...\n",
      "snorkel_conn_string postgresql:///abstractnetwordfilter\n",
      "if snorkel_postgres? True\n",
      "[========================================] 100%\n",
      "\n",
      "2018-10-11 03:02:14.332253\n",
      "<class 'snorkel.annotations.csr_LabelMatrix'>\n",
      "(48860, 77)\n"
     ]
    },
    {
     "data": {
      "text/markdown": [
       "**Total non_overlapping_coverage on L_train (percentage of labelled over all)**  0.6822144903806795"
      ],
      "text/plain": [
       "<IPython.core.display.Markdown object>"
      ]
     },
     "metadata": {},
     "output_type": "display_data"
    },
    {
     "name": "stdout",
     "output_type": "stream",
     "text": [
      "creating train_marginals\n",
      "Clearing existing...\n",
      "snorkel_conn_string postgresql:///abstractnetwordfilter\n",
      "if snorkel_postgres? True\n",
      "clearning..\n",
      "Running UDF...\n",
      "snorkel_conn_string postgresql:///abstractnetwordfilter\n",
      "if snorkel_postgres? True\n",
      "[========================================] 100%\n",
      "\n",
      "CPU times: user 1min 14s, sys: 4.57 s, total: 1min 18s\n",
      "Wall time: 2min 40s\n",
      "len(train_segments) 48571\n",
      "applying L_train_tmp\n",
      "snorkel_conn_string postgresql:///abstractnetwordfilter\n",
      "if snorkel_postgres? True\n",
      "2018-10-11 03:06:11.734915\n",
      "snorkel_conn_string postgresql:///abstractnetwordfilter\n",
      "if snorkel_postgres? True\n",
      "cids_count 48571\n",
      "key_group 0\n",
      "Clearing existing...\n",
      "snorkel_conn_string postgresql:///abstractnetwordfilter\n",
      "if snorkel_postgres? True\n",
      "clearning..\n",
      "Running UDF...\n",
      "snorkel_conn_string postgresql:///abstractnetwordfilter\n",
      "if snorkel_postgres? True\n",
      "[========================================] 100%\n",
      "\n",
      "2018-10-11 03:12:16.572712\n",
      "<class 'snorkel.annotations.csr_LabelMatrix'>\n",
      "(48571, 77)\n"
     ]
    },
    {
     "data": {
      "text/markdown": [
       "**Total non_overlapping_coverage on L_train (percentage of labelled over all)**  0.686232525581108"
      ],
      "text/plain": [
       "<IPython.core.display.Markdown object>"
      ]
     },
     "metadata": {},
     "output_type": "display_data"
    },
    {
     "name": "stdout",
     "output_type": "stream",
     "text": [
      "creating train_marginals\n",
      "Clearing existing...\n",
      "snorkel_conn_string postgresql:///abstractnetwordfilter\n",
      "if snorkel_postgres? True\n",
      "clearning..\n",
      "Running UDF...\n",
      "snorkel_conn_string postgresql:///abstractnetwordfilter\n",
      "if snorkel_postgres? True\n",
      "[========================================] 100%\n",
      "\n",
      "CPU times: user 1min 12s, sys: 4.32 s, total: 1min 16s\n",
      "Wall time: 2min 27s\n",
      "len(train_segments) 48583\n",
      "applying L_train_tmp\n",
      "snorkel_conn_string postgresql:///abstractnetwordfilter\n",
      "if snorkel_postgres? True\n",
      "2018-10-11 03:16:02.259607\n",
      "snorkel_conn_string postgresql:///abstractnetwordfilter\n",
      "if snorkel_postgres? True\n",
      "cids_count 48583\n",
      "key_group 0\n",
      "Clearing existing...\n",
      "snorkel_conn_string postgresql:///abstractnetwordfilter\n",
      "if snorkel_postgres? True\n",
      "clearning..\n",
      "Running UDF...\n",
      "snorkel_conn_string postgresql:///abstractnetwordfilter\n",
      "if snorkel_postgres? True\n",
      "[========================================] 100%\n",
      "\n",
      "2018-10-11 03:22:01.483916\n",
      "<class 'snorkel.annotations.csr_LabelMatrix'>\n",
      "(48583, 77)\n"
     ]
    },
    {
     "data": {
      "text/markdown": [
       "**Total non_overlapping_coverage on L_train (percentage of labelled over all)**  0.6640388613300949"
      ],
      "text/plain": [
       "<IPython.core.display.Markdown object>"
      ]
     },
     "metadata": {},
     "output_type": "display_data"
    },
    {
     "name": "stdout",
     "output_type": "stream",
     "text": [
      "creating train_marginals\n",
      "Clearing existing...\n",
      "snorkel_conn_string postgresql:///abstractnetwordfilter\n",
      "if snorkel_postgres? True\n",
      "clearning..\n",
      "Running UDF...\n",
      "snorkel_conn_string postgresql:///abstractnetwordfilter\n",
      "if snorkel_postgres? True\n",
      "[========================================] 100%\n",
      "\n",
      "CPU times: user 1min 13s, sys: 4.27 s, total: 1min 17s\n",
      "Wall time: 2min 40s\n",
      "len(train_segments) 49193\n",
      "applying L_train_tmp\n",
      "snorkel_conn_string postgresql:///abstractnetwordfilter\n",
      "if snorkel_postgres? True\n",
      "2018-10-11 03:25:58.325876\n",
      "snorkel_conn_string postgresql:///abstractnetwordfilter\n",
      "if snorkel_postgres? True\n",
      "cids_count 49193\n",
      "key_group 0\n",
      "Clearing existing...\n",
      "snorkel_conn_string postgresql:///abstractnetwordfilter\n",
      "if snorkel_postgres? True\n",
      "clearning..\n",
      "Running UDF...\n",
      "snorkel_conn_string postgresql:///abstractnetwordfilter\n",
      "if snorkel_postgres? True\n",
      "[========================================] 100%\n",
      "\n",
      "2018-10-11 03:32:03.532442\n",
      "<class 'snorkel.annotations.csr_LabelMatrix'>\n",
      "(49193, 77)\n"
     ]
    },
    {
     "data": {
      "text/markdown": [
       "**Total non_overlapping_coverage on L_train (percentage of labelled over all)**  0.6682861382717054"
      ],
      "text/plain": [
       "<IPython.core.display.Markdown object>"
      ]
     },
     "metadata": {},
     "output_type": "display_data"
    },
    {
     "name": "stdout",
     "output_type": "stream",
     "text": [
      "creating train_marginals\n",
      "Clearing existing...\n",
      "snorkel_conn_string postgresql:///abstractnetwordfilter\n",
      "if snorkel_postgres? True\n",
      "clearning..\n",
      "Running UDF...\n",
      "snorkel_conn_string postgresql:///abstractnetwordfilter\n",
      "if snorkel_postgres? True\n",
      "[========================================] 100%\n",
      "\n",
      "CPU times: user 1min 11s, sys: 4.41 s, total: 1min 15s\n",
      "Wall time: 2min 36s\n",
      "len(train_segments) 47554\n",
      "applying L_train_tmp\n",
      "snorkel_conn_string postgresql:///abstractnetwordfilter\n",
      "if snorkel_postgres? True\n",
      "2018-10-11 03:35:57.864823\n",
      "snorkel_conn_string postgresql:///abstractnetwordfilter\n",
      "if snorkel_postgres? True\n",
      "cids_count 47554\n",
      "key_group 0\n",
      "Clearing existing...\n",
      "snorkel_conn_string postgresql:///abstractnetwordfilter\n",
      "if snorkel_postgres? True\n",
      "clearning..\n",
      "Running UDF...\n",
      "snorkel_conn_string postgresql:///abstractnetwordfilter\n",
      "if snorkel_postgres? True\n",
      "[========================================] 100%\n",
      "\n",
      "2018-10-11 03:41:51.733322\n",
      "<class 'snorkel.annotations.csr_LabelMatrix'>\n",
      "(47554, 77)\n"
     ]
    },
    {
     "data": {
      "text/markdown": [
       "**Total non_overlapping_coverage on L_train (percentage of labelled over all)**  0.674412247129579"
      ],
      "text/plain": [
       "<IPython.core.display.Markdown object>"
      ]
     },
     "metadata": {},
     "output_type": "display_data"
    },
    {
     "name": "stdout",
     "output_type": "stream",
     "text": [
      "creating train_marginals\n",
      "Clearing existing...\n",
      "snorkel_conn_string postgresql:///abstractnetwordfilter\n",
      "if snorkel_postgres? True\n",
      "clearning..\n",
      "Running UDF...\n",
      "snorkel_conn_string postgresql:///abstractnetwordfilter\n",
      "if snorkel_postgres? True\n",
      "[========================================] 100%\n",
      "\n",
      "CPU times: user 1min 15s, sys: 4.54 s, total: 1min 19s\n",
      "Wall time: 2min 44s\n",
      "len(train_segments) 48551\n",
      "applying L_train_tmp\n",
      "snorkel_conn_string postgresql:///abstractnetwordfilter\n",
      "if snorkel_postgres? True\n",
      "2018-10-11 03:45:50.201378\n",
      "snorkel_conn_string postgresql:///abstractnetwordfilter\n",
      "if snorkel_postgres? True\n",
      "cids_count 48551\n",
      "key_group 0\n",
      "Clearing existing...\n",
      "snorkel_conn_string postgresql:///abstractnetwordfilter\n",
      "if snorkel_postgres? True\n",
      "clearning..\n",
      "Running UDF...\n",
      "snorkel_conn_string postgresql:///abstractnetwordfilter\n",
      "if snorkel_postgres? True\n",
      "[========================================] 100%\n",
      "\n",
      "2018-10-11 03:51:51.396553\n",
      "<class 'snorkel.annotations.csr_LabelMatrix'>\n",
      "(48551, 77)\n"
     ]
    },
    {
     "data": {
      "text/markdown": [
       "**Total non_overlapping_coverage on L_train (percentage of labelled over all)**  0.6749191571749295"
      ],
      "text/plain": [
       "<IPython.core.display.Markdown object>"
      ]
     },
     "metadata": {},
     "output_type": "display_data"
    },
    {
     "name": "stdout",
     "output_type": "stream",
     "text": [
      "creating train_marginals\n",
      "Clearing existing...\n",
      "snorkel_conn_string postgresql:///abstractnetwordfilter\n",
      "if snorkel_postgres? True\n",
      "clearning..\n",
      "Running UDF...\n",
      "snorkel_conn_string postgresql:///abstractnetwordfilter\n",
      "if snorkel_postgres? True\n",
      "[========================================] 100%\n",
      "\n",
      "CPU times: user 1min 15s, sys: 4.64 s, total: 1min 20s\n",
      "Wall time: 2min 46s\n",
      "len(train_segments) 50082\n",
      "applying L_train_tmp\n",
      "snorkel_conn_string postgresql:///abstractnetwordfilter\n",
      "if snorkel_postgres? True\n",
      "2018-10-11 03:55:54.561336\n",
      "snorkel_conn_string postgresql:///abstractnetwordfilter\n",
      "if snorkel_postgres? True\n",
      "cids_count 50082\n",
      "key_group 0\n",
      "Clearing existing...\n",
      "snorkel_conn_string postgresql:///abstractnetwordfilter\n",
      "if snorkel_postgres? True\n",
      "clearning..\n",
      "Running UDF...\n",
      "snorkel_conn_string postgresql:///abstractnetwordfilter\n",
      "if snorkel_postgres? True\n",
      "[========================================] 100%\n",
      "\n",
      "2018-10-11 04:02:09.973746\n",
      "<class 'snorkel.annotations.csr_LabelMatrix'>\n",
      "(50082, 77)\n"
     ]
    },
    {
     "data": {
      "text/markdown": [
       "**Total non_overlapping_coverage on L_train (percentage of labelled over all)**  0.6817419432131304"
      ],
      "text/plain": [
       "<IPython.core.display.Markdown object>"
      ]
     },
     "metadata": {},
     "output_type": "display_data"
    },
    {
     "name": "stdout",
     "output_type": "stream",
     "text": [
      "creating train_marginals\n",
      "Clearing existing...\n",
      "snorkel_conn_string postgresql:///abstractnetwordfilter\n",
      "if snorkel_postgres? True\n",
      "clearning..\n",
      "Running UDF...\n",
      "snorkel_conn_string postgresql:///abstractnetwordfilter\n",
      "if snorkel_postgres? True\n",
      "[========================================] 100%\n",
      "\n",
      "CPU times: user 1min 11s, sys: 4.25 s, total: 1min 16s\n",
      "Wall time: 2min 38s\n",
      "len(train_segments) 47396\n",
      "applying L_train_tmp\n",
      "snorkel_conn_string postgresql:///abstractnetwordfilter\n",
      "if snorkel_postgres? True\n",
      "2018-10-11 04:06:07.148535\n",
      "snorkel_conn_string postgresql:///abstractnetwordfilter\n",
      "if snorkel_postgres? True\n",
      "cids_count 47396\n",
      "key_group 0\n",
      "Clearing existing...\n",
      "snorkel_conn_string postgresql:///abstractnetwordfilter\n",
      "if snorkel_postgres? True\n",
      "clearning..\n",
      "Running UDF...\n",
      "snorkel_conn_string postgresql:///abstractnetwordfilter\n",
      "if snorkel_postgres? True\n",
      "[========================================] 100%\n",
      "\n",
      "2018-10-11 04:11:59.995023\n",
      "<class 'snorkel.annotations.csr_LabelMatrix'>\n",
      "(47396, 77)\n"
     ]
    },
    {
     "data": {
      "text/markdown": [
       "**Total non_overlapping_coverage on L_train (percentage of labelled over all)**  0.6800784876360875"
      ],
      "text/plain": [
       "<IPython.core.display.Markdown object>"
      ]
     },
     "metadata": {},
     "output_type": "display_data"
    },
    {
     "name": "stdout",
     "output_type": "stream",
     "text": [
      "creating train_marginals\n",
      "Clearing existing...\n",
      "snorkel_conn_string postgresql:///abstractnetwordfilter\n",
      "if snorkel_postgres? True\n",
      "clearning..\n",
      "Running UDF...\n",
      "snorkel_conn_string postgresql:///abstractnetwordfilter\n",
      "if snorkel_postgres? True\n",
      "[========================================] 100%\n",
      "\n",
      "CPU times: user 1min 14s, sys: 4.67 s, total: 1min 18s\n",
      "Wall time: 2min 43s\n",
      "len(train_segments) 48453\n",
      "applying L_train_tmp\n",
      "snorkel_conn_string postgresql:///abstractnetwordfilter\n",
      "if snorkel_postgres? True\n",
      "2018-10-11 04:15:57.942951\n",
      "snorkel_conn_string postgresql:///abstractnetwordfilter\n",
      "if snorkel_postgres? True\n",
      "cids_count 48453\n",
      "key_group 0\n",
      "Clearing existing...\n",
      "snorkel_conn_string postgresql:///abstractnetwordfilter\n",
      "if snorkel_postgres? True\n",
      "clearning..\n",
      "Running UDF...\n",
      "snorkel_conn_string postgresql:///abstractnetwordfilter\n",
      "if snorkel_postgres? True\n",
      "[========================================] 100%\n",
      "\n",
      "2018-10-11 04:21:58.886378\n",
      "<class 'snorkel.annotations.csr_LabelMatrix'>\n",
      "(48453, 77)\n"
     ]
    },
    {
     "data": {
      "text/markdown": [
       "**Total non_overlapping_coverage on L_train (percentage of labelled over all)**  0.686355849998968"
      ],
      "text/plain": [
       "<IPython.core.display.Markdown object>"
      ]
     },
     "metadata": {},
     "output_type": "display_data"
    },
    {
     "name": "stdout",
     "output_type": "stream",
     "text": [
      "creating train_marginals\n",
      "Clearing existing...\n",
      "snorkel_conn_string postgresql:///abstractnetwordfilter\n",
      "if snorkel_postgres? True\n",
      "clearning..\n",
      "Running UDF...\n",
      "snorkel_conn_string postgresql:///abstractnetwordfilter\n",
      "if snorkel_postgres? True\n",
      "[========================================] 100%\n",
      "\n",
      "CPU times: user 1min 14s, sys: 4.53 s, total: 1min 19s\n",
      "Wall time: 2min 44s\n",
      "len(train_segments) 48407\n",
      "applying L_train_tmp\n",
      "snorkel_conn_string postgresql:///abstractnetwordfilter\n",
      "if snorkel_postgres? True\n",
      "2018-10-11 04:25:58.101495\n",
      "snorkel_conn_string postgresql:///abstractnetwordfilter\n",
      "if snorkel_postgres? True\n",
      "cids_count 48407\n",
      "key_group 0\n",
      "Clearing existing...\n",
      "snorkel_conn_string postgresql:///abstractnetwordfilter\n",
      "if snorkel_postgres? True\n",
      "clearning..\n",
      "Running UDF...\n",
      "snorkel_conn_string postgresql:///abstractnetwordfilter\n",
      "if snorkel_postgres? True\n",
      "[========================================] 100%\n",
      "\n",
      "2018-10-11 04:31:59.990351\n",
      "<class 'snorkel.annotations.csr_LabelMatrix'>\n",
      "(48407, 77)\n"
     ]
    },
    {
     "data": {
      "text/markdown": [
       "**Total non_overlapping_coverage on L_train (percentage of labelled over all)**  0.676017931290929"
      ],
      "text/plain": [
       "<IPython.core.display.Markdown object>"
      ]
     },
     "metadata": {},
     "output_type": "display_data"
    },
    {
     "name": "stdout",
     "output_type": "stream",
     "text": [
      "creating train_marginals\n",
      "Clearing existing...\n",
      "snorkel_conn_string postgresql:///abstractnetwordfilter\n",
      "if snorkel_postgres? True\n",
      "clearning..\n",
      "Running UDF...\n",
      "snorkel_conn_string postgresql:///abstractnetwordfilter\n",
      "if snorkel_postgres? True\n",
      "[========================================] 100%\n",
      "\n",
      "CPU times: user 1min 11s, sys: 4.3 s, total: 1min 16s\n",
      "Wall time: 2min 38s\n",
      "len(train_segments) 48496\n",
      "applying L_train_tmp\n",
      "snorkel_conn_string postgresql:///abstractnetwordfilter\n",
      "if snorkel_postgres? True\n",
      "2018-10-11 04:35:55.061968\n",
      "snorkel_conn_string postgresql:///abstractnetwordfilter\n",
      "if snorkel_postgres? True\n",
      "cids_count 48496\n",
      "key_group 0\n",
      "Clearing existing...\n",
      "snorkel_conn_string postgresql:///abstractnetwordfilter\n",
      "if snorkel_postgres? True\n",
      "clearning..\n",
      "Running UDF...\n",
      "snorkel_conn_string postgresql:///abstractnetwordfilter\n",
      "if snorkel_postgres? True\n",
      "[========================================] 100%\n",
      "\n",
      "2018-10-11 04:41:56.598102\n",
      "<class 'snorkel.annotations.csr_LabelMatrix'>\n",
      "(48496, 77)\n"
     ]
    },
    {
     "data": {
      "text/markdown": [
       "**Total non_overlapping_coverage on L_train (percentage of labelled over all)**  0.6724059716265259"
      ],
      "text/plain": [
       "<IPython.core.display.Markdown object>"
      ]
     },
     "metadata": {},
     "output_type": "display_data"
    },
    {
     "name": "stdout",
     "output_type": "stream",
     "text": [
      "creating train_marginals\n",
      "Clearing existing...\n",
      "snorkel_conn_string postgresql:///abstractnetwordfilter\n",
      "if snorkel_postgres? True\n",
      "clearning..\n",
      "Running UDF...\n",
      "snorkel_conn_string postgresql:///abstractnetwordfilter\n",
      "if snorkel_postgres? True\n",
      "[========================================] 100%\n",
      "\n",
      "CPU times: user 1min 13s, sys: 4.57 s, total: 1min 17s\n",
      "Wall time: 2min 41s\n",
      "len(train_segments) 48563\n",
      "applying L_train_tmp\n",
      "snorkel_conn_string postgresql:///abstractnetwordfilter\n",
      "if snorkel_postgres? True\n",
      "2018-10-11 04:45:56.120179\n",
      "snorkel_conn_string postgresql:///abstractnetwordfilter\n",
      "if snorkel_postgres? True\n",
      "cids_count 48563\n",
      "key_group 0\n",
      "Clearing existing...\n",
      "snorkel_conn_string postgresql:///abstractnetwordfilter\n",
      "if snorkel_postgres? True\n",
      "clearning..\n",
      "Running UDF...\n",
      "snorkel_conn_string postgresql:///abstractnetwordfilter\n",
      "if snorkel_postgres? True\n",
      "[========================================] 100%\n",
      "\n",
      "2018-10-11 04:51:59.268475\n",
      "<class 'snorkel.annotations.csr_LabelMatrix'>\n",
      "(48563, 77)\n"
     ]
    },
    {
     "data": {
      "text/markdown": [
       "**Total non_overlapping_coverage on L_train (percentage of labelled over all)**  0.6999155735848279"
      ],
      "text/plain": [
       "<IPython.core.display.Markdown object>"
      ]
     },
     "metadata": {},
     "output_type": "display_data"
    },
    {
     "name": "stdout",
     "output_type": "stream",
     "text": [
      "creating train_marginals\n",
      "Clearing existing...\n",
      "snorkel_conn_string postgresql:///abstractnetwordfilter\n",
      "if snorkel_postgres? True\n",
      "clearning..\n",
      "Running UDF...\n",
      "snorkel_conn_string postgresql:///abstractnetwordfilter\n",
      "if snorkel_postgres? True\n",
      "[========================================] 100%\n",
      "\n",
      "CPU times: user 1min 15s, sys: 4.4 s, total: 1min 19s\n",
      "Wall time: 2min 42s\n",
      "len(train_segments) 47936\n",
      "applying L_train_tmp\n",
      "snorkel_conn_string postgresql:///abstractnetwordfilter\n",
      "if snorkel_postgres? True\n",
      "2018-10-11 04:55:57.428089\n",
      "snorkel_conn_string postgresql:///abstractnetwordfilter\n",
      "if snorkel_postgres? True\n",
      "cids_count 47936\n",
      "key_group 0\n",
      "Clearing existing...\n",
      "snorkel_conn_string postgresql:///abstractnetwordfilter\n",
      "if snorkel_postgres? True\n",
      "clearning..\n",
      "Running UDF...\n",
      "snorkel_conn_string postgresql:///abstractnetwordfilter\n",
      "if snorkel_postgres? True\n",
      "[========================================] 100%\n",
      "\n",
      "2018-10-11 05:01:55.259001\n",
      "<class 'snorkel.annotations.csr_LabelMatrix'>\n",
      "(47936, 77)\n"
     ]
    },
    {
     "data": {
      "text/markdown": [
       "**Total non_overlapping_coverage on L_train (percentage of labelled over all)**  0.6709362483311081"
      ],
      "text/plain": [
       "<IPython.core.display.Markdown object>"
      ]
     },
     "metadata": {},
     "output_type": "display_data"
    },
    {
     "name": "stdout",
     "output_type": "stream",
     "text": [
      "creating train_marginals\n",
      "Clearing existing...\n",
      "snorkel_conn_string postgresql:///abstractnetwordfilter\n",
      "if snorkel_postgres? True\n",
      "clearning..\n",
      "Running UDF...\n",
      "snorkel_conn_string postgresql:///abstractnetwordfilter\n",
      "if snorkel_postgres? True\n",
      "[========================================] 100%\n",
      "\n",
      "CPU times: user 1min 13s, sys: 4.48 s, total: 1min 18s\n",
      "Wall time: 2min 41s\n",
      "len(train_segments) 49240\n",
      "applying L_train_tmp\n",
      "snorkel_conn_string postgresql:///abstractnetwordfilter\n",
      "if snorkel_postgres? True\n",
      "2018-10-11 05:05:51.908838\n",
      "snorkel_conn_string postgresql:///abstractnetwordfilter\n",
      "if snorkel_postgres? True\n",
      "cids_count 49240\n",
      "key_group 0\n",
      "Clearing existing...\n",
      "snorkel_conn_string postgresql:///abstractnetwordfilter\n",
      "if snorkel_postgres? True\n",
      "clearning..\n",
      "Running UDF...\n",
      "snorkel_conn_string postgresql:///abstractnetwordfilter\n",
      "if snorkel_postgres? True\n",
      "[========================================] 100%\n",
      "\n",
      "2018-10-11 05:12:01.515707\n",
      "<class 'snorkel.annotations.csr_LabelMatrix'>\n",
      "(49240, 77)\n"
     ]
    },
    {
     "data": {
      "text/markdown": [
       "**Total non_overlapping_coverage on L_train (percentage of labelled over all)**  0.6884646628757108"
      ],
      "text/plain": [
       "<IPython.core.display.Markdown object>"
      ]
     },
     "metadata": {},
     "output_type": "display_data"
    },
    {
     "name": "stdout",
     "output_type": "stream",
     "text": [
      "creating train_marginals\n",
      "Clearing existing...\n",
      "snorkel_conn_string postgresql:///abstractnetwordfilter\n",
      "if snorkel_postgres? True\n",
      "clearning..\n",
      "Running UDF...\n",
      "snorkel_conn_string postgresql:///abstractnetwordfilter\n",
      "if snorkel_postgres? True\n",
      "[========================================] 100%\n",
      "\n",
      "CPU times: user 1min 11s, sys: 4.33 s, total: 1min 15s\n",
      "Wall time: 2min 32s\n",
      "len(train_segments) 48480\n",
      "applying L_train_tmp\n",
      "snorkel_conn_string postgresql:///abstractnetwordfilter\n",
      "if snorkel_postgres? True\n",
      "2018-10-11 05:15:51.018256\n",
      "snorkel_conn_string postgresql:///abstractnetwordfilter\n",
      "if snorkel_postgres? True\n",
      "cids_count 48480\n",
      "key_group 0\n",
      "Clearing existing...\n",
      "snorkel_conn_string postgresql:///abstractnetwordfilter\n",
      "if snorkel_postgres? True\n",
      "clearning..\n",
      "Running UDF...\n",
      "snorkel_conn_string postgresql:///abstractnetwordfilter\n",
      "if snorkel_postgres? True\n",
      "[========================================] 100%\n",
      "\n",
      "2018-10-11 05:21:49.690891\n",
      "<class 'snorkel.annotations.csr_LabelMatrix'>\n",
      "(48480, 77)\n"
     ]
    },
    {
     "data": {
      "text/markdown": [
       "**Total non_overlapping_coverage on L_train (percentage of labelled over all)**  0.6783415841584158"
      ],
      "text/plain": [
       "<IPython.core.display.Markdown object>"
      ]
     },
     "metadata": {},
     "output_type": "display_data"
    },
    {
     "name": "stdout",
     "output_type": "stream",
     "text": [
      "creating train_marginals\n",
      "Clearing existing...\n",
      "snorkel_conn_string postgresql:///abstractnetwordfilter\n",
      "if snorkel_postgres? True\n",
      "clearning..\n",
      "Running UDF...\n",
      "snorkel_conn_string postgresql:///abstractnetwordfilter\n",
      "if snorkel_postgres? True\n",
      "[========================================] 100%\n",
      "\n",
      "CPU times: user 1min 8s, sys: 4.08 s, total: 1min 12s\n",
      "Wall time: 2min 27s\n",
      "len(train_segments) 47677\n",
      "applying L_train_tmp\n",
      "snorkel_conn_string postgresql:///abstractnetwordfilter\n",
      "if snorkel_postgres? True\n",
      "2018-10-11 05:25:32.734654\n",
      "snorkel_conn_string postgresql:///abstractnetwordfilter\n",
      "if snorkel_postgres? True\n",
      "cids_count 47677\n",
      "key_group 0\n",
      "Clearing existing...\n",
      "snorkel_conn_string postgresql:///abstractnetwordfilter\n",
      "if snorkel_postgres? True\n",
      "clearning..\n",
      "Running UDF...\n",
      "snorkel_conn_string postgresql:///abstractnetwordfilter\n",
      "if snorkel_postgres? True\n",
      "[========================================] 100%\n",
      "\n",
      "2018-10-11 05:31:23.884284\n",
      "<class 'snorkel.annotations.csr_LabelMatrix'>\n",
      "(47677, 77)\n"
     ]
    },
    {
     "data": {
      "text/markdown": [
       "**Total non_overlapping_coverage on L_train (percentage of labelled over all)**  0.6693374163642847"
      ],
      "text/plain": [
       "<IPython.core.display.Markdown object>"
      ]
     },
     "metadata": {},
     "output_type": "display_data"
    },
    {
     "name": "stdout",
     "output_type": "stream",
     "text": [
      "creating train_marginals\n",
      "Clearing existing...\n",
      "snorkel_conn_string postgresql:///abstractnetwordfilter\n",
      "if snorkel_postgres? True\n",
      "clearning..\n",
      "Running UDF...\n",
      "snorkel_conn_string postgresql:///abstractnetwordfilter\n",
      "if snorkel_postgres? True\n",
      "[========================================] 100%\n",
      "\n",
      "CPU times: user 1min 12s, sys: 4.29 s, total: 1min 16s\n",
      "Wall time: 2min 34s\n",
      "len(train_segments) 48447\n",
      "applying L_train_tmp\n",
      "snorkel_conn_string postgresql:///abstractnetwordfilter\n",
      "if snorkel_postgres? True\n",
      "2018-10-11 05:35:13.452104\n",
      "snorkel_conn_string postgresql:///abstractnetwordfilter\n",
      "if snorkel_postgres? True\n",
      "cids_count 48447\n",
      "key_group 0\n",
      "Clearing existing...\n",
      "snorkel_conn_string postgresql:///abstractnetwordfilter\n",
      "if snorkel_postgres? True\n",
      "clearning..\n",
      "Running UDF...\n",
      "snorkel_conn_string postgresql:///abstractnetwordfilter\n",
      "if snorkel_postgres? True\n",
      "[========================================] 100%\n",
      "\n",
      "2018-10-11 05:41:10.760685\n",
      "<class 'snorkel.annotations.csr_LabelMatrix'>\n",
      "(48447, 77)\n"
     ]
    },
    {
     "data": {
      "text/markdown": [
       "**Total non_overlapping_coverage on L_train (percentage of labelled over all)**  0.6943876813837803"
      ],
      "text/plain": [
       "<IPython.core.display.Markdown object>"
      ]
     },
     "metadata": {},
     "output_type": "display_data"
    },
    {
     "name": "stdout",
     "output_type": "stream",
     "text": [
      "creating train_marginals\n",
      "Clearing existing...\n",
      "snorkel_conn_string postgresql:///abstractnetwordfilter\n",
      "if snorkel_postgres? True\n",
      "clearning..\n",
      "Running UDF...\n",
      "snorkel_conn_string postgresql:///abstractnetwordfilter\n",
      "if snorkel_postgres? True\n",
      "[========================================] 100%\n",
      "\n",
      "CPU times: user 1min 11s, sys: 4.42 s, total: 1min 16s\n",
      "Wall time: 2min 32s\n",
      "len(train_segments) 48065\n",
      "applying L_train_tmp\n",
      "snorkel_conn_string postgresql:///abstractnetwordfilter\n",
      "if snorkel_postgres? True\n",
      "2018-10-11 05:44:59.274773\n",
      "snorkel_conn_string postgresql:///abstractnetwordfilter\n",
      "if snorkel_postgres? True\n",
      "cids_count 48065\n",
      "key_group 0\n",
      "Clearing existing...\n",
      "snorkel_conn_string postgresql:///abstractnetwordfilter\n",
      "if snorkel_postgres? True\n",
      "clearning..\n",
      "Running UDF...\n",
      "snorkel_conn_string postgresql:///abstractnetwordfilter\n",
      "if snorkel_postgres? True\n",
      "[========================================] 100%\n",
      "\n",
      "2018-10-11 05:50:55.584875\n",
      "<class 'snorkel.annotations.csr_LabelMatrix'>\n",
      "(48065, 77)\n"
     ]
    },
    {
     "data": {
      "text/markdown": [
       "**Total non_overlapping_coverage on L_train (percentage of labelled over all)**  0.6771039217725996"
      ],
      "text/plain": [
       "<IPython.core.display.Markdown object>"
      ]
     },
     "metadata": {},
     "output_type": "display_data"
    },
    {
     "name": "stdout",
     "output_type": "stream",
     "text": [
      "creating train_marginals\n",
      "Clearing existing...\n",
      "snorkel_conn_string postgresql:///abstractnetwordfilter\n",
      "if snorkel_postgres? True\n",
      "clearning..\n",
      "Running UDF...\n",
      "snorkel_conn_string postgresql:///abstractnetwordfilter\n",
      "if snorkel_postgres? True\n",
      "[========================================] 100%\n",
      "\n",
      "CPU times: user 1min 11s, sys: 4.42 s, total: 1min 16s\n",
      "Wall time: 2min 34s\n",
      "len(train_segments) 48290\n",
      "applying L_train_tmp\n",
      "snorkel_conn_string postgresql:///abstractnetwordfilter\n",
      "if snorkel_postgres? True\n",
      "2018-10-11 05:54:46.734279\n",
      "snorkel_conn_string postgresql:///abstractnetwordfilter\n",
      "if snorkel_postgres? True\n",
      "cids_count 48290\n",
      "key_group 0\n",
      "Clearing existing...\n",
      "snorkel_conn_string postgresql:///abstractnetwordfilter\n",
      "if snorkel_postgres? True\n",
      "clearning..\n",
      "Running UDF...\n",
      "snorkel_conn_string postgresql:///abstractnetwordfilter\n",
      "if snorkel_postgres? True\n",
      "[========================================] 100%\n",
      "\n",
      "2018-10-11 06:00:43.760899\n",
      "<class 'snorkel.annotations.csr_LabelMatrix'>\n",
      "(48290, 77)\n"
     ]
    },
    {
     "data": {
      "text/markdown": [
       "**Total non_overlapping_coverage on L_train (percentage of labelled over all)**  0.6834541312901222"
      ],
      "text/plain": [
       "<IPython.core.display.Markdown object>"
      ]
     },
     "metadata": {},
     "output_type": "display_data"
    },
    {
     "name": "stdout",
     "output_type": "stream",
     "text": [
      "creating train_marginals\n",
      "Clearing existing...\n",
      "snorkel_conn_string postgresql:///abstractnetwordfilter\n",
      "if snorkel_postgres? True\n",
      "clearning..\n",
      "Running UDF...\n",
      "snorkel_conn_string postgresql:///abstractnetwordfilter\n",
      "if snorkel_postgres? True\n",
      "[========================================] 100%\n",
      "\n",
      "CPU times: user 1min 13s, sys: 4.4 s, total: 1min 17s\n",
      "Wall time: 2min 43s\n",
      "len(train_segments) 48028\n",
      "applying L_train_tmp\n",
      "snorkel_conn_string postgresql:///abstractnetwordfilter\n",
      "if snorkel_postgres? True\n",
      "2018-10-11 06:04:42.803650\n",
      "snorkel_conn_string postgresql:///abstractnetwordfilter\n",
      "if snorkel_postgres? True\n",
      "cids_count 48028\n",
      "key_group 0\n",
      "Clearing existing...\n",
      "snorkel_conn_string postgresql:///abstractnetwordfilter\n",
      "if snorkel_postgres? True\n",
      "clearning..\n",
      "Running UDF...\n",
      "snorkel_conn_string postgresql:///abstractnetwordfilter\n",
      "if snorkel_postgres? True\n",
      "[========================================] 100%\n",
      "\n",
      "2018-10-11 06:10:37.573089\n",
      "<class 'snorkel.annotations.csr_LabelMatrix'>\n",
      "(48028, 77)\n"
     ]
    },
    {
     "data": {
      "text/markdown": [
       "**Total non_overlapping_coverage on L_train (percentage of labelled over all)**  0.6702132089614392"
      ],
      "text/plain": [
       "<IPython.core.display.Markdown object>"
      ]
     },
     "metadata": {},
     "output_type": "display_data"
    },
    {
     "name": "stdout",
     "output_type": "stream",
     "text": [
      "creating train_marginals\n",
      "Clearing existing...\n",
      "snorkel_conn_string postgresql:///abstractnetwordfilter\n",
      "if snorkel_postgres? True\n",
      "clearning..\n",
      "Running UDF...\n",
      "snorkel_conn_string postgresql:///abstractnetwordfilter\n",
      "if snorkel_postgres? True\n",
      "[========================================] 100%\n",
      "\n",
      "CPU times: user 1min 11s, sys: 4.25 s, total: 1min 15s\n",
      "Wall time: 2min 35s\n",
      "len(train_segments) 47643\n",
      "applying L_train_tmp\n",
      "snorkel_conn_string postgresql:///abstractnetwordfilter\n",
      "if snorkel_postgres? True\n",
      "2018-10-11 06:14:30.509269\n",
      "snorkel_conn_string postgresql:///abstractnetwordfilter\n",
      "if snorkel_postgres? True\n",
      "cids_count 47643\n",
      "key_group 0\n",
      "Clearing existing...\n",
      "snorkel_conn_string postgresql:///abstractnetwordfilter\n",
      "if snorkel_postgres? True\n",
      "clearning..\n",
      "Running UDF...\n",
      "snorkel_conn_string postgresql:///abstractnetwordfilter\n",
      "if snorkel_postgres? True\n",
      "[========================================] 100%\n",
      "\n",
      "2018-10-11 06:20:25.496747\n",
      "<class 'snorkel.annotations.csr_LabelMatrix'>\n",
      "(47643, 77)\n"
     ]
    },
    {
     "data": {
      "text/markdown": [
       "**Total non_overlapping_coverage on L_train (percentage of labelled over all)**  0.6872363201309741"
      ],
      "text/plain": [
       "<IPython.core.display.Markdown object>"
      ]
     },
     "metadata": {},
     "output_type": "display_data"
    },
    {
     "name": "stdout",
     "output_type": "stream",
     "text": [
      "creating train_marginals\n",
      "Clearing existing...\n",
      "snorkel_conn_string postgresql:///abstractnetwordfilter\n",
      "if snorkel_postgres? True\n",
      "clearning..\n",
      "Running UDF...\n",
      "snorkel_conn_string postgresql:///abstractnetwordfilter\n",
      "if snorkel_postgres? True\n",
      "[========================================] 100%\n",
      "\n",
      "CPU times: user 1min 13s, sys: 4.6 s, total: 1min 17s\n",
      "Wall time: 2min 42s\n",
      "len(train_segments) 48444\n",
      "applying L_train_tmp\n",
      "snorkel_conn_string postgresql:///abstractnetwordfilter\n",
      "if snorkel_postgres? True\n",
      "2018-10-11 06:24:23.030475\n",
      "snorkel_conn_string postgresql:///abstractnetwordfilter\n",
      "if snorkel_postgres? True\n",
      "cids_count 48444\n",
      "key_group 0\n",
      "Clearing existing...\n",
      "snorkel_conn_string postgresql:///abstractnetwordfilter\n",
      "if snorkel_postgres? True\n",
      "clearning..\n",
      "Running UDF...\n",
      "snorkel_conn_string postgresql:///abstractnetwordfilter\n",
      "if snorkel_postgres? True\n",
      "[========================================] 100%\n",
      "\n",
      "2018-10-11 06:30:26.147106\n",
      "<class 'snorkel.annotations.csr_LabelMatrix'>\n",
      "(48444, 77)\n"
     ]
    },
    {
     "data": {
      "text/markdown": [
       "**Total non_overlapping_coverage on L_train (percentage of labelled over all)**  0.6884237470068533"
      ],
      "text/plain": [
       "<IPython.core.display.Markdown object>"
      ]
     },
     "metadata": {},
     "output_type": "display_data"
    },
    {
     "name": "stdout",
     "output_type": "stream",
     "text": [
      "creating train_marginals\n",
      "Clearing existing...\n",
      "snorkel_conn_string postgresql:///abstractnetwordfilter\n",
      "if snorkel_postgres? True\n",
      "clearning..\n",
      "Running UDF...\n",
      "snorkel_conn_string postgresql:///abstractnetwordfilter\n",
      "if snorkel_postgres? True\n",
      "[========================================] 100%\n",
      "\n",
      "CPU times: user 1min 13s, sys: 4.45 s, total: 1min 17s\n",
      "Wall time: 2min 42s\n",
      "len(train_segments) 48371\n",
      "applying L_train_tmp\n",
      "snorkel_conn_string postgresql:///abstractnetwordfilter\n",
      "if snorkel_postgres? True\n",
      "2018-10-11 06:34:26.072405\n",
      "snorkel_conn_string postgresql:///abstractnetwordfilter\n",
      "if snorkel_postgres? True\n",
      "cids_count 48371\n",
      "key_group 0\n",
      "Clearing existing...\n",
      "snorkel_conn_string postgresql:///abstractnetwordfilter\n",
      "if snorkel_postgres? True\n",
      "clearning..\n",
      "Running UDF...\n",
      "snorkel_conn_string postgresql:///abstractnetwordfilter\n",
      "if snorkel_postgres? True\n",
      "[========================================] 100%\n",
      "\n",
      "2018-10-11 06:40:26.614800\n",
      "<class 'snorkel.annotations.csr_LabelMatrix'>\n",
      "(48371, 77)\n"
     ]
    },
    {
     "data": {
      "text/markdown": [
       "**Total non_overlapping_coverage on L_train (percentage of labelled over all)**  0.6917781315250874"
      ],
      "text/plain": [
       "<IPython.core.display.Markdown object>"
      ]
     },
     "metadata": {},
     "output_type": "display_data"
    },
    {
     "name": "stdout",
     "output_type": "stream",
     "text": [
      "creating train_marginals\n",
      "Clearing existing...\n",
      "snorkel_conn_string postgresql:///abstractnetwordfilter\n",
      "if snorkel_postgres? True\n",
      "clearning..\n",
      "Running UDF...\n",
      "snorkel_conn_string postgresql:///abstractnetwordfilter\n",
      "if snorkel_postgres? True\n",
      "[========================================] 100%\n",
      "\n",
      "CPU times: user 1min 13s, sys: 4.33 s, total: 1min 18s\n",
      "Wall time: 2min 42s\n",
      "len(train_segments) 48086\n",
      "applying L_train_tmp\n",
      "snorkel_conn_string postgresql:///abstractnetwordfilter\n",
      "if snorkel_postgres? True\n",
      "2018-10-11 06:44:23.303413\n",
      "snorkel_conn_string postgresql:///abstractnetwordfilter\n",
      "if snorkel_postgres? True\n",
      "cids_count 48086\n",
      "key_group 0\n",
      "Clearing existing...\n",
      "snorkel_conn_string postgresql:///abstractnetwordfilter\n",
      "if snorkel_postgres? True\n",
      "clearning..\n",
      "Running UDF...\n",
      "snorkel_conn_string postgresql:///abstractnetwordfilter\n",
      "if snorkel_postgres? True\n",
      "[========================================] 100%\n",
      "\n",
      "2018-10-11 06:50:24.731041\n",
      "<class 'snorkel.annotations.csr_LabelMatrix'>\n",
      "(48086, 77)\n"
     ]
    },
    {
     "data": {
      "text/markdown": [
       "**Total non_overlapping_coverage on L_train (percentage of labelled over all)**  0.6897433764505262"
      ],
      "text/plain": [
       "<IPython.core.display.Markdown object>"
      ]
     },
     "metadata": {},
     "output_type": "display_data"
    },
    {
     "name": "stdout",
     "output_type": "stream",
     "text": [
      "creating train_marginals\n",
      "Clearing existing...\n",
      "snorkel_conn_string postgresql:///abstractnetwordfilter\n",
      "if snorkel_postgres? True\n",
      "clearning..\n",
      "Running UDF...\n",
      "snorkel_conn_string postgresql:///abstractnetwordfilter\n",
      "if snorkel_postgres? True\n",
      "[========================================] 100%\n",
      "\n",
      "CPU times: user 1min 12s, sys: 4.47 s, total: 1min 17s\n",
      "Wall time: 2min 41s\n",
      "len(train_segments) 48184\n",
      "applying L_train_tmp\n",
      "snorkel_conn_string postgresql:///abstractnetwordfilter\n",
      "if snorkel_postgres? True\n",
      "2018-10-11 06:54:21.430690\n",
      "snorkel_conn_string postgresql:///abstractnetwordfilter\n",
      "if snorkel_postgres? True\n",
      "cids_count 48184\n",
      "key_group 0\n",
      "Clearing existing...\n",
      "snorkel_conn_string postgresql:///abstractnetwordfilter\n",
      "if snorkel_postgres? True\n",
      "clearning..\n",
      "Running UDF...\n",
      "snorkel_conn_string postgresql:///abstractnetwordfilter\n",
      "if snorkel_postgres? True\n",
      "[========================================] 100%\n",
      "\n",
      "2018-10-11 07:00:19.084200\n",
      "<class 'snorkel.annotations.csr_LabelMatrix'>\n",
      "(48184, 77)\n"
     ]
    },
    {
     "data": {
      "text/markdown": [
       "**Total non_overlapping_coverage on L_train (percentage of labelled over all)**  0.671965797775195"
      ],
      "text/plain": [
       "<IPython.core.display.Markdown object>"
      ]
     },
     "metadata": {},
     "output_type": "display_data"
    },
    {
     "name": "stdout",
     "output_type": "stream",
     "text": [
      "creating train_marginals\n",
      "Clearing existing...\n",
      "snorkel_conn_string postgresql:///abstractnetwordfilter\n",
      "if snorkel_postgres? True\n",
      "clearning..\n",
      "Running UDF...\n",
      "snorkel_conn_string postgresql:///abstractnetwordfilter\n",
      "if snorkel_postgres? True\n",
      "[========================================] 100%\n",
      "\n",
      "CPU times: user 1min 13s, sys: 4.38 s, total: 1min 17s\n",
      "Wall time: 2min 42s\n",
      "len(train_segments) 48734\n",
      "applying L_train_tmp\n",
      "snorkel_conn_string postgresql:///abstractnetwordfilter\n",
      "if snorkel_postgres? True\n",
      "2018-10-11 07:04:18.187508\n",
      "snorkel_conn_string postgresql:///abstractnetwordfilter\n",
      "if snorkel_postgres? True\n",
      "cids_count 48734\n",
      "key_group 0\n",
      "Clearing existing...\n",
      "snorkel_conn_string postgresql:///abstractnetwordfilter\n",
      "if snorkel_postgres? True\n",
      "clearning..\n",
      "Running UDF...\n",
      "snorkel_conn_string postgresql:///abstractnetwordfilter\n",
      "if snorkel_postgres? True\n",
      "[========================================] 100%\n",
      "\n",
      "2018-10-11 07:10:20.373108\n",
      "<class 'snorkel.annotations.csr_LabelMatrix'>\n",
      "(48734, 77)\n"
     ]
    },
    {
     "data": {
      "text/markdown": [
       "**Total non_overlapping_coverage on L_train (percentage of labelled over all)**  0.6669265810317232"
      ],
      "text/plain": [
       "<IPython.core.display.Markdown object>"
      ]
     },
     "metadata": {},
     "output_type": "display_data"
    },
    {
     "name": "stdout",
     "output_type": "stream",
     "text": [
      "creating train_marginals\n",
      "Clearing existing...\n",
      "snorkel_conn_string postgresql:///abstractnetwordfilter\n",
      "if snorkel_postgres? True\n",
      "clearning..\n",
      "Running UDF...\n",
      "snorkel_conn_string postgresql:///abstractnetwordfilter\n",
      "if snorkel_postgres? True\n",
      "[========================================] 100%\n",
      "\n",
      "CPU times: user 1min 14s, sys: 4.62 s, total: 1min 19s\n",
      "Wall time: 2min 42s\n",
      "len(train_segments) 48653\n",
      "applying L_train_tmp\n",
      "snorkel_conn_string postgresql:///abstractnetwordfilter\n",
      "if snorkel_postgres? True\n",
      "2018-10-11 07:14:19.049152\n",
      "snorkel_conn_string postgresql:///abstractnetwordfilter\n",
      "if snorkel_postgres? True\n",
      "cids_count 48653\n",
      "key_group 0\n",
      "Clearing existing...\n",
      "snorkel_conn_string postgresql:///abstractnetwordfilter\n",
      "if snorkel_postgres? True\n",
      "clearning..\n",
      "Running UDF...\n",
      "snorkel_conn_string postgresql:///abstractnetwordfilter\n",
      "if snorkel_postgres? True\n",
      "[========================================] 100%\n",
      "\n",
      "2018-10-11 07:20:22.356436\n",
      "<class 'snorkel.annotations.csr_LabelMatrix'>\n",
      "(48653, 77)\n"
     ]
    },
    {
     "data": {
      "text/markdown": [
       "**Total non_overlapping_coverage on L_train (percentage of labelled over all)**  0.6875423920416007"
      ],
      "text/plain": [
       "<IPython.core.display.Markdown object>"
      ]
     },
     "metadata": {},
     "output_type": "display_data"
    },
    {
     "name": "stdout",
     "output_type": "stream",
     "text": [
      "creating train_marginals\n",
      "Clearing existing...\n",
      "snorkel_conn_string postgresql:///abstractnetwordfilter\n",
      "if snorkel_postgres? True\n",
      "clearning..\n",
      "Running UDF...\n",
      "snorkel_conn_string postgresql:///abstractnetwordfilter\n",
      "if snorkel_postgres? True\n",
      "[========================================] 100%\n",
      "\n",
      "CPU times: user 1min 13s, sys: 4.44 s, total: 1min 17s\n",
      "Wall time: 2min 42s\n",
      "len(train_segments) 48783\n",
      "applying L_train_tmp\n",
      "snorkel_conn_string postgresql:///abstractnetwordfilter\n",
      "if snorkel_postgres? True\n",
      "2018-10-11 07:24:23.283617\n",
      "snorkel_conn_string postgresql:///abstractnetwordfilter\n",
      "if snorkel_postgres? True\n",
      "cids_count 48783\n",
      "key_group 0\n",
      "Clearing existing...\n",
      "snorkel_conn_string postgresql:///abstractnetwordfilter\n",
      "if snorkel_postgres? True\n",
      "clearning..\n",
      "Running UDF...\n",
      "snorkel_conn_string postgresql:///abstractnetwordfilter\n",
      "if snorkel_postgres? True\n",
      "[========================================] 100%\n",
      "\n",
      "2018-10-11 07:30:24.421711\n",
      "<class 'snorkel.annotations.csr_LabelMatrix'>\n",
      "(48783, 77)\n"
     ]
    },
    {
     "data": {
      "text/markdown": [
       "**Total non_overlapping_coverage on L_train (percentage of labelled over all)**  0.680769940348072"
      ],
      "text/plain": [
       "<IPython.core.display.Markdown object>"
      ]
     },
     "metadata": {},
     "output_type": "display_data"
    },
    {
     "name": "stdout",
     "output_type": "stream",
     "text": [
      "creating train_marginals\n",
      "Clearing existing...\n",
      "snorkel_conn_string postgresql:///abstractnetwordfilter\n",
      "if snorkel_postgres? True\n",
      "clearning..\n",
      "Running UDF...\n",
      "snorkel_conn_string postgresql:///abstractnetwordfilter\n",
      "if snorkel_postgres? True\n",
      "[========================================] 100%\n",
      "\n",
      "CPU times: user 1min 15s, sys: 4.64 s, total: 1min 20s\n",
      "Wall time: 2min 44s\n",
      "len(train_segments) 48820\n",
      "applying L_train_tmp\n",
      "snorkel_conn_string postgresql:///abstractnetwordfilter\n",
      "if snorkel_postgres? True\n",
      "2018-10-11 07:34:23.293054\n",
      "snorkel_conn_string postgresql:///abstractnetwordfilter\n",
      "if snorkel_postgres? True\n",
      "cids_count 48820\n",
      "key_group 0\n",
      "Clearing existing...\n",
      "snorkel_conn_string postgresql:///abstractnetwordfilter\n",
      "if snorkel_postgres? True\n",
      "clearning..\n",
      "Running UDF...\n",
      "snorkel_conn_string postgresql:///abstractnetwordfilter\n",
      "if snorkel_postgres? True\n",
      "[========================================] 100%\n",
      "\n",
      "2018-10-11 07:40:23.591881\n",
      "<class 'snorkel.annotations.csr_LabelMatrix'>\n",
      "(48820, 77)\n"
     ]
    },
    {
     "data": {
      "text/markdown": [
       "**Total non_overlapping_coverage on L_train (percentage of labelled over all)**  0.672204014748054"
      ],
      "text/plain": [
       "<IPython.core.display.Markdown object>"
      ]
     },
     "metadata": {},
     "output_type": "display_data"
    },
    {
     "name": "stdout",
     "output_type": "stream",
     "text": [
      "creating train_marginals\n",
      "Clearing existing...\n",
      "snorkel_conn_string postgresql:///abstractnetwordfilter\n",
      "if snorkel_postgres? True\n",
      "clearning..\n",
      "Running UDF...\n",
      "snorkel_conn_string postgresql:///abstractnetwordfilter\n",
      "if snorkel_postgres? True\n",
      "[========================================] 100%\n",
      "\n",
      "CPU times: user 1min 13s, sys: 4.42 s, total: 1min 17s\n",
      "Wall time: 2min 40s\n",
      "len(train_segments) 48674\n",
      "applying L_train_tmp\n",
      "snorkel_conn_string postgresql:///abstractnetwordfilter\n",
      "if snorkel_postgres? True\n",
      "2018-10-11 07:44:20.964653\n",
      "snorkel_conn_string postgresql:///abstractnetwordfilter\n",
      "if snorkel_postgres? True\n",
      "cids_count 48674\n",
      "key_group 0\n",
      "Clearing existing...\n",
      "snorkel_conn_string postgresql:///abstractnetwordfilter\n",
      "if snorkel_postgres? True\n",
      "clearning..\n",
      "Running UDF...\n",
      "snorkel_conn_string postgresql:///abstractnetwordfilter\n",
      "if snorkel_postgres? True\n",
      "[========================================] 100%\n",
      "\n",
      "2018-10-11 07:50:24.789224\n",
      "<class 'snorkel.annotations.csr_LabelMatrix'>\n",
      "(48674, 77)\n"
     ]
    },
    {
     "data": {
      "text/markdown": [
       "**Total non_overlapping_coverage on L_train (percentage of labelled over all)**  0.6804865020339401"
      ],
      "text/plain": [
       "<IPython.core.display.Markdown object>"
      ]
     },
     "metadata": {},
     "output_type": "display_data"
    },
    {
     "name": "stdout",
     "output_type": "stream",
     "text": [
      "creating train_marginals\n",
      "Clearing existing...\n",
      "snorkel_conn_string postgresql:///abstractnetwordfilter\n",
      "if snorkel_postgres? True\n",
      "clearning..\n",
      "Running UDF...\n",
      "snorkel_conn_string postgresql:///abstractnetwordfilter\n",
      "if snorkel_postgres? True\n",
      "[========================================] 100%\n",
      "\n",
      "CPU times: user 1min 15s, sys: 4.52 s, total: 1min 19s\n",
      "Wall time: 2min 35s\n",
      "len(train_segments) 49057\n",
      "applying L_train_tmp\n",
      "snorkel_conn_string postgresql:///abstractnetwordfilter\n",
      "if snorkel_postgres? True\n",
      "2018-10-11 07:54:15.206806\n",
      "snorkel_conn_string postgresql:///abstractnetwordfilter\n",
      "if snorkel_postgres? True\n",
      "cids_count 49057\n",
      "key_group 0\n",
      "Clearing existing...\n",
      "snorkel_conn_string postgresql:///abstractnetwordfilter\n",
      "if snorkel_postgres? True\n",
      "clearning..\n",
      "Running UDF...\n",
      "snorkel_conn_string postgresql:///abstractnetwordfilter\n",
      "if snorkel_postgres? True\n",
      "[========================================] 100%\n",
      "\n",
      "2018-10-11 08:00:20.845986\n",
      "<class 'snorkel.annotations.csr_LabelMatrix'>\n",
      "(49057, 77)\n"
     ]
    },
    {
     "data": {
      "text/markdown": [
       "**Total non_overlapping_coverage on L_train (percentage of labelled over all)**  0.675051470738121"
      ],
      "text/plain": [
       "<IPython.core.display.Markdown object>"
      ]
     },
     "metadata": {},
     "output_type": "display_data"
    },
    {
     "name": "stdout",
     "output_type": "stream",
     "text": [
      "creating train_marginals\n"
     ]
    }
   ],
   "source": [
    "# This code loop through all splits, create unigram_segments, L_train and train_marginals (named as \"_tmp\")\n",
    "for train_bucket in range(1,len(sents_split)):\n",
    "    %time unigram_segment_extractor.apply(sents_split[train_bucket], split=train_bucket)\n",
    "    unigram_segments_tmp=session.query(Unigram).filter(Unigram.split == train_bucket).all()\n",
    "    print(\"len(train_segments)\",len(unigram_segments_tmp))\n",
    "    print(\"applying L_train_tmp\")\n",
    "    L_train_tmp=get_L_train(purpose_LFs+mechanism_LFs+null_LFs,split=train_bucket)\n",
    "    print(\"creating train_marginals\")\n",
    "    train_marginals_tmp = gen_model.marginals(L_train_tmp)\n",
    "    write_csv_gen_label(unigram_segments_tmp,train_marginals_tmp,\"data/annotations_slim_s2/split\"+str(train_bucket)+\".csv\")\n"
   ]
  },
  {
   "cell_type": "code",
   "execution_count": 64,
   "metadata": {},
   "outputs": [],
   "source": [
    "# You're trying to build one large dataframe out of the rows of many dataframes who all have the same column names. axis should be 0 (the default), not 1. Also you don't need to specify a type of join. This will have no effect since the column names are the same for each dataframe.\n",
    "\n",
    "# df = pd.concat([df1, df2, df3])\n",
    "\n",
    "sub_dfs=[]\n",
    "for train_bucket in range(len(sents_split)):\n",
    "    sub_dfs+=[pd.read_csv(open(\"data/annotations_slim_s2/split\"+str(train_bucket)+\".csv\",\"r\"))]\n",
    "df = pd.concat(sub_dfs)\n",
    "df=df.drop(columns=['Unnamed: 0'])\n",
    "# df.to_csv(open(\"data/annotations_slim_s2/joint_split.csv\",\"w\"))"
   ]
  },
  {
   "cell_type": "code",
   "execution_count": 56,
   "metadata": {},
   "outputs": [
    {
     "name": "stdout",
     "output_type": "stream",
     "text": [
      "50\n",
      "10556\n",
      "Index(['winningHighlight', 'paperID', 'globalPsn', 'content'], dtype='object')\n"
     ]
    },
    {
     "data": {
      "text/html": [
       "<div>\n",
       "<style scoped>\n",
       "    .dataframe tbody tr th:only-of-type {\n",
       "        vertical-align: middle;\n",
       "    }\n",
       "\n",
       "    .dataframe tbody tr th {\n",
       "        vertical-align: top;\n",
       "    }\n",
       "\n",
       "    .dataframe thead th {\n",
       "        text-align: right;\n",
       "    }\n",
       "</style>\n",
       "<table border=\"1\" class=\"dataframe\">\n",
       "  <thead>\n",
       "    <tr style=\"text-align: right;\">\n",
       "      <th></th>\n",
       "      <th>winningHighlight</th>\n",
       "      <th>paperID</th>\n",
       "      <th>globalPsn</th>\n",
       "      <th>content</th>\n",
       "    </tr>\n",
       "  </thead>\n",
       "  <tbody>\n",
       "    <tr>\n",
       "      <th>22856</th>\n",
       "      <td>[0.9000218378642625, 0.04998908106786876, 0.04...</td>\n",
       "      <td>semanticDBLP_6accd6b8bdef57b1455d5bb6cdcc8c436...</td>\n",
       "      <td>1</td>\n",
       "      <td>Design</td>\n",
       "    </tr>\n",
       "    <tr>\n",
       "      <th>22857</th>\n",
       "      <td>[0.3333333333333333, 0.3333333333333333, 0.333...</td>\n",
       "      <td>semanticDBLP_6accd6b8bdef57b1455d5bb6cdcc8c436...</td>\n",
       "      <td>2</td>\n",
       "      <td>Science</td>\n",
       "    </tr>\n",
       "    <tr>\n",
       "      <th>22858</th>\n",
       "      <td>[0.3333333333333333, 0.3333333333333333, 0.333...</td>\n",
       "      <td>semanticDBLP_6accd6b8bdef57b1455d5bb6cdcc8c436...</td>\n",
       "      <td>3</td>\n",
       "      <td>Research</td>\n",
       "    </tr>\n",
       "    <tr>\n",
       "      <th>22859</th>\n",
       "      <td>[0.5565563714814038, 0.36139655035929674, 0.08...</td>\n",
       "      <td>semanticDBLP_6accd6b8bdef57b1455d5bb6cdcc8c436...</td>\n",
       "      <td>4</td>\n",
       "      <td>(</td>\n",
       "    </tr>\n",
       "    <tr>\n",
       "      <th>22860</th>\n",
       "      <td>[0.9000218378642625, 0.04998908106786876, 0.04...</td>\n",
       "      <td>semanticDBLP_6accd6b8bdef57b1455d5bb6cdcc8c436...</td>\n",
       "      <td>5</td>\n",
       "      <td>DSR</td>\n",
       "    </tr>\n",
       "    <tr>\n",
       "      <th>22861</th>\n",
       "      <td>[0.3333333333333333, 0.3333333333333333, 0.333...</td>\n",
       "      <td>semanticDBLP_6accd6b8bdef57b1455d5bb6cdcc8c436...</td>\n",
       "      <td>6</td>\n",
       "      <td>)</td>\n",
       "    </tr>\n",
       "    <tr>\n",
       "      <th>22862</th>\n",
       "      <td>[0.7747526735488279, 0.11262366322558603, 0.11...</td>\n",
       "      <td>semanticDBLP_6accd6b8bdef57b1455d5bb6cdcc8c436...</td>\n",
       "      <td>7</td>\n",
       "      <td>has</td>\n",
       "    </tr>\n",
       "    <tr>\n",
       "      <th>22863</th>\n",
       "      <td>[0.566841311319671, 0.21657934434016446, 0.216...</td>\n",
       "      <td>semanticDBLP_6accd6b8bdef57b1455d5bb6cdcc8c436...</td>\n",
       "      <td>8</td>\n",
       "      <td>sparked</td>\n",
       "    </tr>\n",
       "    <tr>\n",
       "      <th>22864</th>\n",
       "      <td>[0.566841311319671, 0.21657934434016446, 0.216...</td>\n",
       "      <td>semanticDBLP_6accd6b8bdef57b1455d5bb6cdcc8c436...</td>\n",
       "      <td>9</td>\n",
       "      <td>a</td>\n",
       "    </tr>\n",
       "    <tr>\n",
       "      <th>22865</th>\n",
       "      <td>[0.3333333333333333, 0.3333333333333333, 0.333...</td>\n",
       "      <td>semanticDBLP_6accd6b8bdef57b1455d5bb6cdcc8c436...</td>\n",
       "      <td>10</td>\n",
       "      <td>renaissance</td>\n",
       "    </tr>\n",
       "    <tr>\n",
       "      <th>22866</th>\n",
       "      <td>[0.9000218378642625, 0.04998908106786876, 0.04...</td>\n",
       "      <td>semanticDBLP_6accd6b8bdef57b1455d5bb6cdcc8c436...</td>\n",
       "      <td>11</td>\n",
       "      <td>of</td>\n",
       "    </tr>\n",
       "    <tr>\n",
       "      <th>22867</th>\n",
       "      <td>[0.9000218378642625, 0.04998908106786876, 0.04...</td>\n",
       "      <td>semanticDBLP_6accd6b8bdef57b1455d5bb6cdcc8c436...</td>\n",
       "      <td>12</td>\n",
       "      <td>contributions</td>\n",
       "    </tr>\n",
       "    <tr>\n",
       "      <th>22868</th>\n",
       "      <td>[0.6865975157774757, 0.09980879063539361, 0.21...</td>\n",
       "      <td>semanticDBLP_6accd6b8bdef57b1455d5bb6cdcc8c436...</td>\n",
       "      <td>13</td>\n",
       "      <td>to</td>\n",
       "    </tr>\n",
       "    <tr>\n",
       "      <th>22869</th>\n",
       "      <td>[0.3333333333333333, 0.3333333333333333, 0.333...</td>\n",
       "      <td>semanticDBLP_6accd6b8bdef57b1455d5bb6cdcc8c436...</td>\n",
       "      <td>14</td>\n",
       "      <td>IS</td>\n",
       "    </tr>\n",
       "    <tr>\n",
       "      <th>22870</th>\n",
       "      <td>[0.6865975157774757, 0.09980879063539361, 0.21...</td>\n",
       "      <td>semanticDBLP_6accd6b8bdef57b1455d5bb6cdcc8c436...</td>\n",
       "      <td>15</td>\n",
       "      <td>,</td>\n",
       "    </tr>\n",
       "    <tr>\n",
       "      <th>22871</th>\n",
       "      <td>[0.3333333333333333, 0.3333333333333333, 0.333...</td>\n",
       "      <td>semanticDBLP_6accd6b8bdef57b1455d5bb6cdcc8c436...</td>\n",
       "      <td>16</td>\n",
       "      <td>but</td>\n",
       "    </tr>\n",
       "    <tr>\n",
       "      <th>22872</th>\n",
       "      <td>[0.044245243824894614, 0.9115095123502108, 0.0...</td>\n",
       "      <td>semanticDBLP_6accd6b8bdef57b1455d5bb6cdcc8c436...</td>\n",
       "      <td>17</td>\n",
       "      <td>its</td>\n",
       "    </tr>\n",
       "    <tr>\n",
       "      <th>22873</th>\n",
       "      <td>[0.14976632363962003, 0.7004673527207599, 0.14...</td>\n",
       "      <td>semanticDBLP_6accd6b8bdef57b1455d5bb6cdcc8c436...</td>\n",
       "      <td>18</td>\n",
       "      <td>rigor</td>\n",
       "    </tr>\n",
       "    <tr>\n",
       "      <th>22874</th>\n",
       "      <td>[0.3333333333333333, 0.3333333333333333, 0.333...</td>\n",
       "      <td>semanticDBLP_6accd6b8bdef57b1455d5bb6cdcc8c436...</td>\n",
       "      <td>19</td>\n",
       "      <td>and</td>\n",
       "    </tr>\n",
       "    <tr>\n",
       "      <th>22875</th>\n",
       "      <td>[0.9000218378642625, 0.04998908106786876, 0.04...</td>\n",
       "      <td>semanticDBLP_6accd6b8bdef57b1455d5bb6cdcc8c436...</td>\n",
       "      <td>20</td>\n",
       "      <td>value</td>\n",
       "    </tr>\n",
       "    <tr>\n",
       "      <th>22876</th>\n",
       "      <td>[0.566841311319671, 0.21657934434016446, 0.216...</td>\n",
       "      <td>semanticDBLP_6accd6b8bdef57b1455d5bb6cdcc8c436...</td>\n",
       "      <td>21</td>\n",
       "      <td>of</td>\n",
       "    </tr>\n",
       "    <tr>\n",
       "      <th>22877</th>\n",
       "      <td>[0.9550901220771066, 0.02245493896144668, 0.02...</td>\n",
       "      <td>semanticDBLP_6accd6b8bdef57b1455d5bb6cdcc8c436...</td>\n",
       "      <td>22</td>\n",
       "      <td>DSR</td>\n",
       "    </tr>\n",
       "    <tr>\n",
       "      <th>22878</th>\n",
       "      <td>[0.7555907713663789, 0.12220461431681057, 0.12...</td>\n",
       "      <td>semanticDBLP_6accd6b8bdef57b1455d5bb6cdcc8c436...</td>\n",
       "      <td>23</td>\n",
       "      <td>could</td>\n",
       "    </tr>\n",
       "    <tr>\n",
       "      <th>22879</th>\n",
       "      <td>[0.3333333333333333, 0.3333333333333333, 0.333...</td>\n",
       "      <td>semanticDBLP_6accd6b8bdef57b1455d5bb6cdcc8c436...</td>\n",
       "      <td>24</td>\n",
       "      <td>be</td>\n",
       "    </tr>\n",
       "    <tr>\n",
       "      <th>22880</th>\n",
       "      <td>[0.9000218378642625, 0.04998908106786876, 0.04...</td>\n",
       "      <td>semanticDBLP_6accd6b8bdef57b1455d5bb6cdcc8c436...</td>\n",
       "      <td>25</td>\n",
       "      <td>increased</td>\n",
       "    </tr>\n",
       "    <tr>\n",
       "      <th>22881</th>\n",
       "      <td>[0.3333333333333333, 0.3333333333333333, 0.333...</td>\n",
       "      <td>semanticDBLP_6accd6b8bdef57b1455d5bb6cdcc8c436...</td>\n",
       "      <td>26</td>\n",
       "      <td>by</td>\n",
       "    </tr>\n",
       "    <tr>\n",
       "      <th>22882</th>\n",
       "      <td>[0.3333333333333333, 0.3333333333333333, 0.333...</td>\n",
       "      <td>semanticDBLP_6accd6b8bdef57b1455d5bb6cdcc8c436...</td>\n",
       "      <td>27</td>\n",
       "      <td>expanding</td>\n",
       "    </tr>\n",
       "    <tr>\n",
       "      <th>22883</th>\n",
       "      <td>[0.3333333333333333, 0.3333333333333333, 0.333...</td>\n",
       "      <td>semanticDBLP_6accd6b8bdef57b1455d5bb6cdcc8c436...</td>\n",
       "      <td>28</td>\n",
       "      <td>its</td>\n",
       "    </tr>\n",
       "    <tr>\n",
       "      <th>22884</th>\n",
       "      <td>[0.324114978744728, 0.5508310400967501, 0.1250...</td>\n",
       "      <td>semanticDBLP_6accd6b8bdef57b1455d5bb6cdcc8c436...</td>\n",
       "      <td>29</td>\n",
       "      <td>scope</td>\n",
       "    </tr>\n",
       "    <tr>\n",
       "      <th>22885</th>\n",
       "      <td>[0.8930433842707538, 0.08716722820391926, 0.01...</td>\n",
       "      <td>semanticDBLP_6accd6b8bdef57b1455d5bb6cdcc8c436...</td>\n",
       "      <td>30</td>\n",
       "      <td>beyond</td>\n",
       "    </tr>\n",
       "    <tr>\n",
       "      <th>22886</th>\n",
       "      <td>[0.566841311319671, 0.21657934434016446, 0.216...</td>\n",
       "      <td>semanticDBLP_6accd6b8bdef57b1455d5bb6cdcc8c436...</td>\n",
       "      <td>31</td>\n",
       "      <td>its</td>\n",
       "    </tr>\n",
       "    <tr>\n",
       "      <th>22887</th>\n",
       "      <td>[0.9000218378642625, 0.04998908106786876, 0.04...</td>\n",
       "      <td>semanticDBLP_6accd6b8bdef57b1455d5bb6cdcc8c436...</td>\n",
       "      <td>32</td>\n",
       "      <td>engineering</td>\n",
       "    </tr>\n",
       "    <tr>\n",
       "      <th>22888</th>\n",
       "      <td>[0.9000218378642625, 0.04998908106786876, 0.04...</td>\n",
       "      <td>semanticDBLP_6accd6b8bdef57b1455d5bb6cdcc8c436...</td>\n",
       "      <td>33</td>\n",
       "      <td>roots</td>\n",
       "    </tr>\n",
       "    <tr>\n",
       "      <th>22889</th>\n",
       "      <td>[0.566841311319671, 0.21657934434016446, 0.216...</td>\n",
       "      <td>semanticDBLP_6accd6b8bdef57b1455d5bb6cdcc8c436...</td>\n",
       "      <td>34</td>\n",
       "      <td>to</td>\n",
       "    </tr>\n",
       "    <tr>\n",
       "      <th>22890</th>\n",
       "      <td>[0.9000218378642625, 0.04998908106786876, 0.04...</td>\n",
       "      <td>semanticDBLP_6accd6b8bdef57b1455d5bb6cdcc8c436...</td>\n",
       "      <td>35</td>\n",
       "      <td>bring</td>\n",
       "    </tr>\n",
       "    <tr>\n",
       "      <th>22891</th>\n",
       "      <td>[0.566841311319671, 0.21657934434016446, 0.216...</td>\n",
       "      <td>semanticDBLP_6accd6b8bdef57b1455d5bb6cdcc8c436...</td>\n",
       "      <td>36</td>\n",
       "      <td>all</td>\n",
       "    </tr>\n",
       "    <tr>\n",
       "      <th>22892</th>\n",
       "      <td>[0.3333333333333333, 0.3333333333333333, 0.333...</td>\n",
       "      <td>semanticDBLP_6accd6b8bdef57b1455d5bb6cdcc8c436...</td>\n",
       "      <td>37</td>\n",
       "      <td>modes</td>\n",
       "    </tr>\n",
       "    <tr>\n",
       "      <th>22893</th>\n",
       "      <td>[0.3333333333333333, 0.3333333333333333, 0.333...</td>\n",
       "      <td>semanticDBLP_6accd6b8bdef57b1455d5bb6cdcc8c436...</td>\n",
       "      <td>38</td>\n",
       "      <td>of</td>\n",
       "    </tr>\n",
       "    <tr>\n",
       "      <th>22894</th>\n",
       "      <td>[0.6865975157774757, 0.09980879063539361, 0.21...</td>\n",
       "      <td>semanticDBLP_6accd6b8bdef57b1455d5bb6cdcc8c436...</td>\n",
       "      <td>39</td>\n",
       "      <td>scientific</td>\n",
       "    </tr>\n",
       "    <tr>\n",
       "      <th>22895</th>\n",
       "      <td>[0.3333333333333333, 0.3333333333333333, 0.333...</td>\n",
       "      <td>semanticDBLP_6accd6b8bdef57b1455d5bb6cdcc8c436...</td>\n",
       "      <td>40</td>\n",
       "      <td>inquiry</td>\n",
       "    </tr>\n",
       "    <tr>\n",
       "      <th>22896</th>\n",
       "      <td>[0.566841311319671, 0.21657934434016446, 0.216...</td>\n",
       "      <td>semanticDBLP_6accd6b8bdef57b1455d5bb6cdcc8c436...</td>\n",
       "      <td>41</td>\n",
       "      <td>to</td>\n",
       "    </tr>\n",
       "    <tr>\n",
       "      <th>22897</th>\n",
       "      <td>[0.9000218378642625, 0.04998908106786876, 0.04...</td>\n",
       "      <td>semanticDBLP_6accd6b8bdef57b1455d5bb6cdcc8c436...</td>\n",
       "      <td>42</td>\n",
       "      <td>bear</td>\n",
       "    </tr>\n",
       "    <tr>\n",
       "      <th>22898</th>\n",
       "      <td>[0.9000218378642625, 0.04998908106786876, 0.04...</td>\n",
       "      <td>semanticDBLP_6accd6b8bdef57b1455d5bb6cdcc8c436...</td>\n",
       "      <td>43</td>\n",
       "      <td>–</td>\n",
       "    </tr>\n",
       "    <tr>\n",
       "      <th>22899</th>\n",
       "      <td>[0.9000218378642625, 0.04998908106786876, 0.04...</td>\n",
       "      <td>semanticDBLP_6accd6b8bdef57b1455d5bb6cdcc8c436...</td>\n",
       "      <td>44</td>\n",
       "      <td>exploratory</td>\n",
       "    </tr>\n",
       "    <tr>\n",
       "      <th>22900</th>\n",
       "      <td>[0.9000218378642625, 0.04998908106786876, 0.04...</td>\n",
       "      <td>semanticDBLP_6accd6b8bdef57b1455d5bb6cdcc8c436...</td>\n",
       "      <td>45</td>\n",
       "      <td>,</td>\n",
       "    </tr>\n",
       "    <tr>\n",
       "      <th>22901</th>\n",
       "      <td>[0.9000218378642625, 0.04998908106786876, 0.04...</td>\n",
       "      <td>semanticDBLP_6accd6b8bdef57b1455d5bb6cdcc8c436...</td>\n",
       "      <td>46</td>\n",
       "      <td>theoretical</td>\n",
       "    </tr>\n",
       "    <tr>\n",
       "      <th>22902</th>\n",
       "      <td>[0.6865975157774757, 0.09980879063539361, 0.21...</td>\n",
       "      <td>semanticDBLP_6accd6b8bdef57b1455d5bb6cdcc8c436...</td>\n",
       "      <td>47</td>\n",
       "      <td>,</td>\n",
       "    </tr>\n",
       "    <tr>\n",
       "      <th>22903</th>\n",
       "      <td>[0.3333333333333333, 0.3333333333333333, 0.333...</td>\n",
       "      <td>semanticDBLP_6accd6b8bdef57b1455d5bb6cdcc8c436...</td>\n",
       "      <td>48</td>\n",
       "      <td>experimental</td>\n",
       "    </tr>\n",
       "    <tr>\n",
       "      <th>22904</th>\n",
       "      <td>[0.3333333333333333, 0.3333333333333333, 0.333...</td>\n",
       "      <td>semanticDBLP_6accd6b8bdef57b1455d5bb6cdcc8c436...</td>\n",
       "      <td>49</td>\n",
       "      <td>,</td>\n",
       "    </tr>\n",
       "    <tr>\n",
       "      <th>22905</th>\n",
       "      <td>[0.5565563714814038, 0.36139655035929674, 0.08...</td>\n",
       "      <td>semanticDBLP_6accd6b8bdef57b1455d5bb6cdcc8c436...</td>\n",
       "      <td>50</td>\n",
       "      <td>and</td>\n",
       "    </tr>\n",
       "    <tr>\n",
       "      <th>22906</th>\n",
       "      <td>[0.1561342134440276, 0.6877315731119448, 0.156...</td>\n",
       "      <td>semanticDBLP_6accd6b8bdef57b1455d5bb6cdcc8c436...</td>\n",
       "      <td>51</td>\n",
       "      <td>applied</td>\n",
       "    </tr>\n",
       "    <tr>\n",
       "      <th>22907</th>\n",
       "      <td>[0.9000218378642625, 0.04998908106786876, 0.04...</td>\n",
       "      <td>semanticDBLP_6accd6b8bdef57b1455d5bb6cdcc8c436...</td>\n",
       "      <td>52</td>\n",
       "      <td>science</td>\n",
       "    </tr>\n",
       "    <tr>\n",
       "      <th>22908</th>\n",
       "      <td>[0.9000218378642625, 0.04998908106786876, 0.04...</td>\n",
       "      <td>semanticDBLP_6accd6b8bdef57b1455d5bb6cdcc8c436...</td>\n",
       "      <td>53</td>\n",
       "      <td>/</td>\n",
       "    </tr>\n",
       "    <tr>\n",
       "      <th>22909</th>\n",
       "      <td>[0.9550901220771066, 0.02245493896144668, 0.02...</td>\n",
       "      <td>semanticDBLP_6accd6b8bdef57b1455d5bb6cdcc8c436...</td>\n",
       "      <td>54</td>\n",
       "      <td>engineering</td>\n",
       "    </tr>\n",
       "    <tr>\n",
       "      <th>22910</th>\n",
       "      <td>[0.566841311319671, 0.21657934434016446, 0.216...</td>\n",
       "      <td>semanticDBLP_6accd6b8bdef57b1455d5bb6cdcc8c436...</td>\n",
       "      <td>55</td>\n",
       "      <td>(</td>\n",
       "    </tr>\n",
       "    <tr>\n",
       "      <th>22911</th>\n",
       "      <td>[0.9000218378642625, 0.04998908106786876, 0.04...</td>\n",
       "      <td>semanticDBLP_6accd6b8bdef57b1455d5bb6cdcc8c436...</td>\n",
       "      <td>56</td>\n",
       "      <td>AS</td>\n",
       "    </tr>\n",
       "    <tr>\n",
       "      <th>22912</th>\n",
       "      <td>[0.9000218378642625, 0.04998908106786876, 0.04...</td>\n",
       "      <td>semanticDBLP_6accd6b8bdef57b1455d5bb6cdcc8c436...</td>\n",
       "      <td>57</td>\n",
       "      <td>/</td>\n",
       "    </tr>\n",
       "    <tr>\n",
       "      <th>22913</th>\n",
       "      <td>[0.566841311319671, 0.21657934434016446, 0.216...</td>\n",
       "      <td>semanticDBLP_6accd6b8bdef57b1455d5bb6cdcc8c436...</td>\n",
       "      <td>58</td>\n",
       "      <td>E</td>\n",
       "    </tr>\n",
       "    <tr>\n",
       "      <th>22914</th>\n",
       "      <td>[0.9000218378642625, 0.04998908106786876, 0.04...</td>\n",
       "      <td>semanticDBLP_6accd6b8bdef57b1455d5bb6cdcc8c436...</td>\n",
       "      <td>59</td>\n",
       "      <td>)</td>\n",
       "    </tr>\n",
       "    <tr>\n",
       "      <th>22915</th>\n",
       "      <td>[0.566841311319671, 0.21657934434016446, 0.216...</td>\n",
       "      <td>semanticDBLP_6accd6b8bdef57b1455d5bb6cdcc8c436...</td>\n",
       "      <td>60</td>\n",
       "      <td>.</td>\n",
       "    </tr>\n",
       "    <tr>\n",
       "      <th>22916</th>\n",
       "      <td>[0.7794615283091949, 0.17973387768999366, 0.04...</td>\n",
       "      <td>semanticDBLP_6accd6b8bdef57b1455d5bb6cdcc8c436...</td>\n",
       "      <td>61</td>\n",
       "      <td>All</td>\n",
       "    </tr>\n",
       "    <tr>\n",
       "      <th>22917</th>\n",
       "      <td>[0.5565563714814038, 0.36139655035929674, 0.08...</td>\n",
       "      <td>semanticDBLP_6accd6b8bdef57b1455d5bb6cdcc8c436...</td>\n",
       "      <td>62</td>\n",
       "      <td>DSR</td>\n",
       "    </tr>\n",
       "    <tr>\n",
       "      <th>22918</th>\n",
       "      <td>[0.1561342134440276, 0.6877315731119448, 0.156...</td>\n",
       "      <td>semanticDBLP_6accd6b8bdef57b1455d5bb6cdcc8c436...</td>\n",
       "      <td>63</td>\n",
       "      <td>Cycle</td>\n",
       "    </tr>\n",
       "    <tr>\n",
       "      <th>22919</th>\n",
       "      <td>[0.3333333333333333, 0.3333333333333333, 0.333...</td>\n",
       "      <td>semanticDBLP_6accd6b8bdef57b1455d5bb6cdcc8c436...</td>\n",
       "      <td>64</td>\n",
       "      <td>activities</td>\n",
       "    </tr>\n",
       "    <tr>\n",
       "      <th>22920</th>\n",
       "      <td>[0.3333333333333333, 0.3333333333333333, 0.333...</td>\n",
       "      <td>semanticDBLP_6accd6b8bdef57b1455d5bb6cdcc8c436...</td>\n",
       "      <td>65</td>\n",
       "      <td>can</td>\n",
       "    </tr>\n",
       "    <tr>\n",
       "      <th>22921</th>\n",
       "      <td>[0.7794615283091949, 0.17973387768999366, 0.04...</td>\n",
       "      <td>semanticDBLP_6accd6b8bdef57b1455d5bb6cdcc8c436...</td>\n",
       "      <td>66</td>\n",
       "      <td>be</td>\n",
       "    </tr>\n",
       "    <tr>\n",
       "      <th>22922</th>\n",
       "      <td>[0.1561342134440276, 0.6877315731119448, 0.156...</td>\n",
       "      <td>semanticDBLP_6accd6b8bdef57b1455d5bb6cdcc8c436...</td>\n",
       "      <td>67</td>\n",
       "      <td>realized</td>\n",
       "    </tr>\n",
       "    <tr>\n",
       "      <th>22923</th>\n",
       "      <td>[0.5565563714814038, 0.36139655035929674, 0.08...</td>\n",
       "      <td>semanticDBLP_6accd6b8bdef57b1455d5bb6cdcc8c436...</td>\n",
       "      <td>68</td>\n",
       "      <td>as</td>\n",
       "    </tr>\n",
       "    <tr>\n",
       "      <th>22924</th>\n",
       "      <td>[0.5565563714814038, 0.36139655035929674, 0.08...</td>\n",
       "      <td>semanticDBLP_6accd6b8bdef57b1455d5bb6cdcc8c436...</td>\n",
       "      <td>69</td>\n",
       "      <td>instances</td>\n",
       "    </tr>\n",
       "    <tr>\n",
       "      <th>22925</th>\n",
       "      <td>[0.5565563714814038, 0.36139655035929674, 0.08...</td>\n",
       "      <td>semanticDBLP_6accd6b8bdef57b1455d5bb6cdcc8c436...</td>\n",
       "      <td>70</td>\n",
       "      <td>of</td>\n",
       "    </tr>\n",
       "    <tr>\n",
       "      <th>22926</th>\n",
       "      <td>[0.5565563714814038, 0.36139655035929674, 0.08...</td>\n",
       "      <td>semanticDBLP_6accd6b8bdef57b1455d5bb6cdcc8c436...</td>\n",
       "      <td>71</td>\n",
       "      <td>one</td>\n",
       "    </tr>\n",
       "    <tr>\n",
       "      <th>22927</th>\n",
       "      <td>[0.3333333333333333, 0.3333333333333333, 0.333...</td>\n",
       "      <td>semanticDBLP_6accd6b8bdef57b1455d5bb6cdcc8c436...</td>\n",
       "      <td>72</td>\n",
       "      <td>or</td>\n",
       "    </tr>\n",
       "    <tr>\n",
       "      <th>22928</th>\n",
       "      <td>[0.1561342134440276, 0.6877315731119448, 0.156...</td>\n",
       "      <td>semanticDBLP_6accd6b8bdef57b1455d5bb6cdcc8c436...</td>\n",
       "      <td>73</td>\n",
       "      <td>more</td>\n",
       "    </tr>\n",
       "    <tr>\n",
       "      <th>22929</th>\n",
       "      <td>[0.1561342134440276, 0.6877315731119448, 0.156...</td>\n",
       "      <td>semanticDBLP_6accd6b8bdef57b1455d5bb6cdcc8c436...</td>\n",
       "      <td>74</td>\n",
       "      <td>of</td>\n",
       "    </tr>\n",
       "    <tr>\n",
       "      <th>22930</th>\n",
       "      <td>[0.1561342134440276, 0.6877315731119448, 0.156...</td>\n",
       "      <td>semanticDBLP_6accd6b8bdef57b1455d5bb6cdcc8c436...</td>\n",
       "      <td>75</td>\n",
       "      <td>the</td>\n",
       "    </tr>\n",
       "    <tr>\n",
       "      <th>22931</th>\n",
       "      <td>[0.1561342134440276, 0.6877315731119448, 0.156...</td>\n",
       "      <td>semanticDBLP_6accd6b8bdef57b1455d5bb6cdcc8c436...</td>\n",
       "      <td>76</td>\n",
       "      <td>four</td>\n",
       "    </tr>\n",
       "    <tr>\n",
       "      <th>22932</th>\n",
       "      <td>[0.8930433842707538, 0.08716722820391926, 0.01...</td>\n",
       "      <td>semanticDBLP_6accd6b8bdef57b1455d5bb6cdcc8c436...</td>\n",
       "      <td>77</td>\n",
       "      <td>modes</td>\n",
       "    </tr>\n",
       "    <tr>\n",
       "      <th>22933</th>\n",
       "      <td>[0.8930433842707538, 0.08716722820391926, 0.01...</td>\n",
       "      <td>semanticDBLP_6accd6b8bdef57b1455d5bb6cdcc8c436...</td>\n",
       "      <td>78</td>\n",
       "      <td>.</td>\n",
       "    </tr>\n",
       "    <tr>\n",
       "      <th>22934</th>\n",
       "      <td>[0.3333333333333333, 0.3333333333333333, 0.333...</td>\n",
       "      <td>semanticDBLP_6accd6b8bdef57b1455d5bb6cdcc8c436...</td>\n",
       "      <td>79</td>\n",
       "      <td>The</td>\n",
       "    </tr>\n",
       "    <tr>\n",
       "      <th>22935</th>\n",
       "      <td>[0.3333333333333333, 0.3333333333333333, 0.333...</td>\n",
       "      <td>semanticDBLP_6accd6b8bdef57b1455d5bb6cdcc8c436...</td>\n",
       "      <td>80</td>\n",
       "      <td>rigor</td>\n",
       "    </tr>\n",
       "    <tr>\n",
       "      <th>22936</th>\n",
       "      <td>[0.3333333333333333, 0.3333333333333333, 0.333...</td>\n",
       "      <td>semanticDBLP_6accd6b8bdef57b1455d5bb6cdcc8c436...</td>\n",
       "      <td>81</td>\n",
       "      <td>of</td>\n",
       "    </tr>\n",
       "    <tr>\n",
       "      <th>22937</th>\n",
       "      <td>[0.3333333333333333, 0.3333333333333333, 0.333...</td>\n",
       "      <td>semanticDBLP_6accd6b8bdef57b1455d5bb6cdcc8c436...</td>\n",
       "      <td>82</td>\n",
       "      <td>DSR</td>\n",
       "    </tr>\n",
       "    <tr>\n",
       "      <th>22938</th>\n",
       "      <td>[0.1561342134440276, 0.6877315731119448, 0.156...</td>\n",
       "      <td>semanticDBLP_6accd6b8bdef57b1455d5bb6cdcc8c436...</td>\n",
       "      <td>83</td>\n",
       "      <td>can</td>\n",
       "    </tr>\n",
       "    <tr>\n",
       "      <th>22939</th>\n",
       "      <td>[0.1561342134440276, 0.6877315731119448, 0.156...</td>\n",
       "      <td>semanticDBLP_6accd6b8bdef57b1455d5bb6cdcc8c436...</td>\n",
       "      <td>84</td>\n",
       "      <td>therefore</td>\n",
       "    </tr>\n",
       "    <tr>\n",
       "      <th>22940</th>\n",
       "      <td>[0.8930433842707538, 0.08716722820391926, 0.01...</td>\n",
       "      <td>semanticDBLP_6accd6b8bdef57b1455d5bb6cdcc8c436...</td>\n",
       "      <td>85</td>\n",
       "      <td>be</td>\n",
       "    </tr>\n",
       "    <tr>\n",
       "      <th>22941</th>\n",
       "      <td>[0.5565563714814038, 0.36139655035929674, 0.08...</td>\n",
       "      <td>semanticDBLP_6accd6b8bdef57b1455d5bb6cdcc8c436...</td>\n",
       "      <td>86</td>\n",
       "      <td>defended</td>\n",
       "    </tr>\n",
       "    <tr>\n",
       "      <th>22942</th>\n",
       "      <td>[0.1561342134440276, 0.6877315731119448, 0.156...</td>\n",
       "      <td>semanticDBLP_6accd6b8bdef57b1455d5bb6cdcc8c436...</td>\n",
       "      <td>87</td>\n",
       "      <td>in</td>\n",
       "    </tr>\n",
       "    <tr>\n",
       "      <th>22943</th>\n",
       "      <td>[0.8930433842707538, 0.08716722820391926, 0.01...</td>\n",
       "      <td>semanticDBLP_6accd6b8bdef57b1455d5bb6cdcc8c436...</td>\n",
       "      <td>88</td>\n",
       "      <td>terms</td>\n",
       "    </tr>\n",
       "    <tr>\n",
       "      <th>22944</th>\n",
       "      <td>[0.3333333333333333, 0.3333333333333333, 0.333...</td>\n",
       "      <td>semanticDBLP_6accd6b8bdef57b1455d5bb6cdcc8c436...</td>\n",
       "      <td>89</td>\n",
       "      <td>of</td>\n",
       "    </tr>\n",
       "    <tr>\n",
       "      <th>22945</th>\n",
       "      <td>[0.3333333333333333, 0.3333333333333333, 0.333...</td>\n",
       "      <td>semanticDBLP_6accd6b8bdef57b1455d5bb6cdcc8c436...</td>\n",
       "      <td>90</td>\n",
       "      <td>the</td>\n",
       "    </tr>\n",
       "    <tr>\n",
       "      <th>22946</th>\n",
       "      <td>[0.3333333333333333, 0.3333333333333333, 0.333...</td>\n",
       "      <td>semanticDBLP_6accd6b8bdef57b1455d5bb6cdcc8c436...</td>\n",
       "      <td>91</td>\n",
       "      <td>goals</td>\n",
       "    </tr>\n",
       "    <tr>\n",
       "      <th>22947</th>\n",
       "      <td>[0.3333333333333333, 0.3333333333333333, 0.333...</td>\n",
       "      <td>semanticDBLP_6accd6b8bdef57b1455d5bb6cdcc8c436...</td>\n",
       "      <td>92</td>\n",
       "      <td>,</td>\n",
       "    </tr>\n",
       "    <tr>\n",
       "      <th>22948</th>\n",
       "      <td>[0.3333333333333333, 0.3333333333333333, 0.333...</td>\n",
       "      <td>semanticDBLP_6accd6b8bdef57b1455d5bb6cdcc8c436...</td>\n",
       "      <td>93</td>\n",
       "      <td>research</td>\n",
       "    </tr>\n",
       "    <tr>\n",
       "      <th>22949</th>\n",
       "      <td>[0.3333333333333333, 0.3333333333333333, 0.333...</td>\n",
       "      <td>semanticDBLP_6accd6b8bdef57b1455d5bb6cdcc8c436...</td>\n",
       "      <td>94</td>\n",
       "      <td>products</td>\n",
       "    </tr>\n",
       "    <tr>\n",
       "      <th>22950</th>\n",
       "      <td>[0.5565563714814038, 0.36139655035929674, 0.08...</td>\n",
       "      <td>semanticDBLP_6accd6b8bdef57b1455d5bb6cdcc8c436...</td>\n",
       "      <td>95</td>\n",
       "      <td>,</td>\n",
       "    </tr>\n",
       "    <tr>\n",
       "      <th>22951</th>\n",
       "      <td>[0.7477934608465375, 0.20554263804084835, 0.04...</td>\n",
       "      <td>semanticDBLP_6accd6b8bdef57b1455d5bb6cdcc8c436...</td>\n",
       "      <td>96</td>\n",
       "      <td>and</td>\n",
       "    </tr>\n",
       "    <tr>\n",
       "      <th>22952</th>\n",
       "      <td>[0.5565563714814038, 0.36139655035929674, 0.08...</td>\n",
       "      <td>semanticDBLP_6accd6b8bdef57b1455d5bb6cdcc8c436...</td>\n",
       "      <td>97</td>\n",
       "      <td>standards</td>\n",
       "    </tr>\n",
       "    <tr>\n",
       "      <th>22953</th>\n",
       "      <td>[0.5565563714814038, 0.36139655035929674, 0.08...</td>\n",
       "      <td>semanticDBLP_6accd6b8bdef57b1455d5bb6cdcc8c436...</td>\n",
       "      <td>98</td>\n",
       "      <td>of</td>\n",
       "    </tr>\n",
       "    <tr>\n",
       "      <th>22954</th>\n",
       "      <td>[0.1561342134440276, 0.6877315731119448, 0.156...</td>\n",
       "      <td>semanticDBLP_6accd6b8bdef57b1455d5bb6cdcc8c436...</td>\n",
       "      <td>99</td>\n",
       "      <td>rigor</td>\n",
       "    </tr>\n",
       "    <tr>\n",
       "      <th>22955</th>\n",
       "      <td>[0.324114978744728, 0.5508310400967501, 0.1250...</td>\n",
       "      <td>semanticDBLP_6accd6b8bdef57b1455d5bb6cdcc8c436...</td>\n",
       "      <td>100</td>\n",
       "      <td>already</td>\n",
       "    </tr>\n",
       "    <tr>\n",
       "      <th>22956</th>\n",
       "      <td>[0.3333333333333333, 0.3333333333333333, 0.333...</td>\n",
       "      <td>semanticDBLP_6accd6b8bdef57b1455d5bb6cdcc8c436...</td>\n",
       "      <td>101</td>\n",
       "      <td>established</td>\n",
       "    </tr>\n",
       "    <tr>\n",
       "      <th>22957</th>\n",
       "      <td>[0.3333333333333333, 0.3333333333333333, 0.333...</td>\n",
       "      <td>semanticDBLP_6accd6b8bdef57b1455d5bb6cdcc8c436...</td>\n",
       "      <td>102</td>\n",
       "      <td>for</td>\n",
       "    </tr>\n",
       "    <tr>\n",
       "      <th>22958</th>\n",
       "      <td>[0.3333333333333333, 0.3333333333333333, 0.333...</td>\n",
       "      <td>semanticDBLP_6accd6b8bdef57b1455d5bb6cdcc8c436...</td>\n",
       "      <td>103</td>\n",
       "      <td>each</td>\n",
       "    </tr>\n",
       "    <tr>\n",
       "      <th>22959</th>\n",
       "      <td>[0.3333333333333333, 0.3333333333333333, 0.333...</td>\n",
       "      <td>semanticDBLP_6accd6b8bdef57b1455d5bb6cdcc8c436...</td>\n",
       "      <td>104</td>\n",
       "      <td>mode</td>\n",
       "    </tr>\n",
       "    <tr>\n",
       "      <th>22960</th>\n",
       "      <td>[0.3333333333333333, 0.3333333333333333, 0.333...</td>\n",
       "      <td>semanticDBLP_6accd6b8bdef57b1455d5bb6cdcc8c436...</td>\n",
       "      <td>105</td>\n",
       "      <td>.</td>\n",
       "    </tr>\n",
       "    <tr>\n",
       "      <th>22961</th>\n",
       "      <td>[0.3333333333333333, 0.3333333333333333, 0.333...</td>\n",
       "      <td>semanticDBLP_6accd6b8bdef57b1455d5bb6cdcc8c436...</td>\n",
       "      <td>106</td>\n",
       "      <td>There</td>\n",
       "    </tr>\n",
       "    <tr>\n",
       "      <th>22962</th>\n",
       "      <td>[0.3333333333333333, 0.3333333333333333, 0.333...</td>\n",
       "      <td>semanticDBLP_6accd6b8bdef57b1455d5bb6cdcc8c436...</td>\n",
       "      <td>107</td>\n",
       "      <td>is</td>\n",
       "    </tr>\n",
       "    <tr>\n",
       "      <th>22963</th>\n",
       "      <td>[0.3333333333333333, 0.3333333333333333, 0.333...</td>\n",
       "      <td>semanticDBLP_6accd6b8bdef57b1455d5bb6cdcc8c436...</td>\n",
       "      <td>108</td>\n",
       "      <td>,</td>\n",
       "    </tr>\n",
       "    <tr>\n",
       "      <th>22964</th>\n",
       "      <td>[0.3333333333333333, 0.3333333333333333, 0.333...</td>\n",
       "      <td>semanticDBLP_6accd6b8bdef57b1455d5bb6cdcc8c436...</td>\n",
       "      <td>109</td>\n",
       "      <td>moreover</td>\n",
       "    </tr>\n",
       "    <tr>\n",
       "      <th>22965</th>\n",
       "      <td>[0.3333333333333333, 0.3333333333333333, 0.333...</td>\n",
       "      <td>semanticDBLP_6accd6b8bdef57b1455d5bb6cdcc8c436...</td>\n",
       "      <td>110</td>\n",
       "      <td>,</td>\n",
       "    </tr>\n",
       "    <tr>\n",
       "      <th>22966</th>\n",
       "      <td>[0.3333333333333333, 0.3333333333333333, 0.333...</td>\n",
       "      <td>semanticDBLP_6accd6b8bdef57b1455d5bb6cdcc8c436...</td>\n",
       "      <td>111</td>\n",
       "      <td>a</td>\n",
       "    </tr>\n",
       "    <tr>\n",
       "      <th>22967</th>\n",
       "      <td>[0.3333333333333333, 0.3333333333333333, 0.333...</td>\n",
       "      <td>semanticDBLP_6accd6b8bdef57b1455d5bb6cdcc8c436...</td>\n",
       "      <td>112</td>\n",
       "      <td>synergy</td>\n",
       "    </tr>\n",
       "    <tr>\n",
       "      <th>22968</th>\n",
       "      <td>[0.3333333333333333, 0.3333333333333333, 0.333...</td>\n",
       "      <td>semanticDBLP_6accd6b8bdef57b1455d5bb6cdcc8c436...</td>\n",
       "      <td>113</td>\n",
       "      <td>among</td>\n",
       "    </tr>\n",
       "    <tr>\n",
       "      <th>22969</th>\n",
       "      <td>[0.3333333333333333, 0.3333333333333333, 0.333...</td>\n",
       "      <td>semanticDBLP_6accd6b8bdef57b1455d5bb6cdcc8c436...</td>\n",
       "      <td>114</td>\n",
       "      <td>the</td>\n",
       "    </tr>\n",
       "    <tr>\n",
       "      <th>22970</th>\n",
       "      <td>[0.3333333333333333, 0.3333333333333333, 0.333...</td>\n",
       "      <td>semanticDBLP_6accd6b8bdef57b1455d5bb6cdcc8c436...</td>\n",
       "      <td>115</td>\n",
       "      <td>modes</td>\n",
       "    </tr>\n",
       "    <tr>\n",
       "      <th>22971</th>\n",
       "      <td>[0.3333333333333333, 0.3333333333333333, 0.333...</td>\n",
       "      <td>semanticDBLP_6accd6b8bdef57b1455d5bb6cdcc8c436...</td>\n",
       "      <td>116</td>\n",
       "      <td>that</td>\n",
       "    </tr>\n",
       "    <tr>\n",
       "      <th>22972</th>\n",
       "      <td>[0.3333333333333333, 0.3333333333333333, 0.333...</td>\n",
       "      <td>semanticDBLP_6accd6b8bdef57b1455d5bb6cdcc8c436...</td>\n",
       "      <td>117</td>\n",
       "      <td>can</td>\n",
       "    </tr>\n",
       "    <tr>\n",
       "      <th>22973</th>\n",
       "      <td>[0.3333333333333333, 0.3333333333333333, 0.333...</td>\n",
       "      <td>semanticDBLP_6accd6b8bdef57b1455d5bb6cdcc8c436...</td>\n",
       "      <td>118</td>\n",
       "      <td>only</td>\n",
       "    </tr>\n",
       "    <tr>\n",
       "      <th>22974</th>\n",
       "      <td>[0.3333333333333333, 0.3333333333333333, 0.333...</td>\n",
       "      <td>semanticDBLP_6accd6b8bdef57b1455d5bb6cdcc8c436...</td>\n",
       "      <td>119</td>\n",
       "      <td>be</td>\n",
       "    </tr>\n",
       "    <tr>\n",
       "      <th>22975</th>\n",
       "      <td>[0.3333333333333333, 0.3333333333333333, 0.333...</td>\n",
       "      <td>semanticDBLP_6accd6b8bdef57b1455d5bb6cdcc8c436...</td>\n",
       "      <td>120</td>\n",
       "      <td>realized</td>\n",
       "    </tr>\n",
       "    <tr>\n",
       "      <th>22976</th>\n",
       "      <td>[0.3333333333333333, 0.3333333333333333, 0.333...</td>\n",
       "      <td>semanticDBLP_6accd6b8bdef57b1455d5bb6cdcc8c436...</td>\n",
       "      <td>121</td>\n",
       "      <td>when</td>\n",
       "    </tr>\n",
       "    <tr>\n",
       "      <th>22977</th>\n",
       "      <td>[0.3333333333333333, 0.3333333333333333, 0.333...</td>\n",
       "      <td>semanticDBLP_6accd6b8bdef57b1455d5bb6cdcc8c436...</td>\n",
       "      <td>122</td>\n",
       "      <td>all</td>\n",
       "    </tr>\n",
       "    <tr>\n",
       "      <th>22978</th>\n",
       "      <td>[0.3333333333333333, 0.3333333333333333, 0.333...</td>\n",
       "      <td>semanticDBLP_6accd6b8bdef57b1455d5bb6cdcc8c436...</td>\n",
       "      <td>123</td>\n",
       "      <td>four</td>\n",
       "    </tr>\n",
       "    <tr>\n",
       "      <th>22979</th>\n",
       "      <td>[0.3333333333333333, 0.3333333333333333, 0.333...</td>\n",
       "      <td>semanticDBLP_6accd6b8bdef57b1455d5bb6cdcc8c436...</td>\n",
       "      <td>124</td>\n",
       "      <td>are</td>\n",
       "    </tr>\n",
       "    <tr>\n",
       "      <th>22980</th>\n",
       "      <td>[0.3333333333333333, 0.3333333333333333, 0.333...</td>\n",
       "      <td>semanticDBLP_6accd6b8bdef57b1455d5bb6cdcc8c436...</td>\n",
       "      <td>125</td>\n",
       "      <td>brought</td>\n",
       "    </tr>\n",
       "    <tr>\n",
       "      <th>22981</th>\n",
       "      <td>[0.3333333333333333, 0.3333333333333333, 0.333...</td>\n",
       "      <td>semanticDBLP_6accd6b8bdef57b1455d5bb6cdcc8c436...</td>\n",
       "      <td>126</td>\n",
       "      <td>to</td>\n",
       "    </tr>\n",
       "    <tr>\n",
       "      <th>22982</th>\n",
       "      <td>[0.3333333333333333, 0.3333333333333333, 0.333...</td>\n",
       "      <td>semanticDBLP_6accd6b8bdef57b1455d5bb6cdcc8c436...</td>\n",
       "      <td>127</td>\n",
       "      <td>bear</td>\n",
       "    </tr>\n",
       "    <tr>\n",
       "      <th>22983</th>\n",
       "      <td>[0.3333333333333333, 0.3333333333333333, 0.333...</td>\n",
       "      <td>semanticDBLP_6accd6b8bdef57b1455d5bb6cdcc8c436...</td>\n",
       "      <td>128</td>\n",
       "      <td>,</td>\n",
       "    </tr>\n",
       "    <tr>\n",
       "      <th>22984</th>\n",
       "      <td>[0.3333333333333333, 0.3333333333333333, 0.333...</td>\n",
       "      <td>semanticDBLP_6accd6b8bdef57b1455d5bb6cdcc8c436...</td>\n",
       "      <td>129</td>\n",
       "      <td>because</td>\n",
       "    </tr>\n",
       "    <tr>\n",
       "      <th>22985</th>\n",
       "      <td>[0.3333333333333333, 0.3333333333333333, 0.333...</td>\n",
       "      <td>semanticDBLP_6accd6b8bdef57b1455d5bb6cdcc8c436...</td>\n",
       "      <td>130</td>\n",
       "      <td>each</td>\n",
       "    </tr>\n",
       "    <tr>\n",
       "      <th>22986</th>\n",
       "      <td>[0.3333333333333333, 0.3333333333333333, 0.333...</td>\n",
       "      <td>semanticDBLP_6accd6b8bdef57b1455d5bb6cdcc8c436...</td>\n",
       "      <td>131</td>\n",
       "      <td>informs</td>\n",
       "    </tr>\n",
       "    <tr>\n",
       "      <th>22987</th>\n",
       "      <td>[0.3333333333333333, 0.3333333333333333, 0.333...</td>\n",
       "      <td>semanticDBLP_6accd6b8bdef57b1455d5bb6cdcc8c436...</td>\n",
       "      <td>132</td>\n",
       "      <td>the</td>\n",
       "    </tr>\n",
       "    <tr>\n",
       "      <th>22988</th>\n",
       "      <td>[0.3333333333333333, 0.3333333333333333, 0.333...</td>\n",
       "      <td>semanticDBLP_6accd6b8bdef57b1455d5bb6cdcc8c436...</td>\n",
       "      <td>133</td>\n",
       "      <td>other</td>\n",
       "    </tr>\n",
       "    <tr>\n",
       "      <th>22989</th>\n",
       "      <td>[0.3333333333333333, 0.3333333333333333, 0.333...</td>\n",
       "      <td>semanticDBLP_6accd6b8bdef57b1455d5bb6cdcc8c436...</td>\n",
       "      <td>134</td>\n",
       "      <td>three</td>\n",
       "    </tr>\n",
       "    <tr>\n",
       "      <th>22990</th>\n",
       "      <td>[0.3333333333333333, 0.3333333333333333, 0.333...</td>\n",
       "      <td>semanticDBLP_6accd6b8bdef57b1455d5bb6cdcc8c436...</td>\n",
       "      <td>135</td>\n",
       "      <td>.</td>\n",
       "    </tr>\n",
       "    <tr>\n",
       "      <th>22991</th>\n",
       "      <td>[0.3333333333333333, 0.3333333333333333, 0.333...</td>\n",
       "      <td>semanticDBLP_6accd6b8bdef57b1455d5bb6cdcc8c436...</td>\n",
       "      <td>136</td>\n",
       "      <td>To</td>\n",
       "    </tr>\n",
       "    <tr>\n",
       "      <th>22992</th>\n",
       "      <td>[0.3333333333333333, 0.3333333333333333, 0.333...</td>\n",
       "      <td>semanticDBLP_6accd6b8bdef57b1455d5bb6cdcc8c436...</td>\n",
       "      <td>137</td>\n",
       "      <td>exclude</td>\n",
       "    </tr>\n",
       "    <tr>\n",
       "      <th>22993</th>\n",
       "      <td>[0.3333333333333333, 0.3333333333333333, 0.333...</td>\n",
       "      <td>semanticDBLP_6accd6b8bdef57b1455d5bb6cdcc8c436...</td>\n",
       "      <td>138</td>\n",
       "      <td>any</td>\n",
       "    </tr>\n",
       "    <tr>\n",
       "      <th>22994</th>\n",
       "      <td>[0.3333333333333333, 0.3333333333333333, 0.333...</td>\n",
       "      <td>semanticDBLP_6accd6b8bdef57b1455d5bb6cdcc8c436...</td>\n",
       "      <td>139</td>\n",
       "      <td>mode</td>\n",
       "    </tr>\n",
       "    <tr>\n",
       "      <th>22995</th>\n",
       "      <td>[0.3333333333333333, 0.3333333333333333, 0.333...</td>\n",
       "      <td>semanticDBLP_6accd6b8bdef57b1455d5bb6cdcc8c436...</td>\n",
       "      <td>140</td>\n",
       "      <td>of</td>\n",
       "    </tr>\n",
       "    <tr>\n",
       "      <th>22996</th>\n",
       "      <td>[0.3333333333333333, 0.3333333333333333, 0.333...</td>\n",
       "      <td>semanticDBLP_6accd6b8bdef57b1455d5bb6cdcc8c436...</td>\n",
       "      <td>141</td>\n",
       "      <td>inquiry</td>\n",
       "    </tr>\n",
       "    <tr>\n",
       "      <th>22997</th>\n",
       "      <td>[0.3333333333333333, 0.3333333333333333, 0.333...</td>\n",
       "      <td>semanticDBLP_6accd6b8bdef57b1455d5bb6cdcc8c436...</td>\n",
       "      <td>142</td>\n",
       "      <td>from</td>\n",
       "    </tr>\n",
       "    <tr>\n",
       "      <th>22998</th>\n",
       "      <td>[0.3333333333333333, 0.3333333333333333, 0.333...</td>\n",
       "      <td>semanticDBLP_6accd6b8bdef57b1455d5bb6cdcc8c436...</td>\n",
       "      <td>143</td>\n",
       "      <td>DSR</td>\n",
       "    </tr>\n",
       "    <tr>\n",
       "      <th>22999</th>\n",
       "      <td>[0.3333333333333333, 0.3333333333333333, 0.333...</td>\n",
       "      <td>semanticDBLP_6accd6b8bdef57b1455d5bb6cdcc8c436...</td>\n",
       "      <td>144</td>\n",
       "      <td>,</td>\n",
       "    </tr>\n",
       "    <tr>\n",
       "      <th>23000</th>\n",
       "      <td>[0.3333333333333333, 0.3333333333333333, 0.333...</td>\n",
       "      <td>semanticDBLP_6accd6b8bdef57b1455d5bb6cdcc8c436...</td>\n",
       "      <td>145</td>\n",
       "      <td>therefore</td>\n",
       "    </tr>\n",
       "    <tr>\n",
       "      <th>23001</th>\n",
       "      <td>[0.3333333333333333, 0.3333333333333333, 0.333...</td>\n",
       "      <td>semanticDBLP_6accd6b8bdef57b1455d5bb6cdcc8c436...</td>\n",
       "      <td>146</td>\n",
       "      <td>,</td>\n",
       "    </tr>\n",
       "    <tr>\n",
       "      <th>23002</th>\n",
       "      <td>[0.3333333333333333, 0.3333333333333333, 0.333...</td>\n",
       "      <td>semanticDBLP_6accd6b8bdef57b1455d5bb6cdcc8c436...</td>\n",
       "      <td>147</td>\n",
       "      <td>is</td>\n",
       "    </tr>\n",
       "    <tr>\n",
       "      <th>23003</th>\n",
       "      <td>[0.3333333333333333, 0.3333333333333333, 0.333...</td>\n",
       "      <td>semanticDBLP_6accd6b8bdef57b1455d5bb6cdcc8c436...</td>\n",
       "      <td>148</td>\n",
       "      <td>to</td>\n",
       "    </tr>\n",
       "    <tr>\n",
       "      <th>23004</th>\n",
       "      <td>[0.3333333333333333, 0.3333333333333333, 0.333...</td>\n",
       "      <td>semanticDBLP_6accd6b8bdef57b1455d5bb6cdcc8c436...</td>\n",
       "      <td>149</td>\n",
       "      <td>impoverish</td>\n",
       "    </tr>\n",
       "    <tr>\n",
       "      <th>23005</th>\n",
       "      <td>[0.3333333333333333, 0.3333333333333333, 0.333...</td>\n",
       "      <td>semanticDBLP_6accd6b8bdef57b1455d5bb6cdcc8c436...</td>\n",
       "      <td>150</td>\n",
       "      <td>knowledge</td>\n",
       "    </tr>\n",
       "    <tr>\n",
       "      <th>23006</th>\n",
       "      <td>[0.3333333333333333, 0.3333333333333333, 0.333...</td>\n",
       "      <td>semanticDBLP_6accd6b8bdef57b1455d5bb6cdcc8c436...</td>\n",
       "      <td>151</td>\n",
       "      <td>about</td>\n",
       "    </tr>\n",
       "    <tr>\n",
       "      <th>23007</th>\n",
       "      <td>[0.3333333333333333, 0.3333333333333333, 0.333...</td>\n",
       "      <td>semanticDBLP_6accd6b8bdef57b1455d5bb6cdcc8c436...</td>\n",
       "      <td>152</td>\n",
       "      <td>its</td>\n",
       "    </tr>\n",
       "    <tr>\n",
       "      <th>23008</th>\n",
       "      <td>[0.3333333333333333, 0.3333333333333333, 0.333...</td>\n",
       "      <td>semanticDBLP_6accd6b8bdef57b1455d5bb6cdcc8c436...</td>\n",
       "      <td>153</td>\n",
       "      <td>objects</td>\n",
       "    </tr>\n",
       "    <tr>\n",
       "      <th>23009</th>\n",
       "      <td>[0.3333333333333333, 0.3333333333333333, 0.333...</td>\n",
       "      <td>semanticDBLP_6accd6b8bdef57b1455d5bb6cdcc8c436...</td>\n",
       "      <td>154</td>\n",
       "      <td>of</td>\n",
       "    </tr>\n",
       "    <tr>\n",
       "      <th>23010</th>\n",
       "      <td>[0.3333333333333333, 0.3333333333333333, 0.333...</td>\n",
       "      <td>semanticDBLP_6accd6b8bdef57b1455d5bb6cdcc8c436...</td>\n",
       "      <td>155</td>\n",
       "      <td>inquiry</td>\n",
       "    </tr>\n",
       "    <tr>\n",
       "      <th>23011</th>\n",
       "      <td>[0.3333333333333333, 0.3333333333333333, 0.333...</td>\n",
       "      <td>semanticDBLP_6accd6b8bdef57b1455d5bb6cdcc8c436...</td>\n",
       "      <td>156</td>\n",
       "      <td>.</td>\n",
       "    </tr>\n",
       "    <tr>\n",
       "      <th>23012</th>\n",
       "      <td>[0.3333333333333333, 0.3333333333333333, 0.333...</td>\n",
       "      <td>semanticDBLP_6accd6b8bdef57b1455d5bb6cdcc8c436...</td>\n",
       "      <td>157</td>\n",
       "      <td>Based</td>\n",
       "    </tr>\n",
       "    <tr>\n",
       "      <th>23013</th>\n",
       "      <td>[0.3333333333333333, 0.3333333333333333, 0.333...</td>\n",
       "      <td>semanticDBLP_6accd6b8bdef57b1455d5bb6cdcc8c436...</td>\n",
       "      <td>158</td>\n",
       "      <td>on</td>\n",
       "    </tr>\n",
       "    <tr>\n",
       "      <th>23014</th>\n",
       "      <td>[0.3333333333333333, 0.3333333333333333, 0.333...</td>\n",
       "      <td>semanticDBLP_6accd6b8bdef57b1455d5bb6cdcc8c436...</td>\n",
       "      <td>159</td>\n",
       "      <td>these</td>\n",
       "    </tr>\n",
       "    <tr>\n",
       "      <th>23015</th>\n",
       "      <td>[0.3333333333333333, 0.3333333333333333, 0.333...</td>\n",
       "      <td>semanticDBLP_6accd6b8bdef57b1455d5bb6cdcc8c436...</td>\n",
       "      <td>160</td>\n",
       "      <td>insights</td>\n",
       "    </tr>\n",
       "    <tr>\n",
       "      <th>23016</th>\n",
       "      <td>[0.8904187439434624, 0.054790628028268756, 0.0...</td>\n",
       "      <td>semanticDBLP_6accd6b8bdef57b1455d5bb6cdcc8c436...</td>\n",
       "      <td>161</td>\n",
       "      <td>,</td>\n",
       "    </tr>\n",
       "    <tr>\n",
       "      <th>23017</th>\n",
       "      <td>[0.8904187439434624, 0.054790628028268756, 0.0...</td>\n",
       "      <td>semanticDBLP_6accd6b8bdef57b1455d5bb6cdcc8c436...</td>\n",
       "      <td>162</td>\n",
       "      <td>we</td>\n",
       "    </tr>\n",
       "    <tr>\n",
       "      <th>23018</th>\n",
       "      <td>[0.5415374243419658, 0.22923128782901706, 0.22...</td>\n",
       "      <td>semanticDBLP_6accd6b8bdef57b1455d5bb6cdcc8c436...</td>\n",
       "      <td>163</td>\n",
       "      <td>propose</td>\n",
       "    </tr>\n",
       "    <tr>\n",
       "      <th>23019</th>\n",
       "      <td>[0.3333333333333333, 0.3333333333333333, 0.333...</td>\n",
       "      <td>semanticDBLP_6accd6b8bdef57b1455d5bb6cdcc8c436...</td>\n",
       "      <td>164</td>\n",
       "      <td>a</td>\n",
       "    </tr>\n",
       "    <tr>\n",
       "      <th>23020</th>\n",
       "      <td>[0.3333333333333333, 0.3333333333333333, 0.333...</td>\n",
       "      <td>semanticDBLP_6accd6b8bdef57b1455d5bb6cdcc8c436...</td>\n",
       "      <td>165</td>\n",
       "      <td>modified</td>\n",
       "    </tr>\n",
       "    <tr>\n",
       "      <th>23021</th>\n",
       "      <td>[0.3333333333333333, 0.3333333333333333, 0.333...</td>\n",
       "      <td>semanticDBLP_6accd6b8bdef57b1455d5bb6cdcc8c436...</td>\n",
       "      <td>166</td>\n",
       "      <td>Cycles</td>\n",
       "    </tr>\n",
       "    <tr>\n",
       "      <th>23022</th>\n",
       "      <td>[0.3333333333333333, 0.3333333333333333, 0.333...</td>\n",
       "      <td>semanticDBLP_6accd6b8bdef57b1455d5bb6cdcc8c436...</td>\n",
       "      <td>167</td>\n",
       "      <td>Model</td>\n",
       "    </tr>\n",
       "    <tr>\n",
       "      <th>23023</th>\n",
       "      <td>[0.3333333333333333, 0.3333333333333333, 0.333...</td>\n",
       "      <td>semanticDBLP_6accd6b8bdef57b1455d5bb6cdcc8c436...</td>\n",
       "      <td>168</td>\n",
       "      <td>for</td>\n",
       "    </tr>\n",
       "    <tr>\n",
       "      <th>23024</th>\n",
       "      <td>[0.3333333333333333, 0.3333333333333333, 0.333...</td>\n",
       "      <td>semanticDBLP_6accd6b8bdef57b1455d5bb6cdcc8c436...</td>\n",
       "      <td>169</td>\n",
       "      <td>DSR</td>\n",
       "    </tr>\n",
       "    <tr>\n",
       "      <th>23025</th>\n",
       "      <td>[0.3333333333333333, 0.3333333333333333, 0.333...</td>\n",
       "      <td>semanticDBLP_6accd6b8bdef57b1455d5bb6cdcc8c436...</td>\n",
       "      <td>170</td>\n",
       "      <td>realized</td>\n",
       "    </tr>\n",
       "    <tr>\n",
       "      <th>23026</th>\n",
       "      <td>[0.7747526735488279, 0.11262366322558603, 0.11...</td>\n",
       "      <td>semanticDBLP_6accd6b8bdef57b1455d5bb6cdcc8c436...</td>\n",
       "      <td>171</td>\n",
       "      <td>under</td>\n",
       "    </tr>\n",
       "    <tr>\n",
       "      <th>23027</th>\n",
       "      <td>[0.3333333333333333, 0.3333333333333333, 0.333...</td>\n",
       "      <td>semanticDBLP_6accd6b8bdef57b1455d5bb6cdcc8c436...</td>\n",
       "      <td>172</td>\n",
       "      <td>the</td>\n",
       "    </tr>\n",
       "    <tr>\n",
       "      <th>23028</th>\n",
       "      <td>[0.3333333333333333, 0.3333333333333333, 0.333...</td>\n",
       "      <td>semanticDBLP_6accd6b8bdef57b1455d5bb6cdcc8c436...</td>\n",
       "      <td>173</td>\n",
       "      <td>disciplines</td>\n",
       "    </tr>\n",
       "    <tr>\n",
       "      <th>23029</th>\n",
       "      <td>[0.3333333333333333, 0.3333333333333333, 0.333...</td>\n",
       "      <td>semanticDBLP_6accd6b8bdef57b1455d5bb6cdcc8c436...</td>\n",
       "      <td>174</td>\n",
       "      <td>of</td>\n",
       "    </tr>\n",
       "    <tr>\n",
       "      <th>23030</th>\n",
       "      <td>[0.3333333333333333, 0.3333333333333333, 0.333...</td>\n",
       "      <td>semanticDBLP_6accd6b8bdef57b1455d5bb6cdcc8c436...</td>\n",
       "      <td>175</td>\n",
       "      <td>the</td>\n",
       "    </tr>\n",
       "    <tr>\n",
       "      <th>23031</th>\n",
       "      <td>[0.3333333333333333, 0.3333333333333333, 0.333...</td>\n",
       "      <td>semanticDBLP_6accd6b8bdef57b1455d5bb6cdcc8c436...</td>\n",
       "      <td>176</td>\n",
       "      <td>four</td>\n",
       "    </tr>\n",
       "    <tr>\n",
       "      <th>23032</th>\n",
       "      <td>[0.3333333333333333, 0.3333333333333333, 0.333...</td>\n",
       "      <td>semanticDBLP_6accd6b8bdef57b1455d5bb6cdcc8c436...</td>\n",
       "      <td>177</td>\n",
       "      <td>modes</td>\n",
       "    </tr>\n",
       "    <tr>\n",
       "      <th>23033</th>\n",
       "      <td>[0.3333333333333333, 0.3333333333333333, 0.333...</td>\n",
       "      <td>semanticDBLP_6accd6b8bdef57b1455d5bb6cdcc8c436...</td>\n",
       "      <td>178</td>\n",
       "      <td>of</td>\n",
       "    </tr>\n",
       "    <tr>\n",
       "      <th>23034</th>\n",
       "      <td>[0.3333333333333333, 0.3333333333333333, 0.333...</td>\n",
       "      <td>semanticDBLP_6accd6b8bdef57b1455d5bb6cdcc8c436...</td>\n",
       "      <td>179</td>\n",
       "      <td>scientific</td>\n",
       "    </tr>\n",
       "    <tr>\n",
       "      <th>23035</th>\n",
       "      <td>[0.3333333333333333, 0.3333333333333333, 0.333...</td>\n",
       "      <td>semanticDBLP_6accd6b8bdef57b1455d5bb6cdcc8c436...</td>\n",
       "      <td>180</td>\n",
       "      <td>inquiry</td>\n",
       "    </tr>\n",
       "    <tr>\n",
       "      <th>23036</th>\n",
       "      <td>[0.7747526735488279, 0.11262366322558603, 0.11...</td>\n",
       "      <td>semanticDBLP_6accd6b8bdef57b1455d5bb6cdcc8c436...</td>\n",
       "      <td>181</td>\n",
       "      <td>.</td>\n",
       "    </tr>\n",
       "    <tr>\n",
       "      <th>23037</th>\n",
       "      <td>[0.3333333333333333, 0.3333333333333333, 0.333...</td>\n",
       "      <td>semanticDBLP_6accd6b8bdef57b1455d5bb6cdcc8c436...</td>\n",
       "      <td>182</td>\n",
       "      <td>\\n</td>\n",
       "    </tr>\n",
       "  </tbody>\n",
       "</table>\n",
       "</div>"
      ],
      "text/plain": [
       "                                        winningHighlight  \\\n",
       "22856  [0.9000218378642625, 0.04998908106786876, 0.04...   \n",
       "22857  [0.3333333333333333, 0.3333333333333333, 0.333...   \n",
       "22858  [0.3333333333333333, 0.3333333333333333, 0.333...   \n",
       "22859  [0.5565563714814038, 0.36139655035929674, 0.08...   \n",
       "22860  [0.9000218378642625, 0.04998908106786876, 0.04...   \n",
       "22861  [0.3333333333333333, 0.3333333333333333, 0.333...   \n",
       "22862  [0.7747526735488279, 0.11262366322558603, 0.11...   \n",
       "22863  [0.566841311319671, 0.21657934434016446, 0.216...   \n",
       "22864  [0.566841311319671, 0.21657934434016446, 0.216...   \n",
       "22865  [0.3333333333333333, 0.3333333333333333, 0.333...   \n",
       "22866  [0.9000218378642625, 0.04998908106786876, 0.04...   \n",
       "22867  [0.9000218378642625, 0.04998908106786876, 0.04...   \n",
       "22868  [0.6865975157774757, 0.09980879063539361, 0.21...   \n",
       "22869  [0.3333333333333333, 0.3333333333333333, 0.333...   \n",
       "22870  [0.6865975157774757, 0.09980879063539361, 0.21...   \n",
       "22871  [0.3333333333333333, 0.3333333333333333, 0.333...   \n",
       "22872  [0.044245243824894614, 0.9115095123502108, 0.0...   \n",
       "22873  [0.14976632363962003, 0.7004673527207599, 0.14...   \n",
       "22874  [0.3333333333333333, 0.3333333333333333, 0.333...   \n",
       "22875  [0.9000218378642625, 0.04998908106786876, 0.04...   \n",
       "22876  [0.566841311319671, 0.21657934434016446, 0.216...   \n",
       "22877  [0.9550901220771066, 0.02245493896144668, 0.02...   \n",
       "22878  [0.7555907713663789, 0.12220461431681057, 0.12...   \n",
       "22879  [0.3333333333333333, 0.3333333333333333, 0.333...   \n",
       "22880  [0.9000218378642625, 0.04998908106786876, 0.04...   \n",
       "22881  [0.3333333333333333, 0.3333333333333333, 0.333...   \n",
       "22882  [0.3333333333333333, 0.3333333333333333, 0.333...   \n",
       "22883  [0.3333333333333333, 0.3333333333333333, 0.333...   \n",
       "22884  [0.324114978744728, 0.5508310400967501, 0.1250...   \n",
       "22885  [0.8930433842707538, 0.08716722820391926, 0.01...   \n",
       "22886  [0.566841311319671, 0.21657934434016446, 0.216...   \n",
       "22887  [0.9000218378642625, 0.04998908106786876, 0.04...   \n",
       "22888  [0.9000218378642625, 0.04998908106786876, 0.04...   \n",
       "22889  [0.566841311319671, 0.21657934434016446, 0.216...   \n",
       "22890  [0.9000218378642625, 0.04998908106786876, 0.04...   \n",
       "22891  [0.566841311319671, 0.21657934434016446, 0.216...   \n",
       "22892  [0.3333333333333333, 0.3333333333333333, 0.333...   \n",
       "22893  [0.3333333333333333, 0.3333333333333333, 0.333...   \n",
       "22894  [0.6865975157774757, 0.09980879063539361, 0.21...   \n",
       "22895  [0.3333333333333333, 0.3333333333333333, 0.333...   \n",
       "22896  [0.566841311319671, 0.21657934434016446, 0.216...   \n",
       "22897  [0.9000218378642625, 0.04998908106786876, 0.04...   \n",
       "22898  [0.9000218378642625, 0.04998908106786876, 0.04...   \n",
       "22899  [0.9000218378642625, 0.04998908106786876, 0.04...   \n",
       "22900  [0.9000218378642625, 0.04998908106786876, 0.04...   \n",
       "22901  [0.9000218378642625, 0.04998908106786876, 0.04...   \n",
       "22902  [0.6865975157774757, 0.09980879063539361, 0.21...   \n",
       "22903  [0.3333333333333333, 0.3333333333333333, 0.333...   \n",
       "22904  [0.3333333333333333, 0.3333333333333333, 0.333...   \n",
       "22905  [0.5565563714814038, 0.36139655035929674, 0.08...   \n",
       "22906  [0.1561342134440276, 0.6877315731119448, 0.156...   \n",
       "22907  [0.9000218378642625, 0.04998908106786876, 0.04...   \n",
       "22908  [0.9000218378642625, 0.04998908106786876, 0.04...   \n",
       "22909  [0.9550901220771066, 0.02245493896144668, 0.02...   \n",
       "22910  [0.566841311319671, 0.21657934434016446, 0.216...   \n",
       "22911  [0.9000218378642625, 0.04998908106786876, 0.04...   \n",
       "22912  [0.9000218378642625, 0.04998908106786876, 0.04...   \n",
       "22913  [0.566841311319671, 0.21657934434016446, 0.216...   \n",
       "22914  [0.9000218378642625, 0.04998908106786876, 0.04...   \n",
       "22915  [0.566841311319671, 0.21657934434016446, 0.216...   \n",
       "22916  [0.7794615283091949, 0.17973387768999366, 0.04...   \n",
       "22917  [0.5565563714814038, 0.36139655035929674, 0.08...   \n",
       "22918  [0.1561342134440276, 0.6877315731119448, 0.156...   \n",
       "22919  [0.3333333333333333, 0.3333333333333333, 0.333...   \n",
       "22920  [0.3333333333333333, 0.3333333333333333, 0.333...   \n",
       "22921  [0.7794615283091949, 0.17973387768999366, 0.04...   \n",
       "22922  [0.1561342134440276, 0.6877315731119448, 0.156...   \n",
       "22923  [0.5565563714814038, 0.36139655035929674, 0.08...   \n",
       "22924  [0.5565563714814038, 0.36139655035929674, 0.08...   \n",
       "22925  [0.5565563714814038, 0.36139655035929674, 0.08...   \n",
       "22926  [0.5565563714814038, 0.36139655035929674, 0.08...   \n",
       "22927  [0.3333333333333333, 0.3333333333333333, 0.333...   \n",
       "22928  [0.1561342134440276, 0.6877315731119448, 0.156...   \n",
       "22929  [0.1561342134440276, 0.6877315731119448, 0.156...   \n",
       "22930  [0.1561342134440276, 0.6877315731119448, 0.156...   \n",
       "22931  [0.1561342134440276, 0.6877315731119448, 0.156...   \n",
       "22932  [0.8930433842707538, 0.08716722820391926, 0.01...   \n",
       "22933  [0.8930433842707538, 0.08716722820391926, 0.01...   \n",
       "22934  [0.3333333333333333, 0.3333333333333333, 0.333...   \n",
       "22935  [0.3333333333333333, 0.3333333333333333, 0.333...   \n",
       "22936  [0.3333333333333333, 0.3333333333333333, 0.333...   \n",
       "22937  [0.3333333333333333, 0.3333333333333333, 0.333...   \n",
       "22938  [0.1561342134440276, 0.6877315731119448, 0.156...   \n",
       "22939  [0.1561342134440276, 0.6877315731119448, 0.156...   \n",
       "22940  [0.8930433842707538, 0.08716722820391926, 0.01...   \n",
       "22941  [0.5565563714814038, 0.36139655035929674, 0.08...   \n",
       "22942  [0.1561342134440276, 0.6877315731119448, 0.156...   \n",
       "22943  [0.8930433842707538, 0.08716722820391926, 0.01...   \n",
       "22944  [0.3333333333333333, 0.3333333333333333, 0.333...   \n",
       "22945  [0.3333333333333333, 0.3333333333333333, 0.333...   \n",
       "22946  [0.3333333333333333, 0.3333333333333333, 0.333...   \n",
       "22947  [0.3333333333333333, 0.3333333333333333, 0.333...   \n",
       "22948  [0.3333333333333333, 0.3333333333333333, 0.333...   \n",
       "22949  [0.3333333333333333, 0.3333333333333333, 0.333...   \n",
       "22950  [0.5565563714814038, 0.36139655035929674, 0.08...   \n",
       "22951  [0.7477934608465375, 0.20554263804084835, 0.04...   \n",
       "22952  [0.5565563714814038, 0.36139655035929674, 0.08...   \n",
       "22953  [0.5565563714814038, 0.36139655035929674, 0.08...   \n",
       "22954  [0.1561342134440276, 0.6877315731119448, 0.156...   \n",
       "22955  [0.324114978744728, 0.5508310400967501, 0.1250...   \n",
       "22956  [0.3333333333333333, 0.3333333333333333, 0.333...   \n",
       "22957  [0.3333333333333333, 0.3333333333333333, 0.333...   \n",
       "22958  [0.3333333333333333, 0.3333333333333333, 0.333...   \n",
       "22959  [0.3333333333333333, 0.3333333333333333, 0.333...   \n",
       "22960  [0.3333333333333333, 0.3333333333333333, 0.333...   \n",
       "22961  [0.3333333333333333, 0.3333333333333333, 0.333...   \n",
       "22962  [0.3333333333333333, 0.3333333333333333, 0.333...   \n",
       "22963  [0.3333333333333333, 0.3333333333333333, 0.333...   \n",
       "22964  [0.3333333333333333, 0.3333333333333333, 0.333...   \n",
       "22965  [0.3333333333333333, 0.3333333333333333, 0.333...   \n",
       "22966  [0.3333333333333333, 0.3333333333333333, 0.333...   \n",
       "22967  [0.3333333333333333, 0.3333333333333333, 0.333...   \n",
       "22968  [0.3333333333333333, 0.3333333333333333, 0.333...   \n",
       "22969  [0.3333333333333333, 0.3333333333333333, 0.333...   \n",
       "22970  [0.3333333333333333, 0.3333333333333333, 0.333...   \n",
       "22971  [0.3333333333333333, 0.3333333333333333, 0.333...   \n",
       "22972  [0.3333333333333333, 0.3333333333333333, 0.333...   \n",
       "22973  [0.3333333333333333, 0.3333333333333333, 0.333...   \n",
       "22974  [0.3333333333333333, 0.3333333333333333, 0.333...   \n",
       "22975  [0.3333333333333333, 0.3333333333333333, 0.333...   \n",
       "22976  [0.3333333333333333, 0.3333333333333333, 0.333...   \n",
       "22977  [0.3333333333333333, 0.3333333333333333, 0.333...   \n",
       "22978  [0.3333333333333333, 0.3333333333333333, 0.333...   \n",
       "22979  [0.3333333333333333, 0.3333333333333333, 0.333...   \n",
       "22980  [0.3333333333333333, 0.3333333333333333, 0.333...   \n",
       "22981  [0.3333333333333333, 0.3333333333333333, 0.333...   \n",
       "22982  [0.3333333333333333, 0.3333333333333333, 0.333...   \n",
       "22983  [0.3333333333333333, 0.3333333333333333, 0.333...   \n",
       "22984  [0.3333333333333333, 0.3333333333333333, 0.333...   \n",
       "22985  [0.3333333333333333, 0.3333333333333333, 0.333...   \n",
       "22986  [0.3333333333333333, 0.3333333333333333, 0.333...   \n",
       "22987  [0.3333333333333333, 0.3333333333333333, 0.333...   \n",
       "22988  [0.3333333333333333, 0.3333333333333333, 0.333...   \n",
       "22989  [0.3333333333333333, 0.3333333333333333, 0.333...   \n",
       "22990  [0.3333333333333333, 0.3333333333333333, 0.333...   \n",
       "22991  [0.3333333333333333, 0.3333333333333333, 0.333...   \n",
       "22992  [0.3333333333333333, 0.3333333333333333, 0.333...   \n",
       "22993  [0.3333333333333333, 0.3333333333333333, 0.333...   \n",
       "22994  [0.3333333333333333, 0.3333333333333333, 0.333...   \n",
       "22995  [0.3333333333333333, 0.3333333333333333, 0.333...   \n",
       "22996  [0.3333333333333333, 0.3333333333333333, 0.333...   \n",
       "22997  [0.3333333333333333, 0.3333333333333333, 0.333...   \n",
       "22998  [0.3333333333333333, 0.3333333333333333, 0.333...   \n",
       "22999  [0.3333333333333333, 0.3333333333333333, 0.333...   \n",
       "23000  [0.3333333333333333, 0.3333333333333333, 0.333...   \n",
       "23001  [0.3333333333333333, 0.3333333333333333, 0.333...   \n",
       "23002  [0.3333333333333333, 0.3333333333333333, 0.333...   \n",
       "23003  [0.3333333333333333, 0.3333333333333333, 0.333...   \n",
       "23004  [0.3333333333333333, 0.3333333333333333, 0.333...   \n",
       "23005  [0.3333333333333333, 0.3333333333333333, 0.333...   \n",
       "23006  [0.3333333333333333, 0.3333333333333333, 0.333...   \n",
       "23007  [0.3333333333333333, 0.3333333333333333, 0.333...   \n",
       "23008  [0.3333333333333333, 0.3333333333333333, 0.333...   \n",
       "23009  [0.3333333333333333, 0.3333333333333333, 0.333...   \n",
       "23010  [0.3333333333333333, 0.3333333333333333, 0.333...   \n",
       "23011  [0.3333333333333333, 0.3333333333333333, 0.333...   \n",
       "23012  [0.3333333333333333, 0.3333333333333333, 0.333...   \n",
       "23013  [0.3333333333333333, 0.3333333333333333, 0.333...   \n",
       "23014  [0.3333333333333333, 0.3333333333333333, 0.333...   \n",
       "23015  [0.3333333333333333, 0.3333333333333333, 0.333...   \n",
       "23016  [0.8904187439434624, 0.054790628028268756, 0.0...   \n",
       "23017  [0.8904187439434624, 0.054790628028268756, 0.0...   \n",
       "23018  [0.5415374243419658, 0.22923128782901706, 0.22...   \n",
       "23019  [0.3333333333333333, 0.3333333333333333, 0.333...   \n",
       "23020  [0.3333333333333333, 0.3333333333333333, 0.333...   \n",
       "23021  [0.3333333333333333, 0.3333333333333333, 0.333...   \n",
       "23022  [0.3333333333333333, 0.3333333333333333, 0.333...   \n",
       "23023  [0.3333333333333333, 0.3333333333333333, 0.333...   \n",
       "23024  [0.3333333333333333, 0.3333333333333333, 0.333...   \n",
       "23025  [0.3333333333333333, 0.3333333333333333, 0.333...   \n",
       "23026  [0.7747526735488279, 0.11262366322558603, 0.11...   \n",
       "23027  [0.3333333333333333, 0.3333333333333333, 0.333...   \n",
       "23028  [0.3333333333333333, 0.3333333333333333, 0.333...   \n",
       "23029  [0.3333333333333333, 0.3333333333333333, 0.333...   \n",
       "23030  [0.3333333333333333, 0.3333333333333333, 0.333...   \n",
       "23031  [0.3333333333333333, 0.3333333333333333, 0.333...   \n",
       "23032  [0.3333333333333333, 0.3333333333333333, 0.333...   \n",
       "23033  [0.3333333333333333, 0.3333333333333333, 0.333...   \n",
       "23034  [0.3333333333333333, 0.3333333333333333, 0.333...   \n",
       "23035  [0.3333333333333333, 0.3333333333333333, 0.333...   \n",
       "23036  [0.7747526735488279, 0.11262366322558603, 0.11...   \n",
       "23037  [0.3333333333333333, 0.3333333333333333, 0.333...   \n",
       "\n",
       "                                                 paperID  globalPsn  \\\n",
       "22856  semanticDBLP_6accd6b8bdef57b1455d5bb6cdcc8c436...          1   \n",
       "22857  semanticDBLP_6accd6b8bdef57b1455d5bb6cdcc8c436...          2   \n",
       "22858  semanticDBLP_6accd6b8bdef57b1455d5bb6cdcc8c436...          3   \n",
       "22859  semanticDBLP_6accd6b8bdef57b1455d5bb6cdcc8c436...          4   \n",
       "22860  semanticDBLP_6accd6b8bdef57b1455d5bb6cdcc8c436...          5   \n",
       "22861  semanticDBLP_6accd6b8bdef57b1455d5bb6cdcc8c436...          6   \n",
       "22862  semanticDBLP_6accd6b8bdef57b1455d5bb6cdcc8c436...          7   \n",
       "22863  semanticDBLP_6accd6b8bdef57b1455d5bb6cdcc8c436...          8   \n",
       "22864  semanticDBLP_6accd6b8bdef57b1455d5bb6cdcc8c436...          9   \n",
       "22865  semanticDBLP_6accd6b8bdef57b1455d5bb6cdcc8c436...         10   \n",
       "22866  semanticDBLP_6accd6b8bdef57b1455d5bb6cdcc8c436...         11   \n",
       "22867  semanticDBLP_6accd6b8bdef57b1455d5bb6cdcc8c436...         12   \n",
       "22868  semanticDBLP_6accd6b8bdef57b1455d5bb6cdcc8c436...         13   \n",
       "22869  semanticDBLP_6accd6b8bdef57b1455d5bb6cdcc8c436...         14   \n",
       "22870  semanticDBLP_6accd6b8bdef57b1455d5bb6cdcc8c436...         15   \n",
       "22871  semanticDBLP_6accd6b8bdef57b1455d5bb6cdcc8c436...         16   \n",
       "22872  semanticDBLP_6accd6b8bdef57b1455d5bb6cdcc8c436...         17   \n",
       "22873  semanticDBLP_6accd6b8bdef57b1455d5bb6cdcc8c436...         18   \n",
       "22874  semanticDBLP_6accd6b8bdef57b1455d5bb6cdcc8c436...         19   \n",
       "22875  semanticDBLP_6accd6b8bdef57b1455d5bb6cdcc8c436...         20   \n",
       "22876  semanticDBLP_6accd6b8bdef57b1455d5bb6cdcc8c436...         21   \n",
       "22877  semanticDBLP_6accd6b8bdef57b1455d5bb6cdcc8c436...         22   \n",
       "22878  semanticDBLP_6accd6b8bdef57b1455d5bb6cdcc8c436...         23   \n",
       "22879  semanticDBLP_6accd6b8bdef57b1455d5bb6cdcc8c436...         24   \n",
       "22880  semanticDBLP_6accd6b8bdef57b1455d5bb6cdcc8c436...         25   \n",
       "22881  semanticDBLP_6accd6b8bdef57b1455d5bb6cdcc8c436...         26   \n",
       "22882  semanticDBLP_6accd6b8bdef57b1455d5bb6cdcc8c436...         27   \n",
       "22883  semanticDBLP_6accd6b8bdef57b1455d5bb6cdcc8c436...         28   \n",
       "22884  semanticDBLP_6accd6b8bdef57b1455d5bb6cdcc8c436...         29   \n",
       "22885  semanticDBLP_6accd6b8bdef57b1455d5bb6cdcc8c436...         30   \n",
       "22886  semanticDBLP_6accd6b8bdef57b1455d5bb6cdcc8c436...         31   \n",
       "22887  semanticDBLP_6accd6b8bdef57b1455d5bb6cdcc8c436...         32   \n",
       "22888  semanticDBLP_6accd6b8bdef57b1455d5bb6cdcc8c436...         33   \n",
       "22889  semanticDBLP_6accd6b8bdef57b1455d5bb6cdcc8c436...         34   \n",
       "22890  semanticDBLP_6accd6b8bdef57b1455d5bb6cdcc8c436...         35   \n",
       "22891  semanticDBLP_6accd6b8bdef57b1455d5bb6cdcc8c436...         36   \n",
       "22892  semanticDBLP_6accd6b8bdef57b1455d5bb6cdcc8c436...         37   \n",
       "22893  semanticDBLP_6accd6b8bdef57b1455d5bb6cdcc8c436...         38   \n",
       "22894  semanticDBLP_6accd6b8bdef57b1455d5bb6cdcc8c436...         39   \n",
       "22895  semanticDBLP_6accd6b8bdef57b1455d5bb6cdcc8c436...         40   \n",
       "22896  semanticDBLP_6accd6b8bdef57b1455d5bb6cdcc8c436...         41   \n",
       "22897  semanticDBLP_6accd6b8bdef57b1455d5bb6cdcc8c436...         42   \n",
       "22898  semanticDBLP_6accd6b8bdef57b1455d5bb6cdcc8c436...         43   \n",
       "22899  semanticDBLP_6accd6b8bdef57b1455d5bb6cdcc8c436...         44   \n",
       "22900  semanticDBLP_6accd6b8bdef57b1455d5bb6cdcc8c436...         45   \n",
       "22901  semanticDBLP_6accd6b8bdef57b1455d5bb6cdcc8c436...         46   \n",
       "22902  semanticDBLP_6accd6b8bdef57b1455d5bb6cdcc8c436...         47   \n",
       "22903  semanticDBLP_6accd6b8bdef57b1455d5bb6cdcc8c436...         48   \n",
       "22904  semanticDBLP_6accd6b8bdef57b1455d5bb6cdcc8c436...         49   \n",
       "22905  semanticDBLP_6accd6b8bdef57b1455d5bb6cdcc8c436...         50   \n",
       "22906  semanticDBLP_6accd6b8bdef57b1455d5bb6cdcc8c436...         51   \n",
       "22907  semanticDBLP_6accd6b8bdef57b1455d5bb6cdcc8c436...         52   \n",
       "22908  semanticDBLP_6accd6b8bdef57b1455d5bb6cdcc8c436...         53   \n",
       "22909  semanticDBLP_6accd6b8bdef57b1455d5bb6cdcc8c436...         54   \n",
       "22910  semanticDBLP_6accd6b8bdef57b1455d5bb6cdcc8c436...         55   \n",
       "22911  semanticDBLP_6accd6b8bdef57b1455d5bb6cdcc8c436...         56   \n",
       "22912  semanticDBLP_6accd6b8bdef57b1455d5bb6cdcc8c436...         57   \n",
       "22913  semanticDBLP_6accd6b8bdef57b1455d5bb6cdcc8c436...         58   \n",
       "22914  semanticDBLP_6accd6b8bdef57b1455d5bb6cdcc8c436...         59   \n",
       "22915  semanticDBLP_6accd6b8bdef57b1455d5bb6cdcc8c436...         60   \n",
       "22916  semanticDBLP_6accd6b8bdef57b1455d5bb6cdcc8c436...         61   \n",
       "22917  semanticDBLP_6accd6b8bdef57b1455d5bb6cdcc8c436...         62   \n",
       "22918  semanticDBLP_6accd6b8bdef57b1455d5bb6cdcc8c436...         63   \n",
       "22919  semanticDBLP_6accd6b8bdef57b1455d5bb6cdcc8c436...         64   \n",
       "22920  semanticDBLP_6accd6b8bdef57b1455d5bb6cdcc8c436...         65   \n",
       "22921  semanticDBLP_6accd6b8bdef57b1455d5bb6cdcc8c436...         66   \n",
       "22922  semanticDBLP_6accd6b8bdef57b1455d5bb6cdcc8c436...         67   \n",
       "22923  semanticDBLP_6accd6b8bdef57b1455d5bb6cdcc8c436...         68   \n",
       "22924  semanticDBLP_6accd6b8bdef57b1455d5bb6cdcc8c436...         69   \n",
       "22925  semanticDBLP_6accd6b8bdef57b1455d5bb6cdcc8c436...         70   \n",
       "22926  semanticDBLP_6accd6b8bdef57b1455d5bb6cdcc8c436...         71   \n",
       "22927  semanticDBLP_6accd6b8bdef57b1455d5bb6cdcc8c436...         72   \n",
       "22928  semanticDBLP_6accd6b8bdef57b1455d5bb6cdcc8c436...         73   \n",
       "22929  semanticDBLP_6accd6b8bdef57b1455d5bb6cdcc8c436...         74   \n",
       "22930  semanticDBLP_6accd6b8bdef57b1455d5bb6cdcc8c436...         75   \n",
       "22931  semanticDBLP_6accd6b8bdef57b1455d5bb6cdcc8c436...         76   \n",
       "22932  semanticDBLP_6accd6b8bdef57b1455d5bb6cdcc8c436...         77   \n",
       "22933  semanticDBLP_6accd6b8bdef57b1455d5bb6cdcc8c436...         78   \n",
       "22934  semanticDBLP_6accd6b8bdef57b1455d5bb6cdcc8c436...         79   \n",
       "22935  semanticDBLP_6accd6b8bdef57b1455d5bb6cdcc8c436...         80   \n",
       "22936  semanticDBLP_6accd6b8bdef57b1455d5bb6cdcc8c436...         81   \n",
       "22937  semanticDBLP_6accd6b8bdef57b1455d5bb6cdcc8c436...         82   \n",
       "22938  semanticDBLP_6accd6b8bdef57b1455d5bb6cdcc8c436...         83   \n",
       "22939  semanticDBLP_6accd6b8bdef57b1455d5bb6cdcc8c436...         84   \n",
       "22940  semanticDBLP_6accd6b8bdef57b1455d5bb6cdcc8c436...         85   \n",
       "22941  semanticDBLP_6accd6b8bdef57b1455d5bb6cdcc8c436...         86   \n",
       "22942  semanticDBLP_6accd6b8bdef57b1455d5bb6cdcc8c436...         87   \n",
       "22943  semanticDBLP_6accd6b8bdef57b1455d5bb6cdcc8c436...         88   \n",
       "22944  semanticDBLP_6accd6b8bdef57b1455d5bb6cdcc8c436...         89   \n",
       "22945  semanticDBLP_6accd6b8bdef57b1455d5bb6cdcc8c436...         90   \n",
       "22946  semanticDBLP_6accd6b8bdef57b1455d5bb6cdcc8c436...         91   \n",
       "22947  semanticDBLP_6accd6b8bdef57b1455d5bb6cdcc8c436...         92   \n",
       "22948  semanticDBLP_6accd6b8bdef57b1455d5bb6cdcc8c436...         93   \n",
       "22949  semanticDBLP_6accd6b8bdef57b1455d5bb6cdcc8c436...         94   \n",
       "22950  semanticDBLP_6accd6b8bdef57b1455d5bb6cdcc8c436...         95   \n",
       "22951  semanticDBLP_6accd6b8bdef57b1455d5bb6cdcc8c436...         96   \n",
       "22952  semanticDBLP_6accd6b8bdef57b1455d5bb6cdcc8c436...         97   \n",
       "22953  semanticDBLP_6accd6b8bdef57b1455d5bb6cdcc8c436...         98   \n",
       "22954  semanticDBLP_6accd6b8bdef57b1455d5bb6cdcc8c436...         99   \n",
       "22955  semanticDBLP_6accd6b8bdef57b1455d5bb6cdcc8c436...        100   \n",
       "22956  semanticDBLP_6accd6b8bdef57b1455d5bb6cdcc8c436...        101   \n",
       "22957  semanticDBLP_6accd6b8bdef57b1455d5bb6cdcc8c436...        102   \n",
       "22958  semanticDBLP_6accd6b8bdef57b1455d5bb6cdcc8c436...        103   \n",
       "22959  semanticDBLP_6accd6b8bdef57b1455d5bb6cdcc8c436...        104   \n",
       "22960  semanticDBLP_6accd6b8bdef57b1455d5bb6cdcc8c436...        105   \n",
       "22961  semanticDBLP_6accd6b8bdef57b1455d5bb6cdcc8c436...        106   \n",
       "22962  semanticDBLP_6accd6b8bdef57b1455d5bb6cdcc8c436...        107   \n",
       "22963  semanticDBLP_6accd6b8bdef57b1455d5bb6cdcc8c436...        108   \n",
       "22964  semanticDBLP_6accd6b8bdef57b1455d5bb6cdcc8c436...        109   \n",
       "22965  semanticDBLP_6accd6b8bdef57b1455d5bb6cdcc8c436...        110   \n",
       "22966  semanticDBLP_6accd6b8bdef57b1455d5bb6cdcc8c436...        111   \n",
       "22967  semanticDBLP_6accd6b8bdef57b1455d5bb6cdcc8c436...        112   \n",
       "22968  semanticDBLP_6accd6b8bdef57b1455d5bb6cdcc8c436...        113   \n",
       "22969  semanticDBLP_6accd6b8bdef57b1455d5bb6cdcc8c436...        114   \n",
       "22970  semanticDBLP_6accd6b8bdef57b1455d5bb6cdcc8c436...        115   \n",
       "22971  semanticDBLP_6accd6b8bdef57b1455d5bb6cdcc8c436...        116   \n",
       "22972  semanticDBLP_6accd6b8bdef57b1455d5bb6cdcc8c436...        117   \n",
       "22973  semanticDBLP_6accd6b8bdef57b1455d5bb6cdcc8c436...        118   \n",
       "22974  semanticDBLP_6accd6b8bdef57b1455d5bb6cdcc8c436...        119   \n",
       "22975  semanticDBLP_6accd6b8bdef57b1455d5bb6cdcc8c436...        120   \n",
       "22976  semanticDBLP_6accd6b8bdef57b1455d5bb6cdcc8c436...        121   \n",
       "22977  semanticDBLP_6accd6b8bdef57b1455d5bb6cdcc8c436...        122   \n",
       "22978  semanticDBLP_6accd6b8bdef57b1455d5bb6cdcc8c436...        123   \n",
       "22979  semanticDBLP_6accd6b8bdef57b1455d5bb6cdcc8c436...        124   \n",
       "22980  semanticDBLP_6accd6b8bdef57b1455d5bb6cdcc8c436...        125   \n",
       "22981  semanticDBLP_6accd6b8bdef57b1455d5bb6cdcc8c436...        126   \n",
       "22982  semanticDBLP_6accd6b8bdef57b1455d5bb6cdcc8c436...        127   \n",
       "22983  semanticDBLP_6accd6b8bdef57b1455d5bb6cdcc8c436...        128   \n",
       "22984  semanticDBLP_6accd6b8bdef57b1455d5bb6cdcc8c436...        129   \n",
       "22985  semanticDBLP_6accd6b8bdef57b1455d5bb6cdcc8c436...        130   \n",
       "22986  semanticDBLP_6accd6b8bdef57b1455d5bb6cdcc8c436...        131   \n",
       "22987  semanticDBLP_6accd6b8bdef57b1455d5bb6cdcc8c436...        132   \n",
       "22988  semanticDBLP_6accd6b8bdef57b1455d5bb6cdcc8c436...        133   \n",
       "22989  semanticDBLP_6accd6b8bdef57b1455d5bb6cdcc8c436...        134   \n",
       "22990  semanticDBLP_6accd6b8bdef57b1455d5bb6cdcc8c436...        135   \n",
       "22991  semanticDBLP_6accd6b8bdef57b1455d5bb6cdcc8c436...        136   \n",
       "22992  semanticDBLP_6accd6b8bdef57b1455d5bb6cdcc8c436...        137   \n",
       "22993  semanticDBLP_6accd6b8bdef57b1455d5bb6cdcc8c436...        138   \n",
       "22994  semanticDBLP_6accd6b8bdef57b1455d5bb6cdcc8c436...        139   \n",
       "22995  semanticDBLP_6accd6b8bdef57b1455d5bb6cdcc8c436...        140   \n",
       "22996  semanticDBLP_6accd6b8bdef57b1455d5bb6cdcc8c436...        141   \n",
       "22997  semanticDBLP_6accd6b8bdef57b1455d5bb6cdcc8c436...        142   \n",
       "22998  semanticDBLP_6accd6b8bdef57b1455d5bb6cdcc8c436...        143   \n",
       "22999  semanticDBLP_6accd6b8bdef57b1455d5bb6cdcc8c436...        144   \n",
       "23000  semanticDBLP_6accd6b8bdef57b1455d5bb6cdcc8c436...        145   \n",
       "23001  semanticDBLP_6accd6b8bdef57b1455d5bb6cdcc8c436...        146   \n",
       "23002  semanticDBLP_6accd6b8bdef57b1455d5bb6cdcc8c436...        147   \n",
       "23003  semanticDBLP_6accd6b8bdef57b1455d5bb6cdcc8c436...        148   \n",
       "23004  semanticDBLP_6accd6b8bdef57b1455d5bb6cdcc8c436...        149   \n",
       "23005  semanticDBLP_6accd6b8bdef57b1455d5bb6cdcc8c436...        150   \n",
       "23006  semanticDBLP_6accd6b8bdef57b1455d5bb6cdcc8c436...        151   \n",
       "23007  semanticDBLP_6accd6b8bdef57b1455d5bb6cdcc8c436...        152   \n",
       "23008  semanticDBLP_6accd6b8bdef57b1455d5bb6cdcc8c436...        153   \n",
       "23009  semanticDBLP_6accd6b8bdef57b1455d5bb6cdcc8c436...        154   \n",
       "23010  semanticDBLP_6accd6b8bdef57b1455d5bb6cdcc8c436...        155   \n",
       "23011  semanticDBLP_6accd6b8bdef57b1455d5bb6cdcc8c436...        156   \n",
       "23012  semanticDBLP_6accd6b8bdef57b1455d5bb6cdcc8c436...        157   \n",
       "23013  semanticDBLP_6accd6b8bdef57b1455d5bb6cdcc8c436...        158   \n",
       "23014  semanticDBLP_6accd6b8bdef57b1455d5bb6cdcc8c436...        159   \n",
       "23015  semanticDBLP_6accd6b8bdef57b1455d5bb6cdcc8c436...        160   \n",
       "23016  semanticDBLP_6accd6b8bdef57b1455d5bb6cdcc8c436...        161   \n",
       "23017  semanticDBLP_6accd6b8bdef57b1455d5bb6cdcc8c436...        162   \n",
       "23018  semanticDBLP_6accd6b8bdef57b1455d5bb6cdcc8c436...        163   \n",
       "23019  semanticDBLP_6accd6b8bdef57b1455d5bb6cdcc8c436...        164   \n",
       "23020  semanticDBLP_6accd6b8bdef57b1455d5bb6cdcc8c436...        165   \n",
       "23021  semanticDBLP_6accd6b8bdef57b1455d5bb6cdcc8c436...        166   \n",
       "23022  semanticDBLP_6accd6b8bdef57b1455d5bb6cdcc8c436...        167   \n",
       "23023  semanticDBLP_6accd6b8bdef57b1455d5bb6cdcc8c436...        168   \n",
       "23024  semanticDBLP_6accd6b8bdef57b1455d5bb6cdcc8c436...        169   \n",
       "23025  semanticDBLP_6accd6b8bdef57b1455d5bb6cdcc8c436...        170   \n",
       "23026  semanticDBLP_6accd6b8bdef57b1455d5bb6cdcc8c436...        171   \n",
       "23027  semanticDBLP_6accd6b8bdef57b1455d5bb6cdcc8c436...        172   \n",
       "23028  semanticDBLP_6accd6b8bdef57b1455d5bb6cdcc8c436...        173   \n",
       "23029  semanticDBLP_6accd6b8bdef57b1455d5bb6cdcc8c436...        174   \n",
       "23030  semanticDBLP_6accd6b8bdef57b1455d5bb6cdcc8c436...        175   \n",
       "23031  semanticDBLP_6accd6b8bdef57b1455d5bb6cdcc8c436...        176   \n",
       "23032  semanticDBLP_6accd6b8bdef57b1455d5bb6cdcc8c436...        177   \n",
       "23033  semanticDBLP_6accd6b8bdef57b1455d5bb6cdcc8c436...        178   \n",
       "23034  semanticDBLP_6accd6b8bdef57b1455d5bb6cdcc8c436...        179   \n",
       "23035  semanticDBLP_6accd6b8bdef57b1455d5bb6cdcc8c436...        180   \n",
       "23036  semanticDBLP_6accd6b8bdef57b1455d5bb6cdcc8c436...        181   \n",
       "23037  semanticDBLP_6accd6b8bdef57b1455d5bb6cdcc8c436...        182   \n",
       "\n",
       "             content  \n",
       "22856         Design  \n",
       "22857        Science  \n",
       "22858       Research  \n",
       "22859              (  \n",
       "22860            DSR  \n",
       "22861              )  \n",
       "22862            has  \n",
       "22863        sparked  \n",
       "22864              a  \n",
       "22865    renaissance  \n",
       "22866             of  \n",
       "22867  contributions  \n",
       "22868             to  \n",
       "22869             IS  \n",
       "22870              ,  \n",
       "22871            but  \n",
       "22872            its  \n",
       "22873          rigor  \n",
       "22874            and  \n",
       "22875          value  \n",
       "22876             of  \n",
       "22877            DSR  \n",
       "22878          could  \n",
       "22879             be  \n",
       "22880      increased  \n",
       "22881             by  \n",
       "22882      expanding  \n",
       "22883            its  \n",
       "22884          scope  \n",
       "22885         beyond  \n",
       "22886            its  \n",
       "22887    engineering  \n",
       "22888          roots  \n",
       "22889             to  \n",
       "22890          bring  \n",
       "22891            all  \n",
       "22892          modes  \n",
       "22893             of  \n",
       "22894     scientific  \n",
       "22895        inquiry  \n",
       "22896             to  \n",
       "22897           bear  \n",
       "22898              –  \n",
       "22899    exploratory  \n",
       "22900              ,  \n",
       "22901    theoretical  \n",
       "22902              ,  \n",
       "22903   experimental  \n",
       "22904              ,  \n",
       "22905            and  \n",
       "22906        applied  \n",
       "22907        science  \n",
       "22908              /  \n",
       "22909    engineering  \n",
       "22910              (  \n",
       "22911             AS  \n",
       "22912              /  \n",
       "22913              E  \n",
       "22914              )  \n",
       "22915              .  \n",
       "22916            All  \n",
       "22917            DSR  \n",
       "22918          Cycle  \n",
       "22919     activities  \n",
       "22920            can  \n",
       "22921             be  \n",
       "22922       realized  \n",
       "22923             as  \n",
       "22924      instances  \n",
       "22925             of  \n",
       "22926            one  \n",
       "22927             or  \n",
       "22928           more  \n",
       "22929             of  \n",
       "22930            the  \n",
       "22931           four  \n",
       "22932          modes  \n",
       "22933              .  \n",
       "22934            The  \n",
       "22935          rigor  \n",
       "22936             of  \n",
       "22937            DSR  \n",
       "22938            can  \n",
       "22939      therefore  \n",
       "22940             be  \n",
       "22941       defended  \n",
       "22942             in  \n",
       "22943          terms  \n",
       "22944             of  \n",
       "22945            the  \n",
       "22946          goals  \n",
       "22947              ,  \n",
       "22948       research  \n",
       "22949       products  \n",
       "22950              ,  \n",
       "22951            and  \n",
       "22952      standards  \n",
       "22953             of  \n",
       "22954          rigor  \n",
       "22955        already  \n",
       "22956    established  \n",
       "22957            for  \n",
       "22958           each  \n",
       "22959           mode  \n",
       "22960              .  \n",
       "22961          There  \n",
       "22962             is  \n",
       "22963              ,  \n",
       "22964       moreover  \n",
       "22965              ,  \n",
       "22966              a  \n",
       "22967        synergy  \n",
       "22968          among  \n",
       "22969            the  \n",
       "22970          modes  \n",
       "22971           that  \n",
       "22972            can  \n",
       "22973           only  \n",
       "22974             be  \n",
       "22975       realized  \n",
       "22976           when  \n",
       "22977            all  \n",
       "22978           four  \n",
       "22979            are  \n",
       "22980        brought  \n",
       "22981             to  \n",
       "22982           bear  \n",
       "22983              ,  \n",
       "22984        because  \n",
       "22985           each  \n",
       "22986        informs  \n",
       "22987            the  \n",
       "22988          other  \n",
       "22989          three  \n",
       "22990              .  \n",
       "22991             To  \n",
       "22992        exclude  \n",
       "22993            any  \n",
       "22994           mode  \n",
       "22995             of  \n",
       "22996        inquiry  \n",
       "22997           from  \n",
       "22998            DSR  \n",
       "22999              ,  \n",
       "23000      therefore  \n",
       "23001              ,  \n",
       "23002             is  \n",
       "23003             to  \n",
       "23004     impoverish  \n",
       "23005      knowledge  \n",
       "23006          about  \n",
       "23007            its  \n",
       "23008        objects  \n",
       "23009             of  \n",
       "23010        inquiry  \n",
       "23011              .  \n",
       "23012          Based  \n",
       "23013             on  \n",
       "23014          these  \n",
       "23015       insights  \n",
       "23016              ,  \n",
       "23017             we  \n",
       "23018        propose  \n",
       "23019              a  \n",
       "23020       modified  \n",
       "23021         Cycles  \n",
       "23022          Model  \n",
       "23023            for  \n",
       "23024            DSR  \n",
       "23025       realized  \n",
       "23026          under  \n",
       "23027            the  \n",
       "23028    disciplines  \n",
       "23029             of  \n",
       "23030            the  \n",
       "23031           four  \n",
       "23032          modes  \n",
       "23033             of  \n",
       "23034     scientific  \n",
       "23035        inquiry  \n",
       "23036              .  \n",
       "23037             \\n  "
      ]
     },
     "execution_count": 56,
     "metadata": {},
     "output_type": "execute_result"
    }
   ],
   "source": [
    "# revise joint_split.csv to have literally hard label in soft format e.g. [0.4, 0.3, 0.3 ] -> [1.0, 0.0, 0.0]\n",
    "print(len(sub_dfs))\n",
    "\n",
    "print(len(set((df['paperID'].tolist()))))\n",
    "print(df.columns)\n",
    "\n",
    "df[df['paperID']==\"semanticDBLP_6accd6b8bdef57b1455d5bb6cdcc8c436b0691e6\"]"
   ]
  },
  {
   "cell_type": "code",
   "execution_count": 68,
   "metadata": {},
   "outputs": [],
   "source": [
    "df2=df.copy()\n",
    "import ast\n",
    "import numpy as np\n",
    "\n",
    "def transform_gm_label(x):\n",
    "    x=ast.literal_eval(x)\n",
    "    if abs(x[0]-x[1])<1e-4 and abs(x[1]-x[2])<1e-4:\n",
    "        return [0,0,1]\n",
    "    elif np.argmax(x)==0:\n",
    "        return [1,0,0]\n",
    "    return [0,1,0]\n",
    "\n",
    "df2['winningHighlight'] = df2['winningHighlight'].apply(lambda x: transform_gm_label(x))\n",
    "# df2"
   ]
  },
  {
   "cell_type": "code",
   "execution_count": 72,
   "metadata": {},
   "outputs": [],
   "source": [
    "df2.to_csv(open(\"data/annotations_slim_s2/joint_split_hard_as_soft.csv\",\"w\"))"
   ]
  },
  {
   "cell_type": "markdown",
   "metadata": {},
   "source": [
    "#### Section 4: peripheral codes"
   ]
  },
  {
   "cell_type": "code",
   "execution_count": 16,
   "metadata": {},
   "outputs": [
    {
     "name": "stdout",
     "output_type": "stream",
     "text": [
      "top purpose words \n",
      "\n",
      "\n",
      "0\tWord\tto\n",
      "Sentence\tIn our register allocation method, we construct an extended conflict graph (ECG) whose vertices are variables and the weight of each edge shows the cost of assigning two endpoint variables of the edge to a register.\t0.9999999999999898\n",
      "\n",
      "1\tWord\tof\n",
      "Sentence\tThis paper attempts to lay a firmer foundtion for a theory of these problems.\t0.9999999999999851\n",
      "\n",
      "2\tWord\tat\n",
      "Sentence\tTaking the midpoint of the untransformed confidence interval as our point estimator of the expected simulation response at the selected factor-level combination and approximating the variance of this point estimator via the delta method, we formulate an approximate two-sample Student <i>t</i>-test for validating our metamodel-based estimator versus the results of making independent runs of the simulation at the selected factor-level combination.\t0.9999999999999769\n",
      "\n",
      "3\tWord\tin\n",
      "Sentence\tBased on this scenario, this paper proposes an approach with the purpose of supporting the unique or combined selection of MBT techniques for a given software project considering two aspects: the adequacy level between MBT techniques and the software project characteristics and impact of more than one MBT technique in some testing process variables.\t0.9999999999999769\n",
      "\n",
      "4\tWord\tsimulation\n",
      "Sentence\tTaking the midpoint of the untransformed confidence interval as our point estimator of the expected simulation response at the selected factor-level combination and approximating the variance of this point estimator via the delta method, we formulate an approximate two-sample Student <i>t</i>-test for validating our metamodel-based estimator versus the results of making independent runs of the simulation at the selected factor-level combination.\t0.9999999999999721\n",
      "\n",
      "5\tWord\tof\n",
      "Sentence\tAfterwards, a decision tree, based on the Food and Agriculture Organization (FAO) soil texture classification scheme, was developed to determine the soil texture for each pixel of the hyperspectral airborne data.\t0.9999999999999704\n",
      "\n",
      "6\tWord\tof\n",
      "Sentence\t” Many are requests to identify the city for a publisher of a journal or book.\t0.9999999999999704\n",
      "\n",
      "7\tWord\tpublisher\n",
      "Sentence\t” Many are requests to identify the city for a publisher of a journal or book.\t0.9999999999999643\n",
      "\n",
      "8\tWord\ta\n",
      "Sentence\tIn our register allocation method, we construct an extended conflict graph (ECG) whose vertices are variables and the weight of each edge shows the cost of assigning two endpoint variables of the edge to a register.\t0.9999999999988786\n",
      "\n",
      "9\tWord\tregister\n",
      "Sentence\tIn our register allocation method, we construct an extended conflict graph (ECG) whose vertices are variables and the weight of each edge shows the cost of assigning two endpoint variables of the edge to a register.\t0.9999999999988786\n",
      "\n",
      "\n",
      "\n",
      "top mechanism words \n",
      "\n",
      "\n",
      "0\tWord\tThis\n",
      "Sentence\tThis paper deals with the autonomous navigation of a ducted fan vertical take off and landing (VTOL) unmanned aerial vehicle (UAV) in constrained environment.\t0.3333333333333333\n",
      "\n",
      "1\tWord\tmodel\n",
      "Sentence\t1. Proposed testability model\t0.3333333333333333\n",
      "\n",
      "2\tWord\t1\n",
      "Sentence\t1. Proposed testability model\t0.3333333333333333\n",
      "\n",
      "3\tWord\ttestability\n",
      "Sentence\t1. Proposed testability model\t0.3333333333333333\n",
      "\n",
      "4\tWord\t.\n",
      "Sentence\t1. Proposed testability model\t0.3333333333333333\n",
      "\n",
      "5\tWord\tProposed\n",
      "Sentence\t1. Proposed testability model\t0.3333333333333333\n",
      "\n",
      "6\tWord\tpaper\n",
      "Sentence\tA new digital audio watermarking for copyright protection is described in this paper.\t0.3333333333333333\n",
      "\n",
      "7\tWord\tin\n",
      "Sentence\tA new digital audio watermarking for copyright protection is described in this paper.\t0.3333333333333333\n",
      "\n",
      "8\tWord\tthis\n",
      "Sentence\tA new digital audio watermarking for copyright protection is described in this paper.\t0.3333333333333333\n",
      "\n",
      "9\tWord\t.\n",
      "Sentence\tA new digital audio watermarking for copyright protection is described in this paper.\t0.3333333333333333\n"
     ]
    }
   ],
   "source": [
    "pair_list=list(zip(unigram_segments,list(train_marginals[:,0].reshape(-1))))\n",
    "\n",
    "pair_list.sort(key = lambda t: t[1],reverse=True)\n",
    "\n",
    "def get_candidate_text(candidate):\n",
    "    cue=candidate.get_contexts()[0]\n",
    "    return cue.sentence.text[cue.char_start:cue.char_end+1]\n",
    "\n",
    "top_cutoff=10\n",
    "print(\"top purpose words \\n\\n\")\n",
    "print(\"\\n\\n\".join([str(ind)+\"\\tWord\\t\"+get_candidate_text(pair[0])+\"\\n\"+\"Sentence\\t\"+str(pair[0].get_parent().text)+\"\\t\"+str(pair[1]) for ind,pair in enumerate(pair_list[:top_cutoff])]))\n",
    "\n",
    "\n",
    "pair_list=list(zip(unigram_segments,list(train_marginals[:,1].reshape(-1))))\n",
    "pair_list.sort(key = lambda t: t[1],reverse=True)\n",
    "\n",
    "print(\"\\n\\n\\ntop mechanism words \\n\\n\")\n",
    "print(\"\\n\\n\".join([str(ind)+\"\\tWord\\t\"+get_candidate_text(pair[0])+\"\\n\"+\"Sentence\\t\"+str(pair[0].get_parent().text)+\"\\t\"+str(pair[1]) for ind,pair in enumerate(pair_list[:top_cutoff])]))"
   ]
  },
  {
   "cell_type": "code",
   "execution_count": 17,
   "metadata": {},
   "outputs": [
    {
     "name": "stdout",
     "output_type": "stream",
     "text": [
      "Unigram(Span(\"b'roots'\", sentence=116, chars=[119,123], words=[21,21]))\n",
      "We show that the global minimum of this criterion can be reached by first solving a linear system then calculating the roots of some polynomial of order K .\n",
      "MN\n",
      "\n",
      "Unigram(Span(\"b'reached'\", sentence=116, chars=[57,63], words=[11,11]))\n",
      "We show that the global minimum of this criterion can be reached by first solving a linear system then calculating the roots of some polynomial of order K .\n",
      "0\n",
      "\n",
      "Unigram(Span(\"b'of'\", sentence=116, chars=[125,126], words=[22,22]))\n",
      "We show that the global minimum of this criterion can be reached by first solving a linear system then calculating the roots of some polynomial of order K .\n",
      "MN\n",
      "\n",
      "Unigram(Span(\"b'We'\", sentence=116, chars=[0,1], words=[0,0]))\n",
      "We show that the global minimum of this criterion can be reached by first solving a linear system then calculating the roots of some polynomial of order K .\n",
      "0\n",
      "\n",
      "Unigram(Span(\"b'by'\", sentence=116, chars=[65,66], words=[12,12]))\n",
      "We show that the global minimum of this criterion can be reached by first solving a linear system then calculating the roots of some polynomial of order K .\n",
      "MN\n",
      "\n",
      "Unigram(Span(\"b'some'\", sentence=116, chars=[128,131], words=[23,23]))\n",
      "We show that the global minimum of this criterion can be reached by first solving a linear system then calculating the roots of some polynomial of order K .\n",
      "MN\n",
      "\n",
      "Unigram(Span(\"b'show'\", sentence=116, chars=[3,6], words=[1,1]))\n",
      "We show that the global minimum of this criterion can be reached by first solving a linear system then calculating the roots of some polynomial of order K .\n",
      "0\n",
      "\n",
      "Unigram(Span(\"b'first'\", sentence=116, chars=[68,72], words=[13,13]))\n",
      "We show that the global minimum of this criterion can be reached by first solving a linear system then calculating the roots of some polynomial of order K .\n",
      "MN\n",
      "\n",
      "Unigram(Span(\"b'that'\", sentence=116, chars=[8,11], words=[2,2]))\n",
      "We show that the global minimum of this criterion can be reached by first solving a linear system then calculating the roots of some polynomial of order K .\n",
      "0\n",
      "\n",
      "Unigram(Span(\"b'polynomial'\", sentence=116, chars=[133,142], words=[24,24]))\n",
      "We show that the global minimum of this criterion can be reached by first solving a linear system then calculating the roots of some polynomial of order K .\n",
      "MN\n",
      "\n",
      "Unigram(Span(\"b'solving'\", sentence=116, chars=[74,80], words=[14,14]))\n",
      "We show that the global minimum of this criterion can be reached by first solving a linear system then calculating the roots of some polynomial of order K .\n",
      "MN\n",
      "\n",
      "Unigram(Span(\"b'the'\", sentence=116, chars=[13,15], words=[3,3]))\n",
      "We show that the global minimum of this criterion can be reached by first solving a linear system then calculating the roots of some polynomial of order K .\n",
      "0\n",
      "\n",
      "Unigram(Span(\"b'of'\", sentence=116, chars=[144,145], words=[25,25]))\n",
      "We show that the global minimum of this criterion can be reached by first solving a linear system then calculating the roots of some polynomial of order K .\n",
      "MN\n",
      "\n",
      "Unigram(Span(\"b'a'\", sentence=116, chars=[82,82], words=[15,15]))\n",
      "We show that the global minimum of this criterion can be reached by first solving a linear system then calculating the roots of some polynomial of order K .\n",
      "MN\n",
      "\n",
      "Unigram(Span(\"b'global'\", sentence=116, chars=[17,22], words=[4,4]))\n",
      "We show that the global minimum of this criterion can be reached by first solving a linear system then calculating the roots of some polynomial of order K .\n",
      "0\n",
      "\n",
      "Unigram(Span(\"b'order'\", sentence=116, chars=[147,151], words=[26,26]))\n",
      "We show that the global minimum of this criterion can be reached by first solving a linear system then calculating the roots of some polynomial of order K .\n",
      "MN\n",
      "\n",
      "Unigram(Span(\"b'linear'\", sentence=116, chars=[84,89], words=[16,16]))\n",
      "We show that the global minimum of this criterion can be reached by first solving a linear system then calculating the roots of some polynomial of order K .\n",
      "MN\n",
      "\n",
      "Unigram(Span(\"b'is'\", sentence=109, chars=[38,39], words=[5,5]))\n",
      "sent __dict__ {'_sa_instance_state': <sqlalchemy.orm.state.InstanceState object at 0x1a4ec43d68>, 'type': 'sentence', 'ner_tags': ['O', 'O', 'O', 'O', 'O', 'O', 'O', 'O', 'O', 'O', 'O', 'O', 'O', 'O'], 'lemmas': ['besides', ',', 'the', 'postprocessing', 'technique', 'be', 'introduce', 'for', 'resist', 'time', '-', 'scale', 'modification', '.'], 'char_offsets': [0, 7, 9, 13, 28, 38, 41, 52, 56, 66, 70, 71, 77, 89], 'text': 'Besides, the postprocessing technique is introduced for resisting time-scale modification.', 'dep_labels': ['advmod', 'punct', 'det', 'compound', 'nsubjpass', 'auxpass', 'ROOT', 'prep', 'pcomp', 'compound', 'punct', 'compound', 'dobj', 'punct'], 'position': 4, 'id': 109, 'stable_id': 'semanticDBLP_ed242831afff98c077bd0b9d4bfdbb6109d4e770::sentence:427:517', 'dep_parents': [7, 7, 5, 5, 7, 7, 0, 7, 8, 12, 12, 13, 9, 7], 'pos_tags': ['RB', ',', 'DT', 'NN', 'NN', 'VBZ', 'VBN', 'IN', 'VBG', 'NN', 'HYPH', 'NN', 'NN', '.'], 'abs_char_offsets': [427, 434, 436, 440, 455, 465, 468, 479, 483, 493, 497, 498, 504, 516], 'words': ['Besides', ',', 'the', 'postprocessing', 'technique', 'is', 'introduced', 'for', 'resisting', 'time', '-', 'scale', 'modification', '.'], 'entity_cids': ['O', 'O', 'O', 'O', 'O', 'O', 'O', 'O', 'O', 'O', 'O', 'O', 'O', 'O'], 'document_id': 2, 'entity_types': ['O', 'O', 'O', 'O', 'O', 'O', 'O', 'O', 'O', 'O', 'O', 'O', 'O', 'O'], 'document': Document semanticDBLP_ed242831afff98c077bd0b9d4bfdbb6109d4e770}\n",
      "sent pos in doc?? 4\n",
      "semanticDBLP_ed242831afff98c077bd0b9d4bfdbb6109d4e770\n",
      "is\n",
      "unigram position??  5\n",
      "its_pos_tag VBZ \n",
      "\n"
     ]
    }
   ],
   "source": [
    "# TODO get_surrounding_words maybe group segments back to doc level from  Sentence has words in its __dict__ \n",
    "\n",
    "# visualize purpose probability\n",
    "\n",
    "\n",
    "# pair_list=list(zip(unigram_segments,list(train_marginals[:,0].reshape(-1))))\n",
    "\n",
    "# count=0\n",
    "# for idx,segment in enumerate(unigram_segments):\n",
    "#     if \"by\" in segment.get_parent().__dict__['words']:\n",
    "#         print(idx,segment.get_parent().__dict__['text'])\n",
    "#         if count>30:\n",
    "#             break\n",
    "#         count+=1\n",
    "        \n",
    "from LF.util_common_default_categorical import purpose_LFs,mechanism_LFs\n",
    "\n",
    "for i in range(288,305):\n",
    "    print(unigram_segments[i])\n",
    "    print(unigram_segments[i].get_parent().__dict__['text'])\n",
    "    print(mechanism_LFs[-1](unigram_segments[i]))\n",
    "    print()\n",
    "    \n",
    "    \n",
    "# print(unigram_segments[165],)\n",
    "\n",
    "segment=unigram_segments[165]\n",
    "# print((segment.get_contexts()[0].__dict__))\n",
    "docid=segment.get_parent().get_parent().name\n",
    "print(segment)\n",
    "print(\"sent __dict__\",segment.get_parent().__dict__)\n",
    "print(\"sent pos in doc??\", segment.get_parent().position)\n",
    "# print(\"sent pos in doc??\", segment.get_parent().get_parent().sentences.index(segment.get_parent()))\n",
    "\n",
    "print(docid)\n",
    "\n",
    "# print(segment.get_parent().get_parent().__dict__)\n",
    "print(segment.get_parent().text[segment.unigram_cue.char_start:segment.unigram_cue.char_end+1])\n",
    "\n",
    "unigram_psn=segment.unigram_cue.get_word_start()\n",
    "print(\"unigram position?? \",unigram_psn)#.__dict__['words'])\n",
    "\n",
    "its_pos_tag=segment.get_parent().__dict__['pos_tags'][unigram_psn]\n",
    "print(\"its_pos_tag\",its_pos_tag,\"\\n\")\n",
    "\n",
    "# its_surrounding_pos_tag=get_sourrounding_pos_tag(segment,3)\n",
    "# print(\"unigram pos tag\",get_sourrounding_pos_tag(segment,1))\n",
    "# print(\"trigram pos tag\",get_sourrounding_pos_tag(segment,3))\n",
    "# print(\"5gram pos tag\",get_sourrounding_pos_tag(segment,5))\n"
   ]
  }
 ],
 "metadata": {
  "kernelspec": {
   "display_name": "Python 3",
   "language": "python",
   "name": "python3"
  },
  "language_info": {
   "codemirror_mode": {
    "name": "ipython",
    "version": 3
   },
   "file_extension": ".py",
   "mimetype": "text/x-python",
   "name": "python",
   "nbconvert_exporter": "python",
   "pygments_lexer": "ipython3",
   "version": "3.6.5"
  }
 },
 "nbformat": 4,
 "nbformat_minor": 2
}
