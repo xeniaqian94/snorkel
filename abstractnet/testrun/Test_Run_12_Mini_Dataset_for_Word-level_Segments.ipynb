{
 "cells": [
  {
   "cell_type": "markdown",
   "metadata": {},
   "source": [
    "# Test Run 12 Mini Dataset Exploration w/ Word-level Segments\n",
    "In this notebook, we implement our switched-decision of using *word* as the segmentation unit. See weekly progress report of 18Fall, week 6 for our argument of using *clause* as the segmentation unit causes many conflict!!! "
   ]
  },
  {
   "cell_type": "code",
   "execution_count": 1,
   "metadata": {},
   "outputs": [
    {
     "data": {
      "text/html": [
       "<style>.container { width:85% !important; }</style>"
      ],
      "text/plain": [
       "<IPython.core.display.HTML object>"
      ]
     },
     "metadata": {},
     "output_type": "display_data"
    }
   ],
   "source": [
    "from IPython.core.display import display, HTML\n",
    "display(HTML(\"<style>.container { width:85% !important; }</style>\"))\n",
    "debug_mode=1 # if not in debug mode, please set debug_mode=0, find more info about debug mode in test run 9 maybe?\n",
    "%load_ext autoreload\n",
    "%autoreload 2\n",
    "%matplotlib inline"
   ]
  },
  {
   "cell_type": "code",
   "execution_count": 3,
   "metadata": {},
   "outputs": [
    {
     "name": "stdout",
     "output_type": "stream",
     "text": [
      "postgresql:///abstractnetword\n",
      "Clearing existing...\n",
      "snorkel_conn_string postgresql:///abstractnetword\n",
      "if snorkel_postgres? True\n",
      "clearning..\n",
      "clear finished!\n",
      "Running UDF...\n",
      "snorkel_conn_string postgresql:///abstractnetword\n",
      "if snorkel_postgres? True\n",
      "[========================================] 100%\n",
      "\n",
      "CPU times: user 2.56 s, sys: 126 ms, total: 2.69 s\n",
      "Wall time: 3.56 s\n",
      "Documents: 100\n"
     ]
    }
   ],
   "source": [
    "import os\n",
    "os.environ['SNORKELDB'] = \"postgresql:///abstractnetword\"\n",
    "print(os.environ['SNORKELDB'])\n",
    "\n",
    "from snorkel import SnorkelSession\n",
    "from snorkel.parser import TSVDocPreprocessor\n",
    "session = SnorkelSession()\n",
    "\n",
    "# # Here, we just set how many documents we'll process for automatic testing- you can safely ignore this!\n",
    "n_docs = 100 # this is the upper limit of number of docs\n",
    "doc_preprocessor = TSVDocPreprocessor('data/slim-s2-corpus-00-1000', encoding=\"utf-8\",max_docs=n_docs)\n",
    "\n",
    "from snorkel.parser.spacy_parser import Spacy\n",
    "from snorkel.parser import CorpusParser\n",
    "\n",
    "corpus_parser = CorpusParser(parser=Spacy())\n",
    "%time corpus_parser.apply(doc_preprocessor, count=n_docs)# ,parallelism=5)\n",
    "\n",
    "from snorkel.models import Document, Sentence  # defined in context.py file\n",
    "\n",
    "print(\"Documents:\", session.query(Document).count())"
   ]
  },
  {
   "cell_type": "code",
   "execution_count": 6,
   "metadata": {},
   "outputs": [
    {
     "name": "stdout",
     "output_type": "stream",
     "text": [
      "Documents: 100\n",
      "Sentences: 685\n",
      "The longest sentence has 93 tokens.\n"
     ]
    }
   ],
   "source": [
    "from snorkel import SnorkelSession\n",
    "from snorkel.parser.spacy_parser import Spacy\n",
    "from snorkel.parser import CorpusParser\n",
    "from snorkel.models import Document, Sentence\n",
    "\n",
    "session = SnorkelSession()\n",
    "print(\"Documents:\", session.query(Document).count())\n",
    "print(\"Sentences:\", session.query(Sentence).count())\n",
    "\n",
    "docs = session.query(Document).all()\n",
    "sents = session.query(Sentence).all()  # get all sentences from snorkel.db\n",
    "n_max_corpus=0\n",
    "for sent in sents:\n",
    "    n_max_corpus=max(n_max_corpus,len(sent.words))\n",
    "    if len(sent.words)==180:\n",
    "        print(sent)\n",
    "print(\"The longest sentence has \"+str(n_max_corpus)+\" tokens.\")\n",
    "train_sents=sents"
   ]
  },
  {
   "cell_type": "code",
   "execution_count": 7,
   "metadata": {
    "scrolled": true
   },
   "outputs": [
    {
     "name": "stdout",
     "output_type": "stream",
     "text": [
      "Clearing existing...\n",
      "snorkel_conn_string postgresql:///abstractnetword\n",
      "if snorkel_postgres? True\n",
      "clearning..\n",
      "Running UDF...\n",
      "snorkel_conn_string postgresql:///abstractnetword\n",
      "if snorkel_postgres? True\n",
      "[========================================] 100%\n",
      "\n",
      "CPU times: user 27.1 s, sys: 1.96 s, total: 29 s\n",
      "Wall time: 59.8 s\n",
      "len(train_segments) 17110\n"
     ]
    }
   ],
   "source": [
    "from snorkel.models import candidate_subclass\n",
    "from snorkel.candidates import Ngrams, CandidateExtractor\n",
    "from snorkel.matchers import *\n",
    "import datetime\n",
    "\n",
    "from IPython.display import Markdown, display\n",
    "def printmd(string):\n",
    "    display(Markdown(string))\n",
    "\n",
    "Unigram = candidate_subclass('Unigram', ['unigram_cue'],values=['PP','MN','NULL'])\n",
    "ngrams = Ngrams(n_max=1) \n",
    "ngram_matcher=NgramMatcher()\n",
    "unigram_segment_extractor=CandidateExtractor(Unigram,[ngrams],[ngram_matcher])\n",
    "\n",
    "%time unigram_segment_extractor.apply(train_sents, split=0)\n",
    "unigram_segments=session.query(Unigram).filter(Unigram.split == 0).all()\n",
    "print(\"len(train_segments)\",len(unigram_segments))"
   ]
  },
  {
   "cell_type": "code",
   "execution_count": 66,
   "metadata": {},
   "outputs": [
    {
     "name": "stdout",
     "output_type": "stream",
     "text": [
      "total LF count 80 unique  80 purpose_LFs 31 mechanism_LFs 35\n",
      "['LF_mechanism_PRP_VBP3_True', 'LF_mechanism_PRP_VBPneg2_True', 'LF_mechanism_PRP_RB_VBP3_True', 'LF_mechanism_PRP_RB_VBPneg2_True', 'LF_mechanism_we_propose3_True', 'LF_mechanism_we_proposeneg2_True', 'LF_mechanism_we_develop3_True', 'LF_mechanism_we_developneg2_True', 'LF_mechanism_we_provide3_True', 'LF_mechanism_we_provideneg2_True', 'LF_mechanism_we_have_developed3_True', 'LF_mechanism_we_have_developedneg2_True', 'LF_mechanism_we_also_propose3_True', 'LF_mechanism_we_also_proposeneg2_True', 'LF_mechanism_presents_3_True', 'LF_mechanism_presents_neg2_True', 'LF_mechanism_present_3_True', 'LF_mechanism_present_neg2_True', 'LF_mechanism_we_use_3_True', 'LF_mechanism_we_use_neg2_True', 'LF_mechanism_uses_3_True', 'LF_mechanism_uses_neg2_True', 'LF_mechanism_using_a_3_True', 'LF_mechanism_using_a_neg2_True', 'LF_mechanism_by_using3_True', 'LF_mechanism_by_usingneg2_True', 'LF_mechanism_method3_True', 'LF_mechanism_methodneg2_True', 'LF_mechanism_approach3_True', 'LF_mechanism_approachneg2_True', 'LF_mechanism_algorithm3_True', 'LF_mechanism_algorithmneg2_True', 'LF_mechanism_we_also_developed3_True', 'LF_mechanism_we_also_developedneg2_True', 'mechanism_by_adv_doing']\n"
     ]
    }
   ],
   "source": [
    "from snorkel.lf_helpers import *\n",
    "from snorkel.annotations import LabelAnnotator\n",
    "from LF.util_common_default_categorical import purpose_LFs,mechanism_LFs,null_LFs\n",
    "print(\"total LF count\", len(purpose_LFs+mechanism_LFs+null_LFs),\"unique \",len(set(purpose_LFs+mechanism_LFs+null_LFs)),\"purpose_LFs\",len(purpose_LFs),\"mechanism_LFs\",len(mechanism_LFs))\n",
    "print([lf.__name__ for lf in mechanism_LFs])"
   ]
  },
  {
   "cell_type": "code",
   "execution_count": 67,
   "metadata": {},
   "outputs": [],
   "source": [
    "from snorkel.learning import GenerativeModel\n",
    "from util import get_candidate_text\n",
    "import matplotlib.pyplot as plt\n",
    "import datetime\n",
    "\n",
    "# maybe write a cids_query session.query(Candidate.id).filter(Candidate.split == split) from def apply(self, split=0, key_group=0, replace_key_set=True, cids_query=None,\n",
    "#         **kwargs):\n",
    "def get_L_train(LFs,parallelism=1,split=0):\n",
    "    L_train=None\n",
    "    labeler=None\n",
    "    np.random.seed(1701)\n",
    "    labeler = LabelAnnotator(lfs=LFs)\n",
    "    print(datetime.datetime.now())\n",
    "    L_train = labeler.apply(split=split,parallelism=parallelism)# ,cids_query=session.query(Candidate.id).filter(Candidate.get_parent().id %10==1))\n",
    "    print(datetime.datetime.now())\n",
    "    print(type(L_train))\n",
    "    print(L_train.shape)\n",
    "    printmd(\"**Total non_overlapping_coverage on L_train (percentage of labelled over all)**  \"+str(L_train.non_overlapping_coverage()))\n",
    "    return L_train\n",
    "\n",
    "def get_train_marginals(L_train,step_size_nominator=0.1,epochs=100,threads=1,class_prior=False,decay=1.0,reg_param=1e-6):\n",
    "    try:\n",
    "        gen_model=None\n",
    "        print(datetime.datetime.now())\n",
    "        gen_model = GenerativeModel(lf_propensity=True,class_prior=class_prior)\n",
    "#         gen_model.train(L_train, cardinality=3, epochs=100, decay=0.95, step_size=step_size_nominator/L_train.shape[0], reg_param=0.0,verbose=False,threads=threads) # try step_size = 1/ next time? \n",
    "        gen_model.train(L_train, cardinality=3, epochs=epochs, decay=decay,step_size=step_size_nominator/1e2,reg_param=reg_param,verbose=False,threads=threads)\n",
    "        print(\"training finished \")\n",
    "        print(datetime.datetime.now())\n",
    "        print(\"Finished training generative model, now checking performance against development set labels...\")\n",
    "        print(\"Calculating marginals!\")\n",
    "        train_marginals = gen_model.marginals(L_train)  # the marginal probability of each candidate being True\n",
    "#         assert np.all(train_marginals.sum(axis=1) - np.ones(train_marginals.shape[0]) < 1e-10)\n",
    "        print(\"no exception\")\n",
    "        print(datetime.datetime.now())\n",
    "        return gen_model,train_marginals\n",
    "    except:\n",
    "        print(\"exception! \")\n",
    "        return gen_model,train_marginals\n"
   ]
  },
  {
   "cell_type": "code",
   "execution_count": null,
   "metadata": {
    "scrolled": true
   },
   "outputs": [
    {
     "name": "stdout",
     "output_type": "stream",
     "text": [
      "snorkel_conn_string postgresql:///abstractnetword\n",
      "if snorkel_postgres? True\n",
      "2018-10-10 17:59:11.198681\n",
      "snorkel_conn_string postgresql:///abstractnetword\n",
      "if snorkel_postgres? True\n",
      "cids_count 17110\n",
      "key_group 0\n",
      "Clearing existing...\n",
      "snorkel_conn_string postgresql:///abstractnetword\n",
      "if snorkel_postgres? True\n",
      "clearning..\n",
      "Running UDF...\n",
      "snorkel_conn_string postgresql:///abstractnetword\n",
      "if snorkel_postgres? True\n",
      "[====================                    ] 49%"
     ]
    }
   ],
   "source": [
    "L_train=get_L_train(purpose_LFs+mechanism_LFs+null_LFs)"
   ]
  },
  {
   "cell_type": "code",
   "execution_count": 62,
   "metadata": {},
   "outputs": [
    {
     "name": "stdout",
     "output_type": "stream",
     "text": [
      "62\n",
      "(17110, 59)\n"
     ]
    }
   ],
   "source": [
    "print(len(purpose_LFs+mechanism_LFs+null_LFs))\n",
    "print(L_train.shape)"
   ]
  },
  {
   "cell_type": "code",
   "execution_count": 63,
   "metadata": {},
   "outputs": [
    {
     "data": {
      "text/html": [
       "<div>\n",
       "<style scoped>\n",
       "    .dataframe tbody tr th:only-of-type {\n",
       "        vertical-align: middle;\n",
       "    }\n",
       "\n",
       "    .dataframe tbody tr th {\n",
       "        vertical-align: top;\n",
       "    }\n",
       "\n",
       "    .dataframe thead th {\n",
       "        text-align: right;\n",
       "    }\n",
       "</style>\n",
       "<table border=\"1\" class=\"dataframe\">\n",
       "  <thead>\n",
       "    <tr style=\"text-align: right;\">\n",
       "      <th></th>\n",
       "      <th>j</th>\n",
       "      <th>Coverage</th>\n",
       "      <th>Overlaps</th>\n",
       "      <th>Conflicts</th>\n",
       "    </tr>\n",
       "  </thead>\n",
       "  <tbody>\n",
       "    <tr>\n",
       "      <th>LF_purpose_TO_VB_neg2_True</th>\n",
       "      <td>0</td>\n",
       "      <td>0.176388</td>\n",
       "      <td>0.147458</td>\n",
       "      <td>0.074401</td>\n",
       "    </tr>\n",
       "    <tr>\n",
       "      <th>LF_purpose_that_can3_True</th>\n",
       "      <td>1</td>\n",
       "      <td>0.000701</td>\n",
       "      <td>0.000643</td>\n",
       "      <td>0.000234</td>\n",
       "    </tr>\n",
       "    <tr>\n",
       "      <th>LF_purpose_that_canneg2_True</th>\n",
       "      <td>2</td>\n",
       "      <td>0.006604</td>\n",
       "      <td>0.006312</td>\n",
       "      <td>0.001636</td>\n",
       "    </tr>\n",
       "    <tr>\n",
       "      <th>LF_purpose_for_the3_True</th>\n",
       "      <td>3</td>\n",
       "      <td>0.003390</td>\n",
       "      <td>0.002981</td>\n",
       "      <td>0.001052</td>\n",
       "    </tr>\n",
       "    <tr>\n",
       "      <th>LF_purpose_for_theneg2_True</th>\n",
       "      <td>4</td>\n",
       "      <td>0.024898</td>\n",
       "      <td>0.020573</td>\n",
       "      <td>0.008416</td>\n",
       "    </tr>\n",
       "    <tr>\n",
       "      <th>LF_purpose_goal3_True</th>\n",
       "      <td>5</td>\n",
       "      <td>0.001753</td>\n",
       "      <td>0.001403</td>\n",
       "      <td>0.000526</td>\n",
       "    </tr>\n",
       "    <tr>\n",
       "      <th>LF_purpose_goalneg2_True</th>\n",
       "      <td>6</td>\n",
       "      <td>0.012098</td>\n",
       "      <td>0.011572</td>\n",
       "      <td>0.004559</td>\n",
       "    </tr>\n",
       "    <tr>\n",
       "      <th>LF_purpose_problem3_True</th>\n",
       "      <td>7</td>\n",
       "      <td>0.006487</td>\n",
       "      <td>0.006487</td>\n",
       "      <td>0.001987</td>\n",
       "    </tr>\n",
       "    <tr>\n",
       "      <th>LF_purpose_problemneg2_True</th>\n",
       "      <td>8</td>\n",
       "      <td>0.030275</td>\n",
       "      <td>0.025015</td>\n",
       "      <td>0.012274</td>\n",
       "    </tr>\n",
       "    <tr>\n",
       "      <th>LF_purpose_challenging3_True</th>\n",
       "      <td>9</td>\n",
       "      <td>0.000877</td>\n",
       "      <td>0.000877</td>\n",
       "      <td>0.000175</td>\n",
       "    </tr>\n",
       "    <tr>\n",
       "      <th>LF_purpose_challengingneg2_True</th>\n",
       "      <td>10</td>\n",
       "      <td>0.005026</td>\n",
       "      <td>0.004968</td>\n",
       "      <td>0.000351</td>\n",
       "    </tr>\n",
       "    <tr>\n",
       "      <th>LF_purpose_task3_True</th>\n",
       "      <td>11</td>\n",
       "      <td>0.001929</td>\n",
       "      <td>0.001929</td>\n",
       "      <td>0.000760</td>\n",
       "    </tr>\n",
       "    <tr>\n",
       "      <th>LF_purpose_taskneg2_True</th>\n",
       "      <td>12</td>\n",
       "      <td>0.007247</td>\n",
       "      <td>0.005260</td>\n",
       "      <td>0.001929</td>\n",
       "    </tr>\n",
       "    <tr>\n",
       "      <th>LF_purpose_bottleneck3_True</th>\n",
       "      <td>13</td>\n",
       "      <td>0.000175</td>\n",
       "      <td>0.000117</td>\n",
       "      <td>0.000000</td>\n",
       "    </tr>\n",
       "    <tr>\n",
       "      <th>LF_purpose_bottleneckneg1_True</th>\n",
       "      <td>14</td>\n",
       "      <td>0.000818</td>\n",
       "      <td>0.000117</td>\n",
       "      <td>0.000000</td>\n",
       "    </tr>\n",
       "    <tr>\n",
       "      <th>LF_purpose_problemneg1_True</th>\n",
       "      <td>15</td>\n",
       "      <td>0.025073</td>\n",
       "      <td>0.014378</td>\n",
       "      <td>0.007423</td>\n",
       "    </tr>\n",
       "    <tr>\n",
       "      <th>LF_purpose_challengingneg1_True</th>\n",
       "      <td>16</td>\n",
       "      <td>0.005494</td>\n",
       "      <td>0.003741</td>\n",
       "      <td>0.001753</td>\n",
       "    </tr>\n",
       "    <tr>\n",
       "      <th>LF_purpose_taskneg1_True</th>\n",
       "      <td>17</td>\n",
       "      <td>0.010871</td>\n",
       "      <td>0.006487</td>\n",
       "      <td>0.004150</td>\n",
       "    </tr>\n",
       "    <tr>\n",
       "      <th>purpose_for_doing</th>\n",
       "      <td>18</td>\n",
       "      <td>0.057218</td>\n",
       "      <td>0.040094</td>\n",
       "      <td>0.027762</td>\n",
       "    </tr>\n",
       "    <tr>\n",
       "      <th>purpose_to_verb</th>\n",
       "      <td>19</td>\n",
       "      <td>0.152542</td>\n",
       "      <td>0.130801</td>\n",
       "      <td>0.067037</td>\n",
       "    </tr>\n",
       "    <tr>\n",
       "      <th>LF_mechanism_PRP_VBP3_True</th>\n",
       "      <td>20</td>\n",
       "      <td>0.015196</td>\n",
       "      <td>0.010871</td>\n",
       "      <td>0.004091</td>\n",
       "    </tr>\n",
       "    <tr>\n",
       "      <th>LF_mechanism_PRP_VBPneg2_True</th>\n",
       "      <td>21</td>\n",
       "      <td>0.169550</td>\n",
       "      <td>0.120865</td>\n",
       "      <td>0.087142</td>\n",
       "    </tr>\n",
       "    <tr>\n",
       "      <th>LF_mechanism_PRP_RB_VBP3_True</th>\n",
       "      <td>22</td>\n",
       "      <td>0.001052</td>\n",
       "      <td>0.000351</td>\n",
       "      <td>0.000292</td>\n",
       "    </tr>\n",
       "    <tr>\n",
       "      <th>LF_mechanism_PRP_RB_VBPneg2_True</th>\n",
       "      <td>23</td>\n",
       "      <td>0.018410</td>\n",
       "      <td>0.009585</td>\n",
       "      <td>0.009234</td>\n",
       "    </tr>\n",
       "    <tr>\n",
       "      <th>LF_mechanism_we_propose3_True</th>\n",
       "      <td>24</td>\n",
       "      <td>0.001403</td>\n",
       "      <td>0.001344</td>\n",
       "      <td>0.000117</td>\n",
       "    </tr>\n",
       "    <tr>\n",
       "      <th>LF_mechanism_we_proposeneg2_True</th>\n",
       "      <td>25</td>\n",
       "      <td>0.012916</td>\n",
       "      <td>0.012507</td>\n",
       "      <td>0.007949</td>\n",
       "    </tr>\n",
       "    <tr>\n",
       "      <th>LF_mechanism_we_develop3_True</th>\n",
       "      <td>26</td>\n",
       "      <td>0.000234</td>\n",
       "      <td>0.000234</td>\n",
       "      <td>0.000117</td>\n",
       "    </tr>\n",
       "    <tr>\n",
       "      <th>LF_mechanism_we_developneg2_True</th>\n",
       "      <td>27</td>\n",
       "      <td>0.001578</td>\n",
       "      <td>0.001578</td>\n",
       "      <td>0.001403</td>\n",
       "    </tr>\n",
       "    <tr>\n",
       "      <th>LF_mechanism_we_have_developed3_True</th>\n",
       "      <td>28</td>\n",
       "      <td>0.000058</td>\n",
       "      <td>0.000058</td>\n",
       "      <td>0.000000</td>\n",
       "    </tr>\n",
       "    <tr>\n",
       "      <th>LF_mechanism_we_have_developedneg2_True</th>\n",
       "      <td>29</td>\n",
       "      <td>0.001110</td>\n",
       "      <td>0.001110</td>\n",
       "      <td>0.000935</td>\n",
       "    </tr>\n",
       "    <tr>\n",
       "      <th>LF_mechanism_we_also_propose3_True</th>\n",
       "      <td>30</td>\n",
       "      <td>0.000000</td>\n",
       "      <td>0.000000</td>\n",
       "      <td>0.000000</td>\n",
       "    </tr>\n",
       "    <tr>\n",
       "      <th>LF_mechanism_we_also_proposeneg2_True</th>\n",
       "      <td>31</td>\n",
       "      <td>0.000000</td>\n",
       "      <td>0.000000</td>\n",
       "      <td>0.000000</td>\n",
       "    </tr>\n",
       "    <tr>\n",
       "      <th>LF_mechanism_presents_3_True</th>\n",
       "      <td>32</td>\n",
       "      <td>0.001403</td>\n",
       "      <td>0.000818</td>\n",
       "      <td>0.000234</td>\n",
       "    </tr>\n",
       "    <tr>\n",
       "      <th>LF_mechanism_presents_neg2_True</th>\n",
       "      <td>33</td>\n",
       "      <td>0.019345</td>\n",
       "      <td>0.012098</td>\n",
       "      <td>0.011280</td>\n",
       "    </tr>\n",
       "    <tr>\n",
       "      <th>LF_mechanism_present_3_True</th>\n",
       "      <td>34</td>\n",
       "      <td>0.002805</td>\n",
       "      <td>0.002221</td>\n",
       "      <td>0.000351</td>\n",
       "    </tr>\n",
       "    <tr>\n",
       "      <th>LF_mechanism_present_neg2_True</th>\n",
       "      <td>35</td>\n",
       "      <td>0.026710</td>\n",
       "      <td>0.021917</td>\n",
       "      <td>0.011748</td>\n",
       "    </tr>\n",
       "    <tr>\n",
       "      <th>LF_mechanism_we_use_3_True</th>\n",
       "      <td>36</td>\n",
       "      <td>0.000175</td>\n",
       "      <td>0.000175</td>\n",
       "      <td>0.000000</td>\n",
       "    </tr>\n",
       "    <tr>\n",
       "      <th>LF_mechanism_we_use_neg2_True</th>\n",
       "      <td>37</td>\n",
       "      <td>0.006371</td>\n",
       "      <td>0.006371</td>\n",
       "      <td>0.000877</td>\n",
       "    </tr>\n",
       "    <tr>\n",
       "      <th>LF_mechanism_uses_3_True</th>\n",
       "      <td>38</td>\n",
       "      <td>0.000935</td>\n",
       "      <td>0.000584</td>\n",
       "      <td>0.000234</td>\n",
       "    </tr>\n",
       "    <tr>\n",
       "      <th>LF_mechanism_uses_neg2_True</th>\n",
       "      <td>39</td>\n",
       "      <td>0.009468</td>\n",
       "      <td>0.006371</td>\n",
       "      <td>0.006020</td>\n",
       "    </tr>\n",
       "    <tr>\n",
       "      <th>LF_mechanism_using_a_3_True</th>\n",
       "      <td>40</td>\n",
       "      <td>0.000468</td>\n",
       "      <td>0.000351</td>\n",
       "      <td>0.000234</td>\n",
       "    </tr>\n",
       "    <tr>\n",
       "      <th>LF_mechanism_using_a_neg2_True</th>\n",
       "      <td>41</td>\n",
       "      <td>0.007364</td>\n",
       "      <td>0.006195</td>\n",
       "      <td>0.003448</td>\n",
       "    </tr>\n",
       "    <tr>\n",
       "      <th>LF_mechanism_method3_True</th>\n",
       "      <td>42</td>\n",
       "      <td>0.009819</td>\n",
       "      <td>0.007832</td>\n",
       "      <td>0.002688</td>\n",
       "    </tr>\n",
       "    <tr>\n",
       "      <th>LF_mechanism_methodneg2_True</th>\n",
       "      <td>43</td>\n",
       "      <td>0.055698</td>\n",
       "      <td>0.041964</td>\n",
       "      <td>0.030567</td>\n",
       "    </tr>\n",
       "    <tr>\n",
       "      <th>LF_mechanism_approach3_True</th>\n",
       "      <td>44</td>\n",
       "      <td>0.008767</td>\n",
       "      <td>0.007481</td>\n",
       "      <td>0.003916</td>\n",
       "    </tr>\n",
       "    <tr>\n",
       "      <th>LF_mechanism_approachneg2_True</th>\n",
       "      <td>45</td>\n",
       "      <td>0.052425</td>\n",
       "      <td>0.039626</td>\n",
       "      <td>0.034366</td>\n",
       "    </tr>\n",
       "    <tr>\n",
       "      <th>LF_mechanism_we_also_developed3_True</th>\n",
       "      <td>46</td>\n",
       "      <td>0.000058</td>\n",
       "      <td>0.000000</td>\n",
       "      <td>0.000000</td>\n",
       "    </tr>\n",
       "    <tr>\n",
       "      <th>LF_mechanism_we_also_developedneg2_True</th>\n",
       "      <td>47</td>\n",
       "      <td>0.001520</td>\n",
       "      <td>0.000000</td>\n",
       "      <td>0.000000</td>\n",
       "    </tr>\n",
       "    <tr>\n",
       "      <th>mechanism_by_adv_doing</th>\n",
       "      <td>48</td>\n",
       "      <td>0.026242</td>\n",
       "      <td>0.016306</td>\n",
       "      <td>0.013501</td>\n",
       "    </tr>\n",
       "    <tr>\n",
       "      <th>LF_null_test3_True</th>\n",
       "      <td>49</td>\n",
       "      <td>0.005260</td>\n",
       "      <td>0.004325</td>\n",
       "      <td>0.001636</td>\n",
       "    </tr>\n",
       "    <tr>\n",
       "      <th>LF_null_testneg2_True</th>\n",
       "      <td>50</td>\n",
       "      <td>0.025073</td>\n",
       "      <td>0.014904</td>\n",
       "      <td>0.012157</td>\n",
       "    </tr>\n",
       "    <tr>\n",
       "      <th>LF_null_results3_True</th>\n",
       "      <td>51</td>\n",
       "      <td>0.006078</td>\n",
       "      <td>0.004617</td>\n",
       "      <td>0.001227</td>\n",
       "    </tr>\n",
       "    <tr>\n",
       "      <th>LF_null_resultsneg2_True</th>\n",
       "      <td>52</td>\n",
       "      <td>0.038223</td>\n",
       "      <td>0.031444</td>\n",
       "      <td>0.014319</td>\n",
       "    </tr>\n",
       "    <tr>\n",
       "      <th>LF_null_show3_True</th>\n",
       "      <td>53</td>\n",
       "      <td>0.009117</td>\n",
       "      <td>0.008007</td>\n",
       "      <td>0.003857</td>\n",
       "    </tr>\n",
       "    <tr>\n",
       "      <th>LF_null_showneg2_True</th>\n",
       "      <td>54</td>\n",
       "      <td>0.067329</td>\n",
       "      <td>0.051899</td>\n",
       "      <td>0.036411</td>\n",
       "    </tr>\n",
       "    <tr>\n",
       "      <th>LF_null_indicate_that3_True</th>\n",
       "      <td>55</td>\n",
       "      <td>0.000117</td>\n",
       "      <td>0.000117</td>\n",
       "      <td>0.000000</td>\n",
       "    </tr>\n",
       "    <tr>\n",
       "      <th>LF_null_indicate_thatneg2_True</th>\n",
       "      <td>56</td>\n",
       "      <td>0.001344</td>\n",
       "      <td>0.001344</td>\n",
       "      <td>0.000000</td>\n",
       "    </tr>\n",
       "    <tr>\n",
       "      <th>LF_null_indicates_that3_True</th>\n",
       "      <td>57</td>\n",
       "      <td>0.000000</td>\n",
       "      <td>0.000000</td>\n",
       "      <td>0.000000</td>\n",
       "    </tr>\n",
       "    <tr>\n",
       "      <th>LF_null_indicates_thatneg2_True</th>\n",
       "      <td>58</td>\n",
       "      <td>0.000000</td>\n",
       "      <td>0.000000</td>\n",
       "      <td>0.000000</td>\n",
       "    </tr>\n",
       "  </tbody>\n",
       "</table>\n",
       "</div>"
      ],
      "text/plain": [
       "                                          j  Coverage  Overlaps  Conflicts\n",
       "LF_purpose_TO_VB_neg2_True                0  0.176388  0.147458   0.074401\n",
       "LF_purpose_that_can3_True                 1  0.000701  0.000643   0.000234\n",
       "LF_purpose_that_canneg2_True              2  0.006604  0.006312   0.001636\n",
       "LF_purpose_for_the3_True                  3  0.003390  0.002981   0.001052\n",
       "LF_purpose_for_theneg2_True               4  0.024898  0.020573   0.008416\n",
       "LF_purpose_goal3_True                     5  0.001753  0.001403   0.000526\n",
       "LF_purpose_goalneg2_True                  6  0.012098  0.011572   0.004559\n",
       "LF_purpose_problem3_True                  7  0.006487  0.006487   0.001987\n",
       "LF_purpose_problemneg2_True               8  0.030275  0.025015   0.012274\n",
       "LF_purpose_challenging3_True              9  0.000877  0.000877   0.000175\n",
       "LF_purpose_challengingneg2_True          10  0.005026  0.004968   0.000351\n",
       "LF_purpose_task3_True                    11  0.001929  0.001929   0.000760\n",
       "LF_purpose_taskneg2_True                 12  0.007247  0.005260   0.001929\n",
       "LF_purpose_bottleneck3_True              13  0.000175  0.000117   0.000000\n",
       "LF_purpose_bottleneckneg1_True           14  0.000818  0.000117   0.000000\n",
       "LF_purpose_problemneg1_True              15  0.025073  0.014378   0.007423\n",
       "LF_purpose_challengingneg1_True          16  0.005494  0.003741   0.001753\n",
       "LF_purpose_taskneg1_True                 17  0.010871  0.006487   0.004150\n",
       "purpose_for_doing                        18  0.057218  0.040094   0.027762\n",
       "purpose_to_verb                          19  0.152542  0.130801   0.067037\n",
       "LF_mechanism_PRP_VBP3_True               20  0.015196  0.010871   0.004091\n",
       "LF_mechanism_PRP_VBPneg2_True            21  0.169550  0.120865   0.087142\n",
       "LF_mechanism_PRP_RB_VBP3_True            22  0.001052  0.000351   0.000292\n",
       "LF_mechanism_PRP_RB_VBPneg2_True         23  0.018410  0.009585   0.009234\n",
       "LF_mechanism_we_propose3_True            24  0.001403  0.001344   0.000117\n",
       "LF_mechanism_we_proposeneg2_True         25  0.012916  0.012507   0.007949\n",
       "LF_mechanism_we_develop3_True            26  0.000234  0.000234   0.000117\n",
       "LF_mechanism_we_developneg2_True         27  0.001578  0.001578   0.001403\n",
       "LF_mechanism_we_have_developed3_True     28  0.000058  0.000058   0.000000\n",
       "LF_mechanism_we_have_developedneg2_True  29  0.001110  0.001110   0.000935\n",
       "LF_mechanism_we_also_propose3_True       30  0.000000  0.000000   0.000000\n",
       "LF_mechanism_we_also_proposeneg2_True    31  0.000000  0.000000   0.000000\n",
       "LF_mechanism_presents_3_True             32  0.001403  0.000818   0.000234\n",
       "LF_mechanism_presents_neg2_True          33  0.019345  0.012098   0.011280\n",
       "LF_mechanism_present_3_True              34  0.002805  0.002221   0.000351\n",
       "LF_mechanism_present_neg2_True           35  0.026710  0.021917   0.011748\n",
       "LF_mechanism_we_use_3_True               36  0.000175  0.000175   0.000000\n",
       "LF_mechanism_we_use_neg2_True            37  0.006371  0.006371   0.000877\n",
       "LF_mechanism_uses_3_True                 38  0.000935  0.000584   0.000234\n",
       "LF_mechanism_uses_neg2_True              39  0.009468  0.006371   0.006020\n",
       "LF_mechanism_using_a_3_True              40  0.000468  0.000351   0.000234\n",
       "LF_mechanism_using_a_neg2_True           41  0.007364  0.006195   0.003448\n",
       "LF_mechanism_method3_True                42  0.009819  0.007832   0.002688\n",
       "LF_mechanism_methodneg2_True             43  0.055698  0.041964   0.030567\n",
       "LF_mechanism_approach3_True              44  0.008767  0.007481   0.003916\n",
       "LF_mechanism_approachneg2_True           45  0.052425  0.039626   0.034366\n",
       "LF_mechanism_we_also_developed3_True     46  0.000058  0.000000   0.000000\n",
       "LF_mechanism_we_also_developedneg2_True  47  0.001520  0.000000   0.000000\n",
       "mechanism_by_adv_doing                   48  0.026242  0.016306   0.013501\n",
       "LF_null_test3_True                       49  0.005260  0.004325   0.001636\n",
       "LF_null_testneg2_True                    50  0.025073  0.014904   0.012157\n",
       "LF_null_results3_True                    51  0.006078  0.004617   0.001227\n",
       "LF_null_resultsneg2_True                 52  0.038223  0.031444   0.014319\n",
       "LF_null_show3_True                       53  0.009117  0.008007   0.003857\n",
       "LF_null_showneg2_True                    54  0.067329  0.051899   0.036411\n",
       "LF_null_indicate_that3_True              55  0.000117  0.000117   0.000000\n",
       "LF_null_indicate_thatneg2_True           56  0.001344  0.001344   0.000000\n",
       "LF_null_indicates_that3_True             57  0.000000  0.000000   0.000000\n",
       "LF_null_indicates_thatneg2_True          58  0.000000  0.000000   0.000000"
      ]
     },
     "execution_count": 63,
     "metadata": {},
     "output_type": "execute_result"
    }
   ],
   "source": [
    "import pandas as pd \n",
    "pd.set_option('display.max_rows', 500)\n",
    "\n",
    "L_train.lf_stats(session)"
   ]
  },
  {
   "cell_type": "code",
   "execution_count": 64,
   "metadata": {
    "scrolled": true
   },
   "outputs": [
    {
     "name": "stdout",
     "output_type": "stream",
     "text": [
      "2018-10-10 17:41:01.286793\n",
      "Compiles variable matrix\n",
      "_compile finished!\n",
      "Compiles variable matrix\n",
      "_compile finished!\n",
      "training finished \n",
      "2018-10-10 17:41:41.159811\n",
      "Finished training generative model, now checking performance against development set labels...\n",
      "Calculating marginals!\n",
      "no exception\n",
      "2018-10-10 17:41:44.366143\n",
      "PP 11817\n",
      "MN 4120\n",
      "NULL 1173\n",
      "amend PP 4963\n",
      "amend MN 4120\n",
      "amend NULL 8027\n"
     ]
    }
   ],
   "source": [
    "# for reg_param in [1e-3]: #[1e-3, 1e-6]:\n",
    "#     for decay in [0.95]: #[1.0,0.95]:\n",
    "#         for step_size_nominator in [0.001]: # [0.01, 0.1, 1]:\n",
    "#             for epochs in [5]: #,10]:#,30,50,100,200,500]:\n",
    "#                 print(\"grid search with L_train\",\"step_size_nominator\",step_size_nominator,\"epochs\",epochs,\"decay\",decay,\"reg_param\",reg_param)\n",
    "\n",
    "                \n",
    "reg_param=1e-3\n",
    "decay=0.95\n",
    "step_size_nominator=0.001\n",
    "epochs=5\n",
    "                        \n",
    "gen_model,train_marginals=get_train_marginals(L_train,threads=18,step_size_nominator=step_size_nominator,epochs=epochs,decay=decay,reg_param=reg_param)\n",
    "assert np.all(train_marginals.sum(axis=1) - np.ones(train_marginals.shape[0]) < 1e-10)\n",
    "\n",
    "winHighlight=train_marginals.argmax(axis=1)\n",
    "print(\"PP\",(winHighlight==0).sum())\n",
    "print(\"MN\",(winHighlight==1).sum())\n",
    "print(\"NULL\",(winHighlight==2).sum())\n",
    "\n",
    "# Amendment!!! winning highligh with default as NULL (the last occurence of largest value)\n",
    "train_marginals_reverse = train_marginals[:,::-1]\n",
    "winHighlight = train_marginals.shape[1] - np.argmax(train_marginals_reverse,axis=1) - 1\n",
    "print(\"amend PP\",(winHighlight==0).sum())\n",
    "print(\"amend MN\",(winHighlight==1).sum())\n",
    "print(\"amend NULL\",(winHighlight==2).sum())\n"
   ]
  },
  {
   "cell_type": "markdown",
   "metadata": {},
   "source": [
    "Let's check if the generative labels makes any sense. -> Seems okay. "
   ]
  },
  {
   "cell_type": "code",
   "execution_count": 65,
   "metadata": {},
   "outputs": [
    {
     "name": "stdout",
     "output_type": "stream",
     "text": [
      "0\n",
      "10000\n",
      "dispatch finished!! \n"
     ]
    },
    {
     "name": "stderr",
     "output_type": "stream",
     "text": [
      "/anaconda3/lib/python3.6/site-packages/matplotlib/pyplot.py:537: RuntimeWarning: More than 20 figures have been opened. Figures created through the pyplot interface (`matplotlib.pyplot.figure`) are retained until explicitly closed and may consume too much memory. (To control this warning, see the rcParam `figure.max_open_warning`).\n",
      "  max_open_warning, RuntimeWarning)\n"
     ]
    },
    {
     "name": "stdout",
     "output_type": "stream",
     "text": [
      "0\n",
      "10000\n",
      "dispatch finished!! \n"
     ]
    },
    {
     "data": {
      "text/plain": [
       "<Figure size 432x288 with 0 Axes>"
      ]
     },
     "metadata": {},
     "output_type": "display_data"
    },
    {
     "data": {
      "text/plain": [
       "<Figure size 2880x504 with 0 Axes>"
      ]
     },
     "metadata": {},
     "output_type": "display_data"
    },
    {
     "data": {
      "text/plain": [
       "<Figure size 2880x504 with 0 Axes>"
      ]
     },
     "metadata": {},
     "output_type": "display_data"
    },
    {
     "data": {
      "text/plain": [
       "<Figure size 2880x504 with 0 Axes>"
      ]
     },
     "metadata": {},
     "output_type": "display_data"
    },
    {
     "data": {
      "text/plain": [
       "<Figure size 2880x504 with 0 Axes>"
      ]
     },
     "metadata": {},
     "output_type": "display_data"
    },
    {
     "data": {
      "text/plain": [
       "<Figure size 2880x504 with 0 Axes>"
      ]
     },
     "metadata": {},
     "output_type": "display_data"
    },
    {
     "data": {
      "text/plain": [
       "<Figure size 2880x504 with 0 Axes>"
      ]
     },
     "metadata": {},
     "output_type": "display_data"
    },
    {
     "data": {
      "text/plain": [
       "<Figure size 2880x504 with 0 Axes>"
      ]
     },
     "metadata": {},
     "output_type": "display_data"
    },
    {
     "data": {
      "text/plain": [
       "<Figure size 2880x504 with 0 Axes>"
      ]
     },
     "metadata": {},
     "output_type": "display_data"
    },
    {
     "data": {
      "text/plain": [
       "<Figure size 2880x504 with 0 Axes>"
      ]
     },
     "metadata": {},
     "output_type": "display_data"
    },
    {
     "data": {
      "text/plain": [
       "<Figure size 2880x504 with 0 Axes>"
      ]
     },
     "metadata": {},
     "output_type": "display_data"
    },
    {
     "data": {
      "text/plain": [
       "<Figure size 2880x504 with 0 Axes>"
      ]
     },
     "metadata": {},
     "output_type": "display_data"
    },
    {
     "data": {
      "text/plain": [
       "<Figure size 2880x504 with 0 Axes>"
      ]
     },
     "metadata": {},
     "output_type": "display_data"
    },
    {
     "data": {
      "text/plain": [
       "<Figure size 2880x504 with 0 Axes>"
      ]
     },
     "metadata": {},
     "output_type": "display_data"
    },
    {
     "data": {
      "text/plain": [
       "<Figure size 2880x504 with 0 Axes>"
      ]
     },
     "metadata": {},
     "output_type": "display_data"
    },
    {
     "data": {
      "text/plain": [
       "<Figure size 2880x504 with 0 Axes>"
      ]
     },
     "metadata": {},
     "output_type": "display_data"
    },
    {
     "data": {
      "text/plain": [
       "<Figure size 2880x504 with 0 Axes>"
      ]
     },
     "metadata": {},
     "output_type": "display_data"
    },
    {
     "data": {
      "text/plain": [
       "<Figure size 2880x504 with 0 Axes>"
      ]
     },
     "metadata": {},
     "output_type": "display_data"
    },
    {
     "data": {
      "text/plain": [
       "<Figure size 2880x504 with 0 Axes>"
      ]
     },
     "metadata": {},
     "output_type": "display_data"
    },
    {
     "data": {
      "text/plain": [
       "<Figure size 2880x504 with 0 Axes>"
      ]
     },
     "metadata": {},
     "output_type": "display_data"
    },
    {
     "data": {
      "text/plain": [
       "<Figure size 2880x504 with 0 Axes>"
      ]
     },
     "metadata": {},
     "output_type": "display_data"
    },
    {
     "data": {
      "text/plain": [
       "<Figure size 2880x504 with 0 Axes>"
      ]
     },
     "metadata": {},
     "output_type": "display_data"
    },
    {
     "data": {
      "text/plain": [
       "<Figure size 2880x504 with 0 Axes>"
      ]
     },
     "metadata": {},
     "output_type": "display_data"
    },
    {
     "data": {
      "text/plain": [
       "<Figure size 2880x504 with 0 Axes>"
      ]
     },
     "metadata": {},
     "output_type": "display_data"
    },
    {
     "data": {
      "text/plain": [
       "<Figure size 2880x504 with 0 Axes>"
      ]
     },
     "metadata": {},
     "output_type": "display_data"
    },
    {
     "data": {
      "text/plain": [
       "<Figure size 2880x504 with 0 Axes>"
      ]
     },
     "metadata": {},
     "output_type": "display_data"
    },
    {
     "data": {
      "text/plain": [
       "<Figure size 2880x504 with 0 Axes>"
      ]
     },
     "metadata": {},
     "output_type": "display_data"
    },
    {
     "data": {
      "text/plain": [
       "<Figure size 2880x504 with 0 Axes>"
      ]
     },
     "metadata": {},
     "output_type": "display_data"
    },
    {
     "data": {
      "text/plain": [
       "<Figure size 2880x504 with 0 Axes>"
      ]
     },
     "metadata": {},
     "output_type": "display_data"
    },
    {
     "data": {
      "text/plain": [
       "<Figure size 2880x504 with 0 Axes>"
      ]
     },
     "metadata": {},
     "output_type": "display_data"
    },
    {
     "data": {
      "text/plain": [
       "<Figure size 2880x504 with 0 Axes>"
      ]
     },
     "metadata": {},
     "output_type": "display_data"
    },
    {
     "data": {
      "text/plain": [
       "<Figure size 2880x504 with 0 Axes>"
      ]
     },
     "metadata": {},
     "output_type": "display_data"
    },
    {
     "data": {
      "text/plain": [
       "<Figure size 2880x504 with 0 Axes>"
      ]
     },
     "metadata": {},
     "output_type": "display_data"
    },
    {
     "data": {
      "text/plain": [
       "<Figure size 2880x504 with 0 Axes>"
      ]
     },
     "metadata": {},
     "output_type": "display_data"
    },
    {
     "data": {
      "text/plain": [
       "<Figure size 2880x504 with 0 Axes>"
      ]
     },
     "metadata": {},
     "output_type": "display_data"
    },
    {
     "data": {
      "text/plain": [
       "<Figure size 2880x504 with 0 Axes>"
      ]
     },
     "metadata": {},
     "output_type": "display_data"
    },
    {
     "data": {
      "text/plain": [
       "<Figure size 2880x504 with 0 Axes>"
      ]
     },
     "metadata": {},
     "output_type": "display_data"
    },
    {
     "data": {
      "text/plain": [
       "<Figure size 2880x504 with 0 Axes>"
      ]
     },
     "metadata": {},
     "output_type": "display_data"
    },
    {
     "data": {
      "text/plain": [
       "<Figure size 2880x504 with 0 Axes>"
      ]
     },
     "metadata": {},
     "output_type": "display_data"
    },
    {
     "data": {
      "text/plain": [
       "<Figure size 2880x504 with 0 Axes>"
      ]
     },
     "metadata": {},
     "output_type": "display_data"
    },
    {
     "data": {
      "text/plain": [
       "<Figure size 2880x504 with 0 Axes>"
      ]
     },
     "metadata": {},
     "output_type": "display_data"
    },
    {
     "data": {
      "text/plain": [
       "<Figure size 2880x504 with 0 Axes>"
      ]
     },
     "metadata": {},
     "output_type": "display_data"
    },
    {
     "data": {
      "text/plain": [
       "<Figure size 2880x504 with 0 Axes>"
      ]
     },
     "metadata": {},
     "output_type": "display_data"
    },
    {
     "data": {
      "text/plain": [
       "<Figure size 2880x504 with 0 Axes>"
      ]
     },
     "metadata": {},
     "output_type": "display_data"
    },
    {
     "data": {
      "text/plain": [
       "<Figure size 2880x504 with 0 Axes>"
      ]
     },
     "metadata": {},
     "output_type": "display_data"
    },
    {
     "data": {
      "text/plain": [
       "<Figure size 2880x504 with 0 Axes>"
      ]
     },
     "metadata": {},
     "output_type": "display_data"
    },
    {
     "data": {
      "text/plain": [
       "<Figure size 2880x504 with 0 Axes>"
      ]
     },
     "metadata": {},
     "output_type": "display_data"
    },
    {
     "data": {
      "text/plain": [
       "<Figure size 2880x504 with 0 Axes>"
      ]
     },
     "metadata": {},
     "output_type": "display_data"
    },
    {
     "data": {
      "text/plain": [
       "<Figure size 2880x504 with 0 Axes>"
      ]
     },
     "metadata": {},
     "output_type": "display_data"
    },
    {
     "data": {
      "text/plain": [
       "<Figure size 2880x504 with 0 Axes>"
      ]
     },
     "metadata": {},
     "output_type": "display_data"
    },
    {
     "data": {
      "text/plain": [
       "<Figure size 2880x504 with 0 Axes>"
      ]
     },
     "metadata": {},
     "output_type": "display_data"
    },
    {
     "data": {
      "text/plain": [
       "<Figure size 2880x504 with 0 Axes>"
      ]
     },
     "metadata": {},
     "output_type": "display_data"
    },
    {
     "data": {
      "text/plain": [
       "<Figure size 2880x504 with 0 Axes>"
      ]
     },
     "metadata": {},
     "output_type": "display_data"
    },
    {
     "data": {
      "text/plain": [
       "<Figure size 2880x504 with 0 Axes>"
      ]
     },
     "metadata": {},
     "output_type": "display_data"
    },
    {
     "data": {
      "text/plain": [
       "<Figure size 2880x504 with 0 Axes>"
      ]
     },
     "metadata": {},
     "output_type": "display_data"
    },
    {
     "data": {
      "text/plain": [
       "<Figure size 2880x504 with 0 Axes>"
      ]
     },
     "metadata": {},
     "output_type": "display_data"
    },
    {
     "data": {
      "text/plain": [
       "<Figure size 2880x504 with 0 Axes>"
      ]
     },
     "metadata": {},
     "output_type": "display_data"
    },
    {
     "data": {
      "text/plain": [
       "<Figure size 2880x504 with 0 Axes>"
      ]
     },
     "metadata": {},
     "output_type": "display_data"
    },
    {
     "data": {
      "text/plain": [
       "<Figure size 2880x504 with 0 Axes>"
      ]
     },
     "metadata": {},
     "output_type": "display_data"
    },
    {
     "data": {
      "text/plain": [
       "<Figure size 2880x504 with 0 Axes>"
      ]
     },
     "metadata": {},
     "output_type": "display_data"
    },
    {
     "data": {
      "text/plain": [
       "<Figure size 2880x504 with 0 Axes>"
      ]
     },
     "metadata": {},
     "output_type": "display_data"
    },
    {
     "data": {
      "text/plain": [
       "<Figure size 2880x504 with 0 Axes>"
      ]
     },
     "metadata": {},
     "output_type": "display_data"
    },
    {
     "data": {
      "text/plain": [
       "<Figure size 2880x504 with 0 Axes>"
      ]
     },
     "metadata": {},
     "output_type": "display_data"
    },
    {
     "data": {
      "text/plain": [
       "<Figure size 2880x504 with 0 Axes>"
      ]
     },
     "metadata": {},
     "output_type": "display_data"
    },
    {
     "data": {
      "text/plain": [
       "<Figure size 2880x504 with 0 Axes>"
      ]
     },
     "metadata": {},
     "output_type": "display_data"
    },
    {
     "data": {
      "text/plain": [
       "<Figure size 2880x504 with 0 Axes>"
      ]
     },
     "metadata": {},
     "output_type": "display_data"
    },
    {
     "data": {
      "text/plain": [
       "<Figure size 2880x504 with 0 Axes>"
      ]
     },
     "metadata": {},
     "output_type": "display_data"
    },
    {
     "data": {
      "text/plain": [
       "<Figure size 2880x504 with 0 Axes>"
      ]
     },
     "metadata": {},
     "output_type": "display_data"
    },
    {
     "data": {
      "text/plain": [
       "<Figure size 2880x504 with 0 Axes>"
      ]
     },
     "metadata": {},
     "output_type": "display_data"
    },
    {
     "data": {
      "text/plain": [
       "<Figure size 2880x504 with 0 Axes>"
      ]
     },
     "metadata": {},
     "output_type": "display_data"
    },
    {
     "data": {
      "text/plain": [
       "<Figure size 2880x504 with 0 Axes>"
      ]
     },
     "metadata": {},
     "output_type": "display_data"
    },
    {
     "data": {
      "text/plain": [
       "<Figure size 2880x504 with 0 Axes>"
      ]
     },
     "metadata": {},
     "output_type": "display_data"
    },
    {
     "data": {
      "text/plain": [
       "<Figure size 2880x504 with 0 Axes>"
      ]
     },
     "metadata": {},
     "output_type": "display_data"
    },
    {
     "data": {
      "text/plain": [
       "<Figure size 2880x504 with 0 Axes>"
      ]
     },
     "metadata": {},
     "output_type": "display_data"
    },
    {
     "data": {
      "text/plain": [
       "<Figure size 2880x504 with 0 Axes>"
      ]
     },
     "metadata": {},
     "output_type": "display_data"
    },
    {
     "data": {
      "text/plain": [
       "<Figure size 2880x504 with 0 Axes>"
      ]
     },
     "metadata": {},
     "output_type": "display_data"
    },
    {
     "data": {
      "text/plain": [
       "<Figure size 2880x504 with 0 Axes>"
      ]
     },
     "metadata": {},
     "output_type": "display_data"
    },
    {
     "data": {
      "text/plain": [
       "<Figure size 2880x504 with 0 Axes>"
      ]
     },
     "metadata": {},
     "output_type": "display_data"
    },
    {
     "data": {
      "text/plain": [
       "<Figure size 2880x504 with 0 Axes>"
      ]
     },
     "metadata": {},
     "output_type": "display_data"
    },
    {
     "data": {
      "text/plain": [
       "<Figure size 2880x504 with 0 Axes>"
      ]
     },
     "metadata": {},
     "output_type": "display_data"
    },
    {
     "data": {
      "text/plain": [
       "<Figure size 2880x504 with 0 Axes>"
      ]
     },
     "metadata": {},
     "output_type": "display_data"
    },
    {
     "data": {
      "text/plain": [
       "<Figure size 2880x504 with 0 Axes>"
      ]
     },
     "metadata": {},
     "output_type": "display_data"
    },
    {
     "data": {
      "text/plain": [
       "<Figure size 2880x504 with 0 Axes>"
      ]
     },
     "metadata": {},
     "output_type": "display_data"
    },
    {
     "data": {
      "text/plain": [
       "<Figure size 2880x504 with 0 Axes>"
      ]
     },
     "metadata": {},
     "output_type": "display_data"
    },
    {
     "data": {
      "text/plain": [
       "<Figure size 2880x504 with 0 Axes>"
      ]
     },
     "metadata": {},
     "output_type": "display_data"
    },
    {
     "data": {
      "text/plain": [
       "<Figure size 2880x504 with 0 Axes>"
      ]
     },
     "metadata": {},
     "output_type": "display_data"
    },
    {
     "data": {
      "text/plain": [
       "<Figure size 2880x504 with 0 Axes>"
      ]
     },
     "metadata": {},
     "output_type": "display_data"
    },
    {
     "data": {
      "text/plain": [
       "<Figure size 2880x504 with 0 Axes>"
      ]
     },
     "metadata": {},
     "output_type": "display_data"
    },
    {
     "data": {
      "text/plain": [
       "<Figure size 2880x504 with 0 Axes>"
      ]
     },
     "metadata": {},
     "output_type": "display_data"
    },
    {
     "data": {
      "text/plain": [
       "<Figure size 2880x504 with 0 Axes>"
      ]
     },
     "metadata": {},
     "output_type": "display_data"
    },
    {
     "data": {
      "text/plain": [
       "<Figure size 2880x504 with 0 Axes>"
      ]
     },
     "metadata": {},
     "output_type": "display_data"
    },
    {
     "data": {
      "text/plain": [
       "<Figure size 2880x504 with 0 Axes>"
      ]
     },
     "metadata": {},
     "output_type": "display_data"
    },
    {
     "data": {
      "text/plain": [
       "<Figure size 2880x504 with 0 Axes>"
      ]
     },
     "metadata": {},
     "output_type": "display_data"
    },
    {
     "data": {
      "text/plain": [
       "<Figure size 2880x504 with 0 Axes>"
      ]
     },
     "metadata": {},
     "output_type": "display_data"
    },
    {
     "data": {
      "text/plain": [
       "<Figure size 2880x504 with 0 Axes>"
      ]
     },
     "metadata": {},
     "output_type": "display_data"
    },
    {
     "data": {
      "text/plain": [
       "<Figure size 2880x504 with 0 Axes>"
      ]
     },
     "metadata": {},
     "output_type": "display_data"
    },
    {
     "data": {
      "text/plain": [
       "<Figure size 2880x504 with 0 Axes>"
      ]
     },
     "metadata": {},
     "output_type": "display_data"
    },
    {
     "data": {
      "text/plain": [
       "<Figure size 2880x504 with 0 Axes>"
      ]
     },
     "metadata": {},
     "output_type": "display_data"
    },
    {
     "data": {
      "text/plain": [
       "<Figure size 2880x504 with 0 Axes>"
      ]
     },
     "metadata": {},
     "output_type": "display_data"
    },
    {
     "data": {
      "text/plain": [
       "<Figure size 2880x504 with 0 Axes>"
      ]
     },
     "metadata": {},
     "output_type": "display_data"
    },
    {
     "data": {
      "text/plain": [
       "<Figure size 2880x504 with 0 Axes>"
      ]
     },
     "metadata": {},
     "output_type": "display_data"
    },
    {
     "data": {
      "text/plain": [
       "<Figure size 2880x504 with 0 Axes>"
      ]
     },
     "metadata": {},
     "output_type": "display_data"
    },
    {
     "data": {
      "text/plain": [
       "<Figure size 2880x504 with 0 Axes>"
      ]
     },
     "metadata": {},
     "output_type": "display_data"
    },
    {
     "data": {
      "text/plain": [
       "<Figure size 2880x504 with 0 Axes>"
      ]
     },
     "metadata": {},
     "output_type": "display_data"
    },
    {
     "data": {
      "text/plain": [
       "<Figure size 2880x504 with 0 Axes>"
      ]
     },
     "metadata": {},
     "output_type": "display_data"
    },
    {
     "data": {
      "text/plain": [
       "<Figure size 2880x504 with 0 Axes>"
      ]
     },
     "metadata": {},
     "output_type": "display_data"
    },
    {
     "data": {
      "text/plain": [
       "<Figure size 2880x504 with 0 Axes>"
      ]
     },
     "metadata": {},
     "output_type": "display_data"
    },
    {
     "data": {
      "text/plain": [
       "<Figure size 2880x504 with 0 Axes>"
      ]
     },
     "metadata": {},
     "output_type": "display_data"
    },
    {
     "data": {
      "text/plain": [
       "<Figure size 2880x504 with 0 Axes>"
      ]
     },
     "metadata": {},
     "output_type": "display_data"
    },
    {
     "data": {
      "text/plain": [
       "<Figure size 2880x504 with 0 Axes>"
      ]
     },
     "metadata": {},
     "output_type": "display_data"
    },
    {
     "data": {
      "text/plain": [
       "<Figure size 2880x504 with 0 Axes>"
      ]
     },
     "metadata": {},
     "output_type": "display_data"
    },
    {
     "data": {
      "text/plain": [
       "<Figure size 2880x504 with 0 Axes>"
      ]
     },
     "metadata": {},
     "output_type": "display_data"
    },
    {
     "data": {
      "text/plain": [
       "<Figure size 2880x504 with 0 Axes>"
      ]
     },
     "metadata": {},
     "output_type": "display_data"
    },
    {
     "data": {
      "text/plain": [
       "<Figure size 2880x504 with 0 Axes>"
      ]
     },
     "metadata": {},
     "output_type": "display_data"
    },
    {
     "data": {
      "text/plain": [
       "<Figure size 2880x504 with 0 Axes>"
      ]
     },
     "metadata": {},
     "output_type": "display_data"
    },
    {
     "data": {
      "text/plain": [
       "<Figure size 2880x504 with 0 Axes>"
      ]
     },
     "metadata": {},
     "output_type": "display_data"
    },
    {
     "data": {
      "text/plain": [
       "<Figure size 2880x504 with 0 Axes>"
      ]
     },
     "metadata": {},
     "output_type": "display_data"
    },
    {
     "data": {
      "text/plain": [
       "<Figure size 2880x504 with 0 Axes>"
      ]
     },
     "metadata": {},
     "output_type": "display_data"
    },
    {
     "data": {
      "text/plain": [
       "<Figure size 2880x504 with 0 Axes>"
      ]
     },
     "metadata": {},
     "output_type": "display_data"
    },
    {
     "data": {
      "text/plain": [
       "<Figure size 2880x504 with 0 Axes>"
      ]
     },
     "metadata": {},
     "output_type": "display_data"
    },
    {
     "data": {
      "text/plain": [
       "<Figure size 2880x504 with 0 Axes>"
      ]
     },
     "metadata": {},
     "output_type": "display_data"
    },
    {
     "data": {
      "text/plain": [
       "<Figure size 2880x504 with 0 Axes>"
      ]
     },
     "metadata": {},
     "output_type": "display_data"
    },
    {
     "data": {
      "text/plain": [
       "<Figure size 2880x504 with 0 Axes>"
      ]
     },
     "metadata": {},
     "output_type": "display_data"
    },
    {
     "data": {
      "text/plain": [
       "<Figure size 2880x504 with 0 Axes>"
      ]
     },
     "metadata": {},
     "output_type": "display_data"
    },
    {
     "data": {
      "text/plain": [
       "<Figure size 2880x504 with 0 Axes>"
      ]
     },
     "metadata": {},
     "output_type": "display_data"
    },
    {
     "data": {
      "text/plain": [
       "<Figure size 2880x504 with 0 Axes>"
      ]
     },
     "metadata": {},
     "output_type": "display_data"
    },
    {
     "data": {
      "text/plain": [
       "<Figure size 2880x504 with 0 Axes>"
      ]
     },
     "metadata": {},
     "output_type": "display_data"
    },
    {
     "data": {
      "text/plain": [
       "<Figure size 2880x504 with 0 Axes>"
      ]
     },
     "metadata": {},
     "output_type": "display_data"
    },
    {
     "data": {
      "text/plain": [
       "<Figure size 2880x504 with 0 Axes>"
      ]
     },
     "metadata": {},
     "output_type": "display_data"
    },
    {
     "data": {
      "text/plain": [
       "<Figure size 2880x504 with 0 Axes>"
      ]
     },
     "metadata": {},
     "output_type": "display_data"
    },
    {
     "data": {
      "text/plain": [
       "<Figure size 2880x504 with 0 Axes>"
      ]
     },
     "metadata": {},
     "output_type": "display_data"
    },
    {
     "data": {
      "text/plain": [
       "<Figure size 2880x504 with 0 Axes>"
      ]
     },
     "metadata": {},
     "output_type": "display_data"
    },
    {
     "data": {
      "text/plain": [
       "<Figure size 2880x504 with 0 Axes>"
      ]
     },
     "metadata": {},
     "output_type": "display_data"
    },
    {
     "data": {
      "text/plain": [
       "<Figure size 2880x504 with 0 Axes>"
      ]
     },
     "metadata": {},
     "output_type": "display_data"
    },
    {
     "data": {
      "text/plain": [
       "<Figure size 2880x504 with 0 Axes>"
      ]
     },
     "metadata": {},
     "output_type": "display_data"
    },
    {
     "data": {
      "text/plain": [
       "<Figure size 2880x504 with 0 Axes>"
      ]
     },
     "metadata": {},
     "output_type": "display_data"
    },
    {
     "data": {
      "text/plain": [
       "<Figure size 2880x504 with 0 Axes>"
      ]
     },
     "metadata": {},
     "output_type": "display_data"
    },
    {
     "data": {
      "text/plain": [
       "<Figure size 2880x504 with 0 Axes>"
      ]
     },
     "metadata": {},
     "output_type": "display_data"
    },
    {
     "data": {
      "text/plain": [
       "<Figure size 2880x504 with 0 Axes>"
      ]
     },
     "metadata": {},
     "output_type": "display_data"
    },
    {
     "data": {
      "text/plain": [
       "<Figure size 2880x504 with 0 Axes>"
      ]
     },
     "metadata": {},
     "output_type": "display_data"
    },
    {
     "data": {
      "text/plain": [
       "<Figure size 2880x504 with 0 Axes>"
      ]
     },
     "metadata": {},
     "output_type": "display_data"
    },
    {
     "data": {
      "text/plain": [
       "<Figure size 2880x504 with 0 Axes>"
      ]
     },
     "metadata": {},
     "output_type": "display_data"
    },
    {
     "data": {
      "text/plain": [
       "<Figure size 2880x504 with 0 Axes>"
      ]
     },
     "metadata": {},
     "output_type": "display_data"
    },
    {
     "data": {
      "text/plain": [
       "<Figure size 2880x504 with 0 Axes>"
      ]
     },
     "metadata": {},
     "output_type": "display_data"
    },
    {
     "data": {
      "text/plain": [
       "<Figure size 2880x504 with 0 Axes>"
      ]
     },
     "metadata": {},
     "output_type": "display_data"
    },
    {
     "data": {
      "text/plain": [
       "<Figure size 2880x504 with 0 Axes>"
      ]
     },
     "metadata": {},
     "output_type": "display_data"
    },
    {
     "data": {
      "text/plain": [
       "<Figure size 2880x504 with 0 Axes>"
      ]
     },
     "metadata": {},
     "output_type": "display_data"
    },
    {
     "data": {
      "text/plain": [
       "<Figure size 2880x504 with 0 Axes>"
      ]
     },
     "metadata": {},
     "output_type": "display_data"
    },
    {
     "data": {
      "text/plain": [
       "<Figure size 2880x504 with 0 Axes>"
      ]
     },
     "metadata": {},
     "output_type": "display_data"
    },
    {
     "data": {
      "text/plain": [
       "<Figure size 2880x504 with 0 Axes>"
      ]
     },
     "metadata": {},
     "output_type": "display_data"
    },
    {
     "data": {
      "text/plain": [
       "<Figure size 2880x504 with 0 Axes>"
      ]
     },
     "metadata": {},
     "output_type": "display_data"
    },
    {
     "data": {
      "text/plain": [
       "<Figure size 2880x504 with 0 Axes>"
      ]
     },
     "metadata": {},
     "output_type": "display_data"
    },
    {
     "data": {
      "text/plain": [
       "<Figure size 2880x504 with 0 Axes>"
      ]
     },
     "metadata": {},
     "output_type": "display_data"
    },
    {
     "data": {
      "text/plain": [
       "<Figure size 2880x504 with 0 Axes>"
      ]
     },
     "metadata": {},
     "output_type": "display_data"
    },
    {
     "data": {
      "text/plain": [
       "<Figure size 2880x504 with 0 Axes>"
      ]
     },
     "metadata": {},
     "output_type": "display_data"
    },
    {
     "data": {
      "text/plain": [
       "<Figure size 2880x504 with 0 Axes>"
      ]
     },
     "metadata": {},
     "output_type": "display_data"
    },
    {
     "data": {
      "text/plain": [
       "<Figure size 2880x504 with 0 Axes>"
      ]
     },
     "metadata": {},
     "output_type": "display_data"
    },
    {
     "data": {
      "text/plain": [
       "<Figure size 2880x504 with 0 Axes>"
      ]
     },
     "metadata": {},
     "output_type": "display_data"
    },
    {
     "data": {
      "text/plain": [
       "<Figure size 2880x504 with 0 Axes>"
      ]
     },
     "metadata": {},
     "output_type": "display_data"
    },
    {
     "data": {
      "text/plain": [
       "<Figure size 2880x504 with 0 Axes>"
      ]
     },
     "metadata": {},
     "output_type": "display_data"
    },
    {
     "data": {
      "text/plain": [
       "<Figure size 2880x504 with 0 Axes>"
      ]
     },
     "metadata": {},
     "output_type": "display_data"
    },
    {
     "data": {
      "text/plain": [
       "<Figure size 2880x504 with 0 Axes>"
      ]
     },
     "metadata": {},
     "output_type": "display_data"
    },
    {
     "data": {
      "text/plain": [
       "<Figure size 2880x504 with 0 Axes>"
      ]
     },
     "metadata": {},
     "output_type": "display_data"
    },
    {
     "data": {
      "text/plain": [
       "<Figure size 2880x504 with 0 Axes>"
      ]
     },
     "metadata": {},
     "output_type": "display_data"
    },
    {
     "data": {
      "text/plain": [
       "<Figure size 2880x504 with 0 Axes>"
      ]
     },
     "metadata": {},
     "output_type": "display_data"
    },
    {
     "data": {
      "text/plain": [
       "<Figure size 2880x504 with 0 Axes>"
      ]
     },
     "metadata": {},
     "output_type": "display_data"
    },
    {
     "data": {
      "text/plain": [
       "<Figure size 2880x504 with 0 Axes>"
      ]
     },
     "metadata": {},
     "output_type": "display_data"
    },
    {
     "data": {
      "text/plain": [
       "<Figure size 2880x504 with 0 Axes>"
      ]
     },
     "metadata": {},
     "output_type": "display_data"
    },
    {
     "data": {
      "text/plain": [
       "<Figure size 2880x504 with 0 Axes>"
      ]
     },
     "metadata": {},
     "output_type": "display_data"
    },
    {
     "data": {
      "text/plain": [
       "<Figure size 2880x504 with 0 Axes>"
      ]
     },
     "metadata": {},
     "output_type": "display_data"
    },
    {
     "data": {
      "text/plain": [
       "<Figure size 2880x504 with 0 Axes>"
      ]
     },
     "metadata": {},
     "output_type": "display_data"
    },
    {
     "data": {
      "text/plain": [
       "<Figure size 2880x504 with 0 Axes>"
      ]
     },
     "metadata": {},
     "output_type": "display_data"
    },
    {
     "data": {
      "text/plain": [
       "<Figure size 2880x504 with 0 Axes>"
      ]
     },
     "metadata": {},
     "output_type": "display_data"
    },
    {
     "data": {
      "text/plain": [
       "<Figure size 2880x504 with 0 Axes>"
      ]
     },
     "metadata": {},
     "output_type": "display_data"
    },
    {
     "data": {
      "text/plain": [
       "<Figure size 2880x504 with 0 Axes>"
      ]
     },
     "metadata": {},
     "output_type": "display_data"
    },
    {
     "data": {
      "text/plain": [
       "<Figure size 2880x504 with 0 Axes>"
      ]
     },
     "metadata": {},
     "output_type": "display_data"
    },
    {
     "data": {
      "text/plain": [
       "<Figure size 2880x504 with 0 Axes>"
      ]
     },
     "metadata": {},
     "output_type": "display_data"
    },
    {
     "data": {
      "text/plain": [
       "<Figure size 2880x504 with 0 Axes>"
      ]
     },
     "metadata": {},
     "output_type": "display_data"
    },
    {
     "data": {
      "text/plain": [
       "<Figure size 2880x504 with 0 Axes>"
      ]
     },
     "metadata": {},
     "output_type": "display_data"
    },
    {
     "data": {
      "text/plain": [
       "<Figure size 2880x504 with 0 Axes>"
      ]
     },
     "metadata": {},
     "output_type": "display_data"
    },
    {
     "data": {
      "text/plain": [
       "<Figure size 2880x504 with 0 Axes>"
      ]
     },
     "metadata": {},
     "output_type": "display_data"
    },
    {
     "data": {
      "text/plain": [
       "<Figure size 2880x504 with 0 Axes>"
      ]
     },
     "metadata": {},
     "output_type": "display_data"
    },
    {
     "data": {
      "text/plain": [
       "<Figure size 2880x504 with 0 Axes>"
      ]
     },
     "metadata": {},
     "output_type": "display_data"
    },
    {
     "data": {
      "text/plain": [
       "<Figure size 2880x504 with 0 Axes>"
      ]
     },
     "metadata": {},
     "output_type": "display_data"
    },
    {
     "data": {
      "text/plain": [
       "<Figure size 2880x504 with 0 Axes>"
      ]
     },
     "metadata": {},
     "output_type": "display_data"
    },
    {
     "data": {
      "text/plain": [
       "<Figure size 2880x504 with 0 Axes>"
      ]
     },
     "metadata": {},
     "output_type": "display_data"
    },
    {
     "data": {
      "text/plain": [
       "<Figure size 2880x504 with 0 Axes>"
      ]
     },
     "metadata": {},
     "output_type": "display_data"
    },
    {
     "data": {
      "text/plain": [
       "<Figure size 2880x504 with 0 Axes>"
      ]
     },
     "metadata": {},
     "output_type": "display_data"
    },
    {
     "data": {
      "text/plain": [
       "<Figure size 2880x504 with 0 Axes>"
      ]
     },
     "metadata": {},
     "output_type": "display_data"
    },
    {
     "data": {
      "text/plain": [
       "<Figure size 2880x504 with 0 Axes>"
      ]
     },
     "metadata": {},
     "output_type": "display_data"
    },
    {
     "data": {
      "text/plain": [
       "<Figure size 2880x504 with 0 Axes>"
      ]
     },
     "metadata": {},
     "output_type": "display_data"
    },
    {
     "data": {
      "text/plain": [
       "<Figure size 2880x504 with 0 Axes>"
      ]
     },
     "metadata": {},
     "output_type": "display_data"
    },
    {
     "data": {
      "text/plain": [
       "<Figure size 2880x504 with 0 Axes>"
      ]
     },
     "metadata": {},
     "output_type": "display_data"
    },
    {
     "data": {
      "text/plain": [
       "<Figure size 2880x504 with 0 Axes>"
      ]
     },
     "metadata": {},
     "output_type": "display_data"
    },
    {
     "data": {
      "text/plain": [
       "<Figure size 2880x504 with 0 Axes>"
      ]
     },
     "metadata": {},
     "output_type": "display_data"
    },
    {
     "data": {
      "text/plain": [
       "<Figure size 2880x504 with 0 Axes>"
      ]
     },
     "metadata": {},
     "output_type": "display_data"
    },
    {
     "data": {
      "text/plain": [
       "<Figure size 2880x504 with 0 Axes>"
      ]
     },
     "metadata": {},
     "output_type": "display_data"
    },
    {
     "data": {
      "text/plain": [
       "<Figure size 2880x504 with 0 Axes>"
      ]
     },
     "metadata": {},
     "output_type": "display_data"
    },
    {
     "data": {
      "text/plain": [
       "<Figure size 2880x504 with 0 Axes>"
      ]
     },
     "metadata": {},
     "output_type": "display_data"
    },
    {
     "data": {
      "text/plain": [
       "<Figure size 2880x504 with 0 Axes>"
      ]
     },
     "metadata": {},
     "output_type": "display_data"
    },
    {
     "data": {
      "image/png": "[encoded data removed]",
      "text/plain": [
       "<Figure size 2880x504 with 2 Axes>"
      ]
     },
     "metadata": {},
     "output_type": "display_data"
    }
   ],
   "source": [
    "from collections import defaultdict\n",
    "import matplotlib.pyplot as plt\n",
    "import seaborn as sns\n",
    "import os \n",
    "\n",
    "def pad_reshape(A,width,isFloat=False):\n",
    "    B=np.empty([1,int(A.shape[1]/width+1)*width],dtype=object)\n",
    "    if isFloat:\n",
    "        B=np.zeros([1,int(A.shape[1]/width+1)*width])\n",
    "        B[:,:A.shape[1]]=A\n",
    "    else:\n",
    "        B[:,:A.shape[1]]=A\n",
    "        B[:,A.shape[1]:]=\"\"\n",
    "    return B.reshape(-1,width)\n",
    "    \n",
    "def visualize_word_level(tag,unigram_segments,score_list,directory=\"data/word_level_tag_visualization\"):\n",
    "    doc_dict=defaultdict(lambda:[])\n",
    "\n",
    "    pair_list=list(zip(unigram_segments,score_list))\n",
    "\n",
    "    for ind,pair in enumerate(pair_list):\n",
    "        if ind%10000==0:\n",
    "            print(ind)\n",
    "        docid=pair[0].get_parent().get_parent().name\n",
    "        doc_dict[docid]+=[pair]\n",
    "\n",
    "    print(\"dispatch finished!! \")\n",
    "\n",
    "    for docid in doc_dict:\n",
    "        plt.clf()\n",
    "        doc_dict[docid]=sorted(doc_dict[docid], key=lambda pair: (pair[0].get_parent().position, pair[0].get_contexts()[0].get_word_start()))\n",
    "        ordered_word_score_list=[(pair[0].get_parent().text[pair[0].unigram_cue.char_start:pair[0].unigram_cue.char_end+1], pair[1]) for pair in doc_dict[docid]]\n",
    "        df=pd.DataFrame.from_records(ordered_word_score_list,columns=['word','score'])\n",
    "        fig, ax = plt.subplots(figsize=(40,7))  \n",
    "        width=15\n",
    "        sns.heatmap(pad_reshape(np.asarray(df[['score']]).reshape(1,-1),width,isFloat=True), annot=pad_reshape(np.asarray(df[['word']]).reshape(1,-1),width),fmt='',yticklabels=False,xticklabels=False,ax=ax,annot_kws={\"size\": 15})\n",
    "        plt.savefig(os.path.join(directory,\"run\",docid+\"_\"+tag))\n",
    "  \n",
    "\n",
    "visualize_word_level(\"PP\",unigram_segments,list(train_marginals[:,0].reshape(-1))) \n",
    "visualize_word_level(\"MN\",unigram_segments,list(train_marginals[:,1].reshape(-1)))\n",
    "    "
   ]
  },
  {
   "cell_type": "code",
   "execution_count": null,
   "metadata": {},
   "outputs": [],
   "source": []
  },
  {
   "cell_type": "code",
   "execution_count": 16,
   "metadata": {},
   "outputs": [
    {
     "name": "stdout",
     "output_type": "stream",
     "text": [
      "top purpose words \n",
      "\n",
      "\n",
      "0\tWord\tto\n",
      "Sentence\tIn our register allocation method, we construct an extended conflict graph (ECG) whose vertices are variables and the weight of each edge shows the cost of assigning two endpoint variables of the edge to a register.\t0.9999999999999898\n",
      "\n",
      "1\tWord\tof\n",
      "Sentence\tThis paper attempts to lay a firmer foundtion for a theory of these problems.\t0.9999999999999851\n",
      "\n",
      "2\tWord\tat\n",
      "Sentence\tTaking the midpoint of the untransformed confidence interval as our point estimator of the expected simulation response at the selected factor-level combination and approximating the variance of this point estimator via the delta method, we formulate an approximate two-sample Student <i>t</i>-test for validating our metamodel-based estimator versus the results of making independent runs of the simulation at the selected factor-level combination.\t0.9999999999999769\n",
      "\n",
      "3\tWord\tin\n",
      "Sentence\tBased on this scenario, this paper proposes an approach with the purpose of supporting the unique or combined selection of MBT techniques for a given software project considering two aspects: the adequacy level between MBT techniques and the software project characteristics and impact of more than one MBT technique in some testing process variables.\t0.9999999999999769\n",
      "\n",
      "4\tWord\tsimulation\n",
      "Sentence\tTaking the midpoint of the untransformed confidence interval as our point estimator of the expected simulation response at the selected factor-level combination and approximating the variance of this point estimator via the delta method, we formulate an approximate two-sample Student <i>t</i>-test for validating our metamodel-based estimator versus the results of making independent runs of the simulation at the selected factor-level combination.\t0.9999999999999721\n",
      "\n",
      "5\tWord\tof\n",
      "Sentence\tAfterwards, a decision tree, based on the Food and Agriculture Organization (FAO) soil texture classification scheme, was developed to determine the soil texture for each pixel of the hyperspectral airborne data.\t0.9999999999999704\n",
      "\n",
      "6\tWord\tof\n",
      "Sentence\t” Many are requests to identify the city for a publisher of a journal or book.\t0.9999999999999704\n",
      "\n",
      "7\tWord\tpublisher\n",
      "Sentence\t” Many are requests to identify the city for a publisher of a journal or book.\t0.9999999999999643\n",
      "\n",
      "8\tWord\ta\n",
      "Sentence\tIn our register allocation method, we construct an extended conflict graph (ECG) whose vertices are variables and the weight of each edge shows the cost of assigning two endpoint variables of the edge to a register.\t0.9999999999988786\n",
      "\n",
      "9\tWord\tregister\n",
      "Sentence\tIn our register allocation method, we construct an extended conflict graph (ECG) whose vertices are variables and the weight of each edge shows the cost of assigning two endpoint variables of the edge to a register.\t0.9999999999988786\n",
      "\n",
      "\n",
      "\n",
      "top mechanism words \n",
      "\n",
      "\n",
      "0\tWord\tThis\n",
      "Sentence\tThis paper deals with the autonomous navigation of a ducted fan vertical take off and landing (VTOL) unmanned aerial vehicle (UAV) in constrained environment.\t0.3333333333333333\n",
      "\n",
      "1\tWord\tmodel\n",
      "Sentence\t1. Proposed testability model\t0.3333333333333333\n",
      "\n",
      "2\tWord\t1\n",
      "Sentence\t1. Proposed testability model\t0.3333333333333333\n",
      "\n",
      "3\tWord\ttestability\n",
      "Sentence\t1. Proposed testability model\t0.3333333333333333\n",
      "\n",
      "4\tWord\t.\n",
      "Sentence\t1. Proposed testability model\t0.3333333333333333\n",
      "\n",
      "5\tWord\tProposed\n",
      "Sentence\t1. Proposed testability model\t0.3333333333333333\n",
      "\n",
      "6\tWord\tpaper\n",
      "Sentence\tA new digital audio watermarking for copyright protection is described in this paper.\t0.3333333333333333\n",
      "\n",
      "7\tWord\tin\n",
      "Sentence\tA new digital audio watermarking for copyright protection is described in this paper.\t0.3333333333333333\n",
      "\n",
      "8\tWord\tthis\n",
      "Sentence\tA new digital audio watermarking for copyright protection is described in this paper.\t0.3333333333333333\n",
      "\n",
      "9\tWord\t.\n",
      "Sentence\tA new digital audio watermarking for copyright protection is described in this paper.\t0.3333333333333333\n"
     ]
    }
   ],
   "source": [
    "pair_list=list(zip(unigram_segments,list(train_marginals[:,0].reshape(-1))))\n",
    "\n",
    "pair_list.sort(key = lambda t: t[1],reverse=True)\n",
    "\n",
    "def get_candidate_text(candidate):\n",
    "    cue=candidate.get_contexts()[0]\n",
    "    return cue.sentence.text[cue.char_start:cue.char_end+1]\n",
    "\n",
    "top_cutoff=10\n",
    "print(\"top purpose words \\n\\n\")\n",
    "print(\"\\n\\n\".join([str(ind)+\"\\tWord\\t\"+get_candidate_text(pair[0])+\"\\n\"+\"Sentence\\t\"+str(pair[0].get_parent().text)+\"\\t\"+str(pair[1]) for ind,pair in enumerate(pair_list[:top_cutoff])]))\n",
    "\n",
    "\n",
    "pair_list=list(zip(unigram_segments,list(train_marginals[:,1].reshape(-1))))\n",
    "pair_list.sort(key = lambda t: t[1],reverse=True)\n",
    "\n",
    "print(\"\\n\\n\\ntop mechanism words \\n\\n\")\n",
    "print(\"\\n\\n\".join([str(ind)+\"\\tWord\\t\"+get_candidate_text(pair[0])+\"\\n\"+\"Sentence\\t\"+str(pair[0].get_parent().text)+\"\\t\"+str(pair[1]) for ind,pair in enumerate(pair_list[:top_cutoff])]))"
   ]
  },
  {
   "cell_type": "code",
   "execution_count": 17,
   "metadata": {},
   "outputs": [
    {
     "name": "stdout",
     "output_type": "stream",
     "text": [
      "Unigram(Span(\"b'roots'\", sentence=116, chars=[119,123], words=[21,21]))\n",
      "We show that the global minimum of this criterion can be reached by first solving a linear system then calculating the roots of some polynomial of order K .\n",
      "MN\n",
      "\n",
      "Unigram(Span(\"b'reached'\", sentence=116, chars=[57,63], words=[11,11]))\n",
      "We show that the global minimum of this criterion can be reached by first solving a linear system then calculating the roots of some polynomial of order K .\n",
      "0\n",
      "\n",
      "Unigram(Span(\"b'of'\", sentence=116, chars=[125,126], words=[22,22]))\n",
      "We show that the global minimum of this criterion can be reached by first solving a linear system then calculating the roots of some polynomial of order K .\n",
      "MN\n",
      "\n",
      "Unigram(Span(\"b'We'\", sentence=116, chars=[0,1], words=[0,0]))\n",
      "We show that the global minimum of this criterion can be reached by first solving a linear system then calculating the roots of some polynomial of order K .\n",
      "0\n",
      "\n",
      "Unigram(Span(\"b'by'\", sentence=116, chars=[65,66], words=[12,12]))\n",
      "We show that the global minimum of this criterion can be reached by first solving a linear system then calculating the roots of some polynomial of order K .\n",
      "MN\n",
      "\n",
      "Unigram(Span(\"b'some'\", sentence=116, chars=[128,131], words=[23,23]))\n",
      "We show that the global minimum of this criterion can be reached by first solving a linear system then calculating the roots of some polynomial of order K .\n",
      "MN\n",
      "\n",
      "Unigram(Span(\"b'show'\", sentence=116, chars=[3,6], words=[1,1]))\n",
      "We show that the global minimum of this criterion can be reached by first solving a linear system then calculating the roots of some polynomial of order K .\n",
      "0\n",
      "\n",
      "Unigram(Span(\"b'first'\", sentence=116, chars=[68,72], words=[13,13]))\n",
      "We show that the global minimum of this criterion can be reached by first solving a linear system then calculating the roots of some polynomial of order K .\n",
      "MN\n",
      "\n",
      "Unigram(Span(\"b'that'\", sentence=116, chars=[8,11], words=[2,2]))\n",
      "We show that the global minimum of this criterion can be reached by first solving a linear system then calculating the roots of some polynomial of order K .\n",
      "0\n",
      "\n",
      "Unigram(Span(\"b'polynomial'\", sentence=116, chars=[133,142], words=[24,24]))\n",
      "We show that the global minimum of this criterion can be reached by first solving a linear system then calculating the roots of some polynomial of order K .\n",
      "MN\n",
      "\n",
      "Unigram(Span(\"b'solving'\", sentence=116, chars=[74,80], words=[14,14]))\n",
      "We show that the global minimum of this criterion can be reached by first solving a linear system then calculating the roots of some polynomial of order K .\n",
      "MN\n",
      "\n",
      "Unigram(Span(\"b'the'\", sentence=116, chars=[13,15], words=[3,3]))\n",
      "We show that the global minimum of this criterion can be reached by first solving a linear system then calculating the roots of some polynomial of order K .\n",
      "0\n",
      "\n",
      "Unigram(Span(\"b'of'\", sentence=116, chars=[144,145], words=[25,25]))\n",
      "We show that the global minimum of this criterion can be reached by first solving a linear system then calculating the roots of some polynomial of order K .\n",
      "MN\n",
      "\n",
      "Unigram(Span(\"b'a'\", sentence=116, chars=[82,82], words=[15,15]))\n",
      "We show that the global minimum of this criterion can be reached by first solving a linear system then calculating the roots of some polynomial of order K .\n",
      "MN\n",
      "\n",
      "Unigram(Span(\"b'global'\", sentence=116, chars=[17,22], words=[4,4]))\n",
      "We show that the global minimum of this criterion can be reached by first solving a linear system then calculating the roots of some polynomial of order K .\n",
      "0\n",
      "\n",
      "Unigram(Span(\"b'order'\", sentence=116, chars=[147,151], words=[26,26]))\n",
      "We show that the global minimum of this criterion can be reached by first solving a linear system then calculating the roots of some polynomial of order K .\n",
      "MN\n",
      "\n",
      "Unigram(Span(\"b'linear'\", sentence=116, chars=[84,89], words=[16,16]))\n",
      "We show that the global minimum of this criterion can be reached by first solving a linear system then calculating the roots of some polynomial of order K .\n",
      "MN\n",
      "\n",
      "Unigram(Span(\"b'is'\", sentence=109, chars=[38,39], words=[5,5]))\n",
      "sent __dict__ {'_sa_instance_state': <sqlalchemy.orm.state.InstanceState object at 0x1a4ec43d68>, 'type': 'sentence', 'ner_tags': ['O', 'O', 'O', 'O', 'O', 'O', 'O', 'O', 'O', 'O', 'O', 'O', 'O', 'O'], 'lemmas': ['besides', ',', 'the', 'postprocessing', 'technique', 'be', 'introduce', 'for', 'resist', 'time', '-', 'scale', 'modification', '.'], 'char_offsets': [0, 7, 9, 13, 28, 38, 41, 52, 56, 66, 70, 71, 77, 89], 'text': 'Besides, the postprocessing technique is introduced for resisting time-scale modification.', 'dep_labels': ['advmod', 'punct', 'det', 'compound', 'nsubjpass', 'auxpass', 'ROOT', 'prep', 'pcomp', 'compound', 'punct', 'compound', 'dobj', 'punct'], 'position': 4, 'id': 109, 'stable_id': 'semanticDBLP_ed242831afff98c077bd0b9d4bfdbb6109d4e770::sentence:427:517', 'dep_parents': [7, 7, 5, 5, 7, 7, 0, 7, 8, 12, 12, 13, 9, 7], 'pos_tags': ['RB', ',', 'DT', 'NN', 'NN', 'VBZ', 'VBN', 'IN', 'VBG', 'NN', 'HYPH', 'NN', 'NN', '.'], 'abs_char_offsets': [427, 434, 436, 440, 455, 465, 468, 479, 483, 493, 497, 498, 504, 516], 'words': ['Besides', ',', 'the', 'postprocessing', 'technique', 'is', 'introduced', 'for', 'resisting', 'time', '-', 'scale', 'modification', '.'], 'entity_cids': ['O', 'O', 'O', 'O', 'O', 'O', 'O', 'O', 'O', 'O', 'O', 'O', 'O', 'O'], 'document_id': 2, 'entity_types': ['O', 'O', 'O', 'O', 'O', 'O', 'O', 'O', 'O', 'O', 'O', 'O', 'O', 'O'], 'document': Document semanticDBLP_ed242831afff98c077bd0b9d4bfdbb6109d4e770}\n",
      "sent pos in doc?? 4\n",
      "semanticDBLP_ed242831afff98c077bd0b9d4bfdbb6109d4e770\n",
      "is\n",
      "unigram position??  5\n",
      "its_pos_tag VBZ \n",
      "\n"
     ]
    }
   ],
   "source": [
    "# TODO get_surrounding_words maybe group segments back to doc level from  Sentence has words in its __dict__ \n",
    "\n",
    "# visualize purpose probability\n",
    "\n",
    "\n",
    "# pair_list=list(zip(unigram_segments,list(train_marginals[:,0].reshape(-1))))\n",
    "\n",
    "# count=0\n",
    "# for idx,segment in enumerate(unigram_segments):\n",
    "#     if \"by\" in segment.get_parent().__dict__['words']:\n",
    "#         print(idx,segment.get_parent().__dict__['text'])\n",
    "#         if count>30:\n",
    "#             break\n",
    "#         count+=1\n",
    "        \n",
    "from LF.util_common_default_categorical import purpose_LFs,mechanism_LFs\n",
    "\n",
    "for i in range(288,305):\n",
    "    print(unigram_segments[i])\n",
    "    print(unigram_segments[i].get_parent().__dict__['text'])\n",
    "    print(mechanism_LFs[-1](unigram_segments[i]))\n",
    "    print()\n",
    "    \n",
    "    \n",
    "# print(unigram_segments[165],)\n",
    "\n",
    "segment=unigram_segments[165]\n",
    "# print((segment.get_contexts()[0].__dict__))\n",
    "docid=segment.get_parent().get_parent().name\n",
    "print(segment)\n",
    "print(\"sent __dict__\",segment.get_parent().__dict__)\n",
    "print(\"sent pos in doc??\", segment.get_parent().position)\n",
    "# print(\"sent pos in doc??\", segment.get_parent().get_parent().sentences.index(segment.get_parent()))\n",
    "\n",
    "print(docid)\n",
    "\n",
    "# print(segment.get_parent().get_parent().__dict__)\n",
    "print(segment.get_parent().text[segment.unigram_cue.char_start:segment.unigram_cue.char_end+1])\n",
    "\n",
    "unigram_psn=segment.unigram_cue.get_word_start()\n",
    "print(\"unigram position?? \",unigram_psn)#.__dict__['words'])\n",
    "\n",
    "its_pos_tag=segment.get_parent().__dict__['pos_tags'][unigram_psn]\n",
    "print(\"its_pos_tag\",its_pos_tag,\"\\n\")\n",
    "\n",
    "# its_surrounding_pos_tag=get_sourrounding_pos_tag(segment,3)\n",
    "# print(\"unigram pos tag\",get_sourrounding_pos_tag(segment,1))\n",
    "# print(\"trigram pos tag\",get_sourrounding_pos_tag(segment,3))\n",
    "# print(\"5gram pos tag\",get_sourrounding_pos_tag(segment,5))\n"
   ]
  },
  {
   "cell_type": "markdown",
   "metadata": {},
   "source": [
    "### Section 3: writing soft generative noisy labels"
   ]
  },
  {
   "cell_type": "code",
   "execution_count": 31,
   "metadata": {},
   "outputs": [],
   "source": [
    "from collections import defaultdict\n",
    "from util import get_candidate_text\n",
    "import pandas as pd\n",
    "\n",
    "# initialize some variables\n",
    "# df = pd.DataFrame([], columns=['winningHighlight', 'paperID', 'globalPsn','content'])    \n",
    "aggregated_doc=defaultdict(lambda:[])\n",
    "aggregated_sent=defaultdict(lambda:[])\n",
    "aspects_list=[\"Purpose\",\"Mechanism\",\"Others\"]\n",
    "\n",
    "for idx,train_segment in enumerate(train_segments):\n",
    "    \n",
    "    sent_id=train_segment.get_parent().id    \n",
    "    winningHighlight=list(train_marginals[idx])\n",
    "    aggregated_sent[sent_id]+=[(train_segment.segment_cue.char_start,train_segment.segment_cue.char_end,get_candidate_text(train_segment),winningHighlight)]\n",
    "    \n",
    "    doc_id=train_segment.get_parent().get_parent().name\n",
    "    if doc_id not in aggregated_doc:\n",
    "        aggregated_doc[doc_id]=train_segment.get_parent().get_parent().sentences\n",
    "        \n",
    "\n",
    "df_list=[]      \n",
    "for doc_id in aggregated_doc:\n",
    "    globalPsn=1\n",
    "    for sent in aggregated_doc[doc_id]:\n",
    "        sent_id=sent.id\n",
    "        if sent_id not in aggregated_sent:\n",
    "            raise ValueError('we have no info about this sent'+str(sent))\n",
    "        aggregated_sent[sent_id]=sorted(aggregated_sent[sent_id], key=lambda x: x[0])\n",
    "        for idx,pair in enumerate(aggregated_sent[sent_id]):\n",
    "            text=pair[2]\n",
    "            for idx2,token in enumerate(text.split()):\n",
    "                if len(token.strip())==0:\n",
    "                    continue\n",
    "                df_list+=[[pair[3],doc_id,globalPsn,token.strip(\".\")]]\n",
    "                globalPsn+=1\n",
    "            if idx!=len(aggregated_sent[sent_id])-1:\n",
    "                df_list+=[[pair[3],doc_id,globalPsn,\",\"]]\n",
    "            else:\n",
    "                df_list+=[[pair[3],doc_id,globalPsn,\".\"]]\n",
    "            globalPsn+=1\n",
    "                \n",
    "                \n",
    "df=pd.DataFrame(df_list,columns=['winningHighlight', 'paperID', 'globalPsn','content'])\n",
    "df.to_csv(open(\"data/annotations_train_5560_word-level_categorical.csv\",\"w\"))"
   ]
  }
 ],
 "metadata": {
  "kernelspec": {
   "display_name": "Python 3",
   "language": "python",
   "name": "python3"
  },
  "language_info": {
   "codemirror_mode": {
    "name": "ipython",
    "version": 3
   },
   "file_extension": ".py",
   "mimetype": "text/x-python",
   "name": "python",
   "nbconvert_exporter": "python",
   "pygments_lexer": "ipython3",
   "version": "3.6.5"
  }
 },
 "nbformat": 4,
 "nbformat_minor": 2
}
