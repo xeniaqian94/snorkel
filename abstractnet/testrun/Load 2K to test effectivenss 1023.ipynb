{
 "cells": [
  {
   "cell_type": "markdown",
   "metadata": {},
   "source": [
    "# Load 2K to test effectiveness"
   ]
  },
  {
   "cell_type": "code",
   "execution_count": 1,
   "metadata": {},
   "outputs": [
    {
     "data": {
      "text/html": [
       "<style>.container { width:85% !important; }</style>"
      ],
      "text/plain": [
       "<IPython.core.display.HTML object>"
      ]
     },
     "metadata": {},
     "output_type": "display_data"
    }
   ],
   "source": [
    "from IPython.core.display import display, HTML\n",
    "display(HTML(\"<style>.container { width:85% !important; }</style>\"))\n",
    "debug_mode=1 # if not in debug mode, please set debug_mode=0, find more info about debug mode in test run 9 maybe?\n",
    "%load_ext autoreload\n",
    "%autoreload 2\n",
    "%matplotlib inline"
   ]
  },
  {
   "cell_type": "markdown",
   "metadata": {},
   "source": [
    "## I. Background\n",
    "### A. Preprocessing the Corpus and Save to the Database (Done)\n",
    "\n",
    "The corpus could be downloaded [here](https://github.com/xeniaqian94/snorkel/blob/master/abstractnet/testrun/data/slim-slim-top-tier-citation)."
   ]
  },
  {
   "cell_type": "code",
   "execution_count": 2,
   "metadata": {},
   "outputs": [
    {
     "name": "stdout",
     "output_type": "stream",
     "text": [
      "postgresql:///abstractnet2k\n",
      "snorkel_conn_string postgresql:///abstractnet2k\n",
      "if snorkel_postgres? True\n"
     ]
    },
    {
     "name": "stderr",
     "output_type": "stream",
     "text": [
      "/anaconda3/lib/python3.6/site-packages/psycopg2/__init__.py:144: UserWarning: The psycopg2 wheel package will be renamed from release 2.8; in order to keep installing from binary please use \"pip install psycopg2-binary\" instead. For details see: <http://initd.org/psycopg/docs/install.html#binary-install-from-pypi>.\n",
      "  \"\"\")\n"
     ]
    },
    {
     "name": "stdout",
     "output_type": "stream",
     "text": [
      "Documents: 2050\n"
     ]
    }
   ],
   "source": [
    "import os\n",
    "os.environ['SNORKELDB'] = \"postgresql:///abstractnet2k\"\n",
    "print(os.environ['SNORKELDB'])\n",
    "from snorkel import SnorkelSession\n",
    "from snorkel.parser import TSVDocPreprocessor\n",
    "session = SnorkelSession()\n",
    "\n",
    "## Here, we just set the upperbound for how many documents we'll process!\n",
    "n_docs = 3000 \n",
    "doc_preprocessor = TSVDocPreprocessor('data/annotations_label-level_all-to-date-2018-4-25-WithTitle_full_abstract_punc_concatenated.csv', encoding=\"utf-8\",max_docs=n_docs)\n",
    "\n",
    "from snorkel.parser.spacy_parser import Spacy\n",
    "from snorkel.parser import CorpusParser\n",
    "\n",
    "# corpus_parser = CorpusParser(parser=Spacy())\n",
    "# %time corpus_parser.apply(doc_preprocessor, count=n_docs)# ,parallelism=5)\n",
    "\n",
    "from snorkel.models import Document, Sentence  # defined in context.py file\n",
    "print(\"Documents:\", session.query(Document).count())"
   ]
  },
  {
   "cell_type": "markdown",
   "metadata": {},
   "source": [
    "### B. Connect to the Database and retrieve Document\n",
    "\n",
    "Recall the Document/Sentence/Candidate hierarchy in the guideline. We also divide the whole document set into buckets of each 100 documents."
   ]
  },
  {
   "cell_type": "code",
   "execution_count": 3,
   "metadata": {},
   "outputs": [
    {
     "name": "stdout",
     "output_type": "stream",
     "text": [
      "Number of buckets 20\n"
     ]
    }
   ],
   "source": [
    "from snorkel import SnorkelSession\n",
    "from snorkel.parser.spacy_parser import Spacy\n",
    "from snorkel.parser import CorpusParser\n",
    "from snorkel.models import Document, Sentence\n",
    "from collections import defaultdict\n",
    "import numpy as np\n",
    "\n",
    "session = SnorkelSession()\n",
    "docs = session.query(Document).all()\n",
    "sents = session.query(Sentence).all()  # get all sentences from snorkel.db\n",
    "\n",
    "docs_per_bucket=105\n",
    "sents_split=defaultdict(lambda:[])\n",
    "for ind, doc in enumerate(docs):\n",
    "    bucket=int(ind/docs_per_bucket)\n",
    "    for s in doc.sentences:\n",
    "        sents_split[bucket]+=[s]\n",
    "print(\"Number of buckets\", len(sents_split))"
   ]
  },
  {
   "cell_type": "markdown",
   "metadata": {},
   "source": [
    "### C. From Documents to Extract Candidates\n",
    "\n",
    "Here we extract the candidates (i.e. unigrams) from one of the document bucket, which has approximately 100 documents. Here we use <b>Bucket 0</b>. So it is our train bucket to learn the generative model from LFs. Later we will use <b>Bucket 1</b> as the development bucket, to draw visualizations and provide feedbacks. "
   ]
  },
  {
   "cell_type": "code",
   "execution_count": 4,
   "metadata": {
    "scrolled": true
   },
   "outputs": [
    {
     "name": "stdout",
     "output_type": "stream",
     "text": [
      "Number of Candidates/Unigrams 17943\n"
     ]
    }
   ],
   "source": [
    "from snorkel.models import candidate_subclass\n",
    "from snorkel.candidates import Ngrams, CandidateExtractor\n",
    "from snorkel.matchers import *\n",
    "import datetime\n",
    "\n",
    "from IPython.display import Markdown, display\n",
    "def printmd(string):\n",
    "    display(Markdown(string))\n",
    "\n",
    "Unigram = candidate_subclass('Unigram', ['unigram_cue'],values=['PP','MN','NULL'])\n",
    "ngrams = Ngrams(n_max=1) \n",
    "ngram_matcher=NgramMatcher()\n",
    "unigram_segment_extractor=CandidateExtractor(Unigram,[ngrams],[ngram_matcher])\n",
    "\n",
    "train_bucket=0\n",
    "# %time unigram_segment_extractor.apply(sents_split[train_bucket], split=train_bucket)\n",
    "unigram_segments=session.query(Unigram).filter(Unigram.split == train_bucket).all()\n",
    "print(\"Number of Candidates/Unigrams\",len(unigram_segments))"
   ]
  },
  {
   "cell_type": "markdown",
   "metadata": {},
   "source": [
    "### D. Data Exploration \n",
    "\n",
    "Let's visualize some Candidates/Unigrams with SentenceNgramViewer. "
   ]
  },
  {
   "cell_type": "code",
   "execution_count": 5,
   "metadata": {},
   "outputs": [
    {
     "data": {
      "application/javascript": [
       "require.undef('viewer');\n",
       "\n",
       "// NOTE: all elements should be selected using this.$el.find to avoid collisions with other Viewers\n",
       "\n",
       "define('viewer', [\"@jupyter-widgets/base\"], function(widgets) {\n",
       "    var ViewerView = widgets.DOMWidgetView.extend({\n",
       "        render: function() {\n",
       "            this.cids   = this.model.get('cids');\n",
       "            this.nPages = this.cids.length;\n",
       "            this.pid  = 0;\n",
       "            this.cxid = 0;\n",
       "            this.cid  = 0;\n",
       "\n",
       "            // Insert the html payload\n",
       "            this.$el.append(this.model.get('html'));\n",
       "\n",
       "            // Initialize all labels from previous sessions\n",
       "            this.labels = this.deserializeDict(this.model.get('_labels_serialized'));\n",
       "            for (var i=0; i < this.nPages; i++) {\n",
       "                this.pid = i;\n",
       "                for (var j=0; j < this.cids[i].length; j++) {\n",
       "                    this.cxid = j;\n",
       "                    for (var k=0; k < this.cids[i][j].length; k++) {\n",
       "                        this.cid = k;\n",
       "                        if (this.cids[i][j][k] in this.labels) {\n",
       "                            this.markCurrentCandidate(false);\n",
       "                        }\n",
       "                    }\n",
       "                }\n",
       "            }\n",
       "            this.pid  = 0;\n",
       "            this.cxid = 0;\n",
       "            this.cid  = 0;\n",
       "\n",
       "            // Enable button functionality for navigation\n",
       "            var that = this;\n",
       "            this.$el.find(\"#next-cand\").click(function() {\n",
       "                that.switchCandidate(1);\n",
       "            });\n",
       "            this.$el.find(\"#prev-cand\").click(function() {\n",
       "                that.switchCandidate(-1);\n",
       "            });\n",
       "            this.$el.find(\"#next-context\").click(function() {\n",
       "                that.switchContext(1);\n",
       "            });\n",
       "            this.$el.find(\"#prev-context\").click(function() {\n",
       "                that.switchContext(-1);\n",
       "            });\n",
       "            this.$el.find(\"#next-page\").click(function() {\n",
       "                that.switchPage(1);\n",
       "            });\n",
       "            this.$el.find(\"#prev-page\").click(function() {\n",
       "                that.switchPage(-1);\n",
       "            });\n",
       "            this.$el.find(\"#label-true\").click(function() {\n",
       "                that.labelCandidate(true, true);\n",
       "            });\n",
       "            this.$el.find(\"#label-false\").click(function() {\n",
       "                that.labelCandidate(false, true);\n",
       "            });\n",
       "\n",
       "            // Arrow key functionality\n",
       "            this.$el.keydown(function(e) {\n",
       "                switch(e.which) {\n",
       "                    case 74: // j\n",
       "                    that.switchCandidate(-1);\n",
       "                    break;\n",
       "\n",
       "                    case 73: // i\n",
       "                    that.switchPage(-1);\n",
       "                    break;\n",
       "\n",
       "                    case 76: // l\n",
       "                    that.switchCandidate(1);\n",
       "                    break;\n",
       "\n",
       "                    case 75: // k\n",
       "                    that.switchPage(1);\n",
       "                    break;\n",
       "\n",
       "                    case 84: // t\n",
       "                    that.labelCandidate(true, true);\n",
       "                    break;\n",
       "\n",
       "                    case 70: // f\n",
       "                    that.labelCandidate(false, true);\n",
       "                    break;\n",
       "                }\n",
       "            });\n",
       "\n",
       "            // Show the first page and highlight the first candidate\n",
       "            this.$el.find(\"#viewer-page-0\").show();\n",
       "            this.switchCandidate(0);\n",
       "        },\n",
       "\n",
       "        // Get candidate selector for currently selected candidate, escaping id properly\n",
       "        getCandidate: function() {\n",
       "            return this.$el.find(\".\"+this.cids[this.pid][this.cxid][this.cid]);\n",
       "        },  \n",
       "\n",
       "        // Color the candidate correctly according to registered label, as well as set highlighting\n",
       "        markCurrentCandidate: function(highlight) {\n",
       "            var cid  = this.cids[this.pid][this.cxid][this.cid];\n",
       "            var tags = this.$el.find(\".\"+cid);\n",
       "\n",
       "            // Clear color classes\n",
       "            tags.removeClass(\"candidate-h\");\n",
       "            tags.removeClass(\"true-candidate\");\n",
       "            tags.removeClass(\"true-candidate-h\");\n",
       "            tags.removeClass(\"false-candidate\");\n",
       "            tags.removeClass(\"false-candidate-h\");\n",
       "            tags.removeClass(\"highlighted\");\n",
       "\n",
       "            if (highlight) {\n",
       "                if (cid in this.labels) {\n",
       "                    tags.addClass(String(this.labels[cid]) + \"-candidate-h\");\n",
       "                } else {\n",
       "                    tags.addClass(\"candidate-h\");\n",
       "                }\n",
       "            \n",
       "            // If un-highlighting, leave with first non-null coloring\n",
       "            } else {\n",
       "                var that = this;\n",
       "                tags.each(function() {\n",
       "                    var cids = $(this).attr('class').split(/\\s+/).map(function(item) {\n",
       "                        return parseInt(item);\n",
       "                    });\n",
       "                    cids.sort();\n",
       "                    for (var i in cids) {\n",
       "                        if (cids[i] in that.labels) {\n",
       "                            var label = that.labels[cids[i]];\n",
       "                            $(this).addClass(String(label) + \"-candidate\");\n",
       "                            $(this).removeClass(String(!label) + \"-candidate\");\n",
       "                            break;\n",
       "                        }\n",
       "                    }\n",
       "                });\n",
       "            }\n",
       "\n",
       "            // Extra highlighting css\n",
       "            if (highlight) {\n",
       "                tags.addClass(\"highlighted\");\n",
       "            }\n",
       "\n",
       "            // Classes for showing direction of relation\n",
       "            if (highlight) {\n",
       "                this.$el.find(\".\"+cid+\"-0\").addClass(\"left-candidate\");\n",
       "                this.$el.find(\".\"+cid+\"-1\").addClass(\"right-candidate\");\n",
       "            } else {\n",
       "                this.$el.find(\".\"+cid+\"-0\").removeClass(\"left-candidate\");\n",
       "                this.$el.find(\".\"+cid+\"-1\").removeClass(\"right-candidate\");\n",
       "            }\n",
       "        },\n",
       "\n",
       "        // Cycle through candidates and highlight, by increment inc\n",
       "        switchCandidate: function(inc) {\n",
       "            var N = this.cids[this.pid].length\n",
       "            var M = this.cids[this.pid][this.cxid].length;\n",
       "            if (N == 0 || M == 0) { return false; }\n",
       "\n",
       "            // Clear highlighting from previous candidate\n",
       "            if (inc != 0) {\n",
       "                this.markCurrentCandidate(false);\n",
       "\n",
       "                // Increment the cid counter\n",
       "\n",
       "                // Move to next context\n",
       "                if (this.cid + inc >= M) {\n",
       "                    while (this.cid + inc >= M) {\n",
       "                        \n",
       "                        // At last context on page, halt\n",
       "                        if (this.cxid == N - 1) {\n",
       "                            this.cid = M - 1;\n",
       "                            inc = 0;\n",
       "                            break;\n",
       "                        \n",
       "                        // Increment to next context\n",
       "                        } else {\n",
       "                            inc -= M - this.cid;\n",
       "                            this.cxid += 1;\n",
       "                            M = this.cids[this.pid][this.cxid].length;\n",
       "                            this.cid = 0;\n",
       "                        }\n",
       "                    }\n",
       "\n",
       "                // Move to previous context\n",
       "                } else if (this.cid + inc < 0) {\n",
       "                    while (this.cid + inc < 0) {\n",
       "                        \n",
       "                        // At first context on page, halt\n",
       "                        if (this.cxid == 0) {\n",
       "                            this.cid = 0;\n",
       "                            inc = 0;\n",
       "                            break;\n",
       "                        \n",
       "                        // Increment to previous context\n",
       "                        } else {\n",
       "                            inc += this.cid + 1;\n",
       "                            this.cxid -= 1;\n",
       "                            M = this.cids[this.pid][this.cxid].length;\n",
       "                            this.cid = M - 1;\n",
       "                        }\n",
       "                    }\n",
       "                }\n",
       "\n",
       "                // Move within current context\n",
       "                this.cid += inc;\n",
       "            }\n",
       "            this.markCurrentCandidate(true);\n",
       "\n",
       "            // Push this new cid to the model\n",
       "            this.model.set('_selected_cid', this.cids[this.pid][this.cxid][this.cid]);\n",
       "            this.touch();\n",
       "        },\n",
       "\n",
       "        // Switch through contexts\n",
       "        switchContext: function(inc) {\n",
       "            this.markCurrentCandidate(false);\n",
       "\n",
       "            // Iterate context on this page\n",
       "            var M = this.cids[this.pid].length;\n",
       "            if (this.cxid + inc < 0) {\n",
       "                this.cxid = 0;\n",
       "            } else if (this.cxid + inc >= M) {\n",
       "                this.cxid = M - 1;\n",
       "            } else {\n",
       "                this.cxid += inc;\n",
       "            }\n",
       "\n",
       "            // Reset cid and set to first candidate\n",
       "            this.cid = 0;\n",
       "            this.switchCandidate(0);\n",
       "        },\n",
       "\n",
       "        // Switch through pages\n",
       "        switchPage: function(inc) {\n",
       "            this.markCurrentCandidate(false);\n",
       "            this.$el.find(\".viewer-page\").hide();\n",
       "            if (this.pid + inc < 0) {\n",
       "                this.pid = 0;\n",
       "            } else if (this.pid + inc > this.nPages - 1) {\n",
       "                this.pid = this.nPages - 1;\n",
       "            } else {\n",
       "                this.pid += inc;\n",
       "            }\n",
       "            this.$el.find(\"#viewer-page-\"+this.pid).show();\n",
       "\n",
       "            // Show pagination\n",
       "            this.$el.find(\"#page\").html(this.pid);\n",
       "\n",
       "            // Reset cid and set to first candidate\n",
       "            this.cid = 0;\n",
       "            this.cxid = 0;\n",
       "            this.switchCandidate(0);\n",
       "        },\n",
       "\n",
       "        // Label currently-selected candidate\n",
       "        labelCandidate: function(label, highlighted) {\n",
       "            var c    = this.getCandidate();\n",
       "            var cid  = this.cids[this.pid][this.cxid][this.cid];\n",
       "            var cl   = String(label) + \"-candidate\";\n",
       "            var clh  = String(label) + \"-candidate-h\";\n",
       "            var cln  = String(!label) + \"-candidate\";\n",
       "            var clnh = String(!label) + \"-candidate-h\";\n",
       "\n",
       "            // Toggle label highlighting\n",
       "            if (c.hasClass(cl) || c.hasClass(clh)) {\n",
       "                c.removeClass(cl);\n",
       "                c.removeClass(clh);\n",
       "                if (highlighted) {\n",
       "                    c.addClass(\"candidate-h\");\n",
       "                }\n",
       "                this.labels[cid] = null;\n",
       "                this.send({event: 'delete_label', cid: cid});\n",
       "            } else {\n",
       "                c.removeClass(cln);\n",
       "                c.removeClass(clnh);\n",
       "                if (highlighted) {\n",
       "                    c.addClass(clh);\n",
       "                } else {\n",
       "                    c.addClass(cl);\n",
       "                }\n",
       "                this.labels[cid] = label;\n",
       "                this.send({event: 'set_label', cid: cid, value: label});\n",
       "            }\n",
       "\n",
       "            // Set the label and pass back to the model\n",
       "            this.model.set('_labels_serialized', this.serializeDict(this.labels));\n",
       "            this.touch();\n",
       "        },\n",
       "\n",
       "        // Serialization of hash maps, because traitlets Dict doesn't seem to work...\n",
       "        serializeDict: function(d) {\n",
       "            var s = [];\n",
       "            for (var key in d) {\n",
       "                s.push(key+\"~~\"+d[key]);\n",
       "            }\n",
       "            return s.join();\n",
       "        },\n",
       "\n",
       "        // Deserialization of hash maps\n",
       "        deserializeDict: function(s) {\n",
       "            var d = {};\n",
       "            var entries = s.split(/,/);\n",
       "            var kv;\n",
       "            for (var i in entries) {\n",
       "                kv = entries[i].split(/~~/);\n",
       "                if (kv[1] == \"true\") {\n",
       "                    d[kv[0]] = true;\n",
       "                } else if (kv[1] == \"false\") {\n",
       "                    d[kv[0]] = false;\n",
       "                }\n",
       "            }\n",
       "            return d;\n",
       "        },\n",
       "    });\n",
       "\n",
       "    return {\n",
       "        ViewerView: ViewerView\n",
       "    };\n",
       "});\n"
      ],
      "text/plain": [
       "<IPython.core.display.Javascript object>"
      ]
     },
     "metadata": {},
     "output_type": "display_data"
    },
    {
     "data": {
      "application/vnd.jupyter.widget-view+json": {
       "model_id": "5c18fe6641d04795937a5e8d15da2331",
       "version_major": 2,
       "version_minor": 0
      },
      "text/plain": [
       "SentenceNgramViewer(cids=[[[0, 6, 10, 12, 16, 22, 24, 26, 32, 34, 38, 39, 43, 47, 49, 55], [1, 4, 8, 11, 17, 1…"
      ]
     },
     "metadata": {},
     "output_type": "display_data"
    }
   ],
   "source": [
    "from snorkel.viewer import SentenceNgramViewer\n",
    "\n",
    "unigram_segments=session.query(Unigram).filter(Unigram.split == train_bucket).all()\n",
    "SentenceNgramViewer(unigram_segments[0:100], session, n_per_page=10)"
   ]
  },
  {
   "cell_type": "markdown",
   "metadata": {},
   "source": [
    "## II. Labeling Functions\n",
    "### A. Load the n-th version of LFs\n",
    "\n",
    "In this n-th version, a majority of our LFs are cue-based LFs. You can tell from the names!"
   ]
  },
  {
   "cell_type": "code",
   "execution_count": 8,
   "metadata": {},
   "outputs": [
    {
     "name": "stderr",
     "output_type": "stream",
     "text": [
      "2050it [00:00, 22064.41it/s]\n",
      "313it [00:00, 3128.31it/s]"
     ]
    },
    {
     "name": "stdout",
     "output_type": "stream",
     "text": [
      "Loading GloVe embedding\n"
     ]
    },
    {
     "name": "stderr",
     "output_type": "stream",
     "text": [
      "400000it [00:15, 25918.54it/s]\n"
     ]
    },
    {
     "name": "stdout",
     "output_type": "stream",
     "text": [
      "GloVe embedding loaded\n",
      "total LF count 141 unique count 141 purpose_LFs 36 mechanism_LFs 21\n",
      "\n",
      "\n",
      "purpose_LFs\n",
      " ['LF_purpose_goal3_True', 'LF_purpose_goalneg2_True', 'LF_purpose_the_problem_of3_True', 'LF_purpose_the_problem_ofneg2_True', 'LF_purpose_the_task_of3_True', 'LF_purpose_the_task_ofneg2_True', 'LF_purpose_useful_to3_True', 'LF_purpose_useful_toneg2_True', 'LF_purpose_whether3_True', 'LF_purpose_whetherneg2_True', 'LF_purpose_in_order_to3_True', 'LF_purpose_in_order_toneg2_True', 'LF_purpose_ways_to3_True', 'LF_purpose_ways_toneg2_True', 'LF_purpose_lemma_understand3_True', 'LF_purpose_lemma_understandneg2_True', 'LF_purpose_lemma_answer3_True', 'LF_purpose_lemma_answerneg2_True', 'LF_purpose_lemma_crucial3_True', 'LF_purpose_lemma_crucialneg2_True', 'LF_purpose_lemma_issue3_True', 'LF_purpose_lemma_issueneg2_True', 'LF_purpose_lemma_allow3_True', 'LF_purpose_lemma_allowneg2_True', 'LF_purpose_lemma_investigate3_True', 'LF_purpose_lemma_investigateneg2_True', 'LF_purpose_lemma_study3_True', 'LF_purpose_lemma_studyneg2_True', 'LF_purpose_lemma_explore3_True', 'LF_purpose_lemma_exploreneg2_True', 'LF_purpose_lemma_although3_True', 'LF_purpose_lemma_althoughneg2_True', 'LF_purpose_lemma_however3_True', 'LF_purpose_lemma_howeverneg2_True', 'LF_purpose_lemma_examine3_True', 'LF_purpose_lemma_examineneg2_True']\n",
      "\n",
      "\n",
      "mechanism_LFs\n",
      " ['LF_mechanism_using_a_3_True', 'LF_mechanism_using_a_neg2_True', 'LF_mechanism_using_the_3_True', 'LF_mechanism_using_the_neg2_True', 'LF_mechanism_by_using3_True', 'LF_mechanism_by_usingneg2_True', 'LF_mechanism_lemma_propose3_True', 'LF_mechanism_lemma_proposeneg2_True', 'LF_mechanism_lemma_develop3_True', 'LF_mechanism_lemma_developneg2_True', 'LF_mechanism_lemma_provide3_True', 'LF_mechanism_lemma_provideneg2_True', 'LF_mechanism_lemma_present3_True', 'LF_mechanism_lemma_presentneg2_True', 'LF_mechanism_lemma_employ3_True', 'LF_mechanism_lemma_employneg2_True', 'LF_mechanism_lemma_approach3_True', 'LF_mechanism_lemma_approachneg2_True', 'mechanism_by_adv_doing', 'mechanism_an_algorithm', 'mechanism_then_VB']\n",
      "\n",
      "\n",
      "null_LFs\n",
      " ['LF_null_test3_True', 'LF_null_testneg2_True', 'LF_null_dataset3_True', 'LF_null_datasetneg2_True', 'LF_null_experiment3_True', 'LF_null_experimentneg2_True', 'LF_null_results3_True', 'LF_null_resultsneg2_True', 'LF_null_show3_True', 'LF_null_showneg2_True', 'LF_null_shows_that3_True', 'LF_null_shows_thatneg2_True', 'LF_null_show_that3_True', 'LF_null_show_thatneg2_True', 'LF_null_find_that3_True', 'LF_null_find_thatneg2_True', 'LF_null_finds_that3_True', 'LF_null_finds_thatneg2_True', 'LF_null_found_that3_True', 'LF_null_found_thatneg2_True', 'LF_null_this_result3_True', 'LF_null_this_resultneg2_True', 'LF_null_observe3_True', 'LF_null_observeneg2_True', 'LF_null_we_prove3_True', 'LF_null_we_proveneg2_True', 'LF_null_evaluates_3_True', 'LF_null_evaluates_neg2_True', 'LF_null_evaluated_3_True', 'LF_null_evaluated_neg2_True', 'LF_null_evaluate_3_True', 'LF_null_evaluate_neg2_True', 'LF_null_validate_3_True', 'LF_null_validate_neg2_True', 'LF_null_qualitative_3_True', 'LF_null_qualitative_neg2_True', 'LF_null_quantitative_3_True', 'LF_null_quantitative_neg2_True', 'LF_null_validating_3_True', 'LF_null_validating_neg2_True', 'LF_null_demonstrate3_True', 'LF_null_demonstrateneg2_True', 'LF_null_indicate_that3_True', 'LF_null_indicate_thatneg2_True', 'LF_null_indicates_that3_True', 'LF_null_indicates_thatneg2_True', 'LF_null_are_performed3_True', 'LF_null_are_performedneg2_True', 'LF_null_were_performed3_True', 'LF_null_were_performedneg2_True', 'LF_null_indicate_that3_True', 'LF_null_indicate_thatneg2_True', 'LF_null_have_been3_True', 'LF_null_have_beenneg2_True', 'LF_null_the_success_of3_True', 'LF_null_the_success_ofneg2_True', 'LF_null_recently3_True', 'LF_null_recentlyneg2_True', 'LF_null_recent_research3_True', 'LF_null_recent_researchneg2_True', 'LF_null_increasingly3_True', 'LF_null_increasinglyneg2_True', 'LF_null_has_been3_True', 'LF_null_has_beenneg2_True', 'LF_null_has_shown3_True', 'LF_null_has_shownneg2_True', 'LF_null_popular_3_True', 'LF_null_popular_neg2_True', 'LF_null_popularity_3_True', 'LF_null_popularity_neg2_True', 'LF_null_increasing3_True', 'LF_null_increasingneg2_True', 'LF_null_previously3_True', 'LF_null_previouslyneg2_True', 'LF_null_general3_True', 'LF_null_generalneg2_True', 'LF_null_compared_to3_True', 'LF_null_compared_toneg2_True', 'LF_null_compare_3_True', 'LF_null_compare_neg2_True', 'LF_null_settings3_True', 'LF_null_settingsneg1_True', 'LF_null_general3_True', 'LF_null_generalneg1_True']\n"
     ]
    }
   ],
   "source": [
    "from snorkel.lf_helpers import *\n",
    "from snorkel.annotations import LabelAnnotator\n",
    "\n",
    "# from LF.util_common_default_categorical import purpose_LFs,mechanism_LFs,null_LFs\n",
    "from LF.util_common_default_categorical_1023 import purpose_LFs,mechanism_LFs,null_LFs\n",
    "print(\"total LF count\", len(purpose_LFs+mechanism_LFs+null_LFs), \"unique count\",len(set(purpose_LFs+mechanism_LFs+null_LFs)),\"purpose_LFs\",len(purpose_LFs),\"mechanism_LFs\",len(mechanism_LFs))\n",
    "print(\"\\n\\npurpose_LFs\\n\",[lf.__name__ for lf in purpose_LFs])\n",
    "print(\"\\n\\nmechanism_LFs\\n\",[lf.__name__ for lf in mechanism_LFs])\n",
    "print(\"\\n\\nnull_LFs\\n\",[lf.__name__ for lf in null_LFs])"
   ]
  },
  {
   "cell_type": "markdown",
   "metadata": {},
   "source": [
    "## VI. Development Sandbox\n",
    "### A. Writing New Labeling Functions\n",
    "\n",
    "We will name them as `new_LFs`."
   ]
  },
  {
   "cell_type": "code",
   "execution_count": 9,
   "metadata": {},
   "outputs": [],
   "source": [
    "#\n",
    "# PLACE YOUR LFs HERE\n",
    "#\n",
    "new_LFs=[]"
   ]
  },
  {
   "cell_type": "markdown",
   "metadata": {},
   "source": [
    "### B. Applying Labeling Functions\n",
    "\n",
    "In here we define two functions: (1) applying LFs to get an annotation matrix; (2) use the annotation matrix to learn a generative model."
   ]
  },
  {
   "cell_type": "code",
   "execution_count": 10,
   "metadata": {},
   "outputs": [],
   "source": [
    "from snorkel.learning import GenerativeModel\n",
    "from util import get_candidate_text\n",
    "import matplotlib.pyplot as plt\n",
    "import datetime\n",
    "\n",
    "def get_L_train(LFs,parallelism=1,split=0):\n",
    "    L_train=None\n",
    "    labeler=None\n",
    "    np.random.seed(1701)\n",
    "    labeler = LabelAnnotator(lfs=LFs)\n",
    "    print(datetime.datetime.now())\n",
    "    L_train = labeler.apply(split=split,parallelism=parallelism)# ,cids_query=session.query(Candidate.id).filter(Candidate.get_parent().id %10==1))\n",
    "    print(datetime.datetime.now())\n",
    "    print(type(L_train))\n",
    "    print(L_train.shape)\n",
    "    printmd(\"**Total non_overlapping_coverage on L_train (percentage of labelled over all)**  \"+str(L_train.non_overlapping_coverage()))\n",
    "    return L_train\n",
    "\n",
    "def get_train_marginals(L_train,step_size_nominator=0.1,epochs=100,lf_propensity=True,threads=1,class_prior=False,decay=1.0,reg_param=1e-6):\n",
    "    try:\n",
    "        gen_model=None\n",
    "        print(datetime.datetime.now())\n",
    "        gen_model = GenerativeModel(lf_propensity=lf_propensity,class_prior=class_prior)\n",
    "        gen_model.train(L_train, cardinality=3, epochs=epochs, decay=decay,step_size=step_size_nominator/1e2,reg_param=reg_param,verbose=False,threads=threads)\n",
    "        print(\"training finished \")\n",
    "        print(datetime.datetime.now())\n",
    "        print(\"Finished training generative model, now checking performance against development set labels...\")\n",
    "        print(\"Calculating marginals!\")\n",
    "        train_marginals = gen_model.marginals(L_train)  # the marginal probability of each candidate being True\n",
    "        print(\"no exception\")\n",
    "        print(datetime.datetime.now())\n",
    "        return gen_model,train_marginals\n",
    "    except:\n",
    "        print(\"exception! \")\n",
    "        return gen_model,train_marginals\n"
   ]
  },
  {
   "cell_type": "code",
   "execution_count": 11,
   "metadata": {
    "scrolled": true
   },
   "outputs": [
    {
     "name": "stdout",
     "output_type": "stream",
     "text": [
      "snorkel_conn_string postgresql:///abstractnet2k\n",
      "if snorkel_postgres? True\n",
      "2018-10-23 23:48:21.281785\n",
      "snorkel_conn_string postgresql:///abstractnet2k\n",
      "if snorkel_postgres? True\n",
      "cids_count 17943\n",
      "key_group 0\n",
      "Clearing existing...\n",
      "snorkel_conn_string postgresql:///abstractnet2k\n",
      "if snorkel_postgres? True\n",
      "clearing..\n",
      "Running UDF...\n",
      "snorkel_conn_string postgresql:///abstractnet2k\n",
      "if snorkel_postgres? True\n",
      "[========================================] 100%\n",
      "\n",
      "2018-10-23 23:51:27.209010\n",
      "<class 'snorkel.annotations.csr_LabelMatrix'>\n",
      "(17943, 138)\n"
     ]
    },
    {
     "data": {
      "text/markdown": [
       "**Total non_overlapping_coverage on L_train (percentage of labelled over all)**  0.4113024577829794"
      ],
      "text/plain": [
       "<IPython.core.display.Markdown object>"
      ]
     },
     "metadata": {},
     "output_type": "display_data"
    },
    {
     "name": "stdout",
     "output_type": "stream",
     "text": [
      "(17943, 138)\n"
     ]
    }
   ],
   "source": [
    "L_train=get_L_train(purpose_LFs+mechanism_LFs+null_LFs+new_LFs)\n",
    "print(L_train.shape)"
   ]
  },
  {
   "cell_type": "code",
   "execution_count": 24,
   "metadata": {},
   "outputs": [
    {
     "data": {
      "text/html": [
       "<div>\n",
       "<style scoped>\n",
       "    .dataframe tbody tr th:only-of-type {\n",
       "        vertical-align: middle;\n",
       "    }\n",
       "\n",
       "    .dataframe tbody tr th {\n",
       "        vertical-align: top;\n",
       "    }\n",
       "\n",
       "    .dataframe thead th {\n",
       "        text-align: right;\n",
       "    }\n",
       "</style>\n",
       "<table border=\"1\" class=\"dataframe\">\n",
       "  <thead>\n",
       "    <tr style=\"text-align: right;\">\n",
       "      <th></th>\n",
       "      <th>j</th>\n",
       "      <th>Coverage</th>\n",
       "      <th>Overlaps</th>\n",
       "      <th>Conflicts</th>\n",
       "      <th>Conflict_Coverage_ratio</th>\n",
       "    </tr>\n",
       "  </thead>\n",
       "  <tbody>\n",
       "    <tr>\n",
       "      <th>LF_null_indicates_thatneg2_True</th>\n",
       "      <td>176</td>\n",
       "      <td>0.002229</td>\n",
       "      <td>0.002229</td>\n",
       "      <td>0.002229</td>\n",
       "      <td>1.000000</td>\n",
       "    </tr>\n",
       "    <tr>\n",
       "      <th>LF_mechanism_using_a_neg2_True</th>\n",
       "      <td>107</td>\n",
       "      <td>0.003065</td>\n",
       "      <td>0.003065</td>\n",
       "      <td>0.003065</td>\n",
       "      <td>1.000000</td>\n",
       "    </tr>\n",
       "    <tr>\n",
       "      <th>LF_null_recent_research3_True</th>\n",
       "      <td>187</td>\n",
       "      <td>0.000111</td>\n",
       "      <td>0.000111</td>\n",
       "      <td>0.000111</td>\n",
       "      <td>1.000000</td>\n",
       "    </tr>\n",
       "    <tr>\n",
       "      <th>LF_purpose_we_similar_fundamental_neg2_True</th>\n",
       "      <td>73</td>\n",
       "      <td>0.000613</td>\n",
       "      <td>0.000613</td>\n",
       "      <td>0.000613</td>\n",
       "      <td>1.000000</td>\n",
       "    </tr>\n",
       "    <tr>\n",
       "      <th>LF_mechanism_using_a_3_True</th>\n",
       "      <td>106</td>\n",
       "      <td>0.000223</td>\n",
       "      <td>0.000223</td>\n",
       "      <td>0.000223</td>\n",
       "      <td>1.000000</td>\n",
       "    </tr>\n",
       "    <tr>\n",
       "      <th>LF_null_recentlyneg2_True</th>\n",
       "      <td>186</td>\n",
       "      <td>0.002619</td>\n",
       "      <td>0.002619</td>\n",
       "      <td>0.002619</td>\n",
       "      <td>1.000000</td>\n",
       "    </tr>\n",
       "    <tr>\n",
       "      <th>LF_null_recently3_True</th>\n",
       "      <td>185</td>\n",
       "      <td>0.000279</td>\n",
       "      <td>0.000279</td>\n",
       "      <td>0.000279</td>\n",
       "      <td>1.000000</td>\n",
       "    </tr>\n",
       "    <tr>\n",
       "      <th>LF_mechanism_employed_neg2_True</th>\n",
       "      <td>103</td>\n",
       "      <td>0.001783</td>\n",
       "      <td>0.001783</td>\n",
       "      <td>0.001783</td>\n",
       "      <td>1.000000</td>\n",
       "    </tr>\n",
       "    <tr>\n",
       "      <th>LF_purpose_crucialneg2_True</th>\n",
       "      <td>18</td>\n",
       "      <td>0.001282</td>\n",
       "      <td>0.001282</td>\n",
       "      <td>0.001282</td>\n",
       "      <td>1.000000</td>\n",
       "    </tr>\n",
       "    <tr>\n",
       "      <th>LF_purpose_crucial3_True</th>\n",
       "      <td>17</td>\n",
       "      <td>0.000167</td>\n",
       "      <td>0.000167</td>\n",
       "      <td>0.000167</td>\n",
       "      <td>1.000000</td>\n",
       "    </tr>\n",
       "    <tr>\n",
       "      <th>LF_mechanism_employed_3_True</th>\n",
       "      <td>102</td>\n",
       "      <td>0.000111</td>\n",
       "      <td>0.000111</td>\n",
       "      <td>0.000111</td>\n",
       "      <td>1.000000</td>\n",
       "    </tr>\n",
       "    <tr>\n",
       "      <th>LF_null_recent_researchneg2_True</th>\n",
       "      <td>188</td>\n",
       "      <td>0.002898</td>\n",
       "      <td>0.002898</td>\n",
       "      <td>0.002898</td>\n",
       "      <td>1.000000</td>\n",
       "    </tr>\n",
       "    <tr>\n",
       "      <th>LF_purpose_fundamentalneg2_True</th>\n",
       "      <td>12</td>\n",
       "      <td>0.000613</td>\n",
       "      <td>0.000613</td>\n",
       "      <td>0.000613</td>\n",
       "      <td>1.000000</td>\n",
       "    </tr>\n",
       "    <tr>\n",
       "      <th>LF_purpose_fundamental3_True</th>\n",
       "      <td>11</td>\n",
       "      <td>0.000167</td>\n",
       "      <td>0.000167</td>\n",
       "      <td>0.000167</td>\n",
       "      <td>1.000000</td>\n",
       "    </tr>\n",
       "    <tr>\n",
       "      <th>LF_null_indicates_that3_True</th>\n",
       "      <td>175</td>\n",
       "      <td>0.000223</td>\n",
       "      <td>0.000223</td>\n",
       "      <td>0.000223</td>\n",
       "      <td>1.000000</td>\n",
       "    </tr>\n",
       "    <tr>\n",
       "      <th>LF_mechanism_a_function_that3_True</th>\n",
       "      <td>120</td>\n",
       "      <td>0.000056</td>\n",
       "      <td>0.000056</td>\n",
       "      <td>0.000056</td>\n",
       "      <td>1.000000</td>\n",
       "    </tr>\n",
       "    <tr>\n",
       "      <th>LF_null_we_similar_perform_neg2_True</th>\n",
       "      <td>217</td>\n",
       "      <td>0.006465</td>\n",
       "      <td>0.006465</td>\n",
       "      <td>0.006465</td>\n",
       "      <td>1.000000</td>\n",
       "    </tr>\n",
       "    <tr>\n",
       "      <th>LF_null_we_proveneg2_True</th>\n",
       "      <td>164</td>\n",
       "      <td>0.000446</td>\n",
       "      <td>0.000446</td>\n",
       "      <td>0.000446</td>\n",
       "      <td>1.000000</td>\n",
       "    </tr>\n",
       "    <tr>\n",
       "      <th>LF_null_we_prove3_True</th>\n",
       "      <td>163</td>\n",
       "      <td>0.000111</td>\n",
       "      <td>0.000111</td>\n",
       "      <td>0.000111</td>\n",
       "      <td>1.000000</td>\n",
       "    </tr>\n",
       "    <tr>\n",
       "      <th>LF_mechanism_a_function_thatneg2_True</th>\n",
       "      <td>121</td>\n",
       "      <td>0.001393</td>\n",
       "      <td>0.001393</td>\n",
       "      <td>0.001393</td>\n",
       "      <td>1.000000</td>\n",
       "    </tr>\n",
       "    <tr>\n",
       "      <th>LF_null_evaluate_neg2_True</th>\n",
       "      <td>170</td>\n",
       "      <td>0.003901</td>\n",
       "      <td>0.003901</td>\n",
       "      <td>0.003846</td>\n",
       "      <td>0.985714</td>\n",
       "    </tr>\n",
       "    <tr>\n",
       "      <th>LF_null_we_similar_prototype_neg2_True</th>\n",
       "      <td>221</td>\n",
       "      <td>0.006465</td>\n",
       "      <td>0.006242</td>\n",
       "      <td>0.005963</td>\n",
       "      <td>0.922414</td>\n",
       "    </tr>\n",
       "    <tr>\n",
       "      <th>LF_purpose_we_similar_challenging_neg2_True</th>\n",
       "      <td>72</td>\n",
       "      <td>0.002564</td>\n",
       "      <td>0.002564</td>\n",
       "      <td>0.002341</td>\n",
       "      <td>0.913043</td>\n",
       "    </tr>\n",
       "    <tr>\n",
       "      <th>LF_purpose_challengingneg2_True</th>\n",
       "      <td>8</td>\n",
       "      <td>0.002564</td>\n",
       "      <td>0.002564</td>\n",
       "      <td>0.002341</td>\n",
       "      <td>0.913043</td>\n",
       "    </tr>\n",
       "    <tr>\n",
       "      <th>LF_null_datasetneg2_True</th>\n",
       "      <td>142</td>\n",
       "      <td>0.008137</td>\n",
       "      <td>0.008137</td>\n",
       "      <td>0.007245</td>\n",
       "      <td>0.890411</td>\n",
       "    </tr>\n",
       "    <tr>\n",
       "      <th>LF_null_we_similar_report_neg2_True</th>\n",
       "      <td>219</td>\n",
       "      <td>0.008416</td>\n",
       "      <td>0.008137</td>\n",
       "      <td>0.007412</td>\n",
       "      <td>0.880795</td>\n",
       "    </tr>\n",
       "    <tr>\n",
       "      <th>LF_mechanism_employ_neg2_True</th>\n",
       "      <td>99</td>\n",
       "      <td>0.003288</td>\n",
       "      <td>0.003288</td>\n",
       "      <td>0.002842</td>\n",
       "      <td>0.864407</td>\n",
       "    </tr>\n",
       "    <tr>\n",
       "      <th>LF_mechanism_approach_neg2_True</th>\n",
       "      <td>117</td>\n",
       "      <td>0.030318</td>\n",
       "      <td>0.030318</td>\n",
       "      <td>0.026083</td>\n",
       "      <td>0.860294</td>\n",
       "    </tr>\n",
       "    <tr>\n",
       "      <th>LF_null_we_similar_dataset_neg2_True</th>\n",
       "      <td>212</td>\n",
       "      <td>0.005239</td>\n",
       "      <td>0.005239</td>\n",
       "      <td>0.004459</td>\n",
       "      <td>0.851064</td>\n",
       "    </tr>\n",
       "    <tr>\n",
       "      <th>LF_mechanism_we_similar_approach_neg2_True</th>\n",
       "      <td>133</td>\n",
       "      <td>0.031767</td>\n",
       "      <td>0.031767</td>\n",
       "      <td>0.026919</td>\n",
       "      <td>0.847368</td>\n",
       "    </tr>\n",
       "    <tr>\n",
       "      <th>LF_mechanism_we_similar_employ_neg2_True</th>\n",
       "      <td>135</td>\n",
       "      <td>0.003400</td>\n",
       "      <td>0.003400</td>\n",
       "      <td>0.002842</td>\n",
       "      <td>0.836066</td>\n",
       "    </tr>\n",
       "    <tr>\n",
       "      <th>LF_mechanism_we_use_neg2_True</th>\n",
       "      <td>97</td>\n",
       "      <td>0.001951</td>\n",
       "      <td>0.001616</td>\n",
       "      <td>0.001616</td>\n",
       "      <td>0.828571</td>\n",
       "    </tr>\n",
       "    <tr>\n",
       "      <th>LF_null_we_similar_empirical_neg2_True</th>\n",
       "      <td>218</td>\n",
       "      <td>0.014880</td>\n",
       "      <td>0.013153</td>\n",
       "      <td>0.012261</td>\n",
       "      <td>0.823970</td>\n",
       "    </tr>\n",
       "    <tr>\n",
       "      <th>LF_null_demonstrateneg2_True</th>\n",
       "      <td>172</td>\n",
       "      <td>0.031098</td>\n",
       "      <td>0.028758</td>\n",
       "      <td>0.025247</td>\n",
       "      <td>0.811828</td>\n",
       "    </tr>\n",
       "    <tr>\n",
       "      <th>LF_null_popular_neg2_True</th>\n",
       "      <td>196</td>\n",
       "      <td>0.006353</td>\n",
       "      <td>0.005462</td>\n",
       "      <td>0.005127</td>\n",
       "      <td>0.807018</td>\n",
       "    </tr>\n",
       "    <tr>\n",
       "      <th>LF_mechanism_using_the_neg2_True</th>\n",
       "      <td>109</td>\n",
       "      <td>0.006298</td>\n",
       "      <td>0.005573</td>\n",
       "      <td>0.004793</td>\n",
       "      <td>0.761062</td>\n",
       "    </tr>\n",
       "    <tr>\n",
       "      <th>LF_mechanism_develops_neg2_True</th>\n",
       "      <td>87</td>\n",
       "      <td>0.001393</td>\n",
       "      <td>0.001115</td>\n",
       "      <td>0.001059</td>\n",
       "      <td>0.760000</td>\n",
       "    </tr>\n",
       "    <tr>\n",
       "      <th>LF_mechanism_present_neg2_True</th>\n",
       "      <td>95</td>\n",
       "      <td>0.033161</td>\n",
       "      <td>0.032826</td>\n",
       "      <td>0.024689</td>\n",
       "      <td>0.744538</td>\n",
       "    </tr>\n",
       "    <tr>\n",
       "      <th>LF_mechanism_we_similar_present_neg2_True</th>\n",
       "      <td>129</td>\n",
       "      <td>0.034052</td>\n",
       "      <td>0.034052</td>\n",
       "      <td>0.025191</td>\n",
       "      <td>0.739771</td>\n",
       "    </tr>\n",
       "    <tr>\n",
       "      <th>LF_null_previously3_True</th>\n",
       "      <td>201</td>\n",
       "      <td>0.000836</td>\n",
       "      <td>0.000780</td>\n",
       "      <td>0.000613</td>\n",
       "      <td>0.733333</td>\n",
       "    </tr>\n",
       "    <tr>\n",
       "      <th>LF_mechanism_provideneg2_True</th>\n",
       "      <td>91</td>\n",
       "      <td>0.036560</td>\n",
       "      <td>0.035947</td>\n",
       "      <td>0.026751</td>\n",
       "      <td>0.731707</td>\n",
       "    </tr>\n",
       "    <tr>\n",
       "      <th>LF_null_compared_toneg2_True</th>\n",
       "      <td>206</td>\n",
       "      <td>0.007078</td>\n",
       "      <td>0.007078</td>\n",
       "      <td>0.005127</td>\n",
       "      <td>0.724409</td>\n",
       "    </tr>\n",
       "    <tr>\n",
       "      <th>LF_null_generalneg2_True</th>\n",
       "      <td>204</td>\n",
       "      <td>0.015716</td>\n",
       "      <td>0.012930</td>\n",
       "      <td>0.011258</td>\n",
       "      <td>0.716312</td>\n",
       "    </tr>\n",
       "    <tr>\n",
       "      <th>LF_mechanism_via_neg2_True</th>\n",
       "      <td>119</td>\n",
       "      <td>0.011481</td>\n",
       "      <td>0.010199</td>\n",
       "      <td>0.008137</td>\n",
       "      <td>0.708738</td>\n",
       "    </tr>\n",
       "    <tr>\n",
       "      <th>LF_null_settingsneg1_True</th>\n",
       "      <td>210</td>\n",
       "      <td>0.004737</td>\n",
       "      <td>0.003678</td>\n",
       "      <td>0.003344</td>\n",
       "      <td>0.705882</td>\n",
       "    </tr>\n",
       "    <tr>\n",
       "      <th>LF_null_dataset3_True</th>\n",
       "      <td>141</td>\n",
       "      <td>0.001672</td>\n",
       "      <td>0.001560</td>\n",
       "      <td>0.001170</td>\n",
       "      <td>0.700000</td>\n",
       "    </tr>\n",
       "    <tr>\n",
       "      <th>LF_null_evaluate_3_True</th>\n",
       "      <td>169</td>\n",
       "      <td>0.000557</td>\n",
       "      <td>0.000446</td>\n",
       "      <td>0.000390</td>\n",
       "      <td>0.700000</td>\n",
       "    </tr>\n",
       "    <tr>\n",
       "      <th>LF_mechanism_we_similar_approach_neg1_True</th>\n",
       "      <td>132</td>\n",
       "      <td>0.014713</td>\n",
       "      <td>0.012930</td>\n",
       "      <td>0.010199</td>\n",
       "      <td>0.693182</td>\n",
       "    </tr>\n",
       "    <tr>\n",
       "      <th>LF_null_has_beenneg2_True</th>\n",
       "      <td>192</td>\n",
       "      <td>0.005629</td>\n",
       "      <td>0.004180</td>\n",
       "      <td>0.003846</td>\n",
       "      <td>0.683168</td>\n",
       "    </tr>\n",
       "    <tr>\n",
       "      <th>LF_mechanism_we_similar_provide_neg2_True</th>\n",
       "      <td>127</td>\n",
       "      <td>0.025971</td>\n",
       "      <td>0.024355</td>\n",
       "      <td>0.017723</td>\n",
       "      <td>0.682403</td>\n",
       "    </tr>\n",
       "    <tr>\n",
       "      <th>LF_null_the_success_of3_True</th>\n",
       "      <td>183</td>\n",
       "      <td>0.000167</td>\n",
       "      <td>0.000111</td>\n",
       "      <td>0.000111</td>\n",
       "      <td>0.666667</td>\n",
       "    </tr>\n",
       "    <tr>\n",
       "      <th>LF_mechanism_via_3_True</th>\n",
       "      <td>118</td>\n",
       "      <td>0.001338</td>\n",
       "      <td>0.001226</td>\n",
       "      <td>0.000892</td>\n",
       "      <td>0.666667</td>\n",
       "    </tr>\n",
       "    <tr>\n",
       "      <th>LF_null_demonstrate3_True</th>\n",
       "      <td>171</td>\n",
       "      <td>0.003846</td>\n",
       "      <td>0.003567</td>\n",
       "      <td>0.002508</td>\n",
       "      <td>0.652174</td>\n",
       "    </tr>\n",
       "    <tr>\n",
       "      <th>LF_purpose_in_order_toneg2_True</th>\n",
       "      <td>56</td>\n",
       "      <td>0.007524</td>\n",
       "      <td>0.007524</td>\n",
       "      <td>0.004904</td>\n",
       "      <td>0.651852</td>\n",
       "    </tr>\n",
       "    <tr>\n",
       "      <th>LF_purpose_allow_neg2_True</th>\n",
       "      <td>22</td>\n",
       "      <td>0.004737</td>\n",
       "      <td>0.004737</td>\n",
       "      <td>0.003065</td>\n",
       "      <td>0.647059</td>\n",
       "    </tr>\n",
       "    <tr>\n",
       "      <th>purpose_to_verb</th>\n",
       "      <td>69</td>\n",
       "      <td>0.068773</td>\n",
       "      <td>0.060915</td>\n",
       "      <td>0.044474</td>\n",
       "      <td>0.646677</td>\n",
       "    </tr>\n",
       "    <tr>\n",
       "      <th>mechanism_an_algorithm</th>\n",
       "      <td>137</td>\n",
       "      <td>0.002341</td>\n",
       "      <td>0.002229</td>\n",
       "      <td>0.001505</td>\n",
       "      <td>0.642857</td>\n",
       "    </tr>\n",
       "    <tr>\n",
       "      <th>LF_purpose_we_similar_problem_neg2_True</th>\n",
       "      <td>71</td>\n",
       "      <td>0.039347</td>\n",
       "      <td>0.037786</td>\n",
       "      <td>0.024968</td>\n",
       "      <td>0.634561</td>\n",
       "    </tr>\n",
       "    <tr>\n",
       "      <th>LF_null_test3_True</th>\n",
       "      <td>139</td>\n",
       "      <td>0.002285</td>\n",
       "      <td>0.002118</td>\n",
       "      <td>0.001449</td>\n",
       "      <td>0.634146</td>\n",
       "    </tr>\n",
       "    <tr>\n",
       "      <th>LF_purpose_taskneg2_True</th>\n",
       "      <td>28</td>\n",
       "      <td>0.030708</td>\n",
       "      <td>0.030708</td>\n",
       "      <td>0.019339</td>\n",
       "      <td>0.629764</td>\n",
       "    </tr>\n",
       "    <tr>\n",
       "      <th>LF_null_testneg2_True</th>\n",
       "      <td>140</td>\n",
       "      <td>0.011481</td>\n",
       "      <td>0.009084</td>\n",
       "      <td>0.007189</td>\n",
       "      <td>0.626214</td>\n",
       "    </tr>\n",
       "    <tr>\n",
       "      <th>LF_purpose_allows_3_True</th>\n",
       "      <td>23</td>\n",
       "      <td>0.000892</td>\n",
       "      <td>0.000725</td>\n",
       "      <td>0.000557</td>\n",
       "      <td>0.625000</td>\n",
       "    </tr>\n",
       "    <tr>\n",
       "      <th>mechanism_by_adv_doing</th>\n",
       "      <td>136</td>\n",
       "      <td>0.024968</td>\n",
       "      <td>0.024968</td>\n",
       "      <td>0.015438</td>\n",
       "      <td>0.618304</td>\n",
       "    </tr>\n",
       "    <tr>\n",
       "      <th>LF_null_general3_True</th>\n",
       "      <td>203</td>\n",
       "      <td>0.002174</td>\n",
       "      <td>0.002174</td>\n",
       "      <td>0.001338</td>\n",
       "      <td>0.615385</td>\n",
       "    </tr>\n",
       "    <tr>\n",
       "      <th>LF_mechanism_we_similar_method_neg2_True</th>\n",
       "      <td>131</td>\n",
       "      <td>0.060469</td>\n",
       "      <td>0.056791</td>\n",
       "      <td>0.037006</td>\n",
       "      <td>0.611982</td>\n",
       "    </tr>\n",
       "    <tr>\n",
       "      <th>LF_mechanism_includeneg2_True</th>\n",
       "      <td>81</td>\n",
       "      <td>0.014936</td>\n",
       "      <td>0.013431</td>\n",
       "      <td>0.009140</td>\n",
       "      <td>0.611940</td>\n",
       "    </tr>\n",
       "    <tr>\n",
       "      <th>LF_mechanism_approach_3_True</th>\n",
       "      <td>116</td>\n",
       "      <td>0.003010</td>\n",
       "      <td>0.003010</td>\n",
       "      <td>0.001839</td>\n",
       "      <td>0.611111</td>\n",
       "    </tr>\n",
       "    <tr>\n",
       "      <th>purpose_for_doing</th>\n",
       "      <td>68</td>\n",
       "      <td>0.035724</td>\n",
       "      <td>0.027699</td>\n",
       "      <td>0.021791</td>\n",
       "      <td>0.609984</td>\n",
       "    </tr>\n",
       "    <tr>\n",
       "      <th>LF_purpose_goalneg2_True</th>\n",
       "      <td>2</td>\n",
       "      <td>0.009586</td>\n",
       "      <td>0.008304</td>\n",
       "      <td>0.005796</td>\n",
       "      <td>0.604651</td>\n",
       "    </tr>\n",
       "    <tr>\n",
       "      <th>LF_mechanism_we_similar_propose_neg2_True</th>\n",
       "      <td>123</td>\n",
       "      <td>0.018113</td>\n",
       "      <td>0.018113</td>\n",
       "      <td>0.010923</td>\n",
       "      <td>0.603077</td>\n",
       "    </tr>\n",
       "    <tr>\n",
       "      <th>LF_purpose_whetherneg2_True</th>\n",
       "      <td>54</td>\n",
       "      <td>0.007134</td>\n",
       "      <td>0.006186</td>\n",
       "      <td>0.004291</td>\n",
       "      <td>0.601562</td>\n",
       "    </tr>\n",
       "    <tr>\n",
       "      <th>LF_mechanism_by_usingneg2_True</th>\n",
       "      <td>111</td>\n",
       "      <td>0.001951</td>\n",
       "      <td>0.001951</td>\n",
       "      <td>0.001170</td>\n",
       "      <td>0.600000</td>\n",
       "    </tr>\n",
       "    <tr>\n",
       "      <th>LF_mechanism_uses_neg2_True</th>\n",
       "      <td>105</td>\n",
       "      <td>0.008304</td>\n",
       "      <td>0.005740</td>\n",
       "      <td>0.004960</td>\n",
       "      <td>0.597315</td>\n",
       "    </tr>\n",
       "    <tr>\n",
       "      <th>LF_purpose_problemneg1_True</th>\n",
       "      <td>62</td>\n",
       "      <td>0.033774</td>\n",
       "      <td>0.029092</td>\n",
       "      <td>0.019841</td>\n",
       "      <td>0.587459</td>\n",
       "    </tr>\n",
       "    <tr>\n",
       "      <th>LF_purpose_TO_VB_neg2_True</th>\n",
       "      <td>0</td>\n",
       "      <td>0.153598</td>\n",
       "      <td>0.125676</td>\n",
       "      <td>0.089729</td>\n",
       "      <td>0.584180</td>\n",
       "    </tr>\n",
       "    <tr>\n",
       "      <th>LF_mechanism_uses_3_True</th>\n",
       "      <td>104</td>\n",
       "      <td>0.001338</td>\n",
       "      <td>0.001059</td>\n",
       "      <td>0.000780</td>\n",
       "      <td>0.583333</td>\n",
       "    </tr>\n",
       "    <tr>\n",
       "      <th>LF_null_have_beenneg2_True</th>\n",
       "      <td>182</td>\n",
       "      <td>0.004236</td>\n",
       "      <td>0.002564</td>\n",
       "      <td>0.002452</td>\n",
       "      <td>0.578947</td>\n",
       "    </tr>\n",
       "    <tr>\n",
       "      <th>LF_null_generalneg1_True</th>\n",
       "      <td>211</td>\n",
       "      <td>0.008304</td>\n",
       "      <td>0.005796</td>\n",
       "      <td>0.004793</td>\n",
       "      <td>0.577181</td>\n",
       "    </tr>\n",
       "    <tr>\n",
       "      <th>LF_mechanism_method_neg2_True</th>\n",
       "      <td>115</td>\n",
       "      <td>0.040183</td>\n",
       "      <td>0.040183</td>\n",
       "      <td>0.023017</td>\n",
       "      <td>0.572816</td>\n",
       "    </tr>\n",
       "    <tr>\n",
       "      <th>LF_null_resultsneg2_True</th>\n",
       "      <td>146</td>\n",
       "      <td>0.055175</td>\n",
       "      <td>0.044418</td>\n",
       "      <td>0.031544</td>\n",
       "      <td>0.571717</td>\n",
       "    </tr>\n",
       "    <tr>\n",
       "      <th>LF_null_evaluated_neg2_True</th>\n",
       "      <td>168</td>\n",
       "      <td>0.005796</td>\n",
       "      <td>0.004960</td>\n",
       "      <td>0.003288</td>\n",
       "      <td>0.567308</td>\n",
       "    </tr>\n",
       "    <tr>\n",
       "      <th>LF_mechanism_proposeneg2_True</th>\n",
       "      <td>79</td>\n",
       "      <td>0.024243</td>\n",
       "      <td>0.023073</td>\n",
       "      <td>0.013599</td>\n",
       "      <td>0.560920</td>\n",
       "    </tr>\n",
       "    <tr>\n",
       "      <th>LF_purpose_goal3_True</th>\n",
       "      <td>1</td>\n",
       "      <td>0.001505</td>\n",
       "      <td>0.001338</td>\n",
       "      <td>0.000836</td>\n",
       "      <td>0.555556</td>\n",
       "    </tr>\n",
       "    <tr>\n",
       "      <th>LF_null_we_similar_experiment_neg2_True</th>\n",
       "      <td>216</td>\n",
       "      <td>0.013153</td>\n",
       "      <td>0.013153</td>\n",
       "      <td>0.007301</td>\n",
       "      <td>0.555085</td>\n",
       "    </tr>\n",
       "    <tr>\n",
       "      <th>LF_purpose_task3_True</th>\n",
       "      <td>27</td>\n",
       "      <td>0.007357</td>\n",
       "      <td>0.007357</td>\n",
       "      <td>0.004068</td>\n",
       "      <td>0.553030</td>\n",
       "    </tr>\n",
       "    <tr>\n",
       "      <th>LF_purpose_we_similar_task_neg2_True</th>\n",
       "      <td>75</td>\n",
       "      <td>0.015103</td>\n",
       "      <td>0.015103</td>\n",
       "      <td>0.008304</td>\n",
       "      <td>0.549815</td>\n",
       "    </tr>\n",
       "    <tr>\n",
       "      <th>LF_mechanism_provide3_True</th>\n",
       "      <td>90</td>\n",
       "      <td>0.006186</td>\n",
       "      <td>0.006019</td>\n",
       "      <td>0.003400</td>\n",
       "      <td>0.549550</td>\n",
       "    </tr>\n",
       "    <tr>\n",
       "      <th>LF_purpose_problem3_True</th>\n",
       "      <td>61</td>\n",
       "      <td>0.007022</td>\n",
       "      <td>0.007022</td>\n",
       "      <td>0.003846</td>\n",
       "      <td>0.547619</td>\n",
       "    </tr>\n",
       "    <tr>\n",
       "      <th>LF_purpose_a_study_ofneg2_True</th>\n",
       "      <td>40</td>\n",
       "      <td>0.001226</td>\n",
       "      <td>0.001226</td>\n",
       "      <td>0.000669</td>\n",
       "      <td>0.545455</td>\n",
       "    </tr>\n",
       "    <tr>\n",
       "      <th>LF_mechanism_includesneg2_True</th>\n",
       "      <td>83</td>\n",
       "      <td>0.009029</td>\n",
       "      <td>0.009029</td>\n",
       "      <td>0.004849</td>\n",
       "      <td>0.537037</td>\n",
       "    </tr>\n",
       "    <tr>\n",
       "      <th>mechanism_then_VB</th>\n",
       "      <td>138</td>\n",
       "      <td>0.019172</td>\n",
       "      <td>0.012261</td>\n",
       "      <td>0.010199</td>\n",
       "      <td>0.531977</td>\n",
       "    </tr>\n",
       "    <tr>\n",
       "      <th>LF_purpose_existing_neg2_True</th>\n",
       "      <td>48</td>\n",
       "      <td>0.011592</td>\n",
       "      <td>0.010645</td>\n",
       "      <td>0.006131</td>\n",
       "      <td>0.528846</td>\n",
       "    </tr>\n",
       "    <tr>\n",
       "      <th>LF_purpose_to_understandneg2_True</th>\n",
       "      <td>14</td>\n",
       "      <td>0.004013</td>\n",
       "      <td>0.004013</td>\n",
       "      <td>0.002118</td>\n",
       "      <td>0.527778</td>\n",
       "    </tr>\n",
       "    <tr>\n",
       "      <th>LF_mechanism_we_similar_propose_neg1_True</th>\n",
       "      <td>122</td>\n",
       "      <td>0.004347</td>\n",
       "      <td>0.003846</td>\n",
       "      <td>0.002285</td>\n",
       "      <td>0.525641</td>\n",
       "    </tr>\n",
       "    <tr>\n",
       "      <th>LF_purpose_taskneg1_True</th>\n",
       "      <td>66</td>\n",
       "      <td>0.040127</td>\n",
       "      <td>0.033161</td>\n",
       "      <td>0.020955</td>\n",
       "      <td>0.522222</td>\n",
       "    </tr>\n",
       "    <tr>\n",
       "      <th>LF_purpose_we_similar_challenge_neg2_True</th>\n",
       "      <td>76</td>\n",
       "      <td>0.010032</td>\n",
       "      <td>0.010032</td>\n",
       "      <td>0.005239</td>\n",
       "      <td>0.522222</td>\n",
       "    </tr>\n",
       "    <tr>\n",
       "      <th>LF_mechanism_we_similar_provide_neg1_True</th>\n",
       "      <td>126</td>\n",
       "      <td>0.023296</td>\n",
       "      <td>0.017556</td>\n",
       "      <td>0.012150</td>\n",
       "      <td>0.521531</td>\n",
       "    </tr>\n",
       "    <tr>\n",
       "      <th>LF_mechanism_by_neg2_True</th>\n",
       "      <td>113</td>\n",
       "      <td>0.075405</td>\n",
       "      <td>0.060302</td>\n",
       "      <td>0.039291</td>\n",
       "      <td>0.521064</td>\n",
       "    </tr>\n",
       "    <tr>\n",
       "      <th>LF_purpose_challengeneg2_True</th>\n",
       "      <td>10</td>\n",
       "      <td>0.025414</td>\n",
       "      <td>0.021234</td>\n",
       "      <td>0.013097</td>\n",
       "      <td>0.515351</td>\n",
       "    </tr>\n",
       "    <tr>\n",
       "      <th>LF_null_the_success_ofneg2_True</th>\n",
       "      <td>184</td>\n",
       "      <td>0.003790</td>\n",
       "      <td>0.001951</td>\n",
       "      <td>0.001951</td>\n",
       "      <td>0.514706</td>\n",
       "    </tr>\n",
       "    <tr>\n",
       "      <th>LF_null_showneg2_True</th>\n",
       "      <td>148</td>\n",
       "      <td>0.083319</td>\n",
       "      <td>0.080366</td>\n",
       "      <td>0.042245</td>\n",
       "      <td>0.507023</td>\n",
       "    </tr>\n",
       "    <tr>\n",
       "      <th>LF_mechanism_method_3_True</th>\n",
       "      <td>114</td>\n",
       "      <td>0.003010</td>\n",
       "      <td>0.003010</td>\n",
       "      <td>0.001505</td>\n",
       "      <td>0.500000</td>\n",
       "    </tr>\n",
       "    <tr>\n",
       "      <th>LF_null_compared_to3_True</th>\n",
       "      <td>205</td>\n",
       "      <td>0.001115</td>\n",
       "      <td>0.001115</td>\n",
       "      <td>0.000557</td>\n",
       "      <td>0.500000</td>\n",
       "    </tr>\n",
       "    <tr>\n",
       "      <th>LF_purpose_in_order_to3_True</th>\n",
       "      <td>55</td>\n",
       "      <td>0.000446</td>\n",
       "      <td>0.000334</td>\n",
       "      <td>0.000223</td>\n",
       "      <td>0.500000</td>\n",
       "    </tr>\n",
       "    <tr>\n",
       "      <th>LF_purpose_to_understand3_True</th>\n",
       "      <td>13</td>\n",
       "      <td>0.000446</td>\n",
       "      <td>0.000390</td>\n",
       "      <td>0.000223</td>\n",
       "      <td>0.500000</td>\n",
       "    </tr>\n",
       "    <tr>\n",
       "      <th>LF_purpose_yet_3_True</th>\n",
       "      <td>41</td>\n",
       "      <td>0.000223</td>\n",
       "      <td>0.000223</td>\n",
       "      <td>0.000111</td>\n",
       "      <td>0.500000</td>\n",
       "    </tr>\n",
       "    <tr>\n",
       "      <th>LF_mechanism_by_using3_True</th>\n",
       "      <td>110</td>\n",
       "      <td>0.000223</td>\n",
       "      <td>0.000223</td>\n",
       "      <td>0.000111</td>\n",
       "      <td>0.500000</td>\n",
       "    </tr>\n",
       "    <tr>\n",
       "      <th>LF_null_compare_3_True</th>\n",
       "      <td>207</td>\n",
       "      <td>0.000223</td>\n",
       "      <td>0.000167</td>\n",
       "      <td>0.000111</td>\n",
       "      <td>0.500000</td>\n",
       "    </tr>\n",
       "    <tr>\n",
       "      <th>LF_purpose_existing_3_True</th>\n",
       "      <td>47</td>\n",
       "      <td>0.001115</td>\n",
       "      <td>0.001003</td>\n",
       "      <td>0.000557</td>\n",
       "      <td>0.500000</td>\n",
       "    </tr>\n",
       "    <tr>\n",
       "      <th>LF_null_settings3_True</th>\n",
       "      <td>209</td>\n",
       "      <td>0.001003</td>\n",
       "      <td>0.000836</td>\n",
       "      <td>0.000502</td>\n",
       "      <td>0.500000</td>\n",
       "    </tr>\n",
       "    <tr>\n",
       "      <th>LF_null_we_similar_interview_neg2_True</th>\n",
       "      <td>214</td>\n",
       "      <td>0.003901</td>\n",
       "      <td>0.002285</td>\n",
       "      <td>0.001951</td>\n",
       "      <td>0.500000</td>\n",
       "    </tr>\n",
       "    <tr>\n",
       "      <th>LF_purpose_a_study_of3_True</th>\n",
       "      <td>39</td>\n",
       "      <td>0.000111</td>\n",
       "      <td>0.000111</td>\n",
       "      <td>0.000056</td>\n",
       "      <td>0.500000</td>\n",
       "    </tr>\n",
       "    <tr>\n",
       "      <th>LF_purpose_allows_neg2_True</th>\n",
       "      <td>24</td>\n",
       "      <td>0.007970</td>\n",
       "      <td>0.007691</td>\n",
       "      <td>0.003901</td>\n",
       "      <td>0.489510</td>\n",
       "    </tr>\n",
       "    <tr>\n",
       "      <th>LF_null_experiment3_True</th>\n",
       "      <td>143</td>\n",
       "      <td>0.006075</td>\n",
       "      <td>0.005295</td>\n",
       "      <td>0.002954</td>\n",
       "      <td>0.486239</td>\n",
       "    </tr>\n",
       "    <tr>\n",
       "      <th>LF_purpose_we_similar_allow_neg2_True</th>\n",
       "      <td>77</td>\n",
       "      <td>0.009196</td>\n",
       "      <td>0.007802</td>\n",
       "      <td>0.004403</td>\n",
       "      <td>0.478788</td>\n",
       "    </tr>\n",
       "    <tr>\n",
       "      <th>LF_null_we_similar_shows_neg2_True</th>\n",
       "      <td>220</td>\n",
       "      <td>0.058407</td>\n",
       "      <td>0.058407</td>\n",
       "      <td>0.027699</td>\n",
       "      <td>0.474237</td>\n",
       "    </tr>\n",
       "    <tr>\n",
       "      <th>LF_null_show_thatneg2_True</th>\n",
       "      <td>152</td>\n",
       "      <td>0.032603</td>\n",
       "      <td>0.032603</td>\n",
       "      <td>0.015382</td>\n",
       "      <td>0.471795</td>\n",
       "    </tr>\n",
       "    <tr>\n",
       "      <th>LF_null_we_similar_indicate_neg2_True</th>\n",
       "      <td>213</td>\n",
       "      <td>0.004681</td>\n",
       "      <td>0.004681</td>\n",
       "      <td>0.002174</td>\n",
       "      <td>0.464286</td>\n",
       "    </tr>\n",
       "    <tr>\n",
       "      <th>LF_mechanism_we_similar_method_neg1_True</th>\n",
       "      <td>130</td>\n",
       "      <td>0.024801</td>\n",
       "      <td>0.019450</td>\n",
       "      <td>0.011425</td>\n",
       "      <td>0.460674</td>\n",
       "    </tr>\n",
       "    <tr>\n",
       "      <th>LF_null_has_shownneg2_True</th>\n",
       "      <td>194</td>\n",
       "      <td>0.006298</td>\n",
       "      <td>0.006298</td>\n",
       "      <td>0.002842</td>\n",
       "      <td>0.451327</td>\n",
       "    </tr>\n",
       "    <tr>\n",
       "      <th>LF_purpose_but_neg2_True</th>\n",
       "      <td>44</td>\n",
       "      <td>0.031266</td>\n",
       "      <td>0.022181</td>\n",
       "      <td>0.014100</td>\n",
       "      <td>0.450980</td>\n",
       "    </tr>\n",
       "    <tr>\n",
       "      <th>LF_null_experimentneg2_True</th>\n",
       "      <td>144</td>\n",
       "      <td>0.040183</td>\n",
       "      <td>0.037229</td>\n",
       "      <td>0.018113</td>\n",
       "      <td>0.450763</td>\n",
       "    </tr>\n",
       "    <tr>\n",
       "      <th>LF_mechanism_develop_neg2_True</th>\n",
       "      <td>85</td>\n",
       "      <td>0.003344</td>\n",
       "      <td>0.003344</td>\n",
       "      <td>0.001505</td>\n",
       "      <td>0.450000</td>\n",
       "    </tr>\n",
       "    <tr>\n",
       "      <th>LF_mechanism_by_3_True</th>\n",
       "      <td>112</td>\n",
       "      <td>0.009363</td>\n",
       "      <td>0.007970</td>\n",
       "      <td>0.004124</td>\n",
       "      <td>0.440476</td>\n",
       "    </tr>\n",
       "    <tr>\n",
       "      <th>LF_purpose_howeverneg2_True</th>\n",
       "      <td>38</td>\n",
       "      <td>0.028312</td>\n",
       "      <td>0.021903</td>\n",
       "      <td>0.012428</td>\n",
       "      <td>0.438976</td>\n",
       "    </tr>\n",
       "    <tr>\n",
       "      <th>LF_mechanism_we_similar_develop_neg2_True</th>\n",
       "      <td>125</td>\n",
       "      <td>0.003567</td>\n",
       "      <td>0.003567</td>\n",
       "      <td>0.001560</td>\n",
       "      <td>0.437500</td>\n",
       "    </tr>\n",
       "    <tr>\n",
       "      <th>LF_mechanism_include3_True</th>\n",
       "      <td>80</td>\n",
       "      <td>0.002341</td>\n",
       "      <td>0.002285</td>\n",
       "      <td>0.001003</td>\n",
       "      <td>0.428571</td>\n",
       "    </tr>\n",
       "    <tr>\n",
       "      <th>LF_purpose_issueneg1_True</th>\n",
       "      <td>65</td>\n",
       "      <td>0.000780</td>\n",
       "      <td>0.000613</td>\n",
       "      <td>0.000334</td>\n",
       "      <td>0.428571</td>\n",
       "    </tr>\n",
       "    <tr>\n",
       "      <th>LF_mechanism_we_similar_present_neg1_True</th>\n",
       "      <td>128</td>\n",
       "      <td>0.010701</td>\n",
       "      <td>0.007357</td>\n",
       "      <td>0.004570</td>\n",
       "      <td>0.427083</td>\n",
       "    </tr>\n",
       "    <tr>\n",
       "      <th>LF_null_previouslyneg2_True</th>\n",
       "      <td>202</td>\n",
       "      <td>0.002675</td>\n",
       "      <td>0.002675</td>\n",
       "      <td>0.001115</td>\n",
       "      <td>0.416667</td>\n",
       "    </tr>\n",
       "    <tr>\n",
       "      <th>LF_null_show3_True</th>\n",
       "      <td>147</td>\n",
       "      <td>0.010032</td>\n",
       "      <td>0.009140</td>\n",
       "      <td>0.004068</td>\n",
       "      <td>0.405556</td>\n",
       "    </tr>\n",
       "    <tr>\n",
       "      <th>LF_mechanism_propose3_True</th>\n",
       "      <td>78</td>\n",
       "      <td>0.003344</td>\n",
       "      <td>0.003288</td>\n",
       "      <td>0.001338</td>\n",
       "      <td>0.400000</td>\n",
       "    </tr>\n",
       "    <tr>\n",
       "      <th>LF_null_popular_3_True</th>\n",
       "      <td>195</td>\n",
       "      <td>0.000557</td>\n",
       "      <td>0.000446</td>\n",
       "      <td>0.000223</td>\n",
       "      <td>0.400000</td>\n",
       "    </tr>\n",
       "    <tr>\n",
       "      <th>LF_purpose_allow_3_True</th>\n",
       "      <td>21</td>\n",
       "      <td>0.000557</td>\n",
       "      <td>0.000557</td>\n",
       "      <td>0.000223</td>\n",
       "      <td>0.400000</td>\n",
       "    </tr>\n",
       "    <tr>\n",
       "      <th>LF_null_evaluated_3_True</th>\n",
       "      <td>167</td>\n",
       "      <td>0.000557</td>\n",
       "      <td>0.000502</td>\n",
       "      <td>0.000223</td>\n",
       "      <td>0.400000</td>\n",
       "    </tr>\n",
       "    <tr>\n",
       "      <th>LF_purpose_we_similar_issue_neg2_True</th>\n",
       "      <td>74</td>\n",
       "      <td>0.003511</td>\n",
       "      <td>0.003511</td>\n",
       "      <td>0.001393</td>\n",
       "      <td>0.396825</td>\n",
       "    </tr>\n",
       "    <tr>\n",
       "      <th>LF_purpose_issueneg2_True</th>\n",
       "      <td>20</td>\n",
       "      <td>0.003511</td>\n",
       "      <td>0.003511</td>\n",
       "      <td>0.001393</td>\n",
       "      <td>0.396825</td>\n",
       "    </tr>\n",
       "    <tr>\n",
       "      <th>LF_null_observeneg2_True</th>\n",
       "      <td>162</td>\n",
       "      <td>0.002842</td>\n",
       "      <td>0.001226</td>\n",
       "      <td>0.001115</td>\n",
       "      <td>0.392157</td>\n",
       "    </tr>\n",
       "    <tr>\n",
       "      <th>LF_purpose_yet_neg2_True</th>\n",
       "      <td>42</td>\n",
       "      <td>0.002285</td>\n",
       "      <td>0.002285</td>\n",
       "      <td>0.000892</td>\n",
       "      <td>0.390244</td>\n",
       "    </tr>\n",
       "    <tr>\n",
       "      <th>LF_purpose_whether3_True</th>\n",
       "      <td>53</td>\n",
       "      <td>0.001003</td>\n",
       "      <td>0.000947</td>\n",
       "      <td>0.000390</td>\n",
       "      <td>0.388889</td>\n",
       "    </tr>\n",
       "    <tr>\n",
       "      <th>LF_null_results3_True</th>\n",
       "      <td>145</td>\n",
       "      <td>0.007802</td>\n",
       "      <td>0.006521</td>\n",
       "      <td>0.003010</td>\n",
       "      <td>0.385714</td>\n",
       "    </tr>\n",
       "    <tr>\n",
       "      <th>LF_null_increasingneg2_True</th>\n",
       "      <td>200</td>\n",
       "      <td>0.008471</td>\n",
       "      <td>0.006911</td>\n",
       "      <td>0.003177</td>\n",
       "      <td>0.375000</td>\n",
       "    </tr>\n",
       "    <tr>\n",
       "      <th>LF_mechanism_present_3_True</th>\n",
       "      <td>94</td>\n",
       "      <td>0.002675</td>\n",
       "      <td>0.002619</td>\n",
       "      <td>0.001003</td>\n",
       "      <td>0.375000</td>\n",
       "    </tr>\n",
       "    <tr>\n",
       "      <th>LF_null_has_been3_True</th>\n",
       "      <td>191</td>\n",
       "      <td>0.000892</td>\n",
       "      <td>0.000669</td>\n",
       "      <td>0.000334</td>\n",
       "      <td>0.375000</td>\n",
       "    </tr>\n",
       "    <tr>\n",
       "      <th>LF_null_have_been3_True</th>\n",
       "      <td>181</td>\n",
       "      <td>0.000446</td>\n",
       "      <td>0.000279</td>\n",
       "      <td>0.000167</td>\n",
       "      <td>0.375000</td>\n",
       "    </tr>\n",
       "    <tr>\n",
       "      <th>LF_null_increasing3_True</th>\n",
       "      <td>199</td>\n",
       "      <td>0.001783</td>\n",
       "      <td>0.001616</td>\n",
       "      <td>0.000669</td>\n",
       "      <td>0.375000</td>\n",
       "    </tr>\n",
       "    <tr>\n",
       "      <th>LF_purpose_but_3_True</th>\n",
       "      <td>43</td>\n",
       "      <td>0.004347</td>\n",
       "      <td>0.003288</td>\n",
       "      <td>0.001616</td>\n",
       "      <td>0.371795</td>\n",
       "    </tr>\n",
       "    <tr>\n",
       "      <th>LF_purpose_we_exploreneg2_True</th>\n",
       "      <td>34</td>\n",
       "      <td>0.007412</td>\n",
       "      <td>0.006075</td>\n",
       "      <td>0.002564</td>\n",
       "      <td>0.345865</td>\n",
       "    </tr>\n",
       "    <tr>\n",
       "      <th>LF_purpose_we_studyneg2_True</th>\n",
       "      <td>32</td>\n",
       "      <td>0.009530</td>\n",
       "      <td>0.005406</td>\n",
       "      <td>0.003232</td>\n",
       "      <td>0.339181</td>\n",
       "    </tr>\n",
       "    <tr>\n",
       "      <th>LF_purpose_fundamentalneg1_True</th>\n",
       "      <td>64</td>\n",
       "      <td>0.000334</td>\n",
       "      <td>0.000334</td>\n",
       "      <td>0.000111</td>\n",
       "      <td>0.333333</td>\n",
       "    </tr>\n",
       "    <tr>\n",
       "      <th>LF_purpose_issue3_True</th>\n",
       "      <td>19</td>\n",
       "      <td>0.000502</td>\n",
       "      <td>0.000502</td>\n",
       "      <td>0.000167</td>\n",
       "      <td>0.333333</td>\n",
       "    </tr>\n",
       "    <tr>\n",
       "      <th>LF_purpose_challenging3_True</th>\n",
       "      <td>7</td>\n",
       "      <td>0.000502</td>\n",
       "      <td>0.000502</td>\n",
       "      <td>0.000167</td>\n",
       "      <td>0.333333</td>\n",
       "    </tr>\n",
       "    <tr>\n",
       "      <th>LF_null_compare_neg2_True</th>\n",
       "      <td>208</td>\n",
       "      <td>0.001839</td>\n",
       "      <td>0.000669</td>\n",
       "      <td>0.000613</td>\n",
       "      <td>0.333333</td>\n",
       "    </tr>\n",
       "    <tr>\n",
       "      <th>LF_purpose_we_study3_True</th>\n",
       "      <td>31</td>\n",
       "      <td>0.001003</td>\n",
       "      <td>0.000780</td>\n",
       "      <td>0.000334</td>\n",
       "      <td>0.333333</td>\n",
       "    </tr>\n",
       "    <tr>\n",
       "      <th>LF_null_show_that3_True</th>\n",
       "      <td>151</td>\n",
       "      <td>0.002564</td>\n",
       "      <td>0.002564</td>\n",
       "      <td>0.000780</td>\n",
       "      <td>0.304348</td>\n",
       "    </tr>\n",
       "    <tr>\n",
       "      <th>LF_mechanism_includes3_True</th>\n",
       "      <td>82</td>\n",
       "      <td>0.001672</td>\n",
       "      <td>0.001672</td>\n",
       "      <td>0.000502</td>\n",
       "      <td>0.300000</td>\n",
       "    </tr>\n",
       "    <tr>\n",
       "      <th>LF_null_found_thatneg2_True</th>\n",
       "      <td>158</td>\n",
       "      <td>0.009029</td>\n",
       "      <td>0.003678</td>\n",
       "      <td>0.002675</td>\n",
       "      <td>0.296296</td>\n",
       "    </tr>\n",
       "    <tr>\n",
       "      <th>LF_purpose_challenge3_True</th>\n",
       "      <td>9</td>\n",
       "      <td>0.003511</td>\n",
       "      <td>0.003511</td>\n",
       "      <td>0.001003</td>\n",
       "      <td>0.285714</td>\n",
       "    </tr>\n",
       "    <tr>\n",
       "      <th>LF_purpose_investigateneg2_True</th>\n",
       "      <td>30</td>\n",
       "      <td>0.012094</td>\n",
       "      <td>0.008248</td>\n",
       "      <td>0.003400</td>\n",
       "      <td>0.281106</td>\n",
       "    </tr>\n",
       "    <tr>\n",
       "      <th>LF_null_increasingly3_True</th>\n",
       "      <td>189</td>\n",
       "      <td>0.000613</td>\n",
       "      <td>0.000613</td>\n",
       "      <td>0.000167</td>\n",
       "      <td>0.272727</td>\n",
       "    </tr>\n",
       "    <tr>\n",
       "      <th>LF_purpose_however3_True</th>\n",
       "      <td>37</td>\n",
       "      <td>0.002062</td>\n",
       "      <td>0.002062</td>\n",
       "      <td>0.000557</td>\n",
       "      <td>0.270270</td>\n",
       "    </tr>\n",
       "    <tr>\n",
       "      <th>LF_purpose_examineneg2_True</th>\n",
       "      <td>52</td>\n",
       "      <td>0.011815</td>\n",
       "      <td>0.008973</td>\n",
       "      <td>0.003010</td>\n",
       "      <td>0.254717</td>\n",
       "    </tr>\n",
       "    <tr>\n",
       "      <th>LF_mechanism_develop_3_True</th>\n",
       "      <td>84</td>\n",
       "      <td>0.000446</td>\n",
       "      <td>0.000446</td>\n",
       "      <td>0.000111</td>\n",
       "      <td>0.250000</td>\n",
       "    </tr>\n",
       "    <tr>\n",
       "      <th>LF_mechanism_presents_neg2_True</th>\n",
       "      <td>93</td>\n",
       "      <td>0.005963</td>\n",
       "      <td>0.003400</td>\n",
       "      <td>0.001338</td>\n",
       "      <td>0.224299</td>\n",
       "    </tr>\n",
       "    <tr>\n",
       "      <th>LF_null_found_that3_True</th>\n",
       "      <td>157</td>\n",
       "      <td>0.001003</td>\n",
       "      <td>0.000613</td>\n",
       "      <td>0.000223</td>\n",
       "      <td>0.222222</td>\n",
       "    </tr>\n",
       "    <tr>\n",
       "      <th>LF_mechanism_using_the_3_True</th>\n",
       "      <td>108</td>\n",
       "      <td>0.000279</td>\n",
       "      <td>0.000167</td>\n",
       "      <td>0.000056</td>\n",
       "      <td>0.200000</td>\n",
       "    </tr>\n",
       "    <tr>\n",
       "      <th>LF_purpose_challengeneg1_True</th>\n",
       "      <td>67</td>\n",
       "      <td>0.011704</td>\n",
       "      <td>0.005462</td>\n",
       "      <td>0.002285</td>\n",
       "      <td>0.195238</td>\n",
       "    </tr>\n",
       "    <tr>\n",
       "      <th>LF_null_find_thatneg2_True</th>\n",
       "      <td>154</td>\n",
       "      <td>0.009140</td>\n",
       "      <td>0.002174</td>\n",
       "      <td>0.001783</td>\n",
       "      <td>0.195122</td>\n",
       "    </tr>\n",
       "    <tr>\n",
       "      <th>LF_mechanism_we_similar_develop_neg1_True</th>\n",
       "      <td>124</td>\n",
       "      <td>0.001839</td>\n",
       "      <td>0.001560</td>\n",
       "      <td>0.000334</td>\n",
       "      <td>0.181818</td>\n",
       "    </tr>\n",
       "    <tr>\n",
       "      <th>LF_purpose_challengingneg1_True</th>\n",
       "      <td>63</td>\n",
       "      <td>0.002564</td>\n",
       "      <td>0.001672</td>\n",
       "      <td>0.000446</td>\n",
       "      <td>0.173913</td>\n",
       "    </tr>\n",
       "    <tr>\n",
       "      <th>LF_purpose_we_explore3_True</th>\n",
       "      <td>33</td>\n",
       "      <td>0.000669</td>\n",
       "      <td>0.000502</td>\n",
       "      <td>0.000111</td>\n",
       "      <td>0.166667</td>\n",
       "    </tr>\n",
       "    <tr>\n",
       "      <th>LF_null_find_that3_True</th>\n",
       "      <td>153</td>\n",
       "      <td>0.000780</td>\n",
       "      <td>0.000502</td>\n",
       "      <td>0.000111</td>\n",
       "      <td>0.142857</td>\n",
       "    </tr>\n",
       "    <tr>\n",
       "      <th>LF_null_increasinglyneg2_True</th>\n",
       "      <td>190</td>\n",
       "      <td>0.002954</td>\n",
       "      <td>0.002954</td>\n",
       "      <td>0.000390</td>\n",
       "      <td>0.132075</td>\n",
       "    </tr>\n",
       "    <tr>\n",
       "      <th>LF_purpose_investigate3_True</th>\n",
       "      <td>29</td>\n",
       "      <td>0.001672</td>\n",
       "      <td>0.001393</td>\n",
       "      <td>0.000167</td>\n",
       "      <td>0.100000</td>\n",
       "    </tr>\n",
       "    <tr>\n",
       "      <th>LF_null_shows_thatneg2_True</th>\n",
       "      <td>150</td>\n",
       "      <td>0.004570</td>\n",
       "      <td>0.004570</td>\n",
       "      <td>0.000390</td>\n",
       "      <td>0.085366</td>\n",
       "    </tr>\n",
       "    <tr>\n",
       "      <th>LF_purpose_ways_toneg2_True</th>\n",
       "      <td>58</td>\n",
       "      <td>0.000502</td>\n",
       "      <td>0.000446</td>\n",
       "      <td>0.000000</td>\n",
       "      <td>0.000000</td>\n",
       "    </tr>\n",
       "    <tr>\n",
       "      <th>LF_mechanism_employs_neg2_True</th>\n",
       "      <td>101</td>\n",
       "      <td>0.000390</td>\n",
       "      <td>0.000056</td>\n",
       "      <td>0.000000</td>\n",
       "      <td>0.000000</td>\n",
       "    </tr>\n",
       "    <tr>\n",
       "      <th>LF_mechanism_employs_3_True</th>\n",
       "      <td>100</td>\n",
       "      <td>0.000111</td>\n",
       "      <td>0.000056</td>\n",
       "      <td>0.000000</td>\n",
       "      <td>0.000000</td>\n",
       "    </tr>\n",
       "    <tr>\n",
       "      <th>LF_mechanism_employ_3_True</th>\n",
       "      <td>98</td>\n",
       "      <td>0.000223</td>\n",
       "      <td>0.000223</td>\n",
       "      <td>0.000000</td>\n",
       "      <td>0.000000</td>\n",
       "    </tr>\n",
       "    <tr>\n",
       "      <th>LF_null_indicate_thatneg2_True</th>\n",
       "      <td>174</td>\n",
       "      <td>0.001672</td>\n",
       "      <td>0.001672</td>\n",
       "      <td>0.000000</td>\n",
       "      <td>0.000000</td>\n",
       "    </tr>\n",
       "    <tr>\n",
       "      <th>LF_mechanism_we_use_3_True</th>\n",
       "      <td>96</td>\n",
       "      <td>0.000111</td>\n",
       "      <td>0.000000</td>\n",
       "      <td>0.000000</td>\n",
       "      <td>0.000000</td>\n",
       "    </tr>\n",
       "    <tr>\n",
       "      <th>LF_mechanism_presents_3_True</th>\n",
       "      <td>92</td>\n",
       "      <td>0.000892</td>\n",
       "      <td>0.000557</td>\n",
       "      <td>0.000000</td>\n",
       "      <td>0.000000</td>\n",
       "    </tr>\n",
       "    <tr>\n",
       "      <th>LF_mechanism_developed_neg2_True</th>\n",
       "      <td>89</td>\n",
       "      <td>0.001226</td>\n",
       "      <td>0.000111</td>\n",
       "      <td>0.000000</td>\n",
       "      <td>0.000000</td>\n",
       "    </tr>\n",
       "    <tr>\n",
       "      <th>LF_mechanism_developed_3_True</th>\n",
       "      <td>88</td>\n",
       "      <td>0.000223</td>\n",
       "      <td>0.000111</td>\n",
       "      <td>0.000000</td>\n",
       "      <td>0.000000</td>\n",
       "    </tr>\n",
       "    <tr>\n",
       "      <th>LF_purpose_the_problem_ofneg2_True</th>\n",
       "      <td>4</td>\n",
       "      <td>0.000780</td>\n",
       "      <td>0.000780</td>\n",
       "      <td>0.000000</td>\n",
       "      <td>0.000000</td>\n",
       "    </tr>\n",
       "    <tr>\n",
       "      <th>LF_purpose_the_problem_of3_True</th>\n",
       "      <td>3</td>\n",
       "      <td>0.000111</td>\n",
       "      <td>0.000111</td>\n",
       "      <td>0.000000</td>\n",
       "      <td>0.000000</td>\n",
       "    </tr>\n",
       "    <tr>\n",
       "      <th>LF_mechanism_develops_3_True</th>\n",
       "      <td>86</td>\n",
       "      <td>0.000111</td>\n",
       "      <td>0.000056</td>\n",
       "      <td>0.000000</td>\n",
       "      <td>0.000000</td>\n",
       "    </tr>\n",
       "    <tr>\n",
       "      <th>LF_purpose_ways_to3_True</th>\n",
       "      <td>57</td>\n",
       "      <td>0.000111</td>\n",
       "      <td>0.000056</td>\n",
       "      <td>0.000000</td>\n",
       "      <td>0.000000</td>\n",
       "    </tr>\n",
       "    <tr>\n",
       "      <th>LF_mechanism_we_similar_employ_neg1_True</th>\n",
       "      <td>134</td>\n",
       "      <td>0.000557</td>\n",
       "      <td>0.000390</td>\n",
       "      <td>0.000000</td>\n",
       "      <td>0.000000</td>\n",
       "    </tr>\n",
       "    <tr>\n",
       "      <th>LF_purpose_examine3_True</th>\n",
       "      <td>51</td>\n",
       "      <td>0.001170</td>\n",
       "      <td>0.000836</td>\n",
       "      <td>0.000000</td>\n",
       "      <td>0.000000</td>\n",
       "    </tr>\n",
       "    <tr>\n",
       "      <th>LF_null_this_result3_True</th>\n",
       "      <td>159</td>\n",
       "      <td>0.000111</td>\n",
       "      <td>0.000056</td>\n",
       "      <td>0.000000</td>\n",
       "      <td>0.000000</td>\n",
       "    </tr>\n",
       "    <tr>\n",
       "      <th>LF_purpose_although3_True</th>\n",
       "      <td>35</td>\n",
       "      <td>0.000111</td>\n",
       "      <td>0.000111</td>\n",
       "      <td>0.000000</td>\n",
       "      <td>0.000000</td>\n",
       "    </tr>\n",
       "    <tr>\n",
       "      <th>LF_purpose_althoughneg2_True</th>\n",
       "      <td>36</td>\n",
       "      <td>0.002174</td>\n",
       "      <td>0.001449</td>\n",
       "      <td>0.000000</td>\n",
       "      <td>0.000000</td>\n",
       "    </tr>\n",
       "    <tr>\n",
       "      <th>LF_null_evaluates_neg2_True</th>\n",
       "      <td>166</td>\n",
       "      <td>0.000167</td>\n",
       "      <td>0.000056</td>\n",
       "      <td>0.000000</td>\n",
       "      <td>0.000000</td>\n",
       "    </tr>\n",
       "    <tr>\n",
       "      <th>LF_null_evaluates_3_True</th>\n",
       "      <td>165</td>\n",
       "      <td>0.000111</td>\n",
       "      <td>0.000056</td>\n",
       "      <td>0.000000</td>\n",
       "      <td>0.000000</td>\n",
       "    </tr>\n",
       "    <tr>\n",
       "      <th>LF_null_observe3_True</th>\n",
       "      <td>161</td>\n",
       "      <td>0.000167</td>\n",
       "      <td>0.000111</td>\n",
       "      <td>0.000000</td>\n",
       "      <td>0.000000</td>\n",
       "    </tr>\n",
       "    <tr>\n",
       "      <th>LF_null_this_resultneg2_True</th>\n",
       "      <td>160</td>\n",
       "      <td>0.001003</td>\n",
       "      <td>0.001003</td>\n",
       "      <td>0.000000</td>\n",
       "      <td>0.000000</td>\n",
       "    </tr>\n",
       "    <tr>\n",
       "      <th>LF_null_has_shown3_True</th>\n",
       "      <td>193</td>\n",
       "      <td>0.000446</td>\n",
       "      <td>0.000446</td>\n",
       "      <td>0.000000</td>\n",
       "      <td>0.000000</td>\n",
       "    </tr>\n",
       "    <tr>\n",
       "      <th>LF_purpose_deals_with_neg2_True</th>\n",
       "      <td>50</td>\n",
       "      <td>0.000947</td>\n",
       "      <td>0.000947</td>\n",
       "      <td>0.000000</td>\n",
       "      <td>0.000000</td>\n",
       "    </tr>\n",
       "    <tr>\n",
       "      <th>LF_purpose_know_little_3_True</th>\n",
       "      <td>45</td>\n",
       "      <td>0.000056</td>\n",
       "      <td>0.000056</td>\n",
       "      <td>0.000000</td>\n",
       "      <td>0.000000</td>\n",
       "    </tr>\n",
       "    <tr>\n",
       "      <th>LF_purpose_know_little_neg2_True</th>\n",
       "      <td>46</td>\n",
       "      <td>0.001282</td>\n",
       "      <td>0.001282</td>\n",
       "      <td>0.000000</td>\n",
       "      <td>0.000000</td>\n",
       "    </tr>\n",
       "    <tr>\n",
       "      <th>LF_null_popularity_3_True</th>\n",
       "      <td>197</td>\n",
       "      <td>0.000111</td>\n",
       "      <td>0.000056</td>\n",
       "      <td>0.000000</td>\n",
       "      <td>0.000000</td>\n",
       "    </tr>\n",
       "    <tr>\n",
       "      <th>LF_null_popularity_neg2_True</th>\n",
       "      <td>198</td>\n",
       "      <td>0.000502</td>\n",
       "      <td>0.000056</td>\n",
       "      <td>0.000000</td>\n",
       "      <td>0.000000</td>\n",
       "    </tr>\n",
       "    <tr>\n",
       "      <th>LF_null_indicate_that3_True</th>\n",
       "      <td>173</td>\n",
       "      <td>0.000111</td>\n",
       "      <td>0.000111</td>\n",
       "      <td>0.000000</td>\n",
       "      <td>0.000000</td>\n",
       "    </tr>\n",
       "    <tr>\n",
       "      <th>LF_purpose_deals_with_3_True</th>\n",
       "      <td>49</td>\n",
       "      <td>0.000056</td>\n",
       "      <td>0.000056</td>\n",
       "      <td>0.000000</td>\n",
       "      <td>0.000000</td>\n",
       "    </tr>\n",
       "    <tr>\n",
       "      <th>LF_null_shows_that3_True</th>\n",
       "      <td>149</td>\n",
       "      <td>0.000446</td>\n",
       "      <td>0.000446</td>\n",
       "      <td>0.000000</td>\n",
       "      <td>0.000000</td>\n",
       "    </tr>\n",
       "    <tr>\n",
       "      <th>LF_purpose_the_task_of3_True</th>\n",
       "      <td>5</td>\n",
       "      <td>0.000000</td>\n",
       "      <td>0.000000</td>\n",
       "      <td>0.000000</td>\n",
       "      <td>NaN</td>\n",
       "    </tr>\n",
       "    <tr>\n",
       "      <th>LF_purpose_the_task_ofneg2_True</th>\n",
       "      <td>6</td>\n",
       "      <td>0.000000</td>\n",
       "      <td>0.000000</td>\n",
       "      <td>0.000000</td>\n",
       "      <td>NaN</td>\n",
       "    </tr>\n",
       "    <tr>\n",
       "      <th>LF_purpose_to_answer3_True</th>\n",
       "      <td>15</td>\n",
       "      <td>0.000000</td>\n",
       "      <td>0.000000</td>\n",
       "      <td>0.000000</td>\n",
       "      <td>NaN</td>\n",
       "    </tr>\n",
       "    <tr>\n",
       "      <th>LF_purpose_to_answerneg2_True</th>\n",
       "      <td>16</td>\n",
       "      <td>0.000000</td>\n",
       "      <td>0.000000</td>\n",
       "      <td>0.000000</td>\n",
       "      <td>NaN</td>\n",
       "    </tr>\n",
       "    <tr>\n",
       "      <th>LF_purpose_useful_to3_True</th>\n",
       "      <td>25</td>\n",
       "      <td>0.000000</td>\n",
       "      <td>0.000000</td>\n",
       "      <td>0.000000</td>\n",
       "      <td>NaN</td>\n",
       "    </tr>\n",
       "    <tr>\n",
       "      <th>LF_purpose_useful_toneg2_True</th>\n",
       "      <td>26</td>\n",
       "      <td>0.000000</td>\n",
       "      <td>0.000000</td>\n",
       "      <td>0.000000</td>\n",
       "      <td>NaN</td>\n",
       "    </tr>\n",
       "    <tr>\n",
       "      <th>LF_purpose_bottleneck3_True</th>\n",
       "      <td>59</td>\n",
       "      <td>0.000000</td>\n",
       "      <td>0.000000</td>\n",
       "      <td>0.000000</td>\n",
       "      <td>NaN</td>\n",
       "    </tr>\n",
       "    <tr>\n",
       "      <th>LF_purpose_bottleneckneg1_True</th>\n",
       "      <td>60</td>\n",
       "      <td>0.000000</td>\n",
       "      <td>0.000000</td>\n",
       "      <td>0.000000</td>\n",
       "      <td>NaN</td>\n",
       "    </tr>\n",
       "    <tr>\n",
       "      <th>LF_purpose_we_similar_bottleneck_neg2_True</th>\n",
       "      <td>70</td>\n",
       "      <td>0.000000</td>\n",
       "      <td>0.000000</td>\n",
       "      <td>0.000000</td>\n",
       "      <td>NaN</td>\n",
       "    </tr>\n",
       "    <tr>\n",
       "      <th>LF_null_finds_that3_True</th>\n",
       "      <td>155</td>\n",
       "      <td>0.000000</td>\n",
       "      <td>0.000000</td>\n",
       "      <td>0.000000</td>\n",
       "      <td>NaN</td>\n",
       "    </tr>\n",
       "    <tr>\n",
       "      <th>LF_null_finds_thatneg2_True</th>\n",
       "      <td>156</td>\n",
       "      <td>0.000000</td>\n",
       "      <td>0.000000</td>\n",
       "      <td>0.000000</td>\n",
       "      <td>NaN</td>\n",
       "    </tr>\n",
       "    <tr>\n",
       "      <th>LF_null_are_performed3_True</th>\n",
       "      <td>177</td>\n",
       "      <td>0.000000</td>\n",
       "      <td>0.000000</td>\n",
       "      <td>0.000000</td>\n",
       "      <td>NaN</td>\n",
       "    </tr>\n",
       "    <tr>\n",
       "      <th>LF_null_are_performedneg2_True</th>\n",
       "      <td>178</td>\n",
       "      <td>0.000000</td>\n",
       "      <td>0.000000</td>\n",
       "      <td>0.000000</td>\n",
       "      <td>NaN</td>\n",
       "    </tr>\n",
       "    <tr>\n",
       "      <th>LF_null_were_performed3_True</th>\n",
       "      <td>179</td>\n",
       "      <td>0.000000</td>\n",
       "      <td>0.000000</td>\n",
       "      <td>0.000000</td>\n",
       "      <td>NaN</td>\n",
       "    </tr>\n",
       "    <tr>\n",
       "      <th>LF_null_were_performedneg2_True</th>\n",
       "      <td>180</td>\n",
       "      <td>0.000000</td>\n",
       "      <td>0.000000</td>\n",
       "      <td>0.000000</td>\n",
       "      <td>NaN</td>\n",
       "    </tr>\n",
       "    <tr>\n",
       "      <th>LF_null_we_similar_benchmark_neg2_True</th>\n",
       "      <td>215</td>\n",
       "      <td>0.000000</td>\n",
       "      <td>0.000000</td>\n",
       "      <td>0.000000</td>\n",
       "      <td>NaN</td>\n",
       "    </tr>\n",
       "  </tbody>\n",
       "</table>\n",
       "</div>"
      ],
      "text/plain": [
       "                                               j  Coverage  Overlaps  \\\n",
       "LF_null_indicates_thatneg2_True              176  0.002229  0.002229   \n",
       "LF_mechanism_using_a_neg2_True               107  0.003065  0.003065   \n",
       "LF_null_recent_research3_True                187  0.000111  0.000111   \n",
       "LF_purpose_we_similar_fundamental_neg2_True   73  0.000613  0.000613   \n",
       "LF_mechanism_using_a_3_True                  106  0.000223  0.000223   \n",
       "LF_null_recentlyneg2_True                    186  0.002619  0.002619   \n",
       "LF_null_recently3_True                       185  0.000279  0.000279   \n",
       "LF_mechanism_employed_neg2_True              103  0.001783  0.001783   \n",
       "LF_purpose_crucialneg2_True                   18  0.001282  0.001282   \n",
       "LF_purpose_crucial3_True                      17  0.000167  0.000167   \n",
       "LF_mechanism_employed_3_True                 102  0.000111  0.000111   \n",
       "LF_null_recent_researchneg2_True             188  0.002898  0.002898   \n",
       "LF_purpose_fundamentalneg2_True               12  0.000613  0.000613   \n",
       "LF_purpose_fundamental3_True                  11  0.000167  0.000167   \n",
       "LF_null_indicates_that3_True                 175  0.000223  0.000223   \n",
       "LF_mechanism_a_function_that3_True           120  0.000056  0.000056   \n",
       "LF_null_we_similar_perform_neg2_True         217  0.006465  0.006465   \n",
       "LF_null_we_proveneg2_True                    164  0.000446  0.000446   \n",
       "LF_null_we_prove3_True                       163  0.000111  0.000111   \n",
       "LF_mechanism_a_function_thatneg2_True        121  0.001393  0.001393   \n",
       "LF_null_evaluate_neg2_True                   170  0.003901  0.003901   \n",
       "LF_null_we_similar_prototype_neg2_True       221  0.006465  0.006242   \n",
       "LF_purpose_we_similar_challenging_neg2_True   72  0.002564  0.002564   \n",
       "LF_purpose_challengingneg2_True                8  0.002564  0.002564   \n",
       "LF_null_datasetneg2_True                     142  0.008137  0.008137   \n",
       "LF_null_we_similar_report_neg2_True          219  0.008416  0.008137   \n",
       "LF_mechanism_employ_neg2_True                 99  0.003288  0.003288   \n",
       "LF_mechanism_approach_neg2_True              117  0.030318  0.030318   \n",
       "LF_null_we_similar_dataset_neg2_True         212  0.005239  0.005239   \n",
       "LF_mechanism_we_similar_approach_neg2_True   133  0.031767  0.031767   \n",
       "LF_mechanism_we_similar_employ_neg2_True     135  0.003400  0.003400   \n",
       "LF_mechanism_we_use_neg2_True                 97  0.001951  0.001616   \n",
       "LF_null_we_similar_empirical_neg2_True       218  0.014880  0.013153   \n",
       "LF_null_demonstrateneg2_True                 172  0.031098  0.028758   \n",
       "LF_null_popular_neg2_True                    196  0.006353  0.005462   \n",
       "LF_mechanism_using_the_neg2_True             109  0.006298  0.005573   \n",
       "LF_mechanism_develops_neg2_True               87  0.001393  0.001115   \n",
       "LF_mechanism_present_neg2_True                95  0.033161  0.032826   \n",
       "LF_mechanism_we_similar_present_neg2_True    129  0.034052  0.034052   \n",
       "LF_null_previously3_True                     201  0.000836  0.000780   \n",
       "LF_mechanism_provideneg2_True                 91  0.036560  0.035947   \n",
       "LF_null_compared_toneg2_True                 206  0.007078  0.007078   \n",
       "LF_null_generalneg2_True                     204  0.015716  0.012930   \n",
       "LF_mechanism_via_neg2_True                   119  0.011481  0.010199   \n",
       "LF_null_settingsneg1_True                    210  0.004737  0.003678   \n",
       "LF_null_dataset3_True                        141  0.001672  0.001560   \n",
       "LF_null_evaluate_3_True                      169  0.000557  0.000446   \n",
       "LF_mechanism_we_similar_approach_neg1_True   132  0.014713  0.012930   \n",
       "LF_null_has_beenneg2_True                    192  0.005629  0.004180   \n",
       "LF_mechanism_we_similar_provide_neg2_True    127  0.025971  0.024355   \n",
       "LF_null_the_success_of3_True                 183  0.000167  0.000111   \n",
       "LF_mechanism_via_3_True                      118  0.001338  0.001226   \n",
       "LF_null_demonstrate3_True                    171  0.003846  0.003567   \n",
       "LF_purpose_in_order_toneg2_True               56  0.007524  0.007524   \n",
       "LF_purpose_allow_neg2_True                    22  0.004737  0.004737   \n",
       "purpose_to_verb                               69  0.068773  0.060915   \n",
       "mechanism_an_algorithm                       137  0.002341  0.002229   \n",
       "LF_purpose_we_similar_problem_neg2_True       71  0.039347  0.037786   \n",
       "LF_null_test3_True                           139  0.002285  0.002118   \n",
       "LF_purpose_taskneg2_True                      28  0.030708  0.030708   \n",
       "LF_null_testneg2_True                        140  0.011481  0.009084   \n",
       "LF_purpose_allows_3_True                      23  0.000892  0.000725   \n",
       "mechanism_by_adv_doing                       136  0.024968  0.024968   \n",
       "LF_null_general3_True                        203  0.002174  0.002174   \n",
       "LF_mechanism_we_similar_method_neg2_True     131  0.060469  0.056791   \n",
       "LF_mechanism_includeneg2_True                 81  0.014936  0.013431   \n",
       "LF_mechanism_approach_3_True                 116  0.003010  0.003010   \n",
       "purpose_for_doing                             68  0.035724  0.027699   \n",
       "LF_purpose_goalneg2_True                       2  0.009586  0.008304   \n",
       "LF_mechanism_we_similar_propose_neg2_True    123  0.018113  0.018113   \n",
       "LF_purpose_whetherneg2_True                   54  0.007134  0.006186   \n",
       "LF_mechanism_by_usingneg2_True               111  0.001951  0.001951   \n",
       "LF_mechanism_uses_neg2_True                  105  0.008304  0.005740   \n",
       "LF_purpose_problemneg1_True                   62  0.033774  0.029092   \n",
       "LF_purpose_TO_VB_neg2_True                     0  0.153598  0.125676   \n",
       "LF_mechanism_uses_3_True                     104  0.001338  0.001059   \n",
       "LF_null_have_beenneg2_True                   182  0.004236  0.002564   \n",
       "LF_null_generalneg1_True                     211  0.008304  0.005796   \n",
       "LF_mechanism_method_neg2_True                115  0.040183  0.040183   \n",
       "LF_null_resultsneg2_True                     146  0.055175  0.044418   \n",
       "LF_null_evaluated_neg2_True                  168  0.005796  0.004960   \n",
       "LF_mechanism_proposeneg2_True                 79  0.024243  0.023073   \n",
       "LF_purpose_goal3_True                          1  0.001505  0.001338   \n",
       "LF_null_we_similar_experiment_neg2_True      216  0.013153  0.013153   \n",
       "LF_purpose_task3_True                         27  0.007357  0.007357   \n",
       "LF_purpose_we_similar_task_neg2_True          75  0.015103  0.015103   \n",
       "LF_mechanism_provide3_True                    90  0.006186  0.006019   \n",
       "LF_purpose_problem3_True                      61  0.007022  0.007022   \n",
       "LF_purpose_a_study_ofneg2_True                40  0.001226  0.001226   \n",
       "LF_mechanism_includesneg2_True                83  0.009029  0.009029   \n",
       "mechanism_then_VB                            138  0.019172  0.012261   \n",
       "LF_purpose_existing_neg2_True                 48  0.011592  0.010645   \n",
       "LF_purpose_to_understandneg2_True             14  0.004013  0.004013   \n",
       "LF_mechanism_we_similar_propose_neg1_True    122  0.004347  0.003846   \n",
       "LF_purpose_taskneg1_True                      66  0.040127  0.033161   \n",
       "LF_purpose_we_similar_challenge_neg2_True     76  0.010032  0.010032   \n",
       "LF_mechanism_we_similar_provide_neg1_True    126  0.023296  0.017556   \n",
       "LF_mechanism_by_neg2_True                    113  0.075405  0.060302   \n",
       "LF_purpose_challengeneg2_True                 10  0.025414  0.021234   \n",
       "LF_null_the_success_ofneg2_True              184  0.003790  0.001951   \n",
       "LF_null_showneg2_True                        148  0.083319  0.080366   \n",
       "LF_mechanism_method_3_True                   114  0.003010  0.003010   \n",
       "LF_null_compared_to3_True                    205  0.001115  0.001115   \n",
       "LF_purpose_in_order_to3_True                  55  0.000446  0.000334   \n",
       "LF_purpose_to_understand3_True                13  0.000446  0.000390   \n",
       "LF_purpose_yet_3_True                         41  0.000223  0.000223   \n",
       "LF_mechanism_by_using3_True                  110  0.000223  0.000223   \n",
       "LF_null_compare_3_True                       207  0.000223  0.000167   \n",
       "LF_purpose_existing_3_True                    47  0.001115  0.001003   \n",
       "LF_null_settings3_True                       209  0.001003  0.000836   \n",
       "LF_null_we_similar_interview_neg2_True       214  0.003901  0.002285   \n",
       "LF_purpose_a_study_of3_True                   39  0.000111  0.000111   \n",
       "LF_purpose_allows_neg2_True                   24  0.007970  0.007691   \n",
       "LF_null_experiment3_True                     143  0.006075  0.005295   \n",
       "LF_purpose_we_similar_allow_neg2_True         77  0.009196  0.007802   \n",
       "LF_null_we_similar_shows_neg2_True           220  0.058407  0.058407   \n",
       "LF_null_show_thatneg2_True                   152  0.032603  0.032603   \n",
       "LF_null_we_similar_indicate_neg2_True        213  0.004681  0.004681   \n",
       "LF_mechanism_we_similar_method_neg1_True     130  0.024801  0.019450   \n",
       "LF_null_has_shownneg2_True                   194  0.006298  0.006298   \n",
       "LF_purpose_but_neg2_True                      44  0.031266  0.022181   \n",
       "LF_null_experimentneg2_True                  144  0.040183  0.037229   \n",
       "LF_mechanism_develop_neg2_True                85  0.003344  0.003344   \n",
       "LF_mechanism_by_3_True                       112  0.009363  0.007970   \n",
       "LF_purpose_howeverneg2_True                   38  0.028312  0.021903   \n",
       "LF_mechanism_we_similar_develop_neg2_True    125  0.003567  0.003567   \n",
       "LF_mechanism_include3_True                    80  0.002341  0.002285   \n",
       "LF_purpose_issueneg1_True                     65  0.000780  0.000613   \n",
       "LF_mechanism_we_similar_present_neg1_True    128  0.010701  0.007357   \n",
       "LF_null_previouslyneg2_True                  202  0.002675  0.002675   \n",
       "LF_null_show3_True                           147  0.010032  0.009140   \n",
       "LF_mechanism_propose3_True                    78  0.003344  0.003288   \n",
       "LF_null_popular_3_True                       195  0.000557  0.000446   \n",
       "LF_purpose_allow_3_True                       21  0.000557  0.000557   \n",
       "LF_null_evaluated_3_True                     167  0.000557  0.000502   \n",
       "LF_purpose_we_similar_issue_neg2_True         74  0.003511  0.003511   \n",
       "LF_purpose_issueneg2_True                     20  0.003511  0.003511   \n",
       "LF_null_observeneg2_True                     162  0.002842  0.001226   \n",
       "LF_purpose_yet_neg2_True                      42  0.002285  0.002285   \n",
       "LF_purpose_whether3_True                      53  0.001003  0.000947   \n",
       "LF_null_results3_True                        145  0.007802  0.006521   \n",
       "LF_null_increasingneg2_True                  200  0.008471  0.006911   \n",
       "LF_mechanism_present_3_True                   94  0.002675  0.002619   \n",
       "LF_null_has_been3_True                       191  0.000892  0.000669   \n",
       "LF_null_have_been3_True                      181  0.000446  0.000279   \n",
       "LF_null_increasing3_True                     199  0.001783  0.001616   \n",
       "LF_purpose_but_3_True                         43  0.004347  0.003288   \n",
       "LF_purpose_we_exploreneg2_True                34  0.007412  0.006075   \n",
       "LF_purpose_we_studyneg2_True                  32  0.009530  0.005406   \n",
       "LF_purpose_fundamentalneg1_True               64  0.000334  0.000334   \n",
       "LF_purpose_issue3_True                        19  0.000502  0.000502   \n",
       "LF_purpose_challenging3_True                   7  0.000502  0.000502   \n",
       "LF_null_compare_neg2_True                    208  0.001839  0.000669   \n",
       "LF_purpose_we_study3_True                     31  0.001003  0.000780   \n",
       "LF_null_show_that3_True                      151  0.002564  0.002564   \n",
       "LF_mechanism_includes3_True                   82  0.001672  0.001672   \n",
       "LF_null_found_thatneg2_True                  158  0.009029  0.003678   \n",
       "LF_purpose_challenge3_True                     9  0.003511  0.003511   \n",
       "LF_purpose_investigateneg2_True               30  0.012094  0.008248   \n",
       "LF_null_increasingly3_True                   189  0.000613  0.000613   \n",
       "LF_purpose_however3_True                      37  0.002062  0.002062   \n",
       "LF_purpose_examineneg2_True                   52  0.011815  0.008973   \n",
       "LF_mechanism_develop_3_True                   84  0.000446  0.000446   \n",
       "LF_mechanism_presents_neg2_True               93  0.005963  0.003400   \n",
       "LF_null_found_that3_True                     157  0.001003  0.000613   \n",
       "LF_mechanism_using_the_3_True                108  0.000279  0.000167   \n",
       "LF_purpose_challengeneg1_True                 67  0.011704  0.005462   \n",
       "LF_null_find_thatneg2_True                   154  0.009140  0.002174   \n",
       "LF_mechanism_we_similar_develop_neg1_True    124  0.001839  0.001560   \n",
       "LF_purpose_challengingneg1_True               63  0.002564  0.001672   \n",
       "LF_purpose_we_explore3_True                   33  0.000669  0.000502   \n",
       "LF_null_find_that3_True                      153  0.000780  0.000502   \n",
       "LF_null_increasinglyneg2_True                190  0.002954  0.002954   \n",
       "LF_purpose_investigate3_True                  29  0.001672  0.001393   \n",
       "LF_null_shows_thatneg2_True                  150  0.004570  0.004570   \n",
       "LF_purpose_ways_toneg2_True                   58  0.000502  0.000446   \n",
       "LF_mechanism_employs_neg2_True               101  0.000390  0.000056   \n",
       "LF_mechanism_employs_3_True                  100  0.000111  0.000056   \n",
       "LF_mechanism_employ_3_True                    98  0.000223  0.000223   \n",
       "LF_null_indicate_thatneg2_True               174  0.001672  0.001672   \n",
       "LF_mechanism_we_use_3_True                    96  0.000111  0.000000   \n",
       "LF_mechanism_presents_3_True                  92  0.000892  0.000557   \n",
       "LF_mechanism_developed_neg2_True              89  0.001226  0.000111   \n",
       "LF_mechanism_developed_3_True                 88  0.000223  0.000111   \n",
       "LF_purpose_the_problem_ofneg2_True             4  0.000780  0.000780   \n",
       "LF_purpose_the_problem_of3_True                3  0.000111  0.000111   \n",
       "LF_mechanism_develops_3_True                  86  0.000111  0.000056   \n",
       "LF_purpose_ways_to3_True                      57  0.000111  0.000056   \n",
       "LF_mechanism_we_similar_employ_neg1_True     134  0.000557  0.000390   \n",
       "LF_purpose_examine3_True                      51  0.001170  0.000836   \n",
       "LF_null_this_result3_True                    159  0.000111  0.000056   \n",
       "LF_purpose_although3_True                     35  0.000111  0.000111   \n",
       "LF_purpose_althoughneg2_True                  36  0.002174  0.001449   \n",
       "LF_null_evaluates_neg2_True                  166  0.000167  0.000056   \n",
       "LF_null_evaluates_3_True                     165  0.000111  0.000056   \n",
       "LF_null_observe3_True                        161  0.000167  0.000111   \n",
       "LF_null_this_resultneg2_True                 160  0.001003  0.001003   \n",
       "LF_null_has_shown3_True                      193  0.000446  0.000446   \n",
       "LF_purpose_deals_with_neg2_True               50  0.000947  0.000947   \n",
       "LF_purpose_know_little_3_True                 45  0.000056  0.000056   \n",
       "LF_purpose_know_little_neg2_True              46  0.001282  0.001282   \n",
       "LF_null_popularity_3_True                    197  0.000111  0.000056   \n",
       "LF_null_popularity_neg2_True                 198  0.000502  0.000056   \n",
       "LF_null_indicate_that3_True                  173  0.000111  0.000111   \n",
       "LF_purpose_deals_with_3_True                  49  0.000056  0.000056   \n",
       "LF_null_shows_that3_True                     149  0.000446  0.000446   \n",
       "LF_purpose_the_task_of3_True                   5  0.000000  0.000000   \n",
       "LF_purpose_the_task_ofneg2_True                6  0.000000  0.000000   \n",
       "LF_purpose_to_answer3_True                    15  0.000000  0.000000   \n",
       "LF_purpose_to_answerneg2_True                 16  0.000000  0.000000   \n",
       "LF_purpose_useful_to3_True                    25  0.000000  0.000000   \n",
       "LF_purpose_useful_toneg2_True                 26  0.000000  0.000000   \n",
       "LF_purpose_bottleneck3_True                   59  0.000000  0.000000   \n",
       "LF_purpose_bottleneckneg1_True                60  0.000000  0.000000   \n",
       "LF_purpose_we_similar_bottleneck_neg2_True    70  0.000000  0.000000   \n",
       "LF_null_finds_that3_True                     155  0.000000  0.000000   \n",
       "LF_null_finds_thatneg2_True                  156  0.000000  0.000000   \n",
       "LF_null_are_performed3_True                  177  0.000000  0.000000   \n",
       "LF_null_are_performedneg2_True               178  0.000000  0.000000   \n",
       "LF_null_were_performed3_True                 179  0.000000  0.000000   \n",
       "LF_null_were_performedneg2_True              180  0.000000  0.000000   \n",
       "LF_null_we_similar_benchmark_neg2_True       215  0.000000  0.000000   \n",
       "\n",
       "                                             Conflicts  \\\n",
       "LF_null_indicates_thatneg2_True               0.002229   \n",
       "LF_mechanism_using_a_neg2_True                0.003065   \n",
       "LF_null_recent_research3_True                 0.000111   \n",
       "LF_purpose_we_similar_fundamental_neg2_True   0.000613   \n",
       "LF_mechanism_using_a_3_True                   0.000223   \n",
       "LF_null_recentlyneg2_True                     0.002619   \n",
       "LF_null_recently3_True                        0.000279   \n",
       "LF_mechanism_employed_neg2_True               0.001783   \n",
       "LF_purpose_crucialneg2_True                   0.001282   \n",
       "LF_purpose_crucial3_True                      0.000167   \n",
       "LF_mechanism_employed_3_True                  0.000111   \n",
       "LF_null_recent_researchneg2_True              0.002898   \n",
       "LF_purpose_fundamentalneg2_True               0.000613   \n",
       "LF_purpose_fundamental3_True                  0.000167   \n",
       "LF_null_indicates_that3_True                  0.000223   \n",
       "LF_mechanism_a_function_that3_True            0.000056   \n",
       "LF_null_we_similar_perform_neg2_True          0.006465   \n",
       "LF_null_we_proveneg2_True                     0.000446   \n",
       "LF_null_we_prove3_True                        0.000111   \n",
       "LF_mechanism_a_function_thatneg2_True         0.001393   \n",
       "LF_null_evaluate_neg2_True                    0.003846   \n",
       "LF_null_we_similar_prototype_neg2_True        0.005963   \n",
       "LF_purpose_we_similar_challenging_neg2_True   0.002341   \n",
       "LF_purpose_challengingneg2_True               0.002341   \n",
       "LF_null_datasetneg2_True                      0.007245   \n",
       "LF_null_we_similar_report_neg2_True           0.007412   \n",
       "LF_mechanism_employ_neg2_True                 0.002842   \n",
       "LF_mechanism_approach_neg2_True               0.026083   \n",
       "LF_null_we_similar_dataset_neg2_True          0.004459   \n",
       "LF_mechanism_we_similar_approach_neg2_True    0.026919   \n",
       "LF_mechanism_we_similar_employ_neg2_True      0.002842   \n",
       "LF_mechanism_we_use_neg2_True                 0.001616   \n",
       "LF_null_we_similar_empirical_neg2_True        0.012261   \n",
       "LF_null_demonstrateneg2_True                  0.025247   \n",
       "LF_null_popular_neg2_True                     0.005127   \n",
       "LF_mechanism_using_the_neg2_True              0.004793   \n",
       "LF_mechanism_develops_neg2_True               0.001059   \n",
       "LF_mechanism_present_neg2_True                0.024689   \n",
       "LF_mechanism_we_similar_present_neg2_True     0.025191   \n",
       "LF_null_previously3_True                      0.000613   \n",
       "LF_mechanism_provideneg2_True                 0.026751   \n",
       "LF_null_compared_toneg2_True                  0.005127   \n",
       "LF_null_generalneg2_True                      0.011258   \n",
       "LF_mechanism_via_neg2_True                    0.008137   \n",
       "LF_null_settingsneg1_True                     0.003344   \n",
       "LF_null_dataset3_True                         0.001170   \n",
       "LF_null_evaluate_3_True                       0.000390   \n",
       "LF_mechanism_we_similar_approach_neg1_True    0.010199   \n",
       "LF_null_has_beenneg2_True                     0.003846   \n",
       "LF_mechanism_we_similar_provide_neg2_True     0.017723   \n",
       "LF_null_the_success_of3_True                  0.000111   \n",
       "LF_mechanism_via_3_True                       0.000892   \n",
       "LF_null_demonstrate3_True                     0.002508   \n",
       "LF_purpose_in_order_toneg2_True               0.004904   \n",
       "LF_purpose_allow_neg2_True                    0.003065   \n",
       "purpose_to_verb                               0.044474   \n",
       "mechanism_an_algorithm                        0.001505   \n",
       "LF_purpose_we_similar_problem_neg2_True       0.024968   \n",
       "LF_null_test3_True                            0.001449   \n",
       "LF_purpose_taskneg2_True                      0.019339   \n",
       "LF_null_testneg2_True                         0.007189   \n",
       "LF_purpose_allows_3_True                      0.000557   \n",
       "mechanism_by_adv_doing                        0.015438   \n",
       "LF_null_general3_True                         0.001338   \n",
       "LF_mechanism_we_similar_method_neg2_True      0.037006   \n",
       "LF_mechanism_includeneg2_True                 0.009140   \n",
       "LF_mechanism_approach_3_True                  0.001839   \n",
       "purpose_for_doing                             0.021791   \n",
       "LF_purpose_goalneg2_True                      0.005796   \n",
       "LF_mechanism_we_similar_propose_neg2_True     0.010923   \n",
       "LF_purpose_whetherneg2_True                   0.004291   \n",
       "LF_mechanism_by_usingneg2_True                0.001170   \n",
       "LF_mechanism_uses_neg2_True                   0.004960   \n",
       "LF_purpose_problemneg1_True                   0.019841   \n",
       "LF_purpose_TO_VB_neg2_True                    0.089729   \n",
       "LF_mechanism_uses_3_True                      0.000780   \n",
       "LF_null_have_beenneg2_True                    0.002452   \n",
       "LF_null_generalneg1_True                      0.004793   \n",
       "LF_mechanism_method_neg2_True                 0.023017   \n",
       "LF_null_resultsneg2_True                      0.031544   \n",
       "LF_null_evaluated_neg2_True                   0.003288   \n",
       "LF_mechanism_proposeneg2_True                 0.013599   \n",
       "LF_purpose_goal3_True                         0.000836   \n",
       "LF_null_we_similar_experiment_neg2_True       0.007301   \n",
       "LF_purpose_task3_True                         0.004068   \n",
       "LF_purpose_we_similar_task_neg2_True          0.008304   \n",
       "LF_mechanism_provide3_True                    0.003400   \n",
       "LF_purpose_problem3_True                      0.003846   \n",
       "LF_purpose_a_study_ofneg2_True                0.000669   \n",
       "LF_mechanism_includesneg2_True                0.004849   \n",
       "mechanism_then_VB                             0.010199   \n",
       "LF_purpose_existing_neg2_True                 0.006131   \n",
       "LF_purpose_to_understandneg2_True             0.002118   \n",
       "LF_mechanism_we_similar_propose_neg1_True     0.002285   \n",
       "LF_purpose_taskneg1_True                      0.020955   \n",
       "LF_purpose_we_similar_challenge_neg2_True     0.005239   \n",
       "LF_mechanism_we_similar_provide_neg1_True     0.012150   \n",
       "LF_mechanism_by_neg2_True                     0.039291   \n",
       "LF_purpose_challengeneg2_True                 0.013097   \n",
       "LF_null_the_success_ofneg2_True               0.001951   \n",
       "LF_null_showneg2_True                         0.042245   \n",
       "LF_mechanism_method_3_True                    0.001505   \n",
       "LF_null_compared_to3_True                     0.000557   \n",
       "LF_purpose_in_order_to3_True                  0.000223   \n",
       "LF_purpose_to_understand3_True                0.000223   \n",
       "LF_purpose_yet_3_True                         0.000111   \n",
       "LF_mechanism_by_using3_True                   0.000111   \n",
       "LF_null_compare_3_True                        0.000111   \n",
       "LF_purpose_existing_3_True                    0.000557   \n",
       "LF_null_settings3_True                        0.000502   \n",
       "LF_null_we_similar_interview_neg2_True        0.001951   \n",
       "LF_purpose_a_study_of3_True                   0.000056   \n",
       "LF_purpose_allows_neg2_True                   0.003901   \n",
       "LF_null_experiment3_True                      0.002954   \n",
       "LF_purpose_we_similar_allow_neg2_True         0.004403   \n",
       "LF_null_we_similar_shows_neg2_True            0.027699   \n",
       "LF_null_show_thatneg2_True                    0.015382   \n",
       "LF_null_we_similar_indicate_neg2_True         0.002174   \n",
       "LF_mechanism_we_similar_method_neg1_True      0.011425   \n",
       "LF_null_has_shownneg2_True                    0.002842   \n",
       "LF_purpose_but_neg2_True                      0.014100   \n",
       "LF_null_experimentneg2_True                   0.018113   \n",
       "LF_mechanism_develop_neg2_True                0.001505   \n",
       "LF_mechanism_by_3_True                        0.004124   \n",
       "LF_purpose_howeverneg2_True                   0.012428   \n",
       "LF_mechanism_we_similar_develop_neg2_True     0.001560   \n",
       "LF_mechanism_include3_True                    0.001003   \n",
       "LF_purpose_issueneg1_True                     0.000334   \n",
       "LF_mechanism_we_similar_present_neg1_True     0.004570   \n",
       "LF_null_previouslyneg2_True                   0.001115   \n",
       "LF_null_show3_True                            0.004068   \n",
       "LF_mechanism_propose3_True                    0.001338   \n",
       "LF_null_popular_3_True                        0.000223   \n",
       "LF_purpose_allow_3_True                       0.000223   \n",
       "LF_null_evaluated_3_True                      0.000223   \n",
       "LF_purpose_we_similar_issue_neg2_True         0.001393   \n",
       "LF_purpose_issueneg2_True                     0.001393   \n",
       "LF_null_observeneg2_True                      0.001115   \n",
       "LF_purpose_yet_neg2_True                      0.000892   \n",
       "LF_purpose_whether3_True                      0.000390   \n",
       "LF_null_results3_True                         0.003010   \n",
       "LF_null_increasingneg2_True                   0.003177   \n",
       "LF_mechanism_present_3_True                   0.001003   \n",
       "LF_null_has_been3_True                        0.000334   \n",
       "LF_null_have_been3_True                       0.000167   \n",
       "LF_null_increasing3_True                      0.000669   \n",
       "LF_purpose_but_3_True                         0.001616   \n",
       "LF_purpose_we_exploreneg2_True                0.002564   \n",
       "LF_purpose_we_studyneg2_True                  0.003232   \n",
       "LF_purpose_fundamentalneg1_True               0.000111   \n",
       "LF_purpose_issue3_True                        0.000167   \n",
       "LF_purpose_challenging3_True                  0.000167   \n",
       "LF_null_compare_neg2_True                     0.000613   \n",
       "LF_purpose_we_study3_True                     0.000334   \n",
       "LF_null_show_that3_True                       0.000780   \n",
       "LF_mechanism_includes3_True                   0.000502   \n",
       "LF_null_found_thatneg2_True                   0.002675   \n",
       "LF_purpose_challenge3_True                    0.001003   \n",
       "LF_purpose_investigateneg2_True               0.003400   \n",
       "LF_null_increasingly3_True                    0.000167   \n",
       "LF_purpose_however3_True                      0.000557   \n",
       "LF_purpose_examineneg2_True                   0.003010   \n",
       "LF_mechanism_develop_3_True                   0.000111   \n",
       "LF_mechanism_presents_neg2_True               0.001338   \n",
       "LF_null_found_that3_True                      0.000223   \n",
       "LF_mechanism_using_the_3_True                 0.000056   \n",
       "LF_purpose_challengeneg1_True                 0.002285   \n",
       "LF_null_find_thatneg2_True                    0.001783   \n",
       "LF_mechanism_we_similar_develop_neg1_True     0.000334   \n",
       "LF_purpose_challengingneg1_True               0.000446   \n",
       "LF_purpose_we_explore3_True                   0.000111   \n",
       "LF_null_find_that3_True                       0.000111   \n",
       "LF_null_increasinglyneg2_True                 0.000390   \n",
       "LF_purpose_investigate3_True                  0.000167   \n",
       "LF_null_shows_thatneg2_True                   0.000390   \n",
       "LF_purpose_ways_toneg2_True                   0.000000   \n",
       "LF_mechanism_employs_neg2_True                0.000000   \n",
       "LF_mechanism_employs_3_True                   0.000000   \n",
       "LF_mechanism_employ_3_True                    0.000000   \n",
       "LF_null_indicate_thatneg2_True                0.000000   \n",
       "LF_mechanism_we_use_3_True                    0.000000   \n",
       "LF_mechanism_presents_3_True                  0.000000   \n",
       "LF_mechanism_developed_neg2_True              0.000000   \n",
       "LF_mechanism_developed_3_True                 0.000000   \n",
       "LF_purpose_the_problem_ofneg2_True            0.000000   \n",
       "LF_purpose_the_problem_of3_True               0.000000   \n",
       "LF_mechanism_develops_3_True                  0.000000   \n",
       "LF_purpose_ways_to3_True                      0.000000   \n",
       "LF_mechanism_we_similar_employ_neg1_True      0.000000   \n",
       "LF_purpose_examine3_True                      0.000000   \n",
       "LF_null_this_result3_True                     0.000000   \n",
       "LF_purpose_although3_True                     0.000000   \n",
       "LF_purpose_althoughneg2_True                  0.000000   \n",
       "LF_null_evaluates_neg2_True                   0.000000   \n",
       "LF_null_evaluates_3_True                      0.000000   \n",
       "LF_null_observe3_True                         0.000000   \n",
       "LF_null_this_resultneg2_True                  0.000000   \n",
       "LF_null_has_shown3_True                       0.000000   \n",
       "LF_purpose_deals_with_neg2_True               0.000000   \n",
       "LF_purpose_know_little_3_True                 0.000000   \n",
       "LF_purpose_know_little_neg2_True              0.000000   \n",
       "LF_null_popularity_3_True                     0.000000   \n",
       "LF_null_popularity_neg2_True                  0.000000   \n",
       "LF_null_indicate_that3_True                   0.000000   \n",
       "LF_purpose_deals_with_3_True                  0.000000   \n",
       "LF_null_shows_that3_True                      0.000000   \n",
       "LF_purpose_the_task_of3_True                  0.000000   \n",
       "LF_purpose_the_task_ofneg2_True               0.000000   \n",
       "LF_purpose_to_answer3_True                    0.000000   \n",
       "LF_purpose_to_answerneg2_True                 0.000000   \n",
       "LF_purpose_useful_to3_True                    0.000000   \n",
       "LF_purpose_useful_toneg2_True                 0.000000   \n",
       "LF_purpose_bottleneck3_True                   0.000000   \n",
       "LF_purpose_bottleneckneg1_True                0.000000   \n",
       "LF_purpose_we_similar_bottleneck_neg2_True    0.000000   \n",
       "LF_null_finds_that3_True                      0.000000   \n",
       "LF_null_finds_thatneg2_True                   0.000000   \n",
       "LF_null_are_performed3_True                   0.000000   \n",
       "LF_null_are_performedneg2_True                0.000000   \n",
       "LF_null_were_performed3_True                  0.000000   \n",
       "LF_null_were_performedneg2_True               0.000000   \n",
       "LF_null_we_similar_benchmark_neg2_True        0.000000   \n",
       "\n",
       "                                             Conflict_Coverage_ratio  \n",
       "LF_null_indicates_thatneg2_True                             1.000000  \n",
       "LF_mechanism_using_a_neg2_True                              1.000000  \n",
       "LF_null_recent_research3_True                               1.000000  \n",
       "LF_purpose_we_similar_fundamental_neg2_True                 1.000000  \n",
       "LF_mechanism_using_a_3_True                                 1.000000  \n",
       "LF_null_recentlyneg2_True                                   1.000000  \n",
       "LF_null_recently3_True                                      1.000000  \n",
       "LF_mechanism_employed_neg2_True                             1.000000  \n",
       "LF_purpose_crucialneg2_True                                 1.000000  \n",
       "LF_purpose_crucial3_True                                    1.000000  \n",
       "LF_mechanism_employed_3_True                                1.000000  \n",
       "LF_null_recent_researchneg2_True                            1.000000  \n",
       "LF_purpose_fundamentalneg2_True                             1.000000  \n",
       "LF_purpose_fundamental3_True                                1.000000  \n",
       "LF_null_indicates_that3_True                                1.000000  \n",
       "LF_mechanism_a_function_that3_True                          1.000000  \n",
       "LF_null_we_similar_perform_neg2_True                        1.000000  \n",
       "LF_null_we_proveneg2_True                                   1.000000  \n",
       "LF_null_we_prove3_True                                      1.000000  \n",
       "LF_mechanism_a_function_thatneg2_True                       1.000000  \n",
       "LF_null_evaluate_neg2_True                                  0.985714  \n",
       "LF_null_we_similar_prototype_neg2_True                      0.922414  \n",
       "LF_purpose_we_similar_challenging_neg2_True                 0.913043  \n",
       "LF_purpose_challengingneg2_True                             0.913043  \n",
       "LF_null_datasetneg2_True                                    0.890411  \n",
       "LF_null_we_similar_report_neg2_True                         0.880795  \n",
       "LF_mechanism_employ_neg2_True                               0.864407  \n",
       "LF_mechanism_approach_neg2_True                             0.860294  \n",
       "LF_null_we_similar_dataset_neg2_True                        0.851064  \n",
       "LF_mechanism_we_similar_approach_neg2_True                  0.847368  \n",
       "LF_mechanism_we_similar_employ_neg2_True                    0.836066  \n",
       "LF_mechanism_we_use_neg2_True                               0.828571  \n",
       "LF_null_we_similar_empirical_neg2_True                      0.823970  \n",
       "LF_null_demonstrateneg2_True                                0.811828  \n",
       "LF_null_popular_neg2_True                                   0.807018  \n",
       "LF_mechanism_using_the_neg2_True                            0.761062  \n",
       "LF_mechanism_develops_neg2_True                             0.760000  \n",
       "LF_mechanism_present_neg2_True                              0.744538  \n",
       "LF_mechanism_we_similar_present_neg2_True                   0.739771  \n",
       "LF_null_previously3_True                                    0.733333  \n",
       "LF_mechanism_provideneg2_True                               0.731707  \n",
       "LF_null_compared_toneg2_True                                0.724409  \n",
       "LF_null_generalneg2_True                                    0.716312  \n",
       "LF_mechanism_via_neg2_True                                  0.708738  \n",
       "LF_null_settingsneg1_True                                   0.705882  \n",
       "LF_null_dataset3_True                                       0.700000  \n",
       "LF_null_evaluate_3_True                                     0.700000  \n",
       "LF_mechanism_we_similar_approach_neg1_True                  0.693182  \n",
       "LF_null_has_beenneg2_True                                   0.683168  \n",
       "LF_mechanism_we_similar_provide_neg2_True                   0.682403  \n",
       "LF_null_the_success_of3_True                                0.666667  \n",
       "LF_mechanism_via_3_True                                     0.666667  \n",
       "LF_null_demonstrate3_True                                   0.652174  \n",
       "LF_purpose_in_order_toneg2_True                             0.651852  \n",
       "LF_purpose_allow_neg2_True                                  0.647059  \n",
       "purpose_to_verb                                             0.646677  \n",
       "mechanism_an_algorithm                                      0.642857  \n",
       "LF_purpose_we_similar_problem_neg2_True                     0.634561  \n",
       "LF_null_test3_True                                          0.634146  \n",
       "LF_purpose_taskneg2_True                                    0.629764  \n",
       "LF_null_testneg2_True                                       0.626214  \n",
       "LF_purpose_allows_3_True                                    0.625000  \n",
       "mechanism_by_adv_doing                                      0.618304  \n",
       "LF_null_general3_True                                       0.615385  \n",
       "LF_mechanism_we_similar_method_neg2_True                    0.611982  \n",
       "LF_mechanism_includeneg2_True                               0.611940  \n",
       "LF_mechanism_approach_3_True                                0.611111  \n",
       "purpose_for_doing                                           0.609984  \n",
       "LF_purpose_goalneg2_True                                    0.604651  \n",
       "LF_mechanism_we_similar_propose_neg2_True                   0.603077  \n",
       "LF_purpose_whetherneg2_True                                 0.601562  \n",
       "LF_mechanism_by_usingneg2_True                              0.600000  \n",
       "LF_mechanism_uses_neg2_True                                 0.597315  \n",
       "LF_purpose_problemneg1_True                                 0.587459  \n",
       "LF_purpose_TO_VB_neg2_True                                  0.584180  \n",
       "LF_mechanism_uses_3_True                                    0.583333  \n",
       "LF_null_have_beenneg2_True                                  0.578947  \n",
       "LF_null_generalneg1_True                                    0.577181  \n",
       "LF_mechanism_method_neg2_True                               0.572816  \n",
       "LF_null_resultsneg2_True                                    0.571717  \n",
       "LF_null_evaluated_neg2_True                                 0.567308  \n",
       "LF_mechanism_proposeneg2_True                               0.560920  \n",
       "LF_purpose_goal3_True                                       0.555556  \n",
       "LF_null_we_similar_experiment_neg2_True                     0.555085  \n",
       "LF_purpose_task3_True                                       0.553030  \n",
       "LF_purpose_we_similar_task_neg2_True                        0.549815  \n",
       "LF_mechanism_provide3_True                                  0.549550  \n",
       "LF_purpose_problem3_True                                    0.547619  \n",
       "LF_purpose_a_study_ofneg2_True                              0.545455  \n",
       "LF_mechanism_includesneg2_True                              0.537037  \n",
       "mechanism_then_VB                                           0.531977  \n",
       "LF_purpose_existing_neg2_True                               0.528846  \n",
       "LF_purpose_to_understandneg2_True                           0.527778  \n",
       "LF_mechanism_we_similar_propose_neg1_True                   0.525641  \n",
       "LF_purpose_taskneg1_True                                    0.522222  \n",
       "LF_purpose_we_similar_challenge_neg2_True                   0.522222  \n",
       "LF_mechanism_we_similar_provide_neg1_True                   0.521531  \n",
       "LF_mechanism_by_neg2_True                                   0.521064  \n",
       "LF_purpose_challengeneg2_True                               0.515351  \n",
       "LF_null_the_success_ofneg2_True                             0.514706  \n",
       "LF_null_showneg2_True                                       0.507023  \n",
       "LF_mechanism_method_3_True                                  0.500000  \n",
       "LF_null_compared_to3_True                                   0.500000  \n",
       "LF_purpose_in_order_to3_True                                0.500000  \n",
       "LF_purpose_to_understand3_True                              0.500000  \n",
       "LF_purpose_yet_3_True                                       0.500000  \n",
       "LF_mechanism_by_using3_True                                 0.500000  \n",
       "LF_null_compare_3_True                                      0.500000  \n",
       "LF_purpose_existing_3_True                                  0.500000  \n",
       "LF_null_settings3_True                                      0.500000  \n",
       "LF_null_we_similar_interview_neg2_True                      0.500000  \n",
       "LF_purpose_a_study_of3_True                                 0.500000  \n",
       "LF_purpose_allows_neg2_True                                 0.489510  \n",
       "LF_null_experiment3_True                                    0.486239  \n",
       "LF_purpose_we_similar_allow_neg2_True                       0.478788  \n",
       "LF_null_we_similar_shows_neg2_True                          0.474237  \n",
       "LF_null_show_thatneg2_True                                  0.471795  \n",
       "LF_null_we_similar_indicate_neg2_True                       0.464286  \n",
       "LF_mechanism_we_similar_method_neg1_True                    0.460674  \n",
       "LF_null_has_shownneg2_True                                  0.451327  \n",
       "LF_purpose_but_neg2_True                                    0.450980  \n",
       "LF_null_experimentneg2_True                                 0.450763  \n",
       "LF_mechanism_develop_neg2_True                              0.450000  \n",
       "LF_mechanism_by_3_True                                      0.440476  \n",
       "LF_purpose_howeverneg2_True                                 0.438976  \n",
       "LF_mechanism_we_similar_develop_neg2_True                   0.437500  \n",
       "LF_mechanism_include3_True                                  0.428571  \n",
       "LF_purpose_issueneg1_True                                   0.428571  \n",
       "LF_mechanism_we_similar_present_neg1_True                   0.427083  \n",
       "LF_null_previouslyneg2_True                                 0.416667  \n",
       "LF_null_show3_True                                          0.405556  \n",
       "LF_mechanism_propose3_True                                  0.400000  \n",
       "LF_null_popular_3_True                                      0.400000  \n",
       "LF_purpose_allow_3_True                                     0.400000  \n",
       "LF_null_evaluated_3_True                                    0.400000  \n",
       "LF_purpose_we_similar_issue_neg2_True                       0.396825  \n",
       "LF_purpose_issueneg2_True                                   0.396825  \n",
       "LF_null_observeneg2_True                                    0.392157  \n",
       "LF_purpose_yet_neg2_True                                    0.390244  \n",
       "LF_purpose_whether3_True                                    0.388889  \n",
       "LF_null_results3_True                                       0.385714  \n",
       "LF_null_increasingneg2_True                                 0.375000  \n",
       "LF_mechanism_present_3_True                                 0.375000  \n",
       "LF_null_has_been3_True                                      0.375000  \n",
       "LF_null_have_been3_True                                     0.375000  \n",
       "LF_null_increasing3_True                                    0.375000  \n",
       "LF_purpose_but_3_True                                       0.371795  \n",
       "LF_purpose_we_exploreneg2_True                              0.345865  \n",
       "LF_purpose_we_studyneg2_True                                0.339181  \n",
       "LF_purpose_fundamentalneg1_True                             0.333333  \n",
       "LF_purpose_issue3_True                                      0.333333  \n",
       "LF_purpose_challenging3_True                                0.333333  \n",
       "LF_null_compare_neg2_True                                   0.333333  \n",
       "LF_purpose_we_study3_True                                   0.333333  \n",
       "LF_null_show_that3_True                                     0.304348  \n",
       "LF_mechanism_includes3_True                                 0.300000  \n",
       "LF_null_found_thatneg2_True                                 0.296296  \n",
       "LF_purpose_challenge3_True                                  0.285714  \n",
       "LF_purpose_investigateneg2_True                             0.281106  \n",
       "LF_null_increasingly3_True                                  0.272727  \n",
       "LF_purpose_however3_True                                    0.270270  \n",
       "LF_purpose_examineneg2_True                                 0.254717  \n",
       "LF_mechanism_develop_3_True                                 0.250000  \n",
       "LF_mechanism_presents_neg2_True                             0.224299  \n",
       "LF_null_found_that3_True                                    0.222222  \n",
       "LF_mechanism_using_the_3_True                               0.200000  \n",
       "LF_purpose_challengeneg1_True                               0.195238  \n",
       "LF_null_find_thatneg2_True                                  0.195122  \n",
       "LF_mechanism_we_similar_develop_neg1_True                   0.181818  \n",
       "LF_purpose_challengingneg1_True                             0.173913  \n",
       "LF_purpose_we_explore3_True                                 0.166667  \n",
       "LF_null_find_that3_True                                     0.142857  \n",
       "LF_null_increasinglyneg2_True                               0.132075  \n",
       "LF_purpose_investigate3_True                                0.100000  \n",
       "LF_null_shows_thatneg2_True                                 0.085366  \n",
       "LF_purpose_ways_toneg2_True                                 0.000000  \n",
       "LF_mechanism_employs_neg2_True                              0.000000  \n",
       "LF_mechanism_employs_3_True                                 0.000000  \n",
       "LF_mechanism_employ_3_True                                  0.000000  \n",
       "LF_null_indicate_thatneg2_True                              0.000000  \n",
       "LF_mechanism_we_use_3_True                                  0.000000  \n",
       "LF_mechanism_presents_3_True                                0.000000  \n",
       "LF_mechanism_developed_neg2_True                            0.000000  \n",
       "LF_mechanism_developed_3_True                               0.000000  \n",
       "LF_purpose_the_problem_ofneg2_True                          0.000000  \n",
       "LF_purpose_the_problem_of3_True                             0.000000  \n",
       "LF_mechanism_develops_3_True                                0.000000  \n",
       "LF_purpose_ways_to3_True                                    0.000000  \n",
       "LF_mechanism_we_similar_employ_neg1_True                    0.000000  \n",
       "LF_purpose_examine3_True                                    0.000000  \n",
       "LF_null_this_result3_True                                   0.000000  \n",
       "LF_purpose_although3_True                                   0.000000  \n",
       "LF_purpose_althoughneg2_True                                0.000000  \n",
       "LF_null_evaluates_neg2_True                                 0.000000  \n",
       "LF_null_evaluates_3_True                                    0.000000  \n",
       "LF_null_observe3_True                                       0.000000  \n",
       "LF_null_this_resultneg2_True                                0.000000  \n",
       "LF_null_has_shown3_True                                     0.000000  \n",
       "LF_purpose_deals_with_neg2_True                             0.000000  \n",
       "LF_purpose_know_little_3_True                               0.000000  \n",
       "LF_purpose_know_little_neg2_True                            0.000000  \n",
       "LF_null_popularity_3_True                                   0.000000  \n",
       "LF_null_popularity_neg2_True                                0.000000  \n",
       "LF_null_indicate_that3_True                                 0.000000  \n",
       "LF_purpose_deals_with_3_True                                0.000000  \n",
       "LF_null_shows_that3_True                                    0.000000  \n",
       "LF_purpose_the_task_of3_True                                     NaN  \n",
       "LF_purpose_the_task_ofneg2_True                                  NaN  \n",
       "LF_purpose_to_answer3_True                                       NaN  \n",
       "LF_purpose_to_answerneg2_True                                    NaN  \n",
       "LF_purpose_useful_to3_True                                       NaN  \n",
       "LF_purpose_useful_toneg2_True                                    NaN  \n",
       "LF_purpose_bottleneck3_True                                      NaN  \n",
       "LF_purpose_bottleneckneg1_True                                   NaN  \n",
       "LF_purpose_we_similar_bottleneck_neg2_True                       NaN  \n",
       "LF_null_finds_that3_True                                         NaN  \n",
       "LF_null_finds_thatneg2_True                                      NaN  \n",
       "LF_null_are_performed3_True                                      NaN  \n",
       "LF_null_are_performedneg2_True                                   NaN  \n",
       "LF_null_were_performed3_True                                     NaN  \n",
       "LF_null_were_performedneg2_True                                  NaN  \n",
       "LF_null_we_similar_benchmark_neg2_True                           NaN  "
      ]
     },
     "execution_count": 24,
     "metadata": {},
     "output_type": "execute_result"
    },
    {
     "data": {
      "text/html": [
       "<div>\n",
       "<style scoped>\n",
       "    .dataframe tbody tr th:only-of-type {\n",
       "        vertical-align: middle;\n",
       "    }\n",
       "\n",
       "    .dataframe tbody tr th {\n",
       "        vertical-align: top;\n",
       "    }\n",
       "\n",
       "    .dataframe thead th {\n",
       "        text-align: right;\n",
       "    }\n",
       "</style>\n",
       "<table border=\"1\" class=\"dataframe\">\n",
       "  <thead>\n",
       "    <tr style=\"text-align: right;\">\n",
       "      <th></th>\n",
       "      <th>j</th>\n",
       "      <th>Coverage</th>\n",
       "      <th>Overlaps</th>\n",
       "      <th>Conflicts</th>\n",
       "      <th>Conflict_Coverage_ratio</th>\n",
       "    </tr>\n",
       "  </thead>\n",
       "  <tbody>\n",
       "    <tr>\n",
       "      <th>LF_null_indicates_thatneg2_True</th>\n",
       "      <td>176</td>\n",
       "      <td>0.002229</td>\n",
       "      <td>0.002229</td>\n",
       "      <td>0.002229</td>\n",
       "      <td>1.000000</td>\n",
       "    </tr>\n",
       "    <tr>\n",
       "      <th>LF_mechanism_using_a_neg2_True</th>\n",
       "      <td>107</td>\n",
       "      <td>0.003065</td>\n",
       "      <td>0.003065</td>\n",
       "      <td>0.003065</td>\n",
       "      <td>1.000000</td>\n",
       "    </tr>\n",
       "    <tr>\n",
       "      <th>LF_null_recent_research3_True</th>\n",
       "      <td>187</td>\n",
       "      <td>0.000111</td>\n",
       "      <td>0.000111</td>\n",
       "      <td>0.000111</td>\n",
       "      <td>1.000000</td>\n",
       "    </tr>\n",
       "    <tr>\n",
       "      <th>LF_purpose_we_similar_fundamental_neg2_True</th>\n",
       "      <td>73</td>\n",
       "      <td>0.000613</td>\n",
       "      <td>0.000613</td>\n",
       "      <td>0.000613</td>\n",
       "      <td>1.000000</td>\n",
       "    </tr>\n",
       "    <tr>\n",
       "      <th>LF_mechanism_using_a_3_True</th>\n",
       "      <td>106</td>\n",
       "      <td>0.000223</td>\n",
       "      <td>0.000223</td>\n",
       "      <td>0.000223</td>\n",
       "      <td>1.000000</td>\n",
       "    </tr>\n",
       "    <tr>\n",
       "      <th>LF_null_recentlyneg2_True</th>\n",
       "      <td>186</td>\n",
       "      <td>0.002619</td>\n",
       "      <td>0.002619</td>\n",
       "      <td>0.002619</td>\n",
       "      <td>1.000000</td>\n",
       "    </tr>\n",
       "    <tr>\n",
       "      <th>LF_null_recently3_True</th>\n",
       "      <td>185</td>\n",
       "      <td>0.000279</td>\n",
       "      <td>0.000279</td>\n",
       "      <td>0.000279</td>\n",
       "      <td>1.000000</td>\n",
       "    </tr>\n",
       "    <tr>\n",
       "      <th>LF_mechanism_employed_neg2_True</th>\n",
       "      <td>103</td>\n",
       "      <td>0.001783</td>\n",
       "      <td>0.001783</td>\n",
       "      <td>0.001783</td>\n",
       "      <td>1.000000</td>\n",
       "    </tr>\n",
       "    <tr>\n",
       "      <th>LF_purpose_crucialneg2_True</th>\n",
       "      <td>18</td>\n",
       "      <td>0.001282</td>\n",
       "      <td>0.001282</td>\n",
       "      <td>0.001282</td>\n",
       "      <td>1.000000</td>\n",
       "    </tr>\n",
       "    <tr>\n",
       "      <th>LF_purpose_crucial3_True</th>\n",
       "      <td>17</td>\n",
       "      <td>0.000167</td>\n",
       "      <td>0.000167</td>\n",
       "      <td>0.000167</td>\n",
       "      <td>1.000000</td>\n",
       "    </tr>\n",
       "    <tr>\n",
       "      <th>LF_mechanism_employed_3_True</th>\n",
       "      <td>102</td>\n",
       "      <td>0.000111</td>\n",
       "      <td>0.000111</td>\n",
       "      <td>0.000111</td>\n",
       "      <td>1.000000</td>\n",
       "    </tr>\n",
       "    <tr>\n",
       "      <th>LF_null_recent_researchneg2_True</th>\n",
       "      <td>188</td>\n",
       "      <td>0.002898</td>\n",
       "      <td>0.002898</td>\n",
       "      <td>0.002898</td>\n",
       "      <td>1.000000</td>\n",
       "    </tr>\n",
       "    <tr>\n",
       "      <th>LF_purpose_fundamentalneg2_True</th>\n",
       "      <td>12</td>\n",
       "      <td>0.000613</td>\n",
       "      <td>0.000613</td>\n",
       "      <td>0.000613</td>\n",
       "      <td>1.000000</td>\n",
       "    </tr>\n",
       "    <tr>\n",
       "      <th>LF_purpose_fundamental3_True</th>\n",
       "      <td>11</td>\n",
       "      <td>0.000167</td>\n",
       "      <td>0.000167</td>\n",
       "      <td>0.000167</td>\n",
       "      <td>1.000000</td>\n",
       "    </tr>\n",
       "    <tr>\n",
       "      <th>LF_null_indicates_that3_True</th>\n",
       "      <td>175</td>\n",
       "      <td>0.000223</td>\n",
       "      <td>0.000223</td>\n",
       "      <td>0.000223</td>\n",
       "      <td>1.000000</td>\n",
       "    </tr>\n",
       "    <tr>\n",
       "      <th>LF_mechanism_a_function_that3_True</th>\n",
       "      <td>120</td>\n",
       "      <td>0.000056</td>\n",
       "      <td>0.000056</td>\n",
       "      <td>0.000056</td>\n",
       "      <td>1.000000</td>\n",
       "    </tr>\n",
       "    <tr>\n",
       "      <th>LF_null_we_similar_perform_neg2_True</th>\n",
       "      <td>217</td>\n",
       "      <td>0.006465</td>\n",
       "      <td>0.006465</td>\n",
       "      <td>0.006465</td>\n",
       "      <td>1.000000</td>\n",
       "    </tr>\n",
       "    <tr>\n",
       "      <th>LF_null_we_proveneg2_True</th>\n",
       "      <td>164</td>\n",
       "      <td>0.000446</td>\n",
       "      <td>0.000446</td>\n",
       "      <td>0.000446</td>\n",
       "      <td>1.000000</td>\n",
       "    </tr>\n",
       "    <tr>\n",
       "      <th>LF_null_we_prove3_True</th>\n",
       "      <td>163</td>\n",
       "      <td>0.000111</td>\n",
       "      <td>0.000111</td>\n",
       "      <td>0.000111</td>\n",
       "      <td>1.000000</td>\n",
       "    </tr>\n",
       "    <tr>\n",
       "      <th>LF_mechanism_a_function_thatneg2_True</th>\n",
       "      <td>121</td>\n",
       "      <td>0.001393</td>\n",
       "      <td>0.001393</td>\n",
       "      <td>0.001393</td>\n",
       "      <td>1.000000</td>\n",
       "    </tr>\n",
       "    <tr>\n",
       "      <th>LF_null_evaluate_neg2_True</th>\n",
       "      <td>170</td>\n",
       "      <td>0.003901</td>\n",
       "      <td>0.003901</td>\n",
       "      <td>0.003846</td>\n",
       "      <td>0.985714</td>\n",
       "    </tr>\n",
       "    <tr>\n",
       "      <th>LF_null_we_similar_prototype_neg2_True</th>\n",
       "      <td>221</td>\n",
       "      <td>0.006465</td>\n",
       "      <td>0.006242</td>\n",
       "      <td>0.005963</td>\n",
       "      <td>0.922414</td>\n",
       "    </tr>\n",
       "    <tr>\n",
       "      <th>LF_purpose_we_similar_challenging_neg2_True</th>\n",
       "      <td>72</td>\n",
       "      <td>0.002564</td>\n",
       "      <td>0.002564</td>\n",
       "      <td>0.002341</td>\n",
       "      <td>0.913043</td>\n",
       "    </tr>\n",
       "    <tr>\n",
       "      <th>LF_purpose_challengingneg2_True</th>\n",
       "      <td>8</td>\n",
       "      <td>0.002564</td>\n",
       "      <td>0.002564</td>\n",
       "      <td>0.002341</td>\n",
       "      <td>0.913043</td>\n",
       "    </tr>\n",
       "    <tr>\n",
       "      <th>LF_null_datasetneg2_True</th>\n",
       "      <td>142</td>\n",
       "      <td>0.008137</td>\n",
       "      <td>0.008137</td>\n",
       "      <td>0.007245</td>\n",
       "      <td>0.890411</td>\n",
       "    </tr>\n",
       "    <tr>\n",
       "      <th>LF_null_we_similar_report_neg2_True</th>\n",
       "      <td>219</td>\n",
       "      <td>0.008416</td>\n",
       "      <td>0.008137</td>\n",
       "      <td>0.007412</td>\n",
       "      <td>0.880795</td>\n",
       "    </tr>\n",
       "    <tr>\n",
       "      <th>LF_mechanism_employ_neg2_True</th>\n",
       "      <td>99</td>\n",
       "      <td>0.003288</td>\n",
       "      <td>0.003288</td>\n",
       "      <td>0.002842</td>\n",
       "      <td>0.864407</td>\n",
       "    </tr>\n",
       "    <tr>\n",
       "      <th>LF_mechanism_approach_neg2_True</th>\n",
       "      <td>117</td>\n",
       "      <td>0.030318</td>\n",
       "      <td>0.030318</td>\n",
       "      <td>0.026083</td>\n",
       "      <td>0.860294</td>\n",
       "    </tr>\n",
       "    <tr>\n",
       "      <th>LF_null_we_similar_dataset_neg2_True</th>\n",
       "      <td>212</td>\n",
       "      <td>0.005239</td>\n",
       "      <td>0.005239</td>\n",
       "      <td>0.004459</td>\n",
       "      <td>0.851064</td>\n",
       "    </tr>\n",
       "    <tr>\n",
       "      <th>LF_mechanism_we_similar_approach_neg2_True</th>\n",
       "      <td>133</td>\n",
       "      <td>0.031767</td>\n",
       "      <td>0.031767</td>\n",
       "      <td>0.026919</td>\n",
       "      <td>0.847368</td>\n",
       "    </tr>\n",
       "    <tr>\n",
       "      <th>LF_mechanism_we_similar_employ_neg2_True</th>\n",
       "      <td>135</td>\n",
       "      <td>0.003400</td>\n",
       "      <td>0.003400</td>\n",
       "      <td>0.002842</td>\n",
       "      <td>0.836066</td>\n",
       "    </tr>\n",
       "    <tr>\n",
       "      <th>LF_mechanism_we_use_neg2_True</th>\n",
       "      <td>97</td>\n",
       "      <td>0.001951</td>\n",
       "      <td>0.001616</td>\n",
       "      <td>0.001616</td>\n",
       "      <td>0.828571</td>\n",
       "    </tr>\n",
       "    <tr>\n",
       "      <th>LF_null_we_similar_empirical_neg2_True</th>\n",
       "      <td>218</td>\n",
       "      <td>0.014880</td>\n",
       "      <td>0.013153</td>\n",
       "      <td>0.012261</td>\n",
       "      <td>0.823970</td>\n",
       "    </tr>\n",
       "    <tr>\n",
       "      <th>LF_null_demonstrateneg2_True</th>\n",
       "      <td>172</td>\n",
       "      <td>0.031098</td>\n",
       "      <td>0.028758</td>\n",
       "      <td>0.025247</td>\n",
       "      <td>0.811828</td>\n",
       "    </tr>\n",
       "    <tr>\n",
       "      <th>LF_null_popular_neg2_True</th>\n",
       "      <td>196</td>\n",
       "      <td>0.006353</td>\n",
       "      <td>0.005462</td>\n",
       "      <td>0.005127</td>\n",
       "      <td>0.807018</td>\n",
       "    </tr>\n",
       "    <tr>\n",
       "      <th>LF_mechanism_using_the_neg2_True</th>\n",
       "      <td>109</td>\n",
       "      <td>0.006298</td>\n",
       "      <td>0.005573</td>\n",
       "      <td>0.004793</td>\n",
       "      <td>0.761062</td>\n",
       "    </tr>\n",
       "    <tr>\n",
       "      <th>LF_mechanism_develops_neg2_True</th>\n",
       "      <td>87</td>\n",
       "      <td>0.001393</td>\n",
       "      <td>0.001115</td>\n",
       "      <td>0.001059</td>\n",
       "      <td>0.760000</td>\n",
       "    </tr>\n",
       "    <tr>\n",
       "      <th>LF_mechanism_present_neg2_True</th>\n",
       "      <td>95</td>\n",
       "      <td>0.033161</td>\n",
       "      <td>0.032826</td>\n",
       "      <td>0.024689</td>\n",
       "      <td>0.744538</td>\n",
       "    </tr>\n",
       "    <tr>\n",
       "      <th>LF_mechanism_we_similar_present_neg2_True</th>\n",
       "      <td>129</td>\n",
       "      <td>0.034052</td>\n",
       "      <td>0.034052</td>\n",
       "      <td>0.025191</td>\n",
       "      <td>0.739771</td>\n",
       "    </tr>\n",
       "    <tr>\n",
       "      <th>LF_null_previously3_True</th>\n",
       "      <td>201</td>\n",
       "      <td>0.000836</td>\n",
       "      <td>0.000780</td>\n",
       "      <td>0.000613</td>\n",
       "      <td>0.733333</td>\n",
       "    </tr>\n",
       "    <tr>\n",
       "      <th>LF_mechanism_provideneg2_True</th>\n",
       "      <td>91</td>\n",
       "      <td>0.036560</td>\n",
       "      <td>0.035947</td>\n",
       "      <td>0.026751</td>\n",
       "      <td>0.731707</td>\n",
       "    </tr>\n",
       "    <tr>\n",
       "      <th>LF_null_compared_toneg2_True</th>\n",
       "      <td>206</td>\n",
       "      <td>0.007078</td>\n",
       "      <td>0.007078</td>\n",
       "      <td>0.005127</td>\n",
       "      <td>0.724409</td>\n",
       "    </tr>\n",
       "    <tr>\n",
       "      <th>LF_null_generalneg2_True</th>\n",
       "      <td>204</td>\n",
       "      <td>0.015716</td>\n",
       "      <td>0.012930</td>\n",
       "      <td>0.011258</td>\n",
       "      <td>0.716312</td>\n",
       "    </tr>\n",
       "    <tr>\n",
       "      <th>LF_mechanism_via_neg2_True</th>\n",
       "      <td>119</td>\n",
       "      <td>0.011481</td>\n",
       "      <td>0.010199</td>\n",
       "      <td>0.008137</td>\n",
       "      <td>0.708738</td>\n",
       "    </tr>\n",
       "    <tr>\n",
       "      <th>LF_null_settingsneg1_True</th>\n",
       "      <td>210</td>\n",
       "      <td>0.004737</td>\n",
       "      <td>0.003678</td>\n",
       "      <td>0.003344</td>\n",
       "      <td>0.705882</td>\n",
       "    </tr>\n",
       "    <tr>\n",
       "      <th>LF_null_dataset3_True</th>\n",
       "      <td>141</td>\n",
       "      <td>0.001672</td>\n",
       "      <td>0.001560</td>\n",
       "      <td>0.001170</td>\n",
       "      <td>0.700000</td>\n",
       "    </tr>\n",
       "    <tr>\n",
       "      <th>LF_null_evaluate_3_True</th>\n",
       "      <td>169</td>\n",
       "      <td>0.000557</td>\n",
       "      <td>0.000446</td>\n",
       "      <td>0.000390</td>\n",
       "      <td>0.700000</td>\n",
       "    </tr>\n",
       "    <tr>\n",
       "      <th>LF_mechanism_we_similar_approach_neg1_True</th>\n",
       "      <td>132</td>\n",
       "      <td>0.014713</td>\n",
       "      <td>0.012930</td>\n",
       "      <td>0.010199</td>\n",
       "      <td>0.693182</td>\n",
       "    </tr>\n",
       "    <tr>\n",
       "      <th>LF_null_has_beenneg2_True</th>\n",
       "      <td>192</td>\n",
       "      <td>0.005629</td>\n",
       "      <td>0.004180</td>\n",
       "      <td>0.003846</td>\n",
       "      <td>0.683168</td>\n",
       "    </tr>\n",
       "    <tr>\n",
       "      <th>LF_mechanism_we_similar_provide_neg2_True</th>\n",
       "      <td>127</td>\n",
       "      <td>0.025971</td>\n",
       "      <td>0.024355</td>\n",
       "      <td>0.017723</td>\n",
       "      <td>0.682403</td>\n",
       "    </tr>\n",
       "    <tr>\n",
       "      <th>LF_null_the_success_of3_True</th>\n",
       "      <td>183</td>\n",
       "      <td>0.000167</td>\n",
       "      <td>0.000111</td>\n",
       "      <td>0.000111</td>\n",
       "      <td>0.666667</td>\n",
       "    </tr>\n",
       "    <tr>\n",
       "      <th>LF_mechanism_via_3_True</th>\n",
       "      <td>118</td>\n",
       "      <td>0.001338</td>\n",
       "      <td>0.001226</td>\n",
       "      <td>0.000892</td>\n",
       "      <td>0.666667</td>\n",
       "    </tr>\n",
       "    <tr>\n",
       "      <th>LF_null_demonstrate3_True</th>\n",
       "      <td>171</td>\n",
       "      <td>0.003846</td>\n",
       "      <td>0.003567</td>\n",
       "      <td>0.002508</td>\n",
       "      <td>0.652174</td>\n",
       "    </tr>\n",
       "    <tr>\n",
       "      <th>LF_purpose_in_order_toneg2_True</th>\n",
       "      <td>56</td>\n",
       "      <td>0.007524</td>\n",
       "      <td>0.007524</td>\n",
       "      <td>0.004904</td>\n",
       "      <td>0.651852</td>\n",
       "    </tr>\n",
       "    <tr>\n",
       "      <th>LF_purpose_allow_neg2_True</th>\n",
       "      <td>22</td>\n",
       "      <td>0.004737</td>\n",
       "      <td>0.004737</td>\n",
       "      <td>0.003065</td>\n",
       "      <td>0.647059</td>\n",
       "    </tr>\n",
       "    <tr>\n",
       "      <th>purpose_to_verb</th>\n",
       "      <td>69</td>\n",
       "      <td>0.068773</td>\n",
       "      <td>0.060915</td>\n",
       "      <td>0.044474</td>\n",
       "      <td>0.646677</td>\n",
       "    </tr>\n",
       "    <tr>\n",
       "      <th>mechanism_an_algorithm</th>\n",
       "      <td>137</td>\n",
       "      <td>0.002341</td>\n",
       "      <td>0.002229</td>\n",
       "      <td>0.001505</td>\n",
       "      <td>0.642857</td>\n",
       "    </tr>\n",
       "    <tr>\n",
       "      <th>LF_purpose_we_similar_problem_neg2_True</th>\n",
       "      <td>71</td>\n",
       "      <td>0.039347</td>\n",
       "      <td>0.037786</td>\n",
       "      <td>0.024968</td>\n",
       "      <td>0.634561</td>\n",
       "    </tr>\n",
       "    <tr>\n",
       "      <th>LF_null_test3_True</th>\n",
       "      <td>139</td>\n",
       "      <td>0.002285</td>\n",
       "      <td>0.002118</td>\n",
       "      <td>0.001449</td>\n",
       "      <td>0.634146</td>\n",
       "    </tr>\n",
       "    <tr>\n",
       "      <th>LF_purpose_taskneg2_True</th>\n",
       "      <td>28</td>\n",
       "      <td>0.030708</td>\n",
       "      <td>0.030708</td>\n",
       "      <td>0.019339</td>\n",
       "      <td>0.629764</td>\n",
       "    </tr>\n",
       "    <tr>\n",
       "      <th>LF_null_testneg2_True</th>\n",
       "      <td>140</td>\n",
       "      <td>0.011481</td>\n",
       "      <td>0.009084</td>\n",
       "      <td>0.007189</td>\n",
       "      <td>0.626214</td>\n",
       "    </tr>\n",
       "    <tr>\n",
       "      <th>LF_purpose_allows_3_True</th>\n",
       "      <td>23</td>\n",
       "      <td>0.000892</td>\n",
       "      <td>0.000725</td>\n",
       "      <td>0.000557</td>\n",
       "      <td>0.625000</td>\n",
       "    </tr>\n",
       "    <tr>\n",
       "      <th>mechanism_by_adv_doing</th>\n",
       "      <td>136</td>\n",
       "      <td>0.024968</td>\n",
       "      <td>0.024968</td>\n",
       "      <td>0.015438</td>\n",
       "      <td>0.618304</td>\n",
       "    </tr>\n",
       "    <tr>\n",
       "      <th>LF_null_general3_True</th>\n",
       "      <td>203</td>\n",
       "      <td>0.002174</td>\n",
       "      <td>0.002174</td>\n",
       "      <td>0.001338</td>\n",
       "      <td>0.615385</td>\n",
       "    </tr>\n",
       "    <tr>\n",
       "      <th>LF_mechanism_we_similar_method_neg2_True</th>\n",
       "      <td>131</td>\n",
       "      <td>0.060469</td>\n",
       "      <td>0.056791</td>\n",
       "      <td>0.037006</td>\n",
       "      <td>0.611982</td>\n",
       "    </tr>\n",
       "    <tr>\n",
       "      <th>LF_mechanism_includeneg2_True</th>\n",
       "      <td>81</td>\n",
       "      <td>0.014936</td>\n",
       "      <td>0.013431</td>\n",
       "      <td>0.009140</td>\n",
       "      <td>0.611940</td>\n",
       "    </tr>\n",
       "    <tr>\n",
       "      <th>LF_mechanism_approach_3_True</th>\n",
       "      <td>116</td>\n",
       "      <td>0.003010</td>\n",
       "      <td>0.003010</td>\n",
       "      <td>0.001839</td>\n",
       "      <td>0.611111</td>\n",
       "    </tr>\n",
       "    <tr>\n",
       "      <th>purpose_for_doing</th>\n",
       "      <td>68</td>\n",
       "      <td>0.035724</td>\n",
       "      <td>0.027699</td>\n",
       "      <td>0.021791</td>\n",
       "      <td>0.609984</td>\n",
       "    </tr>\n",
       "    <tr>\n",
       "      <th>LF_purpose_goalneg2_True</th>\n",
       "      <td>2</td>\n",
       "      <td>0.009586</td>\n",
       "      <td>0.008304</td>\n",
       "      <td>0.005796</td>\n",
       "      <td>0.604651</td>\n",
       "    </tr>\n",
       "    <tr>\n",
       "      <th>LF_mechanism_we_similar_propose_neg2_True</th>\n",
       "      <td>123</td>\n",
       "      <td>0.018113</td>\n",
       "      <td>0.018113</td>\n",
       "      <td>0.010923</td>\n",
       "      <td>0.603077</td>\n",
       "    </tr>\n",
       "    <tr>\n",
       "      <th>LF_purpose_whetherneg2_True</th>\n",
       "      <td>54</td>\n",
       "      <td>0.007134</td>\n",
       "      <td>0.006186</td>\n",
       "      <td>0.004291</td>\n",
       "      <td>0.601562</td>\n",
       "    </tr>\n",
       "    <tr>\n",
       "      <th>LF_mechanism_by_usingneg2_True</th>\n",
       "      <td>111</td>\n",
       "      <td>0.001951</td>\n",
       "      <td>0.001951</td>\n",
       "      <td>0.001170</td>\n",
       "      <td>0.600000</td>\n",
       "    </tr>\n",
       "    <tr>\n",
       "      <th>LF_mechanism_uses_neg2_True</th>\n",
       "      <td>105</td>\n",
       "      <td>0.008304</td>\n",
       "      <td>0.005740</td>\n",
       "      <td>0.004960</td>\n",
       "      <td>0.597315</td>\n",
       "    </tr>\n",
       "    <tr>\n",
       "      <th>LF_purpose_problemneg1_True</th>\n",
       "      <td>62</td>\n",
       "      <td>0.033774</td>\n",
       "      <td>0.029092</td>\n",
       "      <td>0.019841</td>\n",
       "      <td>0.587459</td>\n",
       "    </tr>\n",
       "    <tr>\n",
       "      <th>LF_purpose_TO_VB_neg2_True</th>\n",
       "      <td>0</td>\n",
       "      <td>0.153598</td>\n",
       "      <td>0.125676</td>\n",
       "      <td>0.089729</td>\n",
       "      <td>0.584180</td>\n",
       "    </tr>\n",
       "    <tr>\n",
       "      <th>LF_mechanism_uses_3_True</th>\n",
       "      <td>104</td>\n",
       "      <td>0.001338</td>\n",
       "      <td>0.001059</td>\n",
       "      <td>0.000780</td>\n",
       "      <td>0.583333</td>\n",
       "    </tr>\n",
       "    <tr>\n",
       "      <th>LF_null_have_beenneg2_True</th>\n",
       "      <td>182</td>\n",
       "      <td>0.004236</td>\n",
       "      <td>0.002564</td>\n",
       "      <td>0.002452</td>\n",
       "      <td>0.578947</td>\n",
       "    </tr>\n",
       "    <tr>\n",
       "      <th>LF_null_generalneg1_True</th>\n",
       "      <td>211</td>\n",
       "      <td>0.008304</td>\n",
       "      <td>0.005796</td>\n",
       "      <td>0.004793</td>\n",
       "      <td>0.577181</td>\n",
       "    </tr>\n",
       "    <tr>\n",
       "      <th>LF_mechanism_method_neg2_True</th>\n",
       "      <td>115</td>\n",
       "      <td>0.040183</td>\n",
       "      <td>0.040183</td>\n",
       "      <td>0.023017</td>\n",
       "      <td>0.572816</td>\n",
       "    </tr>\n",
       "    <tr>\n",
       "      <th>LF_null_resultsneg2_True</th>\n",
       "      <td>146</td>\n",
       "      <td>0.055175</td>\n",
       "      <td>0.044418</td>\n",
       "      <td>0.031544</td>\n",
       "      <td>0.571717</td>\n",
       "    </tr>\n",
       "    <tr>\n",
       "      <th>LF_null_evaluated_neg2_True</th>\n",
       "      <td>168</td>\n",
       "      <td>0.005796</td>\n",
       "      <td>0.004960</td>\n",
       "      <td>0.003288</td>\n",
       "      <td>0.567308</td>\n",
       "    </tr>\n",
       "    <tr>\n",
       "      <th>LF_mechanism_proposeneg2_True</th>\n",
       "      <td>79</td>\n",
       "      <td>0.024243</td>\n",
       "      <td>0.023073</td>\n",
       "      <td>0.013599</td>\n",
       "      <td>0.560920</td>\n",
       "    </tr>\n",
       "    <tr>\n",
       "      <th>LF_purpose_goal3_True</th>\n",
       "      <td>1</td>\n",
       "      <td>0.001505</td>\n",
       "      <td>0.001338</td>\n",
       "      <td>0.000836</td>\n",
       "      <td>0.555556</td>\n",
       "    </tr>\n",
       "    <tr>\n",
       "      <th>LF_null_we_similar_experiment_neg2_True</th>\n",
       "      <td>216</td>\n",
       "      <td>0.013153</td>\n",
       "      <td>0.013153</td>\n",
       "      <td>0.007301</td>\n",
       "      <td>0.555085</td>\n",
       "    </tr>\n",
       "    <tr>\n",
       "      <th>LF_purpose_task3_True</th>\n",
       "      <td>27</td>\n",
       "      <td>0.007357</td>\n",
       "      <td>0.007357</td>\n",
       "      <td>0.004068</td>\n",
       "      <td>0.553030</td>\n",
       "    </tr>\n",
       "    <tr>\n",
       "      <th>LF_purpose_we_similar_task_neg2_True</th>\n",
       "      <td>75</td>\n",
       "      <td>0.015103</td>\n",
       "      <td>0.015103</td>\n",
       "      <td>0.008304</td>\n",
       "      <td>0.549815</td>\n",
       "    </tr>\n",
       "    <tr>\n",
       "      <th>LF_mechanism_provide3_True</th>\n",
       "      <td>90</td>\n",
       "      <td>0.006186</td>\n",
       "      <td>0.006019</td>\n",
       "      <td>0.003400</td>\n",
       "      <td>0.549550</td>\n",
       "    </tr>\n",
       "    <tr>\n",
       "      <th>LF_purpose_problem3_True</th>\n",
       "      <td>61</td>\n",
       "      <td>0.007022</td>\n",
       "      <td>0.007022</td>\n",
       "      <td>0.003846</td>\n",
       "      <td>0.547619</td>\n",
       "    </tr>\n",
       "    <tr>\n",
       "      <th>LF_purpose_a_study_ofneg2_True</th>\n",
       "      <td>40</td>\n",
       "      <td>0.001226</td>\n",
       "      <td>0.001226</td>\n",
       "      <td>0.000669</td>\n",
       "      <td>0.545455</td>\n",
       "    </tr>\n",
       "    <tr>\n",
       "      <th>LF_mechanism_includesneg2_True</th>\n",
       "      <td>83</td>\n",
       "      <td>0.009029</td>\n",
       "      <td>0.009029</td>\n",
       "      <td>0.004849</td>\n",
       "      <td>0.537037</td>\n",
       "    </tr>\n",
       "    <tr>\n",
       "      <th>mechanism_then_VB</th>\n",
       "      <td>138</td>\n",
       "      <td>0.019172</td>\n",
       "      <td>0.012261</td>\n",
       "      <td>0.010199</td>\n",
       "      <td>0.531977</td>\n",
       "    </tr>\n",
       "    <tr>\n",
       "      <th>LF_purpose_existing_neg2_True</th>\n",
       "      <td>48</td>\n",
       "      <td>0.011592</td>\n",
       "      <td>0.010645</td>\n",
       "      <td>0.006131</td>\n",
       "      <td>0.528846</td>\n",
       "    </tr>\n",
       "    <tr>\n",
       "      <th>LF_purpose_to_understandneg2_True</th>\n",
       "      <td>14</td>\n",
       "      <td>0.004013</td>\n",
       "      <td>0.004013</td>\n",
       "      <td>0.002118</td>\n",
       "      <td>0.527778</td>\n",
       "    </tr>\n",
       "    <tr>\n",
       "      <th>LF_mechanism_we_similar_propose_neg1_True</th>\n",
       "      <td>122</td>\n",
       "      <td>0.004347</td>\n",
       "      <td>0.003846</td>\n",
       "      <td>0.002285</td>\n",
       "      <td>0.525641</td>\n",
       "    </tr>\n",
       "    <tr>\n",
       "      <th>LF_purpose_taskneg1_True</th>\n",
       "      <td>66</td>\n",
       "      <td>0.040127</td>\n",
       "      <td>0.033161</td>\n",
       "      <td>0.020955</td>\n",
       "      <td>0.522222</td>\n",
       "    </tr>\n",
       "    <tr>\n",
       "      <th>LF_purpose_we_similar_challenge_neg2_True</th>\n",
       "      <td>76</td>\n",
       "      <td>0.010032</td>\n",
       "      <td>0.010032</td>\n",
       "      <td>0.005239</td>\n",
       "      <td>0.522222</td>\n",
       "    </tr>\n",
       "    <tr>\n",
       "      <th>LF_mechanism_we_similar_provide_neg1_True</th>\n",
       "      <td>126</td>\n",
       "      <td>0.023296</td>\n",
       "      <td>0.017556</td>\n",
       "      <td>0.012150</td>\n",
       "      <td>0.521531</td>\n",
       "    </tr>\n",
       "    <tr>\n",
       "      <th>LF_mechanism_by_neg2_True</th>\n",
       "      <td>113</td>\n",
       "      <td>0.075405</td>\n",
       "      <td>0.060302</td>\n",
       "      <td>0.039291</td>\n",
       "      <td>0.521064</td>\n",
       "    </tr>\n",
       "    <tr>\n",
       "      <th>LF_purpose_challengeneg2_True</th>\n",
       "      <td>10</td>\n",
       "      <td>0.025414</td>\n",
       "      <td>0.021234</td>\n",
       "      <td>0.013097</td>\n",
       "      <td>0.515351</td>\n",
       "    </tr>\n",
       "    <tr>\n",
       "      <th>LF_null_the_success_ofneg2_True</th>\n",
       "      <td>184</td>\n",
       "      <td>0.003790</td>\n",
       "      <td>0.001951</td>\n",
       "      <td>0.001951</td>\n",
       "      <td>0.514706</td>\n",
       "    </tr>\n",
       "    <tr>\n",
       "      <th>LF_null_showneg2_True</th>\n",
       "      <td>148</td>\n",
       "      <td>0.083319</td>\n",
       "      <td>0.080366</td>\n",
       "      <td>0.042245</td>\n",
       "      <td>0.507023</td>\n",
       "    </tr>\n",
       "    <tr>\n",
       "      <th>LF_mechanism_method_3_True</th>\n",
       "      <td>114</td>\n",
       "      <td>0.003010</td>\n",
       "      <td>0.003010</td>\n",
       "      <td>0.001505</td>\n",
       "      <td>0.500000</td>\n",
       "    </tr>\n",
       "    <tr>\n",
       "      <th>LF_null_compared_to3_True</th>\n",
       "      <td>205</td>\n",
       "      <td>0.001115</td>\n",
       "      <td>0.001115</td>\n",
       "      <td>0.000557</td>\n",
       "      <td>0.500000</td>\n",
       "    </tr>\n",
       "    <tr>\n",
       "      <th>LF_purpose_in_order_to3_True</th>\n",
       "      <td>55</td>\n",
       "      <td>0.000446</td>\n",
       "      <td>0.000334</td>\n",
       "      <td>0.000223</td>\n",
       "      <td>0.500000</td>\n",
       "    </tr>\n",
       "    <tr>\n",
       "      <th>LF_purpose_to_understand3_True</th>\n",
       "      <td>13</td>\n",
       "      <td>0.000446</td>\n",
       "      <td>0.000390</td>\n",
       "      <td>0.000223</td>\n",
       "      <td>0.500000</td>\n",
       "    </tr>\n",
       "    <tr>\n",
       "      <th>LF_purpose_yet_3_True</th>\n",
       "      <td>41</td>\n",
       "      <td>0.000223</td>\n",
       "      <td>0.000223</td>\n",
       "      <td>0.000111</td>\n",
       "      <td>0.500000</td>\n",
       "    </tr>\n",
       "    <tr>\n",
       "      <th>LF_mechanism_by_using3_True</th>\n",
       "      <td>110</td>\n",
       "      <td>0.000223</td>\n",
       "      <td>0.000223</td>\n",
       "      <td>0.000111</td>\n",
       "      <td>0.500000</td>\n",
       "    </tr>\n",
       "    <tr>\n",
       "      <th>LF_null_compare_3_True</th>\n",
       "      <td>207</td>\n",
       "      <td>0.000223</td>\n",
       "      <td>0.000167</td>\n",
       "      <td>0.000111</td>\n",
       "      <td>0.500000</td>\n",
       "    </tr>\n",
       "    <tr>\n",
       "      <th>LF_purpose_existing_3_True</th>\n",
       "      <td>47</td>\n",
       "      <td>0.001115</td>\n",
       "      <td>0.001003</td>\n",
       "      <td>0.000557</td>\n",
       "      <td>0.500000</td>\n",
       "    </tr>\n",
       "    <tr>\n",
       "      <th>LF_null_settings3_True</th>\n",
       "      <td>209</td>\n",
       "      <td>0.001003</td>\n",
       "      <td>0.000836</td>\n",
       "      <td>0.000502</td>\n",
       "      <td>0.500000</td>\n",
       "    </tr>\n",
       "    <tr>\n",
       "      <th>LF_null_we_similar_interview_neg2_True</th>\n",
       "      <td>214</td>\n",
       "      <td>0.003901</td>\n",
       "      <td>0.002285</td>\n",
       "      <td>0.001951</td>\n",
       "      <td>0.500000</td>\n",
       "    </tr>\n",
       "    <tr>\n",
       "      <th>LF_purpose_a_study_of3_True</th>\n",
       "      <td>39</td>\n",
       "      <td>0.000111</td>\n",
       "      <td>0.000111</td>\n",
       "      <td>0.000056</td>\n",
       "      <td>0.500000</td>\n",
       "    </tr>\n",
       "    <tr>\n",
       "      <th>LF_purpose_allows_neg2_True</th>\n",
       "      <td>24</td>\n",
       "      <td>0.007970</td>\n",
       "      <td>0.007691</td>\n",
       "      <td>0.003901</td>\n",
       "      <td>0.489510</td>\n",
       "    </tr>\n",
       "    <tr>\n",
       "      <th>LF_null_experiment3_True</th>\n",
       "      <td>143</td>\n",
       "      <td>0.006075</td>\n",
       "      <td>0.005295</td>\n",
       "      <td>0.002954</td>\n",
       "      <td>0.486239</td>\n",
       "    </tr>\n",
       "    <tr>\n",
       "      <th>LF_purpose_we_similar_allow_neg2_True</th>\n",
       "      <td>77</td>\n",
       "      <td>0.009196</td>\n",
       "      <td>0.007802</td>\n",
       "      <td>0.004403</td>\n",
       "      <td>0.478788</td>\n",
       "    </tr>\n",
       "    <tr>\n",
       "      <th>LF_null_we_similar_shows_neg2_True</th>\n",
       "      <td>220</td>\n",
       "      <td>0.058407</td>\n",
       "      <td>0.058407</td>\n",
       "      <td>0.027699</td>\n",
       "      <td>0.474237</td>\n",
       "    </tr>\n",
       "    <tr>\n",
       "      <th>LF_null_show_thatneg2_True</th>\n",
       "      <td>152</td>\n",
       "      <td>0.032603</td>\n",
       "      <td>0.032603</td>\n",
       "      <td>0.015382</td>\n",
       "      <td>0.471795</td>\n",
       "    </tr>\n",
       "    <tr>\n",
       "      <th>LF_null_we_similar_indicate_neg2_True</th>\n",
       "      <td>213</td>\n",
       "      <td>0.004681</td>\n",
       "      <td>0.004681</td>\n",
       "      <td>0.002174</td>\n",
       "      <td>0.464286</td>\n",
       "    </tr>\n",
       "    <tr>\n",
       "      <th>LF_mechanism_we_similar_method_neg1_True</th>\n",
       "      <td>130</td>\n",
       "      <td>0.024801</td>\n",
       "      <td>0.019450</td>\n",
       "      <td>0.011425</td>\n",
       "      <td>0.460674</td>\n",
       "    </tr>\n",
       "    <tr>\n",
       "      <th>LF_null_has_shownneg2_True</th>\n",
       "      <td>194</td>\n",
       "      <td>0.006298</td>\n",
       "      <td>0.006298</td>\n",
       "      <td>0.002842</td>\n",
       "      <td>0.451327</td>\n",
       "    </tr>\n",
       "    <tr>\n",
       "      <th>LF_purpose_but_neg2_True</th>\n",
       "      <td>44</td>\n",
       "      <td>0.031266</td>\n",
       "      <td>0.022181</td>\n",
       "      <td>0.014100</td>\n",
       "      <td>0.450980</td>\n",
       "    </tr>\n",
       "    <tr>\n",
       "      <th>LF_null_experimentneg2_True</th>\n",
       "      <td>144</td>\n",
       "      <td>0.040183</td>\n",
       "      <td>0.037229</td>\n",
       "      <td>0.018113</td>\n",
       "      <td>0.450763</td>\n",
       "    </tr>\n",
       "    <tr>\n",
       "      <th>LF_mechanism_develop_neg2_True</th>\n",
       "      <td>85</td>\n",
       "      <td>0.003344</td>\n",
       "      <td>0.003344</td>\n",
       "      <td>0.001505</td>\n",
       "      <td>0.450000</td>\n",
       "    </tr>\n",
       "    <tr>\n",
       "      <th>LF_mechanism_by_3_True</th>\n",
       "      <td>112</td>\n",
       "      <td>0.009363</td>\n",
       "      <td>0.007970</td>\n",
       "      <td>0.004124</td>\n",
       "      <td>0.440476</td>\n",
       "    </tr>\n",
       "    <tr>\n",
       "      <th>LF_purpose_howeverneg2_True</th>\n",
       "      <td>38</td>\n",
       "      <td>0.028312</td>\n",
       "      <td>0.021903</td>\n",
       "      <td>0.012428</td>\n",
       "      <td>0.438976</td>\n",
       "    </tr>\n",
       "    <tr>\n",
       "      <th>LF_mechanism_we_similar_develop_neg2_True</th>\n",
       "      <td>125</td>\n",
       "      <td>0.003567</td>\n",
       "      <td>0.003567</td>\n",
       "      <td>0.001560</td>\n",
       "      <td>0.437500</td>\n",
       "    </tr>\n",
       "    <tr>\n",
       "      <th>LF_mechanism_include3_True</th>\n",
       "      <td>80</td>\n",
       "      <td>0.002341</td>\n",
       "      <td>0.002285</td>\n",
       "      <td>0.001003</td>\n",
       "      <td>0.428571</td>\n",
       "    </tr>\n",
       "    <tr>\n",
       "      <th>LF_purpose_issueneg1_True</th>\n",
       "      <td>65</td>\n",
       "      <td>0.000780</td>\n",
       "      <td>0.000613</td>\n",
       "      <td>0.000334</td>\n",
       "      <td>0.428571</td>\n",
       "    </tr>\n",
       "    <tr>\n",
       "      <th>LF_mechanism_we_similar_present_neg1_True</th>\n",
       "      <td>128</td>\n",
       "      <td>0.010701</td>\n",
       "      <td>0.007357</td>\n",
       "      <td>0.004570</td>\n",
       "      <td>0.427083</td>\n",
       "    </tr>\n",
       "    <tr>\n",
       "      <th>LF_null_previouslyneg2_True</th>\n",
       "      <td>202</td>\n",
       "      <td>0.002675</td>\n",
       "      <td>0.002675</td>\n",
       "      <td>0.001115</td>\n",
       "      <td>0.416667</td>\n",
       "    </tr>\n",
       "    <tr>\n",
       "      <th>LF_null_show3_True</th>\n",
       "      <td>147</td>\n",
       "      <td>0.010032</td>\n",
       "      <td>0.009140</td>\n",
       "      <td>0.004068</td>\n",
       "      <td>0.405556</td>\n",
       "    </tr>\n",
       "    <tr>\n",
       "      <th>LF_mechanism_propose3_True</th>\n",
       "      <td>78</td>\n",
       "      <td>0.003344</td>\n",
       "      <td>0.003288</td>\n",
       "      <td>0.001338</td>\n",
       "      <td>0.400000</td>\n",
       "    </tr>\n",
       "    <tr>\n",
       "      <th>LF_null_popular_3_True</th>\n",
       "      <td>195</td>\n",
       "      <td>0.000557</td>\n",
       "      <td>0.000446</td>\n",
       "      <td>0.000223</td>\n",
       "      <td>0.400000</td>\n",
       "    </tr>\n",
       "    <tr>\n",
       "      <th>LF_purpose_allow_3_True</th>\n",
       "      <td>21</td>\n",
       "      <td>0.000557</td>\n",
       "      <td>0.000557</td>\n",
       "      <td>0.000223</td>\n",
       "      <td>0.400000</td>\n",
       "    </tr>\n",
       "    <tr>\n",
       "      <th>LF_null_evaluated_3_True</th>\n",
       "      <td>167</td>\n",
       "      <td>0.000557</td>\n",
       "      <td>0.000502</td>\n",
       "      <td>0.000223</td>\n",
       "      <td>0.400000</td>\n",
       "    </tr>\n",
       "    <tr>\n",
       "      <th>LF_purpose_we_similar_issue_neg2_True</th>\n",
       "      <td>74</td>\n",
       "      <td>0.003511</td>\n",
       "      <td>0.003511</td>\n",
       "      <td>0.001393</td>\n",
       "      <td>0.396825</td>\n",
       "    </tr>\n",
       "    <tr>\n",
       "      <th>LF_purpose_issueneg2_True</th>\n",
       "      <td>20</td>\n",
       "      <td>0.003511</td>\n",
       "      <td>0.003511</td>\n",
       "      <td>0.001393</td>\n",
       "      <td>0.396825</td>\n",
       "    </tr>\n",
       "    <tr>\n",
       "      <th>LF_null_observeneg2_True</th>\n",
       "      <td>162</td>\n",
       "      <td>0.002842</td>\n",
       "      <td>0.001226</td>\n",
       "      <td>0.001115</td>\n",
       "      <td>0.392157</td>\n",
       "    </tr>\n",
       "    <tr>\n",
       "      <th>LF_purpose_yet_neg2_True</th>\n",
       "      <td>42</td>\n",
       "      <td>0.002285</td>\n",
       "      <td>0.002285</td>\n",
       "      <td>0.000892</td>\n",
       "      <td>0.390244</td>\n",
       "    </tr>\n",
       "    <tr>\n",
       "      <th>LF_purpose_whether3_True</th>\n",
       "      <td>53</td>\n",
       "      <td>0.001003</td>\n",
       "      <td>0.000947</td>\n",
       "      <td>0.000390</td>\n",
       "      <td>0.388889</td>\n",
       "    </tr>\n",
       "    <tr>\n",
       "      <th>LF_null_results3_True</th>\n",
       "      <td>145</td>\n",
       "      <td>0.007802</td>\n",
       "      <td>0.006521</td>\n",
       "      <td>0.003010</td>\n",
       "      <td>0.385714</td>\n",
       "    </tr>\n",
       "    <tr>\n",
       "      <th>LF_null_increasingneg2_True</th>\n",
       "      <td>200</td>\n",
       "      <td>0.008471</td>\n",
       "      <td>0.006911</td>\n",
       "      <td>0.003177</td>\n",
       "      <td>0.375000</td>\n",
       "    </tr>\n",
       "    <tr>\n",
       "      <th>LF_mechanism_present_3_True</th>\n",
       "      <td>94</td>\n",
       "      <td>0.002675</td>\n",
       "      <td>0.002619</td>\n",
       "      <td>0.001003</td>\n",
       "      <td>0.375000</td>\n",
       "    </tr>\n",
       "    <tr>\n",
       "      <th>LF_null_has_been3_True</th>\n",
       "      <td>191</td>\n",
       "      <td>0.000892</td>\n",
       "      <td>0.000669</td>\n",
       "      <td>0.000334</td>\n",
       "      <td>0.375000</td>\n",
       "    </tr>\n",
       "    <tr>\n",
       "      <th>LF_null_have_been3_True</th>\n",
       "      <td>181</td>\n",
       "      <td>0.000446</td>\n",
       "      <td>0.000279</td>\n",
       "      <td>0.000167</td>\n",
       "      <td>0.375000</td>\n",
       "    </tr>\n",
       "    <tr>\n",
       "      <th>LF_null_increasing3_True</th>\n",
       "      <td>199</td>\n",
       "      <td>0.001783</td>\n",
       "      <td>0.001616</td>\n",
       "      <td>0.000669</td>\n",
       "      <td>0.375000</td>\n",
       "    </tr>\n",
       "    <tr>\n",
       "      <th>LF_purpose_but_3_True</th>\n",
       "      <td>43</td>\n",
       "      <td>0.004347</td>\n",
       "      <td>0.003288</td>\n",
       "      <td>0.001616</td>\n",
       "      <td>0.371795</td>\n",
       "    </tr>\n",
       "    <tr>\n",
       "      <th>LF_purpose_we_exploreneg2_True</th>\n",
       "      <td>34</td>\n",
       "      <td>0.007412</td>\n",
       "      <td>0.006075</td>\n",
       "      <td>0.002564</td>\n",
       "      <td>0.345865</td>\n",
       "    </tr>\n",
       "    <tr>\n",
       "      <th>LF_purpose_we_studyneg2_True</th>\n",
       "      <td>32</td>\n",
       "      <td>0.009530</td>\n",
       "      <td>0.005406</td>\n",
       "      <td>0.003232</td>\n",
       "      <td>0.339181</td>\n",
       "    </tr>\n",
       "    <tr>\n",
       "      <th>LF_purpose_fundamentalneg1_True</th>\n",
       "      <td>64</td>\n",
       "      <td>0.000334</td>\n",
       "      <td>0.000334</td>\n",
       "      <td>0.000111</td>\n",
       "      <td>0.333333</td>\n",
       "    </tr>\n",
       "    <tr>\n",
       "      <th>LF_purpose_issue3_True</th>\n",
       "      <td>19</td>\n",
       "      <td>0.000502</td>\n",
       "      <td>0.000502</td>\n",
       "      <td>0.000167</td>\n",
       "      <td>0.333333</td>\n",
       "    </tr>\n",
       "    <tr>\n",
       "      <th>LF_purpose_challenging3_True</th>\n",
       "      <td>7</td>\n",
       "      <td>0.000502</td>\n",
       "      <td>0.000502</td>\n",
       "      <td>0.000167</td>\n",
       "      <td>0.333333</td>\n",
       "    </tr>\n",
       "    <tr>\n",
       "      <th>LF_null_compare_neg2_True</th>\n",
       "      <td>208</td>\n",
       "      <td>0.001839</td>\n",
       "      <td>0.000669</td>\n",
       "      <td>0.000613</td>\n",
       "      <td>0.333333</td>\n",
       "    </tr>\n",
       "    <tr>\n",
       "      <th>LF_purpose_we_study3_True</th>\n",
       "      <td>31</td>\n",
       "      <td>0.001003</td>\n",
       "      <td>0.000780</td>\n",
       "      <td>0.000334</td>\n",
       "      <td>0.333333</td>\n",
       "    </tr>\n",
       "    <tr>\n",
       "      <th>LF_null_show_that3_True</th>\n",
       "      <td>151</td>\n",
       "      <td>0.002564</td>\n",
       "      <td>0.002564</td>\n",
       "      <td>0.000780</td>\n",
       "      <td>0.304348</td>\n",
       "    </tr>\n",
       "    <tr>\n",
       "      <th>LF_mechanism_includes3_True</th>\n",
       "      <td>82</td>\n",
       "      <td>0.001672</td>\n",
       "      <td>0.001672</td>\n",
       "      <td>0.000502</td>\n",
       "      <td>0.300000</td>\n",
       "    </tr>\n",
       "    <tr>\n",
       "      <th>LF_null_found_thatneg2_True</th>\n",
       "      <td>158</td>\n",
       "      <td>0.009029</td>\n",
       "      <td>0.003678</td>\n",
       "      <td>0.002675</td>\n",
       "      <td>0.296296</td>\n",
       "    </tr>\n",
       "    <tr>\n",
       "      <th>LF_purpose_challenge3_True</th>\n",
       "      <td>9</td>\n",
       "      <td>0.003511</td>\n",
       "      <td>0.003511</td>\n",
       "      <td>0.001003</td>\n",
       "      <td>0.285714</td>\n",
       "    </tr>\n",
       "    <tr>\n",
       "      <th>LF_purpose_investigateneg2_True</th>\n",
       "      <td>30</td>\n",
       "      <td>0.012094</td>\n",
       "      <td>0.008248</td>\n",
       "      <td>0.003400</td>\n",
       "      <td>0.281106</td>\n",
       "    </tr>\n",
       "    <tr>\n",
       "      <th>LF_null_increasingly3_True</th>\n",
       "      <td>189</td>\n",
       "      <td>0.000613</td>\n",
       "      <td>0.000613</td>\n",
       "      <td>0.000167</td>\n",
       "      <td>0.272727</td>\n",
       "    </tr>\n",
       "    <tr>\n",
       "      <th>LF_purpose_however3_True</th>\n",
       "      <td>37</td>\n",
       "      <td>0.002062</td>\n",
       "      <td>0.002062</td>\n",
       "      <td>0.000557</td>\n",
       "      <td>0.270270</td>\n",
       "    </tr>\n",
       "    <tr>\n",
       "      <th>LF_purpose_examineneg2_True</th>\n",
       "      <td>52</td>\n",
       "      <td>0.011815</td>\n",
       "      <td>0.008973</td>\n",
       "      <td>0.003010</td>\n",
       "      <td>0.254717</td>\n",
       "    </tr>\n",
       "    <tr>\n",
       "      <th>LF_mechanism_develop_3_True</th>\n",
       "      <td>84</td>\n",
       "      <td>0.000446</td>\n",
       "      <td>0.000446</td>\n",
       "      <td>0.000111</td>\n",
       "      <td>0.250000</td>\n",
       "    </tr>\n",
       "    <tr>\n",
       "      <th>LF_mechanism_presents_neg2_True</th>\n",
       "      <td>93</td>\n",
       "      <td>0.005963</td>\n",
       "      <td>0.003400</td>\n",
       "      <td>0.001338</td>\n",
       "      <td>0.224299</td>\n",
       "    </tr>\n",
       "    <tr>\n",
       "      <th>LF_null_found_that3_True</th>\n",
       "      <td>157</td>\n",
       "      <td>0.001003</td>\n",
       "      <td>0.000613</td>\n",
       "      <td>0.000223</td>\n",
       "      <td>0.222222</td>\n",
       "    </tr>\n",
       "    <tr>\n",
       "      <th>LF_mechanism_using_the_3_True</th>\n",
       "      <td>108</td>\n",
       "      <td>0.000279</td>\n",
       "      <td>0.000167</td>\n",
       "      <td>0.000056</td>\n",
       "      <td>0.200000</td>\n",
       "    </tr>\n",
       "    <tr>\n",
       "      <th>LF_purpose_challengeneg1_True</th>\n",
       "      <td>67</td>\n",
       "      <td>0.011704</td>\n",
       "      <td>0.005462</td>\n",
       "      <td>0.002285</td>\n",
       "      <td>0.195238</td>\n",
       "    </tr>\n",
       "    <tr>\n",
       "      <th>LF_null_find_thatneg2_True</th>\n",
       "      <td>154</td>\n",
       "      <td>0.009140</td>\n",
       "      <td>0.002174</td>\n",
       "      <td>0.001783</td>\n",
       "      <td>0.195122</td>\n",
       "    </tr>\n",
       "    <tr>\n",
       "      <th>LF_mechanism_we_similar_develop_neg1_True</th>\n",
       "      <td>124</td>\n",
       "      <td>0.001839</td>\n",
       "      <td>0.001560</td>\n",
       "      <td>0.000334</td>\n",
       "      <td>0.181818</td>\n",
       "    </tr>\n",
       "    <tr>\n",
       "      <th>LF_purpose_challengingneg1_True</th>\n",
       "      <td>63</td>\n",
       "      <td>0.002564</td>\n",
       "      <td>0.001672</td>\n",
       "      <td>0.000446</td>\n",
       "      <td>0.173913</td>\n",
       "    </tr>\n",
       "    <tr>\n",
       "      <th>LF_purpose_we_explore3_True</th>\n",
       "      <td>33</td>\n",
       "      <td>0.000669</td>\n",
       "      <td>0.000502</td>\n",
       "      <td>0.000111</td>\n",
       "      <td>0.166667</td>\n",
       "    </tr>\n",
       "    <tr>\n",
       "      <th>LF_null_find_that3_True</th>\n",
       "      <td>153</td>\n",
       "      <td>0.000780</td>\n",
       "      <td>0.000502</td>\n",
       "      <td>0.000111</td>\n",
       "      <td>0.142857</td>\n",
       "    </tr>\n",
       "    <tr>\n",
       "      <th>LF_null_increasinglyneg2_True</th>\n",
       "      <td>190</td>\n",
       "      <td>0.002954</td>\n",
       "      <td>0.002954</td>\n",
       "      <td>0.000390</td>\n",
       "      <td>0.132075</td>\n",
       "    </tr>\n",
       "    <tr>\n",
       "      <th>LF_purpose_investigate3_True</th>\n",
       "      <td>29</td>\n",
       "      <td>0.001672</td>\n",
       "      <td>0.001393</td>\n",
       "      <td>0.000167</td>\n",
       "      <td>0.100000</td>\n",
       "    </tr>\n",
       "    <tr>\n",
       "      <th>LF_null_shows_thatneg2_True</th>\n",
       "      <td>150</td>\n",
       "      <td>0.004570</td>\n",
       "      <td>0.004570</td>\n",
       "      <td>0.000390</td>\n",
       "      <td>0.085366</td>\n",
       "    </tr>\n",
       "    <tr>\n",
       "      <th>LF_purpose_ways_toneg2_True</th>\n",
       "      <td>58</td>\n",
       "      <td>0.000502</td>\n",
       "      <td>0.000446</td>\n",
       "      <td>0.000000</td>\n",
       "      <td>0.000000</td>\n",
       "    </tr>\n",
       "    <tr>\n",
       "      <th>LF_mechanism_employs_neg2_True</th>\n",
       "      <td>101</td>\n",
       "      <td>0.000390</td>\n",
       "      <td>0.000056</td>\n",
       "      <td>0.000000</td>\n",
       "      <td>0.000000</td>\n",
       "    </tr>\n",
       "    <tr>\n",
       "      <th>LF_mechanism_employs_3_True</th>\n",
       "      <td>100</td>\n",
       "      <td>0.000111</td>\n",
       "      <td>0.000056</td>\n",
       "      <td>0.000000</td>\n",
       "      <td>0.000000</td>\n",
       "    </tr>\n",
       "    <tr>\n",
       "      <th>LF_mechanism_employ_3_True</th>\n",
       "      <td>98</td>\n",
       "      <td>0.000223</td>\n",
       "      <td>0.000223</td>\n",
       "      <td>0.000000</td>\n",
       "      <td>0.000000</td>\n",
       "    </tr>\n",
       "    <tr>\n",
       "      <th>LF_null_indicate_thatneg2_True</th>\n",
       "      <td>174</td>\n",
       "      <td>0.001672</td>\n",
       "      <td>0.001672</td>\n",
       "      <td>0.000000</td>\n",
       "      <td>0.000000</td>\n",
       "    </tr>\n",
       "    <tr>\n",
       "      <th>LF_mechanism_we_use_3_True</th>\n",
       "      <td>96</td>\n",
       "      <td>0.000111</td>\n",
       "      <td>0.000000</td>\n",
       "      <td>0.000000</td>\n",
       "      <td>0.000000</td>\n",
       "    </tr>\n",
       "    <tr>\n",
       "      <th>LF_mechanism_presents_3_True</th>\n",
       "      <td>92</td>\n",
       "      <td>0.000892</td>\n",
       "      <td>0.000557</td>\n",
       "      <td>0.000000</td>\n",
       "      <td>0.000000</td>\n",
       "    </tr>\n",
       "    <tr>\n",
       "      <th>LF_mechanism_developed_neg2_True</th>\n",
       "      <td>89</td>\n",
       "      <td>0.001226</td>\n",
       "      <td>0.000111</td>\n",
       "      <td>0.000000</td>\n",
       "      <td>0.000000</td>\n",
       "    </tr>\n",
       "    <tr>\n",
       "      <th>LF_mechanism_developed_3_True</th>\n",
       "      <td>88</td>\n",
       "      <td>0.000223</td>\n",
       "      <td>0.000111</td>\n",
       "      <td>0.000000</td>\n",
       "      <td>0.000000</td>\n",
       "    </tr>\n",
       "    <tr>\n",
       "      <th>LF_purpose_the_problem_ofneg2_True</th>\n",
       "      <td>4</td>\n",
       "      <td>0.000780</td>\n",
       "      <td>0.000780</td>\n",
       "      <td>0.000000</td>\n",
       "      <td>0.000000</td>\n",
       "    </tr>\n",
       "    <tr>\n",
       "      <th>LF_purpose_the_problem_of3_True</th>\n",
       "      <td>3</td>\n",
       "      <td>0.000111</td>\n",
       "      <td>0.000111</td>\n",
       "      <td>0.000000</td>\n",
       "      <td>0.000000</td>\n",
       "    </tr>\n",
       "    <tr>\n",
       "      <th>LF_mechanism_develops_3_True</th>\n",
       "      <td>86</td>\n",
       "      <td>0.000111</td>\n",
       "      <td>0.000056</td>\n",
       "      <td>0.000000</td>\n",
       "      <td>0.000000</td>\n",
       "    </tr>\n",
       "    <tr>\n",
       "      <th>LF_purpose_ways_to3_True</th>\n",
       "      <td>57</td>\n",
       "      <td>0.000111</td>\n",
       "      <td>0.000056</td>\n",
       "      <td>0.000000</td>\n",
       "      <td>0.000000</td>\n",
       "    </tr>\n",
       "    <tr>\n",
       "      <th>LF_mechanism_we_similar_employ_neg1_True</th>\n",
       "      <td>134</td>\n",
       "      <td>0.000557</td>\n",
       "      <td>0.000390</td>\n",
       "      <td>0.000000</td>\n",
       "      <td>0.000000</td>\n",
       "    </tr>\n",
       "    <tr>\n",
       "      <th>LF_purpose_examine3_True</th>\n",
       "      <td>51</td>\n",
       "      <td>0.001170</td>\n",
       "      <td>0.000836</td>\n",
       "      <td>0.000000</td>\n",
       "      <td>0.000000</td>\n",
       "    </tr>\n",
       "    <tr>\n",
       "      <th>LF_null_this_result3_True</th>\n",
       "      <td>159</td>\n",
       "      <td>0.000111</td>\n",
       "      <td>0.000056</td>\n",
       "      <td>0.000000</td>\n",
       "      <td>0.000000</td>\n",
       "    </tr>\n",
       "    <tr>\n",
       "      <th>LF_purpose_although3_True</th>\n",
       "      <td>35</td>\n",
       "      <td>0.000111</td>\n",
       "      <td>0.000111</td>\n",
       "      <td>0.000000</td>\n",
       "      <td>0.000000</td>\n",
       "    </tr>\n",
       "    <tr>\n",
       "      <th>LF_purpose_althoughneg2_True</th>\n",
       "      <td>36</td>\n",
       "      <td>0.002174</td>\n",
       "      <td>0.001449</td>\n",
       "      <td>0.000000</td>\n",
       "      <td>0.000000</td>\n",
       "    </tr>\n",
       "    <tr>\n",
       "      <th>LF_null_evaluates_neg2_True</th>\n",
       "      <td>166</td>\n",
       "      <td>0.000167</td>\n",
       "      <td>0.000056</td>\n",
       "      <td>0.000000</td>\n",
       "      <td>0.000000</td>\n",
       "    </tr>\n",
       "    <tr>\n",
       "      <th>LF_null_evaluates_3_True</th>\n",
       "      <td>165</td>\n",
       "      <td>0.000111</td>\n",
       "      <td>0.000056</td>\n",
       "      <td>0.000000</td>\n",
       "      <td>0.000000</td>\n",
       "    </tr>\n",
       "    <tr>\n",
       "      <th>LF_null_observe3_True</th>\n",
       "      <td>161</td>\n",
       "      <td>0.000167</td>\n",
       "      <td>0.000111</td>\n",
       "      <td>0.000000</td>\n",
       "      <td>0.000000</td>\n",
       "    </tr>\n",
       "    <tr>\n",
       "      <th>LF_null_this_resultneg2_True</th>\n",
       "      <td>160</td>\n",
       "      <td>0.001003</td>\n",
       "      <td>0.001003</td>\n",
       "      <td>0.000000</td>\n",
       "      <td>0.000000</td>\n",
       "    </tr>\n",
       "    <tr>\n",
       "      <th>LF_null_has_shown3_True</th>\n",
       "      <td>193</td>\n",
       "      <td>0.000446</td>\n",
       "      <td>0.000446</td>\n",
       "      <td>0.000000</td>\n",
       "      <td>0.000000</td>\n",
       "    </tr>\n",
       "    <tr>\n",
       "      <th>LF_purpose_deals_with_neg2_True</th>\n",
       "      <td>50</td>\n",
       "      <td>0.000947</td>\n",
       "      <td>0.000947</td>\n",
       "      <td>0.000000</td>\n",
       "      <td>0.000000</td>\n",
       "    </tr>\n",
       "    <tr>\n",
       "      <th>LF_purpose_know_little_3_True</th>\n",
       "      <td>45</td>\n",
       "      <td>0.000056</td>\n",
       "      <td>0.000056</td>\n",
       "      <td>0.000000</td>\n",
       "      <td>0.000000</td>\n",
       "    </tr>\n",
       "    <tr>\n",
       "      <th>LF_purpose_know_little_neg2_True</th>\n",
       "      <td>46</td>\n",
       "      <td>0.001282</td>\n",
       "      <td>0.001282</td>\n",
       "      <td>0.000000</td>\n",
       "      <td>0.000000</td>\n",
       "    </tr>\n",
       "    <tr>\n",
       "      <th>LF_null_popularity_3_True</th>\n",
       "      <td>197</td>\n",
       "      <td>0.000111</td>\n",
       "      <td>0.000056</td>\n",
       "      <td>0.000000</td>\n",
       "      <td>0.000000</td>\n",
       "    </tr>\n",
       "    <tr>\n",
       "      <th>LF_null_popularity_neg2_True</th>\n",
       "      <td>198</td>\n",
       "      <td>0.000502</td>\n",
       "      <td>0.000056</td>\n",
       "      <td>0.000000</td>\n",
       "      <td>0.000000</td>\n",
       "    </tr>\n",
       "    <tr>\n",
       "      <th>LF_null_indicate_that3_True</th>\n",
       "      <td>173</td>\n",
       "      <td>0.000111</td>\n",
       "      <td>0.000111</td>\n",
       "      <td>0.000000</td>\n",
       "      <td>0.000000</td>\n",
       "    </tr>\n",
       "    <tr>\n",
       "      <th>LF_purpose_deals_with_3_True</th>\n",
       "      <td>49</td>\n",
       "      <td>0.000056</td>\n",
       "      <td>0.000056</td>\n",
       "      <td>0.000000</td>\n",
       "      <td>0.000000</td>\n",
       "    </tr>\n",
       "    <tr>\n",
       "      <th>LF_null_shows_that3_True</th>\n",
       "      <td>149</td>\n",
       "      <td>0.000446</td>\n",
       "      <td>0.000446</td>\n",
       "      <td>0.000000</td>\n",
       "      <td>0.000000</td>\n",
       "    </tr>\n",
       "    <tr>\n",
       "      <th>LF_purpose_the_task_of3_True</th>\n",
       "      <td>5</td>\n",
       "      <td>0.000000</td>\n",
       "      <td>0.000000</td>\n",
       "      <td>0.000000</td>\n",
       "      <td>NaN</td>\n",
       "    </tr>\n",
       "    <tr>\n",
       "      <th>LF_purpose_the_task_ofneg2_True</th>\n",
       "      <td>6</td>\n",
       "      <td>0.000000</td>\n",
       "      <td>0.000000</td>\n",
       "      <td>0.000000</td>\n",
       "      <td>NaN</td>\n",
       "    </tr>\n",
       "    <tr>\n",
       "      <th>LF_purpose_to_answer3_True</th>\n",
       "      <td>15</td>\n",
       "      <td>0.000000</td>\n",
       "      <td>0.000000</td>\n",
       "      <td>0.000000</td>\n",
       "      <td>NaN</td>\n",
       "    </tr>\n",
       "    <tr>\n",
       "      <th>LF_purpose_to_answerneg2_True</th>\n",
       "      <td>16</td>\n",
       "      <td>0.000000</td>\n",
       "      <td>0.000000</td>\n",
       "      <td>0.000000</td>\n",
       "      <td>NaN</td>\n",
       "    </tr>\n",
       "    <tr>\n",
       "      <th>LF_purpose_useful_to3_True</th>\n",
       "      <td>25</td>\n",
       "      <td>0.000000</td>\n",
       "      <td>0.000000</td>\n",
       "      <td>0.000000</td>\n",
       "      <td>NaN</td>\n",
       "    </tr>\n",
       "    <tr>\n",
       "      <th>LF_purpose_useful_toneg2_True</th>\n",
       "      <td>26</td>\n",
       "      <td>0.000000</td>\n",
       "      <td>0.000000</td>\n",
       "      <td>0.000000</td>\n",
       "      <td>NaN</td>\n",
       "    </tr>\n",
       "    <tr>\n",
       "      <th>LF_purpose_bottleneck3_True</th>\n",
       "      <td>59</td>\n",
       "      <td>0.000000</td>\n",
       "      <td>0.000000</td>\n",
       "      <td>0.000000</td>\n",
       "      <td>NaN</td>\n",
       "    </tr>\n",
       "    <tr>\n",
       "      <th>LF_purpose_bottleneckneg1_True</th>\n",
       "      <td>60</td>\n",
       "      <td>0.000000</td>\n",
       "      <td>0.000000</td>\n",
       "      <td>0.000000</td>\n",
       "      <td>NaN</td>\n",
       "    </tr>\n",
       "    <tr>\n",
       "      <th>LF_purpose_we_similar_bottleneck_neg2_True</th>\n",
       "      <td>70</td>\n",
       "      <td>0.000000</td>\n",
       "      <td>0.000000</td>\n",
       "      <td>0.000000</td>\n",
       "      <td>NaN</td>\n",
       "    </tr>\n",
       "    <tr>\n",
       "      <th>LF_null_finds_that3_True</th>\n",
       "      <td>155</td>\n",
       "      <td>0.000000</td>\n",
       "      <td>0.000000</td>\n",
       "      <td>0.000000</td>\n",
       "      <td>NaN</td>\n",
       "    </tr>\n",
       "    <tr>\n",
       "      <th>LF_null_finds_thatneg2_True</th>\n",
       "      <td>156</td>\n",
       "      <td>0.000000</td>\n",
       "      <td>0.000000</td>\n",
       "      <td>0.000000</td>\n",
       "      <td>NaN</td>\n",
       "    </tr>\n",
       "    <tr>\n",
       "      <th>LF_null_are_performed3_True</th>\n",
       "      <td>177</td>\n",
       "      <td>0.000000</td>\n",
       "      <td>0.000000</td>\n",
       "      <td>0.000000</td>\n",
       "      <td>NaN</td>\n",
       "    </tr>\n",
       "    <tr>\n",
       "      <th>LF_null_are_performedneg2_True</th>\n",
       "      <td>178</td>\n",
       "      <td>0.000000</td>\n",
       "      <td>0.000000</td>\n",
       "      <td>0.000000</td>\n",
       "      <td>NaN</td>\n",
       "    </tr>\n",
       "    <tr>\n",
       "      <th>LF_null_were_performed3_True</th>\n",
       "      <td>179</td>\n",
       "      <td>0.000000</td>\n",
       "      <td>0.000000</td>\n",
       "      <td>0.000000</td>\n",
       "      <td>NaN</td>\n",
       "    </tr>\n",
       "    <tr>\n",
       "      <th>LF_null_were_performedneg2_True</th>\n",
       "      <td>180</td>\n",
       "      <td>0.000000</td>\n",
       "      <td>0.000000</td>\n",
       "      <td>0.000000</td>\n",
       "      <td>NaN</td>\n",
       "    </tr>\n",
       "    <tr>\n",
       "      <th>LF_null_we_similar_benchmark_neg2_True</th>\n",
       "      <td>215</td>\n",
       "      <td>0.000000</td>\n",
       "      <td>0.000000</td>\n",
       "      <td>0.000000</td>\n",
       "      <td>NaN</td>\n",
       "    </tr>\n",
       "  </tbody>\n",
       "</table>\n",
       "</div>"
      ],
      "text/plain": [
       "                                               j  Coverage  Overlaps  \\\n",
       "LF_null_indicates_thatneg2_True              176  0.002229  0.002229   \n",
       "LF_mechanism_using_a_neg2_True               107  0.003065  0.003065   \n",
       "LF_null_recent_research3_True                187  0.000111  0.000111   \n",
       "LF_purpose_we_similar_fundamental_neg2_True   73  0.000613  0.000613   \n",
       "LF_mechanism_using_a_3_True                  106  0.000223  0.000223   \n",
       "LF_null_recentlyneg2_True                    186  0.002619  0.002619   \n",
       "LF_null_recently3_True                       185  0.000279  0.000279   \n",
       "LF_mechanism_employed_neg2_True              103  0.001783  0.001783   \n",
       "LF_purpose_crucialneg2_True                   18  0.001282  0.001282   \n",
       "LF_purpose_crucial3_True                      17  0.000167  0.000167   \n",
       "LF_mechanism_employed_3_True                 102  0.000111  0.000111   \n",
       "LF_null_recent_researchneg2_True             188  0.002898  0.002898   \n",
       "LF_purpose_fundamentalneg2_True               12  0.000613  0.000613   \n",
       "LF_purpose_fundamental3_True                  11  0.000167  0.000167   \n",
       "LF_null_indicates_that3_True                 175  0.000223  0.000223   \n",
       "LF_mechanism_a_function_that3_True           120  0.000056  0.000056   \n",
       "LF_null_we_similar_perform_neg2_True         217  0.006465  0.006465   \n",
       "LF_null_we_proveneg2_True                    164  0.000446  0.000446   \n",
       "LF_null_we_prove3_True                       163  0.000111  0.000111   \n",
       "LF_mechanism_a_function_thatneg2_True        121  0.001393  0.001393   \n",
       "LF_null_evaluate_neg2_True                   170  0.003901  0.003901   \n",
       "LF_null_we_similar_prototype_neg2_True       221  0.006465  0.006242   \n",
       "LF_purpose_we_similar_challenging_neg2_True   72  0.002564  0.002564   \n",
       "LF_purpose_challengingneg2_True                8  0.002564  0.002564   \n",
       "LF_null_datasetneg2_True                     142  0.008137  0.008137   \n",
       "LF_null_we_similar_report_neg2_True          219  0.008416  0.008137   \n",
       "LF_mechanism_employ_neg2_True                 99  0.003288  0.003288   \n",
       "LF_mechanism_approach_neg2_True              117  0.030318  0.030318   \n",
       "LF_null_we_similar_dataset_neg2_True         212  0.005239  0.005239   \n",
       "LF_mechanism_we_similar_approach_neg2_True   133  0.031767  0.031767   \n",
       "LF_mechanism_we_similar_employ_neg2_True     135  0.003400  0.003400   \n",
       "LF_mechanism_we_use_neg2_True                 97  0.001951  0.001616   \n",
       "LF_null_we_similar_empirical_neg2_True       218  0.014880  0.013153   \n",
       "LF_null_demonstrateneg2_True                 172  0.031098  0.028758   \n",
       "LF_null_popular_neg2_True                    196  0.006353  0.005462   \n",
       "LF_mechanism_using_the_neg2_True             109  0.006298  0.005573   \n",
       "LF_mechanism_develops_neg2_True               87  0.001393  0.001115   \n",
       "LF_mechanism_present_neg2_True                95  0.033161  0.032826   \n",
       "LF_mechanism_we_similar_present_neg2_True    129  0.034052  0.034052   \n",
       "LF_null_previously3_True                     201  0.000836  0.000780   \n",
       "LF_mechanism_provideneg2_True                 91  0.036560  0.035947   \n",
       "LF_null_compared_toneg2_True                 206  0.007078  0.007078   \n",
       "LF_null_generalneg2_True                     204  0.015716  0.012930   \n",
       "LF_mechanism_via_neg2_True                   119  0.011481  0.010199   \n",
       "LF_null_settingsneg1_True                    210  0.004737  0.003678   \n",
       "LF_null_dataset3_True                        141  0.001672  0.001560   \n",
       "LF_null_evaluate_3_True                      169  0.000557  0.000446   \n",
       "LF_mechanism_we_similar_approach_neg1_True   132  0.014713  0.012930   \n",
       "LF_null_has_beenneg2_True                    192  0.005629  0.004180   \n",
       "LF_mechanism_we_similar_provide_neg2_True    127  0.025971  0.024355   \n",
       "LF_null_the_success_of3_True                 183  0.000167  0.000111   \n",
       "LF_mechanism_via_3_True                      118  0.001338  0.001226   \n",
       "LF_null_demonstrate3_True                    171  0.003846  0.003567   \n",
       "LF_purpose_in_order_toneg2_True               56  0.007524  0.007524   \n",
       "LF_purpose_allow_neg2_True                    22  0.004737  0.004737   \n",
       "purpose_to_verb                               69  0.068773  0.060915   \n",
       "mechanism_an_algorithm                       137  0.002341  0.002229   \n",
       "LF_purpose_we_similar_problem_neg2_True       71  0.039347  0.037786   \n",
       "LF_null_test3_True                           139  0.002285  0.002118   \n",
       "LF_purpose_taskneg2_True                      28  0.030708  0.030708   \n",
       "LF_null_testneg2_True                        140  0.011481  0.009084   \n",
       "LF_purpose_allows_3_True                      23  0.000892  0.000725   \n",
       "mechanism_by_adv_doing                       136  0.024968  0.024968   \n",
       "LF_null_general3_True                        203  0.002174  0.002174   \n",
       "LF_mechanism_we_similar_method_neg2_True     131  0.060469  0.056791   \n",
       "LF_mechanism_includeneg2_True                 81  0.014936  0.013431   \n",
       "LF_mechanism_approach_3_True                 116  0.003010  0.003010   \n",
       "purpose_for_doing                             68  0.035724  0.027699   \n",
       "LF_purpose_goalneg2_True                       2  0.009586  0.008304   \n",
       "LF_mechanism_we_similar_propose_neg2_True    123  0.018113  0.018113   \n",
       "LF_purpose_whetherneg2_True                   54  0.007134  0.006186   \n",
       "LF_mechanism_by_usingneg2_True               111  0.001951  0.001951   \n",
       "LF_mechanism_uses_neg2_True                  105  0.008304  0.005740   \n",
       "LF_purpose_problemneg1_True                   62  0.033774  0.029092   \n",
       "LF_purpose_TO_VB_neg2_True                     0  0.153598  0.125676   \n",
       "LF_mechanism_uses_3_True                     104  0.001338  0.001059   \n",
       "LF_null_have_beenneg2_True                   182  0.004236  0.002564   \n",
       "LF_null_generalneg1_True                     211  0.008304  0.005796   \n",
       "LF_mechanism_method_neg2_True                115  0.040183  0.040183   \n",
       "LF_null_resultsneg2_True                     146  0.055175  0.044418   \n",
       "LF_null_evaluated_neg2_True                  168  0.005796  0.004960   \n",
       "LF_mechanism_proposeneg2_True                 79  0.024243  0.023073   \n",
       "LF_purpose_goal3_True                          1  0.001505  0.001338   \n",
       "LF_null_we_similar_experiment_neg2_True      216  0.013153  0.013153   \n",
       "LF_purpose_task3_True                         27  0.007357  0.007357   \n",
       "LF_purpose_we_similar_task_neg2_True          75  0.015103  0.015103   \n",
       "LF_mechanism_provide3_True                    90  0.006186  0.006019   \n",
       "LF_purpose_problem3_True                      61  0.007022  0.007022   \n",
       "LF_purpose_a_study_ofneg2_True                40  0.001226  0.001226   \n",
       "LF_mechanism_includesneg2_True                83  0.009029  0.009029   \n",
       "mechanism_then_VB                            138  0.019172  0.012261   \n",
       "LF_purpose_existing_neg2_True                 48  0.011592  0.010645   \n",
       "LF_purpose_to_understandneg2_True             14  0.004013  0.004013   \n",
       "LF_mechanism_we_similar_propose_neg1_True    122  0.004347  0.003846   \n",
       "LF_purpose_taskneg1_True                      66  0.040127  0.033161   \n",
       "LF_purpose_we_similar_challenge_neg2_True     76  0.010032  0.010032   \n",
       "LF_mechanism_we_similar_provide_neg1_True    126  0.023296  0.017556   \n",
       "LF_mechanism_by_neg2_True                    113  0.075405  0.060302   \n",
       "LF_purpose_challengeneg2_True                 10  0.025414  0.021234   \n",
       "LF_null_the_success_ofneg2_True              184  0.003790  0.001951   \n",
       "LF_null_showneg2_True                        148  0.083319  0.080366   \n",
       "LF_mechanism_method_3_True                   114  0.003010  0.003010   \n",
       "LF_null_compared_to3_True                    205  0.001115  0.001115   \n",
       "LF_purpose_in_order_to3_True                  55  0.000446  0.000334   \n",
       "LF_purpose_to_understand3_True                13  0.000446  0.000390   \n",
       "LF_purpose_yet_3_True                         41  0.000223  0.000223   \n",
       "LF_mechanism_by_using3_True                  110  0.000223  0.000223   \n",
       "LF_null_compare_3_True                       207  0.000223  0.000167   \n",
       "LF_purpose_existing_3_True                    47  0.001115  0.001003   \n",
       "LF_null_settings3_True                       209  0.001003  0.000836   \n",
       "LF_null_we_similar_interview_neg2_True       214  0.003901  0.002285   \n",
       "LF_purpose_a_study_of3_True                   39  0.000111  0.000111   \n",
       "LF_purpose_allows_neg2_True                   24  0.007970  0.007691   \n",
       "LF_null_experiment3_True                     143  0.006075  0.005295   \n",
       "LF_purpose_we_similar_allow_neg2_True         77  0.009196  0.007802   \n",
       "LF_null_we_similar_shows_neg2_True           220  0.058407  0.058407   \n",
       "LF_null_show_thatneg2_True                   152  0.032603  0.032603   \n",
       "LF_null_we_similar_indicate_neg2_True        213  0.004681  0.004681   \n",
       "LF_mechanism_we_similar_method_neg1_True     130  0.024801  0.019450   \n",
       "LF_null_has_shownneg2_True                   194  0.006298  0.006298   \n",
       "LF_purpose_but_neg2_True                      44  0.031266  0.022181   \n",
       "LF_null_experimentneg2_True                  144  0.040183  0.037229   \n",
       "LF_mechanism_develop_neg2_True                85  0.003344  0.003344   \n",
       "LF_mechanism_by_3_True                       112  0.009363  0.007970   \n",
       "LF_purpose_howeverneg2_True                   38  0.028312  0.021903   \n",
       "LF_mechanism_we_similar_develop_neg2_True    125  0.003567  0.003567   \n",
       "LF_mechanism_include3_True                    80  0.002341  0.002285   \n",
       "LF_purpose_issueneg1_True                     65  0.000780  0.000613   \n",
       "LF_mechanism_we_similar_present_neg1_True    128  0.010701  0.007357   \n",
       "LF_null_previouslyneg2_True                  202  0.002675  0.002675   \n",
       "LF_null_show3_True                           147  0.010032  0.009140   \n",
       "LF_mechanism_propose3_True                    78  0.003344  0.003288   \n",
       "LF_null_popular_3_True                       195  0.000557  0.000446   \n",
       "LF_purpose_allow_3_True                       21  0.000557  0.000557   \n",
       "LF_null_evaluated_3_True                     167  0.000557  0.000502   \n",
       "LF_purpose_we_similar_issue_neg2_True         74  0.003511  0.003511   \n",
       "LF_purpose_issueneg2_True                     20  0.003511  0.003511   \n",
       "LF_null_observeneg2_True                     162  0.002842  0.001226   \n",
       "LF_purpose_yet_neg2_True                      42  0.002285  0.002285   \n",
       "LF_purpose_whether3_True                      53  0.001003  0.000947   \n",
       "LF_null_results3_True                        145  0.007802  0.006521   \n",
       "LF_null_increasingneg2_True                  200  0.008471  0.006911   \n",
       "LF_mechanism_present_3_True                   94  0.002675  0.002619   \n",
       "LF_null_has_been3_True                       191  0.000892  0.000669   \n",
       "LF_null_have_been3_True                      181  0.000446  0.000279   \n",
       "LF_null_increasing3_True                     199  0.001783  0.001616   \n",
       "LF_purpose_but_3_True                         43  0.004347  0.003288   \n",
       "LF_purpose_we_exploreneg2_True                34  0.007412  0.006075   \n",
       "LF_purpose_we_studyneg2_True                  32  0.009530  0.005406   \n",
       "LF_purpose_fundamentalneg1_True               64  0.000334  0.000334   \n",
       "LF_purpose_issue3_True                        19  0.000502  0.000502   \n",
       "LF_purpose_challenging3_True                   7  0.000502  0.000502   \n",
       "LF_null_compare_neg2_True                    208  0.001839  0.000669   \n",
       "LF_purpose_we_study3_True                     31  0.001003  0.000780   \n",
       "LF_null_show_that3_True                      151  0.002564  0.002564   \n",
       "LF_mechanism_includes3_True                   82  0.001672  0.001672   \n",
       "LF_null_found_thatneg2_True                  158  0.009029  0.003678   \n",
       "LF_purpose_challenge3_True                     9  0.003511  0.003511   \n",
       "LF_purpose_investigateneg2_True               30  0.012094  0.008248   \n",
       "LF_null_increasingly3_True                   189  0.000613  0.000613   \n",
       "LF_purpose_however3_True                      37  0.002062  0.002062   \n",
       "LF_purpose_examineneg2_True                   52  0.011815  0.008973   \n",
       "LF_mechanism_develop_3_True                   84  0.000446  0.000446   \n",
       "LF_mechanism_presents_neg2_True               93  0.005963  0.003400   \n",
       "LF_null_found_that3_True                     157  0.001003  0.000613   \n",
       "LF_mechanism_using_the_3_True                108  0.000279  0.000167   \n",
       "LF_purpose_challengeneg1_True                 67  0.011704  0.005462   \n",
       "LF_null_find_thatneg2_True                   154  0.009140  0.002174   \n",
       "LF_mechanism_we_similar_develop_neg1_True    124  0.001839  0.001560   \n",
       "LF_purpose_challengingneg1_True               63  0.002564  0.001672   \n",
       "LF_purpose_we_explore3_True                   33  0.000669  0.000502   \n",
       "LF_null_find_that3_True                      153  0.000780  0.000502   \n",
       "LF_null_increasinglyneg2_True                190  0.002954  0.002954   \n",
       "LF_purpose_investigate3_True                  29  0.001672  0.001393   \n",
       "LF_null_shows_thatneg2_True                  150  0.004570  0.004570   \n",
       "LF_purpose_ways_toneg2_True                   58  0.000502  0.000446   \n",
       "LF_mechanism_employs_neg2_True               101  0.000390  0.000056   \n",
       "LF_mechanism_employs_3_True                  100  0.000111  0.000056   \n",
       "LF_mechanism_employ_3_True                    98  0.000223  0.000223   \n",
       "LF_null_indicate_thatneg2_True               174  0.001672  0.001672   \n",
       "LF_mechanism_we_use_3_True                    96  0.000111  0.000000   \n",
       "LF_mechanism_presents_3_True                  92  0.000892  0.000557   \n",
       "LF_mechanism_developed_neg2_True              89  0.001226  0.000111   \n",
       "LF_mechanism_developed_3_True                 88  0.000223  0.000111   \n",
       "LF_purpose_the_problem_ofneg2_True             4  0.000780  0.000780   \n",
       "LF_purpose_the_problem_of3_True                3  0.000111  0.000111   \n",
       "LF_mechanism_develops_3_True                  86  0.000111  0.000056   \n",
       "LF_purpose_ways_to3_True                      57  0.000111  0.000056   \n",
       "LF_mechanism_we_similar_employ_neg1_True     134  0.000557  0.000390   \n",
       "LF_purpose_examine3_True                      51  0.001170  0.000836   \n",
       "LF_null_this_result3_True                    159  0.000111  0.000056   \n",
       "LF_purpose_although3_True                     35  0.000111  0.000111   \n",
       "LF_purpose_althoughneg2_True                  36  0.002174  0.001449   \n",
       "LF_null_evaluates_neg2_True                  166  0.000167  0.000056   \n",
       "LF_null_evaluates_3_True                     165  0.000111  0.000056   \n",
       "LF_null_observe3_True                        161  0.000167  0.000111   \n",
       "LF_null_this_resultneg2_True                 160  0.001003  0.001003   \n",
       "LF_null_has_shown3_True                      193  0.000446  0.000446   \n",
       "LF_purpose_deals_with_neg2_True               50  0.000947  0.000947   \n",
       "LF_purpose_know_little_3_True                 45  0.000056  0.000056   \n",
       "LF_purpose_know_little_neg2_True              46  0.001282  0.001282   \n",
       "LF_null_popularity_3_True                    197  0.000111  0.000056   \n",
       "LF_null_popularity_neg2_True                 198  0.000502  0.000056   \n",
       "LF_null_indicate_that3_True                  173  0.000111  0.000111   \n",
       "LF_purpose_deals_with_3_True                  49  0.000056  0.000056   \n",
       "LF_null_shows_that3_True                     149  0.000446  0.000446   \n",
       "LF_purpose_the_task_of3_True                   5  0.000000  0.000000   \n",
       "LF_purpose_the_task_ofneg2_True                6  0.000000  0.000000   \n",
       "LF_purpose_to_answer3_True                    15  0.000000  0.000000   \n",
       "LF_purpose_to_answerneg2_True                 16  0.000000  0.000000   \n",
       "LF_purpose_useful_to3_True                    25  0.000000  0.000000   \n",
       "LF_purpose_useful_toneg2_True                 26  0.000000  0.000000   \n",
       "LF_purpose_bottleneck3_True                   59  0.000000  0.000000   \n",
       "LF_purpose_bottleneckneg1_True                60  0.000000  0.000000   \n",
       "LF_purpose_we_similar_bottleneck_neg2_True    70  0.000000  0.000000   \n",
       "LF_null_finds_that3_True                     155  0.000000  0.000000   \n",
       "LF_null_finds_thatneg2_True                  156  0.000000  0.000000   \n",
       "LF_null_are_performed3_True                  177  0.000000  0.000000   \n",
       "LF_null_are_performedneg2_True               178  0.000000  0.000000   \n",
       "LF_null_were_performed3_True                 179  0.000000  0.000000   \n",
       "LF_null_were_performedneg2_True              180  0.000000  0.000000   \n",
       "LF_null_we_similar_benchmark_neg2_True       215  0.000000  0.000000   \n",
       "\n",
       "                                             Conflicts  \\\n",
       "LF_null_indicates_thatneg2_True               0.002229   \n",
       "LF_mechanism_using_a_neg2_True                0.003065   \n",
       "LF_null_recent_research3_True                 0.000111   \n",
       "LF_purpose_we_similar_fundamental_neg2_True   0.000613   \n",
       "LF_mechanism_using_a_3_True                   0.000223   \n",
       "LF_null_recentlyneg2_True                     0.002619   \n",
       "LF_null_recently3_True                        0.000279   \n",
       "LF_mechanism_employed_neg2_True               0.001783   \n",
       "LF_purpose_crucialneg2_True                   0.001282   \n",
       "LF_purpose_crucial3_True                      0.000167   \n",
       "LF_mechanism_employed_3_True                  0.000111   \n",
       "LF_null_recent_researchneg2_True              0.002898   \n",
       "LF_purpose_fundamentalneg2_True               0.000613   \n",
       "LF_purpose_fundamental3_True                  0.000167   \n",
       "LF_null_indicates_that3_True                  0.000223   \n",
       "LF_mechanism_a_function_that3_True            0.000056   \n",
       "LF_null_we_similar_perform_neg2_True          0.006465   \n",
       "LF_null_we_proveneg2_True                     0.000446   \n",
       "LF_null_we_prove3_True                        0.000111   \n",
       "LF_mechanism_a_function_thatneg2_True         0.001393   \n",
       "LF_null_evaluate_neg2_True                    0.003846   \n",
       "LF_null_we_similar_prototype_neg2_True        0.005963   \n",
       "LF_purpose_we_similar_challenging_neg2_True   0.002341   \n",
       "LF_purpose_challengingneg2_True               0.002341   \n",
       "LF_null_datasetneg2_True                      0.007245   \n",
       "LF_null_we_similar_report_neg2_True           0.007412   \n",
       "LF_mechanism_employ_neg2_True                 0.002842   \n",
       "LF_mechanism_approach_neg2_True               0.026083   \n",
       "LF_null_we_similar_dataset_neg2_True          0.004459   \n",
       "LF_mechanism_we_similar_approach_neg2_True    0.026919   \n",
       "LF_mechanism_we_similar_employ_neg2_True      0.002842   \n",
       "LF_mechanism_we_use_neg2_True                 0.001616   \n",
       "LF_null_we_similar_empirical_neg2_True        0.012261   \n",
       "LF_null_demonstrateneg2_True                  0.025247   \n",
       "LF_null_popular_neg2_True                     0.005127   \n",
       "LF_mechanism_using_the_neg2_True              0.004793   \n",
       "LF_mechanism_develops_neg2_True               0.001059   \n",
       "LF_mechanism_present_neg2_True                0.024689   \n",
       "LF_mechanism_we_similar_present_neg2_True     0.025191   \n",
       "LF_null_previously3_True                      0.000613   \n",
       "LF_mechanism_provideneg2_True                 0.026751   \n",
       "LF_null_compared_toneg2_True                  0.005127   \n",
       "LF_null_generalneg2_True                      0.011258   \n",
       "LF_mechanism_via_neg2_True                    0.008137   \n",
       "LF_null_settingsneg1_True                     0.003344   \n",
       "LF_null_dataset3_True                         0.001170   \n",
       "LF_null_evaluate_3_True                       0.000390   \n",
       "LF_mechanism_we_similar_approach_neg1_True    0.010199   \n",
       "LF_null_has_beenneg2_True                     0.003846   \n",
       "LF_mechanism_we_similar_provide_neg2_True     0.017723   \n",
       "LF_null_the_success_of3_True                  0.000111   \n",
       "LF_mechanism_via_3_True                       0.000892   \n",
       "LF_null_demonstrate3_True                     0.002508   \n",
       "LF_purpose_in_order_toneg2_True               0.004904   \n",
       "LF_purpose_allow_neg2_True                    0.003065   \n",
       "purpose_to_verb                               0.044474   \n",
       "mechanism_an_algorithm                        0.001505   \n",
       "LF_purpose_we_similar_problem_neg2_True       0.024968   \n",
       "LF_null_test3_True                            0.001449   \n",
       "LF_purpose_taskneg2_True                      0.019339   \n",
       "LF_null_testneg2_True                         0.007189   \n",
       "LF_purpose_allows_3_True                      0.000557   \n",
       "mechanism_by_adv_doing                        0.015438   \n",
       "LF_null_general3_True                         0.001338   \n",
       "LF_mechanism_we_similar_method_neg2_True      0.037006   \n",
       "LF_mechanism_includeneg2_True                 0.009140   \n",
       "LF_mechanism_approach_3_True                  0.001839   \n",
       "purpose_for_doing                             0.021791   \n",
       "LF_purpose_goalneg2_True                      0.005796   \n",
       "LF_mechanism_we_similar_propose_neg2_True     0.010923   \n",
       "LF_purpose_whetherneg2_True                   0.004291   \n",
       "LF_mechanism_by_usingneg2_True                0.001170   \n",
       "LF_mechanism_uses_neg2_True                   0.004960   \n",
       "LF_purpose_problemneg1_True                   0.019841   \n",
       "LF_purpose_TO_VB_neg2_True                    0.089729   \n",
       "LF_mechanism_uses_3_True                      0.000780   \n",
       "LF_null_have_beenneg2_True                    0.002452   \n",
       "LF_null_generalneg1_True                      0.004793   \n",
       "LF_mechanism_method_neg2_True                 0.023017   \n",
       "LF_null_resultsneg2_True                      0.031544   \n",
       "LF_null_evaluated_neg2_True                   0.003288   \n",
       "LF_mechanism_proposeneg2_True                 0.013599   \n",
       "LF_purpose_goal3_True                         0.000836   \n",
       "LF_null_we_similar_experiment_neg2_True       0.007301   \n",
       "LF_purpose_task3_True                         0.004068   \n",
       "LF_purpose_we_similar_task_neg2_True          0.008304   \n",
       "LF_mechanism_provide3_True                    0.003400   \n",
       "LF_purpose_problem3_True                      0.003846   \n",
       "LF_purpose_a_study_ofneg2_True                0.000669   \n",
       "LF_mechanism_includesneg2_True                0.004849   \n",
       "mechanism_then_VB                             0.010199   \n",
       "LF_purpose_existing_neg2_True                 0.006131   \n",
       "LF_purpose_to_understandneg2_True             0.002118   \n",
       "LF_mechanism_we_similar_propose_neg1_True     0.002285   \n",
       "LF_purpose_taskneg1_True                      0.020955   \n",
       "LF_purpose_we_similar_challenge_neg2_True     0.005239   \n",
       "LF_mechanism_we_similar_provide_neg1_True     0.012150   \n",
       "LF_mechanism_by_neg2_True                     0.039291   \n",
       "LF_purpose_challengeneg2_True                 0.013097   \n",
       "LF_null_the_success_ofneg2_True               0.001951   \n",
       "LF_null_showneg2_True                         0.042245   \n",
       "LF_mechanism_method_3_True                    0.001505   \n",
       "LF_null_compared_to3_True                     0.000557   \n",
       "LF_purpose_in_order_to3_True                  0.000223   \n",
       "LF_purpose_to_understand3_True                0.000223   \n",
       "LF_purpose_yet_3_True                         0.000111   \n",
       "LF_mechanism_by_using3_True                   0.000111   \n",
       "LF_null_compare_3_True                        0.000111   \n",
       "LF_purpose_existing_3_True                    0.000557   \n",
       "LF_null_settings3_True                        0.000502   \n",
       "LF_null_we_similar_interview_neg2_True        0.001951   \n",
       "LF_purpose_a_study_of3_True                   0.000056   \n",
       "LF_purpose_allows_neg2_True                   0.003901   \n",
       "LF_null_experiment3_True                      0.002954   \n",
       "LF_purpose_we_similar_allow_neg2_True         0.004403   \n",
       "LF_null_we_similar_shows_neg2_True            0.027699   \n",
       "LF_null_show_thatneg2_True                    0.015382   \n",
       "LF_null_we_similar_indicate_neg2_True         0.002174   \n",
       "LF_mechanism_we_similar_method_neg1_True      0.011425   \n",
       "LF_null_has_shownneg2_True                    0.002842   \n",
       "LF_purpose_but_neg2_True                      0.014100   \n",
       "LF_null_experimentneg2_True                   0.018113   \n",
       "LF_mechanism_develop_neg2_True                0.001505   \n",
       "LF_mechanism_by_3_True                        0.004124   \n",
       "LF_purpose_howeverneg2_True                   0.012428   \n",
       "LF_mechanism_we_similar_develop_neg2_True     0.001560   \n",
       "LF_mechanism_include3_True                    0.001003   \n",
       "LF_purpose_issueneg1_True                     0.000334   \n",
       "LF_mechanism_we_similar_present_neg1_True     0.004570   \n",
       "LF_null_previouslyneg2_True                   0.001115   \n",
       "LF_null_show3_True                            0.004068   \n",
       "LF_mechanism_propose3_True                    0.001338   \n",
       "LF_null_popular_3_True                        0.000223   \n",
       "LF_purpose_allow_3_True                       0.000223   \n",
       "LF_null_evaluated_3_True                      0.000223   \n",
       "LF_purpose_we_similar_issue_neg2_True         0.001393   \n",
       "LF_purpose_issueneg2_True                     0.001393   \n",
       "LF_null_observeneg2_True                      0.001115   \n",
       "LF_purpose_yet_neg2_True                      0.000892   \n",
       "LF_purpose_whether3_True                      0.000390   \n",
       "LF_null_results3_True                         0.003010   \n",
       "LF_null_increasingneg2_True                   0.003177   \n",
       "LF_mechanism_present_3_True                   0.001003   \n",
       "LF_null_has_been3_True                        0.000334   \n",
       "LF_null_have_been3_True                       0.000167   \n",
       "LF_null_increasing3_True                      0.000669   \n",
       "LF_purpose_but_3_True                         0.001616   \n",
       "LF_purpose_we_exploreneg2_True                0.002564   \n",
       "LF_purpose_we_studyneg2_True                  0.003232   \n",
       "LF_purpose_fundamentalneg1_True               0.000111   \n",
       "LF_purpose_issue3_True                        0.000167   \n",
       "LF_purpose_challenging3_True                  0.000167   \n",
       "LF_null_compare_neg2_True                     0.000613   \n",
       "LF_purpose_we_study3_True                     0.000334   \n",
       "LF_null_show_that3_True                       0.000780   \n",
       "LF_mechanism_includes3_True                   0.000502   \n",
       "LF_null_found_thatneg2_True                   0.002675   \n",
       "LF_purpose_challenge3_True                    0.001003   \n",
       "LF_purpose_investigateneg2_True               0.003400   \n",
       "LF_null_increasingly3_True                    0.000167   \n",
       "LF_purpose_however3_True                      0.000557   \n",
       "LF_purpose_examineneg2_True                   0.003010   \n",
       "LF_mechanism_develop_3_True                   0.000111   \n",
       "LF_mechanism_presents_neg2_True               0.001338   \n",
       "LF_null_found_that3_True                      0.000223   \n",
       "LF_mechanism_using_the_3_True                 0.000056   \n",
       "LF_purpose_challengeneg1_True                 0.002285   \n",
       "LF_null_find_thatneg2_True                    0.001783   \n",
       "LF_mechanism_we_similar_develop_neg1_True     0.000334   \n",
       "LF_purpose_challengingneg1_True               0.000446   \n",
       "LF_purpose_we_explore3_True                   0.000111   \n",
       "LF_null_find_that3_True                       0.000111   \n",
       "LF_null_increasinglyneg2_True                 0.000390   \n",
       "LF_purpose_investigate3_True                  0.000167   \n",
       "LF_null_shows_thatneg2_True                   0.000390   \n",
       "LF_purpose_ways_toneg2_True                   0.000000   \n",
       "LF_mechanism_employs_neg2_True                0.000000   \n",
       "LF_mechanism_employs_3_True                   0.000000   \n",
       "LF_mechanism_employ_3_True                    0.000000   \n",
       "LF_null_indicate_thatneg2_True                0.000000   \n",
       "LF_mechanism_we_use_3_True                    0.000000   \n",
       "LF_mechanism_presents_3_True                  0.000000   \n",
       "LF_mechanism_developed_neg2_True              0.000000   \n",
       "LF_mechanism_developed_3_True                 0.000000   \n",
       "LF_purpose_the_problem_ofneg2_True            0.000000   \n",
       "LF_purpose_the_problem_of3_True               0.000000   \n",
       "LF_mechanism_develops_3_True                  0.000000   \n",
       "LF_purpose_ways_to3_True                      0.000000   \n",
       "LF_mechanism_we_similar_employ_neg1_True      0.000000   \n",
       "LF_purpose_examine3_True                      0.000000   \n",
       "LF_null_this_result3_True                     0.000000   \n",
       "LF_purpose_although3_True                     0.000000   \n",
       "LF_purpose_althoughneg2_True                  0.000000   \n",
       "LF_null_evaluates_neg2_True                   0.000000   \n",
       "LF_null_evaluates_3_True                      0.000000   \n",
       "LF_null_observe3_True                         0.000000   \n",
       "LF_null_this_resultneg2_True                  0.000000   \n",
       "LF_null_has_shown3_True                       0.000000   \n",
       "LF_purpose_deals_with_neg2_True               0.000000   \n",
       "LF_purpose_know_little_3_True                 0.000000   \n",
       "LF_purpose_know_little_neg2_True              0.000000   \n",
       "LF_null_popularity_3_True                     0.000000   \n",
       "LF_null_popularity_neg2_True                  0.000000   \n",
       "LF_null_indicate_that3_True                   0.000000   \n",
       "LF_purpose_deals_with_3_True                  0.000000   \n",
       "LF_null_shows_that3_True                      0.000000   \n",
       "LF_purpose_the_task_of3_True                  0.000000   \n",
       "LF_purpose_the_task_ofneg2_True               0.000000   \n",
       "LF_purpose_to_answer3_True                    0.000000   \n",
       "LF_purpose_to_answerneg2_True                 0.000000   \n",
       "LF_purpose_useful_to3_True                    0.000000   \n",
       "LF_purpose_useful_toneg2_True                 0.000000   \n",
       "LF_purpose_bottleneck3_True                   0.000000   \n",
       "LF_purpose_bottleneckneg1_True                0.000000   \n",
       "LF_purpose_we_similar_bottleneck_neg2_True    0.000000   \n",
       "LF_null_finds_that3_True                      0.000000   \n",
       "LF_null_finds_thatneg2_True                   0.000000   \n",
       "LF_null_are_performed3_True                   0.000000   \n",
       "LF_null_are_performedneg2_True                0.000000   \n",
       "LF_null_were_performed3_True                  0.000000   \n",
       "LF_null_were_performedneg2_True               0.000000   \n",
       "LF_null_we_similar_benchmark_neg2_True        0.000000   \n",
       "\n",
       "                                             Conflict_Coverage_ratio  \n",
       "LF_null_indicates_thatneg2_True                             1.000000  \n",
       "LF_mechanism_using_a_neg2_True                              1.000000  \n",
       "LF_null_recent_research3_True                               1.000000  \n",
       "LF_purpose_we_similar_fundamental_neg2_True                 1.000000  \n",
       "LF_mechanism_using_a_3_True                                 1.000000  \n",
       "LF_null_recentlyneg2_True                                   1.000000  \n",
       "LF_null_recently3_True                                      1.000000  \n",
       "LF_mechanism_employed_neg2_True                             1.000000  \n",
       "LF_purpose_crucialneg2_True                                 1.000000  \n",
       "LF_purpose_crucial3_True                                    1.000000  \n",
       "LF_mechanism_employed_3_True                                1.000000  \n",
       "LF_null_recent_researchneg2_True                            1.000000  \n",
       "LF_purpose_fundamentalneg2_True                             1.000000  \n",
       "LF_purpose_fundamental3_True                                1.000000  \n",
       "LF_null_indicates_that3_True                                1.000000  \n",
       "LF_mechanism_a_function_that3_True                          1.000000  \n",
       "LF_null_we_similar_perform_neg2_True                        1.000000  \n",
       "LF_null_we_proveneg2_True                                   1.000000  \n",
       "LF_null_we_prove3_True                                      1.000000  \n",
       "LF_mechanism_a_function_thatneg2_True                       1.000000  \n",
       "LF_null_evaluate_neg2_True                                  0.985714  \n",
       "LF_null_we_similar_prototype_neg2_True                      0.922414  \n",
       "LF_purpose_we_similar_challenging_neg2_True                 0.913043  \n",
       "LF_purpose_challengingneg2_True                             0.913043  \n",
       "LF_null_datasetneg2_True                                    0.890411  \n",
       "LF_null_we_similar_report_neg2_True                         0.880795  \n",
       "LF_mechanism_employ_neg2_True                               0.864407  \n",
       "LF_mechanism_approach_neg2_True                             0.860294  \n",
       "LF_null_we_similar_dataset_neg2_True                        0.851064  \n",
       "LF_mechanism_we_similar_approach_neg2_True                  0.847368  \n",
       "LF_mechanism_we_similar_employ_neg2_True                    0.836066  \n",
       "LF_mechanism_we_use_neg2_True                               0.828571  \n",
       "LF_null_we_similar_empirical_neg2_True                      0.823970  \n",
       "LF_null_demonstrateneg2_True                                0.811828  \n",
       "LF_null_popular_neg2_True                                   0.807018  \n",
       "LF_mechanism_using_the_neg2_True                            0.761062  \n",
       "LF_mechanism_develops_neg2_True                             0.760000  \n",
       "LF_mechanism_present_neg2_True                              0.744538  \n",
       "LF_mechanism_we_similar_present_neg2_True                   0.739771  \n",
       "LF_null_previously3_True                                    0.733333  \n",
       "LF_mechanism_provideneg2_True                               0.731707  \n",
       "LF_null_compared_toneg2_True                                0.724409  \n",
       "LF_null_generalneg2_True                                    0.716312  \n",
       "LF_mechanism_via_neg2_True                                  0.708738  \n",
       "LF_null_settingsneg1_True                                   0.705882  \n",
       "LF_null_dataset3_True                                       0.700000  \n",
       "LF_null_evaluate_3_True                                     0.700000  \n",
       "LF_mechanism_we_similar_approach_neg1_True                  0.693182  \n",
       "LF_null_has_beenneg2_True                                   0.683168  \n",
       "LF_mechanism_we_similar_provide_neg2_True                   0.682403  \n",
       "LF_null_the_success_of3_True                                0.666667  \n",
       "LF_mechanism_via_3_True                                     0.666667  \n",
       "LF_null_demonstrate3_True                                   0.652174  \n",
       "LF_purpose_in_order_toneg2_True                             0.651852  \n",
       "LF_purpose_allow_neg2_True                                  0.647059  \n",
       "purpose_to_verb                                             0.646677  \n",
       "mechanism_an_algorithm                                      0.642857  \n",
       "LF_purpose_we_similar_problem_neg2_True                     0.634561  \n",
       "LF_null_test3_True                                          0.634146  \n",
       "LF_purpose_taskneg2_True                                    0.629764  \n",
       "LF_null_testneg2_True                                       0.626214  \n",
       "LF_purpose_allows_3_True                                    0.625000  \n",
       "mechanism_by_adv_doing                                      0.618304  \n",
       "LF_null_general3_True                                       0.615385  \n",
       "LF_mechanism_we_similar_method_neg2_True                    0.611982  \n",
       "LF_mechanism_includeneg2_True                               0.611940  \n",
       "LF_mechanism_approach_3_True                                0.611111  \n",
       "purpose_for_doing                                           0.609984  \n",
       "LF_purpose_goalneg2_True                                    0.604651  \n",
       "LF_mechanism_we_similar_propose_neg2_True                   0.603077  \n",
       "LF_purpose_whetherneg2_True                                 0.601562  \n",
       "LF_mechanism_by_usingneg2_True                              0.600000  \n",
       "LF_mechanism_uses_neg2_True                                 0.597315  \n",
       "LF_purpose_problemneg1_True                                 0.587459  \n",
       "LF_purpose_TO_VB_neg2_True                                  0.584180  \n",
       "LF_mechanism_uses_3_True                                    0.583333  \n",
       "LF_null_have_beenneg2_True                                  0.578947  \n",
       "LF_null_generalneg1_True                                    0.577181  \n",
       "LF_mechanism_method_neg2_True                               0.572816  \n",
       "LF_null_resultsneg2_True                                    0.571717  \n",
       "LF_null_evaluated_neg2_True                                 0.567308  \n",
       "LF_mechanism_proposeneg2_True                               0.560920  \n",
       "LF_purpose_goal3_True                                       0.555556  \n",
       "LF_null_we_similar_experiment_neg2_True                     0.555085  \n",
       "LF_purpose_task3_True                                       0.553030  \n",
       "LF_purpose_we_similar_task_neg2_True                        0.549815  \n",
       "LF_mechanism_provide3_True                                  0.549550  \n",
       "LF_purpose_problem3_True                                    0.547619  \n",
       "LF_purpose_a_study_ofneg2_True                              0.545455  \n",
       "LF_mechanism_includesneg2_True                              0.537037  \n",
       "mechanism_then_VB                                           0.531977  \n",
       "LF_purpose_existing_neg2_True                               0.528846  \n",
       "LF_purpose_to_understandneg2_True                           0.527778  \n",
       "LF_mechanism_we_similar_propose_neg1_True                   0.525641  \n",
       "LF_purpose_taskneg1_True                                    0.522222  \n",
       "LF_purpose_we_similar_challenge_neg2_True                   0.522222  \n",
       "LF_mechanism_we_similar_provide_neg1_True                   0.521531  \n",
       "LF_mechanism_by_neg2_True                                   0.521064  \n",
       "LF_purpose_challengeneg2_True                               0.515351  \n",
       "LF_null_the_success_ofneg2_True                             0.514706  \n",
       "LF_null_showneg2_True                                       0.507023  \n",
       "LF_mechanism_method_3_True                                  0.500000  \n",
       "LF_null_compared_to3_True                                   0.500000  \n",
       "LF_purpose_in_order_to3_True                                0.500000  \n",
       "LF_purpose_to_understand3_True                              0.500000  \n",
       "LF_purpose_yet_3_True                                       0.500000  \n",
       "LF_mechanism_by_using3_True                                 0.500000  \n",
       "LF_null_compare_3_True                                      0.500000  \n",
       "LF_purpose_existing_3_True                                  0.500000  \n",
       "LF_null_settings3_True                                      0.500000  \n",
       "LF_null_we_similar_interview_neg2_True                      0.500000  \n",
       "LF_purpose_a_study_of3_True                                 0.500000  \n",
       "LF_purpose_allows_neg2_True                                 0.489510  \n",
       "LF_null_experiment3_True                                    0.486239  \n",
       "LF_purpose_we_similar_allow_neg2_True                       0.478788  \n",
       "LF_null_we_similar_shows_neg2_True                          0.474237  \n",
       "LF_null_show_thatneg2_True                                  0.471795  \n",
       "LF_null_we_similar_indicate_neg2_True                       0.464286  \n",
       "LF_mechanism_we_similar_method_neg1_True                    0.460674  \n",
       "LF_null_has_shownneg2_True                                  0.451327  \n",
       "LF_purpose_but_neg2_True                                    0.450980  \n",
       "LF_null_experimentneg2_True                                 0.450763  \n",
       "LF_mechanism_develop_neg2_True                              0.450000  \n",
       "LF_mechanism_by_3_True                                      0.440476  \n",
       "LF_purpose_howeverneg2_True                                 0.438976  \n",
       "LF_mechanism_we_similar_develop_neg2_True                   0.437500  \n",
       "LF_mechanism_include3_True                                  0.428571  \n",
       "LF_purpose_issueneg1_True                                   0.428571  \n",
       "LF_mechanism_we_similar_present_neg1_True                   0.427083  \n",
       "LF_null_previouslyneg2_True                                 0.416667  \n",
       "LF_null_show3_True                                          0.405556  \n",
       "LF_mechanism_propose3_True                                  0.400000  \n",
       "LF_null_popular_3_True                                      0.400000  \n",
       "LF_purpose_allow_3_True                                     0.400000  \n",
       "LF_null_evaluated_3_True                                    0.400000  \n",
       "LF_purpose_we_similar_issue_neg2_True                       0.396825  \n",
       "LF_purpose_issueneg2_True                                   0.396825  \n",
       "LF_null_observeneg2_True                                    0.392157  \n",
       "LF_purpose_yet_neg2_True                                    0.390244  \n",
       "LF_purpose_whether3_True                                    0.388889  \n",
       "LF_null_results3_True                                       0.385714  \n",
       "LF_null_increasingneg2_True                                 0.375000  \n",
       "LF_mechanism_present_3_True                                 0.375000  \n",
       "LF_null_has_been3_True                                      0.375000  \n",
       "LF_null_have_been3_True                                     0.375000  \n",
       "LF_null_increasing3_True                                    0.375000  \n",
       "LF_purpose_but_3_True                                       0.371795  \n",
       "LF_purpose_we_exploreneg2_True                              0.345865  \n",
       "LF_purpose_we_studyneg2_True                                0.339181  \n",
       "LF_purpose_fundamentalneg1_True                             0.333333  \n",
       "LF_purpose_issue3_True                                      0.333333  \n",
       "LF_purpose_challenging3_True                                0.333333  \n",
       "LF_null_compare_neg2_True                                   0.333333  \n",
       "LF_purpose_we_study3_True                                   0.333333  \n",
       "LF_null_show_that3_True                                     0.304348  \n",
       "LF_mechanism_includes3_True                                 0.300000  \n",
       "LF_null_found_thatneg2_True                                 0.296296  \n",
       "LF_purpose_challenge3_True                                  0.285714  \n",
       "LF_purpose_investigateneg2_True                             0.281106  \n",
       "LF_null_increasingly3_True                                  0.272727  \n",
       "LF_purpose_however3_True                                    0.270270  \n",
       "LF_purpose_examineneg2_True                                 0.254717  \n",
       "LF_mechanism_develop_3_True                                 0.250000  \n",
       "LF_mechanism_presents_neg2_True                             0.224299  \n",
       "LF_null_found_that3_True                                    0.222222  \n",
       "LF_mechanism_using_the_3_True                               0.200000  \n",
       "LF_purpose_challengeneg1_True                               0.195238  \n",
       "LF_null_find_thatneg2_True                                  0.195122  \n",
       "LF_mechanism_we_similar_develop_neg1_True                   0.181818  \n",
       "LF_purpose_challengingneg1_True                             0.173913  \n",
       "LF_purpose_we_explore3_True                                 0.166667  \n",
       "LF_null_find_that3_True                                     0.142857  \n",
       "LF_null_increasinglyneg2_True                               0.132075  \n",
       "LF_purpose_investigate3_True                                0.100000  \n",
       "LF_null_shows_thatneg2_True                                 0.085366  \n",
       "LF_purpose_ways_toneg2_True                                 0.000000  \n",
       "LF_mechanism_employs_neg2_True                              0.000000  \n",
       "LF_mechanism_employs_3_True                                 0.000000  \n",
       "LF_mechanism_employ_3_True                                  0.000000  \n",
       "LF_null_indicate_thatneg2_True                              0.000000  \n",
       "LF_mechanism_we_use_3_True                                  0.000000  \n",
       "LF_mechanism_presents_3_True                                0.000000  \n",
       "LF_mechanism_developed_neg2_True                            0.000000  \n",
       "LF_mechanism_developed_3_True                               0.000000  \n",
       "LF_purpose_the_problem_ofneg2_True                          0.000000  \n",
       "LF_purpose_the_problem_of3_True                             0.000000  \n",
       "LF_mechanism_develops_3_True                                0.000000  \n",
       "LF_purpose_ways_to3_True                                    0.000000  \n",
       "LF_mechanism_we_similar_employ_neg1_True                    0.000000  \n",
       "LF_purpose_examine3_True                                    0.000000  \n",
       "LF_null_this_result3_True                                   0.000000  \n",
       "LF_purpose_although3_True                                   0.000000  \n",
       "LF_purpose_althoughneg2_True                                0.000000  \n",
       "LF_null_evaluates_neg2_True                                 0.000000  \n",
       "LF_null_evaluates_3_True                                    0.000000  \n",
       "LF_null_observe3_True                                       0.000000  \n",
       "LF_null_this_resultneg2_True                                0.000000  \n",
       "LF_null_has_shown3_True                                     0.000000  \n",
       "LF_purpose_deals_with_neg2_True                             0.000000  \n",
       "LF_purpose_know_little_3_True                               0.000000  \n",
       "LF_purpose_know_little_neg2_True                            0.000000  \n",
       "LF_null_popularity_3_True                                   0.000000  \n",
       "LF_null_popularity_neg2_True                                0.000000  \n",
       "LF_null_indicate_that3_True                                 0.000000  \n",
       "LF_purpose_deals_with_3_True                                0.000000  \n",
       "LF_null_shows_that3_True                                    0.000000  \n",
       "LF_purpose_the_task_of3_True                                     NaN  \n",
       "LF_purpose_the_task_ofneg2_True                                  NaN  \n",
       "LF_purpose_to_answer3_True                                       NaN  \n",
       "LF_purpose_to_answerneg2_True                                    NaN  \n",
       "LF_purpose_useful_to3_True                                       NaN  \n",
       "LF_purpose_useful_toneg2_True                                    NaN  \n",
       "LF_purpose_bottleneck3_True                                      NaN  \n",
       "LF_purpose_bottleneckneg1_True                                   NaN  \n",
       "LF_purpose_we_similar_bottleneck_neg2_True                       NaN  \n",
       "LF_null_finds_that3_True                                         NaN  \n",
       "LF_null_finds_thatneg2_True                                      NaN  \n",
       "LF_null_are_performed3_True                                      NaN  \n",
       "LF_null_are_performedneg2_True                                   NaN  \n",
       "LF_null_were_performed3_True                                     NaN  \n",
       "LF_null_were_performedneg2_True                                  NaN  \n",
       "LF_null_we_similar_benchmark_neg2_True                           NaN  "
      ]
     },
     "execution_count": 24,
     "metadata": {},
     "output_type": "execute_result"
    }
   ],
   "source": [
    "# import pandas as pd \n",
    "pd.set_option('display.max_rows', 500)\n",
    "\n",
    "df=L_train.lf_stats(session)\n",
    "df['Conflict_Coverage_ratio'] = df['Conflicts']/df['Coverage']\n",
    "\n",
    "df_ratio_added=df.sort_values(by=['Conflict_Coverage_ratio'],ascending=False)\n",
    "\n",
    "# df_ratio_added[df_ratio_added.index.str.contains(\"we_similar\")]\n",
    "df_ratio_added\n"
   ]
  },
  {
   "cell_type": "code",
   "execution_count": 25,
   "metadata": {
    "scrolled": true
   },
   "outputs": [
    {
     "name": "stdout",
     "output_type": "stream",
     "text": [
      "grid search with L_train step_size_nominator 0.01 epochs 2 decay 0.95 reg_param 0.001 lf_propensity False\n",
      "2018-10-23 22:55:59.384754\n",
      "Compiles variable matrix\n",
      "grid search with L_train step_size_nominator 0.01 epochs 2 decay 0.95 reg_param 0.001 lf_propensity False\n",
      "2018-10-23 22:55:59.384754\n",
      "Compiles variable matrix\n",
      "_compile finished!\n",
      "_compile finished!\n",
      "Compiles variable matrix\n",
      "_compile finished!\n",
      "training finished \n",
      "2018-10-23 22:58:10.239960\n",
      "Finished training generative model, now checking performance against development set labels...\n",
      "Calculating marginals!\n",
      "Compiles variable matrix\n",
      "_compile finished!\n",
      "training finished \n",
      "2018-10-23 22:58:10.239960\n",
      "Finished training generative model, now checking performance against development set labels...\n",
      "Calculating marginals!\n",
      "no exception\n",
      "2018-10-23 22:58:15.741232\n",
      "PP 9597\n",
      "MN 4497\n",
      "NULL 3849\n",
      "amend PP 4590\n",
      "amend MN 4497\n",
      "amend NULL 8856\n",
      "grid search with L_train step_size_nominator 0.01 epochs 3 decay 0.95 reg_param 0.001 lf_propensity False\n",
      "2018-10-23 22:58:15.762219\n",
      "Compiles variable matrix\n",
      "no exception\n",
      "2018-10-23 22:58:15.741232\n",
      "PP 9597\n",
      "MN 4497\n",
      "NULL 3849\n",
      "amend PP 4590\n",
      "amend MN 4497\n",
      "amend NULL 8856\n",
      "grid search with L_train step_size_nominator 0.01 epochs 3 decay 0.95 reg_param 0.001 lf_propensity False\n",
      "2018-10-23 22:58:15.762219\n",
      "Compiles variable matrix\n",
      "_compile finished!\n",
      "_compile finished!\n",
      "Compiles variable matrix\n",
      "_compile finished!\n",
      "training finished \n",
      "2018-10-23 23:00:32.365174\n",
      "Finished training generative model, now checking performance against development set labels...\n",
      "Calculating marginals!\n",
      "Compiles variable matrix\n",
      "_compile finished!\n",
      "training finished \n",
      "2018-10-23 23:00:32.365174\n",
      "Finished training generative model, now checking performance against development set labels...\n",
      "Calculating marginals!\n",
      "no exception\n",
      "2018-10-23 23:00:36.373605\n",
      "PP 9613\n",
      "MN 4562\n",
      "NULL 3768\n",
      "amend PP 4606\n",
      "amend MN 4562\n",
      "amend NULL 8775\n",
      "grid search with L_train step_size_nominator 0.01 epochs 4 decay 0.95 reg_param 0.001 lf_propensity False\n",
      "2018-10-23 23:00:36.378414\n",
      "Compiles variable matrix\n",
      "no exception\n",
      "2018-10-23 23:00:36.373605\n",
      "PP 9613\n",
      "MN 4562\n",
      "NULL 3768\n",
      "amend PP 4606\n",
      "amend MN 4562\n",
      "amend NULL 8775\n",
      "grid search with L_train step_size_nominator 0.01 epochs 4 decay 0.95 reg_param 0.001 lf_propensity False\n",
      "2018-10-23 23:00:36.378414\n",
      "Compiles variable matrix\n",
      "_compile finished!\n",
      "_compile finished!\n",
      "Compiles variable matrix\n",
      "_compile finished!\n",
      "training finished \n",
      "2018-10-23 23:02:54.003578\n",
      "Finished training generative model, now checking performance against development set labels...\n",
      "Calculating marginals!\n",
      "Compiles variable matrix\n",
      "_compile finished!\n",
      "training finished \n",
      "2018-10-23 23:02:54.003578\n",
      "Finished training generative model, now checking performance against development set labels...\n",
      "Calculating marginals!\n",
      "no exception\n",
      "2018-10-23 23:02:57.988086\n",
      "PP 9872\n",
      "MN 4444\n",
      "NULL 3627\n",
      "amend PP 4865\n",
      "amend MN 4444\n",
      "amend NULL 8634\n",
      "grid search with L_train step_size_nominator 0.01 epochs 5 decay 0.95 reg_param 0.001 lf_propensity False\n",
      "2018-10-23 23:02:57.991347\n",
      "Compiles variable matrix\n",
      "no exception\n",
      "2018-10-23 23:02:57.988086\n",
      "PP 9872\n",
      "MN 4444\n",
      "NULL 3627\n",
      "amend PP 4865\n",
      "amend MN 4444\n",
      "amend NULL 8634\n",
      "grid search with L_train step_size_nominator 0.01 epochs 5 decay 0.95 reg_param 0.001 lf_propensity False\n",
      "2018-10-23 23:02:57.991347\n",
      "Compiles variable matrix\n",
      "_compile finished!\n",
      "_compile finished!\n",
      "Compiles variable matrix\n",
      "_compile finished!\n",
      "training finished \n",
      "2018-10-23 23:05:22.111758\n",
      "Finished training generative model, now checking performance against development set labels...\n",
      "Calculating marginals!\n",
      "Compiles variable matrix\n",
      "_compile finished!\n",
      "training finished \n",
      "2018-10-23 23:05:22.111758\n",
      "Finished training generative model, now checking performance against development set labels...\n",
      "Calculating marginals!\n",
      "no exception\n",
      "2018-10-23 23:05:26.124444\n",
      "PP 9830\n",
      "MN 4252\n",
      "NULL 3861\n",
      "amend PP 4823\n",
      "amend MN 4252\n",
      "amend NULL 8868\n",
      "grid search with L_train step_size_nominator 0.01 epochs 7 decay 0.95 reg_param 0.001 lf_propensity False\n",
      "2018-10-23 23:05:26.127938\n",
      "Compiles variable matrix\n",
      "no exception\n",
      "2018-10-23 23:05:26.124444\n",
      "PP 9830\n",
      "MN 4252\n",
      "NULL 3861\n",
      "amend PP 4823\n",
      "amend MN 4252\n",
      "amend NULL 8868\n",
      "grid search with L_train step_size_nominator 0.01 epochs 7 decay 0.95 reg_param 0.001 lf_propensity False\n",
      "2018-10-23 23:05:26.127938\n",
      "Compiles variable matrix\n",
      "_compile finished!\n",
      "_compile finished!\n",
      "Compiles variable matrix\n",
      "_compile finished!\n",
      "training finished \n",
      "2018-10-23 23:08:31.499327\n",
      "Finished training generative model, now checking performance against development set labels...\n",
      "Calculating marginals!\n",
      "Compiles variable matrix\n",
      "_compile finished!\n",
      "training finished \n",
      "2018-10-23 23:08:31.499327\n",
      "Finished training generative model, now checking performance against development set labels...\n",
      "Calculating marginals!\n",
      "no exception\n",
      "2018-10-23 23:08:36.401419\n",
      "PP 9561\n",
      "MN 4506\n",
      "NULL 3876\n",
      "amend PP 4554\n",
      "amend MN 4506\n",
      "amend NULL 8883\n",
      "grid search with L_train step_size_nominator 0.001 epochs 2 decay 0.95 reg_param 0.001 lf_propensity False\n",
      "2018-10-23 23:08:36.405068\n",
      "Compiles variable matrix\n",
      "no exception\n",
      "2018-10-23 23:08:36.401419\n",
      "PP 9561\n",
      "MN 4506\n",
      "NULL 3876\n",
      "amend PP 4554\n",
      "amend MN 4506\n",
      "amend NULL 8883\n",
      "grid search with L_train step_size_nominator 0.001 epochs 2 decay 0.95 reg_param 0.001 lf_propensity False\n",
      "2018-10-23 23:08:36.405068\n",
      "Compiles variable matrix\n",
      "_compile finished!\n",
      "_compile finished!\n",
      "Compiles variable matrix\n",
      "_compile finished!\n",
      "training finished \n",
      "2018-10-23 23:10:51.796265\n",
      "Finished training generative model, now checking performance against development set labels...\n",
      "Calculating marginals!\n",
      "Compiles variable matrix\n",
      "_compile finished!\n",
      "training finished \n",
      "2018-10-23 23:10:51.796265\n",
      "Finished training generative model, now checking performance against development set labels...\n",
      "Calculating marginals!\n",
      "no exception\n",
      "2018-10-23 23:10:58.909910\n",
      "PP 9793\n",
      "MN 4386\n",
      "NULL 3764\n",
      "amend PP 4786\n",
      "amend MN 4386\n",
      "amend NULL 8771\n",
      "grid search with L_train step_size_nominator 0.001 epochs 3 decay 0.95 reg_param 0.001 lf_propensity False\n",
      "2018-10-23 23:10:58.917159\n",
      "Compiles variable matrix\n",
      "no exception\n",
      "2018-10-23 23:10:58.909910\n",
      "PP 9793\n",
      "MN 4386\n",
      "NULL 3764\n",
      "amend PP 4786\n",
      "amend MN 4386\n",
      "amend NULL 8771\n",
      "grid search with L_train step_size_nominator 0.001 epochs 3 decay 0.95 reg_param 0.001 lf_propensity False\n",
      "2018-10-23 23:10:58.917159\n",
      "Compiles variable matrix\n",
      "_compile finished!\n",
      "_compile finished!\n",
      "Compiles variable matrix\n",
      "_compile finished!\n",
      "training finished \n",
      "2018-10-23 23:13:30.454684\n",
      "Finished training generative model, now checking performance against development set labels...\n",
      "Calculating marginals!\n",
      "Compiles variable matrix\n",
      "_compile finished!\n",
      "training finished \n",
      "2018-10-23 23:13:30.454684\n",
      "Finished training generative model, now checking performance against development set labels...\n",
      "Calculating marginals!\n",
      "no exception\n",
      "2018-10-23 23:13:35.272526\n",
      "PP 9954\n",
      "MN 4288\n",
      "NULL 3701\n",
      "amend PP 4947\n",
      "amend MN 4288\n",
      "amend NULL 8708\n",
      "grid search with L_train step_size_nominator 0.001 epochs 4 decay 0.95 reg_param 0.001 lf_propensity False\n",
      "2018-10-23 23:13:35.277583\n",
      "Compiles variable matrix\n",
      "no exception\n",
      "2018-10-23 23:13:35.272526\n",
      "PP 9954\n",
      "MN 4288\n",
      "NULL 3701\n",
      "amend PP 4947\n",
      "amend MN 4288\n",
      "amend NULL 8708\n",
      "grid search with L_train step_size_nominator 0.001 epochs 4 decay 0.95 reg_param 0.001 lf_propensity False\n",
      "2018-10-23 23:13:35.277583\n",
      "Compiles variable matrix\n",
      "_compile finished!\n",
      "_compile finished!\n",
      "Compiles variable matrix\n",
      "_compile finished!\n",
      "training finished \n",
      "2018-10-23 23:16:16.519767\n",
      "Finished training generative model, now checking performance against development set labels...\n",
      "Calculating marginals!\n",
      "Compiles variable matrix\n",
      "_compile finished!\n",
      "training finished \n",
      "2018-10-23 23:16:16.519767\n",
      "Finished training generative model, now checking performance against development set labels...\n",
      "Calculating marginals!\n",
      "no exception\n",
      "2018-10-23 23:16:20.759833\n",
      "PP 9963\n",
      "MN 4344\n",
      "NULL 3636\n",
      "amend PP 4956\n",
      "amend MN 4344\n",
      "amend NULL 8643\n",
      "grid search with L_train step_size_nominator 0.001 epochs 5 decay 0.95 reg_param 0.001 lf_propensity False\n",
      "2018-10-23 23:16:20.763352\n",
      "Compiles variable matrix\n",
      "no exception\n",
      "2018-10-23 23:16:20.759833\n",
      "PP 9963\n",
      "MN 4344\n",
      "NULL 3636\n",
      "amend PP 4956\n",
      "amend MN 4344\n",
      "amend NULL 8643\n",
      "grid search with L_train step_size_nominator 0.001 epochs 5 decay 0.95 reg_param 0.001 lf_propensity False\n",
      "2018-10-23 23:16:20.763352\n",
      "Compiles variable matrix\n"
     ]
    },
    {
     "name": "stdout",
     "output_type": "stream",
     "text": [
      "_compile finished!\n",
      "_compile finished!\n",
      "Compiles variable matrix\n",
      "_compile finished!\n",
      "training finished \n",
      "2018-10-23 23:19:01.055080\n",
      "Finished training generative model, now checking performance against development set labels...\n",
      "Calculating marginals!\n",
      "Compiles variable matrix\n",
      "_compile finished!\n",
      "training finished \n",
      "2018-10-23 23:19:01.055080\n",
      "Finished training generative model, now checking performance against development set labels...\n",
      "Calculating marginals!\n",
      "no exception\n",
      "2018-10-23 23:19:06.121070\n",
      "PP 9922\n",
      "MN 4340\n",
      "NULL 3681\n",
      "amend PP 4915\n",
      "amend MN 4340\n",
      "amend NULL 8688\n",
      "grid search with L_train step_size_nominator 0.001 epochs 7 decay 0.95 reg_param 0.001 lf_propensity False\n",
      "2018-10-23 23:19:06.126526\n",
      "Compiles variable matrix\n",
      "no exception\n",
      "2018-10-23 23:19:06.121070\n",
      "PP 9922\n",
      "MN 4340\n",
      "NULL 3681\n",
      "amend PP 4915\n",
      "amend MN 4340\n",
      "amend NULL 8688\n",
      "grid search with L_train step_size_nominator 0.001 epochs 7 decay 0.95 reg_param 0.001 lf_propensity False\n",
      "2018-10-23 23:19:06.126526\n",
      "Compiles variable matrix\n",
      "_compile finished!\n",
      "_compile finished!\n",
      "Compiles variable matrix\n",
      "_compile finished!\n",
      "training finished \n",
      "2018-10-23 23:22:01.819439\n",
      "Finished training generative model, now checking performance against development set labels...\n",
      "Calculating marginals!\n",
      "Compiles variable matrix\n",
      "_compile finished!\n",
      "training finished \n",
      "2018-10-23 23:22:01.819439\n",
      "Finished training generative model, now checking performance against development set labels...\n",
      "Calculating marginals!\n",
      "no exception\n",
      "2018-10-23 23:22:06.705597\n",
      "PP 9890\n",
      "MN 4319\n",
      "NULL 3734\n",
      "amend PP 4883\n",
      "amend MN 4319\n",
      "amend NULL 8741\n",
      "no exception\n",
      "2018-10-23 23:22:06.705597\n",
      "PP 9890\n",
      "MN 4319\n",
      "NULL 3734\n",
      "amend PP 4883\n",
      "amend MN 4319\n",
      "amend NULL 8741\n"
     ]
    }
   ],
   "source": [
    "for reg_param in [1e-3]:#,1e-6]: #[1e-3, 1e-6]:\n",
    "    for decay in [0.95]: #[1.0,0.95]:\n",
    "        for step_size_nominator in [0.01,0.001]: # [0.01, 0.1, 1]:\n",
    "            for epochs in [2,3,4,5,7]:#,30,50,100,200,500]:\n",
    "                for lf_propensity in [False]:\n",
    "                    \n",
    "                    print(\"grid search with L_train\",\"step_size_nominator\",step_size_nominator,\"epochs\",epochs,\"decay\",decay,\"reg_param\",reg_param,\"lf_propensity\",lf_propensity)\n",
    "                    gen_model,train_marginals=get_train_marginals(L_train,threads=18,lf_propensity=lf_propensity,step_size_nominator=step_size_nominator,epochs=epochs,decay=decay,reg_param=reg_param)\n",
    "                    assert np.all(train_marginals.sum(axis=1) - np.ones(train_marginals.shape[0]) < 1e-10)\n",
    "\n",
    "                    winHighlight=train_marginals.argmax(axis=1)\n",
    "                    print(\"PP\",(winHighlight==0).sum())\n",
    "                    print(\"MN\",(winHighlight==1).sum())\n",
    "                    print(\"NULL\",(winHighlight==2).sum())\n",
    "\n",
    "                    # Amendment!!! winning highligh with default as NULL (the last occurence of largest value)\n",
    "                    train_marginals_reverse = train_marginals[:,::-1]\n",
    "                    winHighlight = train_marginals.shape[1] - np.argmax(train_marginals_reverse,axis=1) - 1\n",
    "                    print(\"amend PP\",(winHighlight==0).sum())\n",
    "                    print(\"amend MN\",(winHighlight==1).sum())\n",
    "                    print(\"amend NULL\",(winHighlight==2).sum())\n"
   ]
  },
  {
   "cell_type": "markdown",
   "metadata": {},
   "source": [
    "### C. Learning the Generative Model"
   ]
  },
  {
   "cell_type": "code",
   "execution_count": 12,
   "metadata": {},
   "outputs": [
    {
     "name": "stdout",
     "output_type": "stream",
     "text": [
      "train starts here 2018-10-24 09:41:23.141895\n",
      "2018-10-24 09:41:23.144007\n",
      "Compiles variable matrix\n",
      "_compile finished!\n",
      "Compiles variable matrix\n",
      "_compile finished!\n",
      "training finished \n",
      "2018-10-24 09:43:07.835700\n",
      "Finished training generative model, now checking performance against development set labels...\n",
      "Calculating marginals!\n",
      "no exception\n",
      "2018-10-24 09:43:13.171995\n",
      "PP 11454\n",
      "MN 1431\n",
      "NULL 5058\n",
      "amend PP 891\n",
      "amend MN 1431\n",
      "amend NULL 15621\n"
     ]
    }
   ],
   "source": [
    "reg_param=1e-3\n",
    "decay=0.95\n",
    "step_size_nominator=0.01\n",
    "epochs=5\n",
    "lf_propensity=False\n",
    "                        \n",
    "print(\"train starts here\", datetime.datetime.now())\n",
    "gen_model,train_marginals=get_train_marginals(L_train,threads=18,step_size_nominator=step_size_nominator,lf_propensity=lf_propensity,epochs=epochs,decay=decay,reg_param=reg_param)\n",
    "assert np.all(train_marginals.sum(axis=1) - np.ones(train_marginals.shape[0]) < 1e-10)\n",
    "\n",
    "winHighlight=train_marginals.argmax(axis=1)\n",
    "print(\"PP\",(winHighlight==0).sum())\n",
    "print(\"MN\",(winHighlight==1).sum())\n",
    "print(\"NULL\",(winHighlight==2).sum())\n",
    "\n",
    "# Amendment!!! winning highligh with default as NULL (the last occurence of largest value)\n",
    "train_marginals_reverse = train_marginals[:,::-1]\n",
    "winHighlight = train_marginals.shape[1] - np.argmax(train_marginals_reverse,axis=1) - 1\n",
    "print(\"amend PP\",(winHighlight==0).sum())\n",
    "print(\"amend MN\",(winHighlight==1).sum())\n",
    "print(\"amend NULL\",(winHighlight==2).sum())"
   ]
  },
  {
   "cell_type": "markdown",
   "metadata": {},
   "source": [
    "### D. Visualize generative labels on this train set, then on the dev set"
   ]
  },
  {
   "cell_type": "code",
   "execution_count": 13,
   "metadata": {},
   "outputs": [
    {
     "name": "stdout",
     "output_type": "stream",
     "text": [
      "0\n",
      "10000\n",
      "dispatch finished!! \n"
     ]
    },
    {
     "name": "stderr",
     "output_type": "stream",
     "text": [
      "/anaconda3/lib/python3.6/site-packages/matplotlib/pyplot.py:537: RuntimeWarning: More than 20 figures have been opened. Figures created through the pyplot interface (`matplotlib.pyplot.figure`) are retained until explicitly closed and may consume too much memory. (To control this warning, see the rcParam `figure.max_open_warning`).\n",
      "  max_open_warning, RuntimeWarning)\n"
     ]
    },
    {
     "name": "stdout",
     "output_type": "stream",
     "text": [
      "0\n",
      "10000\n",
      "dispatch finished!! \n",
      "0\n",
      "10000\n",
      "dispatch finished!! \n",
      "0\n",
      "10000\n",
      "dispatch finished!! \n",
      "0\n",
      "10000\n",
      "dispatch finished!! \n",
      "0\n",
      "10000\n",
      "dispatch finished!! \n"
     ]
    },
    {
     "data": {
      "text/plain": [
       "<Figure size 432x288 with 0 Axes>"
      ]
     },
     "metadata": {},
     "output_type": "display_data"
    },
    {
     "data": {
      "text/plain": [
       "<Figure size 2880x504 with 0 Axes>"
      ]
     },
     "metadata": {},
     "output_type": "display_data"
    },
    {
     "data": {
      "text/plain": [
       "<Figure size 2880x504 with 0 Axes>"
      ]
     },
     "metadata": {},
     "output_type": "display_data"
    },
    {
     "data": {
      "text/plain": [
       "<Figure size 2880x504 with 0 Axes>"
      ]
     },
     "metadata": {},
     "output_type": "display_data"
    },
    {
     "data": {
      "text/plain": [
       "<Figure size 2880x504 with 0 Axes>"
      ]
     },
     "metadata": {},
     "output_type": "display_data"
    },
    {
     "data": {
      "text/plain": [
       "<Figure size 2880x504 with 0 Axes>"
      ]
     },
     "metadata": {},
     "output_type": "display_data"
    },
    {
     "data": {
      "text/plain": [
       "<Figure size 2880x504 with 0 Axes>"
      ]
     },
     "metadata": {},
     "output_type": "display_data"
    },
    {
     "data": {
      "text/plain": [
       "<Figure size 2880x504 with 0 Axes>"
      ]
     },
     "metadata": {},
     "output_type": "display_data"
    },
    {
     "data": {
      "text/plain": [
       "<Figure size 2880x504 with 0 Axes>"
      ]
     },
     "metadata": {},
     "output_type": "display_data"
    },
    {
     "data": {
      "text/plain": [
       "<Figure size 2880x504 with 0 Axes>"
      ]
     },
     "metadata": {},
     "output_type": "display_data"
    },
    {
     "data": {
      "text/plain": [
       "<Figure size 2880x504 with 0 Axes>"
      ]
     },
     "metadata": {},
     "output_type": "display_data"
    },
    {
     "data": {
      "text/plain": [
       "<Figure size 2880x504 with 0 Axes>"
      ]
     },
     "metadata": {},
     "output_type": "display_data"
    },
    {
     "data": {
      "text/plain": [
       "<Figure size 2880x504 with 0 Axes>"
      ]
     },
     "metadata": {},
     "output_type": "display_data"
    },
    {
     "data": {
      "text/plain": [
       "<Figure size 2880x504 with 0 Axes>"
      ]
     },
     "metadata": {},
     "output_type": "display_data"
    },
    {
     "data": {
      "text/plain": [
       "<Figure size 2880x504 with 0 Axes>"
      ]
     },
     "metadata": {},
     "output_type": "display_data"
    },
    {
     "data": {
      "text/plain": [
       "<Figure size 2880x504 with 0 Axes>"
      ]
     },
     "metadata": {},
     "output_type": "display_data"
    },
    {
     "data": {
      "text/plain": [
       "<Figure size 2880x504 with 0 Axes>"
      ]
     },
     "metadata": {},
     "output_type": "display_data"
    },
    {
     "data": {
      "text/plain": [
       "<Figure size 2880x504 with 0 Axes>"
      ]
     },
     "metadata": {},
     "output_type": "display_data"
    },
    {
     "data": {
      "text/plain": [
       "<Figure size 2880x504 with 0 Axes>"
      ]
     },
     "metadata": {},
     "output_type": "display_data"
    },
    {
     "data": {
      "text/plain": [
       "<Figure size 2880x504 with 0 Axes>"
      ]
     },
     "metadata": {},
     "output_type": "display_data"
    },
    {
     "data": {
      "text/plain": [
       "<Figure size 2880x504 with 0 Axes>"
      ]
     },
     "metadata": {},
     "output_type": "display_data"
    },
    {
     "data": {
      "text/plain": [
       "<Figure size 2880x504 with 0 Axes>"
      ]
     },
     "metadata": {},
     "output_type": "display_data"
    },
    {
     "data": {
      "text/plain": [
       "<Figure size 2880x504 with 0 Axes>"
      ]
     },
     "metadata": {},
     "output_type": "display_data"
    },
    {
     "data": {
      "text/plain": [
       "<Figure size 2880x504 with 0 Axes>"
      ]
     },
     "metadata": {},
     "output_type": "display_data"
    },
    {
     "data": {
      "text/plain": [
       "<Figure size 2880x504 with 0 Axes>"
      ]
     },
     "metadata": {},
     "output_type": "display_data"
    },
    {
     "data": {
      "text/plain": [
       "<Figure size 2880x504 with 0 Axes>"
      ]
     },
     "metadata": {},
     "output_type": "display_data"
    },
    {
     "data": {
      "text/plain": [
       "<Figure size 2880x504 with 0 Axes>"
      ]
     },
     "metadata": {},
     "output_type": "display_data"
    },
    {
     "data": {
      "text/plain": [
       "<Figure size 2880x504 with 0 Axes>"
      ]
     },
     "metadata": {},
     "output_type": "display_data"
    },
    {
     "data": {
      "text/plain": [
       "<Figure size 2880x504 with 0 Axes>"
      ]
     },
     "metadata": {},
     "output_type": "display_data"
    },
    {
     "data": {
      "text/plain": [
       "<Figure size 2880x504 with 0 Axes>"
      ]
     },
     "metadata": {},
     "output_type": "display_data"
    },
    {
     "data": {
      "text/plain": [
       "<Figure size 2880x504 with 0 Axes>"
      ]
     },
     "metadata": {},
     "output_type": "display_data"
    },
    {
     "data": {
      "text/plain": [
       "<Figure size 2880x504 with 0 Axes>"
      ]
     },
     "metadata": {},
     "output_type": "display_data"
    },
    {
     "data": {
      "text/plain": [
       "<Figure size 2880x504 with 0 Axes>"
      ]
     },
     "metadata": {},
     "output_type": "display_data"
    },
    {
     "data": {
      "text/plain": [
       "<Figure size 2880x504 with 0 Axes>"
      ]
     },
     "metadata": {},
     "output_type": "display_data"
    },
    {
     "data": {
      "text/plain": [
       "<Figure size 2880x504 with 0 Axes>"
      ]
     },
     "metadata": {},
     "output_type": "display_data"
    },
    {
     "data": {
      "text/plain": [
       "<Figure size 2880x504 with 0 Axes>"
      ]
     },
     "metadata": {},
     "output_type": "display_data"
    },
    {
     "data": {
      "text/plain": [
       "<Figure size 2880x504 with 0 Axes>"
      ]
     },
     "metadata": {},
     "output_type": "display_data"
    },
    {
     "data": {
      "text/plain": [
       "<Figure size 2880x504 with 0 Axes>"
      ]
     },
     "metadata": {},
     "output_type": "display_data"
    },
    {
     "data": {
      "text/plain": [
       "<Figure size 2880x504 with 0 Axes>"
      ]
     },
     "metadata": {},
     "output_type": "display_data"
    },
    {
     "data": {
      "text/plain": [
       "<Figure size 2880x504 with 0 Axes>"
      ]
     },
     "metadata": {},
     "output_type": "display_data"
    },
    {
     "data": {
      "text/plain": [
       "<Figure size 2880x504 with 0 Axes>"
      ]
     },
     "metadata": {},
     "output_type": "display_data"
    },
    {
     "data": {
      "text/plain": [
       "<Figure size 2880x504 with 0 Axes>"
      ]
     },
     "metadata": {},
     "output_type": "display_data"
    },
    {
     "data": {
      "text/plain": [
       "<Figure size 2880x504 with 0 Axes>"
      ]
     },
     "metadata": {},
     "output_type": "display_data"
    },
    {
     "data": {
      "text/plain": [
       "<Figure size 2880x504 with 0 Axes>"
      ]
     },
     "metadata": {},
     "output_type": "display_data"
    },
    {
     "data": {
      "text/plain": [
       "<Figure size 2880x504 with 0 Axes>"
      ]
     },
     "metadata": {},
     "output_type": "display_data"
    },
    {
     "data": {
      "text/plain": [
       "<Figure size 2880x504 with 0 Axes>"
      ]
     },
     "metadata": {},
     "output_type": "display_data"
    },
    {
     "data": {
      "text/plain": [
       "<Figure size 2880x504 with 0 Axes>"
      ]
     },
     "metadata": {},
     "output_type": "display_data"
    },
    {
     "data": {
      "text/plain": [
       "<Figure size 2880x504 with 0 Axes>"
      ]
     },
     "metadata": {},
     "output_type": "display_data"
    },
    {
     "data": {
      "text/plain": [
       "<Figure size 2880x504 with 0 Axes>"
      ]
     },
     "metadata": {},
     "output_type": "display_data"
    },
    {
     "data": {
      "text/plain": [
       "<Figure size 2880x504 with 0 Axes>"
      ]
     },
     "metadata": {},
     "output_type": "display_data"
    },
    {
     "data": {
      "text/plain": [
       "<Figure size 2880x504 with 0 Axes>"
      ]
     },
     "metadata": {},
     "output_type": "display_data"
    },
    {
     "data": {
      "text/plain": [
       "<Figure size 2880x504 with 0 Axes>"
      ]
     },
     "metadata": {},
     "output_type": "display_data"
    },
    {
     "data": {
      "text/plain": [
       "<Figure size 2880x504 with 0 Axes>"
      ]
     },
     "metadata": {},
     "output_type": "display_data"
    },
    {
     "data": {
      "text/plain": [
       "<Figure size 2880x504 with 0 Axes>"
      ]
     },
     "metadata": {},
     "output_type": "display_data"
    },
    {
     "data": {
      "text/plain": [
       "<Figure size 2880x504 with 0 Axes>"
      ]
     },
     "metadata": {},
     "output_type": "display_data"
    },
    {
     "data": {
      "text/plain": [
       "<Figure size 2880x504 with 0 Axes>"
      ]
     },
     "metadata": {},
     "output_type": "display_data"
    },
    {
     "data": {
      "text/plain": [
       "<Figure size 2880x504 with 0 Axes>"
      ]
     },
     "metadata": {},
     "output_type": "display_data"
    },
    {
     "data": {
      "text/plain": [
       "<Figure size 2880x504 with 0 Axes>"
      ]
     },
     "metadata": {},
     "output_type": "display_data"
    },
    {
     "data": {
      "text/plain": [
       "<Figure size 2880x504 with 0 Axes>"
      ]
     },
     "metadata": {},
     "output_type": "display_data"
    },
    {
     "data": {
      "text/plain": [
       "<Figure size 2880x504 with 0 Axes>"
      ]
     },
     "metadata": {},
     "output_type": "display_data"
    },
    {
     "data": {
      "text/plain": [
       "<Figure size 2880x504 with 0 Axes>"
      ]
     },
     "metadata": {},
     "output_type": "display_data"
    },
    {
     "data": {
      "text/plain": [
       "<Figure size 2880x504 with 0 Axes>"
      ]
     },
     "metadata": {},
     "output_type": "display_data"
    },
    {
     "data": {
      "text/plain": [
       "<Figure size 2880x504 with 0 Axes>"
      ]
     },
     "metadata": {},
     "output_type": "display_data"
    },
    {
     "data": {
      "text/plain": [
       "<Figure size 2880x504 with 0 Axes>"
      ]
     },
     "metadata": {},
     "output_type": "display_data"
    },
    {
     "data": {
      "text/plain": [
       "<Figure size 2880x504 with 0 Axes>"
      ]
     },
     "metadata": {},
     "output_type": "display_data"
    },
    {
     "data": {
      "text/plain": [
       "<Figure size 2880x504 with 0 Axes>"
      ]
     },
     "metadata": {},
     "output_type": "display_data"
    },
    {
     "data": {
      "text/plain": [
       "<Figure size 2880x504 with 0 Axes>"
      ]
     },
     "metadata": {},
     "output_type": "display_data"
    },
    {
     "data": {
      "text/plain": [
       "<Figure size 2880x504 with 0 Axes>"
      ]
     },
     "metadata": {},
     "output_type": "display_data"
    },
    {
     "data": {
      "text/plain": [
       "<Figure size 2880x504 with 0 Axes>"
      ]
     },
     "metadata": {},
     "output_type": "display_data"
    },
    {
     "data": {
      "text/plain": [
       "<Figure size 2880x504 with 0 Axes>"
      ]
     },
     "metadata": {},
     "output_type": "display_data"
    },
    {
     "data": {
      "text/plain": [
       "<Figure size 2880x504 with 0 Axes>"
      ]
     },
     "metadata": {},
     "output_type": "display_data"
    },
    {
     "data": {
      "text/plain": [
       "<Figure size 2880x504 with 0 Axes>"
      ]
     },
     "metadata": {},
     "output_type": "display_data"
    },
    {
     "data": {
      "text/plain": [
       "<Figure size 2880x504 with 0 Axes>"
      ]
     },
     "metadata": {},
     "output_type": "display_data"
    },
    {
     "data": {
      "text/plain": [
       "<Figure size 2880x504 with 0 Axes>"
      ]
     },
     "metadata": {},
     "output_type": "display_data"
    },
    {
     "data": {
      "text/plain": [
       "<Figure size 2880x504 with 0 Axes>"
      ]
     },
     "metadata": {},
     "output_type": "display_data"
    },
    {
     "data": {
      "text/plain": [
       "<Figure size 2880x504 with 0 Axes>"
      ]
     },
     "metadata": {},
     "output_type": "display_data"
    },
    {
     "data": {
      "text/plain": [
       "<Figure size 2880x504 with 0 Axes>"
      ]
     },
     "metadata": {},
     "output_type": "display_data"
    },
    {
     "data": {
      "text/plain": [
       "<Figure size 2880x504 with 0 Axes>"
      ]
     },
     "metadata": {},
     "output_type": "display_data"
    },
    {
     "data": {
      "text/plain": [
       "<Figure size 2880x504 with 0 Axes>"
      ]
     },
     "metadata": {},
     "output_type": "display_data"
    },
    {
     "data": {
      "text/plain": [
       "<Figure size 2880x504 with 0 Axes>"
      ]
     },
     "metadata": {},
     "output_type": "display_data"
    },
    {
     "data": {
      "text/plain": [
       "<Figure size 2880x504 with 0 Axes>"
      ]
     },
     "metadata": {},
     "output_type": "display_data"
    },
    {
     "data": {
      "text/plain": [
       "<Figure size 2880x504 with 0 Axes>"
      ]
     },
     "metadata": {},
     "output_type": "display_data"
    },
    {
     "data": {
      "text/plain": [
       "<Figure size 2880x504 with 0 Axes>"
      ]
     },
     "metadata": {},
     "output_type": "display_data"
    },
    {
     "data": {
      "text/plain": [
       "<Figure size 2880x504 with 0 Axes>"
      ]
     },
     "metadata": {},
     "output_type": "display_data"
    },
    {
     "data": {
      "text/plain": [
       "<Figure size 2880x504 with 0 Axes>"
      ]
     },
     "metadata": {},
     "output_type": "display_data"
    },
    {
     "data": {
      "text/plain": [
       "<Figure size 2880x504 with 0 Axes>"
      ]
     },
     "metadata": {},
     "output_type": "display_data"
    },
    {
     "data": {
      "text/plain": [
       "<Figure size 2880x504 with 0 Axes>"
      ]
     },
     "metadata": {},
     "output_type": "display_data"
    },
    {
     "data": {
      "text/plain": [
       "<Figure size 2880x504 with 0 Axes>"
      ]
     },
     "metadata": {},
     "output_type": "display_data"
    },
    {
     "data": {
      "text/plain": [
       "<Figure size 2880x504 with 0 Axes>"
      ]
     },
     "metadata": {},
     "output_type": "display_data"
    },
    {
     "data": {
      "text/plain": [
       "<Figure size 2880x504 with 0 Axes>"
      ]
     },
     "metadata": {},
     "output_type": "display_data"
    },
    {
     "data": {
      "text/plain": [
       "<Figure size 2880x504 with 0 Axes>"
      ]
     },
     "metadata": {},
     "output_type": "display_data"
    },
    {
     "data": {
      "text/plain": [
       "<Figure size 2880x504 with 0 Axes>"
      ]
     },
     "metadata": {},
     "output_type": "display_data"
    },
    {
     "data": {
      "text/plain": [
       "<Figure size 2880x504 with 0 Axes>"
      ]
     },
     "metadata": {},
     "output_type": "display_data"
    },
    {
     "data": {
      "text/plain": [
       "<Figure size 2880x504 with 0 Axes>"
      ]
     },
     "metadata": {},
     "output_type": "display_data"
    },
    {
     "data": {
      "text/plain": [
       "<Figure size 2880x504 with 0 Axes>"
      ]
     },
     "metadata": {},
     "output_type": "display_data"
    },
    {
     "data": {
      "text/plain": [
       "<Figure size 2880x504 with 0 Axes>"
      ]
     },
     "metadata": {},
     "output_type": "display_data"
    },
    {
     "data": {
      "text/plain": [
       "<Figure size 2880x504 with 0 Axes>"
      ]
     },
     "metadata": {},
     "output_type": "display_data"
    },
    {
     "data": {
      "text/plain": [
       "<Figure size 2880x504 with 0 Axes>"
      ]
     },
     "metadata": {},
     "output_type": "display_data"
    },
    {
     "data": {
      "text/plain": [
       "<Figure size 2880x504 with 0 Axes>"
      ]
     },
     "metadata": {},
     "output_type": "display_data"
    },
    {
     "data": {
      "text/plain": [
       "<Figure size 2880x504 with 0 Axes>"
      ]
     },
     "metadata": {},
     "output_type": "display_data"
    },
    {
     "data": {
      "text/plain": [
       "<Figure size 2880x504 with 0 Axes>"
      ]
     },
     "metadata": {},
     "output_type": "display_data"
    },
    {
     "data": {
      "text/plain": [
       "<Figure size 2880x504 with 0 Axes>"
      ]
     },
     "metadata": {},
     "output_type": "display_data"
    },
    {
     "data": {
      "text/plain": [
       "<Figure size 2880x504 with 0 Axes>"
      ]
     },
     "metadata": {},
     "output_type": "display_data"
    },
    {
     "data": {
      "text/plain": [
       "<Figure size 2880x504 with 0 Axes>"
      ]
     },
     "metadata": {},
     "output_type": "display_data"
    },
    {
     "data": {
      "text/plain": [
       "<Figure size 2880x504 with 0 Axes>"
      ]
     },
     "metadata": {},
     "output_type": "display_data"
    },
    {
     "data": {
      "text/plain": [
       "<Figure size 2880x504 with 0 Axes>"
      ]
     },
     "metadata": {},
     "output_type": "display_data"
    },
    {
     "data": {
      "text/plain": [
       "<Figure size 2880x504 with 0 Axes>"
      ]
     },
     "metadata": {},
     "output_type": "display_data"
    },
    {
     "data": {
      "text/plain": [
       "<Figure size 2880x504 with 0 Axes>"
      ]
     },
     "metadata": {},
     "output_type": "display_data"
    },
    {
     "data": {
      "text/plain": [
       "<Figure size 2880x504 with 0 Axes>"
      ]
     },
     "metadata": {},
     "output_type": "display_data"
    },
    {
     "data": {
      "text/plain": [
       "<Figure size 2880x504 with 0 Axes>"
      ]
     },
     "metadata": {},
     "output_type": "display_data"
    },
    {
     "data": {
      "text/plain": [
       "<Figure size 2880x504 with 0 Axes>"
      ]
     },
     "metadata": {},
     "output_type": "display_data"
    },
    {
     "data": {
      "text/plain": [
       "<Figure size 2880x504 with 0 Axes>"
      ]
     },
     "metadata": {},
     "output_type": "display_data"
    },
    {
     "data": {
      "text/plain": [
       "<Figure size 2880x504 with 0 Axes>"
      ]
     },
     "metadata": {},
     "output_type": "display_data"
    },
    {
     "data": {
      "text/plain": [
       "<Figure size 2880x504 with 0 Axes>"
      ]
     },
     "metadata": {},
     "output_type": "display_data"
    },
    {
     "data": {
      "text/plain": [
       "<Figure size 2880x504 with 0 Axes>"
      ]
     },
     "metadata": {},
     "output_type": "display_data"
    },
    {
     "data": {
      "text/plain": [
       "<Figure size 2880x504 with 0 Axes>"
      ]
     },
     "metadata": {},
     "output_type": "display_data"
    },
    {
     "data": {
      "text/plain": [
       "<Figure size 2880x504 with 0 Axes>"
      ]
     },
     "metadata": {},
     "output_type": "display_data"
    },
    {
     "data": {
      "text/plain": [
       "<Figure size 2880x504 with 0 Axes>"
      ]
     },
     "metadata": {},
     "output_type": "display_data"
    },
    {
     "data": {
      "text/plain": [
       "<Figure size 2880x504 with 0 Axes>"
      ]
     },
     "metadata": {},
     "output_type": "display_data"
    },
    {
     "data": {
      "text/plain": [
       "<Figure size 2880x504 with 0 Axes>"
      ]
     },
     "metadata": {},
     "output_type": "display_data"
    },
    {
     "data": {
      "text/plain": [
       "<Figure size 2880x504 with 0 Axes>"
      ]
     },
     "metadata": {},
     "output_type": "display_data"
    },
    {
     "data": {
      "text/plain": [
       "<Figure size 2880x504 with 0 Axes>"
      ]
     },
     "metadata": {},
     "output_type": "display_data"
    },
    {
     "data": {
      "text/plain": [
       "<Figure size 2880x504 with 0 Axes>"
      ]
     },
     "metadata": {},
     "output_type": "display_data"
    },
    {
     "data": {
      "text/plain": [
       "<Figure size 2880x504 with 0 Axes>"
      ]
     },
     "metadata": {},
     "output_type": "display_data"
    },
    {
     "data": {
      "text/plain": [
       "<Figure size 2880x504 with 0 Axes>"
      ]
     },
     "metadata": {},
     "output_type": "display_data"
    },
    {
     "data": {
      "text/plain": [
       "<Figure size 2880x504 with 0 Axes>"
      ]
     },
     "metadata": {},
     "output_type": "display_data"
    },
    {
     "data": {
      "text/plain": [
       "<Figure size 2880x504 with 0 Axes>"
      ]
     },
     "metadata": {},
     "output_type": "display_data"
    },
    {
     "data": {
      "text/plain": [
       "<Figure size 2880x504 with 0 Axes>"
      ]
     },
     "metadata": {},
     "output_type": "display_data"
    },
    {
     "data": {
      "text/plain": [
       "<Figure size 2880x504 with 0 Axes>"
      ]
     },
     "metadata": {},
     "output_type": "display_data"
    },
    {
     "data": {
      "text/plain": [
       "<Figure size 2880x504 with 0 Axes>"
      ]
     },
     "metadata": {},
     "output_type": "display_data"
    },
    {
     "data": {
      "text/plain": [
       "<Figure size 2880x504 with 0 Axes>"
      ]
     },
     "metadata": {},
     "output_type": "display_data"
    },
    {
     "data": {
      "text/plain": [
       "<Figure size 2880x504 with 0 Axes>"
      ]
     },
     "metadata": {},
     "output_type": "display_data"
    },
    {
     "data": {
      "text/plain": [
       "<Figure size 2880x504 with 0 Axes>"
      ]
     },
     "metadata": {},
     "output_type": "display_data"
    },
    {
     "data": {
      "text/plain": [
       "<Figure size 2880x504 with 0 Axes>"
      ]
     },
     "metadata": {},
     "output_type": "display_data"
    },
    {
     "data": {
      "text/plain": [
       "<Figure size 2880x504 with 0 Axes>"
      ]
     },
     "metadata": {},
     "output_type": "display_data"
    },
    {
     "data": {
      "text/plain": [
       "<Figure size 2880x504 with 0 Axes>"
      ]
     },
     "metadata": {},
     "output_type": "display_data"
    },
    {
     "data": {
      "text/plain": [
       "<Figure size 2880x504 with 0 Axes>"
      ]
     },
     "metadata": {},
     "output_type": "display_data"
    },
    {
     "data": {
      "text/plain": [
       "<Figure size 2880x504 with 0 Axes>"
      ]
     },
     "metadata": {},
     "output_type": "display_data"
    },
    {
     "data": {
      "text/plain": [
       "<Figure size 2880x504 with 0 Axes>"
      ]
     },
     "metadata": {},
     "output_type": "display_data"
    },
    {
     "data": {
      "text/plain": [
       "<Figure size 2880x504 with 0 Axes>"
      ]
     },
     "metadata": {},
     "output_type": "display_data"
    },
    {
     "data": {
      "text/plain": [
       "<Figure size 2880x504 with 0 Axes>"
      ]
     },
     "metadata": {},
     "output_type": "display_data"
    },
    {
     "data": {
      "text/plain": [
       "<Figure size 2880x504 with 0 Axes>"
      ]
     },
     "metadata": {},
     "output_type": "display_data"
    },
    {
     "data": {
      "text/plain": [
       "<Figure size 2880x504 with 0 Axes>"
      ]
     },
     "metadata": {},
     "output_type": "display_data"
    },
    {
     "data": {
      "text/plain": [
       "<Figure size 2880x504 with 0 Axes>"
      ]
     },
     "metadata": {},
     "output_type": "display_data"
    },
    {
     "data": {
      "text/plain": [
       "<Figure size 2880x504 with 0 Axes>"
      ]
     },
     "metadata": {},
     "output_type": "display_data"
    },
    {
     "data": {
      "text/plain": [
       "<Figure size 2880x504 with 0 Axes>"
      ]
     },
     "metadata": {},
     "output_type": "display_data"
    },
    {
     "data": {
      "text/plain": [
       "<Figure size 2880x504 with 0 Axes>"
      ]
     },
     "metadata": {},
     "output_type": "display_data"
    },
    {
     "data": {
      "text/plain": [
       "<Figure size 2880x504 with 0 Axes>"
      ]
     },
     "metadata": {},
     "output_type": "display_data"
    },
    {
     "data": {
      "text/plain": [
       "<Figure size 2880x504 with 0 Axes>"
      ]
     },
     "metadata": {},
     "output_type": "display_data"
    },
    {
     "data": {
      "text/plain": [
       "<Figure size 2880x504 with 0 Axes>"
      ]
     },
     "metadata": {},
     "output_type": "display_data"
    },
    {
     "data": {
      "text/plain": [
       "<Figure size 2880x504 with 0 Axes>"
      ]
     },
     "metadata": {},
     "output_type": "display_data"
    },
    {
     "data": {
      "text/plain": [
       "<Figure size 2880x504 with 0 Axes>"
      ]
     },
     "metadata": {},
     "output_type": "display_data"
    },
    {
     "data": {
      "text/plain": [
       "<Figure size 2880x504 with 0 Axes>"
      ]
     },
     "metadata": {},
     "output_type": "display_data"
    },
    {
     "data": {
      "text/plain": [
       "<Figure size 2880x504 with 0 Axes>"
      ]
     },
     "metadata": {},
     "output_type": "display_data"
    },
    {
     "data": {
      "text/plain": [
       "<Figure size 2880x504 with 0 Axes>"
      ]
     },
     "metadata": {},
     "output_type": "display_data"
    },
    {
     "data": {
      "text/plain": [
       "<Figure size 2880x504 with 0 Axes>"
      ]
     },
     "metadata": {},
     "output_type": "display_data"
    },
    {
     "data": {
      "text/plain": [
       "<Figure size 2880x504 with 0 Axes>"
      ]
     },
     "metadata": {},
     "output_type": "display_data"
    },
    {
     "data": {
      "text/plain": [
       "<Figure size 2880x504 with 0 Axes>"
      ]
     },
     "metadata": {},
     "output_type": "display_data"
    },
    {
     "data": {
      "text/plain": [
       "<Figure size 2880x504 with 0 Axes>"
      ]
     },
     "metadata": {},
     "output_type": "display_data"
    },
    {
     "data": {
      "text/plain": [
       "<Figure size 2880x504 with 0 Axes>"
      ]
     },
     "metadata": {},
     "output_type": "display_data"
    },
    {
     "data": {
      "text/plain": [
       "<Figure size 2880x504 with 0 Axes>"
      ]
     },
     "metadata": {},
     "output_type": "display_data"
    },
    {
     "data": {
      "text/plain": [
       "<Figure size 2880x504 with 0 Axes>"
      ]
     },
     "metadata": {},
     "output_type": "display_data"
    },
    {
     "data": {
      "text/plain": [
       "<Figure size 2880x504 with 0 Axes>"
      ]
     },
     "metadata": {},
     "output_type": "display_data"
    },
    {
     "data": {
      "text/plain": [
       "<Figure size 2880x504 with 0 Axes>"
      ]
     },
     "metadata": {},
     "output_type": "display_data"
    },
    {
     "data": {
      "text/plain": [
       "<Figure size 2880x504 with 0 Axes>"
      ]
     },
     "metadata": {},
     "output_type": "display_data"
    },
    {
     "data": {
      "text/plain": [
       "<Figure size 2880x504 with 0 Axes>"
      ]
     },
     "metadata": {},
     "output_type": "display_data"
    },
    {
     "data": {
      "text/plain": [
       "<Figure size 2880x504 with 0 Axes>"
      ]
     },
     "metadata": {},
     "output_type": "display_data"
    },
    {
     "data": {
      "text/plain": [
       "<Figure size 2880x504 with 0 Axes>"
      ]
     },
     "metadata": {},
     "output_type": "display_data"
    },
    {
     "data": {
      "text/plain": [
       "<Figure size 2880x504 with 0 Axes>"
      ]
     },
     "metadata": {},
     "output_type": "display_data"
    },
    {
     "data": {
      "text/plain": [
       "<Figure size 2880x504 with 0 Axes>"
      ]
     },
     "metadata": {},
     "output_type": "display_data"
    },
    {
     "data": {
      "text/plain": [
       "<Figure size 2880x504 with 0 Axes>"
      ]
     },
     "metadata": {},
     "output_type": "display_data"
    },
    {
     "data": {
      "text/plain": [
       "<Figure size 2880x504 with 0 Axes>"
      ]
     },
     "metadata": {},
     "output_type": "display_data"
    },
    {
     "data": {
      "text/plain": [
       "<Figure size 2880x504 with 0 Axes>"
      ]
     },
     "metadata": {},
     "output_type": "display_data"
    },
    {
     "data": {
      "text/plain": [
       "<Figure size 2880x504 with 0 Axes>"
      ]
     },
     "metadata": {},
     "output_type": "display_data"
    },
    {
     "data": {
      "text/plain": [
       "<Figure size 2880x504 with 0 Axes>"
      ]
     },
     "metadata": {},
     "output_type": "display_data"
    },
    {
     "data": {
      "text/plain": [
       "<Figure size 2880x504 with 0 Axes>"
      ]
     },
     "metadata": {},
     "output_type": "display_data"
    },
    {
     "data": {
      "text/plain": [
       "<Figure size 2880x504 with 0 Axes>"
      ]
     },
     "metadata": {},
     "output_type": "display_data"
    },
    {
     "data": {
      "text/plain": [
       "<Figure size 2880x504 with 0 Axes>"
      ]
     },
     "metadata": {},
     "output_type": "display_data"
    },
    {
     "data": {
      "text/plain": [
       "<Figure size 2880x504 with 0 Axes>"
      ]
     },
     "metadata": {},
     "output_type": "display_data"
    },
    {
     "data": {
      "text/plain": [
       "<Figure size 2880x504 with 0 Axes>"
      ]
     },
     "metadata": {},
     "output_type": "display_data"
    },
    {
     "data": {
      "text/plain": [
       "<Figure size 2880x504 with 0 Axes>"
      ]
     },
     "metadata": {},
     "output_type": "display_data"
    },
    {
     "data": {
      "text/plain": [
       "<Figure size 2880x504 with 0 Axes>"
      ]
     },
     "metadata": {},
     "output_type": "display_data"
    },
    {
     "data": {
      "text/plain": [
       "<Figure size 2880x504 with 0 Axes>"
      ]
     },
     "metadata": {},
     "output_type": "display_data"
    },
    {
     "data": {
      "text/plain": [
       "<Figure size 2880x504 with 0 Axes>"
      ]
     },
     "metadata": {},
     "output_type": "display_data"
    },
    {
     "data": {
      "text/plain": [
       "<Figure size 2880x504 with 0 Axes>"
      ]
     },
     "metadata": {},
     "output_type": "display_data"
    },
    {
     "data": {
      "text/plain": [
       "<Figure size 2880x504 with 0 Axes>"
      ]
     },
     "metadata": {},
     "output_type": "display_data"
    },
    {
     "data": {
      "text/plain": [
       "<Figure size 2880x504 with 0 Axes>"
      ]
     },
     "metadata": {},
     "output_type": "display_data"
    },
    {
     "data": {
      "text/plain": [
       "<Figure size 2880x504 with 0 Axes>"
      ]
     },
     "metadata": {},
     "output_type": "display_data"
    },
    {
     "data": {
      "text/plain": [
       "<Figure size 2880x504 with 0 Axes>"
      ]
     },
     "metadata": {},
     "output_type": "display_data"
    },
    {
     "data": {
      "text/plain": [
       "<Figure size 2880x504 with 0 Axes>"
      ]
     },
     "metadata": {},
     "output_type": "display_data"
    },
    {
     "data": {
      "text/plain": [
       "<Figure size 2880x504 with 0 Axes>"
      ]
     },
     "metadata": {},
     "output_type": "display_data"
    },
    {
     "data": {
      "text/plain": [
       "<Figure size 2880x504 with 0 Axes>"
      ]
     },
     "metadata": {},
     "output_type": "display_data"
    },
    {
     "data": {
      "text/plain": [
       "<Figure size 2880x504 with 0 Axes>"
      ]
     },
     "metadata": {},
     "output_type": "display_data"
    },
    {
     "data": {
      "text/plain": [
       "<Figure size 2880x504 with 0 Axes>"
      ]
     },
     "metadata": {},
     "output_type": "display_data"
    },
    {
     "data": {
      "text/plain": [
       "<Figure size 2880x504 with 0 Axes>"
      ]
     },
     "metadata": {},
     "output_type": "display_data"
    },
    {
     "data": {
      "text/plain": [
       "<Figure size 2880x504 with 0 Axes>"
      ]
     },
     "metadata": {},
     "output_type": "display_data"
    },
    {
     "data": {
      "text/plain": [
       "<Figure size 2880x504 with 0 Axes>"
      ]
     },
     "metadata": {},
     "output_type": "display_data"
    },
    {
     "data": {
      "text/plain": [
       "<Figure size 2880x504 with 0 Axes>"
      ]
     },
     "metadata": {},
     "output_type": "display_data"
    },
    {
     "data": {
      "text/plain": [
       "<Figure size 2880x504 with 0 Axes>"
      ]
     },
     "metadata": {},
     "output_type": "display_data"
    },
    {
     "data": {
      "text/plain": [
       "<Figure size 2880x504 with 0 Axes>"
      ]
     },
     "metadata": {},
     "output_type": "display_data"
    },
    {
     "data": {
      "text/plain": [
       "<Figure size 2880x504 with 0 Axes>"
      ]
     },
     "metadata": {},
     "output_type": "display_data"
    },
    {
     "data": {
      "text/plain": [
       "<Figure size 2880x504 with 0 Axes>"
      ]
     },
     "metadata": {},
     "output_type": "display_data"
    },
    {
     "data": {
      "text/plain": [
       "<Figure size 2880x504 with 0 Axes>"
      ]
     },
     "metadata": {},
     "output_type": "display_data"
    },
    {
     "data": {
      "text/plain": [
       "<Figure size 2880x504 with 0 Axes>"
      ]
     },
     "metadata": {},
     "output_type": "display_data"
    },
    {
     "data": {
      "text/plain": [
       "<Figure size 2880x504 with 0 Axes>"
      ]
     },
     "metadata": {},
     "output_type": "display_data"
    },
    {
     "data": {
      "text/plain": [
       "<Figure size 2880x504 with 0 Axes>"
      ]
     },
     "metadata": {},
     "output_type": "display_data"
    },
    {
     "data": {
      "text/plain": [
       "<Figure size 2880x504 with 0 Axes>"
      ]
     },
     "metadata": {},
     "output_type": "display_data"
    },
    {
     "data": {
      "text/plain": [
       "<Figure size 2880x504 with 0 Axes>"
      ]
     },
     "metadata": {},
     "output_type": "display_data"
    },
    {
     "data": {
      "text/plain": [
       "<Figure size 2880x504 with 0 Axes>"
      ]
     },
     "metadata": {},
     "output_type": "display_data"
    },
    {
     "data": {
      "text/plain": [
       "<Figure size 2880x504 with 0 Axes>"
      ]
     },
     "metadata": {},
     "output_type": "display_data"
    },
    {
     "data": {
      "text/plain": [
       "<Figure size 2880x504 with 0 Axes>"
      ]
     },
     "metadata": {},
     "output_type": "display_data"
    },
    {
     "data": {
      "text/plain": [
       "<Figure size 2880x504 with 0 Axes>"
      ]
     },
     "metadata": {},
     "output_type": "display_data"
    },
    {
     "data": {
      "text/plain": [
       "<Figure size 2880x504 with 0 Axes>"
      ]
     },
     "metadata": {},
     "output_type": "display_data"
    },
    {
     "data": {
      "text/plain": [
       "<Figure size 2880x504 with 0 Axes>"
      ]
     },
     "metadata": {},
     "output_type": "display_data"
    },
    {
     "data": {
      "text/plain": [
       "<Figure size 2880x504 with 0 Axes>"
      ]
     },
     "metadata": {},
     "output_type": "display_data"
    },
    {
     "data": {
      "text/plain": [
       "<Figure size 2880x504 with 0 Axes>"
      ]
     },
     "metadata": {},
     "output_type": "display_data"
    },
    {
     "data": {
      "text/plain": [
       "<Figure size 2880x504 with 0 Axes>"
      ]
     },
     "metadata": {},
     "output_type": "display_data"
    },
    {
     "data": {
      "text/plain": [
       "<Figure size 2880x504 with 0 Axes>"
      ]
     },
     "metadata": {},
     "output_type": "display_data"
    },
    {
     "data": {
      "text/plain": [
       "<Figure size 2880x504 with 0 Axes>"
      ]
     },
     "metadata": {},
     "output_type": "display_data"
    },
    {
     "data": {
      "text/plain": [
       "<Figure size 2880x504 with 0 Axes>"
      ]
     },
     "metadata": {},
     "output_type": "display_data"
    },
    {
     "data": {
      "text/plain": [
       "<Figure size 2880x504 with 0 Axes>"
      ]
     },
     "metadata": {},
     "output_type": "display_data"
    },
    {
     "data": {
      "text/plain": [
       "<Figure size 2880x504 with 0 Axes>"
      ]
     },
     "metadata": {},
     "output_type": "display_data"
    },
    {
     "data": {
      "text/plain": [
       "<Figure size 2880x504 with 0 Axes>"
      ]
     },
     "metadata": {},
     "output_type": "display_data"
    },
    {
     "data": {
      "text/plain": [
       "<Figure size 2880x504 with 0 Axes>"
      ]
     },
     "metadata": {},
     "output_type": "display_data"
    },
    {
     "data": {
      "text/plain": [
       "<Figure size 2880x504 with 0 Axes>"
      ]
     },
     "metadata": {},
     "output_type": "display_data"
    },
    {
     "data": {
      "text/plain": [
       "<Figure size 2880x504 with 0 Axes>"
      ]
     },
     "metadata": {},
     "output_type": "display_data"
    },
    {
     "data": {
      "text/plain": [
       "<Figure size 2880x504 with 0 Axes>"
      ]
     },
     "metadata": {},
     "output_type": "display_data"
    },
    {
     "data": {
      "text/plain": [
       "<Figure size 2880x504 with 0 Axes>"
      ]
     },
     "metadata": {},
     "output_type": "display_data"
    },
    {
     "data": {
      "text/plain": [
       "<Figure size 2880x504 with 0 Axes>"
      ]
     },
     "metadata": {},
     "output_type": "display_data"
    },
    {
     "data": {
      "text/plain": [
       "<Figure size 2880x504 with 0 Axes>"
      ]
     },
     "metadata": {},
     "output_type": "display_data"
    },
    {
     "data": {
      "text/plain": [
       "<Figure size 2880x504 with 0 Axes>"
      ]
     },
     "metadata": {},
     "output_type": "display_data"
    },
    {
     "data": {
      "text/plain": [
       "<Figure size 2880x504 with 0 Axes>"
      ]
     },
     "metadata": {},
     "output_type": "display_data"
    },
    {
     "data": {
      "text/plain": [
       "<Figure size 2880x504 with 0 Axes>"
      ]
     },
     "metadata": {},
     "output_type": "display_data"
    },
    {
     "data": {
      "text/plain": [
       "<Figure size 2880x504 with 0 Axes>"
      ]
     },
     "metadata": {},
     "output_type": "display_data"
    },
    {
     "data": {
      "text/plain": [
       "<Figure size 2880x504 with 0 Axes>"
      ]
     },
     "metadata": {},
     "output_type": "display_data"
    },
    {
     "data": {
      "text/plain": [
       "<Figure size 2880x504 with 0 Axes>"
      ]
     },
     "metadata": {},
     "output_type": "display_data"
    },
    {
     "data": {
      "text/plain": [
       "<Figure size 2880x504 with 0 Axes>"
      ]
     },
     "metadata": {},
     "output_type": "display_data"
    },
    {
     "data": {
      "text/plain": [
       "<Figure size 2880x504 with 0 Axes>"
      ]
     },
     "metadata": {},
     "output_type": "display_data"
    },
    {
     "data": {
      "text/plain": [
       "<Figure size 2880x504 with 0 Axes>"
      ]
     },
     "metadata": {},
     "output_type": "display_data"
    },
    {
     "data": {
      "text/plain": [
       "<Figure size 2880x504 with 0 Axes>"
      ]
     },
     "metadata": {},
     "output_type": "display_data"
    },
    {
     "data": {
      "text/plain": [
       "<Figure size 2880x504 with 0 Axes>"
      ]
     },
     "metadata": {},
     "output_type": "display_data"
    },
    {
     "data": {
      "text/plain": [
       "<Figure size 2880x504 with 0 Axes>"
      ]
     },
     "metadata": {},
     "output_type": "display_data"
    },
    {
     "data": {
      "text/plain": [
       "<Figure size 2880x504 with 0 Axes>"
      ]
     },
     "metadata": {},
     "output_type": "display_data"
    },
    {
     "data": {
      "text/plain": [
       "<Figure size 2880x504 with 0 Axes>"
      ]
     },
     "metadata": {},
     "output_type": "display_data"
    },
    {
     "data": {
      "text/plain": [
       "<Figure size 2880x504 with 0 Axes>"
      ]
     },
     "metadata": {},
     "output_type": "display_data"
    },
    {
     "data": {
      "text/plain": [
       "<Figure size 2880x504 with 0 Axes>"
      ]
     },
     "metadata": {},
     "output_type": "display_data"
    },
    {
     "data": {
      "text/plain": [
       "<Figure size 2880x504 with 0 Axes>"
      ]
     },
     "metadata": {},
     "output_type": "display_data"
    },
    {
     "data": {
      "text/plain": [
       "<Figure size 2880x504 with 0 Axes>"
      ]
     },
     "metadata": {},
     "output_type": "display_data"
    },
    {
     "data": {
      "text/plain": [
       "<Figure size 2880x504 with 0 Axes>"
      ]
     },
     "metadata": {},
     "output_type": "display_data"
    },
    {
     "data": {
      "text/plain": [
       "<Figure size 2880x504 with 0 Axes>"
      ]
     },
     "metadata": {},
     "output_type": "display_data"
    },
    {
     "data": {
      "text/plain": [
       "<Figure size 2880x504 with 0 Axes>"
      ]
     },
     "metadata": {},
     "output_type": "display_data"
    },
    {
     "data": {
      "text/plain": [
       "<Figure size 2880x504 with 0 Axes>"
      ]
     },
     "metadata": {},
     "output_type": "display_data"
    },
    {
     "data": {
      "text/plain": [
       "<Figure size 2880x504 with 0 Axes>"
      ]
     },
     "metadata": {},
     "output_type": "display_data"
    },
    {
     "data": {
      "text/plain": [
       "<Figure size 2880x504 with 0 Axes>"
      ]
     },
     "metadata": {},
     "output_type": "display_data"
    },
    {
     "data": {
      "text/plain": [
       "<Figure size 2880x504 with 0 Axes>"
      ]
     },
     "metadata": {},
     "output_type": "display_data"
    },
    {
     "data": {
      "text/plain": [
       "<Figure size 2880x504 with 0 Axes>"
      ]
     },
     "metadata": {},
     "output_type": "display_data"
    },
    {
     "data": {
      "text/plain": [
       "<Figure size 2880x504 with 0 Axes>"
      ]
     },
     "metadata": {},
     "output_type": "display_data"
    },
    {
     "data": {
      "text/plain": [
       "<Figure size 2880x504 with 0 Axes>"
      ]
     },
     "metadata": {},
     "output_type": "display_data"
    },
    {
     "data": {
      "text/plain": [
       "<Figure size 2880x504 with 0 Axes>"
      ]
     },
     "metadata": {},
     "output_type": "display_data"
    },
    {
     "data": {
      "text/plain": [
       "<Figure size 2880x504 with 0 Axes>"
      ]
     },
     "metadata": {},
     "output_type": "display_data"
    },
    {
     "data": {
      "text/plain": [
       "<Figure size 2880x504 with 0 Axes>"
      ]
     },
     "metadata": {},
     "output_type": "display_data"
    },
    {
     "data": {
      "text/plain": [
       "<Figure size 2880x504 with 0 Axes>"
      ]
     },
     "metadata": {},
     "output_type": "display_data"
    },
    {
     "data": {
      "text/plain": [
       "<Figure size 2880x504 with 0 Axes>"
      ]
     },
     "metadata": {},
     "output_type": "display_data"
    },
    {
     "data": {
      "text/plain": [
       "<Figure size 2880x504 with 0 Axes>"
      ]
     },
     "metadata": {},
     "output_type": "display_data"
    },
    {
     "data": {
      "text/plain": [
       "<Figure size 2880x504 with 0 Axes>"
      ]
     },
     "metadata": {},
     "output_type": "display_data"
    },
    {
     "data": {
      "text/plain": [
       "<Figure size 2880x504 with 0 Axes>"
      ]
     },
     "metadata": {},
     "output_type": "display_data"
    },
    {
     "data": {
      "text/plain": [
       "<Figure size 2880x504 with 0 Axes>"
      ]
     },
     "metadata": {},
     "output_type": "display_data"
    },
    {
     "data": {
      "text/plain": [
       "<Figure size 2880x504 with 0 Axes>"
      ]
     },
     "metadata": {},
     "output_type": "display_data"
    },
    {
     "data": {
      "text/plain": [
       "<Figure size 2880x504 with 0 Axes>"
      ]
     },
     "metadata": {},
     "output_type": "display_data"
    },
    {
     "data": {
      "text/plain": [
       "<Figure size 2880x504 with 0 Axes>"
      ]
     },
     "metadata": {},
     "output_type": "display_data"
    },
    {
     "data": {
      "text/plain": [
       "<Figure size 2880x504 with 0 Axes>"
      ]
     },
     "metadata": {},
     "output_type": "display_data"
    },
    {
     "data": {
      "text/plain": [
       "<Figure size 2880x504 with 0 Axes>"
      ]
     },
     "metadata": {},
     "output_type": "display_data"
    },
    {
     "data": {
      "text/plain": [
       "<Figure size 2880x504 with 0 Axes>"
      ]
     },
     "metadata": {},
     "output_type": "display_data"
    },
    {
     "data": {
      "text/plain": [
       "<Figure size 2880x504 with 0 Axes>"
      ]
     },
     "metadata": {},
     "output_type": "display_data"
    },
    {
     "data": {
      "text/plain": [
       "<Figure size 2880x504 with 0 Axes>"
      ]
     },
     "metadata": {},
     "output_type": "display_data"
    },
    {
     "data": {
      "text/plain": [
       "<Figure size 2880x504 with 0 Axes>"
      ]
     },
     "metadata": {},
     "output_type": "display_data"
    },
    {
     "data": {
      "text/plain": [
       "<Figure size 2880x504 with 0 Axes>"
      ]
     },
     "metadata": {},
     "output_type": "display_data"
    },
    {
     "data": {
      "text/plain": [
       "<Figure size 2880x504 with 0 Axes>"
      ]
     },
     "metadata": {},
     "output_type": "display_data"
    },
    {
     "data": {
      "text/plain": [
       "<Figure size 2880x504 with 0 Axes>"
      ]
     },
     "metadata": {},
     "output_type": "display_data"
    },
    {
     "data": {
      "text/plain": [
       "<Figure size 2880x504 with 0 Axes>"
      ]
     },
     "metadata": {},
     "output_type": "display_data"
    },
    {
     "data": {
      "text/plain": [
       "<Figure size 2880x504 with 0 Axes>"
      ]
     },
     "metadata": {},
     "output_type": "display_data"
    },
    {
     "data": {
      "text/plain": [
       "<Figure size 2880x504 with 0 Axes>"
      ]
     },
     "metadata": {},
     "output_type": "display_data"
    },
    {
     "data": {
      "text/plain": [
       "<Figure size 2880x504 with 0 Axes>"
      ]
     },
     "metadata": {},
     "output_type": "display_data"
    },
    {
     "data": {
      "text/plain": [
       "<Figure size 2880x504 with 0 Axes>"
      ]
     },
     "metadata": {},
     "output_type": "display_data"
    },
    {
     "data": {
      "text/plain": [
       "<Figure size 2880x504 with 0 Axes>"
      ]
     },
     "metadata": {},
     "output_type": "display_data"
    },
    {
     "data": {
      "text/plain": [
       "<Figure size 2880x504 with 0 Axes>"
      ]
     },
     "metadata": {},
     "output_type": "display_data"
    },
    {
     "data": {
      "text/plain": [
       "<Figure size 2880x504 with 0 Axes>"
      ]
     },
     "metadata": {},
     "output_type": "display_data"
    },
    {
     "data": {
      "text/plain": [
       "<Figure size 2880x504 with 0 Axes>"
      ]
     },
     "metadata": {},
     "output_type": "display_data"
    },
    {
     "data": {
      "text/plain": [
       "<Figure size 2880x504 with 0 Axes>"
      ]
     },
     "metadata": {},
     "output_type": "display_data"
    },
    {
     "data": {
      "text/plain": [
       "<Figure size 2880x504 with 0 Axes>"
      ]
     },
     "metadata": {},
     "output_type": "display_data"
    },
    {
     "data": {
      "text/plain": [
       "<Figure size 2880x504 with 0 Axes>"
      ]
     },
     "metadata": {},
     "output_type": "display_data"
    },
    {
     "data": {
      "text/plain": [
       "<Figure size 2880x504 with 0 Axes>"
      ]
     },
     "metadata": {},
     "output_type": "display_data"
    },
    {
     "data": {
      "text/plain": [
       "<Figure size 2880x504 with 0 Axes>"
      ]
     },
     "metadata": {},
     "output_type": "display_data"
    },
    {
     "data": {
      "text/plain": [
       "<Figure size 2880x504 with 0 Axes>"
      ]
     },
     "metadata": {},
     "output_type": "display_data"
    },
    {
     "data": {
      "text/plain": [
       "<Figure size 2880x504 with 0 Axes>"
      ]
     },
     "metadata": {},
     "output_type": "display_data"
    },
    {
     "data": {
      "text/plain": [
       "<Figure size 2880x504 with 0 Axes>"
      ]
     },
     "metadata": {},
     "output_type": "display_data"
    },
    {
     "data": {
      "text/plain": [
       "<Figure size 2880x504 with 0 Axes>"
      ]
     },
     "metadata": {},
     "output_type": "display_data"
    },
    {
     "data": {
      "text/plain": [
       "<Figure size 2880x504 with 0 Axes>"
      ]
     },
     "metadata": {},
     "output_type": "display_data"
    },
    {
     "data": {
      "text/plain": [
       "<Figure size 2880x504 with 0 Axes>"
      ]
     },
     "metadata": {},
     "output_type": "display_data"
    },
    {
     "data": {
      "text/plain": [
       "<Figure size 2880x504 with 0 Axes>"
      ]
     },
     "metadata": {},
     "output_type": "display_data"
    },
    {
     "data": {
      "text/plain": [
       "<Figure size 2880x504 with 0 Axes>"
      ]
     },
     "metadata": {},
     "output_type": "display_data"
    },
    {
     "data": {
      "text/plain": [
       "<Figure size 2880x504 with 0 Axes>"
      ]
     },
     "metadata": {},
     "output_type": "display_data"
    },
    {
     "data": {
      "text/plain": [
       "<Figure size 2880x504 with 0 Axes>"
      ]
     },
     "metadata": {},
     "output_type": "display_data"
    },
    {
     "data": {
      "text/plain": [
       "<Figure size 2880x504 with 0 Axes>"
      ]
     },
     "metadata": {},
     "output_type": "display_data"
    },
    {
     "data": {
      "text/plain": [
       "<Figure size 2880x504 with 0 Axes>"
      ]
     },
     "metadata": {},
     "output_type": "display_data"
    },
    {
     "data": {
      "text/plain": [
       "<Figure size 2880x504 with 0 Axes>"
      ]
     },
     "metadata": {},
     "output_type": "display_data"
    },
    {
     "data": {
      "text/plain": [
       "<Figure size 2880x504 with 0 Axes>"
      ]
     },
     "metadata": {},
     "output_type": "display_data"
    },
    {
     "data": {
      "text/plain": [
       "<Figure size 2880x504 with 0 Axes>"
      ]
     },
     "metadata": {},
     "output_type": "display_data"
    },
    {
     "data": {
      "text/plain": [
       "<Figure size 2880x504 with 0 Axes>"
      ]
     },
     "metadata": {},
     "output_type": "display_data"
    },
    {
     "data": {
      "text/plain": [
       "<Figure size 2880x504 with 0 Axes>"
      ]
     },
     "metadata": {},
     "output_type": "display_data"
    },
    {
     "data": {
      "text/plain": [
       "<Figure size 2880x504 with 0 Axes>"
      ]
     },
     "metadata": {},
     "output_type": "display_data"
    },
    {
     "data": {
      "text/plain": [
       "<Figure size 2880x504 with 0 Axes>"
      ]
     },
     "metadata": {},
     "output_type": "display_data"
    },
    {
     "data": {
      "text/plain": [
       "<Figure size 2880x504 with 0 Axes>"
      ]
     },
     "metadata": {},
     "output_type": "display_data"
    },
    {
     "data": {
      "text/plain": [
       "<Figure size 2880x504 with 0 Axes>"
      ]
     },
     "metadata": {},
     "output_type": "display_data"
    },
    {
     "data": {
      "text/plain": [
       "<Figure size 2880x504 with 0 Axes>"
      ]
     },
     "metadata": {},
     "output_type": "display_data"
    },
    {
     "data": {
      "text/plain": [
       "<Figure size 2880x504 with 0 Axes>"
      ]
     },
     "metadata": {},
     "output_type": "display_data"
    },
    {
     "data": {
      "text/plain": [
       "<Figure size 2880x504 with 0 Axes>"
      ]
     },
     "metadata": {},
     "output_type": "display_data"
    },
    {
     "data": {
      "text/plain": [
       "<Figure size 2880x504 with 0 Axes>"
      ]
     },
     "metadata": {},
     "output_type": "display_data"
    },
    {
     "data": {
      "text/plain": [
       "<Figure size 2880x504 with 0 Axes>"
      ]
     },
     "metadata": {},
     "output_type": "display_data"
    },
    {
     "data": {
      "text/plain": [
       "<Figure size 2880x504 with 0 Axes>"
      ]
     },
     "metadata": {},
     "output_type": "display_data"
    },
    {
     "data": {
      "text/plain": [
       "<Figure size 2880x504 with 0 Axes>"
      ]
     },
     "metadata": {},
     "output_type": "display_data"
    },
    {
     "data": {
      "text/plain": [
       "<Figure size 2880x504 with 0 Axes>"
      ]
     },
     "metadata": {},
     "output_type": "display_data"
    },
    {
     "data": {
      "text/plain": [
       "<Figure size 2880x504 with 0 Axes>"
      ]
     },
     "metadata": {},
     "output_type": "display_data"
    },
    {
     "data": {
      "text/plain": [
       "<Figure size 2880x504 with 0 Axes>"
      ]
     },
     "metadata": {},
     "output_type": "display_data"
    },
    {
     "data": {
      "text/plain": [
       "<Figure size 2880x504 with 0 Axes>"
      ]
     },
     "metadata": {},
     "output_type": "display_data"
    },
    {
     "data": {
      "text/plain": [
       "<Figure size 2880x504 with 0 Axes>"
      ]
     },
     "metadata": {},
     "output_type": "display_data"
    },
    {
     "data": {
      "text/plain": [
       "<Figure size 2880x504 with 0 Axes>"
      ]
     },
     "metadata": {},
     "output_type": "display_data"
    },
    {
     "data": {
      "text/plain": [
       "<Figure size 2880x504 with 0 Axes>"
      ]
     },
     "metadata": {},
     "output_type": "display_data"
    },
    {
     "data": {
      "text/plain": [
       "<Figure size 2880x504 with 0 Axes>"
      ]
     },
     "metadata": {},
     "output_type": "display_data"
    },
    {
     "data": {
      "text/plain": [
       "<Figure size 2880x504 with 0 Axes>"
      ]
     },
     "metadata": {},
     "output_type": "display_data"
    },
    {
     "data": {
      "text/plain": [
       "<Figure size 2880x504 with 0 Axes>"
      ]
     },
     "metadata": {},
     "output_type": "display_data"
    },
    {
     "data": {
      "text/plain": [
       "<Figure size 2880x504 with 0 Axes>"
      ]
     },
     "metadata": {},
     "output_type": "display_data"
    },
    {
     "data": {
      "text/plain": [
       "<Figure size 2880x504 with 0 Axes>"
      ]
     },
     "metadata": {},
     "output_type": "display_data"
    },
    {
     "data": {
      "text/plain": [
       "<Figure size 2880x504 with 0 Axes>"
      ]
     },
     "metadata": {},
     "output_type": "display_data"
    },
    {
     "data": {
      "text/plain": [
       "<Figure size 2880x504 with 0 Axes>"
      ]
     },
     "metadata": {},
     "output_type": "display_data"
    },
    {
     "data": {
      "text/plain": [
       "<Figure size 2880x504 with 0 Axes>"
      ]
     },
     "metadata": {},
     "output_type": "display_data"
    },
    {
     "data": {
      "text/plain": [
       "<Figure size 2880x504 with 0 Axes>"
      ]
     },
     "metadata": {},
     "output_type": "display_data"
    },
    {
     "data": {
      "text/plain": [
       "<Figure size 2880x504 with 0 Axes>"
      ]
     },
     "metadata": {},
     "output_type": "display_data"
    },
    {
     "data": {
      "text/plain": [
       "<Figure size 2880x504 with 0 Axes>"
      ]
     },
     "metadata": {},
     "output_type": "display_data"
    },
    {
     "data": {
      "text/plain": [
       "<Figure size 2880x504 with 0 Axes>"
      ]
     },
     "metadata": {},
     "output_type": "display_data"
    },
    {
     "data": {
      "text/plain": [
       "<Figure size 2880x504 with 0 Axes>"
      ]
     },
     "metadata": {},
     "output_type": "display_data"
    },
    {
     "data": {
      "text/plain": [
       "<Figure size 2880x504 with 0 Axes>"
      ]
     },
     "metadata": {},
     "output_type": "display_data"
    },
    {
     "data": {
      "text/plain": [
       "<Figure size 2880x504 with 0 Axes>"
      ]
     },
     "metadata": {},
     "output_type": "display_data"
    },
    {
     "data": {
      "text/plain": [
       "<Figure size 2880x504 with 0 Axes>"
      ]
     },
     "metadata": {},
     "output_type": "display_data"
    },
    {
     "data": {
      "text/plain": [
       "<Figure size 2880x504 with 0 Axes>"
      ]
     },
     "metadata": {},
     "output_type": "display_data"
    },
    {
     "data": {
      "text/plain": [
       "<Figure size 2880x504 with 0 Axes>"
      ]
     },
     "metadata": {},
     "output_type": "display_data"
    },
    {
     "data": {
      "text/plain": [
       "<Figure size 2880x504 with 0 Axes>"
      ]
     },
     "metadata": {},
     "output_type": "display_data"
    },
    {
     "data": {
      "text/plain": [
       "<Figure size 2880x504 with 0 Axes>"
      ]
     },
     "metadata": {},
     "output_type": "display_data"
    },
    {
     "data": {
      "text/plain": [
       "<Figure size 2880x504 with 0 Axes>"
      ]
     },
     "metadata": {},
     "output_type": "display_data"
    },
    {
     "data": {
      "text/plain": [
       "<Figure size 2880x504 with 0 Axes>"
      ]
     },
     "metadata": {},
     "output_type": "display_data"
    },
    {
     "data": {
      "text/plain": [
       "<Figure size 2880x504 with 0 Axes>"
      ]
     },
     "metadata": {},
     "output_type": "display_data"
    },
    {
     "data": {
      "text/plain": [
       "<Figure size 2880x504 with 0 Axes>"
      ]
     },
     "metadata": {},
     "output_type": "display_data"
    },
    {
     "data": {
      "text/plain": [
       "<Figure size 2880x504 with 0 Axes>"
      ]
     },
     "metadata": {},
     "output_type": "display_data"
    },
    {
     "data": {
      "text/plain": [
       "<Figure size 2880x504 with 0 Axes>"
      ]
     },
     "metadata": {},
     "output_type": "display_data"
    },
    {
     "data": {
      "text/plain": [
       "<Figure size 2880x504 with 0 Axes>"
      ]
     },
     "metadata": {},
     "output_type": "display_data"
    },
    {
     "data": {
      "text/plain": [
       "<Figure size 2880x504 with 0 Axes>"
      ]
     },
     "metadata": {},
     "output_type": "display_data"
    },
    {
     "data": {
      "text/plain": [
       "<Figure size 2880x504 with 0 Axes>"
      ]
     },
     "metadata": {},
     "output_type": "display_data"
    },
    {
     "data": {
      "text/plain": [
       "<Figure size 2880x504 with 0 Axes>"
      ]
     },
     "metadata": {},
     "output_type": "display_data"
    },
    {
     "data": {
      "text/plain": [
       "<Figure size 2880x504 with 0 Axes>"
      ]
     },
     "metadata": {},
     "output_type": "display_data"
    },
    {
     "data": {
      "text/plain": [
       "<Figure size 2880x504 with 0 Axes>"
      ]
     },
     "metadata": {},
     "output_type": "display_data"
    },
    {
     "data": {
      "text/plain": [
       "<Figure size 2880x504 with 0 Axes>"
      ]
     },
     "metadata": {},
     "output_type": "display_data"
    },
    {
     "data": {
      "text/plain": [
       "<Figure size 2880x504 with 0 Axes>"
      ]
     },
     "metadata": {},
     "output_type": "display_data"
    },
    {
     "data": {
      "text/plain": [
       "<Figure size 2880x504 with 0 Axes>"
      ]
     },
     "metadata": {},
     "output_type": "display_data"
    },
    {
     "data": {
      "text/plain": [
       "<Figure size 2880x504 with 0 Axes>"
      ]
     },
     "metadata": {},
     "output_type": "display_data"
    },
    {
     "data": {
      "text/plain": [
       "<Figure size 2880x504 with 0 Axes>"
      ]
     },
     "metadata": {},
     "output_type": "display_data"
    },
    {
     "data": {
      "text/plain": [
       "<Figure size 2880x504 with 0 Axes>"
      ]
     },
     "metadata": {},
     "output_type": "display_data"
    },
    {
     "data": {
      "text/plain": [
       "<Figure size 2880x504 with 0 Axes>"
      ]
     },
     "metadata": {},
     "output_type": "display_data"
    },
    {
     "data": {
      "text/plain": [
       "<Figure size 2880x504 with 0 Axes>"
      ]
     },
     "metadata": {},
     "output_type": "display_data"
    },
    {
     "data": {
      "text/plain": [
       "<Figure size 2880x504 with 0 Axes>"
      ]
     },
     "metadata": {},
     "output_type": "display_data"
    },
    {
     "data": {
      "text/plain": [
       "<Figure size 2880x504 with 0 Axes>"
      ]
     },
     "metadata": {},
     "output_type": "display_data"
    },
    {
     "data": {
      "text/plain": [
       "<Figure size 2880x504 with 0 Axes>"
      ]
     },
     "metadata": {},
     "output_type": "display_data"
    },
    {
     "data": {
      "text/plain": [
       "<Figure size 2880x504 with 0 Axes>"
      ]
     },
     "metadata": {},
     "output_type": "display_data"
    },
    {
     "data": {
      "text/plain": [
       "<Figure size 2880x504 with 0 Axes>"
      ]
     },
     "metadata": {},
     "output_type": "display_data"
    },
    {
     "data": {
      "text/plain": [
       "<Figure size 2880x504 with 0 Axes>"
      ]
     },
     "metadata": {},
     "output_type": "display_data"
    },
    {
     "data": {
      "text/plain": [
       "<Figure size 2880x504 with 0 Axes>"
      ]
     },
     "metadata": {},
     "output_type": "display_data"
    },
    {
     "data": {
      "text/plain": [
       "<Figure size 2880x504 with 0 Axes>"
      ]
     },
     "metadata": {},
     "output_type": "display_data"
    },
    {
     "data": {
      "text/plain": [
       "<Figure size 2880x504 with 0 Axes>"
      ]
     },
     "metadata": {},
     "output_type": "display_data"
    },
    {
     "data": {
      "text/plain": [
       "<Figure size 2880x504 with 0 Axes>"
      ]
     },
     "metadata": {},
     "output_type": "display_data"
    },
    {
     "data": {
      "text/plain": [
       "<Figure size 2880x504 with 0 Axes>"
      ]
     },
     "metadata": {},
     "output_type": "display_data"
    },
    {
     "data": {
      "text/plain": [
       "<Figure size 2880x504 with 0 Axes>"
      ]
     },
     "metadata": {},
     "output_type": "display_data"
    },
    {
     "data": {
      "text/plain": [
       "<Figure size 2880x504 with 0 Axes>"
      ]
     },
     "metadata": {},
     "output_type": "display_data"
    },
    {
     "data": {
      "text/plain": [
       "<Figure size 2880x504 with 0 Axes>"
      ]
     },
     "metadata": {},
     "output_type": "display_data"
    },
    {
     "data": {
      "text/plain": [
       "<Figure size 2880x504 with 0 Axes>"
      ]
     },
     "metadata": {},
     "output_type": "display_data"
    },
    {
     "data": {
      "text/plain": [
       "<Figure size 2880x504 with 0 Axes>"
      ]
     },
     "metadata": {},
     "output_type": "display_data"
    },
    {
     "data": {
      "text/plain": [
       "<Figure size 2880x504 with 0 Axes>"
      ]
     },
     "metadata": {},
     "output_type": "display_data"
    },
    {
     "data": {
      "text/plain": [
       "<Figure size 2880x504 with 0 Axes>"
      ]
     },
     "metadata": {},
     "output_type": "display_data"
    },
    {
     "data": {
      "text/plain": [
       "<Figure size 2880x504 with 0 Axes>"
      ]
     },
     "metadata": {},
     "output_type": "display_data"
    },
    {
     "data": {
      "text/plain": [
       "<Figure size 2880x504 with 0 Axes>"
      ]
     },
     "metadata": {},
     "output_type": "display_data"
    },
    {
     "data": {
      "text/plain": [
       "<Figure size 2880x504 with 0 Axes>"
      ]
     },
     "metadata": {},
     "output_type": "display_data"
    },
    {
     "data": {
      "text/plain": [
       "<Figure size 2880x504 with 0 Axes>"
      ]
     },
     "metadata": {},
     "output_type": "display_data"
    },
    {
     "data": {
      "text/plain": [
       "<Figure size 2880x504 with 0 Axes>"
      ]
     },
     "metadata": {},
     "output_type": "display_data"
    },
    {
     "data": {
      "text/plain": [
       "<Figure size 2880x504 with 0 Axes>"
      ]
     },
     "metadata": {},
     "output_type": "display_data"
    },
    {
     "data": {
      "text/plain": [
       "<Figure size 2880x504 with 0 Axes>"
      ]
     },
     "metadata": {},
     "output_type": "display_data"
    },
    {
     "data": {
      "text/plain": [
       "<Figure size 2880x504 with 0 Axes>"
      ]
     },
     "metadata": {},
     "output_type": "display_data"
    },
    {
     "data": {
      "text/plain": [
       "<Figure size 2880x504 with 0 Axes>"
      ]
     },
     "metadata": {},
     "output_type": "display_data"
    },
    {
     "data": {
      "text/plain": [
       "<Figure size 2880x504 with 0 Axes>"
      ]
     },
     "metadata": {},
     "output_type": "display_data"
    },
    {
     "data": {
      "text/plain": [
       "<Figure size 2880x504 with 0 Axes>"
      ]
     },
     "metadata": {},
     "output_type": "display_data"
    },
    {
     "data": {
      "text/plain": [
       "<Figure size 2880x504 with 0 Axes>"
      ]
     },
     "metadata": {},
     "output_type": "display_data"
    },
    {
     "data": {
      "text/plain": [
       "<Figure size 2880x504 with 0 Axes>"
      ]
     },
     "metadata": {},
     "output_type": "display_data"
    },
    {
     "data": {
      "text/plain": [
       "<Figure size 2880x504 with 0 Axes>"
      ]
     },
     "metadata": {},
     "output_type": "display_data"
    },
    {
     "data": {
      "text/plain": [
       "<Figure size 2880x504 with 0 Axes>"
      ]
     },
     "metadata": {},
     "output_type": "display_data"
    },
    {
     "data": {
      "text/plain": [
       "<Figure size 2880x504 with 0 Axes>"
      ]
     },
     "metadata": {},
     "output_type": "display_data"
    },
    {
     "data": {
      "text/plain": [
       "<Figure size 2880x504 with 0 Axes>"
      ]
     },
     "metadata": {},
     "output_type": "display_data"
    },
    {
     "data": {
      "text/plain": [
       "<Figure size 2880x504 with 0 Axes>"
      ]
     },
     "metadata": {},
     "output_type": "display_data"
    },
    {
     "data": {
      "text/plain": [
       "<Figure size 2880x504 with 0 Axes>"
      ]
     },
     "metadata": {},
     "output_type": "display_data"
    },
    {
     "data": {
      "text/plain": [
       "<Figure size 2880x504 with 0 Axes>"
      ]
     },
     "metadata": {},
     "output_type": "display_data"
    },
    {
     "data": {
      "text/plain": [
       "<Figure size 2880x504 with 0 Axes>"
      ]
     },
     "metadata": {},
     "output_type": "display_data"
    },
    {
     "data": {
      "text/plain": [
       "<Figure size 2880x504 with 0 Axes>"
      ]
     },
     "metadata": {},
     "output_type": "display_data"
    },
    {
     "data": {
      "text/plain": [
       "<Figure size 2880x504 with 0 Axes>"
      ]
     },
     "metadata": {},
     "output_type": "display_data"
    },
    {
     "data": {
      "text/plain": [
       "<Figure size 2880x504 with 0 Axes>"
      ]
     },
     "metadata": {},
     "output_type": "display_data"
    },
    {
     "data": {
      "text/plain": [
       "<Figure size 2880x504 with 0 Axes>"
      ]
     },
     "metadata": {},
     "output_type": "display_data"
    },
    {
     "data": {
      "text/plain": [
       "<Figure size 2880x504 with 0 Axes>"
      ]
     },
     "metadata": {},
     "output_type": "display_data"
    },
    {
     "data": {
      "text/plain": [
       "<Figure size 2880x504 with 0 Axes>"
      ]
     },
     "metadata": {},
     "output_type": "display_data"
    },
    {
     "data": {
      "text/plain": [
       "<Figure size 2880x504 with 0 Axes>"
      ]
     },
     "metadata": {},
     "output_type": "display_data"
    },
    {
     "data": {
      "text/plain": [
       "<Figure size 2880x504 with 0 Axes>"
      ]
     },
     "metadata": {},
     "output_type": "display_data"
    },
    {
     "data": {
      "text/plain": [
       "<Figure size 2880x504 with 0 Axes>"
      ]
     },
     "metadata": {},
     "output_type": "display_data"
    },
    {
     "data": {
      "text/plain": [
       "<Figure size 2880x504 with 0 Axes>"
      ]
     },
     "metadata": {},
     "output_type": "display_data"
    },
    {
     "data": {
      "text/plain": [
       "<Figure size 2880x504 with 0 Axes>"
      ]
     },
     "metadata": {},
     "output_type": "display_data"
    },
    {
     "data": {
      "text/plain": [
       "<Figure size 2880x504 with 0 Axes>"
      ]
     },
     "metadata": {},
     "output_type": "display_data"
    },
    {
     "data": {
      "text/plain": [
       "<Figure size 2880x504 with 0 Axes>"
      ]
     },
     "metadata": {},
     "output_type": "display_data"
    },
    {
     "data": {
      "text/plain": [
       "<Figure size 2880x504 with 0 Axes>"
      ]
     },
     "metadata": {},
     "output_type": "display_data"
    },
    {
     "data": {
      "text/plain": [
       "<Figure size 2880x504 with 0 Axes>"
      ]
     },
     "metadata": {},
     "output_type": "display_data"
    },
    {
     "data": {
      "text/plain": [
       "<Figure size 2880x504 with 0 Axes>"
      ]
     },
     "metadata": {},
     "output_type": "display_data"
    },
    {
     "data": {
      "text/plain": [
       "<Figure size 2880x504 with 0 Axes>"
      ]
     },
     "metadata": {},
     "output_type": "display_data"
    },
    {
     "data": {
      "text/plain": [
       "<Figure size 2880x504 with 0 Axes>"
      ]
     },
     "metadata": {},
     "output_type": "display_data"
    },
    {
     "data": {
      "text/plain": [
       "<Figure size 2880x504 with 0 Axes>"
      ]
     },
     "metadata": {},
     "output_type": "display_data"
    },
    {
     "data": {
      "text/plain": [
       "<Figure size 2880x504 with 0 Axes>"
      ]
     },
     "metadata": {},
     "output_type": "display_data"
    },
    {
     "data": {
      "text/plain": [
       "<Figure size 2880x504 with 0 Axes>"
      ]
     },
     "metadata": {},
     "output_type": "display_data"
    },
    {
     "data": {
      "text/plain": [
       "<Figure size 2880x504 with 0 Axes>"
      ]
     },
     "metadata": {},
     "output_type": "display_data"
    },
    {
     "data": {
      "text/plain": [
       "<Figure size 2880x504 with 0 Axes>"
      ]
     },
     "metadata": {},
     "output_type": "display_data"
    },
    {
     "data": {
      "text/plain": [
       "<Figure size 2880x504 with 0 Axes>"
      ]
     },
     "metadata": {},
     "output_type": "display_data"
    },
    {
     "data": {
      "text/plain": [
       "<Figure size 2880x504 with 0 Axes>"
      ]
     },
     "metadata": {},
     "output_type": "display_data"
    },
    {
     "data": {
      "text/plain": [
       "<Figure size 2880x504 with 0 Axes>"
      ]
     },
     "metadata": {},
     "output_type": "display_data"
    },
    {
     "data": {
      "text/plain": [
       "<Figure size 2880x504 with 0 Axes>"
      ]
     },
     "metadata": {},
     "output_type": "display_data"
    },
    {
     "data": {
      "text/plain": [
       "<Figure size 2880x504 with 0 Axes>"
      ]
     },
     "metadata": {},
     "output_type": "display_data"
    },
    {
     "data": {
      "text/plain": [
       "<Figure size 2880x504 with 0 Axes>"
      ]
     },
     "metadata": {},
     "output_type": "display_data"
    },
    {
     "data": {
      "text/plain": [
       "<Figure size 2880x504 with 0 Axes>"
      ]
     },
     "metadata": {},
     "output_type": "display_data"
    },
    {
     "data": {
      "text/plain": [
       "<Figure size 2880x504 with 0 Axes>"
      ]
     },
     "metadata": {},
     "output_type": "display_data"
    },
    {
     "data": {
      "text/plain": [
       "<Figure size 2880x504 with 0 Axes>"
      ]
     },
     "metadata": {},
     "output_type": "display_data"
    },
    {
     "data": {
      "text/plain": [
       "<Figure size 2880x504 with 0 Axes>"
      ]
     },
     "metadata": {},
     "output_type": "display_data"
    },
    {
     "data": {
      "text/plain": [
       "<Figure size 2880x504 with 0 Axes>"
      ]
     },
     "metadata": {},
     "output_type": "display_data"
    },
    {
     "data": {
      "text/plain": [
       "<Figure size 2880x504 with 0 Axes>"
      ]
     },
     "metadata": {},
     "output_type": "display_data"
    },
    {
     "data": {
      "text/plain": [
       "<Figure size 2880x504 with 0 Axes>"
      ]
     },
     "metadata": {},
     "output_type": "display_data"
    },
    {
     "data": {
      "text/plain": [
       "<Figure size 2880x504 with 0 Axes>"
      ]
     },
     "metadata": {},
     "output_type": "display_data"
    },
    {
     "data": {
      "text/plain": [
       "<Figure size 2880x504 with 0 Axes>"
      ]
     },
     "metadata": {},
     "output_type": "display_data"
    },
    {
     "data": {
      "text/plain": [
       "<Figure size 2880x504 with 0 Axes>"
      ]
     },
     "metadata": {},
     "output_type": "display_data"
    },
    {
     "data": {
      "text/plain": [
       "<Figure size 2880x504 with 0 Axes>"
      ]
     },
     "metadata": {},
     "output_type": "display_data"
    },
    {
     "data": {
      "text/plain": [
       "<Figure size 2880x504 with 0 Axes>"
      ]
     },
     "metadata": {},
     "output_type": "display_data"
    },
    {
     "data": {
      "text/plain": [
       "<Figure size 2880x504 with 0 Axes>"
      ]
     },
     "metadata": {},
     "output_type": "display_data"
    },
    {
     "data": {
      "text/plain": [
       "<Figure size 2880x504 with 0 Axes>"
      ]
     },
     "metadata": {},
     "output_type": "display_data"
    },
    {
     "data": {
      "text/plain": [
       "<Figure size 2880x504 with 0 Axes>"
      ]
     },
     "metadata": {},
     "output_type": "display_data"
    },
    {
     "data": {
      "text/plain": [
       "<Figure size 2880x504 with 0 Axes>"
      ]
     },
     "metadata": {},
     "output_type": "display_data"
    },
    {
     "data": {
      "text/plain": [
       "<Figure size 2880x504 with 0 Axes>"
      ]
     },
     "metadata": {},
     "output_type": "display_data"
    },
    {
     "data": {
      "text/plain": [
       "<Figure size 2880x504 with 0 Axes>"
      ]
     },
     "metadata": {},
     "output_type": "display_data"
    },
    {
     "data": {
      "text/plain": [
       "<Figure size 2880x504 with 0 Axes>"
      ]
     },
     "metadata": {},
     "output_type": "display_data"
    },
    {
     "data": {
      "text/plain": [
       "<Figure size 2880x504 with 0 Axes>"
      ]
     },
     "metadata": {},
     "output_type": "display_data"
    },
    {
     "data": {
      "text/plain": [
       "<Figure size 2880x504 with 0 Axes>"
      ]
     },
     "metadata": {},
     "output_type": "display_data"
    },
    {
     "data": {
      "text/plain": [
       "<Figure size 2880x504 with 0 Axes>"
      ]
     },
     "metadata": {},
     "output_type": "display_data"
    },
    {
     "data": {
      "text/plain": [
       "<Figure size 2880x504 with 0 Axes>"
      ]
     },
     "metadata": {},
     "output_type": "display_data"
    },
    {
     "data": {
      "text/plain": [
       "<Figure size 2880x504 with 0 Axes>"
      ]
     },
     "metadata": {},
     "output_type": "display_data"
    },
    {
     "data": {
      "text/plain": [
       "<Figure size 2880x504 with 0 Axes>"
      ]
     },
     "metadata": {},
     "output_type": "display_data"
    },
    {
     "data": {
      "text/plain": [
       "<Figure size 2880x504 with 0 Axes>"
      ]
     },
     "metadata": {},
     "output_type": "display_data"
    },
    {
     "data": {
      "text/plain": [
       "<Figure size 2880x504 with 0 Axes>"
      ]
     },
     "metadata": {},
     "output_type": "display_data"
    },
    {
     "data": {
      "text/plain": [
       "<Figure size 2880x504 with 0 Axes>"
      ]
     },
     "metadata": {},
     "output_type": "display_data"
    },
    {
     "data": {
      "text/plain": [
       "<Figure size 2880x504 with 0 Axes>"
      ]
     },
     "metadata": {},
     "output_type": "display_data"
    },
    {
     "data": {
      "text/plain": [
       "<Figure size 2880x504 with 0 Axes>"
      ]
     },
     "metadata": {},
     "output_type": "display_data"
    },
    {
     "data": {
      "text/plain": [
       "<Figure size 2880x504 with 0 Axes>"
      ]
     },
     "metadata": {},
     "output_type": "display_data"
    },
    {
     "data": {
      "text/plain": [
       "<Figure size 2880x504 with 0 Axes>"
      ]
     },
     "metadata": {},
     "output_type": "display_data"
    },
    {
     "data": {
      "text/plain": [
       "<Figure size 2880x504 with 0 Axes>"
      ]
     },
     "metadata": {},
     "output_type": "display_data"
    },
    {
     "data": {
      "text/plain": [
       "<Figure size 2880x504 with 0 Axes>"
      ]
     },
     "metadata": {},
     "output_type": "display_data"
    },
    {
     "data": {
      "text/plain": [
       "<Figure size 2880x504 with 0 Axes>"
      ]
     },
     "metadata": {},
     "output_type": "display_data"
    },
    {
     "data": {
      "text/plain": [
       "<Figure size 2880x504 with 0 Axes>"
      ]
     },
     "metadata": {},
     "output_type": "display_data"
    },
    {
     "data": {
      "text/plain": [
       "<Figure size 2880x504 with 0 Axes>"
      ]
     },
     "metadata": {},
     "output_type": "display_data"
    },
    {
     "data": {
      "text/plain": [
       "<Figure size 2880x504 with 0 Axes>"
      ]
     },
     "metadata": {},
     "output_type": "display_data"
    },
    {
     "data": {
      "text/plain": [
       "<Figure size 2880x504 with 0 Axes>"
      ]
     },
     "metadata": {},
     "output_type": "display_data"
    },
    {
     "data": {
      "text/plain": [
       "<Figure size 2880x504 with 0 Axes>"
      ]
     },
     "metadata": {},
     "output_type": "display_data"
    },
    {
     "data": {
      "text/plain": [
       "<Figure size 2880x504 with 0 Axes>"
      ]
     },
     "metadata": {},
     "output_type": "display_data"
    },
    {
     "data": {
      "text/plain": [
       "<Figure size 2880x504 with 0 Axes>"
      ]
     },
     "metadata": {},
     "output_type": "display_data"
    },
    {
     "data": {
      "text/plain": [
       "<Figure size 2880x504 with 0 Axes>"
      ]
     },
     "metadata": {},
     "output_type": "display_data"
    },
    {
     "data": {
      "text/plain": [
       "<Figure size 2880x504 with 0 Axes>"
      ]
     },
     "metadata": {},
     "output_type": "display_data"
    },
    {
     "data": {
      "text/plain": [
       "<Figure size 2880x504 with 0 Axes>"
      ]
     },
     "metadata": {},
     "output_type": "display_data"
    },
    {
     "data": {
      "text/plain": [
       "<Figure size 2880x504 with 0 Axes>"
      ]
     },
     "metadata": {},
     "output_type": "display_data"
    },
    {
     "data": {
      "text/plain": [
       "<Figure size 2880x504 with 0 Axes>"
      ]
     },
     "metadata": {},
     "output_type": "display_data"
    },
    {
     "data": {
      "text/plain": [
       "<Figure size 2880x504 with 0 Axes>"
      ]
     },
     "metadata": {},
     "output_type": "display_data"
    },
    {
     "data": {
      "text/plain": [
       "<Figure size 2880x504 with 0 Axes>"
      ]
     },
     "metadata": {},
     "output_type": "display_data"
    },
    {
     "data": {
      "text/plain": [
       "<Figure size 2880x504 with 0 Axes>"
      ]
     },
     "metadata": {},
     "output_type": "display_data"
    },
    {
     "data": {
      "text/plain": [
       "<Figure size 2880x504 with 0 Axes>"
      ]
     },
     "metadata": {},
     "output_type": "display_data"
    },
    {
     "data": {
      "text/plain": [
       "<Figure size 2880x504 with 0 Axes>"
      ]
     },
     "metadata": {},
     "output_type": "display_data"
    },
    {
     "data": {
      "text/plain": [
       "<Figure size 2880x504 with 0 Axes>"
      ]
     },
     "metadata": {},
     "output_type": "display_data"
    },
    {
     "data": {
      "text/plain": [
       "<Figure size 2880x504 with 0 Axes>"
      ]
     },
     "metadata": {},
     "output_type": "display_data"
    },
    {
     "data": {
      "text/plain": [
       "<Figure size 2880x504 with 0 Axes>"
      ]
     },
     "metadata": {},
     "output_type": "display_data"
    },
    {
     "data": {
      "text/plain": [
       "<Figure size 2880x504 with 0 Axes>"
      ]
     },
     "metadata": {},
     "output_type": "display_data"
    },
    {
     "data": {
      "text/plain": [
       "<Figure size 2880x504 with 0 Axes>"
      ]
     },
     "metadata": {},
     "output_type": "display_data"
    },
    {
     "data": {
      "text/plain": [
       "<Figure size 2880x504 with 0 Axes>"
      ]
     },
     "metadata": {},
     "output_type": "display_data"
    },
    {
     "data": {
      "text/plain": [
       "<Figure size 2880x504 with 0 Axes>"
      ]
     },
     "metadata": {},
     "output_type": "display_data"
    },
    {
     "data": {
      "text/plain": [
       "<Figure size 2880x504 with 0 Axes>"
      ]
     },
     "metadata": {},
     "output_type": "display_data"
    },
    {
     "data": {
      "text/plain": [
       "<Figure size 2880x504 with 0 Axes>"
      ]
     },
     "metadata": {},
     "output_type": "display_data"
    },
    {
     "data": {
      "text/plain": [
       "<Figure size 2880x504 with 0 Axes>"
      ]
     },
     "metadata": {},
     "output_type": "display_data"
    },
    {
     "data": {
      "text/plain": [
       "<Figure size 2880x504 with 0 Axes>"
      ]
     },
     "metadata": {},
     "output_type": "display_data"
    },
    {
     "data": {
      "text/plain": [
       "<Figure size 2880x504 with 0 Axes>"
      ]
     },
     "metadata": {},
     "output_type": "display_data"
    },
    {
     "data": {
      "text/plain": [
       "<Figure size 2880x504 with 0 Axes>"
      ]
     },
     "metadata": {},
     "output_type": "display_data"
    },
    {
     "data": {
      "text/plain": [
       "<Figure size 2880x504 with 0 Axes>"
      ]
     },
     "metadata": {},
     "output_type": "display_data"
    },
    {
     "data": {
      "text/plain": [
       "<Figure size 2880x504 with 0 Axes>"
      ]
     },
     "metadata": {},
     "output_type": "display_data"
    },
    {
     "data": {
      "text/plain": [
       "<Figure size 2880x504 with 0 Axes>"
      ]
     },
     "metadata": {},
     "output_type": "display_data"
    },
    {
     "data": {
      "text/plain": [
       "<Figure size 2880x504 with 0 Axes>"
      ]
     },
     "metadata": {},
     "output_type": "display_data"
    },
    {
     "data": {
      "text/plain": [
       "<Figure size 2880x504 with 0 Axes>"
      ]
     },
     "metadata": {},
     "output_type": "display_data"
    },
    {
     "data": {
      "text/plain": [
       "<Figure size 2880x504 with 0 Axes>"
      ]
     },
     "metadata": {},
     "output_type": "display_data"
    },
    {
     "data": {
      "text/plain": [
       "<Figure size 2880x504 with 0 Axes>"
      ]
     },
     "metadata": {},
     "output_type": "display_data"
    },
    {
     "data": {
      "text/plain": [
       "<Figure size 2880x504 with 0 Axes>"
      ]
     },
     "metadata": {},
     "output_type": "display_data"
    },
    {
     "data": {
      "text/plain": [
       "<Figure size 2880x504 with 0 Axes>"
      ]
     },
     "metadata": {},
     "output_type": "display_data"
    },
    {
     "data": {
      "text/plain": [
       "<Figure size 2880x504 with 0 Axes>"
      ]
     },
     "metadata": {},
     "output_type": "display_data"
    },
    {
     "data": {
      "text/plain": [
       "<Figure size 2880x504 with 0 Axes>"
      ]
     },
     "metadata": {},
     "output_type": "display_data"
    },
    {
     "data": {
      "text/plain": [
       "<Figure size 2880x504 with 0 Axes>"
      ]
     },
     "metadata": {},
     "output_type": "display_data"
    },
    {
     "data": {
      "text/plain": [
       "<Figure size 2880x504 with 0 Axes>"
      ]
     },
     "metadata": {},
     "output_type": "display_data"
    },
    {
     "data": {
      "text/plain": [
       "<Figure size 2880x504 with 0 Axes>"
      ]
     },
     "metadata": {},
     "output_type": "display_data"
    },
    {
     "data": {
      "text/plain": [
       "<Figure size 2880x504 with 0 Axes>"
      ]
     },
     "metadata": {},
     "output_type": "display_data"
    },
    {
     "data": {
      "text/plain": [
       "<Figure size 2880x504 with 0 Axes>"
      ]
     },
     "metadata": {},
     "output_type": "display_data"
    },
    {
     "data": {
      "text/plain": [
       "<Figure size 2880x504 with 0 Axes>"
      ]
     },
     "metadata": {},
     "output_type": "display_data"
    },
    {
     "data": {
      "text/plain": [
       "<Figure size 2880x504 with 0 Axes>"
      ]
     },
     "metadata": {},
     "output_type": "display_data"
    },
    {
     "data": {
      "text/plain": [
       "<Figure size 2880x504 with 0 Axes>"
      ]
     },
     "metadata": {},
     "output_type": "display_data"
    },
    {
     "data": {
      "text/plain": [
       "<Figure size 2880x504 with 0 Axes>"
      ]
     },
     "metadata": {},
     "output_type": "display_data"
    },
    {
     "data": {
      "text/plain": [
       "<Figure size 2880x504 with 0 Axes>"
      ]
     },
     "metadata": {},
     "output_type": "display_data"
    },
    {
     "data": {
      "text/plain": [
       "<Figure size 2880x504 with 0 Axes>"
      ]
     },
     "metadata": {},
     "output_type": "display_data"
    },
    {
     "data": {
      "text/plain": [
       "<Figure size 2880x504 with 0 Axes>"
      ]
     },
     "metadata": {},
     "output_type": "display_data"
    },
    {
     "data": {
      "text/plain": [
       "<Figure size 2880x504 with 0 Axes>"
      ]
     },
     "metadata": {},
     "output_type": "display_data"
    },
    {
     "data": {
      "text/plain": [
       "<Figure size 2880x504 with 0 Axes>"
      ]
     },
     "metadata": {},
     "output_type": "display_data"
    },
    {
     "data": {
      "text/plain": [
       "<Figure size 2880x504 with 0 Axes>"
      ]
     },
     "metadata": {},
     "output_type": "display_data"
    },
    {
     "data": {
      "text/plain": [
       "<Figure size 2880x504 with 0 Axes>"
      ]
     },
     "metadata": {},
     "output_type": "display_data"
    },
    {
     "data": {
      "text/plain": [
       "<Figure size 2880x504 with 0 Axes>"
      ]
     },
     "metadata": {},
     "output_type": "display_data"
    },
    {
     "data": {
      "text/plain": [
       "<Figure size 2880x504 with 0 Axes>"
      ]
     },
     "metadata": {},
     "output_type": "display_data"
    },
    {
     "data": {
      "text/plain": [
       "<Figure size 2880x504 with 0 Axes>"
      ]
     },
     "metadata": {},
     "output_type": "display_data"
    },
    {
     "data": {
      "text/plain": [
       "<Figure size 2880x504 with 0 Axes>"
      ]
     },
     "metadata": {},
     "output_type": "display_data"
    },
    {
     "data": {
      "text/plain": [
       "<Figure size 2880x504 with 0 Axes>"
      ]
     },
     "metadata": {},
     "output_type": "display_data"
    },
    {
     "data": {
      "text/plain": [
       "<Figure size 2880x504 with 0 Axes>"
      ]
     },
     "metadata": {},
     "output_type": "display_data"
    },
    {
     "data": {
      "text/plain": [
       "<Figure size 2880x504 with 0 Axes>"
      ]
     },
     "metadata": {},
     "output_type": "display_data"
    },
    {
     "data": {
      "text/plain": [
       "<Figure size 2880x504 with 0 Axes>"
      ]
     },
     "metadata": {},
     "output_type": "display_data"
    },
    {
     "data": {
      "text/plain": [
       "<Figure size 2880x504 with 0 Axes>"
      ]
     },
     "metadata": {},
     "output_type": "display_data"
    },
    {
     "data": {
      "text/plain": [
       "<Figure size 2880x504 with 0 Axes>"
      ]
     },
     "metadata": {},
     "output_type": "display_data"
    },
    {
     "data": {
      "text/plain": [
       "<Figure size 2880x504 with 0 Axes>"
      ]
     },
     "metadata": {},
     "output_type": "display_data"
    },
    {
     "data": {
      "text/plain": [
       "<Figure size 2880x504 with 0 Axes>"
      ]
     },
     "metadata": {},
     "output_type": "display_data"
    },
    {
     "data": {
      "text/plain": [
       "<Figure size 2880x504 with 0 Axes>"
      ]
     },
     "metadata": {},
     "output_type": "display_data"
    },
    {
     "data": {
      "text/plain": [
       "<Figure size 2880x504 with 0 Axes>"
      ]
     },
     "metadata": {},
     "output_type": "display_data"
    },
    {
     "data": {
      "text/plain": [
       "<Figure size 2880x504 with 0 Axes>"
      ]
     },
     "metadata": {},
     "output_type": "display_data"
    },
    {
     "data": {
      "text/plain": [
       "<Figure size 2880x504 with 0 Axes>"
      ]
     },
     "metadata": {},
     "output_type": "display_data"
    },
    {
     "data": {
      "text/plain": [
       "<Figure size 2880x504 with 0 Axes>"
      ]
     },
     "metadata": {},
     "output_type": "display_data"
    },
    {
     "data": {
      "text/plain": [
       "<Figure size 2880x504 with 0 Axes>"
      ]
     },
     "metadata": {},
     "output_type": "display_data"
    },
    {
     "data": {
      "text/plain": [
       "<Figure size 2880x504 with 0 Axes>"
      ]
     },
     "metadata": {},
     "output_type": "display_data"
    },
    {
     "data": {
      "text/plain": [
       "<Figure size 2880x504 with 0 Axes>"
      ]
     },
     "metadata": {},
     "output_type": "display_data"
    },
    {
     "data": {
      "text/plain": [
       "<Figure size 2880x504 with 0 Axes>"
      ]
     },
     "metadata": {},
     "output_type": "display_data"
    },
    {
     "data": {
      "text/plain": [
       "<Figure size 2880x504 with 0 Axes>"
      ]
     },
     "metadata": {},
     "output_type": "display_data"
    },
    {
     "data": {
      "text/plain": [
       "<Figure size 2880x504 with 0 Axes>"
      ]
     },
     "metadata": {},
     "output_type": "display_data"
    },
    {
     "data": {
      "text/plain": [
       "<Figure size 2880x504 with 0 Axes>"
      ]
     },
     "metadata": {},
     "output_type": "display_data"
    },
    {
     "data": {
      "text/plain": [
       "<Figure size 2880x504 with 0 Axes>"
      ]
     },
     "metadata": {},
     "output_type": "display_data"
    },
    {
     "data": {
      "text/plain": [
       "<Figure size 2880x504 with 0 Axes>"
      ]
     },
     "metadata": {},
     "output_type": "display_data"
    },
    {
     "data": {
      "text/plain": [
       "<Figure size 2880x504 with 0 Axes>"
      ]
     },
     "metadata": {},
     "output_type": "display_data"
    },
    {
     "data": {
      "text/plain": [
       "<Figure size 2880x504 with 0 Axes>"
      ]
     },
     "metadata": {},
     "output_type": "display_data"
    },
    {
     "data": {
      "text/plain": [
       "<Figure size 2880x504 with 0 Axes>"
      ]
     },
     "metadata": {},
     "output_type": "display_data"
    },
    {
     "data": {
      "text/plain": [
       "<Figure size 2880x504 with 0 Axes>"
      ]
     },
     "metadata": {},
     "output_type": "display_data"
    },
    {
     "data": {
      "text/plain": [
       "<Figure size 2880x504 with 0 Axes>"
      ]
     },
     "metadata": {},
     "output_type": "display_data"
    },
    {
     "data": {
      "text/plain": [
       "<Figure size 2880x504 with 0 Axes>"
      ]
     },
     "metadata": {},
     "output_type": "display_data"
    },
    {
     "data": {
      "text/plain": [
       "<Figure size 2880x504 with 0 Axes>"
      ]
     },
     "metadata": {},
     "output_type": "display_data"
    },
    {
     "data": {
      "text/plain": [
       "<Figure size 2880x504 with 0 Axes>"
      ]
     },
     "metadata": {},
     "output_type": "display_data"
    },
    {
     "data": {
      "text/plain": [
       "<Figure size 2880x504 with 0 Axes>"
      ]
     },
     "metadata": {},
     "output_type": "display_data"
    },
    {
     "data": {
      "text/plain": [
       "<Figure size 2880x504 with 0 Axes>"
      ]
     },
     "metadata": {},
     "output_type": "display_data"
    },
    {
     "data": {
      "text/plain": [
       "<Figure size 2880x504 with 0 Axes>"
      ]
     },
     "metadata": {},
     "output_type": "display_data"
    },
    {
     "data": {
      "text/plain": [
       "<Figure size 2880x504 with 0 Axes>"
      ]
     },
     "metadata": {},
     "output_type": "display_data"
    },
    {
     "data": {
      "text/plain": [
       "<Figure size 2880x504 with 0 Axes>"
      ]
     },
     "metadata": {},
     "output_type": "display_data"
    },
    {
     "data": {
      "text/plain": [
       "<Figure size 2880x504 with 0 Axes>"
      ]
     },
     "metadata": {},
     "output_type": "display_data"
    },
    {
     "data": {
      "text/plain": [
       "<Figure size 2880x504 with 0 Axes>"
      ]
     },
     "metadata": {},
     "output_type": "display_data"
    },
    {
     "data": {
      "text/plain": [
       "<Figure size 2880x504 with 0 Axes>"
      ]
     },
     "metadata": {},
     "output_type": "display_data"
    },
    {
     "data": {
      "text/plain": [
       "<Figure size 2880x504 with 0 Axes>"
      ]
     },
     "metadata": {},
     "output_type": "display_data"
    },
    {
     "data": {
      "text/plain": [
       "<Figure size 2880x504 with 0 Axes>"
      ]
     },
     "metadata": {},
     "output_type": "display_data"
    },
    {
     "data": {
      "text/plain": [
       "<Figure size 2880x504 with 0 Axes>"
      ]
     },
     "metadata": {},
     "output_type": "display_data"
    },
    {
     "data": {
      "text/plain": [
       "<Figure size 2880x504 with 0 Axes>"
      ]
     },
     "metadata": {},
     "output_type": "display_data"
    },
    {
     "data": {
      "text/plain": [
       "<Figure size 2880x504 with 0 Axes>"
      ]
     },
     "metadata": {},
     "output_type": "display_data"
    },
    {
     "data": {
      "text/plain": [
       "<Figure size 2880x504 with 0 Axes>"
      ]
     },
     "metadata": {},
     "output_type": "display_data"
    },
    {
     "data": {
      "text/plain": [
       "<Figure size 2880x504 with 0 Axes>"
      ]
     },
     "metadata": {},
     "output_type": "display_data"
    },
    {
     "data": {
      "text/plain": [
       "<Figure size 2880x504 with 0 Axes>"
      ]
     },
     "metadata": {},
     "output_type": "display_data"
    },
    {
     "data": {
      "text/plain": [
       "<Figure size 2880x504 with 0 Axes>"
      ]
     },
     "metadata": {},
     "output_type": "display_data"
    },
    {
     "data": {
      "text/plain": [
       "<Figure size 2880x504 with 0 Axes>"
      ]
     },
     "metadata": {},
     "output_type": "display_data"
    },
    {
     "data": {
      "text/plain": [
       "<Figure size 2880x504 with 0 Axes>"
      ]
     },
     "metadata": {},
     "output_type": "display_data"
    },
    {
     "data": {
      "text/plain": [
       "<Figure size 2880x504 with 0 Axes>"
      ]
     },
     "metadata": {},
     "output_type": "display_data"
    },
    {
     "data": {
      "text/plain": [
       "<Figure size 2880x504 with 0 Axes>"
      ]
     },
     "metadata": {},
     "output_type": "display_data"
    },
    {
     "data": {
      "text/plain": [
       "<Figure size 2880x504 with 0 Axes>"
      ]
     },
     "metadata": {},
     "output_type": "display_data"
    },
    {
     "data": {
      "text/plain": [
       "<Figure size 2880x504 with 0 Axes>"
      ]
     },
     "metadata": {},
     "output_type": "display_data"
    },
    {
     "data": {
      "text/plain": [
       "<Figure size 2880x504 with 0 Axes>"
      ]
     },
     "metadata": {},
     "output_type": "display_data"
    },
    {
     "data": {
      "text/plain": [
       "<Figure size 2880x504 with 0 Axes>"
      ]
     },
     "metadata": {},
     "output_type": "display_data"
    },
    {
     "data": {
      "text/plain": [
       "<Figure size 2880x504 with 0 Axes>"
      ]
     },
     "metadata": {},
     "output_type": "display_data"
    },
    {
     "data": {
      "text/plain": [
       "<Figure size 2880x504 with 0 Axes>"
      ]
     },
     "metadata": {},
     "output_type": "display_data"
    },
    {
     "data": {
      "text/plain": [
       "<Figure size 2880x504 with 0 Axes>"
      ]
     },
     "metadata": {},
     "output_type": "display_data"
    },
    {
     "data": {
      "text/plain": [
       "<Figure size 2880x504 with 0 Axes>"
      ]
     },
     "metadata": {},
     "output_type": "display_data"
    },
    {
     "data": {
      "text/plain": [
       "<Figure size 2880x504 with 0 Axes>"
      ]
     },
     "metadata": {},
     "output_type": "display_data"
    },
    {
     "data": {
      "text/plain": [
       "<Figure size 2880x504 with 0 Axes>"
      ]
     },
     "metadata": {},
     "output_type": "display_data"
    },
    {
     "data": {
      "text/plain": [
       "<Figure size 2880x504 with 0 Axes>"
      ]
     },
     "metadata": {},
     "output_type": "display_data"
    },
    {
     "data": {
      "text/plain": [
       "<Figure size 2880x504 with 0 Axes>"
      ]
     },
     "metadata": {},
     "output_type": "display_data"
    },
    {
     "data": {
      "text/plain": [
       "<Figure size 2880x504 with 0 Axes>"
      ]
     },
     "metadata": {},
     "output_type": "display_data"
    },
    {
     "data": {
      "text/plain": [
       "<Figure size 2880x504 with 0 Axes>"
      ]
     },
     "metadata": {},
     "output_type": "display_data"
    },
    {
     "data": {
      "text/plain": [
       "<Figure size 2880x504 with 0 Axes>"
      ]
     },
     "metadata": {},
     "output_type": "display_data"
    },
    {
     "data": {
      "text/plain": [
       "<Figure size 2880x504 with 0 Axes>"
      ]
     },
     "metadata": {},
     "output_type": "display_data"
    },
    {
     "data": {
      "text/plain": [
       "<Figure size 2880x504 with 0 Axes>"
      ]
     },
     "metadata": {},
     "output_type": "display_data"
    },
    {
     "data": {
      "text/plain": [
       "<Figure size 2880x504 with 0 Axes>"
      ]
     },
     "metadata": {},
     "output_type": "display_data"
    },
    {
     "data": {
      "text/plain": [
       "<Figure size 2880x504 with 0 Axes>"
      ]
     },
     "metadata": {},
     "output_type": "display_data"
    },
    {
     "data": {
      "text/plain": [
       "<Figure size 2880x504 with 0 Axes>"
      ]
     },
     "metadata": {},
     "output_type": "display_data"
    },
    {
     "data": {
      "text/plain": [
       "<Figure size 2880x504 with 0 Axes>"
      ]
     },
     "metadata": {},
     "output_type": "display_data"
    },
    {
     "data": {
      "text/plain": [
       "<Figure size 2880x504 with 0 Axes>"
      ]
     },
     "metadata": {},
     "output_type": "display_data"
    },
    {
     "data": {
      "text/plain": [
       "<Figure size 2880x504 with 0 Axes>"
      ]
     },
     "metadata": {},
     "output_type": "display_data"
    },
    {
     "data": {
      "text/plain": [
       "<Figure size 2880x504 with 0 Axes>"
      ]
     },
     "metadata": {},
     "output_type": "display_data"
    },
    {
     "data": {
      "text/plain": [
       "<Figure size 2880x504 with 0 Axes>"
      ]
     },
     "metadata": {},
     "output_type": "display_data"
    },
    {
     "data": {
      "text/plain": [
       "<Figure size 2880x504 with 0 Axes>"
      ]
     },
     "metadata": {},
     "output_type": "display_data"
    },
    {
     "data": {
      "text/plain": [
       "<Figure size 2880x504 with 0 Axes>"
      ]
     },
     "metadata": {},
     "output_type": "display_data"
    },
    {
     "data": {
      "text/plain": [
       "<Figure size 2880x504 with 0 Axes>"
      ]
     },
     "metadata": {},
     "output_type": "display_data"
    },
    {
     "data": {
      "text/plain": [
       "<Figure size 2880x504 with 0 Axes>"
      ]
     },
     "metadata": {},
     "output_type": "display_data"
    },
    {
     "data": {
      "text/plain": [
       "<Figure size 2880x504 with 0 Axes>"
      ]
     },
     "metadata": {},
     "output_type": "display_data"
    },
    {
     "data": {
      "text/plain": [
       "<Figure size 2880x504 with 0 Axes>"
      ]
     },
     "metadata": {},
     "output_type": "display_data"
    },
    {
     "data": {
      "text/plain": [
       "<Figure size 2880x504 with 0 Axes>"
      ]
     },
     "metadata": {},
     "output_type": "display_data"
    },
    {
     "data": {
      "text/plain": [
       "<Figure size 2880x504 with 0 Axes>"
      ]
     },
     "metadata": {},
     "output_type": "display_data"
    },
    {
     "data": {
      "text/plain": [
       "<Figure size 2880x504 with 0 Axes>"
      ]
     },
     "metadata": {},
     "output_type": "display_data"
    },
    {
     "data": {
      "text/plain": [
       "<Figure size 2880x504 with 0 Axes>"
      ]
     },
     "metadata": {},
     "output_type": "display_data"
    },
    {
     "data": {
      "text/plain": [
       "<Figure size 2880x504 with 0 Axes>"
      ]
     },
     "metadata": {},
     "output_type": "display_data"
    },
    {
     "data": {
      "text/plain": [
       "<Figure size 2880x504 with 0 Axes>"
      ]
     },
     "metadata": {},
     "output_type": "display_data"
    },
    {
     "data": {
      "text/plain": [
       "<Figure size 2880x504 with 0 Axes>"
      ]
     },
     "metadata": {},
     "output_type": "display_data"
    },
    {
     "data": {
      "text/plain": [
       "<Figure size 2880x504 with 0 Axes>"
      ]
     },
     "metadata": {},
     "output_type": "display_data"
    },
    {
     "data": {
      "text/plain": [
       "<Figure size 2880x504 with 0 Axes>"
      ]
     },
     "metadata": {},
     "output_type": "display_data"
    },
    {
     "data": {
      "text/plain": [
       "<Figure size 2880x504 with 0 Axes>"
      ]
     },
     "metadata": {},
     "output_type": "display_data"
    },
    {
     "data": {
      "text/plain": [
       "<Figure size 2880x504 with 0 Axes>"
      ]
     },
     "metadata": {},
     "output_type": "display_data"
    },
    {
     "data": {
      "text/plain": [
       "<Figure size 2880x504 with 0 Axes>"
      ]
     },
     "metadata": {},
     "output_type": "display_data"
    },
    {
     "data": {
      "text/plain": [
       "<Figure size 2880x504 with 0 Axes>"
      ]
     },
     "metadata": {},
     "output_type": "display_data"
    },
    {
     "data": {
      "text/plain": [
       "<Figure size 2880x504 with 0 Axes>"
      ]
     },
     "metadata": {},
     "output_type": "display_data"
    },
    {
     "data": {
      "text/plain": [
       "<Figure size 2880x504 with 0 Axes>"
      ]
     },
     "metadata": {},
     "output_type": "display_data"
    },
    {
     "data": {
      "text/plain": [
       "<Figure size 2880x504 with 0 Axes>"
      ]
     },
     "metadata": {},
     "output_type": "display_data"
    },
    {
     "data": {
      "image/png": "[encoded data removed]",
      "text/plain": [
       "<Figure size 2880x504 with 2 Axes>"
      ]
     },
     "metadata": {},
     "output_type": "display_data"
    }
   ],
   "source": [
    "from collections import defaultdict\n",
    "import matplotlib.pyplot as plt\n",
    "import seaborn as sns\n",
    "import os \n",
    "import pandas as pd\n",
    "\n",
    "def pad_reshape(A,width,isFloat=False):\n",
    "    B=np.empty([1,int(A.shape[1]/width+1)*width],dtype=object)\n",
    "    if isFloat:\n",
    "        B=np.zeros([1,int(A.shape[1]/width+1)*width])\n",
    "        B[:,:A.shape[1]]=A\n",
    "    else:\n",
    "        B[:,:A.shape[1]]=A\n",
    "        B[:,A.shape[1]:]=\"\"\n",
    "    return B.reshape(-1,width)\n",
    " \n",
    "\n",
    "def create_new_score_array(smooth_window,score_array,word_array):\n",
    "    new_score_array=np.zeros(score_array.shape)\n",
    "    half_window=int(smooth_window/2)\n",
    "    punctuation=[\",\",\".\"]\n",
    "    for i in range(score_array.shape[1]):\n",
    "        sub_score_array=score_array[0,max(0,i-half_window):i+half_window+1]\n",
    "        sub_word_array=word_array[0,max(0,i-half_window):i+half_window+1]\n",
    "\n",
    "        mid_pos=half_window\n",
    "\n",
    "        left_pos=mid_pos\n",
    "        right_pos=mid_pos\n",
    "#         print(sub_word_array[left_pos],type(sub_word_array[left_pos]))\n",
    "        while left_pos>0 and str(sub_word_array[left_pos-1][0]) not in punctuation:\n",
    "            left_pos-=1\n",
    "        while right_pos<len(sub_word_array):\n",
    "            right_pos+=1\n",
    "            if str(sub_word_array[right_pos-1][0]) in punctuation:\n",
    "                break\n",
    "        new_score_array[0,i]=np.mean(sub_score_array[left_pos:right_pos])\n",
    "    return new_score_array\n",
    "\n",
    "\n",
    "    \n",
    "def visualize_word_level(tag,unigram_segments,score_list,directory=\"data/word_level_tag_visualization\",smooth_window=0,cmap=\"Greens\"):\n",
    "    doc_dict=defaultdict(lambda:[])\n",
    "\n",
    "    pair_list=list(zip(unigram_segments,score_list))\n",
    "\n",
    "    for ind,pair in enumerate(pair_list):\n",
    "        if ind%10000==0:\n",
    "            print(ind)\n",
    "        docid=pair[0].get_parent().get_parent().name\n",
    "        doc_dict[docid]+=[pair]\n",
    "    print(\"dispatch finished!! \")\n",
    "\n",
    "    for docid in doc_dict:\n",
    "        plt.clf()\n",
    "        doc_dict[docid]=sorted(doc_dict[docid], key=lambda pair: (pair[0].get_parent().position, pair[0].get_contexts()[0].get_word_start()))\n",
    "        ordered_word_score_list=[(pair[0].get_parent().text[pair[0].unigram_cue.char_start:pair[0].unigram_cue.char_end+1], pair[1]) for pair in doc_dict[docid]]\n",
    "        df=pd.DataFrame.from_records(ordered_word_score_list,columns=['word','score'])\n",
    "        fig, ax = plt.subplots(figsize=(40,7))  \n",
    "        width=15\n",
    "        score_array=np.asarray(df[['score']]).reshape(1,-1)\n",
    "        word_array=np.asarray(df[['word']]).reshape(1,-1)\n",
    "        \n",
    "        if smooth_window!=0:\n",
    "            score_array=create_new_score_array(smooth_window,score_array,word_array)\n",
    "#             print(new_score_array.shape)\n",
    "        sns.heatmap(pad_reshape(score_array,width,isFloat=True), cmap=cmap, annot=pad_reshape(word_array,width),fmt='',yticklabels=False,xticklabels=False,ax=ax,annot_kws={\"size\": 15})\n",
    "        plt.savefig(os.path.join(directory,\"run\",docid+\"_\"+tag))\n",
    "  \n",
    "sample_size=train_marginals.shape[0]\n",
    "# visualize_word_level(\"PP\",unigram_segments[:sample_size],list(train_marginals[:sample_size,0].reshape(-1))) \n",
    "# visualize_word_level(\"MN\",unigram_segments[:sample_size],list(train_marginals[:sample_size,1].reshape(-1)))\n",
    "\n",
    "smooth_window=3\n",
    "visualize_word_level(\"PP\"+\"_\"+str(smooth_window),unigram_segments[:sample_size],list(train_marginals[:sample_size,0].reshape(-1)),smooth_window=smooth_window,cmap=\"Reds\",directory=\"data/word_level_tag_visualization/2k\") \n",
    "visualize_word_level(\"MN\"+\"_\"+str(smooth_window),unigram_segments[:sample_size],list(train_marginals[:sample_size,1].reshape(-1)),smooth_window=smooth_window,cmap=\"Blues\",directory=\"data/word_level_tag_visualization/2k\")\n",
    "\n",
    "smooth_window=5\n",
    "visualize_word_level(\"PP\"+\"_\"+str(smooth_window),unigram_segments[:sample_size],list(train_marginals[:sample_size,0].reshape(-1)),smooth_window=smooth_window,cmap=\"Reds\",directory=\"data/word_level_tag_visualization/2k\") \n",
    "visualize_word_level(\"MN\"+\"_\"+str(smooth_window),unigram_segments[:sample_size],list(train_marginals[:sample_size,1].reshape(-1)),smooth_window=smooth_window,cmap=\"Blues\",directory=\"data/word_level_tag_visualization/2k\")\n",
    "\n",
    "smooth_window=7\n",
    "visualize_word_level(\"PP\"+\"_\"+str(smooth_window),unigram_segments[:sample_size],list(train_marginals[:sample_size,0].reshape(-1)),smooth_window=smooth_window,cmap=\"Reds\",directory=\"data/word_level_tag_visualization/2k\") \n",
    "visualize_word_level(\"MN\"+\"_\"+str(smooth_window),unigram_segments[:sample_size],list(train_marginals[:sample_size,1].reshape(-1)),smooth_window=smooth_window,cmap=\"Blues\",directory=\"data/word_level_tag_visualization/2k\")\n",
    "\n"
   ]
  },
  {
   "cell_type": "markdown",
   "metadata": {},
   "source": [
    "We could now view visualization on this train set back in the directory."
   ]
  },
  {
   "cell_type": "code",
   "execution_count": 31,
   "metadata": {},
   "outputs": [],
   "source": [
    "# blind_bucket=1\n",
    "# %time unigram_segment_extractor.apply(sents_split[blind_bucket], split=blind_bucket)\n",
    "# unigram_segments_tmp=session.query(Unigram).filter(Unigram.split == blind_bucket).all()\n",
    "\n",
    "# L_train_tmp=get_L_train(purpose_LFs+mechanism_LFs+null_LFs+new_LFs,split=blind_bucket)\n",
    "# print(\"creating blind_marginals\")\n",
    "\n",
    "# train_marginals_tmp = gen_model.marginals(L_train_tmp)\n",
    "# print(\"visualizing blind_marginals\")\n",
    "# sample_size=train_marginals_tmp.shape[0]\n",
    "# smooth_window=3\n",
    "# visualize_word_level(\"PP\"+\"_\"+str(smooth_window),unigram_segments_tmp[:sample_size],list(train_marginals_tmp[:sample_size,0].reshape(-1)),smooth_window=smooth_window,cmap=\"Reds\",directory=\"data/word_level_tag_visualization/2k/blind\") \n",
    "# visualize_word_level(\"MN\"+\"_\"+str(smooth_window),unigram_segments_tmp[:sample_size],list(train_marginals_tmp[:sample_size,1].reshape(-1)),smooth_window=smooth_window,cmap=\"Blues\",directory=\"data/word_level_tag_visualization/2k/blind\") "
   ]
  },
  {
   "cell_type": "markdown",
   "metadata": {},
   "source": [
    "We could now view visualization on this blind set back in the directory. Look for important mismatch between the visualized segmentation and any missed LFs."
   ]
  },
  {
   "cell_type": "code",
   "execution_count": 16,
   "metadata": {},
   "outputs": [
    {
     "name": "stdout",
     "output_type": "stream",
     "text": [
      "0\n",
      "10000\n",
      "0\n",
      "10000\n",
      "0\n",
      "10000\n"
     ]
    }
   ],
   "source": [
    "def get_candidate_text(segment):\n",
    "    return segment.get_parent().text[segment.unigram_cue.char_start:segment.unigram_cue.char_end+1]\n",
    "\n",
    "def write_csv_gen_label(unigram_segments,train_marginals,csv_path,smooth_window=3):\n",
    "    \n",
    "    pair_list=list(zip(unigram_segments,train_marginals))\n",
    "    new_unigram_segments=[]\n",
    "    new_train_marginals=[]\n",
    "    doc_dict=defaultdict(lambda:[])\n",
    "    for ind,pair in enumerate(pair_list):\n",
    "        if ind%10000==0:\n",
    "            print(ind)\n",
    "        docid=pair[0].get_parent().get_parent().name\n",
    "        doc_dict[docid]+=[pair]\n",
    "\n",
    "    for docid in doc_dict:\n",
    "        doc_dict[docid]=sorted(doc_dict[docid], key=lambda pair: (pair[0].get_parent().position, pair[0].get_contexts()[0].get_word_start()))\n",
    "\n",
    "        ordered_word_score_list=[(pair[0].get_parent().text[pair[0].unigram_cue.char_start:pair[0].unigram_cue.char_end+1], pair[1]) for pair in doc_dict[docid]]\n",
    "        df=pd.DataFrame.from_records(ordered_word_score_list,columns=['word','score'])\n",
    "        score_array=np.asarray(df[['score']]).reshape(1,-1)\n",
    "        new_train_marginals_array=np.zeros([len(doc_dict[docid]),len(score_array[0,0])])\n",
    "        word_array=np.asarray(df[['word']]).reshape(1,-1)\n",
    "        for i in range(len(score_array[0,0])):\n",
    "            \n",
    "            segment_score_array=np.asarray([score_array[0,segment_idx][i] for segment_idx in range(len(doc_dict[docid]))]).reshape(1,-1)\n",
    "            \n",
    "            if smooth_window!=0:\n",
    "                segment_score_array=create_new_score_array(smooth_window,segment_score_array,word_array)\n",
    "\n",
    "            new_train_marginals_array[:,i]=segment_score_array\n",
    "            \n",
    "\n",
    "        for ind, pair in enumerate(doc_dict[docid]):\n",
    "            new_unigram_segments+=[pair[0]]\n",
    "            new_train_marginals+=[new_train_marginals_array[ind]]\n",
    "      \n",
    "    unigram_segments=new_unigram_segments\n",
    "    train_marginals=new_train_marginals\n",
    "        \n",
    "    aggregated_doc=defaultdict(lambda:[])\n",
    "    aggregated_sent=defaultdict(lambda:[])\n",
    "    for idx,train_segment in enumerate(unigram_segments):\n",
    "        sent_id=train_segment.get_parent().id    \n",
    "        winningHighlight=list(train_marginals[idx])\n",
    "        cue=train_segment.get_contexts()[0]\n",
    "        aggregated_sent[sent_id]+=[(cue.char_start,cue.char_end,get_candidate_text(train_segment),winningHighlight)]\n",
    "\n",
    "        doc_id=train_segment.get_parent().get_parent().name\n",
    "        if doc_id not in aggregated_doc:\n",
    "            aggregated_doc[doc_id]=train_segment.get_parent().get_parent().sentences\n",
    "\n",
    "\n",
    "    df_list=[]      \n",
    "    for doc_id in aggregated_doc:\n",
    "        globalPsn=1\n",
    "        for sent in aggregated_doc[doc_id]:\n",
    "            sent_id=sent.id\n",
    "            if sent_id not in aggregated_sent:\n",
    "                raise ValueError('we have no info about this sent'+str(sent))\n",
    "            aggregated_sent[sent_id]=sorted(aggregated_sent[sent_id], key=lambda x: x[0])\n",
    "            for idx,pair in enumerate(aggregated_sent[sent_id]):\n",
    "                text=pair[2]\n",
    "                df_list+=[[pair[3],doc_id,globalPsn,text]]\n",
    "                globalPsn+=1\n",
    "\n",
    "\n",
    "    df=pd.DataFrame(df_list,columns=['winningHighlight', 'paperID', 'globalPsn','content'])\n",
    "    df.to_csv(open(csv_path,\"w\"))   # in the spreadsheet, punctuations are splitted\n",
    "for smooth_window in [3,5,7]:\n",
    "    write_csv_gen_label(unigram_segments,train_marginals,\"data/annotations_2k/split\"+str(train_bucket)+\"_window\"+str(smooth_window)+\".csv\",smooth_window=smooth_window)"
   ]
  },
  {
   "cell_type": "code",
   "execution_count": 60,
   "metadata": {},
   "outputs": [
    {
     "name": "stdout",
     "output_type": "stream",
     "text": [
      "Clearing existing...\n",
      "snorkel_conn_string postgresql:///abstractnet2k\n",
      "if snorkel_postgres? True\n",
      "clearing..\n",
      "Running UDF...\n",
      "snorkel_conn_string postgresql:///abstractnet2k\n",
      "if snorkel_postgres? True\n",
      "[========================================] 100%\n",
      "\n",
      "CPU times: user 16.2 s, sys: 1.17 s, total: 17.4 s\n",
      "Wall time: 31.8 s\n",
      "len(train_segments) 20494\n",
      "applying L_train_tmp\n",
      "snorkel_conn_string postgresql:///abstractnet2k\n",
      "if snorkel_postgres? True\n",
      "2018-10-22 20:30:06.552333\n",
      "snorkel_conn_string postgresql:///abstractnet2k\n",
      "if snorkel_postgres? True\n",
      "cids_count 20494\n",
      "key_group 0\n",
      "Clearing existing...\n",
      "snorkel_conn_string postgresql:///abstractnet2k\n",
      "if snorkel_postgres? True\n",
      "clearing..\n",
      "Running UDF...\n",
      "snorkel_conn_string postgresql:///abstractnet2k\n",
      "if snorkel_postgres? True\n",
      "[========================================] 100%\n",
      "\n",
      "2018-10-22 20:36:22.914586\n",
      "<class 'snorkel.annotations.csr_LabelMatrix'>\n",
      "(20494, 154)\n"
     ]
    },
    {
     "data": {
      "text/markdown": [
       "**Total non_overlapping_coverage on L_train (percentage of labelled over all)**  0.6931296964965356"
      ],
      "text/plain": [
       "<IPython.core.display.Markdown object>"
      ]
     },
     "metadata": {},
     "output_type": "display_data"
    },
    {
     "name": "stdout",
     "output_type": "stream",
     "text": [
      "creating train_marginals\n",
      "0\n",
      "10000\n",
      "20000\n",
      "Clearing existing...\n",
      "snorkel_conn_string postgresql:///abstractnet2k\n",
      "if snorkel_postgres? True\n",
      "clearing..\n",
      "Running UDF...\n",
      "snorkel_conn_string postgresql:///abstractnet2k\n",
      "if snorkel_postgres? True\n",
      "[========================================] 100%\n",
      "\n",
      "CPU times: user 15.8 s, sys: 1.17 s, total: 17 s\n",
      "Wall time: 31.7 s\n",
      "len(train_segments) 21658\n",
      "applying L_train_tmp\n",
      "snorkel_conn_string postgresql:///abstractnet2k\n",
      "if snorkel_postgres? True\n",
      "2018-10-22 20:37:31.725445\n",
      "snorkel_conn_string postgresql:///abstractnet2k\n",
      "if snorkel_postgres? True\n",
      "cids_count 21658\n",
      "key_group 0\n",
      "Clearing existing...\n",
      "snorkel_conn_string postgresql:///abstractnet2k\n",
      "if snorkel_postgres? True\n",
      "clearing..\n",
      "Running UDF...\n",
      "snorkel_conn_string postgresql:///abstractnet2k\n",
      "if snorkel_postgres? True\n",
      "[========================================] 100%\n",
      "\n",
      "2018-10-22 20:45:09.791497\n",
      "<class 'snorkel.annotations.csr_LabelMatrix'>\n",
      "(21658, 154)\n"
     ]
    },
    {
     "data": {
      "text/markdown": [
       "**Total non_overlapping_coverage on L_train (percentage of labelled over all)**  0.6786868593591283"
      ],
      "text/plain": [
       "<IPython.core.display.Markdown object>"
      ]
     },
     "metadata": {},
     "output_type": "display_data"
    },
    {
     "name": "stdout",
     "output_type": "stream",
     "text": [
      "creating train_marginals\n",
      "0\n",
      "10000\n",
      "20000\n",
      "Clearing existing...\n",
      "snorkel_conn_string postgresql:///abstractnet2k\n",
      "if snorkel_postgres? True\n",
      "clearing..\n",
      "Running UDF...\n",
      "snorkel_conn_string postgresql:///abstractnet2k\n",
      "if snorkel_postgres? True\n",
      "[========================================] 100%\n",
      "\n",
      "CPU times: user 15 s, sys: 1.03 s, total: 16 s\n",
      "Wall time: 28.9 s\n",
      "len(train_segments) 21390\n",
      "applying L_train_tmp\n",
      "snorkel_conn_string postgresql:///abstractnet2k\n",
      "if snorkel_postgres? True\n",
      "2018-10-22 20:46:18.587962\n",
      "snorkel_conn_string postgresql:///abstractnet2k\n",
      "if snorkel_postgres? True\n",
      "cids_count 21390\n",
      "key_group 0\n",
      "Clearing existing...\n",
      "snorkel_conn_string postgresql:///abstractnet2k\n",
      "if snorkel_postgres? True\n",
      "clearing..\n",
      "Running UDF...\n",
      "snorkel_conn_string postgresql:///abstractnet2k\n",
      "if snorkel_postgres? True\n",
      "[========================================] 100%\n",
      "\n",
      "2018-10-22 20:53:04.502245\n",
      "<class 'snorkel.annotations.csr_LabelMatrix'>\n",
      "(21390, 154)\n"
     ]
    },
    {
     "data": {
      "text/markdown": [
       "**Total non_overlapping_coverage on L_train (percentage of labelled over all)**  0.6768583450210379"
      ],
      "text/plain": [
       "<IPython.core.display.Markdown object>"
      ]
     },
     "metadata": {},
     "output_type": "display_data"
    },
    {
     "name": "stdout",
     "output_type": "stream",
     "text": [
      "creating train_marginals\n",
      "0\n",
      "10000\n",
      "20000\n",
      "Clearing existing...\n",
      "snorkel_conn_string postgresql:///abstractnet2k\n",
      "if snorkel_postgres? True\n",
      "clearing..\n",
      "Running UDF...\n",
      "snorkel_conn_string postgresql:///abstractnet2k\n",
      "if snorkel_postgres? True\n",
      "[========================================] 100%\n",
      "\n",
      "CPU times: user 14.9 s, sys: 1.03 s, total: 16 s\n",
      "Wall time: 29.3 s\n",
      "len(train_segments) 21396\n",
      "applying L_train_tmp\n",
      "snorkel_conn_string postgresql:///abstractnet2k\n",
      "if snorkel_postgres? True\n",
      "2018-10-22 20:54:09.737775\n",
      "snorkel_conn_string postgresql:///abstractnet2k\n",
      "if snorkel_postgres? True\n",
      "cids_count 21396\n",
      "key_group 0\n",
      "Clearing existing...\n",
      "snorkel_conn_string postgresql:///abstractnet2k\n",
      "if snorkel_postgres? True\n",
      "clearing..\n",
      "Running UDF...\n",
      "snorkel_conn_string postgresql:///abstractnet2k\n",
      "if snorkel_postgres? True\n",
      "[========================================] 100%\n",
      "\n",
      "2018-10-22 21:00:20.185834\n",
      "<class 'snorkel.annotations.csr_LabelMatrix'>\n",
      "(21396, 154)\n"
     ]
    },
    {
     "data": {
      "text/markdown": [
       "**Total non_overlapping_coverage on L_train (percentage of labelled over all)**  0.6910637502336885"
      ],
      "text/plain": [
       "<IPython.core.display.Markdown object>"
      ]
     },
     "metadata": {},
     "output_type": "display_data"
    },
    {
     "name": "stdout",
     "output_type": "stream",
     "text": [
      "creating train_marginals\n",
      "0\n",
      "10000\n",
      "20000\n",
      "Clearing existing...\n",
      "snorkel_conn_string postgresql:///abstractnet2k\n",
      "if snorkel_postgres? True\n",
      "clearing..\n",
      "Running UDF...\n",
      "snorkel_conn_string postgresql:///abstractnet2k\n",
      "if snorkel_postgres? True\n",
      "[========================================] 100%\n",
      "\n",
      "CPU times: user 32.2 s, sys: 2.05 s, total: 34.2 s\n",
      "Wall time: 1min 6s\n",
      "len(train_segments) 21546\n",
      "applying L_train_tmp\n",
      "snorkel_conn_string postgresql:///abstractnet2k\n",
      "if snorkel_postgres? True\n",
      "2018-10-22 21:02:03.181431\n",
      "snorkel_conn_string postgresql:///abstractnet2k\n",
      "if snorkel_postgres? True\n",
      "cids_count 21546\n",
      "key_group 0\n",
      "Clearing existing...\n",
      "snorkel_conn_string postgresql:///abstractnet2k\n",
      "if snorkel_postgres? True\n",
      "clearing..\n",
      "Running UDF...\n",
      "snorkel_conn_string postgresql:///abstractnet2k\n",
      "if snorkel_postgres? True\n",
      "[========================================] 100%\n",
      "\n",
      "2018-10-22 21:08:15.133205\n",
      "<class 'snorkel.annotations.csr_LabelMatrix'>\n",
      "(21546, 154)\n"
     ]
    },
    {
     "data": {
      "text/markdown": [
       "**Total non_overlapping_coverage on L_train (percentage of labelled over all)**  0.658915808038615"
      ],
      "text/plain": [
       "<IPython.core.display.Markdown object>"
      ]
     },
     "metadata": {},
     "output_type": "display_data"
    },
    {
     "name": "stdout",
     "output_type": "stream",
     "text": [
      "creating train_marginals\n",
      "0\n",
      "10000\n",
      "20000\n",
      "Clearing existing...\n",
      "snorkel_conn_string postgresql:///abstractnet2k\n",
      "if snorkel_postgres? True\n",
      "clearing..\n",
      "Running UDF...\n",
      "snorkel_conn_string postgresql:///abstractnet2k\n",
      "if snorkel_postgres? True\n",
      "[========================================] 100%\n",
      "\n",
      "CPU times: user 28 s, sys: 1.73 s, total: 29.7 s\n",
      "Wall time: 58.1 s\n",
      "len(train_segments) 19429\n",
      "applying L_train_tmp\n",
      "snorkel_conn_string postgresql:///abstractnet2k\n",
      "if snorkel_postgres? True\n",
      "2018-10-22 21:09:46.763205\n",
      "snorkel_conn_string postgresql:///abstractnet2k\n",
      "if snorkel_postgres? True\n",
      "cids_count 19429\n",
      "key_group 0\n",
      "Clearing existing...\n",
      "snorkel_conn_string postgresql:///abstractnet2k\n",
      "if snorkel_postgres? True\n",
      "clearing..\n",
      "Running UDF...\n",
      "snorkel_conn_string postgresql:///abstractnet2k\n",
      "if snorkel_postgres? True\n",
      "[========================================] 100%\n",
      "\n",
      "2018-10-22 21:15:29.782269\n",
      "<class 'snorkel.annotations.csr_LabelMatrix'>\n",
      "(19429, 154)\n"
     ]
    },
    {
     "data": {
      "text/markdown": [
       "**Total non_overlapping_coverage on L_train (percentage of labelled over all)**  0.6721395851562098"
      ],
      "text/plain": [
       "<IPython.core.display.Markdown object>"
      ]
     },
     "metadata": {},
     "output_type": "display_data"
    },
    {
     "name": "stdout",
     "output_type": "stream",
     "text": [
      "creating train_marginals\n",
      "0\n",
      "10000\n",
      "Clearing existing...\n",
      "snorkel_conn_string postgresql:///abstractnet2k\n",
      "if snorkel_postgres? True\n",
      "clearing..\n",
      "Running UDF...\n",
      "snorkel_conn_string postgresql:///abstractnet2k\n",
      "if snorkel_postgres? True\n",
      "[========================================] 100%\n",
      "\n",
      "CPU times: user 33.5 s, sys: 2.13 s, total: 35.6 s\n",
      "Wall time: 1min 7s\n",
      "len(train_segments) 22718\n",
      "applying L_train_tmp\n",
      "snorkel_conn_string postgresql:///abstractnet2k\n",
      "if snorkel_postgres? True\n",
      "2018-10-22 21:17:28.082445\n",
      "snorkel_conn_string postgresql:///abstractnet2k\n",
      "if snorkel_postgres? True\n",
      "cids_count 22718\n",
      "key_group 0\n",
      "Clearing existing...\n",
      "snorkel_conn_string postgresql:///abstractnet2k\n",
      "if snorkel_postgres? True\n",
      "clearing..\n",
      "Running UDF...\n",
      "snorkel_conn_string postgresql:///abstractnet2k\n",
      "if snorkel_postgres? True\n",
      "[========================================] 100%\n",
      "\n",
      "2018-10-22 21:25:34.850938\n",
      "<class 'snorkel.annotations.csr_LabelMatrix'>\n",
      "(22718, 154)\n"
     ]
    },
    {
     "data": {
      "text/markdown": [
       "**Total non_overlapping_coverage on L_train (percentage of labelled over all)**  0.6686768201426182"
      ],
      "text/plain": [
       "<IPython.core.display.Markdown object>"
      ]
     },
     "metadata": {},
     "output_type": "display_data"
    },
    {
     "name": "stdout",
     "output_type": "stream",
     "text": [
      "creating train_marginals\n",
      "0\n",
      "10000\n",
      "20000\n",
      "Clearing existing...\n",
      "snorkel_conn_string postgresql:///abstractnet2k\n",
      "if snorkel_postgres? True\n",
      "clearing..\n",
      "Running UDF...\n",
      "snorkel_conn_string postgresql:///abstractnet2k\n",
      "if snorkel_postgres? True\n",
      "[========================================] 100%\n",
      "\n",
      "CPU times: user 30.7 s, sys: 1.99 s, total: 32.7 s\n",
      "Wall time: 1min 4s\n",
      "len(train_segments) 19511\n",
      "applying L_train_tmp\n",
      "snorkel_conn_string postgresql:///abstractnet2k\n",
      "if snorkel_postgres? True\n",
      "2018-10-22 21:27:23.874319\n",
      "snorkel_conn_string postgresql:///abstractnet2k\n",
      "if snorkel_postgres? True\n",
      "cids_count 19511\n",
      "key_group 0\n",
      "Clearing existing...\n",
      "snorkel_conn_string postgresql:///abstractnet2k\n",
      "if snorkel_postgres? True\n",
      "clearing..\n",
      "Running UDF...\n",
      "snorkel_conn_string postgresql:///abstractnet2k\n",
      "if snorkel_postgres? True\n",
      "[========================================] 100%\n",
      "\n",
      "2018-10-22 21:34:30.001522\n",
      "<class 'snorkel.annotations.csr_LabelMatrix'>\n",
      "(19511, 154)\n"
     ]
    },
    {
     "data": {
      "text/markdown": [
       "**Total non_overlapping_coverage on L_train (percentage of labelled over all)**  0.7030393111578084"
      ],
      "text/plain": [
       "<IPython.core.display.Markdown object>"
      ]
     },
     "metadata": {},
     "output_type": "display_data"
    },
    {
     "name": "stdout",
     "output_type": "stream",
     "text": [
      "creating train_marginals\n",
      "0\n",
      "10000\n",
      "Clearing existing...\n",
      "snorkel_conn_string postgresql:///abstractnet2k\n",
      "if snorkel_postgres? True\n",
      "clearing..\n",
      "Running UDF...\n",
      "snorkel_conn_string postgresql:///abstractnet2k\n",
      "if snorkel_postgres? True\n",
      "[========================================] 100%\n",
      "\n",
      "CPU times: user 38.2 s, sys: 2.72 s, total: 40.9 s\n",
      "Wall time: 1min 22s\n",
      "len(train_segments) 22050\n",
      "applying L_train_tmp\n",
      "snorkel_conn_string postgresql:///abstractnet2k\n",
      "if snorkel_postgres? True\n",
      "2018-10-22 21:36:37.810889\n",
      "snorkel_conn_string postgresql:///abstractnet2k\n",
      "if snorkel_postgres? True\n",
      "cids_count 22050\n",
      "key_group 0\n",
      "Clearing existing...\n",
      "snorkel_conn_string postgresql:///abstractnet2k\n",
      "if snorkel_postgres? True\n",
      "clearing..\n",
      "Running UDF...\n",
      "snorkel_conn_string postgresql:///abstractnet2k\n",
      "if snorkel_postgres? True\n",
      "[========================================] 100%\n",
      "\n",
      "2018-10-22 21:44:46.057156\n",
      "<class 'snorkel.annotations.csr_LabelMatrix'>\n",
      "(22050, 154)\n"
     ]
    },
    {
     "data": {
      "text/markdown": [
       "**Total non_overlapping_coverage on L_train (percentage of labelled over all)**  0.6615873015873016"
      ],
      "text/plain": [
       "<IPython.core.display.Markdown object>"
      ]
     },
     "metadata": {},
     "output_type": "display_data"
    },
    {
     "name": "stdout",
     "output_type": "stream",
     "text": [
      "creating train_marginals\n",
      "0\n",
      "10000\n",
      "20000\n",
      "Clearing existing...\n",
      "snorkel_conn_string postgresql:///abstractnet2k\n",
      "if snorkel_postgres? True\n",
      "clearing..\n",
      "Running UDF...\n",
      "snorkel_conn_string postgresql:///abstractnet2k\n",
      "if snorkel_postgres? True\n",
      "[========================================] 100%\n",
      "\n",
      "CPU times: user 33.6 s, sys: 2.28 s, total: 35.9 s\n",
      "Wall time: 1min 13s\n",
      "len(train_segments) 20946\n",
      "applying L_train_tmp\n",
      "snorkel_conn_string postgresql:///abstractnet2k\n",
      "if snorkel_postgres? True\n",
      "2018-10-22 21:46:44.375752\n",
      "snorkel_conn_string postgresql:///abstractnet2k\n",
      "if snorkel_postgres? True\n",
      "cids_count 20946\n",
      "key_group 0\n",
      "Clearing existing...\n",
      "snorkel_conn_string postgresql:///abstractnet2k\n",
      "if snorkel_postgres? True\n",
      "clearing..\n",
      "Running UDF...\n",
      "snorkel_conn_string postgresql:///abstractnet2k\n",
      "if snorkel_postgres? True\n",
      "[========================================] 100%\n",
      "\n",
      "2018-10-22 21:54:21.615352\n",
      "<class 'snorkel.annotations.csr_LabelMatrix'>\n",
      "(20946, 154)\n"
     ]
    },
    {
     "data": {
      "text/markdown": [
       "**Total non_overlapping_coverage on L_train (percentage of labelled over all)**  0.6815621120977753"
      ],
      "text/plain": [
       "<IPython.core.display.Markdown object>"
      ]
     },
     "metadata": {},
     "output_type": "display_data"
    },
    {
     "name": "stdout",
     "output_type": "stream",
     "text": [
      "creating train_marginals\n",
      "0\n",
      "10000\n",
      "20000\n",
      "Clearing existing...\n",
      "snorkel_conn_string postgresql:///abstractnet2k\n",
      "if snorkel_postgres? True\n",
      "clearing..\n",
      "Running UDF...\n",
      "snorkel_conn_string postgresql:///abstractnet2k\n",
      "if snorkel_postgres? True\n",
      "[========================================] 100%\n",
      "\n",
      "CPU times: user 33.6 s, sys: 2.32 s, total: 35.9 s\n",
      "Wall time: 1min 11s\n",
      "len(train_segments) 19990\n",
      "applying L_train_tmp\n",
      "snorkel_conn_string postgresql:///abstractnet2k\n",
      "if snorkel_postgres? True\n",
      "2018-10-22 21:56:21.978300\n",
      "snorkel_conn_string postgresql:///abstractnet2k\n",
      "if snorkel_postgres? True\n",
      "cids_count 19990\n",
      "key_group 0\n",
      "Clearing existing...\n",
      "snorkel_conn_string postgresql:///abstractnet2k\n",
      "if snorkel_postgres? True\n",
      "clearing..\n",
      "Running UDF...\n",
      "snorkel_conn_string postgresql:///abstractnet2k\n",
      "if snorkel_postgres? True\n",
      "[========================================] 100%\n",
      "\n",
      "2018-10-22 22:03:30.138055\n",
      "<class 'snorkel.annotations.csr_LabelMatrix'>\n",
      "(19990, 154)\n"
     ]
    },
    {
     "data": {
      "text/markdown": [
       "**Total non_overlapping_coverage on L_train (percentage of labelled over all)**  0.6719859929964982"
      ],
      "text/plain": [
       "<IPython.core.display.Markdown object>"
      ]
     },
     "metadata": {},
     "output_type": "display_data"
    },
    {
     "name": "stdout",
     "output_type": "stream",
     "text": [
      "creating train_marginals\n",
      "0\n",
      "10000\n",
      "Clearing existing...\n",
      "snorkel_conn_string postgresql:///abstractnet2k\n",
      "if snorkel_postgres? True\n",
      "clearing..\n",
      "Running UDF...\n",
      "snorkel_conn_string postgresql:///abstractnet2k\n",
      "if snorkel_postgres? True\n",
      "[========================================] 100%\n",
      "\n",
      "CPU times: user 35.6 s, sys: 2.41 s, total: 38 s\n",
      "Wall time: 1min 14s\n",
      "len(train_segments) 22236\n",
      "applying L_train_tmp\n",
      "snorkel_conn_string postgresql:///abstractnet2k\n",
      "if snorkel_postgres? True\n",
      "2018-10-22 22:05:25.508324\n",
      "snorkel_conn_string postgresql:///abstractnet2k\n",
      "if snorkel_postgres? True\n",
      "cids_count 22236\n",
      "key_group 0\n",
      "Clearing existing...\n",
      "snorkel_conn_string postgresql:///abstractnet2k\n",
      "if snorkel_postgres? True\n",
      "clearing..\n",
      "Running UDF...\n",
      "snorkel_conn_string postgresql:///abstractnet2k\n",
      "if snorkel_postgres? True\n",
      "[========================================] 100%\n",
      "\n",
      "2018-10-22 22:13:07.066581\n",
      "<class 'snorkel.annotations.csr_LabelMatrix'>\n",
      "(22236, 154)\n"
     ]
    },
    {
     "data": {
      "text/markdown": [
       "**Total non_overlapping_coverage on L_train (percentage of labelled over all)**  0.6740870660190682"
      ],
      "text/plain": [
       "<IPython.core.display.Markdown object>"
      ]
     },
     "metadata": {},
     "output_type": "display_data"
    },
    {
     "name": "stdout",
     "output_type": "stream",
     "text": [
      "creating train_marginals\n",
      "0\n",
      "10000\n",
      "20000\n",
      "Clearing existing...\n",
      "snorkel_conn_string postgresql:///abstractnet2k\n",
      "if snorkel_postgres? True\n",
      "clearing..\n",
      "Running UDF...\n",
      "snorkel_conn_string postgresql:///abstractnet2k\n",
      "if snorkel_postgres? True\n",
      "[========================================] 100%\n",
      "\n",
      "CPU times: user 28.2 s, sys: 1.77 s, total: 30 s\n",
      "Wall time: 58.2 s\n",
      "len(train_segments) 19502\n",
      "applying L_train_tmp\n",
      "snorkel_conn_string postgresql:///abstractnet2k\n",
      "if snorkel_postgres? True\n",
      "2018-10-22 22:14:40.984078\n",
      "snorkel_conn_string postgresql:///abstractnet2k\n",
      "if snorkel_postgres? True\n",
      "cids_count 19502\n",
      "key_group 0\n",
      "Clearing existing...\n",
      "snorkel_conn_string postgresql:///abstractnet2k\n",
      "if snorkel_postgres? True\n",
      "clearing..\n",
      "Running UDF...\n",
      "snorkel_conn_string postgresql:///abstractnet2k\n",
      "if snorkel_postgres? True\n",
      "[========================================] 100%\n",
      "\n",
      "2018-10-22 22:20:19.074086\n",
      "<class 'snorkel.annotations.csr_LabelMatrix'>\n",
      "(19502, 154)\n"
     ]
    },
    {
     "data": {
      "text/markdown": [
       "**Total non_overlapping_coverage on L_train (percentage of labelled over all)**  0.6562916623936007"
      ],
      "text/plain": [
       "<IPython.core.display.Markdown object>"
      ]
     },
     "metadata": {},
     "output_type": "display_data"
    },
    {
     "name": "stdout",
     "output_type": "stream",
     "text": [
      "creating train_marginals\n",
      "0\n",
      "10000\n",
      "Clearing existing...\n",
      "snorkel_conn_string postgresql:///abstractnet2k\n",
      "if snorkel_postgres? True\n",
      "clearing..\n",
      "Running UDF...\n",
      "snorkel_conn_string postgresql:///abstractnet2k\n",
      "if snorkel_postgres? True\n",
      "[========================================] 100%\n",
      "\n",
      "CPU times: user 28.4 s, sys: 1.77 s, total: 30.2 s\n",
      "Wall time: 58.6 s\n",
      "len(train_segments) 19777\n",
      "applying L_train_tmp\n",
      "snorkel_conn_string postgresql:///abstractnet2k\n",
      "if snorkel_postgres? True\n",
      "2018-10-22 22:21:51.167230\n",
      "snorkel_conn_string postgresql:///abstractnet2k\n",
      "if snorkel_postgres? True\n",
      "cids_count 19777\n",
      "key_group 0\n",
      "Clearing existing...\n",
      "snorkel_conn_string postgresql:///abstractnet2k\n",
      "if snorkel_postgres? True\n",
      "clearing..\n",
      "Running UDF...\n",
      "snorkel_conn_string postgresql:///abstractnet2k\n",
      "if snorkel_postgres? True\n",
      "[========================================] 100%\n",
      "\n",
      "2018-10-22 22:27:38.872310\n",
      "<class 'snorkel.annotations.csr_LabelMatrix'>\n",
      "(19777, 154)\n"
     ]
    },
    {
     "data": {
      "text/markdown": [
       "**Total non_overlapping_coverage on L_train (percentage of labelled over all)**  0.6351822824493099"
      ],
      "text/plain": [
       "<IPython.core.display.Markdown object>"
      ]
     },
     "metadata": {},
     "output_type": "display_data"
    },
    {
     "name": "stdout",
     "output_type": "stream",
     "text": [
      "creating train_marginals\n",
      "0\n",
      "10000\n",
      "Clearing existing...\n",
      "snorkel_conn_string postgresql:///abstractnet2k\n",
      "if snorkel_postgres? True\n",
      "clearing..\n",
      "Running UDF...\n",
      "snorkel_conn_string postgresql:///abstractnet2k\n",
      "if snorkel_postgres? True\n",
      "[========================================] 100%\n",
      "\n",
      "CPU times: user 30.2 s, sys: 1.86 s, total: 32.1 s\n",
      "Wall time: 1min 3s\n",
      "len(train_segments) 20902\n",
      "applying L_train_tmp\n",
      "snorkel_conn_string postgresql:///abstractnet2k\n",
      "if snorkel_postgres? True\n",
      "2018-10-22 22:29:15.104924\n",
      "snorkel_conn_string postgresql:///abstractnet2k\n",
      "if snorkel_postgres? True\n",
      "cids_count 20902\n",
      "key_group 0\n",
      "Clearing existing...\n",
      "snorkel_conn_string postgresql:///abstractnet2k\n",
      "if snorkel_postgres? True\n",
      "clearing..\n",
      "Running UDF...\n",
      "snorkel_conn_string postgresql:///abstractnet2k\n",
      "if snorkel_postgres? True\n",
      "[========================================] 100%\n",
      "\n",
      "2018-10-22 22:35:43.460847\n",
      "<class 'snorkel.annotations.csr_LabelMatrix'>\n",
      "(20902, 154)\n"
     ]
    },
    {
     "data": {
      "text/markdown": [
       "**Total non_overlapping_coverage on L_train (percentage of labelled over all)**  0.6750550186585016"
      ],
      "text/plain": [
       "<IPython.core.display.Markdown object>"
      ]
     },
     "metadata": {},
     "output_type": "display_data"
    },
    {
     "name": "stdout",
     "output_type": "stream",
     "text": [
      "creating train_marginals\n",
      "0\n",
      "10000\n",
      "20000\n",
      "Clearing existing...\n",
      "snorkel_conn_string postgresql:///abstractnet2k\n",
      "if snorkel_postgres? True\n",
      "clearing..\n",
      "Running UDF...\n",
      "snorkel_conn_string postgresql:///abstractnet2k\n",
      "if snorkel_postgres? True\n",
      "[========================================] 100%\n",
      "\n",
      "CPU times: user 33.2 s, sys: 2.25 s, total: 35.5 s\n",
      "Wall time: 1min 12s\n",
      "len(train_segments) 21160\n",
      "applying L_train_tmp\n",
      "snorkel_conn_string postgresql:///abstractnet2k\n",
      "if snorkel_postgres? True\n",
      "2018-10-22 22:37:30.637581\n",
      "snorkel_conn_string postgresql:///abstractnet2k\n",
      "if snorkel_postgres? True\n",
      "cids_count 21160\n",
      "key_group 0\n",
      "Clearing existing...\n",
      "snorkel_conn_string postgresql:///abstractnet2k\n",
      "if snorkel_postgres? True\n",
      "clearing..\n",
      "Running UDF...\n",
      "snorkel_conn_string postgresql:///abstractnet2k\n",
      "if snorkel_postgres? True\n",
      "[========================================] 100%\n",
      "\n",
      "2018-10-22 22:45:07.890240\n",
      "<class 'snorkel.annotations.csr_LabelMatrix'>\n",
      "(21160, 154)\n"
     ]
    },
    {
     "data": {
      "text/markdown": [
       "**Total non_overlapping_coverage on L_train (percentage of labelled over all)**  0.6909262759924386"
      ],
      "text/plain": [
       "<IPython.core.display.Markdown object>"
      ]
     },
     "metadata": {},
     "output_type": "display_data"
    },
    {
     "name": "stdout",
     "output_type": "stream",
     "text": [
      "creating train_marginals\n",
      "0\n",
      "10000\n",
      "20000\n",
      "Clearing existing...\n",
      "snorkel_conn_string postgresql:///abstractnet2k\n",
      "if snorkel_postgres? True\n",
      "clearing..\n",
      "Running UDF...\n",
      "snorkel_conn_string postgresql:///abstractnet2k\n",
      "if snorkel_postgres? True\n",
      "[========================================] 100%\n",
      "\n",
      "CPU times: user 33.2 s, sys: 2.44 s, total: 35.6 s\n",
      "Wall time: 1min 11s\n",
      "len(train_segments) 19438\n",
      "applying L_train_tmp\n",
      "snorkel_conn_string postgresql:///abstractnet2k\n",
      "if snorkel_postgres? True\n",
      "2018-10-22 22:47:15.481282\n",
      "snorkel_conn_string postgresql:///abstractnet2k\n",
      "if snorkel_postgres? True\n",
      "cids_count 19438\n",
      "key_group 0\n",
      "Clearing existing...\n",
      "snorkel_conn_string postgresql:///abstractnet2k\n",
      "if snorkel_postgres? True\n",
      "clearing..\n",
      "Running UDF...\n",
      "snorkel_conn_string postgresql:///abstractnet2k\n",
      "if snorkel_postgres? True\n",
      "[========================================] 100%\n",
      "\n",
      "2018-10-22 22:54:37.839374\n",
      "<class 'snorkel.annotations.csr_LabelMatrix'>\n",
      "(19438, 154)\n"
     ]
    },
    {
     "data": {
      "text/markdown": [
       "**Total non_overlapping_coverage on L_train (percentage of labelled over all)**  0.6890112151455912"
      ],
      "text/plain": [
       "<IPython.core.display.Markdown object>"
      ]
     },
     "metadata": {},
     "output_type": "display_data"
    },
    {
     "name": "stdout",
     "output_type": "stream",
     "text": [
      "creating train_marginals\n",
      "0\n",
      "10000\n",
      "Clearing existing...\n",
      "snorkel_conn_string postgresql:///abstractnet2k\n",
      "if snorkel_postgres? True\n",
      "clearing..\n",
      "Running UDF...\n",
      "snorkel_conn_string postgresql:///abstractnet2k\n",
      "if snorkel_postgres? True\n",
      "[========================================] 100%\n",
      "\n",
      "CPU times: user 32.3 s, sys: 2.46 s, total: 34.7 s\n",
      "Wall time: 1min 10s\n",
      "len(train_segments) 20093\n",
      "applying L_train_tmp\n",
      "snorkel_conn_string postgresql:///abstractnet2k\n",
      "if snorkel_postgres? True\n",
      "2018-10-22 22:56:33.193266\n",
      "snorkel_conn_string postgresql:///abstractnet2k\n",
      "if snorkel_postgres? True\n",
      "cids_count 20093\n",
      "key_group 0\n",
      "Clearing existing...\n",
      "snorkel_conn_string postgresql:///abstractnet2k\n",
      "if snorkel_postgres? True\n",
      "clearing..\n",
      "Running UDF...\n",
      "snorkel_conn_string postgresql:///abstractnet2k\n",
      "if snorkel_postgres? True\n",
      "[========================================] 100%\n",
      "\n",
      "2018-10-22 23:04:34.090575\n",
      "<class 'snorkel.annotations.csr_LabelMatrix'>\n",
      "(20093, 154)\n"
     ]
    },
    {
     "data": {
      "text/markdown": [
       "**Total non_overlapping_coverage on L_train (percentage of labelled over all)**  0.7041755835365551"
      ],
      "text/plain": [
       "<IPython.core.display.Markdown object>"
      ]
     },
     "metadata": {},
     "output_type": "display_data"
    },
    {
     "name": "stdout",
     "output_type": "stream",
     "text": [
      "creating train_marginals\n",
      "0\n",
      "10000\n",
      "20000\n",
      "Clearing existing...\n",
      "snorkel_conn_string postgresql:///abstractnet2k\n",
      "if snorkel_postgres? True\n",
      "clearing..\n",
      "Running UDF...\n",
      "snorkel_conn_string postgresql:///abstractnet2k\n",
      "if snorkel_postgres? True\n",
      "[========================================] 100%\n",
      "\n",
      "CPU times: user 15.9 s, sys: 1.11 s, total: 17 s\n",
      "Wall time: 33.3 s\n",
      "len(train_segments) 9957\n",
      "applying L_train_tmp\n",
      "snorkel_conn_string postgresql:///abstractnet2k\n",
      "if snorkel_postgres? True\n",
      "2018-10-22 23:05:54.751411\n",
      "snorkel_conn_string postgresql:///abstractnet2k\n",
      "if snorkel_postgres? True\n",
      "cids_count 9957\n",
      "key_group 0\n",
      "Clearing existing...\n",
      "snorkel_conn_string postgresql:///abstractnet2k\n",
      "if snorkel_postgres? True\n",
      "clearing..\n",
      "Running UDF...\n",
      "snorkel_conn_string postgresql:///abstractnet2k\n",
      "if snorkel_postgres? True\n",
      "[========================================] 100%\n",
      "\n",
      "2018-10-22 23:08:46.010110\n",
      "<class 'snorkel.annotations.csr_LabelMatrix'>\n",
      "(9957, 154)\n"
     ]
    },
    {
     "data": {
      "text/markdown": [
       "**Total non_overlapping_coverage on L_train (percentage of labelled over all)**  0.6949884503364467"
      ],
      "text/plain": [
       "<IPython.core.display.Markdown object>"
      ]
     },
     "metadata": {},
     "output_type": "display_data"
    },
    {
     "name": "stdout",
     "output_type": "stream",
     "text": [
      "creating train_marginals\n",
      "0\n"
     ]
    }
   ],
   "source": [
    "# regroup annotation back to csv, also export smoothed score array \n",
    "\n",
    "for train_bucket in range(1,len(sents_split)):\n",
    "    print(\"running train_bucket\", train_bucket)\n",
    "    if train_bucket!=0:\n",
    "        %time unigram_segment_extractor.apply(sents_split[train_bucket], split=train_bucket)\n",
    "    unigram_segments_tmp=session.query(Unigram).filter(Unigram.split == train_bucket).all()\n",
    "    print(\"len(train_segments)\",len(unigram_segments_tmp))\n",
    "    print(\"applying L_train_tmp\")\n",
    "    L_train_tmp=get_L_train(purpose_LFs+mechanism_LFs+null_LFs,split=train_bucket)\n",
    "    print(\"creating train_marginals\")\n",
    "    train_marginals_tmp = gen_model.marginals(L_train_tmp)\n",
    "    \n",
    "    write_csv_gen_label(unigram_segments_tmp,train_marginals_tmp,\"data/annotations_2k/split\"+str(train_bucket)+\".csv\")\n"
   ]
  },
  {
   "cell_type": "code",
   "execution_count": 61,
   "metadata": {},
   "outputs": [],
   "source": [
    "# You're trying to build one large dataframe out of the rows of many dataframes who all have the same column names. axis should be 0 (the default), not 1. Also you don't need to specify a type of join. This will have no effect since the column names are the same for each dataframe.\n",
    "\n",
    "# df = pd.concat([df1, df2, df3])\n",
    "\n",
    "sub_dfs=[]\n",
    "for train_bucket in range(len(sents_split)):\n",
    "    sub_dfs+=[pd.read_csv(open(\"data/annotations_2k/split\"+str(train_bucket)+\".csv\",\"r\"))]\n",
    "df = pd.concat(sub_dfs)\n",
    "df=df.drop(columns=['Unnamed: 0'])\n",
    "df.to_csv(open(\"data/annotations_2k/joint_split.csv\",\"w\"))"
   ]
  },
  {
   "cell_type": "code",
   "execution_count": 62,
   "metadata": {},
   "outputs": [],
   "source": [
    "df2=df.copy()\n",
    "import ast\n",
    "import numpy as np\n",
    "\n",
    "def transform_gm_label(x):\n",
    "    x=ast.literal_eval(x)\n",
    "    if abs(x[0]-x[1])<1e-4 and abs(x[1]-x[2])<1e-4:\n",
    "        return [0,0,1]\n",
    "    elif np.argmax(x)==0:\n",
    "        return [1,0,0]\n",
    "    return [0,1,0]\n",
    "\n",
    "df2['winningHighlight'] = df2['winningHighlight'].apply(lambda x: transform_gm_label(x))\n",
    "df2.to_csv(open(\"data/annotations_2k/joint_split_hard_as_soft.csv\",\"w\"))"
   ]
  },
  {
   "cell_type": "code",
   "execution_count": 65,
   "metadata": {},
   "outputs": [],
   "source": [
    "import ast\n",
    "import numpy as np\n",
    "\n",
    "def transform_gm_label(x,threshold=0.33):\n",
    "    x=ast.literal_eval(x)\n",
    "    if abs(x[0]-x[1])<1e-4 and abs(x[1]-x[2])<1e-4:\n",
    "        return [0,0,0]\n",
    "    elif np.argmax(x)==0 and x[0]>threshold:\n",
    "        return [1,0,0]\n",
    "    elif np.argmax(x)==1 and x[1]>threshold:\n",
    "        return [0,1,0]\n",
    "    elif np.argmax(x)==2 and x[2]>threshold:\n",
    "        return [0,0,1]\n",
    "    else:\n",
    "        return [0,0,0]\n",
    "\n",
    "for threshold in [0.33, 0.4, 0.5, 0.6, 0.7, 0.75, 0.8, 0.85, 0.9, 0.95]:\n",
    "    df2=df.copy()   \n",
    "    df2['winningHighlight'] = df2['winningHighlight'].apply(lambda x: transform_gm_label(x,threshold=threshold))\n",
    "    df2.to_csv(open(\"data/annotations_2k/joint_split_hard_as_soft_break_tie_\"+str(threshold)+\".csv\",\"w\"))\n",
    "    "
   ]
  },
  {
   "cell_type": "markdown",
   "metadata": {},
   "source": [
    "### Peripheral codes to examine Candidates"
   ]
  },
  {
   "cell_type": "code",
   "execution_count": 48,
   "metadata": {},
   "outputs": [
    {
     "name": "stdout",
     "output_type": "stream",
     "text": [
      "Unigram(Span(\"b'tend'\", sentence=2248, chars=[39,42], words=[9,9]))\n",
      "Specifically, we showed that (a) users tend to like stories submitted by friends and (b) users tend to like stories their friends read and liked.\n",
      "0\n",
      "\n",
      "Unigram(Span(\"b'like'\", sentence=2248, chars=[103,106], words=[23,23]))\n",
      "Specifically, we showed that (a) users tend to like stories submitted by friends and (b) users tend to like stories their friends read and liked.\n",
      "0\n",
      "\n",
      "Unigram(Span(\"b'to'\", sentence=2248, chars=[44,45], words=[10,10]))\n",
      "Specifically, we showed that (a) users tend to like stories submitted by friends and (b) users tend to like stories their friends read and liked.\n",
      "0\n",
      "\n",
      "Unigram(Span(\"b'stories'\", sentence=2248, chars=[108,114], words=[24,24]))\n",
      "Specifically, we showed that (a) users tend to like stories submitted by friends and (b) users tend to like stories their friends read and liked.\n",
      "0\n",
      "\n",
      "Unigram(Span(\"b'like'\", sentence=2248, chars=[47,50], words=[11,11]))\n",
      "Specifically, we showed that (a) users tend to like stories submitted by friends and (b) users tend to like stories their friends read and liked.\n",
      "0\n",
      "\n",
      "Unigram(Span(\"b'their'\", sentence=2248, chars=[116,120], words=[25,25]))\n",
      "Specifically, we showed that (a) users tend to like stories submitted by friends and (b) users tend to like stories their friends read and liked.\n",
      "0\n",
      "\n",
      "Unigram(Span(\"b'stories'\", sentence=2248, chars=[52,58], words=[12,12]))\n",
      "Specifically, we showed that (a) users tend to like stories submitted by friends and (b) users tend to like stories their friends read and liked.\n",
      "0\n",
      "\n",
      "Unigram(Span(\"b'friends'\", sentence=2248, chars=[122,128], words=[26,26]))\n",
      "Specifically, we showed that (a) users tend to like stories submitted by friends and (b) users tend to like stories their friends read and liked.\n",
      "0\n",
      "\n",
      "Unigram(Span(\"b'submitted'\", sentence=2248, chars=[60,68], words=[13,13]))\n",
      "Specifically, we showed that (a) users tend to like stories submitted by friends and (b) users tend to like stories their friends read and liked.\n",
      "0\n",
      "\n",
      "Unigram(Span(\"b'read'\", sentence=2248, chars=[130,133], words=[27,27]))\n",
      "Specifically, we showed that (a) users tend to like stories submitted by friends and (b) users tend to like stories their friends read and liked.\n",
      "0\n",
      "\n",
      "Unigram(Span(\"b'Specifically'\", sentence=2248, chars=[0,11], words=[0,0]))\n",
      "Specifically, we showed that (a) users tend to like stories submitted by friends and (b) users tend to like stories their friends read and liked.\n",
      "0\n",
      "\n",
      "Unigram(Span(\"b'by'\", sentence=2248, chars=[70,71], words=[14,14]))\n",
      "Specifically, we showed that (a) users tend to like stories submitted by friends and (b) users tend to like stories their friends read and liked.\n",
      "0\n",
      "\n",
      "Unigram(Span(\"b'and'\", sentence=2248, chars=[135,137], words=[28,28]))\n",
      "Specifically, we showed that (a) users tend to like stories submitted by friends and (b) users tend to like stories their friends read and liked.\n",
      "0\n",
      "\n",
      "Unigram(Span(\"b','\", sentence=2248, chars=[12,12], words=[1,1]))\n",
      "Specifically, we showed that (a) users tend to like stories submitted by friends and (b) users tend to like stories their friends read and liked.\n",
      "0\n",
      "\n",
      "Unigram(Span(\"b'friends'\", sentence=2248, chars=[73,79], words=[15,15]))\n",
      "Specifically, we showed that (a) users tend to like stories submitted by friends and (b) users tend to like stories their friends read and liked.\n",
      "0\n",
      "\n",
      "Unigram(Span(\"b'liked'\", sentence=2248, chars=[139,143], words=[29,29]))\n",
      "Specifically, we showed that (a) users tend to like stories submitted by friends and (b) users tend to like stories their friends read and liked.\n",
      "0\n",
      "\n",
      "Unigram(Span(\"b'we'\", sentence=2248, chars=[14,15], words=[2,2]))\n",
      "Specifically, we showed that (a) users tend to like stories submitted by friends and (b) users tend to like stories their friends read and liked.\n",
      "0\n",
      "\n",
      "Unigram(Span(\"b'.'\", sentence=2248, chars=[144,144], words=[30,30]))\n",
      "Specifically, we showed that (a) users tend to like stories submitted by friends and (b) users tend to like stories their friends read and liked.\n",
      "0\n",
      "\n",
      "Unigram(Span(\"b'and'\", sentence=2248, chars=[81,83], words=[16,16]))\n",
      "Specifically, we showed that (a) users tend to like stories submitted by friends and (b) users tend to like stories their friends read and liked.\n",
      "0\n",
      "\n",
      "Unigram(Span(\"b'showed'\", sentence=2248, chars=[17,22], words=[3,3]))\n",
      "Specifically, we showed that (a) users tend to like stories submitted by friends and (b) users tend to like stories their friends read and liked.\n",
      "0\n",
      "\n",
      "Unigram(Span(\"b'('\", sentence=2248, chars=[85,85], words=[17,17]))\n",
      "Specifically, we showed that (a) users tend to like stories submitted by friends and (b) users tend to like stories their friends read and liked.\n",
      "0\n",
      "\n",
      "Unigram(Span(\"b'b'\", sentence=2248, chars=[86,86], words=[18,18]))\n",
      "Specifically, we showed that (a) users tend to like stories submitted by friends and (b) users tend to like stories their friends read and liked.\n",
      "0\n",
      "\n",
      "Unigram(Span(\"b')'\", sentence=2248, chars=[87,87], words=[19,19]))\n",
      "Specifically, we showed that (a) users tend to like stories submitted by friends and (b) users tend to like stories their friends read and liked.\n",
      "0\n",
      "\n",
      "Unigram(Span(\"b'that'\", sentence=2248, chars=[24,27], words=[4,4]))\n",
      "Specifically, we showed that (a) users tend to like stories submitted by friends and (b) users tend to like stories their friends read and liked.\n",
      "0\n",
      "\n",
      "Unigram(Span(\"b'users'\", sentence=2248, chars=[89,93], words=[20,20]))\n",
      "Specifically, we showed that (a) users tend to like stories submitted by friends and (b) users tend to like stories their friends read and liked.\n",
      "0\n",
      "\n",
      "Unigram(Span(\"b'('\", sentence=2248, chars=[29,29], words=[5,5]))\n",
      "Specifically, we showed that (a) users tend to like stories submitted by friends and (b) users tend to like stories their friends read and liked.\n",
      "0\n",
      "\n",
      "Unigram(Span(\"b'a'\", sentence=2248, chars=[30,30], words=[6,6]))\n",
      "Specifically, we showed that (a) users tend to like stories submitted by friends and (b) users tend to like stories their friends read and liked.\n",
      "0\n",
      "\n",
      "Unigram(Span(\"b')'\", sentence=2248, chars=[31,31], words=[7,7]))\n",
      "Specifically, we showed that (a) users tend to like stories submitted by friends and (b) users tend to like stories their friends read and liked.\n",
      "0\n",
      "\n",
      "Unigram(Span(\"b'tend'\", sentence=2248, chars=[95,98], words=[21,21]))\n",
      "Specifically, we showed that (a) users tend to like stories submitted by friends and (b) users tend to like stories their friends read and liked.\n",
      "0\n",
      "\n",
      "Unigram(Span(\"b'users'\", sentence=2248, chars=[33,37], words=[8,8]))\n",
      "Specifically, we showed that (a) users tend to like stories submitted by friends and (b) users tend to like stories their friends read and liked.\n",
      "0\n",
      "\n",
      "Unigram(Span(\"b'coefficients'\", sentence=2227, chars=[92,103], words=[12,12]))\n",
      "sent __dict__ {'_sa_instance_state': <sqlalchemy.orm.state.InstanceState object at 0x15a5ab080>, 'dep_labels': ['nsubj', 'aux', 'ROOT', 'amod', 'dobj', 'prep', 'amod', 'pobj', 'prep', 'det', 'amod', 'compound', 'pobj', 'punct'], 'ner_tags': ['O', 'O', 'O', 'O', 'O', 'O', 'O', 'O', 'O', 'O', 'O', 'O', 'O', 'O'], 'type': 'sentence', 'char_offsets': [0, 3, 8, 18, 25, 36, 40, 50, 65, 68, 72, 80, 92, 104], 'text': 'We have developed simple algorithms for efficient implementation of the ordinal correlation coefficients.', 'lemmas': ['-PRON-', 'have', 'develop', 'simple', 'algorithms', 'for', 'efficient', 'implementation', 'of', 'the', 'ordinal', 'correlation', 'coefficient', '.'], 'position': 8, 'id': 2227, 'entity_cids': ['O', 'O', 'O', 'O', 'O', 'O', 'O', 'O', 'O', 'O', 'O', 'O', 'O', 'O'], 'dep_parents': [3, 3, 0, 5, 3, 5, 8, 6, 8, 13, 13, 13, 9, 3], 'stable_id': 'semanticDBLP_205794e3b86e1344d211b4034202a885f51c6ff4::sentence:1053:1158', 'abs_char_offsets': [1053, 1056, 1061, 1071, 1078, 1089, 1093, 1103, 1118, 1121, 1125, 1133, 1145, 1157], 'words': ['We', 'have', 'developed', 'simple', 'algorithms', 'for', 'efficient', 'implementation', 'of', 'the', 'ordinal', 'correlation', 'coefficients', '.'], 'pos_tags': ['PRP', 'VBP', 'VBN', 'JJ', 'NN', 'IN', 'JJ', 'NN', 'IN', 'DT', 'JJ', 'NN', 'NNS', '.'], 'document_id': 1, 'entity_types': ['O', 'O', 'O', 'O', 'O', 'O', 'O', 'O', 'O', 'O', 'O', 'O', 'O', 'O'], 'document': Document semanticDBLP_205794e3b86e1344d211b4034202a885f51c6ff4}\n",
      "sent pos in doc?? 8\n",
      "semanticDBLP_205794e3b86e1344d211b4034202a885f51c6ff4\n",
      "coefficients\n",
      "unigram position??  12\n",
      "its_pos_tag NNS \n",
      "\n"
     ]
    }
   ],
   "source": [
    "# TODO get_surrounding_words maybe group segments back to doc level from  Sentence has words in its __dict__ \n",
    "\n",
    "# visualize purpose probability\n",
    "\n",
    "\n",
    "# pair_list=list(zip(unigram_segments,list(train_marginals[:,0].reshape(-1))))\n",
    "\n",
    "\n",
    "# Find a test case span!!!\n",
    "count=0\n",
    "for idx,segment in enumerate(unigram_segments):\n",
    "    if \"indicates that\" in segment.get_parent().__dict__['words']:\n",
    "        print(idx,segment.get_parent().__dict__['text'])\n",
    "        if count>30:\n",
    "            break\n",
    "        count+=1\n",
    "    \n",
    "# input()\n",
    "purpose_LFs=[]\n",
    "from LF.util_common_default_categorical_1022 import purpose_LFs,mechanism_LFs\n",
    "\n",
    "for i in range(695,725):\n",
    "    print(unigram_segments[i])\n",
    "    print(unigram_segments[i].get_parent().__dict__['text'])\n",
    "    print(purpose_LFs[-1](unigram_segments[i]))\n",
    "#     print(purpose_LFs[-1].__name__)\n",
    "    print()\n",
    "    \n",
    "    \n",
    "# print(unigram_segments[165],)\n",
    "\n",
    "segment=unigram_segments[165]\n",
    "# print((segment.get_contexts()[0].__dict__))\n",
    "docid=segment.get_parent().get_parent().name\n",
    "print(segment)\n",
    "print(\"sent __dict__\",segment.get_parent().__dict__)\n",
    "print(\"sent pos in doc??\", segment.get_parent().position)\n",
    "# print(\"sent pos in doc??\", segment.get_parent().get_parent().sentences.index(segment.get_parent()))\n",
    "\n",
    "print(docid)\n",
    "\n",
    "# print(segment.get_parent().get_parent().__dict__)\n",
    "print(segment.get_parent().text[segment.unigram_cue.char_start:segment.unigram_cue.char_end+1])\n",
    "\n",
    "unigram_psn=segment.unigram_cue.get_word_start()\n",
    "print(\"unigram position?? \",unigram_psn)#.__dict__['words'])\n",
    "\n",
    "its_pos_tag=segment.get_parent().__dict__['pos_tags'][unigram_psn]\n",
    "print(\"its_pos_tag\",its_pos_tag,\"\\n\")\n",
    "\n",
    "# its_surrounding_pos_tag=get_sourrounding_pos_tag(segment,3)\n",
    "# print(\"unigram pos tag\",get_sourrounding_pos_tag(segment,1))\n",
    "# print(\"trigram pos tag\",get_sourrounding_pos_tag(segment,3))\n",
    "# print(\"5gram pos tag\",get_sourrounding_pos_tag(segment,5))\n"
   ]
  },
  {
   "cell_type": "code",
   "execution_count": null,
   "metadata": {},
   "outputs": [],
   "source": []
  },
  {
   "cell_type": "code",
   "execution_count": null,
   "metadata": {},
   "outputs": [],
   "source": []
  },
  {
   "cell_type": "markdown",
   "metadata": {},
   "source": [
    "### Related stackoverflow questions\n",
    "https://datascience.stackexchange.com/questions/20071/how-do-i-load-fasttext-pretrained-model-with-gensim?noredirect=1\n",
    "\n",
    "\n",
    "To test the effectivenss of fasttext WE:\n",
    "1. we will examine the similarity between developed and develop\n",
    "2. propose and proposed\n",
    "3. introduce and propose\n",
    "4. approach and method\n",
    "5. approach and model\n",
    "6. algorithm and model\n",
    "7. algorithm and theory\n",
    "5. datasets and benchmark \n",
    "6. dataset and corpus\n",
    "7. explosive and emerging\n",
    "8. emerging and arising\n",
    "9. growth and development"
   ]
  },
  {
   "cell_type": "code",
   "execution_count": null,
   "metadata": {},
   "outputs": [],
   "source": [
    "import gensim\n",
    "import os\n",
    "from gensim.models.word2vec import LineSentence\n",
    "from gensim.models.fasttext import FastText as FT_gensim\n",
    "\n",
    "model_wrapper.save('saved_model_wrapper')\n",
    "loaded_model = FT_wrapper.load('saved_model_wrapper')\n",
    "print(loaded_model)\n",
    "\n",
    "print('night' in model_wrapper.wv.vocab)\n",
    "print('nights' in model_wrapper.wv.vocab)\n",
    "print(model_wrapper['night'])\n",
    "print(model_wrapper['nights'])\n",
    "\n",
    "\n",
    "from gensim.models.wrappers import FastText\n",
    "\n",
    "model = FastText.load_fasttext_format('wiki.simple')\n",
    "\n",
    "print(model.most_similar('teacher'))\n",
    "# Output = [('headteacher', 0.8075869083404541), ('schoolteacher', 0.7955552339553833), ('teachers', 0.733420729637146), ('teaches', 0.6839243173599243), ('meacher', 0.6825737357139587), ('teach', 0.6285147070884705), ('taught', 0.6244685649871826), ('teaching', 0.6199781894683838), ('schoolmaster', 0.6037642955780029), ('lessons', 0.5812176465988159)]\n",
    "\n",
    "print(model.similarity('teacher', 'teaches'))\n",
    "# Output = 0.683924396754\n",
    "\n",
    "\n"
   ]
  }
 ],
 "metadata": {
  "kernelspec": {
   "display_name": "Python 3",
   "language": "python",
   "name": "python3"
  },
  "language_info": {
   "codemirror_mode": {
    "name": "ipython",
    "version": 3
   },
   "file_extension": ".py",
   "mimetype": "text/x-python",
   "name": "python",
   "nbconvert_exporter": "python",
   "pygments_lexer": "ipython3",
   "version": "3.6.5"
  }
 },
 "nbformat": 4,
 "nbformat_minor": 2
}
