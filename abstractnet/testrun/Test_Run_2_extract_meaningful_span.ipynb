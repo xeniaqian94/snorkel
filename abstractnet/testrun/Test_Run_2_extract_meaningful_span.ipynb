{
 "cells": [
  {
   "cell_type": "markdown",
   "metadata": {},
   "source": [
    "## Test Run 2: Extract Meaningful Span\n",
    "\n",
    "This notebook continues from Test Run 1, but defines *Span* more meaningfully. We want to achieve that, 1 *Sentence* = 1+ *Spans* = 1+ *Clauses*. After the default `Ngram()` class, we customize Matcher to exclude any span with comma.\n",
    "\n",
    "Note that in this test run, we will initiate `SnorkelSession()` without re-create `Document` or `Sentence`, which has been created in test run 1.\n"
   ]
  },
  {
   "cell_type": "code",
   "execution_count": 1,
   "metadata": {},
   "outputs": [
    {
     "data": {
      "text/html": [
       "<style>.container { width:85% !important; }</style>"
      ],
      "text/plain": [
       "<IPython.core.display.HTML object>"
      ]
     },
     "metadata": {},
     "output_type": "display_data"
    }
   ],
   "source": [
    "from IPython.core.display import display, HTML\n",
    "display(HTML(\"<style>.container { width:85% !important; }</style>\"))"
   ]
  },
  {
   "cell_type": "code",
   "execution_count": 2,
   "metadata": {},
   "outputs": [
    {
     "name": "stdout",
     "output_type": "stream",
     "text": [
      "Documents: 1000\n",
      "Sentences: 4487\n",
      "The longest sentence has 101 tokens.\n"
     ]
    }
   ],
   "source": [
    "%load_ext autoreload\n",
    "%autoreload 2\n",
    "%matplotlib inline\n",
    "import os\n",
    "\n",
    "from snorkel import SnorkelSession\n",
    "from snorkel.parser.spacy_parser import Spacy\n",
    "from snorkel.parser import CorpusParser\n",
    "from snorkel.models import Document, Sentence\n",
    "\n",
    "session = SnorkelSession()\n",
    "print(\"Documents:\", session.query(Document).count())\n",
    "print(\"Sentences:\", session.query(Sentence).count())\n",
    "\n",
    "sents = session.query(Sentence).all()\n",
    "n_max_corpus=0\n",
    "for sent in sents:\n",
    "    n_max_corpus=max(n_max_corpus,len(sent.words))\n",
    "\n",
    "print(\"The longest sentence has \"+str(n_max_corpus)+\" tokens.\")\n",
    "\n",
    "from snorkel.models import Document\n",
    "from util import number_of_people\n",
    "\n",
    "docs = session.query(Document).order_by(Document.name).all()\n",
    "\n",
    "train_sents = set()\n",
    "dev_sents   = set()\n",
    "test_sents  = set()\n",
    "\n",
    "for i, doc in enumerate(docs):\n",
    "    for s in doc.sentences:\n",
    "        if i % 10 == 8:\n",
    "            dev_sents.add(s)\n",
    "        elif i % 10 == 9:\n",
    "            test_sents.add(s)\n",
    "        else:\n",
    "            train_sents.add(s)\n"
   ]
  },
  {
   "cell_type": "markdown",
   "metadata": {},
   "source": [
    "In test run 1, we have tried using **single** `DictionaryMatcher`. Now it's time to explore more, e.g. combining **multiple** `DictionaryMatchers`. \n",
    "\n",
    "Fortunately, we could combine **multiple** `DictionaryMatchers` into what-we-named-as **compound** `Matchers` through:\n",
    "1. `Union(Matcher)` (takes the union of candidate sets returned by child matcher), \n",
    "2. `Intersection(Matcher)`, or \n",
    "3. `Concat(Matcher)` (candidates which are the concatenation of adjacent matches from child matchers)."
   ]
  },
  {
   "cell_type": "code",
   "execution_count": 3,
   "metadata": {},
   "outputs": [],
   "source": [
    "from snorkel.models import candidate_subclass\n",
    "from snorkel.candidates import Ngrams, CandidateExtractor\n",
    "from snorkel.matchers import *\n",
    "\n",
    "Background = candidate_subclass('Background', ['background_cue'])\n",
    "ngrams = Ngrams(n_max=n_max_corpus) # we define the maximum n value as n_max_corpus\n",
    "\n",
    "from IPython.display import Markdown, display\n",
    "def printmd(string):\n",
    "    display(Markdown(string))\n",
    "def extract_and_display(matcher):\n",
    "    for i, sents in enumerate([train_sents, dev_sents, test_sents]):\n",
    "        %time matcher.apply(sents, split=i)\n",
    "        printmd(\"**Split \"+str(i)+\" - number of candidates extracted: \"+str(session.query(Background).filter(Background.split == i).count())+\"**\\n\\n\")\n",
    "    cands = session.query(Background).filter(Background.split == 0).all()\n",
    "    document_list=list()\n",
    "    for i in range(7): # to print all cands, range(len(cands))\n",
    "        printmd(\"**\"+str(i)+\"/\"+str(len(cands))+\" Candidate/Span:**\\t`\"+str(cands[i].background_cue)+\"`\")\n",
    "        printmd(\"**Its parent Sentence's text:**\\t\"+str(cands[i].get_parent().text))\n",
    "        printmd(\"**Its parent Document's text:**\\t\"+str(cands[i].get_parent().get_parent().__dict__))\n",
    "        print() \n",
    "        \n",
    "    return cands\n",
    "    "
   ]
  },
  {
   "cell_type": "code",
   "execution_count": 4,
   "metadata": {},
   "outputs": [
    {
     "name": "stdout",
     "output_type": "stream",
     "text": [
      "Clearing existing...\n",
      "Running UDF...\n",
      "[========================================] 100%\n",
      "\n",
      "CPU times: user 9.9 s, sys: 226 ms, total: 10.1 s\n",
      "Wall time: 10.5 s\n"
     ]
    },
    {
     "data": {
      "text/markdown": [
       "**Split 0 - number of candidates extracted: 106**\n",
       "\n"
      ],
      "text/plain": [
       "<IPython.core.display.Markdown object>"
      ]
     },
     "metadata": {},
     "output_type": "display_data"
    },
    {
     "name": "stdout",
     "output_type": "stream",
     "text": [
      "Clearing existing...\n",
      "Running UDF...\n",
      "[========================================] 100%\n",
      "\n",
      "CPU times: user 1.64 s, sys: 122 ms, total: 1.76 s\n",
      "Wall time: 1.98 s\n"
     ]
    },
    {
     "data": {
      "text/markdown": [
       "**Split 1 - number of candidates extracted: 11**\n",
       "\n"
      ],
      "text/plain": [
       "<IPython.core.display.Markdown object>"
      ]
     },
     "metadata": {},
     "output_type": "display_data"
    },
    {
     "name": "stdout",
     "output_type": "stream",
     "text": [
      "Clearing existing...\n",
      "Running UDF...\n",
      "[========================================] 100%\n",
      "\n",
      "CPU times: user 1.6 s, sys: 90.1 ms, total: 1.69 s\n",
      "Wall time: 1.72 s\n"
     ]
    },
    {
     "data": {
      "text/markdown": [
       "**Split 2 - number of candidates extracted: 9**\n",
       "\n"
      ],
      "text/plain": [
       "<IPython.core.display.Markdown object>"
      ]
     },
     "metadata": {},
     "output_type": "display_data"
    },
    {
     "data": {
      "text/markdown": [
       "**0/106 Candidate/Span:**\t`Span(\"b'While previous studies demonstrate the feasibility of using ACT-R to model collective cognition'\", sentence=4273, chars=[0,94], words=[0,14])`"
      ],
      "text/plain": [
       "<IPython.core.display.Markdown object>"
      ]
     },
     "metadata": {},
     "output_type": "display_data"
    },
    {
     "data": {
      "text/markdown": [
       "**Its parent Sentence's text:**\tWhile previous studies demonstrate the feasibility of using ACT-R to model collective cognition, as well as sensemaking processes at the individual level, the \n"
      ],
      "text/plain": [
       "<IPython.core.display.Markdown object>"
      ]
     },
     "metadata": {},
     "output_type": "display_data"
    },
    {
     "data": {
      "text/markdown": [
       "**Its parent Document's text:**\t{'_sa_instance_state': <sqlalchemy.orm.state.InstanceState object at 0x116c959b0>, 'name': '5834868425ff05a97b00df37', 'stable_id': '5834868425ff05a97b00df37::document:0:0', 'meta': {'file_name': '70kpaper_061418_cleaned.tsv'}, 'id': 713, 'type': 'document', 'sentences': [Sentence(Document 5834868425ff05a97b00df37,0,b'Cognitive social simulations, enabled by cognitive architectures (such as ACT-R), are particularly well-suited for advancing our understanding of socially-distributed and socially-situated cognition.'), Sentence(Document 5834868425ff05a97b00df37,1,b'As a result, multi-agent simulations featuring the use of ACT-R agents may be important in improving our understanding of the factors that influence collective sensemaking.'), Sentence(Document 5834868425ff05a97b00df37,2,b'While previous studies demonstrate the feasibility of using ACT-R to model collective cognition, as well as sensemaking processes at the individual level, the \\n')]}"
      ],
      "text/plain": [
       "<IPython.core.display.Markdown object>"
      ]
     },
     "metadata": {},
     "output_type": "display_data"
    },
    {
     "name": "stdout",
     "output_type": "stream",
     "text": [
      "\n"
     ]
    },
    {
     "data": {
      "text/markdown": [
       "**1/106 Candidate/Span:**\t`Span(\"b'Our approach relies on recent learning theory results for distribution regression'\", sentence=2307, chars=[0,80], words=[0,10])`"
      ],
      "text/plain": [
       "<IPython.core.display.Markdown object>"
      ]
     },
     "metadata": {},
     "output_type": "display_data"
    },
    {
     "data": {
      "text/markdown": [
       "**Its parent Sentence's text:**\tOur approach relies on recent learning theory results for distribution regression, using kernel \n"
      ],
      "text/plain": [
       "<IPython.core.display.Markdown object>"
      ]
     },
     "metadata": {},
     "output_type": "display_data"
    },
    {
     "data": {
      "text/markdown": [
       "**Its parent Document's text:**\t{'_sa_instance_state': <sqlalchemy.orm.state.InstanceState object at 0x116c53e48>, 'name': '5834868425ff05a97b00d9ba', 'stable_id': '5834868425ff05a97b00d9ba::document:0:0', 'meta': {'file_name': '70kpaper_061418_cleaned.tsv'}, 'id': 270, 'type': 'document', 'sentences': [Sentence(Document 5834868425ff05a97b00d9ba,0,b\"Abstract We present a new solution to the``ecological inference''problem, of learning individual-level associations from aggregate data.\"), Sentence(Document 5834868425ff05a97b00d9ba,1,b'This problem has a long history and has attracted much attention, debate, claims that it is unsolvable, and purported solutions.'), Sentence(Document 5834868425ff05a97b00d9ba,2,b'Unlike other ecological inference techniques, our method makes use of unlabeled individual-level data by embedding the distribution over these predictors into a vector in Hilbert space.'), Sentence(Document 5834868425ff05a97b00d9ba,3,b'Our approach relies on recent learning theory results for distribution regression, using kernel \\n')]}"
      ],
      "text/plain": [
       "<IPython.core.display.Markdown object>"
      ]
     },
     "metadata": {},
     "output_type": "display_data"
    },
    {
     "name": "stdout",
     "output_type": "stream",
     "text": [
      "\n"
     ]
    },
    {
     "data": {
      "text/markdown": [
       "**2/106 Candidate/Span:**\t`Span(\"b'Abstract A recent trend (especially in electronic commerce) is higher levels of expressiveness in the mechanisms that mediate interactions such as auctions'\", sentence=1776, chars=[0,154], words=[0,23])`"
      ],
      "text/plain": [
       "<IPython.core.display.Markdown object>"
      ]
     },
     "metadata": {},
     "output_type": "display_data"
    },
    {
     "data": {
      "text/markdown": [
       "**Its parent Sentence's text:**\tAbstract A recent trend (especially in electronic commerce) is higher levels of expressiveness in the mechanisms that mediate interactions such as auctions, exchanges, catalog offers, voting systems, matching of peers, and so on."
      ],
      "text/plain": [
       "<IPython.core.display.Markdown object>"
      ]
     },
     "metadata": {},
     "output_type": "display_data"
    },
    {
     "data": {
      "text/markdown": [
       "**Its parent Document's text:**\t{'_sa_instance_state': <sqlalchemy.orm.state.InstanceState object at 0x116bcecc0>, 'name': '5834868425ff05a97b00caf4', 'stable_id': '5834868425ff05a97b00caf4::document:0:0', 'meta': {'file_name': '70kpaper_061418_cleaned.tsv'}, 'id': 153, 'type': 'document', 'sentences': [Sentence(Document 5834868425ff05a97b00caf4,0,b'Abstract A recent trend (especially in electronic commerce) is higher levels of expressiveness in the mechanisms that mediate interactions such as auctions, exchanges, catalog offers, voting systems, matching of peers, and so on.'), Sentence(Document 5834868425ff05a97b00caf4,1,b'Participants can express their preferences in drastically greater detail than ever before.'), Sentence(Document 5834868425ff05a97b00caf4,2,b'In many cases this trend is fueled by modern algorithms for winner determination that can handle the richer inputs.\\n')]}"
      ],
      "text/plain": [
       "<IPython.core.display.Markdown object>"
      ]
     },
     "metadata": {},
     "output_type": "display_data"
    },
    {
     "name": "stdout",
     "output_type": "stream",
     "text": [
      "\n"
     ]
    },
    {
     "data": {
      "text/markdown": [
       "**3/106 Candidate/Span:**\t`Span(\"b'Previous work with the programming language Lollimon demonstrates the expressive power of logic programming with linear logic in describing algorithms that have imperative elements or that must repeatedly make mutually exclusive \\n'\", sentence=5441, chars=[0,229], words=[0,31])`"
      ],
      "text/plain": [
       "<IPython.core.display.Markdown object>"
      ]
     },
     "metadata": {},
     "output_type": "display_data"
    },
    {
     "data": {
      "text/markdown": [
       "**Its parent Sentence's text:**\tPrevious work with the programming language Lollimon demonstrates the expressive power of logic programming with linear logic in describing algorithms that have imperative elements or that must repeatedly make mutually exclusive \n"
      ],
      "text/plain": [
       "<IPython.core.display.Markdown object>"
      ]
     },
     "metadata": {},
     "output_type": "display_data"
    },
    {
     "data": {
      "text/markdown": [
       "**Its parent Document's text:**\t{'_sa_instance_state': <sqlalchemy.orm.state.InstanceState object at 0x11350c2e8>, 'name': '5834868425ff05a97b00c4e3', 'stable_id': '5834868425ff05a97b00c4e3::document:0:0', 'meta': {'file_name': '70kpaper_061418_cleaned.tsv'}, 'id': 990, 'type': 'document', 'sentences': [Sentence(Document 5834868425ff05a97b00c4e3,0,b'Abstract Bottom-up logic programming can be used to declaratively specify many algorithms in a succinct and natural way, and McAllester and Ganzinger have shown that it is possible to define a cost semantics that enables reasoning about the running time of algorithms written as inference rules.'), Sentence(Document 5834868425ff05a97b00c4e3,1,b'Previous work with the programming language Lollimon demonstrates the expressive power of logic programming with linear logic in describing algorithms that have imperative elements or that must repeatedly make mutually exclusive \\n')]}"
      ],
      "text/plain": [
       "<IPython.core.display.Markdown object>"
      ]
     },
     "metadata": {},
     "output_type": "display_data"
    },
    {
     "name": "stdout",
     "output_type": "stream",
     "text": [
      "\n"
     ]
    },
    {
     "data": {
      "text/markdown": [
       "**4/106 Candidate/Span:**\t`Span(\"b'Our system is faster than previous work by over an order of magnitude and it is capable of dealing with hundreds of millions of documents and thousands of topics.'\", sentence=1728, chars=[0,161], words=[0,29])`"
      ],
      "text/plain": [
       "<IPython.core.display.Markdown object>"
      ]
     },
     "metadata": {},
     "output_type": "display_data"
    },
    {
     "data": {
      "text/markdown": [
       "**Its parent Sentence's text:**\tOur system is faster than previous work by over an order of magnitude and it is capable of dealing with hundreds of millions of documents and thousands of topics."
      ],
      "text/plain": [
       "<IPython.core.display.Markdown object>"
      ]
     },
     "metadata": {},
     "output_type": "display_data"
    },
    {
     "data": {
      "text/markdown": [
       "**Its parent Document's text:**\t{'_sa_instance_state': <sqlalchemy.orm.state.InstanceState object at 0x116c7e3c8>, 'name': '5834868425ff05a97b00deb2', 'stable_id': '5834868425ff05a97b00deb2::document:0:0', 'meta': {'file_name': '70kpaper_061418_cleaned.tsv'}, 'id': 142, 'type': 'document', 'sentences': [Sentence(Document 5834868425ff05a97b00deb2,0,b'Abstract This paper describes a high performance sampling architecture for inference of latent topic models on a cluster of workstations.'), Sentence(Document 5834868425ff05a97b00deb2,1,b'Our system is faster than previous work by over an order of magnitude and it is capable of dealing with hundreds of millions of documents and thousands of topics.'), Sentence(Document 5834868425ff05a97b00deb2,2,b'The algorithm relies on a novel communication structure, namely the use of a distributed (key, value) storage for synchronizing the sampler state between computers.'), Sentence(Document 5834868425ff05a97b00deb2,3,b'Our architecture entirely obviates the need for separate \\n')]}"
      ],
      "text/plain": [
       "<IPython.core.display.Markdown object>"
      ]
     },
     "metadata": {},
     "output_type": "display_data"
    },
    {
     "name": "stdout",
     "output_type": "stream",
     "text": [
      "\n"
     ]
    },
    {
     "data": {
      "text/markdown": [
       "**5/106 Candidate/Span:**\t`Span(\"b'Abstract Motivated by a radically new peer review system that the National Science Foundation recently experimented with'\", sentence=3658, chars=[0,119], words=[0,16])`"
      ],
      "text/plain": [
       "<IPython.core.display.Markdown object>"
      ]
     },
     "metadata": {},
     "output_type": "display_data"
    },
    {
     "data": {
      "text/markdown": [
       "**Its parent Sentence's text:**\tAbstract Motivated by a radically new peer review system that the National Science Foundation recently experimented with, we study peer review systems in which proposals are reviewed by PIs who have submitted proposals themselves."
      ],
      "text/plain": [
       "<IPython.core.display.Markdown object>"
      ]
     },
     "metadata": {},
     "output_type": "display_data"
    },
    {
     "data": {
      "text/markdown": [
       "**Its parent Document's text:**\t{'_sa_instance_state': <sqlalchemy.orm.state.InstanceState object at 0x116ba5278>, 'name': '5834868425ff05a97b00c420', 'stable_id': '5834868425ff05a97b00c420::document:0:0', 'meta': {'file_name': '70kpaper_061418_cleaned.tsv'}, 'id': 573, 'type': 'document', 'sentences': [Sentence(Document 5834868425ff05a97b00c420,0,b'Abstract Motivated by a radically new peer review system that the National Science Foundation recently experimented with, we study peer review systems in which proposals are reviewed by PIs who have submitted proposals themselves.'), Sentence(Document 5834868425ff05a97b00c420,1,b'An (m, k)-selection mechanism asks each PI to review m proposals, and uses these reviews to select (at most) k proposals.'), Sentence(Document 5834868425ff05a97b00c420,2,b\"We are interested in impartial mechanisms, which guarantee that the ratings given by a PI to others' proposals do not affect the likelihood of the PI's own proposal \\n\")]}"
      ],
      "text/plain": [
       "<IPython.core.display.Markdown object>"
      ]
     },
     "metadata": {},
     "output_type": "display_data"
    },
    {
     "name": "stdout",
     "output_type": "stream",
     "text": [
      "\n"
     ]
    },
    {
     "data": {
      "text/markdown": [
       "**6/106 Candidate/Span:**\t`Span(\"b'Abstract: Sparse representation technique has been widely used in various areas of computer vision over the last decades.'\", sentence=5179, chars=[0,120], words=[0,19])`"
      ],
      "text/plain": [
       "<IPython.core.display.Markdown object>"
      ]
     },
     "metadata": {},
     "output_type": "display_data"
    },
    {
     "data": {
      "text/markdown": [
       "**Its parent Sentence's text:**\tAbstract: Sparse representation technique has been widely used in various areas of computer vision over the last decades."
      ],
      "text/plain": [
       "<IPython.core.display.Markdown object>"
      ]
     },
     "metadata": {},
     "output_type": "display_data"
    },
    {
     "data": {
      "text/markdown": [
       "**Its parent Document's text:**\t{'_sa_instance_state': <sqlalchemy.orm.state.InstanceState object at 0x116cc19b0>, 'name': '5834868525ff05a97b00f4b4', 'stable_id': '5834868525ff05a97b00f4b4::document:0:0', 'meta': {'file_name': '70kpaper_061418_cleaned.tsv'}, 'id': 928, 'type': 'document', 'sentences': [Sentence(Document 5834868525ff05a97b00f4b4,0,b'Abstract: Sparse representation technique has been widely used in various areas of computer vision over the last decades.'), Sentence(Document 5834868525ff05a97b00f4b4,1,b'Unfortunately, in the current formulations, there are no explicit relationship between the learned dictionary and the original data.'), Sentence(Document 5834868525ff05a97b00f4b4,2,b'By tracing back and connecting sparse representation with the K-means algorithm, a novel variation scheme termed as self-explanatory convex sparse representation (SCSR) has been proposed in this paper.'), Sentence(Document 5834868525ff05a97b00f4b4,3,b'To be specific, the basis vectors of the dictionary are refined as convex \\n')]}"
      ],
      "text/plain": [
       "<IPython.core.display.Markdown object>"
      ]
     },
     "metadata": {},
     "output_type": "display_data"
    },
    {
     "name": "stdout",
     "output_type": "stream",
     "text": [
      "\n"
     ]
    },
    {
     "data": {
      "text/plain": [
       "[Background(Span(\"b'While previous studies demonstrate the feasibility of using ACT-R to model collective cognition'\", sentence=4273, chars=[0,94], words=[0,14])),\n",
       " Background(Span(\"b'Our approach relies on recent learning theory results for distribution regression'\", sentence=2307, chars=[0,80], words=[0,10])),\n",
       " Background(Span(\"b'Abstract A recent trend (especially in electronic commerce) is higher levels of expressiveness in the mechanisms that mediate interactions such as auctions'\", sentence=1776, chars=[0,154], words=[0,23])),\n",
       " Background(Span(\"b'Previous work with the programming language Lollimon demonstrates the expressive power of logic programming with linear logic in describing algorithms that have imperative elements or that must repeatedly make mutually exclusive \\n'\", sentence=5441, chars=[0,229], words=[0,31])),\n",
       " Background(Span(\"b'Our system is faster than previous work by over an order of magnitude and it is capable of dealing with hundreds of millions of documents and thousands of topics.'\", sentence=1728, chars=[0,161], words=[0,29])),\n",
       " Background(Span(\"b'Abstract Motivated by a radically new peer review system that the National Science Foundation recently experimented with'\", sentence=3658, chars=[0,119], words=[0,16])),\n",
       " Background(Span(\"b'Abstract: Sparse representation technique has been widely used in various areas of computer vision over the last decades.'\", sentence=5179, chars=[0,120], words=[0,19])),\n",
       " Background(Span(\"b'Previous versions of the robot have been remotely actuated through push-pull wires'\", sentence=3012, chars=[0,81], words=[0,13])),\n",
       " Background(Span(\"b'several participants presented their recent research'\", sentence=3324, chars=[20,71], words=[4,9])),\n",
       " Background(Span(\"b'Kidney exchanges represent a truly fielded example of technology at the intersection of artificial intelligence and economics\\xe2\\x80\\x94an example that is both recent and an active research area.'\", sentence=3478, chars=[0,184], words=[0,29])),\n",
       " Background(Span(\"b'We show that none of the previous coalition structure generation algorithms can establish any \\n'\", sentence=1806, chars=[0,94], words=[0,14])),\n",
       " Background(Span(\"b'Our results are for a class of games that generalizes the only previously known class of imperfect-recall abstractions where any results had been obtained.'\", sentence=1585, chars=[0,154], words=[0,26])),\n",
       " Background(Span(\"b'motivated by modeling of conflict scenarios in societies with multiple ethno-\\n'\", sentence=4103, chars=[15,92], words=[4,15])),\n",
       " Background(Span(\"b'Abstract Automated abstraction algorithms for sequential imperfect information games have recently emerged as a key component in developing competitive game theory-based agents.'\", sentence=4594, chars=[0,176], words=[0,24])),\n",
       " Background(Span(\"b'BackgrOuNd Considerable attention has been given recently to the online offerings such as edX and Coursera by prestigious universities such as MIT'\", sentence=4347, chars=[0,145], words=[0,21])),\n",
       " Background(Span(\"b'Despite the recent advances in full-body pose estimation using Kinect-like sensors'\", sentence=1617, chars=[0,81], words=[0,14])),\n",
       " Background(Span(\"b'There have been important recent game-theoretic analyses of spiteful bidding assuming all agents are equally spiteful.'\", sentence=3993, chars=[0,117], words=[0,18])),\n",
       " Background(Span(\"b'and the authors have previously presented a fragment of ordered linear logic suitable to a forward-chaining operational semantics.'\", sentence=2969, chars=[157,286], words=[26,46])),\n",
       " Background(Span(\"b'In previous work'\", sentence=2969, chars=[0,15], words=[0,2])),\n",
       " Background(Span(\"b'As sketched in the previous lecture'\", sentence=1077, chars=[0,34], words=[0,5])),\n",
       " Background(Span(\"b'Recent research efforts have created tools that automatically localize the problem to a small number of potential culprits'\", sentence=4670, chars=[0,121], words=[0,17])),\n",
       " Background(Span(\"b'In recent years'\", sentence=4992, chars=[0,14], words=[0,2])),\n",
       " Background(Span(\"b'In this lecture we combine ideas from the previous two lectures'\", sentence=2622, chars=[0,62], words=[0,10])),\n",
       " Background(Span(\"b'issues of material embodiment and environmental embedding have emerged as important areas of research attention over recent decades.'\", sentence=4295, chars=[33,164], words=[7,25])),\n",
       " Background(Span(\"b'and three approaches are presented for distinguishing amongst objects from a previously-encountered set: The first approach is entirely geometric in nature and borrows ideas from \"\\n'\", sentence=4197, chars=[32,212], words=[6,35])),\n",
       " Background(Span(\"b'The variable circular plot (VCP) method for censusing animals is used widely to estimate the abundance of forest birds'\", sentence=5124, chars=[0,117], words=[0,20])),\n",
       " Background(Span(\"b'until quite recently'\", sentence=3419, chars=[36,55], words=[8,10])),\n",
       " Background(Span(\"b'at a recent social gathering'\", sentence=4350, chars=[50,77], words=[11,15])),\n",
       " Background(Span(\"b'Previous Work: Highway Control'\", sentence=1229, chars=[0,29], words=[0,4])),\n",
       " Background(Span(\"b'we investigate how to use machine learning to add reactivity to a previously \\n'\", sentence=2476, chars=[15,92], words=[4,17])),\n",
       " Background(Span(\"b'Abstract\\xe2\\x80\\x94Session types are widely accepted as a useful expressive discipline for structuring communications in concurrent and distributed systems.'\", sentence=3217, chars=[0,145], words=[0,20])),\n",
       " Background(Span(\"b'as the authors have learned in recent years'\", sentence=2126, chars=[21,63], words=[3,10])),\n",
       " Background(Span(\"b'It is based on a recently discovered connection between homotopy the-ory and type theory.'\", sentence=4352, chars=[0,88], words=[0,16])),\n",
       " Background(Span(\"b'we develop a logically motivated theory of parametric polymorphism'\", sentence=3939, chars=[13,78], words=[4,12])),\n",
       " Background(Span(\"b'Abstract Previous research on automated mechanism design (proposed in UAI-02) assumed that the outcome space was flatly represented'\", sentence=1767, chars=[0,130], words=[0,19])),\n",
       " Background(Span(\"b'Abstract: Switched LANs are become more widely used because they can provide a higher bandwidth than LANs based on shared media.'\", sentence=1211, chars=[0,127], words=[0,22])),\n",
       " Background(Span(\"b'Previous work with the previous generation of mobile phones has shown that such an assumption is false.'\", sentence=1814, chars=[0,102], words=[0,17])),\n",
       " Background(Span(\"b'Previous approaches such as ridge regression'\", sentence=3807, chars=[0,43], words=[0,5])),\n",
       " Background(Span(\"b'Network-awareness is a recent attempt to bridge the gap between the realities of networks and the demands of applications.'\", sentence=4814, chars=[0,121], words=[0,21])),\n",
       " Background(Span(\"b'recent research has investigated \\n'\", sentence=2575, chars=[41,74], words=[6,10])),\n",
       " Background(Span(\"b'there is a box-modality [\\xce\\xb1] and a diamond modality\\xe2\\x8c\\xa9 \\xce\\xb1\\xe2\\x8c\\xaa. PDL was developed from first-order dynamic logic by Fischer-Ladner [FL79] and has become popular recently [GW09].'\", sentence=1163, chars=[20,188], words=[5,43])),\n",
       " Background(Span(\"b'While recent work in network verification has made giant strides to reduce this effort'\", sentence=4155, chars=[0,85], words=[0,13])),\n",
       " Background(Span(\"b'has motivated recent efforts in improving the quality of Internet video.'\", sentence=5341, chars=[115,186], words=[19,30])),\n",
       " Background(Span(\"b'and experiment with a setup motivated by the behavior of real-world distributed computation networks'\", sentence=1266, chars=[21,120], words=[5,20])),\n",
       " Background(Span(\"b'Abstract Despite the recent trend of increasingly large datasets for object detection'\", sentence=4830, chars=[0,84], words=[0,11])),\n",
       " Background(Span(\"b'The Urban Challenge represents a technological leap beyond the previous Grand Challenges.'\", sentence=3143, chars=[0,88], words=[0,12])),\n",
       " Background(Span(\"b'The robot design extends upon previous prototypes of HeartLander'\", sentence=4718, chars=[0,63], words=[0,8])),\n",
       " Background(Span(\"b'ABSTRACT Motivated by many practical applications that have to compute in the presence of uncertainty'\", sentence=3160, chars=[0,100], words=[0,14])),\n",
       " Background(Span(\"b'This paper is motivated by a simple question regarding the diagnosis of such attacks-is it possible to establish attack-causality through network-level monitoring'\", sentence=2270, chars=[0,161], words=[0,27])),\n",
       " Background(Span(\"b'Mechanism design is the art of designing the rules of the game so that the agents are motivated to report their preferences truthfully'\", sentence=3177, chars=[0,133], words=[0,22])),\n",
       " Background(Span(\"b'As described in the previous chapters'\", sentence=4705, chars=[0,36], words=[0,5])),\n",
       " Background(Span(\"b'simple threshold-based methods remain the most widely deployed and most popular approach among practitioners.'\", sentence=2300, chars=[98,206], words=[14,30])),\n",
       " Background(Span(\"b'Abstract Recently'\", sentence=2006, chars=[0,16], words=[0,1])),\n",
       " Background(Span(\"b'In previous work'\", sentence=5091, chars=[0,15], words=[0,2])),\n",
       " Background(Span(\"b'There has been recently a reawaking of interest in many aspects of realizability interpretations---especially as regards semantics of type theories for constructive reasoning and semantics of programming languages.'\", sentence=4300, chars=[0,213], words=[0,30])),\n",
       " Background(Span(\"b\"Abstract Recent trends have exposed three key problems in today's operating systems.\"\", sentence=1722, chars=[0,83], words=[0,13])),\n",
       " Background(Span(\"b'Recent proposals have advocated the use of consolidation of \\n'\", sentence=2205, chars=[0,60], words=[0,9])),\n",
       " Background(Span(\"b'<\\\\nPrevious; Next >; Home > Conferences_Events > SCFORUM > 6.'\", sentence=2902, chars=[0,60], words=[0,13])),\n",
       " Background(Span(\"b'Previous RTA conferences took place in Dijon (1985)'\", sentence=3558, chars=[0,50], words=[0,9])),\n",
       " Background(Span(\"b'we present recent results with using range from radio for mobile robot localization.'\", sentence=4458, chars=[15,98], words=[4,17])),\n",
       " Background(Span(\"b'In previous work we have shown how range readings from radio tags placed in the environment can be used to localize a robot.'\", sentence=4459, chars=[0,123], words=[0,23])),\n",
       " Background(Span(\"b'Recently'\", sentence=3237, chars=[0,7], words=[0,0])),\n",
       " Background(Span(\"b'We have extended previous work to consider robustness.'\", sentence=4460, chars=[0,53], words=[0,8])),\n",
       " Background(Span(\"b'The recent spate of security issues and allegations of \\xe2\\x80\\x9clost votes\\xe2\\x80\\x9d in the US demonstrates the inadequacy of the standards used to evaluate our election systems.'\", sentence=2481, chars=[0,160], words=[0,28])),\n",
       " Background(Span(\"b'As described in our previous work'\", sentence=3885, chars=[0,32], words=[0,5])),\n",
       " Background(Span(\"b'Abstract Information-Centric Networking (ICN) has seen a significant resurgence in recent years.'\", sentence=4921, chars=[0,95], words=[0,16])),\n",
       " Background(Span(\"b'not addressed by previous monitoring services.'\", sentence=2008, chars=[94,139], words=[17,23])),\n",
       " Background(Span(\"b'We recently proposed an approach---called automated mechanism design---where a mechanism is computed for the preference \\n'\", sentence=3178, chars=[0,120], words=[0,19])),\n",
       " Background(Span(\"b'Abstract Recent studies have shown a range of co-residency side channels that can be used to extract private information from cloud clients.'\", sentence=2272, chars=[0,139], words=[0,24])),\n",
       " Background(Span(\"b'The presentation from the previous lecture would have been slightly simpler if we had presupposed an explicit conjunction form for programs where each inference rule has exactly one premiss.'\", sentence=4850, chars=[0,189], words=[0,29])),\n",
       " Background(Span(\"b'Abstract: The recent proliferation of richly structured probabilistic models raises the question of how to automatically determine an appropriate model for a dataset.'\", sentence=2713, chars=[0,165], words=[0,24])),\n",
       " Background(Span(\"b'the data mining method of association rule has been widely used in various aspects in the field of traditional Chinese medicine'\", sentence=4936, chars=[72,198], words=[15,35])),\n",
       " Background(Span(\"b'In previous work we have developed an optimal method D* to plan paths when the environment is not known ahead of time'\", sentence=4492, chars=[0,116], words=[0,22])),\n",
       " Background(Span(\"b'discriminative model for such context-based action recognition building on recent techniques for learning large-scale discriminative models.'\", sentence=4127, chars=[22,161], words=[5,25])),\n",
       " Background(Span(\"b'Coordinated Sampling (cSamp) is a recent proposal for improving the flow monitoring capabilities of ISPs to address these demands.'\", sentence=4142, chars=[0,129], words=[0,21])),\n",
       " Background(Span(\"b'Recent results make a promising case for augmenting an oversubscribed network with reconfigurable inter-rack wireless or optical links.'\", sentence=2288, chars=[0,134], words=[0,20])),\n",
       " Background(Span(\"b'We investigate this question for a space of matrix decomposition models which can express a variety of widely used models from unsupervised learning.'\", sentence=2714, chars=[0,148], words=[0,23])),\n",
       " Background(Span(\"b'has been presented previously'\", sentence=4722, chars=[202,230], words=[33,36])),\n",
       " Background(Span(\"b'ACT-R is one of the most widely used cognitive architectures'\", sentence=4315, chars=[0,59], words=[0,11])),\n",
       " Background(Span(\"b'Recently'\", sentence=1771, chars=[0,7], words=[0,0])),\n",
       " Background(Span(\"b'We show that none of the previous coalition structure generation algorithms can establish any bound because \\n'\", sentence=2621, chars=[0,108], words=[0,16])),\n",
       " Background(Span(\"b'Abstract We present recent advances from our efforts in increasing coverage'\", sentence=2885, chars=[0,74], words=[0,10])),\n",
       " Background(Span(\"b'Abstract: Recent work in machine learning has significantly benefited semantic extraction tasks in computer vision'\", sentence=5218, chars=[0,113], words=[0,15])),\n",
       " Background(Span(\"b'Abstract: Active physiological tremor compensation instruments have been under research and development recently.'\", sentence=4785, chars=[0,112], words=[0,14])),\n",
       " Background(Span(\"b'Our recently proposed framework of deploying packet level redundancy elimination (RE) on network elements (eg'\", sentence=1694, chars=[0,108], words=[0,17])),\n",
       " Background(Span(\"b'Abstract Recent biological advances with protein microarrays allow high-throughput antibody response screens against the entire proteome of a disease pathogen.'\", sentence=3381, chars=[0,158], words=[0,22])),\n",
       " Background(Span(\"b'A recent trend towards greater automation of earthmoving machines'\", sentence=2180, chars=[0,64], words=[0,8])),\n",
       " Background(Span(\"b'previous negotiations are a source of heuristic \\n'\", sentence=4770, chars=[13,61], words=[3,10])),\n",
       " Background(Span(\"b'Abstract Recent studies have investigated how a team of mobile sensors can cope with real world constraints'\", sentence=4064, chars=[0,106], words=[0,16])),\n",
       " Background(Span(\"b'Session types are widely accepted as an expressive discipline for structuring communications in concurrent and distributed systems.'\", sentence=1404, chars=[0,130], words=[0,17])),\n",
       " Background(Span(\"b'Machine learning develops intelligent computer systems that are able to generalizefrom previously seen examples.'\", sentence=3747, chars=[0,111], words=[0,14])),\n",
       " Background(Span(\"b'we present a new method for doing object recognition using tactile force sensors that makes use of recent work on \\xe2\\x80\\x9ctactile appearance\\xe2\\x80\\x9d to describe objects by the spatially-varying appearance characteristics of their surface texture.'\", sentence=4192, chars=[23,254], words=[5,43])),\n",
       " Background(Span(\"b'Abstract Much recent attention'\", sentence=3778, chars=[0,29], words=[0,3])),\n",
       " Background(Span(\"b'Recent theoretical work has shown that the impressive generalization performance of algorithms like AdaBoost can be attributed to the classifier having large margins on the training data.'\", sentence=3779, chars=[0,186], words=[0,27])),\n",
       " Background(Span(\"b'Abstract Convolutional neural nets (CNNs) have demonstrated remarkable performance in recent history.'\", sentence=4022, chars=[0,100], words=[0,14])),\n",
       " Background(Span(\"b'This paper builds off of recent work on rapidly exponentially stabilizing control Lyapunov functions (RES-CLF) and control Lyapunov function based quadratic programs (CLFQP) for underactuated hybrid systems.'\", sentence=3535, chars=[0,206], words=[0,33])),\n",
       " Background(Span(\"b'In recent years'\", sentence=4972, chars=[0,14], words=[0,2])),\n",
       " Background(Span(\"b'In our previous work'\", sentence=3197, chars=[0,19], words=[0,3])),\n",
       " Background(Span(\"b'we make use of a recently developed fine-grained taxonomy of human-object grasps.'\", sentence=1887, chars=[10,90], words=[4,20])),\n",
       " Background(Span(\"b'in recent years an increasing amount of reserch has been devoted to machine learning on relational data with more complex structure.'\", sentence=2291, chars=[50,181], words=[11,32])),\n",
       " Background(Span(\"b'Abstract We review progress in a recent line of research that provides a concurrent computational interpretation of (intuitionistic) linear logic.'\", sentence=3732, chars=[0,145], words=[0,22])),\n",
       " Background(Span(\"b'This claim is supported by recent results in music vs. speech classification'\", sentence=5220, chars=[0,75], words=[0,11])),\n",
       " Background(Span(\"b'Previously'\", sentence=3383, chars=[0,9], words=[0,0])),\n",
       " Background(Span(\"b'From the graph we compute strategies using previous work \\n'\", sentence=2366, chars=[0,57], words=[0,9])),\n",
       " Background(Span(\"b'each Mars Exploration Rover (MER) affords better obstacle avoidance than does the previous version.'\", sentence=4895, chars=[0,98], words=[0,16])),\n",
       " Background(Span(\"b'the previous components must become interoperable with the \\n'\", sentence=1969, chars=[30,89], words=[7,15]))]"
      ]
     },
     "execution_count": 4,
     "metadata": {},
     "output_type": "execute_result"
    }
   ],
   "source": [
    "# Compound Matcher Example 1 (Dict-based): \n",
    "non_comma_matcher=DictionaryMatch(d=[','],longest_match_only=True,reverse=True)  \n",
    "dict_background_matcher=DictionaryMatch(d=['previous','motivated','recent','widely'],longest_match_only=True) \n",
    "non_comma_dict_background_matcher=CandidateExtractor(Background, [ngrams], [Intersection(non_comma_matcher,dict_background_matcher)])\n",
    "extract_and_display(non_comma_dict_background_matcher)"
   ]
  },
  {
   "cell_type": "markdown",
   "metadata": {},
   "source": [
    "Next we move to Compound Matcher 2, esp. `RegexMatch`, to extract *Spans* that starts with \"to\"/\"for\"/\"by\". "
   ]
  },
  {
   "cell_type": "code",
   "execution_count": 5,
   "metadata": {},
   "outputs": [
    {
     "name": "stdout",
     "output_type": "stream",
     "text": [
      "Clearing existing...\n",
      "Running UDF...\n",
      "[========================================] 100%\n",
      "\n",
      "CPU times: user 11.2 s, sys: 227 ms, total: 11.4 s\n",
      "Wall time: 11.5 s\n"
     ]
    },
    {
     "data": {
      "text/markdown": [
       "**Split 0 - number of candidates extracted: 2042**\n",
       "\n"
      ],
      "text/plain": [
       "<IPython.core.display.Markdown object>"
      ]
     },
     "metadata": {},
     "output_type": "display_data"
    },
    {
     "name": "stdout",
     "output_type": "stream",
     "text": [
      "Clearing existing...\n",
      "Running UDF...\n",
      "[========================================] 100%\n",
      "\n",
      "CPU times: user 1.84 s, sys: 125 ms, total: 1.96 s\n",
      "Wall time: 1.95 s\n"
     ]
    },
    {
     "data": {
      "text/markdown": [
       "**Split 1 - number of candidates extracted: 239**\n",
       "\n"
      ],
      "text/plain": [
       "<IPython.core.display.Markdown object>"
      ]
     },
     "metadata": {},
     "output_type": "display_data"
    },
    {
     "name": "stdout",
     "output_type": "stream",
     "text": [
      "Clearing existing...\n",
      "Running UDF...\n",
      "[========================================] 100%\n",
      "\n",
      "CPU times: user 1.7 s, sys: 108 ms, total: 1.81 s\n",
      "Wall time: 1.75 s\n"
     ]
    },
    {
     "data": {
      "text/markdown": [
       "**Split 2 - number of candidates extracted: 236**\n",
       "\n"
      ],
      "text/plain": [
       "<IPython.core.display.Markdown object>"
      ]
     },
     "metadata": {},
     "output_type": "display_data"
    },
    {
     "data": {
      "text/markdown": [
       "**0/2042 Candidate/Span:**\t`Span(\"b'The transformations can improve cache locality of the loop traversal or enable other optimizations that have been impossible before due to bad data dependencies.'\", sentence=1206, chars=[0,160], words=[0,24])`"
      ],
      "text/plain": [
       "<IPython.core.display.Markdown object>"
      ]
     },
     "metadata": {},
     "output_type": "display_data"
    },
    {
     "data": {
      "text/markdown": [
       "**Its parent Sentence's text:**\tThe transformations can improve cache locality of the loop traversal or enable other optimizations that have been impossible before due to bad data dependencies."
      ],
      "text/plain": [
       "<IPython.core.display.Markdown object>"
      ]
     },
     "metadata": {},
     "output_type": "display_data"
    },
    {
     "data": {
      "text/markdown": [
       "**Its parent Document's text:**\t{'_sa_instance_state': <sqlalchemy.orm.state.InstanceState object at 0x116b68e48>, 'name': '5834868425ff05a97b00c2b3', 'stable_id': '5834868425ff05a97b00c2b3::document:0:0', 'meta': {'file_name': '70kpaper_061418_cleaned.tsv'}, 'id': 43, 'type': 'document', 'sentences': [Sentence(Document 5834868425ff05a97b00c2b3,0,b'In this lecture we consider loop transformations that can be used for cache optimization.'), Sentence(Document 5834868425ff05a97b00c2b3,1,b'The transformations can improve cache locality of the loop traversal or enable other optimizations that have been impossible before due to bad data dependencies.'), Sentence(Document 5834868425ff05a97b00c2b3,2,b'The same loop transformations are needed for loop parallelization and vectorization.\\n')]}"
      ],
      "text/plain": [
       "<IPython.core.display.Markdown object>"
      ]
     },
     "metadata": {},
     "output_type": "display_data"
    },
    {
     "name": "stdout",
     "output_type": "stream",
     "text": [
      "\n"
     ]
    },
    {
     "data": {
      "text/markdown": [
       "**1/2042 Candidate/Span:**\t`Span(\"b'For our logic'\", sentence=3099, chars=[0,12], words=[0,2])`"
      ],
      "text/plain": [
       "<IPython.core.display.Markdown object>"
      ]
     },
     "metadata": {},
     "output_type": "display_data"
    },
    {
     "data": {
      "text/markdown": [
       "**Its parent Sentence's text:**\tFor our logic, we introduce a calculus over real arithmetic with discrete induction and a new \n"
      ],
      "text/plain": [
       "<IPython.core.display.Markdown object>"
      ]
     },
     "metadata": {},
     "output_type": "display_data"
    },
    {
     "data": {
      "text/markdown": [
       "**Its parent Document's text:**\t{'_sa_instance_state': <sqlalchemy.orm.state.InstanceState object at 0x116b68278>, 'name': '5834868425ff05a97b00c29a', 'stable_id': '5834868425ff05a97b00c29a::document:0:0', 'meta': {'file_name': '70kpaper_061418_cleaned.tsv'}, 'id': 440, 'type': 'document', 'sentences': [Sentence(Document 5834868425ff05a97b00c29a,0,b'Synopsis We generalise dynamic logic to a logic for differential-algebraic programs, ie, discrete programs augmented with first-order differential-algebraic formulas as continuous evolution constraints in addition to first-order discrete jump formulas.'), Sentence(Document 5834868425ff05a97b00c29a,1,b'These programs characterise interacting discrete and continuous dynamics of hybrid systems elegantly and uniformly, including systems with disturbance and differential-algebraic equations.'), Sentence(Document 5834868425ff05a97b00c29a,2,b'For our logic, we introduce a calculus over real arithmetic with discrete induction and a new \\n')]}"
      ],
      "text/plain": [
       "<IPython.core.display.Markdown object>"
      ]
     },
     "metadata": {},
     "output_type": "display_data"
    },
    {
     "name": "stdout",
     "output_type": "stream",
     "text": [
      "\n"
     ]
    },
    {
     "data": {
      "text/markdown": [
       "**2/2042 Candidate/Span:**\t`Span(\"b'For example'\", sentence=5019, chars=[0,10], words=[0,1])`"
      ],
      "text/plain": [
       "<IPython.core.display.Markdown object>"
      ]
     },
     "metadata": {},
     "output_type": "display_data"
    },
    {
     "data": {
      "text/markdown": [
       "**Its parent Sentence's text:**\tFor example, the IEEE 802.11 wireless LAN standard power-saving mode (PSM) makes access points buffer data destined for a client and uses a periodic beacon to inform \n"
      ],
      "text/plain": [
       "<IPython.core.display.Markdown object>"
      ]
     },
     "metadata": {},
     "output_type": "display_data"
    },
    {
     "data": {
      "text/markdown": [
       "**Its parent Document's text:**\t{'_sa_instance_state': <sqlalchemy.orm.state.InstanceState object at 0x116bd9e10>, 'name': '5834868425ff05a97b00cb43', 'stable_id': '5834868425ff05a97b00cb43::document:0:0', 'meta': {'file_name': '70kpaper_061418_cleaned.tsv'}, 'id': 891, 'type': 'document', 'sentences': [Sentence(Document 5834868425ff05a97b00cb43,0,b'Abstract A significant contributor to the total energy consumed on many battery-powered mobile devices is the wireless network interface card (NIC).'), Sentence(Document 5834868425ff05a97b00cb43,1,b'Therefore, minimizing the energy consumption of the NIC can result in significant battery life improvement for a mobile device.'), Sentence(Document 5834868425ff05a97b00cb43,2,b'One way of achieving this is to transition the NIC to a lower-power sleep mode when possible'), Sentence(Document 5834868425ff05a97b00cb43,3,b'For example, the IEEE 802.11 wireless LAN standard power-saving mode (PSM) makes access points buffer data destined for a client and uses a periodic beacon to inform \\n')]}"
      ],
      "text/plain": [
       "<IPython.core.display.Markdown object>"
      ]
     },
     "metadata": {},
     "output_type": "display_data"
    },
    {
     "name": "stdout",
     "output_type": "stream",
     "text": [
      "\n"
     ]
    },
    {
     "data": {
      "text/markdown": [
       "**3/2042 Candidate/Span:**\t`Span(\"b'the IEEE 802.11 wireless LAN standard power-saving mode (PSM) makes access points buffer data destined for a client and uses a periodic beacon to inform \\n'\", sentence=5019, chars=[13,166], words=[3,32])`"
      ],
      "text/plain": [
       "<IPython.core.display.Markdown object>"
      ]
     },
     "metadata": {},
     "output_type": "display_data"
    },
    {
     "data": {
      "text/markdown": [
       "**Its parent Sentence's text:**\tFor example, the IEEE 802.11 wireless LAN standard power-saving mode (PSM) makes access points buffer data destined for a client and uses a periodic beacon to inform \n"
      ],
      "text/plain": [
       "<IPython.core.display.Markdown object>"
      ]
     },
     "metadata": {},
     "output_type": "display_data"
    },
    {
     "data": {
      "text/markdown": [
       "**Its parent Document's text:**\t{'_sa_instance_state': <sqlalchemy.orm.state.InstanceState object at 0x116bd9e10>, 'name': '5834868425ff05a97b00cb43', 'stable_id': '5834868425ff05a97b00cb43::document:0:0', 'meta': {'file_name': '70kpaper_061418_cleaned.tsv'}, 'id': 891, 'type': 'document', 'sentences': [Sentence(Document 5834868425ff05a97b00cb43,0,b'Abstract A significant contributor to the total energy consumed on many battery-powered mobile devices is the wireless network interface card (NIC).'), Sentence(Document 5834868425ff05a97b00cb43,1,b'Therefore, minimizing the energy consumption of the NIC can result in significant battery life improvement for a mobile device.'), Sentence(Document 5834868425ff05a97b00cb43,2,b'One way of achieving this is to transition the NIC to a lower-power sleep mode when possible'), Sentence(Document 5834868425ff05a97b00cb43,3,b'For example, the IEEE 802.11 wireless LAN standard power-saving mode (PSM) makes access points buffer data destined for a client and uses a periodic beacon to inform \\n')]}"
      ],
      "text/plain": [
       "<IPython.core.display.Markdown object>"
      ]
     },
     "metadata": {},
     "output_type": "display_data"
    },
    {
     "name": "stdout",
     "output_type": "stream",
     "text": [
      "\n"
     ]
    },
    {
     "data": {
      "text/markdown": [
       "**4/2042 Candidate/Span:**\t`Span(\"b'While previous studies demonstrate the feasibility of using ACT-R to model collective cognition'\", sentence=4273, chars=[0,94], words=[0,14])`"
      ],
      "text/plain": [
       "<IPython.core.display.Markdown object>"
      ]
     },
     "metadata": {},
     "output_type": "display_data"
    },
    {
     "data": {
      "text/markdown": [
       "**Its parent Sentence's text:**\tWhile previous studies demonstrate the feasibility of using ACT-R to model collective cognition, as well as sensemaking processes at the individual level, the \n"
      ],
      "text/plain": [
       "<IPython.core.display.Markdown object>"
      ]
     },
     "metadata": {},
     "output_type": "display_data"
    },
    {
     "data": {
      "text/markdown": [
       "**Its parent Document's text:**\t{'_sa_instance_state': <sqlalchemy.orm.state.InstanceState object at 0x116c959b0>, 'name': '5834868425ff05a97b00df37', 'stable_id': '5834868425ff05a97b00df37::document:0:0', 'meta': {'file_name': '70kpaper_061418_cleaned.tsv'}, 'id': 713, 'type': 'document', 'sentences': [Sentence(Document 5834868425ff05a97b00df37,0,b'Cognitive social simulations, enabled by cognitive architectures (such as ACT-R), are particularly well-suited for advancing our understanding of socially-distributed and socially-situated cognition.'), Sentence(Document 5834868425ff05a97b00df37,1,b'As a result, multi-agent simulations featuring the use of ACT-R agents may be important in improving our understanding of the factors that influence collective sensemaking.'), Sentence(Document 5834868425ff05a97b00df37,2,b'While previous studies demonstrate the feasibility of using ACT-R to model collective cognition, as well as sensemaking processes at the individual level, the \\n')]}"
      ],
      "text/plain": [
       "<IPython.core.display.Markdown object>"
      ]
     },
     "metadata": {},
     "output_type": "display_data"
    },
    {
     "name": "stdout",
     "output_type": "stream",
     "text": [
      "\n"
     ]
    },
    {
     "data": {
      "text/markdown": [
       "**5/2042 Candidate/Span:**\t`Span(\"b'Our approach relies on recent learning theory results for distribution regression'\", sentence=2307, chars=[0,80], words=[0,10])`"
      ],
      "text/plain": [
       "<IPython.core.display.Markdown object>"
      ]
     },
     "metadata": {},
     "output_type": "display_data"
    },
    {
     "data": {
      "text/markdown": [
       "**Its parent Sentence's text:**\tOur approach relies on recent learning theory results for distribution regression, using kernel \n"
      ],
      "text/plain": [
       "<IPython.core.display.Markdown object>"
      ]
     },
     "metadata": {},
     "output_type": "display_data"
    },
    {
     "data": {
      "text/markdown": [
       "**Its parent Document's text:**\t{'_sa_instance_state': <sqlalchemy.orm.state.InstanceState object at 0x116c53e48>, 'name': '5834868425ff05a97b00d9ba', 'stable_id': '5834868425ff05a97b00d9ba::document:0:0', 'meta': {'file_name': '70kpaper_061418_cleaned.tsv'}, 'id': 270, 'type': 'document', 'sentences': [Sentence(Document 5834868425ff05a97b00d9ba,0,b\"Abstract We present a new solution to the``ecological inference''problem, of learning individual-level associations from aggregate data.\"), Sentence(Document 5834868425ff05a97b00d9ba,1,b'This problem has a long history and has attracted much attention, debate, claims that it is unsolvable, and purported solutions.'), Sentence(Document 5834868425ff05a97b00d9ba,2,b'Unlike other ecological inference techniques, our method makes use of unlabeled individual-level data by embedding the distribution over these predictors into a vector in Hilbert space.'), Sentence(Document 5834868425ff05a97b00d9ba,3,b'Our approach relies on recent learning theory results for distribution regression, using kernel \\n')]}"
      ],
      "text/plain": [
       "<IPython.core.display.Markdown object>"
      ]
     },
     "metadata": {},
     "output_type": "display_data"
    },
    {
     "name": "stdout",
     "output_type": "stream",
     "text": [
      "\n"
     ]
    },
    {
     "data": {
      "text/markdown": [
       "**6/2042 Candidate/Span:**\t`Span(\"b'most work is based on assumptions which are not suited to large scale \\n'\", sentence=5297, chars=[79,149], words=[13,26])`"
      ],
      "text/plain": [
       "<IPython.core.display.Markdown object>"
      ]
     },
     "metadata": {},
     "output_type": "display_data"
    },
    {
     "data": {
      "text/markdown": [
       "**Its parent Sentence's text:**\tAlthough much related work has been done on efficient delivery of information, most work is based on assumptions which are not suited to large scale \n"
      ],
      "text/plain": [
       "<IPython.core.display.Markdown object>"
      ]
     },
     "metadata": {},
     "output_type": "display_data"
    },
    {
     "data": {
      "text/markdown": [
       "**Its parent Document's text:**\t{'_sa_instance_state': <sqlalchemy.orm.state.InstanceState object at 0x116ca0710>, 'name': '5834868425ff05a97b00e0b4', 'stable_id': '5834868425ff05a97b00e0b4::document:0:0', 'meta': {'file_name': '70kpaper_061418_cleaned.tsv'}, 'id': 957, 'type': 'document', 'sentences': [Sentence(Document 5834868425ff05a97b00e0b4,0,b'Abstract: Effective communication among agents in large teams is crucial because the members share a common goal but only have a partial views of the environment.'), Sentence(Document 5834868425ff05a97b00e0b4,1,b'Information sharing is difficult in a large team because, a team member may have a piece of valuable information but not know who needs the information, since it is infeasible to know what each other agent is doing.'), Sentence(Document 5834868425ff05a97b00e0b4,2,b'Although much related work has been done on efficient delivery of information, most work is based on assumptions which are not suited to large scale \\n')]}"
      ],
      "text/plain": [
       "<IPython.core.display.Markdown object>"
      ]
     },
     "metadata": {},
     "output_type": "display_data"
    },
    {
     "name": "stdout",
     "output_type": "stream",
     "text": [
      "\n"
     ]
    },
    {
     "data": {
      "text/plain": [
       "[Background(Span(\"b'The transformations can improve cache locality of the loop traversal or enable other optimizations that have been impossible before due to bad data dependencies.'\", sentence=1206, chars=[0,160], words=[0,24])),\n",
       " Background(Span(\"b'For our logic'\", sentence=3099, chars=[0,12], words=[0,2])),\n",
       " Background(Span(\"b'For example'\", sentence=5019, chars=[0,10], words=[0,1])),\n",
       " Background(Span(\"b'the IEEE 802.11 wireless LAN standard power-saving mode (PSM) makes access points buffer data destined for a client and uses a periodic beacon to inform \\n'\", sentence=5019, chars=[13,166], words=[3,32])),\n",
       " Background(Span(\"b'While previous studies demonstrate the feasibility of using ACT-R to model collective cognition'\", sentence=4273, chars=[0,94], words=[0,14])),\n",
       " Background(Span(\"b'Our approach relies on recent learning theory results for distribution regression'\", sentence=2307, chars=[0,80], words=[0,10])),\n",
       " Background(Span(\"b'most work is based on assumptions which are not suited to large scale \\n'\", sentence=5297, chars=[79,149], words=[13,26])),\n",
       " Background(Span(\"b'In this paper we present the application and analysis of signal processing techniques for effective practical compression of network traffic data.'\", sentence=4881, chars=[0,145], words=[0,21])),\n",
       " Background(Span(\"b'We present initial results on QoS path selection for traffic requiring bandwidth and delay guarantees.'\", sentence=1187, chars=[0,101], words=[0,15])),\n",
       " Background(Span(\"b'leading to a hypothesis that they may form as continuous subdivisions around the lateral ventricle.'\", sentence=4148, chars=[208,306], words=[30,45])),\n",
       " Background(Span(\"b'we used quantitative brain molecular profiling to discover that distinct subdivisions in the avian pallium above and below the ventricle and the associated mesopallium lamina have similar molecular profiles'\", sentence=4148, chars=[0,205], words=[0,28])),\n",
       " Background(Span(\"b'Such annotation allows a parallel replayer to closely mimic the behavior of a traced application across a variety of storage systems.'\", sentence=2689, chars=[0,132], words=[0,21])),\n",
       " Background(Span(\"b'This phenomenon of emergence of cooperation can be captured by repeated PD games in graphs consisting of agents of same type.'\", sentence=4102, chars=[0,124], words=[0,21])),\n",
       " Background(Span(\"b'by shifting profits into liquidity'\", sentence=1789, chars=[8,41], words=[2,6])),\n",
       " Background(Span(\"b'values of type int are defined to have 32 bits.'\", sentence=3151, chars=[7,53], words=[3,13])),\n",
       " Background(Span(\"b'Needle insertion was controlled interactively by the surgeon'\", sentence=4725, chars=[0,59], words=[0,7])),\n",
       " Background(Span(\"b'Pla12a] as a specification and verification logic for hybrid programs.'\", sentence=2773, chars=[90,159], words=[17,28])),\n",
       " Background(Span(\"b'A smaller \\\\nquestion is whether the commuting conversions involving 1L suffice to show that the  \\n'\", sentence=2997, chars=[0,97], words=[0,15])),\n",
       " Background(Span(\"b'Abstract Bottom-up logic programming can be used to declaratively specify many algorithms in a succinct and natural way'\", sentence=5440, chars=[0,118], words=[0,19])),\n",
       " Background(Span(\"b'and McAllester and Ganzinger have shown that it is possible to define a cost semantics that enables reasoning about the running time of algorithms written as inference rules.'\", sentence=5440, chars=[121,294], words=[21,49])),\n",
       " Background(Span(\"b'In this lecture we investigate a computational interpretation of intuitionistic proofs and relate it to functional programming.'\", sentence=2936, chars=[0,126], words=[0,17])),\n",
       " Background(Span(\"b'To explore this hypothesis'\", sentence=4149, chars=[0,25], words=[0,3])),\n",
       " Background(Span(\"b'by means of typing'\", sentence=1406, chars=[26,43], words=[6,9])),\n",
       " Background(Span(\"b'In the lecture 5 we have followed an axiomatic and a semantic approach to modal logic.'\", sentence=4771, chars=[0,85], words=[0,16])),\n",
       " Background(Span(\"b'these models are typically trained independently for each class using positive and negative examples cropped from images.'\", sentence=4162, chars=[9,129], words=[2,19])),\n",
       " Background(Span(\"b'and getting people to make contributions remains a critical challenge.'\", sentence=2585, chars=[70,139], words=[11,21])),\n",
       " Background(Span(\"b'Our system is faster than previous work by over an order of magnitude and it is capable of dealing with hundreds of millions of documents and thousands of topics.'\", sentence=1728, chars=[0,161], words=[0,29])),\n",
       " Background(Span(\"b'We show connections between the cost function and some properties up to now believed to apply to support vector machines \\n'\", sentence=3808, chars=[0,121], words=[0,20])),\n",
       " Background(Span(\"b'We illustrate the representation techniques available within CLF by applying them to an asynchronous pi-calculus with correspondence assertions'\", sentence=1422, chars=[0,142], words=[0,19])),\n",
       " Background(Span(\"b'and a type system with latent effects due to Gordon and Jeffrey.\\n'\", sentence=1422, chars=[196,260], words=[29,42])),\n",
       " Background(Span(\"b'This is a challenging problem since an agent does not know a priori which information source would provide high quality information for particular topics.'\", sentence=4214, chars=[0,153], words=[0,24])),\n",
       " Background(Span(\"b'(Multi-agent Operation Range Simulation Environment) is an environment for three team \\n'\", sentence=5206, chars=[0,86], words=[0,15])),\n",
       " Background(Span(\"b'such as compulsory licensing and the public lending right that would allow access to copyrighted works without requiring permission of their owners.'\", sentence=2419, chars=[77,224], words=[12,34])),\n",
       " Background(Span(\"b'Little work details how system designers should combine different interactions to increase coverage of service location.'\", sentence=2586, chars=[0,119], words=[0,16])),\n",
       " Background(Span(\"b'Lecture 5 on Dynamical Systems & Dynamic Axioms and subsequent lectures studied proof principles for differential dynamic logic with which we \\n'\", sentence=2774, chars=[0,142], words=[0,21])),\n",
       " Background(Span(\"b'voting rules are seen as error-correcting codes: their goal is to correct errors in the input rankings and recover a ranking that is close to the ground truth.'\", sentence=3593, chars=[21,179], words=[4,35])),\n",
       " Background(Span(\"b'but this could be explained by underlying racial ancestry or disease severity.'\", sentence=1107, chars=[119,196], words=[27,39])),\n",
       " Background(Span(\"b'Due to technological advances'\", sentence=5083, chars=[0,28], words=[0,3])),\n",
       " Background(Span(\"b'it is now possible to measure hundreds of thousands of genetic variants per individual across the genome.'\", sentence=5083, chars=[31,135], words=[5,22])),\n",
       " Background(Span(\"b'WebSemantics supports the publication of sources by the data providers and their discovery by agents.'\", sentence=1838, chars=[0,100], words=[0,15])),\n",
       " Background(Span(\"b'Abstract We present the spine calculus S\\xe2\\x86\\x92\\xe2\\x8a\\xb8 &\\xe2\\x8a\\xa4 as an efficient representation for the linear \\xce\\xbb-calculus \\xce\\xbb\\xe2\\x86\\x92\\xe2\\x8a\\xb8 &\\xe2\\x8a\\xa4 which includes unrestricted functions (\\xe2\\x86\\x92) linear functions (\\xe2\\x8a\\xb8) additive pairing (&) and additive unit (\\xe2\\x8a\\xa4).'\", sentence=1874, chars=[0,215], words=[0,43])),\n",
       " Background(Span(\"b'The same loop transformations are needed for loop parallelization and vectorization.\\n'\", sentence=1207, chars=[0,84], words=[0,12])),\n",
       " Background(Span(\"b'very little work has been reported that is feasible for use in the real world and much less for activities involving physical activity.'\", sentence=3356, chars=[86,220], words=[13,36])),\n",
       " Background(Span(\"b'Despite the potential for stress and emotion recognition outside the lab environment'\", sentence=3356, chars=[0,83], words=[0,11])),\n",
       " Background(Span(\"b'When compared to other replay'\", sentence=2690, chars=[0,28], words=[0,4])),\n",
       " Background(Span(\"b'While other versions of the same content better suited to their device and network constraints may be available on other third-party hosting sites'\", sentence=5267, chars=[0,145], words=[0,24])),\n",
       " Background(Span(\"b'This method has promise for domain-independent use'\", sentence=3198, chars=[0,49], words=[0,8])),\n",
       " Background(Span(\"b'due to resource constraints'\", sentence=1571, chars=[13,39], words=[3,6])),\n",
       " Background(Span(\"b'we move a step forward towards a stress recognition system that works on a close to real world data set and shows a significant improvement over classification only systems.'\", sentence=3357, chars=[14,186], words=[4,33])),\n",
       " Background(Span(\"b'Abstract: Our goal is to bring animation characters to life in the real world.'\", sentence=3578, chars=[0,77], words=[0,15])),\n",
       " Background(Span(\"b'fail to provide needed functionality'\", sentence=1354, chars=[137,172], words=[22,26])),\n",
       " Background(Span(\"b'and require the use of inconsistent interfaces by applications.'\", sentence=1354, chars=[175,237], words=[28,37])),\n",
       " Background(Span(\"b'the compiler does not have to take any precautions against array access out of bounds'\", sentence=3100, chars=[28,112], words=[6,20])),\n",
       " Background(Span(\"b'The rise in globally distributed software development has created an environment in which workers are likely to have less information and lower quality information about their remote colleagues.'\", sentence=2531, chars=[0,193], words=[0,28])),\n",
       " Background(Span(\"b'The strong proof-theoretic foundation of this type system provides immediate opportunities for uniform generalization'\", sentence=3734, chars=[0,116], words=[0,15])),\n",
       " Background(Span(\"b'to embed terms from a functional type theory.'\", sentence=3734, chars=[133,177], words=[19,27])),\n",
       " Background(Span(\"b'to review the latest research results in the field'\", sentence=5098, chars=[149,198], words=[27,35])),\n",
       " Background(Span(\"b'and to discuss future directions.'\", sentence=5098, chars=[274,306], words=[48,53])),\n",
       " Background(Span(\"b'Abstract: The purpose of this workshop is to bring together researchers'\", sentence=5098, chars=[0,70], words=[0,11])),\n",
       " Background(Span(\"b'to keep the government research community abreast of current technology'\", sentence=5098, chars=[201,271], words=[37,46])),\n",
       " Background(Span(\"b'The characterization leads to a differential radical invariant proof rule that is sound and complete'\", sentence=1274, chars=[0,99], words=[0,14])),\n",
       " Background(Span(\"b'and intuition of the user performing the search can then be brought to bear on the specificity and selectivity of the current search.'\", sentence=2197, chars=[26,158], words=[5,28])),\n",
       " Background(Span(\"b'to MABEL'\", sentence=1666, chars=[146,153], words=[24,25])),\n",
       " Background(Span(\"b'developed for rigid robots with a single degree of underactuation'\", sentence=1666, chars=[79,143], words=[13,22])),\n",
       " Background(Span(\"b'work to date has produced mostly \\xe2\\x80\\x9cshallow\\xe2\\x80\\x9d questions that fall short of supporting deep learning and discussion.'\", sentence=4319, chars=[9,120], words=[2,21])),\n",
       " Background(Span(\"b'Our model learns to focus selectively on parts of the video frames and classifies videos after taking a few glimpses.'\", sentence=2837, chars=[0,116], words=[0,20])),\n",
       " Background(Span(\"b'< b is a functional on 2K which can be extended to a partial recursive functional on S3.\\n'\", sentence=3657, chars=[0,88], words=[0,20])),\n",
       " Background(Span(\"b'but often the number of coalition structures is too large to allow exhaustive search for the optimal one.'\", sentence=2618, chars=[93,197], words=[17,35])),\n",
       " Background(Span(\"b'The proof is due to Tait and Martin-L6f and is based on the notion of parallel reduction.'\", sentence=1903, chars=[0,88], words=[0,19])),\n",
       " Background(Span(\"b'that for functional languages'\", sentence=2869, chars=[59,87], words=[12,15])),\n",
       " Background(Span(\"b'extended to an (\\n'\", sentence=2869, chars=[90,106], words=[17,21])),\n",
       " Background(Span(\"b'value) storage for synchronizing the sampler state between computers.'\", sentence=1729, chars=[95,163], words=[18,28])),\n",
       " Background(Span(\"b'This training data is then used to learn a regressor (for future frames) that predicts joint locations from image \\n'\", sentence=1937, chars=[0,114], words=[0,21])),\n",
       " Background(Span(\"b'We examine AFS as a provider of wide-area file services to over 100 organizations around the world.'\", sentence=2502, chars=[0,98], words=[0,19])),\n",
       " Background(Span(\"b'operators have been found able to manage 3 to 12 robots.'\", sentence=2470, chars=[42,97], words=[8,19])),\n",
       " Background(Span(\"b'802.11 devices are being used by mobile users.'\", sentence=3182, chars=[23,68], words=[3,11])),\n",
       " Background(Span(\"b'Abstract Motivated by a radically new peer review system that the National Science Foundation recently experimented with'\", sentence=3658, chars=[0,119], words=[0,16])),\n",
       " Background(Span(\"b'we study peer review systems in which proposals are reviewed by PIs who have submitted proposals themselves.'\", sentence=3658, chars=[122,229], words=[18,35])),\n",
       " Background(Span(\"b'a paradigm and system for cloud computing that introduces VM cloning as a first-class cloud abstraction.'\", sentence=2405, chars=[22,125], words=[4,22])),\n",
       " Background(Span(\"b'[M/x] N for hypothesis labeled x\\xe2\\x80\\xa2'\", sentence=3167, chars=[0,32], words=[0,9])),\n",
       " Background(Span(\"b'This work explores\\\\\" bidirectional\\\\\" architectures that also reason with top-down feedback: neural units are influenced by both lower and higher-level units.'\", sentence=4025, chars=[0,156], words=[0,28])),\n",
       " Background(Span(\"b'for visualization tools we evaluated the suitability of the level of abstraction and \\n'\", sentence=3893, chars=[13,98], words=[3,16])),\n",
       " Background(Span(\"b'For example'\", sentence=3893, chars=[0,10], words=[0,1])),\n",
       " Background(Span(\"b'We propose an extension to a state-of-the-art question generation system that allows it to produce deep'\", sentence=4320, chars=[0,102], words=[0,21])),\n",
       " Background(Span(\"b'subjective questions suitable for group discussion.'\", sentence=4320, chars=[105,155], words=[23,29])),\n",
       " Background(Span(\"b'These are links within carrier ISPs or between neighboring carriers that could potentially constrain the bandwidth available to long-lived \\n'\", sentence=2231, chars=[0,139], words=[0,21])),\n",
       " Background(Span(\"b'we utilize machine learning techniques to allow a set of distributed agents to use their past experience and collaborate with others to identify information sources with the best payoff.'\", sentence=4215, chars=[15,200], words=[4,33])),\n",
       " Background(Span(\"b'we illustrate an extension to the Cognitive Tutor Authoring Tools (CTAT) to allow for development of collaborative ITSs that can support a range of collaboration scripts.'\", sentence=5333, chars=[15,184], words=[4,32])),\n",
       " Background(Span(\"b'we show that depth sensors are particularly informative for extracting near-field interactions of the camera wearer with his/her environment.'\", sentence=1616, chars=[15,155], words=[4,27])),\n",
       " Background(Span(\"b'For this task'\", sentence=1616, chars=[0,12], words=[0,2])),\n",
       " Background(Span(\"b\"Levin [1997] derived the optimal CA for complements when each agent's private type is\"\", sentence=3829, chars=[9,93], words=[2,18])),\n",
       " Background(Span(\"b'as well as an integrated language for registering and \\n'\", sentence=1839, chars=[88,142], words=[14,23])),\n",
       " Background(Span(\"b'A system (400) for positioning and navigating an autonomous vehicle (310) allows the vehicle (310) to travel between locations.'\", sentence=2183, chars=[0,126], words=[0,25])),\n",
       " Background(Span(\"b'A complete vector of angular acceleration of the instrument needs to be known to obtain information on three DOF motions of the tip.'\", sentence=4787, chars=[0,131], words=[0,23])),\n",
       " Background(Span(\"b'this paper distills the key design axes that dictate trace utility for important use cases.'\", sentence=2703, chars=[84,174], words=[15,30])),\n",
       " Background(Span(\"b'and it is time to use all the resources at our disposal.'\", sentence=4514, chars=[15,70], words=[5,17])),\n",
       " Background(Span(\"b'a navigation program that generates local-terrain models from stereoscopic image pairs captured by onboard rover cameras; uses this information to evaluate candidate arcs that extend across the terrain \\n'\", sentence=4896, chars=[106,308], words=[18,49])),\n",
       " Background(Span(\"b'Both versions include GESTALT (Grid-based Estimation of Surface Traversability Applied to Local Terrain)'\", sentence=4896, chars=[0,103], words=[0,16])),\n",
       " Background(Span(\"b'Reflects substitution principle for hypothetical judgments\\xe2\\x80\\xa2 Compositional and open-ended\\xe2\\x80\\xa2 Substitution (judgmental) vs. reduction'\", sentence=3168, chars=[0,128], words=[0,16])),\n",
       " Background(Span(\"b'leading to complex and imperfect motion models.'\", sentence=2966, chars=[113,159], words=[20,27])),\n",
       " Background(Span(\"b'Our parser uses these formats to turn strings into structured objects and to report its level of confidence that each string is a valid instance of the format.'\", sentence=4290, chars=[0,158], words=[0,28])),\n",
       " Background(Span(\"b'In this lecture we consider loop transformations that can be used for cache optimization.'\", sentence=1205, chars=[0,88], words=[0,14])),\n",
       " Background(Span(\"b'ABSTRACT Dynamic adaptive systems based on multiple concurrent applications typically employ optimization models to decide how to allocate scarce resources among the applications and how to tune their runtime settings for optimal quality-of-service according to the preferences of an end user.'\", sentence=1984, chars=[0,292], words=[0,45])),\n",
       " Background(Span(\"b'as to a large extent it remains now'\", sentence=2047, chars=[13,47], words=[4,11])),\n",
       " Background(Span(\"b'graphical models for relational data.'\", sentence=2292, chars=[77,113], words=[14,19])),\n",
       " Background(Span(\"b'Abstract Multi-task learning attempts to simultaneously leverage data from multiple domains in order to estimate related functions on each domain.'\", sentence=5298, chars=[0,145], words=[0,22])),\n",
       " Background(Span(\"b'to \\n'\", sentence=4711, chars=[27,30], words=[3,4])),\n",
       " Background(Span(\"b'Abstract: Autonomous navigation for large Unmanned Aerial Vehicles (UAVs) is fairly straight-forward'\", sentence=2391, chars=[0,99], words=[0,16])),\n",
       " Background(Span(\"b'}) is loopinvariant for a loop if 1.'\", sentence=4855, chars=[48,83], words=[9,18])),\n",
       " Background(Span(\"b'for an'\", sentence=4855, chars=[25,30], words=[6,7])),\n",
       " Background(Span(\"b'while visual feedback was provided by fiber optic transmission.'\", sentence=3012, chars=[84,146], words=[15,24])),\n",
       " Background(Span(\"b'such systems have avoided dealing with uncertainty by assuming that current snapshots of the relevant inputs are precise and by solving for an optimal system point.'\", sentence=1985, chars=[15,178], words=[2,28])),\n",
       " Background(Span(\"b'We first show how to estimate error rates exactly from unlabeled data when given a collection of competing \\n'\", sentence=5194, chars=[0,107], words=[0,18])),\n",
       " Background(Span(\"b'Both GS3 and Tartanian are based on our potential-aware automated abstraction algorithm for identifying strategically similar situations in order to decrease the \\n'\", sentence=1681, chars=[0,162], words=[0,24])),\n",
       " Background(Span(\"b'for reduction.'\", sentence=3031, chars=[164,177], words=[30,32])),\n",
       " Background(Span(\"b\"A difficult aspect of this problem is gaining an awareness of the requesting robot's situation quickly enough to avoid slowing the whole team down.\"\", sentence=4450, chars=[0,146], words=[0,25])),\n",
       " Background(Span(\"b'comparative genomics is moving from pairwise comparisons to multiway comparisons framed within a phylogenetic tree.'\", sentence=2368, chars=[37,151], words=[7,22])),\n",
       " Background(Span(\"b'This results in very dynamic wireless channels that are difficult to use efficiently.'\", sentence=3183, chars=[0,84], words=[0,13])),\n",
       " Background(Span(\"b'The ultimate goal of the proposed research is to construct tools and processes that can support the building of large software systems that are secure'\", sentence=2870, chars=[0,149], words=[0,24])),\n",
       " Background(Span(\"b'A central problem in this process is the inference of data for internal nodes of the tree from data given at the leaves.'\", sentence=2369, chars=[0,119], words=[0,23])),\n",
       " Background(Span(\"b'to \\n'\", sentence=4403, chars=[74,77], words=[13,14])),\n",
       " Background(Span(\"b'A wide variety of novel approaches and tools have emerged to tackle the challenges of Big Data'\", sentence=2854, chars=[0,93], words=[0,16])),\n",
       " Background(Span(\"b'creating both more opportunities and more challenges for students and professionals in the field of data computation and analysis.'\", sentence=2854, chars=[96,225], words=[18,37])),\n",
       " Background(Span(\"b'Authoring tools for collaborative ITSs must be flexible enough to allow for different learning goals and different collaboration scripts.'\", sentence=5334, chars=[0,136], words=[0,19])),\n",
       " Background(Span(\"b'05 to 07.01.'\", sentence=3276, chars=[0,11], words=[0,3])),\n",
       " Background(Span(\"b'To many people'\", sentence=4580, chars=[0,13], words=[0,2])),\n",
       " Background(Span(\"b'We have developed an algorithm that creates a plan for reaching a set of treatment targets'\", sentence=5423, chars=[0,89], words=[0,15])),\n",
       " Background(Span(\"b'Abstract: We present an approach to path planning for manipulators that uses Workspace Goal Regions (WGRs) to specify goal end-effector poses.'\", sentence=3384, chars=[0,141], words=[0,26])),\n",
       " Background(Span(\"b'to \\n'\", sentence=4194, chars=[57,60], words=[7,8])),\n",
       " Background(Span(\"b'Abstract: Matrix factorization (MF) has become a common approach to collaborative filtering'\", sentence=4622, chars=[0,90], words=[0,14])),\n",
       " Background(Span(\"b'due to ease of implementation and scalability to large data sets.'\", sentence=4622, chars=[93,157], words=[16,27])),\n",
       " Background(Span(\"b\"S\\xe2\\x86\\x92\\xe2\\x8a\\xb8 &\\xe2\\x8a\\xa4 enhances the representation of Church's simply typed \\xce\\xbb-calculus by enforcing extensionality and by incorporating linear constructs.\"\", sentence=1875, chars=[0,137], words=[0,20])),\n",
       " Background(Span(\"b'It includes variation in appearance due to age'\", sentence=4132, chars=[0,45], words=[0,7])),\n",
       " Background(Span(\"b'and other factors difficult to observe in smaller-scale collections.'\", sentence=4132, chars=[84,151], words=[16,27])),\n",
       " Background(Span(\"b'A simple normalization is to use commutativity a + b = \\\\nb + a.'\", sentence=1173, chars=[0,62], words=[0,13])),\n",
       " Background(Span(\"b'Abstract We present a formal proof of collision avoidance for a simple distributed hybrid system consisting of an arbitrary finite number of cars on a one dimensional road.'\", sentence=1743, chars=[0,171], words=[0,28])),\n",
       " Background(Span(\"b'This paper describes an analysis and design methodology for coordination algorithms for extremely large groups of agents maintaining a distributed belief.'\", sentence=4230, chars=[0,153], words=[0,21])),\n",
       " Background(Span(\"b'and as a field we must decide on the designs and objectives for the next period of work.'\", sentence=4259, chars=[39,126], words=[7,25])),\n",
       " Background(Span(\"b'Abstract Snake robots are ideally suited to highly confined environments because their small cross-sections and highly redundant kinematics allow them to enter and move through tight spaces with a high degree of dexterity.'\", sentence=2952, chars=[0,221], words=[0,35])),\n",
       " Background(Span(\"b'For traffic with bandwidth guarantees'\", sentence=1188, chars=[0,36], words=[0,4])),\n",
       " Background(Span(\"b'Task graphs are not specific to one threading library or target architecture.'\", sentence=3565, chars=[0,76], words=[0,12])),\n",
       " Background(Span(\"b'To communicate with a service provider'\", sentence=2518, chars=[0,37], words=[0,5])),\n",
       " Background(Span(\"b'and commerce-agents must communicate in inherently or potentially hostile environments in which an adversaries disrupt or intercept the communication between agents for malicious purposes'\", sentence=5395, chars=[99,285], words=[15,40])),\n",
       " Background(Span(\"b'but the wireless ad hoc networks often proposed for these applications are particularly susceptible to attack.'\", sentence=5395, chars=[288,397], words=[42,58])),\n",
       " Background(Span(\"b'One is as a set of inference rules to deduce logical truths.'\", sentence=2891, chars=[0,59], words=[0,12])),\n",
       " Background(Span(\"b'Abstract We describe a cloud-based approach to opportunistic'\", sentence=3800, chars=[0,59], words=[0,9])),\n",
       " Background(Span(\"b'near real-time search of untagged images on smartphones that is sensitive to bandwidth and energy constraints.'\", sentence=3800, chars=[77,186], words=[15,33])),\n",
       " Background(Span(\"b'the latter algorithm can be easily modified to compute a collision-free trajectory'\", sentence=4869, chars=[9,90], words=[2,15])),\n",
       " Background(Span(\"b'These situations amplify mismatches between the global and local plans due to the smaller set of feasible actions.'\", sentence=2821, chars=[0,113], words=[0,18])),\n",
       " Background(Span(\"b'Tracking people is a means to an end'\", sentence=3416, chars=[0,35], words=[0,7])),\n",
       " Background(Span(\"b'Principal component analysis (PCA) is routinely used to summarize the genetic similarity between subjects.'\", sentence=5084, chars=[0,105], words=[0,16])),\n",
       " Background(Span(\"b'In this paper we present an approach for simultaneous registration and stiffness mapping using blind exploration of flexible environments.'\", sentence=3814, chars=[0,137], words=[0,19])),\n",
       " Background(Span(\"b'End-user programmers can use our system to create validation code that takes \\n'\", sentence=4291, chars=[0,77], words=[0,14])),\n",
       " Background(Span(\"b'Formal representations and corresponding automated reasoning procedures for these technologies are introduced.\\n'\", sentence=4372, chars=[0,110], words=[0,13])),\n",
       " Background(Span(\"b'To accomplish biologically meaningful gene selection from microarray data'\", sentence=5348, chars=[0,72], words=[0,8])),\n",
       " Background(Span(\"b'we have to understand the theoretical connections and the \\n'\", sentence=5348, chars=[75,133], words=[10,19])),\n",
       " Background(Span(\"b'or the order in which the premisses to a rule are listed'\", sentence=2892, chars=[74,129], words=[14,25])),\n",
       " Background(Span(\"b'It should therefore come as no surprise that in order to explicit the details of rule application and unification we need some further logical connectives.'\", sentence=2911, chars=[0,154], words=[0,25])),\n",
       " Background(Span(\"b'they have also been used to support the development of a variety of intelligent systems and agents (eg'\", sentence=2064, chars=[118,219], words=[19,37])),\n",
       " Background(Span(\"b'They have typically been used to advance our understanding of human cognition in specific task environments; however'\", sentence=2064, chars=[0,115], words=[0,17])),\n",
       " Background(Span(\"b'kidney exchanges grew from small and regional to large and national\\xe2\\x80\\x94and soon'\", sentence=3495, chars=[20,95], words=[5,18])),\n",
       " Background(Span(\"b'The adversary is expected to use deception to prevent the sensor team from performing its tasks.'\", sentence=4066, chars=[0,95], words=[0,16])),\n",
       " Background(Span(\"b'run for long times without any particular difficulties'\", sentence=3417, chars=[155,208], words=[25,32])),\n",
       " Background(Span(\"b'and asked to call their partner at least once a \\n'\", sentence=5068, chars=[101,149], words=[14,24])),\n",
       " Background(Span(\"b'Are two sets of observations generated by the same distribution?'\", sentence=3719, chars=[0,63], words=[0,10])),\n",
       " Background(Span(\"b'but we have not seen how to optimize any expressions involving pointers.'\", sentence=4839, chars=[73,144], words=[14,26])),\n",
       " Background(Span(\"b'So far we have seen how to implement and compile programs with pointers'\", sentence=4839, chars=[0,70], words=[0,12])),\n",
       " Background(Span(\"b'The use of crowds to gather information for PSS is therefore particularly challenging.'\", sentence=2677, chars=[0,85], words=[0,13])),\n",
       " Background(Span(\"b'Abstract: Distributed systems are complex to develop and administer'\", sentence=4668, chars=[0,66], words=[0,9])),\n",
       " Background(Span(\"b'it is often possible to obtain a \\n'\", sentence=4305, chars=[148,181], words=[25,32])),\n",
       " Background(Span(\"b'One then seeks to find how algebraic properties of the original structure are reflected in the topological properties of the spectrum; in addition'\", sentence=4305, chars=[0,145], words=[0,23])),\n",
       " Background(Span(\"b'Current model free learning-based robot grasping approaches exploit human-labeled datasets for training the models.'\", sentence=5410, chars=[0,114], words=[0,18])),\n",
       " Background(Span(\"b'Abstract: Traditional lidar simulations render surface models to generate simulated range data.'\", sentence=3845, chars=[0,94], words=[0,13])),\n",
       " Background(Span(\"b'We argue that these schemes are ineffective for purposes of the UDL.'\", sentence=2420, chars=[0,67], words=[0,12])),\n",
       " Background(Span(\"b'BL is illustrated through a case study of policies for sharing sensitive information created in the US intelligence community.'\", sentence=3674, chars=[0,125], words=[0,19])),\n",
       " Background(Span(\"b'various post-processing heuristics such as non-maxima suppression (NMS) are required to reconcile multiple detections within and between different classes for each \\n'\", sentence=4163, chars=[14,178], words=[5,32])),\n",
       " Background(Span(\"b'we show that for a broad class of WFQ-like scheduling algorithms'\", sentence=1189, chars=[35,98], words=[6,18])),\n",
       " Background(Span(\"b'For traffic with delay guarantees'\", sentence=1189, chars=[0,32], words=[0,4])),\n",
       " Background(Span(\"b'culminating in a mildly optimizing compiler for a (subset of a) safe variant of the C programming language to x86-64 assembly language.'\", sentence=1259, chars=[100,234], words=[18,44])),\n",
       " Background(Span(\"b'You will be building several complete end-to-end compilers for successively more complex languages'\", sentence=1259, chars=[0,97], words=[0,16])),\n",
       " Background(Span(\"b'We propose a method and apparatus to save the world from itself.\\n'\", sentence=4515, chars=[0,64], words=[0,13])),\n",
       " Background(Span(\"b'this wealth of information was not fully exploited for learning recommender models.'\", sentence=2232, chars=[124,206], words=[20,32])),\n",
       " Background(Span(\"b'This allows an additive model in which the operator controls robots sequentially neglecting each until its performance deteriorates sufficiently to require new operator input.'\", sentence=4010, chars=[0,174], words=[0,24])),\n",
       " Background(Span(\"b'to \\n'\", sentence=4346, chars=[74,77], words=[13,14])),\n",
       " Background(Span(\"b'perhaps unduly influenced by rather chilly receptions from audiences around 1933-35 to disquisitions on \\xce\\xbb-definability'\", sentence=2085, chars=[10,127], words=[3,19])),\n",
       " Background(Span(\"b'to put my work in that format.'\", sentence=2085, chars=[179,208], words=[29,36])),\n",
       " Background(Span(\"b'Abstract\\xe2\\x80\\x94Planning is an important activity in military coalitions and the support of an automated planning tool could help military planners by reducing the cognitive burden of their work.'\", sentence=2806, chars=[0,187], words=[0,30])),\n",
       " Background(Span(\"b'The model essentially learns which parts in the frames are relevant for the task at hand and attaches higher importance to them.'\", sentence=2838, chars=[0,127], words=[0,22])),\n",
       " Background(Span(\"b'As such the book is a unique contri be studied by every \\\\none who is intereste nary differential equations ; at the sam of this science.'\", sentence=4360, chars=[0,135], words=[0,26])),\n",
       " Background(Span(\"b'Abstract Growing traffic volumes and the increasing complexity of attacks pose a constant scaling challenge for network intrusion prevention systems (NIPS).'\", sentence=5222, chars=[0,155], words=[0,23])),\n",
       " Background(Span(\"b'the focus of the academic community (though not so much the industrial software development community) has shifted from simply writing programs to analyzing and reasoning about large distributed systems of software \\n'\", sentence=2048, chars=[26,241], words=[5,38])),\n",
       " Background(Span(\"b'to \\n'\", sentence=5472, chars=[33,36], words=[6,7])),\n",
       " Background(Span(\"b'solution quality guarantees for Nash equilibria and approximate self-trembling equilibria computed in imperfect-recall abstractions'\", sentence=1584, chars=[50,180], words=[10,27])),\n",
       " Background(Span(\"b'we describe how to extend the algorithm to give a complete treatment of products and an incomplete but very useful treatment of polymorphism'\", sentence=4684, chars=[0,139], words=[0,22])),\n",
       " Background(Span(\"b'each programmed by shape and composition'\", sentence=5208, chars=[115,154], words=[18,23])),\n",
       " Background(Span(\"b'Our results are for a class of games that generalizes the only previously known class of imperfect-recall abstractions where any results had been obtained.'\", sentence=1585, chars=[0,154], words=[0,26])),\n",
       " Background(Span(\"b'Current AI planning paradigms use two different types of formalism to represent the planning problem.'\", sentence=2807, chars=[0,100], words=[0,15])),\n",
       " Background(Span(\"b'Successful solutions to forming pickup teams would enable researchers to experiment with larger numbers of robots and enable industry to efficiently and cost-\\n'\", sentence=2353, chars=[0,158], words=[0,23])),\n",
       " Background(Span(\"b'but fails to provide the expertise necessary to complete complex'\", sentence=1790, chars=[81,144], words=[14,23])),\n",
       " Background(Span(\"b'ABSTRACT The crowd provides significant power to complete micro tasks on-demand'\", sentence=1790, chars=[0,78], words=[0,12])),\n",
       " Background(Span(\"b'Lecture 10 on Differential Equations & Differential Invariants and Lecture 11 on Differential Equations & Proofs equipped us with powerful tools for proving properties of differential equations without having to solve them.'\", sentence=4685, chars=[0,222], words=[0,32])),\n",
       " Background(Span(\"b'motivated by modeling of conflict scenarios in societies with multiple ethno-\\n'\", sentence=4103, chars=[15,92], words=[4,15])),\n",
       " Background(Span(\"b'A vehicle navigating at high speeds in offroad environments may be unable to react to negative obstacles such as large holes and cliffs.'\", sentence=2322, chars=[0,135], words=[0,23])),\n",
       " Background(Span(\"b'Abstract: My first exposure to Support Vector Machines'\", sentence=3849, chars=[0,53], words=[0,8])),\n",
       " Background(Span(\"b'leading to erroneous registration if not accounted for.'\", sentence=3815, chars=[135,189], words=[20,28])),\n",
       " Background(Span(\"b'To computationally model discourse and social positioning in metaphor'\", sentence=4333, chars=[0,68], words=[0,8])),\n",
       " Background(Span(\"b'we need a corpus annotated with metaphors relevant to speaker intentions.'\", sentence=4333, chars=[71,143], words=[10,21])),\n",
       " Background(Span(\"b'invites transit riders to crowdsource real-time arrival information by sharing location traces when they commute.'\", sentence=2587, chars=[42,154], words=[7,24])),\n",
       " Background(Span(\"b'CLF extends the Linear Logical Framework to allow the natural representation of concurrent computations in an object language.'\", sentence=4727, chars=[0,125], words=[0,18])),\n",
       " Background(Span(\"b'methods and data structures that are language-independent and extensible to other domains.'\", sentence=5135, chars=[72,161], words=[14,28])),\n",
       " Background(Span(\"b'A major objective of this project is to maximize the number of modules'\", sentence=5135, chars=[0,69], words=[0,12])),\n",
       " Background(Span(\"b'Our architecture entirely obviates the need for separate \\n'\", sentence=1730, chars=[0,57], words=[0,8])),\n",
       " Background(Span(\"b'We show that-core stability reduces to analyzing whether some utility profile is maximal for all agents.'\", sentence=1408, chars=[0,103], words=[0,18])),\n",
       " Background(Span(\"b'Abstract Automated abstraction algorithms for sequential imperfect information games have recently emerged as a key component in developing competitive game theory-based agents.'\", sentence=4594, chars=[0,176], words=[0,24])),\n",
       " Background(Span(\"b'This allows us to justify optimizations to pattern unification such as linearization'\", sentence=3951, chars=[0,83], words=[0,11])),\n",
       " Background(Span(\"b'The content of the \\\\nbook can be shortly described by just giving the titles thers : Historical prologue.'\", sentence=4361, chars=[0,104], words=[0,18])),\n",
       " Background(Span(\"b'which can be used to learn the behavior of the adversary.'\", sentence=2691, chars=[123,179], words=[24,35])),\n",
       " Background(Span(\"b'kidney exchanges grew from small and regional to large and national\\xe2\\x80\\x94and soon'\", sentence=1125, chars=[20,95], words=[5,18])),\n",
       " Background(Span(\"b'For the NIDS case'\", sentence=4941, chars=[0,16], words=[0,3])),\n",
       " Background(Span(\"b'we design a linear programming formulation to assign detection responsibilities to nodes while ensuring that no node is overloaded.'\", sentence=4941, chars=[19,149], words=[5,24])),\n",
       " Background(Span(\"b'and experiments intended to extend the neglect tolerance model to situations in which robots must cooperate to perform dependent tasks.'\", sentence=4011, chars=[56,190], words=[11,31])),\n",
       " Background(Span(\"b'Abstract We have developed a set of metrics and skill scores to analyze the performance of the objective analysis algorithm'\", sentence=2775, chars=[0,122], words=[0,19])),\n",
       " Background(Span(\"b'In this paper we present the results of a simulation study of circuit-switched LANs such as HIPPI using more realistic models for the system and the traffic.'\", sentence=1214, chars=[0,156], words=[0,29])),\n",
       " Background(Span(\"b'We employ a game theoretic model to analyze the \\n'\", sentence=4067, chars=[0,48], words=[0,9])),\n",
       " Background(Span(\"b'offloading NIPS processing to compute clusters offers an immediately deployable alternative to expensive hardware upgrades.'\", sentence=5223, chars=[17,139], words=[4,19])),\n",
       " Background(Span(\"b'This article presents concepts and issues related to creating the Universal Digital Library containing all the creative works of the human race.'\", sentence=2895, chars=[0,143], words=[0,22])),\n",
       " Background(Span(\"b'Abstract Automatically-tested online programming exercises can be useful in introductory programming courses as self-tests to accompany readings'\", sentence=5252, chars=[0,143], words=[0,20])),\n",
       " Background(Span(\"b'and to provide additional practice for students who need it.'\", sentence=5252, chars=[195,254], words=[32,42])),\n",
       " Background(Span(\"b'for in-class assessment'\", sentence=5252, chars=[146,168], words=[22,26])),\n",
       " Background(Span(\"b'for skills development'\", sentence=5252, chars=[171,192], words=[28,30])),\n",
       " Background(Span(\"b'the answers provided by traditional search engines by query specific keywords to content has resulted in markedly high recall and low precision.'\", sentence=2929, chars=[82,225], words=[16,38])),\n",
       " Background(Span(\"b'Abstract--With the exponential growth in web content and due to its sheer volume'\", sentence=2929, chars=[0,79], words=[0,14])),\n",
       " Background(Span(\"b'and complex systems are hard to reason about.'\", sentence=2871, chars=[80,124], words=[12,20])),\n",
       " Background(Span(\"b'Supplementary Material for \\xe2\\x80\\x9cEstimating Accuracy from Unlabeled Data:'\", sentence=2434, chars=[0,67], words=[0,9])),\n",
       " Background(Span(\"b'they have many limitations with respect to flexible interaction and interoperability among heterogeneous services.'\", sentence=4974, chars=[9,122], words=[2,16])),\n",
       " Background(Span(\"b'For example'\", sentence=5299, chars=[0,10], words=[0,1])),\n",
       " Background(Span(\"b'but is unable to estimate a related function well on a target domain using only target data.'\", sentence=5299, chars=[152,243], words=[32,49])),\n",
       " Background(Span(\"b'We introduce a new research avenue for increasing \\n'\", sentence=3831, chars=[0,50], words=[0,8])),\n",
       " Background(Span(\"b'This paper proposes the need for accurate and fast solar panel simulators for the purpose of accurately modeling the behavior of Smart Grids.'\", sentence=1710, chars=[0,140], words=[0,23])),\n",
       " Background(Span(\"b'Abstract: We propose a non-intrusive approach for monitoring virtual machines (VMs) in the cloud.'\", sentence=4516, chars=[0,96], words=[0,19])),\n",
       " Background(Span(\"b'One approach to address this problem is to complement the sensing capabilities of an unmanned ground vehicle with overhead data gathered from an aerial source.'\", sentence=2323, chars=[0,158], words=[0,25])),\n",
       " Background(Span(\"b'but are not currently accessible to the average person.'\", sentence=1791, chars=[158,212], words=[25,34])),\n",
       " Background(Span(\"b'a framework for coordinating teams of expert crowds'\", sentence=1791, chars=[13,63], words=[3,10])),\n",
       " Background(Span(\"b'have been successful in providing efficient and consistent outcomes for project requesters'\", sentence=1791, chars=[66,155], words=[12,23])),\n",
       " Background(Span(\"b'or gather new data through online algorithms that are likely to play severely suboptimal strategies.'\", sentence=2692, chars=[88,187], words=[14,29])),\n",
       " Background(Span(\"b'CloudCoder (http://cloudcoder. org) is an effort to build a community based on an open-source programming exercise system (currently supporting C'\", sentence=5253, chars=[0,144], words=[0,25])),\n",
       " Background(Span(\"b'by \\n'\", sentence=5253, chars=[267,270], words=[46,47])),\n",
       " Background(Span(\"b'In many cases this trend is fueled by modern algorithms for winner determination that can handle the richer inputs.\\n'\", sentence=1778, chars=[0,115], words=[0,20])),\n",
       " Background(Span(\"b'BackgrOuNd Considerable attention has been given recently to the online offerings such as edX and Coursera by prestigious universities such as MIT'\", sentence=4347, chars=[0,145], words=[0,21])),\n",
       " Background(Span(\"b'Abstract: We present a taxonomy for local distance functions where most existing algorithms can be regarded as approximations of the geodesic distance defined by a metric tensor.'\", sentence=1938, chars=[0,177], words=[0,28])),\n",
       " Background(Span(\"b'This design methodology creates a probability distribution which relates global properties of the system to agent interaction dynamics using the tools of statistical mechanics.'\", sentence=4231, chars=[0,175], words=[0,24])),\n",
       " Background(Span(\"b'Abstract The task of teleoperating a robot over a wireless video link is known to be very difficult.'\", sentence=3213, chars=[0,99], words=[0,18])),\n",
       " Background(Span(\"b'Here we describe a method to code complex materials in three-dimensions with tunable structural'\", sentence=5209, chars=[0,94], words=[0,15])),\n",
       " Background(Span(\"b'Abstract The band microstructure has an adverse effect on the comprehensive mechanics performance of Cr-Mo steel used for ball screw.'\", sentence=4500, chars=[0,132], words=[0,22])),\n",
       " Background(Span(\"b'and uses these reviews to select (at most) k proposals.'\", sentence=3659, chars=[66,120], words=[14,26])),\n",
       " Background(Span(\"b'k)-selection mechanism asks each PI to review m proposals'\", sentence=3659, chars=[7,63], words=[4,12])),\n",
       " Background(Span(\"b'for example to fill out a form.'\", sentence=3980, chars=[116,146], words=[22,29])),\n",
       " Background(Span(\"b'in some situations the user will use information from the document in a structured way to complete a task'\", sentence=3980, chars=[9,113], words=[2,20])),\n",
       " Background(Span(\"b'a mobile agent system for electronic auctions.'\", sentence=1840, chars=[36,81], words=[6,13])),\n",
       " Background(Span(\"b'x is not always given by a conditional mean'\", sentence=2277, chars=[0,42], words=[0,8])),\n",
       " Background(Span(\"b'we describe the first hybrid Semantic Web service matchmaker for OWL-S services'\", sentence=4809, chars=[15,93], words=[4,17])),\n",
       " Background(Span(\"b'For primitive scalar type variables'\", sentence=4840, chars=[0,34], words=[0,4])),\n",
       " Background(Span(\"b'success has exposed many limitations of the Web such as its tendency to overload the network and servers'\", sentence=4581, chars=[15,118], words=[2,19])),\n",
       " Background(Span(\"b'its lack of mechanisms for data consistency'\", sentence=4581, chars=[178,220], words=[31,37])),\n",
       " Background(Span(\"b'its limited ability to control access to sensitive data'\", sentence=4581, chars=[121,175], words=[21,29])),\n",
       " Background(Span(\"b'Should we give more attention to user interfaces?'\", sentence=4260, chars=[0,48], words=[0,8])),\n",
       " Background(Span(\"b'We also show that strategy profiles that lead to the-core are a subset of Strong Nash equilibria.'\", sentence=1409, chars=[0,96], words=[0,19])),\n",
       " Background(Span(\"b'has been subject to some criticism'\", sentence=3000, chars=[66,99], words=[11,16])),\n",
       " Background(Span(\"b'where the spinal control is often assumed to consist of central pattern generators and reflexes.'\", sentence=1698, chars=[125,220], words=[18,33])),\n",
       " Background(Span(\"b'hybrid games allow choices in the system dynamics to be resolved adversarially by different players with different objectives.'\", sentence=3431, chars=[23,148], words=[4,22])),\n",
       " Background(Span(\"b'For the last project of this course you will have the opportunity to optimize more aggressively'\", sentence=1260, chars=[0,94], words=[0,15])),\n",
       " Background(Span(\"b'Abstract: Technology for multirobot systems has advanced to the point where we can consider their use in a variety of important domains'\", sentence=4104, chars=[0,134], words=[0,22])),\n",
       " Background(Span(\"b'This paper presents the design and actuation of a six-degree-of-freedom manipulator for a handheld instrument'\", sentence=4758, chars=[0,108], words=[0,20])),\n",
       " Background(Span(\"b'autonomous navigation and cooperative mapping by aerial robots with an emphasis on micro UAVs.'\", sentence=3463, chars=[62,155], words=[11,25])),\n",
       " Background(Span(\"b'This talk will provide an overview of approaches to grasping'\", sentence=3463, chars=[0,59], words=[0,9])),\n",
       " Background(Span(\"b'There are a broad range of reasons to motivate the effort to integrate cognitive architectures with virtual environments.'\", sentence=2065, chars=[0,120], words=[0,18])),\n",
       " Background(Span(\"b'This Book Review is brought to you for free and open access by the School of Computer Science at Research Showcase@ CMU.'\", sentence=3083, chars=[0,119], words=[0,22])),\n",
       " Background(Span(\"b'It will also discuss the scientific and technological challenges and outline directions for future research in these fields.\\n'\", sentence=3464, chars=[0,124], words=[0,19])),\n",
       " Background(Span(\"b'Teleoperation becomes even more difficult when the robot is surrounded by dense obstacles'\", sentence=3214, chars=[0,88], words=[0,12])),\n",
       " Background(Span(\"b'or wireless links are subject to latency.'\", sentence=3214, chars=[149,189], words=[26,33])),\n",
       " Background(Span(\"b'Current rate selection algorithms are dominated by probe-based approaches that search for the best transmission rate using trial-and-error.'\", sentence=3184, chars=[0,138], words=[0,24])),\n",
       " Background(Span(\"b'a defender commits to a randomized deployment of security resources'\", sentence=3644, chars=[41,107], words=[7,16])),\n",
       " Background(Span(\"b'and an attacker best-responds by attacking a target that maximizes his utility.'\", sentence=3644, chars=[110,188], words=[18,32])),\n",
       " Background(Span(\"b'Sometimes one wants to obtain a good estimate that satisfies the property that a proportion'\", sentence=2278, chars=[0,90], words=[0,14])),\n",
       " Background(Span(\"b'and every implementation is automatically declared to conform to the C standard.'\", sentence=3101, chars=[60,139], words=[14,26])),\n",
       " Background(Span(\"b'The Contech analysis framework provides the means for generating and analyzing task graphs that enable computer architects and programmers to gain a deeper understanding of parallel programs.\\n'\", sentence=3566, chars=[0,191], words=[0,28])),\n",
       " Background(Span(\"b'The methods and feasibility to improve the service life of piercing head are discussed on the following aspects.\\n'\", sentence=4654, chars=[0,112], words=[0,19])),\n",
       " Background(Span(\"b'We introduce an improvement to CFR that prunes any path of play in the tree'\", sentence=3878, chars=[0,74], words=[0,14])),\n",
       " Background(Span(\"b'2) the ontology that defines concepts used by the provider agent; and 3) the agent communication language (ACL)'\", sentence=2519, chars=[0,110], words=[0,22])),\n",
       " Background(Span(\"b'Abstract: We explore architectures for general pixel-level prediction problems'\", sentence=3967, chars=[0,77], words=[0,11])),\n",
       " Background(Span(\"b'from low-level edge detection to mid-level surface normal estimation to high-level semantic segmentation.'\", sentence=3967, chars=[80,184], words=[13,32])),\n",
       " Background(Span(\"b'researchers have largely ignored the question how to incorporate risk-sensitive attitudes into their planning mechanisms.'\", sentence=1424, chars=[86,206], words=[14,31])),\n",
       " Background(Span(\"b'Results show that these synthetic nano-hair prototypes have adhesion close to the predicted values for \\n'\", sentence=2138, chars=[0,103], words=[0,17])),\n",
       " Background(Span(\"b'Objectives: To examine whether vitamin D insufficiency is associated with severe asthma exacerbations in Puerto Rican children'\", sentence=1109, chars=[0,125], words=[0,17])),\n",
       " Background(Span(\"b'off-road mobile robots will feature high levels of autonomy which will render them useful for a variety of tasks on Earth and other planets.'\", sentence=3262, chars=[20,159], words=[5,31])),\n",
       " Background(Span(\"b'there has been a single guarantee assumed for all data stored in a storage device: usually'\", sentence=2087, chars=[15,104], words=[2,18])),\n",
       " Background(Span(\"b'To overcome these problems'\", sentence=1355, chars=[0,25], words=[0,3])),\n",
       " Background(Span(\"b'Yet today we lack sound methods and technologies for distributing these tasks across large \\n'\", sentence=1999, chars=[0,91], words=[0,14])),\n",
       " Background(Span(\"b'It has been accepted for inclusion in Computer Science Department by an authorized administrator of Research Showcase@ CMU.'\", sentence=3084, chars=[0,122], words=[0,18])),\n",
       " Background(Span(\"b'ABSTRACT Broadband active sonars (15-150 kHz) capture morphological characteristics of underwater objects and are used by dolphins to recognize targets in cluttered environments'\", sentence=5195, chars=[0,176], words=[0,26])),\n",
       " Background(Span(\"b'TCP has evolved over time with new congestion control algorithms such as support for generalized AIMD'\", sentence=4054, chars=[13,113], words=[4,19])),\n",
       " Background(Span(\"b'Abstract We describe a technique for comparing distributions without the need for density estimation as an intermediate step.'\", sentence=3736, chars=[0,124], words=[0,18])),\n",
       " Background(Span(\"b'Many terrestrial applications have a special demand for robots to possess similar qualities to human-driven machines: high speed and maneuverability.'\", sentence=3263, chars=[0,148], words=[0,23])),\n",
       " Background(Span(\"b'we present a reformulated version of the classical fundamental equation of earthmoving often used to model soil-tool interaction.'\", sentence=4467, chars=[7,135], words=[2,22])),\n",
       " Background(Span(\"b'A key to the practical usefulness of multirobot systems is the ability to have a large number of robots effectively controlled by small numbers of operators.'\", sentence=4105, chars=[0,156], words=[0,26])),\n",
       " Background(Span(\"b'We do this by maximizing the conditional likelihood of the training data.'\", sentence=1956, chars=[0,72], words=[0,12])),\n",
       " Background(Span(\"b'We categorize existing algorithms by how'\", sentence=1939, chars=[0,39], words=[0,5])),\n",
       " Background(Span(\"b'can the coalition structure found via a partial search be guaranteed to be within a bound from optimum?'\", sentence=2620, chars=[10,112], words=[3,21])),\n",
       " Background(Span(\"b'manually labeling grasp locations is not a trivial task;(b) human labeling is biased by semantics.'\", sentence=5411, chars=[111,208], words=[21,37])),\n",
       " Background(Span(\"b'In order to support the use of cognitive architectures in computer simulation studies involving virtual environments'\", sentence=2049, chars=[0,115], words=[0,15])),\n",
       " Background(Span(\"b'an integration solution is proposed that enables ACT-R cognitive models to communicate with the Unity game engine.'\", sentence=2049, chars=[118,231], words=[17,36])),\n",
       " Background(Span(\"b'and need to decide who gets which room'\", sentence=2985, chars=[110,147], words=[18,25])),\n",
       " Background(Span(\"b'We do so by treating units as rectified \"\\n'\", sentence=4026, chars=[0,41], words=[0,9])),\n",
       " Background(Span(\"b'knowledge that will significantly influence how this model is utilized by running learning software.'\", sentence=5149, chars=[141,240], words=[25,39])),\n",
       " Background(Span(\"b\"an analysis is presented which gives substantial insight as to how students' learning is associated with students' speech acts\"\", sentence=5149, chars=[13,138], words=[3,23])),\n",
       " Background(Span(\"b'In this paper we describe a method of generating a Bayesian Knowledge Base from a corpus of student problem attempt data in order to automatically generate hints for new students.'\", sentence=1489, chars=[0,178], words=[0,30])),\n",
       " Background(Span(\"b'Then we identify the interactions across two interfering chains for the \\n'\", sentence=3115, chars=[0,72], words=[0,11])),\n",
       " Background(Span(\"b'which connects the radio access network to the Internet'\", sentence=4870, chars=[32,86], words=[6,14])),\n",
       " Background(Span(\"b'These services enable users to locate'\", sentence=5458, chars=[0,36], words=[0,5])),\n",
       " Background(Span(\"b'Abstract: Versatile models of human locomotion control can elicit new ideas for the control of legged robots and provide simulation test-beds for walking assistive robots.'\", sentence=3567, chars=[0,170], words=[0,28])),\n",
       " Background(Span(\"b'we explore the use of tactile force sensors to understand properties of the surfaces of objects they are pressed against.'\", sentence=4195, chars=[31,151], words=[5,25])),\n",
       " Background(Span(\"b'it has been understood that the technique of focusing can be used to obtain the operational semantics of a logic programming language from a logic.'\", sentence=2968, chars=[64,210], words=[11,36])),\n",
       " Background(Span(\"b'In order to alleviate this problem'\", sentence=2930, chars=[0,33], words=[0,5])),\n",
       " Background(Span(\"b'We present an approach that dynamically blends local plans online to match the field of global paths.'\", sentence=2822, chars=[0,100], words=[0,17])),\n",
       " Background(Span(\"b'We present a computational formulation of visual proxemics by attempting to label each pair of people in an image with a subset of physically based \\xe2\\x80\\x9ctouch codes.'\", sentence=5021, chars=[0,160], words=[0,28])),\n",
       " Background(Span(\"b'The Why2-Atlas system teaches qualitative physics by having students write paragraph-long explanations of simple mechanical phenomena.'\", sentence=5350, chars=[0,133], words=[0,18])),\n",
       " Background(Span(\"b'the current physical sensor models are inadequate for this task since they require detailed world state information that is unavailable in a \\n'\", sentence=5283, chars=[15,156], words=[2,24])),\n",
       " Background(Span(\"b'Abstract The availability of unlicensed spectrum coupled with the increasing popularity of wireless communication has given rise to a diverse range of wireless technologies that compete for spectrum.'\", sentence=4068, chars=[0,198], words=[0,28])),\n",
       " Background(Span(\"b'Past work shows that strong pose+ viewpoint priors and depth-based features are crucial for robust performance.'\", sentence=4083, chars=[0,110], words=[0,18])),\n",
       " Background(Span(\"b'the problems arising on the internet do not always fit well into the known categories for latent variable inference such as Latent Dirichlet Allocation or clustering.'\", sentence=4639, chars=[10,175], words=[2,28])),\n",
       " Background(Span(\"b'They provide a wealth of ongoing opportunities for theoretical and experimental research in both fields.'\", sentence=3480, chars=[0,103], words=[0,15])),\n",
       " Background(Span(\"b'This is accomplished by incorporating the compliance into the hybrid zero \\n'\", sentence=1668, chars=[0,74], words=[0,11])),\n",
       " Background(Span(\"b'For objects with welldefined surfaces'\", sentence=3846, chars=[0,36], words=[0,4])),\n",
       " Background(Span(\"b'and traditional 3D scene reconstruction algorithms can be employed to automatically generate the surface models.'\", sentence=3846, chars=[65,176], words=[11,26])),\n",
       " Background(Span(\"b'Although these early models were able to perform locomotion in \\n'\", sentence=3013, chars=[0,63], words=[0,10])),\n",
       " Background(Span(\"b\"The tutor uses deep syntactic analysis and abductive theorem proving to convert the student's essay to a proof.\"\", sentence=5351, chars=[0,110], words=[0,19])),\n",
       " Background(Span(\"b'The learned model can be matched to a visual library; here'\", sentence=3510, chars=[0,57], words=[0,11])),\n",
       " Background(Span(\"b'We propose a kernel-based statistical test for this problem'\", sentence=3720, chars=[0,58], words=[0,10])),\n",
       " Background(Span(\"b'Abstract The goal of this two-day meeting was to foster interaction between active workers in mobile computing'\", sentence=1731, chars=[0,109], words=[0,18])),\n",
       " Background(Span(\"b'NIPS offloading is challenging on three fronts in contrast to passive network security functions:(1)'\", sentence=5224, chars=[22,121], words=[5,19])),\n",
       " Background(Span(\"b'and the authors have previously presented a fragment of ordered linear logic suitable to a forward-chaining operational semantics.'\", sentence=2969, chars=[157,286], words=[26,46])),\n",
       " Background(Span(\"b'Polakow presented ordered linear logic and gave a backward-chaining operational semantics semantics for the uniform fragment of the logic'\", sentence=2969, chars=[18,154], words=[4,24])),\n",
       " Background(Span(\"b'Abstract Mobile networks are both poorly understood and difficult to experiment with.'\", sentence=3739, chars=[0,84], words=[0,12])),\n",
       " Background(Span(\"b'and then selecting a subset on which to focus attention.'\", sentence=3801, chars=[150,205], words=[24,34])),\n",
       " Background(Span(\"b'Our approach is inspired by the long-established practice of photographers using contact sheets to rapidly visualize a new collection of photographs'\", sentence=3801, chars=[0,147], words=[0,22])),\n",
       " Background(Span(\"b'this an important piece in the general technique of verifying properties of logic programs by reasoning about proof terms.\\n'\", sentence=1077, chars=[37,159], words=[7,27])),\n",
       " Background(Span(\"b'and what techniques are applied to prune the search space?; and (3) Parse Selection and Disambiguation: What \\n'\", sentence=1062, chars=[66,175], words=[11,33])),\n",
       " Background(Span(\"b'each of which can lead to an exponential reduction in the solution quality error \\n'\", sentence=1586, chars=[46,127], words=[10,24])),\n",
       " Background(Span(\"b'But how can we ensure that these systems are guaranteed to meet their design goals'\", sentence=1573, chars=[0,81], words=[0,14])),\n",
       " Background(Span(\"b'Abstract: Perturb & Observe (P&O) maximum power point tracking (MPPT) strategies need to sense and effect changes in PV voltage faster to keep up with changing power due to rapidly varying environmental conditions'\", sentence=3615, chars=[0,212], words=[0,37])),\n",
       " Background(Span(\"b'Sturmian theory for differential systems'\", sentence=4362, chars=[247,286], words=[34,38])),\n",
       " Background(Span(\"b'The goal of machine learning is to program computers to use example data or past experience to solve a given problem.'\", sentence=3630, chars=[0,116], words=[0,21])),\n",
       " Background(Span(\"b'Abstract The WWW is increasingly being used for announcements of important events and solicitations such as conference announcements and requests for proposals.'\", sentence=2523, chars=[0,159], words=[0,22])),\n",
       " Background(Span(\"b'We do not justify one proof rule by checking compatibility with another proof rule (internal soundness).'\", sentence=4777, chars=[0,103], words=[0,18])),\n",
       " Background(Span(\"b'Abstract: Tutorial Dialog Systems that employ Conversational Agents (CAs) to deliver instructional content to learners in one-on-one tutoring settings have been shown to be effective in multiple learning domains by multiple research groups.'\", sentence=1063, chars=[0,239], words=[0,40])),\n",
       " Background(Span(\"b'and assumes a common variance for all users.'\", sentence=4623, chars=[117,160], words=[21,29])),\n",
       " Background(Span(\"b'While there have been attempts to train robots using trial-and-error experiments'\", sentence=5412, chars=[0,79], words=[0,14])),\n",
       " Background(Span(\"b'We are grateful to all of the discussants for their thoughtful comments.'\", sentence=4292, chars=[0,71], words=[0,12])),\n",
       " Background(Span(\"b'Due to the diversity of the sensors and other hardware employed'\", sentence=3372, chars=[0,62], words=[0,10])),\n",
       " Background(Span(\"b'Environmental sources are highly variable and difficult to predict'\", sentence=2251, chars=[0,65], words=[0,8])),\n",
       " Background(Span(\"b'which is often complicated further by device mobility.'\", sentence=2251, chars=[68,121], words=[10,18])),\n",
       " Background(Span(\"b'We develop a bipedal robot which corresponds to lower part of the character following its kinematic structure.'\", sentence=3581, chars=[0,109], words=[0,17])),\n",
       " Background(Span(\"b'to allow natural behavior of the subject.'\", sentence=3230, chars=[217,257], words=[43,50])),\n",
       " Background(Span(\"b'EPRS filters are constrained to output an order statistic based on N observation samples and K statistics that are functions of the observation samples.'\", sentence=1560, chars=[0,151], words=[0,24])),\n",
       " Background(Span(\"b'Abstract We introduce a unifying framework for discriminative and generative estimation.'\", sentence=2660, chars=[0,87], words=[0,11])),\n",
       " Background(Span(\"b'including systems that analyze past sales data to predict customer behavior'\", sentence=3631, chars=[64,138], words=[9,19])),\n",
       " Background(Span(\"b'This thesis shows that structure prediction is well-suited for detecting and parsing people in images (and videos) due to the advantage of learning local part appearance models jointly with relationships between body parts.'\", sentence=3433, chars=[0,222], words=[0,37])),\n",
       " Background(Span(\"b'We further show that using problem attempt data from systems used to teach propositional logic we could successfully use the created Bayesian Knowledge Base to solve other problems.'\", sentence=1490, chars=[0,180], words=[0,28])),\n",
       " Background(Span(\"b'for many trees'\", sentence=3847, chars=[35,48], words=[7,9])),\n",
       " Background(Span(\"b'an authoring and runtime environment for flash teams.'\", sentence=1792, chars=[20,72], words=[4,12])),\n",
       " Background(Span(\"b\"today's core design has key limitations---it induces inefficient provisioning tradeoffs and is poorly equipped to handle overload\"\", sentence=4871, chars=[9,137], words=[3,22])),\n",
       " Background(Span(\"b'TPS3 is being designed as a general system for proving theorems of \\n'\", sentence=1921, chars=[0,67], words=[0,12])),\n",
       " Background(Span(\"b'The underlying type theory uses monadic types to segregate values from computations.'\", sentence=4728, chars=[0,83], words=[0,12])),\n",
       " Background(Span(\"b'and provide professional development for teachers and students in the Middle East.'\", sentence=5426, chars=[121,202], words=[24,36])),\n",
       " Background(Span(\"b'Alice in the Middle East (Alice ME) is a project designed to adapt the Alice software'\", sentence=5426, chars=[0,84], words=[0,17])),\n",
       " Background(Span(\"b'but also allow these element to be retrieved in O (1) time?'\", sentence=2741, chars=[107,165], words=[20,34])),\n",
       " Background(Span(\"b'increasingly more robots will enter human environments to assist with daily tasks.'\", sentence=2473, chars=[76,157], words=[13,25])),\n",
       " Background(Span(\"b'The goal was to determine whether a\\\\ simple\\\\\" language could meet substantially all of the Ironman requirement for a common high-order programming language.'\", sentence=4275, chars=[0,155], words=[0,26])),\n",
       " Background(Span(\"b'Abstract: We present a foundational language for spatially distributed programming'\", sentence=5039, chars=[0,81], words=[0,10])),\n",
       " Background(Span(\"b'Our vision is to enable consumers to \\n'\", sentence=5268, chars=[0,37], words=[0,7])),\n",
       " Background(Span(\"b'The basic system was shown to guarantee strong properties such as session fidelity and deadlock freedom.'\", sentence=2604, chars=[0,103], words=[0,16])),\n",
       " Background(Span(\"b'to our knowledge'\", sentence=3994, chars=[12,27], words=[3,5])),\n",
       " Background(Span(\"b'Abstract Model-based reinforcement learning (MBRL) plays an important role in developing control strategies for robotic systems.'\", sentence=1807, chars=[0,127], words=[0,20])),\n",
       " Background(Span(\"b'We compare our method to two other approaches and demonstrate why it is more effective at \\n'\", sentence=1557, chars=[0,90], words=[0,16])),\n",
       " Background(Span(\"b'Welcome to Tps'\", sentence=3199, chars=[0,13], words=[0,2])),\n",
       " Background(Span(\"b'a theorem-proving environment developed at Carnegie Mellon University for both research and education.'\", sentence=3199, chars=[16,117], words=[4,19])),\n",
       " Background(Span(\"b'They represent the same location (and will thus always be guaranteed to hold the same value) if and'\", sentence=4841, chars=[0,98], words=[0,19])),\n",
       " Background(Span(\"b'Our method uses clustering to separate the data into physical exertion levels and later performs stress classification over \\n'\", sentence=3358, chars=[0,124], words=[0,18])),\n",
       " Background(Span(\"b'we appeal to the powerful propositions-as-types interpretation of logic.'\", sentence=5040, chars=[34,105], words=[7,20])),\n",
       " Background(Span(\"b'In order to construct our system'\", sentence=5040, chars=[0,31], words=[0,5])),\n",
       " Background(Span(\"b'Abstract Cluster-based and iSCSI-based storage systems rely on standard TCP/IP-over-Ethernet for client access to data.'\", sentence=5137, chars=[0,118], words=[0,25])),\n",
       " Background(Span(\"b'My work is explores applications that can continue to behave correctly even when the underlying storage does not meet this condition.'\", sentence=2088, chars=[0,132], words=[0,21])),\n",
       " Background(Span(\"b'This approach permits procedures such as unification to retain the efficient head access that characterizes first-order term languages without the overhead of performing \\xce\\xb7-conversions \\n'\", sentence=1876, chars=[0,184], words=[0,26])),\n",
       " Background(Span(\"b'We allow cars to enter and exit the road.'\", sentence=1745, chars=[0,40], words=[0,9])),\n",
       " Background(Span(\"b'and YANCEES) and details of our evaluation framework for these tools.'\", sentence=3891, chars=[185,253], words=[37,49])),\n",
       " Background(Span(\"b'for \\n'\", sentence=5396, chars=[125,129], words=[18,19])),\n",
       " Background(Span(\"b'so that they are more meaningful to both humans and machines'\", sentence=5443, chars=[57,116], words=[10,20])),\n",
       " Background(Span(\"b'In order to strengthen the description of web resources'\", sentence=5443, chars=[0,54], words=[0,8])),\n",
       " Background(Span(\"b'on both sides of the Atlantic have struggled to manage their time and travel budgets in the face of a proliferation of increasingly specialized conferences and workshops.'\", sentence=2154, chars=[0,169], words=[0,27])),\n",
       " Background(Span(\"b'By tracing back and connecting sparse representation with the K-means algorithm'\", sentence=5181, chars=[0,78], words=[0,12])),\n",
       " Background(Span(\"b'the problem of efficiently managing the linear context when solving a goal is of crucial importance for the use of these systems in non-trivial applications.'\", sentence=1159, chars=[13,169], words=[3,30])),\n",
       " Background(Span(\"b'At the core of this approach is a mechanism for selective real-time monitoring of guest file updates within VM instances.'\", sentence=4517, chars=[0,120], words=[0,22])),\n",
       " Background(Span(\"b'The integration solution is tested using virtual robots that are able to move around a 3D virtual environment and interact with various objects.'\", sentence=2050, chars=[0,143], words=[0,23])),\n",
       " Background(Span(\"b\"The robot has kinematics similar to a gecko's climbing gait.\"\", sentence=4405, chars=[0,59], words=[0,11])),\n",
       " Background(Span(\"b'have achieved remarkable success by exploiting the spatial redundancy of neighboring pixels through convolutional processing.'\", sentence=3968, chars=[73,197], words=[14,29])),\n",
       " Background(Span(\"b'a single sensing modality is sufficiently rich to accomplish the desired motion control goals; for practical autonomous outdoor navigation'\", sentence=2312, chars=[27,164], words=[5,24])),\n",
       " Background(Span(\"b'For many navigation tasks'\", sentence=2312, chars=[0,24], words=[0,3])),\n",
       " Background(Span(\"b'These are the correct criteria by which to judge.'\", sentence=3418, chars=[0,48], words=[0,9])),\n",
       " Background(Span(\"b'Abstract We present experimental results from Wi-Fi and 4G LTE networks to validate the intuition that low end-to-end latency of cloud services improves application response time and reduces energy consumption on mobile devices.'\", sentence=2139, chars=[0,227], words=[0,40])),\n",
       " Background(Span(\"b'3/22 observed by local sensor range Page 4.'\", sentence=1246, chars=[0,42], words=[0,8])),\n",
       " Background(Span(\"b'Using a neural network paradigm particularly well suited to sensor fusion the authors have successfully performed simulated and real-world navigation tasks that required the use of multiple sensing modalities.\\n'\", sentence=2313, chars=[0,209], words=[0,32])),\n",
       " Background(Span(\"b'Multitask/transfer learning problems are usually solved by imposing some kind of \\xe2\\x80\\x9csmooth\\xe2\\x80\\x9d relationship among/between tasks.'\", sentence=5300, chars=[0,122], words=[0,21])),\n",
       " Background(Span(\"b'In contrast to existing approaches that rely only on computer vision'\", sentence=3074, chars=[0,67], words=[0,10])),\n",
       " Background(Span(\"b'we propose an alternative method for improving perception by learning from human teammates.'\", sentence=3074, chars=[70,160], words=[12,25])),\n",
       " Background(Span(\"b'We extend the work of constrained probabilistic matrix factorization by deriving the Gibbs updates for the side feature vectors for items (Salakhutdinov and Minh'\", sentence=4624, chars=[0,160], words=[0,24])),\n",
       " Background(Span(\"b'We prove that in zero-sum games it asymptotically prunes any action that is not part of a best response to some Nash equilibrium.'\", sentence=1650, chars=[0,128], words=[0,25])),\n",
       " Background(Span(\"b'A method and system for managing media advertising campaigns accesses a set of programming data that contains various attributes of media assets that a media service provider will present to consumers.'\", sentence=3538, chars=[0,200], words=[0,31])),\n",
       " Background(Span(\"b'is critical for safety.'\", sentence=3833, chars=[99,121], words=[17,21])),\n",
       " Background(Span(\"b'Regular inspection of these pipes for corrosion'\", sentence=3833, chars=[0,46], words=[0,6])),\n",
       " Background(Span(\"b'caused by impurities in the gas processing chain'\", sentence=3833, chars=[49,96], words=[8,15])),\n",
       " Background(Span(\"b'2004 Technical Reports by Author Computer Science Department School of Computer'\", sentence=1297, chars=[0,78], words=[0,10])),\n",
       " Background(Span(\"b'This separation leads to a tractable notion of definitional equality that identifies computations differing only in the order of execution of independent steps.'\", sentence=4729, chars=[0,159], words=[0,23])),\n",
       " Background(Span(\"b'it is difficult to model systems dynamics with analytic models.'\", sentence=1808, chars=[46,108], words=[8,18])),\n",
       " Background(Span(\"b'Synopsis We introduce a fixed-point algorithm for verifying safety properties of hybrid systems with differential equations whose right-hand sides are polynomials in the state variables.'\", sentence=4746, chars=[0,185], words=[0,29])),\n",
       " Background(Span(\"b'For those who may be considering a collaborative project that would be conducted across international borders'\", sentence=5427, chars=[0,108], words=[0,15])),\n",
       " Background(Span(\"b'Standard statistical approaches such as probability density estimation are often ill-suited to this task.'\", sentence=5197, chars=[0,104], words=[0,16])),\n",
       " Background(Span(\"b'Recent research efforts have created tools that automatically localize the problem to a small number of potential culprits'\", sentence=4670, chars=[0,121], words=[0,17])),\n",
       " Background(Span(\"b'but research is needed to understand what visualization techniques work best for helping distributed systems developers understand \\n'\", sentence=4670, chars=[124,255], words=[19,36])),\n",
       " Background(Span(\"b'Abstract An important vision problem is to automatically describe what people are doing a sequence of video.'\", sentence=3447, chars=[0,107], words=[0,17])),\n",
       " Background(Span(\"b'To control complexity we build systems in layers.'\", sentence=2872, chars=[0,48], words=[0,8])),\n",
       " Background(Span(\"b'Administrators today do not have requisite tools to understand the impact of such \\xe2\\x80\\x9cflash crowds\\xe2\\x80\\x9d on their servers.'\", sentence=4898, chars=[0,113], words=[0,20])),\n",
       " Background(Span(\"b'use Kalman filters to estimate a time invariant SE (3) element by locally linearizing a non-linear measurement model.'\", sentence=3797, chars=[0,116], words=[0,22])),\n",
       " Background(Span(\"b'Ad auctions are generating massive amounts of revenue for online search engines such as Google.'\", sentence=5086, chars=[0,94], words=[0,15])),\n",
       " Background(Span(\"b'the use of Intelligent Tutoring Systems has not become ubiquitous in the classroom because these adaptive systems are extremely difficult to create.'\", sentence=1428, chars=[41,188], words=[6,28])),\n",
       " Background(Span(\"b'Key to this is a broad \\n'\", sentence=5459, chars=[0,23], words=[0,6])),\n",
       " Background(Span(\"b\"The Legacy of Moore's Law By FT Ulaby 1253\"\", sentence=3016, chars=[0,41], words=[0,9])),\n",
       " Background(Span(\"b'the cognitive conflict of ideas between students is seen as beneficial for learning.'\", sentence=5150, chars=[25,108], words=[4,17])),\n",
       " Background(Span(\"b'but exacerbates the empirical hardness of the NP-complete problem of optimally matching patients to donors.'\", sentence=1126, chars=[41,147], words=[8,25])),\n",
       " Background(Span(\"b'computational social choice is concerned with importing concepts and procedures from social choice theory for solving questions that arise in computer science and AI application domains.'\", sentence=3311, chars=[17,202], words=[5,31])),\n",
       " Background(Span(\"b'Due to high quality lidar data'\", sentence=3215, chars=[0,29], words=[0,5])),\n",
       " Background(Span(\"b'virtualized reality has the capacity to dramatically improve teleoperation performance\\xe2\\x80\\x93even in high speed situations that were formerly impossible.'\", sentence=3215, chars=[85,231], words=[15,35])),\n",
       " Background(Span(\"b'We evaluate the questions generated by this system against a panel of experienced judges'\", sentence=4321, chars=[0,87], words=[0,13])),\n",
       " Background(Span(\"b'For the trivial Kripke structure with empty accessibility relation and only one world s'\", sentence=4790, chars=[0,86], words=[0,13])),\n",
       " Background(Span(\"b'leading to inefficiencies.'\", sentence=3645, chars=[201,226], words=[31,34])),\n",
       " Background(Span(\"b'While algorithms for computing an optimal strategy for the defender to commit to have had a striking real-world impact'\", sentence=3645, chars=[0,117], words=[0,20])),\n",
       " Background(Span(\"b'For the continuous dynamics'\", sentence=1746, chars=[0,26], words=[0,3])),\n",
       " Background(Span(\"b'we show how differential invariants and symbolic solutions can be used together harmoniously to prove things that neither could prove alone.'\", sentence=1746, chars=[29,168], words=[5,26])),\n",
       " Background(Span(\"b'Should we make better connections to computer algebra?'\", sentence=4261, chars=[0,53], words=[0,8])),\n",
       " Background(Span(\"b'It uses peeling and steering mechanisms and an active tail for robust and agile climbing as a novelty.'\", sentence=4406, chars=[0,101], words=[0,18])),\n",
       " Background(Span(\"b'This problem is difficult for many reasons.'\", sentence=3448, chars=[0,42], words=[0,7])),\n",
       " Background(Span(\"b'a framework for learning user preferences by modeling the choice process \\n'\", sentence=2234, chars=[69,142], words=[13,24])),\n",
       " Background(Span(\"b'Abstract To observe the therapeutic efficacy and safety of Haoqin Qingdan Decoction (HQD) in treating active stage of systemic lupus erythematosus (SLE).'\", sentence=2199, chars=[0,152], words=[0,26])),\n",
       " Background(Span(\"b'an automatic and interactive formal verification tool for hybrid systems implementing differential dynamic logic.'\", sentence=1024, chars=[109,221], words=[20,34])),\n",
       " Background(Span(\"b'This paper is a tutorial on how to model and prove complex properties of complex hybrid systems in KeYmaera'\", sentence=1024, chars=[0,106], words=[0,18])),\n",
       " Background(Span(\"b'but exacerbates the empirical hardness of the NP-complete problem of optimally matching patients to donors.'\", sentence=3496, chars=[41,147], words=[8,25])),\n",
       " Background(Span(\"b'The objective of the skill score is to quantify the improvement in model predictions after either assimilation of a new data source'\", sentence=2777, chars=[0,130], words=[0,21])),\n",
       " Background(Span(\"b'explicit congestion control algorithms have shown to be more efficient.'\", sentence=4055, chars=[19,89], words=[5,15])),\n",
       " Background(Span(\"b'for object detection are disclosed.'\", sentence=3465, chars=[99,133], words=[17,22])),\n",
       " Background(Span(\"b'the level of expressiveness provided to participants in ad auctions could be significantly enhanced.'\", sentence=5087, chars=[5,104], words=[2,16])),\n",
       " Background(Span(\"b'and a micromanipulation tool that includes a tool shaft and is operatively connected to the handpiece.'\", sentence=5254, chars=[82,183], words=[11,27])),\n",
       " Background(Span(\"b'Instantaneous braking and acceleration \\xe2\\x80\\xa2 Time synchronization \\xe2\\x80\\xa2\\\\nDelay for sensor updates is bounded \\xe2\\x80\\xa2'\", sentence=1226, chars=[0,101], words=[0,13])),\n",
       " Background(Span(\"b\"which guarantee that the ratings given by a PI to others' proposals do not affect the likelihood of the PI's own proposal \\n\"\", sentence=3660, chars=[43,165], words=[7,31])),\n",
       " Background(Span(\"b'We use Amazon Mechanical Turk (MTurk) to annotate \\n'\", sentence=4335, chars=[0,50], words=[0,10])),\n",
       " Background(Span(\"b'Itroduction: We have developed a miniature crawling robot (HeartLander) that navigates on the surface of a heart to dedicate minimally invasive intrapericardial interventions.'\", sentence=5380, chars=[0,174], words=[0,26])),\n",
       " Background(Span(\"b'Abstract The present research is dedicated to the aeroelastic analysis of functionally graded carbon nanotube reinforced composite (FG-CNTRC) beams subjected to aerodynamic load and axial compression'\", sentence=4469, chars=[0,198], words=[0,29])),\n",
       " Background(Span(\"b'Links to full papers are provided \\n'\", sentence=3327, chars=[0,34], words=[0,6])),\n",
       " Background(Span(\"b'SCANNING\\\\nTHE ISSUE Special Issue on Multirobot Systems By MM Veloso and D. Nardi 1464'\", sentence=3017, chars=[0,85], words=[0,13])),\n",
       " Background(Span(\"b'Linearization-based filters tend to suffer from inaccurate estimates'\", sentence=3798, chars=[0,67], words=[0,9])),\n",
       " Background(Span(\"b'Such annotation allows a parallel replayer to closely mimic the behavior of a traced application across a variety of storage systems.'\", sentence=4703, chars=[0,132], words=[0,21])),\n",
       " Background(Span(\"b'both were treated for 3 months.'\", sentence=2200, chars=[200,230], words=[34,40])),\n",
       " Background(Span(\"b'For most of the problems considered a lower bound of O (N log N) is shown.'\", sentence=1097, chars=[0,73], words=[0,18])),\n",
       " Background(Span(\"b'In the first experiment operators controlled 2 robot teams to perform a box pushing \\n'\", sentence=4012, chars=[0,84], words=[0,14])),\n",
       " Background(Span(\"b'The nonlinear dynamic equations of FG-CNTRC beams are obtained according to the von Karman type of geometrical nonlinearity along with the first-order shear deformation theory.'\", sentence=4470, chars=[0,175], words=[0,29])),\n",
       " Background(Span(\"b'The metrics chosen to be evaluated by the skill score include electron density in the E-regin'\", sentence=2778, chars=[0,92], words=[0,17])),\n",
       " Background(Span(\"b'How: We introduce hybrid algorithms that use a combination of techniques to ameliorate overfitting.'\", sentence=1941, chars=[0,98], words=[0,15])),\n",
       " Background(Span(\"b'emulsion polymerization and dispersion polymerization are the common ways to prepare this nanocomposite \\n'\", sentence=5476, chars=[19,123], words=[6,19])),\n",
       " Background(Span(\"b'Computing Specifications \\xcb\\x99From Implementation to Specification by Construction.'\", sentence=3047, chars=[0,78], words=[0,8])),\n",
       " Background(Span(\"b\"But here's the rub: if a job candidate came to you and said he or she had watched an assortment of TED lectures and passed some automated tests\"\", sentence=4349, chars=[0,142], words=[0,29])),\n",
       " Background(Span(\"b'Should we make strong efforts to construct large-scale knowledge \\n'\", sentence=4262, chars=[0,65], words=[0,11])),\n",
       " Background(Span(\"b'Pla12] prove properties of differential equations by induction based on the right-hand side of the differential equation'\", sentence=4686, chars=[37,156], words=[5,24])),\n",
       " Background(Span(\"b'SimStudent attempts to solve algebra equations'\", sentence=4308, chars=[20,65], words=[4,9])),\n",
       " Background(Span(\"b'the first comprehensive effort to develop a formal language suitable as a foundation for mathematics.'\", sentence=1716, chars=[105,205], words=[20,35])),\n",
       " Background(Span(\"b'The roots of the field go back to the end of the last century when Frege developed his Begriffsschrift1'\", sentence=1716, chars=[0,102], words=[0,18])),\n",
       " Background(Span(\"b'Abstract: Network functions virtualization (NFV) is an appealing vision that promises to dramatically reduce capital and operating expenses for cellular providers.'\", sentence=4151, chars=[0,162], words=[0,24])),\n",
       " Background(Span(\"b'this problem reduces to computing a median of three genomes under the operations (evolutionary changes) of interest.'\", sentence=2370, chars=[41,156], words=[7,26])),\n",
       " Background(Span(\"b'Compared to the popular SVD-based multiplicative preconditioners'\", sentence=2794, chars=[0,63], words=[0,8])),\n",
       " Background(Span(\"b'these preconditioners are generated more readily and for a much wider class of input matrices.'\", sentence=2794, chars=[66,159], words=[10,25])),\n",
       " Background(Span(\"b'Abstract This paper describes the construction of a lighter-than-air robotic blimp for use in an urban search and rescue environment.'\", sentence=4217, chars=[0,132], words=[0,24])),\n",
       " Background(Span(\"b'For more information'\", sentence=3085, chars=[0,19], words=[0,2])),\n",
       " Background(Span(\"b'intensive software development events--are used by some scientific communities to create new software features and promote community building.'\", sentence=2534, chars=[49,190], words=[9,29])),\n",
       " Background(Span(\"b'Abstract This introductory chapter serves as a convenient source of reference for certain basic aspects of complete lattices needed in the sequel.'\", sentence=4233, chars=[0,145], words=[0,22])),\n",
       " Background(Span(\"b'capable of converting chemical energy into mechanical actuation for microsystems that require a low payload and high rate of actuation.'\", sentence=4858, chars=[123,257], words=[19,39])),\n",
       " Background(Span(\"b'Flagellated bacteria have been embraced by the micro-robotics community as a highly efficient microscale actuation method'\", sentence=4858, chars=[0,120], words=[0,17])),\n",
       " Background(Span(\"b'obstacle avoidance remains a challenging task for Micro Aerial Vehicles (MAVs) which operate at low altitude in cluttered environments.'\", sentence=2392, chars=[13,147], words=[3,24])),\n",
       " Background(Span(\"b'array access must be guarded with array-bounds checks in order to make sure that the implementation complies with the type-safety requirements.'\", sentence=3102, chars=[45,187], words=[9,34])),\n",
       " Background(Span(\"b'For type-safe programming languages like C0'\", sentence=3102, chars=[0,42], words=[0,7])),\n",
       " Background(Span(\"b\"decreased system reliability due to the serially chained nature of the robot's design\"\", sentence=2954, chars=[86,170], words=[15,28])),\n",
       " Background(Span(\"b'These challenges include the need to coordinate a large number of degrees of freedom'\", sentence=2954, chars=[0,83], words=[0,13])),\n",
       " Background(Span(\"b'to ensure high availability in the face of flash crowds.'\", sentence=4899, chars=[123,178], words=[21,31])),\n",
       " Background(Span(\"b'which are used for determining whether two sets of observations arise from the same distribution'\", sentence=3738, chars=[65,160], words=[13,27])),\n",
       " Background(Span(\"b'and a force sensing system comprising a force sensor attached to the tool shaft.'\", sentence=5255, chars=[156,235], words=[21,35])),\n",
       " Background(Span(\"b'The micromanipulator further includes an actuator assembly connected to the micromanipulation tool to provide manual control of the micromanipulation tool'\", sentence=5255, chars=[0,153], words=[0,19])),\n",
       " Background(Span(\"b'One approach to speeding the initial acquisition of situational awareness is to maintain a buffer of data'\", sentence=4451, chars=[0,104], words=[0,16])),\n",
       " Background(Span(\"b'and play it back for the human when their help is needed.'\", sentence=4451, chars=[107,163], words=[18,30])),\n",
       " Background(Span(\"b'State-of-the-art matching engines use integer programming techniques to clear fielded kidney exchanges'\", sentence=1127, chars=[0,101], words=[0,17])),\n",
       " Background(Span(\"b'but these methods must be tailored to specific models \\n'\", sentence=1127, chars=[104,158], words=[19,28])),\n",
       " Background(Span(\"b'Abstract: This paper addresses a bottleneck problem in mobile file systems: the propagation of updated large tiles from a weakly-connected client to its servers.'\", sentence=4534, chars=[0,160], words=[0,28])),\n",
       " Background(Span(\"b\"This fact carries our-core-based stability results directly over to two other strategic solution concepts: Nash equilibrium and Coalition-Proof Nash equilibrium.'This material is based upon work supported by the National Science \\n\"\", sentence=1410, chars=[0,229], words=[0,37])),\n",
       " Background(Span(\"b'we extend the basic type system with intersection and union types in order to express multiple behavioral properties of processes in a single type.'\", sentence=2605, chars=[16,162], words=[4,28])),\n",
       " Background(Span(\"b'since it is infeasible to know what each other agent is doing.'\", sentence=2409, chars=[153,214], words=[28,40])),\n",
       " Background(Span(\"b'by observing \\n'\", sentence=2693, chars=[155,168], words=[27,29])),\n",
       " Background(Span(\"b'We develop a new approach to learning the parameters of the behavioral model of a bounded rational attacker (thereby pinpointing a near optimal strategy)'\", sentence=2693, chars=[0,152], words=[0,25])),\n",
       " Background(Span(\"b'packets are routed between source and destination using a chain of intermediate nodes; chains are a fundamental communication structure in MHWNs whose behavior must be understood to enable building effective protocols.'\", sentence=3116, chars=[50,267], words=[12,44])),\n",
       " Background(Span(\"b'Abstract: Aerial robots such as quadrotors are subject to range'\", sentence=3511, chars=[0,62], words=[0,10])),\n",
       " Background(Span(\"b'which have to be strictly enforced for safe operation.'\", sentence=3511, chars=[114,167], words=[20,29])),\n",
       " Background(Span(\"b'For example'\", sentence=4975, chars=[0,10], words=[0,1])),\n",
       " Background(Span(\"b'Lecture 10 on Differential Equations & Differential Invariants and Lecture 11 on Differential Equations & Proofs equipped us with powerful tools for proving properties of differential equations without having to solve them.'\", sentence=3033, chars=[0,222], words=[0,32])),\n",
       " Background(Span(\"b'Abstract We propose two statistical tests to determine if two samples are from different distributions.'\", sentence=3817, chars=[0,102], words=[0,15])),\n",
       " Background(Span(\"b'To address these limitations'\", sentence=4872, chars=[0,27], words=[0,3])),\n",
       " Background(Span(\"b'to reflect mobility and locality'\", sentence=5041, chars=[151,182], words=[32,36])),\n",
       " Background(Span(\"b'we take the possible worlds of the intuitionistic modal logic IS5 to be nodes on a network'\", sentence=5041, chars=[14,103], words=[2,18])),\n",
       " Background(Span(\"b'These dependencies create a need for communication and coordination that requires continuous effort by developers.'\", sentence=2553, chars=[0,113], words=[0,15])),\n",
       " Background(Span(\"b'The experienced reader may wish to skip directly to Chapter I and the beginning of the discussion of the main topic of this book: continuous lattices'\", sentence=4234, chars=[0,148], words=[0,26])),\n",
       " Background(Span(\"b'The links are 3D printed and the joints are actuated by servo motors.'\", sentence=3582, chars=[0,68], words=[0,13])),\n",
       " Background(Span(\"b'you query your PDA specifying your destination and criteria for desirable parking spaces (eg'\", sentence=1923, chars=[34,125], words=[7,21])),\n",
       " Background(Span(\"b'which calls for negotiation and voting procedures.'\", sentence=3312, chars=[72,121], words=[12,19])),\n",
       " Background(Span(\"b'This is typically the case for managing societies of autonomous agents'\", sentence=3312, chars=[0,69], words=[0,10])),\n",
       " Background(Span(\"b\"research attention in the software engineering community has shifted from process management and workflow tools that aim to plan for all coordination activity and eventualities before development begins to a new generation of more flexible tools that saturate the developer's workspace with information at varying degrees of granularity and in different visual\"\", sentence=4992, chars=[17,376], words=[4,56])),\n",
       " Background(Span(\"b'Abstract A-Match is a matchmaking system that allows agents to enter and exit the system dynamically.'\", sentence=1824, chars=[0,100], words=[0,18])),\n",
       " Background(Span(\"b'It presents further a generic scheme to identify such a space'\", sentence=1456, chars=[0,60], words=[0,10])),\n",
       " Background(Span(\"b'and specialises the same for the case of a convex SWZ around a chosen point of interest.'\", sentence=1456, chars=[63,150], words=[12,29])),\n",
       " Background(Span(\"b'These issues include the appropriate method of summarizing data subject to measurement error'\", sentence=3001, chars=[0,91], words=[0,12])),\n",
       " Background(Span(\"b'and locally linear embeddings (LLE) to unseen data.'\", sentence=2295, chars=[98,148], words=[15,25])),\n",
       " Background(Span(\"b'We present a framework for efficient extrapolation of reduced rank approximations'\", sentence=2295, chars=[0,80], words=[0,10])),\n",
       " Background(Span(\"b'the influence of dc Joule annealing on giant magnetoimpedance (GMI) effect for composite wires by electroless depositing 12 mum thickness CoNiP layer on CuBe wires with 150 mum in diameter is presented.'\", sentence=4503, chars=[25,226], words=[6,40])),\n",
       " Background(Span(\"b'Many statistical methods gain robustness and flexibility by sacrificing convenient computational structures.'\", sentence=5101, chars=[0,107], words=[0,12])),\n",
       " Background(Span(\"b'the effectiveness of such P&O methods is limited in a grid-connected PV station scenario by the switching frequency of power electronic components.'\", sentence=3616, chars=[9,155], words=[2,26])),\n",
       " Background(Span(\"b\"a number of wireless voice and/or data carrier rate plans is selected and each subscriber's historical wireless time usage for each of a number of foregone time intervals is determined.\"\", sentence=3880, chars=[76,260], words=[14,45])),\n",
       " Background(Span(\"b'In an allocation of subscribers to one or more wireless carrier rate plans'\", sentence=3880, chars=[0,73], words=[0,12])),\n",
       " Background(Span(\"b'manipulated by an atomic force microscope nanoprobe'\", sentence=4391, chars=[55,105], words=[10,16])),\n",
       " Background(Span(\"b'ANGES can reconstruct ancestral genome maps for multichromosomal linear genomes and unichromosomal circular genomes.'\", sentence=1684, chars=[0,115], words=[0,14])),\n",
       " Background(Span(\"b'2002 Technical Reports by Author Computer Science Department School of Computer'\", sentence=2874, chars=[0,78], words=[0,10])),\n",
       " Background(Span(\"b'Dm (\\xc2\\xa3) is closed under ten operations analogous to pairing'\", sentence=4181, chars=[0,57], words=[0,11])),\n",
       " Background(Span(\"b'To our knowledge'\", sentence=1842, chars=[0,15], words=[0,2])),\n",
       " Background(Span(\"b'This article presents an initiative to evaluate activity recognition systems: a living-lab evaluation established through the annual Evaluating Ambient Assisted Living Systems through Competitive Benchmarking-Activity Recognition (EvAAL-AR) competition\\n'\", sentence=3373, chars=[0,252], words=[0,37])),\n",
       " Background(Span(\"b'We show that WGRs provide a common framework for describing goal regions that are useful for grasping and manipulation.'\", sentence=3386, chars=[0,118], words=[0,19])),\n",
       " Background(Span(\"b'is up to the\\\\nchallenge.'\", sentence=2217, chars=[98,121], words=[19,23])),\n",
       " Background(Span(\"b'The behavior of chains is determined by a number of complex and interdependent processes that arise as the sources of different chain hops compete to transmit their packets on the shared medium.'\", sentence=3117, chars=[0,193], words=[0,32])),\n",
       " Background(Span(\"b'D\\xc2\\xac A\\xe2\\x88\\x88 S for any formula A.'\", sentence=4792, chars=[15,40], words=[3,9])),\n",
       " Background(Span(\"b'You get back directions to an available parking space satisfying your criteria.'\", sentence=1924, chars=[0,78], words=[0,12])),\n",
       " Background(Span(\"b'A market-based approach to multirobot coordination.'\", sentence=2342, chars=[0,50], words=[0,8])),\n",
       " Background(Span(\"b'a central idea has been that proofs ought to represent constructions.'\", sentence=2938, chars=[79,147], words=[13,24])),\n",
       " Background(Span(\"b'This leads to provably \\n'\", sentence=1651, chars=[0,23], words=[0,4])),\n",
       " Background(Span(\"b'Abstract The visual medium evolved from early paintings to the realistic paintings of the classical era to photographs.'\", sentence=4976, chars=[0,118], words=[0,18])),\n",
       " Background(Span(\"b'Abstract//TRACE 1 is a new approach for extracting and replaying traces of parallel applications to recreate their I/O behavior.'\", sentence=4699, chars=[0,127], words=[0,21])),\n",
       " Background(Span(\"b'the resulting system turns out to be strong enough \\n'\", sentence=2606, chars=[74,125], words=[13,22])),\n",
       " Background(Span(\"b'We also present a principled method to combine many of these kernels and then extrapolate them.'\", sentence=2296, chars=[0,94], words=[0,16])),\n",
       " Background(Span(\"b'We give a sound and complete algorithm for matching traces with one variable standing for an unknown subtrace.\\n'\", sentence=2708, chars=[0,110], words=[0,19])),\n",
       " Background(Span(\"b\"Wilson showed that a voting process under Arrow's conditions can be interpreted as a strong and proper simple game\\xe2\\x80\\x94as defined by von Neumann and Morgenstern.\"\", sentence=3405, chars=[0,156], words=[0,28])),\n",
       " Background(Span(\"b'is disclosed including multi-level processing for planning the operation.'\", sentence=4439, chars=[211,283], words=[38,49])),\n",
       " Background(Span(\"b'a planning apparatus and method for earthmoving operations with a front-end loader'\", sentence=4439, chars=[44,125], words=[8,21])),\n",
       " Background(Span(\"b'Introduction to Machine Learning is a comprehensive textbook on the subject'\", sentence=3632, chars=[0,74], words=[0,10])),\n",
       " Background(Span(\"b'we illustrate this fundamental tradeoff by studying a semiparametric graph estimation problem in high dimensions.'\", sentence=5102, chars=[17,129], words=[4,19])),\n",
       " Background(Span(\"b'The force sensing system is configured to provide an output signal that indicates a force imposed on the tool \\n'\", sentence=5256, chars=[0,110], words=[0,19])),\n",
       " Background(Span(\"b'A baseline approach would be to first perform pose estimation and then detect the touch codes based on the estimated joint locations.'\", sentence=5023, chars=[0,132], words=[0,22])),\n",
       " Background(Span(\"b'An assistant refers to a (human or software) agent that helps a user accomplish her goals'\", sentence=5008, chars=[0,88], words=[0,17])),\n",
       " Background(Span(\"b'and providing a basis for general Bayesian inference computations though belief propagation (BP).'\", sentence=4929, chars=[166,262], words=[27,42])),\n",
       " Background(Span(\"b'allowing for an intuitive graphical specification of the main features of a model'\", sentence=4929, chars=[83,163], words=[13,25])),\n",
       " Background(Span(\"b'have sought to combine the use of these technologies to support computational studies into embodied'\", sentence=2068, chars=[22,120], words=[5,19])),\n",
       " Background(Span(\"b'For \\xcf\\x84= 0.5 this is an estimate of the median.'\", sentence=2280, chars=[0,44], words=[0,10])),\n",
       " Background(Span(\"b'I suggest that the computational model of mind may be able to shed light on certain outstanding problems of philosophical ethics.'\", sentence=2021, chars=[0,128], words=[0,21])),\n",
       " Background(Span(\"b'It is based on the fact that a large number of existing algorithms can be written as estimators of (conditional) densities by means of an exponential family.'\", sentence=2661, chars=[0,156], words=[0,29])),\n",
       " Background(Span(\"b'that are uncommon in the training data and can cause current person detectors to fail.'\", sentence=3434, chars=[101,186], words=[21,36])),\n",
       " Background(Span(\"b'for example'\", sentence=3434, chars=[59,69], words=[12,13])),\n",
       " Background(Span(\"b'Making simulations realistic is a challenge for wireless systems and is especially difficult for vehicular networks.'\", sentence=1191, chars=[0,115], words=[0,16])),\n",
       " Background(Span(\"b'probe-based techniques often perform poorly because they inefficiently search for the moving target presented by the constantly changing channel.'\", sentence=3185, chars=[24,168], words=[4,25])),\n",
       " Background(Span(\"b'we have organized our rejoinder according to main topics that have been brought up by the discussants.\\n'\", sentence=4294, chars=[41,143], words=[9,27])),\n",
       " Background(Span(\"b'Variables in backward chaining in the style of Prolog are placeholders for unknown terms.'\", sentence=2488, chars=[0,88], words=[0,14])),\n",
       " Background(Span(\"b'Abstract This study stems from the premise that we need to break away from the\\\\ reactive\\\\\" cycle of developing defenses against new DDoS attacks (eg'\", sentence=4641, chars=[0,147], words=[0,26])),\n",
       " Background(Span(\"b'amplification) by proactively investigating the potential for new types of DDoS attacks.'\", sentence=4641, chars=[150,237], words=[28,41])),\n",
       " Background(Span(\"b'This allows the tutor to uncover misconceptions as well as to detect missing correct parts of the explanation.'\", sentence=5353, chars=[0,109], words=[0,18])),\n",
       " Background(Span(\"b'Abstract We consider the mechanism design problem for agents with single-peaked preferences over multi-dimensional domains when multiple alternatives can be chosen.'\", sentence=3908, chars=[0,163], words=[0,25])),\n",
       " Background(Span(\"b'which typcially turns some form of intermediate code into a pseudo-assembly language in which we assume to have infinitely many registers called \\xe2\\x80\\x9ctemps\\xe2\\x80\\x9d.'\", sentence=1276, chars=[65,217], words=[11,38])),\n",
       " Background(Span(\"b'The computational model of the mind offers a possible way to explain certain aspects of our moral thinking.'\", sentence=2022, chars=[0,106], words=[0,18])),\n",
       " Background(Span(\"b\"ABSTRACT We present a retrospective and longitudinal study of Internet latency and path stability using three large-scale traceroute datasets collected over several years: Ark and iPlane from 2008 to 2013 and a proprietary CDN's traceroute dataset spanning 2012 and 2013.\"\", sentence=5166, chars=[0,270], words=[0,44])),\n",
       " Background(Span(\"b'this course explored only one way to deal with differential equations: the [] axiom from Lecture 5 on Dynamical Systems & Dynamic Axioms.'\", sentence=4671, chars=[8,144], words=[3,28])),\n",
       " Background(Span(\"b'but these methods must be tailored to specific models \\n'\", sentence=3497, chars=[104,158], words=[19,28])),\n",
       " Background(Span(\"b'State-of-the-art matching engines use integer programming techniques to clear fielded kidney exchanges'\", sentence=3497, chars=[0,101], words=[0,17])),\n",
       " Background(Span(\"b'which occurs when the head of a program clause is compared to the current goal.'\", sentence=2489, chars=[40,118], words=[6,21])),\n",
       " Background(Span(\"b'a client can experience a TCP throughput collapse that results in much lower read bandwidth than should be provided by the available network links.'\", sentence=5138, chars=[75,221], words=[12,36])),\n",
       " Background(Span(\"b\"A media advertising campaign manager receives various buyer criteria for the inclusion of advertisements in a buyer's advertising campaign.\"\", sentence=3539, chars=[0,138], words=[0,20])),\n",
       " Background(Span(\"b\"To Incentivize Centers\\\\nTo Enter Their \\xe2\\x80\\x9cEasy-to-Match\\xe2\\x80\\x9d Pairs.'\"\", sentence=3863, chars=[0,61], words=[0,14])),\n",
       " Background(Span(\"b'Foundry enables non-expert project requesters to use flash \\n'\", sentence=1793, chars=[0,59], words=[0,10])),\n",
       " Background(Span(\"b'for each of a plurality of locations in one or more positive images'\", sentence=3466, chars=[21,87], words=[4,16])),\n",
       " Background(Span(\"b'to better reflect the more ambitious and encompassing type of learning performed by humans.'\", sentence=5212, chars=[66,156], words=[12,26])),\n",
       " Background(Span(\"b'We propose a never-ending learning paradigm for machine learning'\", sentence=5212, chars=[0,63], words=[0,10])),\n",
       " Background(Span(\"b'Abstract: Carrier Sense Multiple Access (CSMA) protocols are unable to effectively arbitrate the medium in wireless networks; problems such as hidden and exposed terminals occur frequently leading to collisions'\", sentence=5413, chars=[0,209], words=[0,32])),\n",
       " Background(Span(\"b'Abstract The ability to locate network bottlenecks along end-to-end paths on the Internet is of great interest to both network operators and researchers.'\", sentence=1356, chars=[0,152], words=[0,27])),\n",
       " Background(Span(\"b\"Kant's approach to the philosophy of mathematics is virtually unique in the history of philosophy in that he assigns the capacity for a priori knowledge in this science to the faculty of sensibility rather than the intellect.\"\", sentence=4336, chars=[0,224], words=[0,38])),\n",
       " Background(Span(\"b'Abstract The Next-Generation Airborne Collision Avoidance System (ACAS X) is intended to be installed on all large aircraft to give advice to pilots and prevent mid-air collisions with other aircraft.'\", sentence=3768, chars=[0,199], words=[0,36])),\n",
       " Background(Span(\"b'to present a specification technique for programming languages we call substructural operational semantics.'\", sentence=2622, chars=[132,238], words=[23,36])),\n",
       " Background(Span(\"b'We propose a planning method for grasping in cluttered environments'\", sentence=3297, chars=[0,66], words=[0,9])),\n",
       " Background(Span(\"b'It is designed to provide 40 MB/s sustained performance and 40 GB capacity in three 19\\\\\" racks.'\", sentence=1892, chars=[0,94], words=[0,20])),\n",
       " Background(Span(\"b'we used a biohybrid system of S. marcescens bacteria attached to polystyrene beads to \\n'\", sentence=4860, chars=[15,101], words=[4,18])),\n",
       " Background(Span(\"b'We next apply register allocation to the result to assign machine registers and stack slots to the temps before emitting the actual assembly code.'\", sentence=1277, chars=[0,145], words=[0,24])),\n",
       " Background(Span(\"b'For all of them the best currently-known upper bound is O (N2) or worse.'\", sentence=1098, chars=[0,71], words=[0,18])),\n",
       " Background(Span(\"b'to \\n'\", sentence=3281, chars=[6,9], words=[1,2])),\n",
       " Background(Span(\"b'Abstract: We put forth the view that trace modulation is an indispensable technique for building and evaluating mobile computing systems.'\", sentence=4549, chars=[0,136], words=[0,21])),\n",
       " Background(Span(\"b'This enables the robot to reach for and grasp the target while simultaneously contacting and moving aside obstacles in order to clear a desired path.'\", sentence=3298, chars=[0,148], words=[0,25])),\n",
       " Background(Span(\"b'The results of the experimental evaluation of OWLS-MX provide strong evidence for the claim that logic-based semantic matching of OWL-S services can be significantly improved by incorporating non-logic-based information retrieval techniques.'\", sentence=4811, chars=[0,240], words=[0,41])),\n",
       " Background(Span(\"b'The observation that haplotypes from a particular region of the genome differ between affected and unaffected individuals or between chromosomes transmitted to affected individuals versus those not transmitted is sound evidence for a disease-liability mutation in the region.'\", sentence=1112, chars=[0,274], words=[0,40])),\n",
       " Background(Span(\"b'; to track features in the irnage sequence and uses multiple template sets to handle head rotation.'\", sentence=3231, chars=[67,165], words=[13,30])),\n",
       " Background(Span(\"b'Abstract In this project we will implement and use space-time behavior based correlation algorithm to recognize the human activity and pose.'\", sentence=3374, chars=[0,139], words=[0,23])),\n",
       " Background(Span(\"b'Diagnosing the causes behind TCP performance issues in the wild is essential for better understanding the current shortcomings in TCP.'\", sentence=2265, chars=[0,133], words=[0,20])),\n",
       " Background(Span(\"b'most of these behaviors have been generated by extensive search on low-level control parameter sets'\", sentence=3569, chars=[9,107], words=[2,18])),\n",
       " Background(Span(\"b'This restriction gives rise to a natural notion of adjacency.'\", sentence=3996, chars=[0,60], words=[0,10])),\n",
       " Background(Span(\"b'This paper presents a general framework for modeling and reproducing environment-specific channel properties.'\", sentence=1192, chars=[0,108], words=[0,15])),\n",
       " Background(Span(\"b'For details on setting Tps up on your system'\", sentence=3201, chars=[0,43], words=[0,8])),\n",
       " Background(Span(\"b'For each combination of subscriber and rate plan a first expression is defined that includes a unique variable and a cost associated with assigning the subscriber to the rate plan for at least one of the time intervals.'\", sentence=3881, chars=[0,218], words=[0,38])),\n",
       " Background(Span(\"b'and models for understanding the synthetic hair design issues.'\", sentence=4422, chars=[134,195], words=[23,32])),\n",
       " Background(Span(\"b'This paper proposes techniques to fabricate synthetic gecko foot-hairs as dry adhesives for future wall-climbing and surgical robots'\", sentence=4422, chars=[0,131], words=[0,21])),\n",
       " Background(Span(\"b'Abstract How should one aggregate ordinal preferences expressed by voters into a measurably superior social choice?'\", sentence=4994, chars=[0,114], words=[0,16])),\n",
       " Background(Span(\"b'it is possible to use the contemplated donation as a bargaining chip to induce other parties interested in the charity to donate more.'\", sentence=4597, chars=[59,192], words=[13,36])),\n",
       " Background(Span(\"b'Abstract When donating money to a (say'\", sentence=4597, chars=[0,37], words=[0,7])),\n",
       " Background(Span(\"b'While data-driven tools offer an alternative to tackle this problem'\", sentence=1809, chars=[0,66], words=[0,11])),\n",
       " Background(Span(\"b\"Application data is classified based on the guarantees that the application requires; I will show an automated method for evaluating applications following changes to the disk's guarantees about its data.\\n\"\", sentence=2089, chars=[0,204], words=[0,33])),\n",
       " Background(Span(\"b'and three approaches are presented for distinguishing amongst objects from a previously-encountered set: The first approach is entirely geometric in nature and borrows ideas from \"\\n'\", sentence=4197, chars=[32,212], words=[6,35])),\n",
       " Background(Span(\"b'despite a lack of effective methods for analyzing such data.'\", sentence=5124, chars=[120,179], words=[22,32])),\n",
       " Background(Span(\"b'The variable circular plot (VCP) method for censusing animals is used widely to estimate the abundance of forest birds'\", sentence=5124, chars=[0,117], words=[0,20])),\n",
       " Background(Span(\"b'For example'\", sentence=1357, chars=[0,10], words=[0,1])),\n",
       " Background(Span(\"b'network operators can apply traffic engineering either at the interdomain or intradomain level to improve routing.'\", sentence=1357, chars=[49,162], words=[9,25])),\n",
       " Background(Span(\"b'whose structure is given by the \\xe2\\x80\\x9cpure intuitions\\xe2\\x80\\x9d of space and time.'\", sentence=4337, chars=[95,162], words=[20,34])),\n",
       " Background(Span(\"b'The same strategy does not seem appropriate for forward chaining.'\", sentence=2490, chars=[0,64], words=[0,10])),\n",
       " Background(Span(\"b'How to do it \\xe2\\x80\\xa2'\", sentence=3052, chars=[0,13], words=[0,4])),\n",
       " Background(Span(\"b'which can be obtained by solving a simple quadratic programming problem and provide uniform \\n'\", sentence=2282, chars=[60,152], words=[10,24])),\n",
       " Background(Span(\"b'RAID-II is a high speed network file server connected to an UltraNetwork.'\", sentence=1908, chars=[0,72], words=[0,14])),\n",
       " Background(Span(\"b'The challenge is then to achieve \\xe2\\x80\\x9crental harmony\\xe2\\x80\\x9d[Su 1999] by assigning the rooms and dividing the rent fairly.'\", sentence=2987, chars=[0,110], words=[0,20])),\n",
       " Background(Span(\"b'Popular existing non-destructive technologies that used for corrosion inspection in LNG pipes include Magnetic Flux Leakage (MFL)'\", sentence=3834, chars=[0,128], words=[0,20])),\n",
       " Background(Span(\"b'to \\n'\", sentence=5354, chars=[77,80], words=[16,17])),\n",
       " Background(Span(\"b'Positive location feature scores and negative location feature scores are determined for locations within images.'\", sentence=3467, chars=[0,112], words=[0,15])),\n",
       " Background(Span(\"b'Television and video recording advanced it to show action \\xe2\\x80\\x9clive\\xe2\\x80\\x9d or capture and playback later.'\", sentence=4978, chars=[0,94], words=[0,17])),\n",
       " Background(Span(\"b'due to difficulties with occlusion and limb \\n'\", sentence=5024, chars=[142,186], words=[23,30])),\n",
       " Background(Span(\"b'We found that this sequential approach does not perform well because pose estimation step is too unreliable for images of interacting people'\", sentence=5024, chars=[0,139], words=[0,21])),\n",
       " Background(Span(\"b'Our work focuses on extending this successful learning technology to collaborative learning settings involving two or more learners interacting with one or more agents.'\", sentence=1064, chars=[0,167], words=[0,24])),\n",
       " Background(Span(\"b'We consider several random incremental algorithms including algorithms for comparison sorting and Delaunay triangulation; linear programming'\", sentence=5241, chars=[0,139], words=[0,16])),\n",
       " Background(Span(\"b\"we generate an open-loop walking trajectory that mimics the character's walking motion by modifying the motion such that the \\n\"\", sentence=3583, chars=[31,156], words=[4,26])),\n",
       " Background(Span(\"b'two modalities for controlling a team of 24 robots in a foraging task in an urban search and rescue environment are compared.'\", sentence=4106, chars=[15,139], words=[4,26])),\n",
       " Background(Span(\"b'the conference organizers chose to have a small'\", sentence=1733, chars=[27,73], words=[6,13])),\n",
       " Background(Span(\"b'using a novel connection of differential privacy to Bayesian posterior sampling via Stochastic Gradient Langevin Dynamics.'\", sentence=4944, chars=[104,225], words=[16,32])),\n",
       " Background(Span(\"b'We formulate a novel system of natural deduction for IS5'\", sentence=5042, chars=[0,55], words=[0,9])),\n",
       " Background(Span(\"b'Such constraints are dynamic constraints and require the state of the system to be forward-invariant with respect to a safe set.'\", sentence=3512, chars=[0,127], words=[0,23])),\n",
       " Background(Span(\"b'a highly portable and extensible remote procedure call package for Unix.'\", sentence=4563, chars=[86,157], words=[13,24])),\n",
       " Background(Span(\"b'But there is as yet little empirical support for their effectiveness.'\", sentence=2535, chars=[0,68], words=[0,11])),\n",
       " Background(Span(\"b'Abstract In this report we will describe a data driven approach for creating pronunciation dictionaries for a new unseen target language by voting among phoneme recognizers in nine different languages other than the target language.'\", sentence=5460, chars=[0,231], words=[0,35])),\n",
       " Background(Span(\"b'and infrared sensors to perform tasks both autonomously and under teleoperated joystick control.'\", sentence=4218, chars=[50,145], words=[10,23])),\n",
       " Background(Span(\"b'To achieve maximum security'\", sentence=3625, chars=[0,26], words=[0,3])),\n",
       " Background(Span(\"b'Differential invariants (DI)[Pla10a] prove properties of differential equations by induction based on the right-hand side of the differential equation'\", sentence=3034, chars=[0,149], words=[0,22])),\n",
       " Background(Span(\"b'In this paper we describe an efficient algorithm to construct FRT embeddings (optimal probabilistic tree embeddings) on graphs.'\", sentence=2956, chars=[0,126], words=[0,20])),\n",
       " Background(Span(\"b'Abstract: We present a new proof of cut elimination for linear logic which proceeds by three nested structural inductions'\", sentence=5477, chars=[0,120], words=[0,19])),\n",
       " Background(Span(\"b'Our goal is to identify a hierarchical structure in neuromuscular control that \\n'\", sentence=3570, chars=[0,79], words=[0,12])),\n",
       " Background(Span(\"b'Abstract: We study an online task assignment problem for multi-robot systems where robots can do multiple tasks during their mission and the tasks arrive dynamically in groups.'\", sentence=1877, chars=[0,175], words=[0,30])),\n",
       " Background(Span(\"b'Manipulation by pushing'\", sentence=4392, chars=[0,22], words=[0,2])),\n",
       " Background(Span(\"b'The goal of the Atlas project is to increase the opportunities for students to construct their own knowledge by conversing (in typed form) with a natural languagebased ITS.'\", sentence=5337, chars=[0,171], words=[0,30])),\n",
       " Background(Span(\"b\"Read 'Baseline HCV NS5A resistance-associated variants do not impact SVR12 rates in\\\\nnon-cirrhotic and post-liver transplant patients with genotype 1 infection treated with daclatasvir\\\\nand sofosbuvir with or without ribavirin for 12 weeks: An integrated analysis' on Ovid Insights.\\\\n\\n\"\", sentence=5269, chars=[0,284], words=[0,46])),\n",
       " Background(Span(\"b'For a graph with $ n $ vertices and $ m $ edges the algorithm runs in $ O (m\\\\\\\\log n) $ time.'\", sentence=2957, chars=[0,91], words=[0,25])),\n",
       " Background(Span(\"b'or through a reactive feedback policy that modifies on-going behavior in response to sensory events.'\", sentence=2475, chars=[81,180], words=[15,32])),\n",
       " Background(Span(\"b'Abstract now is to use this idea as a unifying platform for semantics and reasoning.'\", sentence=4322, chars=[0,83], words=[0,15])),\n",
       " Background(Span(\"b'Abstract Imperfect-recall abstraction has emerged as the leading paradigm for practical large-scale equilibrium computation in imperfect-information games.'\", sentence=3526, chars=[0,154], words=[0,23])),\n",
       " Background(Span(\"b'There exists problems in plain bearing specifically for shaft hoister'\", sentence=4873, chars=[0,68], words=[0,9])),\n",
       " Background(Span(\"b'the temperature rise for the minimum being allotted the target function'\", sentence=4873, chars=[244,314], words=[39,49])),\n",
       " Background(Span(\"b'smart solutions are required to effectively learn dynamics models with small amount of examples.'\", sentence=1810, chars=[7,102], words=[2,16])),\n",
       " Background(Span(\"b'In order to verify nontrivial systems without solving their differential equations and without numerical errors'\", sentence=4747, chars=[0,110], words=[0,14])),\n",
       " Background(Span(\"b'for which our algorithm computes the required differential invariants.'\", sentence=4747, chars=[188,257], words=[27,36])),\n",
       " Background(Span(\"b'It employs a Matchmaker to support agents in the system in their exchange of services.'\", sentence=1825, chars=[0,85], words=[0,15])),\n",
       " Background(Span(\"b\"abstract specification and ends with a version of Huet's algorithm for higher-order unification.\"\", sentence=3597, chars=[43,138], words=[8,24])),\n",
       " Background(Span(\"b'Its job is to turn a raw byte or character input stream coming from the source file into a token stream by chopping the input into pieces and skipping over irrelevant details.'\", sentence=1262, chars=[0,174], words=[0,32])),\n",
       " Background(Span(\"b'In order to get our result we use the indifference principle fulfilled by any Nash equilibrium'\", sentence=1606, chars=[0,93], words=[0,15])),\n",
       " Background(Span(\"b'In this process recordings of the new language that are transcribed on word level are decoded by the phoneme recognizers.'\", sentence=5461, chars=[0,120], words=[0,20])),\n",
       " Background(Span(\"b'In this assignment you will implement a virtual machine for C0'\", sentence=2971, chars=[0,61], words=[0,10])),\n",
       " Background(Span(\"b'in particular to linear systems with rectangular coefficient matrices.'\", sentence=2795, chars=[105,174], words=[16,25])),\n",
       " Background(Span(\"b'for clarity'\", sentence=4828, chars=[78,88], words=[18,19])),\n",
       " Background(Span(\"b'and show that the dependence structure is shallow for all of the algorithms'\", sentence=5242, chars=[62,136], words=[10,22])),\n",
       " Background(Span(\"b'we must be able to find a symbolic solution to the symbolic initial value problem (ie a function y (t) such that y (t)= f (y) and y (0)='\", sentence=4672, chars=[156,291], words=[36,71])),\n",
       " Background(Span(\"b'in order to use the [] axiom or its sequent calculus counterpart the [] rule from Lecture 6 on Truth & Proof for a differential equation x= f (x)'\", sentence=4672, chars=[9,153], words=[2,34])),\n",
       " Background(Span(\"b'This paper presents a method to teach a robot to play Ping Pong from failed demonstrations in a highly noisy and uncertain setting.'\", sentence=4961, chars=[0,130], words=[0,23])),\n",
       " Background(Span(\"b'SimStudent can choose to ask further questions that prompt the user to think harder about the problem in an attempt to elicit deeper responses.'\", sentence=4309, chars=[21,163], words=[5,29])),\n",
       " Background(Span(\"b'To infer useful information from failed demonstrations'\", sentence=4962, chars=[0,53], words=[0,6])),\n",
       " Background(Span(\"b'Abstract Aggregating the preferences of self-interested agents is a key problem for multiagent systems'\", sentence=2573, chars=[0,101], words=[0,15])),\n",
       " Background(Span(\"b'and one general method for doing so is to vote over the alternatives (candidates).'\", sentence=2573, chars=[104,185], words=[17,33])),\n",
       " Background(Span(\"b'a set of rules can be input for processing of bids received in connection with the exchange.'\", sentence=3420, chars=[29,120], words=[5,22])),\n",
       " Background(Span(\"b'we investigate how to use machine learning to add reactivity to a previously \\n'\", sentence=2476, chars=[15,92], words=[4,17])),\n",
       " Background(Span(\"b'Abstract We describe a module system for Elf'\", sentence=3922, chars=[0,43], words=[0,7])),\n",
       " Background(Span(\"b'we show that untrusted computers can be used to securely facilitate mobile data access.'\", sentence=2458, chars=[24,110], words=[5,19])),\n",
       " Background(Span(\"b'modular inspection robot for the visual inspection of 6\\xe2\\x80\\x9d and 8\\xe2\\x80\\x9d natural gas distribution system pipelines.'\", sentence=1101, chars=[130,235], words=[30,48])),\n",
       " Background(Span(\"b'and provides support for streaming file transfer'\", sentence=4564, chars=[41,88], words=[11,17])),\n",
       " Background(Span(\"b'Due to its simplicity the algorithm lends itself to efficient implementation.'\", sentence=4945, chars=[0,76], words=[0,11])),\n",
       " Background(Span(\"b'for \\n'\", sentence=2555, chars=[59,63], words=[13,14])),\n",
       " Background(Span(\"b'tools can make suggestions for alternative data structures better suited for the program input on which the application runs.'\", sentence=1703, chars=[126,250], words=[20,39])),\n",
       " Background(Span(\"b\"By analyzing data structures' behavior and their interaction with the rest of the application on the underlying architecture\"\", sentence=1703, chars=[0,123], words=[0,18])),\n",
       " Background(Span(\"b'and an extension of the representer theorem to handle multiple joint regularization constraints.'\", sentence=2297, chars=[61,156], words=[11,24])),\n",
       " Background(Span(\"b'Central to our method is a theorem for matrix approximation'\", sentence=2297, chars=[0,58], words=[0,9])),\n",
       " Background(Span(\"b'The workshop was sponsored by the IEEE Computer Society Technical Committee on Operating Systems'\", sentence=1734, chars=[0,95], words=[0,13])),\n",
       " Background(Span(\"b'Abstract Enabling multiple robots to work together as a team is a difficult problem.'\", sentence=2779, chars=[0,83], words=[0,14])),\n",
       " Background(Span(\"b\"such that each player's values for the rooms sum up to the total rent. \\n\"\", sentence=2988, chars=[64,135], words=[15,31])),\n",
       " Background(Span(\"b'suppose each player i has value vij for room j'\", sentence=2988, chars=[16,61], words=[4,13])),\n",
       " Background(Span(\"b'Abstract\\xe2\\x80\\x94Session types are widely accepted as a useful expressive discipline for structuring communications in concurrent and distributed systems.'\", sentence=3217, chars=[0,145], words=[0,20])),\n",
       " Background(Span(\"b'It has been influenced by the Java Virtual Machine (JVM) and the LLVM'\", sentence=2972, chars=[0,68], words=[0,14])),\n",
       " Background(Span(\"b'a low-level virtual machine for compiler backends.'\", sentence=2972, chars=[71,120], words=[16,25])),\n",
       " Background(Span(\"b'you may restrict your analysis to pure strategies'\", sentence=3248, chars=[26,74], words=[4,11])),\n",
       " Background(Span(\"b'you do not have to consider mixed strategies.'\", sentence=3248, chars=[86,130], words=[16,24])),\n",
       " Background(Span(\"b'Pla12] made it possible to simply prove another property C of a differential \\n'\", sentence=4687, chars=[31,108], words=[5,19])),\n",
       " Background(Span(\"b'The computational content of this proof is a non-deterministic algorithm for cut elimination which is amenable to an elegant implementation in Elf.'\", sentence=5478, chars=[0,146], words=[0,24])),\n",
       " Background(Span(\"b'The primary benefits of doing so include significantly simplified jobs for the subsequent syntactical analysis'\", sentence=1263, chars=[0,109], words=[0,14])),\n",
       " Background(Span(\"b'which would otherwise have to expect whitespace and comments all over the place.'\", sentence=1263, chars=[112,191], words=[16,29])),\n",
       " Background(Span(\"b'Abstract: Majority of service discovery research considers only primitive services as a suitable match for a given query while service combinations are not allowed.'\", sentence=5323, chars=[0,163], words=[0,25])),\n",
       " Background(Span(\"b'It is visionary in its commitment to Certificate Transparency.'\", sentence=5157, chars=[0,61], words=[0,9])),\n",
       " Background(Span(\"b'it is not clear whether they can evolve to support diverse application needs at least as much \\n'\", sentence=4057, chars=[11,105], words=[2,19])),\n",
       " Background(Span(\"b'The main aim of this style of presentation is semantic modularity: we can add new language features without having to rewrite prior definitions for smaller language fragments.'\", sentence=2623, chars=[0,174], words=[0,28])),\n",
       " Background(Span(\"b'2010 Technical Reports by Author Computer Science Department School of Computer'\", sentence=1128, chars=[0,78], words=[0,10])),\n",
       " Background(Span(\"b'though its results have application to other systems. \\n'\", sentence=1160, chars=[61,115], words=[14,23])),\n",
       " Background(Span(\"b'We show that this Bayesian treatment to the constrained \\n'\", sentence=4625, chars=[0,56], words=[0,9])),\n",
       " Background(Span(\"b'we propose a nonparanormal neighborhood pursuit algorithm to estimate high-dimensional semiparametric graphical models with theoretical guarantees.'\", sentence=5104, chars=[15,161], words=[3,21])),\n",
       " Background(Span(\"b'thus reducing the demand for ingress bandwidth into the cloud.'\", sentence=4584, chars=[129,190], words=[23,33])),\n",
       " Background(Span(\"b'understanding this relation is essential for devising an efficient protocol that maximizes the network throughput in a fair manner and minimizes the access delay.'\", sentence=5398, chars=[5,166], words=[2,26])),\n",
       " Background(Span(\"b'the actions of one component may lead to severe failures in the system as a whole.'\", sentence=3954, chars=[25,106], words=[5,21])),\n",
       " Background(Span(\"b'One of the processing levels is a coarse-level planner that uses geometry of the site and heuristics specified by expert operators to find an optimal area from which to remove material.'\", sentence=4440, chars=[0,184], words=[0,33])),\n",
       " Background(Span(\"b'For autonomously navigating vehicles'\", sentence=3089, chars=[0,35], words=[0,3])),\n",
       " Background(Span(\"b'faces two main challenges: the web-scale amounts of user histories to process on a daily basis'\", sentence=1249, chars=[99,192], words=[13,31])),\n",
       " Background(Span(\"b'most work is based on assumptions which are not suited to large scale \\n'\", sentence=2410, chars=[79,149], words=[13,26])),\n",
       " Background(Span(\"b'partially due to the difficulty of characterizing the natural terrain that the vehicle will encounter and estimating the effect of \\n'\", sentence=3264, chars=[86,217], words=[15,35])),\n",
       " Background(Span(\"b'For the unsteady plane flows of the phreatic aquifer'\", sentence=4886, chars=[0,51], words=[0,8])),\n",
       " Background(Span(\"b\"the boundary's unstable properties concentrated on hydraulic slope changed by time.\"\", sentence=4886, chars=[54,136], words=[10,22])),\n",
       " Background(Span(\"b'Utility theory shows that it is rational to maximize expected \\n'\", sentence=1425, chars=[0,62], words=[0,10])),\n",
       " Background(Span(\"b'it is possible to quantify the relationship between the raw throughput required of the perception system and the maximum safely achievable speed of the vehicle.'\", sentence=3090, chars=[24,183], words=[4,29])),\n",
       " Background(Span(\"b'we try to address these challenges through feature selection.'\", sentence=1250, chars=[15,75], words=[4,13])),\n",
       " Background(Span(\"b'The logic programming language AProlog extends Prolog by containing polymorphic types'\", sentence=1147, chars=[0,84], words=[0,10])),\n",
       " Background(Span(\"b'ABSTRACT Purpose: To describe the prevalence of retinal vein occlusion (RVO) and its risk factors in a multi-ethnic Asian population.'\", sentence=2729, chars=[0,132], words=[0,25])),\n",
       " Background(Span(\"b\"and incentives are enforced within an open MAS to ensure that agents act and interact only in ways that satisfy stakeholders' requirements.\"\", sentence=1960, chars=[67,205], words=[14,37])),\n",
       " Background(Span(\"b'more attacks are launched with the aim of making web users believe that they are communicating with a trusted entity for the purpose of stealing account information'\", sentence=2694, chars=[21,184], words=[4,30])),\n",
       " Background(Span(\"b'This means that proof search never has to invent new propositions'\", sentence=1339, chars=[0,64], words=[0,10])),\n",
       " Background(Span(\"b'Abstract We describe how the pre-training algorithm for Deep Boltzmann Machines (DBMs) is related to the pre-training algorithm for Deep Belief Networks and we show that under certain conditions'\", sentence=2743, chars=[0,193], words=[0,34])),\n",
       " Background(Span(\"b'They have evolved from their traditional use of solely being a device for communication between people'\", sentence=1796, chars=[0,101], words=[0,15])),\n",
       " Background(Span(\"b'to a multipurpose device.'\", sentence=1796, chars=[104,128], words=[17,21])),\n",
       " Background(Span(\"b'The first test is based on a large deviation bound for the test statistic'\", sentence=3819, chars=[0,72], words=[0,13])),\n",
       " Background(Span(\"b'Abstract: Decision making in robotics often involves computing an optimal action for a given state'\", sentence=3347, chars=[0,97], words=[0,15])),\n",
       " Background(Span(\"b'It implements methods inspired from techniques developed to compute physical maps of extant genomes.'\", sentence=1685, chars=[0,99], words=[0,14])),\n",
       " Background(Span(\"b'unique device addresses can be used to track users over time.'\", sentence=4014, chars=[63,123], words=[15,26])),\n",
       " Background(Span(\"b'For example'\", sentence=4014, chars=[0,10], words=[0,1])),\n",
       " Background(Span(\"b'To govern such systems'\", sentence=3955, chars=[0,21], words=[0,3])),\n",
       " Background(Span(\"b'constraints are placed on the behaviour of components to avoid such undesirable actions.'\", sentence=3955, chars=[24,111], words=[5,18])),\n",
       " Background(Span(\"b'In this lecture we return to the view that a logic program is defined by a collection of inference rules for atomic propositions.'\", sentence=3002, chars=[0,128], words=[0,23])),\n",
       " Background(Span(\"b'It allows us to derive a large number of novel algorithms and statistical interpretations of existing algorithms easily'\", sentence=2663, chars=[0,118], words=[0,17])),\n",
       " Background(Span(\"b'such as for multiclass classification'\", sentence=2663, chars=[121,157], words=[19,23])),\n",
       " Background(Span(\"b'some belong to topological algebra and some to category theory'\", sentence=2126, chars=[158,219], words=[28,37])),\n",
       " Background(Span(\"b'There are two subsystems of Tps which you may wish to use.'\", sentence=3202, chars=[0,57], words=[0,12])),\n",
       " Background(Span(\"b\"In May 1999 the ACM Council adopted a resolution both reaffirming ACM's commitment to solving the software quality problem and also stating its opposition to licensing software engineers\"\", sentence=2090, chars=[0,185], words=[0,28])),\n",
       " Background(Span(\"b'It is currently being developed by the Federal Aviation Administration (FAA).'\", sentence=3769, chars=[0,76], words=[0,13])),\n",
       " Background(Span(\"b'we explore the extent to which the ACT-R cognitive architecture and the Unity game engine can be used for these purposes.'\", sentence=2069, chars=[6,126], words=[2,25])),\n",
       " Background(Span(\"b'A can or cannot talk to B) are correctly implemented.'\", sentence=4264, chars=[108,160], words=[17,29])),\n",
       " Background(Span(\"b'To guarantee network availability and security'\", sentence=4264, chars=[0,45], words=[0,5])),\n",
       " Background(Span(\"b'We show this to be the case also under the Muller-Satterthwaite conditions.'\", sentence=3406, chars=[0,74], words=[0,14])),\n",
       " Background(Span(\"b'even to the extent that any beneficial properties are of \"\\n'\", sentence=4277, chars=[132,190], words=[24,35])),\n",
       " Background(Span(\"b'We show that a language based on ordered types can use this property to give an exact account of the layout of data in memory.'\", sentence=3997, chars=[0,125], words=[0,25])),\n",
       " Background(Span(\"b'One important question is the last phase of the front-end: semantic analysis that is used to determine if the input program is actually syntactically well-formed.'\", sentence=2842, chars=[0,161], words=[0,30])),\n",
       " Background(Span(\"b\"This is a difficult task due to the complexity of network configuration and the constant churn in a network's environment\"\", sentence=4265, chars=[0,120], words=[0,20])),\n",
       " Background(Span(\"b'The double-cut-and-join (DCJ) model has formed the basis for most algorithmic research on rearrangements over the last few years.'\", sentence=1051, chars=[0,128], words=[0,27])),\n",
       " Background(Span(\"b'to maximize spatial reuse of wireless channel while minimizing collisions.'\", sentence=5414, chars=[134,207], words=[21,31])),\n",
       " Background(Span(\"b'CSMA networks can be optimized by careful tuning of transceiver parameters'\", sentence=5414, chars=[0,73], words=[0,10])),\n",
       " Background(Span(\"b'The effort in this paper focuses on examining all possible interference modes arising among two interfering Bi-directional traffic like TCP for one-hop connections under a Two-Disc model of interference.'\", sentence=5399, chars=[0,202], words=[0,35])),\n",
       " Background(Span(\"b'economic and legal issues which need to be solved before the vision can be realized.'\", sentence=2896, chars=[44,127], words=[9,24])),\n",
       " Background(Span(\"b'Existing tools either fail to identify the location of bottlenecks'\", sentence=1358, chars=[0,65], words=[0,9])),\n",
       " Background(Span(\"b'Strategies for efficient resource management have been developed for backward-directed calculi'\", sentence=2943, chars=[0,93], words=[0,12])),\n",
       " Background(Span(\"b'For that'\", sentence=4829, chars=[0,7], words=[0,1])),\n",
       " Background(Span(\"b'we present a simple approach for developing energy-aware applications using...\\n'\", sentence=2252, chars=[14,92], words=[4,17])),\n",
       " Background(Span(\"b\"Increasing autonomy in multi-robot control might be expected to produce similar declines in operators' SA.\"\", sentence=2002, chars=[0,105], words=[0,18])),\n",
       " Background(Span(\"b\"it is agent 1's turn to move.\"\", sentence=3249, chars=[31,59], words=[8,16])),\n",
       " Background(Span(\"b'Where: We present an exact polynomial-time algorithm to integrate the metric tensor along the lines between the test and training \\n'\", sentence=1942, chars=[0,130], words=[0,23])),\n",
       " Background(Span(\"b'The purpose of this paper is to introduce a single geometric structure'\", sentence=1099, chars=[0,69], words=[0,11])),\n",
       " Background(Span(\"b\"Tests for differentiation of haplotype distributions often take the form of either Pearson's \\xcf\\x872 statistic or tests based on the similarity among haplotypes in the different populations.\"\", sentence=1113, chars=[0,184], words=[0,28])),\n",
       " Background(Span(\"b'An advantage of this could be improved competition and thus improved revenue to a seller of the right to advertise to a stream of search queries.'\", sentence=5088, chars=[0,144], words=[0,26])),\n",
       " Background(Span(\"b'storage-limited pervasive computing devices by opportunistically caching data on nearby surrogate machines.'\", sentence=2459, chars=[123,229], words=[21,35])),\n",
       " Background(Span(\"b'Abstract: An efficient way to learn deep density models that have many layers of latent variables is to learn one layer at a time using a model that has only one layer of latent variables.'\", sentence=4779, chars=[0,187], words=[0,36])),\n",
       " Background(Span(\"b'you realize that your meter is about to run out.'\", sentence=1925, chars=[13,60], words=[3,13])),\n",
       " Background(Span(\"b'For instance we can optimize by constant propagation x= 1;'\", sentence=4844, chars=[0,57], words=[0,10])),\n",
       " Background(Span(\"b'The role of the operating system is to sense external events'\", sentence=2424, chars=[0,59], words=[0,10])),\n",
       " Background(Span(\"b'and to monitor and allocate scarce resources.'\", sentence=2424, chars=[62,106], words=[12,19])),\n",
       " Background(Span(\"b'The array controller forms an integral part of a file server that attaches to a Gb/s local area network.'\", sentence=1893, chars=[0,103], words=[0,21])),\n",
       " Background(Span(\"b'many realistic queries cannot be matched by individual services and only a combination of several services can satisfy such queries.'\", sentence=5324, chars=[9,140], words=[2,23])),\n",
       " Background(Span(\"b'To handle such tasks'\", sentence=4487, chars=[0,19], words=[0,3])),\n",
       " Background(Span(\"b'we introduce a new approach to search called discard-based search.'\", sentence=4487, chars=[22,87], words=[5,17])),\n",
       " Background(Span(\"b'Existing approaches in building automated tools for such synthesis problems attempt to augment methods from either discrete planning or continuous control with hybrid elements'\", sentence=1412, chars=[0,174], words=[0,23])),\n",
       " Background(Span(\"b'but largely fail to ensure a uniform treatment of both aspects of the domain.'\", sentence=1412, chars=[177,253], words=[25,39])),\n",
       " Background(Span(\"b'We explain how novel computational techniques help to solve this type of problem.'\", sentence=5103, chars=[0,80], words=[0,13])),\n",
       " Background(Span(\"b'we see increasing user expectations for higher video quality and new global policy requirements for content providers.'\", sentence=2236, chars=[35,152], words=[6,23])),\n",
       " Background(Span(\"b\"The system uses the attributes in the data set to develop an advertising campaign that satisfies the buyer's criteria.\"\", sentence=3540, chars=[0,117], words=[0,20])),\n",
       " Background(Span(\"b'There are a broad range of reasons to motivate the effort to integrate cognitive architectures with virtual environments.'\", sentence=2804, chars=[0,120], words=[0,18])),\n",
       " Background(Span(\"b'samples from the posterior distributions for that layer are used as training data for learning the next layer.'\", sentence=4780, chars=[27,136], words=[5,23])),\n",
       " Background(Span(\"b'a control system for optimizing Internet video delivery.'\", sentence=2237, chars=[76,131], words=[15,23])),\n",
       " Background(Span(\"b'Inspired by the case for centralizing network-layer control'\", sentence=2237, chars=[0,58], words=[0,9])),\n",
       " Background(Span(\"b'As a means for combining local differential invariants into global system invariants in a sound way'\", sentence=4748, chars=[0,98], words=[0,15])),\n",
       " Background(Span(\"b'Andes is a model tracing tutor (MTT) that presents quantitative physics problems to students.'\", sentence=5339, chars=[0,92], words=[0,16])),\n",
       " Background(Span(\"b'low latency for emitting file updates'\", sentence=4520, chars=[12,48], words=[3,8])),\n",
       " Background(Span(\"b'memory alloy actuators are gaining importance in high-frequency precision applications constrained by space.'\", sentence=1178, chars=[0,107], words=[0,15])),\n",
       " Background(Span(\"b'The manual also describes two other packages used by RPC2: RP2Gen'\", sentence=4565, chars=[0,64], words=[0,11])),\n",
       " Background(Span(\"b'the AFM pushing force increases to the critical value required for nanoparticle motion.'\", sentence=4394, chars=[41,127], words=[8,21])),\n",
       " Background(Span(\"b'According to the dynamics of the system'\", sentence=4394, chars=[0,38], words=[0,6])),\n",
       " Background(Span(\"b'a metalanguage for proof manipulation environments that are independent of any particular logical system.'\", sentence=1943, chars=[41,145], words=[9,23])),\n",
       " Background(Span(\"b'In order to develop a robust distributed application'\", sentence=1326, chars=[0,51], words=[0,7])),\n",
       " Background(Span(\"b'solution quality guarantees for Nash equilibria and approximate self-trembling equilibria computed in imperfect-recall abstractions'\", sentence=3528, chars=[50,180], words=[10,27])),\n",
       " Background(Span(\"b'It is becoming increasingly difficult for users to find content over the Internet that is relevant to them or that interests them.'\", sentence=4762, chars=[0,129], words=[0,22])),\n",
       " Background(Span(\"b'These methods can be used to obtain \\n'\", sentence=3835, chars=[0,36], words=[0,7])),\n",
       " Background(Span(\"b\"they don't lend themselves to repeatability and provide less control over experiments.\"\", sentence=1327, chars=[84,169], words=[13,26])),\n",
       " Background(Span(\"b'The next level involves searching the area for an exact starting \\n'\", sentence=4441, chars=[0,65], words=[0,11])),\n",
       " Background(Span(\"b'Abstract: Enterprises want their in-cloud services to leverage the performance and security benefits that middleboxes offer in traditional deployments.'\", sentence=2253, chars=[0,150], words=[0,22])),\n",
       " Background(Span(\"b'we outline the kinds of expressiveness that one might expect to be useful for ad auctions and introduce a high-level \\xe2\\x80\\x9coptimize-and-dispatch\\xe2\\x80\\x9d architecture for expressive ad \\n'\", sentence=5089, chars=[15,187], words=[4,37])),\n",
       " Background(Span(\"b\"\\xe2\\x80\\x9cwe've found a good vocabulary for talking about the\\\\nissues.\"\", sentence=2219, chars=[30,90], words=[8,19])),\n",
       " Background(Span(\"b'meter enforcers are not likely to pass by your car in the next hour.'\", sentence=1926, chars=[51,118], words=[10,24])),\n",
       " Background(Span(\"b'You query your PDA to discover that'\", sentence=1926, chars=[0,34], words=[0,6])),\n",
       " Background(Span(\"b'This paper illustrates how KeYmaera can be used to systematically model'\", sentence=1027, chars=[0,70], words=[0,10])),\n",
       " Background(Span(\"b'where one party promises to pay a certain amount if others pay a certain amount.'\", sentence=4598, chars=[62,141], words=[11,26])),\n",
       " Background(Span(\"b'The whole region in a specimen was refined by using the proposed method while grain sizes without \\n'\", sentence=4610, chars=[0,98], words=[0,17])),\n",
       " Background(Span(\"b'and derive worst-case approximation ratios for social cost and maximum load for L1 and L2 cost models.'\", sentence=3910, chars=[111,212], words=[21,40])),\n",
       " Background(Span(\"b'The framework forms the basis of a tool that is publicly available to the research community.'\", sentence=2267, chars=[0,92], words=[0,16])),\n",
       " Background(Span(\"b\"The ability of Intelligent Tutoring Systems to adapt to an individual student's needs have shown significant improvement in achievement over nonadaptive instruction.\"\", sentence=1427, chars=[0,164], words=[0,23])),\n",
       " Background(Span(\"b'Successive thermal treatments by dc Joule annealing with current density ranging from 1.13 to 2.83'\", sentence=4504, chars=[0,97], words=[0,14])),\n",
       " Background(Span(\"b'The key component to achieve it is a new linear-time single-source shortest-path algorithm on directed graphs'\", sentence=2958, chars=[0,108], words=[0,21])),\n",
       " Background(Span(\"b'To this end'\", sentence=3939, chars=[0,10], words=[0,2])),\n",
       " Background(Span(\"b'as required to model the behaviour of realistic distributed systems'\", sentence=3218, chars=[51,117], words=[8,17])),\n",
       " Background(Span(\"b'In order to express infinitely unbounded sessions'\", sentence=3218, chars=[0,48], words=[0,6])),\n",
       " Background(Span(\"b'the blimp is equipped with a marker deployment servo to allow the user to mark victims that he or she has identified with the \\n'\", sentence=4220, chars=[14,140], words=[2,26])),\n",
       " Background(Span(\"b'2002 Technical Reports by Author Computer Science Department School of Computer'\", sentence=1340, chars=[0,78], words=[0,10])),\n",
       " Background(Span(\"b'existing studies fail to jointly optimize these parameters to eliminate \\n'\", sentence=5415, chars=[9,81], words=[2,12])),\n",
       " Background(Span(\"b'We propose a control design method for a planar quadrotor subject to collision safety constraints.'\", sentence=3513, chars=[0,97], words=[0,15])),\n",
       " Background(Span(\"b'Hybrid systems have a complete axiomatization in differential dynamic logic relative to continuous systems.'\", sentence=1749, chars=[0,106], words=[0,14])),\n",
       " Background(Span(\"b'this problem arises because the client simultaneously reads fragments of a data block from multiple sources that together send enough data to overload the switch \\n'\", sentence=5139, chars=[14,176], words=[2,27])),\n",
       " Background(Span(\"b'and adding such information to state-of-the art channel models significantly increases accuracy.'\", sentence=1193, chars=[65,160], words=[10,26])),\n",
       " Background(Span(\"b'called Requirements-driven Contracting (RdC) for deriving executable norms'\", sentence=1961, chars=[24,97], words=[5,16])),\n",
       " Background(Span(\"b'bots coordinate to generate intermittent pulses at target links to significantly reduce the throughput of TCP connections traversing the target.'\", sentence=4643, chars=[23,166], words=[5,25])),\n",
       " Background(Span(\"b'A quid-pro-quo policy exchanges contributions from users for access to critical information in the system.'\", sentence=2679, chars=[0,105], words=[0,19])),\n",
       " Background(Span(\"b'They also have a complete axiomatization relative to discrete systems.'\", sentence=1750, chars=[0,69], words=[0,10])),\n",
       " Background(Span(\"b'Each robot can do at most one task from a group and the total number of tasks a robot can do is bounded by its limited battery life.'\", sentence=1878, chars=[0,131], words=[0,28])),\n",
       " Background(Span(\"b'is an educational version which is used in logic courses to prove theorems in purely interactive mode.'\", sentence=3203, chars=[17,118], words=[5,22])),\n",
       " Background(Span(\"b'A well-established approach\\xe2\\x80\\x94which we refer to as implicit utilitarian voting'\", sentence=4995, chars=[0,75], words=[0,13])),\n",
       " Background(Span(\"b'Differential cuts (DC)[Pla10a] made it possible to prove another property C of a differential equation and \\n'\", sentence=3035, chars=[0,107], words=[0,18])),\n",
       " Background(Span(\"b'The job of the lexical analysis is also to classify input tokens into types like INTEGER or IDENTIFIER or WHILE-keyword or \\n'\", sentence=1264, chars=[0,123], words=[0,23])),\n",
       " Background(Span(\"b'In this paper we present an extension to Data'\", sentence=1811, chars=[0,44], words=[0,8])),\n",
       " Background(Span(\"b'I/O compute times for each node (process) in an application.'\", sentence=4701, chars=[0,59], words=[0,14])),\n",
       " Background(Span(\"b'developers can optimize their data structure usage to make the application conscious of an underlying architecture and a particular program input.'\", sentence=1704, chars=[14,159], words=[2,23])),\n",
       " Background(Span(\"b'Abstract: The Carnegie Mellon University School of Computer Science (SCS) proposes to perform research to accelerate the achievement of security and assurance goals for larger-scale software-reliant systems.'\", sentence=4453, chars=[0,206], words=[0,34])),\n",
       " Background(Span(\"b'We are interested in algorithms that prescribe a randomized strategy for the \\n'\", sentence=3647, chars=[0,77], words=[0,12])),\n",
       " Background(Span(\"b'multiplexing) for middlebox management tasks such as service composition and provisioning.'\", sentence=2254, chars=[118,207], words=[22,34])),\n",
       " Background(Span(\"b'In this paper we consider resource management for forward-directed calculi'\", sentence=2944, chars=[0,73], words=[0,11])),\n",
       " Background(Span(\"b'We use a physicsbased analysis of pushing to compute the motion of each object in the scene in response to a set of possible robot motions.'\", sentence=3299, chars=[0,138], words=[0,26])),\n",
       " Background(Span(\"b'The goal of the new series of Springer Tracts in Advanced Robotics (STAR) is to bring'\", sentence=2189, chars=[0,84], words=[0,17])),\n",
       " Background(Span(\"b'Abstract: The visual medium evolved from early paintings to the realistic paintings of the classical era to photographs.'\", sentence=3332, chars=[0,119], words=[0,19])),\n",
       " Background(Span(\"b'which are models for complex physical systems'\", sentence=5072, chars=[49,93], words=[7,13])),\n",
       " Background(Span(\"b'polymorphism accounts for the exchange of abstract communication protocols and dynamic instantiation of heterogeneous interfaces'\", sentence=3940, chars=[15,142], words=[4,18])),\n",
       " Background(Span(\"b'as opposed to the exchange of data types and dynamic instantiation of individual message \\n'\", sentence=3940, chars=[145,234], words=[20,34])),\n",
       " Background(Span(\"b'where actions are regarded as labels for states.'\", sentence=3348, chars=[111,158], words=[16,24])),\n",
       " Background(Span(\"b'This Technical Report is brought to you for free and open access by the School of Computer Science at Research Showcase@ CMU.'\", sentence=2158, chars=[0,124], words=[0,22])),\n",
       " Background(Span(\"b'We investigated the range of outcomes these engagements produce and the underlying practices that lead to these outcomes.'\", sentence=2537, chars=[0,120], words=[0,18])),\n",
       " Background(Span(\"b'multi-scale numerical testbed designed to quantitatively and accurately predict sensor and autonomous system performance in a simulation environment.'\", sentence=1493, chars=[69,217], words=[13,33])),\n",
       " Background(Span(\"b'more subtle features exposed in encrypted link layer traffic can be used to identify and profile users as well.'\", sentence=4015, chars=[48,158], words=[8,27])),\n",
       " Background(Span(\"b'The overall goal of the project is to provide a framework for the development and maintenance of provably correct programs and demonstrate its utility through prototype implementations and examples.'\", sentence=3585, chars=[0,197], words=[0,29])),\n",
       " Background(Span(\"b'there is a constructive reduction of properties of hybrid systems to corresponding properties of continuous systems or to corresponding properties of discrete systems.'\", sentence=1751, chars=[10,176], words=[2,25])),\n",
       " Background(Span(\"b'Abstract Networked systems provide a cost-effective platform for parallel computing'\", sentence=4813, chars=[0,82], words=[0,11])),\n",
       " Background(Span(\"b'but the applications have to deal with the changing availability of computation and communication resources.'\", sentence=4813, chars=[85,192], words=[13,28])),\n",
       " Background(Span(\"b'By careful systems design and by exploiting the power law behavior of the data to maximize CPU cache bandwidth we are able to \\n'\", sentence=4946, chars=[0,126], words=[0,23])),\n",
       " Background(Span(\"b'A request policy simply reminds the user that information is needed to make the system function well.'\", sentence=2680, chars=[0,100], words=[0,17])),\n",
       " Background(Span(\"b'an increasingly diverse and ever-changing wireless spectrum has created a need for cognitive radio networks.'\", sentence=4060, chars=[25,132], words=[6,23])),\n",
       " Background(Span(\"b'ACM Council also affirmed its interest in developing a core body of knowledge for software engineering'\", sentence=2091, chars=[0,101], words=[0,15])),\n",
       " Background(Span(\"b\"When human users are cognitively overloaded normative stipulations hinder user's ability to plan to both accomplish goals \\n\"\", sentence=5011, chars=[0,122], words=[0,18])),\n",
       " Background(Span(\"b'it is remarkably easy to identify and characterize the common core behind his investigations.'\", sentence=1279, chars=[217,309], words=[38,52])),\n",
       " Background(Span(\"b\"Abstract While it is indubitably impossible to summarize all the many important aspects of Ernst-R\\xc3\\xbcdiger Olderog's scientific contributions and to do justice to each and every one of the areas that he contributed to\"\", sentence=1279, chars=[0,214], words=[0,36])),\n",
       " Background(Span(\"b'they often require access to both end points.'\", sentence=1359, chars=[13,57], words=[3,11])),\n",
       " Background(Span(\"b'they are used to specify logics'\", sentence=1477, chars=[9,39], words=[2,7])),\n",
       " Background(Span(\"b'In this section we\\\\nprovide the equations necessary to per- form Gibbs sampling over the models'\", sentence=2441, chars=[0,94], words=[0,14])),\n",
       " Background(Span(\"b'the role of individual applications is to adapt to changing conditions by using the information \\n'\", sentence=2425, chars=[13,109], words=[3,18])),\n",
       " Background(Span(\"b'Abstract We study natural computational problems associated with iterated transductions defined by a class of invertible transducers over the binary alphabet.'\", sentence=4846, chars=[0,157], words=[0,21])),\n",
       " Background(Span(\"b'By transforming the detection distances to areas'\", sentence=5125, chars=[0,47], words=[0,6])),\n",
       " Background(Span(\"b'robust procedures developed for analyzing line transect data may be successfully applied to VCP data in some situations.'\", sentence=5125, chars=[65,184], words=[11,29])),\n",
       " Background(Span(\"b'we describe bow to extend the algorithm to give a complete treatment of products and an incomplete but very useful treatment of polymorphism'\", sentence=3599, chars=[9,148], words=[2,24])),\n",
       " Background(Span(\"b'Surrogates are untrusted and unmanaged: we use end-to-end encryption and secure hashes to provide privacy and authenticity of data'\", sentence=2460, chars=[0,129], words=[0,23])),\n",
       " Background(Span(\"b'to \\n'\", sentence=4585, chars=[78,81], words=[14,15])),\n",
       " Background(Span(\"b'and to assess its potential as a clinical predictive marker.'\", sentence=4688, chars=[137,196], words=[26,36])),\n",
       " Background(Span(\"b'OBJECTIVES: To detect the loss of heterozygosity (LOH) of circulating DNA in the plasma of patients with hepatocellular carcinoma (HCC)'\", sentence=4688, chars=[0,134], words=[0,24])),\n",
       " Background(Span(\"b'As Demonstrator for handling \\n'\", sentence=1812, chars=[0,29], words=[0,4])),\n",
       " Background(Span(\"b'repeatable testbeds for mobile software and systems.'\", sentence=3740, chars=[146,197], words=[25,32])),\n",
       " Background(Span(\"b'This RFC argues that mobile network tracing provides both tools to improve our understanding of wireless channels'\", sentence=3740, chars=[0,112], words=[0,16])),\n",
       " Background(Span(\"b'as well as to build realistic'\", sentence=3740, chars=[115,143], words=[18,23])),\n",
       " Background(Span(\"b'In this paper we construct a form of focused derivations for propositional linear logic that is appropriate for forward reasoning in the inverse method.'\", sentence=1720, chars=[0,151], words=[0,24])),\n",
       " Background(Span(\"b'for example'\", sentence=1767, chars=[215,225], words=[37,38])),\n",
       " Background(Span(\"b'The tellers for the 1967 election'\", sentence=3618, chars=[0,32], words=[0,5])),\n",
       " Background(Span(\"b'The DOKLADY for a year contains about 500 articles'\", sentence=3634, chars=[0,49], words=[0,8])),\n",
       " Background(Span(\"b'we design a controller for its cooperation protocol.'\", sentence=3484, chars=[81,132], words=[15,23])),\n",
       " Background(Span(\"b'We present a kernel-based framework for pattern recognition'\", sentence=3805, chars=[0,58], words=[0,9])),\n",
       " Background(Span(\"b'a file system that adapts proof-carrying authorization to provide direct'\", sentence=1846, chars=[60,131], words=[11,22])),\n",
       " Background(Span(\"b'Association for Symbolic Logic 1079-8986/03/0902-0009/$1.80\\n'\", sentence=4338, chars=[82,141], words=[15,24])),\n",
       " Background(Span(\"b'T^ he JOURNALOJ SYMBOLIC LOGIC is the official organ of the Association for Symbolic Logic Inc.'\", sentence=4382, chars=[0,94], words=[0,15])),\n",
       " Background(Span(\"b'\" is most commonly initiated by sending out emails with links to spoofed websites that harvest information.'\", sentence=2695, chars=[49,155], words=[8,25])),\n",
       " Background(Span(\"b'Abstract We propose a hierarchical attention network for document classification.'\", sentence=3104, chars=[0,80], words=[0,10])),\n",
       " Background(Span(\"b'a system that supports the user to manage its own stock portfolio.\\n'\", sentence=1828, chars=[83,149], words=[17,30])),\n",
       " Background(Span(\"b'Experience from extending existing techniques for developing conversational agents into multiple-learner settings highlights \\n'\", sentence=1065, chars=[0,125], words=[0,15])),\n",
       " Background(Span(\"b'Presented by Deva Ramanan'\", sentence=3391, chars=[0,24], words=[0,3])),\n",
       " Background(Span(\"b'they form the basis for the implementation of such deductive systems.'\", sentence=1478, chars=[10,78], words=[2,13])),\n",
       " Background(Span(\"b'This information is accessed by users using direct manipulation tools.'\", sentence=2524, chars=[0,69], words=[0,10])),\n",
       " Background(Span(\"b'The transduction semigroups of these automata are known to be free Abelian groups and the orbits of words can be described as affine subspaces in a suitable geometry defined by the generators of these groups.'\", sentence=4847, chars=[0,207], words=[0,35])),\n",
       " Background(Span(\"b'for collecting user context and for communicating with a user.'\", sentence=1813, chars=[106,167], words=[21,31])),\n",
       " Background(Span(\"b'Prior research has shown that request for help in crowdsourced \\n'\", sentence=2681, chars=[0,63], words=[0,10])),\n",
       " Background(Span(\"b'a complex electrical and chemical piece of circuitry\\\\nthat entirely mediates our relationship to the outside world.'\", sentence=2221, chars=[38,152], words=[9,25])),\n",
       " Background(Span(\"b'samples are supplied by strategic agents'\", sentence=3266, chars=[16,55], words=[4,9])),\n",
       " Background(Span(\"b'who wish to pull the estimate as close as possible to their own value.'\", sentence=3266, chars=[58,127], words=[11,25])),\n",
       " Background(Span(\"b'as opposed to heavy-weight schemes that optimize for speed at the expense of size.'\", sentence=4627, chars=[84,165], words=[18,34])),\n",
       " Background(Span(\"b'we unify divergence minimization and statistical inference by means of convex duality.'\", sentence=3662, chars=[0,85], words=[0,12])),\n",
       " Background(Span(\"b'enabling it to attend differentially to more and less important content when constructing the document representation.'\", sentence=3105, chars=[221,338], words=[35,51])),\n",
       " Background(Span(\"b'we successively identify constraints that are required to ensure collision freedom.'\", sentence=3485, chars=[39,121], words=[8,19])),\n",
       " Background(Span(\"b'For the free parameters of the system'\", sentence=3485, chars=[0,36], words=[0,6])),\n",
       " Background(Span(\"b'Abstract: We describe a method for articulated human detection and human pose estimation in static images based on a new representation of deformable part models.'\", sentence=4168, chars=[0,161], words=[0,26])),\n",
       " Background(Span(\"b'The focus of Andes is to help students develop good physics problem solving \\n'\", sentence=5340, chars=[0,76], words=[0,13])),\n",
       " Background(Span(\"b'and we have to ask whether it is only a matter of time before teachers are as well.'\", sentence=4237, chars=[72,154], words=[13,31])),\n",
       " Background(Span(\"b'Abstract Many workers have been and will be soon displaced by machines'\", sentence=4237, chars=[0,69], words=[0,11])),\n",
       " Background(Span(\"b'to \\n'\", sentence=4266, chars=[192,195], words=[33,34])),\n",
       " Background(Span(\"b'Abstract This paper studies sound proof rules for checking positive invariance of algebraic and semi-algebraic sets'\", sentence=1735, chars=[0,114], words=[0,17])),\n",
       " Background(Span(\"b\"Methodology and Philosophy of Science of the International Union of History and Philosophy of Science.'--.\\xe2\\x80\\xa2;. Membership in the Association is open to any one interested in its wprk.\"\", sentence=4383, chars=[73,254], words=[13,41])),\n",
       " Background(Span(\"b'the robot is able to choose between some number of operating modes.'\", sentence=4749, chars=[45,111], words=[7,19])),\n",
       " Background(Span(\"b'By JE Brittain'\", sentence=3020, chars=[0,13], words=[0,2])),\n",
       " Background(Span(\"b\"they may feature in the realization of what are referred to as 'environmentally extended cognitive systems'.\"\", sentence=4296, chars=[174,281], words=[34,52])),\n",
       " Background(Span(\"b'Embodiment and embedding are deemed to be important'\", sentence=4296, chars=[0,50], words=[0,7])),\n",
       " Background(Span(\"b'In order to support high bandwidth network transfers with the RAID-II server'\", sentence=1909, chars=[0,75], words=[0,13])),\n",
       " Background(Span(\"b'The lecture will review the march of technology and how developments are apt to affect teaching and research in many subjects.'\", sentence=4238, chars=[0,125], words=[0,21])),\n",
       " Background(Span(\"b'Researchers at Carnegie Mellon University were among the earliest to discern \\n'\", sentence=3726, chars=[0,77], words=[0,11])),\n",
       " Background(Span(\"b'Description This thesis presents an automatic pathology (AutoPath) approach to detect prostatic adenocarcinoma based on the morphological analysis of high resolution whole mount histopathology images of the prostate.'\", sentence=4221, chars=[0,215], words=[0,30])),\n",
       " Background(Span(\"b'The classification employs a notion of coherence degree determined by the possible inconsistency patterns of sets of finite elements of a domain.'\", sentence=5215, chars=[0,144], words=[0,22])),\n",
       " Background(Span(\"b'for swarm motion towards a goal'\", sentence=3436, chars=[122,152], words=[22,27])),\n",
       " Background(Span(\"b'for biological systems to avoid predators'\", sentence=3436, chars=[155,195], words=[29,34])),\n",
       " Background(Span(\"b'or for mobile buoys to clean up oil spills.'\", sentence=3436, chars=[198,240], words=[36,45])),\n",
       " Background(Span(\"b'The ability of a robot team to reconfigure itself is useful in many applications: for metamorphic robots to change shape'\", sentence=3436, chars=[0,119], words=[0,20])),\n",
       " Background(Span(\"b'we determine the geometric configurations under which the advice given by ACAS X is safe under a precise set of assumptions and formally verify these configurations using hybrid systems theorem proving techniques.'\", sentence=3770, chars=[15,227], words=[4,36])),\n",
       " Background(Span(\"b'autonomous agents will increasingly need strategies for efficiently retrieving information'\", sentence=4031, chars=[51,140], words=[9,18])),\n",
       " Background(Span(\"b'whose distribution can be estimated by collecting statistics.'\", sentence=4031, chars=[238,298], words=[42,50])),\n",
       " Background(Span(\"b'The time an agent (or server) takes to answer a query issued to it is often a random variable'\", sentence=4031, chars=[143,235], words=[20,40])),\n",
       " Background(Span(\"b'Network-awareness is a recent attempt to bridge the gap between the realities of networks and the demands of applications.'\", sentence=4814, chars=[0,121], words=[0,21])),\n",
       " Background(Span(\"b'the surface of platinum (Pt) nanowires was modified by using several chemicals'\", sentence=3685, chars=[23,100], words=[5,18])),\n",
       " Background(Span(\"b\"Abstract: Activity recognition is a key component of context-aware computing to support people's physical activity\"\", sentence=3363, chars=[0,113], words=[0,18])),\n",
       " Background(Span(\"b'but conventional approaches often lack in their generalizability and scalability due to problems of diversity in how individuals perform activities'\", sentence=3363, chars=[116,262], words=[20,39])),\n",
       " Background(Span(\"b\"The work presented here captures progress on an initial empirical evaluation of how well the current VANE system is able to reproduce a real autonomy system's perception performance.\"\", sentence=1494, chars=[0,181], words=[0,29])),\n",
       " Background(Span(\"b'Abstract A range-free approach for adaptive localization of un-localized sensor nodes employing a mobile robot with GPS is detailed.'\", sentence=3542, chars=[0,131], words=[0,23])),\n",
       " Background(Span(\"b'We show that the focused inverse method conservatively generalizes the classical hyperresolution strategy for Horn-theories'\", sentence=1721, chars=[0,122], words=[0,16])),\n",
       " Background(Span(\"b'has created opportunities for exciting new classes of distributed services.'\", sentence=4108, chars=[97,171], words=[16,26])),\n",
       " Background(Span(\"b'We describe distributed algorithms for learning large-mixture models that capture long-tail distributions'\", sentence=4073, chars=[0,104], words=[0,15])),\n",
       " Background(Span(\"b'which are hard to model with current approaches.'\", sentence=4073, chars=[107,154], words=[17,25])),\n",
       " Background(Span(\"b'HeartLander consists of two articulated modules that adhere to the epicardium \\n'\", sentence=5384, chars=[0,78], words=[0,11])),\n",
       " Background(Span(\"b'This violates the restrictions imposed for the last lecture'\", sentence=2492, chars=[0,58], words=[0,8])),\n",
       " Background(Span(\"b'In order to achieve a mission'\", sentence=5026, chars=[0,28], words=[0,5])),\n",
       " Background(Span(\"b'Tekkotsu has grown from a specialized framework for development on the Sony Aibo to a general purpose robotics development environment with support for a variety of hardware'\", sentence=2358, chars=[0,172], words=[0,26])),\n",
       " Background(Span(\"b'and associated curriculum for undergraduate education.'\", sentence=2358, chars=[232,285], words=[36,42])),\n",
       " Background(Span(\"b'algorithms for autonomous operation'\", sentence=2358, chars=[175,209], words=[28,31])),\n",
       " Background(Span(\"b'controlled setting for testing and are therefore ideal for rapidly developing and testing autonomous mobile robot behaviors.'\", sentence=3233, chars=[28,151], words=[5,22])),\n",
       " Background(Span(\"b'In order to fulfill their goals'\", sentence=5027, chars=[0,30], words=[0,5])),\n",
       " Background(Span(\"b'enterprises lack systematic tools to efficiently compose and provision in-the-cloud middleboxes and thus fall short of achieving the benefits that cloud-\\n'\", sentence=2255, chars=[15,168], words=[2,27])),\n",
       " Background(Span(\"b'Abstract Mobile robots are useful for a broad range of tasks including factory automation'\", sentence=4947, chars=[0,88], words=[0,13])),\n",
       " Background(Span(\"b'A determination can be made as a function of a subset of the rules if an allocation of the bids exists that is optimal for the type of exchange being conducted.'\", sentence=3422, chars=[0,159], words=[0,31])),\n",
       " Background(Span(\"b'Now we need the property that for every atomic goal P (potentially containing free variables) there is exactly one program clause that applies.'\", sentence=4861, chars=[0,142], words=[0,25])),\n",
       " Background(Span(\"b'According to the Encyclop\\xc3\\xa6dia Britannica'\", sentence=2797, chars=[0,39], words=[0,4])),\n",
       " Background(Span(\"b'This paper introduces (to our knowledge) the first more concise representation for the problem'\", sentence=1768, chars=[0,93], words=[0,15])),\n",
       " Background(Span(\"b'To circumvent this impossibility result'\", sentence=2575, chars=[0,38], words=[0,4])),\n",
       " Background(Span(\"b'In contrast to classic search strategies that precompute indexes for all anticipated queries'\", sentence=4488, chars=[0,91], words=[0,12])),\n",
       " Background(Span(\"b'discard-based search is an on-demand strategy that performs content-based computation in response to a specific query.'\", sentence=4488, chars=[94,211], words=[14,36])),\n",
       " Background(Span(\"b'The edit distance under the DCJ model can be computed in linear time for genomes without duplicate genes'\", sentence=1052, chars=[0,103], words=[0,17])),\n",
       " Background(Span(\"b'The invention disclosed herein describes a supervised autonomy system designed to precisely model'\", sentence=3036, chars=[0,96], words=[0,12])),\n",
       " Background(Span(\"b'to \\n'\", sentence=1927, chars=[30,33], words=[7,8])),\n",
       " Background(Span(\"b'We use our tool to analyze packet-level traces of three services (cloud storage'\", sentence=2268, chars=[0,78], words=[0,15])),\n",
       " Background(Span(\"b'glucose oxidase (GOD) enzyme was immobilized on the modified surfaces of Pt nanowire electrodes by using techniques of electrochemical adsorption and chemical binding.'\", sentence=3686, chars=[6,172], words=[2,27])),\n",
       " Background(Span(\"b'We extend this approach to the design of rules that select a subset of alternatives.'\", sentence=4997, chars=[0,83], words=[0,15])),\n",
       " Background(Span(\"b'This appears difficult for everyday motion since \\n'\", sentence=3452, chars=[0,49], words=[0,7])),\n",
       " Background(Span(\"b'x 10 8 A/m 2 are applied to the composite wires with 5 cm in length for a constant annealing time of 10 min.'\", sentence=4505, chars=[0,107], words=[0,26])),\n",
       " Background(Span(\"b'EPRS filters were shown to have superior edge-enhancing properties.'\", sentence=1561, chars=[62,128], words=[13,24])),\n",
       " Background(Span(\"b'By including the sample mean as the sole statistic when K= 1'\", sentence=1561, chars=[0,59], words=[0,11])),\n",
       " Background(Span(\"b'There is a payoff for assigning each robot to a task and the objective is to maximize the total payoff.'\", sentence=1879, chars=[0,102], words=[0,20])),\n",
       " Background(Span(\"b'We perform an experiment in which a mobile robot localizes using dead reckoning and range measurements to stationary radio-frequency beacons in its environment'\", sentence=4474, chars=[0,158], words=[0,24])),\n",
       " Background(Span(\"b'our treatment leads to stability and convergence bounds for many statistical learning problems.'\", sentence=3664, chars=[10,104], words=[2,15])),\n",
       " Background(Span(\"b'Automating path planning at a foraging task improved both target detection and localization which is closely tied to SA.'\", sentence=2004, chars=[0,119], words=[0,19])),\n",
       " Background(Span(\"b'We will use this algorithm in a nearest neighbor type classifier to find the best match to a new query in the database and then recognize the human activity based on prior known labels of the database.\\n'\", sentence=3376, chars=[0,201], words=[0,38])),\n",
       " Background(Span(\"b'Robotic swarms display emergent behaviors that are robust to failure of individual robots'\", sentence=5012, chars=[0,88], words=[0,12])),\n",
       " Background(Span(\"b'there is a box-modality [\\xce\\xb1] and a diamond modality\\xe2\\x8c\\xa9 \\xce\\xb1\\xe2\\x8c\\xaa. PDL was developed from first-order dynamic logic by Fischer-Ladner [FL79] and has become popular recently [GW09].'\", sentence=1163, chars=[20,188], words=[5,43])),\n",
       " Background(Span(\"b'For each program \\xce\\xb1'\", sentence=1163, chars=[0,17], words=[0,3])),\n",
       " Background(Span(\"b'algorithms for mobile robots are notorious for transitioning poorly from simulations to fielded platforms.'\", sentence=3234, chars=[9,114], words=[2,16])),\n",
       " Background(Span(\"b'We apply our approach to a variety of problems'\", sentence=3821, chars=[0,45], words=[0,8])),\n",
       " Background(Span(\"b'including attribute matching for databases using the \\n'\", sentence=3821, chars=[48,101], words=[10,17])),\n",
       " Background(Span(\"b'To address these limitations'\", sentence=3364, chars=[0,27], words=[0,3])),\n",
       " Background(Span(\"b'to \\n'\", sentence=3364, chars=[165,168], words=[29,30])),\n",
       " Background(Span(\"b'Elf is intended for metaprograms such as theorem provers'\", sentence=1944, chars=[0,55], words=[0,8])),\n",
       " Background(Span(\"b'or type inference programs for programming languages with complex type systems.'\", sentence=1944, chars=[78,156], words=[13,24])),\n",
       " Background(Span(\"b'In order to make the problem \\n'\", sentence=3300, chars=[0,29], words=[0,6])),\n",
       " Background(Span(\"b'A key stumbling block to mining these rich information sources is the lack of a common'\", sentence=4109, chars=[0,85], words=[0,15])),\n",
       " Background(Span(\"b'scalable networked infrastructure for collecting'\", sentence=4109, chars=[88,135], words=[17,21])),\n",
       " Background(Span(\"b'an outcome must be chosen on the basis of the preferences reported by a group of agents.'\", sentence=3175, chars=[16,103], words=[3,20])),\n",
       " Background(Span(\"b'Abstract This informative text for graduate students'\", sentence=3515, chars=[0,51], words=[0,6])),\n",
       " Background(Span(\"b'This piece is a supplement to a biographical note in the December 2014 issue of the Notices dealing with the highly respected publisher of scientific books'\", sentence=5244, chars=[0,154], words=[0,25])),\n",
       " Background(Span(\"b'x \\xc2\\xabDm (\\xc2\\xa3) such that< t>(x)/0 and for each y*< p (x) there is some z \\xc2\\xab9>(x)'\", sentence=4184, chars=[0,73], words=[0,26])),\n",
       " ...]"
      ]
     },
     "execution_count": 5,
     "metadata": {},
     "output_type": "execute_result"
    }
   ],
   "source": [
    "# Compound Matcher Example 2 (Regex-based):\n",
    "# E.g. to match either begining To/By/For or middle to/by/or, \n",
    "# we could use \"(^(?:(To)|(By)|(For)) .*$)|(^.+ (?:(to)|(by)|(for)) .*$)\"\n",
    "\n",
    "non_comma_matcher=DictionaryMatch(d=[','],longest_match_only=True,reverse=True)  \n",
    "regex_background_matcher=RegexMatchSpan(rgx=\"(^(?:(To)|(By)|(For)) .*$)|(^.+ (?:(to)|(by)|(for)) .+$)\",longest_match_only=True)  \n",
    "non_comma_regex_background_matcher=CandidateExtractor(Background, [ngrams], [Intersection(non_comma_matcher,regex_background_matcher)]) # why isn't it children = [non_comma_matcher,regex_background_matcher]\n",
    "extract_and_display(non_comma_regex_background_matcher)"
   ]
  },
  {
   "cell_type": "code",
   "execution_count": 6,
   "metadata": {},
   "outputs": [
    {
     "name": "stdout",
     "output_type": "stream",
     "text": [
      "Clearing existing...\n",
      "Running UDF...\n",
      "[========================================] 100%\n",
      "\n",
      "CPU times: user 9.84 s, sys: 289 ms, total: 10.1 s\n",
      "Wall time: 10.3 s\n"
     ]
    },
    {
     "data": {
      "text/markdown": [
       "**Split 0 - number of candidates extracted: 122**\n",
       "\n"
      ],
      "text/plain": [
       "<IPython.core.display.Markdown object>"
      ]
     },
     "metadata": {},
     "output_type": "display_data"
    },
    {
     "name": "stdout",
     "output_type": "stream",
     "text": [
      "Clearing existing...\n",
      "Running UDF...\n",
      "[========================================] 100%\n",
      "\n",
      "CPU times: user 1.43 s, sys: 74.7 ms, total: 1.5 s\n",
      "Wall time: 1.5 s\n"
     ]
    },
    {
     "data": {
      "text/markdown": [
       "**Split 1 - number of candidates extracted: 13**\n",
       "\n"
      ],
      "text/plain": [
       "<IPython.core.display.Markdown object>"
      ]
     },
     "metadata": {},
     "output_type": "display_data"
    },
    {
     "name": "stdout",
     "output_type": "stream",
     "text": [
      "Clearing existing...\n",
      "Running UDF...\n",
      "[========================================] 100%\n",
      "\n",
      "CPU times: user 1.46 s, sys: 78.8 ms, total: 1.54 s\n",
      "Wall time: 1.51 s\n"
     ]
    },
    {
     "data": {
      "text/markdown": [
       "**Split 2 - number of candidates extracted: 15**\n",
       "\n"
      ],
      "text/plain": [
       "<IPython.core.display.Markdown object>"
      ]
     },
     "metadata": {},
     "output_type": "display_data"
    },
    {
     "data": {
      "text/markdown": [
       "**0/122 Candidate/Span:**\t`Span(\"b'For our logic'\", sentence=3099, chars=[0,12], words=[0,2])`"
      ],
      "text/plain": [
       "<IPython.core.display.Markdown object>"
      ]
     },
     "metadata": {},
     "output_type": "display_data"
    },
    {
     "data": {
      "text/markdown": [
       "**Its parent Sentence's text:**\tFor our logic, we introduce a calculus over real arithmetic with discrete induction and a new \n"
      ],
      "text/plain": [
       "<IPython.core.display.Markdown object>"
      ]
     },
     "metadata": {},
     "output_type": "display_data"
    },
    {
     "data": {
      "text/markdown": [
       "**Its parent Document's text:**\t{'_sa_instance_state': <sqlalchemy.orm.state.InstanceState object at 0x116b68278>, 'name': '5834868425ff05a97b00c29a', 'stable_id': '5834868425ff05a97b00c29a::document:0:0', 'meta': {'file_name': '70kpaper_061418_cleaned.tsv'}, 'id': 440, 'type': 'document', 'sentences': [Sentence(Document 5834868425ff05a97b00c29a,0,b'Synopsis We generalise dynamic logic to a logic for differential-algebraic programs, ie, discrete programs augmented with first-order differential-algebraic formulas as continuous evolution constraints in addition to first-order discrete jump formulas.'), Sentence(Document 5834868425ff05a97b00c29a,1,b'These programs characterise interacting discrete and continuous dynamics of hybrid systems elegantly and uniformly, including systems with disturbance and differential-algebraic equations.'), Sentence(Document 5834868425ff05a97b00c29a,2,b'For our logic, we introduce a calculus over real arithmetic with discrete induction and a new \\n')]}"
      ],
      "text/plain": [
       "<IPython.core.display.Markdown object>"
      ]
     },
     "metadata": {},
     "output_type": "display_data"
    },
    {
     "name": "stdout",
     "output_type": "stream",
     "text": [
      "\n"
     ]
    },
    {
     "data": {
      "text/markdown": [
       "**1/122 Candidate/Span:**\t`Span(\"b'For example'\", sentence=5019, chars=[0,10], words=[0,1])`"
      ],
      "text/plain": [
       "<IPython.core.display.Markdown object>"
      ]
     },
     "metadata": {},
     "output_type": "display_data"
    },
    {
     "data": {
      "text/markdown": [
       "**Its parent Sentence's text:**\tFor example, the IEEE 802.11 wireless LAN standard power-saving mode (PSM) makes access points buffer data destined for a client and uses a periodic beacon to inform \n"
      ],
      "text/plain": [
       "<IPython.core.display.Markdown object>"
      ]
     },
     "metadata": {},
     "output_type": "display_data"
    },
    {
     "data": {
      "text/markdown": [
       "**Its parent Document's text:**\t{'_sa_instance_state': <sqlalchemy.orm.state.InstanceState object at 0x116bd9e10>, 'name': '5834868425ff05a97b00cb43', 'stable_id': '5834868425ff05a97b00cb43::document:0:0', 'meta': {'file_name': '70kpaper_061418_cleaned.tsv'}, 'id': 891, 'type': 'document', 'sentences': [Sentence(Document 5834868425ff05a97b00cb43,0,b'Abstract A significant contributor to the total energy consumed on many battery-powered mobile devices is the wireless network interface card (NIC).'), Sentence(Document 5834868425ff05a97b00cb43,1,b'Therefore, minimizing the energy consumption of the NIC can result in significant battery life improvement for a mobile device.'), Sentence(Document 5834868425ff05a97b00cb43,2,b'One way of achieving this is to transition the NIC to a lower-power sleep mode when possible'), Sentence(Document 5834868425ff05a97b00cb43,3,b'For example, the IEEE 802.11 wireless LAN standard power-saving mode (PSM) makes access points buffer data destined for a client and uses a periodic beacon to inform \\n')]}"
      ],
      "text/plain": [
       "<IPython.core.display.Markdown object>"
      ]
     },
     "metadata": {},
     "output_type": "display_data"
    },
    {
     "name": "stdout",
     "output_type": "stream",
     "text": [
      "\n"
     ]
    },
    {
     "data": {
      "text/markdown": [
       "**2/122 Candidate/Span:**\t`Span(\"b'To explore this hypothesis'\", sentence=4149, chars=[0,25], words=[0,3])`"
      ],
      "text/plain": [
       "<IPython.core.display.Markdown object>"
      ]
     },
     "metadata": {},
     "output_type": "display_data"
    },
    {
     "data": {
      "text/markdown": [
       "**Its parent Sentence's text:**\tTo explore this hypothesis, here we profiled the expression of 16 genes at eight developmental stages."
      ],
      "text/plain": [
       "<IPython.core.display.Markdown object>"
      ]
     },
     "metadata": {},
     "output_type": "display_data"
    },
    {
     "data": {
      "text/markdown": [
       "**Its parent Document's text:**\t{'_sa_instance_state': <sqlalchemy.orm.state.InstanceState object at 0x1135b36d8>, 'name': '5834868425ff05a97b00c54b', 'stable_id': '5834868425ff05a97b00c54b::document:0:0', 'meta': {'file_name': '70kpaper_061418_cleaned.tsv'}, 'id': 685, 'type': 'document', 'sentences': [Sentence(Document 5834868425ff05a97b00c54b,0,b'ABSTRACT In our companion study (Jarvis et al.[2013] J Comp Neurol.'), Sentence(Document 5834868425ff05a97b00c54b,1,b'doi:'), Sentence(Document 5834868425ff05a97b00c54b,2,b'10.1002/cne.'), Sentence(Document 5834868425ff05a97b00c54b,3,b'23404)'), Sentence(Document 5834868425ff05a97b00c54b,4,b'we used quantitative brain molecular profiling to discover that distinct subdivisions in the avian pallium above and below the ventricle and the associated mesopallium lamina have similar molecular profiles, leading to a hypothesis that they may form as continuous subdivisions around the lateral ventricle.'), Sentence(Document 5834868425ff05a97b00c54b,5,b'To explore this hypothesis, here we profiled the expression of 16 genes at eight developmental stages.'), Sentence(Document 5834868425ff05a97b00c54b,6,b'The genes included those that \\n')]}"
      ],
      "text/plain": [
       "<IPython.core.display.Markdown object>"
      ]
     },
     "metadata": {},
     "output_type": "display_data"
    },
    {
     "name": "stdout",
     "output_type": "stream",
     "text": [
      "\n"
     ]
    },
    {
     "data": {
      "text/markdown": [
       "**3/122 Candidate/Span:**\t`Span(\"b'For example'\", sentence=3893, chars=[0,10], words=[0,1])`"
      ],
      "text/plain": [
       "<IPython.core.display.Markdown object>"
      ]
     },
     "metadata": {},
     "output_type": "display_data"
    },
    {
     "data": {
      "text/markdown": [
       "**Its parent Sentence's text:**\tFor example, for visualization tools we evaluated the suitability of the level of abstraction and \n"
      ],
      "text/plain": [
       "<IPython.core.display.Markdown object>"
      ]
     },
     "metadata": {},
     "output_type": "display_data"
    },
    {
     "data": {
      "text/markdown": [
       "**Its parent Document's text:**\t{'_sa_instance_state': <sqlalchemy.orm.state.InstanceState object at 0x116c8a1d0>, 'name': '5834868425ff05a97b00def4', 'stable_id': '5834868425ff05a97b00def4::document:0:0', 'meta': {'file_name': '70kpaper_061418_cleaned.tsv'}, 'id': 624, 'type': 'document', 'sentences': [Sentence(Document 5834868425ff05a97b00def4,0,b'Abstract This chapter discusses a set of co-ordination tools (the Continuous Co-ordination (CC) tool suite that includes Ariadne, Workspace Activity Viewer (WAV), Lighthouse, Palant\\xc3\\xadr, and YANCEES) and details of our evaluation framework for these tools.'), Sentence(Document 5834868425ff05a97b00def4,1,b'Specifically, we discuss how we assessed the usefulness and the usability of these tools within the context of a predefined evaluation framework called DESMET DESMET.'), Sentence(Document 5834868425ff05a97b00def4,2,b'For example, for visualization tools we evaluated the suitability of the level of abstraction and \\n')]}"
      ],
      "text/plain": [
       "<IPython.core.display.Markdown object>"
      ]
     },
     "metadata": {},
     "output_type": "display_data"
    },
    {
     "name": "stdout",
     "output_type": "stream",
     "text": [
      "\n"
     ]
    },
    {
     "data": {
      "text/markdown": [
       "**4/122 Candidate/Span:**\t`Span(\"b'For this task'\", sentence=1616, chars=[0,12], words=[0,2])`"
      ],
      "text/plain": [
       "<IPython.core.display.Markdown object>"
      ]
     },
     "metadata": {},
     "output_type": "display_data"
    },
    {
     "data": {
      "text/markdown": [
       "**Its parent Sentence's text:**\tFor this task, we show that depth sensors are particularly informative for extracting near-field interactions of the camera wearer with his/her environment."
      ],
      "text/plain": [
       "<IPython.core.display.Markdown object>"
      ]
     },
     "metadata": {},
     "output_type": "display_data"
    },
    {
     "data": {
      "text/markdown": [
       "**Its parent Document's text:**\t{'_sa_instance_state': <sqlalchemy.orm.state.InstanceState object at 0x116b8fc50>, 'name': '5834868425ff05a97b00c3b1', 'stable_id': '5834868425ff05a97b00c3b1::document:0:0', 'meta': {'file_name': '70kpaper_061418_cleaned.tsv'}, 'id': 118, 'type': 'document', 'sentences': [Sentence(Document 5834868425ff05a97b00c3b1,0,b'Abstract: We focus on the task of everyday hand pose estimation from egocentric viewpoints.'), Sentence(Document 5834868425ff05a97b00c3b1,1,b'For this task, we show that depth sensors are particularly informative for extracting near-field interactions of the camera wearer with his/her environment.'), Sentence(Document 5834868425ff05a97b00c3b1,2,b'Despite the recent advances in full-body pose estimation using Kinect-like sensors, reliable monocular hand pose estimation in RGB-D images is still an unsolved problem.'), Sentence(Document 5834868425ff05a97b00c3b1,3,b'The problem is considerably exacerbated when analyzing hands performing daily activities from a first-person \\n')]}"
      ],
      "text/plain": [
       "<IPython.core.display.Markdown object>"
      ]
     },
     "metadata": {},
     "output_type": "display_data"
    },
    {
     "name": "stdout",
     "output_type": "stream",
     "text": [
      "\n"
     ]
    },
    {
     "data": {
      "text/markdown": [
       "**5/122 Candidate/Span:**\t`Span(\"b'To many people'\", sentence=4580, chars=[0,13], words=[0,2])`"
      ],
      "text/plain": [
       "<IPython.core.display.Markdown object>"
      ]
     },
     "metadata": {},
     "output_type": "display_data"
    },
    {
     "data": {
      "text/markdown": [
       "**Its parent Sentence's text:**\tTo many people, the Web and the Internet are synonymous."
      ],
      "text/plain": [
       "<IPython.core.display.Markdown object>"
      ]
     },
     "metadata": {},
     "output_type": "display_data"
    },
    {
     "data": {
      "text/markdown": [
       "**Its parent Document's text:**\t{'_sa_instance_state': <sqlalchemy.orm.state.InstanceState object at 0x116bfb828>, 'name': '5834868425ff05a97b00ccaf', 'stable_id': '5834868425ff05a97b00ccaf::document:0:0', 'meta': {'file_name': '70kpaper_061418_cleaned.tsv'}, 'id': 785, 'type': 'document', 'sentences': [Sentence(Document 5834868425ff05a97b00ccaf,0,b'Abstract Over the last few years, the World-Wide Web [2] has risen to dominance as a mechanism for wide-area information access.'), Sentence(Document 5834868425ff05a97b00ccaf,1,b'Each day brings new reports of the growth of the Web, and this trend shows no signs of abating any time soon.'), Sentence(Document 5834868425ff05a97b00ccaf,2,b'To many people, the Web and the Internet are synonymous.'), Sentence(Document 5834868425ff05a97b00ccaf,3,b'Unfortunately, success has exposed many limitations of the Web such as its tendency to overload the network and servers, its limited ability to control access to sensitive data, its lack of mechanisms for data consistency, and its susceptibility \\n')]}"
      ],
      "text/plain": [
       "<IPython.core.display.Markdown object>"
      ]
     },
     "metadata": {},
     "output_type": "display_data"
    },
    {
     "name": "stdout",
     "output_type": "stream",
     "text": [
      "\n"
     ]
    },
    {
     "data": {
      "text/markdown": [
       "**6/122 Candidate/Span:**\t`Span(\"b'For traffic with bandwidth guarantees'\", sentence=1188, chars=[0,36], words=[0,4])`"
      ],
      "text/plain": [
       "<IPython.core.display.Markdown object>"
      ]
     },
     "metadata": {},
     "output_type": "display_data"
    },
    {
     "data": {
      "text/markdown": [
       "**Its parent Sentence's text:**\tFor traffic with bandwidth guarantees, we found that several routing algorithms that favor paths with fewer hops perform well."
      ],
      "text/plain": [
       "<IPython.core.display.Markdown object>"
      ]
     },
     "metadata": {},
     "output_type": "display_data"
    },
    {
     "data": {
      "text/markdown": [
       "**Its parent Document's text:**\t{'_sa_instance_state': <sqlalchemy.orm.state.InstanceState object at 0x116c535c0>, 'name': '5834868425ff05a97b00d955', 'stable_id': '5834868425ff05a97b00d955::document:0:0', 'meta': {'file_name': '70kpaper_061418_cleaned.tsv'}, 'id': 39, 'type': 'document', 'sentences': [Sentence(Document 5834868425ff05a97b00d955,0,b'Abstract Quality-of-Service (QoS) routing tries to select a path that satisfies a set of QoS constraints, while also achieving overall network resource efficiency.'), Sentence(Document 5834868425ff05a97b00d955,1,b'We present initial results on QoS path selection for traffic requiring bandwidth and delay guarantees.'), Sentence(Document 5834868425ff05a97b00d955,2,b'For traffic with bandwidth guarantees, we found that several routing algorithms that favor paths with fewer hops perform well.'), Sentence(Document 5834868425ff05a97b00d955,3,b'For traffic with delay guarantees, we show that for a broad class of WFQ-like scheduling algorithms, the problem of finding a path satisfying bandwidth, delay, \\n')]}"
      ],
      "text/plain": [
       "<IPython.core.display.Markdown object>"
      ]
     },
     "metadata": {},
     "output_type": "display_data"
    },
    {
     "name": "stdout",
     "output_type": "stream",
     "text": [
      "\n"
     ]
    },
    {
     "data": {
      "text/plain": [
       "[Background(Span(\"b'For our logic'\", sentence=3099, chars=[0,12], words=[0,2])),\n",
       " Background(Span(\"b'For example'\", sentence=5019, chars=[0,10], words=[0,1])),\n",
       " Background(Span(\"b'To explore this hypothesis'\", sentence=4149, chars=[0,25], words=[0,3])),\n",
       " Background(Span(\"b'For example'\", sentence=3893, chars=[0,10], words=[0,1])),\n",
       " Background(Span(\"b'For this task'\", sentence=1616, chars=[0,12], words=[0,2])),\n",
       " Background(Span(\"b'To many people'\", sentence=4580, chars=[0,13], words=[0,2])),\n",
       " Background(Span(\"b'For traffic with bandwidth guarantees'\", sentence=1188, chars=[0,36], words=[0,4])),\n",
       " Background(Span(\"b'To communicate with a service provider'\", sentence=2518, chars=[0,37], words=[0,5])),\n",
       " Background(Span(\"b'To accomplish biologically meaningful gene selection from microarray data'\", sentence=5348, chars=[0,72], words=[0,8])),\n",
       " Background(Span(\"b'For traffic with delay guarantees'\", sentence=1189, chars=[0,32], words=[0,4])),\n",
       " Background(Span(\"b'To computationally model discourse and social positioning in metaphor'\", sentence=4333, chars=[0,68], words=[0,8])),\n",
       " Background(Span(\"b'For the NIDS case'\", sentence=4941, chars=[0,16], words=[0,3])),\n",
       " Background(Span(\"b'For example'\", sentence=5299, chars=[0,10], words=[0,1])),\n",
       " Background(Span(\"b'For primitive scalar type variables'\", sentence=4840, chars=[0,34], words=[0,4])),\n",
       " Background(Span(\"b'For the last project of this course you will have the opportunity to optimize more aggressively'\", sentence=1260, chars=[0,94], words=[0,15])),\n",
       " Background(Span(\"b'To examine whether vitamin D insufficiency is associated with severe asthma exacerbations in Puerto Rican children'\", sentence=1109, chars=[12,125], words=[2,17])),\n",
       " Background(Span(\"b'To overcome these problems'\", sentence=1355, chars=[0,25], words=[0,3])),\n",
       " Background(Span(\"b'For objects with welldefined surfaces'\", sentence=3846, chars=[0,36], words=[0,4])),\n",
       " Background(Span(\"b'By tracing back and connecting sparse representation with the K-means algorithm'\", sentence=5181, chars=[0,78], words=[0,12])),\n",
       " Background(Span(\"b'For many navigation tasks'\", sentence=2312, chars=[0,24], words=[0,3])),\n",
       " Background(Span(\"b'For those who may be considering a collaborative project that would be conducted across international borders'\", sentence=5427, chars=[0,108], words=[0,15])),\n",
       " Background(Span(\"b'To control complexity we build systems in layers.'\", sentence=2872, chars=[0,48], words=[0,8])),\n",
       " Background(Span(\"b'By FT Ulaby 1253'\", sentence=3016, chars=[26,41], words=[6,9])),\n",
       " Background(Span(\"b'For the trivial Kripke structure with empty accessibility relation and only one world s'\", sentence=4790, chars=[0,86], words=[0,13])),\n",
       " Background(Span(\"b'For the continuous dynamics'\", sentence=1746, chars=[0,26], words=[0,3])),\n",
       " Background(Span(\"b'To observe the therapeutic efficacy and safety of Haoqin Qingdan Decoction (HQD) in treating active stage of systemic lupus erythematosus (SLE).'\", sentence=2199, chars=[9,152], words=[1,26])),\n",
       " Background(Span(\"b'By MM Veloso and D. Nardi 1464'\", sentence=3017, chars=[56,85], words=[7,13])),\n",
       " Background(Span(\"b'For most of the problems considered a lower bound of O (N log N) is shown.'\", sentence=1097, chars=[0,73], words=[0,18])),\n",
       " Background(Span(\"b'For more information'\", sentence=3085, chars=[0,19], words=[0,2])),\n",
       " Background(Span(\"b'For type-safe programming languages like C0'\", sentence=3102, chars=[0,42], words=[0,7])),\n",
       " Background(Span(\"b'For example'\", sentence=4975, chars=[0,10], words=[0,1])),\n",
       " Background(Span(\"b'To address these limitations'\", sentence=4872, chars=[0,27], words=[0,3])),\n",
       " Background(Span(\"b'To our knowledge'\", sentence=1842, chars=[0,15], words=[0,2])),\n",
       " Background(Span(\"b'For \\xcf\\x84= 0.5 this is an estimate of the median.'\", sentence=2280, chars=[0,44], words=[0,10])),\n",
       " Background(Span(\"b\"To Incentivize Centers\\\\nTo Enter Their \\xe2\\x80\\x9cEasy-to-Match\\xe2\\x80\\x9d Pairs.'\"\", sentence=3863, chars=[0,61], words=[0,14])),\n",
       " Background(Span(\"b'For all of them the best currently-known upper bound is O (N2) or worse.'\", sentence=1098, chars=[0,71], words=[0,18])),\n",
       " Background(Span(\"b'For details on setting Tps up on your system'\", sentence=3201, chars=[0,43], words=[0,8])),\n",
       " Background(Span(\"b'For each combination of subscriber and rate plan a first expression is defined that includes a unique variable and a cost associated with assigning the subscriber to the rate plan for at least one of the time intervals.'\", sentence=3881, chars=[0,218], words=[0,38])),\n",
       " Background(Span(\"b'For example'\", sentence=1357, chars=[0,10], words=[0,1])),\n",
       " Background(Span(\"b'To achieve maximum security'\", sentence=3625, chars=[0,26], words=[0,3])),\n",
       " Background(Span(\"b'For a graph with $ n $ vertices and $ m $ edges the algorithm runs in $ O (m\\\\\\\\log n) $ time.'\", sentence=2957, chars=[0,91], words=[0,25])),\n",
       " Background(Span(\"b'To infer useful information from failed demonstrations'\", sentence=4962, chars=[0,53], words=[0,6])),\n",
       " Background(Span(\"b\"By analyzing data structures' behavior and their interaction with the rest of the application on the underlying architecture\"\", sentence=1703, chars=[0,123], words=[0,18])),\n",
       " Background(Span(\"b'For autonomously navigating vehicles'\", sentence=3089, chars=[0,35], words=[0,3])),\n",
       " Background(Span(\"b'For the unsteady plane flows of the phreatic aquifer'\", sentence=4886, chars=[0,51], words=[0,8])),\n",
       " Background(Span(\"b'To describe the prevalence of retinal vein occlusion (RVO) and its risk factors in a multi-ethnic Asian population.'\", sentence=2729, chars=[18,132], words=[3,25])),\n",
       " Background(Span(\"b'For example'\", sentence=4014, chars=[0,10], words=[0,1])),\n",
       " Background(Span(\"b'To govern such systems'\", sentence=3955, chars=[0,21], words=[0,3])),\n",
       " Background(Span(\"b'To guarantee network availability and security'\", sentence=4264, chars=[0,45], words=[0,5])),\n",
       " Background(Span(\"b'For that'\", sentence=4829, chars=[0,7], words=[0,1])),\n",
       " Background(Span(\"b'For instance we can optimize by constant propagation x= 1;'\", sentence=4844, chars=[0,57], words=[0,10])),\n",
       " Background(Span(\"b'To handle such tasks'\", sentence=4487, chars=[0,19], words=[0,3])),\n",
       " Background(Span(\"b'To this end'\", sentence=3939, chars=[0,10], words=[0,2])),\n",
       " Background(Span(\"b'By careful systems design and by exploiting the power law behavior of the data to maximize CPU cache bandwidth we are able to \\n'\", sentence=4946, chars=[0,126], words=[0,23])),\n",
       " Background(Span(\"b'By transforming the detection distances to areas'\", sentence=5125, chars=[0,47], words=[0,6])),\n",
       " Background(Span(\"b'To detect the loss of heterozygosity (LOH) of circulating DNA in the plasma of patients with hepatocellular carcinoma (HCC)'\", sentence=4688, chars=[12,134], words=[2,24])),\n",
       " Background(Span(\"b'For the free parameters of the system'\", sentence=3485, chars=[0,36], words=[0,6])),\n",
       " Background(Span(\"b'By JE Brittain'\", sentence=3020, chars=[0,13], words=[0,2])),\n",
       " Background(Span(\"b'To circumvent this impossibility result'\", sentence=2575, chars=[0,38], words=[0,4])),\n",
       " Background(Span(\"b'By including the sample mean as the sole statistic when K= 1'\", sentence=1561, chars=[0,59], words=[0,11])),\n",
       " Background(Span(\"b'For each program \\xce\\xb1'\", sentence=1163, chars=[0,17], words=[0,3])),\n",
       " Background(Span(\"b'To address these limitations'\", sentence=3364, chars=[0,27], words=[0,3])),\n",
       " Background(Span(\"b'To improve the stability'\", sentence=2175, chars=[0,23], words=[0,3])),\n",
       " Background(Span(\"b'To discuss to how develop the experience on the treatment of intracranial aneurysms in the grass-roots hospital.'\", sentence=4427, chars=[10,121], words=[1,20])),\n",
       " Background(Span(\"b'For some approaches'\", sentence=5291, chars=[0,18], words=[0,2])),\n",
       " Background(Span(\"b'To the degree that geometric perception consumes time'\", sentence=3092, chars=[0,52], words=[0,7])),\n",
       " Background(Span(\"b'To overcome this lack of training data for certain classes'\", sentence=4831, chars=[0,57], words=[0,9])),\n",
       " Background(Span(\"b'By letting K= 0'\", sentence=1562, chars=[0,14], words=[0,3])),\n",
       " Background(Span(\"b'For example: 0= \\xcf\\xb5'\", sentence=2831, chars=[66,82], words=[12,16])),\n",
       " Background(Span(\"b'For more information'\", sentence=2160, chars=[0,19], words=[0,2])),\n",
       " Background(Span(\"b'For a sequential language'\", sentence=1401, chars=[0,24], words=[0,3])),\n",
       " Background(Span(\"b'For all xt Dm (\\xc2\\xa3) with< p (x)# 0'\", sentence=4187, chars=[0,31], words=[0,14])),\n",
       " Background(Span(\"b'For example'\", sentence=5030, chars=[0,10], words=[0,1])),\n",
       " Background(Span(\"b'For example'\", sentence=2396, chars=[0,10], words=[0,1])),\n",
       " Background(Span(\"b'To evaluate'\", sentence=3075, chars=[0,10], words=[0,1])),\n",
       " Background(Span(\"b'To be able to understand the emerging situation'\", sentence=4239, chars=[0,46], words=[0,7])),\n",
       " Background(Span(\"b'For one'\", sentence=4600, chars=[0,6], words=[0,1])),\n",
       " Background(Span(\"b'For now'\", sentence=5014, chars=[0,6], words=[0,1])),\n",
       " Background(Span(\"b'For example'\", sentence=3038, chars=[0,10], words=[0,1])),\n",
       " Background(Span(\"b'To extract the features'\", sentence=4224, chars=[0,22], words=[0,3])),\n",
       " Background(Span(\"b'To make matters worse'\", sentence=2749, chars=[0,20], words=[0,3])),\n",
       " Background(Span(\"b'To address this issue'\", sentence=2978, chars=[0,20], words=[0,3])),\n",
       " Background(Span(\"b'To address this question we adopt a novel algorithmic approach'\", sentence=4662, chars=[0,61], words=[0,9])),\n",
       " Background(Span(\"b'To meet these growing demands'\", sentence=2258, chars=[0,28], words=[0,4])),\n",
       " Background(Span(\"b'For robots to get integrated in daily tasks assisting humans'\", sentence=3351, chars=[9,68], words=[1,10])),\n",
       " Background(Span(\"b'For the 5 selected planting densities'\", sentence=4390, chars=[0,36], words=[0,5])),\n",
       " Background(Span(\"b'For example'\", sentence=4190, chars=[0,10], words=[0,1])),\n",
       " Background(Span(\"b'To achieve movement towards a negotiated settlement'\", sentence=4767, chars=[0,50], words=[0,6])),\n",
       " Background(Span(\"b'By doing so'\", sentence=4062, chars=[0,10], words=[0,2])),\n",
       " Background(Span(\"b'To resolve these issues'\", sentence=1802, chars=[0,22], words=[0,3])),\n",
       " Background(Span(\"b'To date'\", sentence=4493, chars=[0,6], words=[0,1])),\n",
       " Background(Span(\"b'To achieve dynamic behavior'\", sentence=1986, chars=[0,26], words=[0,3])),\n",
       " Background(Span(\"b'For these models'\", sentence=1773, chars=[0,15], words=[0,2])),\n",
       " Background(Span(\"b'To this end'\", sentence=5344, chars=[0,10], words=[0,2])),\n",
       " Background(Span(\"b'For example'\", sentence=4063, chars=[0,10], words=[0,1])),\n",
       " Background(Span(\"b'To enable model selection'\", sentence=2715, chars=[0,24], words=[0,3])),\n",
       " Background(Span(\"b'For example'\", sentence=3180, chars=[0,10], words=[0,1])),\n",
       " Background(Span(\"b'For certain classes of tasks DFS ordering does not exploit the problem structure as compared to pseudo-tree ordering [3].'\", sentence=1914, chars=[0,120], words=[0,23])),\n",
       " Background(Span(\"b'For example'\", sentence=2994, chars=[0,10], words=[0,1])),\n",
       " Background(Span(\"b'To achieve this level of common understanding policies should be expressed in terms of shared ontologies that are based \\n'\", sentence=4174, chars=[0,120], words=[0,19])),\n",
       " Background(Span(\"b'For example'\", sentence=3563, chars=[0,10], words=[0,1])),\n",
       " Background(Span(\"b'To evaluate the acceptability'\", sentence=5066, chars=[12,40], words=[2,5])),\n",
       " Background(Span(\"b'By blocking an appropriate pulley'\", sentence=1582, chars=[0,32], words=[0,4])),\n",
       " Background(Span(\"b'To address this problem'\", sentence=2095, chars=[0,22], words=[0,3])),\n",
       " Background(Span(\"b'To support this claim'\", sentence=2996, chars=[0,20], words=[0,3])),\n",
       " Background(Span(\"b'For this purpose the Yago ontology would be helpful as well.\\n'\", sentence=4228, chars=[0,60], words=[0,12])),\n",
       " Background(Span(\"b'To this end'\", sentence=5160, chars=[0,10], words=[0,2])),\n",
       " Background(Span(\"b'For further information'\", sentence=1468, chars=[0,22], words=[0,2])),\n",
       " Background(Span(\"b'By contrast'\", sentence=5051, chars=[0,10], words=[0,1])),\n",
       " Background(Span(\"b'To achieve this'\", sentence=2517, chars=[0,14], words=[0,2])),\n",
       " Background(Span(\"b'For example'\", sentence=4837, chars=[0,10], words=[0,1])),\n",
       " Background(Span(\"b'To overcome this issue'\", sentence=3816, chars=[0,21], words=[0,3])),\n",
       " Background(Span(\"b'For our combined logic'\", sentence=4741, chars=[0,21], words=[0,3])),\n",
       " Background(Span(\"b'By considering the statistical properties of the update variables used during the optimization (eg gradients)'\", sentence=4051, chars=[0,108], words=[0,16])),\n",
       " Background(Span(\"b'To do so'\", sentence=1887, chars=[0,7], words=[0,2])),\n",
       " Background(Span(\"b'To be specific'\", sentence=5182, chars=[0,13], words=[0,2])),\n",
       " Background(Span(\"b'By the means of this paper we intend to introduce a novel method of personality mining from social media data called \\xe2\\x80\\x9cAdjectival-marker Technique\\xe2\\x80\\x9d\\n'\", sentence=2852, chars=[0,146], words=[0,27])),\n",
       " Background(Span(\"b'For example'\", sentence=2984, chars=[0,10], words=[0,1])),\n",
       " Background(Span(\"b'To detect the level of Toll-like receptor 2 (TLR2) in CD8 (+) T cells of chronic HBV infected patients without antiviral treatment.'\", sentence=2335, chars=[10,140], words=[1,29])),\n",
       " Background(Span(\"b'For more information'\", sentence=1740, chars=[0,19], words=[0,2])),\n",
       " Background(Span(\"b'For example'\", sentence=4808, chars=[0,10], words=[0,1])),\n",
       " Background(Span(\"b'To observe influence of of Dihuang Yizi (DHYZ) on serotonin 1'\", sentence=4495, chars=[0,60], words=[0,12]))]"
      ]
     },
     "execution_count": 6,
     "metadata": {},
     "output_type": "execute_result"
    }
   ],
   "source": [
    "# Compound Matcher Example 3 (Regex-based):\n",
    "# E.g. to match either begining To/By/For or middle to/by/or, BUT ALSO excludes \"according to\", \"to have\", etc. \n",
    "\n",
    "non_comma_matcher=DictionaryMatch(d=[','],longest_match_only=True,reverse=True)  \n",
    "regex_background_matcher=RegexMatchSpan(rgx=\"(^(?:(To)|(By)|(For)) .*$)|(^(?!(according)|(According))+ (?:(to)|(by)|(for)) (?!(have))+$)\",longest_match_only=True,ignore_case=False)  \n",
    "non_comma_regex_background_matcher=CandidateExtractor(Background, [ngrams], [Intersection(non_comma_matcher,regex_background_matcher)])\n",
    "extract_and_display(non_comma_regex_background_matcher)"
   ]
  },
  {
   "cell_type": "markdown",
   "metadata": {},
   "source": [
    "The above three simple compound matchers help us familiarize with Snorkel syntax, next we will carve the matchers more carefully. We look back to the 70K paper data, and identified the following signal phrases. These phrases then will become our labelling function. \n",
    "\n",
    "1. Background:    `\"basic problem\", \"a key issue\", \"how do\", \"Existing\", \"how [adj.] are XXX, Researchers\", \"Increasingly\", \"over the last few years\", \"Recent trends\", \"have been\", \"has been\", \"Little is known\", \"One major goal\", \"advances in\"`\n",
    "\n",
    "2. Mechanism:    `\"grounded in\", \"draw inspiration from\"`\n",
    "\n",
    "3. Method:    `\"propose\", \"This paper/we develops/adopts/describes/presents/examines/extends/studies/validated/conducted\", \"empirical research\", \"our focus is\"`\n",
    "\n",
    "4. Finding:    `\"We find/found that\", \"We report\", \"results/experiment show that\", \"results suggest\", \"demonstrate(s)/reveal(s)/outperform(s/ed)\", `\n",
    "\n",
    "Also perhaps we could have a reverse matcher (`Spam Filter`) that filters out lecture/book abstract: `\"This book\", \"this lecture\"`"
   ]
  },
  {
   "cell_type": "code",
   "execution_count": 7,
   "metadata": {},
   "outputs": [
    {
     "name": "stdout",
     "output_type": "stream",
     "text": [
      "Clearing existing...\n",
      "Running UDF...\n",
      "[========================================] 100%\n",
      "\n",
      "CPU times: user 10.1 s, sys: 287 ms, total: 10.4 s\n",
      "Wall time: 10.8 s\n"
     ]
    },
    {
     "data": {
      "text/markdown": [
       "**Split 0 - number of candidates extracted: 0**\n",
       "\n"
      ],
      "text/plain": [
       "<IPython.core.display.Markdown object>"
      ]
     },
     "metadata": {},
     "output_type": "display_data"
    },
    {
     "name": "stdout",
     "output_type": "stream",
     "text": [
      "Clearing existing...\n",
      "Running UDF...\n",
      "[========================================] 100%\n",
      "\n",
      "CPU times: user 1.6 s, sys: 82.6 ms, total: 1.68 s\n",
      "Wall time: 1.67 s\n"
     ]
    },
    {
     "data": {
      "text/markdown": [
       "**Split 1 - number of candidates extracted: 0**\n",
       "\n"
      ],
      "text/plain": [
       "<IPython.core.display.Markdown object>"
      ]
     },
     "metadata": {},
     "output_type": "display_data"
    },
    {
     "name": "stdout",
     "output_type": "stream",
     "text": [
      "Clearing existing...\n",
      "Running UDF...\n",
      "[========================================] 100%\n",
      "\n",
      "CPU times: user 1.45 s, sys: 96.7 ms, total: 1.54 s\n",
      "Wall time: 1.54 s\n"
     ]
    },
    {
     "data": {
      "text/markdown": [
       "**Split 2 - number of candidates extracted: 0**\n",
       "\n"
      ],
      "text/plain": [
       "<IPython.core.display.Markdown object>"
      ]
     },
     "metadata": {},
     "output_type": "display_data"
    },
    {
     "ename": "IndexError",
     "evalue": "list index out of range",
     "output_type": "error",
     "traceback": [
      "\u001b[0;31m---------------------------------------------------------------------------\u001b[0m",
      "\u001b[0;31mIndexError\u001b[0m                                Traceback (most recent call last)",
      "\u001b[0;32m<ipython-input-7-5ab8bc406f6a>\u001b[0m in \u001b[0;36m<module>\u001b[0;34m()\u001b[0m\n\u001b[1;32m      5\u001b[0m \u001b[0mdict_background_matcher2\u001b[0m\u001b[0;34m=\u001b[0m\u001b[0mDictionaryMatch\u001b[0m\u001b[0;34m(\u001b[0m\u001b[0md\u001b[0m\u001b[0;34m=\u001b[0m\u001b[0;34m[\u001b[0m\u001b[0;34m'previous'\u001b[0m\u001b[0;34m,\u001b[0m\u001b[0;34m'motivated'\u001b[0m\u001b[0;34m,\u001b[0m\u001b[0;34m'recent'\u001b[0m\u001b[0;34m,\u001b[0m\u001b[0;34m'widely'\u001b[0m\u001b[0;34m,\u001b[0m\u001b[0;34m'increasingly'\u001b[0m\u001b[0;34m,\u001b[0m\u001b[0;34m'existing'\u001b[0m\u001b[0;34m,\u001b[0m\u001b[0;34m'researchers'\u001b[0m\u001b[0;34m,\u001b[0m\u001b[0;34m'advances'\u001b[0m\u001b[0;34m,\u001b[0m\u001b[0;34m'trends'\u001b[0m\u001b[0;34m]\u001b[0m\u001b[0;34m,\u001b[0m\u001b[0mignore_case\u001b[0m\u001b[0;34m=\u001b[0m\u001b[0;32mTrue\u001b[0m\u001b[0;34m,\u001b[0m\u001b[0mlongest_match_only\u001b[0m\u001b[0;34m=\u001b[0m\u001b[0;32mTrue\u001b[0m\u001b[0;34m)\u001b[0m\u001b[0;34m\u001b[0m\u001b[0m\n\u001b[1;32m      6\u001b[0m \u001b[0mintersected_background_matcher\u001b[0m\u001b[0;34m=\u001b[0m\u001b[0mCandidateExtractor\u001b[0m\u001b[0;34m(\u001b[0m\u001b[0mBackground\u001b[0m\u001b[0;34m,\u001b[0m \u001b[0;34m[\u001b[0m\u001b[0mngrams\u001b[0m\u001b[0;34m]\u001b[0m\u001b[0;34m,\u001b[0m \u001b[0;34m[\u001b[0m\u001b[0mIntersection\u001b[0m\u001b[0;34m(\u001b[0m\u001b[0mnon_comma_matcher\u001b[0m\u001b[0;34m,\u001b[0m\u001b[0mregex_background_matcher\u001b[0m\u001b[0;34m,\u001b[0m\u001b[0mdict_background_matcher2\u001b[0m\u001b[0;34m)\u001b[0m\u001b[0;34m]\u001b[0m\u001b[0;34m)\u001b[0m\u001b[0;34m\u001b[0m\u001b[0m\n\u001b[0;32m----> 7\u001b[0;31m \u001b[0mcands\u001b[0m\u001b[0;34m=\u001b[0m\u001b[0mextract_and_display\u001b[0m\u001b[0;34m(\u001b[0m\u001b[0mintersected_background_matcher\u001b[0m\u001b[0;34m)\u001b[0m\u001b[0;34m\u001b[0m\u001b[0m\n\u001b[0m\u001b[1;32m      8\u001b[0m \u001b[0;34m\u001b[0m\u001b[0m\n",
      "\u001b[0;32m<ipython-input-3-42590d929e51>\u001b[0m in \u001b[0;36mextract_and_display\u001b[0;34m(matcher)\u001b[0m\n\u001b[1;32m     16\u001b[0m     \u001b[0mdocument_list\u001b[0m\u001b[0;34m=\u001b[0m\u001b[0mlist\u001b[0m\u001b[0;34m(\u001b[0m\u001b[0;34m)\u001b[0m\u001b[0;34m\u001b[0m\u001b[0m\n\u001b[1;32m     17\u001b[0m     \u001b[0;32mfor\u001b[0m \u001b[0mi\u001b[0m \u001b[0;32min\u001b[0m \u001b[0mrange\u001b[0m\u001b[0;34m(\u001b[0m\u001b[0;36m7\u001b[0m\u001b[0;34m)\u001b[0m\u001b[0;34m:\u001b[0m \u001b[0;31m# to print all cands, range(len(cands))\u001b[0m\u001b[0;34m\u001b[0m\u001b[0m\n\u001b[0;32m---> 18\u001b[0;31m         \u001b[0mprintmd\u001b[0m\u001b[0;34m(\u001b[0m\u001b[0;34m\"**\"\u001b[0m\u001b[0;34m+\u001b[0m\u001b[0mstr\u001b[0m\u001b[0;34m(\u001b[0m\u001b[0mi\u001b[0m\u001b[0;34m)\u001b[0m\u001b[0;34m+\u001b[0m\u001b[0;34m\"/\"\u001b[0m\u001b[0;34m+\u001b[0m\u001b[0mstr\u001b[0m\u001b[0;34m(\u001b[0m\u001b[0mlen\u001b[0m\u001b[0;34m(\u001b[0m\u001b[0mcands\u001b[0m\u001b[0;34m)\u001b[0m\u001b[0;34m)\u001b[0m\u001b[0;34m+\u001b[0m\u001b[0;34m\" Candidate/Span:**\\t`\"\u001b[0m\u001b[0;34m+\u001b[0m\u001b[0mstr\u001b[0m\u001b[0;34m(\u001b[0m\u001b[0mcands\u001b[0m\u001b[0;34m[\u001b[0m\u001b[0mi\u001b[0m\u001b[0;34m]\u001b[0m\u001b[0;34m.\u001b[0m\u001b[0mbackground_cue\u001b[0m\u001b[0;34m)\u001b[0m\u001b[0;34m+\u001b[0m\u001b[0;34m\"`\"\u001b[0m\u001b[0;34m)\u001b[0m\u001b[0;34m\u001b[0m\u001b[0m\n\u001b[0m\u001b[1;32m     19\u001b[0m         \u001b[0mprintmd\u001b[0m\u001b[0;34m(\u001b[0m\u001b[0;34m\"**Its parent Sentence's text:**\\t\"\u001b[0m\u001b[0;34m+\u001b[0m\u001b[0mstr\u001b[0m\u001b[0;34m(\u001b[0m\u001b[0mcands\u001b[0m\u001b[0;34m[\u001b[0m\u001b[0mi\u001b[0m\u001b[0;34m]\u001b[0m\u001b[0;34m.\u001b[0m\u001b[0mget_parent\u001b[0m\u001b[0;34m(\u001b[0m\u001b[0;34m)\u001b[0m\u001b[0;34m.\u001b[0m\u001b[0mtext\u001b[0m\u001b[0;34m)\u001b[0m\u001b[0;34m)\u001b[0m\u001b[0;34m\u001b[0m\u001b[0m\n\u001b[1;32m     20\u001b[0m         \u001b[0mprintmd\u001b[0m\u001b[0;34m(\u001b[0m\u001b[0;34m\"**Its parent Document's text:**\\t\"\u001b[0m\u001b[0;34m+\u001b[0m\u001b[0mstr\u001b[0m\u001b[0;34m(\u001b[0m\u001b[0mcands\u001b[0m\u001b[0;34m[\u001b[0m\u001b[0mi\u001b[0m\u001b[0;34m]\u001b[0m\u001b[0;34m.\u001b[0m\u001b[0mget_parent\u001b[0m\u001b[0;34m(\u001b[0m\u001b[0;34m)\u001b[0m\u001b[0;34m.\u001b[0m\u001b[0mget_parent\u001b[0m\u001b[0;34m(\u001b[0m\u001b[0;34m)\u001b[0m\u001b[0;34m.\u001b[0m\u001b[0m__dict__\u001b[0m\u001b[0;34m)\u001b[0m\u001b[0;34m)\u001b[0m\u001b[0;34m\u001b[0m\u001b[0m\n",
      "\u001b[0;31mIndexError\u001b[0m: list index out of range"
     ]
    }
   ],
   "source": [
    "# Compound Matcher Example 4 (Regex-based):\n",
    "# comma-separated + To/By/For or middle to/by/or + background-related dict words\n",
    "\n",
    "regex_background_matcher=RegexMatchSpan(rgx=\"(^(?:(To)|(By)|(For)) .*$)|(^(?!(according)|(According))+ (?:(in)|(to)|(by)|(for)) (?!(have))+$)\",longest_match_only=True,ignore_case=False)  \n",
    "dict_background_matcher2=DictionaryMatch(d=['previous','motivated','recent','widely','increasingly','existing','researchers','advances','trends'],ignore_case=True,longest_match_only=True) \n",
    "intersected_background_matcher=CandidateExtractor(Background, [ngrams], [Intersection(non_comma_matcher,regex_background_matcher,dict_background_matcher2)])\n",
    "cands=extract_and_display(intersected_background_matcher)\n",
    "\n"
   ]
  },
  {
   "cell_type": "markdown",
   "metadata": {
    "collapsed": true
   },
   "source": [
    "\n",
    "### Stopped here as of Mon 06/25 1:36 am. More to come ... ###\n",
    "\n",
    "## TODO List"
   ]
  },
  {
   "cell_type": "code",
   "execution_count": null,
   "metadata": {},
   "outputs": [],
   "source": []
  },
  {
   "cell_type": "code",
   "execution_count": null,
   "metadata": {
    "collapsed": true
   },
   "outputs": [],
   "source": []
  },
  {
   "cell_type": "code",
   "execution_count": null,
   "metadata": {
    "collapsed": true
   },
   "outputs": [],
   "source": []
  },
  {
   "cell_type": "code",
   "execution_count": null,
   "metadata": {
    "collapsed": true
   },
   "outputs": [],
   "source": []
  },
  {
   "cell_type": "code",
   "execution_count": null,
   "metadata": {
    "collapsed": true
   },
   "outputs": [],
   "source": []
  },
  {
   "cell_type": "code",
   "execution_count": null,
   "metadata": {
    "collapsed": true
   },
   "outputs": [],
   "source": []
  },
  {
   "cell_type": "code",
   "execution_count": null,
   "metadata": {
    "collapsed": true
   },
   "outputs": [],
   "source": []
  },
  {
   "cell_type": "code",
   "execution_count": null,
   "metadata": {
    "collapsed": true
   },
   "outputs": [],
   "source": []
  }
 ],
 "metadata": {
  "kernelspec": {
   "display_name": "Python 3",
   "language": "python",
   "name": "python3"
  },
  "language_info": {
   "codemirror_mode": {
    "name": "ipython",
    "version": 3
   },
   "file_extension": ".py",
   "mimetype": "text/x-python",
   "name": "python",
   "nbconvert_exporter": "python",
   "pygments_lexer": "ipython3",
   "version": "3.6.4"
  }
 },
 "nbformat": 4,
 "nbformat_minor": 2
}
