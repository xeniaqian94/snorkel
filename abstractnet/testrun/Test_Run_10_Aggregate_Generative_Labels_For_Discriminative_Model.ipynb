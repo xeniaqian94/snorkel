{
 "cells": [
  {
   "cell_type": "markdown",
   "metadata": {},
   "source": [
    "# Test Run 10 Aggregate Generative Labels for Discriminative Modeling\n",
    "\n",
    "This notebook continues from test run 9. Specifically, we did 2 things:\n",
    "\n",
    "1. aggregate the generative labels for each train set doc, such that each word in a train doc will have its label as one of Background (BG), Purpose (PP), Mechanism (MN), Method (MT), and Finding (FD). \n",
    "\n",
    "2. Re-segment `train_segments` by clauses using `non_comma_matcher`, instead of sentences, which is a bug adopted from the `dev_segments` (who used `non_tilde_matcher`). In more detail, we modified `extract_and_display`, which is slightly different from earlier version.\n",
    "\n",
    "3. Re-aggregate data into a word-level `.xlsx` file, where each row is a token in a document. It should have columns like `winningHighlight`, `paperID`, `globalPsn`,`content`. Punctuations does NOT have to be splitted from its token. The `xlsx` file will be used by the `make-tagging-data.ipynb` notebook in `BiLSTM_tagger/data` repository. "
   ]
  },
  {
   "cell_type": "code",
   "execution_count": 1,
   "metadata": {},
   "outputs": [
    {
     "data": {
      "text/html": [
       "<style>.container { width:85% !important; }</style>"
      ],
      "text/plain": [
       "<IPython.core.display.HTML object>"
      ]
     },
     "metadata": {},
     "output_type": "display_data"
    }
   ],
   "source": [
    "from IPython.core.display import display, HTML\n",
    "display(HTML(\"<style>.container { width:85% !important; }</style>\"))\n",
    "debug_mode=1 # if not in debug mode, please set debug_mode=0, find more info about debug mode in test run 9 maybe?\n",
    "%load_ext autoreload\n",
    "%autoreload 2\n",
    "%matplotlib inline\n",
    "import os"
   ]
  },
  {
   "cell_type": "markdown",
   "metadata": {},
   "source": [
    "### Section 1: Loading documents and train/dev/test segments. \n",
    "\n",
    "#### The following two celsl should load in 8014 papers if they haven't been loaded. "
   ]
  },
  {
   "cell_type": "code",
   "execution_count": 2,
   "metadata": {},
   "outputs": [],
   "source": [
    "# from snorkel import SnorkelSession\n",
    "# from snorkel.parser import TSVDocPreprocessor\n",
    "# session = SnorkelSession()\n",
    "\n",
    "# # # Here, we just set how many documents we'll process for automatic testing- you can safely ignore this!\n",
    "# n_docs = 9000 # this is the upper limit of number of docs\n",
    "# doc_preprocessor = TSVDocPreprocessor('data/70kpaper_061418_cleaned_noBookLecture_10cscw_2k_order_preserving.tsv', encoding=\"utf-8\",max_docs=n_docs)\n",
    "\n",
    "# from snorkel.parser.spacy_parser import Spacy\n",
    "# from snorkel.parser import CorpusParser\n",
    "\n",
    "\n",
    "# # corpus_parser = CorpusParser(parser=Spacy())\n",
    "# # %time corpus_parser.apply(doc_preprocessor, count=n_docs)\n",
    "\n",
    "\n",
    "# from snorkel.models import Document, Sentence  # defined in context.py file\n",
    "\n",
    "# print(\"Documents:\", session.query(Document).count())\n",
    "# print(\"Sentences:\", session.query(Sentence).count())"
   ]
  },
  {
   "cell_type": "code",
   "execution_count": 3,
   "metadata": {},
   "outputs": [
    {
     "name": "stdout",
     "output_type": "stream",
     "text": [
      "Documents: 8014\n",
      "Sentences: 24281\n",
      "The longest sentence has 563 tokens.\n",
      "train_doc_set length 5560\n",
      "dev_doc_set length 383\n",
      "dev_sents length 835 dev_doc_set size 383 avg n_sent per doc 2.180\n",
      "test_doc_set length 2071\n",
      "test_sents length 4566 test_doc_set size 2071 avg n_sent per doc 2.205\n"
     ]
    }
   ],
   "source": [
    "from snorkel import SnorkelSession\n",
    "from snorkel.parser.spacy_parser import Spacy\n",
    "from snorkel.parser import CorpusParser\n",
    "from snorkel.models import Document, Sentence\n",
    "\n",
    "session = SnorkelSession()\n",
    "print(\"Documents:\", session.query(Document).count())\n",
    "print(\"Sentences:\", session.query(Sentence).count())\n",
    "\n",
    "docs = session.query(Document).all()\n",
    "sents = session.query(Sentence).all()  # get all sentences from snorkel.db\n",
    "n_max_corpus=0\n",
    "for sent in sents:\n",
    "    n_max_corpus=max(n_max_corpus,len(sent.words))\n",
    "print(\"The longest sentence has \"+str(n_max_corpus)+\" tokens.\")\n",
    "\n",
    "train_sents = set()\n",
    "dev_sents   = set()\n",
    "test_sents  = set()\n",
    "\n",
    "train_doc_set=set()\n",
    "dev_doc_set = set()\n",
    "test_doc_set = set()\n",
    "for i, doc in enumerate(docs):\n",
    "    for s in doc.sentences:\n",
    "        if doc.name[:7]==\"2K_dev_\":\n",
    "            dev_sents.add(s)\n",
    "            dev_doc_set.add(doc.name)\n",
    "        elif doc.name[:8]==\"2K_test_\":\n",
    "            test_sents.add(s)\n",
    "            test_doc_set.add(doc.name)\n",
    "        else:\n",
    "            train_sents.add(s)\n",
    "            train_doc_set.add(doc.name)\n",
    "print(\"train_doc_set length\",len(train_doc_set))\n",
    "print(\"dev_doc_set length\",len(dev_doc_set))\n",
    "print(\"dev_sents length\", len(dev_sents),\"dev_doc_set size\", len(dev_doc_set), \"avg n_sent per doc\",\"%.3f\"%(float(len(dev_sents))/float(len(dev_doc_set))))\n",
    "print(\"test_doc_set length\",len(test_doc_set))\n",
    "print(\"test_sents length\", len(test_sents),\"test_doc_set size\", len(test_doc_set), \"avg n_sent per doc\",\"%.3f\"%(float(len(test_sents))/float(len(test_doc_set))))"
   ]
  },
  {
   "cell_type": "code",
   "execution_count": 4,
   "metadata": {},
   "outputs": [
    {
     "name": "stdout",
     "output_type": "stream",
     "text": [
      "len(train_segments) 35228\n",
      "len(dev_segments) 3834\n",
      "len(test_segments) 19993\n"
     ]
    }
   ],
   "source": [
    "from snorkel.models import candidate_subclass\n",
    "from snorkel.candidates import Ngrams, CandidateExtractor\n",
    "from snorkel.matchers import *\n",
    "\n",
    "from IPython.display import Markdown, display\n",
    "def printmd(string):\n",
    "    display(Markdown(string))\n",
    "    \n",
    "### NOTE: this extract_and_display is different from earlier test run notebook's version, whrere selected_split=0 will only extract train_segments. \n",
    "def extract_and_display(matcher,candidate_class,candidate_class_name,train_breakdown_map=None,dev_doc_breakdown_map=None,selected_split=0,is_print=True):  # split over train/dev/test but returns only train set\n",
    "    for (i, sents) in ([(0,train_sents)] if selected_split==0 else ([(2,test_sents)] if selected_split==2 else [(1,dev_sents)])):\n",
    "        %time matcher.apply(sents, split=i)\n",
    "        printmd(\"**Split \"+str(i)+\" - number of candidates extracted: \"+str(session.query(candidate_class).filter(candidate_class.split == i).count())+\"**\\n\\n\")\n",
    "    \n",
    "    train_cands = session.query(candidate_class).filter(candidate_class.split == selected_split).all()\n",
    "    if is_print:\n",
    "        for i in range(min(4,len(train_cands))): # to print at most 4 cands \n",
    "            printmd(\"**\"+str(i)+\"/\"+str(len(train_cands))+\" Candidate/Span:**\\t`\"+str(train_cands[i])+\"`\")\n",
    "            printmd(\"**Its parent Sentence's text:**\\t\"+str(train_cands[i].get_parent().text))\n",
    "            printmd(\"**Its parent Document's text:**\\t\"+str(train_cands[i].get_parent().get_parent().__dict__))\n",
    "            print() \n",
    "        \n",
    "    for cand in train_cands:\n",
    "        doc_name=cand.get_parent().get_parent().name\n",
    "        if doc_name not in train_breakdown_map:\n",
    "            train_breakdown_map[doc_name]=dict()\n",
    "        if candidate_class_name not in train_breakdown_map[doc_name]:\n",
    "            train_breakdown_map[doc_name][candidate_class_name]=[]\n",
    "        train_breakdown_map[doc_name][candidate_class_name]+=[cand]\n",
    "        \n",
    "    dev_cands = session.query(candidate_class).filter(candidate_class.split == 1).all()\n",
    "    \n",
    "    for cand in dev_cands:\n",
    "        doc_name=cand.get_parent().get_parent().name\n",
    "        if doc_name not in dev_doc_breakdown_map:\n",
    "            dev_doc_breakdown_map[doc_name]=dict()\n",
    "        if candidate_class_name not in dev_doc_breakdown_map[doc_name]:\n",
    "            dev_doc_breakdown_map[doc_name][candidate_class_name]=[]\n",
    "        dev_doc_breakdown_map[doc_name][candidate_class_name]+=[cand]\n",
    "    test_cands=session.query(candidate_class).filter(candidate_class.split==2).all()\n",
    "    \n",
    "    return train_cands,dev_cands,test_cands\n",
    "\n",
    "Segment = candidate_subclass('Segment', ['segment_cue'])\n",
    "ngrams = Ngrams(n_max=n_max_corpus) \n",
    "non_tilde_matcher=DictionaryMatch(d=['~'],longest_match_only=True,reverse=True)  \n",
    "non_tilde_segment_extractor=CandidateExtractor(Segment, [ngrams], [non_tilde_matcher])\n",
    "\n",
    "non_comma_matcher=DictionaryMatch(d=[','],longest_match_only=True,reverse=True)  \n",
    "non_comma_segment_extractor=CandidateExtractor(Segment, [ngrams], [non_comma_matcher])\n",
    "\n",
    "train_doc_breakdown_map=dict()\n",
    "dev_doc_breakdown_map=dict()\n",
    "\n",
    "# train_segments,dev_segments,test_segments=extract_and_display(non_comma_segment_extractor,Segment,\"Segment\",train_breakdown_map=train_doc_breakdown_map,dev_doc_breakdown_map=dev_doc_breakdown_map,is_print=False)\n",
    "train_segments=session.query(Segment).filter(Segment.split == 0).all()\n",
    "print(\"len(train_segments)\",len(train_segments))\n",
    "dev_segments=session.query(Segment).filter(Segment.split == 1).all()\n",
    "print(\"len(dev_segments)\",len(dev_segments))\n",
    "test_segments=session.query(Segment).filter(Segment.split == 2).all()\n",
    "print(\"len(test_segments)\",len(test_segments))"
   ]
  },
  {
   "cell_type": "markdown",
   "metadata": {},
   "source": [
    "### Section 2: Create generative labels for Purpose on train set\n",
    "\n",
    "Any LFs for other aspects will be grouped into `neg_for_purpose_LFs`"
   ]
  },
  {
   "cell_type": "code",
   "execution_count": 5,
   "metadata": {},
   "outputs": [
    {
     "name": "stderr",
     "output_type": "stream",
     "text": [
      "/anaconda3/lib/python3.6/site-packages/h5py/__init__.py:36: FutureWarning: Conversion of the second argument of issubdtype from `float` to `np.floating` is deprecated. In future, it will be treated as `np.float64 == np.dtype(float).type`.\n",
      "  from ._conv import register_converters as _register_converters\n"
     ]
    },
    {
     "name": "stdout",
     "output_type": "stream",
     "text": [
      "common_LFs 8\n",
      "purpose_LFs 74\n",
      "neg_for_purpose_LFs 111\n"
     ]
    }
   ],
   "source": [
    "from snorkel.lf_helpers import *\n",
    "from snorkel.annotations import LabelAnnotator\n",
    "from LF.util_purpose_default import common_LFs,purpose_LFs,neg_for_purpose_LFs   # neg_LFs are reverse LFs for Background, Mechanism, Method, and Finding\n",
    "\n",
    "print(\"common_LFs\",len(common_LFs))\n",
    "print(\"purpose_LFs\",len(purpose_LFs))\n",
    "print(\"neg_for_purpose_LFs\",len(neg_for_purpose_LFs)) # 39 mechanism, 35 background, 11 methods, 24 findings"
   ]
  },
  {
   "cell_type": "markdown",
   "metadata": {},
   "source": [
    "We also report <b>Total Coverage</b>: Coverage that corrected from Overlaps and Conflicts, essentially # candidates that are labelled by at least one LF / # total candidates. We also did a quick sanity check to ensure this number is calculated correctly, see [`data/calculate_total_coverage_toy_test_for_test_run_8.xlsx`](data/calculate_total_coverage_toy_test_for_test_run_8.xlsx)."
   ]
  },
  {
   "cell_type": "code",
   "execution_count": 6,
   "metadata": {},
   "outputs": [],
   "source": [
    "# from snorkel.learning import GenerativeModel\n",
    "# np.random.seed(1701)\n",
    "# labeler = LabelAnnotator(lfs=common_LFs+purpose_LFs+neg_for_purpose_LFs)\n",
    "# import datetime\n",
    "# print(datetime.datetime.now())\n",
    "# %time L_train = labeler.apply(split=0)\n",
    "# printmd(\"**Total non_overlapping_coverage on L_train (percentage of labelled over all)**  \"+str(L_train.non_overlapping_coverage()))\n",
    "# print(datetime.datetime.now())\n",
    "\n",
    "# gen_model = GenerativeModel(lf_propensity=True)\n",
    "# gen_model.train(L_train, epochs=100, decay=0.95, step_size=0.1/L_train.shape[0], reg_param=0.0,verbose=False) # try step_size = 1/ next time? \n",
    "# print(\"finished\")\n",
    "# import datetime\n",
    "# print(datetime.datetime.now())\n",
    "# print(\"Finished training generative model, now checking performance against development set labels...\")"
   ]
  },
  {
   "cell_type": "code",
   "execution_count": 7,
   "metadata": {},
   "outputs": [],
   "source": [
    "# print(\"Calculating marginals!\")\n",
    "# train_marginals = gen_model.marginals(L_train)  # the marginal probability of each candidate being True\n",
    "# print(\"Marginals finished\")\n",
    "# import matplotlib.pyplot as plt\n",
    "# plt.hist(train_marginals, bins=50)\n",
    "# plt.grid()\n",
    "# plt.show()"
   ]
  },
  {
   "cell_type": "code",
   "execution_count": 8,
   "metadata": {},
   "outputs": [],
   "source": [
    "# from util import get_candidate_text\n",
    "# train_marginals_list_purpose=list(train_marginals)\n",
    "# print(\"first score in train_marginals\",train_marginals_list_purpose[0])"
   ]
  },
  {
   "cell_type": "markdown",
   "metadata": {},
   "source": [
    "### Section 3: Repeat Section 2 for all other 4 aspects! "
   ]
  },
  {
   "cell_type": "code",
   "execution_count": 9,
   "metadata": {
    "scrolled": true
   },
   "outputs": [],
   "source": [
    "# from LF.util_background_default import background_LFs\n",
    "# from LF.util_purpose_default import neg_for_background_LFs  \n",
    "\n",
    "# print(\"background_LFs\",len(background_LFs))\n",
    "# print(\"neg_for_background_LFs\",len(neg_for_background_LFs)) # 39 mechanism, 35 background, 24 findings\n",
    "\n",
    "# from snorkel.learning import GenerativeModel\n",
    "# np.random.seed(1701)\n",
    "# labeler = LabelAnnotator(lfs=background_LFs+neg_for_background_LFs)\n",
    "# %time L_train = labeler.apply(split=0)\n",
    "# print(L_train.shape)\n",
    "# printmd(\"**Total non_overlapping_coverage on L_train (percentage of labelled over all)**  \"+str(L_train.non_overlapping_coverage()))\n",
    "# import datetime\n",
    "# print(datetime.datetime.now())\n",
    "\n",
    "# gen_model = GenerativeModel(lf_propensity=True)\n",
    "# gen_model.train(L_train, epochs=100, decay=0.95, step_size=0.1/L_train.shape[0], reg_param=0.0,verbose=False) # try step_size = 1/ next time? \n",
    "# print(\"training finished \")\n",
    "# import datetime\n",
    "# print(datetime.datetime.now())\n",
    "# print(\"Finished training generative model, now checking performance against development set labels...\")\n",
    "# print(\"Calculating marginals!\")\n",
    "# train_marginals = gen_model.marginals(L_train)  # the marginal probability of each candidate being True\n",
    "# print(\"Marginals finished\")\n",
    "# import matplotlib.pyplot as plt\n",
    "# plt.hist(train_marginals, bins=50)\n",
    "# plt.grid()\n",
    "# plt.show()\n",
    "\n",
    "# from util import get_candidate_text\n",
    "# train_marginals_list_background=list(train_marginals)\n",
    "# print(\"first score in train_marginals\",train_marginals_list_purpose[0])\n"
   ]
  },
  {
   "cell_type": "code",
   "execution_count": 10,
   "metadata": {},
   "outputs": [
    {
     "name": "stdout",
     "output_type": "stream",
     "text": [
      "pos_LFs 82\n",
      "neg_LFs 111\n",
      "2018-09-24 21:13:57.903641\n",
      "cids_count 35228\n",
      "key_group 0\n",
      "Clearing existing...\n",
      "Running UDF...\n",
      "[========================================] 100%\n",
      "\n",
      "2018-09-24 21:21:51.307394\n",
      "<class 'snorkel.annotations.csr_LabelMatrix'>\n",
      "(35228, 193)\n"
     ]
    },
    {
     "data": {
      "text/markdown": [
       "**Total non_overlapping_coverage on L_train (percentage of labelled over all)**  1.0"
      ],
      "text/plain": [
       "<IPython.core.display.Markdown object>"
      ]
     },
     "metadata": {},
     "output_type": "display_data"
    },
    {
     "name": "stdout",
     "output_type": "stream",
     "text": [
      "2018-09-24 21:21:51.331297\n",
      "Inferred cardinality: 2\n",
      "training finished \n",
      "2018-09-24 21:44:09.425389\n",
      "Finished training generative model, now checking performance against development set labels...\n",
      "Calculating marginals!\n",
      "Marginals finished\n"
     ]
    },
    {
     "data": {
      "image/png": "[encoded data removed]",
      "text/plain": [
       "<Figure size 432x288 with 1 Axes>"
      ]
     },
     "metadata": {},
     "output_type": "display_data"
    },
    {
     "name": "stdout",
     "output_type": "stream",
     "text": [
      "first score in train_marginals 0.013513146224873877\n"
     ]
    }
   ],
   "source": [
    "from snorkel.learning import GenerativeModel\n",
    "from util import get_candidate_text\n",
    "import matplotlib.pyplot as plt\n",
    "import datetime\n",
    "\n",
    "def get_train_marginals(pos_LFs,neg_LFs,step_size_nominator=0.1,epochs=100,threads=1):\n",
    "    L_train=None\n",
    "    labeler=None\n",
    "    gen_model=None\n",
    "    print(\"pos_LFs\",len(pos_LFs))\n",
    "    print(\"neg_LFs\",len(neg_LFs)) # 39 mechanism, 35 background, 24 findings\n",
    "    np.random.seed(1701)\n",
    "    labeler = LabelAnnotator(lfs=pos_LFs+neg_LFs)\n",
    "    print(datetime.datetime.now())\n",
    "    L_train = labeler.apply(split=0)\n",
    "    print(datetime.datetime.now())\n",
    "    print(type(L_train))\n",
    "    print(L_train.shape)\n",
    "    printmd(\"**Total non_overlapping_coverage on L_train (percentage of labelled over all)**  \"+str(L_train.non_overlapping_coverage()))\n",
    "    print(datetime.datetime.now())\n",
    "    gen_model = GenerativeModel(lf_propensity=True)\n",
    "    gen_model.train(L_train, epochs=100, decay=0.95, step_size=0.1/L_train.shape[0], reg_param=0.0,verbose=False,threads=threads) # try step_size = 1/ next time? \n",
    "    print(\"training finished \")\n",
    "    print(datetime.datetime.now())\n",
    "    print(\"Finished training generative model, now checking performance against development set labels...\")\n",
    "    print(\"Calculating marginals!\")\n",
    "    train_marginals = gen_model.marginals(L_train)  # the marginal probability of each candidate being True\n",
    "    print(\"Marginals finished\")\n",
    "    plt.hist(train_marginals, bins=50)\n",
    "    plt.grid()\n",
    "    plt.show()\n",
    "    train_marginals_list=list(train_marginals)\n",
    "    print(\"first score in train_marginals\",train_marginals_list[0])\n",
    "    return train_marginals_list\n",
    "\n",
    "train_marginals_list_purpose=get_train_marginals(common_LFs+purpose_LFs,neg_for_purpose_LFs,threads=10)"
   ]
  },
  {
   "cell_type": "code",
   "execution_count": 11,
   "metadata": {},
   "outputs": [
    {
     "name": "stdout",
     "output_type": "stream",
     "text": [
      "pos_LFs 35\n",
      "neg_LFs 158\n",
      "2018-09-24 21:44:30.307704\n",
      "cids_count 35228\n",
      "key_group 0\n",
      "Clearing existing...\n",
      "Running UDF...\n",
      "[========================================] 100%\n",
      "\n",
      "2018-09-24 21:52:13.185926\n",
      "<class 'snorkel.annotations.csr_LabelMatrix'>\n",
      "(35228, 193)\n"
     ]
    },
    {
     "data": {
      "text/markdown": [
       "**Total non_overlapping_coverage on L_train (percentage of labelled over all)**  1.0"
      ],
      "text/plain": [
       "<IPython.core.display.Markdown object>"
      ]
     },
     "metadata": {},
     "output_type": "display_data"
    },
    {
     "name": "stdout",
     "output_type": "stream",
     "text": [
      "2018-09-24 21:52:13.215582\n",
      "Inferred cardinality: 2\n",
      "training finished \n",
      "2018-09-24 22:15:41.135964\n",
      "Finished training generative model, now checking performance against development set labels...\n",
      "Calculating marginals!\n",
      "Marginals finished\n"
     ]
    },
    {
     "data": {
      "image/png": "[encoded data removed]",
      "text/plain": [
       "<Figure size 432x288 with 1 Axes>"
      ]
     },
     "metadata": {},
     "output_type": "display_data"
    },
    {
     "name": "stdout",
     "output_type": "stream",
     "text": [
      "first score in train_marginals 0.012249156582319384\n"
     ]
    }
   ],
   "source": [
    "from LF.util_background_default import background_LFs\n",
    "from LF.util_purpose_default import neg_for_background_LFs \n",
    "\n",
    "train_marginals_list_background=get_train_marginals(background_LFs,neg_for_background_LFs,threads=10)"
   ]
  },
  {
   "cell_type": "code",
   "execution_count": 5,
   "metadata": {},
   "outputs": [
    {
     "name": "stdout",
     "output_type": "stream",
     "text": [
      "pos_LFs 39\n",
      "neg_LFs 155\n",
      "cids_count 35228\n",
      "key_group 0\n",
      "Clearing existing...\n",
      "Running UDF...\n",
      "[========================================] 100%\n",
      "\n",
      "<class 'snorkel.annotations.csr_LabelMatrix'>\n",
      "(35228, 193)\n"
     ]
    },
    {
     "data": {
      "text/markdown": [
       "**Total non_overlapping_coverage on L_train (percentage of labelled over all)**  1.0"
      ],
      "text/plain": [
       "<IPython.core.display.Markdown object>"
      ]
     },
     "metadata": {},
     "output_type": "display_data"
    },
    {
     "name": "stdout",
     "output_type": "stream",
     "text": [
      "2018-09-24 12:54:20.602394\n",
      "Inferred cardinality: 2\n",
      "training finished \n",
      "2018-09-24 13:29:36.164808\n",
      "Finished training generative model, now checking performance against development set labels...\n",
      "Calculating marginals!\n",
      "Marginals finished\n"
     ]
    },
    {
     "data": {
      "image/png": "[encoded data removed]",
      "text/plain": [
       "<Figure size 432x288 with 1 Axes>"
      ]
     },
     "metadata": {},
     "output_type": "display_data"
    },
    {
     "name": "stdout",
     "output_type": "stream",
     "text": [
      "first score in train_marginals 0.031319676938777206\n"
     ]
    }
   ],
   "source": [
    "from LF.util_mechanism_default import mechanism_LFs\n",
    "from LF.util_purpose_default import neg_for_mechanism_LFs \n",
    "\n",
    "train_marginals_list_mechanism=get_train_marginals(mechanism_LFs,neg_for_mechanism_LFs)"
   ]
  },
  {
   "cell_type": "code",
   "execution_count": 6,
   "metadata": {},
   "outputs": [
    {
     "name": "stdout",
     "output_type": "stream",
     "text": [
      "pos_LFs 36\n",
      "neg_LFs 158\n",
      "cids_count 35228\n",
      "key_group 0\n",
      "Clearing existing...\n",
      "Running UDF...\n",
      "[========================================] 100%\n",
      "\n",
      "<class 'snorkel.annotations.csr_LabelMatrix'>\n",
      "(35228, 193)\n"
     ]
    },
    {
     "data": {
      "text/markdown": [
       "**Total non_overlapping_coverage on L_train (percentage of labelled over all)**  1.0"
      ],
      "text/plain": [
       "<IPython.core.display.Markdown object>"
      ]
     },
     "metadata": {},
     "output_type": "display_data"
    },
    {
     "name": "stdout",
     "output_type": "stream",
     "text": [
      "2018-09-24 13:36:51.874241\n",
      "Inferred cardinality: 2\n",
      "training finished \n",
      "2018-09-24 14:16:53.384274\n",
      "Finished training generative model, now checking performance against development set labels...\n",
      "Calculating marginals!\n",
      "Marginals finished\n"
     ]
    },
    {
     "data": {
      "image/png": "[encoded data removed]",
      "text/plain": [
       "<Figure size 432x288 with 1 Axes>"
      ]
     },
     "metadata": {},
     "output_type": "display_data"
    },
    {
     "name": "stdout",
     "output_type": "stream",
     "text": [
      "first score in train_marginals 0.011792412377615672\n"
     ]
    }
   ],
   "source": [
    "from LF.util_background_default import background_LFs\n",
    "from LF.util_purpose_default import neg_for_background_LFs\n",
    "\n",
    "train_marginals_list_background=get_train_marginals(background_LFs,neg_for_background_LFs)"
   ]
  },
  {
   "cell_type": "code",
   "execution_count": 7,
   "metadata": {},
   "outputs": [
    {
     "name": "stdout",
     "output_type": "stream",
     "text": [
      "pos_LFs 12\n",
      "neg_LFs 182\n",
      "cids_count 35228\n",
      "key_group 0\n",
      "Clearing existing...\n",
      "Running UDF...\n",
      "[========================================] 100%\n",
      "\n",
      "<class 'snorkel.annotations.csr_LabelMatrix'>\n",
      "(35228, 193)\n"
     ]
    },
    {
     "data": {
      "text/markdown": [
       "**Total non_overlapping_coverage on L_train (percentage of labelled over all)**  1.0"
      ],
      "text/plain": [
       "<IPython.core.display.Markdown object>"
      ]
     },
     "metadata": {},
     "output_type": "display_data"
    },
    {
     "name": "stdout",
     "output_type": "stream",
     "text": [
      "2018-09-24 14:25:43.801226\n",
      "Inferred cardinality: 2\n",
      "training finished \n",
      "2018-09-24 15:03:56.167267\n",
      "Finished training generative model, now checking performance against development set labels...\n",
      "Calculating marginals!\n",
      "Marginals finished\n"
     ]
    },
    {
     "data": {
      "image/png": "[encoded data removed]",
      "text/plain": [
       "<Figure size 432x288 with 1 Axes>"
      ]
     },
     "metadata": {},
     "output_type": "display_data"
    },
    {
     "name": "stdout",
     "output_type": "stream",
     "text": [
      "first score in train_marginals 0.02585725772975347\n"
     ]
    }
   ],
   "source": [
    "from LF.util_method_default import method_LFs\n",
    "from LF.util_purpose_default import neg_for_method_LFs\n",
    "\n",
    "train_marginals_list_method=get_train_marginals(method_LFs,neg_for_method_LFs)"
   ]
  },
  {
   "cell_type": "code",
   "execution_count": 8,
   "metadata": {},
   "outputs": [
    {
     "name": "stdout",
     "output_type": "stream",
     "text": [
      "pos_LFs 25\n",
      "neg_LFs 169\n",
      "cids_count 35228\n",
      "key_group 0\n",
      "Clearing existing...\n",
      "Running UDF...\n",
      "[========================================] 100%\n",
      "\n",
      "<class 'snorkel.annotations.csr_LabelMatrix'>\n",
      "(35228, 193)\n"
     ]
    },
    {
     "data": {
      "text/markdown": [
       "**Total non_overlapping_coverage on L_train (percentage of labelled over all)**  1.0"
      ],
      "text/plain": [
       "<IPython.core.display.Markdown object>"
      ]
     },
     "metadata": {},
     "output_type": "display_data"
    },
    {
     "name": "stdout",
     "output_type": "stream",
     "text": [
      "2018-09-24 15:11:30.374695\n",
      "Inferred cardinality: 2\n",
      "training finished \n",
      "2018-09-24 15:51:27.777310\n",
      "Finished training generative model, now checking performance against development set labels...\n",
      "Calculating marginals!\n",
      "Marginals finished\n"
     ]
    },
    {
     "data": {
      "image/png": "[encoded data removed]",
      "text/plain": [
       "<Figure size 432x288 with 1 Axes>"
      ]
     },
     "metadata": {},
     "output_type": "display_data"
    },
    {
     "name": "stdout",
     "output_type": "stream",
     "text": [
      "first score in train_marginals 0.020488173154502923\n"
     ]
    }
   ],
   "source": [
    "from LF.util_finding_default import finding_LFs\n",
    "from LF.util_purpose_default import neg_for_finding_LFs\n",
    "\n",
    "train_marginals_list_finding=get_train_marginals(finding_LFs,neg_for_finding_LFs)"
   ]
  },
  {
   "cell_type": "markdown",
   "metadata": {},
   "source": [
    "### Section 4: calculate winning aspects, and check if the number is (nearly) consistent with 2K ground-truth (note down here too!!)"
   ]
  },
  {
   "cell_type": "code",
   "execution_count": 5,
   "metadata": {},
   "outputs": [],
   "source": [
    "import pickle\n",
    "dirpath=\"data/train_marginals_list\"\n",
    "\n",
    "# pickle.dump(train_marginals_list_mechanism,open(os.path.join(dirpath,\"train_marginals_list_mechanism\"),\"wb\"))\n",
    "# pickle.dump(train_marginals_list_method,open(os.path.join(dirpath,\"train_marginals_list_method\"),\"wb\"))\n",
    "# pickle.dump(train_marginals_list_finding,open(os.path.join(dirpath,\"train_marginals_list_finding\"),\"wb\"))\n",
    "\n",
    "# pickle.dump(train_marginals_list_background,open(os.path.join(dirpath,\"train_marginals_list_background\"),\"wb\"))\n",
    "# pickle.dump(train_marginals_list_purpose,open(os.path.join(dirpath,\"train_marginals_list_purpose\"),\"wb\"))\n",
    "# train_marginals_list_background\n",
    "\n",
    "# train_marginals_list_background\n",
    "# train_marginals_list_purpose\n",
    "\n",
    "\n",
    "train_marginals_list_mechanism=pickle.load(open(os.path.join(dirpath,\"train_marginals_list_mechanism\"),\"rb\"))\n",
    "train_marginals_list_method=pickle.load(open(os.path.join(dirpath,\"train_marginals_list_method\"),\"rb\"))\n",
    "train_marginals_list_finding=pickle.load(open(os.path.join(dirpath,\"train_marginals_list_finding\"),\"rb\"))\n",
    "train_marginals_list_purpose=pickle.load(open(os.path.join(dirpath,\"train_marginals_list_purpose\"),\"rb\"))\n",
    "train_marginals_list_background=pickle.load(open(os.path.join(dirpath,\"train_marginals_list_background\"),\"rb\"))\n"
   ]
  },
  {
   "cell_type": "code",
   "execution_count": 32,
   "metadata": {},
   "outputs": [
    {
     "name": "stdout",
     "output_type": "stream",
     "text": [
      "0.02748687774166179\n",
      "0.049882750720828185\n",
      "0.0641458913194704\n",
      "0.05502352934507879\n",
      "0.028867966237666118\n",
      "(35228, 5)\n",
      "3\n",
      "22170\n",
      "12239\n",
      "479\n",
      "337\n",
      "1\n",
      "generative binary labels for all 5 aspects\n",
      " [[0.01224916 0.01351315 0.03131968 0.02585726 0.02048817]\n",
      " [0.09621319 0.48367409 0.04030548 0.03670227 0.03633894]\n",
      " [0.09621319 0.48367409 0.04030548 0.03670227 0.03633894]\n",
      " ...\n",
      " [0.0502089  0.3314246  0.05772175 0.01872469 0.01850078]\n",
      " [0.16179487 0.53144704 0.12802022 0.11998229 0.11899611]\n",
      " [0.09621319 0.48367409 0.04030548 0.03670227 0.03633894]] \n",
      "\n",
      "softmax over dim=1\n",
      " [[0.19831462 0.19856545 0.20213288 0.20103176 0.19995529]\n",
      " [0.18857357 0.27781326 0.17832015 0.17767878 0.17761424]\n",
      " [0.18857357 0.27781326 0.17832015 0.17767878 0.17761424]\n",
      " ...\n",
      " [0.18975058 0.25137006 0.19118152 0.1838695  0.18382834]\n",
      " [0.18757594 0.27146574 0.18134642 0.17989461 0.17971729]\n",
      " [0.18857357 0.27781326 0.17832015 0.17767878 0.17761424]] \n",
      "\n",
      "pad with an all-zero NULL label column\n",
      " [[0.19831462 0.19856545 0.20213288 0.20103176 0.19995529 0.        ]\n",
      " [0.18857357 0.27781326 0.17832015 0.17767878 0.17761424 0.        ]\n",
      " [0.18857357 0.27781326 0.17832015 0.17767878 0.17761424 0.        ]\n",
      " ...\n",
      " [0.18975058 0.25137006 0.19118152 0.1838695  0.18382834 0.        ]\n",
      " [0.18757594 0.27146574 0.18134642 0.17989461 0.17971729 0.        ]\n",
      " [0.18857357 0.27781326 0.17832015 0.17767878 0.17761424 0.        ]]\n"
     ]
    }
   ],
   "source": [
    "segid=2800\n",
    "print(train_marginals_list_background[segid])\n",
    "print(train_marginals_list_purpose[segid])\n",
    "print(train_marginals_list_mechanism[segid])\n",
    "print(train_marginals_list_method[segid])\n",
    "print(train_marginals_list_finding[segid])\n",
    "\n",
    "\n",
    "import numpy as np\n",
    "BG=np.asarray(train_marginals_list_background)\n",
    "PP=np.asarray(train_marginals_list_purpose)\n",
    "MN=np.asarray(train_marginals_list_mechanism)\n",
    "MT=np.asarray(train_marginals_list_method)\n",
    "FD=np.asarray(train_marginals_list_finding)\n",
    "\n",
    "total=np.asarray([BG,PP,MN,MT,FD])\n",
    "total=np.transpose(total)\n",
    "print(total.shape)\n",
    "\n",
    "winHighlight=total.argmax(axis=1)\n",
    "print((winHighlight==0).sum())\n",
    "print((winHighlight==1).sum())\n",
    "print((winHighlight==2).sum())\n",
    "print((winHighlight==3).sum())\n",
    "print((winHighlight==4).sum())\n",
    "\n",
    "print(winHighlight[3])\n",
    "\n",
    "def softmax(x,axis=1):\n",
    "    \"\"\"Compute softmax values for each sets of scores in x.\"\"\"\n",
    "    return np.exp(x) / np.sum(np.exp(x), axis=axis).reshape((-1, 1))\n",
    "\n",
    "\n",
    "print(\"generative binary labels for all 5 aspects\\n\",total,\"\\n\")\n",
    "softmax_total=softmax(total)\n",
    "print(\"softmax over dim=1\\n\",softmax_total,\"\\n\")\n",
    "padded_softmax_total=np.pad(softmax_total,((0,0),(0,1)),'constant',constant_values=[0])\n",
    "print(\"pad with an all-zero NULL label column\\n\",padded_softmax_total)\n",
    "\n",
    "\n",
    "\n",
    "\n",
    "\n"
   ]
  },
  {
   "cell_type": "code",
   "execution_count": 7,
   "metadata": {},
   "outputs": [
    {
     "name": "stdout",
     "output_type": "stream",
     "text": [
      "Segment(Span(\"b'We have integrated these techniques in the NAW qstm [IO].\\n'\", sentence=14361, chars=[0,57], words=[0,13]))\n",
      "Segment(Span(\"b'cello'\", sentence=19479, chars=[96,100], words=[15,15]))\n",
      "Segment(Span(\"b'percussion'\", sentence=19479, chars=[103,112], words=[17,17]))\n",
      "Segment(Span(\"b'and dancer.'\", sentence=19479, chars=[115,125], words=[19,21]))\n"
     ]
    }
   ],
   "source": [
    "print(train_segments[0])\n",
    "print(train_segments[1])\n",
    "print(train_segments[3])\n",
    "print(train_segments[4])\n"
   ]
  },
  {
   "cell_type": "markdown",
   "metadata": {},
   "source": [
    "### Section 4: writing generative noisy labels in setting 1 (S1)"
   ]
  },
  {
   "cell_type": "code",
   "execution_count": 33,
   "metadata": {},
   "outputs": [],
   "source": [
    "from collections import defaultdict\n",
    "from util import get_candidate_text\n",
    "import pandas as pd\n",
    "\n",
    "# initialize some variables\n",
    "# df = pd.DataFrame([], columns=['winningHighlight', 'paperID', 'globalPsn','content'])    \n",
    "aggregated_doc=defaultdict(lambda:[])\n",
    "aggregated_sent=defaultdict(lambda:[])\n",
    "aspects_list=[\"Background\",\"Purpose\",\"Mechanism\",\"Method\",\"Findings\"]\n",
    "\n",
    "for idx,train_segment in enumerate(train_segments):\n",
    "    \n",
    "    sent_id=train_segment.get_parent().id    \n",
    "    winningHighlight=winHighlight[idx]\n",
    "    aggregated_sent[sent_id]+=[(train_segment.segment_cue.char_start,train_segment.segment_cue.char_end,get_candidate_text(train_segment),winningHighlight)]\n",
    "    \n",
    "    doc_id=train_segment.get_parent().get_parent().name\n",
    "    if doc_id not in aggregated_doc:\n",
    "        aggregated_doc[doc_id]=train_segment.get_parent().get_parent().sentences\n",
    "        \n",
    "\n",
    "df_list=[]      \n",
    "for doc_id in aggregated_doc:\n",
    "    globalPsn=1\n",
    "    for sent in aggregated_doc[doc_id]:\n",
    "        sent_id=sent.id\n",
    "        if sent_id not in aggregated_sent:\n",
    "            raise ValueError('we have no info about this sent'+str(sent))\n",
    "        aggregated_sent[sent_id]=sorted(aggregated_sent[sent_id], key=lambda x: x[0])\n",
    "        for idx,pair in enumerate(aggregated_sent[sent_id]):\n",
    "            text=pair[2]\n",
    "#             if \"qstm\" in text:\n",
    "#                 print(text)\n",
    "#                 print(text.split())\n",
    "            for idx2,token in enumerate(text.split()):\n",
    "                \n",
    "                # insert a row into df\n",
    "#                 df.loc[-1] = [pair[3],doc_id,globalPsn,token]\n",
    "#                 df.index=df.index+1\n",
    "                if len(token.strip())==0:\n",
    "                    continue\n",
    "                df_list+=[[pair[3],doc_id,globalPsn,token.strip(\".\")]]\n",
    "                globalPsn+=1\n",
    "            if idx!=len(aggregated_sent[sent_id])-1:\n",
    "                df_list+=[[pair[3],doc_id,globalPsn,\",\"]]\n",
    "            else:\n",
    "                df_list+=[[pair[3],doc_id,globalPsn,\".\"]]\n",
    "            globalPsn+=1\n",
    "                \n",
    "\n",
    "df=pd.DataFrame(df_list,columns=['winningHighlight', 'paperID', 'globalPsn','content'])\n",
    "\n",
    "df.to_csv(open(\"data/annotations_train_5560_word-level_s1.csv\",\"w\"))\n"
   ]
  },
  {
   "cell_type": "markdown",
   "metadata": {},
   "source": [
    "### Section 5: writing generative noisy labels in setting 2 (S2)"
   ]
  },
  {
   "cell_type": "code",
   "execution_count": 34,
   "metadata": {},
   "outputs": [],
   "source": [
    "from collections import defaultdict\n",
    "from util import get_candidate_text\n",
    "import pandas as pd\n",
    "\n",
    "# initialize some variables\n",
    "# df = pd.DataFrame([], columns=['winningHighlight', 'paperID', 'globalPsn','content'])    \n",
    "aggregated_doc=defaultdict(lambda:[])\n",
    "aggregated_sent=defaultdict(lambda:[])\n",
    "aspects_list=[\"Background\",\"Purpose\",\"Mechanism\",\"Method\",\"Findings\"]\n",
    "\n",
    "for idx,train_segment in enumerate(train_segments):\n",
    "    \n",
    "    sent_id=train_segment.get_parent().id    \n",
    "    winningHighlight=list(padded_softmax_total[idx])\n",
    "    aggregated_sent[sent_id]+=[(train_segment.segment_cue.char_start,train_segment.segment_cue.char_end,get_candidate_text(train_segment),winningHighlight)]\n",
    "    \n",
    "    doc_id=train_segment.get_parent().get_parent().name\n",
    "    if doc_id not in aggregated_doc:\n",
    "        aggregated_doc[doc_id]=train_segment.get_parent().get_parent().sentences\n",
    "        \n",
    "\n",
    "df_list=[]      \n",
    "for doc_id in aggregated_doc:\n",
    "    globalPsn=1\n",
    "    for sent in aggregated_doc[doc_id]:\n",
    "        sent_id=sent.id\n",
    "        if sent_id not in aggregated_sent:\n",
    "            raise ValueError('we have no info about this sent'+str(sent))\n",
    "        aggregated_sent[sent_id]=sorted(aggregated_sent[sent_id], key=lambda x: x[0])\n",
    "        for idx,pair in enumerate(aggregated_sent[sent_id]):\n",
    "            text=pair[2]\n",
    "#             if \"qstm\" in text:\n",
    "#                 print(text)\n",
    "#                 print(text.split())\n",
    "            for idx2,token in enumerate(text.split()):\n",
    "                \n",
    "                # insert a row into df\n",
    "#                 df.loc[-1] = [pair[3],doc_id,globalPsn,token]\n",
    "#                 df.index=df.index+1\n",
    "                if len(token.strip())==0:\n",
    "                    continue\n",
    "                df_list+=[[pair[3],doc_id,globalPsn,token.strip(\".\")]]\n",
    "                globalPsn+=1\n",
    "            if idx!=len(aggregated_sent[sent_id])-1:\n",
    "                df_list+=[[pair[3],doc_id,globalPsn,\",\"]]\n",
    "            else:\n",
    "                df_list+=[[pair[3],doc_id,globalPsn,\".\"]]\n",
    "            globalPsn+=1\n",
    "                \n",
    "\n",
    "df=pd.DataFrame(df_list,columns=['winningHighlight', 'paperID', 'globalPsn','content'])\n",
    "\n",
    "df.to_csv(open(\"data/annotations_train_5560_word-level_s2.csv\",\"w\"))"
   ]
  },
  {
   "cell_type": "code",
   "execution_count": null,
   "metadata": {},
   "outputs": [],
   "source": []
  },
  {
   "cell_type": "code",
   "execution_count": null,
   "metadata": {},
   "outputs": [],
   "source": []
  },
  {
   "cell_type": "code",
   "execution_count": null,
   "metadata": {},
   "outputs": [],
   "source": []
  },
  {
   "cell_type": "code",
   "execution_count": null,
   "metadata": {},
   "outputs": [],
   "source": []
  },
  {
   "cell_type": "code",
   "execution_count": 14,
   "metadata": {},
   "outputs": [
    {
     "name": "stdout",
     "output_type": "stream",
     "text": [
      "clause\t Segment(Span(\"b'cello'\", sentence=19479, chars=[96,100], words=[15,15])) \n",
      "\n",
      "sent id\t 19479 \n",
      "\n",
      "sentence\t Sentence(Document 58cca85cc50f90cdd388252e,0,b'Abstract.\\xe2\\x80\\x9cThe Watercourse Way\\xe2\\x80\\x9d is a mostly-music interactive multimedia performance for violin, cello, percussion, and dancer.') \n",
      "\n",
      "sentence_dict\t {'_sa_instance_state': <sqlalchemy.orm.state.InstanceState object at 0x1165ea048>, 'stable_id': '58cca85cc50f90cdd388252e::sentence:0:126', 'dep_parents': [3, 3, 5, 3, 0, 12, 9, 9, 12, 12, 12, 5, 12, 13, 14, 14, 16, 16, 18, 18, 18, 5], 'pos_tags': ['DT', 'NNP', 'NNP', '-RRB-', 'VBZ', 'DT', 'RB', 'HYPH', 'NN', 'JJ', 'NN', 'NN', 'IN', 'NN', ',', 'NN', ',', 'NN', ',', 'CC', 'NN', '.'], 'abs_char_offsets': [0, 14, 26, 29, 31, 34, 36, 42, 43, 49, 61, 72, 84, 88, 94, 96, 101, 103, 113, 115, 119, 125], 'entity_cids': ['O', 'O', 'O', 'O', 'O', 'O', 'O', 'O', 'O', 'O', 'O', 'O', 'O', 'O', 'O', 'O', 'O', 'O', 'O', 'O', 'O', 'O'], 'char_offsets': [0, 14, 26, 29, 31, 34, 36, 42, 43, 49, 61, 72, 84, 88, 94, 96, 101, 103, 113, 115, 119, 125], 'text': 'Abstract.“The Watercourse Way” is a mostly-music interactive multimedia performance for violin, cello, percussion, and dancer.', 'document_id': 3357, 'entity_types': ['O', 'O', 'O', 'O', 'O', 'O', 'O', 'O', 'O', 'O', 'O', 'O', 'O', 'O', 'O', 'O', 'O', 'O', 'O', 'O', 'O', 'O'], 'type': 'sentence', 'ner_tags': ['O', 'O', 'O', 'O', 'O', 'O', 'O', 'O', 'O', 'O', 'O', 'O', 'O', 'O', 'O', 'O', 'O', 'O', 'O', 'O', 'O', 'O'], 'lemmas': ['abstract.“the', 'watercourse', 'way', '\"', 'be', 'a', 'mostly', '-', 'music', 'interactive', 'multimedia', 'performance', 'for', 'violin', ',', 'cello', ',', 'percussion', ',', 'and', 'dancer', '.'], 'dep_labels': ['det', 'compound', 'nsubj', 'punct', 'ROOT', 'det', 'advmod', 'punct', 'nmod', 'amod', 'amod', 'attr', 'prep', 'pobj', 'punct', 'conj', 'punct', 'conj', 'punct', 'cc', 'conj', 'punct'], 'words': ['Abstract.“The', 'Watercourse', 'Way', '”', 'is', 'a', 'mostly', '-', 'music', 'interactive', 'multimedia', 'performance', 'for', 'violin', ',', 'cello', ',', 'percussion', ',', 'and', 'dancer', '.'], 'position': 0, 'id': 19479, 'document': Document 58cca85cc50f90cdd388252e} \n",
      "\n",
      "all sentences in the doc\t [Sentence(Document 58cca85cc50f90cdd388252e,0,b'Abstract.\\xe2\\x80\\x9cThe Watercourse Way\\xe2\\x80\\x9d is a mostly-music interactive multimedia performance for violin, cello, percussion, and dancer.'), Sentence(Document 58cca85cc50f90cdd388252e,1,b'The work uses a computer to process sounds from the performers, to synthesize sound, and to generate computer animation.'), Sentence(Document 58cca85cc50f90cdd388252e,2,b'A novel synthesis technique is introduced in which the sound spectrum is controlled in real time by images of light reflected from a shallow pool of water.'), Sentence(Document 58cca85cc50f90cdd388252e,3,b'In addition, performers wear computer-controlled lights that respond to video and sound input, using a wireless radio link to the computer.\\n')] \n",
      "\n",
      "this sentence pos in doc\t 0 \n",
      "\n",
      "{'_sa_instance_state': <sqlalchemy.orm.state.InstanceState object at 0x10c27e940>, 'name': '58cca85cc50f90cdd388252e', 'stable_id': '58cca85cc50f90cdd388252e::document:0:0', 'meta': {'file_name': '70kpaper_061418_cleaned_noBookLecture_10cscw_2k_order_preserving.tsv'}, 'id': 3357, 'type': 'document', 'sentences': [Sentence(Document 58cca85cc50f90cdd388252e,0,b'Abstract.\\xe2\\x80\\x9cThe Watercourse Way\\xe2\\x80\\x9d is a mostly-music interactive multimedia performance for violin, cello, percussion, and dancer.'), Sentence(Document 58cca85cc50f90cdd388252e,1,b'The work uses a computer to process sounds from the performers, to synthesize sound, and to generate computer animation.'), Sentence(Document 58cca85cc50f90cdd388252e,2,b'A novel synthesis technique is introduced in which the sound spectrum is controlled in real time by images of light reflected from a shallow pool of water.'), Sentence(Document 58cca85cc50f90cdd388252e,3,b'In addition, performers wear computer-controlled lights that respond to video and sound input, using a wireless radio link to the computer.\\n')]}\n"
     ]
    }
   ],
   "source": [
    "docid=1\n",
    "print(\"clause\\t\",train_segments[docid],\"\\n\")\n",
    "print(\"sent id\\t\",train_segments[docid].get_parent().id,\"\\n\")\n",
    "print(\"sentence\\t\",train_segments[docid].get_parent(),\"\\n\")\n",
    "print(\"sentence_dict\\t\",train_segments[docid].get_parent().__dict__,\"\\n\")\n",
    "print(\"all sentences in the doc\\t\",train_segments[docid].get_parent().get_parent().sentences,\"\\n\")\n",
    "print(\"this sentence pos in doc\\t\",train_segments[docid].get_parent().get_parent().sentences.index(train_segments[docid].get_parent()),\"\\n\")\n",
    "# print(docs[1].sentences)\n",
    "print(\"doc name\\t\", train_segments[docid].get_parent().get_parent().name)"
   ]
  },
  {
   "cell_type": "code",
   "execution_count": null,
   "metadata": {},
   "outputs": [],
   "source": []
  },
  {
   "cell_type": "code",
   "execution_count": null,
   "metadata": {},
   "outputs": [],
   "source": []
  }
 ],
 "metadata": {
  "kernelspec": {
   "display_name": "Python 3",
   "language": "python",
   "name": "python3"
  },
  "language_info": {
   "codemirror_mode": {
    "name": "ipython",
    "version": 3
   },
   "file_extension": ".py",
   "mimetype": "text/x-python",
   "name": "python",
   "nbconvert_exporter": "python",
   "pygments_lexer": "ipython3",
   "version": "3.6.5"
  }
 },
 "nbformat": 4,
 "nbformat_minor": 2
}
