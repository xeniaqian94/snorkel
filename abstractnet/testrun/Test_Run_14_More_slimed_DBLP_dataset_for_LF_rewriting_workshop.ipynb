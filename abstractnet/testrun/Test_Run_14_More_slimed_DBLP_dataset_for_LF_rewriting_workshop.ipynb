{
 "cells": [
  {
   "cell_type": "markdown",
   "metadata": {},
   "source": [
    "# Labeling function writing workshop\n",
    "\n",
    "This workshop aims at making LF writing more interative and incorporating effective feedback in the loop, on abstract segmentation, from slimmed top tier CS papers. This notebook is the material for this LF writing workshop within MegaCognition Lab.\n",
    "\n",
    "As a result, we load in ~1375 top-tier CS papers \n",
    "\n",
    "Selection criteria is venue-based, as below.\n",
    "`selected_top_tier=[\"UbiComp\",\"IJCAI\", \"IEEE Visualization\", \"SIGCOMM\", \"Computer Supported Cooperative Work (CSCW)\", \"POPL\", \"AAAI\", \"CIKM\", \"WWW\", \"NAACL\", \"EMNLP\", \"ACL\", \"CSCW\", \"CVPR\", \"INFOCOM\", \"ICML\", \"CHI\", \"KDD\", \"ICCV\", \"ICWSM\", \"UIST\"]`\n",
    "\n"
   ]
  },
  {
   "cell_type": "code",
   "execution_count": 1,
   "metadata": {},
   "outputs": [
    {
     "data": {
      "text/html": [
       "<style>.container { width:85% !important; }</style>"
      ],
      "text/plain": [
       "<IPython.core.display.HTML object>"
      ]
     },
     "metadata": {},
     "output_type": "display_data"
    }
   ],
   "source": [
    "from IPython.core.display import display, HTML\n",
    "display(HTML(\"<style>.container { width:85% !important; }</style>\"))\n",
    "debug_mode=1 # if not in debug mode, please set debug_mode=0, find more info about debug mode in test run 9 maybe?\n",
    "%load_ext autoreload\n",
    "%autoreload 2\n",
    "%matplotlib inline"
   ]
  },
  {
   "cell_type": "markdown",
   "metadata": {},
   "source": [
    "## I. Background\n",
    "### A. Preprocessing the Corpus and Save to the Database (Done)\n",
    "\n",
    "The corpus could be downloaded [here](https://github.com/xeniaqian94/snorkel/blob/master/abstractnet/testrun/data/slim-slim-top-tier-citation)."
   ]
  },
  {
   "cell_type": "code",
   "execution_count": 2,
   "metadata": {},
   "outputs": [
    {
     "name": "stdout",
     "output_type": "stream",
     "text": [
      "postgresql:///abstractnetwordworkshopslim\n",
      "snorkel_conn_string postgresql:///abstractnetwordworkshopslim\n",
      "if snorkel_postgres? True\n"
     ]
    },
    {
     "name": "stderr",
     "output_type": "stream",
     "text": [
      "/anaconda3/lib/python3.6/site-packages/psycopg2/__init__.py:144: UserWarning: The psycopg2 wheel package will be renamed from release 2.8; in order to keep installing from binary please use \"pip install psycopg2-binary\" instead. For details see: <http://initd.org/psycopg/docs/install.html#binary-install-from-pypi>.\n",
      "  \"\"\")\n"
     ]
    },
    {
     "name": "stdout",
     "output_type": "stream",
     "text": [
      "Clearing existing...\n",
      "snorkel_conn_string postgresql:///abstractnetwordworkshopslim\n",
      "if snorkel_postgres? True\n",
      "clearning..\n",
      "clear finished!\n",
      "Running UDF...\n",
      "snorkel_conn_string postgresql:///abstractnetwordworkshopslim\n",
      "if snorkel_postgres? True\n",
      "[========================================] 100%\n",
      "\n",
      "CPU times: user 32 s, sys: 751 ms, total: 32.7 s\n",
      "Wall time: 45.8 s\n",
      "Documents: 1375\n"
     ]
    }
   ],
   "source": [
    "import os\n",
    "os.environ['SNORKELDB'] = \"postgresql:///abstractnetwordworkshopslim\"\n",
    "print(os.environ['SNORKELDB'])\n",
    "from snorkel import SnorkelSession\n",
    "from snorkel.parser import TSVDocPreprocessor\n",
    "session = SnorkelSession()\n",
    "\n",
    "## Here, we just set the upperbound for how many documents we'll process!\n",
    "n_docs = 3000 \n",
    "doc_preprocessor = TSVDocPreprocessor('data/slim-slim-top-tier-citation', encoding=\"utf-8\",max_docs=n_docs)\n",
    "\n",
    "from snorkel.parser.spacy_parser import Spacy\n",
    "from snorkel.parser import CorpusParser\n",
    "\n",
    "corpus_parser = CorpusParser(parser=Spacy())\n",
    "%time corpus_parser.apply(doc_preprocessor, count=n_docs)# ,parallelism=5)\n",
    "\n",
    "from snorkel.models import Document, Sentence  # defined in context.py file\n",
    "print(\"Documents:\", session.query(Document).count())"
   ]
  },
  {
   "cell_type": "markdown",
   "metadata": {},
   "source": [
    "### B. Connect to the Database and retrieve Document\n",
    "\n",
    "Recall the Document/Sentence/Candidate hierarchy in the guideline. We also divide the whole document set into buckets of each 100 documents."
   ]
  },
  {
   "cell_type": "code",
   "execution_count": 3,
   "metadata": {},
   "outputs": [
    {
     "name": "stdout",
     "output_type": "stream",
     "text": [
      "Number of buckets 14\n"
     ]
    }
   ],
   "source": [
    "from snorkel import SnorkelSession\n",
    "from snorkel.parser.spacy_parser import Spacy\n",
    "from snorkel.parser import CorpusParser\n",
    "from snorkel.models import Document, Sentence\n",
    "from collections import defaultdict\n",
    "import numpy as np\n",
    "\n",
    "session = SnorkelSession()\n",
    "docs = session.query(Document).all()\n",
    "sents = session.query(Sentence).all()  # get all sentences from snorkel.db\n",
    "\n",
    "docs_per_bucket=100\n",
    "sents_split=defaultdict(lambda:[])\n",
    "for ind, doc in enumerate(docs):\n",
    "    bucket=int(ind/docs_per_bucket)\n",
    "    for s in doc.sentences:\n",
    "        sents_split[bucket]+=[s]\n",
    "print(\"Number of buckets\", len(sents_split))"
   ]
  },
  {
   "cell_type": "markdown",
   "metadata": {},
   "source": [
    "### C. From Documents to Extract Candidates\n",
    "\n",
    "Here we extract the candidates (i.e. unigrams) from one of the document bucket, which has approximately 100 documents. Here we use <b>Bucket 0</b>. So it is our train bucket to learn the generative model from LFs. Later we will use <b>Bucket 1</b> as the development bucket, to draw visualizations and provide feedbacks. "
   ]
  },
  {
   "cell_type": "code",
   "execution_count": 4,
   "metadata": {
    "scrolled": true
   },
   "outputs": [
    {
     "name": "stdout",
     "output_type": "stream",
     "text": [
      "Clearing existing...\n",
      "snorkel_conn_string postgresql:///abstractnetwordworkshopslim\n",
      "if snorkel_postgres? True\n",
      "clearning..\n",
      "Running UDF...\n",
      "snorkel_conn_string postgresql:///abstractnetwordworkshopslim\n",
      "if snorkel_postgres? True\n",
      "[========================================] 100%\n",
      "\n",
      "CPU times: user 32.9 s, sys: 2.21 s, total: 35.1 s\n",
      "Wall time: 1min 7s\n",
      "Number of Candidates/Unigrams 21694\n"
     ]
    }
   ],
   "source": [
    "from snorkel.models import candidate_subclass\n",
    "from snorkel.candidates import Ngrams, CandidateExtractor\n",
    "from snorkel.matchers import *\n",
    "import datetime\n",
    "\n",
    "from IPython.display import Markdown, display\n",
    "def printmd(string):\n",
    "    display(Markdown(string))\n",
    "\n",
    "Unigram = candidate_subclass('Unigram', ['unigram_cue'],values=['PP','MN','NULL'])\n",
    "ngrams = Ngrams(n_max=1) \n",
    "ngram_matcher=NgramMatcher()\n",
    "unigram_segment_extractor=CandidateExtractor(Unigram,[ngrams],[ngram_matcher])\n",
    "\n",
    "train_bucket=0\n",
    "%time unigram_segment_extractor.apply(sents_split[train_bucket], split=train_bucket)\n",
    "unigram_segments=session.query(Unigram).filter(Unigram.split == train_bucket).all()\n",
    "print(\"Number of Candidates/Unigrams\",len(unigram_segments))"
   ]
  },
  {
   "cell_type": "markdown",
   "metadata": {},
   "source": [
    "### D. Data Exploration \n",
    "\n",
    "Let's visualize some Candidates/Unigrams with SentenceNgramViewer. "
   ]
  },
  {
   "cell_type": "code",
   "execution_count": 5,
   "metadata": {},
   "outputs": [
    {
     "data": {
      "application/javascript": [
       "require.undef('viewer');\n",
       "\n",
       "// NOTE: all elements should be selected using this.$el.find to avoid collisions with other Viewers\n",
       "\n",
       "define('viewer', [\"@jupyter-widgets/base\"], function(widgets) {\n",
       "    var ViewerView = widgets.DOMWidgetView.extend({\n",
       "        render: function() {\n",
       "            this.cids   = this.model.get('cids');\n",
       "            this.nPages = this.cids.length;\n",
       "            this.pid  = 0;\n",
       "            this.cxid = 0;\n",
       "            this.cid  = 0;\n",
       "\n",
       "            // Insert the html payload\n",
       "            this.$el.append(this.model.get('html'));\n",
       "\n",
       "            // Initialize all labels from previous sessions\n",
       "            this.labels = this.deserializeDict(this.model.get('_labels_serialized'));\n",
       "            for (var i=0; i < this.nPages; i++) {\n",
       "                this.pid = i;\n",
       "                for (var j=0; j < this.cids[i].length; j++) {\n",
       "                    this.cxid = j;\n",
       "                    for (var k=0; k < this.cids[i][j].length; k++) {\n",
       "                        this.cid = k;\n",
       "                        if (this.cids[i][j][k] in this.labels) {\n",
       "                            this.markCurrentCandidate(false);\n",
       "                        }\n",
       "                    }\n",
       "                }\n",
       "            }\n",
       "            this.pid  = 0;\n",
       "            this.cxid = 0;\n",
       "            this.cid  = 0;\n",
       "\n",
       "            // Enable button functionality for navigation\n",
       "            var that = this;\n",
       "            this.$el.find(\"#next-cand\").click(function() {\n",
       "                that.switchCandidate(1);\n",
       "            });\n",
       "            this.$el.find(\"#prev-cand\").click(function() {\n",
       "                that.switchCandidate(-1);\n",
       "            });\n",
       "            this.$el.find(\"#next-context\").click(function() {\n",
       "                that.switchContext(1);\n",
       "            });\n",
       "            this.$el.find(\"#prev-context\").click(function() {\n",
       "                that.switchContext(-1);\n",
       "            });\n",
       "            this.$el.find(\"#next-page\").click(function() {\n",
       "                that.switchPage(1);\n",
       "            });\n",
       "            this.$el.find(\"#prev-page\").click(function() {\n",
       "                that.switchPage(-1);\n",
       "            });\n",
       "            this.$el.find(\"#label-true\").click(function() {\n",
       "                that.labelCandidate(true, true);\n",
       "            });\n",
       "            this.$el.find(\"#label-false\").click(function() {\n",
       "                that.labelCandidate(false, true);\n",
       "            });\n",
       "\n",
       "            // Arrow key functionality\n",
       "            this.$el.keydown(function(e) {\n",
       "                switch(e.which) {\n",
       "                    case 74: // j\n",
       "                    that.switchCandidate(-1);\n",
       "                    break;\n",
       "\n",
       "                    case 73: // i\n",
       "                    that.switchPage(-1);\n",
       "                    break;\n",
       "\n",
       "                    case 76: // l\n",
       "                    that.switchCandidate(1);\n",
       "                    break;\n",
       "\n",
       "                    case 75: // k\n",
       "                    that.switchPage(1);\n",
       "                    break;\n",
       "\n",
       "                    case 84: // t\n",
       "                    that.labelCandidate(true, true);\n",
       "                    break;\n",
       "\n",
       "                    case 70: // f\n",
       "                    that.labelCandidate(false, true);\n",
       "                    break;\n",
       "                }\n",
       "            });\n",
       "\n",
       "            // Show the first page and highlight the first candidate\n",
       "            this.$el.find(\"#viewer-page-0\").show();\n",
       "            this.switchCandidate(0);\n",
       "        },\n",
       "\n",
       "        // Get candidate selector for currently selected candidate, escaping id properly\n",
       "        getCandidate: function() {\n",
       "            return this.$el.find(\".\"+this.cids[this.pid][this.cxid][this.cid]);\n",
       "        },  \n",
       "\n",
       "        // Color the candidate correctly according to registered label, as well as set highlighting\n",
       "        markCurrentCandidate: function(highlight) {\n",
       "            var cid  = this.cids[this.pid][this.cxid][this.cid];\n",
       "            var tags = this.$el.find(\".\"+cid);\n",
       "\n",
       "            // Clear color classes\n",
       "            tags.removeClass(\"candidate-h\");\n",
       "            tags.removeClass(\"true-candidate\");\n",
       "            tags.removeClass(\"true-candidate-h\");\n",
       "            tags.removeClass(\"false-candidate\");\n",
       "            tags.removeClass(\"false-candidate-h\");\n",
       "            tags.removeClass(\"highlighted\");\n",
       "\n",
       "            if (highlight) {\n",
       "                if (cid in this.labels) {\n",
       "                    tags.addClass(String(this.labels[cid]) + \"-candidate-h\");\n",
       "                } else {\n",
       "                    tags.addClass(\"candidate-h\");\n",
       "                }\n",
       "            \n",
       "            // If un-highlighting, leave with first non-null coloring\n",
       "            } else {\n",
       "                var that = this;\n",
       "                tags.each(function() {\n",
       "                    var cids = $(this).attr('class').split(/\\s+/).map(function(item) {\n",
       "                        return parseInt(item);\n",
       "                    });\n",
       "                    cids.sort();\n",
       "                    for (var i in cids) {\n",
       "                        if (cids[i] in that.labels) {\n",
       "                            var label = that.labels[cids[i]];\n",
       "                            $(this).addClass(String(label) + \"-candidate\");\n",
       "                            $(this).removeClass(String(!label) + \"-candidate\");\n",
       "                            break;\n",
       "                        }\n",
       "                    }\n",
       "                });\n",
       "            }\n",
       "\n",
       "            // Extra highlighting css\n",
       "            if (highlight) {\n",
       "                tags.addClass(\"highlighted\");\n",
       "            }\n",
       "\n",
       "            // Classes for showing direction of relation\n",
       "            if (highlight) {\n",
       "                this.$el.find(\".\"+cid+\"-0\").addClass(\"left-candidate\");\n",
       "                this.$el.find(\".\"+cid+\"-1\").addClass(\"right-candidate\");\n",
       "            } else {\n",
       "                this.$el.find(\".\"+cid+\"-0\").removeClass(\"left-candidate\");\n",
       "                this.$el.find(\".\"+cid+\"-1\").removeClass(\"right-candidate\");\n",
       "            }\n",
       "        },\n",
       "\n",
       "        // Cycle through candidates and highlight, by increment inc\n",
       "        switchCandidate: function(inc) {\n",
       "            var N = this.cids[this.pid].length\n",
       "            var M = this.cids[this.pid][this.cxid].length;\n",
       "            if (N == 0 || M == 0) { return false; }\n",
       "\n",
       "            // Clear highlighting from previous candidate\n",
       "            if (inc != 0) {\n",
       "                this.markCurrentCandidate(false);\n",
       "\n",
       "                // Increment the cid counter\n",
       "\n",
       "                // Move to next context\n",
       "                if (this.cid + inc >= M) {\n",
       "                    while (this.cid + inc >= M) {\n",
       "                        \n",
       "                        // At last context on page, halt\n",
       "                        if (this.cxid == N - 1) {\n",
       "                            this.cid = M - 1;\n",
       "                            inc = 0;\n",
       "                            break;\n",
       "                        \n",
       "                        // Increment to next context\n",
       "                        } else {\n",
       "                            inc -= M - this.cid;\n",
       "                            this.cxid += 1;\n",
       "                            M = this.cids[this.pid][this.cxid].length;\n",
       "                            this.cid = 0;\n",
       "                        }\n",
       "                    }\n",
       "\n",
       "                // Move to previous context\n",
       "                } else if (this.cid + inc < 0) {\n",
       "                    while (this.cid + inc < 0) {\n",
       "                        \n",
       "                        // At first context on page, halt\n",
       "                        if (this.cxid == 0) {\n",
       "                            this.cid = 0;\n",
       "                            inc = 0;\n",
       "                            break;\n",
       "                        \n",
       "                        // Increment to previous context\n",
       "                        } else {\n",
       "                            inc += this.cid + 1;\n",
       "                            this.cxid -= 1;\n",
       "                            M = this.cids[this.pid][this.cxid].length;\n",
       "                            this.cid = M - 1;\n",
       "                        }\n",
       "                    }\n",
       "                }\n",
       "\n",
       "                // Move within current context\n",
       "                this.cid += inc;\n",
       "            }\n",
       "            this.markCurrentCandidate(true);\n",
       "\n",
       "            // Push this new cid to the model\n",
       "            this.model.set('_selected_cid', this.cids[this.pid][this.cxid][this.cid]);\n",
       "            this.touch();\n",
       "        },\n",
       "\n",
       "        // Switch through contexts\n",
       "        switchContext: function(inc) {\n",
       "            this.markCurrentCandidate(false);\n",
       "\n",
       "            // Iterate context on this page\n",
       "            var M = this.cids[this.pid].length;\n",
       "            if (this.cxid + inc < 0) {\n",
       "                this.cxid = 0;\n",
       "            } else if (this.cxid + inc >= M) {\n",
       "                this.cxid = M - 1;\n",
       "            } else {\n",
       "                this.cxid += inc;\n",
       "            }\n",
       "\n",
       "            // Reset cid and set to first candidate\n",
       "            this.cid = 0;\n",
       "            this.switchCandidate(0);\n",
       "        },\n",
       "\n",
       "        // Switch through pages\n",
       "        switchPage: function(inc) {\n",
       "            this.markCurrentCandidate(false);\n",
       "            this.$el.find(\".viewer-page\").hide();\n",
       "            if (this.pid + inc < 0) {\n",
       "                this.pid = 0;\n",
       "            } else if (this.pid + inc > this.nPages - 1) {\n",
       "                this.pid = this.nPages - 1;\n",
       "            } else {\n",
       "                this.pid += inc;\n",
       "            }\n",
       "            this.$el.find(\"#viewer-page-\"+this.pid).show();\n",
       "\n",
       "            // Show pagination\n",
       "            this.$el.find(\"#page\").html(this.pid);\n",
       "\n",
       "            // Reset cid and set to first candidate\n",
       "            this.cid = 0;\n",
       "            this.cxid = 0;\n",
       "            this.switchCandidate(0);\n",
       "        },\n",
       "\n",
       "        // Label currently-selected candidate\n",
       "        labelCandidate: function(label, highlighted) {\n",
       "            var c    = this.getCandidate();\n",
       "            var cid  = this.cids[this.pid][this.cxid][this.cid];\n",
       "            var cl   = String(label) + \"-candidate\";\n",
       "            var clh  = String(label) + \"-candidate-h\";\n",
       "            var cln  = String(!label) + \"-candidate\";\n",
       "            var clnh = String(!label) + \"-candidate-h\";\n",
       "\n",
       "            // Toggle label highlighting\n",
       "            if (c.hasClass(cl) || c.hasClass(clh)) {\n",
       "                c.removeClass(cl);\n",
       "                c.removeClass(clh);\n",
       "                if (highlighted) {\n",
       "                    c.addClass(\"candidate-h\");\n",
       "                }\n",
       "                this.labels[cid] = null;\n",
       "                this.send({event: 'delete_label', cid: cid});\n",
       "            } else {\n",
       "                c.removeClass(cln);\n",
       "                c.removeClass(clnh);\n",
       "                if (highlighted) {\n",
       "                    c.addClass(clh);\n",
       "                } else {\n",
       "                    c.addClass(cl);\n",
       "                }\n",
       "                this.labels[cid] = label;\n",
       "                this.send({event: 'set_label', cid: cid, value: label});\n",
       "            }\n",
       "\n",
       "            // Set the label and pass back to the model\n",
       "            this.model.set('_labels_serialized', this.serializeDict(this.labels));\n",
       "            this.touch();\n",
       "        },\n",
       "\n",
       "        // Serialization of hash maps, because traitlets Dict doesn't seem to work...\n",
       "        serializeDict: function(d) {\n",
       "            var s = [];\n",
       "            for (var key in d) {\n",
       "                s.push(key+\"~~\"+d[key]);\n",
       "            }\n",
       "            return s.join();\n",
       "        },\n",
       "\n",
       "        // Deserialization of hash maps\n",
       "        deserializeDict: function(s) {\n",
       "            var d = {};\n",
       "            var entries = s.split(/,/);\n",
       "            var kv;\n",
       "            for (var i in entries) {\n",
       "                kv = entries[i].split(/~~/);\n",
       "                if (kv[1] == \"true\") {\n",
       "                    d[kv[0]] = true;\n",
       "                } else if (kv[1] == \"false\") {\n",
       "                    d[kv[0]] = false;\n",
       "                }\n",
       "            }\n",
       "            return d;\n",
       "        },\n",
       "    });\n",
       "\n",
       "    return {\n",
       "        ViewerView: ViewerView\n",
       "    };\n",
       "});\n"
      ],
      "text/plain": [
       "<IPython.core.display.Javascript object>"
      ]
     },
     "metadata": {},
     "output_type": "display_data"
    },
    {
     "data": {
      "application/vnd.jupyter.widget-view+json": {
       "model_id": "1b09b678bbdc4455944e7f2c70866f2c",
       "version_major": 2,
       "version_minor": 0
      },
      "text/plain": [
       "SentenceNgramViewer(cids=[[[0, 5, 8, 11, 15, 19, 21, 26, 33, 35, 38, 39, 41, 42, 44, 47, 49, 51, 52, 56, 59, 6…"
      ]
     },
     "metadata": {},
     "output_type": "display_data"
    }
   ],
   "source": [
    "from snorkel.viewer import SentenceNgramViewer\n",
    "\n",
    "unigram_segments=session.query(Unigram).filter(Unigram.split == train_bucket).all()\n",
    "SentenceNgramViewer(unigram_segments[0:100], session, n_per_page=10)"
   ]
  },
  {
   "cell_type": "markdown",
   "metadata": {},
   "source": [
    "## II. Labeling Functions\n",
    "### A. Load the n-th version of LFs\n",
    "\n",
    "In this n-th version, a majority of our LFs are cue-based LFs. You can tell from the names!"
   ]
  },
  {
   "cell_type": "code",
   "execution_count": 6,
   "metadata": {},
   "outputs": [
    {
     "name": "stderr",
     "output_type": "stream",
     "text": [
      "/anaconda3/lib/python3.6/site-packages/h5py/__init__.py:36: FutureWarning: Conversion of the second argument of issubdtype from `float` to `np.floating` is deprecated. In future, it will be treated as `np.float64 == np.dtype(float).type`.\n",
      "  from ._conv import register_converters as _register_converters\n"
     ]
    },
    {
     "name": "stdout",
     "output_type": "stream",
     "text": [
      "total LF count 139 unique count 139 purpose_LFs 55 mechanism_LFs 34\n",
      "\n",
      "\n",
      "purpose_LFs\n",
      " ['LF_purpose_TO_VB_neg2_True', 'LF_purpose_goal3_True', 'LF_purpose_goalneg2_True', 'LF_purpose_the_problem_of3_True', 'LF_purpose_the_problem_ofneg2_True', 'LF_purpose_the_task_of3_True', 'LF_purpose_the_task_ofneg2_True', 'LF_purpose_challenging3_True', 'LF_purpose_challengingneg2_True', 'LF_purpose_challenge3_True', 'LF_purpose_challengeneg2_True', 'LF_purpose_fundamental3_True', 'LF_purpose_fundamentalneg2_True', 'LF_purpose_issue3_True', 'LF_purpose_issueneg2_True', 'LF_purpose_allow_3_True', 'LF_purpose_allow_neg2_True', 'LF_purpose_allows_3_True', 'LF_purpose_allows_neg2_True', 'LF_purpose_useful_to3_True', 'LF_purpose_useful_toneg2_True', 'LF_purpose_task3_True', 'LF_purpose_taskneg2_True', 'LF_purpose_investigate3_True', 'LF_purpose_investigateneg2_True', 'LF_purpose_we_study3_True', 'LF_purpose_we_studyneg2_True', 'LF_purpose_although3_True', 'LF_purpose_althoughneg2_True', 'LF_purpose_however3_True', 'LF_purpose_howeverneg2_True', 'LF_purpose_yet_3_True', 'LF_purpose_yet_neg2_True', 'LF_purpose_but_3_True', 'LF_purpose_but_neg2_True', 'LF_purpose_existing_3_True', 'LF_purpose_existing_neg2_True', 'LF_purpose_deals_with_3_True', 'LF_purpose_deals_with_neg2_True', 'LF_purpose_bottleneck3_True', 'LF_purpose_bottleneckneg1_True', 'LF_purpose_problem3_True', 'LF_purpose_problemneg1_True', 'LF_purpose_challenging3_True', 'LF_purpose_challengingneg1_True', 'LF_purpose_fundamental3_True', 'LF_purpose_fundamentalneg1_True', 'LF_purpose_issue3_True', 'LF_purpose_issueneg1_True', 'LF_purpose_task3_True', 'LF_purpose_taskneg1_True', 'LF_purpose_challenge3_True', 'LF_purpose_challengeneg1_True', 'purpose_for_doing', 'purpose_to_verb']\n",
      "\n",
      "\n",
      "mechanism_LFs\n",
      " ['LF_mechanism_propose3_True', 'LF_mechanism_proposeneg2_True', 'LF_mechanism_develop3_True', 'LF_mechanism_developneg2_True', 'LF_mechanism_provide3_True', 'LF_mechanism_provideneg2_True', 'LF_mechanism_presents_3_True', 'LF_mechanism_presents_neg2_True', 'LF_mechanism_present_3_True', 'LF_mechanism_present_neg2_True', 'LF_mechanism_we_use_3_True', 'LF_mechanism_we_use_neg2_True', 'LF_mechanism_uses_3_True', 'LF_mechanism_uses_neg2_True', 'LF_mechanism_using_a_3_True', 'LF_mechanism_using_a_neg2_True', 'LF_mechanism_using_the_3_True', 'LF_mechanism_using_the_neg2_True', 'LF_mechanism_by_using3_True', 'LF_mechanism_by_usingneg2_True', 'LF_mechanism_by_3_True', 'LF_mechanism_by_neg2_True', 'LF_mechanism_method_3_True', 'LF_mechanism_method_neg2_True', 'LF_mechanism_approach_3_True', 'LF_mechanism_approach_neg2_True', 'LF_mechanism_we_also_developed3_True', 'LF_mechanism_we_also_developedneg2_True', 'LF_mechanism_via_3_True', 'LF_mechanism_via_neg2_True', 'LF_mechanism_to_solve_3_True', 'LF_mechanism_to_solve_neg2_True', 'mechanism_by_adv_doing', 'mechanism_an_algorithm']\n",
      "\n",
      "\n",
      "null_LFs\n",
      " ['LF_null_test3_True', 'LF_null_testneg2_True', 'LF_null_dataset3_True', 'LF_null_datasetneg2_True', 'LF_null_experiment3_True', 'LF_null_experimentneg2_True', 'LF_null_results3_True', 'LF_null_resultsneg2_True', 'LF_null_show3_True', 'LF_null_showneg2_True', 'LF_null_observe3_True', 'LF_null_observeneg2_True', 'LF_null_we_prove3_True', 'LF_null_we_proveneg2_True', 'LF_null_evaluates_3_True', 'LF_null_evaluates_neg2_True', 'LF_null_evaluated_3_True', 'LF_null_evaluated_neg2_True', 'LF_null_evaluate_3_True', 'LF_null_evaluate_neg2_True', 'LF_null_demonstrate3_True', 'LF_null_demonstrateneg2_True', 'LF_null_indicate_that3_True', 'LF_null_indicate_thatneg2_True', 'LF_null_indicates_that3_True', 'LF_null_indicates_thatneg2_True', 'LF_null_are_performed3_True', 'LF_null_are_performedneg2_True', 'LF_null_were_performed3_True', 'LF_null_were_performedneg2_True', 'LF_null_have_been3_True', 'LF_null_have_beenneg2_True', 'LF_null_has_been3_True', 'LF_null_has_beenneg2_True', 'LF_null_popular_3_True', 'LF_null_popular_neg2_True', 'LF_null_popularity_3_True', 'LF_null_popularity_neg2_True', 'LF_null_increasing3_True', 'LF_null_increasingneg2_True', 'LF_null_general3_True', 'LF_null_generalneg2_True', 'LF_null_compared_to3_True', 'LF_null_compared_toneg2_True', 'LF_null_compare_3_True', 'LF_null_compare_neg2_True', 'LF_null_settings3_True', 'LF_null_settingsneg1_True', 'LF_null_general3_True', 'LF_null_generalneg1_True']\n"
     ]
    }
   ],
   "source": [
    "from snorkel.lf_helpers import *\n",
    "from snorkel.annotations import LabelAnnotator\n",
    "\n",
    "from LF.util_common_default_categorical import purpose_LFs,mechanism_LFs,null_LFs\n",
    "print(\"total LF count\", len(purpose_LFs+mechanism_LFs+null_LFs), \"unique count\",len(set(purpose_LFs+mechanism_LFs+null_LFs)),\"purpose_LFs\",len(purpose_LFs),\"mechanism_LFs\",len(mechanism_LFs))\n",
    "print(\"\\n\\npurpose_LFs\\n\",[lf.__name__ for lf in purpose_LFs])\n",
    "print(\"\\n\\nmechanism_LFs\\n\",[lf.__name__ for lf in mechanism_LFs])\n",
    "print(\"\\n\\nnull_LFs\\n\",[lf.__name__ for lf in null_LFs])"
   ]
  },
  {
   "cell_type": "markdown",
   "metadata": {},
   "source": [
    "## VI. Development Sandbox\n",
    "### A. Writing New Labeling Functions\n",
    "\n",
    "We will name them as `new_LFs`."
   ]
  },
  {
   "cell_type": "code",
   "execution_count": 7,
   "metadata": {},
   "outputs": [],
   "source": [
    "#\n",
    "# PLACE YOUR LFs HERE\n",
    "#\n",
    "new_LFs=[]"
   ]
  },
  {
   "cell_type": "markdown",
   "metadata": {},
   "source": [
    "### B. Applying Labeling Functions\n",
    "\n",
    "In here we define two functions: (1) applying LFs to get an annotation matrix; (2) use the annotation matrix to learn a generative model."
   ]
  },
  {
   "cell_type": "code",
   "execution_count": 8,
   "metadata": {},
   "outputs": [],
   "source": [
    "from snorkel.learning import GenerativeModel\n",
    "from util import get_candidate_text\n",
    "import matplotlib.pyplot as plt\n",
    "import datetime\n",
    "\n",
    "def get_L_train(LFs,parallelism=1,split=0):\n",
    "    L_train=None\n",
    "    labeler=None\n",
    "    np.random.seed(1701)\n",
    "    labeler = LabelAnnotator(lfs=LFs)\n",
    "    print(datetime.datetime.now())\n",
    "    L_train = labeler.apply(split=split,parallelism=parallelism)# ,cids_query=session.query(Candidate.id).filter(Candidate.get_parent().id %10==1))\n",
    "    print(datetime.datetime.now())\n",
    "    print(type(L_train))\n",
    "    print(L_train.shape)\n",
    "    printmd(\"**Total non_overlapping_coverage on L_train (percentage of labelled over all)**  \"+str(L_train.non_overlapping_coverage()))\n",
    "    return L_train\n",
    "\n",
    "def get_train_marginals(L_train,step_size_nominator=0.1,epochs=100,lf_propensity=True,threads=1,class_prior=False,decay=1.0,reg_param=1e-6):\n",
    "    try:\n",
    "        gen_model=None\n",
    "        print(datetime.datetime.now())\n",
    "        gen_model = GenerativeModel(lf_propensity=lf_propensity,class_prior=class_prior)\n",
    "        gen_model.train(L_train, cardinality=3, epochs=epochs, decay=decay,step_size=step_size_nominator/1e2,reg_param=reg_param,verbose=False,threads=threads)\n",
    "        print(\"training finished \")\n",
    "        print(datetime.datetime.now())\n",
    "        print(\"Finished training generative model, now checking performance against development set labels...\")\n",
    "        print(\"Calculating marginals!\")\n",
    "        train_marginals = gen_model.marginals(L_train)  # the marginal probability of each candidate being True\n",
    "        print(\"no exception\")\n",
    "        print(datetime.datetime.now())\n",
    "        return gen_model,train_marginals\n",
    "    except:\n",
    "        print(\"exception! \")\n",
    "        return gen_model,train_marginals\n"
   ]
  },
  {
   "cell_type": "code",
   "execution_count": 9,
   "metadata": {
    "scrolled": true
   },
   "outputs": [
    {
     "name": "stdout",
     "output_type": "stream",
     "text": [
      "snorkel_conn_string postgresql:///abstractnetwordworkshopslim\n",
      "if snorkel_postgres? True\n",
      "2018-10-16 22:02:02.153330\n",
      "snorkel_conn_string postgresql:///abstractnetwordworkshopslim\n",
      "if snorkel_postgres? True\n",
      "cids_count 21694\n",
      "key_group 0\n",
      "Clearing existing...\n",
      "snorkel_conn_string postgresql:///abstractnetwordworkshopslim\n",
      "if snorkel_postgres? True\n",
      "clearning..\n",
      "Running UDF...\n",
      "snorkel_conn_string postgresql:///abstractnetwordworkshopslim\n",
      "if snorkel_postgres? True\n",
      "[========================================] 100%\n",
      "\n",
      "2018-10-16 22:05:20.476752\n",
      "<class 'snorkel.annotations.csr_LabelMatrix'>\n",
      "(21694, 133)\n"
     ]
    },
    {
     "data": {
      "text/markdown": [
       "**Total non_overlapping_coverage on L_train (percentage of labelled over all)**  0.6605513045081589"
      ],
      "text/plain": [
       "<IPython.core.display.Markdown object>"
      ]
     },
     "metadata": {},
     "output_type": "display_data"
    },
    {
     "name": "stdout",
     "output_type": "stream",
     "text": [
      "(21694, 133)\n"
     ]
    }
   ],
   "source": [
    "L_train=get_L_train(purpose_LFs+mechanism_LFs+null_LFs+new_LFs)\n",
    "print(L_train.shape)"
   ]
  },
  {
   "cell_type": "code",
   "execution_count": 10,
   "metadata": {},
   "outputs": [
    {
     "data": {
      "text/html": [
       "<div>\n",
       "<style scoped>\n",
       "    .dataframe tbody tr th:only-of-type {\n",
       "        vertical-align: middle;\n",
       "    }\n",
       "\n",
       "    .dataframe tbody tr th {\n",
       "        vertical-align: top;\n",
       "    }\n",
       "\n",
       "    .dataframe thead th {\n",
       "        text-align: right;\n",
       "    }\n",
       "</style>\n",
       "<table border=\"1\" class=\"dataframe\">\n",
       "  <thead>\n",
       "    <tr style=\"text-align: right;\">\n",
       "      <th></th>\n",
       "      <th>j</th>\n",
       "      <th>Coverage</th>\n",
       "      <th>Overlaps</th>\n",
       "      <th>Conflicts</th>\n",
       "      <th>Conflict_Coverage_ratio</th>\n",
       "    </tr>\n",
       "  </thead>\n",
       "  <tbody>\n",
       "    <tr>\n",
       "      <th>LF_null_evaluated_3_True</th>\n",
       "      <td>100</td>\n",
       "      <td>0.000184</td>\n",
       "      <td>0.000184</td>\n",
       "      <td>0.000184</td>\n",
       "      <td>1.000000</td>\n",
       "    </tr>\n",
       "    <tr>\n",
       "      <th>LF_purpose_the_task_of3_True</th>\n",
       "      <td>5</td>\n",
       "      <td>0.000092</td>\n",
       "      <td>0.000092</td>\n",
       "      <td>0.000092</td>\n",
       "      <td>1.000000</td>\n",
       "    </tr>\n",
       "    <tr>\n",
       "      <th>LF_purpose_the_task_ofneg2_True</th>\n",
       "      <td>6</td>\n",
       "      <td>0.001890</td>\n",
       "      <td>0.001890</td>\n",
       "      <td>0.001890</td>\n",
       "      <td>1.000000</td>\n",
       "    </tr>\n",
       "    <tr>\n",
       "      <th>LF_mechanism_to_solve_3_True</th>\n",
       "      <td>80</td>\n",
       "      <td>0.000277</td>\n",
       "      <td>0.000277</td>\n",
       "      <td>0.000277</td>\n",
       "      <td>1.000000</td>\n",
       "    </tr>\n",
       "    <tr>\n",
       "      <th>LF_mechanism_to_solve_neg2_True</th>\n",
       "      <td>81</td>\n",
       "      <td>0.004010</td>\n",
       "      <td>0.004010</td>\n",
       "      <td>0.004010</td>\n",
       "      <td>1.000000</td>\n",
       "    </tr>\n",
       "    <tr>\n",
       "      <th>LF_null_evaluated_neg2_True</th>\n",
       "      <td>101</td>\n",
       "      <td>0.001060</td>\n",
       "      <td>0.001060</td>\n",
       "      <td>0.001060</td>\n",
       "      <td>1.000000</td>\n",
       "    </tr>\n",
       "    <tr>\n",
       "      <th>LF_null_evaluate_neg2_True</th>\n",
       "      <td>103</td>\n",
       "      <td>0.005439</td>\n",
       "      <td>0.005347</td>\n",
       "      <td>0.005163</td>\n",
       "      <td>0.949153</td>\n",
       "    </tr>\n",
       "    <tr>\n",
       "      <th>LF_purpose_allows_neg2_True</th>\n",
       "      <td>18</td>\n",
       "      <td>0.009911</td>\n",
       "      <td>0.009450</td>\n",
       "      <td>0.008389</td>\n",
       "      <td>0.846512</td>\n",
       "    </tr>\n",
       "    <tr>\n",
       "      <th>LF_purpose_althoughneg2_True</th>\n",
       "      <td>28</td>\n",
       "      <td>0.009957</td>\n",
       "      <td>0.009450</td>\n",
       "      <td>0.008343</td>\n",
       "      <td>0.837963</td>\n",
       "    </tr>\n",
       "    <tr>\n",
       "      <th>LF_null_compared_toneg2_True</th>\n",
       "      <td>127</td>\n",
       "      <td>0.003181</td>\n",
       "      <td>0.003181</td>\n",
       "      <td>0.002489</td>\n",
       "      <td>0.782609</td>\n",
       "    </tr>\n",
       "    <tr>\n",
       "      <th>mechanism_an_algorithm</th>\n",
       "      <td>83</td>\n",
       "      <td>0.005670</td>\n",
       "      <td>0.004794</td>\n",
       "      <td>0.004379</td>\n",
       "      <td>0.772358</td>\n",
       "    </tr>\n",
       "    <tr>\n",
       "      <th>LF_mechanism_approach_neg2_True</th>\n",
       "      <td>75</td>\n",
       "      <td>0.036001</td>\n",
       "      <td>0.031253</td>\n",
       "      <td>0.027565</td>\n",
       "      <td>0.765685</td>\n",
       "    </tr>\n",
       "    <tr>\n",
       "      <th>LF_null_compared_to3_True</th>\n",
       "      <td>126</td>\n",
       "      <td>0.000369</td>\n",
       "      <td>0.000369</td>\n",
       "      <td>0.000277</td>\n",
       "      <td>0.750000</td>\n",
       "    </tr>\n",
       "    <tr>\n",
       "      <th>LF_mechanism_provideneg2_True</th>\n",
       "      <td>55</td>\n",
       "      <td>0.028810</td>\n",
       "      <td>0.024200</td>\n",
       "      <td>0.021527</td>\n",
       "      <td>0.747200</td>\n",
       "    </tr>\n",
       "    <tr>\n",
       "      <th>LF_mechanism_using_the_neg2_True</th>\n",
       "      <td>67</td>\n",
       "      <td>0.005347</td>\n",
       "      <td>0.004103</td>\n",
       "      <td>0.003964</td>\n",
       "      <td>0.741379</td>\n",
       "    </tr>\n",
       "    <tr>\n",
       "      <th>LF_null_popular_neg2_True</th>\n",
       "      <td>119</td>\n",
       "      <td>0.002535</td>\n",
       "      <td>0.001936</td>\n",
       "      <td>0.001844</td>\n",
       "      <td>0.727273</td>\n",
       "    </tr>\n",
       "    <tr>\n",
       "      <th>LF_null_resultsneg2_True</th>\n",
       "      <td>91</td>\n",
       "      <td>0.031852</td>\n",
       "      <td>0.030469</td>\n",
       "      <td>0.022771</td>\n",
       "      <td>0.714906</td>\n",
       "    </tr>\n",
       "    <tr>\n",
       "      <th>LF_purpose_allows_3_True</th>\n",
       "      <td>17</td>\n",
       "      <td>0.001291</td>\n",
       "      <td>0.001152</td>\n",
       "      <td>0.000922</td>\n",
       "      <td>0.714286</td>\n",
       "    </tr>\n",
       "    <tr>\n",
       "      <th>LF_mechanism_method_neg2_True</th>\n",
       "      <td>73</td>\n",
       "      <td>0.017609</td>\n",
       "      <td>0.015119</td>\n",
       "      <td>0.012400</td>\n",
       "      <td>0.704188</td>\n",
       "    </tr>\n",
       "    <tr>\n",
       "      <th>LF_mechanism_method_3_True</th>\n",
       "      <td>72</td>\n",
       "      <td>0.001936</td>\n",
       "      <td>0.001752</td>\n",
       "      <td>0.001337</td>\n",
       "      <td>0.690476</td>\n",
       "    </tr>\n",
       "    <tr>\n",
       "      <th>LF_null_has_beenneg2_True</th>\n",
       "      <td>117</td>\n",
       "      <td>0.015857</td>\n",
       "      <td>0.012400</td>\n",
       "      <td>0.010786</td>\n",
       "      <td>0.680233</td>\n",
       "    </tr>\n",
       "    <tr>\n",
       "      <th>LF_mechanism_via_3_True</th>\n",
       "      <td>78</td>\n",
       "      <td>0.000277</td>\n",
       "      <td>0.000230</td>\n",
       "      <td>0.000184</td>\n",
       "      <td>0.666667</td>\n",
       "    </tr>\n",
       "    <tr>\n",
       "      <th>LF_null_settings3_True</th>\n",
       "      <td>130</td>\n",
       "      <td>0.000415</td>\n",
       "      <td>0.000369</td>\n",
       "      <td>0.000277</td>\n",
       "      <td>0.666667</td>\n",
       "    </tr>\n",
       "    <tr>\n",
       "      <th>LF_mechanism_present_neg2_True</th>\n",
       "      <td>59</td>\n",
       "      <td>0.038167</td>\n",
       "      <td>0.029225</td>\n",
       "      <td>0.024892</td>\n",
       "      <td>0.652174</td>\n",
       "    </tr>\n",
       "    <tr>\n",
       "      <th>LF_mechanism_we_use_neg2_True</th>\n",
       "      <td>61</td>\n",
       "      <td>0.006684</td>\n",
       "      <td>0.005808</td>\n",
       "      <td>0.004287</td>\n",
       "      <td>0.641379</td>\n",
       "    </tr>\n",
       "    <tr>\n",
       "      <th>LF_null_demonstrateneg2_True</th>\n",
       "      <td>105</td>\n",
       "      <td>0.021434</td>\n",
       "      <td>0.017378</td>\n",
       "      <td>0.013644</td>\n",
       "      <td>0.636559</td>\n",
       "    </tr>\n",
       "    <tr>\n",
       "      <th>LF_mechanism_via_neg2_True</th>\n",
       "      <td>79</td>\n",
       "      <td>0.000507</td>\n",
       "      <td>0.000369</td>\n",
       "      <td>0.000323</td>\n",
       "      <td>0.636364</td>\n",
       "    </tr>\n",
       "    <tr>\n",
       "      <th>purpose_for_doing</th>\n",
       "      <td>48</td>\n",
       "      <td>0.055822</td>\n",
       "      <td>0.043238</td>\n",
       "      <td>0.034157</td>\n",
       "      <td>0.611891</td>\n",
       "    </tr>\n",
       "    <tr>\n",
       "      <th>mechanism_by_adv_doing</th>\n",
       "      <td>82</td>\n",
       "      <td>0.041302</td>\n",
       "      <td>0.041302</td>\n",
       "      <td>0.025260</td>\n",
       "      <td>0.611607</td>\n",
       "    </tr>\n",
       "    <tr>\n",
       "      <th>LF_purpose_issueneg2_True</th>\n",
       "      <td>14</td>\n",
       "      <td>0.008574</td>\n",
       "      <td>0.005900</td>\n",
       "      <td>0.005209</td>\n",
       "      <td>0.607527</td>\n",
       "    </tr>\n",
       "    <tr>\n",
       "      <th>LF_null_popular_3_True</th>\n",
       "      <td>118</td>\n",
       "      <td>0.000461</td>\n",
       "      <td>0.000369</td>\n",
       "      <td>0.000277</td>\n",
       "      <td>0.600000</td>\n",
       "    </tr>\n",
       "    <tr>\n",
       "      <th>LF_mechanism_using_a_neg2_True</th>\n",
       "      <td>65</td>\n",
       "      <td>0.010095</td>\n",
       "      <td>0.009219</td>\n",
       "      <td>0.005992</td>\n",
       "      <td>0.593607</td>\n",
       "    </tr>\n",
       "    <tr>\n",
       "      <th>LF_null_compare_neg2_True</th>\n",
       "      <td>129</td>\n",
       "      <td>0.004978</td>\n",
       "      <td>0.004978</td>\n",
       "      <td>0.002950</td>\n",
       "      <td>0.592593</td>\n",
       "    </tr>\n",
       "    <tr>\n",
       "      <th>LF_null_showneg2_True</th>\n",
       "      <td>93</td>\n",
       "      <td>0.069051</td>\n",
       "      <td>0.053102</td>\n",
       "      <td>0.040749</td>\n",
       "      <td>0.590120</td>\n",
       "    </tr>\n",
       "    <tr>\n",
       "      <th>LF_null_generalneg1_True</th>\n",
       "      <td>132</td>\n",
       "      <td>0.023647</td>\n",
       "      <td>0.017885</td>\n",
       "      <td>0.013644</td>\n",
       "      <td>0.576998</td>\n",
       "    </tr>\n",
       "    <tr>\n",
       "      <th>LF_purpose_TO_VB_neg2_True</th>\n",
       "      <td>0</td>\n",
       "      <td>0.151839</td>\n",
       "      <td>0.124366</td>\n",
       "      <td>0.087582</td>\n",
       "      <td>0.576806</td>\n",
       "    </tr>\n",
       "    <tr>\n",
       "      <th>LF_null_evaluate_3_True</th>\n",
       "      <td>102</td>\n",
       "      <td>0.000645</td>\n",
       "      <td>0.000507</td>\n",
       "      <td>0.000369</td>\n",
       "      <td>0.571429</td>\n",
       "    </tr>\n",
       "    <tr>\n",
       "      <th>LF_mechanism_developneg2_True</th>\n",
       "      <td>53</td>\n",
       "      <td>0.026459</td>\n",
       "      <td>0.020282</td>\n",
       "      <td>0.015027</td>\n",
       "      <td>0.567944</td>\n",
       "    </tr>\n",
       "    <tr>\n",
       "      <th>LF_null_generalneg2_True</th>\n",
       "      <td>125</td>\n",
       "      <td>0.036554</td>\n",
       "      <td>0.027473</td>\n",
       "      <td>0.020697</td>\n",
       "      <td>0.566204</td>\n",
       "    </tr>\n",
       "    <tr>\n",
       "      <th>LF_mechanism_by_neg2_True</th>\n",
       "      <td>71</td>\n",
       "      <td>0.094773</td>\n",
       "      <td>0.077026</td>\n",
       "      <td>0.052918</td>\n",
       "      <td>0.558366</td>\n",
       "    </tr>\n",
       "    <tr>\n",
       "      <th>purpose_to_verb</th>\n",
       "      <td>49</td>\n",
       "      <td>0.075366</td>\n",
       "      <td>0.068129</td>\n",
       "      <td>0.041394</td>\n",
       "      <td>0.549235</td>\n",
       "    </tr>\n",
       "    <tr>\n",
       "      <th>LF_purpose_existing_neg2_True</th>\n",
       "      <td>36</td>\n",
       "      <td>0.018899</td>\n",
       "      <td>0.014566</td>\n",
       "      <td>0.010279</td>\n",
       "      <td>0.543902</td>\n",
       "    </tr>\n",
       "    <tr>\n",
       "      <th>LF_purpose_task3_True</th>\n",
       "      <td>21</td>\n",
       "      <td>0.006223</td>\n",
       "      <td>0.006223</td>\n",
       "      <td>0.003365</td>\n",
       "      <td>0.540741</td>\n",
       "    </tr>\n",
       "    <tr>\n",
       "      <th>LF_mechanism_approach_3_True</th>\n",
       "      <td>74</td>\n",
       "      <td>0.003595</td>\n",
       "      <td>0.002996</td>\n",
       "      <td>0.001936</td>\n",
       "      <td>0.538462</td>\n",
       "    </tr>\n",
       "    <tr>\n",
       "      <th>LF_purpose_but_neg2_True</th>\n",
       "      <td>34</td>\n",
       "      <td>0.015857</td>\n",
       "      <td>0.011155</td>\n",
       "      <td>0.008436</td>\n",
       "      <td>0.531977</td>\n",
       "    </tr>\n",
       "    <tr>\n",
       "      <th>LF_mechanism_presents_neg2_True</th>\n",
       "      <td>57</td>\n",
       "      <td>0.013921</td>\n",
       "      <td>0.009588</td>\n",
       "      <td>0.007375</td>\n",
       "      <td>0.529801</td>\n",
       "    </tr>\n",
       "    <tr>\n",
       "      <th>LF_purpose_taskneg2_True</th>\n",
       "      <td>22</td>\n",
       "      <td>0.023002</td>\n",
       "      <td>0.019360</td>\n",
       "      <td>0.012169</td>\n",
       "      <td>0.529058</td>\n",
       "    </tr>\n",
       "    <tr>\n",
       "      <th>LF_mechanism_proposeneg2_True</th>\n",
       "      <td>51</td>\n",
       "      <td>0.052042</td>\n",
       "      <td>0.038582</td>\n",
       "      <td>0.027519</td>\n",
       "      <td>0.528787</td>\n",
       "    </tr>\n",
       "    <tr>\n",
       "      <th>LF_null_results3_True</th>\n",
       "      <td>90</td>\n",
       "      <td>0.006039</td>\n",
       "      <td>0.005624</td>\n",
       "      <td>0.003181</td>\n",
       "      <td>0.526718</td>\n",
       "    </tr>\n",
       "    <tr>\n",
       "      <th>LF_null_general3_True</th>\n",
       "      <td>124</td>\n",
       "      <td>0.005624</td>\n",
       "      <td>0.005624</td>\n",
       "      <td>0.002904</td>\n",
       "      <td>0.516393</td>\n",
       "    </tr>\n",
       "    <tr>\n",
       "      <th>LF_mechanism_provide3_True</th>\n",
       "      <td>54</td>\n",
       "      <td>0.004287</td>\n",
       "      <td>0.003595</td>\n",
       "      <td>0.002213</td>\n",
       "      <td>0.516129</td>\n",
       "    </tr>\n",
       "    <tr>\n",
       "      <th>LF_purpose_taskneg1_True</th>\n",
       "      <td>46</td>\n",
       "      <td>0.040288</td>\n",
       "      <td>0.027704</td>\n",
       "      <td>0.020743</td>\n",
       "      <td>0.514874</td>\n",
       "    </tr>\n",
       "    <tr>\n",
       "      <th>LF_purpose_investigateneg2_True</th>\n",
       "      <td>24</td>\n",
       "      <td>0.004241</td>\n",
       "      <td>0.003964</td>\n",
       "      <td>0.002166</td>\n",
       "      <td>0.510870</td>\n",
       "    </tr>\n",
       "    <tr>\n",
       "      <th>LF_null_datasetneg2_True</th>\n",
       "      <td>87</td>\n",
       "      <td>0.011386</td>\n",
       "      <td>0.010418</td>\n",
       "      <td>0.005716</td>\n",
       "      <td>0.502024</td>\n",
       "    </tr>\n",
       "    <tr>\n",
       "      <th>LF_purpose_existing_3_True</th>\n",
       "      <td>35</td>\n",
       "      <td>0.002397</td>\n",
       "      <td>0.002028</td>\n",
       "      <td>0.001198</td>\n",
       "      <td>0.500000</td>\n",
       "    </tr>\n",
       "    <tr>\n",
       "      <th>LF_null_experimentneg2_True</th>\n",
       "      <td>89</td>\n",
       "      <td>0.033973</td>\n",
       "      <td>0.029916</td>\n",
       "      <td>0.016963</td>\n",
       "      <td>0.499322</td>\n",
       "    </tr>\n",
       "    <tr>\n",
       "      <th>LF_null_settingsneg1_True</th>\n",
       "      <td>131</td>\n",
       "      <td>0.003088</td>\n",
       "      <td>0.001613</td>\n",
       "      <td>0.001521</td>\n",
       "      <td>0.492537</td>\n",
       "    </tr>\n",
       "    <tr>\n",
       "      <th>LF_null_indicate_thatneg2_True</th>\n",
       "      <td>107</td>\n",
       "      <td>0.002074</td>\n",
       "      <td>0.001706</td>\n",
       "      <td>0.001014</td>\n",
       "      <td>0.488889</td>\n",
       "    </tr>\n",
       "    <tr>\n",
       "      <th>LF_mechanism_present_3_True</th>\n",
       "      <td>58</td>\n",
       "      <td>0.003411</td>\n",
       "      <td>0.002535</td>\n",
       "      <td>0.001659</td>\n",
       "      <td>0.486486</td>\n",
       "    </tr>\n",
       "    <tr>\n",
       "      <th>LF_purpose_but_3_True</th>\n",
       "      <td>33</td>\n",
       "      <td>0.002489</td>\n",
       "      <td>0.002028</td>\n",
       "      <td>0.001198</td>\n",
       "      <td>0.481481</td>\n",
       "    </tr>\n",
       "    <tr>\n",
       "      <th>LF_null_test3_True</th>\n",
       "      <td>84</td>\n",
       "      <td>0.001798</td>\n",
       "      <td>0.001521</td>\n",
       "      <td>0.000830</td>\n",
       "      <td>0.461538</td>\n",
       "    </tr>\n",
       "    <tr>\n",
       "      <th>LF_mechanism_using_a_3_True</th>\n",
       "      <td>64</td>\n",
       "      <td>0.000507</td>\n",
       "      <td>0.000415</td>\n",
       "      <td>0.000230</td>\n",
       "      <td>0.454545</td>\n",
       "    </tr>\n",
       "    <tr>\n",
       "      <th>LF_mechanism_by_3_True</th>\n",
       "      <td>70</td>\n",
       "      <td>0.011800</td>\n",
       "      <td>0.010325</td>\n",
       "      <td>0.005163</td>\n",
       "      <td>0.437500</td>\n",
       "    </tr>\n",
       "    <tr>\n",
       "      <th>LF_mechanism_develop3_True</th>\n",
       "      <td>52</td>\n",
       "      <td>0.003734</td>\n",
       "      <td>0.003319</td>\n",
       "      <td>0.001613</td>\n",
       "      <td>0.432099</td>\n",
       "    </tr>\n",
       "    <tr>\n",
       "      <th>LF_null_increasingneg2_True</th>\n",
       "      <td>123</td>\n",
       "      <td>0.003918</td>\n",
       "      <td>0.001890</td>\n",
       "      <td>0.001613</td>\n",
       "      <td>0.411765</td>\n",
       "    </tr>\n",
       "    <tr>\n",
       "      <th>LF_null_testneg2_True</th>\n",
       "      <td>85</td>\n",
       "      <td>0.008943</td>\n",
       "      <td>0.004610</td>\n",
       "      <td>0.003595</td>\n",
       "      <td>0.402062</td>\n",
       "    </tr>\n",
       "    <tr>\n",
       "      <th>LF_null_have_beenneg2_True</th>\n",
       "      <td>115</td>\n",
       "      <td>0.005301</td>\n",
       "      <td>0.004241</td>\n",
       "      <td>0.002120</td>\n",
       "      <td>0.400000</td>\n",
       "    </tr>\n",
       "    <tr>\n",
       "      <th>LF_null_compare_3_True</th>\n",
       "      <td>128</td>\n",
       "      <td>0.000461</td>\n",
       "      <td>0.000461</td>\n",
       "      <td>0.000184</td>\n",
       "      <td>0.400000</td>\n",
       "    </tr>\n",
       "    <tr>\n",
       "      <th>LF_mechanism_uses_neg2_True</th>\n",
       "      <td>63</td>\n",
       "      <td>0.007836</td>\n",
       "      <td>0.005163</td>\n",
       "      <td>0.003135</td>\n",
       "      <td>0.400000</td>\n",
       "    </tr>\n",
       "    <tr>\n",
       "      <th>LF_purpose_although3_True</th>\n",
       "      <td>27</td>\n",
       "      <td>0.000922</td>\n",
       "      <td>0.000876</td>\n",
       "      <td>0.000369</td>\n",
       "      <td>0.400000</td>\n",
       "    </tr>\n",
       "    <tr>\n",
       "      <th>LF_null_dataset3_True</th>\n",
       "      <td>86</td>\n",
       "      <td>0.002766</td>\n",
       "      <td>0.002581</td>\n",
       "      <td>0.001106</td>\n",
       "      <td>0.400000</td>\n",
       "    </tr>\n",
       "    <tr>\n",
       "      <th>LF_null_increasing3_True</th>\n",
       "      <td>122</td>\n",
       "      <td>0.000691</td>\n",
       "      <td>0.000553</td>\n",
       "      <td>0.000277</td>\n",
       "      <td>0.400000</td>\n",
       "    </tr>\n",
       "    <tr>\n",
       "      <th>LF_purpose_useful_toneg2_True</th>\n",
       "      <td>20</td>\n",
       "      <td>0.000968</td>\n",
       "      <td>0.000968</td>\n",
       "      <td>0.000369</td>\n",
       "      <td>0.380952</td>\n",
       "    </tr>\n",
       "    <tr>\n",
       "      <th>LF_purpose_allow_3_True</th>\n",
       "      <td>15</td>\n",
       "      <td>0.000738</td>\n",
       "      <td>0.000599</td>\n",
       "      <td>0.000277</td>\n",
       "      <td>0.375000</td>\n",
       "    </tr>\n",
       "    <tr>\n",
       "      <th>LF_mechanism_propose3_True</th>\n",
       "      <td>50</td>\n",
       "      <td>0.008159</td>\n",
       "      <td>0.006592</td>\n",
       "      <td>0.003042</td>\n",
       "      <td>0.372881</td>\n",
       "    </tr>\n",
       "    <tr>\n",
       "      <th>LF_purpose_challengeneg1_True</th>\n",
       "      <td>47</td>\n",
       "      <td>0.006776</td>\n",
       "      <td>0.004333</td>\n",
       "      <td>0.002489</td>\n",
       "      <td>0.367347</td>\n",
       "    </tr>\n",
       "    <tr>\n",
       "      <th>LF_purpose_problemneg1_True</th>\n",
       "      <td>42</td>\n",
       "      <td>0.046142</td>\n",
       "      <td>0.026828</td>\n",
       "      <td>0.016825</td>\n",
       "      <td>0.364635</td>\n",
       "    </tr>\n",
       "    <tr>\n",
       "      <th>LF_purpose_problem3_True</th>\n",
       "      <td>41</td>\n",
       "      <td>0.011201</td>\n",
       "      <td>0.010095</td>\n",
       "      <td>0.003918</td>\n",
       "      <td>0.349794</td>\n",
       "    </tr>\n",
       "    <tr>\n",
       "      <th>LF_purpose_challengingneg1_True</th>\n",
       "      <td>43</td>\n",
       "      <td>0.003734</td>\n",
       "      <td>0.003411</td>\n",
       "      <td>0.001291</td>\n",
       "      <td>0.345679</td>\n",
       "    </tr>\n",
       "    <tr>\n",
       "      <th>LF_null_has_been3_True</th>\n",
       "      <td>116</td>\n",
       "      <td>0.001383</td>\n",
       "      <td>0.000968</td>\n",
       "      <td>0.000461</td>\n",
       "      <td>0.333333</td>\n",
       "    </tr>\n",
       "    <tr>\n",
       "      <th>LF_mechanism_using_the_3_True</th>\n",
       "      <td>66</td>\n",
       "      <td>0.000277</td>\n",
       "      <td>0.000138</td>\n",
       "      <td>0.000092</td>\n",
       "      <td>0.333333</td>\n",
       "    </tr>\n",
       "    <tr>\n",
       "      <th>LF_purpose_challenge3_True</th>\n",
       "      <td>9</td>\n",
       "      <td>0.001383</td>\n",
       "      <td>0.001383</td>\n",
       "      <td>0.000461</td>\n",
       "      <td>0.333333</td>\n",
       "    </tr>\n",
       "    <tr>\n",
       "      <th>LF_null_we_prove3_True</th>\n",
       "      <td>96</td>\n",
       "      <td>0.000277</td>\n",
       "      <td>0.000184</td>\n",
       "      <td>0.000092</td>\n",
       "      <td>0.333333</td>\n",
       "    </tr>\n",
       "    <tr>\n",
       "      <th>LF_purpose_challenging3_True</th>\n",
       "      <td>7</td>\n",
       "      <td>0.000830</td>\n",
       "      <td>0.000830</td>\n",
       "      <td>0.000277</td>\n",
       "      <td>0.333333</td>\n",
       "    </tr>\n",
       "    <tr>\n",
       "      <th>LF_purpose_allow_neg2_True</th>\n",
       "      <td>16</td>\n",
       "      <td>0.007145</td>\n",
       "      <td>0.006315</td>\n",
       "      <td>0.002351</td>\n",
       "      <td>0.329032</td>\n",
       "    </tr>\n",
       "    <tr>\n",
       "      <th>LF_null_observeneg2_True</th>\n",
       "      <td>95</td>\n",
       "      <td>0.008712</td>\n",
       "      <td>0.003365</td>\n",
       "      <td>0.002766</td>\n",
       "      <td>0.317460</td>\n",
       "    </tr>\n",
       "    <tr>\n",
       "      <th>LF_null_show3_True</th>\n",
       "      <td>92</td>\n",
       "      <td>0.008712</td>\n",
       "      <td>0.007283</td>\n",
       "      <td>0.002720</td>\n",
       "      <td>0.312169</td>\n",
       "    </tr>\n",
       "    <tr>\n",
       "      <th>LF_null_experiment3_True</th>\n",
       "      <td>88</td>\n",
       "      <td>0.004287</td>\n",
       "      <td>0.003549</td>\n",
       "      <td>0.001337</td>\n",
       "      <td>0.311828</td>\n",
       "    </tr>\n",
       "    <tr>\n",
       "      <th>LF_null_have_been3_True</th>\n",
       "      <td>114</td>\n",
       "      <td>0.000645</td>\n",
       "      <td>0.000461</td>\n",
       "      <td>0.000184</td>\n",
       "      <td>0.285714</td>\n",
       "    </tr>\n",
       "    <tr>\n",
       "      <th>LF_null_we_proveneg2_True</th>\n",
       "      <td>97</td>\n",
       "      <td>0.002766</td>\n",
       "      <td>0.000876</td>\n",
       "      <td>0.000784</td>\n",
       "      <td>0.283333</td>\n",
       "    </tr>\n",
       "    <tr>\n",
       "      <th>LF_purpose_goalneg2_True</th>\n",
       "      <td>2</td>\n",
       "      <td>0.005946</td>\n",
       "      <td>0.003688</td>\n",
       "      <td>0.001659</td>\n",
       "      <td>0.279070</td>\n",
       "    </tr>\n",
       "    <tr>\n",
       "      <th>LF_purpose_goal3_True</th>\n",
       "      <td>1</td>\n",
       "      <td>0.001106</td>\n",
       "      <td>0.000876</td>\n",
       "      <td>0.000277</td>\n",
       "      <td>0.250000</td>\n",
       "    </tr>\n",
       "    <tr>\n",
       "      <th>LF_null_observe3_True</th>\n",
       "      <td>94</td>\n",
       "      <td>0.001106</td>\n",
       "      <td>0.000876</td>\n",
       "      <td>0.000277</td>\n",
       "      <td>0.250000</td>\n",
       "    </tr>\n",
       "    <tr>\n",
       "      <th>LF_purpose_challengeneg2_True</th>\n",
       "      <td>10</td>\n",
       "      <td>0.008159</td>\n",
       "      <td>0.005624</td>\n",
       "      <td>0.002028</td>\n",
       "      <td>0.248588</td>\n",
       "    </tr>\n",
       "    <tr>\n",
       "      <th>LF_purpose_fundamentalneg1_True</th>\n",
       "      <td>44</td>\n",
       "      <td>0.003088</td>\n",
       "      <td>0.001936</td>\n",
       "      <td>0.000691</td>\n",
       "      <td>0.223881</td>\n",
       "    </tr>\n",
       "    <tr>\n",
       "      <th>LF_mechanism_by_usingneg2_True</th>\n",
       "      <td>69</td>\n",
       "      <td>0.002766</td>\n",
       "      <td>0.002766</td>\n",
       "      <td>0.000599</td>\n",
       "      <td>0.216667</td>\n",
       "    </tr>\n",
       "    <tr>\n",
       "      <th>LF_mechanism_presents_3_True</th>\n",
       "      <td>56</td>\n",
       "      <td>0.001291</td>\n",
       "      <td>0.000784</td>\n",
       "      <td>0.000277</td>\n",
       "      <td>0.214286</td>\n",
       "    </tr>\n",
       "    <tr>\n",
       "      <th>LF_purpose_challengingneg2_True</th>\n",
       "      <td>8</td>\n",
       "      <td>0.004287</td>\n",
       "      <td>0.002581</td>\n",
       "      <td>0.000876</td>\n",
       "      <td>0.204301</td>\n",
       "    </tr>\n",
       "    <tr>\n",
       "      <th>LF_purpose_howeverneg2_True</th>\n",
       "      <td>30</td>\n",
       "      <td>0.026736</td>\n",
       "      <td>0.013690</td>\n",
       "      <td>0.005301</td>\n",
       "      <td>0.198276</td>\n",
       "    </tr>\n",
       "    <tr>\n",
       "      <th>LF_null_demonstrate3_True</th>\n",
       "      <td>104</td>\n",
       "      <td>0.002904</td>\n",
       "      <td>0.002397</td>\n",
       "      <td>0.000553</td>\n",
       "      <td>0.190476</td>\n",
       "    </tr>\n",
       "    <tr>\n",
       "      <th>LF_purpose_fundamental3_True</th>\n",
       "      <td>11</td>\n",
       "      <td>0.000830</td>\n",
       "      <td>0.000830</td>\n",
       "      <td>0.000138</td>\n",
       "      <td>0.166667</td>\n",
       "    </tr>\n",
       "    <tr>\n",
       "      <th>LF_purpose_investigate3_True</th>\n",
       "      <td>23</td>\n",
       "      <td>0.000830</td>\n",
       "      <td>0.000784</td>\n",
       "      <td>0.000138</td>\n",
       "      <td>0.166667</td>\n",
       "    </tr>\n",
       "    <tr>\n",
       "      <th>LF_purpose_yet_3_True</th>\n",
       "      <td>31</td>\n",
       "      <td>0.000553</td>\n",
       "      <td>0.000507</td>\n",
       "      <td>0.000092</td>\n",
       "      <td>0.166667</td>\n",
       "    </tr>\n",
       "    <tr>\n",
       "      <th>LF_purpose_yet_neg2_True</th>\n",
       "      <td>32</td>\n",
       "      <td>0.003734</td>\n",
       "      <td>0.002858</td>\n",
       "      <td>0.000599</td>\n",
       "      <td>0.160494</td>\n",
       "    </tr>\n",
       "    <tr>\n",
       "      <th>LF_purpose_issueneg1_True</th>\n",
       "      <td>45</td>\n",
       "      <td>0.002858</td>\n",
       "      <td>0.001152</td>\n",
       "      <td>0.000415</td>\n",
       "      <td>0.145161</td>\n",
       "    </tr>\n",
       "    <tr>\n",
       "      <th>LF_mechanism_we_use_3_True</th>\n",
       "      <td>60</td>\n",
       "      <td>0.000323</td>\n",
       "      <td>0.000092</td>\n",
       "      <td>0.000046</td>\n",
       "      <td>0.142857</td>\n",
       "    </tr>\n",
       "    <tr>\n",
       "      <th>LF_purpose_however3_True</th>\n",
       "      <td>29</td>\n",
       "      <td>0.002166</td>\n",
       "      <td>0.002028</td>\n",
       "      <td>0.000277</td>\n",
       "      <td>0.127660</td>\n",
       "    </tr>\n",
       "    <tr>\n",
       "      <th>LF_purpose_issue3_True</th>\n",
       "      <td>13</td>\n",
       "      <td>0.001106</td>\n",
       "      <td>0.001106</td>\n",
       "      <td>0.000138</td>\n",
       "      <td>0.125000</td>\n",
       "    </tr>\n",
       "    <tr>\n",
       "      <th>LF_purpose_the_problem_of3_True</th>\n",
       "      <td>3</td>\n",
       "      <td>0.000461</td>\n",
       "      <td>0.000461</td>\n",
       "      <td>0.000046</td>\n",
       "      <td>0.100000</td>\n",
       "    </tr>\n",
       "    <tr>\n",
       "      <th>LF_mechanism_uses_3_True</th>\n",
       "      <td>62</td>\n",
       "      <td>0.001014</td>\n",
       "      <td>0.000599</td>\n",
       "      <td>0.000092</td>\n",
       "      <td>0.090909</td>\n",
       "    </tr>\n",
       "    <tr>\n",
       "      <th>LF_purpose_the_problem_ofneg2_True</th>\n",
       "      <td>4</td>\n",
       "      <td>0.008482</td>\n",
       "      <td>0.006223</td>\n",
       "      <td>0.000691</td>\n",
       "      <td>0.081522</td>\n",
       "    </tr>\n",
       "    <tr>\n",
       "      <th>LF_purpose_fundamentalneg2_True</th>\n",
       "      <td>12</td>\n",
       "      <td>0.003411</td>\n",
       "      <td>0.001060</td>\n",
       "      <td>0.000138</td>\n",
       "      <td>0.040541</td>\n",
       "    </tr>\n",
       "    <tr>\n",
       "      <th>LF_purpose_we_studyneg2_True</th>\n",
       "      <td>26</td>\n",
       "      <td>0.007329</td>\n",
       "      <td>0.005946</td>\n",
       "      <td>0.000277</td>\n",
       "      <td>0.037736</td>\n",
       "    </tr>\n",
       "    <tr>\n",
       "      <th>LF_null_indicate_that3_True</th>\n",
       "      <td>106</td>\n",
       "      <td>0.000184</td>\n",
       "      <td>0.000138</td>\n",
       "      <td>0.000000</td>\n",
       "      <td>0.000000</td>\n",
       "    </tr>\n",
       "    <tr>\n",
       "      <th>LF_purpose_bottleneckneg1_True</th>\n",
       "      <td>40</td>\n",
       "      <td>0.002305</td>\n",
       "      <td>0.000184</td>\n",
       "      <td>0.000000</td>\n",
       "      <td>0.000000</td>\n",
       "    </tr>\n",
       "    <tr>\n",
       "      <th>LF_purpose_we_study3_True</th>\n",
       "      <td>25</td>\n",
       "      <td>0.000645</td>\n",
       "      <td>0.000553</td>\n",
       "      <td>0.000000</td>\n",
       "      <td>0.000000</td>\n",
       "    </tr>\n",
       "    <tr>\n",
       "      <th>LF_purpose_bottleneck3_True</th>\n",
       "      <td>39</td>\n",
       "      <td>0.000277</td>\n",
       "      <td>0.000184</td>\n",
       "      <td>0.000000</td>\n",
       "      <td>0.000000</td>\n",
       "    </tr>\n",
       "    <tr>\n",
       "      <th>LF_mechanism_by_using3_True</th>\n",
       "      <td>68</td>\n",
       "      <td>0.000184</td>\n",
       "      <td>0.000184</td>\n",
       "      <td>0.000000</td>\n",
       "      <td>0.000000</td>\n",
       "    </tr>\n",
       "    <tr>\n",
       "      <th>LF_purpose_useful_to3_True</th>\n",
       "      <td>19</td>\n",
       "      <td>0.000092</td>\n",
       "      <td>0.000046</td>\n",
       "      <td>0.000000</td>\n",
       "      <td>0.000000</td>\n",
       "    </tr>\n",
       "    <tr>\n",
       "      <th>LF_purpose_deals_with_3_True</th>\n",
       "      <td>37</td>\n",
       "      <td>0.000000</td>\n",
       "      <td>0.000000</td>\n",
       "      <td>0.000000</td>\n",
       "      <td>NaN</td>\n",
       "    </tr>\n",
       "    <tr>\n",
       "      <th>LF_purpose_deals_with_neg2_True</th>\n",
       "      <td>38</td>\n",
       "      <td>0.000000</td>\n",
       "      <td>0.000000</td>\n",
       "      <td>0.000000</td>\n",
       "      <td>NaN</td>\n",
       "    </tr>\n",
       "    <tr>\n",
       "      <th>LF_mechanism_we_also_developed3_True</th>\n",
       "      <td>76</td>\n",
       "      <td>0.000000</td>\n",
       "      <td>0.000000</td>\n",
       "      <td>0.000000</td>\n",
       "      <td>NaN</td>\n",
       "    </tr>\n",
       "    <tr>\n",
       "      <th>LF_mechanism_we_also_developedneg2_True</th>\n",
       "      <td>77</td>\n",
       "      <td>0.000000</td>\n",
       "      <td>0.000000</td>\n",
       "      <td>0.000000</td>\n",
       "      <td>NaN</td>\n",
       "    </tr>\n",
       "    <tr>\n",
       "      <th>LF_null_evaluates_3_True</th>\n",
       "      <td>98</td>\n",
       "      <td>0.000000</td>\n",
       "      <td>0.000000</td>\n",
       "      <td>0.000000</td>\n",
       "      <td>NaN</td>\n",
       "    </tr>\n",
       "    <tr>\n",
       "      <th>LF_null_evaluates_neg2_True</th>\n",
       "      <td>99</td>\n",
       "      <td>0.000000</td>\n",
       "      <td>0.000000</td>\n",
       "      <td>0.000000</td>\n",
       "      <td>NaN</td>\n",
       "    </tr>\n",
       "    <tr>\n",
       "      <th>LF_null_indicates_that3_True</th>\n",
       "      <td>108</td>\n",
       "      <td>0.000000</td>\n",
       "      <td>0.000000</td>\n",
       "      <td>0.000000</td>\n",
       "      <td>NaN</td>\n",
       "    </tr>\n",
       "    <tr>\n",
       "      <th>LF_null_indicates_thatneg2_True</th>\n",
       "      <td>109</td>\n",
       "      <td>0.000000</td>\n",
       "      <td>0.000000</td>\n",
       "      <td>0.000000</td>\n",
       "      <td>NaN</td>\n",
       "    </tr>\n",
       "    <tr>\n",
       "      <th>LF_null_are_performed3_True</th>\n",
       "      <td>110</td>\n",
       "      <td>0.000000</td>\n",
       "      <td>0.000000</td>\n",
       "      <td>0.000000</td>\n",
       "      <td>NaN</td>\n",
       "    </tr>\n",
       "    <tr>\n",
       "      <th>LF_null_are_performedneg2_True</th>\n",
       "      <td>111</td>\n",
       "      <td>0.000000</td>\n",
       "      <td>0.000000</td>\n",
       "      <td>0.000000</td>\n",
       "      <td>NaN</td>\n",
       "    </tr>\n",
       "    <tr>\n",
       "      <th>LF_null_were_performed3_True</th>\n",
       "      <td>112</td>\n",
       "      <td>0.000000</td>\n",
       "      <td>0.000000</td>\n",
       "      <td>0.000000</td>\n",
       "      <td>NaN</td>\n",
       "    </tr>\n",
       "    <tr>\n",
       "      <th>LF_null_were_performedneg2_True</th>\n",
       "      <td>113</td>\n",
       "      <td>0.000000</td>\n",
       "      <td>0.000000</td>\n",
       "      <td>0.000000</td>\n",
       "      <td>NaN</td>\n",
       "    </tr>\n",
       "    <tr>\n",
       "      <th>LF_null_popularity_3_True</th>\n",
       "      <td>120</td>\n",
       "      <td>0.000000</td>\n",
       "      <td>0.000000</td>\n",
       "      <td>0.000000</td>\n",
       "      <td>NaN</td>\n",
       "    </tr>\n",
       "    <tr>\n",
       "      <th>LF_null_popularity_neg2_True</th>\n",
       "      <td>121</td>\n",
       "      <td>0.000000</td>\n",
       "      <td>0.000000</td>\n",
       "      <td>0.000000</td>\n",
       "      <td>NaN</td>\n",
       "    </tr>\n",
       "  </tbody>\n",
       "</table>\n",
       "</div>"
      ],
      "text/plain": [
       "                                           j  Coverage  Overlaps  Conflicts  \\\n",
       "LF_null_evaluated_3_True                 100  0.000184  0.000184   0.000184   \n",
       "LF_purpose_the_task_of3_True               5  0.000092  0.000092   0.000092   \n",
       "LF_purpose_the_task_ofneg2_True            6  0.001890  0.001890   0.001890   \n",
       "LF_mechanism_to_solve_3_True              80  0.000277  0.000277   0.000277   \n",
       "LF_mechanism_to_solve_neg2_True           81  0.004010  0.004010   0.004010   \n",
       "LF_null_evaluated_neg2_True              101  0.001060  0.001060   0.001060   \n",
       "LF_null_evaluate_neg2_True               103  0.005439  0.005347   0.005163   \n",
       "LF_purpose_allows_neg2_True               18  0.009911  0.009450   0.008389   \n",
       "LF_purpose_althoughneg2_True              28  0.009957  0.009450   0.008343   \n",
       "LF_null_compared_toneg2_True             127  0.003181  0.003181   0.002489   \n",
       "mechanism_an_algorithm                    83  0.005670  0.004794   0.004379   \n",
       "LF_mechanism_approach_neg2_True           75  0.036001  0.031253   0.027565   \n",
       "LF_null_compared_to3_True                126  0.000369  0.000369   0.000277   \n",
       "LF_mechanism_provideneg2_True             55  0.028810  0.024200   0.021527   \n",
       "LF_mechanism_using_the_neg2_True          67  0.005347  0.004103   0.003964   \n",
       "LF_null_popular_neg2_True                119  0.002535  0.001936   0.001844   \n",
       "LF_null_resultsneg2_True                  91  0.031852  0.030469   0.022771   \n",
       "LF_purpose_allows_3_True                  17  0.001291  0.001152   0.000922   \n",
       "LF_mechanism_method_neg2_True             73  0.017609  0.015119   0.012400   \n",
       "LF_mechanism_method_3_True                72  0.001936  0.001752   0.001337   \n",
       "LF_null_has_beenneg2_True                117  0.015857  0.012400   0.010786   \n",
       "LF_mechanism_via_3_True                   78  0.000277  0.000230   0.000184   \n",
       "LF_null_settings3_True                   130  0.000415  0.000369   0.000277   \n",
       "LF_mechanism_present_neg2_True            59  0.038167  0.029225   0.024892   \n",
       "LF_mechanism_we_use_neg2_True             61  0.006684  0.005808   0.004287   \n",
       "LF_null_demonstrateneg2_True             105  0.021434  0.017378   0.013644   \n",
       "LF_mechanism_via_neg2_True                79  0.000507  0.000369   0.000323   \n",
       "purpose_for_doing                         48  0.055822  0.043238   0.034157   \n",
       "mechanism_by_adv_doing                    82  0.041302  0.041302   0.025260   \n",
       "LF_purpose_issueneg2_True                 14  0.008574  0.005900   0.005209   \n",
       "LF_null_popular_3_True                   118  0.000461  0.000369   0.000277   \n",
       "LF_mechanism_using_a_neg2_True            65  0.010095  0.009219   0.005992   \n",
       "LF_null_compare_neg2_True                129  0.004978  0.004978   0.002950   \n",
       "LF_null_showneg2_True                     93  0.069051  0.053102   0.040749   \n",
       "LF_null_generalneg1_True                 132  0.023647  0.017885   0.013644   \n",
       "LF_purpose_TO_VB_neg2_True                 0  0.151839  0.124366   0.087582   \n",
       "LF_null_evaluate_3_True                  102  0.000645  0.000507   0.000369   \n",
       "LF_mechanism_developneg2_True             53  0.026459  0.020282   0.015027   \n",
       "LF_null_generalneg2_True                 125  0.036554  0.027473   0.020697   \n",
       "LF_mechanism_by_neg2_True                 71  0.094773  0.077026   0.052918   \n",
       "purpose_to_verb                           49  0.075366  0.068129   0.041394   \n",
       "LF_purpose_existing_neg2_True             36  0.018899  0.014566   0.010279   \n",
       "LF_purpose_task3_True                     21  0.006223  0.006223   0.003365   \n",
       "LF_mechanism_approach_3_True              74  0.003595  0.002996   0.001936   \n",
       "LF_purpose_but_neg2_True                  34  0.015857  0.011155   0.008436   \n",
       "LF_mechanism_presents_neg2_True           57  0.013921  0.009588   0.007375   \n",
       "LF_purpose_taskneg2_True                  22  0.023002  0.019360   0.012169   \n",
       "LF_mechanism_proposeneg2_True             51  0.052042  0.038582   0.027519   \n",
       "LF_null_results3_True                     90  0.006039  0.005624   0.003181   \n",
       "LF_null_general3_True                    124  0.005624  0.005624   0.002904   \n",
       "LF_mechanism_provide3_True                54  0.004287  0.003595   0.002213   \n",
       "LF_purpose_taskneg1_True                  46  0.040288  0.027704   0.020743   \n",
       "LF_purpose_investigateneg2_True           24  0.004241  0.003964   0.002166   \n",
       "LF_null_datasetneg2_True                  87  0.011386  0.010418   0.005716   \n",
       "LF_purpose_existing_3_True                35  0.002397  0.002028   0.001198   \n",
       "LF_null_experimentneg2_True               89  0.033973  0.029916   0.016963   \n",
       "LF_null_settingsneg1_True                131  0.003088  0.001613   0.001521   \n",
       "LF_null_indicate_thatneg2_True           107  0.002074  0.001706   0.001014   \n",
       "LF_mechanism_present_3_True               58  0.003411  0.002535   0.001659   \n",
       "LF_purpose_but_3_True                     33  0.002489  0.002028   0.001198   \n",
       "LF_null_test3_True                        84  0.001798  0.001521   0.000830   \n",
       "LF_mechanism_using_a_3_True               64  0.000507  0.000415   0.000230   \n",
       "LF_mechanism_by_3_True                    70  0.011800  0.010325   0.005163   \n",
       "LF_mechanism_develop3_True                52  0.003734  0.003319   0.001613   \n",
       "LF_null_increasingneg2_True              123  0.003918  0.001890   0.001613   \n",
       "LF_null_testneg2_True                     85  0.008943  0.004610   0.003595   \n",
       "LF_null_have_beenneg2_True               115  0.005301  0.004241   0.002120   \n",
       "LF_null_compare_3_True                   128  0.000461  0.000461   0.000184   \n",
       "LF_mechanism_uses_neg2_True               63  0.007836  0.005163   0.003135   \n",
       "LF_purpose_although3_True                 27  0.000922  0.000876   0.000369   \n",
       "LF_null_dataset3_True                     86  0.002766  0.002581   0.001106   \n",
       "LF_null_increasing3_True                 122  0.000691  0.000553   0.000277   \n",
       "LF_purpose_useful_toneg2_True             20  0.000968  0.000968   0.000369   \n",
       "LF_purpose_allow_3_True                   15  0.000738  0.000599   0.000277   \n",
       "LF_mechanism_propose3_True                50  0.008159  0.006592   0.003042   \n",
       "LF_purpose_challengeneg1_True             47  0.006776  0.004333   0.002489   \n",
       "LF_purpose_problemneg1_True               42  0.046142  0.026828   0.016825   \n",
       "LF_purpose_problem3_True                  41  0.011201  0.010095   0.003918   \n",
       "LF_purpose_challengingneg1_True           43  0.003734  0.003411   0.001291   \n",
       "LF_null_has_been3_True                   116  0.001383  0.000968   0.000461   \n",
       "LF_mechanism_using_the_3_True             66  0.000277  0.000138   0.000092   \n",
       "LF_purpose_challenge3_True                 9  0.001383  0.001383   0.000461   \n",
       "LF_null_we_prove3_True                    96  0.000277  0.000184   0.000092   \n",
       "LF_purpose_challenging3_True               7  0.000830  0.000830   0.000277   \n",
       "LF_purpose_allow_neg2_True                16  0.007145  0.006315   0.002351   \n",
       "LF_null_observeneg2_True                  95  0.008712  0.003365   0.002766   \n",
       "LF_null_show3_True                        92  0.008712  0.007283   0.002720   \n",
       "LF_null_experiment3_True                  88  0.004287  0.003549   0.001337   \n",
       "LF_null_have_been3_True                  114  0.000645  0.000461   0.000184   \n",
       "LF_null_we_proveneg2_True                 97  0.002766  0.000876   0.000784   \n",
       "LF_purpose_goalneg2_True                   2  0.005946  0.003688   0.001659   \n",
       "LF_purpose_goal3_True                      1  0.001106  0.000876   0.000277   \n",
       "LF_null_observe3_True                     94  0.001106  0.000876   0.000277   \n",
       "LF_purpose_challengeneg2_True             10  0.008159  0.005624   0.002028   \n",
       "LF_purpose_fundamentalneg1_True           44  0.003088  0.001936   0.000691   \n",
       "LF_mechanism_by_usingneg2_True            69  0.002766  0.002766   0.000599   \n",
       "LF_mechanism_presents_3_True              56  0.001291  0.000784   0.000277   \n",
       "LF_purpose_challengingneg2_True            8  0.004287  0.002581   0.000876   \n",
       "LF_purpose_howeverneg2_True               30  0.026736  0.013690   0.005301   \n",
       "LF_null_demonstrate3_True                104  0.002904  0.002397   0.000553   \n",
       "LF_purpose_fundamental3_True              11  0.000830  0.000830   0.000138   \n",
       "LF_purpose_investigate3_True              23  0.000830  0.000784   0.000138   \n",
       "LF_purpose_yet_3_True                     31  0.000553  0.000507   0.000092   \n",
       "LF_purpose_yet_neg2_True                  32  0.003734  0.002858   0.000599   \n",
       "LF_purpose_issueneg1_True                 45  0.002858  0.001152   0.000415   \n",
       "LF_mechanism_we_use_3_True                60  0.000323  0.000092   0.000046   \n",
       "LF_purpose_however3_True                  29  0.002166  0.002028   0.000277   \n",
       "LF_purpose_issue3_True                    13  0.001106  0.001106   0.000138   \n",
       "LF_purpose_the_problem_of3_True            3  0.000461  0.000461   0.000046   \n",
       "LF_mechanism_uses_3_True                  62  0.001014  0.000599   0.000092   \n",
       "LF_purpose_the_problem_ofneg2_True         4  0.008482  0.006223   0.000691   \n",
       "LF_purpose_fundamentalneg2_True           12  0.003411  0.001060   0.000138   \n",
       "LF_purpose_we_studyneg2_True              26  0.007329  0.005946   0.000277   \n",
       "LF_null_indicate_that3_True              106  0.000184  0.000138   0.000000   \n",
       "LF_purpose_bottleneckneg1_True            40  0.002305  0.000184   0.000000   \n",
       "LF_purpose_we_study3_True                 25  0.000645  0.000553   0.000000   \n",
       "LF_purpose_bottleneck3_True               39  0.000277  0.000184   0.000000   \n",
       "LF_mechanism_by_using3_True               68  0.000184  0.000184   0.000000   \n",
       "LF_purpose_useful_to3_True                19  0.000092  0.000046   0.000000   \n",
       "LF_purpose_deals_with_3_True              37  0.000000  0.000000   0.000000   \n",
       "LF_purpose_deals_with_neg2_True           38  0.000000  0.000000   0.000000   \n",
       "LF_mechanism_we_also_developed3_True      76  0.000000  0.000000   0.000000   \n",
       "LF_mechanism_we_also_developedneg2_True   77  0.000000  0.000000   0.000000   \n",
       "LF_null_evaluates_3_True                  98  0.000000  0.000000   0.000000   \n",
       "LF_null_evaluates_neg2_True               99  0.000000  0.000000   0.000000   \n",
       "LF_null_indicates_that3_True             108  0.000000  0.000000   0.000000   \n",
       "LF_null_indicates_thatneg2_True          109  0.000000  0.000000   0.000000   \n",
       "LF_null_are_performed3_True              110  0.000000  0.000000   0.000000   \n",
       "LF_null_are_performedneg2_True           111  0.000000  0.000000   0.000000   \n",
       "LF_null_were_performed3_True             112  0.000000  0.000000   0.000000   \n",
       "LF_null_were_performedneg2_True          113  0.000000  0.000000   0.000000   \n",
       "LF_null_popularity_3_True                120  0.000000  0.000000   0.000000   \n",
       "LF_null_popularity_neg2_True             121  0.000000  0.000000   0.000000   \n",
       "\n",
       "                                         Conflict_Coverage_ratio  \n",
       "LF_null_evaluated_3_True                                1.000000  \n",
       "LF_purpose_the_task_of3_True                            1.000000  \n",
       "LF_purpose_the_task_ofneg2_True                         1.000000  \n",
       "LF_mechanism_to_solve_3_True                            1.000000  \n",
       "LF_mechanism_to_solve_neg2_True                         1.000000  \n",
       "LF_null_evaluated_neg2_True                             1.000000  \n",
       "LF_null_evaluate_neg2_True                              0.949153  \n",
       "LF_purpose_allows_neg2_True                             0.846512  \n",
       "LF_purpose_althoughneg2_True                            0.837963  \n",
       "LF_null_compared_toneg2_True                            0.782609  \n",
       "mechanism_an_algorithm                                  0.772358  \n",
       "LF_mechanism_approach_neg2_True                         0.765685  \n",
       "LF_null_compared_to3_True                               0.750000  \n",
       "LF_mechanism_provideneg2_True                           0.747200  \n",
       "LF_mechanism_using_the_neg2_True                        0.741379  \n",
       "LF_null_popular_neg2_True                               0.727273  \n",
       "LF_null_resultsneg2_True                                0.714906  \n",
       "LF_purpose_allows_3_True                                0.714286  \n",
       "LF_mechanism_method_neg2_True                           0.704188  \n",
       "LF_mechanism_method_3_True                              0.690476  \n",
       "LF_null_has_beenneg2_True                               0.680233  \n",
       "LF_mechanism_via_3_True                                 0.666667  \n",
       "LF_null_settings3_True                                  0.666667  \n",
       "LF_mechanism_present_neg2_True                          0.652174  \n",
       "LF_mechanism_we_use_neg2_True                           0.641379  \n",
       "LF_null_demonstrateneg2_True                            0.636559  \n",
       "LF_mechanism_via_neg2_True                              0.636364  \n",
       "purpose_for_doing                                       0.611891  \n",
       "mechanism_by_adv_doing                                  0.611607  \n",
       "LF_purpose_issueneg2_True                               0.607527  \n",
       "LF_null_popular_3_True                                  0.600000  \n",
       "LF_mechanism_using_a_neg2_True                          0.593607  \n",
       "LF_null_compare_neg2_True                               0.592593  \n",
       "LF_null_showneg2_True                                   0.590120  \n",
       "LF_null_generalneg1_True                                0.576998  \n",
       "LF_purpose_TO_VB_neg2_True                              0.576806  \n",
       "LF_null_evaluate_3_True                                 0.571429  \n",
       "LF_mechanism_developneg2_True                           0.567944  \n",
       "LF_null_generalneg2_True                                0.566204  \n",
       "LF_mechanism_by_neg2_True                               0.558366  \n",
       "purpose_to_verb                                         0.549235  \n",
       "LF_purpose_existing_neg2_True                           0.543902  \n",
       "LF_purpose_task3_True                                   0.540741  \n",
       "LF_mechanism_approach_3_True                            0.538462  \n",
       "LF_purpose_but_neg2_True                                0.531977  \n",
       "LF_mechanism_presents_neg2_True                         0.529801  \n",
       "LF_purpose_taskneg2_True                                0.529058  \n",
       "LF_mechanism_proposeneg2_True                           0.528787  \n",
       "LF_null_results3_True                                   0.526718  \n",
       "LF_null_general3_True                                   0.516393  \n",
       "LF_mechanism_provide3_True                              0.516129  \n",
       "LF_purpose_taskneg1_True                                0.514874  \n",
       "LF_purpose_investigateneg2_True                         0.510870  \n",
       "LF_null_datasetneg2_True                                0.502024  \n",
       "LF_purpose_existing_3_True                              0.500000  \n",
       "LF_null_experimentneg2_True                             0.499322  \n",
       "LF_null_settingsneg1_True                               0.492537  \n",
       "LF_null_indicate_thatneg2_True                          0.488889  \n",
       "LF_mechanism_present_3_True                             0.486486  \n",
       "LF_purpose_but_3_True                                   0.481481  \n",
       "LF_null_test3_True                                      0.461538  \n",
       "LF_mechanism_using_a_3_True                             0.454545  \n",
       "LF_mechanism_by_3_True                                  0.437500  \n",
       "LF_mechanism_develop3_True                              0.432099  \n",
       "LF_null_increasingneg2_True                             0.411765  \n",
       "LF_null_testneg2_True                                   0.402062  \n",
       "LF_null_have_beenneg2_True                              0.400000  \n",
       "LF_null_compare_3_True                                  0.400000  \n",
       "LF_mechanism_uses_neg2_True                             0.400000  \n",
       "LF_purpose_although3_True                               0.400000  \n",
       "LF_null_dataset3_True                                   0.400000  \n",
       "LF_null_increasing3_True                                0.400000  \n",
       "LF_purpose_useful_toneg2_True                           0.380952  \n",
       "LF_purpose_allow_3_True                                 0.375000  \n",
       "LF_mechanism_propose3_True                              0.372881  \n",
       "LF_purpose_challengeneg1_True                           0.367347  \n",
       "LF_purpose_problemneg1_True                             0.364635  \n",
       "LF_purpose_problem3_True                                0.349794  \n",
       "LF_purpose_challengingneg1_True                         0.345679  \n",
       "LF_null_has_been3_True                                  0.333333  \n",
       "LF_mechanism_using_the_3_True                           0.333333  \n",
       "LF_purpose_challenge3_True                              0.333333  \n",
       "LF_null_we_prove3_True                                  0.333333  \n",
       "LF_purpose_challenging3_True                            0.333333  \n",
       "LF_purpose_allow_neg2_True                              0.329032  \n",
       "LF_null_observeneg2_True                                0.317460  \n",
       "LF_null_show3_True                                      0.312169  \n",
       "LF_null_experiment3_True                                0.311828  \n",
       "LF_null_have_been3_True                                 0.285714  \n",
       "LF_null_we_proveneg2_True                               0.283333  \n",
       "LF_purpose_goalneg2_True                                0.279070  \n",
       "LF_purpose_goal3_True                                   0.250000  \n",
       "LF_null_observe3_True                                   0.250000  \n",
       "LF_purpose_challengeneg2_True                           0.248588  \n",
       "LF_purpose_fundamentalneg1_True                         0.223881  \n",
       "LF_mechanism_by_usingneg2_True                          0.216667  \n",
       "LF_mechanism_presents_3_True                            0.214286  \n",
       "LF_purpose_challengingneg2_True                         0.204301  \n",
       "LF_purpose_howeverneg2_True                             0.198276  \n",
       "LF_null_demonstrate3_True                               0.190476  \n",
       "LF_purpose_fundamental3_True                            0.166667  \n",
       "LF_purpose_investigate3_True                            0.166667  \n",
       "LF_purpose_yet_3_True                                   0.166667  \n",
       "LF_purpose_yet_neg2_True                                0.160494  \n",
       "LF_purpose_issueneg1_True                               0.145161  \n",
       "LF_mechanism_we_use_3_True                              0.142857  \n",
       "LF_purpose_however3_True                                0.127660  \n",
       "LF_purpose_issue3_True                                  0.125000  \n",
       "LF_purpose_the_problem_of3_True                         0.100000  \n",
       "LF_mechanism_uses_3_True                                0.090909  \n",
       "LF_purpose_the_problem_ofneg2_True                      0.081522  \n",
       "LF_purpose_fundamentalneg2_True                         0.040541  \n",
       "LF_purpose_we_studyneg2_True                            0.037736  \n",
       "LF_null_indicate_that3_True                             0.000000  \n",
       "LF_purpose_bottleneckneg1_True                          0.000000  \n",
       "LF_purpose_we_study3_True                               0.000000  \n",
       "LF_purpose_bottleneck3_True                             0.000000  \n",
       "LF_mechanism_by_using3_True                             0.000000  \n",
       "LF_purpose_useful_to3_True                              0.000000  \n",
       "LF_purpose_deals_with_3_True                                 NaN  \n",
       "LF_purpose_deals_with_neg2_True                              NaN  \n",
       "LF_mechanism_we_also_developed3_True                         NaN  \n",
       "LF_mechanism_we_also_developedneg2_True                      NaN  \n",
       "LF_null_evaluates_3_True                                     NaN  \n",
       "LF_null_evaluates_neg2_True                                  NaN  \n",
       "LF_null_indicates_that3_True                                 NaN  \n",
       "LF_null_indicates_thatneg2_True                              NaN  \n",
       "LF_null_are_performed3_True                                  NaN  \n",
       "LF_null_are_performedneg2_True                               NaN  \n",
       "LF_null_were_performed3_True                                 NaN  \n",
       "LF_null_were_performedneg2_True                              NaN  \n",
       "LF_null_popularity_3_True                                    NaN  \n",
       "LF_null_popularity_neg2_True                                 NaN  "
      ]
     },
     "execution_count": 10,
     "metadata": {},
     "output_type": "execute_result"
    }
   ],
   "source": [
    "import pandas as pd \n",
    "pd.set_option('display.max_rows', 500)\n",
    "\n",
    "df=L_train.lf_stats(session)\n",
    "df['Conflict_Coverage_ratio'] = df['Conflicts']/df['Coverage']\n",
    "\n",
    "df.sort_values(by=['Conflict_Coverage_ratio'],ascending=False)"
   ]
  },
  {
   "cell_type": "code",
   "execution_count": null,
   "metadata": {
    "scrolled": true
   },
   "outputs": [],
   "source": [
    "# for reg_param in [1e-3]:#,1e-6]: #[1e-3, 1e-6]:\n",
    "#     for decay in [0.95]: #[1.0,0.95]:\n",
    "#         for step_size_nominator in [0.01,0.001]: # [0.01, 0.1, 1]:\n",
    "#             for epochs in [2,3,4,5,7,10]:#,30,50,100,200,500]:\n",
    "#                 for lf_propensity in [False]:\n",
    "                    \n",
    "#                     print(\"grid search with L_train\",\"step_size_nominator\",step_size_nominator,\"epochs\",epochs,\"decay\",decay,\"reg_param\",reg_param,\"lf_propensity\",lf_propensity)\n",
    "#                     gen_model,train_marginals=get_train_marginals(L_train,threads=18,lf_propensity=lf_propensity,step_size_nominator=step_size_nominator,epochs=epochs,decay=decay,reg_param=reg_param)\n",
    "#                     assert np.all(train_marginals.sum(axis=1) - np.ones(train_marginals.shape[0]) < 1e-10)\n",
    "\n",
    "#                     winHighlight=train_marginals.argmax(axis=1)\n",
    "#                     print(\"PP\",(winHighlight==0).sum())\n",
    "#                     print(\"MN\",(winHighlight==1).sum())\n",
    "#                     print(\"NULL\",(winHighlight==2).sum())\n",
    "\n",
    "#                     # Amendment!!! winning highligh with default as NULL (the last occurence of largest value)\n",
    "#                     train_marginals_reverse = train_marginals[:,::-1]\n",
    "#                     winHighlight = train_marginals.shape[1] - np.argmax(train_marginals_reverse,axis=1) - 1\n",
    "#                     print(\"amend PP\",(winHighlight==0).sum())\n",
    "#                     print(\"amend MN\",(winHighlight==1).sum())\n",
    "#                     print(\"amend NULL\",(winHighlight==2).sum())\n"
   ]
  },
  {
   "cell_type": "markdown",
   "metadata": {},
   "source": [
    "### C. Learning the Generative Model"
   ]
  },
  {
   "cell_type": "code",
   "execution_count": 11,
   "metadata": {},
   "outputs": [
    {
     "name": "stdout",
     "output_type": "stream",
     "text": [
      "2018-10-16 23:33:55.483797\n",
      "Compiles variable matrix\n",
      "_compile finished!\n",
      "Compiles variable matrix\n",
      "_compile finished!\n",
      "training finished \n",
      "2018-10-16 23:35:28.033645\n",
      "Finished training generative model, now checking performance against development set labels...\n",
      "Calculating marginals!\n",
      "no exception\n",
      "2018-10-16 23:35:32.544189\n",
      "PP 14297\n",
      "MN 4155\n",
      "NULL 3242\n",
      "amend PP 6933\n",
      "amend MN 4155\n",
      "amend NULL 10606\n"
     ]
    }
   ],
   "source": [
    "reg_param=1e-3\n",
    "decay=0.95\n",
    "step_size_nominator=0.01\n",
    "epochs=5\n",
    "lf_propensity=False\n",
    "                        \n",
    "gen_model,train_marginals=get_train_marginals(L_train,threads=18,step_size_nominator=step_size_nominator,lf_propensity=lf_propensity,epochs=epochs,decay=decay,reg_param=reg_param)\n",
    "assert np.all(train_marginals.sum(axis=1) - np.ones(train_marginals.shape[0]) < 1e-10)\n",
    "\n",
    "winHighlight=train_marginals.argmax(axis=1)\n",
    "print(\"PP\",(winHighlight==0).sum())\n",
    "print(\"MN\",(winHighlight==1).sum())\n",
    "print(\"NULL\",(winHighlight==2).sum())\n",
    "\n",
    "# Amendment!!! winning highligh with default as NULL (the last occurence of largest value)\n",
    "train_marginals_reverse = train_marginals[:,::-1]\n",
    "winHighlight = train_marginals.shape[1] - np.argmax(train_marginals_reverse,axis=1) - 1\n",
    "print(\"amend PP\",(winHighlight==0).sum())\n",
    "print(\"amend MN\",(winHighlight==1).sum())\n",
    "print(\"amend NULL\",(winHighlight==2).sum())"
   ]
  },
  {
   "cell_type": "markdown",
   "metadata": {},
   "source": [
    "### D. Visualize generative labels on this train set, then on the dev set"
   ]
  },
  {
   "cell_type": "code",
   "execution_count": 12,
   "metadata": {},
   "outputs": [
    {
     "name": "stdout",
     "output_type": "stream",
     "text": [
      "0\n",
      "10000\n",
      "20000\n",
      "dispatch finished!! \n",
      "visualizing docid semanticDBLP_6ac53e1ce1c4710736226e3d850282a7323a160b\n",
      "visualizing docid semanticDBLP_c3d62bcb84fc3a2aa9b8f4691677d7c02738f1bc\n",
      "visualizing docid semanticDBLP_3afe4a92dbc660e65cb7d2fcde773e1f7eedf870\n",
      "visualizing docid semanticDBLP_0e8f6d6b5a5c11058b0104aa8e1e747c96d57d65\n",
      "visualizing docid semanticDBLP_916cc725b419df58a5ead57bcc597178ff8ce913\n",
      "visualizing docid semanticDBLP_001cecf6d3dfb29c56e71c417455c705a4bf290c\n",
      "visualizing docid semanticDBLP_146f5b0743e17a5a31baea6475bdc8fedd81e641\n",
      "visualizing docid semanticDBLP_d566f6863fd3c2ccd14411ac4fcdbe77408322e3\n",
      "visualizing docid semanticDBLP_aa05431d82f5d85a3abdf2f4d416c36993b1284b\n",
      "visualizing docid semanticDBLP_6f7c97bd40689fc34a4e8eb383d922d1b625ed23\n",
      "visualizing docid semanticDBLP_0f4fe8951ab76e14c3838882a0833f44eb705a4f\n",
      "visualizing docid semanticDBLP_082d9df20b38a85177e2df4accddaaf064781032\n",
      "visualizing docid semanticDBLP_045df65fbc57c340b3b1341155bbfe274c0c2503\n",
      "visualizing docid semanticDBLP_38b44710a2accdc2793d18ec2db269abb76d097f\n",
      "visualizing docid semanticDBLP_7ed8dd92f4a174b630836700cf12d0adebd5c708\n",
      "visualizing docid semanticDBLP_4d14be4106d3036ca3eefe354208e0c9dfac1a0a\n",
      "visualizing docid semanticDBLP_ce56be1acffda599dec6cc2af2b35600488846c9\n",
      "visualizing docid semanticDBLP_2157f59c409ebee864dc12a896e6a998f9913a91\n",
      "visualizing docid semanticDBLP_828d6ffb30ed8d4da0b65d49e88ffc179000664e\n",
      "visualizing docid semanticDBLP_fa4a48ae86f383b95fd818489fc7619368a0c596\n"
     ]
    },
    {
     "name": "stderr",
     "output_type": "stream",
     "text": [
      "/anaconda3/lib/python3.6/site-packages/matplotlib/pyplot.py:537: RuntimeWarning: More than 20 figures have been opened. Figures created through the pyplot interface (`matplotlib.pyplot.figure`) are retained until explicitly closed and may consume too much memory. (To control this warning, see the rcParam `figure.max_open_warning`).\n",
      "  max_open_warning, RuntimeWarning)\n"
     ]
    },
    {
     "name": "stdout",
     "output_type": "stream",
     "text": [
      "visualizing docid semanticDBLP_cf23b1f94e6a2547707ee7a134f18920afb4ddd5\n",
      "visualizing docid semanticDBLP_0384de8ece83cd3788a8c9ca03120a31fb301785\n",
      "visualizing docid semanticDBLP_1effff1f70f788df26b74cea9987055b8eadf61b\n",
      "visualizing docid semanticDBLP_8b15d471ec0f90930ee09f61b9ac45ca8c766298\n",
      "visualizing docid semanticDBLP_7b638a5b73e7bc6732d7ae52f5695f6a28c1aeef\n",
      "visualizing docid semanticDBLP_68bcec979052bcb8e060c481d3dcfa3d651ef401\n",
      "visualizing docid semanticDBLP_d4f072d45ba717788cf7a4d955a7103ed06c2f17\n",
      "visualizing docid semanticDBLP_131d9428e919cd5c5206b8a5dcf3be838f98b26f\n",
      "visualizing docid semanticDBLP_1bada64240b629958bf8cfc819c5fdb6b83eddbe\n",
      "visualizing docid semanticDBLP_0557d50516257ebf1c902f797433bb89e67fd811\n",
      "visualizing docid semanticDBLP_5ecd4e3bc3ad84c698ada20ee1df1d7c5366ac37\n",
      "visualizing docid semanticDBLP_0c04a213c6ec18542faee526fa43ecc85c465356\n",
      "visualizing docid semanticDBLP_1e31a76ab19abcd9dbac35c88e9bf8fe9c39ee83\n",
      "visualizing docid semanticDBLP_856a5e56564b1dbb8881b7180d6620eb16f53912\n",
      "visualizing docid semanticDBLP_1c3fd3831a0cc3f8b3a64aa0e579cc6d9bc35d48\n",
      "visualizing docid semanticDBLP_a4fef1d8d6a09e1ee921e2d3c47c01316b2bb890\n",
      "visualizing docid semanticDBLP_5a60244957e52bdbf1627fd9d70b11044c8a2c0c\n",
      "visualizing docid semanticDBLP_34bf02183c48ec300e40ad144efcdfe67dacd681\n",
      "visualizing docid semanticDBLP_0886fba7d24a16840442a718fc7ce3a05bf937fe\n",
      "visualizing docid semanticDBLP_180a6b1d248d7a9cb1632a7e5d978aa6d5f86d53\n",
      "visualizing docid semanticDBLP_7158bf071ece8d20332f0f6b0b06d5ae0de2c0c5\n",
      "visualizing docid semanticDBLP_b97a29712ad698387509bf91a68181a9758034e7\n",
      "visualizing docid semanticDBLP_100f1691322b2d48d561d9aabeaebe9e7269d47c\n",
      "visualizing docid semanticDBLP_a15403373ac2bb2eeb0d99423772a0603b131638\n",
      "visualizing docid semanticDBLP_ea37bfdc9fcebe154fa9f78f4f9bf36d1e55d10b\n",
      "visualizing docid semanticDBLP_12ba2eb20f7d345e4b6ada54f811d3bb26608932\n",
      "visualizing docid semanticDBLP_d4d9e30e9287e3216fa8bd021d88b9ab775fe487\n",
      "visualizing docid semanticDBLP_48612da20ccacf0562586acf24cd1ab7bbbdf0e8\n",
      "visualizing docid semanticDBLP_1bea6bbdb4aed87fff5390d42934a1d9b0a7bec4\n",
      "visualizing docid semanticDBLP_0f49036578a9e17b495eac5bacae8741bdcb5ab9\n",
      "visualizing docid semanticDBLP_73fd8025bf3978d27019390de4a660e0d6257469\n",
      "visualizing docid semanticDBLP_00b1e90f695bd3bf8b639d67a5a95748b87d838a\n",
      "visualizing docid semanticDBLP_c68f3b6ab8782427cab32b474a094416e108c1e8\n",
      "visualizing docid semanticDBLP_473fa1c5c66d4a51adbb64c263687d730fc6d217\n",
      "visualizing docid semanticDBLP_82fe5e1546d91ab1f1cbded78c3e94decd76502f\n",
      "visualizing docid semanticDBLP_3616bf8de5afb8028a9f3650647adfc61099cace\n",
      "visualizing docid semanticDBLP_ae2b0c075180e80866f8ecf7e4b803cb34879f57\n",
      "visualizing docid semanticDBLP_0860bc34aac8a304674aa4c205ff46e6dbc93295\n",
      "visualizing docid semanticDBLP_54dae5187de3898d8034719bcaa3e0100ae72d76\n",
      "visualizing docid semanticDBLP_2a297c6a8c6d92328c4cc4a309c30f9272771eab\n",
      "visualizing docid semanticDBLP_2d89f081fea96d81b7f40b50f141ad9c48b652b0\n",
      "visualizing docid semanticDBLP_6a32644ce192244b41e54b7ee754c452974dfccf\n",
      "visualizing docid semanticDBLP_b482a8a502d8a30c67ded882028b4595bf293bfc\n",
      "visualizing docid semanticDBLP_620f448570ef5902f48b1e39b15173afa1f0de0d\n",
      "visualizing docid semanticDBLP_7b9ecbf766ef7abd523497996421d583200244b4\n",
      "visualizing docid semanticDBLP_e5bb77b185f825412e32f4b3fbbcb31c5340b975\n",
      "visualizing docid semanticDBLP_40eecb0ad2213fcfcb9a841f43a2bdf602369a05\n",
      "visualizing docid semanticDBLP_681a6e7f8c168b75eeb55d61cc8d594165cf3625\n",
      "visualizing docid semanticDBLP_0121f027706620d82bc494efc56456e379b3c744\n",
      "visualizing docid semanticDBLP_a94ee7d49d1dea87848300a58587c9e4d87e0938\n",
      "visualizing docid semanticDBLP_692e3d73f71206e113bc1c272c064da1689a45a9\n",
      "visualizing docid semanticDBLP_99bad5661ea8e8a688fbd63593572056c255ce77\n",
      "visualizing docid semanticDBLP_0cf95577383391fc1ddb7657eda3c5f8723246f7\n",
      "visualizing docid semanticDBLP_af8f8450b639546fcb68da672729119e83e44d37\n",
      "visualizing docid semanticDBLP_0c6e29d82a5a080dc1db9eeabbd7d1529e78a3dc\n",
      "visualizing docid semanticDBLP_d5765d223191081a82d4e24b1a7719a51d1b049c\n",
      "visualizing docid semanticDBLP_28932138ce284da4982f9239585183818c5e197f\n",
      "visualizing docid semanticDBLP_883e7eaadd3f73ce8d1f89d7602989b31cf67610\n",
      "visualizing docid semanticDBLP_5aa37f450a7659adb1c6562a7bdac139e6238c03\n",
      "visualizing docid semanticDBLP_6f80827cc1ba895add1c682fdffcf8ec0e431b53\n",
      "visualizing docid semanticDBLP_426a37f52c0b279bed287ad1be23e82b2d24cdff\n",
      "visualizing docid semanticDBLP_80deaccf5483db757eda97db6ce206a95915f8ba\n",
      "visualizing docid semanticDBLP_9f8063465b7ac3f823e48cac342936d463f37157\n",
      "visualizing docid semanticDBLP_47f74a059e8d683e1a309fa7fe43f702b9f2bd30\n",
      "visualizing docid semanticDBLP_7008bc0709341ae19d260dbeda6b65a4c4467ee1\n",
      "visualizing docid semanticDBLP_4efa861ac966c85b03b99b6e7b13ea7c2cef325f\n",
      "visualizing docid semanticDBLP_24395e3605d0558004e6dc66da331a8a7bf6db44\n",
      "visualizing docid semanticDBLP_4476077ab485cbc854c28cc3467caa594f3920e2\n",
      "visualizing docid semanticDBLP_22411e7403b62f46d1e4b28ca773114cc0a76900\n",
      "visualizing docid semanticDBLP_18cd222b7b7d007c6ad9873e2ae4932768e17068\n",
      "visualizing docid semanticDBLP_61862a8624e4804f268d2d611fc589d74dc7894f\n",
      "visualizing docid semanticDBLP_1cbbde92b56f2127f261793a1e22398504804e62\n",
      "visualizing docid semanticDBLP_33637cadbc7161e84aaa367ab9e2bdc545bcc50c\n",
      "visualizing docid semanticDBLP_f56742d616a67899e44f70a732b5463b689b4c68\n",
      "visualizing docid semanticDBLP_9a207beb12cf30ac0aca6bb1db5b0e15fc168989\n",
      "visualizing docid semanticDBLP_130271241a3718323e439440d897ec26acfebf06\n",
      "visualizing docid semanticDBLP_9625c624fd58bb1482e94c1ea2c44f5444cb8705\n",
      "visualizing docid semanticDBLP_4f86fa28602d9503a8575c5b31082284abc8415c\n",
      "visualizing docid semanticDBLP_ada9acbc6e90d865fc3d7b3c5cab9c6175d6e5dc\n",
      "visualizing docid semanticDBLP_3d60580a47ea51813184b0ab62fae1c3b153ca1b\n",
      "0\n",
      "10000\n",
      "20000\n",
      "dispatch finished!! \n",
      "visualizing docid semanticDBLP_6ac53e1ce1c4710736226e3d850282a7323a160b\n",
      "visualizing docid semanticDBLP_c3d62bcb84fc3a2aa9b8f4691677d7c02738f1bc\n",
      "visualizing docid semanticDBLP_3afe4a92dbc660e65cb7d2fcde773e1f7eedf870\n",
      "visualizing docid semanticDBLP_0e8f6d6b5a5c11058b0104aa8e1e747c96d57d65\n",
      "visualizing docid semanticDBLP_916cc725b419df58a5ead57bcc597178ff8ce913\n",
      "visualizing docid semanticDBLP_001cecf6d3dfb29c56e71c417455c705a4bf290c\n",
      "visualizing docid semanticDBLP_146f5b0743e17a5a31baea6475bdc8fedd81e641\n",
      "visualizing docid semanticDBLP_d566f6863fd3c2ccd14411ac4fcdbe77408322e3\n",
      "visualizing docid semanticDBLP_aa05431d82f5d85a3abdf2f4d416c36993b1284b\n",
      "visualizing docid semanticDBLP_6f7c97bd40689fc34a4e8eb383d922d1b625ed23\n",
      "visualizing docid semanticDBLP_0f4fe8951ab76e14c3838882a0833f44eb705a4f\n",
      "visualizing docid semanticDBLP_082d9df20b38a85177e2df4accddaaf064781032\n",
      "visualizing docid semanticDBLP_045df65fbc57c340b3b1341155bbfe274c0c2503\n",
      "visualizing docid semanticDBLP_38b44710a2accdc2793d18ec2db269abb76d097f\n",
      "visualizing docid semanticDBLP_7ed8dd92f4a174b630836700cf12d0adebd5c708\n",
      "visualizing docid semanticDBLP_4d14be4106d3036ca3eefe354208e0c9dfac1a0a\n",
      "visualizing docid semanticDBLP_ce56be1acffda599dec6cc2af2b35600488846c9\n",
      "visualizing docid semanticDBLP_2157f59c409ebee864dc12a896e6a998f9913a91\n",
      "visualizing docid semanticDBLP_828d6ffb30ed8d4da0b65d49e88ffc179000664e\n",
      "visualizing docid semanticDBLP_fa4a48ae86f383b95fd818489fc7619368a0c596\n",
      "visualizing docid semanticDBLP_cf23b1f94e6a2547707ee7a134f18920afb4ddd5\n",
      "visualizing docid semanticDBLP_0384de8ece83cd3788a8c9ca03120a31fb301785\n",
      "visualizing docid semanticDBLP_1effff1f70f788df26b74cea9987055b8eadf61b\n",
      "visualizing docid semanticDBLP_8b15d471ec0f90930ee09f61b9ac45ca8c766298\n",
      "visualizing docid semanticDBLP_7b638a5b73e7bc6732d7ae52f5695f6a28c1aeef\n",
      "visualizing docid semanticDBLP_68bcec979052bcb8e060c481d3dcfa3d651ef401\n",
      "visualizing docid semanticDBLP_d4f072d45ba717788cf7a4d955a7103ed06c2f17\n",
      "visualizing docid semanticDBLP_131d9428e919cd5c5206b8a5dcf3be838f98b26f\n",
      "visualizing docid semanticDBLP_1bada64240b629958bf8cfc819c5fdb6b83eddbe\n",
      "visualizing docid semanticDBLP_0557d50516257ebf1c902f797433bb89e67fd811\n",
      "visualizing docid semanticDBLP_5ecd4e3bc3ad84c698ada20ee1df1d7c5366ac37\n",
      "visualizing docid semanticDBLP_0c04a213c6ec18542faee526fa43ecc85c465356\n",
      "visualizing docid semanticDBLP_1e31a76ab19abcd9dbac35c88e9bf8fe9c39ee83\n",
      "visualizing docid semanticDBLP_856a5e56564b1dbb8881b7180d6620eb16f53912\n"
     ]
    },
    {
     "name": "stdout",
     "output_type": "stream",
     "text": [
      "visualizing docid semanticDBLP_1c3fd3831a0cc3f8b3a64aa0e579cc6d9bc35d48\n",
      "visualizing docid semanticDBLP_a4fef1d8d6a09e1ee921e2d3c47c01316b2bb890\n",
      "visualizing docid semanticDBLP_5a60244957e52bdbf1627fd9d70b11044c8a2c0c\n",
      "visualizing docid semanticDBLP_34bf02183c48ec300e40ad144efcdfe67dacd681\n",
      "visualizing docid semanticDBLP_0886fba7d24a16840442a718fc7ce3a05bf937fe\n",
      "visualizing docid semanticDBLP_180a6b1d248d7a9cb1632a7e5d978aa6d5f86d53\n",
      "visualizing docid semanticDBLP_7158bf071ece8d20332f0f6b0b06d5ae0de2c0c5\n",
      "visualizing docid semanticDBLP_b97a29712ad698387509bf91a68181a9758034e7\n",
      "visualizing docid semanticDBLP_100f1691322b2d48d561d9aabeaebe9e7269d47c\n",
      "visualizing docid semanticDBLP_a15403373ac2bb2eeb0d99423772a0603b131638\n",
      "visualizing docid semanticDBLP_ea37bfdc9fcebe154fa9f78f4f9bf36d1e55d10b\n",
      "visualizing docid semanticDBLP_12ba2eb20f7d345e4b6ada54f811d3bb26608932\n",
      "visualizing docid semanticDBLP_d4d9e30e9287e3216fa8bd021d88b9ab775fe487\n",
      "visualizing docid semanticDBLP_48612da20ccacf0562586acf24cd1ab7bbbdf0e8\n",
      "visualizing docid semanticDBLP_1bea6bbdb4aed87fff5390d42934a1d9b0a7bec4\n",
      "visualizing docid semanticDBLP_0f49036578a9e17b495eac5bacae8741bdcb5ab9\n",
      "visualizing docid semanticDBLP_73fd8025bf3978d27019390de4a660e0d6257469\n",
      "visualizing docid semanticDBLP_00b1e90f695bd3bf8b639d67a5a95748b87d838a\n",
      "visualizing docid semanticDBLP_c68f3b6ab8782427cab32b474a094416e108c1e8\n",
      "visualizing docid semanticDBLP_473fa1c5c66d4a51adbb64c263687d730fc6d217\n",
      "visualizing docid semanticDBLP_82fe5e1546d91ab1f1cbded78c3e94decd76502f\n",
      "visualizing docid semanticDBLP_3616bf8de5afb8028a9f3650647adfc61099cace\n",
      "visualizing docid semanticDBLP_ae2b0c075180e80866f8ecf7e4b803cb34879f57\n",
      "visualizing docid semanticDBLP_0860bc34aac8a304674aa4c205ff46e6dbc93295\n",
      "visualizing docid semanticDBLP_54dae5187de3898d8034719bcaa3e0100ae72d76\n",
      "visualizing docid semanticDBLP_2a297c6a8c6d92328c4cc4a309c30f9272771eab\n",
      "visualizing docid semanticDBLP_2d89f081fea96d81b7f40b50f141ad9c48b652b0\n",
      "visualizing docid semanticDBLP_6a32644ce192244b41e54b7ee754c452974dfccf\n",
      "visualizing docid semanticDBLP_b482a8a502d8a30c67ded882028b4595bf293bfc\n",
      "visualizing docid semanticDBLP_620f448570ef5902f48b1e39b15173afa1f0de0d\n",
      "visualizing docid semanticDBLP_7b9ecbf766ef7abd523497996421d583200244b4\n",
      "visualizing docid semanticDBLP_e5bb77b185f825412e32f4b3fbbcb31c5340b975\n",
      "visualizing docid semanticDBLP_40eecb0ad2213fcfcb9a841f43a2bdf602369a05\n",
      "visualizing docid semanticDBLP_681a6e7f8c168b75eeb55d61cc8d594165cf3625\n",
      "visualizing docid semanticDBLP_0121f027706620d82bc494efc56456e379b3c744\n",
      "visualizing docid semanticDBLP_a94ee7d49d1dea87848300a58587c9e4d87e0938\n",
      "visualizing docid semanticDBLP_692e3d73f71206e113bc1c272c064da1689a45a9\n",
      "visualizing docid semanticDBLP_99bad5661ea8e8a688fbd63593572056c255ce77\n",
      "visualizing docid semanticDBLP_0cf95577383391fc1ddb7657eda3c5f8723246f7\n",
      "visualizing docid semanticDBLP_af8f8450b639546fcb68da672729119e83e44d37\n",
      "visualizing docid semanticDBLP_0c6e29d82a5a080dc1db9eeabbd7d1529e78a3dc\n",
      "visualizing docid semanticDBLP_d5765d223191081a82d4e24b1a7719a51d1b049c\n",
      "visualizing docid semanticDBLP_28932138ce284da4982f9239585183818c5e197f\n",
      "visualizing docid semanticDBLP_883e7eaadd3f73ce8d1f89d7602989b31cf67610\n",
      "visualizing docid semanticDBLP_5aa37f450a7659adb1c6562a7bdac139e6238c03\n",
      "visualizing docid semanticDBLP_6f80827cc1ba895add1c682fdffcf8ec0e431b53\n",
      "visualizing docid semanticDBLP_426a37f52c0b279bed287ad1be23e82b2d24cdff\n",
      "visualizing docid semanticDBLP_80deaccf5483db757eda97db6ce206a95915f8ba\n",
      "visualizing docid semanticDBLP_9f8063465b7ac3f823e48cac342936d463f37157\n",
      "visualizing docid semanticDBLP_47f74a059e8d683e1a309fa7fe43f702b9f2bd30\n",
      "visualizing docid semanticDBLP_7008bc0709341ae19d260dbeda6b65a4c4467ee1\n",
      "visualizing docid semanticDBLP_4efa861ac966c85b03b99b6e7b13ea7c2cef325f\n",
      "visualizing docid semanticDBLP_24395e3605d0558004e6dc66da331a8a7bf6db44\n",
      "visualizing docid semanticDBLP_4476077ab485cbc854c28cc3467caa594f3920e2\n",
      "visualizing docid semanticDBLP_22411e7403b62f46d1e4b28ca773114cc0a76900\n",
      "visualizing docid semanticDBLP_18cd222b7b7d007c6ad9873e2ae4932768e17068\n",
      "visualizing docid semanticDBLP_61862a8624e4804f268d2d611fc589d74dc7894f\n",
      "visualizing docid semanticDBLP_1cbbde92b56f2127f261793a1e22398504804e62\n",
      "visualizing docid semanticDBLP_33637cadbc7161e84aaa367ab9e2bdc545bcc50c\n",
      "visualizing docid semanticDBLP_f56742d616a67899e44f70a732b5463b689b4c68\n",
      "visualizing docid semanticDBLP_9a207beb12cf30ac0aca6bb1db5b0e15fc168989\n",
      "visualizing docid semanticDBLP_130271241a3718323e439440d897ec26acfebf06\n",
      "visualizing docid semanticDBLP_9625c624fd58bb1482e94c1ea2c44f5444cb8705\n",
      "visualizing docid semanticDBLP_4f86fa28602d9503a8575c5b31082284abc8415c\n",
      "visualizing docid semanticDBLP_ada9acbc6e90d865fc3d7b3c5cab9c6175d6e5dc\n",
      "visualizing docid semanticDBLP_3d60580a47ea51813184b0ab62fae1c3b153ca1b\n"
     ]
    },
    {
     "data": {
      "text/plain": [
       "<Figure size 432x288 with 0 Axes>"
      ]
     },
     "metadata": {},
     "output_type": "display_data"
    },
    {
     "data": {
      "text/plain": [
       "<Figure size 2880x504 with 0 Axes>"
      ]
     },
     "metadata": {},
     "output_type": "display_data"
    },
    {
     "data": {
      "text/plain": [
       "<Figure size 2880x504 with 0 Axes>"
      ]
     },
     "metadata": {},
     "output_type": "display_data"
    },
    {
     "data": {
      "text/plain": [
       "<Figure size 2880x504 with 0 Axes>"
      ]
     },
     "metadata": {},
     "output_type": "display_data"
    },
    {
     "data": {
      "text/plain": [
       "<Figure size 2880x504 with 0 Axes>"
      ]
     },
     "metadata": {},
     "output_type": "display_data"
    },
    {
     "data": {
      "text/plain": [
       "<Figure size 2880x504 with 0 Axes>"
      ]
     },
     "metadata": {},
     "output_type": "display_data"
    },
    {
     "data": {
      "text/plain": [
       "<Figure size 2880x504 with 0 Axes>"
      ]
     },
     "metadata": {},
     "output_type": "display_data"
    },
    {
     "data": {
      "text/plain": [
       "<Figure size 2880x504 with 0 Axes>"
      ]
     },
     "metadata": {},
     "output_type": "display_data"
    },
    {
     "data": {
      "text/plain": [
       "<Figure size 2880x504 with 0 Axes>"
      ]
     },
     "metadata": {},
     "output_type": "display_data"
    },
    {
     "data": {
      "text/plain": [
       "<Figure size 2880x504 with 0 Axes>"
      ]
     },
     "metadata": {},
     "output_type": "display_data"
    },
    {
     "data": {
      "text/plain": [
       "<Figure size 2880x504 with 0 Axes>"
      ]
     },
     "metadata": {},
     "output_type": "display_data"
    },
    {
     "data": {
      "text/plain": [
       "<Figure size 2880x504 with 0 Axes>"
      ]
     },
     "metadata": {},
     "output_type": "display_data"
    },
    {
     "data": {
      "text/plain": [
       "<Figure size 2880x504 with 0 Axes>"
      ]
     },
     "metadata": {},
     "output_type": "display_data"
    },
    {
     "data": {
      "text/plain": [
       "<Figure size 2880x504 with 0 Axes>"
      ]
     },
     "metadata": {},
     "output_type": "display_data"
    },
    {
     "data": {
      "text/plain": [
       "<Figure size 2880x504 with 0 Axes>"
      ]
     },
     "metadata": {},
     "output_type": "display_data"
    },
    {
     "data": {
      "text/plain": [
       "<Figure size 2880x504 with 0 Axes>"
      ]
     },
     "metadata": {},
     "output_type": "display_data"
    },
    {
     "data": {
      "text/plain": [
       "<Figure size 2880x504 with 0 Axes>"
      ]
     },
     "metadata": {},
     "output_type": "display_data"
    },
    {
     "data": {
      "text/plain": [
       "<Figure size 2880x504 with 0 Axes>"
      ]
     },
     "metadata": {},
     "output_type": "display_data"
    },
    {
     "data": {
      "text/plain": [
       "<Figure size 2880x504 with 0 Axes>"
      ]
     },
     "metadata": {},
     "output_type": "display_data"
    },
    {
     "data": {
      "text/plain": [
       "<Figure size 2880x504 with 0 Axes>"
      ]
     },
     "metadata": {},
     "output_type": "display_data"
    },
    {
     "data": {
      "text/plain": [
       "<Figure size 2880x504 with 0 Axes>"
      ]
     },
     "metadata": {},
     "output_type": "display_data"
    },
    {
     "data": {
      "text/plain": [
       "<Figure size 2880x504 with 0 Axes>"
      ]
     },
     "metadata": {},
     "output_type": "display_data"
    },
    {
     "data": {
      "text/plain": [
       "<Figure size 2880x504 with 0 Axes>"
      ]
     },
     "metadata": {},
     "output_type": "display_data"
    },
    {
     "data": {
      "text/plain": [
       "<Figure size 2880x504 with 0 Axes>"
      ]
     },
     "metadata": {},
     "output_type": "display_data"
    },
    {
     "data": {
      "text/plain": [
       "<Figure size 2880x504 with 0 Axes>"
      ]
     },
     "metadata": {},
     "output_type": "display_data"
    },
    {
     "data": {
      "text/plain": [
       "<Figure size 2880x504 with 0 Axes>"
      ]
     },
     "metadata": {},
     "output_type": "display_data"
    },
    {
     "data": {
      "text/plain": [
       "<Figure size 2880x504 with 0 Axes>"
      ]
     },
     "metadata": {},
     "output_type": "display_data"
    },
    {
     "data": {
      "text/plain": [
       "<Figure size 2880x504 with 0 Axes>"
      ]
     },
     "metadata": {},
     "output_type": "display_data"
    },
    {
     "data": {
      "text/plain": [
       "<Figure size 2880x504 with 0 Axes>"
      ]
     },
     "metadata": {},
     "output_type": "display_data"
    },
    {
     "data": {
      "text/plain": [
       "<Figure size 2880x504 with 0 Axes>"
      ]
     },
     "metadata": {},
     "output_type": "display_data"
    },
    {
     "data": {
      "text/plain": [
       "<Figure size 2880x504 with 0 Axes>"
      ]
     },
     "metadata": {},
     "output_type": "display_data"
    },
    {
     "data": {
      "text/plain": [
       "<Figure size 2880x504 with 0 Axes>"
      ]
     },
     "metadata": {},
     "output_type": "display_data"
    },
    {
     "data": {
      "text/plain": [
       "<Figure size 2880x504 with 0 Axes>"
      ]
     },
     "metadata": {},
     "output_type": "display_data"
    },
    {
     "data": {
      "text/plain": [
       "<Figure size 2880x504 with 0 Axes>"
      ]
     },
     "metadata": {},
     "output_type": "display_data"
    },
    {
     "data": {
      "text/plain": [
       "<Figure size 2880x504 with 0 Axes>"
      ]
     },
     "metadata": {},
     "output_type": "display_data"
    },
    {
     "data": {
      "text/plain": [
       "<Figure size 2880x504 with 0 Axes>"
      ]
     },
     "metadata": {},
     "output_type": "display_data"
    },
    {
     "data": {
      "text/plain": [
       "<Figure size 2880x504 with 0 Axes>"
      ]
     },
     "metadata": {},
     "output_type": "display_data"
    },
    {
     "data": {
      "text/plain": [
       "<Figure size 2880x504 with 0 Axes>"
      ]
     },
     "metadata": {},
     "output_type": "display_data"
    },
    {
     "data": {
      "text/plain": [
       "<Figure size 2880x504 with 0 Axes>"
      ]
     },
     "metadata": {},
     "output_type": "display_data"
    },
    {
     "data": {
      "text/plain": [
       "<Figure size 2880x504 with 0 Axes>"
      ]
     },
     "metadata": {},
     "output_type": "display_data"
    },
    {
     "data": {
      "text/plain": [
       "<Figure size 2880x504 with 0 Axes>"
      ]
     },
     "metadata": {},
     "output_type": "display_data"
    },
    {
     "data": {
      "text/plain": [
       "<Figure size 2880x504 with 0 Axes>"
      ]
     },
     "metadata": {},
     "output_type": "display_data"
    },
    {
     "data": {
      "text/plain": [
       "<Figure size 2880x504 with 0 Axes>"
      ]
     },
     "metadata": {},
     "output_type": "display_data"
    },
    {
     "data": {
      "text/plain": [
       "<Figure size 2880x504 with 0 Axes>"
      ]
     },
     "metadata": {},
     "output_type": "display_data"
    },
    {
     "data": {
      "text/plain": [
       "<Figure size 2880x504 with 0 Axes>"
      ]
     },
     "metadata": {},
     "output_type": "display_data"
    },
    {
     "data": {
      "text/plain": [
       "<Figure size 2880x504 with 0 Axes>"
      ]
     },
     "metadata": {},
     "output_type": "display_data"
    },
    {
     "data": {
      "text/plain": [
       "<Figure size 2880x504 with 0 Axes>"
      ]
     },
     "metadata": {},
     "output_type": "display_data"
    },
    {
     "data": {
      "text/plain": [
       "<Figure size 2880x504 with 0 Axes>"
      ]
     },
     "metadata": {},
     "output_type": "display_data"
    },
    {
     "data": {
      "text/plain": [
       "<Figure size 2880x504 with 0 Axes>"
      ]
     },
     "metadata": {},
     "output_type": "display_data"
    },
    {
     "data": {
      "text/plain": [
       "<Figure size 2880x504 with 0 Axes>"
      ]
     },
     "metadata": {},
     "output_type": "display_data"
    },
    {
     "data": {
      "text/plain": [
       "<Figure size 2880x504 with 0 Axes>"
      ]
     },
     "metadata": {},
     "output_type": "display_data"
    },
    {
     "data": {
      "text/plain": [
       "<Figure size 2880x504 with 0 Axes>"
      ]
     },
     "metadata": {},
     "output_type": "display_data"
    },
    {
     "data": {
      "text/plain": [
       "<Figure size 2880x504 with 0 Axes>"
      ]
     },
     "metadata": {},
     "output_type": "display_data"
    },
    {
     "data": {
      "text/plain": [
       "<Figure size 2880x504 with 0 Axes>"
      ]
     },
     "metadata": {},
     "output_type": "display_data"
    },
    {
     "data": {
      "text/plain": [
       "<Figure size 2880x504 with 0 Axes>"
      ]
     },
     "metadata": {},
     "output_type": "display_data"
    },
    {
     "data": {
      "text/plain": [
       "<Figure size 2880x504 with 0 Axes>"
      ]
     },
     "metadata": {},
     "output_type": "display_data"
    },
    {
     "data": {
      "text/plain": [
       "<Figure size 2880x504 with 0 Axes>"
      ]
     },
     "metadata": {},
     "output_type": "display_data"
    },
    {
     "data": {
      "text/plain": [
       "<Figure size 2880x504 with 0 Axes>"
      ]
     },
     "metadata": {},
     "output_type": "display_data"
    },
    {
     "data": {
      "text/plain": [
       "<Figure size 2880x504 with 0 Axes>"
      ]
     },
     "metadata": {},
     "output_type": "display_data"
    },
    {
     "data": {
      "text/plain": [
       "<Figure size 2880x504 with 0 Axes>"
      ]
     },
     "metadata": {},
     "output_type": "display_data"
    },
    {
     "data": {
      "text/plain": [
       "<Figure size 2880x504 with 0 Axes>"
      ]
     },
     "metadata": {},
     "output_type": "display_data"
    },
    {
     "data": {
      "text/plain": [
       "<Figure size 2880x504 with 0 Axes>"
      ]
     },
     "metadata": {},
     "output_type": "display_data"
    },
    {
     "data": {
      "text/plain": [
       "<Figure size 2880x504 with 0 Axes>"
      ]
     },
     "metadata": {},
     "output_type": "display_data"
    },
    {
     "data": {
      "text/plain": [
       "<Figure size 2880x504 with 0 Axes>"
      ]
     },
     "metadata": {},
     "output_type": "display_data"
    },
    {
     "data": {
      "text/plain": [
       "<Figure size 2880x504 with 0 Axes>"
      ]
     },
     "metadata": {},
     "output_type": "display_data"
    },
    {
     "data": {
      "text/plain": [
       "<Figure size 2880x504 with 0 Axes>"
      ]
     },
     "metadata": {},
     "output_type": "display_data"
    },
    {
     "data": {
      "text/plain": [
       "<Figure size 2880x504 with 0 Axes>"
      ]
     },
     "metadata": {},
     "output_type": "display_data"
    },
    {
     "data": {
      "text/plain": [
       "<Figure size 2880x504 with 0 Axes>"
      ]
     },
     "metadata": {},
     "output_type": "display_data"
    },
    {
     "data": {
      "text/plain": [
       "<Figure size 2880x504 with 0 Axes>"
      ]
     },
     "metadata": {},
     "output_type": "display_data"
    },
    {
     "data": {
      "text/plain": [
       "<Figure size 2880x504 with 0 Axes>"
      ]
     },
     "metadata": {},
     "output_type": "display_data"
    },
    {
     "data": {
      "text/plain": [
       "<Figure size 2880x504 with 0 Axes>"
      ]
     },
     "metadata": {},
     "output_type": "display_data"
    },
    {
     "data": {
      "text/plain": [
       "<Figure size 2880x504 with 0 Axes>"
      ]
     },
     "metadata": {},
     "output_type": "display_data"
    },
    {
     "data": {
      "text/plain": [
       "<Figure size 2880x504 with 0 Axes>"
      ]
     },
     "metadata": {},
     "output_type": "display_data"
    },
    {
     "data": {
      "text/plain": [
       "<Figure size 2880x504 with 0 Axes>"
      ]
     },
     "metadata": {},
     "output_type": "display_data"
    },
    {
     "data": {
      "text/plain": [
       "<Figure size 2880x504 with 0 Axes>"
      ]
     },
     "metadata": {},
     "output_type": "display_data"
    },
    {
     "data": {
      "text/plain": [
       "<Figure size 2880x504 with 0 Axes>"
      ]
     },
     "metadata": {},
     "output_type": "display_data"
    },
    {
     "data": {
      "text/plain": [
       "<Figure size 2880x504 with 0 Axes>"
      ]
     },
     "metadata": {},
     "output_type": "display_data"
    },
    {
     "data": {
      "text/plain": [
       "<Figure size 2880x504 with 0 Axes>"
      ]
     },
     "metadata": {},
     "output_type": "display_data"
    },
    {
     "data": {
      "text/plain": [
       "<Figure size 2880x504 with 0 Axes>"
      ]
     },
     "metadata": {},
     "output_type": "display_data"
    },
    {
     "data": {
      "text/plain": [
       "<Figure size 2880x504 with 0 Axes>"
      ]
     },
     "metadata": {},
     "output_type": "display_data"
    },
    {
     "data": {
      "text/plain": [
       "<Figure size 2880x504 with 0 Axes>"
      ]
     },
     "metadata": {},
     "output_type": "display_data"
    },
    {
     "data": {
      "text/plain": [
       "<Figure size 2880x504 with 0 Axes>"
      ]
     },
     "metadata": {},
     "output_type": "display_data"
    },
    {
     "data": {
      "text/plain": [
       "<Figure size 2880x504 with 0 Axes>"
      ]
     },
     "metadata": {},
     "output_type": "display_data"
    },
    {
     "data": {
      "text/plain": [
       "<Figure size 2880x504 with 0 Axes>"
      ]
     },
     "metadata": {},
     "output_type": "display_data"
    },
    {
     "data": {
      "text/plain": [
       "<Figure size 2880x504 with 0 Axes>"
      ]
     },
     "metadata": {},
     "output_type": "display_data"
    },
    {
     "data": {
      "text/plain": [
       "<Figure size 2880x504 with 0 Axes>"
      ]
     },
     "metadata": {},
     "output_type": "display_data"
    },
    {
     "data": {
      "text/plain": [
       "<Figure size 2880x504 with 0 Axes>"
      ]
     },
     "metadata": {},
     "output_type": "display_data"
    },
    {
     "data": {
      "text/plain": [
       "<Figure size 2880x504 with 0 Axes>"
      ]
     },
     "metadata": {},
     "output_type": "display_data"
    },
    {
     "data": {
      "text/plain": [
       "<Figure size 2880x504 with 0 Axes>"
      ]
     },
     "metadata": {},
     "output_type": "display_data"
    },
    {
     "data": {
      "text/plain": [
       "<Figure size 2880x504 with 0 Axes>"
      ]
     },
     "metadata": {},
     "output_type": "display_data"
    },
    {
     "data": {
      "text/plain": [
       "<Figure size 2880x504 with 0 Axes>"
      ]
     },
     "metadata": {},
     "output_type": "display_data"
    },
    {
     "data": {
      "text/plain": [
       "<Figure size 2880x504 with 0 Axes>"
      ]
     },
     "metadata": {},
     "output_type": "display_data"
    },
    {
     "data": {
      "text/plain": [
       "<Figure size 2880x504 with 0 Axes>"
      ]
     },
     "metadata": {},
     "output_type": "display_data"
    },
    {
     "data": {
      "text/plain": [
       "<Figure size 2880x504 with 0 Axes>"
      ]
     },
     "metadata": {},
     "output_type": "display_data"
    },
    {
     "data": {
      "text/plain": [
       "<Figure size 2880x504 with 0 Axes>"
      ]
     },
     "metadata": {},
     "output_type": "display_data"
    },
    {
     "data": {
      "text/plain": [
       "<Figure size 2880x504 with 0 Axes>"
      ]
     },
     "metadata": {},
     "output_type": "display_data"
    },
    {
     "data": {
      "text/plain": [
       "<Figure size 2880x504 with 0 Axes>"
      ]
     },
     "metadata": {},
     "output_type": "display_data"
    },
    {
     "data": {
      "text/plain": [
       "<Figure size 2880x504 with 0 Axes>"
      ]
     },
     "metadata": {},
     "output_type": "display_data"
    },
    {
     "data": {
      "text/plain": [
       "<Figure size 2880x504 with 0 Axes>"
      ]
     },
     "metadata": {},
     "output_type": "display_data"
    },
    {
     "data": {
      "text/plain": [
       "<Figure size 2880x504 with 0 Axes>"
      ]
     },
     "metadata": {},
     "output_type": "display_data"
    },
    {
     "data": {
      "text/plain": [
       "<Figure size 2880x504 with 0 Axes>"
      ]
     },
     "metadata": {},
     "output_type": "display_data"
    },
    {
     "data": {
      "text/plain": [
       "<Figure size 2880x504 with 0 Axes>"
      ]
     },
     "metadata": {},
     "output_type": "display_data"
    },
    {
     "data": {
      "text/plain": [
       "<Figure size 2880x504 with 0 Axes>"
      ]
     },
     "metadata": {},
     "output_type": "display_data"
    },
    {
     "data": {
      "text/plain": [
       "<Figure size 2880x504 with 0 Axes>"
      ]
     },
     "metadata": {},
     "output_type": "display_data"
    },
    {
     "data": {
      "text/plain": [
       "<Figure size 2880x504 with 0 Axes>"
      ]
     },
     "metadata": {},
     "output_type": "display_data"
    },
    {
     "data": {
      "text/plain": [
       "<Figure size 2880x504 with 0 Axes>"
      ]
     },
     "metadata": {},
     "output_type": "display_data"
    },
    {
     "data": {
      "text/plain": [
       "<Figure size 2880x504 with 0 Axes>"
      ]
     },
     "metadata": {},
     "output_type": "display_data"
    },
    {
     "data": {
      "text/plain": [
       "<Figure size 2880x504 with 0 Axes>"
      ]
     },
     "metadata": {},
     "output_type": "display_data"
    },
    {
     "data": {
      "text/plain": [
       "<Figure size 2880x504 with 0 Axes>"
      ]
     },
     "metadata": {},
     "output_type": "display_data"
    },
    {
     "data": {
      "text/plain": [
       "<Figure size 2880x504 with 0 Axes>"
      ]
     },
     "metadata": {},
     "output_type": "display_data"
    },
    {
     "data": {
      "text/plain": [
       "<Figure size 2880x504 with 0 Axes>"
      ]
     },
     "metadata": {},
     "output_type": "display_data"
    },
    {
     "data": {
      "text/plain": [
       "<Figure size 2880x504 with 0 Axes>"
      ]
     },
     "metadata": {},
     "output_type": "display_data"
    },
    {
     "data": {
      "text/plain": [
       "<Figure size 2880x504 with 0 Axes>"
      ]
     },
     "metadata": {},
     "output_type": "display_data"
    },
    {
     "data": {
      "text/plain": [
       "<Figure size 2880x504 with 0 Axes>"
      ]
     },
     "metadata": {},
     "output_type": "display_data"
    },
    {
     "data": {
      "text/plain": [
       "<Figure size 2880x504 with 0 Axes>"
      ]
     },
     "metadata": {},
     "output_type": "display_data"
    },
    {
     "data": {
      "text/plain": [
       "<Figure size 2880x504 with 0 Axes>"
      ]
     },
     "metadata": {},
     "output_type": "display_data"
    },
    {
     "data": {
      "text/plain": [
       "<Figure size 2880x504 with 0 Axes>"
      ]
     },
     "metadata": {},
     "output_type": "display_data"
    },
    {
     "data": {
      "text/plain": [
       "<Figure size 2880x504 with 0 Axes>"
      ]
     },
     "metadata": {},
     "output_type": "display_data"
    },
    {
     "data": {
      "text/plain": [
       "<Figure size 2880x504 with 0 Axes>"
      ]
     },
     "metadata": {},
     "output_type": "display_data"
    },
    {
     "data": {
      "text/plain": [
       "<Figure size 2880x504 with 0 Axes>"
      ]
     },
     "metadata": {},
     "output_type": "display_data"
    },
    {
     "data": {
      "text/plain": [
       "<Figure size 2880x504 with 0 Axes>"
      ]
     },
     "metadata": {},
     "output_type": "display_data"
    },
    {
     "data": {
      "text/plain": [
       "<Figure size 2880x504 with 0 Axes>"
      ]
     },
     "metadata": {},
     "output_type": "display_data"
    },
    {
     "data": {
      "text/plain": [
       "<Figure size 2880x504 with 0 Axes>"
      ]
     },
     "metadata": {},
     "output_type": "display_data"
    },
    {
     "data": {
      "text/plain": [
       "<Figure size 2880x504 with 0 Axes>"
      ]
     },
     "metadata": {},
     "output_type": "display_data"
    },
    {
     "data": {
      "text/plain": [
       "<Figure size 2880x504 with 0 Axes>"
      ]
     },
     "metadata": {},
     "output_type": "display_data"
    },
    {
     "data": {
      "text/plain": [
       "<Figure size 2880x504 with 0 Axes>"
      ]
     },
     "metadata": {},
     "output_type": "display_data"
    },
    {
     "data": {
      "text/plain": [
       "<Figure size 2880x504 with 0 Axes>"
      ]
     },
     "metadata": {},
     "output_type": "display_data"
    },
    {
     "data": {
      "text/plain": [
       "<Figure size 2880x504 with 0 Axes>"
      ]
     },
     "metadata": {},
     "output_type": "display_data"
    },
    {
     "data": {
      "text/plain": [
       "<Figure size 2880x504 with 0 Axes>"
      ]
     },
     "metadata": {},
     "output_type": "display_data"
    },
    {
     "data": {
      "text/plain": [
       "<Figure size 2880x504 with 0 Axes>"
      ]
     },
     "metadata": {},
     "output_type": "display_data"
    },
    {
     "data": {
      "text/plain": [
       "<Figure size 2880x504 with 0 Axes>"
      ]
     },
     "metadata": {},
     "output_type": "display_data"
    },
    {
     "data": {
      "text/plain": [
       "<Figure size 2880x504 with 0 Axes>"
      ]
     },
     "metadata": {},
     "output_type": "display_data"
    },
    {
     "data": {
      "text/plain": [
       "<Figure size 2880x504 with 0 Axes>"
      ]
     },
     "metadata": {},
     "output_type": "display_data"
    },
    {
     "data": {
      "text/plain": [
       "<Figure size 2880x504 with 0 Axes>"
      ]
     },
     "metadata": {},
     "output_type": "display_data"
    },
    {
     "data": {
      "text/plain": [
       "<Figure size 2880x504 with 0 Axes>"
      ]
     },
     "metadata": {},
     "output_type": "display_data"
    },
    {
     "data": {
      "text/plain": [
       "<Figure size 2880x504 with 0 Axes>"
      ]
     },
     "metadata": {},
     "output_type": "display_data"
    },
    {
     "data": {
      "text/plain": [
       "<Figure size 2880x504 with 0 Axes>"
      ]
     },
     "metadata": {},
     "output_type": "display_data"
    },
    {
     "data": {
      "text/plain": [
       "<Figure size 2880x504 with 0 Axes>"
      ]
     },
     "metadata": {},
     "output_type": "display_data"
    },
    {
     "data": {
      "text/plain": [
       "<Figure size 2880x504 with 0 Axes>"
      ]
     },
     "metadata": {},
     "output_type": "display_data"
    },
    {
     "data": {
      "text/plain": [
       "<Figure size 2880x504 with 0 Axes>"
      ]
     },
     "metadata": {},
     "output_type": "display_data"
    },
    {
     "data": {
      "text/plain": [
       "<Figure size 2880x504 with 0 Axes>"
      ]
     },
     "metadata": {},
     "output_type": "display_data"
    },
    {
     "data": {
      "text/plain": [
       "<Figure size 2880x504 with 0 Axes>"
      ]
     },
     "metadata": {},
     "output_type": "display_data"
    },
    {
     "data": {
      "text/plain": [
       "<Figure size 2880x504 with 0 Axes>"
      ]
     },
     "metadata": {},
     "output_type": "display_data"
    },
    {
     "data": {
      "text/plain": [
       "<Figure size 2880x504 with 0 Axes>"
      ]
     },
     "metadata": {},
     "output_type": "display_data"
    },
    {
     "data": {
      "text/plain": [
       "<Figure size 2880x504 with 0 Axes>"
      ]
     },
     "metadata": {},
     "output_type": "display_data"
    },
    {
     "data": {
      "text/plain": [
       "<Figure size 2880x504 with 0 Axes>"
      ]
     },
     "metadata": {},
     "output_type": "display_data"
    },
    {
     "data": {
      "text/plain": [
       "<Figure size 2880x504 with 0 Axes>"
      ]
     },
     "metadata": {},
     "output_type": "display_data"
    },
    {
     "data": {
      "text/plain": [
       "<Figure size 2880x504 with 0 Axes>"
      ]
     },
     "metadata": {},
     "output_type": "display_data"
    },
    {
     "data": {
      "text/plain": [
       "<Figure size 2880x504 with 0 Axes>"
      ]
     },
     "metadata": {},
     "output_type": "display_data"
    },
    {
     "data": {
      "text/plain": [
       "<Figure size 2880x504 with 0 Axes>"
      ]
     },
     "metadata": {},
     "output_type": "display_data"
    },
    {
     "data": {
      "text/plain": [
       "<Figure size 2880x504 with 0 Axes>"
      ]
     },
     "metadata": {},
     "output_type": "display_data"
    },
    {
     "data": {
      "text/plain": [
       "<Figure size 2880x504 with 0 Axes>"
      ]
     },
     "metadata": {},
     "output_type": "display_data"
    },
    {
     "data": {
      "text/plain": [
       "<Figure size 2880x504 with 0 Axes>"
      ]
     },
     "metadata": {},
     "output_type": "display_data"
    },
    {
     "data": {
      "text/plain": [
       "<Figure size 2880x504 with 0 Axes>"
      ]
     },
     "metadata": {},
     "output_type": "display_data"
    },
    {
     "data": {
      "text/plain": [
       "<Figure size 2880x504 with 0 Axes>"
      ]
     },
     "metadata": {},
     "output_type": "display_data"
    },
    {
     "data": {
      "text/plain": [
       "<Figure size 2880x504 with 0 Axes>"
      ]
     },
     "metadata": {},
     "output_type": "display_data"
    },
    {
     "data": {
      "text/plain": [
       "<Figure size 2880x504 with 0 Axes>"
      ]
     },
     "metadata": {},
     "output_type": "display_data"
    },
    {
     "data": {
      "text/plain": [
       "<Figure size 2880x504 with 0 Axes>"
      ]
     },
     "metadata": {},
     "output_type": "display_data"
    },
    {
     "data": {
      "text/plain": [
       "<Figure size 2880x504 with 0 Axes>"
      ]
     },
     "metadata": {},
     "output_type": "display_data"
    },
    {
     "data": {
      "text/plain": [
       "<Figure size 2880x504 with 0 Axes>"
      ]
     },
     "metadata": {},
     "output_type": "display_data"
    },
    {
     "data": {
      "text/plain": [
       "<Figure size 2880x504 with 0 Axes>"
      ]
     },
     "metadata": {},
     "output_type": "display_data"
    },
    {
     "data": {
      "text/plain": [
       "<Figure size 2880x504 with 0 Axes>"
      ]
     },
     "metadata": {},
     "output_type": "display_data"
    },
    {
     "data": {
      "text/plain": [
       "<Figure size 2880x504 with 0 Axes>"
      ]
     },
     "metadata": {},
     "output_type": "display_data"
    },
    {
     "data": {
      "text/plain": [
       "<Figure size 2880x504 with 0 Axes>"
      ]
     },
     "metadata": {},
     "output_type": "display_data"
    },
    {
     "data": {
      "text/plain": [
       "<Figure size 2880x504 with 0 Axes>"
      ]
     },
     "metadata": {},
     "output_type": "display_data"
    },
    {
     "data": {
      "text/plain": [
       "<Figure size 2880x504 with 0 Axes>"
      ]
     },
     "metadata": {},
     "output_type": "display_data"
    },
    {
     "data": {
      "text/plain": [
       "<Figure size 2880x504 with 0 Axes>"
      ]
     },
     "metadata": {},
     "output_type": "display_data"
    },
    {
     "data": {
      "text/plain": [
       "<Figure size 2880x504 with 0 Axes>"
      ]
     },
     "metadata": {},
     "output_type": "display_data"
    },
    {
     "data": {
      "text/plain": [
       "<Figure size 2880x504 with 0 Axes>"
      ]
     },
     "metadata": {},
     "output_type": "display_data"
    },
    {
     "data": {
      "text/plain": [
       "<Figure size 2880x504 with 0 Axes>"
      ]
     },
     "metadata": {},
     "output_type": "display_data"
    },
    {
     "data": {
      "text/plain": [
       "<Figure size 2880x504 with 0 Axes>"
      ]
     },
     "metadata": {},
     "output_type": "display_data"
    },
    {
     "data": {
      "text/plain": [
       "<Figure size 2880x504 with 0 Axes>"
      ]
     },
     "metadata": {},
     "output_type": "display_data"
    },
    {
     "data": {
      "text/plain": [
       "<Figure size 2880x504 with 0 Axes>"
      ]
     },
     "metadata": {},
     "output_type": "display_data"
    },
    {
     "data": {
      "text/plain": [
       "<Figure size 2880x504 with 0 Axes>"
      ]
     },
     "metadata": {},
     "output_type": "display_data"
    },
    {
     "data": {
      "text/plain": [
       "<Figure size 2880x504 with 0 Axes>"
      ]
     },
     "metadata": {},
     "output_type": "display_data"
    },
    {
     "data": {
      "text/plain": [
       "<Figure size 2880x504 with 0 Axes>"
      ]
     },
     "metadata": {},
     "output_type": "display_data"
    },
    {
     "data": {
      "text/plain": [
       "<Figure size 2880x504 with 0 Axes>"
      ]
     },
     "metadata": {},
     "output_type": "display_data"
    },
    {
     "data": {
      "text/plain": [
       "<Figure size 2880x504 with 0 Axes>"
      ]
     },
     "metadata": {},
     "output_type": "display_data"
    },
    {
     "data": {
      "text/plain": [
       "<Figure size 2880x504 with 0 Axes>"
      ]
     },
     "metadata": {},
     "output_type": "display_data"
    },
    {
     "data": {
      "text/plain": [
       "<Figure size 2880x504 with 0 Axes>"
      ]
     },
     "metadata": {},
     "output_type": "display_data"
    },
    {
     "data": {
      "text/plain": [
       "<Figure size 2880x504 with 0 Axes>"
      ]
     },
     "metadata": {},
     "output_type": "display_data"
    },
    {
     "data": {
      "text/plain": [
       "<Figure size 2880x504 with 0 Axes>"
      ]
     },
     "metadata": {},
     "output_type": "display_data"
    },
    {
     "data": {
      "text/plain": [
       "<Figure size 2880x504 with 0 Axes>"
      ]
     },
     "metadata": {},
     "output_type": "display_data"
    },
    {
     "data": {
      "text/plain": [
       "<Figure size 2880x504 with 0 Axes>"
      ]
     },
     "metadata": {},
     "output_type": "display_data"
    },
    {
     "data": {
      "text/plain": [
       "<Figure size 2880x504 with 0 Axes>"
      ]
     },
     "metadata": {},
     "output_type": "display_data"
    },
    {
     "data": {
      "text/plain": [
       "<Figure size 2880x504 with 0 Axes>"
      ]
     },
     "metadata": {},
     "output_type": "display_data"
    },
    {
     "data": {
      "text/plain": [
       "<Figure size 2880x504 with 0 Axes>"
      ]
     },
     "metadata": {},
     "output_type": "display_data"
    },
    {
     "data": {
      "text/plain": [
       "<Figure size 2880x504 with 0 Axes>"
      ]
     },
     "metadata": {},
     "output_type": "display_data"
    },
    {
     "data": {
      "text/plain": [
       "<Figure size 2880x504 with 0 Axes>"
      ]
     },
     "metadata": {},
     "output_type": "display_data"
    },
    {
     "data": {
      "text/plain": [
       "<Figure size 2880x504 with 0 Axes>"
      ]
     },
     "metadata": {},
     "output_type": "display_data"
    },
    {
     "data": {
      "text/plain": [
       "<Figure size 2880x504 with 0 Axes>"
      ]
     },
     "metadata": {},
     "output_type": "display_data"
    },
    {
     "data": {
      "text/plain": [
       "<Figure size 2880x504 with 0 Axes>"
      ]
     },
     "metadata": {},
     "output_type": "display_data"
    },
    {
     "data": {
      "text/plain": [
       "<Figure size 2880x504 with 0 Axes>"
      ]
     },
     "metadata": {},
     "output_type": "display_data"
    },
    {
     "data": {
      "text/plain": [
       "<Figure size 2880x504 with 0 Axes>"
      ]
     },
     "metadata": {},
     "output_type": "display_data"
    },
    {
     "data": {
      "text/plain": [
       "<Figure size 2880x504 with 0 Axes>"
      ]
     },
     "metadata": {},
     "output_type": "display_data"
    },
    {
     "data": {
      "text/plain": [
       "<Figure size 2880x504 with 0 Axes>"
      ]
     },
     "metadata": {},
     "output_type": "display_data"
    },
    {
     "data": {
      "text/plain": [
       "<Figure size 2880x504 with 0 Axes>"
      ]
     },
     "metadata": {},
     "output_type": "display_data"
    },
    {
     "data": {
      "text/plain": [
       "<Figure size 2880x504 with 0 Axes>"
      ]
     },
     "metadata": {},
     "output_type": "display_data"
    },
    {
     "data": {
      "text/plain": [
       "<Figure size 2880x504 with 0 Axes>"
      ]
     },
     "metadata": {},
     "output_type": "display_data"
    },
    {
     "data": {
      "text/plain": [
       "<Figure size 2880x504 with 0 Axes>"
      ]
     },
     "metadata": {},
     "output_type": "display_data"
    },
    {
     "data": {
      "image/png": "[encoded data removed]",
      "text/plain": [
       "<Figure size 2880x504 with 2 Axes>"
      ]
     },
     "metadata": {},
     "output_type": "display_data"
    }
   ],
   "source": [
    "from collections import defaultdict\n",
    "import matplotlib.pyplot as plt\n",
    "import seaborn as sns\n",
    "import os \n",
    "\n",
    "def pad_reshape(A,width,isFloat=False):\n",
    "    B=np.empty([1,int(A.shape[1]/width+1)*width],dtype=object)\n",
    "    if isFloat:\n",
    "        B=np.zeros([1,int(A.shape[1]/width+1)*width])\n",
    "        B[:,:A.shape[1]]=A\n",
    "    else:\n",
    "        B[:,:A.shape[1]]=A\n",
    "        B[:,A.shape[1]:]=\"\"\n",
    "    return B.reshape(-1,width)\n",
    " \n",
    "\n",
    "def create_new_score_array(smooth_window,score_array,word_array):\n",
    "    new_score_array=np.zeros(score_array.shape)\n",
    "    half_window=int(smooth_window/2)\n",
    "    punctuation=[\",\",\".\"]\n",
    "    for i in range(score_array.shape[1]):\n",
    "        sub_score_array=score_array[0,max(0,i-half_window):i+half_window+1]\n",
    "        sub_word_array=word_array[0,max(0,i-half_window):i+half_window+1]\n",
    "\n",
    "        mid_pos=half_window\n",
    "\n",
    "        left_pos=mid_pos\n",
    "        right_pos=mid_pos\n",
    "#         print(sub_word_array[left_pos],type(sub_word_array[left_pos]))\n",
    "        while left_pos>0 and str(sub_word_array[left_pos-1][0]) not in punctuation:\n",
    "            left_pos-=1\n",
    "        while right_pos<len(sub_word_array):\n",
    "            right_pos+=1\n",
    "            if str(sub_word_array[right_pos-1][0]) in punctuation:\n",
    "                break\n",
    "        new_score_array[0,i]=np.mean(sub_score_array[left_pos:right_pos])\n",
    "    return new_score_array\n",
    "\n",
    "\n",
    "    \n",
    "def visualize_word_level(tag,unigram_segments,score_list,directory=\"data/word_level_tag_visualization\",smooth_window=0,cmap=\"Greens\"):\n",
    "    doc_dict=defaultdict(lambda:[])\n",
    "\n",
    "    pair_list=list(zip(unigram_segments,score_list))\n",
    "\n",
    "    for ind,pair in enumerate(pair_list):\n",
    "        if ind%10000==0:\n",
    "            print(ind)\n",
    "        docid=pair[0].get_parent().get_parent().name\n",
    "        doc_dict[docid]+=[pair]\n",
    "    print(\"dispatch finished!! \")\n",
    "\n",
    "    for docid in doc_dict:\n",
    "        plt.clf()\n",
    "        doc_dict[docid]=sorted(doc_dict[docid], key=lambda pair: (pair[0].get_parent().position, pair[0].get_contexts()[0].get_word_start()))\n",
    "        ordered_word_score_list=[(pair[0].get_parent().text[pair[0].unigram_cue.char_start:pair[0].unigram_cue.char_end+1], pair[1]) for pair in doc_dict[docid]]\n",
    "        df=pd.DataFrame.from_records(ordered_word_score_list,columns=['word','score'])\n",
    "        fig, ax = plt.subplots(figsize=(40,7))  \n",
    "        width=15\n",
    "        score_array=np.asarray(df[['score']]).reshape(1,-1)\n",
    "        word_array=np.asarray(df[['word']]).reshape(1,-1)\n",
    "        \n",
    "        if smooth_window!=0:\n",
    "            score_array=create_new_score_array(smooth_window,score_array,word_array)\n",
    "#             print(new_score_array.shape)\n",
    "        sns.heatmap(pad_reshape(score_array,width,isFloat=True), cmap=cmap, annot=pad_reshape(word_array,width),fmt='',yticklabels=False,xticklabels=False,ax=ax,annot_kws={\"size\": 15})\n",
    "        plt.savefig(os.path.join(directory,\"run\",docid+\"_\"+tag))\n",
    "  \n",
    "sample_size=train_marginals.shape[0]\n",
    "# visualize_word_level(\"PP\",unigram_segments[:sample_size],list(train_marginals[:sample_size,0].reshape(-1))) \n",
    "# visualize_word_level(\"MN\",unigram_segments[:sample_size],list(train_marginals[:sample_size,1].reshape(-1)))\n",
    "\n",
    "smooth_window=3\n",
    "visualize_word_level(\"PP\"+\"_\"+str(smooth_window),unigram_segments[:sample_size],list(train_marginals[:sample_size,0].reshape(-1)),smooth_window=smooth_window,cmap=\"Reds\") \n",
    "visualize_word_level(\"MN\"+\"_\"+str(smooth_window),unigram_segments[:sample_size],list(train_marginals[:sample_size,1].reshape(-1)),smooth_window=smooth_window,cmap=\"Blues\") "
   ]
  },
  {
   "cell_type": "markdown",
   "metadata": {},
   "source": [
    "We could now view visualization on this train set back in the directory."
   ]
  },
  {
   "cell_type": "code",
   "execution_count": null,
   "metadata": {},
   "outputs": [
    {
     "name": "stdout",
     "output_type": "stream",
     "text": [
      "Clearing existing...\n",
      "snorkel_conn_string postgresql:///abstractnetwordworkshopslim\n",
      "if snorkel_postgres? True\n",
      "clearning..\n",
      "Running UDF...\n",
      "snorkel_conn_string postgresql:///abstractnetwordworkshopslim\n",
      "if snorkel_postgres? True\n",
      "[========================================] 100%\n",
      "\n",
      "CPU times: user 39.4 s, sys: 3.06 s, total: 42.5 s\n",
      "Wall time: 1min 26s\n",
      "snorkel_conn_string postgresql:///abstractnetwordworkshopslim\n",
      "if snorkel_postgres? True\n",
      "2018-10-16 23:44:27.250143\n",
      "snorkel_conn_string postgresql:///abstractnetwordworkshopslim\n",
      "if snorkel_postgres? True\n",
      "cids_count 21384\n",
      "key_group 0\n",
      "Clearing existing...\n",
      "snorkel_conn_string postgresql:///abstractnetwordworkshopslim\n",
      "if snorkel_postgres? True\n",
      "clearning..\n",
      "Running UDF...\n",
      "snorkel_conn_string postgresql:///abstractnetwordworkshopslim\n",
      "if snorkel_postgres? True\n",
      "[==============                          ] 33%"
     ]
    }
   ],
   "source": [
    "blind_bucket=1\n",
    "%time unigram_segment_extractor.apply(sents_split[blind_bucket], split=blind_bucket)\n",
    "unigram_segments_tmp=session.query(Unigram).filter(Unigram.split == blind_bucket).all()\n",
    "\n",
    "L_train_tmp=get_L_train(purpose_LFs+mechanism_LFs+null_LFs+new_LFs,split=blind_bucket)\n",
    "print(\"creating blind_marginals\")\n",
    "\n",
    "train_marginals_tmp = gen_model.marginals(L_train_tmp)\n",
    "print(\"visualizing blind_marginals\")\n",
    "sample_size=train_marginals_tmp.shape[0]\n",
    "smooth_window=3\n",
    "visualize_word_level(\"PP\"+\"_\"+str(smooth_window),unigram_segments_tmp[:sample_size],list(train_marginals_tmp[:sample_size,0].reshape(-1)),smooth_window=smooth_window,cmap=\"Reds\",directory=\"data/word_level_tag_visualization/blind\") \n",
    "visualize_word_level(\"MN\"+\"_\"+str(smooth_window),unigram_segments_tmp[:sample_size],list(train_marginals_tmp[:sample_size,1].reshape(-1)),smooth_window=smooth_window,cmap=\"Blues\",directory=\"data/word_level_tag_visualization/blind\") "
   ]
  },
  {
   "cell_type": "markdown",
   "metadata": {},
   "source": [
    "We could now view visualization on this blind set back in the directory. Look for important mismatch between the visualized segmentation and any missed LFs."
   ]
  },
  {
   "cell_type": "markdown",
   "metadata": {},
   "source": [
    "### Workshop stops at here! "
   ]
  },
  {
   "cell_type": "code",
   "execution_count": null,
   "metadata": {},
   "outputs": [],
   "source": []
  },
  {
   "cell_type": "code",
   "execution_count": null,
   "metadata": {},
   "outputs": [],
   "source": []
  },
  {
   "cell_type": "markdown",
   "metadata": {},
   "source": [
    "### Peripheral codes to examine Candidates"
   ]
  },
  {
   "cell_type": "code",
   "execution_count": 48,
   "metadata": {},
   "outputs": [
    {
     "name": "stdout",
     "output_type": "stream",
     "text": [
      "Unigram(Span(\"b'tend'\", sentence=2248, chars=[39,42], words=[9,9]))\n",
      "Specifically, we showed that (a) users tend to like stories submitted by friends and (b) users tend to like stories their friends read and liked.\n",
      "0\n",
      "\n",
      "Unigram(Span(\"b'like'\", sentence=2248, chars=[103,106], words=[23,23]))\n",
      "Specifically, we showed that (a) users tend to like stories submitted by friends and (b) users tend to like stories their friends read and liked.\n",
      "0\n",
      "\n",
      "Unigram(Span(\"b'to'\", sentence=2248, chars=[44,45], words=[10,10]))\n",
      "Specifically, we showed that (a) users tend to like stories submitted by friends and (b) users tend to like stories their friends read and liked.\n",
      "0\n",
      "\n",
      "Unigram(Span(\"b'stories'\", sentence=2248, chars=[108,114], words=[24,24]))\n",
      "Specifically, we showed that (a) users tend to like stories submitted by friends and (b) users tend to like stories their friends read and liked.\n",
      "0\n",
      "\n",
      "Unigram(Span(\"b'like'\", sentence=2248, chars=[47,50], words=[11,11]))\n",
      "Specifically, we showed that (a) users tend to like stories submitted by friends and (b) users tend to like stories their friends read and liked.\n",
      "0\n",
      "\n",
      "Unigram(Span(\"b'their'\", sentence=2248, chars=[116,120], words=[25,25]))\n",
      "Specifically, we showed that (a) users tend to like stories submitted by friends and (b) users tend to like stories their friends read and liked.\n",
      "0\n",
      "\n",
      "Unigram(Span(\"b'stories'\", sentence=2248, chars=[52,58], words=[12,12]))\n",
      "Specifically, we showed that (a) users tend to like stories submitted by friends and (b) users tend to like stories their friends read and liked.\n",
      "0\n",
      "\n",
      "Unigram(Span(\"b'friends'\", sentence=2248, chars=[122,128], words=[26,26]))\n",
      "Specifically, we showed that (a) users tend to like stories submitted by friends and (b) users tend to like stories their friends read and liked.\n",
      "0\n",
      "\n",
      "Unigram(Span(\"b'submitted'\", sentence=2248, chars=[60,68], words=[13,13]))\n",
      "Specifically, we showed that (a) users tend to like stories submitted by friends and (b) users tend to like stories their friends read and liked.\n",
      "0\n",
      "\n",
      "Unigram(Span(\"b'read'\", sentence=2248, chars=[130,133], words=[27,27]))\n",
      "Specifically, we showed that (a) users tend to like stories submitted by friends and (b) users tend to like stories their friends read and liked.\n",
      "0\n",
      "\n",
      "Unigram(Span(\"b'Specifically'\", sentence=2248, chars=[0,11], words=[0,0]))\n",
      "Specifically, we showed that (a) users tend to like stories submitted by friends and (b) users tend to like stories their friends read and liked.\n",
      "0\n",
      "\n",
      "Unigram(Span(\"b'by'\", sentence=2248, chars=[70,71], words=[14,14]))\n",
      "Specifically, we showed that (a) users tend to like stories submitted by friends and (b) users tend to like stories their friends read and liked.\n",
      "0\n",
      "\n",
      "Unigram(Span(\"b'and'\", sentence=2248, chars=[135,137], words=[28,28]))\n",
      "Specifically, we showed that (a) users tend to like stories submitted by friends and (b) users tend to like stories their friends read and liked.\n",
      "0\n",
      "\n",
      "Unigram(Span(\"b','\", sentence=2248, chars=[12,12], words=[1,1]))\n",
      "Specifically, we showed that (a) users tend to like stories submitted by friends and (b) users tend to like stories their friends read and liked.\n",
      "0\n",
      "\n",
      "Unigram(Span(\"b'friends'\", sentence=2248, chars=[73,79], words=[15,15]))\n",
      "Specifically, we showed that (a) users tend to like stories submitted by friends and (b) users tend to like stories their friends read and liked.\n",
      "0\n",
      "\n",
      "Unigram(Span(\"b'liked'\", sentence=2248, chars=[139,143], words=[29,29]))\n",
      "Specifically, we showed that (a) users tend to like stories submitted by friends and (b) users tend to like stories their friends read and liked.\n",
      "0\n",
      "\n",
      "Unigram(Span(\"b'we'\", sentence=2248, chars=[14,15], words=[2,2]))\n",
      "Specifically, we showed that (a) users tend to like stories submitted by friends and (b) users tend to like stories their friends read and liked.\n",
      "0\n",
      "\n",
      "Unigram(Span(\"b'.'\", sentence=2248, chars=[144,144], words=[30,30]))\n",
      "Specifically, we showed that (a) users tend to like stories submitted by friends and (b) users tend to like stories their friends read and liked.\n",
      "0\n",
      "\n",
      "Unigram(Span(\"b'and'\", sentence=2248, chars=[81,83], words=[16,16]))\n",
      "Specifically, we showed that (a) users tend to like stories submitted by friends and (b) users tend to like stories their friends read and liked.\n",
      "0\n",
      "\n",
      "Unigram(Span(\"b'showed'\", sentence=2248, chars=[17,22], words=[3,3]))\n",
      "Specifically, we showed that (a) users tend to like stories submitted by friends and (b) users tend to like stories their friends read and liked.\n",
      "0\n",
      "\n",
      "Unigram(Span(\"b'('\", sentence=2248, chars=[85,85], words=[17,17]))\n",
      "Specifically, we showed that (a) users tend to like stories submitted by friends and (b) users tend to like stories their friends read and liked.\n",
      "0\n",
      "\n",
      "Unigram(Span(\"b'b'\", sentence=2248, chars=[86,86], words=[18,18]))\n",
      "Specifically, we showed that (a) users tend to like stories submitted by friends and (b) users tend to like stories their friends read and liked.\n",
      "0\n",
      "\n",
      "Unigram(Span(\"b')'\", sentence=2248, chars=[87,87], words=[19,19]))\n",
      "Specifically, we showed that (a) users tend to like stories submitted by friends and (b) users tend to like stories their friends read and liked.\n",
      "0\n",
      "\n",
      "Unigram(Span(\"b'that'\", sentence=2248, chars=[24,27], words=[4,4]))\n",
      "Specifically, we showed that (a) users tend to like stories submitted by friends and (b) users tend to like stories their friends read and liked.\n",
      "0\n",
      "\n",
      "Unigram(Span(\"b'users'\", sentence=2248, chars=[89,93], words=[20,20]))\n",
      "Specifically, we showed that (a) users tend to like stories submitted by friends and (b) users tend to like stories their friends read and liked.\n",
      "0\n",
      "\n",
      "Unigram(Span(\"b'('\", sentence=2248, chars=[29,29], words=[5,5]))\n",
      "Specifically, we showed that (a) users tend to like stories submitted by friends and (b) users tend to like stories their friends read and liked.\n",
      "0\n",
      "\n",
      "Unigram(Span(\"b'a'\", sentence=2248, chars=[30,30], words=[6,6]))\n",
      "Specifically, we showed that (a) users tend to like stories submitted by friends and (b) users tend to like stories their friends read and liked.\n",
      "0\n",
      "\n",
      "Unigram(Span(\"b')'\", sentence=2248, chars=[31,31], words=[7,7]))\n",
      "Specifically, we showed that (a) users tend to like stories submitted by friends and (b) users tend to like stories their friends read and liked.\n",
      "0\n",
      "\n",
      "Unigram(Span(\"b'tend'\", sentence=2248, chars=[95,98], words=[21,21]))\n",
      "Specifically, we showed that (a) users tend to like stories submitted by friends and (b) users tend to like stories their friends read and liked.\n",
      "0\n",
      "\n",
      "Unigram(Span(\"b'users'\", sentence=2248, chars=[33,37], words=[8,8]))\n",
      "Specifically, we showed that (a) users tend to like stories submitted by friends and (b) users tend to like stories their friends read and liked.\n",
      "0\n",
      "\n",
      "Unigram(Span(\"b'coefficients'\", sentence=2227, chars=[92,103], words=[12,12]))\n",
      "sent __dict__ {'_sa_instance_state': <sqlalchemy.orm.state.InstanceState object at 0x15a5ab080>, 'dep_labels': ['nsubj', 'aux', 'ROOT', 'amod', 'dobj', 'prep', 'amod', 'pobj', 'prep', 'det', 'amod', 'compound', 'pobj', 'punct'], 'ner_tags': ['O', 'O', 'O', 'O', 'O', 'O', 'O', 'O', 'O', 'O', 'O', 'O', 'O', 'O'], 'type': 'sentence', 'char_offsets': [0, 3, 8, 18, 25, 36, 40, 50, 65, 68, 72, 80, 92, 104], 'text': 'We have developed simple algorithms for efficient implementation of the ordinal correlation coefficients.', 'lemmas': ['-PRON-', 'have', 'develop', 'simple', 'algorithms', 'for', 'efficient', 'implementation', 'of', 'the', 'ordinal', 'correlation', 'coefficient', '.'], 'position': 8, 'id': 2227, 'entity_cids': ['O', 'O', 'O', 'O', 'O', 'O', 'O', 'O', 'O', 'O', 'O', 'O', 'O', 'O'], 'dep_parents': [3, 3, 0, 5, 3, 5, 8, 6, 8, 13, 13, 13, 9, 3], 'stable_id': 'semanticDBLP_205794e3b86e1344d211b4034202a885f51c6ff4::sentence:1053:1158', 'abs_char_offsets': [1053, 1056, 1061, 1071, 1078, 1089, 1093, 1103, 1118, 1121, 1125, 1133, 1145, 1157], 'words': ['We', 'have', 'developed', 'simple', 'algorithms', 'for', 'efficient', 'implementation', 'of', 'the', 'ordinal', 'correlation', 'coefficients', '.'], 'pos_tags': ['PRP', 'VBP', 'VBN', 'JJ', 'NN', 'IN', 'JJ', 'NN', 'IN', 'DT', 'JJ', 'NN', 'NNS', '.'], 'document_id': 1, 'entity_types': ['O', 'O', 'O', 'O', 'O', 'O', 'O', 'O', 'O', 'O', 'O', 'O', 'O', 'O'], 'document': Document semanticDBLP_205794e3b86e1344d211b4034202a885f51c6ff4}\n",
      "sent pos in doc?? 8\n",
      "semanticDBLP_205794e3b86e1344d211b4034202a885f51c6ff4\n",
      "coefficients\n",
      "unigram position??  12\n",
      "its_pos_tag NNS \n",
      "\n"
     ]
    }
   ],
   "source": [
    "# TODO get_surrounding_words maybe group segments back to doc level from  Sentence has words in its __dict__ \n",
    "\n",
    "# visualize purpose probability\n",
    "\n",
    "\n",
    "# pair_list=list(zip(unigram_segments,list(train_marginals[:,0].reshape(-1))))\n",
    "\n",
    "\n",
    "# Find a test case span!!!\n",
    "# count=0\n",
    "# for idx,segment in enumerate(unigram_segments):\n",
    "#     if \"Specifically\" in segment.get_parent().__dict__['words']:\n",
    "#         print(idx,segment.get_parent().__dict__['text'])\n",
    "#         if count>30:\n",
    "#             break\n",
    "#         count+=1\n",
    "    \n",
    "# input()\n",
    "purpose_LFs=[]\n",
    "from LF.util_common_default_categorical import purpose_LFs,mechanism_LFs\n",
    "\n",
    "for i in range(695,725):\n",
    "    print(unigram_segments[i])\n",
    "    print(unigram_segments[i].get_parent().__dict__['text'])\n",
    "    print(purpose_LFs[-1](unigram_segments[i]))\n",
    "#     print(purpose_LFs[-1].__name__)\n",
    "    print()\n",
    "    \n",
    "    \n",
    "# print(unigram_segments[165],)\n",
    "\n",
    "segment=unigram_segments[165]\n",
    "# print((segment.get_contexts()[0].__dict__))\n",
    "docid=segment.get_parent().get_parent().name\n",
    "print(segment)\n",
    "print(\"sent __dict__\",segment.get_parent().__dict__)\n",
    "print(\"sent pos in doc??\", segment.get_parent().position)\n",
    "# print(\"sent pos in doc??\", segment.get_parent().get_parent().sentences.index(segment.get_parent()))\n",
    "\n",
    "print(docid)\n",
    "\n",
    "# print(segment.get_parent().get_parent().__dict__)\n",
    "print(segment.get_parent().text[segment.unigram_cue.char_start:segment.unigram_cue.char_end+1])\n",
    "\n",
    "unigram_psn=segment.unigram_cue.get_word_start()\n",
    "print(\"unigram position?? \",unigram_psn)#.__dict__['words'])\n",
    "\n",
    "its_pos_tag=segment.get_parent().__dict__['pos_tags'][unigram_psn]\n",
    "print(\"its_pos_tag\",its_pos_tag,\"\\n\")\n",
    "\n",
    "# its_surrounding_pos_tag=get_sourrounding_pos_tag(segment,3)\n",
    "# print(\"unigram pos tag\",get_sourrounding_pos_tag(segment,1))\n",
    "# print(\"trigram pos tag\",get_sourrounding_pos_tag(segment,3))\n",
    "# print(\"5gram pos tag\",get_sourrounding_pos_tag(segment,5))\n"
   ]
  },
  {
   "cell_type": "code",
   "execution_count": null,
   "metadata": {},
   "outputs": [],
   "source": []
  }
 ],
 "metadata": {
  "kernelspec": {
   "display_name": "Python 3",
   "language": "python",
   "name": "python3"
  },
  "language_info": {
   "codemirror_mode": {
    "name": "ipython",
    "version": 3
   },
   "file_extension": ".py",
   "mimetype": "text/x-python",
   "name": "python",
   "nbconvert_exporter": "python",
   "pygments_lexer": "ipython3",
   "version": "3.6.5"
  }
 },
 "nbformat": 4,
 "nbformat_minor": 2
}
