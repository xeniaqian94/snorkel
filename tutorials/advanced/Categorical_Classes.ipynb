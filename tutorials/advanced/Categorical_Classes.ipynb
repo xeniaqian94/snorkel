{
 "cells": [
  {
   "cell_type": "markdown",
   "metadata": {},
   "source": [
    "# Categorical Variables in Snorkel\n",
    "\n",
    "This is a short tutorial on how to use categorical variables (i.e. more values than binary) in Snorkel.  We'll use a completely toy scenario with three sentences and two LFs just to demonstrate the mechanics. Please see the main tutorial for a more comprehensive intro!\n",
    "\n",
    "We'll **highlight in bold all parts focusing on the categorical aspect.**\n",
    "\n",
    "### Notes on Current Categorical Support:\n",
    "* The `Viewer` works in the categorical setting, _but labeling `Candidate`s in the `Viewer` does not._\n",
    "    - Instead can import test / dev set labels from e.g. BRAT\n",
    "* The `LogisticRegression` and `SparseLogisticRegression` end models have been extended to the categorical setting, but other end models in `contrib` may not have been\n",
    "    - _Note: It's simple to make this change, so feel free to post an issue with requests for other end models!_"
   ]
  },
  {
   "cell_type": "code",
   "execution_count": 2,
   "metadata": {},
   "outputs": [
    {
     "name": "stdout",
     "output_type": "stream",
     "text": [
      "The autoreload extension is already loaded. To reload it, use:\n",
      "  %reload_ext autoreload\n",
      "/Users/xinq/Desktop/snorkel\n"
     ]
    }
   ],
   "source": [
    "%load_ext autoreload\n",
    "%autoreload 2\n",
    "%matplotlib inline\n",
    "import os\n",
    "import numpy as np\n",
    "\n",
    "import os\n",
    "os.environ['SNORKELDB'] = \"postgresql:///spouse\"\n",
    "\n",
    "from snorkel import SnorkelSession\n",
    "session = SnorkelSession()\n",
    "\n",
    "print(os.environ['SNORKELHOME'] )"
   ]
  },
  {
   "cell_type": "markdown",
   "metadata": {},
   "source": [
    "## Step 1: Preprocessing the data"
   ]
  },
  {
   "cell_type": "code",
   "execution_count": 3,
   "metadata": {},
   "outputs": [
    {
     "name": "stdout",
     "output_type": "stream",
     "text": [
      "Clearing existing...\n",
      "Running UDF...\n"
     ]
    }
   ],
   "source": [
    "from snorkel.parser import TSVDocPreprocessor\n",
    "from snorkel.parser.spacy_parser import Spacy\n",
    "from snorkel.parser import CorpusParser\n",
    "\n",
    "\n",
    "doc_preprocessor = TSVDocPreprocessor('data/categorical_example.tsv') \n",
    "corpus_parser = CorpusParser(parser=Spacy()) # Spouse example uses parser=Spacy())\n",
    "corpus_parser.apply(doc_preprocessor)"
   ]
  },
  {
   "cell_type": "markdown",
   "metadata": {},
   "source": [
    "## Step 2: Defining candidates\n",
    "\n",
    "We'll define candidate relations between person mentions **that now can take on one of three values:**\n",
    "```python\n",
    "['Married', 'Employs', 'Others']\n",
    "```\n",
    "Note the importance of including a value for \"not a relation of interest\"- here we've used `False`, but any value could do.\n",
    "Also note that `None` is a protected value -- denoting a labeling function abstaining -- so this cannot be used as a value."
   ]
  },
  {
   "cell_type": "code",
   "execution_count": 4,
   "metadata": {},
   "outputs": [],
   "source": [
    "from snorkel.models import candidate_subclass\n",
    "Relationship = candidate_subclass('Relationship', ['person1', 'person2'], values=['Married', 'Employs', 'Others']) # False])"
   ]
  },
  {
   "cell_type": "markdown",
   "metadata": {},
   "source": [
    "Now we extract candidates the same as in the Intro Tutorial (simplified here slightly):"
   ]
  },
  {
   "cell_type": "code",
   "execution_count": 5,
   "metadata": {},
   "outputs": [
    {
     "name": "stdout",
     "output_type": "stream",
     "text": [
      "Clearing existing...\n",
      "Running UDF...\n",
      "[========================================] 100%\n",
      "\n",
      "CPU times: user 64.2 ms, sys: 7.08 ms, total: 71.3 ms\n",
      "Wall time: 106 ms\n",
      "[Sentence(Document d01,0,b'John is married to Susan.'), Sentence(Document d01,1,b'Susan also employs John at her company.'), Sentence(Document d01,2,b'John enjoys being married to his boss Susan.'), Sentence(Document d01,3,b'John is a friend of Mary.'), Sentence(Document d01,4,b'Unlike traditional dimension reducing methods of most current automatic detection, the proposed approach adopts biclustering to perform an unsupervised dimension reduction, which is more suitable to the characteristic of EEG signals.'), Sentence(Document d01,5,b'To verify the performance of the presented approach, experiments have been carried out in the epileptic EEG data.'), Sentence(Document d01,6,b'The average sensitivity, specificity and recognition accuracy obtained by our method are 96.67%, 100.00% and 98.00%.'), Sentence(Document d01,7,b'The study might be meaningful for improving the diagnostic accuracy of epileptic disease, relieving the workload of doctors and reducing the medical cost.'), Sentence(Document d01,8,b'In this paper, we propose X, which is faster than.'), Sentence(Document d01,9,b'X will be used to solve problem A. This is the approach that can do multiple tasks for the general public.'), Sentence(Document d01,10,b'The starting point for this problem comes from life.'), Sentence(Document d01,11,b'The problem of global warming is becoming more severe.')]\n"
     ]
    }
   ],
   "source": [
    "from snorkel.candidates import Ngrams, CandidateExtractor\n",
    "from snorkel.matchers import PersonMatcher\n",
    "from snorkel.models import Sentence\n",
    "\n",
    "# Define a Person-Person candidate extractor\n",
    "ngrams = Ngrams(n_max=3)\n",
    "person_matcher = PersonMatcher(longest_match_only=True)\n",
    "cand_extractor = CandidateExtractor(\n",
    "    Relationship, \n",
    "    [ngrams, ngrams],\n",
    "    [person_matcher, person_matcher],\n",
    "    symmetric_relations=False \n",
    ")\n",
    "\n",
    "# Apply to all (three) of the sentences for this simple example\n",
    "sents = session.query(Sentence).all()\n",
    "\n",
    "# Run the candidate extractor\n",
    "%time cand_extractor.apply(sents, split=0)\n",
    "\n",
    "\n",
    "print(sents)"
   ]
  },
  {
   "cell_type": "code",
   "execution_count": 6,
   "metadata": {},
   "outputs": [
    {
     "name": "stdout",
     "output_type": "stream",
     "text": [
      "the study may be meaningful for improve the diagnostic accuracy of epileptic disease , relieve the workload of doctor and reduce the medical cost .\n",
      "\n",
      "DT NN MD VB JJ IN VBG DT JJ NN IN JJ NN , VBG DT NN IN NNS CC VBG DT JJ NN .\n",
      "\n",
      "[2, 4, 4, 0, 4, 5, 6, 10, 10, 7, 10, 13, 11, 13, 7, 17, 15, 17, 18, 17, 17, 24, 24, 21, 4]\n",
      "Sentence(Document d01,7,b'The study might be meaningful for improving the diagnostic accuracy of epileptic disease, relieving the workload of doctors and reducing the medical cost.')\n"
     ]
    }
   ],
   "source": [
    "\n",
    "\n",
    "sentid=-5\n",
    "\n",
    "\n",
    "print(\" \".join(sents[sentid].__dict__['lemmas']))\n",
    "print()\n",
    "\n",
    "print(\" \".join(sents[sentid].__dict__['pos_tags']))\n",
    "print()\n",
    "\n",
    "print(sents[sentid].__dict__['dep_parents'])\n",
    "\n",
    "print(sents[sentid])\n"
   ]
  },
  {
   "cell_type": "code",
   "execution_count": 7,
   "metadata": {},
   "outputs": [
    {
     "name": "stdout",
     "output_type": "stream",
     "text": [
      "Number of candidates: 4\n",
      "[Relationship(Span(\"b'John'\", sentence=2, chars=[0,3], words=[0,0]), Span(\"b'Susan'\", sentence=2, chars=[19,23], words=[4,4])), Relationship(Span(\"b'Susan'\", sentence=3, chars=[0,4], words=[0,0]), Span(\"b'John'\", sentence=3, chars=[19,22], words=[3,3])), Relationship(Span(\"b'John'\", sentence=4, chars=[0,3], words=[0,0]), Span(\"b'Susan'\", sentence=4, chars=[38,42], words=[7,7])), Relationship(Span(\"b'John'\", sentence=5, chars=[0,3], words=[0,0]), Span(\"b'Mary'\", sentence=5, chars=[20,23], words=[5,5]))]\n",
      "['NNP', 'VBZ', 'JJ', 'IN', 'NNP', '.']\n"
     ]
    }
   ],
   "source": [
    "train_cands = session.query(Relationship).filter(Relationship.split == 0).all()\n",
    "print(\"Number of candidates:\", len(train_cands))\n",
    "print(train_cands)\n",
    "\n",
    "print(train_cands[0].get_contexts()[0].sentence.__dict__['pos_tags'])\n",
    "# segment_cue.sentence.__dict__)"
   ]
  },
  {
   "cell_type": "code",
   "execution_count": null,
   "metadata": {},
   "outputs": [],
   "source": []
  },
  {
   "cell_type": "code",
   "execution_count": 8,
   "metadata": {},
   "outputs": [
    {
     "data": {
      "application/javascript": [
       "require.undef('viewer');\n",
       "\n",
       "// NOTE: all elements should be selected using this.$el.find to avoid collisions with other Viewers\n",
       "\n",
       "define('viewer', [\"@jupyter-widgets/base\"], function(widgets) {\n",
       "    var ViewerView = widgets.DOMWidgetView.extend({\n",
       "        render: function() {\n",
       "            this.cids   = this.model.get('cids');\n",
       "            this.nPages = this.cids.length;\n",
       "            this.pid  = 0;\n",
       "            this.cxid = 0;\n",
       "            this.cid  = 0;\n",
       "\n",
       "            // Insert the html payload\n",
       "            this.$el.append(this.model.get('html'));\n",
       "\n",
       "            // Initialize all labels from previous sessions\n",
       "            this.labels = this.deserializeDict(this.model.get('_labels_serialized'));\n",
       "            for (var i=0; i < this.nPages; i++) {\n",
       "                this.pid = i;\n",
       "                for (var j=0; j < this.cids[i].length; j++) {\n",
       "                    this.cxid = j;\n",
       "                    for (var k=0; k < this.cids[i][j].length; k++) {\n",
       "                        this.cid = k;\n",
       "                        if (this.cids[i][j][k] in this.labels) {\n",
       "                            this.markCurrentCandidate(false);\n",
       "                        }\n",
       "                    }\n",
       "                }\n",
       "            }\n",
       "            this.pid  = 0;\n",
       "            this.cxid = 0;\n",
       "            this.cid  = 0;\n",
       "\n",
       "            // Enable button functionality for navigation\n",
       "            var that = this;\n",
       "            this.$el.find(\"#next-cand\").click(function() {\n",
       "                that.switchCandidate(1);\n",
       "            });\n",
       "            this.$el.find(\"#prev-cand\").click(function() {\n",
       "                that.switchCandidate(-1);\n",
       "            });\n",
       "            this.$el.find(\"#next-context\").click(function() {\n",
       "                that.switchContext(1);\n",
       "            });\n",
       "            this.$el.find(\"#prev-context\").click(function() {\n",
       "                that.switchContext(-1);\n",
       "            });\n",
       "            this.$el.find(\"#next-page\").click(function() {\n",
       "                that.switchPage(1);\n",
       "            });\n",
       "            this.$el.find(\"#prev-page\").click(function() {\n",
       "                that.switchPage(-1);\n",
       "            });\n",
       "            this.$el.find(\"#label-true\").click(function() {\n",
       "                that.labelCandidate(true, true);\n",
       "            });\n",
       "            this.$el.find(\"#label-false\").click(function() {\n",
       "                that.labelCandidate(false, true);\n",
       "            });\n",
       "\n",
       "            // Arrow key functionality\n",
       "            this.$el.keydown(function(e) {\n",
       "                switch(e.which) {\n",
       "                    case 74: // j\n",
       "                    that.switchCandidate(-1);\n",
       "                    break;\n",
       "\n",
       "                    case 73: // i\n",
       "                    that.switchPage(-1);\n",
       "                    break;\n",
       "\n",
       "                    case 76: // l\n",
       "                    that.switchCandidate(1);\n",
       "                    break;\n",
       "\n",
       "                    case 75: // k\n",
       "                    that.switchPage(1);\n",
       "                    break;\n",
       "\n",
       "                    case 84: // t\n",
       "                    that.labelCandidate(true, true);\n",
       "                    break;\n",
       "\n",
       "                    case 70: // f\n",
       "                    that.labelCandidate(false, true);\n",
       "                    break;\n",
       "                }\n",
       "            });\n",
       "\n",
       "            // Show the first page and highlight the first candidate\n",
       "            this.$el.find(\"#viewer-page-0\").show();\n",
       "            this.switchCandidate(0);\n",
       "        },\n",
       "\n",
       "        // Get candidate selector for currently selected candidate, escaping id properly\n",
       "        getCandidate: function() {\n",
       "            return this.$el.find(\".\"+this.cids[this.pid][this.cxid][this.cid]);\n",
       "        },  \n",
       "\n",
       "        // Color the candidate correctly according to registered label, as well as set highlighting\n",
       "        markCurrentCandidate: function(highlight) {\n",
       "            var cid  = this.cids[this.pid][this.cxid][this.cid];\n",
       "            var tags = this.$el.find(\".\"+cid);\n",
       "\n",
       "            // Clear color classes\n",
       "            tags.removeClass(\"candidate-h\");\n",
       "            tags.removeClass(\"true-candidate\");\n",
       "            tags.removeClass(\"true-candidate-h\");\n",
       "            tags.removeClass(\"false-candidate\");\n",
       "            tags.removeClass(\"false-candidate-h\");\n",
       "            tags.removeClass(\"highlighted\");\n",
       "\n",
       "            if (highlight) {\n",
       "                if (cid in this.labels) {\n",
       "                    tags.addClass(String(this.labels[cid]) + \"-candidate-h\");\n",
       "                } else {\n",
       "                    tags.addClass(\"candidate-h\");\n",
       "                }\n",
       "            \n",
       "            // If un-highlighting, leave with first non-null coloring\n",
       "            } else {\n",
       "                var that = this;\n",
       "                tags.each(function() {\n",
       "                    var cids = $(this).attr('class').split(/\\s+/).map(function(item) {\n",
       "                        return parseInt(item);\n",
       "                    });\n",
       "                    cids.sort();\n",
       "                    for (var i in cids) {\n",
       "                        if (cids[i] in that.labels) {\n",
       "                            var label = that.labels[cids[i]];\n",
       "                            $(this).addClass(String(label) + \"-candidate\");\n",
       "                            $(this).removeClass(String(!label) + \"-candidate\");\n",
       "                            break;\n",
       "                        }\n",
       "                    }\n",
       "                });\n",
       "            }\n",
       "\n",
       "            // Extra highlighting css\n",
       "            if (highlight) {\n",
       "                tags.addClass(\"highlighted\");\n",
       "            }\n",
       "\n",
       "            // Classes for showing direction of relation\n",
       "            if (highlight) {\n",
       "                this.$el.find(\".\"+cid+\"-0\").addClass(\"left-candidate\");\n",
       "                this.$el.find(\".\"+cid+\"-1\").addClass(\"right-candidate\");\n",
       "            } else {\n",
       "                this.$el.find(\".\"+cid+\"-0\").removeClass(\"left-candidate\");\n",
       "                this.$el.find(\".\"+cid+\"-1\").removeClass(\"right-candidate\");\n",
       "            }\n",
       "        },\n",
       "\n",
       "        // Cycle through candidates and highlight, by increment inc\n",
       "        switchCandidate: function(inc) {\n",
       "            var N = this.cids[this.pid].length\n",
       "            var M = this.cids[this.pid][this.cxid].length;\n",
       "            if (N == 0 || M == 0) { return false; }\n",
       "\n",
       "            // Clear highlighting from previous candidate\n",
       "            if (inc != 0) {\n",
       "                this.markCurrentCandidate(false);\n",
       "\n",
       "                // Increment the cid counter\n",
       "\n",
       "                // Move to next context\n",
       "                if (this.cid + inc >= M) {\n",
       "                    while (this.cid + inc >= M) {\n",
       "                        \n",
       "                        // At last context on page, halt\n",
       "                        if (this.cxid == N - 1) {\n",
       "                            this.cid = M - 1;\n",
       "                            inc = 0;\n",
       "                            break;\n",
       "                        \n",
       "                        // Increment to next context\n",
       "                        } else {\n",
       "                            inc -= M - this.cid;\n",
       "                            this.cxid += 1;\n",
       "                            M = this.cids[this.pid][this.cxid].length;\n",
       "                            this.cid = 0;\n",
       "                        }\n",
       "                    }\n",
       "\n",
       "                // Move to previous context\n",
       "                } else if (this.cid + inc < 0) {\n",
       "                    while (this.cid + inc < 0) {\n",
       "                        \n",
       "                        // At first context on page, halt\n",
       "                        if (this.cxid == 0) {\n",
       "                            this.cid = 0;\n",
       "                            inc = 0;\n",
       "                            break;\n",
       "                        \n",
       "                        // Increment to previous context\n",
       "                        } else {\n",
       "                            inc += this.cid + 1;\n",
       "                            this.cxid -= 1;\n",
       "                            M = this.cids[this.pid][this.cxid].length;\n",
       "                            this.cid = M - 1;\n",
       "                        }\n",
       "                    }\n",
       "                }\n",
       "\n",
       "                // Move within current context\n",
       "                this.cid += inc;\n",
       "            }\n",
       "            this.markCurrentCandidate(true);\n",
       "\n",
       "            // Push this new cid to the model\n",
       "            this.model.set('_selected_cid', this.cids[this.pid][this.cxid][this.cid]);\n",
       "            this.touch();\n",
       "        },\n",
       "\n",
       "        // Switch through contexts\n",
       "        switchContext: function(inc) {\n",
       "            this.markCurrentCandidate(false);\n",
       "\n",
       "            // Iterate context on this page\n",
       "            var M = this.cids[this.pid].length;\n",
       "            if (this.cxid + inc < 0) {\n",
       "                this.cxid = 0;\n",
       "            } else if (this.cxid + inc >= M) {\n",
       "                this.cxid = M - 1;\n",
       "            } else {\n",
       "                this.cxid += inc;\n",
       "            }\n",
       "\n",
       "            // Reset cid and set to first candidate\n",
       "            this.cid = 0;\n",
       "            this.switchCandidate(0);\n",
       "        },\n",
       "\n",
       "        // Switch through pages\n",
       "        switchPage: function(inc) {\n",
       "            this.markCurrentCandidate(false);\n",
       "            this.$el.find(\".viewer-page\").hide();\n",
       "            if (this.pid + inc < 0) {\n",
       "                this.pid = 0;\n",
       "            } else if (this.pid + inc > this.nPages - 1) {\n",
       "                this.pid = this.nPages - 1;\n",
       "            } else {\n",
       "                this.pid += inc;\n",
       "            }\n",
       "            this.$el.find(\"#viewer-page-\"+this.pid).show();\n",
       "\n",
       "            // Show pagination\n",
       "            this.$el.find(\"#page\").html(this.pid);\n",
       "\n",
       "            // Reset cid and set to first candidate\n",
       "            this.cid = 0;\n",
       "            this.cxid = 0;\n",
       "            this.switchCandidate(0);\n",
       "        },\n",
       "\n",
       "        // Label currently-selected candidate\n",
       "        labelCandidate: function(label, highlighted) {\n",
       "            var c    = this.getCandidate();\n",
       "            var cid  = this.cids[this.pid][this.cxid][this.cid];\n",
       "            var cl   = String(label) + \"-candidate\";\n",
       "            var clh  = String(label) + \"-candidate-h\";\n",
       "            var cln  = String(!label) + \"-candidate\";\n",
       "            var clnh = String(!label) + \"-candidate-h\";\n",
       "\n",
       "            // Toggle label highlighting\n",
       "            if (c.hasClass(cl) || c.hasClass(clh)) {\n",
       "                c.removeClass(cl);\n",
       "                c.removeClass(clh);\n",
       "                if (highlighted) {\n",
       "                    c.addClass(\"candidate-h\");\n",
       "                }\n",
       "                this.labels[cid] = null;\n",
       "                this.send({event: 'delete_label', cid: cid});\n",
       "            } else {\n",
       "                c.removeClass(cln);\n",
       "                c.removeClass(clnh);\n",
       "                if (highlighted) {\n",
       "                    c.addClass(clh);\n",
       "                } else {\n",
       "                    c.addClass(cl);\n",
       "                }\n",
       "                this.labels[cid] = label;\n",
       "                this.send({event: 'set_label', cid: cid, value: label});\n",
       "            }\n",
       "\n",
       "            // Set the label and pass back to the model\n",
       "            this.model.set('_labels_serialized', this.serializeDict(this.labels));\n",
       "            this.touch();\n",
       "        },\n",
       "\n",
       "        // Serialization of hash maps, because traitlets Dict doesn't seem to work...\n",
       "        serializeDict: function(d) {\n",
       "            var s = [];\n",
       "            for (var key in d) {\n",
       "                s.push(key+\"~~\"+d[key]);\n",
       "            }\n",
       "            return s.join();\n",
       "        },\n",
       "\n",
       "        // Deserialization of hash maps\n",
       "        deserializeDict: function(s) {\n",
       "            var d = {};\n",
       "            var entries = s.split(/,/);\n",
       "            var kv;\n",
       "            for (var i in entries) {\n",
       "                kv = entries[i].split(/~~/);\n",
       "                if (kv[1] == \"true\") {\n",
       "                    d[kv[0]] = true;\n",
       "                } else if (kv[1] == \"false\") {\n",
       "                    d[kv[0]] = false;\n",
       "                }\n",
       "            }\n",
       "            return d;\n",
       "        },\n",
       "    });\n",
       "\n",
       "    return {\n",
       "        ViewerView: ViewerView\n",
       "    };\n",
       "});\n"
      ],
      "text/plain": [
       "<IPython.core.display.Javascript object>"
      ]
     },
     "metadata": {},
     "output_type": "display_data"
    }
   ],
   "source": [
    "from snorkel.viewer import SentenceNgramViewer\n",
    "\n",
    "# NOTE: This if-then statement is only to avoid opening the viewer during automated testing of this notebook\n",
    "# You should ignore this!\n",
    "import os\n",
    "if 'CI' not in os.environ:\n",
    "    sv = SentenceNgramViewer(train_cands, session)\n",
    "else:\n",
    "    sv = None"
   ]
  },
  {
   "cell_type": "code",
   "execution_count": 9,
   "metadata": {},
   "outputs": [
    {
     "data": {
      "application/vnd.jupyter.widget-view+json": {
       "model_id": "ce570441efd7480ebe02d5bc160f672b",
       "version_major": 2,
       "version_minor": 0
      },
      "text/plain": [
       "SentenceNgramViewer(cids=[[[0], [1], [2]], [[3]]], html='<head>\\n<style>\\nspan.candidate {\\n    background-col…"
      ]
     },
     "metadata": {},
     "output_type": "display_data"
    }
   ],
   "source": [
    "sv"
   ]
  },
  {
   "cell_type": "markdown",
   "metadata": {},
   "source": [
    "## Step 3: Writing Labeling Functions\n",
    "\n",
    "**The _categorical_ labeling functions (LFs) we now write can output the following values:**\n",
    "\n",
    "* Abstain: `None` OR 0\n",
    "* Categorical values: The literal values in `Relationship.values` OR their integer indices.\n",
    "\n",
    "We'll write two simple LFs to illustrate.\n",
    "\n",
    "*Tip: we can get a random candidate (see below), or the example highlighted in the viewer above via `sv.get_selected()`, and then use this to test as we write the LFs!*"
   ]
  },
  {
   "cell_type": "code",
   "execution_count": 10,
   "metadata": {},
   "outputs": [
    {
     "name": "stdout",
     "output_type": "stream",
     "text": [
      "['Married', 'Employs', 'Others']\n"
     ]
    },
    {
     "name": "stderr",
     "output_type": "stream",
     "text": [
      "/anaconda3/lib/python3.6/site-packages/h5py/__init__.py:36: FutureWarning: Conversion of the second argument of issubdtype from `float` to `np.floating` is deprecated. In future, it will be treated as `np.float64 == np.dtype(float).type`.\n",
      "  from ._conv import register_converters as _register_converters\n"
     ]
    },
    {
     "name": "stdout",
     "output_type": "stream",
     "text": [
      "John is married to Susan.\n"
     ]
    },
    {
     "data": {
      "text/plain": [
       "['is', 'married', 'to']"
      ]
     },
     "execution_count": 10,
     "metadata": {},
     "output_type": "execute_result"
    }
   ],
   "source": [
    "print(Relationship.values)\n",
    "import re\n",
    "from snorkel.lf_helpers import get_between_tokens\n",
    "\n",
    "# Getting an example candidate from the Viewer\n",
    "c = train_cands[0]\n",
    "\n",
    "# Traversing the context hierarchy...\n",
    "print(c.get_contexts()[0].get_parent().text)\n",
    "\n",
    "# Using a helper function\n",
    "list(get_between_tokens(c))\n",
    "\n",
    "\n",
    "\n"
   ]
  },
  {
   "cell_type": "code",
   "execution_count": 11,
   "metadata": {},
   "outputs": [],
   "source": [
    "def LF_married(c):\n",
    "    return 'Married' if 'married' in get_between_tokens(c) else None\n",
    "\n",
    "WORKPLACE_RGX = r'employ|boss|company'\n",
    "def LF_workplace(c):\n",
    "    sent = c.get_contexts()[0].get_parent()\n",
    "    matches = re.search(WORKPLACE_RGX, sent.text)\n",
    "    return 'Employs' if matches else None\n",
    "FRIENDSHIP_RGX = r'friend'\n",
    "def LF_friendship(c):\n",
    "    sent = c.get_contexts()[0].get_parent()\n",
    "    matches = re.search(FRIENDSHIP_RGX, sent.text)\n",
    "    return 'Others' if matches else None\n",
    "\n",
    "LFs = [\n",
    "    LF_married,\n",
    "    LF_workplace,\n",
    "    LF_friendship\n",
    "]"
   ]
  },
  {
   "cell_type": "markdown",
   "metadata": {},
   "source": [
    "Now we apply the LFs to the candidates to produce our label matrix $L$:"
   ]
  },
  {
   "cell_type": "code",
   "execution_count": 15,
   "metadata": {},
   "outputs": [
    {
     "name": "stdout",
     "output_type": "stream",
     "text": [
      "cids_count 4\n",
      "key_group 0\n",
      "Clearing existing...\n",
      "Running UDF...\n",
      "[========================================] 100%\n",
      "\n",
      "CPU times: user 74.2 ms, sys: 8.48 ms, total: 82.7 ms\n",
      "Wall time: 130 ms\n"
     ]
    },
    {
     "data": {
      "text/plain": [
       "<4x3 sparse matrix of type '<class 'numpy.int64'>'\n",
       "\twith 5 stored elements in Compressed Sparse Row format>"
      ]
     },
     "execution_count": 15,
     "metadata": {},
     "output_type": "execute_result"
    }
   ],
   "source": [
    "from snorkel.annotations import LabelAnnotator\n",
    "\n",
    "labeler = LabelAnnotator(lfs=LFs)\n",
    "%time L_train = labeler.apply(split=0)\n",
    "L_train"
   ]
  },
  {
   "cell_type": "code",
   "execution_count": 16,
   "metadata": {},
   "outputs": [
    {
     "name": "stdout",
     "output_type": "stream",
     "text": [
      "postgresql:///spouse\n"
     ]
    }
   ],
   "source": [
    "# snorkel_conn_string = os.environ['SNORKELDB'] if 'SNORKELDB' in os.environ and os.environ['SNORKELDB'] != '' \\\n",
    "#     else 'sqlite:///' + os.getcwd() + os.sep + 'snorkel.db'\n",
    "\n",
    "print(os.environ['SNORKELDB'])"
   ]
  },
  {
   "cell_type": "code",
   "execution_count": 92,
   "metadata": {},
   "outputs": [
    {
     "data": {
      "text/plain": [
       "matrix([[1, 0, 0],\n",
       "        [0, 2, 0],\n",
       "        [1, 2, 0],\n",
       "        [0, 0, 3]], dtype=int64)"
      ]
     },
     "execution_count": 92,
     "metadata": {},
     "output_type": "execute_result"
    }
   ],
   "source": [
    "L_train.todense()"
   ]
  },
  {
   "cell_type": "markdown",
   "metadata": {},
   "source": [
    "## Step 4: Training the Generative Model"
   ]
  },
  {
   "cell_type": "code",
   "execution_count": 104,
   "metadata": {},
   "outputs": [
    {
     "name": "stdout",
     "output_type": "stream",
     "text": [
      "FACTOR 0: STARTED BURN-IN...\n",
      "FACTOR 0: DONE WITH BURN-IN\n",
      "FACTOR 0: STARTED LEARNING\n",
      "FACTOR 0: EPOCH #0\n",
      "Current stepsize = 0.0001\n",
      "Learning epoch took 0.000 sec.\n",
      "Weights:\n",
      "    weightId: 0\n",
      "        isFixed: True\n",
      "        weight:  1.0\n",
      "\n",
      "    weightId: 1\n",
      "        isFixed: False\n",
      "        weight:  0.0\n",
      "\n",
      "    weightId: 2\n",
      "        isFixed: True\n",
      "        weight:  1.0\n",
      "\n",
      "    weightId: 3\n",
      "        isFixed: False\n",
      "        weight:  0.0\n",
      "\n",
      "    weightId: 4\n",
      "        isFixed: True\n",
      "        weight:  1.0\n",
      "\n",
      "    weightId: 5\n",
      "        isFixed: False\n",
      "        weight:  0.0\n",
      "\n",
      "    weightId: 6\n",
      "        isFixed: False\n",
      "        weight:  0.0\n",
      "\n",
      "    weightId: 7\n",
      "        isFixed: False\n",
      "        weight:  0.0\n",
      "\n",
      "    weightId: 8\n",
      "        isFixed: False\n",
      "        weight:  0.0\n",
      "\n",
      "FACTOR 0: EPOCH #1\n",
      "Current stepsize = 0.0001\n",
      "Learning epoch took 0.000 sec.\n",
      "Weights:\n",
      "    weightId: 0\n",
      "        isFixed: True\n",
      "        weight:  1.0\n",
      "\n",
      "    weightId: 1\n",
      "        isFixed: False\n",
      "        weight:  -0.00019998700054998293\n",
      "\n",
      "    weightId: 2\n",
      "        isFixed: True\n",
      "        weight:  1.0\n",
      "\n",
      "    weightId: 3\n",
      "        isFixed: False\n",
      "        weight:  -0.000200001999920002\n",
      "\n",
      "    weightId: 4\n",
      "        isFixed: True\n",
      "        weight:  1.0\n",
      "\n",
      "    weightId: 5\n",
      "        isFixed: False\n",
      "        weight:  -0.000499980000649983\n",
      "\n",
      "    weightId: 6\n",
      "        isFixed: False\n",
      "        weight:  -9.999999998000051e-05\n",
      "\n",
      "    weightId: 7\n",
      "        isFixed: False\n",
      "        weight:  -0.00019999600006999888\n",
      "\n",
      "    weightId: 8\n",
      "        isFixed: False\n",
      "        weight:  -0.00019999700005999898\n",
      "\n",
      "FACTOR 0: EPOCH #2\n",
      "Current stepsize = 0.0001\n",
      "Learning epoch took 0.003 sec.\n",
      "Weights:\n",
      "    weightId: 0\n",
      "        isFixed: True\n",
      "        weight:  1.0\n",
      "\n",
      "    weightId: 1\n",
      "        isFixed: False\n",
      "        weight:  -0.000499964002489865\n",
      "\n",
      "    weightId: 2\n",
      "        isFixed: True\n",
      "        weight:  1.0\n",
      "\n",
      "    weightId: 3\n",
      "        isFixed: False\n",
      "        weight:  -0.0002999830005499898\n",
      "\n",
      "    weightId: 4\n",
      "        isFixed: True\n",
      "        weight:  1.0\n",
      "\n",
      "    weightId: 5\n",
      "        isFixed: False\n",
      "        weight:  -0.0005999290044397882\n",
      "\n",
      "    weightId: 6\n",
      "        isFixed: False\n",
      "        weight:  -0.0002999930001199988\n",
      "\n",
      "    weightId: 7\n",
      "        isFixed: False\n",
      "        weight:  -0.000299985000489987\n",
      "\n",
      "    weightId: 8\n",
      "        isFixed: False\n",
      "        weight:  -0.00029998700040998914\n",
      "\n",
      "FACTOR 0: EPOCH #3\n",
      "Current stepsize = 0.0001\n",
      "Learning epoch took 0.000 sec.\n",
      "Weights:\n",
      "    weightId: 0\n",
      "        isFixed: True\n",
      "        weight:  1.0\n",
      "\n",
      "    weightId: 1\n",
      "        isFixed: False\n",
      "        weight:  -0.00029992400721947407\n",
      "\n",
      "    weightId: 2\n",
      "        isFixed: True\n",
      "        weight:  1.0\n",
      "\n",
      "    weightId: 3\n",
      "        isFixed: False\n",
      "        weight:  -0.000999942003389841\n",
      "\n",
      "    weightId: 4\n",
      "        isFixed: True\n",
      "        weight:  1.0\n",
      "\n",
      "    weightId: 5\n",
      "        isFixed: False\n",
      "        weight:  -0.0008998720125490987\n",
      "\n",
      "    weightId: 6\n",
      "        isFixed: False\n",
      "        weight:  -0.0002999800007099809\n",
      "\n",
      "    weightId: 7\n",
      "        isFixed: False\n",
      "        weight:  -0.00029997300138994635\n",
      "\n",
      "    weightId: 8\n",
      "        isFixed: False\n",
      "        weight:  -0.0004999720012899526\n",
      "\n",
      "FACTOR 0: EPOCH #4\n",
      "Current stepsize = 0.0001\n",
      "Learning epoch took 0.000 sec.\n",
      "Weights:\n",
      "    weightId: 0\n",
      "        isFixed: True\n",
      "        weight:  1.0\n",
      "\n",
      "    weightId: 1\n",
      "        isFixed: False\n",
      "        weight:  -0.0005998860149085713\n",
      "\n",
      "    weightId: 2\n",
      "        isFixed: True\n",
      "        weight:  1.0\n",
      "\n",
      "    weightId: 3\n",
      "        isFixed: False\n",
      "        weight:  -0.0007998600116792394\n",
      "\n",
      "    weightId: 4\n",
      "        isFixed: True\n",
      "        weight:  1.0\n",
      "\n",
      "    weightId: 5\n",
      "        isFixed: False\n",
      "        weight:  -0.0011997840264975136\n",
      "\n",
      "    weightId: 6\n",
      "        isFixed: False\n",
      "        weight:  -0.00039996500184992593\n",
      "\n",
      "    weightId: 7\n",
      "        isFixed: False\n",
      "        weight:  -0.0004999570028398566\n",
      "\n",
      "    weightId: 8\n",
      "        isFixed: False\n",
      "        weight:  -0.0007999470029998616\n",
      "\n",
      "FACTOR 0: EPOCH #5\n",
      "Current stepsize = 0.0001\n",
      "Learning epoch took 0.000 sec.\n",
      "Weights:\n",
      "    weightId: 0\n",
      "        isFixed: True\n",
      "        weight:  1.0\n",
      "\n",
      "    weightId: 1\n",
      "        isFixed: False\n",
      "        weight:  -0.0005998390261768955\n",
      "\n",
      "    weightId: 2\n",
      "        isFixed: True\n",
      "        weight:  1.0\n",
      "\n",
      "    weightId: 3\n",
      "        isFixed: False\n",
      "        weight:  -0.001099790025847704\n",
      "\n",
      "    weightId: 4\n",
      "        isFixed: True\n",
      "        weight:  1.0\n",
      "\n",
      "    weightId: 5\n",
      "        isFixed: False\n",
      "        weight:  -0.0017996690485244642\n",
      "\n",
      "    weightId: 6\n",
      "        isFixed: False\n",
      "        weight:  -0.0004999470036798085\n",
      "\n",
      "    weightId: 7\n",
      "        isFixed: False\n",
      "        weight:  -0.0005999350050996892\n",
      "\n",
      "    weightId: 8\n",
      "        isFixed: False\n",
      "        weight:  -0.0008999110059996712\n",
      "\n",
      "FACTOR 0: EPOCH #6\n",
      "Current stepsize = 0.0001\n",
      "Learning epoch took 0.000 sec.\n",
      "Weights:\n",
      "    weightId: 0\n",
      "        isFixed: True\n",
      "        weight:  1.0\n",
      "\n",
      "    weightId: 1\n",
      "        isFixed: False\n",
      "        weight:  -0.0006997900413241455\n",
      "\n",
      "    weightId: 2\n",
      "        isFixed: True\n",
      "        weight:  1.0\n",
      "\n",
      "    weightId: 3\n",
      "        isFixed: False\n",
      "        weight:  -0.0015996840471747325\n",
      "\n",
      "    weightId: 4\n",
      "        isFixed: True\n",
      "        weight:  1.0\n",
      "\n",
      "    weightId: 5\n",
      "        isFixed: False\n",
      "        weight:  -0.0021995120819091616\n",
      "\n",
      "    weightId: 6\n",
      "        isFixed: False\n",
      "        weight:  -0.0006999240063395978\n",
      "\n",
      "    weightId: 7\n",
      "        isFixed: False\n",
      "        weight:  -0.0007999070083694071\n",
      "\n",
      "    weightId: 8\n",
      "        isFixed: False\n",
      "        weight:  -0.0011998700105493227\n",
      "\n",
      "FACTOR 0: EPOCH #7\n",
      "Current stepsize = 0.0001\n",
      "Learning epoch took 0.006 sec.\n",
      "Weights:\n",
      "    weightId: 0\n",
      "        isFixed: True\n",
      "        weight:  1.0\n",
      "\n",
      "    weightId: 1\n",
      "        isFixed: False\n",
      "        weight:  -0.0008997260608399949\n",
      "\n",
      "    weightId: 2\n",
      "        isFixed: True\n",
      "        weight:  1.0\n",
      "\n",
      "    weightId: 3\n",
      "        isFixed: False\n",
      "        weight:  -0.0022995340788796114\n",
      "\n",
      "    weightId: 4\n",
      "        isFixed: True\n",
      "        weight:  1.0\n",
      "\n",
      "    weightId: 5\n",
      "        isFixed: False\n",
      "        weight:  -0.0022993201294405716\n",
      "\n",
      "    weightId: 6\n",
      "        isFixed: False\n",
      "        weight:  -0.0008998930101192537\n",
      "\n",
      "    weightId: 7\n",
      "        isFixed: False\n",
      "        weight:  -0.0008998730129289625\n",
      "\n",
      "    weightId: 8\n",
      "        isFixed: False\n",
      "        weight:  -0.0011998230169387467\n",
      "\n",
      "FACTOR 0: EPOCH #8\n",
      "Current stepsize = 0.0001\n",
      "Learning epoch took 0.008 sec.\n",
      "Weights:\n",
      "    weightId: 0\n",
      "        isFixed: True\n",
      "        weight:  1.0\n",
      "\n",
      "    weightId: 1\n",
      "        isFixed: False\n",
      "        weight:  -0.001399645086164031\n",
      "\n",
      "    weightId: 2\n",
      "        isFixed: True\n",
      "        weight:  1.0\n",
      "\n",
      "    weightId: 3\n",
      "        isFixed: False\n",
      "        weight:  -0.0022993521243913468\n",
      "\n",
      "    weightId: 4\n",
      "        isFixed: True\n",
      "        weight:  1.0\n",
      "\n",
      "    weightId: 5\n",
      "        isFixed: False\n",
      "        weight:  -0.002199146191827498\n",
      "\n",
      "    weightId: 6\n",
      "        isFixed: False\n",
      "        weight:  -0.0009998550153287233\n",
      "\n",
      "    weightId: 7\n",
      "        isFixed: False\n",
      "        weight:  -0.0009998350189482994\n",
      "\n",
      "    weightId: 8\n",
      "        isFixed: False\n",
      "        weight:  -0.0014997700253078664\n",
      "\n",
      "FACTOR 0: EPOCH #9\n",
      "Current stepsize = 0.0001\n",
      "Learning epoch took 0.004 sec.\n",
      "Weights:\n",
      "    weightId: 0\n",
      "        isFixed: True\n",
      "        weight:  1.0\n",
      "\n",
      "    weightId: 1\n",
      "        isFixed: False\n",
      "        weight:  -0.0015995241198456854\n",
      "\n",
      "    weightId: 2\n",
      "        isFixed: True\n",
      "        weight:  1.0\n",
      "\n",
      "    weightId: 3\n",
      "        isFixed: False\n",
      "        weight:  -0.0028991531849287757\n",
      "\n",
      "    weightId: 4\n",
      "        isFixed: True\n",
      "        weight:  1.0\n",
      "\n",
      "    weightId: 5\n",
      "        isFixed: False\n",
      "        weight:  -0.0022989702680188146\n",
      "\n",
      "    weightId: 6\n",
      "        isFixed: False\n",
      "        weight:  -0.0010998120221679445\n",
      "\n",
      "    weightId: 7\n",
      "        isFixed: False\n",
      "        weight:  -0.001099794026557356\n",
      "\n",
      "    weightId: 8\n",
      "        isFixed: False\n",
      "        weight:  -0.001699707036066593\n",
      "\n",
      "FACTOR 0: DONE WITH LEARNING\n"
     ]
    }
   ],
   "source": [
    "from snorkel.learning import GenerativeModel\n",
    "\n",
    "gen_model = GenerativeModel(lf_propensity=True)\n",
    "\n",
    "# Note: We pass cardinality explicitly here to be safe\n",
    "# Can usually be inferred, except we have no labels with value=3\n",
    "gen_model.train(L_train, cardinality=3,epochs=10,verbose=False)"
   ]
  },
  {
   "cell_type": "code",
   "execution_count": 105,
   "metadata": {},
   "outputs": [
    {
     "name": "stdout",
     "output_type": "stream",
     "text": [
      "(4, 3)\n",
      "[[0.78624771 0.10687615 0.10687615]\n",
      " [0.10699376 0.78601248 0.10699376]\n",
      " [0.46848637 0.46783138 0.06368224]\n",
      " [0.10690966 0.10690966 0.78618067]]\n"
     ]
    }
   ],
   "source": [
    "train_marginals = gen_model.marginals(L_train)\n",
    "\n",
    "\n",
    "assert np.all(train_marginals.sum(axis=1) - np.ones(train_marginals.shape[0]) < 1e-10)\n",
    "\n",
    "print(train_marginals.shape)\n",
    "print(train_marginals)\n",
    "\n",
    "\n",
    "\n"
   ]
  },
  {
   "cell_type": "markdown",
   "metadata": {},
   "source": [
    "Next, we can save the training marginals:"
   ]
  },
  {
   "cell_type": "code",
   "execution_count": 42,
   "metadata": {},
   "outputs": [
    {
     "name": "stdout",
     "output_type": "stream",
     "text": [
      "Saved 4 marginals\n"
     ]
    }
   ],
   "source": [
    "from snorkel.annotations import save_marginals, load_marginals\n",
    "\n",
    "save_marginals(session, L_train, train_marginals)"
   ]
  },
  {
   "cell_type": "markdown",
   "metadata": {},
   "source": [
    "And then reload (e.g. in another notebook):"
   ]
  },
  {
   "cell_type": "code",
   "execution_count": 43,
   "metadata": {},
   "outputs": [
    {
     "data": {
      "text/plain": [
       "array([[0.7841923 , 0.10790385, 0.10790385],\n",
       "       [0.10771717, 0.78456567, 0.10771717],\n",
       "       [0.46733148, 0.46836431, 0.06430421],\n",
       "       [0.10776812, 0.10776812, 0.78446377]])"
      ]
     },
     "execution_count": 43,
     "metadata": {},
     "output_type": "execute_result"
    }
   ],
   "source": [
    "load_marginals(session, L_train)"
   ]
  },
  {
   "cell_type": "markdown",
   "metadata": {},
   "source": [
    "## Step 5: Training the End Model"
   ]
  },
  {
   "cell_type": "markdown",
   "metadata": {},
   "source": [
    "Now we train an LSTM--note this is just to demonstrate the mechanics... since we only have three examples, don't expect anything spectacular!"
   ]
  },
  {
   "cell_type": "code",
   "execution_count": 44,
   "metadata": {},
   "outputs": [
    {
     "name": "stderr",
     "output_type": "stream",
     "text": [
      "/anaconda3/lib/python3.6/site-packages/tensorflow/python/ops/gradients_impl.py:100: UserWarning: Converting sparse IndexedSlices to a dense Tensor of unknown shape. This may consume a large amount of memory.\n",
      "  \"Converting sparse IndexedSlices to a dense Tensor of unknown shape. \"\n"
     ]
    },
    {
     "name": "stdout",
     "output_type": "stream",
     "text": [
      "[reRNN] Training model\n",
      "[reRNN] n_train=4  #epochs=10  batch size=4\n",
      "[reRNN] Epoch 0 (0.38s)\tAverage loss=1.096820\n",
      "[reRNN] Epoch 1 (0.39s)\tAverage loss=1.065301\n",
      "[reRNN] Epoch 2 (0.40s)\tAverage loss=1.030042\n",
      "[reRNN] Epoch 3 (0.41s)\tAverage loss=0.970748\n",
      "[reRNN] Epoch 4 (0.42s)\tAverage loss=0.886815\n",
      "[reRNN] Epoch 5 (0.43s)\tAverage loss=0.812141\n",
      "[reRNN] Epoch 6 (0.44s)\tAverage loss=0.768691\n",
      "[reRNN] Epoch 7 (0.45s)\tAverage loss=0.740026\n",
      "[reRNN] Epoch 8 (0.47s)\tAverage loss=0.771290\n",
      "[reRNN] Epoch 9 (0.48s)\tAverage loss=0.764788\n",
      "[reRNN] Training done (0.48s)\n"
     ]
    }
   ],
   "source": [
    "from snorkel.learning.disc_models.rnn import reRNN\n",
    "\n",
    "train_kwargs = {\n",
    "    'lr':         0.01,\n",
    "    'dim':        50,\n",
    "    'n_epochs':   10,\n",
    "    'dropout':    0.25,\n",
    "    'print_freq': 1,\n",
    "    'max_sentence_length': 100\n",
    "}\n",
    "\n",
    "lstm = reRNN(seed=1701, n_threads=None, cardinality=Relationship.cardinality)\n",
    "lstm.train(train_cands, train_marginals, **train_kwargs)"
   ]
  },
  {
   "cell_type": "code",
   "execution_count": 47,
   "metadata": {},
   "outputs": [
    {
     "name": "stdout",
     "output_type": "stream",
     "text": [
      "Accuracy: 0.75\n",
      "{Relationship(Span(\"b'Susan'\", sentence=3, chars=[0,4], words=[0,0]), Span(\"b'John'\", sentence=3, chars=[19,22], words=[3,3])), Relationship(Span(\"b'John'\", sentence=2, chars=[0,3], words=[0,0]), Span(\"b'Susan'\", sentence=2, chars=[19,23], words=[4,4])), Relationship(Span(\"b'John'\", sentence=5, chars=[0,3], words=[0,0]), Span(\"b'Mary'\", sentence=5, chars=[20,23], words=[5,5]))} {Relationship(Span(\"b'John'\", sentence=4, chars=[0,3], words=[0,0]), Span(\"b'Susan'\", sentence=4, chars=[38,42], words=[7,7]))}\n"
     ]
    }
   ],
   "source": [
    "train_labels = [1, 2, 2,3]\n",
    "correct, incorrect = lstm.error_analysis(session, train_cands, train_labels)\n",
    "print(correct,incorrect)\n",
    "# print(gen_model.error_analysis(session, L_train, train_labels))"
   ]
  },
  {
   "cell_type": "code",
   "execution_count": 48,
   "metadata": {},
   "outputs": [
    {
     "name": "stdout",
     "output_type": "stream",
     "text": [
      "Accuracy: 0.75\n"
     ]
    }
   ],
   "source": [
    "print(\"Accuracy:\", lstm.score(train_cands, train_labels))"
   ]
  },
  {
   "cell_type": "code",
   "execution_count": 49,
   "metadata": {},
   "outputs": [
    {
     "data": {
      "text/plain": [
       "array([[0.91320086, 0.03214792, 0.05465119],\n",
       "       [0.05433137, 0.88214684, 0.0635217 ],\n",
       "       [0.882513  , 0.09651681, 0.02097021],\n",
       "       [0.07051656, 0.06210546, 0.867378  ]], dtype=float32)"
      ]
     },
     "execution_count": 49,
     "metadata": {},
     "output_type": "execute_result"
    }
   ],
   "source": [
    "test_marginals = lstm.marginals(train_cands)\n",
    "test_marginals"
   ]
  },
  {
   "cell_type": "code",
   "execution_count": null,
   "metadata": {},
   "outputs": [],
   "source": []
  }
 ],
 "metadata": {
  "kernelspec": {
   "display_name": "Python 3",
   "language": "python",
   "name": "python3"
  },
  "language_info": {
   "codemirror_mode": {
    "name": "ipython",
    "version": 3
   },
   "file_extension": ".py",
   "mimetype": "text/x-python",
   "name": "python",
   "nbconvert_exporter": "python",
   "pygments_lexer": "ipython3",
   "version": "3.6.5"
  }
 },
 "nbformat": 4,
 "nbformat_minor": 2
}
